{
 "cells": [
  {
   "cell_type": "code",
   "execution_count": 61,
   "metadata": {},
   "outputs": [],
   "source": [
    "import numpy as np\n",
    "import pandas as pd"
   ]
  },
  {
   "cell_type": "code",
   "execution_count": 53,
   "metadata": {},
   "outputs": [],
   "source": [
    "path = \"../data/2020_total.txt\"\n",
    "\n",
    "def process_package_dump(fname,date):\n",
    "    package_counts = [] \n",
    "    distro_counts = []\n",
    "    arch_counts = []\n",
    "    arch_x_os_counts = []\n",
    "    stats = []\n",
    "    with open(fname,'r') as fp:\n",
    "        # remove the first line\n",
    "        f = fp.readline()\n",
    "        # remove all the empty \n",
    "        f = fp.readline()\n",
    "        while \"not a ros package name\" in f:\n",
    "            f = fp.readline()\n",
    "\n",
    "        while \"Breakdown\" not in f:\n",
    "            temp = f.split(\":\")\n",
    "            parts = temp[0].split(\"-\")\n",
    "            distro = parts[1]\n",
    "            package = \"-\".join(parts[2:])\n",
    "            data = {\n",
    "                \"package\":package,\n",
    "                \"distro\":distro,\n",
    "                \"name\":temp[0],\n",
    "                \"count\":int(temp[1]),\n",
    "                \"date\":date\n",
    "            }\n",
    "\n",
    "            package_counts.append(data)\n",
    "            f = fp.readline()\n",
    "        # Done with the modules \n",
    "\n",
    "        f = fp.readline()\n",
    "        while \"Breakdown\" not in f:\n",
    "            temp = f.split(\":\")\n",
    "            data = {\n",
    "                \"name\":temp[0],\n",
    "                \"prct\":float(temp[1].replace(\"%\",\"\")),\n",
    "                \"date\":date\n",
    "            }\n",
    "            distro_counts.append(data)\n",
    "            f = fp.readline()\n",
    "\n",
    "        f = fp.readline()\n",
    "        while \"Results\" not in f:\n",
    "            temp = f.split(\":\")\n",
    "            data = {\n",
    "                \"name\":temp[0],\n",
    "                \"prct\":float(temp[1].replace(\"%\",\"\")),\n",
    "                \"date\":date\n",
    "            }\n",
    "            arch_counts.append(data)\n",
    "            f = fp.readline()\n",
    "\n",
    "        f = fp.readline()\n",
    "        while \"Unique\" not in f:\n",
    "            temp = f.split(\":\")\n",
    "            data = {\n",
    "                \"name\":temp[0],\n",
    "                \"prct\":float(temp[1].replace(\"%\",\"\")),\n",
    "                \"date\":date\n",
    "            }\n",
    "            arch_x_os_counts.append(data)\n",
    "            f = fp.readline()\n",
    "\n",
    "        f = fp.readline()    \n",
    "        while len(f) > 0:\n",
    "            temp = f.split(\":\")\n",
    "            data = {\n",
    "                \"name\":temp[0],\n",
    "                \"prct\":temp[1],\n",
    "                \"date\":date\n",
    "            }\n",
    "            stats.append((temp[0],temp[1]))\n",
    "            f = fp.readline()\n",
    "    retval = {}\n",
    "    retval[\"package\"] = package_counts\n",
    "    retval[\"distro\"] = distro_counts\n",
    "    retval[\"arch\"] = arch_counts\n",
    "    retval[\"arch_x_os\"] = arch_x_os_counts\n",
    "    retval[\"stats\"] = stats\n",
    "    return retval\n"
   ]
  },
  {
   "cell_type": "code",
   "execution_count": 54,
   "metadata": {},
   "outputs": [],
   "source": [
    "fname = \"../data/2020_total.txt\"\n",
    "stats_2020 = process_package_dump(fname,\"2020\")\n",
    "fname = \"../data/2019_total.txt\"\n",
    "stats_2019 = process_package_dump(fname,\"2019\")"
   ]
  },
  {
   "cell_type": "code",
   "execution_count": 91,
   "metadata": {},
   "outputs": [],
   "source": [
    "def dumb_find(lst, k, v):\n",
    "    for i, dic in enumerate(lst):\n",
    "        if dic[k] == v:\n",
    "            return lst[i]\n",
    "    return None\n",
    "\n",
    "def join_stats(stats_list,idx=\"prct\"):\n",
    "    joined = []\n",
    "    # LIST SHOULD BE THE NEWEST FIRST!!!\n",
    "    first = stats_list[0]\n",
    "    for entry in first:\n",
    "        new_entry = {}\n",
    "        new_entry[\"name\"] = entry[\"name\"]\n",
    "        new_entry.update(entry)\n",
    "        del new_entry[idx]\n",
    "        del new_entry[\"date\"]\n",
    "        \n",
    "        new_entry[entry[\"date\"]] = entry[idx]\n",
    "        for other in stats_list[1:]:\n",
    "            temp = dumb_find(other,\"name\",entry[\"name\"])\n",
    "            if temp:\n",
    "                new_entry[temp[\"date\"]] = temp[idx]\n",
    "        joined.append(new_entry)\n",
    "    return joined"
   ]
  },
  {
   "cell_type": "code",
   "execution_count": 92,
   "metadata": {},
   "outputs": [
    {
     "data": {
      "text/html": [
       "<div>\n",
       "<style scoped>\n",
       "    .dataframe tbody tr th:only-of-type {\n",
       "        vertical-align: middle;\n",
       "    }\n",
       "\n",
       "    .dataframe tbody tr th {\n",
       "        vertical-align: top;\n",
       "    }\n",
       "\n",
       "    .dataframe thead th {\n",
       "        text-align: right;\n",
       "    }\n",
       "</style>\n",
       "<table border=\"1\" class=\"dataframe\">\n",
       "  <thead>\n",
       "    <tr style=\"text-align: right;\">\n",
       "      <th></th>\n",
       "      <th>name</th>\n",
       "      <th>2020</th>\n",
       "      <th>2019</th>\n",
       "    </tr>\n",
       "  </thead>\n",
       "  <tbody>\n",
       "    <tr>\n",
       "      <th>0</th>\n",
       "      <td>boxturtle</td>\n",
       "      <td>0.0</td>\n",
       "      <td>0.00</td>\n",
       "    </tr>\n",
       "    <tr>\n",
       "      <th>1</th>\n",
       "      <td>cturtle</td>\n",
       "      <td>0.0</td>\n",
       "      <td>0.00</td>\n",
       "    </tr>\n",
       "    <tr>\n",
       "      <th>2</th>\n",
       "      <td>diamondback</td>\n",
       "      <td>0.0</td>\n",
       "      <td>0.00</td>\n",
       "    </tr>\n",
       "    <tr>\n",
       "      <th>3</th>\n",
       "      <td>electric</td>\n",
       "      <td>0.0</td>\n",
       "      <td>0.00</td>\n",
       "    </tr>\n",
       "    <tr>\n",
       "      <th>4</th>\n",
       "      <td>fuerte</td>\n",
       "      <td>0.0</td>\n",
       "      <td>0.01</td>\n",
       "    </tr>\n",
       "  </tbody>\n",
       "</table>\n",
       "</div>"
      ],
      "text/plain": [
       "          name  2020  2019\n",
       "0    boxturtle   0.0  0.00\n",
       "1      cturtle   0.0  0.00\n",
       "2  diamondback   0.0  0.00\n",
       "3     electric   0.0  0.00\n",
       "4       fuerte   0.0  0.01"
      ]
     },
     "execution_count": 92,
     "metadata": {},
     "output_type": "execute_result"
    }
   ],
   "source": [
    "joined_distro = join_stats([stats_2020[\"distro\"],stats_2019[\"distro\"]])\n",
    "distro_df = pd.DataFrame(data=joined_distro)\n",
    "distro_df.to_csv(\"distro.csv\")\n",
    "distro_df.head()"
   ]
  },
  {
   "cell_type": "code",
   "execution_count": 93,
   "metadata": {},
   "outputs": [
    {
     "data": {
      "text/html": [
       "<div>\n",
       "<style scoped>\n",
       "    .dataframe tbody tr th:only-of-type {\n",
       "        vertical-align: middle;\n",
       "    }\n",
       "\n",
       "    .dataframe tbody tr th {\n",
       "        vertical-align: top;\n",
       "    }\n",
       "\n",
       "    .dataframe thead th {\n",
       "        text-align: right;\n",
       "    }\n",
       "</style>\n",
       "<table border=\"1\" class=\"dataframe\">\n",
       "  <thead>\n",
       "    <tr style=\"text-align: right;\">\n",
       "      <th></th>\n",
       "      <th>name</th>\n",
       "      <th>2020</th>\n",
       "      <th>2019</th>\n",
       "    </tr>\n",
       "  </thead>\n",
       "  <tbody>\n",
       "    <tr>\n",
       "      <th>0</th>\n",
       "      <td>i386</td>\n",
       "      <td>0.45</td>\n",
       "      <td>1.25</td>\n",
       "    </tr>\n",
       "    <tr>\n",
       "      <th>1</th>\n",
       "      <td>amd64</td>\n",
       "      <td>89.17</td>\n",
       "      <td>86.91</td>\n",
       "    </tr>\n",
       "    <tr>\n",
       "      <th>2</th>\n",
       "      <td>armhf</td>\n",
       "      <td>1.00</td>\n",
       "      <td>2.32</td>\n",
       "    </tr>\n",
       "    <tr>\n",
       "      <th>3</th>\n",
       "      <td>arm64</td>\n",
       "      <td>3.70</td>\n",
       "      <td>3.62</td>\n",
       "    </tr>\n",
       "    <tr>\n",
       "      <th>4</th>\n",
       "      <td>source</td>\n",
       "      <td>0.00</td>\n",
       "      <td>0.00</td>\n",
       "    </tr>\n",
       "  </tbody>\n",
       "</table>\n",
       "</div>"
      ],
      "text/plain": [
       "     name   2020   2019\n",
       "0    i386   0.45   1.25\n",
       "1   amd64  89.17  86.91\n",
       "2   armhf   1.00   2.32\n",
       "3   arm64   3.70   3.62\n",
       "4  source   0.00   0.00"
      ]
     },
     "execution_count": 93,
     "metadata": {},
     "output_type": "execute_result"
    }
   ],
   "source": [
    "joined_arch = join_stats([stats_2020[\"arch\"],stats_2019[\"arch\"]])\n",
    "arch_df = pd.DataFrame(data=joined_arch)\n",
    "arch_df.to_csv(\"arch.csv\")\n",
    "arch_df.head()"
   ]
  },
  {
   "cell_type": "code",
   "execution_count": 94,
   "metadata": {},
   "outputs": [
    {
     "data": {
      "text/html": [
       "<div>\n",
       "<style scoped>\n",
       "    .dataframe tbody tr th:only-of-type {\n",
       "        vertical-align: middle;\n",
       "    }\n",
       "\n",
       "    .dataframe tbody tr th {\n",
       "        vertical-align: top;\n",
       "    }\n",
       "\n",
       "    .dataframe thead th {\n",
       "        text-align: right;\n",
       "    }\n",
       "</style>\n",
       "<table border=\"1\" class=\"dataframe\">\n",
       "  <thead>\n",
       "    <tr style=\"text-align: right;\">\n",
       "      <th></th>\n",
       "      <th>name</th>\n",
       "      <th>2020</th>\n",
       "      <th>2019</th>\n",
       "    </tr>\n",
       "  </thead>\n",
       "  <tbody>\n",
       "    <tr>\n",
       "      <th>0</th>\n",
       "      <td>bionic_amd64</td>\n",
       "      <td>50.77</td>\n",
       "      <td>30.19</td>\n",
       "    </tr>\n",
       "    <tr>\n",
       "      <th>1</th>\n",
       "      <td>bionic_arm64</td>\n",
       "      <td>3.01</td>\n",
       "      <td>2.03</td>\n",
       "    </tr>\n",
       "    <tr>\n",
       "      <th>2</th>\n",
       "      <td>bionic_armhf</td>\n",
       "      <td>0.47</td>\n",
       "      <td>0.60</td>\n",
       "    </tr>\n",
       "    <tr>\n",
       "      <th>3</th>\n",
       "      <td>buster_amd64</td>\n",
       "      <td>0.08</td>\n",
       "      <td>NaN</td>\n",
       "    </tr>\n",
       "    <tr>\n",
       "      <th>4</th>\n",
       "      <td>buster_arm64</td>\n",
       "      <td>0.01</td>\n",
       "      <td>NaN</td>\n",
       "    </tr>\n",
       "  </tbody>\n",
       "</table>\n",
       "</div>"
      ],
      "text/plain": [
       "           name   2020   2019\n",
       "0  bionic_amd64  50.77  30.19\n",
       "1  bionic_arm64   3.01   2.03\n",
       "2  bionic_armhf   0.47   0.60\n",
       "3  buster_amd64   0.08    NaN\n",
       "4  buster_arm64   0.01    NaN"
      ]
     },
     "execution_count": 94,
     "metadata": {},
     "output_type": "execute_result"
    }
   ],
   "source": [
    "joined_arch_x_os = join_stats([stats_2020[\"arch_x_os\"],stats_2019[\"arch_x_os\"]])\n",
    "arch_os_df = pd.DataFrame(data=joined_arch_x_os)\n",
    "arch_os_df.to_csv(\"arch_os.csv\")\n",
    "arch_os_df.head()"
   ]
  },
  {
   "cell_type": "code",
   "execution_count": 95,
   "metadata": {},
   "outputs": [],
   "source": [
    "joined_package = join_stats([stats_2020[\"package\"],stats_2019[\"package\"]],idx=\"count\")\n",
    "package_df = pd.DataFrame(data=joined_package)\n"
   ]
  },
  {
   "cell_type": "code",
   "execution_count": 96,
   "metadata": {},
   "outputs": [
    {
     "data": {
      "text/html": [
       "<div>\n",
       "<style scoped>\n",
       "    .dataframe tbody tr th:only-of-type {\n",
       "        vertical-align: middle;\n",
       "    }\n",
       "\n",
       "    .dataframe tbody tr th {\n",
       "        vertical-align: top;\n",
       "    }\n",
       "\n",
       "    .dataframe thead th {\n",
       "        text-align: right;\n",
       "    }\n",
       "</style>\n",
       "<table border=\"1\" class=\"dataframe\">\n",
       "  <thead>\n",
       "    <tr style=\"text-align: right;\">\n",
       "      <th></th>\n",
       "      <th>name</th>\n",
       "      <th>package</th>\n",
       "      <th>distro</th>\n",
       "      <th>2020</th>\n",
       "      <th>2019</th>\n",
       "      <th>YoY</th>\n",
       "      <th>YoY_Prct</th>\n",
       "    </tr>\n",
       "  </thead>\n",
       "  <tbody>\n",
       "    <tr>\n",
       "      <th>0</th>\n",
       "      <td>python-catkin-pkg-modules</td>\n",
       "      <td>pkg-modules</td>\n",
       "      <td>catkin</td>\n",
       "      <td>2131184</td>\n",
       "      <td>1458422.0</td>\n",
       "      <td>672762.0</td>\n",
       "      <td>46.129447</td>\n",
       "    </tr>\n",
       "    <tr>\n",
       "      <th>1</th>\n",
       "      <td>python-catkin-pkg</td>\n",
       "      <td>pkg</td>\n",
       "      <td>catkin</td>\n",
       "      <td>2126073</td>\n",
       "      <td>1456559.0</td>\n",
       "      <td>669514.0</td>\n",
       "      <td>45.965457</td>\n",
       "    </tr>\n",
       "    <tr>\n",
       "      <th>2</th>\n",
       "      <td>python-rosdistro-modules</td>\n",
       "      <td>modules</td>\n",
       "      <td>rosdistro</td>\n",
       "      <td>1850443</td>\n",
       "      <td>1372700.0</td>\n",
       "      <td>477743.0</td>\n",
       "      <td>34.803162</td>\n",
       "    </tr>\n",
       "    <tr>\n",
       "      <th>3</th>\n",
       "      <td>python-rosdistro</td>\n",
       "      <td></td>\n",
       "      <td>rosdistro</td>\n",
       "      <td>1848320</td>\n",
       "      <td>1371723.0</td>\n",
       "      <td>476597.0</td>\n",
       "      <td>34.744405</td>\n",
       "    </tr>\n",
       "    <tr>\n",
       "      <th>4</th>\n",
       "      <td>python-rospkg-modules</td>\n",
       "      <td>modules</td>\n",
       "      <td>rospkg</td>\n",
       "      <td>1772498</td>\n",
       "      <td>1179426.0</td>\n",
       "      <td>593072.0</td>\n",
       "      <td>50.284800</td>\n",
       "    </tr>\n",
       "  </tbody>\n",
       "</table>\n",
       "</div>"
      ],
      "text/plain": [
       "                        name      package     distro     2020       2019  \\\n",
       "0  python-catkin-pkg-modules  pkg-modules     catkin  2131184  1458422.0   \n",
       "1          python-catkin-pkg          pkg     catkin  2126073  1456559.0   \n",
       "2   python-rosdistro-modules      modules  rosdistro  1850443  1372700.0   \n",
       "3           python-rosdistro               rosdistro  1848320  1371723.0   \n",
       "4      python-rospkg-modules      modules     rospkg  1772498  1179426.0   \n",
       "\n",
       "        YoY   YoY_Prct  \n",
       "0  672762.0  46.129447  \n",
       "1  669514.0  45.965457  \n",
       "2  477743.0  34.803162  \n",
       "3  476597.0  34.744405  \n",
       "4  593072.0  50.284800  "
      ]
     },
     "execution_count": 96,
     "metadata": {},
     "output_type": "execute_result"
    }
   ],
   "source": [
    "package_df[\"YoY\"] = package_df[\"2020\"]-package_df[\"2019\"]\n",
    "package_df[\"YoY_Prct\"] = 100.00*package_df[\"YoY\"]/package_df[\"2019\"]\n",
    "\n",
    "package_df.to_csv(\"package.csv\")\n",
    "package_df.head()\n"
   ]
  },
  {
   "cell_type": "code",
   "execution_count": 97,
   "metadata": {},
   "outputs": [
    {
     "data": {
      "text/plain": [
       "name        ros-kinetic-cob-pick-place-action\n",
       "package                 cob-pick-place-action\n",
       "distro                                kinetic\n",
       "2020                                       18\n",
       "2019                                     3261\n",
       "YoY                                     -3243\n",
       "YoY_Prct                              -99.448\n",
       "Name: 16909, dtype: object"
      ]
     },
     "execution_count": 97,
     "metadata": {},
     "output_type": "execute_result"
    }
   ],
   "source": [
    "package_df.iloc[package_df[\"YoY_Prct\"].argmin()]"
   ]
  },
  {
   "cell_type": "code",
   "execution_count": 101,
   "metadata": {},
   "outputs": [],
   "source": [
    "kinetic = package_df[package_df[\"distro\"] == \"kinetic\"]"
   ]
  },
  {
   "cell_type": "code",
   "execution_count": 102,
   "metadata": {},
   "outputs": [
    {
     "data": {
      "text/plain": [
       "name        ros-kinetic-cob-pick-place-action\n",
       "package                 cob-pick-place-action\n",
       "distro                                kinetic\n",
       "2020                                       18\n",
       "2019                                     3261\n",
       "YoY                                     -3243\n",
       "YoY_Prct                              -99.448\n",
       "Name: 16909, dtype: object"
      ]
     },
     "execution_count": 102,
     "metadata": {},
     "output_type": "execute_result"
    }
   ],
   "source": [
    "kinetic.iloc[kinetic[\"YoY_Prct\"].argmin()]"
   ]
  },
  {
   "cell_type": "code",
   "execution_count": 103,
   "metadata": {},
   "outputs": [
    {
     "data": {
      "text/plain": [
       "name        ros-kinetic-cis-camera\n",
       "package                 cis-camera\n",
       "distro                     kinetic\n",
       "2020                          2154\n",
       "2019                           146\n",
       "YoY                           2008\n",
       "YoY_Prct                   1375.34\n",
       "Name: 5522, dtype: object"
      ]
     },
     "execution_count": 103,
     "metadata": {},
     "output_type": "execute_result"
    }
   ],
   "source": [
    "kinetic.iloc[kinetic[\"YoY_Prct\"].argmax()]"
   ]
  },
  {
   "cell_type": "code",
   "execution_count": 105,
   "metadata": {},
   "outputs": [
    {
     "data": {
      "text/plain": [
       "-22.761262082801387"
      ]
     },
     "execution_count": 105,
     "metadata": {},
     "output_type": "execute_result"
    }
   ],
   "source": [
    "kinetic[\"YoY_Prct\"].median()"
   ]
  },
  {
   "cell_type": "code",
   "execution_count": 112,
   "metadata": {},
   "outputs": [],
   "source": [
    "melodic = package_df[package_df[\"distro\"] == \"melodic\"]"
   ]
  },
  {
   "cell_type": "code",
   "execution_count": 114,
   "metadata": {},
   "outputs": [
    {
     "data": {
      "text/plain": [
       "name        ros-melodic-dbw-mkz-twist-controller-dbgsym\n",
       "package                 dbw-mkz-twist-controller-dbgsym\n",
       "distro                                          melodic\n",
       "2020                                                398\n",
       "2019                                               1409\n",
       "YoY                                               -1011\n",
       "YoY_Prct                                        -71.753\n",
       "Name: 9678, dtype: object"
      ]
     },
     "execution_count": 114,
     "metadata": {},
     "output_type": "execute_result"
    }
   ],
   "source": [
    "melodic.iloc[melodic[\"YoY_Prct\"].argmin()]"
   ]
  },
  {
   "cell_type": "code",
   "execution_count": null,
   "metadata": {},
   "outputs": [],
   "source": []
  }
 ],
 "metadata": {
  "kernelspec": {
   "display_name": "Python 3",
   "language": "python",
   "name": "python3"
  },
  "language_info": {
   "codemirror_mode": {
    "name": "ipython",
    "version": 3
   },
   "file_extension": ".py",
   "mimetype": "text/x-python",
   "name": "python",
   "nbconvert_exporter": "python",
   "pygments_lexer": "ipython3",
   "version": "3.6.9"
  }
 },
 "nbformat": 4,
 "nbformat_minor": 2
}
