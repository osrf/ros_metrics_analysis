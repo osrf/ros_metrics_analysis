{
 "cells": [
  {
   "cell_type": "code",
   "execution_count": 1,
   "metadata": {},
   "outputs": [],
   "source": [
    "import numpy as np\n",
    "import pandas as pd\n",
    "import nbformat\n",
    "import plotly.express as px\n",
    "from plotly import tools\n",
    "import plotly.offline as py\n",
    "import plotly.graph_objs as go\n"
   ]
  },
  {
   "cell_type": "code",
   "execution_count": null,
   "metadata": {},
   "outputs": [],
   "source": [
    "# Download files\n",
    "# run analyze_awstats\n",
    "# Use this to parse files"
   ]
  },
  {
   "cell_type": "code",
   "execution_count": 9,
   "metadata": {},
   "outputs": [],
   "source": [
    "ros2 = [\"ardent\",\"bouncy\",\"crystal\",\"dashing\",\"eloquent\",\"foxy\",\"galactic\",\"humble\",\"iron\",\"jazzy\",\"rolling\"]\n",
    "ros1 = [\"boxturtle\",\"cturtle\",\"diamondback\",\"electric\",\"fuerte\",\"groovy\",\"hydro\",\"indigo\",\"jade\",\"kinetic\",\"lunar\",\"melodic\",\"noetic\"]\n",
    "# This are just values for the input files\n",
    "this_year = \"2024\"\n",
    "this_month = \"August\"\n",
    "last_year = \"2023\"\n",
    "last_month = \"August\""
   ]
  },
  {
   "cell_type": "code",
   "execution_count": 12,
   "metadata": {},
   "outputs": [],
   "source": [
    "def process_package_dump(fname,date):\n",
    "    package_counts = [] \n",
    "    distro_counts = []\n",
    "    arch_counts = []\n",
    "    arch_x_os_counts = []\n",
    "    stats = []\n",
    "    with open(fname,'r') as fp:\n",
    "        # remove the first line\n",
    "        f = fp.readline()\n",
    "\n",
    "        # remove all the empty \n",
    "        f = fp.readline()\n",
    "        while \"not a ros package name\" in f:\n",
    "            f = fp.readline()\n",
    "\n",
    "        while \"Breakdown\" not in f:\n",
    "            temp = f.split(\":\")\n",
    "            parts = temp[0].split(\"-\")\n",
    "            distro = parts[1]\n",
    "            package = \"-\".join(parts[2:])\n",
    "            data = {\n",
    "                \"package\":package,\n",
    "                \"distro\":distro,\n",
    "                \"name\":temp[0],\n",
    "                \"count\":int(temp[1]),\n",
    "                \"date\":date\n",
    "            }\n",
    "\n",
    "            package_counts.append(data)\n",
    "            f = fp.readline()\n",
    "        # Done with the modules \n",
    "\n",
    "        f = fp.readline()\n",
    "        while \"Breakdown\" not in f:\n",
    "            temp = f.split(\":\")\n",
    "            data = {\n",
    "                \"name\":temp[0],\n",
    "                \"prct\":float(temp[1].replace(\"%\",\"\")),\n",
    "                \"date\":date\n",
    "            }\n",
    "            distro_counts.append(data)\n",
    "            f = fp.readline()\n",
    "\n",
    "        f = fp.readline()\n",
    "        while \"Results\" not in f:\n",
    "            temp = f.split(\":\")\n",
    "            data = {\n",
    "                \"name\":temp[0],\n",
    "                \"prct\":float(temp[1].replace(\"%\",\"\")),\n",
    "                \"date\":date\n",
    "            }\n",
    "            arch_counts.append(data)\n",
    "            f = fp.readline()\n",
    "\n",
    "        f = fp.readline()\n",
    "        while \"Unique\" not in f:\n",
    "            temp = f.split(\":\")\n",
    "            data = {\n",
    "                \"name\":temp[0],\n",
    "                \"prct\":float(temp[1].replace(\"%\",\"\")),\n",
    "                \"date\":date\n",
    "            }\n",
    "            arch_x_os_counts.append(data)\n",
    "            f = fp.readline()\n",
    "\n",
    "        f = fp.readline()    \n",
    "        while len(f) > 0:\n",
    "            temp = f.split(\":\")\n",
    "            data = {\n",
    "                \"name\":temp[0],\n",
    "                \"prct\":temp[1],\n",
    "                \"date\":date\n",
    "            }\n",
    "            stats.append((temp[0],temp[1]))\n",
    "            f = fp.readline()\n",
    "    retval = {}\n",
    "    retval[\"package\"] = package_counts\n",
    "    retval[\"distro\"] = distro_counts\n",
    "    retval[\"arch\"] = arch_counts\n",
    "    retval[\"arch_x_os\"] = arch_x_os_counts\n",
    "    retval[\"stats\"] = stats\n",
    "    return retval\n"
   ]
  },
  {
   "cell_type": "code",
   "execution_count": 13,
   "metadata": {},
   "outputs": [],
   "source": [
    "# Load and process the dumps from analyze_awstats.py as dictionaries\n",
    "fname = \"../scripts/August2023.txt\"\n",
    "stats_last = process_package_dump(fname,last_year)\n",
    "fname = \"../scripts/August2024.txt\"\n",
    "stats_this = process_package_dump(fname,this_year)"
   ]
  },
  {
   "cell_type": "code",
   "execution_count": 14,
   "metadata": {},
   "outputs": [
    {
     "name": "stdout",
     "output_type": "stream",
     "text": [
      "##############################\n",
      "Diff Packages\n",
      "2023: 26746\n",
      "2024: 23803\n",
      "Percent Change: -11.003514544230914%\n",
      "##############################\n",
      "Total Deb Downloads\n",
      "2023: 46381927\n",
      "2024: 44206048\n",
      "Percent Change: -4.691221647604249%\n"
     ]
    }
   ],
   "source": [
    "# print raw package counts and deb download data\n",
    "print(\"#\"*30)\n",
    "print(\"Diff Packages\")\n",
    "d_this = int(stats_this[\"stats\"][0][1])\n",
    "d_last = int(stats_last[\"stats\"][0][1])\n",
    "print(\"{0}: {1}\".format(last_year,d_last))\n",
    "print(\"{0}: {1}\".format(this_year,d_this))\n",
    "print(\"Percent Change: {0}%\".format(100.0*((d_this-d_last)/d_last)))\n",
    "print(\"#\"*30)\n",
    "print(\"Total Deb Downloads\")\n",
    "d_this = int(stats_this[\"stats\"][1][1])\n",
    "d_last = int(stats_last[\"stats\"][1][1])\n",
    "print(\"{0}: {1}\".format(last_year,d_last))\n",
    "print(\"{0}: {1}\".format(this_year,d_this))\n",
    "print(\"Percent Change: {0}%\".format(100.0*((d_this-d_last)/d_last)))"
   ]
  },
  {
   "cell_type": "code",
   "execution_count": 15,
   "metadata": {},
   "outputs": [
    {
     "name": "stdout",
     "output_type": "stream",
     "text": [
      "25968\n",
      "23037\n",
      "dict_keys(['package', 'distro', 'arch', 'arch_x_os', 'stats'])\n",
      "[{'name': 'artful_amd64', 'prct': 0.0, 'date': '2023'}, {'name': 'bionic_amd64', 'prct': 6.01, 'date': '2023'}, {'name': 'bionic_arm64', 'prct': 1.84, 'date': '2023'}, {'name': 'bionic_armhf', 'prct': 0.23, 'date': '2023'}, {'name': 'buster_amd64', 'prct': 0.15, 'date': '2023'}, {'name': 'buster_arm64', 'prct': 0.1, 'date': '2023'}, {'name': 'buster_armhf', 'prct': 0.01, 'date': '2023'}, {'name': 'buster_i386', 'prct': 0.01, 'date': '2023'}, {'name': 'disco_amd64', 'prct': 0.01, 'date': '2023'}, {'name': 'focal_amd64', 'prct': 41.01, 'date': '2023'}, {'name': 'focal_arm64', 'prct': 5.14, 'date': '2023'}, {'name': 'focal_armhf', 'prct': 0.23, 'date': '2023'}, {'name': 'jammy_amd64', 'prct': 34.29, 'date': '2023'}, {'name': 'jammy_arm64', 'prct': 3.02, 'date': '2023'}, {'name': 'jammy_armhf', 'prct': 0.0, 'date': '2023'}, {'name': 'precise_amd64', 'prct': 0.0, 'date': '2023'}, {'name': 'precise_i386', 'prct': 0.0, 'date': '2023'}, {'name': 'quantal_amd64', 'prct': 0.0, 'date': '2023'}, {'name': 'quantal_i386', 'prct': 0.0, 'date': '2023'}, {'name': 'raring_amd64', 'prct': 0.0, 'date': '2023'}, {'name': 'raring_i386', 'prct': 0.0, 'date': '2023'}, {'name': 'saucy_amd64', 'prct': 0.0, 'date': '2023'}, {'name': 'saucy_i386', 'prct': 0.0, 'date': '2023'}, {'name': 'stretch_amd64', 'prct': 0.22, 'date': '2023'}, {'name': 'stretch_arm64', 'prct': 0.17, 'date': '2023'}, {'name': 'stretch_armhf', 'prct': 0.0, 'date': '2023'}, {'name': 'trusty_amd64', 'prct': 0.31, 'date': '2023'}, {'name': 'trusty_armhf', 'prct': 0.09, 'date': '2023'}, {'name': 'trusty_i386', 'prct': 0.11, 'date': '2023'}, {'name': 'utopic_amd64', 'prct': 0.0, 'date': '2023'}, {'name': 'utopic_i386', 'prct': 0.0, 'date': '2023'}, {'name': 'xenial_amd64', 'prct': 0.93, 'date': '2023'}, {'name': 'xenial_arm64', 'prct': 0.14, 'date': '2023'}, {'name': 'xenial_armhf', 'prct': 0.15, 'date': '2023'}, {'name': 'xenial_i386', 'prct': 0.12, 'date': '2023'}]\n"
     ]
    },
    {
     "data": {
      "text/plain": [
       "{'package': [{'package': 'modules',\n",
       "   'distro': 'rosdep',\n",
       "   'name': 'python3-rosdep-modules',\n",
       "   'count': 163403,\n",
       "   'date': '2024'},\n",
       "  {'package': '',\n",
       "   'distro': 'rosdep',\n",
       "   'name': 'python3-rosdep',\n",
       "   'count': 152122,\n",
       "   'date': '2024'},\n",
       "  {'package': 'modules',\n",
       "   'distro': 'rospkg',\n",
       "   'name': 'python3-rospkg-modules',\n",
       "   'count': 116634,\n",
       "   'date': '2024'},\n",
       "  {'package': 'pkg-modules',\n",
       "   'distro': 'catkin',\n",
       "   'name': 'python3-catkin-pkg-modules',\n",
       "   'count': 116538,\n",
       "   'date': '2024'},\n",
       "  {'package': 'modules',\n",
       "   'distro': 'rosdistro',\n",
       "   'name': 'python3-rosdistro-modules',\n",
       "   'count': 116206,\n",
       "   'date': '2024'},\n",
       "  {'package': 'ros',\n",
       "   'distro': 'colcon',\n",
       "   'name': 'python3-colcon-ros',\n",
       "   'count': 87402,\n",
       "   'date': '2024'},\n",
       "  {'package': 'core',\n",
       "   'distro': 'colcon',\n",
       "   'name': 'python3-colcon-core',\n",
       "   'count': 86902,\n",
       "   'date': '2024'},\n",
       "  {'package': 'pkg',\n",
       "   'distro': 'catkin',\n",
       "   'name': 'python3-catkin-pkg',\n",
       "   'count': 84571,\n",
       "   'date': '2024'},\n",
       "  {'package': 'notification',\n",
       "   'distro': 'colcon',\n",
       "   'name': 'python3-colcon-notification',\n",
       "   'count': 79712,\n",
       "   'date': '2024'},\n",
       "  {'package': 'devtools',\n",
       "   'distro': 'colcon',\n",
       "   'name': 'python3-colcon-devtools',\n",
       "   'count': 79500,\n",
       "   'date': '2024'},\n",
       "  {'package': 'cd',\n",
       "   'distro': 'colcon',\n",
       "   'name': 'python3-colcon-cd',\n",
       "   'count': 79466,\n",
       "   'date': '2024'},\n",
       "  {'package': 'package-information',\n",
       "   'distro': 'colcon',\n",
       "   'name': 'python3-colcon-package-information',\n",
       "   'count': 79342,\n",
       "   'date': '2024'},\n",
       "  {'package': 'cmake',\n",
       "   'distro': 'colcon',\n",
       "   'name': 'python3-colcon-cmake',\n",
       "   'count': 76987,\n",
       "   'date': '2024'},\n",
       "  {'package': 'recursive-crawl',\n",
       "   'distro': 'colcon',\n",
       "   'name': 'python3-colcon-recursive-crawl',\n",
       "   'count': 76951,\n",
       "   'date': '2024'},\n",
       "  {'package': 'bash',\n",
       "   'distro': 'colcon',\n",
       "   'name': 'python3-colcon-bash',\n",
       "   'count': 76534,\n",
       "   'date': '2024'},\n",
       "  {'package': 'zsh',\n",
       "   'distro': 'colcon',\n",
       "   'name': 'python3-colcon-zsh',\n",
       "   'count': 76491,\n",
       "   'date': '2024'},\n",
       "  {'package': 'parallel-executor',\n",
       "   'distro': 'colcon',\n",
       "   'name': 'python3-colcon-parallel-executor',\n",
       "   'count': 76411,\n",
       "   'date': '2024'},\n",
       "  {'package': 'powershell',\n",
       "   'distro': 'colcon',\n",
       "   'name': 'python3-colcon-powershell',\n",
       "   'count': 76277,\n",
       "   'date': '2024'},\n",
       "  {'package': 'image-transport',\n",
       "   'distro': 'humble',\n",
       "   'name': 'ros-humble-image-transport',\n",
       "   'count': 75977,\n",
       "   'date': '2024'},\n",
       "  {'package': 'python-setup-py',\n",
       "   'distro': 'colcon',\n",
       "   'name': 'python3-colcon-python-setup-py',\n",
       "   'count': 75084,\n",
       "   'date': '2024'},\n",
       "  {'package': 'output',\n",
       "   'distro': 'colcon',\n",
       "   'name': 'python3-colcon-output',\n",
       "   'count': 75007,\n",
       "   'date': '2024'},\n",
       "  {'package': 'defaults',\n",
       "   'distro': 'colcon',\n",
       "   'name': 'python3-colcon-defaults',\n",
       "   'count': 74760,\n",
       "   'date': '2024'},\n",
       "  {'package': 'common-extensions',\n",
       "   'distro': 'colcon',\n",
       "   'name': 'python3-colcon-common-extensions',\n",
       "   'count': 74386,\n",
       "   'date': '2024'},\n",
       "  {'package': 'package-selection',\n",
       "   'distro': 'colcon',\n",
       "   'name': 'python3-colcon-package-selection',\n",
       "   'count': 74200,\n",
       "   'date': '2024'},\n",
       "  {'package': 'message-filters',\n",
       "   'distro': 'humble',\n",
       "   'name': 'ros-humble-message-filters',\n",
       "   'count': 70918,\n",
       "   'date': '2024'},\n",
       "  {'package': 'tf2-ros',\n",
       "   'distro': 'humble',\n",
       "   'name': 'ros-humble-tf2-ros',\n",
       "   'count': 70851,\n",
       "   'date': '2024'},\n",
       "  {'package': 'tf2-geometry-msgs',\n",
       "   'distro': 'humble',\n",
       "   'name': 'ros-humble-tf2-geometry-msgs',\n",
       "   'count': 70060,\n",
       "   'date': '2024'},\n",
       "  {'package': 'cv-bridge',\n",
       "   'distro': 'humble',\n",
       "   'name': 'ros-humble-cv-bridge',\n",
       "   'count': 69460,\n",
       "   'date': '2024'},\n",
       "  {'package': 'interactive-markers',\n",
       "   'distro': 'humble',\n",
       "   'name': 'ros-humble-interactive-markers',\n",
       "   'count': 69450,\n",
       "   'date': '2024'},\n",
       "  {'package': 'rviz-common',\n",
       "   'distro': 'humble',\n",
       "   'name': 'ros-humble-rviz-common',\n",
       "   'count': 68872,\n",
       "   'date': '2024'},\n",
       "  {'package': 'urdf',\n",
       "   'distro': 'humble',\n",
       "   'name': 'ros-humble-urdf',\n",
       "   'count': 68871,\n",
       "   'date': '2024'},\n",
       "  {'package': 'rviz-default-plugins',\n",
       "   'distro': 'humble',\n",
       "   'name': 'ros-humble-rviz-default-plugins',\n",
       "   'count': 68537,\n",
       "   'date': '2024'},\n",
       "  {'package': 'urdf-parser-plugin',\n",
       "   'distro': 'humble',\n",
       "   'name': 'ros-humble-urdf-parser-plugin',\n",
       "   'count': 68477,\n",
       "   'date': '2024'},\n",
       "  {'package': 'tf2-eigen',\n",
       "   'distro': 'humble',\n",
       "   'name': 'ros-humble-tf2-eigen',\n",
       "   'count': 68433,\n",
       "   'date': '2024'},\n",
       "  {'package': 'rosidl-default-runtime',\n",
       "   'distro': 'humble',\n",
       "   'name': 'ros-humble-rosidl-default-runtime',\n",
       "   'count': 67397,\n",
       "   'date': '2024'},\n",
       "  {'package': 'resource-retriever',\n",
       "   'distro': 'humble',\n",
       "   'name': 'ros-humble-resource-retriever',\n",
       "   'count': 67281,\n",
       "   'date': '2024'},\n",
       "  {'package': 'std-msgs',\n",
       "   'distro': 'humble',\n",
       "   'name': 'ros-humble-std-msgs',\n",
       "   'count': 67220,\n",
       "   'date': '2024'},\n",
       "  {'package': 'builtin-interfaces',\n",
       "   'distro': 'humble',\n",
       "   'name': 'ros-humble-builtin-interfaces',\n",
       "   'count': 67188,\n",
       "   'date': '2024'},\n",
       "  {'package': 'rviz2',\n",
       "   'distro': 'humble',\n",
       "   'name': 'ros-humble-rviz2',\n",
       "   'count': 67120,\n",
       "   'date': '2024'},\n",
       "  {'package': 'ros-workspace',\n",
       "   'distro': 'humble',\n",
       "   'name': 'ros-humble-ros-workspace',\n",
       "   'count': 67097,\n",
       "   'date': '2024'},\n",
       "  {'package': 'robot-state-publisher',\n",
       "   'distro': 'humble',\n",
       "   'name': 'ros-humble-robot-state-publisher',\n",
       "   'count': 66901,\n",
       "   'date': '2024'},\n",
       "  {'package': 'sensor-msgs-py',\n",
       "   'distro': 'humble',\n",
       "   'name': 'ros-humble-sensor-msgs-py',\n",
       "   'count': 66812,\n",
       "   'date': '2024'},\n",
       "  {'package': 'libcurl-vendor',\n",
       "   'distro': 'humble',\n",
       "   'name': 'ros-humble-libcurl-vendor',\n",
       "   'count': 66790,\n",
       "   'date': '2024'},\n",
       "  {'package': '',\n",
       "   'distro': 'vcstool',\n",
       "   'name': 'python3-vcstool',\n",
       "   'count': 66642,\n",
       "   'date': '2024'},\n",
       "  {'package': 'tf2',\n",
       "   'distro': 'humble',\n",
       "   'name': 'ros-humble-tf2',\n",
       "   'count': 66508,\n",
       "   'date': '2024'},\n",
       "  {'package': 'tf2-msgs',\n",
       "   'distro': 'humble',\n",
       "   'name': 'ros-humble-tf2-msgs',\n",
       "   'count': 66413,\n",
       "   'date': '2024'},\n",
       "  {'package': 'kdl-parser',\n",
       "   'distro': 'humble',\n",
       "   'name': 'ros-humble-kdl-parser',\n",
       "   'count': 66399,\n",
       "   'date': '2024'},\n",
       "  {'package': '',\n",
       "   'distro': 'rosdistro',\n",
       "   'name': 'python3-rosdistro',\n",
       "   'count': 66339,\n",
       "   'date': '2024'},\n",
       "  {'package': 'angles',\n",
       "   'distro': 'humble',\n",
       "   'name': 'ros-humble-angles',\n",
       "   'count': 66303,\n",
       "   'date': '2024'},\n",
       "  {'package': 'rosidl-typesupport-introspection-c',\n",
       "   'distro': 'humble',\n",
       "   'name': 'ros-humble-rosidl-typesupport-introspection-c',\n",
       "   'count': 66289,\n",
       "   'date': '2024'},\n",
       "  {'package': 'rosidl-typesupport-introspection-cpp',\n",
       "   'distro': 'humble',\n",
       "   'name': 'ros-humble-rosidl-typesupport-introspection-cpp',\n",
       "   'count': 66243,\n",
       "   'date': '2024'},\n",
       "  {'package': 'rviz-ogre-vendor',\n",
       "   'distro': 'humble',\n",
       "   'name': 'ros-humble-rviz-ogre-vendor',\n",
       "   'count': 66211,\n",
       "   'date': '2024'},\n",
       "  {'package': 'map-msgs',\n",
       "   'distro': 'humble',\n",
       "   'name': 'ros-humble-map-msgs',\n",
       "   'count': 66067,\n",
       "   'date': '2024'},\n",
       "  {'package': 'ament-cmake-ros',\n",
       "   'distro': 'humble',\n",
       "   'name': 'ros-humble-ament-cmake-ros',\n",
       "   'count': 66059,\n",
       "   'date': '2024'},\n",
       "  {'package': 'ament-cmake-flake8',\n",
       "   'distro': 'humble',\n",
       "   'name': 'ros-humble-ament-cmake-flake8',\n",
       "   'count': 65944,\n",
       "   'date': '2024'},\n",
       "  {'package': 'rosidl-typesupport-fastrtps-c',\n",
       "   'distro': 'humble',\n",
       "   'name': 'ros-humble-rosidl-typesupport-fastrtps-c',\n",
       "   'count': 65903,\n",
       "   'date': '2024'},\n",
       "  {'package': 'rclcpp',\n",
       "   'distro': 'humble',\n",
       "   'name': 'ros-humble-rclcpp',\n",
       "   'count': 65870,\n",
       "   'date': '2024'},\n",
       "  {'package': 'rosidl-typesupport-fastrtps-cpp',\n",
       "   'distro': 'humble',\n",
       "   'name': 'ros-humble-rosidl-typesupport-fastrtps-cpp',\n",
       "   'count': 65679,\n",
       "   'date': '2024'},\n",
       "  {'package': 'rosidl-runtime-cpp',\n",
       "   'distro': 'humble',\n",
       "   'name': 'ros-humble-rosidl-runtime-cpp',\n",
       "   'count': 65590,\n",
       "   'date': '2024'},\n",
       "  {'package': 'gtest-vendor',\n",
       "   'distro': 'humble',\n",
       "   'name': 'ros-humble-gtest-vendor',\n",
       "   'count': 65510,\n",
       "   'date': '2024'},\n",
       "  {'package': 'uncrustify-vendor',\n",
       "   'distro': 'humble',\n",
       "   'name': 'ros-humble-uncrustify-vendor',\n",
       "   'count': 65486,\n",
       "   'date': '2024'},\n",
       "  {'package': 'rcpputils',\n",
       "   'distro': 'humble',\n",
       "   'name': 'ros-humble-rcpputils',\n",
       "   'count': 65471,\n",
       "   'date': '2024'},\n",
       "  {'package': 'ament-pep257',\n",
       "   'distro': 'humble',\n",
       "   'name': 'ros-humble-ament-pep257',\n",
       "   'count': 65456,\n",
       "   'date': '2024'},\n",
       "  {'package': 'ament-cmake',\n",
       "   'distro': 'humble',\n",
       "   'name': 'ros-humble-ament-cmake',\n",
       "   'count': 65415,\n",
       "   'date': '2024'},\n",
       "  {'package': 'fastrtps-cmake-module',\n",
       "   'distro': 'humble',\n",
       "   'name': 'ros-humble-fastrtps-cmake-module',\n",
       "   'count': 65412,\n",
       "   'date': '2024'},\n",
       "  {'package': 'rosidl-generator-cpp',\n",
       "   'distro': 'humble',\n",
       "   'name': 'ros-humble-rosidl-generator-cpp',\n",
       "   'count': 65400,\n",
       "   'date': '2024'},\n",
       "  {'package': 'rosidl-parser',\n",
       "   'distro': 'humble',\n",
       "   'name': 'ros-humble-rosidl-parser',\n",
       "   'count': 65348,\n",
       "   'date': '2024'},\n",
       "  {'package': 'rosidl-typesupport-c',\n",
       "   'distro': 'humble',\n",
       "   'name': 'ros-humble-rosidl-typesupport-c',\n",
       "   'count': 65306,\n",
       "   'date': '2024'},\n",
       "  {'package': 'laser-geometry',\n",
       "   'distro': 'humble',\n",
       "   'name': 'ros-humble-laser-geometry',\n",
       "   'count': 65242,\n",
       "   'date': '2024'},\n",
       "  {'package': 'ament-cmake-python',\n",
       "   'distro': 'humble',\n",
       "   'name': 'ros-humble-ament-cmake-python',\n",
       "   'count': 65228,\n",
       "   'date': '2024'},\n",
       "  {'package': 'ament-cmake-pep257',\n",
       "   'distro': 'humble',\n",
       "   'name': 'ros-humble-ament-cmake-pep257',\n",
       "   'count': 65217,\n",
       "   'date': '2024'},\n",
       "  {'package': 'ament-index-python',\n",
       "   'distro': 'humble',\n",
       "   'name': 'ros-humble-ament-index-python',\n",
       "   'count': 65188,\n",
       "   'date': '2024'},\n",
       "  {'package': 'rosidl-generator-py',\n",
       "   'distro': 'humble',\n",
       "   'name': 'ros-humble-rosidl-generator-py',\n",
       "   'count': 65179,\n",
       "   'date': '2024'},\n",
       "  {'package': 'rpyutils',\n",
       "   'distro': 'humble',\n",
       "   'name': 'ros-humble-rpyutils',\n",
       "   'count': 65142,\n",
       "   'date': '2024'},\n",
       "  {'package': 'rosidl-cmake',\n",
       "   'distro': 'humble',\n",
       "   'name': 'ros-humble-rosidl-cmake',\n",
       "   'count': 65132,\n",
       "   'date': '2024'},\n",
       "  {'package': 'rosidl-adapter',\n",
       "   'distro': 'humble',\n",
       "   'name': 'ros-humble-rosidl-adapter',\n",
       "   'count': 65125,\n",
       "   'date': '2024'},\n",
       "  {'package': 'tf2-kdl',\n",
       "   'distro': 'humble',\n",
       "   'name': 'ros-humble-tf2-kdl',\n",
       "   'count': 65054,\n",
       "   'date': '2024'},\n",
       "  {'package': 'sensor-msgs',\n",
       "   'distro': 'humble',\n",
       "   'name': 'ros-humble-sensor-msgs',\n",
       "   'count': 64994,\n",
       "   'date': '2024'},\n",
       "  {'package': 'rviz-rendering',\n",
       "   'distro': 'humble',\n",
       "   'name': 'ros-humble-rviz-rendering',\n",
       "   'count': 64925,\n",
       "   'date': '2024'},\n",
       "  {'package': 'ament-cmake-core',\n",
       "   'distro': 'humble',\n",
       "   'name': 'ros-humble-ament-cmake-core',\n",
       "   'count': 64923,\n",
       "   'date': '2024'},\n",
       "  {'package': 'geometry-msgs',\n",
       "   'distro': 'humble',\n",
       "   'name': 'ros-humble-geometry-msgs',\n",
       "   'count': 64919,\n",
       "   'date': '2024'},\n",
       "  {'package': 'ament-index-cpp',\n",
       "   'distro': 'humble',\n",
       "   'name': 'ros-humble-ament-index-cpp',\n",
       "   'count': 64908,\n",
       "   'date': '2024'},\n",
       "  {'package': 'ament-flake8',\n",
       "   'distro': 'humble',\n",
       "   'name': 'ros-humble-ament-flake8',\n",
       "   'count': 64835,\n",
       "   'date': '2024'},\n",
       "  {'package': 'ament-cmake-test',\n",
       "   'distro': 'humble',\n",
       "   'name': 'ros-humble-ament-cmake-test',\n",
       "   'count': 64832,\n",
       "   'date': '2024'},\n",
       "  {'package': 'ament-lint-common',\n",
       "   'distro': 'humble',\n",
       "   'name': 'ros-humble-ament-lint-common',\n",
       "   'count': 64832,\n",
       "   'date': '2024'},\n",
       "  {'package': 'rosidl-typesupport-cpp',\n",
       "   'distro': 'humble',\n",
       "   'name': 'ros-humble-rosidl-typesupport-cpp',\n",
       "   'count': 64804,\n",
       "   'date': '2024'},\n",
       "  {'package': 'ament-lint-auto',\n",
       "   'distro': 'humble',\n",
       "   'name': 'ros-humble-ament-lint-auto',\n",
       "   'count': 64804,\n",
       "   'date': '2024'},\n",
       "  {'package': 'rviz-assimp-vendor',\n",
       "   'distro': 'humble',\n",
       "   'name': 'ros-humble-rviz-assimp-vendor',\n",
       "   'count': 64765,\n",
       "   'date': '2024'},\n",
       "  {'package': 'ament-cmake-pytest',\n",
       "   'distro': 'humble',\n",
       "   'name': 'ros-humble-ament-cmake-pytest',\n",
       "   'count': 64748,\n",
       "   'date': '2024'},\n",
       "  {'package': 'ament-cmake-libraries',\n",
       "   'distro': 'humble',\n",
       "   'name': 'ros-humble-ament-cmake-libraries',\n",
       "   'count': 64747,\n",
       "   'date': '2024'},\n",
       "  {'package': 'rosidl-generator-c',\n",
       "   'distro': 'humble',\n",
       "   'name': 'ros-humble-rosidl-generator-c',\n",
       "   'count': 64690,\n",
       "   'date': '2024'},\n",
       "  {'package': 'rclpy',\n",
       "   'distro': 'humble',\n",
       "   'name': 'ros-humble-rclpy',\n",
       "   'count': 64669,\n",
       "   'date': '2024'},\n",
       "  {'package': 'domain-coordinator',\n",
       "   'distro': 'humble',\n",
       "   'name': 'ros-humble-domain-coordinator',\n",
       "   'count': 64659,\n",
       "   'date': '2024'},\n",
       "  {'package': 'rmw-implementation-cmake',\n",
       "   'distro': 'humble',\n",
       "   'name': 'ros-humble-rmw-implementation-cmake',\n",
       "   'count': 64644,\n",
       "   'date': '2024'},\n",
       "  {'package': 'ament-xmllint',\n",
       "   'distro': 'humble',\n",
       "   'name': 'ros-humble-ament-xmllint',\n",
       "   'count': 64638,\n",
       "   'date': '2024'},\n",
       "  {'package': 'ament-uncrustify',\n",
       "   'distro': 'humble',\n",
       "   'name': 'ros-humble-ament-uncrustify',\n",
       "   'count': 64620,\n",
       "   'date': '2024'},\n",
       "  {'package': 'rosidl-runtime-c',\n",
       "   'distro': 'humble',\n",
       "   'name': 'ros-humble-rosidl-runtime-c',\n",
       "   'count': 64616,\n",
       "   'date': '2024'},\n",
       "  {'package': 'tf2-sensor-msgs',\n",
       "   'distro': 'humble',\n",
       "   'name': 'ros-humble-tf2-sensor-msgs',\n",
       "   'count': 64606,\n",
       "   'date': '2024'},\n",
       "  {'package': 'ament-cmake-xmllint',\n",
       "   'distro': 'humble',\n",
       "   'name': 'ros-humble-ament-cmake-xmllint',\n",
       "   'count': 64589,\n",
       "   'date': '2024'},\n",
       "  {'package': 'orocos-kdl-vendor',\n",
       "   'distro': 'humble',\n",
       "   'name': 'ros-humble-orocos-kdl-vendor',\n",
       "   'count': 64577,\n",
       "   'date': '2024'},\n",
       "  {'package': 'ament-cmake-uncrustify',\n",
       "   'distro': 'humble',\n",
       "   'name': 'ros-humble-ament-cmake-uncrustify',\n",
       "   'count': 64558,\n",
       "   'date': '2024'},\n",
       "  {'package': 'ament-cmake-include-directories',\n",
       "   'distro': 'humble',\n",
       "   'name': 'ros-humble-ament-cmake-include-directories',\n",
       "   'count': 64531,\n",
       "   'date': '2024'},\n",
       "  {'package': 'ament-cmake-version',\n",
       "   'distro': 'humble',\n",
       "   'name': 'ros-humble-ament-cmake-version',\n",
       "   'count': 64487,\n",
       "   'date': '2024'},\n",
       "  {'package': 'ament-cmake-export-libraries',\n",
       "   'distro': 'humble',\n",
       "   'name': 'ros-humble-ament-cmake-export-libraries',\n",
       "   'count': 64480,\n",
       "   'date': '2024'},\n",
       "  {'package': 'python-cmake-module',\n",
       "   'distro': 'humble',\n",
       "   'name': 'ros-humble-python-cmake-module',\n",
       "   'count': 64476,\n",
       "   'date': '2024'},\n",
       "  {'package': 'rcl-logging-spdlog',\n",
       "   'distro': 'humble',\n",
       "   'name': 'ros-humble-rcl-logging-spdlog',\n",
       "   'count': 64473,\n",
       "   'date': '2024'},\n",
       "  {'package': 'ament-cmake-gen-version-h',\n",
       "   'distro': 'humble',\n",
       "   'name': 'ros-humble-ament-cmake-gen-version-h',\n",
       "   'count': 64460,\n",
       "   'date': '2024'},\n",
       "  {'package': 'ament-cmake-target-dependencies',\n",
       "   'distro': 'humble',\n",
       "   'name': 'ros-humble-ament-cmake-target-dependencies',\n",
       "   'count': 64457,\n",
       "   'date': '2024'},\n",
       "  {'package': 'ament-cmake-export-targets',\n",
       "   'distro': 'humble',\n",
       "   'name': 'ros-humble-ament-cmake-export-targets',\n",
       "   'count': 64441,\n",
       "   'date': '2024'},\n",
       "  {'package': 'eigen3-cmake-module',\n",
       "   'distro': 'humble',\n",
       "   'name': 'ros-humble-eigen3-cmake-module',\n",
       "   'count': 64440,\n",
       "   'date': '2024'},\n",
       "  {'package': 'ament-cmake-export-include-directories',\n",
       "   'distro': 'humble',\n",
       "   'name': 'ros-humble-ament-cmake-export-include-directories',\n",
       "   'count': 64424,\n",
       "   'date': '2024'},\n",
       "  {'package': 'rcl-yaml-param-parser',\n",
       "   'distro': 'humble',\n",
       "   'name': 'ros-humble-rcl-yaml-param-parser',\n",
       "   'count': 64404,\n",
       "   'date': '2024'},\n",
       "  {'package': 'rmw',\n",
       "   'distro': 'humble',\n",
       "   'name': 'ros-humble-rmw',\n",
       "   'count': 64403,\n",
       "   'date': '2024'},\n",
       "  {'package': 'ament-cmake-export-link-flags',\n",
       "   'distro': 'humble',\n",
       "   'name': 'ros-humble-ament-cmake-export-link-flags',\n",
       "   'count': 64398,\n",
       "   'date': '2024'},\n",
       "  {'package': 'ament-cmake-export-interfaces',\n",
       "   'distro': 'humble',\n",
       "   'name': 'ros-humble-ament-cmake-export-interfaces',\n",
       "   'count': 64396,\n",
       "   'date': '2024'},\n",
       "  {'package': 'rosidl-typesupport-interface',\n",
       "   'distro': 'humble',\n",
       "   'name': 'ros-humble-rosidl-typesupport-interface',\n",
       "   'count': 64391,\n",
       "   'date': '2024'},\n",
       "  {'package': 'rcl-interfaces',\n",
       "   'distro': 'humble',\n",
       "   'name': 'ros-humble-rcl-interfaces',\n",
       "   'count': 64372,\n",
       "   'date': '2024'},\n",
       "  {'package': 'ament-cmake-export-dependencies',\n",
       "   'distro': 'humble',\n",
       "   'name': 'ros-humble-ament-cmake-export-dependencies',\n",
       "   'count': 64363,\n",
       "   'date': '2024'},\n",
       "  {'package': 'ament-cmake-export-definitions',\n",
       "   'distro': 'humble',\n",
       "   'name': 'ros-humble-ament-cmake-export-definitions',\n",
       "   'count': 64347,\n",
       "   'date': '2024'},\n",
       "  {'package': 'ament-cmake-gmock',\n",
       "   'distro': 'humble',\n",
       "   'name': 'ros-humble-ament-cmake-gmock',\n",
       "   'count': 64343,\n",
       "   'date': '2024'},\n",
       "  {'package': 'ament-lint',\n",
       "   'distro': 'humble',\n",
       "   'name': 'ros-humble-ament-lint',\n",
       "   'count': 64318,\n",
       "   'date': '2024'},\n",
       "  {'package': 'rosidl-cli',\n",
       "   'distro': 'humble',\n",
       "   'name': 'ros-humble-rosidl-cli',\n",
       "   'count': 64291,\n",
       "   'date': '2024'},\n",
       "  {'package': 'rcutils',\n",
       "   'distro': 'humble',\n",
       "   'name': 'ros-humble-rcutils',\n",
       "   'count': 64258,\n",
       "   'date': '2024'},\n",
       "  {'package': 'rosgraph-msgs',\n",
       "   'distro': 'humble',\n",
       "   'name': 'ros-humble-rosgraph-msgs',\n",
       "   'count': 64232,\n",
       "   'date': '2024'},\n",
       "  {'package': 'ignition-math6-vendor',\n",
       "   'distro': 'humble',\n",
       "   'name': 'ros-humble-ignition-math6-vendor',\n",
       "   'count': 64231,\n",
       "   'date': '2024'},\n",
       "  {'package': 'yaml-cpp-vendor',\n",
       "   'distro': 'humble',\n",
       "   'name': 'ros-humble-yaml-cpp-vendor',\n",
       "   'count': 64182,\n",
       "   'date': '2024'},\n",
       "  {'package': 'ament-cmake-gtest',\n",
       "   'distro': 'humble',\n",
       "   'name': 'ros-humble-ament-cmake-gtest',\n",
       "   'count': 64143,\n",
       "   'date': '2024'},\n",
       "  {'package': 'libstatistics-collector',\n",
       "   'distro': 'humble',\n",
       "   'name': 'ros-humble-libstatistics-collector',\n",
       "   'count': 64122,\n",
       "   'date': '2024'},\n",
       "  {'package': 'rclcpp-components',\n",
       "   'distro': 'humble',\n",
       "   'name': 'ros-humble-rclcpp-components',\n",
       "   'count': 64115,\n",
       "   'date': '2024'},\n",
       "  {'package': 'tf2-ros-py',\n",
       "   'distro': 'humble',\n",
       "   'name': 'ros-humble-tf2-ros-py',\n",
       "   'count': 64112,\n",
       "   'date': '2024'},\n",
       "  {'package': 'rcl',\n",
       "   'distro': 'humble',\n",
       "   'name': 'ros-humble-rcl',\n",
       "   'count': 64077,\n",
       "   'date': '2024'},\n",
       "  {'package': 'spdlog-vendor',\n",
       "   'distro': 'humble',\n",
       "   'name': 'ros-humble-spdlog-vendor',\n",
       "   'count': 64040,\n",
       "   'date': '2024'},\n",
       "  {'package': 'action-msgs',\n",
       "   'distro': 'humble',\n",
       "   'name': 'ros-humble-action-msgs',\n",
       "   'count': 64034,\n",
       "   'date': '2024'},\n",
       "  {'package': 'class-loader',\n",
       "   'distro': 'humble',\n",
       "   'name': 'ros-humble-class-loader',\n",
       "   'count': 63974,\n",
       "   'date': '2024'},\n",
       "  {'package': 'fastcdr',\n",
       "   'distro': 'humble',\n",
       "   'name': 'ros-humble-fastcdr',\n",
       "   'count': 63940,\n",
       "   'date': '2024'},\n",
       "  {'package': 'ament-cmake-lint-cmake',\n",
       "   'distro': 'humble',\n",
       "   'name': 'ros-humble-ament-cmake-lint-cmake',\n",
       "   'count': 63939,\n",
       "   'date': '2024'},\n",
       "  {'package': 'libyaml-vendor',\n",
       "   'distro': 'humble',\n",
       "   'name': 'ros-humble-libyaml-vendor',\n",
       "   'count': 63908,\n",
       "   'date': '2024'},\n",
       "  {'package': 'console-bridge-vendor',\n",
       "   'distro': 'humble',\n",
       "   'name': 'ros-humble-console-bridge-vendor',\n",
       "   'count': 63899,\n",
       "   'date': '2024'},\n",
       "  {'package': 'ament-copyright',\n",
       "   'distro': 'humble',\n",
       "   'name': 'ros-humble-ament-copyright',\n",
       "   'count': 63878,\n",
       "   'date': '2024'},\n",
       "  {'package': 'ament-cpplint',\n",
       "   'distro': 'humble',\n",
       "   'name': 'ros-humble-ament-cpplint',\n",
       "   'count': 63851,\n",
       "   'date': '2024'},\n",
       "  {'package': 'ament-lint-cmake',\n",
       "   'distro': 'humble',\n",
       "   'name': 'ros-humble-ament-lint-cmake',\n",
       "   'count': 63849,\n",
       "   'date': '2024'},\n",
       "  {'package': 'gmock-vendor',\n",
       "   'distro': 'humble',\n",
       "   'name': 'ros-humble-gmock-vendor',\n",
       "   'count': 63835,\n",
       "   'date': '2024'},\n",
       "  {'package': 'pluginlib',\n",
       "   'distro': 'humble',\n",
       "   'name': 'ros-humble-pluginlib',\n",
       "   'count': 63829,\n",
       "   'date': '2024'},\n",
       "  {'package': 'ignition-cmake2-vendor',\n",
       "   'distro': 'humble',\n",
       "   'name': 'ros-humble-ignition-cmake2-vendor',\n",
       "   'count': 63814,\n",
       "   'date': '2024'},\n",
       "  {'package': 'ros-environment',\n",
       "   'distro': 'humble',\n",
       "   'name': 'ros-humble-ros-environment',\n",
       "   'count': 63758,\n",
       "   'date': '2024'},\n",
       "  {'package': 'tf2-py',\n",
       "   'distro': 'humble',\n",
       "   'name': 'ros-humble-tf2-py',\n",
       "   'count': 63674,\n",
       "   'date': '2024'},\n",
       "  {'package': 'ament-cmake-cppcheck',\n",
       "   'distro': 'humble',\n",
       "   'name': 'ros-humble-ament-cmake-cppcheck',\n",
       "   'count': 63625,\n",
       "   'date': '2024'},\n",
       "  {'package': 'ros-base',\n",
       "   'distro': 'humble',\n",
       "   'name': 'ros-humble-ros-base',\n",
       "   'count': 63593,\n",
       "   'date': '2024'},\n",
       "  {'package': 'unique-identifier-msgs',\n",
       "   'distro': 'humble',\n",
       "   'name': 'ros-humble-unique-identifier-msgs',\n",
       "   'count': 63571,\n",
       "   'date': '2024'},\n",
       "  {'package': 'statistics-msgs',\n",
       "   'distro': 'humble',\n",
       "   'name': 'ros-humble-statistics-msgs',\n",
       "   'count': 63557,\n",
       "   'date': '2024'},\n",
       "  {'package': 'tinyxml2-vendor',\n",
       "   'distro': 'humble',\n",
       "   'name': 'ros-humble-tinyxml2-vendor',\n",
       "   'count': 63547,\n",
       "   'date': '2024'},\n",
       "  {'package': 'pcl-conversions',\n",
       "   'distro': 'humble',\n",
       "   'name': 'ros-humble-pcl-conversions',\n",
       "   'count': 63531,\n",
       "   'date': '2024'},\n",
       "  {'package': 'urdfdom',\n",
       "   'distro': 'humble',\n",
       "   'name': 'ros-humble-urdfdom',\n",
       "   'count': 63422,\n",
       "   'date': '2024'},\n",
       "  {'package': 'ament-cppcheck',\n",
       "   'distro': 'humble',\n",
       "   'name': 'ros-humble-ament-cppcheck',\n",
       "   'count': 63413,\n",
       "   'date': '2024'},\n",
       "  {'package': 'foonathan-memory-vendor',\n",
       "   'distro': 'humble',\n",
       "   'name': 'ros-humble-foonathan-memory-vendor',\n",
       "   'count': 63251,\n",
       "   'date': '2024'},\n",
       "  {'package': 'composition-interfaces',\n",
       "   'distro': 'humble',\n",
       "   'name': 'ros-humble-composition-interfaces',\n",
       "   'count': 63238,\n",
       "   'date': '2024'},\n",
       "  {'package': 'urdfdom-headers',\n",
       "   'distro': 'humble',\n",
       "   'name': 'ros-humble-urdfdom-headers',\n",
       "   'count': 63198,\n",
       "   'date': '2024'},\n",
       "  {'package': 'rclcpp-action',\n",
       "   'distro': 'humble',\n",
       "   'name': 'ros-humble-rclcpp-action',\n",
       "   'count': 63174,\n",
       "   'date': '2024'},\n",
       "  {'package': 'tracetools',\n",
       "   'distro': 'humble',\n",
       "   'name': 'ros-humble-tracetools',\n",
       "   'count': 63126,\n",
       "   'date': '2024'},\n",
       "  {'package': 'lifecycle-msgs',\n",
       "   'distro': 'humble',\n",
       "   'name': 'ros-humble-lifecycle-msgs',\n",
       "   'count': 63014,\n",
       "   'date': '2024'},\n",
       "  {'package': 'geometry2',\n",
       "   'distro': 'humble',\n",
       "   'name': 'ros-humble-geometry2',\n",
       "   'count': 63005,\n",
       "   'date': '2024'},\n",
       "  {'package': 'rmw-implementation',\n",
       "   'distro': 'humble',\n",
       "   'name': 'ros-humble-rmw-implementation',\n",
       "   'count': 63004,\n",
       "   'date': '2024'},\n",
       "  {'package': 'nav-msgs',\n",
       "   'distro': 'humble',\n",
       "   'name': 'ros-humble-nav-msgs',\n",
       "   'count': 62969,\n",
       "   'date': '2024'},\n",
       "  {'package': 'ament-cmake-copyright',\n",
       "   'distro': 'humble',\n",
       "   'name': 'ros-humble-ament-cmake-copyright',\n",
       "   'count': 62938,\n",
       "   'date': '2024'},\n",
       "  {'package': 'rcl-logging-interface',\n",
       "   'distro': 'humble',\n",
       "   'name': 'ros-humble-rcl-logging-interface',\n",
       "   'count': 62807,\n",
       "   'date': '2024'},\n",
       "  {'package': 'rosidl-default-generators',\n",
       "   'distro': 'humble',\n",
       "   'name': 'ros-humble-rosidl-default-generators',\n",
       "   'count': 62805,\n",
       "   'date': '2024'},\n",
       "  {'package': 'tinyxml-vendor',\n",
       "   'distro': 'humble',\n",
       "   'name': 'ros-humble-tinyxml-vendor',\n",
       "   'count': 62804,\n",
       "   'date': '2024'},\n",
       "  {'package': 'rmw-dds-common',\n",
       "   'distro': 'humble',\n",
       "   'name': 'ros-humble-rmw-dds-common',\n",
       "   'count': 62759,\n",
       "   'date': '2024'},\n",
       "  {'package': 'ros2run',\n",
       "   'distro': 'humble',\n",
       "   'name': 'ros-humble-ros2run',\n",
       "   'count': 62670,\n",
       "   'date': '2024'},\n",
       "  {'package': 'ros2pkg',\n",
       "   'distro': 'humble',\n",
       "   'name': 'ros-humble-ros2pkg',\n",
       "   'count': 62635,\n",
       "   'date': '2024'},\n",
       "  {'package': 'std-srvs',\n",
       "   'distro': 'humble',\n",
       "   'name': 'ros-humble-std-srvs',\n",
       "   'count': 62625,\n",
       "   'date': '2024'},\n",
       "  {'package': 'rcl-lifecycle',\n",
       "   'distro': 'humble',\n",
       "   'name': 'ros-humble-rcl-lifecycle',\n",
       "   'count': 62497,\n",
       "   'date': '2024'},\n",
       "  {'package': 'ros2param',\n",
       "   'distro': 'humble',\n",
       "   'name': 'ros-humble-ros2param',\n",
       "   'count': 62476,\n",
       "   'date': '2024'},\n",
       "  {'package': 'ros2service',\n",
       "   'distro': 'humble',\n",
       "   'name': 'ros-humble-ros2service',\n",
       "   'count': 62464,\n",
       "   'date': '2024'},\n",
       "  {'package': 'rcl-action',\n",
       "   'distro': 'humble',\n",
       "   'name': 'ros-humble-rcl-action',\n",
       "   'count': 62360,\n",
       "   'date': '2024'},\n",
       "  {'package': 'rmw-fastrtps-shared-cpp',\n",
       "   'distro': 'humble',\n",
       "   'name': 'ros-humble-rmw-fastrtps-shared-cpp',\n",
       "   'count': 62310,\n",
       "   'date': '2024'},\n",
       "  {'package': 'ament-cmake-cpplint',\n",
       "   'distro': 'humble',\n",
       "   'name': 'ros-humble-ament-cmake-cpplint',\n",
       "   'count': 62298,\n",
       "   'date': '2024'},\n",
       "  {'package': 'launch',\n",
       "   'distro': 'humble',\n",
       "   'name': 'ros-humble-launch',\n",
       "   'count': 62293,\n",
       "   'date': '2024'},\n",
       "  {'package': 'ros2cli',\n",
       "   'distro': 'humble',\n",
       "   'name': 'ros-humble-ros2cli',\n",
       "   'count': 62292,\n",
       "   'date': '2024'},\n",
       "  {'package': 'tf2-bullet',\n",
       "   'distro': 'humble',\n",
       "   'name': 'ros-humble-tf2-bullet',\n",
       "   'count': 62166,\n",
       "   'date': '2024'},\n",
       "  {'package': 'pybind11-vendor',\n",
       "   'distro': 'humble',\n",
       "   'name': 'ros-humble-pybind11-vendor',\n",
       "   'count': 62118,\n",
       "   'date': '2024'},\n",
       "  {'package': 'rosidl-runtime-py',\n",
       "   'distro': 'humble',\n",
       "   'name': 'ros-humble-rosidl-runtime-py',\n",
       "   'count': 61981,\n",
       "   'date': '2024'},\n",
       "  {'package': 'rmw-fastrtps-cpp',\n",
       "   'distro': 'humble',\n",
       "   'name': 'ros-humble-rmw-fastrtps-cpp',\n",
       "   'count': 61828,\n",
       "   'date': '2024'},\n",
       "  {'package': 'launch-ros',\n",
       "   'distro': 'humble',\n",
       "   'name': 'ros-humble-launch-ros',\n",
       "   'count': 61736,\n",
       "   'date': '2024'},\n",
       "  {'package': 'rclcpp-lifecycle',\n",
       "   'distro': 'humble',\n",
       "   'name': 'ros-humble-rclcpp-lifecycle',\n",
       "   'count': 61639,\n",
       "   'date': '2024'},\n",
       "  {'package': 'ros2node',\n",
       "   'distro': 'humble',\n",
       "   'name': 'ros-humble-ros2node',\n",
       "   'count': 61625,\n",
       "   'date': '2024'},\n",
       "  {'package': 'visualization-msgs',\n",
       "   'distro': 'humble',\n",
       "   'name': 'ros-humble-visualization-msgs',\n",
       "   'count': 61507,\n",
       "   'date': '2024'},\n",
       "  {'package': 'fastrtps',\n",
       "   'distro': 'humble',\n",
       "   'name': 'ros-humble-fastrtps',\n",
       "   'count': 61359,\n",
       "   'date': '2024'},\n",
       "  {'package': 'ros-core',\n",
       "   'distro': 'humble',\n",
       "   'name': 'ros-humble-ros-core',\n",
       "   'count': 61344,\n",
       "   'date': '2024'},\n",
       "  {'package': 'rosbag2-cpp',\n",
       "   'distro': 'humble',\n",
       "   'name': 'ros-humble-rosbag2-cpp',\n",
       "   'count': 61212,\n",
       "   'date': '2024'},\n",
       "  {'package': 'python-qt-binding',\n",
       "   'distro': 'humble',\n",
       "   'name': 'ros-humble-python-qt-binding',\n",
       "   'count': 61207,\n",
       "   'date': '2024'},\n",
       "  {'package': 'trajectory-msgs',\n",
       "   'distro': 'humble',\n",
       "   'name': 'ros-humble-trajectory-msgs',\n",
       "   'count': 61186,\n",
       "   'date': '2024'},\n",
       "  {'package': 'osrf-pycommon',\n",
       "   'distro': 'humble',\n",
       "   'name': 'ros-humble-osrf-pycommon',\n",
       "   'count': 61161,\n",
       "   'date': '2024'},\n",
       "  {'package': 'ros2launch',\n",
       "   'distro': 'humble',\n",
       "   'name': 'ros-humble-ros2launch',\n",
       "   'count': 61132,\n",
       "   'date': '2024'},\n",
       "  {'package': 'launch-testing-ament-cmake',\n",
       "   'distro': 'humble',\n",
       "   'name': 'ros-humble-launch-testing-ament-cmake',\n",
       "   'count': 61111,\n",
       "   'date': '2024'},\n",
       "  {'package': 'launch-testing-ros',\n",
       "   'distro': 'humble',\n",
       "   'name': 'ros-humble-launch-testing-ros',\n",
       "   'count': 60847,\n",
       "   'date': '2024'},\n",
       "  {'package': 'ros2topic',\n",
       "   'distro': 'humble',\n",
       "   'name': 'ros-humble-ros2topic',\n",
       "   'count': 60731,\n",
       "   'date': '2024'},\n",
       "  {'package': 'rosbag2-storage',\n",
       "   'distro': 'humble',\n",
       "   'name': 'ros-humble-rosbag2-storage',\n",
       "   'count': 60667,\n",
       "   'date': '2024'},\n",
       "  {'package': 'launch-yaml',\n",
       "   'distro': 'humble',\n",
       "   'name': 'ros-humble-launch-yaml',\n",
       "   'count': 60495,\n",
       "   'date': '2024'},\n",
       "  {'package': 'launch-testing',\n",
       "   'distro': 'humble',\n",
       "   'name': 'ros-humble-launch-testing',\n",
       "   'count': 60488,\n",
       "   'date': '2024'},\n",
       "  {'package': 'launch-xml',\n",
       "   'distro': 'humble',\n",
       "   'name': 'ros-humble-launch-xml',\n",
       "   'count': 60419,\n",
       "   'date': '2024'},\n",
       "  {'package': 'rosbag2-compression',\n",
       "   'distro': 'humble',\n",
       "   'name': 'ros-humble-rosbag2-compression',\n",
       "   'count': 60400,\n",
       "   'date': '2024'},\n",
       "  {'package': 'diagnostic-msgs',\n",
       "   'distro': 'humble',\n",
       "   'name': 'ros-humble-diagnostic-msgs',\n",
       "   'count': 60145,\n",
       "   'date': '2024'},\n",
       "  {'package': 'ros2lifecycle',\n",
       "   'distro': 'humble',\n",
       "   'name': 'ros-humble-ros2lifecycle',\n",
       "   'count': 60092,\n",
       "   'date': '2024'},\n",
       "  {'package': 'rosbag2-storage-default-plugins',\n",
       "   'distro': 'humble',\n",
       "   'name': 'ros-humble-rosbag2-storage-default-plugins',\n",
       "   'count': 60022,\n",
       "   'date': '2024'},\n",
       "  {'package': 'shared-queues-vendor',\n",
       "   'distro': 'humble',\n",
       "   'name': 'ros-humble-shared-queues-vendor',\n",
       "   'count': 60000,\n",
       "   'date': '2024'},\n",
       "  {'package': 'ros2action',\n",
       "   'distro': 'humble',\n",
       "   'name': 'ros-humble-ros2action',\n",
       "   'count': 59905,\n",
       "   'date': '2024'},\n",
       "  {'package': 'ros2doctor',\n",
       "   'distro': 'humble',\n",
       "   'name': 'ros-humble-ros2doctor',\n",
       "   'count': 59857,\n",
       "   'date': '2024'},\n",
       "  {'package': 'common-interfaces',\n",
       "   'distro': 'humble',\n",
       "   'name': 'ros-humble-common-interfaces',\n",
       "   'count': 59855,\n",
       "   'date': '2024'},\n",
       "  {'package': 'ros2interface',\n",
       "   'distro': 'humble',\n",
       "   'name': 'ros-humble-ros2interface',\n",
       "   'count': 59767,\n",
       "   'date': '2024'},\n",
       "  {'package': 'ros2multicast',\n",
       "   'distro': 'humble',\n",
       "   'name': 'ros-humble-ros2multicast',\n",
       "   'count': 59717,\n",
       "   'date': '2024'},\n",
       "  {'package': 'ros2component',\n",
       "   'distro': 'humble',\n",
       "   'name': 'ros-humble-ros2component',\n",
       "   'count': 59697,\n",
       "   'date': '2024'},\n",
       "  {'package': 'sros2',\n",
       "   'distro': 'humble',\n",
       "   'name': 'ros-humble-sros2',\n",
       "   'count': 59575,\n",
       "   'date': '2024'},\n",
       "  {'package': 'pcl-msgs',\n",
       "   'distro': 'humble',\n",
       "   'name': 'ros-humble-pcl-msgs',\n",
       "   'count': 59551,\n",
       "   'date': '2024'},\n",
       "  {'package': 'actionlib-msgs',\n",
       "   'distro': 'humble',\n",
       "   'name': 'ros-humble-actionlib-msgs',\n",
       "   'count': 59462,\n",
       "   'date': '2024'},\n",
       "  {'package': 'keyboard-handler',\n",
       "   'distro': 'humble',\n",
       "   'name': 'ros-humble-keyboard-handler',\n",
       "   'count': 59372,\n",
       "   'date': '2024'},\n",
       "  {'package': 'stereo-msgs',\n",
       "   'distro': 'humble',\n",
       "   'name': 'ros-humble-stereo-msgs',\n",
       "   'count': 59315,\n",
       "   'date': '2024'},\n",
       "  {'package': 'rosbag2',\n",
       "   'distro': 'humble',\n",
       "   'name': 'ros-humble-rosbag2',\n",
       "   'count': 59265,\n",
       "   'date': '2024'},\n",
       "  {'package': 'rosbag2-transport',\n",
       "   'distro': 'humble',\n",
       "   'name': 'ros-humble-rosbag2-transport',\n",
       "   'count': 59249,\n",
       "   'date': '2024'},\n",
       "  {'package': 'ros2cli-common-extensions',\n",
       "   'distro': 'humble',\n",
       "   'name': 'ros-humble-ros2cli-common-extensions',\n",
       "   'count': 59242,\n",
       "   'date': '2024'},\n",
       "  {'package': 'shape-msgs',\n",
       "   'distro': 'humble',\n",
       "   'name': 'ros-humble-shape-msgs',\n",
       "   'count': 59227,\n",
       "   'date': '2024'},\n",
       "  {'package': 'tf2-eigen-kdl',\n",
       "   'distro': 'humble',\n",
       "   'name': 'ros-humble-tf2-eigen-kdl',\n",
       "   'count': 59193,\n",
       "   'date': '2024'},\n",
       "  {'package': 'sros2-cmake',\n",
       "   'distro': 'humble',\n",
       "   'name': 'ros-humble-sros2-cmake',\n",
       "   'count': 59096,\n",
       "   'date': '2024'},\n",
       "  {'package': 'rosbag2-interfaces',\n",
       "   'distro': 'humble',\n",
       "   'name': 'ros-humble-rosbag2-interfaces',\n",
       "   'count': 59086,\n",
       "   'date': '2024'},\n",
       "  {'package': 'test-result',\n",
       "   'distro': 'colcon',\n",
       "   'name': 'python3-colcon-test-result',\n",
       "   'count': 58854,\n",
       "   'date': '2024'},\n",
       "  {'package': 'library-path',\n",
       "   'distro': 'colcon',\n",
       "   'name': 'python3-colcon-library-path',\n",
       "   'count': 58832,\n",
       "   'date': '2024'},\n",
       "  {'package': 'pkg-config',\n",
       "   'distro': 'colcon',\n",
       "   'name': 'python3-colcon-pkg-config',\n",
       "   'count': 58824,\n",
       "   'date': '2024'},\n",
       "  {'package': 'zstd-vendor',\n",
       "   'distro': 'humble',\n",
       "   'name': 'ros-humble-zstd-vendor',\n",
       "   'count': 58808,\n",
       "   'date': '2024'},\n",
       "  {'package': 'sqlite3-vendor',\n",
       "   'distro': 'humble',\n",
       "   'name': 'ros-humble-sqlite3-vendor',\n",
       "   'count': 58608,\n",
       "   'date': '2024'},\n",
       "  {'package': 'ament-cmake-auto',\n",
       "   'distro': 'humble',\n",
       "   'name': 'ros-humble-ament-cmake-auto',\n",
       "   'count': 58513,\n",
       "   'date': '2024'},\n",
       "  {'package': 'ros2bag',\n",
       "   'distro': 'humble',\n",
       "   'name': 'ros-humble-ros2bag',\n",
       "   'count': 58493,\n",
       "   'date': '2024'},\n",
       "  {'package': 'metadata',\n",
       "   'distro': 'colcon',\n",
       "   'name': 'python3-colcon-metadata',\n",
       "   'count': 58457,\n",
       "   'date': '2024'},\n",
       "  {'package': 'argcomplete',\n",
       "   'distro': 'colcon',\n",
       "   'name': 'python3-colcon-argcomplete',\n",
       "   'count': 58435,\n",
       "   'date': '2024'},\n",
       "  {'package': 'rosbag2-compression-zstd',\n",
       "   'distro': 'humble',\n",
       "   'name': 'ros-humble-rosbag2-compression-zstd',\n",
       "   'count': 58414,\n",
       "   'date': '2024'},\n",
       "  {'package': 'tf2-tools',\n",
       "   'distro': 'humble',\n",
       "   'name': 'ros-humble-tf2-tools',\n",
       "   'count': 58364,\n",
       "   'date': '2024'},\n",
       "  {'package': 'rosbag2-py',\n",
       "   'distro': 'humble',\n",
       "   'name': 'ros-humble-rosbag2-py',\n",
       "   'count': 58131,\n",
       "   'date': '2024'},\n",
       "  {'package': '',\n",
       "   'distro': 'rospkg',\n",
       "   'name': 'python3-rospkg',\n",
       "   'count': 57908,\n",
       "   'date': '2024'},\n",
       "  {'package': 'qt-gui',\n",
       "   'distro': 'humble',\n",
       "   'name': 'ros-humble-qt-gui',\n",
       "   'count': 57648,\n",
       "   'date': '2024'},\n",
       "  {'package': 'rqt-gui',\n",
       "   'distro': 'humble',\n",
       "   'name': 'ros-humble-rqt-gui',\n",
       "   'count': 57408,\n",
       "   'date': '2024'},\n",
       "  {'package': 'tango-icons-vendor',\n",
       "   'distro': 'humble',\n",
       "   'name': 'ros-humble-tango-icons-vendor',\n",
       "   'count': 57366,\n",
       "   'date': '2024'},\n",
       "  {'package': 'rqt-gui-py',\n",
       "   'distro': 'humble',\n",
       "   'name': 'ros-humble-rqt-gui-py',\n",
       "   'count': 55843,\n",
       "   'date': '2024'},\n",
       "  {'package': 'rqt-image-view',\n",
       "   'distro': 'humble',\n",
       "   'name': 'ros-humble-rqt-image-view',\n",
       "   'count': 55595,\n",
       "   'date': '2024'},\n",
       "  {'package': 'joy',\n",
       "   'distro': 'humble',\n",
       "   'name': 'ros-humble-joy',\n",
       "   'count': 54397,\n",
       "   'date': '2024'},\n",
       "  {'package': 'rqt-common-plugins',\n",
       "   'distro': 'humble',\n",
       "   'name': 'ros-humble-rqt-common-plugins',\n",
       "   'count': 54394,\n",
       "   'date': '2024'},\n",
       "  {'package': 'rqt-py-common',\n",
       "   'distro': 'humble',\n",
       "   'name': 'ros-humble-rqt-py-common',\n",
       "   'count': 53985,\n",
       "   'date': '2024'},\n",
       "  {'package': 'sdl2-vendor',\n",
       "   'distro': 'humble',\n",
       "   'name': 'ros-humble-sdl2-vendor',\n",
       "   'count': 53740,\n",
       "   'date': '2024'},\n",
       "  {'package': 'image-geometry',\n",
       "   'distro': 'humble',\n",
       "   'name': 'ros-humble-image-geometry',\n",
       "   'count': 53647,\n",
       "   'date': '2024'},\n",
       "  {'package': 'qt-gui-py-common',\n",
       "   'distro': 'humble',\n",
       "   'name': 'ros-humble-qt-gui-py-common',\n",
       "   'count': 53514,\n",
       "   'date': '2024'},\n",
       "  {'package': 'qt-gui-cpp',\n",
       "   'distro': 'humble',\n",
       "   'name': 'ros-humble-qt-gui-cpp',\n",
       "   'count': 53158,\n",
       "   'date': '2024'},\n",
       "  {'package': 'rqt-console',\n",
       "   'distro': 'humble',\n",
       "   'name': 'ros-humble-rqt-console',\n",
       "   'count': 52785,\n",
       "   'date': '2024'},\n",
       "  {'package': 'example-interfaces',\n",
       "   'distro': 'humble',\n",
       "   'name': 'ros-humble-example-interfaces',\n",
       "   'count': 52776,\n",
       "   'date': '2024'},\n",
       "  {'package': 'rqt-reconfigure',\n",
       "   'distro': 'humble',\n",
       "   'name': 'ros-humble-rqt-reconfigure',\n",
       "   'count': 52312,\n",
       "   'date': '2024'},\n",
       "  {'package': 'teleop-twist-joy',\n",
       "   'distro': 'humble',\n",
       "   'name': 'ros-humble-teleop-twist-joy',\n",
       "   'count': 51997,\n",
       "   'date': '2024'},\n",
       "  {'package': 'rqt-gui-cpp',\n",
       "   'distro': 'humble',\n",
       "   'name': 'ros-humble-rqt-gui-cpp',\n",
       "   'count': 51977,\n",
       "   'date': '2024'},\n",
       "  {'package': 'rqt-graph',\n",
       "   'distro': 'humble',\n",
       "   'name': 'ros-humble-rqt-graph',\n",
       "   'count': 51627,\n",
       "   'date': '2024'},\n",
       "  {'package': 'qt-dotgraph',\n",
       "   'distro': 'humble',\n",
       "   'name': 'ros-humble-qt-dotgraph',\n",
       "   'count': 51326,\n",
       "   'date': '2024'},\n",
       "  {'package': 'rqt-topic',\n",
       "   'distro': 'humble',\n",
       "   'name': 'ros-humble-rqt-topic',\n",
       "   'count': 51297,\n",
       "   'date': '2024'},\n",
       "  {'package': 'rqt-plot',\n",
       "   'distro': 'humble',\n",
       "   'name': 'ros-humble-rqt-plot',\n",
       "   'count': 51060,\n",
       "   'date': '2024'},\n",
       "  {'package': 'dummy-robot-bringup',\n",
       "   'distro': 'humble',\n",
       "   'name': 'ros-humble-dummy-robot-bringup',\n",
       "   'count': 50965,\n",
       "   'date': '2024'},\n",
       "  {'package': 'desktop',\n",
       "   'distro': 'humble',\n",
       "   'name': 'ros-humble-desktop',\n",
       "   'count': 50850,\n",
       "   'date': '2024'},\n",
       "  {'package': '',\n",
       "   'distro': 'bloom',\n",
       "   'name': 'python3-bloom',\n",
       "   'count': 50686,\n",
       "   'date': '2024'},\n",
       "  {'package': 'rqt-srv',\n",
       "   'distro': 'humble',\n",
       "   'name': 'ros-humble-rqt-srv',\n",
       "   'count': 50109,\n",
       "   'date': '2024'},\n",
       "  {'package': 'rqt-bag',\n",
       "   'distro': 'humble',\n",
       "   'name': 'ros-humble-rqt-bag',\n",
       "   'count': 49837,\n",
       "   'date': '2024'},\n",
       "  {'package': 'rqt-shell',\n",
       "   'distro': 'humble',\n",
       "   'name': 'ros-humble-rqt-shell',\n",
       "   'count': 49687,\n",
       "   'date': '2024'},\n",
       "  {'package': 'rqt-action',\n",
       "   'distro': 'humble',\n",
       "   'name': 'ros-humble-rqt-action',\n",
       "   'count': 49611,\n",
       "   'date': '2024'},\n",
       "  {'package': 'rqt-bag-plugins',\n",
       "   'distro': 'humble',\n",
       "   'name': 'ros-humble-rqt-bag-plugins',\n",
       "   'count': 49445,\n",
       "   'date': '2024'},\n",
       "  {'package': 'rqt-msg',\n",
       "   'distro': 'humble',\n",
       "   'name': 'ros-humble-rqt-msg',\n",
       "   'count': 49417,\n",
       "   'date': '2024'},\n",
       "  {'package': 'rqt-service-caller',\n",
       "   'distro': 'humble',\n",
       "   'name': 'ros-humble-rqt-service-caller',\n",
       "   'count': 49371,\n",
       "   'date': '2024'},\n",
       "  {'package': 'demo-nodes-cpp',\n",
       "   'distro': 'humble',\n",
       "   'name': 'ros-humble-demo-nodes-cpp',\n",
       "   'count': 49071,\n",
       "   'date': '2024'},\n",
       "  {'package': 'teleop-twist-keyboard',\n",
       "   'distro': 'humble',\n",
       "   'name': 'ros-humble-teleop-twist-keyboard',\n",
       "   'count': 48943,\n",
       "   'date': '2024'},\n",
       "  {'package': 'rqt-py-console',\n",
       "   'distro': 'humble',\n",
       "   'name': 'ros-humble-rqt-py-console',\n",
       "   'count': 48861,\n",
       "   'date': '2024'},\n",
       "  {'package': 'logging-demo',\n",
       "   'distro': 'humble',\n",
       "   'name': 'ros-humble-logging-demo',\n",
       "   'count': 48663,\n",
       "   'date': '2024'},\n",
       "  {'package': 'examples-rclpy-minimal-subscriber',\n",
       "   'distro': 'humble',\n",
       "   'name': 'ros-humble-examples-rclpy-minimal-subscriber',\n",
       "   'count': 48531,\n",
       "   'date': '2024'},\n",
       "  {'package': 'rqt-publisher',\n",
       "   'distro': 'humble',\n",
       "   'name': 'ros-humble-rqt-publisher',\n",
       "   'count': 48520,\n",
       "   'date': '2024'},\n",
       "  {'package': 'demo-nodes-py',\n",
       "   'distro': 'humble',\n",
       "   'name': 'ros-humble-demo-nodes-py',\n",
       "   'count': 48463,\n",
       "   'date': '2024'},\n",
       "  {'package': 'examples-rclpy-minimal-publisher',\n",
       "   'distro': 'humble',\n",
       "   'name': 'ros-humble-examples-rclpy-minimal-publisher',\n",
       "   'count': 48255,\n",
       "   'date': '2024'},\n",
       "  {'package': 'examples-rclpy-minimal-service',\n",
       "   'distro': 'humble',\n",
       "   'name': 'ros-humble-examples-rclpy-minimal-service',\n",
       "   'count': 48201,\n",
       "   'date': '2024'},\n",
       "  {'package': 'image-tools',\n",
       "   'distro': 'humble',\n",
       "   'name': 'ros-humble-image-tools',\n",
       "   'count': 48013,\n",
       "   'date': '2024'},\n",
       "  {'package': 'examples-rclpy-minimal-client',\n",
       "   'distro': 'humble',\n",
       "   'name': 'ros-humble-examples-rclpy-minimal-client',\n",
       "   'count': 47969,\n",
       "   'date': '2024'},\n",
       "  {'package': 'action-tutorials-interfaces',\n",
       "   'distro': 'humble',\n",
       "   'name': 'ros-humble-action-tutorials-interfaces',\n",
       "   'count': 47813,\n",
       "   'date': '2024'},\n",
       "  {'package': 'examples-rclpy-minimal-action-server',\n",
       "   'distro': 'humble',\n",
       "   'name': 'ros-humble-examples-rclpy-minimal-action-server',\n",
       "   'count': 47689,\n",
       "   'date': '2024'},\n",
       "  {'package': 'turtlesim',\n",
       "   'distro': 'humble',\n",
       "   'name': 'ros-humble-turtlesim',\n",
       "   'count': 47671,\n",
       "   'date': '2024'},\n",
       "  {'package': 'tlsf-cpp',\n",
       "   'distro': 'humble',\n",
       "   'name': 'ros-humble-tlsf-cpp',\n",
       "   'count': 47552,\n",
       "   'date': '2024'},\n",
       "  {'package': 'examples-rclcpp-minimal-client',\n",
       "   'distro': 'humble',\n",
       "   'name': 'ros-humble-examples-rclcpp-minimal-client',\n",
       "   'count': 47362,\n",
       "   'date': '2024'},\n",
       "  {'package': 'action-tutorials-cpp',\n",
       "   'distro': 'humble',\n",
       "   'name': 'ros-humble-action-tutorials-cpp',\n",
       "   'count': 47310,\n",
       "   'date': '2024'},\n",
       "  {'package': 'examples-rclpy-minimal-action-client',\n",
       "   'distro': 'humble',\n",
       "   'name': 'ros-humble-examples-rclpy-minimal-action-client',\n",
       "   'count': 47304,\n",
       "   'date': '2024'},\n",
       "  {'package': 'examples-rclcpp-minimal-publisher',\n",
       "   'distro': 'humble',\n",
       "   'name': 'ros-humble-examples-rclcpp-minimal-publisher',\n",
       "   'count': 47243,\n",
       "   'date': '2024'},\n",
       "  {'package': 'examples-rclcpp-minimal-composition',\n",
       "   'distro': 'humble',\n",
       "   'name': 'ros-humble-examples-rclcpp-minimal-composition',\n",
       "   'count': 47138,\n",
       "   'date': '2024'},\n",
       "  {'package': 'mixin',\n",
       "   'distro': 'colcon',\n",
       "   'name': 'python3-colcon-mixin',\n",
       "   'count': 47103,\n",
       "   'date': '2024'},\n",
       "  {'package': 'examples-rclcpp-minimal-action-client',\n",
       "   'distro': 'humble',\n",
       "   'name': 'ros-humble-examples-rclcpp-minimal-action-client',\n",
       "   'count': 47065,\n",
       "   'date': '2024'},\n",
       "  {'package': 'examples-rclpy-executors',\n",
       "   'distro': 'humble',\n",
       "   'name': 'ros-humble-examples-rclpy-executors',\n",
       "   'count': 47042,\n",
       "   'date': '2024'},\n",
       "  {'package': 'tlsf',\n",
       "   'distro': 'humble',\n",
       "   'name': 'ros-humble-tlsf',\n",
       "   'count': 47039,\n",
       "   'date': '2024'},\n",
       "  {'package': 'composition',\n",
       "   'distro': 'humble',\n",
       "   'name': 'ros-humble-composition',\n",
       "   'count': 46946,\n",
       "   'date': '2024'},\n",
       "  {'package': 'examples-rclcpp-minimal-action-server',\n",
       "   'distro': 'humble',\n",
       "   'name': 'ros-humble-examples-rclcpp-minimal-action-server',\n",
       "   'count': 46942,\n",
       "   'date': '2024'},\n",
       "  {'package': 'depthimage-to-laserscan',\n",
       "   'distro': 'humble',\n",
       "   'name': 'ros-humble-depthimage-to-laserscan',\n",
       "   'count': 46900,\n",
       "   'date': '2024'},\n",
       "  {'package': 'pendulum-control',\n",
       "   'distro': 'humble',\n",
       "   'name': 'ros-humble-pendulum-control',\n",
       "   'count': 46830,\n",
       "   'date': '2024'},\n",
       "  {'package': 'dummy-sensors',\n",
       "   'distro': 'humble',\n",
       "   'name': 'ros-humble-dummy-sensors',\n",
       "   'count': 46819,\n",
       "   'date': '2024'},\n",
       "  {'package': 'topic-monitor',\n",
       "   'distro': 'humble',\n",
       "   'name': 'ros-humble-topic-monitor',\n",
       "   'count': 46772,\n",
       "   'date': '2024'},\n",
       "  {'package': 'lifecycle',\n",
       "   'distro': 'humble',\n",
       "   'name': 'ros-humble-lifecycle',\n",
       "   'count': 46723,\n",
       "   'date': '2024'},\n",
       "  {'package': 'action-tutorials-py',\n",
       "   'distro': 'humble',\n",
       "   'name': 'ros-humble-action-tutorials-py',\n",
       "   'count': 46722,\n",
       "   'date': '2024'},\n",
       "  {'package': 'examples-rclcpp-minimal-service',\n",
       "   'distro': 'humble',\n",
       "   'name': 'ros-humble-examples-rclcpp-minimal-service',\n",
       "   'count': 46698,\n",
       "   'date': '2024'},\n",
       "  {'package': 'examples-rclcpp-multithreaded-executor',\n",
       "   'distro': 'humble',\n",
       "   'name': 'ros-humble-examples-rclcpp-multithreaded-executor',\n",
       "   'count': 46697,\n",
       "   'date': '2024'},\n",
       "  {'package': 'examples-rclcpp-minimal-subscriber',\n",
       "   'distro': 'humble',\n",
       "   'name': 'ros-humble-examples-rclcpp-minimal-subscriber',\n",
       "   'count': 46668,\n",
       "   'date': '2024'},\n",
       "  {'package': 'intra-process-demo',\n",
       "   'distro': 'humble',\n",
       "   'name': 'ros-humble-intra-process-demo',\n",
       "   'count': 46635,\n",
       "   'date': '2024'},\n",
       "  {'package': 'pendulum-msgs',\n",
       "   'distro': 'humble',\n",
       "   'name': 'ros-humble-pendulum-msgs',\n",
       "   'count': 46576,\n",
       "   'date': '2024'},\n",
       "  {'package': 'rttest',\n",
       "   'distro': 'humble',\n",
       "   'name': 'ros-humble-rttest',\n",
       "   'count': 46568,\n",
       "   'date': '2024'},\n",
       "  {'package': 'dummy-map-server',\n",
       "   'distro': 'humble',\n",
       "   'name': 'ros-humble-dummy-map-server',\n",
       "   'count': 46547,\n",
       "   'date': '2024'},\n",
       "  {'package': 'examples-rclcpp-minimal-timer',\n",
       "   'distro': 'humble',\n",
       "   'name': 'ros-humble-examples-rclcpp-minimal-timer',\n",
       "   'count': 46513,\n",
       "   'date': '2024'},\n",
       "  {'package': 'demo-nodes-cpp-native',\n",
       "   'distro': 'humble',\n",
       "   'name': 'ros-humble-demo-nodes-cpp-native',\n",
       "   'count': 46493,\n",
       "   'date': '2024'},\n",
       "  {'package': 'quality-of-service-demo-py',\n",
       "   'distro': 'humble',\n",
       "   'name': 'ros-humble-quality-of-service-demo-py',\n",
       "   'count': 46396,\n",
       "   'date': '2024'},\n",
       "  {'package': 'quality-of-service-demo-cpp',\n",
       "   'distro': 'humble',\n",
       "   'name': 'ros-humble-quality-of-service-demo-cpp',\n",
       "   'count': 46386,\n",
       "   'date': '2024'},\n",
       "  {'package': 'cv-bridge',\n",
       "   'distro': 'noetic',\n",
       "   'name': 'ros-noetic-cv-bridge',\n",
       "   'count': 45513,\n",
       "   'date': '2024'},\n",
       "  {'package': 'tools',\n",
       "   'distro': 'catkin',\n",
       "   'name': 'python3-catkin-tools',\n",
       "   'count': 44612,\n",
       "   'date': '2024'},\n",
       "  {'package': 'pycommon',\n",
       "   'distro': 'osrf',\n",
       "   'name': 'python3-osrf-pycommon',\n",
       "   'count': 44611,\n",
       "   'date': '2024'},\n",
       "  {'package': 'diagnostic-updater',\n",
       "   'distro': 'humble',\n",
       "   'name': 'ros-humble-diagnostic-updater',\n",
       "   'count': 44147,\n",
       "   'date': '2024'},\n",
       "  {'package': 'xacro',\n",
       "   'distro': 'humble',\n",
       "   'name': 'ros-humble-xacro',\n",
       "   'count': 44121,\n",
       "   'date': '2024'},\n",
       "  {'package': 'tf2-msgs',\n",
       "   'distro': 'noetic',\n",
       "   'name': 'ros-noetic-tf2-msgs',\n",
       "   'count': 44059,\n",
       "   'date': '2024'},\n",
       "  {'package': 'tools',\n",
       "   'distro': 'dev',\n",
       "   'name': 'ros-dev-tools',\n",
       "   'count': 43811,\n",
       "   'date': '2024'},\n",
       "  {'package': 'installed-package-information',\n",
       "   'distro': 'colcon',\n",
       "   'name': 'python3-colcon-installed-package-information',\n",
       "   'count': 43144,\n",
       "   'date': '2024'},\n",
       "  {'package': 'tf',\n",
       "   'distro': 'noetic',\n",
       "   'name': 'ros-noetic-tf',\n",
       "   'count': 42888,\n",
       "   'date': '2024'},\n",
       "  {'package': 'essential',\n",
       "   'distro': 'build',\n",
       "   'name': 'ros-build-essential',\n",
       "   'count': 42843,\n",
       "   'date': '2024'},\n",
       "  {'package': 'tf2-ros',\n",
       "   'distro': 'noetic',\n",
       "   'name': 'ros-noetic-tf2-ros',\n",
       "   'count': 42626,\n",
       "   'date': '2024'},\n",
       "  {'package': 'tf2-py',\n",
       "   'distro': 'noetic',\n",
       "   'name': 'ros-noetic-tf2-py',\n",
       "   'count': 42475,\n",
       "   'date': '2024'},\n",
       "  {'package': 'tf2',\n",
       "   'distro': 'noetic',\n",
       "   'name': 'ros-noetic-tf2',\n",
       "   'count': 42439,\n",
       "   'date': '2024'},\n",
       "  {'package': 'interactive-markers',\n",
       "   'distro': 'noetic',\n",
       "   'name': 'ros-noetic-interactive-markers',\n",
       "   'count': 41125,\n",
       "   'date': '2024'},\n",
       "  {'package': 'diagnostic-updater',\n",
       "   'distro': 'noetic',\n",
       "   'name': 'ros-noetic-diagnostic-updater',\n",
       "   'count': 40035,\n",
       "   'date': '2024'},\n",
       "  {'package': 'override-check',\n",
       "   'distro': 'colcon',\n",
       "   'name': 'python3-colcon-override-check',\n",
       "   'count': 39240,\n",
       "   'date': '2024'},\n",
       "  {'package': 'image-transport',\n",
       "   'distro': 'noetic',\n",
       "   'name': 'ros-noetic-image-transport',\n",
       "   'count': 39154,\n",
       "   'date': '2024'},\n",
       "  {'package': 'tf-conversions',\n",
       "   'distro': 'noetic',\n",
       "   'name': 'ros-noetic-tf-conversions',\n",
       "   'count': 39088,\n",
       "   'date': '2024'},\n",
       "  {'package': 'ament-package',\n",
       "   'distro': 'humble',\n",
       "   'name': 'ros-humble-ament-package',\n",
       "   'count': 38373,\n",
       "   'date': '2024'},\n",
       "  {'package': 'rviz',\n",
       "   'distro': 'noetic',\n",
       "   'name': 'ros-noetic-rviz',\n",
       "   'count': 38206,\n",
       "   'date': '2024'},\n",
       "  {'package': 'kdl-conversions',\n",
       "   'distro': 'noetic',\n",
       "   'name': 'ros-noetic-kdl-conversions',\n",
       "   'count': 38054,\n",
       "   'date': '2024'},\n",
       "  {'package': 'tf2-geometry-msgs',\n",
       "   'distro': 'noetic',\n",
       "   'name': 'ros-noetic-tf2-geometry-msgs',\n",
       "   'count': 37328,\n",
       "   'date': '2024'},\n",
       "  {'package': 'urdf',\n",
       "   'distro': 'noetic',\n",
       "   'name': 'ros-noetic-urdf',\n",
       "   'count': 36310,\n",
       "   'date': '2024'},\n",
       "  {'package': 'catkin',\n",
       "   'distro': 'noetic',\n",
       "   'name': 'ros-noetic-catkin',\n",
       "   'count': 36044,\n",
       "   'date': '2024'},\n",
       "  {'package': 'python-qt-binding',\n",
       "   'distro': 'noetic',\n",
       "   'name': 'ros-noetic-python-qt-binding',\n",
       "   'count': 34805,\n",
       "   'date': '2024'},\n",
       "  {'package': 'resource-retriever',\n",
       "   'distro': 'noetic',\n",
       "   'name': 'ros-noetic-resource-retriever',\n",
       "   'count': 34485,\n",
       "   'date': '2024'},\n",
       "  {'package': 'actionlib',\n",
       "   'distro': 'noetic',\n",
       "   'name': 'ros-noetic-actionlib',\n",
       "   'count': 34240,\n",
       "   'date': '2024'},\n",
       "  {'package': 'laser-geometry',\n",
       "   'distro': 'noetic',\n",
       "   'name': 'ros-noetic-laser-geometry',\n",
       "   'count': 34005,\n",
       "   'date': '2024'},\n",
       "  {'package': 'map-msgs',\n",
       "   'distro': 'noetic',\n",
       "   'name': 'ros-noetic-map-msgs',\n",
       "   'count': 33945,\n",
       "   'date': '2024'},\n",
       "  {'package': 'generator',\n",
       "   'distro': 'rosinstall',\n",
       "   'name': 'python3-rosinstall-generator',\n",
       "   'count': 33733,\n",
       "   'date': '2024'},\n",
       "  {'package': 'std-msgs',\n",
       "   'distro': 'noetic',\n",
       "   'name': 'ros-noetic-std-msgs',\n",
       "   'count': 33349,\n",
       "   'date': '2024'},\n",
       "  {'package': 'rosconsole',\n",
       "   'distro': 'noetic',\n",
       "   'name': 'ros-noetic-rosconsole',\n",
       "   'count': 33134,\n",
       "   'date': '2024'},\n",
       "  {'package': 'rosgraph-msgs',\n",
       "   'distro': 'noetic',\n",
       "   'name': 'ros-noetic-rosgraph-msgs',\n",
       "   'count': 32975,\n",
       "   'date': '2024'},\n",
       "  {'package': 'xacro',\n",
       "   'distro': 'noetic',\n",
       "   'name': 'ros-noetic-xacro',\n",
       "   'count': 32882,\n",
       "   'date': '2024'},\n",
       "  {'package': 'message-runtime',\n",
       "   'distro': 'noetic',\n",
       "   'name': 'ros-noetic-message-runtime',\n",
       "   'count': 32685,\n",
       "   'date': '2024'},\n",
       "  {'package': 'rosbuild',\n",
       "   'distro': 'noetic',\n",
       "   'name': 'ros-noetic-rosbuild',\n",
       "   'count': 32291,\n",
       "   'date': '2024'},\n",
       "  {'package': 'filters',\n",
       "   'distro': 'humble',\n",
       "   'name': 'ros-humble-filters',\n",
       "   'count': 32264,\n",
       "   'date': '2024'},\n",
       "  {'package': 'rostime',\n",
       "   'distro': 'noetic',\n",
       "   'name': 'ros-noetic-rostime',\n",
       "   'count': 32212,\n",
       "   'date': '2024'},\n",
       "  {'package': 'roscpp-traits',\n",
       "   'distro': 'noetic',\n",
       "   'name': 'ros-noetic-roscpp-traits',\n",
       "   'count': 32205,\n",
       "   'date': '2024'},\n",
       "  {'package': 'roscpp-serialization',\n",
       "   'distro': 'noetic',\n",
       "   'name': 'ros-noetic-roscpp-serialization',\n",
       "   'count': 32193,\n",
       "   'date': '2024'},\n",
       "  {'package': 'cpp-common',\n",
       "   'distro': 'noetic',\n",
       "   'name': 'ros-noetic-cpp-common',\n",
       "   'count': 32192,\n",
       "   'date': '2024'},\n",
       "  {'package': 'backward-ros',\n",
       "   'distro': 'humble',\n",
       "   'name': 'ros-humble-backward-ros',\n",
       "   'count': 32178,\n",
       "   'date': '2024'},\n",
       "  {'package': 'realtime-tools',\n",
       "   'distro': 'humble',\n",
       "   'name': 'ros-humble-realtime-tools',\n",
       "   'count': 31628,\n",
       "   'date': '2024'},\n",
       "  {'package': 'media-export',\n",
       "   'distro': 'noetic',\n",
       "   'name': 'ros-noetic-media-export',\n",
       "   'count': 31619,\n",
       "   'date': '2024'},\n",
       "  {'package': 'angles',\n",
       "   'distro': 'noetic',\n",
       "   'name': 'ros-noetic-angles',\n",
       "   'count': 31602,\n",
       "   'date': '2024'},\n",
       "  {'package': 'camera-calibration-parsers',\n",
       "   'distro': 'humble',\n",
       "   'name': 'ros-humble-camera-calibration-parsers',\n",
       "   'count': 31535,\n",
       "   'date': '2024'},\n",
       "  {'package': 'roscpp',\n",
       "   'distro': 'noetic',\n",
       "   'name': 'ros-noetic-roscpp',\n",
       "   'count': 31515,\n",
       "   'date': '2024'},\n",
       "  {'package': 'message-generation',\n",
       "   'distro': 'noetic',\n",
       "   'name': 'ros-noetic-message-generation',\n",
       "   'count': 31501,\n",
       "   'date': '2024'},\n",
       "  {'package': 'geometry-msgs',\n",
       "   'distro': 'noetic',\n",
       "   'name': 'ros-noetic-geometry-msgs',\n",
       "   'count': 31496,\n",
       "   'date': '2024'},\n",
       "  {'package': 'pluginlib',\n",
       "   'distro': 'noetic',\n",
       "   'name': 'ros-noetic-pluginlib',\n",
       "   'count': 31478,\n",
       "   'date': '2024'},\n",
       "  {'package': 'ros-environment',\n",
       "   'distro': 'noetic',\n",
       "   'name': 'ros-noetic-ros-environment',\n",
       "   'count': 31310,\n",
       "   'date': '2024'},\n",
       "  {'package': 'genpy',\n",
       "   'distro': 'noetic',\n",
       "   'name': 'ros-noetic-genpy',\n",
       "   'count': 31287,\n",
       "   'date': '2024'},\n",
       "  {'package': 'genmsg',\n",
       "   'distro': 'noetic',\n",
       "   'name': 'ros-noetic-genmsg',\n",
       "   'count': 31285,\n",
       "   'date': '2024'},\n",
       "  {'package': 'genlisp',\n",
       "   'distro': 'noetic',\n",
       "   'name': 'ros-noetic-genlisp',\n",
       "   'count': 31216,\n",
       "   'date': '2024'},\n",
       "  {'package': 'gencpp',\n",
       "   'distro': 'noetic',\n",
       "   'name': 'ros-noetic-gencpp',\n",
       "   'count': 31213,\n",
       "   'date': '2024'},\n",
       "  {'package': 'gennodejs',\n",
       "   'distro': 'noetic',\n",
       "   'name': 'ros-noetic-gennodejs',\n",
       "   'count': 31213,\n",
       "   'date': '2024'},\n",
       "  {'package': 'geneus',\n",
       "   'distro': 'noetic',\n",
       "   'name': 'ros-noetic-geneus',\n",
       "   'count': 31201,\n",
       "   'date': '2024'},\n",
       "  {'package': 'camera-info-manager',\n",
       "   'distro': 'humble',\n",
       "   'name': 'ros-humble-camera-info-manager',\n",
       "   'count': 31152,\n",
       "   'date': '2024'},\n",
       "  {'package': 'sensor-msgs',\n",
       "   'distro': 'noetic',\n",
       "   'name': 'ros-noetic-sensor-msgs',\n",
       "   'count': 31076,\n",
       "   'date': '2024'},\n",
       "  {'package': 'tf2-eigen',\n",
       "   'distro': 'noetic',\n",
       "   'name': 'ros-noetic-tf2-eigen',\n",
       "   'count': 31056,\n",
       "   'date': '2024'},\n",
       "  {'package': 'xmlrpcpp',\n",
       "   'distro': 'noetic',\n",
       "   'name': 'ros-noetic-xmlrpcpp',\n",
       "   'count': 31047,\n",
       "   'date': '2024'},\n",
       "  {'package': 'control-msgs',\n",
       "   'distro': 'humble',\n",
       "   'name': 'ros-humble-control-msgs',\n",
       "   'count': 30978,\n",
       "   'date': '2024'},\n",
       "  {'package': 'std-srvs',\n",
       "   'distro': 'noetic',\n",
       "   'name': 'ros-noetic-std-srvs',\n",
       "   'count': 30934,\n",
       "   'date': '2024'},\n",
       "  {'package': 'rospy',\n",
       "   'distro': 'noetic',\n",
       "   'name': 'ros-noetic-rospy',\n",
       "   'count': 30738,\n",
       "   'date': '2024'},\n",
       "  {'package': 'actionlib-msgs',\n",
       "   'distro': 'noetic',\n",
       "   'name': 'ros-noetic-actionlib-msgs',\n",
       "   'count': 30727,\n",
       "   'date': '2024'},\n",
       "  {'package': 'nodelet',\n",
       "   'distro': 'noetic',\n",
       "   'name': 'ros-noetic-nodelet',\n",
       "   'count': 30701,\n",
       "   'date': '2024'},\n",
       "  {'package': 'roslib',\n",
       "   'distro': 'noetic',\n",
       "   'name': 'ros-noetic-roslib',\n",
       "   'count': 30505,\n",
       "   'date': '2024'},\n",
       "  {'package': 'nav2-msgs',\n",
       "   'distro': 'humble',\n",
       "   'name': 'ros-humble-nav2-msgs',\n",
       "   'count': 30503,\n",
       "   'date': '2024'},\n",
       "  {'package': 'rmw-cyclonedds-cpp',\n",
       "   'distro': 'humble',\n",
       "   'name': 'ros-humble-rmw-cyclonedds-cpp',\n",
       "   'count': 30490,\n",
       "   'date': '2024'},\n",
       "  {'package': 'rospack',\n",
       "   'distro': 'noetic',\n",
       "   'name': 'ros-noetic-rospack',\n",
       "   'count': 30485,\n",
       "   'date': '2024'},\n",
       "  {'package': 'roslaunch',\n",
       "   'distro': 'noetic',\n",
       "   'name': 'ros-noetic-roslaunch',\n",
       "   'count': 30323,\n",
       "   'date': '2024'},\n",
       "  {'package': 'tf2-kdl',\n",
       "   'distro': 'noetic',\n",
       "   'name': 'ros-noetic-tf2-kdl',\n",
       "   'count': 30182,\n",
       "   'date': '2024'},\n",
       "  {'package': 'magic-enum',\n",
       "   'distro': 'humble',\n",
       "   'name': 'ros-humble-magic-enum',\n",
       "   'count': 30136,\n",
       "   'date': '2024'},\n",
       "  {'package': 'rostest',\n",
       "   'distro': 'noetic',\n",
       "   'name': 'ros-noetic-rostest',\n",
       "   'count': 29960,\n",
       "   'date': '2024'},\n",
       "  {'package': 'dynamic-reconfigure',\n",
       "   'distro': 'noetic',\n",
       "   'name': 'ros-noetic-dynamic-reconfigure',\n",
       "   'count': 29957,\n",
       "   'date': '2024'},\n",
       "  {'package': 'eigen-conversions',\n",
       "   'distro': 'noetic',\n",
       "   'name': 'ros-noetic-eigen-conversions',\n",
       "   'count': 29955,\n",
       "   'date': '2024'},\n",
       "  {'package': 'robot-state-publisher',\n",
       "   'distro': 'noetic',\n",
       "   'name': 'ros-noetic-robot-state-publisher',\n",
       "   'count': 29900,\n",
       "   'date': '2024'},\n",
       "  {'package': 'controller-manager',\n",
       "   'distro': 'humble',\n",
       "   'name': 'ros-humble-controller-manager',\n",
       "   'count': 29775,\n",
       "   'date': '2024'},\n",
       "  {'package': 'hardware-interface',\n",
       "   'distro': 'humble',\n",
       "   'name': 'ros-humble-hardware-interface',\n",
       "   'count': 29601,\n",
       "   'date': '2024'},\n",
       "  {'package': 'rosout',\n",
       "   'distro': 'noetic',\n",
       "   'name': 'ros-noetic-rosout',\n",
       "   'count': 29541,\n",
       "   'date': '2024'},\n",
       "  {'package': 'rosbag',\n",
       "   'distro': 'noetic',\n",
       "   'name': 'ros-noetic-rosbag',\n",
       "   'count': 29511,\n",
       "   'date': '2024'},\n",
       "  {'package': 'rosunit',\n",
       "   'distro': 'noetic',\n",
       "   'name': 'ros-noetic-rosunit',\n",
       "   'count': 29313,\n",
       "   'date': '2024'},\n",
       "  {'package': 'controller-interface',\n",
       "   'distro': 'humble',\n",
       "   'name': 'ros-humble-controller-interface',\n",
       "   'count': 29238,\n",
       "   'date': '2024'},\n",
       "  {'package': 'rosbag-storage',\n",
       "   'distro': 'noetic',\n",
       "   'name': 'ros-noetic-rosbag-storage',\n",
       "   'count': 29184,\n",
       "   'date': '2024'},\n",
       "  {'package': 'nav-msgs',\n",
       "   'distro': 'noetic',\n",
       "   'name': 'ros-noetic-nav-msgs',\n",
       "   'count': 29178,\n",
       "   'date': '2024'},\n",
       "  {'package': 'rosgraph',\n",
       "   'distro': 'noetic',\n",
       "   'name': 'ros-noetic-rosgraph',\n",
       "   'count': 29122,\n",
       "   'date': '2024'},\n",
       "  {'package': 'generate-parameter-library',\n",
       "   'distro': 'humble',\n",
       "   'name': 'ros-humble-generate-parameter-library',\n",
       "   'count': 29080,\n",
       "   'date': '2024'},\n",
       "  {'package': 'rostopic',\n",
       "   'distro': 'noetic',\n",
       "   'name': 'ros-noetic-rostopic',\n",
       "   'count': 29064,\n",
       "   'date': '2024'},\n",
       "  {'package': 'kdl-parser',\n",
       "   'distro': 'noetic',\n",
       "   'name': 'ros-noetic-kdl-parser',\n",
       "   'count': 29038,\n",
       "   'date': '2024'},\n",
       "  {'package': 'message-filters',\n",
       "   'distro': 'noetic',\n",
       "   'name': 'ros-noetic-message-filters',\n",
       "   'count': 29027,\n",
       "   'date': '2024'},\n",
       "  {'package': 'rosmsg',\n",
       "   'distro': 'noetic',\n",
       "   'name': 'ros-noetic-rosmsg',\n",
       "   'count': 29026,\n",
       "   'date': '2024'},\n",
       "  {'package': 'class-loader',\n",
       "   'distro': 'noetic',\n",
       "   'name': 'ros-noetic-class-loader',\n",
       "   'count': 28992,\n",
       "   'date': '2024'},\n",
       "  {'package': 'visualization-msgs',\n",
       "   'distro': 'noetic',\n",
       "   'name': 'ros-noetic-visualization-msgs',\n",
       "   'count': 28967,\n",
       "   'date': '2024'},\n",
       "  {'package': 'nav2-common',\n",
       "   'distro': 'humble',\n",
       "   'name': 'ros-humble-nav2-common',\n",
       "   'count': 28958,\n",
       "   'date': '2024'},\n",
       "  {'package': 'rosservice',\n",
       "   'distro': 'noetic',\n",
       "   'name': 'ros-noetic-rosservice',\n",
       "   'count': 28939,\n",
       "   'date': '2024'},\n",
       "  {'package': 'nav2-util',\n",
       "   'distro': 'humble',\n",
       "   'name': 'ros-humble-nav2-util',\n",
       "   'count': 28801,\n",
       "   'date': '2024'},\n",
       "  {'package': 'compressed-image-transport',\n",
       "   'distro': 'humble',\n",
       "   'name': 'ros-humble-compressed-image-transport',\n",
       "   'count': 28751,\n",
       "   'date': '2024'},\n",
       "  {'package': 'topic-tools',\n",
       "   'distro': 'noetic',\n",
       "   'name': 'ros-noetic-topic-tools',\n",
       "   'count': 28713,\n",
       "   'date': '2024'},\n",
       "  {'package': 'rosmaster',\n",
       "   'distro': 'noetic',\n",
       "   'name': 'ros-noetic-rosmaster',\n",
       "   'count': 28702,\n",
       "   'date': '2024'},\n",
       "  {'package': 'rosparam',\n",
       "   'distro': 'noetic',\n",
       "   'name': 'ros-noetic-rosparam',\n",
       "   'count': 28702,\n",
       "   'date': '2024'},\n",
       "  {'package': 'rosclean',\n",
       "   'distro': 'noetic',\n",
       "   'name': 'ros-noetic-rosclean',\n",
       "   'count': 28695,\n",
       "   'date': '2024'},\n",
       "  {'package': 'roslz4',\n",
       "   'distro': 'noetic',\n",
       "   'name': 'ros-noetic-roslz4',\n",
       "   'count': 28687,\n",
       "   'date': '2024'},\n",
       "  {'package': 'rosnode',\n",
       "   'distro': 'noetic',\n",
       "   'name': 'ros-noetic-rosnode',\n",
       "   'count': 28680,\n",
       "   'date': '2024'},\n",
       "  {'package': 'iceoryx-hoofs',\n",
       "   'distro': 'humble',\n",
       "   'name': 'ros-humble-iceoryx-hoofs',\n",
       "   'count': 28678,\n",
       "   'date': '2024'},\n",
       "  {'package': 'iceoryx-binding-c',\n",
       "   'distro': 'humble',\n",
       "   'name': 'ros-humble-iceoryx-binding-c',\n",
       "   'count': 28637,\n",
       "   'date': '2024'},\n",
       "  {'package': 'rsl',\n",
       "   'distro': 'humble',\n",
       "   'name': 'ros-humble-rsl',\n",
       "   'count': 28598,\n",
       "   'date': '2024'},\n",
       "  {'package': 'roswtf',\n",
       "   'distro': 'noetic',\n",
       "   'name': 'ros-noetic-roswtf',\n",
       "   'count': 28581,\n",
       "   'date': '2024'},\n",
       "  {'package': 'compressed-image-transport',\n",
       "   'distro': 'noetic',\n",
       "   'name': 'ros-noetic-compressed-image-transport',\n",
       "   'count': 28477,\n",
       "   'date': '2024'},\n",
       "  {'package': 'tl-expected',\n",
       "   'distro': 'humble',\n",
       "   'name': 'ros-humble-tl-expected',\n",
       "   'count': 28444,\n",
       "   'date': '2024'},\n",
       "  {'package': 'parameter-traits',\n",
       "   'distro': 'humble',\n",
       "   'name': 'ros-humble-parameter-traits',\n",
       "   'count': 28439,\n",
       "   'date': '2024'},\n",
       "  {'package': 'controller-manager-msgs',\n",
       "   'distro': 'humble',\n",
       "   'name': 'ros-humble-controller-manager-msgs',\n",
       "   'count': 28426,\n",
       "   'date': '2024'},\n",
       "  {'package': 'compressed-depth-image-transport',\n",
       "   'distro': 'noetic',\n",
       "   'name': 'ros-noetic-compressed-depth-image-transport',\n",
       "   'count': 28366,\n",
       "   'date': '2024'},\n",
       "  {'package': 'iceoryx-posh',\n",
       "   'distro': 'humble',\n",
       "   'name': 'ros-humble-iceoryx-posh',\n",
       "   'count': 28294,\n",
       "   'date': '2024'},\n",
       "  {'package': 'bondcpp',\n",
       "   'distro': 'noetic',\n",
       "   'name': 'ros-noetic-bondcpp',\n",
       "   'count': 28288,\n",
       "   'date': '2024'},\n",
       "  {'package': 'cyclonedds',\n",
       "   'distro': 'humble',\n",
       "   'name': 'ros-humble-cyclonedds',\n",
       "   'count': 28267,\n",
       "   'date': '2024'},\n",
       "  {'package': 'bond',\n",
       "   'distro': 'noetic',\n",
       "   'name': 'ros-noetic-bond',\n",
       "   'count': 28262,\n",
       "   'date': '2024'},\n",
       "  {'package': 'nodelet-topic-tools',\n",
       "   'distro': 'noetic',\n",
       "   'name': 'ros-noetic-nodelet-topic-tools',\n",
       "   'count': 28232,\n",
       "   'date': '2024'},\n",
       "  {'package': 'ros2-control-test-assets',\n",
       "   'distro': 'humble',\n",
       "   'name': 'ros-humble-ros2-control-test-assets',\n",
       "   'count': 28081,\n",
       "   'date': '2024'},\n",
       "  {'package': 'bondcpp',\n",
       "   'distro': 'humble',\n",
       "   'name': 'ros-humble-bondcpp',\n",
       "   'count': 27900,\n",
       "   'date': '2024'},\n",
       "  {'package': 'tcb-span',\n",
       "   'distro': 'humble',\n",
       "   'name': 'ros-humble-tcb-span',\n",
       "   'count': 27882,\n",
       "   'date': '2024'},\n",
       "  {'package': 'theora-image-transport',\n",
       "   'distro': 'noetic',\n",
       "   'name': 'ros-noetic-theora-image-transport',\n",
       "   'count': 27801,\n",
       "   'date': '2024'},\n",
       "  {'package': 'joint-state-publisher',\n",
       "   'distro': 'humble',\n",
       "   'name': 'ros-humble-joint-state-publisher',\n",
       "   'count': 27796,\n",
       "   'date': '2024'},\n",
       "  {'package': 'generate-parameter-library-py',\n",
       "   'distro': 'humble',\n",
       "   'name': 'ros-humble-generate-parameter-library-py',\n",
       "   'count': 27667,\n",
       "   'date': '2024'},\n",
       "  {'package': 'pcl-ros',\n",
       "   'distro': 'noetic',\n",
       "   'name': 'ros-noetic-pcl-ros',\n",
       "   'count': 27595,\n",
       "   'date': '2024'},\n",
       "  {'package': 'bond',\n",
       "   'distro': 'humble',\n",
       "   'name': 'ros-humble-bond',\n",
       "   'count': 27535,\n",
       "   'date': '2024'},\n",
       "  {'package': 'smclib',\n",
       "   'distro': 'humble',\n",
       "   'name': 'ros-humble-smclib',\n",
       "   'count': 27523,\n",
       "   'date': '2024'},\n",
       "  {'package': 'behaviortree-cpp-v3',\n",
       "   'distro': 'humble',\n",
       "   'name': 'ros-humble-behaviortree-cpp-v3',\n",
       "   'count': 27456,\n",
       "   'date': '2024'},\n",
       "  {'package': 'compressed-depth-image-transport',\n",
       "   'distro': 'humble',\n",
       "   'name': 'ros-humble-compressed-depth-image-transport',\n",
       "   'count': 27447,\n",
       "   'date': '2024'},\n",
       "  {'package': 'rosconsole-bridge',\n",
       "   'distro': 'noetic',\n",
       "   'name': 'ros-noetic-rosconsole-bridge',\n",
       "   'count': 27406,\n",
       "   'date': '2024'},\n",
       "  {'package': 'image-transport-plugins',\n",
       "   'distro': 'humble',\n",
       "   'name': 'ros-humble-image-transport-plugins',\n",
       "   'count': 27370,\n",
       "   'date': '2024'},\n",
       "  {'package': 'theora-image-transport',\n",
       "   'distro': 'humble',\n",
       "   'name': 'ros-humble-theora-image-transport',\n",
       "   'count': 27272,\n",
       "   'date': '2024'},\n",
       "  {'package': 'camera-calibration-parsers',\n",
       "   'distro': 'noetic',\n",
       "   'name': 'ros-noetic-camera-calibration-parsers',\n",
       "   'count': 27164,\n",
       "   'date': '2024'},\n",
       "  {'package': 'trajectory-msgs',\n",
       "   'distro': 'noetic',\n",
       "   'name': 'ros-noetic-trajectory-msgs',\n",
       "   'count': 27078,\n",
       "   'date': '2024'},\n",
       "  {'package': 'pcl-msgs',\n",
       "   'distro': 'noetic',\n",
       "   'name': 'ros-noetic-pcl-msgs',\n",
       "   'count': 26977,\n",
       "   'date': '2024'},\n",
       "  {'package': 'image-transport-plugins',\n",
       "   'distro': 'noetic',\n",
       "   'name': 'ros-noetic-image-transport-plugins',\n",
       "   'count': 26971,\n",
       "   'date': '2024'},\n",
       "  {'package': 'camera-info-manager',\n",
       "   'distro': 'noetic',\n",
       "   'name': 'ros-noetic-camera-info-manager',\n",
       "   'count': 26916,\n",
       "   'date': '2024'},\n",
       "  {'package': 'laser-filters',\n",
       "   'distro': 'noetic',\n",
       "   'name': 'ros-noetic-laser-filters',\n",
       "   'count': 26728,\n",
       "   'date': '2024'},\n",
       "  {'package': 'smclib',\n",
       "   'distro': 'noetic',\n",
       "   'name': 'ros-noetic-smclib',\n",
       "   'count': 26564,\n",
       "   'date': '2024'},\n",
       "  {'package': 'ompl',\n",
       "   'distro': 'humble',\n",
       "   'name': 'ros-humble-ompl',\n",
       "   'count': 26452,\n",
       "   'date': '2024'},\n",
       "  {'package': 'diagnostic-msgs',\n",
       "   'distro': 'noetic',\n",
       "   'name': 'ros-noetic-diagnostic-msgs',\n",
       "   'count': 26394,\n",
       "   'date': '2024'},\n",
       "  {'package': 'control-msgs',\n",
       "   'distro': 'noetic',\n",
       "   'name': 'ros-noetic-control-msgs',\n",
       "   'count': 26253,\n",
       "   'date': '2024'},\n",
       "  {'package': 'pcl-conversions',\n",
       "   'distro': 'noetic',\n",
       "   'name': 'ros-noetic-pcl-conversions',\n",
       "   'count': 26216,\n",
       "   'date': '2024'},\n",
       "  {'package': 'joint-state-publisher',\n",
       "   'distro': 'noetic',\n",
       "   'name': 'ros-noetic-joint-state-publisher',\n",
       "   'count': 25820,\n",
       "   'date': '2024'},\n",
       "  {'package': 'rqt-gui',\n",
       "   'distro': 'noetic',\n",
       "   'name': 'ros-noetic-rqt-gui',\n",
       "   'count': 25706,\n",
       "   'date': '2024'},\n",
       "  {'package': 'desktop-full',\n",
       "   'distro': 'noetic',\n",
       "   'name': 'ros-noetic-desktop-full',\n",
       "   'count': 25609,\n",
       "   'date': '2024'},\n",
       "  {'package': 'control-toolbox',\n",
       "   'distro': 'humble',\n",
       "   'name': 'ros-humble-control-toolbox',\n",
       "   'count': 25523,\n",
       "   'date': '2024'},\n",
       "  {'package': 'qt-gui',\n",
       "   'distro': 'noetic',\n",
       "   'name': 'ros-noetic-qt-gui',\n",
       "   'count': 25420,\n",
       "   'date': '2024'},\n",
       "  {'package': 'rosbag-migration-rule',\n",
       "   'distro': 'noetic',\n",
       "   'name': 'ros-noetic-rosbag-migration-rule',\n",
       "   'count': 25380,\n",
       "   'date': '2024'},\n",
       "  {'package': 'shape-msgs',\n",
       "   'distro': 'noetic',\n",
       "   'name': 'ros-noetic-shape-msgs',\n",
       "   'count': 25354,\n",
       "   'date': '2024'},\n",
       "  {'package': 'hardware-interface',\n",
       "   'distro': 'noetic',\n",
       "   'name': 'ros-noetic-hardware-interface',\n",
       "   'count': 25084,\n",
       "   'date': '2024'},\n",
       "  {'package': 'lcov-result',\n",
       "   'distro': 'colcon',\n",
       "   'name': 'python3-colcon-lcov-result',\n",
       "   'count': 25023,\n",
       "   'date': '2024'},\n",
       "  {'package': 'controller-manager',\n",
       "   'distro': 'noetic',\n",
       "   'name': 'ros-noetic-controller-manager',\n",
       "   'count': 24944,\n",
       "   'date': '2024'},\n",
       "  {'package': 'controller-manager-msgs',\n",
       "   'distro': 'noetic',\n",
       "   'name': 'ros-noetic-controller-manager-msgs',\n",
       "   'count': 24939,\n",
       "   'date': '2024'},\n",
       "  {'package': 'nav2-costmap-2d',\n",
       "   'distro': 'humble',\n",
       "   'name': 'ros-humble-nav2-costmap-2d',\n",
       "   'count': 24903,\n",
       "   'date': '2024'},\n",
       "  {'package': 'controller-interface',\n",
       "   'distro': 'noetic',\n",
       "   'name': 'ros-noetic-controller-interface',\n",
       "   'count': 24776,\n",
       "   'date': '2024'},\n",
       "  {'package': 'laser-pipeline',\n",
       "   'distro': 'noetic',\n",
       "   'name': 'ros-noetic-laser-pipeline',\n",
       "   'count': 24725,\n",
       "   'date': '2024'},\n",
       "  {'package': 'joint-state-controller',\n",
       "   'distro': 'noetic',\n",
       "   'name': 'ros-noetic-joint-state-controller',\n",
       "   'count': 24655,\n",
       "   'date': '2024'},\n",
       "  {'package': 'nodelet-core',\n",
       "   'distro': 'noetic',\n",
       "   'name': 'ros-noetic-nodelet-core',\n",
       "   'count': 24633,\n",
       "   'date': '2024'},\n",
       "  {'package': 'ros-base',\n",
       "   'distro': 'noetic',\n",
       "   'name': 'ros-noetic-ros-base',\n",
       "   'count': 24615,\n",
       "   'date': '2024'},\n",
       "  {'package': 'perception',\n",
       "   'distro': 'noetic',\n",
       "   'name': 'ros-noetic-perception',\n",
       "   'count': 24509,\n",
       "   'date': '2024'},\n",
       "  {'package': 'nav2-voxel-grid',\n",
       "   'distro': 'humble',\n",
       "   'name': 'ros-humble-nav2-voxel-grid',\n",
       "   'count': 24404,\n",
       "   'date': '2024'},\n",
       "  {'package': 'bondpy',\n",
       "   'distro': 'noetic',\n",
       "   'name': 'ros-noetic-bondpy',\n",
       "   'count': 24356,\n",
       "   'date': '2024'},\n",
       "  {'package': 'rqt-gui-cpp',\n",
       "   'distro': 'noetic',\n",
       "   'name': 'ros-noetic-rqt-gui-cpp',\n",
       "   'count': 24248,\n",
       "   'date': '2024'},\n",
       "  {'package': 'realtime-tools',\n",
       "   'distro': 'noetic',\n",
       "   'name': 'ros-noetic-realtime-tools',\n",
       "   'count': 24121,\n",
       "   'date': '2024'},\n",
       "  {'package': 'rqt-gui-py',\n",
       "   'distro': 'noetic',\n",
       "   'name': 'ros-noetic-rqt-gui-py',\n",
       "   'count': 24056,\n",
       "   'date': '2024'},\n",
       "  {'package': 'stereo-msgs',\n",
       "   'distro': 'noetic',\n",
       "   'name': 'ros-noetic-stereo-msgs',\n",
       "   'count': 24037,\n",
       "   'date': '2024'},\n",
       "  {'package': 'forward-command-controller',\n",
       "   'distro': 'noetic',\n",
       "   'name': 'ros-noetic-forward-command-controller',\n",
       "   'count': 23989,\n",
       "   'date': '2024'},\n",
       "  {'package': 'cmake-modules',\n",
       "   'distro': 'noetic',\n",
       "   'name': 'ros-noetic-cmake-modules',\n",
       "   'count': 23859,\n",
       "   'date': '2024'},\n",
       "  {'package': 'coveragepy-result',\n",
       "   'distro': 'colcon',\n",
       "   'name': 'python3-colcon-coveragepy-result',\n",
       "   'count': 23650,\n",
       "   'date': '2024'},\n",
       "  {'package': 'joint-state-publisher-gui',\n",
       "   'distro': 'noetic',\n",
       "   'name': 'ros-noetic-joint-state-publisher-gui',\n",
       "   'count': 23534,\n",
       "   'date': '2024'},\n",
       "  {'package': 'geographic-msgs',\n",
       "   'distro': 'humble',\n",
       "   'name': 'ros-humble-geographic-msgs',\n",
       "   'count': 23480,\n",
       "   'date': '2024'},\n",
       "  {'package': 'mk',\n",
       "   'distro': 'noetic',\n",
       "   'name': 'ros-noetic-mk',\n",
       "   'count': 23446,\n",
       "   'date': '2024'},\n",
       "  {'package': 'joint-trajectory-controller',\n",
       "   'distro': 'humble',\n",
       "   'name': 'ros-humble-joint-trajectory-controller',\n",
       "   'count': 23414,\n",
       "   'date': '2024'},\n",
       "  {'package': 'ros',\n",
       "   'distro': 'noetic',\n",
       "   'name': 'ros-noetic-ros',\n",
       "   'count': 23409,\n",
       "   'date': '2024'},\n",
       "  {'package': 'gazebo-ros',\n",
       "   'distro': 'noetic',\n",
       "   'name': 'ros-noetic-gazebo-ros',\n",
       "   'count': 23372,\n",
       "   'date': '2024'},\n",
       "  {'package': 'roslisp',\n",
       "   'distro': 'noetic',\n",
       "   'name': 'ros-noetic-roslisp',\n",
       "   'count': 23336,\n",
       "   'date': '2024'},\n",
       "  {'package': 'ros-core',\n",
       "   'distro': 'noetic',\n",
       "   'name': 'ros-noetic-ros-core',\n",
       "   'count': 23299,\n",
       "   'date': '2024'},\n",
       "  {'package': 'joint-state-broadcaster',\n",
       "   'distro': 'humble',\n",
       "   'name': 'ros-humble-joint-state-broadcaster',\n",
       "   'count': 23255,\n",
       "   'date': '2024'},\n",
       "  {'package': 'roslint',\n",
       "   'distro': 'noetic',\n",
       "   'name': 'ros-noetic-roslint',\n",
       "   'count': 23234,\n",
       "   'date': '2024'},\n",
       "  {'package': 'common-msgs',\n",
       "   'distro': 'noetic',\n",
       "   'name': 'ros-noetic-common-msgs',\n",
       "   'count': 23218,\n",
       "   'date': '2024'},\n",
       "  {'package': 'joint-limits-interface',\n",
       "   'distro': 'noetic',\n",
       "   'name': 'ros-noetic-joint-limits-interface',\n",
       "   'count': 23167,\n",
       "   'date': '2024'},\n",
       "  {'package': 'rosbash',\n",
       "   'distro': 'noetic',\n",
       "   'name': 'ros-noetic-rosbash',\n",
       "   'count': 23143,\n",
       "   'date': '2024'},\n",
       "  {'package': 'bond-core',\n",
       "   'distro': 'noetic',\n",
       "   'name': 'ros-noetic-bond-core',\n",
       "   'count': 23100,\n",
       "   'date': '2024'},\n",
       "  {'package': 'pcl-ros',\n",
       "   'distro': 'humble',\n",
       "   'name': 'ros-humble-pcl-ros',\n",
       "   'count': 23043,\n",
       "   'date': '2024'},\n",
       "  {'package': 'ros-comm',\n",
       "   'distro': 'noetic',\n",
       "   'name': 'ros-noetic-ros-comm',\n",
       "   'count': 23035,\n",
       "   'date': '2024'},\n",
       "  {'package': 'qt-gui-cpp',\n",
       "   'distro': 'noetic',\n",
       "   'name': 'ros-noetic-qt-gui-cpp',\n",
       "   'count': 23018,\n",
       "   'date': '2024'},\n",
       "  {'package': 'image-geometry',\n",
       "   'distro': 'noetic',\n",
       "   'name': 'ros-noetic-image-geometry',\n",
       "   'count': 22977,\n",
       "   'date': '2024'},\n",
       "  {'package': 'roscpp-core',\n",
       "   'distro': 'noetic',\n",
       "   'name': 'ros-noetic-roscpp-core',\n",
       "   'count': 22871,\n",
       "   'date': '2024'},\n",
       "  {'package': 'position-controllers',\n",
       "   'distro': 'noetic',\n",
       "   'name': 'ros-noetic-position-controllers',\n",
       "   'count': 22789,\n",
       "   'date': '2024'},\n",
       "  {'package': 'joint-state-publisher-gui',\n",
       "   'distro': 'humble',\n",
       "   'name': 'ros-humble-joint-state-publisher-gui',\n",
       "   'count': 22740,\n",
       "   'date': '2024'},\n",
       "  {'package': 'rqt-robot-plugins',\n",
       "   'distro': 'noetic',\n",
       "   'name': 'ros-noetic-rqt-robot-plugins',\n",
       "   'count': 22411,\n",
       "   'date': '2024'},\n",
       "  {'package': 'rqt-rviz',\n",
       "   'distro': 'noetic',\n",
       "   'name': 'ros-noetic-rqt-rviz',\n",
       "   'count': 22404,\n",
       "   'date': '2024'},\n",
       "  {'package': 'control-toolbox',\n",
       "   'distro': 'noetic',\n",
       "   'name': 'ros-noetic-control-toolbox',\n",
       "   'count': 22359,\n",
       "   'date': '2024'},\n",
       "  {'package': 'gazebo-msgs',\n",
       "   'distro': 'noetic',\n",
       "   'name': 'ros-noetic-gazebo-msgs',\n",
       "   'count': 22333,\n",
       "   'date': '2024'},\n",
       "  {'package': 'filters',\n",
       "   'distro': 'noetic',\n",
       "   'name': 'ros-noetic-filters',\n",
       "   'count': 22218,\n",
       "   'date': '2024'},\n",
       "  {'package': 'roslang',\n",
       "   'distro': 'noetic',\n",
       "   'name': 'ros-noetic-roslang',\n",
       "   'count': 22134,\n",
       "   'date': '2024'},\n",
       "  {'package': 'urdf-tutorial',\n",
       "   'distro': 'noetic',\n",
       "   'name': 'ros-noetic-urdf-tutorial',\n",
       "   'count': 22103,\n",
       "   'date': '2024'},\n",
       "  {'package': 'diagnostic-aggregator',\n",
       "   'distro': 'noetic',\n",
       "   'name': 'ros-noetic-diagnostic-aggregator',\n",
       "   'count': 22077,\n",
       "   'date': '2024'},\n",
       "  {'package': 'roscreate',\n",
       "   'distro': 'noetic',\n",
       "   'name': 'ros-noetic-roscreate',\n",
       "   'count': 21979,\n",
       "   'date': '2024'},\n",
       "  {'package': 'vision-msgs',\n",
       "   'distro': 'humble',\n",
       "   'name': 'ros-humble-vision-msgs',\n",
       "   'count': 21954,\n",
       "   'date': '2024'},\n",
       "  {'package': 'librviz-tutorial',\n",
       "   'distro': 'noetic',\n",
       "   'name': 'ros-noetic-librviz-tutorial',\n",
       "   'count': 21883,\n",
       "   'date': '2024'},\n",
       "  {'package': 'rviz-plugin-tutorials',\n",
       "   'distro': 'noetic',\n",
       "   'name': 'ros-noetic-rviz-plugin-tutorials',\n",
       "   'count': 21881,\n",
       "   'date': '2024'},\n",
       "  {'package': 'viz',\n",
       "   'distro': 'noetic',\n",
       "   'name': 'ros-noetic-viz',\n",
       "   'count': 21814,\n",
       "   'date': '2024'},\n",
       "  {'package': 'rviz-python-tutorial',\n",
       "   'distro': 'noetic',\n",
       "   'name': 'ros-noetic-rviz-python-tutorial',\n",
       "   'count': 21761,\n",
       "   'date': '2024'},\n",
       "  {'package': 'visualization-tutorials',\n",
       "   'distro': 'noetic',\n",
       "   'name': 'ros-noetic-visualization-tutorials',\n",
       "   'count': 21735,\n",
       "   'date': '2024'},\n",
       "  {'package': 'rosmake',\n",
       "   'distro': 'noetic',\n",
       "   'name': 'ros-noetic-rosmake',\n",
       "   'count': 21704,\n",
       "   'date': '2024'},\n",
       "  {'package': 'nav2-map-server',\n",
       "   'distro': 'humble',\n",
       "   'name': 'ros-humble-nav2-map-server',\n",
       "   'count': 21699,\n",
       "   'date': '2024'},\n",
       "  {'package': 'rqt-py-common',\n",
       "   'distro': 'noetic',\n",
       "   'name': 'ros-noetic-rqt-py-common',\n",
       "   'count': 21692,\n",
       "   'date': '2024'},\n",
       "  {'package': 'desktop',\n",
       "   'distro': 'noetic',\n",
       "   'name': 'ros-noetic-desktop',\n",
       "   'count': 21692,\n",
       "   'date': '2024'},\n",
       "  {'package': 'transmission-interface',\n",
       "   'distro': 'noetic',\n",
       "   'name': 'ros-noetic-transmission-interface',\n",
       "   'count': 21686,\n",
       "   'date': '2024'},\n",
       "  {'package': 'rosboost-cfg',\n",
       "   'distro': 'noetic',\n",
       "   'name': 'ros-noetic-rosboost-cfg',\n",
       "   'count': 21581,\n",
       "   'date': '2024'},\n",
       "  {'package': 'nav2-lifecycle-manager',\n",
       "   'distro': 'humble',\n",
       "   'name': 'ros-humble-nav2-lifecycle-manager',\n",
       "   'count': 21577,\n",
       "   'date': '2024'},\n",
       "  {'package': 'ackermann-msgs',\n",
       "   'distro': 'humble',\n",
       "   'name': 'ros-humble-ackermann-msgs',\n",
       "   'count': 21560,\n",
       "   'date': '2024'},\n",
       "  {'package': 'rqt-image-view',\n",
       "   'distro': 'noetic',\n",
       "   'name': 'ros-noetic-rqt-image-view',\n",
       "   'count': 21505,\n",
       "   'date': '2024'},\n",
       "  {'package': 'gazebo-dev',\n",
       "   'distro': 'noetic',\n",
       "   'name': 'ros-noetic-gazebo-dev',\n",
       "   'count': 21371,\n",
       "   'date': '2024'},\n",
       "  {'package': 'diff-drive-controller',\n",
       "   'distro': 'noetic',\n",
       "   'name': 'ros-noetic-diff-drive-controller',\n",
       "   'count': 21039,\n",
       "   'date': '2024'},\n",
       "  {'package': 'rqt-logger-level',\n",
       "   'distro': 'noetic',\n",
       "   'name': 'ros-noetic-rqt-logger-level',\n",
       "   'count': 20978,\n",
       "   'date': '2024'},\n",
       "  {'package': 'rqt-console',\n",
       "   'distro': 'noetic',\n",
       "   'name': 'ros-noetic-rqt-console',\n",
       "   'count': 20967,\n",
       "   'date': '2024'},\n",
       "  {'package': 'gazebo-msgs',\n",
       "   'distro': 'humble',\n",
       "   'name': 'ros-humble-gazebo-msgs',\n",
       "   'count': 20882,\n",
       "   'date': '2024'},\n",
       "  {'package': 'gazebo-plugins',\n",
       "   'distro': 'noetic',\n",
       "   'name': 'ros-noetic-gazebo-plugins',\n",
       "   'count': 20871,\n",
       "   'date': '2024'},\n",
       "  {'package': 'rqt-reconfigure',\n",
       "   'distro': 'noetic',\n",
       "   'name': 'ros-noetic-rqt-reconfigure',\n",
       "   'count': 20706,\n",
       "   'date': '2024'},\n",
       "  {'package': 'diagnostic-common-diagnostics',\n",
       "   'distro': 'noetic',\n",
       "   'name': 'ros-noetic-diagnostic-common-diagnostics',\n",
       "   'count': 20415,\n",
       "   'date': '2024'},\n",
       "  {'package': 'polled-camera',\n",
       "   'distro': 'noetic',\n",
       "   'name': 'ros-noetic-polled-camera',\n",
       "   'count': 20315,\n",
       "   'date': '2024'},\n",
       "  {'package': 'image-proc',\n",
       "   'distro': 'noetic',\n",
       "   'name': 'ros-noetic-image-proc',\n",
       "   'count': 20219,\n",
       "   'date': '2024'},\n",
       "  {'package': 'rqt-common-plugins',\n",
       "   'distro': 'noetic',\n",
       "   'name': 'ros-noetic-rqt-common-plugins',\n",
       "   'count': 20182,\n",
       "   'date': '2024'},\n",
       "  {'package': 'robot',\n",
       "   'distro': 'noetic',\n",
       "   'name': 'ros-noetic-robot',\n",
       "   'count': 20179,\n",
       "   'date': '2024'},\n",
       "  {'package': 'nav2-core',\n",
       "   'distro': 'humble',\n",
       "   'name': 'ros-humble-nav2-core',\n",
       "   'count': 20171,\n",
       "   'date': '2024'},\n",
       "  {'package': 'image-view',\n",
       "   'distro': 'noetic',\n",
       "   'name': 'ros-noetic-image-view',\n",
       "   'count': 20150,\n",
       "   'date': '2024'},\n",
       "  {'package': 'rqt-bag',\n",
       "   'distro': 'noetic',\n",
       "   'name': 'ros-noetic-rqt-bag',\n",
       "   'count': 20103,\n",
       "   'date': '2024'},\n",
       "  {'package': 'tf-transformations',\n",
       "   'distro': 'humble',\n",
       "   'name': 'ros-humble-tf-transformations',\n",
       "   'count': 19957,\n",
       "   'date': '2024'},\n",
       "  {'package': 'nav-2d-utils',\n",
       "   'distro': 'humble',\n",
       "   'name': 'ros-humble-nav-2d-utils',\n",
       "   'count': 19937,\n",
       "   'date': '2024'},\n",
       "  {'package': 'gazebo-dev',\n",
       "   'distro': 'humble',\n",
       "   'name': 'ros-humble-gazebo-dev',\n",
       "   'count': 19873,\n",
       "   'date': '2024'},\n",
       "  {'package': 'nav2-controller',\n",
       "   'distro': 'humble',\n",
       "   'name': 'ros-humble-nav2-controller',\n",
       "   'count': 19865,\n",
       "   'date': '2024'},\n",
       "  {'package': 'rospy-tutorials',\n",
       "   'distro': 'noetic',\n",
       "   'name': 'ros-noetic-rospy-tutorials',\n",
       "   'count': 19835,\n",
       "   'date': '2024'},\n",
       "  {'package': 'dwb-core',\n",
       "   'distro': 'humble',\n",
       "   'name': 'ros-humble-dwb-core',\n",
       "   'count': 19792,\n",
       "   'date': '2024'},\n",
       "  {'package': 'nav-2d-msgs',\n",
       "   'distro': 'humble',\n",
       "   'name': 'ros-humble-nav-2d-msgs',\n",
       "   'count': 19780,\n",
       "   'date': '2024'},\n",
       "  {'package': 'rqt-plot',\n",
       "   'distro': 'noetic',\n",
       "   'name': 'ros-noetic-rqt-plot',\n",
       "   'count': 19750,\n",
       "   'date': '2024'},\n",
       "  {'package': 'nav2-behavior-tree',\n",
       "   'distro': 'humble',\n",
       "   'name': 'ros-humble-nav2-behavior-tree',\n",
       "   'count': 19734,\n",
       "   'date': '2024'},\n",
       "  {'package': 'nav2-planner',\n",
       "   'distro': 'humble',\n",
       "   'name': 'ros-humble-nav2-planner',\n",
       "   'count': 19709,\n",
       "   'date': '2024'},\n",
       "  {'package': 'depth-image-proc',\n",
       "   'distro': 'noetic',\n",
       "   'name': 'ros-noetic-depth-image-proc',\n",
       "   'count': 19632,\n",
       "   'date': '2024'},\n",
       "  {'package': 'qt-gui-py-common',\n",
       "   'distro': 'noetic',\n",
       "   'name': 'ros-noetic-qt-gui-py-common',\n",
       "   'count': 19624,\n",
       "   'date': '2024'},\n",
       "  {'package': 'rqt-graph',\n",
       "   'distro': 'noetic',\n",
       "   'name': 'ros-noetic-rqt-graph',\n",
       "   'count': 19606,\n",
       "   'date': '2024'},\n",
       "  {'package': 'gazebo-ros-control',\n",
       "   'distro': 'noetic',\n",
       "   'name': 'ros-noetic-gazebo-ros-control',\n",
       "   'count': 19554,\n",
       "   'date': '2024'},\n",
       "  {'package': 'image-publisher',\n",
       "   'distro': 'noetic',\n",
       "   'name': 'ros-noetic-image-publisher',\n",
       "   'count': 19548,\n",
       "   'date': '2024'},\n",
       "  {'package': 'nav2-rviz-plugins',\n",
       "   'distro': 'humble',\n",
       "   'name': 'ros-humble-nav2-rviz-plugins',\n",
       "   'count': 19541,\n",
       "   'date': '2024'},\n",
       "  {'package': 'dwb-plugins',\n",
       "   'distro': 'humble',\n",
       "   'name': 'ros-humble-dwb-plugins',\n",
       "   'count': 19449,\n",
       "   'date': '2024'},\n",
       "  {'package': 'slam-toolbox',\n",
       "   'distro': 'humble',\n",
       "   'name': 'ros-humble-slam-toolbox',\n",
       "   'count': 19443,\n",
       "   'date': '2024'},\n",
       "  {'package': 'nav2-waypoint-follower',\n",
       "   'distro': 'humble',\n",
       "   'name': 'ros-humble-nav2-waypoint-follower',\n",
       "   'count': 19434,\n",
       "   'date': '2024'},\n",
       "  {'package': 'rqt-launch',\n",
       "   'distro': 'noetic',\n",
       "   'name': 'ros-noetic-rqt-launch',\n",
       "   'count': 19401,\n",
       "   'date': '2024'},\n",
       "  {'package': 'diagnostics',\n",
       "   'distro': 'noetic',\n",
       "   'name': 'ros-noetic-diagnostics',\n",
       "   'count': 19371,\n",
       "   'date': '2024'},\n",
       "  {'package': 'nav2-amcl',\n",
       "   'distro': 'humble',\n",
       "   'name': 'ros-humble-nav2-amcl',\n",
       "   'count': 19366,\n",
       "   'date': '2024'},\n",
       "  {'package': 'nav2-rotation-shim-controller',\n",
       "   'distro': 'humble',\n",
       "   'name': 'ros-humble-nav2-rotation-shim-controller',\n",
       "   'count': 19360,\n",
       "   'date': '2024'},\n",
       "  {'package': 'costmap-queue',\n",
       "   'distro': 'humble',\n",
       "   'name': 'ros-humble-costmap-queue',\n",
       "   'count': 19357,\n",
       "   'date': '2024'},\n",
       "  {'package': 'rqt-action',\n",
       "   'distro': 'noetic',\n",
       "   'name': 'ros-noetic-rqt-action',\n",
       "   'count': 19314,\n",
       "   'date': '2024'},\n",
       "  {'package': 'rqt-service-caller',\n",
       "   'distro': 'noetic',\n",
       "   'name': 'ros-noetic-rqt-service-caller',\n",
       "   'count': 19312,\n",
       "   'date': '2024'},\n",
       "  {'package': 'rqt-srv',\n",
       "   'distro': 'noetic',\n",
       "   'name': 'ros-noetic-rqt-srv',\n",
       "   'count': 19312,\n",
       "   'date': '2024'},\n",
       "  {'package': 'rqt-msg',\n",
       "   'distro': 'noetic',\n",
       "   'name': 'ros-noetic-rqt-msg',\n",
       "   'count': 19302,\n",
       "   'date': '2024'},\n",
       "  {'package': 'forward-command-controller',\n",
       "   'distro': 'humble',\n",
       "   'name': 'ros-humble-forward-command-controller',\n",
       "   'count': 19277,\n",
       "   'date': '2024'},\n",
       "  {'package': 'dwb-msgs',\n",
       "   'distro': 'humble',\n",
       "   'name': 'ros-humble-dwb-msgs',\n",
       "   'count': 19275,\n",
       "   'date': '2024'},\n",
       "  {'package': 'nav2-smac-planner',\n",
       "   'distro': 'humble',\n",
       "   'name': 'ros-humble-nav2-smac-planner',\n",
       "   'count': 19263,\n",
       "   'date': '2024'},\n",
       "  {'package': 'dwb-critics',\n",
       "   'distro': 'humble',\n",
       "   'name': 'ros-humble-dwb-critics',\n",
       "   'count': 19239,\n",
       "   'date': '2024'},\n",
       "  {'package': 'nav2-velocity-smoother',\n",
       "   'distro': 'humble',\n",
       "   'name': 'ros-humble-nav2-velocity-smoother',\n",
       "   'count': 19232,\n",
       "   'date': '2024'},\n",
       "  {'package': 'nav2-regulated-pure-pursuit-controller',\n",
       "   'distro': 'humble',\n",
       "   'name': 'ros-humble-nav2-regulated-pure-pursuit-controller',\n",
       "   'count': 19230,\n",
       "   'date': '2024'},\n",
       "  {'package': 'qt-dotgraph',\n",
       "   'distro': 'noetic',\n",
       "   'name': 'ros-noetic-qt-dotgraph',\n",
       "   'count': 19229,\n",
       "   'date': '2024'},\n",
       "  {'package': 'nav2-bt-navigator',\n",
       "   'distro': 'humble',\n",
       "   'name': 'ros-humble-nav2-bt-navigator',\n",
       "   'count': 19224,\n",
       "   'date': '2024'},\n",
       "  {'package': 'nav2-mppi-controller',\n",
       "   'distro': 'humble',\n",
       "   'name': 'ros-humble-nav2-mppi-controller',\n",
       "   'count': 19199,\n",
       "   'date': '2024'},\n",
       "  {'package': 'diagnostic-analysis',\n",
       "   'distro': 'noetic',\n",
       "   'name': 'ros-noetic-diagnostic-analysis',\n",
       "   'count': 19194,\n",
       "   'date': '2024'},\n",
       "  {'package': 'gazebo-ros',\n",
       "   'distro': 'humble',\n",
       "   'name': 'ros-humble-gazebo-ros',\n",
       "   'count': 19192,\n",
       "   'date': '2024'},\n",
       "  {'package': 'nav2-navfn-planner',\n",
       "   'distro': 'humble',\n",
       "   'name': 'ros-humble-nav2-navfn-planner',\n",
       "   'count': 19168,\n",
       "   'date': '2024'},\n",
       "  {'package': 'nav2-dwb-controller',\n",
       "   'distro': 'humble',\n",
       "   'name': 'ros-humble-nav2-dwb-controller',\n",
       "   'count': 19143,\n",
       "   'date': '2024'},\n",
       "  {'package': 'navigation2',\n",
       "   'distro': 'humble',\n",
       "   'name': 'ros-humble-navigation2',\n",
       "   'count': 19106,\n",
       "   'date': '2024'},\n",
       "  {'package': 'nav2-collision-monitor',\n",
       "   'distro': 'humble',\n",
       "   'name': 'ros-humble-nav2-collision-monitor',\n",
       "   'count': 19078,\n",
       "   'date': '2024'},\n",
       "  {'package': 'rqt-tf-tree',\n",
       "   'distro': 'noetic',\n",
       "   'name': 'ros-noetic-rqt-tf-tree',\n",
       "   'count': 19048,\n",
       "   'date': '2024'},\n",
       "  {'package': 'nav2-smoother',\n",
       "   'distro': 'humble',\n",
       "   'name': 'ros-humble-nav2-smoother',\n",
       "   'count': 19047,\n",
       "   'date': '2024'},\n",
       "  {'package': 'nav2-theta-star-planner',\n",
       "   'distro': 'humble',\n",
       "   'name': 'ros-humble-nav2-theta-star-planner',\n",
       "   'count': 19011,\n",
       "   'date': '2024'},\n",
       "  {'package': 'nav2-constrained-smoother',\n",
       "   'distro': 'humble',\n",
       "   'name': 'ros-humble-nav2-constrained-smoother',\n",
       "   'count': 19005,\n",
       "   'date': '2024'},\n",
       "  {'package': 'nav2-behaviors',\n",
       "   'distro': 'humble',\n",
       "   'name': 'ros-humble-nav2-behaviors',\n",
       "   'count': 18991,\n",
       "   'date': '2024'},\n",
       "  {'package': 'nodelet-tutorial-math',\n",
       "   'distro': 'noetic',\n",
       "   'name': 'ros-noetic-nodelet-tutorial-math',\n",
       "   'count': 18962,\n",
       "   'date': '2024'},\n",
       "  {'package': 'common-tutorials',\n",
       "   'distro': 'noetic',\n",
       "   'name': 'ros-noetic-common-tutorials',\n",
       "   'count': 18938,\n",
       "   'date': '2024'},\n",
       "  {'package': 'rqt-robot-monitor',\n",
       "   'distro': 'noetic',\n",
       "   'name': 'ros-noetic-rqt-robot-monitor',\n",
       "   'count': 18934,\n",
       "   'date': '2024'},\n",
       "  {'package': 'rqt-robot-dashboard',\n",
       "   'distro': 'noetic',\n",
       "   'name': 'ros-noetic-rqt-robot-dashboard',\n",
       "   'count': 18884,\n",
       "   'date': '2024'},\n",
       "  {'package': 'self-test',\n",
       "   'distro': 'noetic',\n",
       "   'name': 'ros-noetic-self-test',\n",
       "   'count': 18882,\n",
       "   'date': '2024'},\n",
       "  {'package': 'rqt-nav-view',\n",
       "   'distro': 'noetic',\n",
       "   'name': 'ros-noetic-rqt-nav-view',\n",
       "   'count': 18871,\n",
       "   'date': '2024'},\n",
       "  {'package': 'rqt-topic',\n",
       "   'distro': 'noetic',\n",
       "   'name': 'ros-noetic-rqt-topic',\n",
       "   'count': 18856,\n",
       "   'date': '2024'},\n",
       "  {'package': 'rqt-bag-plugins',\n",
       "   'distro': 'noetic',\n",
       "   'name': 'ros-noetic-rqt-bag-plugins',\n",
       "   'count': 18852,\n",
       "   'date': '2024'},\n",
       "  {'package': 'nav2-simple-commander',\n",
       "   'distro': 'humble',\n",
       "   'name': 'ros-humble-nav2-simple-commander',\n",
       "   'count': 18836,\n",
       "   'date': '2024'},\n",
       "  {'package': 'rqt-dep',\n",
       "   'distro': 'noetic',\n",
       "   'name': 'ros-noetic-rqt-dep',\n",
       "   'count': 18824,\n",
       "   'date': '2024'},\n",
       "  {'package': 'rqt-top',\n",
       "   'distro': 'noetic',\n",
       "   'name': 'ros-noetic-rqt-top',\n",
       "   'count': 18818,\n",
       "   'date': '2024'},\n",
       "  {'package': 'rqt-publisher',\n",
       "   'distro': 'noetic',\n",
       "   'name': 'ros-noetic-rqt-publisher',\n",
       "   'count': 18817,\n",
       "   'date': '2024'},\n",
       "  {'package': 'rqt-shell',\n",
       "   'distro': 'noetic',\n",
       "   'name': 'ros-noetic-rqt-shell',\n",
       "   'count': 18813,\n",
       "   'date': '2024'},\n",
       "  {'package': 'rqt-py-console',\n",
       "   'distro': 'noetic',\n",
       "   'name': 'ros-noetic-rqt-py-console',\n",
       "   'count': 18812,\n",
       "   'date': '2024'},\n",
       "  {'package': 'rqt-web',\n",
       "   'distro': 'noetic',\n",
       "   'name': 'ros-noetic-rqt-web',\n",
       "   'count': 18802,\n",
       "   'date': '2024'},\n",
       "  {'package': 'rqt-pose-view',\n",
       "   'distro': 'noetic',\n",
       "   'name': 'ros-noetic-rqt-pose-view',\n",
       "   'count': 18711,\n",
       "   'date': '2024'},\n",
       "  {'package': 'simulators',\n",
       "   'distro': 'noetic',\n",
       "   'name': 'ros-noetic-simulators',\n",
       "   'count': 18658,\n",
       "   'date': '2024'},\n",
       "  {'package': 'rqt-runtime-monitor',\n",
       "   'distro': 'noetic',\n",
       "   'name': 'ros-noetic-rqt-runtime-monitor',\n",
       "   'count': 18629,\n",
       "   'date': '2024'},\n",
       "  {'package': 'urdf-sim-tutorial',\n",
       "   'distro': 'noetic',\n",
       "   'name': 'ros-noetic-urdf-sim-tutorial',\n",
       "   'count': 18615,\n",
       "   'date': '2024'},\n",
       "  {'package': 'rqt-robot-steering',\n",
       "   'distro': 'noetic',\n",
       "   'name': 'ros-noetic-rqt-robot-steering',\n",
       "   'count': 18615,\n",
       "   'date': '2024'},\n",
       "  {'package': 'rqt-moveit',\n",
       "   'distro': 'noetic',\n",
       "   'name': 'ros-noetic-rqt-moveit',\n",
       "   'count': 18595,\n",
       "   'date': '2024'},\n",
       "  {'package': 'turtle-tf2',\n",
       "   'distro': 'noetic',\n",
       "   'name': 'ros-noetic-turtle-tf2',\n",
       "   'count': 18554,\n",
       "   'date': '2024'},\n",
       "  {'package': 'smach-ros',\n",
       "   'distro': 'noetic',\n",
       "   'name': 'ros-noetic-smach-ros',\n",
       "   'count': 18476,\n",
       "   'date': '2024'},\n",
       "  {'package': 'diff-drive-controller',\n",
       "   'distro': 'humble',\n",
       "   'name': 'ros-humble-diff-drive-controller',\n",
       "   'count': 18464,\n",
       "   'date': '2024'},\n",
       "  {'package': 'geometry',\n",
       "   'distro': 'noetic',\n",
       "   'name': 'ros-noetic-geometry',\n",
       "   'count': 18449,\n",
       "   'date': '2024'},\n",
       "  {'package': 'gazebo-ros-pkgs',\n",
       "   'distro': 'noetic',\n",
       "   'name': 'ros-noetic-gazebo-ros-pkgs',\n",
       "   'count': 18433,\n",
       "   'date': '2024'},\n",
       "  {'package': 'qwt-dependency',\n",
       "   'distro': 'noetic',\n",
       "   'name': 'ros-noetic-qwt-dependency',\n",
       "   'count': 18416,\n",
       "   'date': '2024'},\n",
       "  {'package': 'interactive-marker-tutorials',\n",
       "   'distro': 'noetic',\n",
       "   'name': 'ros-noetic-interactive-marker-tutorials',\n",
       "   'count': 18251,\n",
       "   'date': '2024'},\n",
       "  {'package': 'smach',\n",
       "   'distro': 'noetic',\n",
       "   'name': 'ros-noetic-smach',\n",
       "   'count': 18219,\n",
       "   'date': '2024'},\n",
       "  {'package': 'smach-msgs',\n",
       "   'distro': 'noetic',\n",
       "   'name': 'ros-noetic-smach-msgs',\n",
       "   'count': 18186,\n",
       "   'date': '2024'},\n",
       "  {'package': 'turtle-tf',\n",
       "   'distro': 'noetic',\n",
       "   'name': 'ros-noetic-turtle-tf',\n",
       "   'count': 18184,\n",
       "   'date': '2024'},\n",
       "  {'package': 'geometry-tutorials',\n",
       "   'distro': 'noetic',\n",
       "   'name': 'ros-noetic-geometry-tutorials',\n",
       "   'count': 18168,\n",
       "   'date': '2024'},\n",
       "  {'package': 'roscpp-tutorials',\n",
       "   'distro': 'noetic',\n",
       "   'name': 'ros-noetic-roscpp-tutorials',\n",
       "   'count': 18111,\n",
       "   'date': '2024'},\n",
       "  {'package': 'actionlib-tutorials',\n",
       "   'distro': 'noetic',\n",
       "   'name': 'ros-noetic-actionlib-tutorials',\n",
       "   'count': 18094,\n",
       "   'date': '2024'},\n",
       "  {'package': 'turtlesim',\n",
       "   'distro': 'noetic',\n",
       "   'name': 'ros-noetic-turtlesim',\n",
       "   'count': 18045,\n",
       "   'date': '2024'},\n",
       "  {'package': 'ros2controlcli',\n",
       "   'distro': 'humble',\n",
       "   'name': 'ros-humble-ros2controlcli',\n",
       "   'count': 17884,\n",
       "   'date': '2024'},\n",
       "  {'package': 'stereo-image-proc',\n",
       "   'distro': 'noetic',\n",
       "   'name': 'ros-noetic-stereo-image-proc',\n",
       "   'count': 17842,\n",
       "   'date': '2024'},\n",
       "  {'package': 'executive-smach',\n",
       "   'distro': 'noetic',\n",
       "   'name': 'ros-noetic-executive-smach',\n",
       "   'count': 17812,\n",
       "   'date': '2024'},\n",
       "  {'package': 'turtle-actionlib',\n",
       "   'distro': 'noetic',\n",
       "   'name': 'ros-noetic-turtle-actionlib',\n",
       "   'count': 17727,\n",
       "   'date': '2024'},\n",
       "  {'package': 'pluginlib-tutorials',\n",
       "   'distro': 'noetic',\n",
       "   'name': 'ros-noetic-pluginlib-tutorials',\n",
       "   'count': 17726,\n",
       "   'date': '2024'},\n",
       "  {'package': 'ros-tutorials',\n",
       "   'distro': 'noetic',\n",
       "   'name': 'ros-noetic-ros-tutorials',\n",
       "   'count': 17700,\n",
       "   'date': '2024'},\n",
       "  {'package': 'gazebo-plugins',\n",
       "   'distro': 'humble',\n",
       "   'name': 'ros-humble-gazebo-plugins',\n",
       "   'count': 17538,\n",
       "   'date': '2024'},\n",
       "  {'package': 'ros2-control',\n",
       "   'distro': 'humble',\n",
       "   'name': 'ros-humble-ros2-control',\n",
       "   'count': 17535,\n",
       "   'date': '2024'},\n",
       "  {'package': 'nav2-bringup',\n",
       "   'distro': 'humble',\n",
       "   'name': 'ros-humble-nav2-bringup',\n",
       "   'count': 17433,\n",
       "   'date': '2024'},\n",
       "  {'package': 'visualization-marker-tutorials',\n",
       "   'distro': 'noetic',\n",
       "   'name': 'ros-noetic-visualization-marker-tutorials',\n",
       "   'count': 17379,\n",
       "   'date': '2024'},\n",
       "  {'package': 'transmission-interface',\n",
       "   'distro': 'humble',\n",
       "   'name': 'ros-humble-transmission-interface',\n",
       "   'count': 17361,\n",
       "   'date': '2024'},\n",
       "  {'package': 'image-rotate',\n",
       "   'distro': 'noetic',\n",
       "   'name': 'ros-noetic-image-rotate',\n",
       "   'count': 17316,\n",
       "   'date': '2024'},\n",
       "  {'package': 'webkit-dependency',\n",
       "   'distro': 'noetic',\n",
       "   'name': 'ros-noetic-webkit-dependency',\n",
       "   'count': 17186,\n",
       "   'date': '2024'},\n",
       "  {'package': 'image-pipeline',\n",
       "   'distro': 'noetic',\n",
       "   'name': 'ros-noetic-image-pipeline',\n",
       "   'count': 16902,\n",
       "   'date': '2024'},\n",
       "  {'package': 'perception-pcl',\n",
       "   'distro': 'noetic',\n",
       "   'name': 'ros-noetic-perception-pcl',\n",
       "   'count': 16901,\n",
       "   'date': '2024'},\n",
       "  {'package': 'joint-limits',\n",
       "   'distro': 'humble',\n",
       "   'name': 'ros-humble-joint-limits',\n",
       "   'count': 16800,\n",
       "   'date': '2024'},\n",
       "  {'package': 'velocity-controllers',\n",
       "   'distro': 'humble',\n",
       "   'name': 'ros-humble-velocity-controllers',\n",
       "   'count': 16706,\n",
       "   'date': '2024'},\n",
       "  {'package': 'gl-dependency',\n",
       "   'distro': 'noetic',\n",
       "   'name': 'ros-noetic-gl-dependency',\n",
       "   'count': 16578,\n",
       "   'date': '2024'},\n",
       "  {'package': 'laser-assembler',\n",
       "   'distro': 'noetic',\n",
       "   'name': 'ros-noetic-laser-assembler',\n",
       "   'count': 16400,\n",
       "   'date': '2024'},\n",
       "  {'package': 'urdf-parser-plugin',\n",
       "   'distro': 'noetic',\n",
       "   'name': 'ros-noetic-urdf-parser-plugin',\n",
       "   'count': 16225,\n",
       "   'date': '2024'},\n",
       "  {'package': 'gazebo-ros-pkgs',\n",
       "   'distro': 'humble',\n",
       "   'name': 'ros-humble-gazebo-ros-pkgs',\n",
       "   'count': 16077,\n",
       "   'date': '2024'},\n",
       "  {'package': 'joy',\n",
       "   'distro': 'noetic',\n",
       "   'name': 'ros-noetic-joy',\n",
       "   'count': 16063,\n",
       "   'date': '2024'},\n",
       "  {'package': 'camera-calibration',\n",
       "   'distro': 'noetic',\n",
       "   'name': 'ros-noetic-camera-calibration',\n",
       "   'count': 16032,\n",
       "   'date': '2024'},\n",
       "  {'package': 'vision-opencv',\n",
       "   'distro': 'noetic',\n",
       "   'name': 'ros-noetic-vision-opencv',\n",
       "   'count': 15999,\n",
       "   'date': '2024'},\n",
       "  {'package': 'effort-controllers',\n",
       "   'distro': 'humble',\n",
       "   'name': 'ros-humble-effort-controllers',\n",
       "   'count': 15862,\n",
       "   'date': '2024'},\n",
       "  {'package': 'gps-msgs',\n",
       "   'distro': 'humble',\n",
       "   'name': 'ros-humble-gps-msgs',\n",
       "   'count': 15788,\n",
       "   'date': '2024'},\n",
       "  {'package': 'tricycle-controller',\n",
       "   'distro': 'humble',\n",
       "   'name': 'ros-humble-tricycle-controller',\n",
       "   'count': 15744,\n",
       "   'date': '2024'},\n",
       "  {'package': 'stage-ros',\n",
       "   'distro': 'noetic',\n",
       "   'name': 'ros-noetic-stage-ros',\n",
       "   'count': 15732,\n",
       "   'date': '2024'},\n",
       "  {'package': 'image-common',\n",
       "   'distro': 'noetic',\n",
       "   'name': 'ros-noetic-image-common',\n",
       "   'count': 15456,\n",
       "   'date': '2024'},\n",
       "  {'package': 'position-controllers',\n",
       "   'distro': 'humble',\n",
       "   'name': 'ros-humble-position-controllers',\n",
       "   'count': 15117,\n",
       "   'date': '2024'},\n",
       "  {'package': 'octomap-msgs',\n",
       "   'distro': 'humble',\n",
       "   'name': 'ros-humble-octomap-msgs',\n",
       "   'count': 14865,\n",
       "   'date': '2024'},\n",
       "  {'package': 'ament-clang-format',\n",
       "   'distro': 'humble',\n",
       "   'name': 'ros-humble-ament-clang-format',\n",
       "   'count': 14756,\n",
       "   'date': '2024'},\n",
       "  {'package': 'eigen-stl-containers',\n",
       "   'distro': 'humble',\n",
       "   'name': 'ros-humble-eigen-stl-containers',\n",
       "   'count': 14493,\n",
       "   'date': '2024'},\n",
       "  {'package': 'stage',\n",
       "   'distro': 'noetic',\n",
       "   'name': 'ros-noetic-stage',\n",
       "   'count': 14376,\n",
       "   'date': '2024'},\n",
       "  {'package': 'ros-workspace',\n",
       "   'distro': 'rolling',\n",
       "   'name': 'ros-rolling-ros-workspace',\n",
       "   'count': 14318,\n",
       "   'date': '2024'},\n",
       "  {'package': 'rosbag2-storage-mcap',\n",
       "   'distro': 'humble',\n",
       "   'name': 'ros-humble-rosbag2-storage-mcap',\n",
       "   'count': 14315,\n",
       "   'date': '2024'},\n",
       "  {'package': 'force-torque-sensor-broadcaster',\n",
       "   'distro': 'humble',\n",
       "   'name': 'ros-humble-force-torque-sensor-broadcaster',\n",
       "   'count': 14271,\n",
       "   'date': '2024'},\n",
       "  {'package': 'mcap-vendor',\n",
       "   'distro': 'humble',\n",
       "   'name': 'ros-humble-mcap-vendor',\n",
       "   'count': 14265,\n",
       "   'date': '2024'},\n",
       "  {'package': 'octomap-msgs',\n",
       "   'distro': 'noetic',\n",
       "   'name': 'ros-noetic-octomap-msgs',\n",
       "   'count': 14256,\n",
       "   'date': '2024'},\n",
       "  {'package': 'octomap',\n",
       "   'distro': 'humble',\n",
       "   'name': 'ros-humble-octomap',\n",
       "   'count': 14068,\n",
       "   'date': '2024'},\n",
       "  {'package': 'meson',\n",
       "   'distro': 'colcon',\n",
       "   'name': 'python3-colcon-meson',\n",
       "   'count': 13925,\n",
       "   'date': '2024'},\n",
       "  {'package': 'actuator-msgs',\n",
       "   'distro': 'humble',\n",
       "   'name': 'ros-humble-actuator-msgs',\n",
       "   'count': 13450,\n",
       "   'date': '2024'},\n",
       "  {'package': 'ament-lint',\n",
       "   'distro': 'rolling',\n",
       "   'name': 'ros-rolling-ament-lint',\n",
       "   'count': 13363,\n",
       "   'date': '2024'},\n",
       "  {'package': 'ament-flake8',\n",
       "   'distro': 'rolling',\n",
       "   'name': 'ros-rolling-ament-flake8',\n",
       "   'count': 13071,\n",
       "   'date': '2024'},\n",
       "  {'package': 'steering-controllers-library',\n",
       "   'distro': 'humble',\n",
       "   'name': 'ros-humble-steering-controllers-library',\n",
       "   'count': 12977,\n",
       "   'date': '2024'},\n",
       "  {'package': 'octomap',\n",
       "   'distro': 'noetic',\n",
       "   'name': 'ros-noetic-octomap',\n",
       "   'count': 12879,\n",
       "   'date': '2024'},\n",
       "  {'package': 'admittance-controller',\n",
       "   'distro': 'humble',\n",
       "   'name': 'ros-humble-admittance-controller',\n",
       "   'count': 12679,\n",
       "   'date': '2024'},\n",
       "  {'package': 'imu-sensor-broadcaster',\n",
       "   'distro': 'humble',\n",
       "   'name': 'ros-humble-imu-sensor-broadcaster',\n",
       "   'count': 12656,\n",
       "   'date': '2024'},\n",
       "  {'package': 'urdfdom-py',\n",
       "   'distro': 'noetic',\n",
       "   'name': 'ros-noetic-urdfdom-py',\n",
       "   'count': 12574,\n",
       "   'date': '2024'},\n",
       "  {'package': 'ros2-controllers',\n",
       "   'distro': 'humble',\n",
       "   'name': 'ros-humble-ros2-controllers',\n",
       "   'count': 12526,\n",
       "   'date': '2024'},\n",
       "  {'package': 'geometric-shapes',\n",
       "   'distro': 'noetic',\n",
       "   'name': 'ros-noetic-geometric-shapes',\n",
       "   'count': 12499,\n",
       "   'date': '2024'},\n",
       "  {'package': 'rqt-robot-monitor',\n",
       "   'distro': 'humble',\n",
       "   'name': 'ros-humble-rqt-robot-monitor',\n",
       "   'count': 12424,\n",
       "   'date': '2024'},\n",
       "  {'package': 'tricycle-steering-controller',\n",
       "   'distro': 'humble',\n",
       "   'name': 'ros-humble-tricycle-steering-controller',\n",
       "   'count': 12406,\n",
       "   'date': '2024'},\n",
       "  {'package': 'object-recognition-msgs',\n",
       "   'distro': 'humble',\n",
       "   'name': 'ros-humble-object-recognition-msgs',\n",
       "   'count': 12387,\n",
       "   'date': '2024'},\n",
       "  {'package': 'moveit-core',\n",
       "   'distro': 'noetic',\n",
       "   'name': 'ros-noetic-moveit-core',\n",
       "   'count': 12365,\n",
       "   'date': '2024'},\n",
       "  {'package': 'depth-image-proc',\n",
       "   'distro': 'humble',\n",
       "   'name': 'ros-humble-depth-image-proc',\n",
       "   'count': 12314,\n",
       "   'date': '2024'},\n",
       "  {'package': 'kinematics-interface',\n",
       "   'distro': 'humble',\n",
       "   'name': 'ros-humble-kinematics-interface',\n",
       "   'count': 12279,\n",
       "   'date': '2024'},\n",
       "  {'package': 'ackermann-steering-controller',\n",
       "   'distro': 'humble',\n",
       "   'name': 'ros-humble-ackermann-steering-controller',\n",
       "   'count': 12271,\n",
       "   'date': '2024'},\n",
       "  {'package': 'ament-lint-cmake',\n",
       "   'distro': 'rolling',\n",
       "   'name': 'ros-rolling-ament-lint-cmake',\n",
       "   'count': 12197,\n",
       "   'date': '2024'},\n",
       "  {'package': 'bicycle-steering-controller',\n",
       "   'distro': 'humble',\n",
       "   'name': 'ros-humble-bicycle-steering-controller',\n",
       "   'count': 12196,\n",
       "   'date': '2024'},\n",
       "  {'package': 'range-sensor-broadcaster',\n",
       "   'distro': 'humble',\n",
       "   'name': 'ros-humble-range-sensor-broadcaster',\n",
       "   'count': 12184,\n",
       "   'date': '2024'},\n",
       "  {'package': 'uuid-msgs',\n",
       "   'distro': 'noetic',\n",
       "   'name': 'ros-noetic-uuid-msgs',\n",
       "   'count': 12159,\n",
       "   'date': '2024'},\n",
       "  {'package': 'moveit-ros-planning',\n",
       "   'distro': 'noetic',\n",
       "   'name': 'ros-noetic-moveit-ros-planning',\n",
       "   'count': 12071,\n",
       "   'date': '2024'},\n",
       "  {'package': 'moveit-ros-occupancy-map-monitor',\n",
       "   'distro': 'noetic',\n",
       "   'name': 'ros-noetic-moveit-ros-occupancy-map-monitor',\n",
       "   'count': 12062,\n",
       "   'date': '2024'},\n",
       "  {'package': 'urdfdom-py',\n",
       "   'distro': 'humble',\n",
       "   'name': 'ros-humble-urdfdom-py',\n",
       "   'count': 12061,\n",
       "   'date': '2024'},\n",
       "  {'package': 'rosauth',\n",
       "   'distro': 'noetic',\n",
       "   'name': 'ros-noetic-rosauth',\n",
       "   'count': 12047,\n",
       "   'date': '2024'},\n",
       "  {'package': 'rosbridge-library',\n",
       "   'distro': 'noetic',\n",
       "   'name': 'ros-noetic-rosbridge-library',\n",
       "   'count': 12035,\n",
       "   'date': '2024'},\n",
       "  {'package': 'random-numbers',\n",
       "   'distro': 'noetic',\n",
       "   'name': 'ros-noetic-random-numbers',\n",
       "   'count': 12011,\n",
       "   'date': '2024'},\n",
       "  {'package': 'ros-gz-interfaces',\n",
       "   'distro': 'humble',\n",
       "   'name': 'ros-humble-ros-gz-interfaces',\n",
       "   'count': 12002,\n",
       "   'date': '2024'},\n",
       "  {'package': 'srdfdom',\n",
       "   'distro': 'humble',\n",
       "   'name': 'ros-humble-srdfdom',\n",
       "   'count': 11979,\n",
       "   'date': '2024'},\n",
       "  {'package': 'moveit-msgs',\n",
       "   'distro': 'humble',\n",
       "   'name': 'ros-humble-moveit-msgs',\n",
       "   'count': 11938,\n",
       "   'date': '2024'},\n",
       "  {'package': 'warehouse-ros',\n",
       "   'distro': 'humble',\n",
       "   'name': 'ros-humble-warehouse-ros',\n",
       "   'count': 11927,\n",
       "   'date': '2024'},\n",
       "  {'package': 'rosapi',\n",
       "   'distro': 'noetic',\n",
       "   'name': 'ros-noetic-rosapi',\n",
       "   'count': 11904,\n",
       "   'date': '2024'},\n",
       "  {'package': 'geographic-msgs',\n",
       "   'distro': 'noetic',\n",
       "   'name': 'ros-noetic-geographic-msgs',\n",
       "   'count': 11840,\n",
       "   'date': '2024'},\n",
       "  {'package': 'rosbridge-server',\n",
       "   'distro': 'noetic',\n",
       "   'name': 'ros-noetic-rosbridge-server',\n",
       "   'count': 11824,\n",
       "   'date': '2024'},\n",
       "  {'package': 'rosbridge-msgs',\n",
       "   'distro': 'noetic',\n",
       "   'name': 'ros-noetic-rosbridge-msgs',\n",
       "   'count': 11772,\n",
       "   'date': '2024'},\n",
       "  {'package': 'random-numbers',\n",
       "   'distro': 'humble',\n",
       "   'name': 'ros-humble-random-numbers',\n",
       "   'count': 11760,\n",
       "   'date': '2024'},\n",
       "  {'package': 'geometric-shapes',\n",
       "   'distro': 'humble',\n",
       "   'name': 'ros-humble-geometric-shapes',\n",
       "   'count': 11760,\n",
       "   'date': '2024'},\n",
       "  {'package': 'image-publisher',\n",
       "   'distro': 'humble',\n",
       "   'name': 'ros-humble-image-publisher',\n",
       "   'count': 11708,\n",
       "   'date': '2024'},\n",
       "  {'package': 'ruckig',\n",
       "   'distro': 'humble',\n",
       "   'name': 'ros-humble-ruckig',\n",
       "   'count': 11649,\n",
       "   'date': '2024'},\n",
       "  {'package': 'topic-tools-interfaces',\n",
       "   'distro': 'humble',\n",
       "   'name': 'ros-humble-topic-tools-interfaces',\n",
       "   'count': 11517,\n",
       "   'date': '2024'},\n",
       "  {'package': 'image-proc',\n",
       "   'distro': 'humble',\n",
       "   'name': 'ros-humble-image-proc',\n",
       "   'count': 11309,\n",
       "   'date': '2024'},\n",
       "  {'package': 'topic-tools',\n",
       "   'distro': 'humble',\n",
       "   'name': 'ros-humble-topic-tools',\n",
       "   'count': 11262,\n",
       "   'date': '2024'},\n",
       "  {'package': 'moveit-core',\n",
       "   'distro': 'humble',\n",
       "   'name': 'ros-humble-moveit-core',\n",
       "   'count': 11250,\n",
       "   'date': '2024'},\n",
       "  {'package': 'moveit-kinematics',\n",
       "   'distro': 'humble',\n",
       "   'name': 'ros-humble-moveit-kinematics',\n",
       "   'count': 11175,\n",
       "   'date': '2024'},\n",
       "  {'package': 'nmea-msgs',\n",
       "   'distro': 'humble',\n",
       "   'name': 'ros-humble-nmea-msgs',\n",
       "   'count': 11161,\n",
       "   'date': '2024'},\n",
       "  {'package': 'moveit-ros-move-group',\n",
       "   'distro': 'humble',\n",
       "   'name': 'ros-humble-moveit-ros-move-group',\n",
       "   'count': 11138,\n",
       "   'date': '2024'},\n",
       "  {'package': 'ros-workspace',\n",
       "   'distro': 'jazzy',\n",
       "   'name': 'ros-jazzy-ros-workspace',\n",
       "   'count': 11130,\n",
       "   'date': '2024'},\n",
       "  {'package': 'sdformat-urdf',\n",
       "   'distro': 'humble',\n",
       "   'name': 'ros-humble-sdformat-urdf',\n",
       "   'count': 11127,\n",
       "   'date': '2024'},\n",
       "  {'package': 'rosapi-msgs',\n",
       "   'distro': 'humble',\n",
       "   'name': 'ros-humble-rosapi-msgs',\n",
       "   'count': 11116,\n",
       "   'date': '2024'},\n",
       "  {'package': 'vision-msgs',\n",
       "   'distro': 'noetic',\n",
       "   'name': 'ros-noetic-vision-msgs',\n",
       "   'count': 11095,\n",
       "   'date': '2024'},\n",
       "  {'package': 'moveit-ros-planning',\n",
       "   'distro': 'humble',\n",
       "   'name': 'ros-humble-moveit-ros-planning',\n",
       "   'count': 11095,\n",
       "   'date': '2024'},\n",
       "  {'package': 'moveit-ros-occupancy-map-monitor',\n",
       "   'distro': 'humble',\n",
       "   'name': 'ros-humble-moveit-ros-occupancy-map-monitor',\n",
       "   'count': 11090,\n",
       "   'date': '2024'},\n",
       "  {'package': 'tracetools-image-pipeline',\n",
       "   'distro': 'humble',\n",
       "   'name': 'ros-humble-tracetools-image-pipeline',\n",
       "   'count': 11052,\n",
       "   'date': '2024'},\n",
       "  {'package': 'moveit-ros-planning-interface',\n",
       "   'distro': 'humble',\n",
       "   'name': 'ros-humble-moveit-ros-planning-interface',\n",
       "   'count': 11041,\n",
       "   'date': '2024'},\n",
       "  {'package': 'moveit-kinematics',\n",
       "   'distro': 'noetic',\n",
       "   'name': 'ros-noetic-moveit-kinematics',\n",
       "   'count': 11037,\n",
       "   'date': '2024'},\n",
       "  {'package': 'moveit-ros-planning-interface',\n",
       "   'distro': 'noetic',\n",
       "   'name': 'ros-noetic-moveit-ros-planning-interface',\n",
       "   'count': 11033,\n",
       "   'date': '2024'},\n",
       "  {'package': 'gazebo-ros2-control',\n",
       "   'distro': 'humble',\n",
       "   'name': 'ros-humble-gazebo-ros2-control',\n",
       "   'count': 11020,\n",
       "   'date': '2024'},\n",
       "  {'package': 'moveit-ros-warehouse',\n",
       "   'distro': 'humble',\n",
       "   'name': 'ros-humble-moveit-ros-warehouse',\n",
       "   'count': 10990,\n",
       "   'date': '2024'},\n",
       "  {'package': 'moveit-ros-warehouse',\n",
       "   'distro': 'noetic',\n",
       "   'name': 'ros-noetic-moveit-ros-warehouse',\n",
       "   'count': 10987,\n",
       "   'date': '2024'},\n",
       "  {'package': 'moveit-ros-move-group',\n",
       "   'distro': 'noetic',\n",
       "   'name': 'ros-noetic-moveit-ros-move-group',\n",
       "   'count': 10984,\n",
       "   'date': '2024'},\n",
       "  {'package': 'ros-pytest',\n",
       "   'distro': 'noetic',\n",
       "   'name': 'ros-noetic-ros-pytest',\n",
       "   'count': 10979,\n",
       "   'date': '2024'},\n",
       "  {'package': 'moveit-ros-manipulation',\n",
       "   'distro': 'noetic',\n",
       "   'name': 'ros-noetic-moveit-ros-manipulation',\n",
       "   'count': 10965,\n",
       "   'date': '2024'},\n",
       "  {'package': 'ros-gz-sim',\n",
       "   'distro': 'humble',\n",
       "   'name': 'ros-humble-ros-gz-sim',\n",
       "   'count': 10746,\n",
       "   'date': '2024'},\n",
       "  {'package': 'moveit-ros-visualization',\n",
       "   'distro': 'humble',\n",
       "   'name': 'ros-humble-moveit-ros-visualization',\n",
       "   'count': 10724,\n",
       "   'date': '2024'},\n",
       "  {'package': 'ament-cmake-clang-format',\n",
       "   'distro': 'humble',\n",
       "   'name': 'ros-humble-ament-cmake-clang-format',\n",
       "   'count': 10703,\n",
       "   'date': '2024'},\n",
       "  {'package': 'launch-param-builder',\n",
       "   'distro': 'humble',\n",
       "   'name': 'ros-humble-launch-param-builder',\n",
       "   'count': 10701,\n",
       "   'date': '2024'},\n",
       "  {'package': 'moveit-common',\n",
       "   'distro': 'humble',\n",
       "   'name': 'ros-humble-moveit-common',\n",
       "   'count': 10687,\n",
       "   'date': '2024'},\n",
       "  {'package': 'rosbridge-library',\n",
       "   'distro': 'humble',\n",
       "   'name': 'ros-humble-rosbridge-library',\n",
       "   'count': 10681,\n",
       "   'date': '2024'},\n",
       "  {'package': 'moveit-ros-perception',\n",
       "   'distro': 'noetic',\n",
       "   'name': 'ros-noetic-moveit-ros-perception',\n",
       "   'count': 10680,\n",
       "   'date': '2024'},\n",
       "  {'package': 'moveit-configs-utils',\n",
       "   'distro': 'humble',\n",
       "   'name': 'ros-humble-moveit-configs-utils',\n",
       "   'count': 10645,\n",
       "   'date': '2024'},\n",
       "  {'package': 'moveit-planners-ompl',\n",
       "   'distro': 'humble',\n",
       "   'name': 'ros-humble-moveit-planners-ompl',\n",
       "   'count': 10618,\n",
       "   'date': '2024'},\n",
       "  {'package': 'camera-calibration',\n",
       "   'distro': 'humble',\n",
       "   'name': 'ros-humble-camera-calibration',\n",
       "   'count': 10614,\n",
       "   'date': '2024'},\n",
       "  {'package': 'pybind11-catkin',\n",
       "   'distro': 'noetic',\n",
       "   'name': 'ros-noetic-pybind11-catkin',\n",
       "   'count': 10605,\n",
       "   'date': '2024'},\n",
       "  {'package': 'moveit-simple-controller-manager',\n",
       "   'distro': 'humble',\n",
       "   'name': 'ros-humble-moveit-simple-controller-manager',\n",
       "   'count': 10559,\n",
       "   'date': '2024'},\n",
       "  {'package': 'rqt-runtime-monitor',\n",
       "   'distro': 'humble',\n",
       "   'name': 'ros-humble-rqt-runtime-monitor',\n",
       "   'count': 10555,\n",
       "   'date': '2024'},\n",
       "  {'package': 'rosbridge-msgs',\n",
       "   'distro': 'humble',\n",
       "   'name': 'ros-humble-rosbridge-msgs',\n",
       "   'count': 10555,\n",
       "   'date': '2024'},\n",
       "  {'package': 'moveit-ros-robot-interaction',\n",
       "   'distro': 'humble',\n",
       "   'name': 'ros-humble-moveit-ros-robot-interaction',\n",
       "   'count': 10531,\n",
       "   'date': '2024'},\n",
       "  {'package': 'rosbridge-server',\n",
       "   'distro': 'humble',\n",
       "   'name': 'ros-humble-rosbridge-server',\n",
       "   'count': 10513,\n",
       "   'date': '2024'},\n",
       "  {'package': 'rosapi',\n",
       "   'distro': 'humble',\n",
       "   'name': 'ros-humble-rosapi',\n",
       "   'count': 10498,\n",
       "   'date': '2024'},\n",
       "  {'package': 'move-base-msgs',\n",
       "   'distro': 'noetic',\n",
       "   'name': 'ros-noetic-move-base-msgs',\n",
       "   'count': 10400,\n",
       "   'date': '2024'},\n",
       "  {'package': 'image-view',\n",
       "   'distro': 'humble',\n",
       "   'name': 'ros-humble-image-view',\n",
       "   'count': 10384,\n",
       "   'date': '2024'},\n",
       "  {'package': 'ros-gz-bridge',\n",
       "   'distro': 'humble',\n",
       "   'name': 'ros-humble-ros-gz-bridge',\n",
       "   'count': 10356,\n",
       "   'date': '2024'},\n",
       "  {'package': 'moveit-msgs',\n",
       "   'distro': 'noetic',\n",
       "   'name': 'ros-noetic-moveit-msgs',\n",
       "   'count': 10324,\n",
       "   'date': '2024'},\n",
       "  {'package': 'robot-localization',\n",
       "   'distro': 'humble',\n",
       "   'name': 'ros-humble-robot-localization',\n",
       "   'count': 10308,\n",
       "   'date': '2024'},\n",
       "  {'package': 'voxel-grid',\n",
       "   'distro': 'noetic',\n",
       "   'name': 'ros-noetic-voxel-grid',\n",
       "   'count': 10242,\n",
       "   'date': '2024'},\n",
       "  {'package': 'moveit-planners-ompl',\n",
       "   'distro': 'noetic',\n",
       "   'name': 'ros-noetic-moveit-planners-ompl',\n",
       "   'count': 10241,\n",
       "   'date': '2024'},\n",
       "  {'package': 'moveit-simple-controller-manager',\n",
       "   'distro': 'noetic',\n",
       "   'name': 'ros-noetic-moveit-simple-controller-manager',\n",
       "   'count': 10222,\n",
       "   'date': '2024'},\n",
       "  {'package': 'rcl',\n",
       "   'distro': 'jazzy',\n",
       "   'name': 'ros-jazzy-rcl',\n",
       "   'count': 10209,\n",
       "   'date': '2024'},\n",
       "  {'package': 'object-recognition-msgs',\n",
       "   'distro': 'noetic',\n",
       "   'name': 'ros-noetic-object-recognition-msgs',\n",
       "   'count': 10119,\n",
       "   'date': '2024'},\n",
       "  {'package': 'pid-controller',\n",
       "   'distro': 'humble',\n",
       "   'name': 'ros-humble-pid-controller',\n",
       "   'count': 10119,\n",
       "   'date': '2024'},\n",
       "  {'package': 'message-filters',\n",
       "   'distro': 'jazzy',\n",
       "   'name': 'ros-jazzy-message-filters',\n",
       "   'count': 10115,\n",
       "   'date': '2024'},\n",
       "  {'package': 'rmw-implementation',\n",
       "   'distro': 'jazzy',\n",
       "   'name': 'ros-jazzy-rmw-implementation',\n",
       "   'count': 10104,\n",
       "   'date': '2024'},\n",
       "  {'package': 'rcl-lifecycle',\n",
       "   'distro': 'jazzy',\n",
       "   'name': 'ros-jazzy-rcl-lifecycle',\n",
       "   'count': 10098,\n",
       "   'date': '2024'},\n",
       "  {'package': 'map-server',\n",
       "   'distro': 'noetic',\n",
       "   'name': 'ros-noetic-map-server',\n",
       "   'count': 10081,\n",
       "   'date': '2024'},\n",
       "  {'package': 'rclpy',\n",
       "   'distro': 'jazzy',\n",
       "   'name': 'ros-jazzy-rclpy',\n",
       "   'count': 10068,\n",
       "   'date': '2024'},\n",
       "  {'package': 'moveit-ros-visualization',\n",
       "   'distro': 'noetic',\n",
       "   'name': 'ros-noetic-moveit-ros-visualization',\n",
       "   'count': 10048,\n",
       "   'date': '2024'},\n",
       "  {'package': 'rcl-action',\n",
       "   'distro': 'jazzy',\n",
       "   'name': 'ros-jazzy-rcl-action',\n",
       "   'count': 10043,\n",
       "   'date': '2024'},\n",
       "  {'package': 'tf2-ros',\n",
       "   'distro': 'jazzy',\n",
       "   'name': 'ros-jazzy-tf2-ros',\n",
       "   'count': 10000,\n",
       "   'date': '2024'},\n",
       "  {'package': 'moveit-ros-robot-interaction',\n",
       "   'distro': 'noetic',\n",
       "   'name': 'ros-noetic-moveit-ros-robot-interaction',\n",
       "   'count': 10000,\n",
       "   'date': '2024'},\n",
       "  {'package': 'rviz-common',\n",
       "   'distro': 'jazzy',\n",
       "   'name': 'ros-jazzy-rviz-common',\n",
       "   'count': 9960,\n",
       "   'date': '2024'},\n",
       "  {'package': 'gripper-controllers',\n",
       "   'distro': 'humble',\n",
       "   'name': 'ros-humble-gripper-controllers',\n",
       "   'count': 9952,\n",
       "   'date': '2024'},\n",
       "  {'package': 'rclcpp',\n",
       "   'distro': 'jazzy',\n",
       "   'name': 'ros-jazzy-rclcpp',\n",
       "   'count': 9948,\n",
       "   'date': '2024'},\n",
       "  {'package': 'rviz-default-plugins',\n",
       "   'distro': 'jazzy',\n",
       "   'name': 'ros-jazzy-rviz-default-plugins',\n",
       "   'count': 9936,\n",
       "   'date': '2024'},\n",
       "  {'package': 'ros-gz-image',\n",
       "   'distro': 'humble',\n",
       "   'name': 'ros-humble-ros-gz-image',\n",
       "   'count': 9929,\n",
       "   'date': '2024'},\n",
       "  {'package': 'ros-gz-sim-demos',\n",
       "   'distro': 'humble',\n",
       "   'name': 'ros-humble-ros-gz-sim-demos',\n",
       "   'count': 9920,\n",
       "   'date': '2024'},\n",
       "  {'package': 'rviz2',\n",
       "   'distro': 'jazzy',\n",
       "   'name': 'ros-jazzy-rviz2',\n",
       "   'count': 9906,\n",
       "   'date': '2024'},\n",
       "  {'package': 'libstatistics-collector',\n",
       "   'distro': 'jazzy',\n",
       "   'name': 'ros-jazzy-libstatistics-collector',\n",
       "   'count': 9892,\n",
       "   'date': '2024'},\n",
       "  {'package': 'rcutils',\n",
       "   'distro': 'rolling',\n",
       "   'name': 'ros-rolling-rcutils',\n",
       "   'count': 9794,\n",
       "   'date': '2024'},\n",
       "  {'package': 'ament-index-python',\n",
       "   'distro': 'jazzy',\n",
       "   'name': 'ros-jazzy-ament-index-python',\n",
       "   'count': 9791,\n",
       "   'date': '2024'},\n",
       "  {'package': 'image-rotate',\n",
       "   'distro': 'humble',\n",
       "   'name': 'ros-humble-image-rotate',\n",
       "   'count': 9791,\n",
       "   'date': '2024'},\n",
       "  {'package': 'action-msgs',\n",
       "   'distro': 'rolling',\n",
       "   'name': 'ros-rolling-action-msgs',\n",
       "   'count': 9784,\n",
       "   'date': '2024'},\n",
       "  {'package': 'rosidl-runtime-c',\n",
       "   'distro': 'rolling',\n",
       "   'name': 'ros-rolling-rosidl-runtime-c',\n",
       "   'count': 9783,\n",
       "   'date': '2024'},\n",
       "  {'package': 'unique-identifier-msgs',\n",
       "   'distro': 'rolling',\n",
       "   'name': 'ros-rolling-unique-identifier-msgs',\n",
       "   'count': 9783,\n",
       "   'date': '2024'},\n",
       "  {'package': 'rosidl-generator-c',\n",
       "   'distro': 'rolling',\n",
       "   'name': 'ros-rolling-rosidl-generator-c',\n",
       "   'count': 9782,\n",
       "   'date': '2024'},\n",
       "  {'package': 'rosidl-typesupport-c',\n",
       "   'distro': 'rolling',\n",
       "   'name': 'ros-rolling-rosidl-typesupport-c',\n",
       "   'count': 9781,\n",
       "   'date': '2024'},\n",
       "  {'package': 'rosidl-runtime-cpp',\n",
       "   'distro': 'rolling',\n",
       "   'name': 'ros-rolling-rosidl-runtime-cpp',\n",
       "   'count': 9780,\n",
       "   'date': '2024'},\n",
       "  {'package': 'rosidl-typesupport-introspection-cpp',\n",
       "   'distro': 'rolling',\n",
       "   'name': 'ros-rolling-rosidl-typesupport-introspection-cpp',\n",
       "   'count': 9780,\n",
       "   'date': '2024'},\n",
       "  {'package': 'rcpputils',\n",
       "   'distro': 'rolling',\n",
       "   'name': 'ros-rolling-rcpputils',\n",
       "   'count': 9780,\n",
       "   'date': '2024'},\n",
       "  {'package': 'rmw',\n",
       "   'distro': 'rolling',\n",
       "   'name': 'ros-rolling-rmw',\n",
       "   'count': 9779,\n",
       "   'date': '2024'},\n",
       "  {'package': 'rosidl-typesupport-introspection-c',\n",
       "   'distro': 'rolling',\n",
       "   'name': 'ros-rolling-rosidl-typesupport-introspection-c',\n",
       "   'count': 9779,\n",
       "   'date': '2024'},\n",
       "  {'package': 'builtin-interfaces',\n",
       "   'distro': 'rolling',\n",
       "   'name': 'ros-rolling-builtin-interfaces',\n",
       "   'count': 9777,\n",
       "   'date': '2024'},\n",
       "  {'package': 'rosidl-generator-py',\n",
       "   'distro': 'rolling',\n",
       "   'name': 'ros-rolling-rosidl-generator-py',\n",
       "   'count': 9776,\n",
       "   'date': '2024'},\n",
       "  {'package': 'rosidl-default-runtime',\n",
       "   'distro': 'rolling',\n",
       "   'name': 'ros-rolling-rosidl-default-runtime',\n",
       "   'count': 9776,\n",
       "   'date': '2024'},\n",
       "  {'package': 'rosidl-typesupport-cpp',\n",
       "   'distro': 'rolling',\n",
       "   'name': 'ros-rolling-rosidl-typesupport-cpp',\n",
       "   'count': 9775,\n",
       "   'date': '2024'},\n",
       "  {'package': 'tf2-geometry-msgs',\n",
       "   'distro': 'jazzy',\n",
       "   'name': 'ros-jazzy-tf2-geometry-msgs',\n",
       "   'count': 9763,\n",
       "   'date': '2024'},\n",
       "  {'package': 'rosidl-generator-cpp',\n",
       "   'distro': 'rolling',\n",
       "   'name': 'ros-rolling-rosidl-generator-cpp',\n",
       "   'count': 9759,\n",
       "   'date': '2024'},\n",
       "  {'package': 'moveit-fake-controller-manager',\n",
       "   'distro': 'noetic',\n",
       "   'name': 'ros-noetic-moveit-fake-controller-manager',\n",
       "   'count': 9759,\n",
       "   'date': '2024'},\n",
       "  {'package': 'ros-testing',\n",
       "   'distro': 'humble',\n",
       "   'name': 'ros-humble-ros-testing',\n",
       "   'count': 9745,\n",
       "   'date': '2024'},\n",
       "  {'package': 'eigenpy',\n",
       "   'distro': 'noetic',\n",
       "   'name': 'ros-noetic-eigenpy',\n",
       "   'count': 9745,\n",
       "   'date': '2024'},\n",
       "  {'package': 'cartographer',\n",
       "   'distro': 'humble',\n",
       "   'name': 'ros-humble-cartographer',\n",
       "   'count': 9736,\n",
       "   'date': '2024'},\n",
       "  {'package': 'ros2test',\n",
       "   'distro': 'humble',\n",
       "   'name': 'ros-humble-ros2test',\n",
       "   'count': 9707,\n",
       "   'date': '2024'},\n",
       "  {'package': 'stereo-image-proc',\n",
       "   'distro': 'humble',\n",
       "   'name': 'ros-humble-stereo-image-proc',\n",
       "   'count': 9705,\n",
       "   'date': '2024'},\n",
       "  {'package': 'joint-trajectory-controller',\n",
       "   'distro': 'noetic',\n",
       "   'name': 'ros-noetic-joint-trajectory-controller',\n",
       "   'count': 9692,\n",
       "   'date': '2024'},\n",
       "  {'package': 'rosidl-typesupport-fastrtps-c',\n",
       "   'distro': 'rolling',\n",
       "   'name': 'ros-rolling-rosidl-typesupport-fastrtps-c',\n",
       "   'count': 9688,\n",
       "   'date': '2024'},\n",
       "  {'package': 'rosidl-typesupport-fastrtps-cpp',\n",
       "   'distro': 'rolling',\n",
       "   'name': 'ros-rolling-rosidl-typesupport-fastrtps-cpp',\n",
       "   'count': 9688,\n",
       "   'date': '2024'},\n",
       "  {'package': 'eigen-stl-containers',\n",
       "   'distro': 'noetic',\n",
       "   'name': 'ros-noetic-eigen-stl-containers',\n",
       "   'count': 9665,\n",
       "   'date': '2024'},\n",
       "  {'package': 'rcl-yaml-param-parser',\n",
       "   'distro': 'rolling',\n",
       "   'name': 'ros-rolling-rcl-yaml-param-parser',\n",
       "   'count': 9641,\n",
       "   'date': '2024'},\n",
       "  {'package': 'rcl-interfaces',\n",
       "   'distro': 'rolling',\n",
       "   'name': 'ros-rolling-rcl-interfaces',\n",
       "   'count': 9639,\n",
       "   'date': '2024'},\n",
       "  {'package': 'rmw-dds-common',\n",
       "   'distro': 'rolling',\n",
       "   'name': 'ros-rolling-rmw-dds-common',\n",
       "   'count': 9638,\n",
       "   'date': '2024'},\n",
       "  {'package': 'rcl-logging-spdlog',\n",
       "   'distro': 'rolling',\n",
       "   'name': 'ros-rolling-rcl-logging-spdlog',\n",
       "   'count': 9635,\n",
       "   'date': '2024'},\n",
       "  {'package': 'rmw-implementation',\n",
       "   'distro': 'rolling',\n",
       "   'name': 'ros-rolling-rmw-implementation',\n",
       "   'count': 9633,\n",
       "   'date': '2024'},\n",
       "  {'package': 'rcl-logging-interface',\n",
       "   'distro': 'rolling',\n",
       "   'name': 'ros-rolling-rcl-logging-interface',\n",
       "   'count': 9628,\n",
       "   'date': '2024'},\n",
       "  {'package': 'rcl',\n",
       "   'distro': 'rolling',\n",
       "   'name': 'ros-rolling-rcl',\n",
       "   'count': 9627,\n",
       "   'date': '2024'},\n",
       "  {'package': 'ament-lint',\n",
       "   'distro': 'jazzy',\n",
       "   'name': 'ros-jazzy-ament-lint',\n",
       "   'count': 9626,\n",
       "   'date': '2024'},\n",
       "  {'package': 'costmap-2d',\n",
       "   'distro': 'noetic',\n",
       "   'name': 'ros-noetic-costmap-2d',\n",
       "   'count': 9625,\n",
       "   'date': '2024'},\n",
       "  {'package': 'image-transport',\n",
       "   'distro': 'jazzy',\n",
       "   'name': 'ros-jazzy-image-transport',\n",
       "   'count': 9621,\n",
       "   'date': '2024'},\n",
       "  {'package': 'rmw-implementation-cmake',\n",
       "   'distro': 'rolling',\n",
       "   'name': 'ros-rolling-rmw-implementation-cmake',\n",
       "   'count': 9621,\n",
       "   'date': '2024'},\n",
       "  {'package': 'rclcpp-action',\n",
       "   'distro': 'jazzy',\n",
       "   'name': 'ros-jazzy-rclcpp-action',\n",
       "   'count': 9620,\n",
       "   'date': '2024'},\n",
       "  {'package': 'service-msgs',\n",
       "   'distro': 'rolling',\n",
       "   'name': 'ros-rolling-service-msgs',\n",
       "   'count': 9617,\n",
       "   'date': '2024'},\n",
       "  {'package': 'ros2cli',\n",
       "   'distro': 'jazzy',\n",
       "   'name': 'ros-jazzy-ros2cli',\n",
       "   'count': 9616,\n",
       "   'date': '2024'},\n",
       "  {'package': 'rosidl-dynamic-typesupport',\n",
       "   'distro': 'rolling',\n",
       "   'name': 'ros-rolling-rosidl-dynamic-typesupport',\n",
       "   'count': 9614,\n",
       "   'date': '2024'},\n",
       "  {'package': 'rosidl-core-runtime',\n",
       "   'distro': 'rolling',\n",
       "   'name': 'ros-rolling-rosidl-core-runtime',\n",
       "   'count': 9608,\n",
       "   'date': '2024'},\n",
       "  {'package': 'std-msgs',\n",
       "   'distro': 'rolling',\n",
       "   'name': 'ros-rolling-std-msgs',\n",
       "   'count': 9568,\n",
       "   'date': '2024'},\n",
       "  {'package': 'usb-cam',\n",
       "   'distro': 'humble',\n",
       "   'name': 'ros-humble-usb-cam',\n",
       "   'count': 9564,\n",
       "   'date': '2024'},\n",
       "  {'package': 'statistics-msgs',\n",
       "   'distro': 'rolling',\n",
       "   'name': 'ros-rolling-statistics-msgs',\n",
       "   'count': 9562,\n",
       "   'date': '2024'},\n",
       "  {'package': 'fastrtps',\n",
       "   'distro': 'rolling',\n",
       "   'name': 'ros-rolling-fastrtps',\n",
       "   'count': 9541,\n",
       "   'date': '2024'},\n",
       "  {'package': 'ros2pkg',\n",
       "   'distro': 'jazzy',\n",
       "   'name': 'ros-jazzy-ros2pkg',\n",
       "   'count': 9540,\n",
       "   'date': '2024'},\n",
       "  {'package': 'rmw-fastrtps-shared-cpp',\n",
       "   'distro': 'rolling',\n",
       "   'name': 'ros-rolling-rmw-fastrtps-shared-cpp',\n",
       "   'count': 9534,\n",
       "   'date': '2024'},\n",
       "  {'package': 'rmw-fastrtps-cpp',\n",
       "   'distro': 'rolling',\n",
       "   'name': 'ros-rolling-rmw-fastrtps-cpp',\n",
       "   'count': 9533,\n",
       "   'date': '2024'},\n",
       "  {'package': 'image-pipeline',\n",
       "   'distro': 'humble',\n",
       "   'name': 'ros-humble-image-pipeline',\n",
       "   'count': 9486,\n",
       "   'date': '2024'},\n",
       "  {'package': 'ompl',\n",
       "   'distro': 'noetic',\n",
       "   'name': 'ros-noetic-ompl',\n",
       "   'count': 9476,\n",
       "   'date': '2024'},\n",
       "  {'package': 'type-description-interfaces',\n",
       "   'distro': 'rolling',\n",
       "   'name': 'ros-rolling-type-description-interfaces',\n",
       "   'count': 9464,\n",
       "   'date': '2024'},\n",
       "  {'package': 'rosidl-dynamic-typesupport-fastrtps',\n",
       "   'distro': 'rolling',\n",
       "   'name': 'ros-rolling-rosidl-dynamic-typesupport-fastrtps',\n",
       "   'count': 9462,\n",
       "   'date': '2024'},\n",
       "  {'package': 'message-filters',\n",
       "   'distro': 'iron',\n",
       "   'name': 'ros-iron-message-filters',\n",
       "   'count': 9439,\n",
       "   'date': '2024'},\n",
       "  {'package': 'rqt-tf-tree',\n",
       "   'distro': 'humble',\n",
       "   'name': 'ros-humble-rqt-tf-tree',\n",
       "   'count': 9435,\n",
       "   'date': '2024'},\n",
       "  {'package': 'ament-cpplint',\n",
       "   'distro': 'rolling',\n",
       "   'name': 'ros-rolling-ament-cpplint',\n",
       "   'count': 9432,\n",
       "   'date': '2024'},\n",
       "  {'package': 'ament-cppcheck',\n",
       "   'distro': 'rolling',\n",
       "   'name': 'ros-rolling-ament-cppcheck',\n",
       "   'count': 9428,\n",
       "   'date': '2024'},\n",
       "  {'package': 'tf2-eigen',\n",
       "   'distro': 'jazzy',\n",
       "   'name': 'ros-jazzy-tf2-eigen',\n",
       "   'count': 9404,\n",
       "   'date': '2024'},\n",
       "  {'package': 'nav-core',\n",
       "   'distro': 'noetic',\n",
       "   'name': 'ros-noetic-nav-core',\n",
       "   'count': 9401,\n",
       "   'date': '2024'},\n",
       "  {'package': 'image-transport',\n",
       "   'distro': 'iron',\n",
       "   'name': 'ros-iron-image-transport',\n",
       "   'count': 9370,\n",
       "   'date': '2024'},\n",
       "  {'package': 'launch-ros',\n",
       "   'distro': 'jazzy',\n",
       "   'name': 'ros-jazzy-launch-ros',\n",
       "   'count': 9367,\n",
       "   'date': '2024'},\n",
       "  {'package': 'ros-workspace',\n",
       "   'distro': 'iron',\n",
       "   'name': 'ros-iron-ros-workspace',\n",
       "   'count': 9329,\n",
       "   'date': '2024'},\n",
       "  {'package': 'ament-pep257',\n",
       "   'distro': 'jazzy',\n",
       "   'name': 'ros-jazzy-ament-pep257',\n",
       "   'count': 9324,\n",
       "   'date': '2024'},\n",
       "  {'package': 'ament-pep257',\n",
       "   'distro': 'rolling',\n",
       "   'name': 'ros-rolling-ament-pep257',\n",
       "   'count': 9312,\n",
       "   'date': '2024'},\n",
       "  {'package': 'tf2-ros',\n",
       "   'distro': 'iron',\n",
       "   'name': 'ros-iron-tf2-ros',\n",
       "   'count': 9310,\n",
       "   'date': '2024'},\n",
       "  {'package': 'rclcpp-lifecycle',\n",
       "   'distro': 'jazzy',\n",
       "   'name': 'ros-jazzy-rclcpp-lifecycle',\n",
       "   'count': 9302,\n",
       "   'date': '2024'},\n",
       "  {'package': 'ament-cmake-core',\n",
       "   'distro': 'rolling',\n",
       "   'name': 'ros-rolling-ament-cmake-core',\n",
       "   'count': 9250,\n",
       "   'date': '2024'},\n",
       "  {'package': 'ament-cmake-test',\n",
       "   'distro': 'rolling',\n",
       "   'name': 'ros-rolling-ament-cmake-test',\n",
       "   'count': 9248,\n",
       "   'date': '2024'},\n",
       "  {'package': 'rclcpp-components',\n",
       "   'distro': 'jazzy',\n",
       "   'name': 'ros-jazzy-rclcpp-components',\n",
       "   'count': 9247,\n",
       "   'date': '2024'},\n",
       "  {'package': 'tf2-geometry-msgs',\n",
       "   'distro': 'iron',\n",
       "   'name': 'ros-iron-tf2-geometry-msgs',\n",
       "   'count': 9247,\n",
       "   'date': '2024'},\n",
       "  {'package': 'ament-package',\n",
       "   'distro': 'rolling',\n",
       "   'name': 'ros-rolling-ament-package',\n",
       "   'count': 9246,\n",
       "   'date': '2024'},\n",
       "  {'package': 'ament-uncrustify',\n",
       "   'distro': 'rolling',\n",
       "   'name': 'ros-rolling-ament-uncrustify',\n",
       "   'count': 9243,\n",
       "   'date': '2024'},\n",
       "  {'package': 'ament-cmake-flake8',\n",
       "   'distro': 'rolling',\n",
       "   'name': 'ros-rolling-ament-cmake-flake8',\n",
       "   'count': 9239,\n",
       "   'date': '2024'},\n",
       "  {'package': 'ament-cmake-pep257',\n",
       "   'distro': 'rolling',\n",
       "   'name': 'ros-rolling-ament-cmake-pep257',\n",
       "   'count': 9236,\n",
       "   'date': '2024'},\n",
       "  {'package': 'ament-cmake',\n",
       "   'distro': 'rolling',\n",
       "   'name': 'ros-rolling-ament-cmake',\n",
       "   'count': 9236,\n",
       "   'date': '2024'},\n",
       "  {'package': 'ament-cmake-export-libraries',\n",
       "   'distro': 'rolling',\n",
       "   'name': 'ros-rolling-ament-cmake-export-libraries',\n",
       "   'count': 9236,\n",
       "   'date': '2024'},\n",
       "  {'package': 'ament-cmake-libraries',\n",
       "   'distro': 'rolling',\n",
       "   'name': 'ros-rolling-ament-cmake-libraries',\n",
       "   'count': 9236,\n",
       "   'date': '2024'},\n",
       "  {'package': 'ament-cmake-cppcheck',\n",
       "   'distro': 'rolling',\n",
       "   'name': 'ros-rolling-ament-cmake-cppcheck',\n",
       "   'count': 9235,\n",
       "   'date': '2024'},\n",
       "  {'package': 'ament-cmake-export-dependencies',\n",
       "   'distro': 'rolling',\n",
       "   'name': 'ros-rolling-ament-cmake-export-dependencies',\n",
       "   'count': 9235,\n",
       "   'date': '2024'},\n",
       "  {'package': 'ament-cmake-export-include-directories',\n",
       "   'distro': 'rolling',\n",
       "   'name': 'ros-rolling-ament-cmake-export-include-directories',\n",
       "   'count': 9235,\n",
       "   'date': '2024'},\n",
       "  {'package': 'ament-cmake-export-interfaces',\n",
       "   'distro': 'rolling',\n",
       "   'name': 'ros-rolling-ament-cmake-export-interfaces',\n",
       "   'count': 9234,\n",
       "   'date': '2024'},\n",
       "  {'package': 'srdfdom',\n",
       "   'distro': 'noetic',\n",
       "   'name': 'ros-noetic-srdfdom',\n",
       "   'count': 9233,\n",
       "   'date': '2024'},\n",
       "  {'package': 'ament-cmake-cpplint',\n",
       "   'distro': 'rolling',\n",
       "   'name': 'ros-rolling-ament-cmake-cpplint',\n",
       "   'count': 9233,\n",
       "   'date': '2024'},\n",
       "  {'package': 'ament-cmake-export-link-flags',\n",
       "   'distro': 'rolling',\n",
       "   'name': 'ros-rolling-ament-cmake-export-link-flags',\n",
       "   'count': 9233,\n",
       "   'date': '2024'},\n",
       "  {'package': 'ament-cmake-include-directories',\n",
       "   'distro': 'rolling',\n",
       "   'name': 'ros-rolling-ament-cmake-include-directories',\n",
       "   'count': 9232,\n",
       "   'date': '2024'},\n",
       "  {'package': 'ament-cmake-gen-version-h',\n",
       "   'distro': 'rolling',\n",
       "   'name': 'ros-rolling-ament-cmake-gen-version-h',\n",
       "   'count': 9232,\n",
       "   'date': '2024'},\n",
       "  {'package': 'ament-cmake-version',\n",
       "   'distro': 'rolling',\n",
       "   'name': 'ros-rolling-ament-cmake-version',\n",
       "   'count': 9232,\n",
       "   'date': '2024'},\n",
       "  {'package': 'ament-cmake-target-dependencies',\n",
       "   'distro': 'rolling',\n",
       "   'name': 'ros-rolling-ament-cmake-target-dependencies',\n",
       "   'count': 9232,\n",
       "   'date': '2024'},\n",
       "  {'package': 'ament-cmake-export-targets',\n",
       "   'distro': 'rolling',\n",
       "   'name': 'ros-rolling-ament-cmake-export-targets',\n",
       "   'count': 9231,\n",
       "   'date': '2024'},\n",
       "  {'package': 'ament-cmake-python',\n",
       "   'distro': 'rolling',\n",
       "   'name': 'ros-rolling-ament-cmake-python',\n",
       "   'count': 9231,\n",
       "   'date': '2024'},\n",
       "  {'package': 'uncrustify-vendor',\n",
       "   'distro': 'rolling',\n",
       "   'name': 'ros-rolling-uncrustify-vendor',\n",
       "   'count': 9230,\n",
       "   'date': '2024'},\n",
       "  {'package': 'ament-cmake-uncrustify',\n",
       "   'distro': 'rolling',\n",
       "   'name': 'ros-rolling-ament-cmake-uncrustify',\n",
       "   'count': 9230,\n",
       "   'date': '2024'},\n",
       "  {'package': 'ament-cmake-export-definitions',\n",
       "   'distro': 'rolling',\n",
       "   'name': 'ros-rolling-ament-cmake-export-definitions',\n",
       "   'count': 9230,\n",
       "   'date': '2024'},\n",
       "  {'package': 'ament-index-python',\n",
       "   'distro': 'rolling',\n",
       "   'name': 'ros-rolling-ament-index-python',\n",
       "   'count': 9223,\n",
       "   'date': '2024'},\n",
       "  {'package': 'rosidl-typesupport-interface',\n",
       "   'distro': 'rolling',\n",
       "   'name': 'ros-rolling-rosidl-typesupport-interface',\n",
       "   'count': 9217,\n",
       "   'date': '2024'},\n",
       "  {'package': 'rosidl-cmake',\n",
       "   'distro': 'rolling',\n",
       "   'name': 'ros-rolling-rosidl-cmake',\n",
       "   'count': 9217,\n",
       "   'date': '2024'},\n",
       "  {'package': 'gtest-vendor',\n",
       "   'distro': 'rolling',\n",
       "   'name': 'ros-rolling-gtest-vendor',\n",
       "   'count': 9216,\n",
       "   'date': '2024'},\n",
       "  {'package': 'ament-flake8',\n",
       "   'distro': 'jazzy',\n",
       "   'name': 'ros-jazzy-ament-flake8',\n",
       "   'count': 9213,\n",
       "   'date': '2024'},\n",
       "  {'package': 'ament-cmake-gtest',\n",
       "   'distro': 'rolling',\n",
       "   'name': 'ros-rolling-ament-cmake-gtest',\n",
       "   'count': 9213,\n",
       "   'date': '2024'},\n",
       "  {'package': 'rosidl-parser',\n",
       "   'distro': 'rolling',\n",
       "   'name': 'ros-rolling-rosidl-parser',\n",
       "   'count': 9211,\n",
       "   'date': '2024'},\n",
       "  {'package': 'rosidl-cli',\n",
       "   'distro': 'rolling',\n",
       "   'name': 'ros-rolling-rosidl-cli',\n",
       "   'count': 9211,\n",
       "   'date': '2024'},\n",
       "  {'package': 'rosidl-adapter',\n",
       "   'distro': 'rolling',\n",
       "   'name': 'ros-rolling-rosidl-adapter',\n",
       "   'count': 9211,\n",
       "   'date': '2024'},\n",
       "  {'package': 'fastcdr',\n",
       "   'distro': 'rolling',\n",
       "   'name': 'ros-rolling-fastcdr',\n",
       "   'count': 9210,\n",
       "   'date': '2024'},\n",
       "  {'package': 'python-cmake-module',\n",
       "   'distro': 'rolling',\n",
       "   'name': 'ros-rolling-python-cmake-module',\n",
       "   'count': 9209,\n",
       "   'date': '2024'},\n",
       "  {'package': 'rpyutils',\n",
       "   'distro': 'rolling',\n",
       "   'name': 'ros-rolling-rpyutils',\n",
       "   'count': 9209,\n",
       "   'date': '2024'},\n",
       "  {'package': 'ament-cmake-ros',\n",
       "   'distro': 'rolling',\n",
       "   'name': 'ros-rolling-ament-cmake-ros',\n",
       "   'count': 9200,\n",
       "   'date': '2024'},\n",
       "  {'package': 'domain-coordinator',\n",
       "   'distro': 'rolling',\n",
       "   'name': 'ros-rolling-domain-coordinator',\n",
       "   'count': 9196,\n",
       "   'date': '2024'},\n",
       "  {'package': 'ament-cmake-gmock',\n",
       "   'distro': 'rolling',\n",
       "   'name': 'ros-rolling-ament-cmake-gmock',\n",
       "   'count': 9191,\n",
       "   'date': '2024'},\n",
       "  {'package': 'rviz-assimp-vendor',\n",
       "   'distro': 'jazzy',\n",
       "   'name': 'ros-jazzy-rviz-assimp-vendor',\n",
       "   'count': 9191,\n",
       "   'date': '2024'},\n",
       "  {'package': 'gmock-vendor',\n",
       "   'distro': 'rolling',\n",
       "   'name': 'ros-rolling-gmock-vendor',\n",
       "   'count': 9190,\n",
       "   'date': '2024'},\n",
       "  {'package': 'rviz-ogre-vendor',\n",
       "   'distro': 'jazzy',\n",
       "   'name': 'ros-jazzy-rviz-ogre-vendor',\n",
       "   'count': 9185,\n",
       "   'date': '2024'},\n",
       "  {'package': 'ament-cmake-pytest',\n",
       "   'distro': 'rolling',\n",
       "   'name': 'ros-rolling-ament-cmake-pytest',\n",
       "   'count': 9181,\n",
       "   'date': '2024'},\n",
       "  {'package': 'rviz-rendering',\n",
       "   'distro': 'jazzy',\n",
       "   'name': 'ros-jazzy-rviz-rendering',\n",
       "   'count': 9167,\n",
       "   'date': '2024'},\n",
       "  {'package': 'moveit-setup-assistant',\n",
       "   'distro': 'noetic',\n",
       "   'name': 'ros-noetic-moveit-setup-assistant',\n",
       "   'count': 9149,\n",
       "   'date': '2024'},\n",
       "  {'package': 'interactive-markers',\n",
       "   'distro': 'jazzy',\n",
       "   'name': 'ros-jazzy-interactive-markers',\n",
       "   'count': 9129,\n",
       "   'date': '2024'},\n",
       "  {'package': 'fastrtps-cmake-module',\n",
       "   'distro': 'rolling',\n",
       "   'name': 'ros-rolling-fastrtps-cmake-module',\n",
       "   'count': 9118,\n",
       "   'date': '2024'},\n",
       "  {'package': 'ament-index-cpp',\n",
       "   'distro': 'jazzy',\n",
       "   'name': 'ros-jazzy-ament-index-cpp',\n",
       "   'count': 9096,\n",
       "   'date': '2024'},\n",
       "  {'package': 'ruckig',\n",
       "   'distro': 'noetic',\n",
       "   'name': 'ros-noetic-ruckig',\n",
       "   'count': 9085,\n",
       "   'date': '2024'},\n",
       "  {'package': 'moveit-planners',\n",
       "   'distro': 'humble',\n",
       "   'name': 'ros-humble-moveit-planners',\n",
       "   'count': 9077,\n",
       "   'date': '2024'},\n",
       "  {'package': '',\n",
       "   'distro': 'vcstools',\n",
       "   'name': 'python3-vcstools',\n",
       "   'count': 9075,\n",
       "   'date': '2024'},\n",
       "  {'package': 'tracetools',\n",
       "   'distro': 'rolling',\n",
       "   'name': 'ros-rolling-tracetools',\n",
       "   'count': 9073,\n",
       "   'date': '2024'},\n",
       "  {'package': 'ament-cmake-python',\n",
       "   'distro': 'jazzy',\n",
       "   'name': 'ros-jazzy-ament-cmake-python',\n",
       "   'count': 9071,\n",
       "   'date': '2024'},\n",
       "  {'package': 'ament-cmake-export-targets',\n",
       "   'distro': 'jazzy',\n",
       "   'name': 'ros-jazzy-ament-cmake-export-targets',\n",
       "   'count': 9071,\n",
       "   'date': '2024'},\n",
       "  {'package': 'ament-index-cpp',\n",
       "   'distro': 'rolling',\n",
       "   'name': 'ros-rolling-ament-index-cpp',\n",
       "   'count': 9070,\n",
       "   'date': '2024'},\n",
       "  {'package': 'spdlog-vendor',\n",
       "   'distro': 'rolling',\n",
       "   'name': 'ros-rolling-spdlog-vendor',\n",
       "   'count': 9068,\n",
       "   'date': '2024'},\n",
       "  {'package': 'point-cloud-transport',\n",
       "   'distro': 'jazzy',\n",
       "   'name': 'ros-jazzy-point-cloud-transport',\n",
       "   'count': 9063,\n",
       "   'date': '2024'},\n",
       "  {'package': 'libyaml-vendor',\n",
       "   'distro': 'rolling',\n",
       "   'name': 'ros-rolling-libyaml-vendor',\n",
       "   'count': 9062,\n",
       "   'date': '2024'},\n",
       "  {'package': 'ament-cmake-gen-version-h',\n",
       "   'distro': 'jazzy',\n",
       "   'name': 'ros-jazzy-ament-cmake-gen-version-h',\n",
       "   'count': 9061,\n",
       "   'date': '2024'},\n",
       "  {'package': 'ament-cmake-test',\n",
       "   'distro': 'jazzy',\n",
       "   'name': 'ros-jazzy-ament-cmake-test',\n",
       "   'count': 9059,\n",
       "   'date': '2024'},\n",
       "  {'package': 'ament-cmake-target-dependencies',\n",
       "   'distro': 'jazzy',\n",
       "   'name': 'ros-jazzy-ament-cmake-target-dependencies',\n",
       "   'count': 9057,\n",
       "   'date': '2024'},\n",
       "  {'package': 'rosidl-generator-type-description',\n",
       "   'distro': 'rolling',\n",
       "   'name': 'ros-rolling-rosidl-generator-type-description',\n",
       "   'count': 9048,\n",
       "   'date': '2024'},\n",
       "  {'package': 'rosidl-pycommon',\n",
       "   'distro': 'rolling',\n",
       "   'name': 'ros-rolling-rosidl-pycommon',\n",
       "   'count': 9046,\n",
       "   'date': '2024'},\n",
       "  {'package': 'ament-cmake-include-directories',\n",
       "   'distro': 'jazzy',\n",
       "   'name': 'ros-jazzy-ament-cmake-include-directories',\n",
       "   'count': 9034,\n",
       "   'date': '2024'},\n",
       "  {'package': 'ament-cmake',\n",
       "   'distro': 'jazzy',\n",
       "   'name': 'ros-jazzy-ament-cmake',\n",
       "   'count': 9020,\n",
       "   'date': '2024'},\n",
       "  {'package': 'ament-cmake-export-link-flags',\n",
       "   'distro': 'jazzy',\n",
       "   'name': 'ros-jazzy-ament-cmake-export-link-flags',\n",
       "   'count': 8992,\n",
       "   'date': '2024'},\n",
       "  {'package': 'ament-cmake-export-interfaces',\n",
       "   'distro': 'jazzy',\n",
       "   'name': 'ros-jazzy-ament-cmake-export-interfaces',\n",
       "   'count': 8987,\n",
       "   'date': '2024'},\n",
       "  {'package': 'fcl',\n",
       "   'distro': 'noetic',\n",
       "   'name': 'ros-noetic-fcl',\n",
       "   'count': 8986,\n",
       "   'date': '2024'},\n",
       "  {'package': 'ament-uncrustify',\n",
       "   'distro': 'jazzy',\n",
       "   'name': 'ros-jazzy-ament-uncrustify',\n",
       "   'count': 8979,\n",
       "   'date': '2024'},\n",
       "  {'package': 'ros2run',\n",
       "   'distro': 'jazzy',\n",
       "   'name': 'ros-jazzy-ros2run',\n",
       "   'count': 8979,\n",
       "   'date': '2024'},\n",
       "  {'package': 'pilz-industrial-motion-planner',\n",
       "   'distro': 'humble',\n",
       "   'name': 'ros-humble-pilz-industrial-motion-planner',\n",
       "   'count': 8978,\n",
       "   'date': '2024'},\n",
       "  {'package': 'robot-state-publisher',\n",
       "   'distro': 'jazzy',\n",
       "   'name': 'ros-jazzy-robot-state-publisher',\n",
       "   'count': 8976,\n",
       "   'date': '2024'},\n",
       "  {'package': 'ament-cmake-version',\n",
       "   'distro': 'jazzy',\n",
       "   'name': 'ros-jazzy-ament-cmake-version',\n",
       "   'count': 8974,\n",
       "   'date': '2024'},\n",
       "  {'package': 'ament-cmake-core',\n",
       "   'distro': 'jazzy',\n",
       "   'name': 'ros-jazzy-ament-cmake-core',\n",
       "   'count': 8974,\n",
       "   'date': '2024'},\n",
       "  {'package': 'ament-cmake-cpplint',\n",
       "   'distro': 'jazzy',\n",
       "   'name': 'ros-jazzy-ament-cmake-cpplint',\n",
       "   'count': 8974,\n",
       "   'date': '2024'},\n",
       "  {'package': 'foonathan-memory-vendor',\n",
       "   'distro': 'rolling',\n",
       "   'name': 'ros-rolling-foonathan-memory-vendor',\n",
       "   'count': 8974,\n",
       "   'date': '2024'},\n",
       "  {'package': 'ament-cmake-export-libraries',\n",
       "   'distro': 'jazzy',\n",
       "   'name': 'ros-jazzy-ament-cmake-export-libraries',\n",
       "   'count': 8969,\n",
       "   'date': '2024'},\n",
       "  {'package': 'ament-cmake-cppcheck',\n",
       "   'distro': 'jazzy',\n",
       "   'name': 'ros-jazzy-ament-cmake-cppcheck',\n",
       "   'count': 8969,\n",
       "   'date': '2024'},\n",
       "  {'package': 'ament-cmake-uncrustify',\n",
       "   'distro': 'jazzy',\n",
       "   'name': 'ros-jazzy-ament-cmake-uncrustify',\n",
       "   'count': 8968,\n",
       "   'date': '2024'},\n",
       "  {'package': 'ament-cmake-flake8',\n",
       "   'distro': 'jazzy',\n",
       "   'name': 'ros-jazzy-ament-cmake-flake8',\n",
       "   'count': 8968,\n",
       "   'date': '2024'},\n",
       "  {'package': 'ament-cmake-export-include-directories',\n",
       "   'distro': 'jazzy',\n",
       "   'name': 'ros-jazzy-ament-cmake-export-include-directories',\n",
       "   'count': 8963,\n",
       "   'date': '2024'},\n",
       "  {'package': 'uncrustify-vendor',\n",
       "   'distro': 'jazzy',\n",
       "   'name': 'ros-jazzy-uncrustify-vendor',\n",
       "   'count': 8961,\n",
       "   'date': '2024'},\n",
       "  {'package': 'ament-cppcheck',\n",
       "   'distro': 'jazzy',\n",
       "   'name': 'ros-jazzy-ament-cppcheck',\n",
       "   'count': 8961,\n",
       "   'date': '2024'},\n",
       "  {'package': 'rosidl-adapter',\n",
       "   'distro': 'jazzy',\n",
       "   'name': 'ros-jazzy-rosidl-adapter',\n",
       "   'count': 8960,\n",
       "   'date': '2024'},\n",
       "  {'package': 'rosidl-typesupport-fastrtps-c',\n",
       "   'distro': 'jazzy',\n",
       "   'name': 'ros-jazzy-rosidl-typesupport-fastrtps-c',\n",
       "   'count': 8959,\n",
       "   'date': '2024'},\n",
       "  {'package': 'rosidl-generator-cpp',\n",
       "   'distro': 'jazzy',\n",
       "   'name': 'ros-jazzy-rosidl-generator-cpp',\n",
       "   'count': 8958,\n",
       "   'date': '2024'},\n",
       "  {'package': 'rcpputils',\n",
       "   'distro': 'jazzy',\n",
       "   'name': 'ros-jazzy-rcpputils',\n",
       "   'count': 8957,\n",
       "   'date': '2024'},\n",
       "  {'package': 'rosidl-pycommon',\n",
       "   'distro': 'jazzy',\n",
       "   'name': 'ros-jazzy-rosidl-pycommon',\n",
       "   'count': 8957,\n",
       "   'date': '2024'},\n",
       "  {'package': 'ament-cpplint',\n",
       "   'distro': 'jazzy',\n",
       "   'name': 'ros-jazzy-ament-cpplint',\n",
       "   'count': 8955,\n",
       "   'date': '2024'},\n",
       "  {'package': 'ros-environment',\n",
       "   'distro': 'jazzy',\n",
       "   'name': 'ros-jazzy-ros-environment',\n",
       "   'count': 8955,\n",
       "   'date': '2024'},\n",
       "  {'package': 'rosidl-typesupport-c',\n",
       "   'distro': 'jazzy',\n",
       "   'name': 'ros-jazzy-rosidl-typesupport-c',\n",
       "   'count': 8953,\n",
       "   'date': '2024'},\n",
       "  {'package': 'ament-cmake-pep257',\n",
       "   'distro': 'jazzy',\n",
       "   'name': 'ros-jazzy-ament-cmake-pep257',\n",
       "   'count': 8953,\n",
       "   'date': '2024'},\n",
       "  {'package': 'ros2param',\n",
       "   'distro': 'jazzy',\n",
       "   'name': 'ros-jazzy-ros2param',\n",
       "   'count': 8951,\n",
       "   'date': '2024'},\n",
       "  {'package': 'diagnostic-aggregator',\n",
       "   'distro': 'humble',\n",
       "   'name': 'ros-humble-diagnostic-aggregator',\n",
       "   'count': 8950,\n",
       "   'date': '2024'},\n",
       "  {'package': 'rpyutils',\n",
       "   'distro': 'jazzy',\n",
       "   'name': 'ros-jazzy-rpyutils',\n",
       "   'count': 8949,\n",
       "   'date': '2024'},\n",
       "  {'package': 'ament-cmake-libraries',\n",
       "   'distro': 'jazzy',\n",
       "   'name': 'ros-jazzy-ament-cmake-libraries',\n",
       "   'count': 8949,\n",
       "   'date': '2024'},\n",
       "  {'package': 'rosidl-generator-py',\n",
       "   'distro': 'jazzy',\n",
       "   'name': 'ros-jazzy-rosidl-generator-py',\n",
       "   'count': 8949,\n",
       "   'date': '2024'},\n",
       "  {'package': 'rosidl-generator-c',\n",
       "   'distro': 'jazzy',\n",
       "   'name': 'ros-jazzy-rosidl-generator-c',\n",
       "   'count': 8949,\n",
       "   'date': '2024'},\n",
       "  {'package': 'rosidl-cmake',\n",
       "   'distro': 'jazzy',\n",
       "   'name': 'ros-jazzy-rosidl-cmake',\n",
       "   'count': 8949,\n",
       "   'date': '2024'},\n",
       "  {'package': 'ament-cmake-pytest',\n",
       "   'distro': 'jazzy',\n",
       "   'name': 'ros-jazzy-ament-cmake-pytest',\n",
       "   'count': 8949,\n",
       "   'date': '2024'},\n",
       "  {'package': 'domain-coordinator',\n",
       "   'distro': 'jazzy',\n",
       "   'name': 'ros-jazzy-domain-coordinator',\n",
       "   'count': 8948,\n",
       "   'date': '2024'},\n",
       "  {'package': 'rosidl-generator-type-description',\n",
       "   'distro': 'jazzy',\n",
       "   'name': 'ros-jazzy-rosidl-generator-type-description',\n",
       "   'count': 8948,\n",
       "   'date': '2024'},\n",
       "  {'package': 'ament-cmake-export-definitions',\n",
       "   'distro': 'jazzy',\n",
       "   'name': 'ros-jazzy-ament-cmake-export-definitions',\n",
       "   'count': 8944,\n",
       "   'date': '2024'},\n",
       "  {'package': 'rosidl-typesupport-fastrtps-cpp',\n",
       "   'distro': 'jazzy',\n",
       "   'name': 'ros-jazzy-rosidl-typesupport-fastrtps-cpp',\n",
       "   'count': 8944,\n",
       "   'date': '2024'},\n",
       "  {'package': 'ament-cmake-export-dependencies',\n",
       "   'distro': 'jazzy',\n",
       "   'name': 'ros-jazzy-ament-cmake-export-dependencies',\n",
       "   'count': 8944,\n",
       "   'date': '2024'},\n",
       "  {'package': 'tf2-kdl',\n",
       "   'distro': 'jazzy',\n",
       "   'name': 'ros-jazzy-tf2-kdl',\n",
       "   'count': 8944,\n",
       "   'date': '2024'},\n",
       "  {'package': 'rosidl-parser',\n",
       "   'distro': 'jazzy',\n",
       "   'name': 'ros-jazzy-rosidl-parser',\n",
       "   'count': 8943,\n",
       "   'date': '2024'},\n",
       "  {'package': 'rosidl-typesupport-introspection-c',\n",
       "   'distro': 'jazzy',\n",
       "   'name': 'ros-jazzy-rosidl-typesupport-introspection-c',\n",
       "   'count': 8941,\n",
       "   'date': '2024'},\n",
       "  {'package': 'rosidl-typesupport-introspection-cpp',\n",
       "   'distro': 'jazzy',\n",
       "   'name': 'ros-jazzy-rosidl-typesupport-introspection-cpp',\n",
       "   'count': 8940,\n",
       "   'date': '2024'},\n",
       "  {'package': 'ament-cmake-gmock',\n",
       "   'distro': 'jazzy',\n",
       "   'name': 'ros-jazzy-ament-cmake-gmock',\n",
       "   'count': 8940,\n",
       "   'date': '2024'},\n",
       "  {'package': 'rosidl-cli',\n",
       "   'distro': 'jazzy',\n",
       "   'name': 'ros-jazzy-rosidl-cli',\n",
       "   'count': 8938,\n",
       "   'date': '2024'},\n",
       "  {'package': 'rosidl-core-runtime',\n",
       "   'distro': 'jazzy',\n",
       "   'name': 'ros-jazzy-rosidl-core-runtime',\n",
       "   'count': 8938,\n",
       "   'date': '2024'},\n",
       "  {'package': 'rosidl-runtime-cpp',\n",
       "   'distro': 'jazzy',\n",
       "   'name': 'ros-jazzy-rosidl-runtime-cpp',\n",
       "   'count': 8938,\n",
       "   'date': '2024'},\n",
       "  {'package': 'rosidl-typesupport-interface',\n",
       "   'distro': 'jazzy',\n",
       "   'name': 'ros-jazzy-rosidl-typesupport-interface',\n",
       "   'count': 8938,\n",
       "   'date': '2024'},\n",
       "  {'package': 'fastrtps-cmake-module',\n",
       "   'distro': 'jazzy',\n",
       "   'name': 'ros-jazzy-fastrtps-cmake-module',\n",
       "   'count': 8935,\n",
       "   'date': '2024'},\n",
       "  {'package': 'rmw',\n",
       "   'distro': 'jazzy',\n",
       "   'name': 'ros-jazzy-rmw',\n",
       "   'count': 8934,\n",
       "   'date': '2024'},\n",
       "  {'package': 'unique-identifier-msgs',\n",
       "   'distro': 'jazzy',\n",
       "   'name': 'ros-jazzy-unique-identifier-msgs',\n",
       "   'count': 8932,\n",
       "   'date': '2024'},\n",
       "  {'package': 'rosidl-typesupport-cpp',\n",
       "   'distro': 'jazzy',\n",
       "   'name': 'ros-jazzy-rosidl-typesupport-cpp',\n",
       "   'count': 8932,\n",
       "   'date': '2024'},\n",
       "  {'package': 'rosidl-dynamic-typesupport',\n",
       "   'distro': 'jazzy',\n",
       "   'name': 'ros-jazzy-rosidl-dynamic-typesupport',\n",
       "   'count': 8930,\n",
       "   'date': '2024'},\n",
       "  {'package': 'rosidl-default-runtime',\n",
       "   'distro': 'jazzy',\n",
       "   'name': 'ros-jazzy-rosidl-default-runtime',\n",
       "   'count': 8925,\n",
       "   'date': '2024'},\n",
       "  {'package': 'ros2node',\n",
       "   'distro': 'jazzy',\n",
       "   'name': 'ros-jazzy-ros2node',\n",
       "   'count': 8924,\n",
       "   'date': '2024'},\n",
       "  {'package': 'ament-cmake-gtest',\n",
       "   'distro': 'jazzy',\n",
       "   'name': 'ros-jazzy-ament-cmake-gtest',\n",
       "   'count': 8923,\n",
       "   'date': '2024'},\n",
       "  {'package': 'ros2service',\n",
       "   'distro': 'jazzy',\n",
       "   'name': 'ros-jazzy-ros2service',\n",
       "   'count': 8922,\n",
       "   'date': '2024'},\n",
       "  {'package': 'gmock-vendor',\n",
       "   'distro': 'jazzy',\n",
       "   'name': 'ros-jazzy-gmock-vendor',\n",
       "   'count': 8921,\n",
       "   'date': '2024'},\n",
       "  {'package': 'service-msgs',\n",
       "   'distro': 'jazzy',\n",
       "   'name': 'ros-jazzy-service-msgs',\n",
       "   'count': 8921,\n",
       "   'date': '2024'},\n",
       "  {'package': 'action-msgs',\n",
       "   'distro': 'jazzy',\n",
       "   'name': 'ros-jazzy-action-msgs',\n",
       "   'count': 8916,\n",
       "   'date': '2024'},\n",
       "  {'package': 'builtin-interfaces',\n",
       "   'distro': 'jazzy',\n",
       "   'name': 'ros-jazzy-builtin-interfaces',\n",
       "   'count': 8916,\n",
       "   'date': '2024'},\n",
       "  {'package': 'python-cmake-module',\n",
       "   'distro': 'jazzy',\n",
       "   'name': 'ros-jazzy-python-cmake-module',\n",
       "   'count': 8913,\n",
       "   'date': '2024'},\n",
       "  {'package': 'fastcdr',\n",
       "   'distro': 'jazzy',\n",
       "   'name': 'ros-jazzy-fastcdr',\n",
       "   'count': 8912,\n",
       "   'date': '2024'},\n",
       "  {'package': 'rcutils',\n",
       "   'distro': 'jazzy',\n",
       "   'name': 'ros-jazzy-rcutils',\n",
       "   'count': 8910,\n",
       "   'date': '2024'},\n",
       "  {'package': 'gtest-vendor',\n",
       "   'distro': 'jazzy',\n",
       "   'name': 'ros-jazzy-gtest-vendor',\n",
       "   'count': 8908,\n",
       "   'date': '2024'},\n",
       "  {'package': 'ament-cmake-ros',\n",
       "   'distro': 'jazzy',\n",
       "   'name': 'ros-jazzy-ament-cmake-ros',\n",
       "   'count': 8908,\n",
       "   'date': '2024'},\n",
       "  {'package': 'cartographer-ros',\n",
       "   'distro': 'humble',\n",
       "   'name': 'ros-humble-cartographer-ros',\n",
       "   'count': 8899,\n",
       "   'date': '2024'},\n",
       "  {'package': 'spdlog-vendor',\n",
       "   'distro': 'jazzy',\n",
       "   'name': 'ros-jazzy-spdlog-vendor',\n",
       "   'count': 8862,\n",
       "   'date': '2024'},\n",
       "  {'package': 'rosidl-runtime-c',\n",
       "   'distro': 'jazzy',\n",
       "   'name': 'ros-jazzy-rosidl-runtime-c',\n",
       "   'count': 8860,\n",
       "   'date': '2024'},\n",
       "  {'package': 'moveit-setup-assistant',\n",
       "   'distro': 'humble',\n",
       "   'name': 'ros-humble-moveit-setup-assistant',\n",
       "   'count': 8836,\n",
       "   'date': '2024'},\n",
       "  {'package': 'tf2-ros-py',\n",
       "   'distro': 'jazzy',\n",
       "   'name': 'ros-jazzy-tf2-ros-py',\n",
       "   'count': 8834,\n",
       "   'date': '2024'},\n",
       "  {'package': 'moveit-setup-framework',\n",
       "   'distro': 'humble',\n",
       "   'name': 'ros-humble-moveit-setup-framework',\n",
       "   'count': 8827,\n",
       "   'date': '2024'},\n",
       "  {'package': 'tf2-py',\n",
       "   'distro': 'jazzy',\n",
       "   'name': 'ros-jazzy-tf2-py',\n",
       "   'count': 8822,\n",
       "   'date': '2024'},\n",
       "  {'package': 'moveit-setup-srdf-plugins',\n",
       "   'distro': 'humble',\n",
       "   'name': 'ros-humble-moveit-setup-srdf-plugins',\n",
       "   'count': 8803,\n",
       "   'date': '2024'},\n",
       "  {'package': 'libyaml-vendor',\n",
       "   'distro': 'jazzy',\n",
       "   'name': 'ros-jazzy-libyaml-vendor',\n",
       "   'count': 8778,\n",
       "   'date': '2024'},\n",
       "  {'package': 'rcl-interfaces',\n",
       "   'distro': 'jazzy',\n",
       "   'name': 'ros-jazzy-rcl-interfaces',\n",
       "   'count': 8771,\n",
       "   'date': '2024'},\n",
       "  {'package': 'navfn',\n",
       "   'distro': 'noetic',\n",
       "   'name': 'ros-noetic-navfn',\n",
       "   'count': 8761,\n",
       "   'date': '2024'},\n",
       "  {'package': 'rosgraph-msgs',\n",
       "   'distro': 'jazzy',\n",
       "   'name': 'ros-jazzy-rosgraph-msgs',\n",
       "   'count': 8757,\n",
       "   'date': '2024'},\n",
       "  {'package': 'rcl-logging-interface',\n",
       "   'distro': 'jazzy',\n",
       "   'name': 'ros-jazzy-rcl-logging-interface',\n",
       "   'count': 8749,\n",
       "   'date': '2024'},\n",
       "  {'package': 'statistics-msgs',\n",
       "   'distro': 'foxy',\n",
       "   'name': 'ros-foxy-statistics-msgs',\n",
       "   'count': 8746,\n",
       "   'date': '2024'},\n",
       "  {'package': 'rcl-yaml-param-parser',\n",
       "   'distro': 'jazzy',\n",
       "   'name': 'ros-jazzy-rcl-yaml-param-parser',\n",
       "   'count': 8745,\n",
       "   'date': '2024'},\n",
       "  {'package': 'libstatistics-collector',\n",
       "   'distro': 'foxy',\n",
       "   'name': 'ros-foxy-libstatistics-collector',\n",
       "   'count': 8745,\n",
       "   'date': '2024'},\n",
       "  {'package': 'rclcpp',\n",
       "   'distro': 'foxy',\n",
       "   'name': 'ros-foxy-rclcpp',\n",
       "   'count': 8744,\n",
       "   'date': '2024'},\n",
       "  {'package': 'type-description-interfaces',\n",
       "   'distro': 'jazzy',\n",
       "   'name': 'ros-jazzy-type-description-interfaces',\n",
       "   'count': 8739,\n",
       "   'date': '2024'},\n",
       "  {'package': 'rmw-implementation-cmake',\n",
       "   'distro': 'jazzy',\n",
       "   'name': 'ros-jazzy-rmw-implementation-cmake',\n",
       "   'count': 8736,\n",
       "   'date': '2024'},\n",
       "  {'package': 'ament-package',\n",
       "   'distro': 'jazzy',\n",
       "   'name': 'ros-jazzy-ament-package',\n",
       "   'count': 8732,\n",
       "   'date': '2024'},\n",
       "  {'package': 'rcl-logging-spdlog',\n",
       "   'distro': 'jazzy',\n",
       "   'name': 'ros-jazzy-rcl-logging-spdlog',\n",
       "   'count': 8720,\n",
       "   'date': '2024'},\n",
       "  {'package': 'lifecycle-msgs',\n",
       "   'distro': 'jazzy',\n",
       "   'name': 'ros-jazzy-lifecycle-msgs',\n",
       "   'count': 8696,\n",
       "   'date': '2024'},\n",
       "  {'package': 'rmw-dds-common',\n",
       "   'distro': 'jazzy',\n",
       "   'name': 'ros-jazzy-rmw-dds-common',\n",
       "   'count': 8682,\n",
       "   'date': '2024'},\n",
       "  {'package': 'tracetools',\n",
       "   'distro': 'jazzy',\n",
       "   'name': 'ros-jazzy-tracetools',\n",
       "   'count': 8678,\n",
       "   'date': '2024'},\n",
       "  {'package': 'moveit-setup-controllers',\n",
       "   'distro': 'humble',\n",
       "   'name': 'ros-humble-moveit-setup-controllers',\n",
       "   'count': 8675,\n",
       "   'date': '2024'},\n",
       "  ...],\n",
       " 'distro': [{'name': 'boxturtle', 'prct': 0.0, 'date': '2024'},\n",
       "  {'name': 'cturtle', 'prct': 0.0, 'date': '2024'},\n",
       "  {'name': 'diamondback', 'prct': 0.0, 'date': '2024'},\n",
       "  {'name': 'electric', 'prct': 0.0, 'date': '2024'},\n",
       "  {'name': 'fuerte', 'prct': 0.0, 'date': '2024'},\n",
       "  {'name': 'groovy', 'prct': 0.0, 'date': '2024'},\n",
       "  {'name': 'hydro', 'prct': 0.0, 'date': '2024'},\n",
       "  {'name': 'indigo', 'prct': 0.05, 'date': '2024'},\n",
       "  {'name': 'jade', 'prct': 0.0, 'date': '2024'},\n",
       "  {'name': 'kinetic', 'prct': 0.43, 'date': '2024'},\n",
       "  {'name': 'lunar', 'prct': 0.0, 'date': '2024'},\n",
       "  {'name': 'melodic', 'prct': 2.37, 'date': '2024'},\n",
       "  {'name': 'noetic', 'prct': 16.75, 'date': '2024'},\n",
       "  {'name': 'ardent', 'prct': 0.0, 'date': '2024'},\n",
       "  {'name': 'bouncy', 'prct': 0.0, 'date': '2024'},\n",
       "  {'name': 'crystal', 'prct': 0.02, 'date': '2024'},\n",
       "  {'name': 'dashing', 'prct': 0.11, 'date': '2024'},\n",
       "  {'name': 'eloquent', 'prct': 0.12, 'date': '2024'},\n",
       "  {'name': 'foxy', 'prct': 3.71, 'date': '2024'},\n",
       "  {'name': 'galactic', 'prct': 1.18, 'date': '2024'},\n",
       "  {'name': 'humble', 'prct': 48.35, 'date': '2024'},\n",
       "  {'name': 'iron', 'prct': 5.58, 'date': '2024'},\n",
       "  {'name': 'jazzy', 'prct': 6.07, 'date': '2024'},\n",
       "  {'name': 'rolling', 'prct': 4.81, 'date': '2024'}],\n",
       " 'arch': [{'name': 'i386', 'prct': 0.04, 'date': '2024'},\n",
       "  {'name': 'amd64', 'prct': 81.79, 'date': '2024'},\n",
       "  {'name': 'armhf', 'prct': 0.1, 'date': '2024'},\n",
       "  {'name': 'arm64', 'prct': 10.87, 'date': '2024'},\n",
       "  {'name': 'source', 'prct': 0.0, 'date': '2024'}],\n",
       " 'arch_x_os': [{'name': 'bionic_amd64', 'prct': 1.95, 'date': '2024'},\n",
       "  {'name': 'bionic_arm64', 'prct': 0.64, 'date': '2024'},\n",
       "  {'name': 'bionic_armhf', 'prct': 0.01, 'date': '2024'},\n",
       "  {'name': 'buster_amd64', 'prct': 0.01, 'date': '2024'},\n",
       "  {'name': 'buster_arm64', 'prct': 0.01, 'date': '2024'},\n",
       "  {'name': 'disco_amd64', 'prct': 0.0, 'date': '2024'},\n",
       "  {'name': 'focal_amd64', 'prct': 19.99, 'date': '2024'},\n",
       "  {'name': 'focal_arm64', 'prct': 3.27, 'date': '2024'},\n",
       "  {'name': 'focal_armhf', 'prct': 0.06, 'date': '2024'},\n",
       "  {'name': 'jammy_amd64', 'prct': 50.1, 'date': '2024'},\n",
       "  {'name': 'jammy_arm64', 'prct': 6.07, 'date': '2024'},\n",
       "  {'name': 'stretch_amd64', 'prct': 0.01, 'date': '2024'},\n",
       "  {'name': 'trusty_amd64', 'prct': 0.05, 'date': '2024'},\n",
       "  {'name': 'trusty_armhf', 'prct': 0.0, 'date': '2024'},\n",
       "  {'name': 'trusty_i386', 'prct': 0.01, 'date': '2024'},\n",
       "  {'name': 'xenial_amd64', 'prct': 0.38, 'date': '2024'},\n",
       "  {'name': 'xenial_arm64', 'prct': 0.01, 'date': '2024'},\n",
       "  {'name': 'xenial_armhf', 'prct': 0.01, 'date': '2024'},\n",
       "  {'name': 'xenial_i386', 'prct': 0.03, 'date': '2024'}],\n",
       " 'stats': [('Number of different packages', ' 23803\\n'),\n",
       "  ('total deb downloads', ' 44206048\\n'),\n",
       "  ('skipped lines', ' 782603\\n'),\n",
       "  ('processed lines', ' 104712\\n'),\n",
       "  ('shadow_fixed lines skipped', ' 32514\\n')]}"
      ]
     },
     "execution_count": 15,
     "metadata": {},
     "output_type": "execute_result"
    }
   ],
   "source": [
    "# print package data\n",
    "print(len(stats_last[\"package\"]))\n",
    "print(len(stats_this[\"package\"]))\n",
    "print(stats_last.keys())\n",
    "print(stats_last[\"arch_x_os\"])\n",
    "stats_this"
   ]
  },
  {
   "cell_type": "code",
   "execution_count": 16,
   "metadata": {},
   "outputs": [],
   "source": [
    "def dumb_find(lst, k, v):\n",
    "    for i, dic in enumerate(lst):\n",
    "        if dic[k] == v:\n",
    "            return lst[i]\n",
    "    return None\n",
    "\n",
    "def join_stats(stats_list,idx=\"prct\"):\n",
    "    # join two lists of datas into a single dictionary\n",
    "    joined = []\n",
    "    # LIST SHOULD BE THE NEWEST FIRST!!!\n",
    "    first = stats_list[0]\n",
    "    for entry in first:\n",
    "        new_entry = {}\n",
    "        new_entry[\"name\"] = entry[\"name\"]\n",
    "        new_entry.update(entry)\n",
    "        del new_entry[idx]\n",
    "        del new_entry[\"date\"]\n",
    "        \n",
    "        new_entry[entry[\"date\"]] = entry[idx]\n",
    "        for other in stats_list[1:]:\n",
    "            temp = dumb_find(other,\"name\",entry[\"name\"])\n",
    "            if temp:\n",
    "                new_entry[temp[\"date\"]] = temp[idx]\n",
    "        joined.append(new_entry)\n",
    "    return joined"
   ]
  },
  {
   "cell_type": "code",
   "execution_count": 17,
   "metadata": {},
   "outputs": [
    {
     "data": {
      "text/html": [
       "<div>\n",
       "<style scoped>\n",
       "    .dataframe tbody tr th:only-of-type {\n",
       "        vertical-align: middle;\n",
       "    }\n",
       "\n",
       "    .dataframe tbody tr th {\n",
       "        vertical-align: top;\n",
       "    }\n",
       "\n",
       "    .dataframe thead th {\n",
       "        text-align: right;\n",
       "    }\n",
       "</style>\n",
       "<table border=\"1\" class=\"dataframe\">\n",
       "  <thead>\n",
       "    <tr style=\"text-align: right;\">\n",
       "      <th></th>\n",
       "      <th>name</th>\n",
       "      <th>2024</th>\n",
       "      <th>2023</th>\n",
       "    </tr>\n",
       "  </thead>\n",
       "  <tbody>\n",
       "    <tr>\n",
       "      <th>0</th>\n",
       "      <td>boxturtle</td>\n",
       "      <td>0.00</td>\n",
       "      <td>0.00</td>\n",
       "    </tr>\n",
       "    <tr>\n",
       "      <th>1</th>\n",
       "      <td>cturtle</td>\n",
       "      <td>0.00</td>\n",
       "      <td>0.00</td>\n",
       "    </tr>\n",
       "    <tr>\n",
       "      <th>2</th>\n",
       "      <td>diamondback</td>\n",
       "      <td>0.00</td>\n",
       "      <td>0.00</td>\n",
       "    </tr>\n",
       "    <tr>\n",
       "      <th>3</th>\n",
       "      <td>electric</td>\n",
       "      <td>0.00</td>\n",
       "      <td>0.00</td>\n",
       "    </tr>\n",
       "    <tr>\n",
       "      <th>4</th>\n",
       "      <td>fuerte</td>\n",
       "      <td>0.00</td>\n",
       "      <td>0.00</td>\n",
       "    </tr>\n",
       "    <tr>\n",
       "      <th>5</th>\n",
       "      <td>groovy</td>\n",
       "      <td>0.00</td>\n",
       "      <td>0.00</td>\n",
       "    </tr>\n",
       "    <tr>\n",
       "      <th>6</th>\n",
       "      <td>hydro</td>\n",
       "      <td>0.00</td>\n",
       "      <td>0.00</td>\n",
       "    </tr>\n",
       "    <tr>\n",
       "      <th>7</th>\n",
       "      <td>indigo</td>\n",
       "      <td>0.05</td>\n",
       "      <td>0.47</td>\n",
       "    </tr>\n",
       "    <tr>\n",
       "      <th>8</th>\n",
       "      <td>jade</td>\n",
       "      <td>0.00</td>\n",
       "      <td>0.00</td>\n",
       "    </tr>\n",
       "    <tr>\n",
       "      <th>9</th>\n",
       "      <td>kinetic</td>\n",
       "      <td>0.43</td>\n",
       "      <td>1.19</td>\n",
       "    </tr>\n",
       "    <tr>\n",
       "      <th>10</th>\n",
       "      <td>lunar</td>\n",
       "      <td>0.00</td>\n",
       "      <td>0.23</td>\n",
       "    </tr>\n",
       "    <tr>\n",
       "      <th>11</th>\n",
       "      <td>melodic</td>\n",
       "      <td>2.37</td>\n",
       "      <td>7.75</td>\n",
       "    </tr>\n",
       "    <tr>\n",
       "      <th>12</th>\n",
       "      <td>noetic</td>\n",
       "      <td>16.75</td>\n",
       "      <td>34.45</td>\n",
       "    </tr>\n",
       "    <tr>\n",
       "      <th>13</th>\n",
       "      <td>ardent</td>\n",
       "      <td>0.00</td>\n",
       "      <td>0.02</td>\n",
       "    </tr>\n",
       "    <tr>\n",
       "      <th>14</th>\n",
       "      <td>bouncy</td>\n",
       "      <td>0.00</td>\n",
       "      <td>0.03</td>\n",
       "    </tr>\n",
       "    <tr>\n",
       "      <th>15</th>\n",
       "      <td>crystal</td>\n",
       "      <td>0.02</td>\n",
       "      <td>0.05</td>\n",
       "    </tr>\n",
       "    <tr>\n",
       "      <th>16</th>\n",
       "      <td>dashing</td>\n",
       "      <td>0.11</td>\n",
       "      <td>0.28</td>\n",
       "    </tr>\n",
       "    <tr>\n",
       "      <th>17</th>\n",
       "      <td>eloquent</td>\n",
       "      <td>0.12</td>\n",
       "      <td>0.23</td>\n",
       "    </tr>\n",
       "    <tr>\n",
       "      <th>18</th>\n",
       "      <td>foxy</td>\n",
       "      <td>3.71</td>\n",
       "      <td>7.03</td>\n",
       "    </tr>\n",
       "    <tr>\n",
       "      <th>19</th>\n",
       "      <td>galactic</td>\n",
       "      <td>1.18</td>\n",
       "      <td>2.75</td>\n",
       "    </tr>\n",
       "    <tr>\n",
       "      <th>20</th>\n",
       "      <td>humble</td>\n",
       "      <td>48.35</td>\n",
       "      <td>28.32</td>\n",
       "    </tr>\n",
       "    <tr>\n",
       "      <th>21</th>\n",
       "      <td>iron</td>\n",
       "      <td>5.58</td>\n",
       "      <td>4.24</td>\n",
       "    </tr>\n",
       "    <tr>\n",
       "      <th>22</th>\n",
       "      <td>jazzy</td>\n",
       "      <td>6.07</td>\n",
       "      <td>0.00</td>\n",
       "    </tr>\n",
       "    <tr>\n",
       "      <th>23</th>\n",
       "      <td>rolling</td>\n",
       "      <td>4.81</td>\n",
       "      <td>4.12</td>\n",
       "    </tr>\n",
       "  </tbody>\n",
       "</table>\n",
       "</div>"
      ],
      "text/plain": [
       "           name   2024   2023\n",
       "0     boxturtle   0.00   0.00\n",
       "1       cturtle   0.00   0.00\n",
       "2   diamondback   0.00   0.00\n",
       "3      electric   0.00   0.00\n",
       "4        fuerte   0.00   0.00\n",
       "5        groovy   0.00   0.00\n",
       "6         hydro   0.00   0.00\n",
       "7        indigo   0.05   0.47\n",
       "8          jade   0.00   0.00\n",
       "9       kinetic   0.43   1.19\n",
       "10        lunar   0.00   0.23\n",
       "11      melodic   2.37   7.75\n",
       "12       noetic  16.75  34.45\n",
       "13       ardent   0.00   0.02\n",
       "14       bouncy   0.00   0.03\n",
       "15      crystal   0.02   0.05\n",
       "16      dashing   0.11   0.28\n",
       "17     eloquent   0.12   0.23\n",
       "18         foxy   3.71   7.03\n",
       "19     galactic   1.18   2.75\n",
       "20       humble  48.35  28.32\n",
       "21         iron   5.58   4.24\n",
       "22        jazzy   6.07   0.00\n",
       "23      rolling   4.81   4.12"
      ]
     },
     "execution_count": 17,
     "metadata": {},
     "output_type": "execute_result"
    }
   ],
   "source": [
    "# Join together our distro data and make it into a CSV file \n",
    "joined_distro = join_stats([stats_this[\"distro\"],stats_last[\"distro\"]])\n",
    "distro_df = pd.DataFrame(data=joined_distro)\n",
    "distro_df.to_csv(\"distro.csv\")\n",
    "distro_df"
   ]
  },
  {
   "cell_type": "code",
   "execution_count": 18,
   "metadata": {},
   "outputs": [
    {
     "data": {
      "text/html": [
       "<div>\n",
       "<style scoped>\n",
       "    .dataframe tbody tr th:only-of-type {\n",
       "        vertical-align: middle;\n",
       "    }\n",
       "\n",
       "    .dataframe tbody tr th {\n",
       "        vertical-align: top;\n",
       "    }\n",
       "\n",
       "    .dataframe thead th {\n",
       "        text-align: right;\n",
       "    }\n",
       "</style>\n",
       "<table border=\"1\" class=\"dataframe\">\n",
       "  <thead>\n",
       "    <tr style=\"text-align: right;\">\n",
       "      <th></th>\n",
       "      <th>name</th>\n",
       "      <th>2024</th>\n",
       "      <th>2023</th>\n",
       "    </tr>\n",
       "  </thead>\n",
       "  <tbody>\n",
       "    <tr>\n",
       "      <th>0</th>\n",
       "      <td>i386</td>\n",
       "      <td>0.04</td>\n",
       "      <td>0.26</td>\n",
       "    </tr>\n",
       "    <tr>\n",
       "      <th>1</th>\n",
       "      <td>amd64</td>\n",
       "      <td>81.79</td>\n",
       "      <td>83.11</td>\n",
       "    </tr>\n",
       "    <tr>\n",
       "      <th>2</th>\n",
       "      <td>armhf</td>\n",
       "      <td>0.10</td>\n",
       "      <td>0.73</td>\n",
       "    </tr>\n",
       "    <tr>\n",
       "      <th>3</th>\n",
       "      <td>arm64</td>\n",
       "      <td>10.87</td>\n",
       "      <td>10.45</td>\n",
       "    </tr>\n",
       "    <tr>\n",
       "      <th>4</th>\n",
       "      <td>source</td>\n",
       "      <td>0.00</td>\n",
       "      <td>0.00</td>\n",
       "    </tr>\n",
       "  </tbody>\n",
       "</table>\n",
       "</div>"
      ],
      "text/plain": [
       "     name   2024   2023\n",
       "0    i386   0.04   0.26\n",
       "1   amd64  81.79  83.11\n",
       "2   armhf   0.10   0.73\n",
       "3   arm64  10.87  10.45\n",
       "4  source   0.00   0.00"
      ]
     },
     "execution_count": 18,
     "metadata": {},
     "output_type": "execute_result"
    }
   ],
   "source": [
    "# Repeat that process for arch\n",
    "joined_arch = join_stats([stats_this[\"arch\"],stats_last[\"arch\"]])\n",
    "arch_df = pd.DataFrame(data=joined_arch)\n",
    "arch_df.to_csv(\"arch.csv\")\n",
    "arch_df.head()"
   ]
  },
  {
   "cell_type": "code",
   "execution_count": 19,
   "metadata": {},
   "outputs": [
    {
     "data": {
      "text/html": [
       "<div>\n",
       "<style scoped>\n",
       "    .dataframe tbody tr th:only-of-type {\n",
       "        vertical-align: middle;\n",
       "    }\n",
       "\n",
       "    .dataframe tbody tr th {\n",
       "        vertical-align: top;\n",
       "    }\n",
       "\n",
       "    .dataframe thead th {\n",
       "        text-align: right;\n",
       "    }\n",
       "</style>\n",
       "<table border=\"1\" class=\"dataframe\">\n",
       "  <thead>\n",
       "    <tr style=\"text-align: right;\">\n",
       "      <th></th>\n",
       "      <th>name</th>\n",
       "      <th>2024</th>\n",
       "      <th>2023</th>\n",
       "    </tr>\n",
       "  </thead>\n",
       "  <tbody>\n",
       "    <tr>\n",
       "      <th>0</th>\n",
       "      <td>bionic_amd64</td>\n",
       "      <td>1.95</td>\n",
       "      <td>6.01</td>\n",
       "    </tr>\n",
       "    <tr>\n",
       "      <th>1</th>\n",
       "      <td>bionic_arm64</td>\n",
       "      <td>0.64</td>\n",
       "      <td>1.84</td>\n",
       "    </tr>\n",
       "    <tr>\n",
       "      <th>2</th>\n",
       "      <td>bionic_armhf</td>\n",
       "      <td>0.01</td>\n",
       "      <td>0.23</td>\n",
       "    </tr>\n",
       "    <tr>\n",
       "      <th>3</th>\n",
       "      <td>buster_amd64</td>\n",
       "      <td>0.01</td>\n",
       "      <td>0.15</td>\n",
       "    </tr>\n",
       "    <tr>\n",
       "      <th>4</th>\n",
       "      <td>buster_arm64</td>\n",
       "      <td>0.01</td>\n",
       "      <td>0.10</td>\n",
       "    </tr>\n",
       "    <tr>\n",
       "      <th>5</th>\n",
       "      <td>disco_amd64</td>\n",
       "      <td>0.00</td>\n",
       "      <td>0.01</td>\n",
       "    </tr>\n",
       "    <tr>\n",
       "      <th>6</th>\n",
       "      <td>focal_amd64</td>\n",
       "      <td>19.99</td>\n",
       "      <td>41.01</td>\n",
       "    </tr>\n",
       "    <tr>\n",
       "      <th>7</th>\n",
       "      <td>focal_arm64</td>\n",
       "      <td>3.27</td>\n",
       "      <td>5.14</td>\n",
       "    </tr>\n",
       "    <tr>\n",
       "      <th>8</th>\n",
       "      <td>focal_armhf</td>\n",
       "      <td>0.06</td>\n",
       "      <td>0.23</td>\n",
       "    </tr>\n",
       "    <tr>\n",
       "      <th>9</th>\n",
       "      <td>jammy_amd64</td>\n",
       "      <td>50.10</td>\n",
       "      <td>34.29</td>\n",
       "    </tr>\n",
       "    <tr>\n",
       "      <th>10</th>\n",
       "      <td>jammy_arm64</td>\n",
       "      <td>6.07</td>\n",
       "      <td>3.02</td>\n",
       "    </tr>\n",
       "    <tr>\n",
       "      <th>11</th>\n",
       "      <td>stretch_amd64</td>\n",
       "      <td>0.01</td>\n",
       "      <td>0.22</td>\n",
       "    </tr>\n",
       "    <tr>\n",
       "      <th>12</th>\n",
       "      <td>trusty_amd64</td>\n",
       "      <td>0.05</td>\n",
       "      <td>0.31</td>\n",
       "    </tr>\n",
       "    <tr>\n",
       "      <th>13</th>\n",
       "      <td>trusty_armhf</td>\n",
       "      <td>0.00</td>\n",
       "      <td>0.09</td>\n",
       "    </tr>\n",
       "    <tr>\n",
       "      <th>14</th>\n",
       "      <td>trusty_i386</td>\n",
       "      <td>0.01</td>\n",
       "      <td>0.11</td>\n",
       "    </tr>\n",
       "    <tr>\n",
       "      <th>15</th>\n",
       "      <td>xenial_amd64</td>\n",
       "      <td>0.38</td>\n",
       "      <td>0.93</td>\n",
       "    </tr>\n",
       "    <tr>\n",
       "      <th>16</th>\n",
       "      <td>xenial_arm64</td>\n",
       "      <td>0.01</td>\n",
       "      <td>0.14</td>\n",
       "    </tr>\n",
       "    <tr>\n",
       "      <th>17</th>\n",
       "      <td>xenial_armhf</td>\n",
       "      <td>0.01</td>\n",
       "      <td>0.15</td>\n",
       "    </tr>\n",
       "    <tr>\n",
       "      <th>18</th>\n",
       "      <td>xenial_i386</td>\n",
       "      <td>0.03</td>\n",
       "      <td>0.12</td>\n",
       "    </tr>\n",
       "  </tbody>\n",
       "</table>\n",
       "</div>"
      ],
      "text/plain": [
       "             name   2024   2023\n",
       "0    bionic_amd64   1.95   6.01\n",
       "1    bionic_arm64   0.64   1.84\n",
       "2    bionic_armhf   0.01   0.23\n",
       "3    buster_amd64   0.01   0.15\n",
       "4    buster_arm64   0.01   0.10\n",
       "5     disco_amd64   0.00   0.01\n",
       "6     focal_amd64  19.99  41.01\n",
       "7     focal_arm64   3.27   5.14\n",
       "8     focal_armhf   0.06   0.23\n",
       "9     jammy_amd64  50.10  34.29\n",
       "10    jammy_arm64   6.07   3.02\n",
       "11  stretch_amd64   0.01   0.22\n",
       "12   trusty_amd64   0.05   0.31\n",
       "13   trusty_armhf   0.00   0.09\n",
       "14    trusty_i386   0.01   0.11\n",
       "15   xenial_amd64   0.38   0.93\n",
       "16   xenial_arm64   0.01   0.14\n",
       "17   xenial_armhf   0.01   0.15\n",
       "18    xenial_i386   0.03   0.12"
      ]
     },
     "execution_count": 19,
     "metadata": {},
     "output_type": "execute_result"
    }
   ],
   "source": [
    "# Join arch x os data\n",
    "joined_arch_x_os = join_stats([stats_this[\"arch_x_os\"],stats_last[\"arch_x_os\"]])\n",
    "arch_os_df = pd.DataFrame(data=joined_arch_x_os)\n",
    "arch_os_df.to_csv(\"arch_os.csv\")\n",
    "arch_os_df"
   ]
  },
  {
   "cell_type": "code",
   "execution_count": 20,
   "metadata": {},
   "outputs": [],
   "source": [
    "# finally do this at the package level\n",
    "joined_package = join_stats([stats_this[\"package\"],stats_last[\"package\"]],idx=\"count\")\n",
    "package_df = pd.DataFrame(data=joined_package)\n"
   ]
  },
  {
   "cell_type": "code",
   "execution_count": 21,
   "metadata": {},
   "outputs": [
    {
     "data": {
      "text/html": [
       "<div>\n",
       "<style scoped>\n",
       "    .dataframe tbody tr th:only-of-type {\n",
       "        vertical-align: middle;\n",
       "    }\n",
       "\n",
       "    .dataframe tbody tr th {\n",
       "        vertical-align: top;\n",
       "    }\n",
       "\n",
       "    .dataframe thead th {\n",
       "        text-align: right;\n",
       "    }\n",
       "</style>\n",
       "<table border=\"1\" class=\"dataframe\">\n",
       "  <thead>\n",
       "    <tr style=\"text-align: right;\">\n",
       "      <th></th>\n",
       "      <th>name</th>\n",
       "      <th>package</th>\n",
       "      <th>distro</th>\n",
       "      <th>2024</th>\n",
       "      <th>2023</th>\n",
       "      <th>YoY</th>\n",
       "      <th>YoY_Prct</th>\n",
       "    </tr>\n",
       "  </thead>\n",
       "  <tbody>\n",
       "    <tr>\n",
       "      <th>0</th>\n",
       "      <td>python3-rosdep-modules</td>\n",
       "      <td>modules</td>\n",
       "      <td>rosdep</td>\n",
       "      <td>163403</td>\n",
       "      <td>104782.0</td>\n",
       "      <td>58621.0</td>\n",
       "      <td>35.875106</td>\n",
       "    </tr>\n",
       "    <tr>\n",
       "      <th>1</th>\n",
       "      <td>python3-rosdep</td>\n",
       "      <td></td>\n",
       "      <td>rosdep</td>\n",
       "      <td>152122</td>\n",
       "      <td>92990.0</td>\n",
       "      <td>59132.0</td>\n",
       "      <td>38.871432</td>\n",
       "    </tr>\n",
       "    <tr>\n",
       "      <th>2</th>\n",
       "      <td>python3-rospkg-modules</td>\n",
       "      <td>modules</td>\n",
       "      <td>rospkg</td>\n",
       "      <td>116634</td>\n",
       "      <td>125781.0</td>\n",
       "      <td>-9147.0</td>\n",
       "      <td>-7.842482</td>\n",
       "    </tr>\n",
       "    <tr>\n",
       "      <th>3</th>\n",
       "      <td>python3-catkin-pkg-modules</td>\n",
       "      <td>pkg-modules</td>\n",
       "      <td>catkin</td>\n",
       "      <td>116538</td>\n",
       "      <td>123623.0</td>\n",
       "      <td>-7085.0</td>\n",
       "      <td>-6.079562</td>\n",
       "    </tr>\n",
       "    <tr>\n",
       "      <th>4</th>\n",
       "      <td>python3-rosdistro-modules</td>\n",
       "      <td>modules</td>\n",
       "      <td>rosdistro</td>\n",
       "      <td>116206</td>\n",
       "      <td>106449.0</td>\n",
       "      <td>9757.0</td>\n",
       "      <td>8.396296</td>\n",
       "    </tr>\n",
       "  </tbody>\n",
       "</table>\n",
       "</div>"
      ],
      "text/plain": [
       "                         name      package     distro    2024      2023  \\\n",
       "0      python3-rosdep-modules      modules     rosdep  163403  104782.0   \n",
       "1              python3-rosdep                  rosdep  152122   92990.0   \n",
       "2      python3-rospkg-modules      modules     rospkg  116634  125781.0   \n",
       "3  python3-catkin-pkg-modules  pkg-modules     catkin  116538  123623.0   \n",
       "4   python3-rosdistro-modules      modules  rosdistro  116206  106449.0   \n",
       "\n",
       "       YoY   YoY_Prct  \n",
       "0  58621.0  35.875106  \n",
       "1  59132.0  38.871432  \n",
       "2  -9147.0  -7.842482  \n",
       "3  -7085.0  -6.079562  \n",
       "4   9757.0   8.396296  "
      ]
     },
     "execution_count": 21,
     "metadata": {},
     "output_type": "execute_result"
    }
   ],
   "source": [
    "# Add in YOY differences and package percents\n",
    "package_df[\"YoY\"] = package_df[this_year]-package_df[last_year]\n",
    "package_df[\"YoY_Prct\"] = 100.00*package_df[\"YoY\"]/package_df[this_year]\n",
    "\n",
    "package_df.to_csv(\"package.csv\")\n",
    "package_df.head()\n"
   ]
  },
  {
   "cell_type": "markdown",
   "metadata": {},
   "source": [
    "# Gazebo Package Download Stats"
   ]
  },
  {
   "cell_type": "code",
   "execution_count": 22,
   "metadata": {},
   "outputs": [
    {
     "name": "stdout",
     "output_type": "stream",
     "text": [
      "{'ros-humble-irobot-create-gazebo-bringup', 'ros-humble-omni-base-gazebo', 'ros-dashing-gazebo-msgs-dbgsym', 'ros-kinetic-eca-a9-gazebo', 'ros-eloquent-gazebo-plugins-dbgsym', 'ros-kinetic-uuv-gazebo-plugins', 'ros-iron-gazebo-ros-pkgs', 'ros-melodic-desistek-saga-gazebo', 'ros-noetic-mir-gazebo', 'ros-kinetic-hector-sensors-gazebo', 'ros-melodic-hector-sensors-gazebo', 'ros-melodic-open-manipulator-with-tb3-gazebo', 'ros-melodic-rotors-gazebo', 'ros-noetic-gazebo-video-monitor-plugins-dbgsym', 'ros-melodic-igvc-self-drive-gazebo-plugins', 'ros-melodic-audibot-gazebo-dbgsym', 'ros-iron-gazebo-video-monitors', 'ros-noetic-mia-hand-gazebo', 'ros-indigo-turtlebot-gazebo', 'ros-noetic-pr2-controller-configuration-gazebo', 'ros-humble-gazebo-ros-dbgsym', 'ros-melodic-blender-gazebo', 'ros-humble-crane-plus-gazebo', 'ros-humble-gazebo-ros2-control-demos', 'ros-noetic-gazebo-video-monitor-plugins', 'ros-noetic-cob-gazebo-worlds', 'ros-noetic-hector-gazebo-plugins-dbgsym', 'ros-rolling-gazebo-plugins', 'ros-humble-gazebo-planar-move-plugin-dbgsym', 'ros-iron-ros-ign-gazebo-dbgsym', 'ros-melodic-ridgeback-gazebo', 'ros-humble-gazebo-plugins', 'ros-iron-gazebo-ros2-control', 'ros-humble-gazebo-ros-pkgs', 'ros-noetic-qb-move-gazebo', 'ros-melodic-rotors-gazebo-dbgsym', 'ros-foxy-gazebo-ros-dbgsym', 'ros-noetic-turtlebot3-gazebo-dbgsym', 'ros-eloquent-gazebo-dev', 'ros-noetic-leo-gazebo-plugins-dbgsym', 'ros-foxy-jackal-gazebo', 'ros-foxy-pmb2-gazebo', 'ros-kinetic-hector-gazebo-thermal-camera', 'ros-indigo-agvs-gazebo', 'ros-indigo-pepper-gazebo-plugin', 'ros-melodic-prbt-gazebo', 'ros-melodic-gazebo-ros-pkgs', 'ros-lunar-hector-gazebo-thermal-camera', 'ros-galactic-irobot-create-gazebo-plugins-dbgsym', 'ros-melodic-moose-gazebo', 'ros-humble-ros-ign-gazebo-dbgsym', 'ros-noetic-turtlebot3-gazebo', 'ros-indigo-hrpsys-gazebo-msgs', 'ros-crystal-gazebo-msgs-dbgsym', 'ros-noetic-robotont-gazebo', 'ros-dashing-gazebo-msgs', 'ros-noetic-gazebo-plugins-dbgsym', 'ros-kinetic-pr2-gazebo', 'ros-melodic-qb-device-gazebo-dbgsym', 'ros-dashing-gazebo-ros-dbgsym', 'ros-humble-turtlebot3-gazebo', 'ros-humble-gazebo-video-monitor-plugins-dbgsym', 'ros-melodic-roboticsgroup-upatras-gazebo-plugins', 'ros-melodic-cob-gazebo-ros-control-dbgsym', 'ros-noetic-gazebo-ros-control', 'ros-crystal-gazebo-ros', 'ros-noetic-gazebo-plugins', 'ros-humble-gazebo-model-attachment-plugin-msgs-dbgsym', 'ros-noetic-roboticsgroup-upatras-gazebo-plugins-dbgsym', 'ros-melodic-gazebo-video-monitors', 'ros-kinetic-velodyne-gazebo-plugins', 'ros-galactic-gazebo-ros2-control-demos', 'ros-rolling-velodyne-gazebo-plugins', 'ros-humble-gazebo-video-monitor-utils', 'ros-galactic-gazebo-ros', 'ros-humble-gazebo-ros', 'ros-humble-as2-gazebo-classic-assets', 'ros-jazzy-gazebo-msgs', 'ros-kinetic-fetch-gazebo-demo', 'ros-melodic-roboticsgroup-upatras-gazebo-plugins-dbgsym', 'ros-rolling-gazebo-ros2-control-demos', 'ros-iron-gazebo-plugins-dbgsym', 'ros-melodic-nextage-gazebo', 'ros-foxy-gazebo-ros', 'ros-melodic-gazebo-video-monitor-plugins-dbgsym', 'ros-iron-gazebo-ros2-control-dbgsym', 'ros-humble-dolly-gazebo', 'ros-rolling-gazebo-ros', 'ros-foxy-velodyne-gazebo-plugins', 'ros-melodic-uuv-gazebo-ros-plugins-msgs', 'ros-kinetic-ur-gazebo', 'ros-indigo-hector-gazebo-worlds', 'ros-melodic-lauv-gazebo', 'ros-indigo-hector-gazebo-thermal-camera', 'ros-kinetic-uuv-gazebo-worlds', 'ros-lunar-gazebo-ros', 'ros-foxy-gazebo-plugins-dbgsym', 'ros-indigo-gazebo-state-plugins', 'ros-humble-gazebo-video-monitor-plugins', 'ros-noetic-qb-hand-gazebo-dbgsym', 'ros-noetic-open-manipulator-gazebo-dbgsym', 'ros-indigo-gazebo-grasp-plugin', 'ros-melodic-hector-gazebo-thermal-camera', 'ros-noetic-gazebo-msgs', 'ros-melodic-qb-device-gazebo', 'ros-humble-gazebo-msgs-dbgsym', 'ros-galactic-velodyne-gazebo-plugins', 'ros-humble-gazebo-model-attachment-plugin-msgs', 'ros-melodic-turtlebot3-gazebo', 'ros-lunar-gazebo-ros-control', 'ros-melodic-wave-gazebo-plugins-dbgsym', 'ros-indigo-pr2-gazebo-plugins', 'ros-indigo-gazebo-ros-control', 'ros-humble-pal-gazebo-plugins-dbgsym', 'ros-noetic-roboticsgroup-upatras-gazebo-plugins', 'ros-rolling-turtlebot3-gazebo', 'ros-noetic-hector-gazebo-thermal-camera', 'ros-melodic-mrp2-gazebo', 'ros-melodic-heron-gazebo', 'ros-indigo-ur-gazebo', 'ros-melodic-gazebo-video-monitor-plugins', 'ros-kinetic-open-manipulator-p-gazebo', 'ros-lunar-hector-sensors-gazebo', 'ros-indigo-husky-gazebo', 'ros-indigo-cob-gazebo-ros-control', 'ros-noetic-diffbot-gazebo', 'ros-lunar-gazebo-plugins', 'ros-kinetic-kobuki-gazebo-plugins', 'ros-foxy-turtlebot3-gazebo', 'ros-melodic-robotont-gazebo', 'ros-kinetic-gazebo-plugins', 'ros-noetic-khi-duaro-gazebo', 'ros-galactic-gazebo-plugins-dbgsym', 'ros-indigo-cob-gazebo', 'ros-noetic-ridgeback-gazebo-plugins-dbgsym', 'ros-iron-gazebo-video-monitor-utils', 'ros-melodic-cob-gazebo-tools', 'ros-noetic-open-manipulator-p-gazebo', 'ros-iron-gazebo-plugins', 'ros-kinetic-husky-gazebo', 'ros-kinetic-hector-gazebo-worlds', 'ros-melodic-usv-gazebo-plugins-dbgsym', 'ros-noetic-gazebo-ros-control-select-joints', 'ros-foxy-velodyne-gazebo-plugins-dbgsym', 'ros-humble-gazebo-ros2-control-demos-dbgsym', 'ros-melodic-velodyne-gazebo-plugins-dbgsym', 'ros-kinetic-hector-gazebo-plugins', 'ros-kinetic-manipulator-h-gazebo', 'ros-melodic-omnibase-gazebo', 'ros-dashing-gazebo-ros', 'ros-melodic-wamv-gazebo', 'ros-melodic-uuv-gazebo-worlds', 'ros-iron-gazebo-ros2-control-demos-dbgsym', 'ros-humble-gazebo-no-physics-plugin', 'ros-noetic-ridgeback-gazebo', 'ros-noetic-ridgeback-gazebo-plugins', 'ros-iron-velodyne-gazebo-plugins-dbgsym', 'ros-galactic-ros-ign-gazebo-dbgsym', 'ros-galactic-gazebo-ros-dbgsym', 'ros-galactic-irobot-create-gazebo-plugins', 'ros-melodic-gazebo-ros-control-dbgsym', 'ros-noetic-ros-ign-gazebo-demos', 'ros-rolling-dolly-gazebo', 'ros-melodic-velodyne-gazebo-plugins', 'ros-melodic-husky-gazebo', 'ros-noetic-khi-rs-gazebo', 'ros-iron-gazebo-msgs-dbgsym', 'ros-galactic-turtlebot3-gazebo-dbgsym', 'ros-indigo-pr2-gazebo', 'ros-humble-raspimouse-gazebo', 'ros-foxy-ros-ign-gazebo-dbgsym', 'ros-indigo-gazebo-concert', 'ros-iron-gazebo-ros2-control-demos', 'ros-melodic-gazebo-video-monitor-msgs', 'ros-indigo-kobuki-gazebo', 'ros-kinetic-pepper-gazebo-plugin', 'ros-melodic-ainstein-radar-gazebo-plugins', 'ros-melodic-open-manipulator-p-gazebo', 'ros-melodic-gazebo-ros-dbgsym', 'ros-humble-turtlebot3-gazebo-dbgsym', 'ros-noetic-hector-sensors-gazebo', 'ros-foxy-gazebo-ros2-control-demos-dbgsym', 'ros-melodic-pr2-gazebo-plugins-dbgsym', 'ros-eloquent-gazebo-msgs-dbgsym', 'ros-galactic-ros-ign-gazebo-demos', 'ros-noetic-mecanum-gazebo-plugin', 'ros-iron-gazebo-video-monitor-interfaces', 'ros-galactic-ros-ign-gazebo', 'ros-melodic-vrx-gazebo', 'ros-humble-gazebo-ros2-control-dbgsym', 'ros-galactic-gazebo-ros2-control-demos-dbgsym', 'ros-melodic-rotors-gazebo-plugins-dbgsym', 'ros-lunar-gazebo-ros-pkgs', 'ros-iron-ros-ign-gazebo', 'ros-noetic-gazebo-video-monitor-msgs', 'ros-humble-irobot-create-gazebo-plugins-dbgsym', 'ros-galactic-gazebo-ros2-control', 'ros-kinetic-ur-e-gazebo', 'ros-melodic-ridgeback-gazebo-plugins', 'ros-noetic-cob-gazebo-plugins-dbgsym', 'ros-foxy-gazebo-ros2-control-dbgsym', 'ros-humble-tiago-gazebo', 'ros-melodic-pr2-gazebo-plugins', 'ros-humble-velodyne-gazebo-plugins', 'ros-humble-gazebo-video-monitor-interfaces-dbgsym', 'ros-eloquent-gazebo-msgs', 'ros-rolling-gazebo-ros-dbgsym', 'ros-rolling-velodyne-gazebo-plugins-dbgsym', 'ros-foxy-gazebo-ros2-control-demos', 'ros-indigo-hrpsys-gazebo-general', 'ros-galactic-gazebo-msgs', 'ros-humble-as2-platform-gazebo-dbgsym', 'ros-rolling-gazebo-dev', 'ros-noetic-gazebo-ros', 'ros-noetic-open-manipulator-p-gazebo-dbgsym', 'ros-indigo-pr2-controller-configuration-gazebo', 'ros-galactic-dolly-gazebo', 'ros-melodic-warthog-gazebo-dbgsym', 'ros-galactic-gazebo-dev', 'ros-noetic-leo-gazebo-plugins', 'ros-iron-velodyne-gazebo-plugins', 'ros-kinetic-uuv-gazebo-ros-plugins-msgs', 'ros-melodic-turtlebot3-gazebo-dbgsym', 'ros-humble-pal-gazebo-plugins', 'ros-iron-ros-ign-gazebo-demos', 'ros-kinetic-katana-arm-gazebo', 'ros-noetic-cob-gazebo-ros-control', 'ros-melodic-uos-gazebo-worlds', 'ros-melodic-robosense-gazebo-plugins-dbgsym', 'ros-rolling-ros-ign-gazebo', 'ros-melodic-gazebo-dev', 'ros-noetic-hector-gazebo-plugins', 'ros-rolling-gazebo-plugins-dbgsym', 'ros-iron-gazebo-msgs', 'ros-melodic-franka-gazebo', 'ros-kinetic-pr2-gazebo-plugins', 'ros-iron-gazebo-video-monitor-plugins-dbgsym', 'ros-melodic-gundam-rx78-gazebo', 'ros-melodic-khi-rs-gazebo', 'ros-melodic-uuv-gazebo-ros-plugins-dbgsym', 'ros-humble-gazebo-ros2-control', 'ros-noetic-ros-ign-gazebo-dbgsym', 'ros-foxy-gazebo-ros-pkgs', 'ros-humble-ros-ign-gazebo', 'ros-noetic-cob-gazebo-ros-control-dbgsym', 'ros-indigo-hector-gazebo-plugins', 'ros-noetic-gazebo-video-monitor-utils', 'ros-melodic-robosense-gazebo-plugins', 'ros-noetic-gazebo-ros-pkgs', 'ros-galactic-nav2-gazebo-spawner', 'ros-kinetic-fetch-gazebo', 'ros-dashing-gazebo-dev', 'ros-kinetic-gazebo-msgs', 'ros-melodic-mir-gazebo', 'ros-melodic-cob-gazebo-objects', 'ros-humble-pmb2-gazebo', 'ros-kinetic-gazebo-dev', 'ros-noetic-dingo-gazebo', 'ros-melodic-hector-gazebo-plugins-dbgsym', 'ros-melodic-igvc-self-drive-gazebo-plugins-dbgsym', 'ros-humble-as2-gazebo-assets-dbgsym', 'ros-foxy-turtlebot3-gazebo-dbgsym', 'ros-melodic-fetch-gazebo-demo', 'ros-kinetic-gazebo-ros', 'ros-kinetic-igvc-self-drive-gazebo-plugins', 'ros-indigo-fetch-gazebo-demo', 'ros-dashing-gazebo-ros-pkgs', 'ros-noetic-velodyne-gazebo-plugins', 'ros-melodic-gazebo-ros', 'ros-kinetic-turtlebot3-gazebo', 'ros-melodic-uuv-gazebo-plugins-dbgsym', 'ros-melodic-hector-gazebo-worlds', 'ros-rolling-gazebo-msgs-dbgsym', 'ros-noetic-ros-ign-gazebo', 'ros-crystal-gazebo-dev', 'ros-melodic-cob-gazebo-ros-control', 'ros-eloquent-gazebo-ros-dbgsym', 'ros-foxy-pal-gazebo-worlds', 'ros-kinetic-kobuki-gazebo', 'ros-foxy-pmb2-2dnav-gazebo', 'python3-ignition-gazebo6', 'ros-foxy-gazebo-msgs', 'ros-noetic-jackal-gazebo', 'ros-melodic-khi-duaro-gazebo', 'ros-rolling-gazebo-msgs', 'ros-humble-as2-platform-gazebo', 'ros-noetic-qb-device-gazebo', 'ros-iron-gazebo-ros', 'ros-dashing-gazebo-plugins-dbgsym', 'ros-jazzy-gazebo-msgs-dbgsym', 'ros-kinetic-open-manipulator-with-tb3-gazebo', 'ros-humble-gazebo-no-physics-plugin-dbgsym', 'ros-melodic-hector-gazebo-plugins', 'ros-rolling-ros-ign-gazebo-demos', 'ros-humble-gazebo-model-attachment-plugin-dbgsym', 'ros-eloquent-gazebo-ros', 'ros-melodic-uuv-gazebo', 'ros-rolling-turtlebot3-gazebo-dbgsym', 'ros-melodic-eca-a9-gazebo', 'ros-noetic-franka-gazebo-dbgsym', 'ros-melodic-open-manipulator-gazebo', 'ros-kinetic-uuv-gazebo', 'ros-galactic-velodyne-gazebo-plugins-dbgsym', 'ros-indigo-baxter-gazebo', 'ros-indigo-cob-gazebo-worlds', 'ros-rolling-gazebo-ros2-control-dbgsym', 'ros-iron-gazebo-video-monitor-plugins', 'ros-melodic-uuv-gazebo-plugins', 'ros-melodic-cob-gazebo-plugins', 'ros-kinetic-gazebo-ros-pkgs', 'ros-iron-gazebo-dev', 'ros-kinetic-uuv-gazebo-ros-plugins', 'ros-galactic-irobot-create-gazebo-sim', 'ros-indigo-cob-gazebo-plugins', 'ros-rolling-gazebo-ros2-control', 'ros-humble-irobot-create-gazebo-sim', 'ros-indigo-concert-service-gazebo', 'ros-galactic-gazebo-msgs-dbgsym', 'ros-noetic-gazebo-model-attachment-plugin', 'ros-noetic-leo-gazebo', 'ros-indigo-aras-visual-servo-gazebo', 'ros-indigo-cob-gazebo-objects', 'ros-indigo-gazebo-world-plugin-loader', 'ros-crystal-gazebo-plugins', 'ros-crystal-gazebo-msgs', 'ros-humble-as2-gazebo-assets', 'ros-noetic-mia-hand-gazebo-dbgsym', 'ros-kinetic-pr2-controller-configuration-gazebo', 'ros-noetic-hector-gazebo-worlds', 'ros-indigo-gazebo-plugins', 'ros-jazzy-dolly-gazebo', 'ros-melodic-gazebo-ros-control', 'ros-foxy-gazebo-msgs-dbgsym', 'ros-rolling-gazebo-ros2-control-demos-dbgsym', 'ros-noetic-qb-hand-gazebo', 'ros-kinetic-hector-gazebo', 'ros-foxy-gazebo-plugins', 'ros-noetic-gazebo-ros-dbgsym', 'ros-lunar-pr2-gazebo-plugins', 'ros-dashing-gazebo-plugins', 'ros-foxy-ros-ign-gazebo', 'ros-foxy-ros-ign-gazebo-demos', 'ros-noetic-husky-gazebo', 'ros-foxy-crane-plus-gazebo', 'ros-noetic-open-manipulator-gazebo', 'ros-humble-gazebo-msgs', 'ros-lunar-hector-gazebo-plugins', 'ros-kinetic-roboticsgroup-upatras-gazebo-plugins', 'ros-kinetic-open-manipulator-gazebo', 'ros-iron-gazebo-ros-dbgsym', 'ros-foxy-husky-gazebo', 'ros-humble-tiago-gazebo-dbgsym', 'ros-indigo-gazebo-ros', 'ros-crystal-gazebo-plugins-dbgsym', 'ros-melodic-cob-gazebo-worlds', 'ros-noetic-gazebo-ros-control-dbgsym', 'ros-melodic-pr2-gazebo', 'ros-humble-gazebo-set-joint-positions-plugin', 'ros-melodic-usv-gazebo-plugins', 'ros-melodic-leo-gazebo-dbgsym', 'ros-indigo-gazebo-msgs', 'ros-melodic-rexrov2-gazebo', 'ros-indigo-velodyne-gazebo-plugins', 'ros-noetic-gazebo-dev', 'ros-galactic-irobot-create-gazebo-bringup', 'ros-indigo-gazebo-ros-pkgs', 'ros-kinetic-ainstein-radar-gazebo-plugins', 'ros-noetic-hector-gazebo', 'ros-indigo-hector-quadrotor-gazebo', 'ros-noetic-cob-gazebo-tools', 'ros-humble-ros-ign-gazebo-demos', 'ros-melodic-open-manipulator-gazebo-dbgsym', 'ros-noetic-warthog-gazebo', 'ros-noetic-gazebo-model-attachment-plugin-dbgsym', 'ros-indigo-gazebo-mimic', 'ros-kinetic-khi-duaro-gazebo', 'ros-melodic-fetch-gazebo', 'ros-humble-gazebo-model-attachment-plugin', 'ros-foxy-gazebo-dev', 'ros-melodic-hector-gazebo', 'ros-noetic-audibot-gazebo-dbgsym', 'ros-eloquent-gazebo-ros-pkgs', 'ros-iron-turtlebot3-gazebo', 'ros-melodic-vrx-gazebo-dbgsym', 'ros-melodic-denso-robot-gazebo', 'ros-humble-gazebo-set-joint-positions-plugin-dbgsym', 'ros-melodic-hector-gazebo-thermal-camera-dbgsym', 'ros-galactic-turtlebot3-gazebo', 'ros-humble-velodyne-gazebo-plugins-dbgsym', 'ros-noetic-gazebo-ros-control-select-joints-dbgsym', 'ros-noetic-gazebo-custom-sensor-preloader-dbgsym', 'ros-melodic-warthog-gazebo', 'ros-melodic-wave-gazebo-plugins', 'ros-indigo-denso-robot-gazebo', 'ros-iron-gazebo-video-monitor-interfaces-dbgsym', 'ros-lunar-hector-gazebo-plugins-dbgsym', 'ros-humble-gazebo-dev', 'ros-noetic-pr2-gazebo-plugins-dbgsym', 'ros-melodic-uuv-gazebo-ros-plugins', 'ros-galactic-gazebo-plugins', 'ros-kinetic-gazebo-ros-control', 'ros-melodic-wave-gazebo', 'ros-noetic-franka-gazebo', 'ros-melodic-jackal-gazebo', 'ros-noetic-qb-move-gazebo-dbgsym', 'ros-lunar-gazebo-msgs', 'ros-eloquent-gazebo-plugins', 'ros-galactic-gazebo-ros-pkgs', 'ros-melodic-audibot-gazebo', 'ros-foxy-nav2-gazebo-spawner', 'ros-noetic-cob-gazebo-plugins', 'ros-indigo-gazebo-test-tools', 'ros-melodic-ur-gazebo', 'ros-melodic-fetch-gazebo-dbgsym', 'ros-melodic-open-manipulator-p-gazebo-dbgsym', 'ros-noetic-cob-gazebo', 'ros-noetic-leo-gazebo-worlds', 'ros-noetic-prbt-gazebo', 'ros-rolling-ros-ign-gazebo-dbgsym', 'ros-humble-gazebo-plugins-dbgsym', 'ros-galactic-gazebo-ros2-control-dbgsym', 'ros-indigo-fetch-gazebo', 'ros-melodic-ridgeback-gazebo-plugins-dbgsym', 'ros-noetic-audibot-gazebo', 'ros-noetic-pr2-gazebo', 'ros-humble-gazebo-video-monitors', 'ros-melodic-gazebo-plugins', 'ros-indigo-kobuki-gazebo-plugins', 'ros-humble-gazebo-video-monitor-interfaces', 'ros-melodic-tuw-gazebo-msgs', 'ros-indigo-create-gazebo-plugins', 'ros-crystal-gazebo-ros-pkgs', 'ros-melodic-igvc-self-drive-gazebo', 'ros-crystal-gazebo-ros-dbgsym', 'ros-noetic-pr2-gazebo-plugins', 'ros-humble-irobot-create-gazebo-plugins', 'ros-melodic-rotors-gazebo-plugins', 'ros-melodic-mecanum-gazebo-plugin', 'ros-foxy-dolly-gazebo', 'ros-noetic-cob-gazebo-objects', 'ros-foxy-gazebo-ros2-control', 'ros-noetic-velodyne-gazebo-plugins-dbgsym', 'ros-humble-pal-gazebo-worlds', 'ros-noetic-warthog-gazebo-dbgsym', 'ros-lunar-gazebo-dev', 'ros-dashing-turtlebot3-gazebo-dbgsym', 'ros-iron-dolly-gazebo', 'ros-melodic-gazebo-msgs', 'ros-dashing-turtlebot3-gazebo', 'ros-rolling-gazebo-ros-pkgs', 'ros-noetic-ur-gazebo', 'ros-iron-turtlebot3-gazebo-dbgsym', 'ros-kinetic-turtlebot-gazebo', 'ros-melodic-pr2-controller-configuration-gazebo', 'ros-noetic-qb-device-gazebo-dbgsym', 'ros-noetic-rm-gazebo', 'ros-eloquent-nav2-gazebo-spawner', 'ros-melodic-gazebo-plugins-dbgsym', 'ros-noetic-rm-gazebo-dbgsym', 'ros-melodic-leo-gazebo', 'ros-humble-gazebo-planar-move-plugin', 'ros-noetic-gazebo-custom-sensor-preloader', 'ros-noetic-gazebo-video-monitors', 'ros-indigo-nextage-gazebo', 'ros-noetic-hector-gazebo-thermal-camera-dbgsym', 'ros-indigo-hector-gazebo', 'ros-indigo-youbot-gazebo-control', 'ros-indigo-mrp2-hardware-gazebo'}\n",
      "468\n",
      "{'ros-rolling-ignition-math6-vendor', 'ros-galactic-irobot-create-ignition-sim', 'ros-humble-turtlebot4-ignition-gui-plugins', 'python3-ignition-gazebo6', 'ros-humble-turtlebot4-ignition-toolbox-dbgsym', 'ros-humble-ignition-math6-vendor', 'ros-iron-dolly-ignition', 'ros-galactic-irobot-create-ignition-toolbox-dbgsym', 'ros-humble-irobot-create-ignition-plugins-dbgsym', 'ros-foxy-dolly-ignition', 'ros-galactic-irobot-create-ignition-toolbox', 'ros-humble-ignition-cmake2-vendor', 'ros-humble-dolly-ignition', 'ros-iron-ignition-cmake2-vendor', 'python3-ignition-math6', 'ros-humble-irobot-create-ignition-sim', 'ros-galactic-turtlebot4-ignition-gui-plugins', 'ros-galactic-irobot-create-ignition-plugins', 'ros-galactic-turtlebot4-ignition-gui-plugins-dbgsym', 'ros-galactic-turtlebot4-ignition-bringup', 'ros-humble-irobot-create-ignition-plugins', 'ros-galactic-irobot-create-ignition-bringup', 'ros-humble-irobot-create-ignition-bringup', 'ros-galactic-turtlebot4-ignition-toolbox', 'ros-humble-irobot-create-ignition-toolbox-dbgsym', 'ros-galactic-irobot-create-ignition-plugins-dbgsym', 'ros-rolling-ignition-cmake2-vendor', 'ros-humble-turtlebot4-ignition-bringup', 'ros-galactic-dolly-ignition', 'ros-humble-irobot-create-ignition-toolbox', 'ros-humble-turtlebot4-ignition-gui-plugins-dbgsym', 'ros-rolling-dolly-ignition', 'ros-foxy-crane-plus-ignition', 'ros-iron-ignition-math6-vendor', 'ros-humble-turtlebot4-ignition-toolbox', 'ros-galactic-turtlebot4-ignition-toolbox-dbgsym'}\n",
      "36\n",
      "{'ros-jazzy-gz-sim-vendor', 'ros-jazzy-gz-ogre-next-vendor-dbgsym', 'ros-iron-ros-gz-bridge', 'ros-jazzy-gz-ros2-control-demos', 'ros-jazzy-gz-math-vendor-dbgsym', 'ros-rolling-gz-rendering-vendor-dbgsym', 'ros-humble-clearpath-generator-gz', 'ros-jazzy-gz-utils-vendor', 'ros-rolling-gz-ogre-next-vendor-dbgsym', 'ros-iron-ros-gz-interfaces', 'ros-rolling-gz-common-vendor', 'ros-jazzy-ros-gz-image', 'ros-jazzy-ros-gz-sim-demos', 'ros-jazzy-gz-cmake-vendor', 'ros-iron-leo-gz-bringup', 'ros-jazzy-gz-ros2-control', 'ros-rolling-ros-gz-bridge', 'ros-jazzy-ros-gz-bridge-dbgsym', 'ros-humble-ros-gz-sim-dbgsym', 'ros-humble-ros-gz-interfaces', 'ros-jazzy-gz-launch-vendor', 'ros-rolling-ros-gz-image-dbgsym', 'ros-rolling-gz-tools-vendor-dbgsym', 'ros-jazzy-gz-ros2-control-demos-dbgsym', 'ros-jazzy-gz-fuel-tools-vendor-dbgsym', 'ros-humble-ros-gz-image', 'ros-humble-leo-gz-bringup', 'ros-jazzy-gz-common-vendor-dbgsym', 'ros-jazzy-gz-fuel-tools-vendor', 'ros-humble-ros-gz', 'ros-jazzy-gz-ogre-next-vendor', 'python3-gz-sim6', 'ros-jazzy-gz-transport-vendor-dbgsym', 'ros-rolling-ros-gz-sim-dbgsym', 'ros-iron-ros-gz-interfaces-dbgsym', 'ros-jazzy-leo-gz-bringup', 'ros-rolling-gz-transport-vendor', 'ros-jazzy-gz-rendering-vendor-dbgsym', 'ros-rolling-gz-ros2-control-demos', 'ros-rolling-gz-dartsim-vendor-dbgsym', 'ros-jazzy-gz-launch-vendor-dbgsym', 'ros-jazzy-ros-gz-image-dbgsym', 'ros-rolling-gz-msgs-vendor-dbgsym', 'ros-jazzy-ros-gz-interfaces-dbgsym', 'ros-jazzy-gz-plugin-vendor-dbgsym', 'ros-humble-leo-gz-plugins', 'ros-rolling-gz-msgs-vendor', 'ros-rolling-ros-gz-sim', 'ros-rolling-gz-utils-vendor', 'ros-rolling-test-ros-gz-bridge', 'ros-rolling-ros-gz-bridge-dbgsym', 'ros-rolling-gz-gui-vendor', 'ros-rolling-ros-gz-interfaces', 'ros-humble-ros-gz-image-dbgsym', 'ros-jazzy-gz-sim-vendor-dbgsym', 'ros-rolling-ros-gz', 'ros-rolling-gz-math-vendor', 'ros-rolling-gz-launch-vendor', 'ros-jazzy-ros-gz', 'ros-rolling-gz-ogre-next-vendor', 'ros-rolling-gz-physics-vendor', 'ros-jazzy-ros-gz-bridge', 'ros-iron-ros-gz-image-dbgsym', 'ros-rolling-ros-gz-image', 'ros-rolling-leo-gz-bringup', 'ros-jazzy-ros-gz-sim', 'ros-iron-ros-gz-sim-demos', 'ros-rolling-ros-gz-sim-demos', 'ros-humble-andino-gz', 'ros-humble-clearpath-gz', 'ros-jazzy-gz-dartsim-vendor', 'ros-jazzy-ros-gz-interfaces', 'ros-iron-leo-gz-worlds', 'ros-jazzy-gz-dartsim-vendor-dbgsym', 'ros-jazzy-gz-gui-vendor', 'ros-rolling-gz-utils-vendor-dbgsym', 'ros-iron-gz-ros2-control', 'ros-jazzy-leo-gz-plugins', 'ros-jazzy-test-ros-gz-bridge', 'ros-humble-ros-gz-sim-demos', 'ros-jazzy-gz-physics-vendor', 'ros-jazzy-gz-plugin-vendor', 'ros-rolling-gz-plugin-vendor', 'ros-iron-leo-gz-plugins', 'ros-humble-leo-gz-worlds', 'ros-jazzy-gz-rendering-vendor', 'ros-iron-gz-ros2-control-demos-dbgsym', 'ros-iron-gz-ros2-control-dbgsym', 'ros-jazzy-gz-sensors-vendor-dbgsym', 'ros-rolling-gz-sensors-vendor-dbgsym', 'ros-jazzy-gz-utils-vendor-dbgsym', 'ros-rolling-gz-ros2-control-demos-dbgsym', 'ros-rolling-gz-sensors-vendor', 'ros-rolling-gz-plugin-vendor-dbgsym', 'ros-humble-leo-gz-plugins-dbgsym', 'ros-humble-ros-gz-bridge', 'ros-rolling-gz-common-vendor-dbgsym', 'ros-jazzy-gz-physics-vendor-dbgsym', 'ros-iron-ros-gz', 'ros-iron-ros-gz-sim', 'ros-jazzy-gz-math-vendor', 'ros-rolling-gz-dartsim-vendor', 'ros-rolling-gz-transport-vendor-dbgsym', 'ros-rolling-gz-fuel-tools-vendor-dbgsym', 'ros-rolling-gz-launch-vendor-dbgsym', 'ros-jazzy-gz-sensors-vendor', 'ros-rolling-gz-ros2-control', 'ros-rolling-gz-sim-vendor', 'ros-rolling-gz-rendering-vendor', 'ros-iron-test-ros-gz-bridge', 'ros-jazzy-ros-gz-sim-dbgsym', 'ros-rolling-leo-gz-worlds', 'ros-rolling-gz-physics-vendor-dbgsym', 'ros-jazzy-gz-gui-vendor-dbgsym', 'ros-jazzy-gz-transport-vendor', 'ros-rolling-ros-gz-interfaces-dbgsym', 'ros-rolling-leo-gz-plugins-dbgsym', 'python3-gz-math6', 'ros-iron-ros-gz-sim-dbgsym', 'ros-jazzy-gz-msgs-vendor', 'ros-iron-gz-ros2-control-demos', 'ros-iron-ros-gz-image', 'ros-jazzy-gz-ros2-control-dbgsym', 'ros-jazzy-gz-msgs-vendor-dbgsym', 'ros-iron-leo-gz-plugins-dbgsym', 'ros-rolling-gz-fuel-tools-vendor', 'ros-rolling-gz-sim-vendor-dbgsym', 'ros-rolling-gz-tools-vendor', 'ros-humble-ros-gz-bridge-dbgsym', 'ros-jazzy-gz-tools-vendor-dbgsym', 'ros-jazzy-leo-gz-plugins-dbgsym', 'ros-rolling-leo-gz-plugins', 'ros-rolling-gz-cmake-vendor', 'ros-rolling-gz-ros2-control-dbgsym', 'ros-rolling-gz-gui-vendor-dbgsym', 'ros-humble-ros-gz-sim', 'ros-humble-ros-gz-interfaces-dbgsym', 'ros-iron-ros-gz-bridge-dbgsym', 'ros-rolling-gz-math-vendor-dbgsym', 'ros-jazzy-gz-tools-vendor', 'ros-jazzy-gz-common-vendor'}\n",
      "141\n",
      "{'ros-galactic-ign-rviz-dbgsym', 'ros-rolling-ignition-math6-vendor', 'ros-foxy-ign-ros2-control-demos-dbgsym', 'ros-humble-turtlebot4-ignition-toolbox-dbgsym', 'ros-iron-dolly-ignition', 'ros-galactic-ros-ign-image', 'ros-rolling-ign-rviz-dbgsym', 'ros-noetic-bota-signal-handler-dbgsym', 'ros-foxy-dolly-ignition', 'ros-humble-ros-ign-bridge-dbgsym', 'ros-humble-ros-ign-gazebo-demos', 'ros-foxy-ros-ign-image-dbgsym', 'python3-ignition-math6', 'ros-foxy-ros-ign', 'ros-rolling-ros-ign-bridge-dbgsym', 'ros-iron-ros-ign-gazebo-dbgsym', 'ros-galactic-turtlebot4-ignition-toolbox', 'ros-noetic-ign-ros-control', 'ros-humble-irobot-create-ignition-toolbox-dbgsym', 'ros-galactic-ros-ign-gazebo-dbgsym', 'ros-humble-turtlebot4-ignition-bringup', 'ros-rolling-ign-rviz-plugins-dbgsym', 'ros-noetic-ros-ign-gazebo', 'ros-humble-turtlebot4-ignition-gui-plugins-dbgsym', 'ros-noetic-ros-ign-gazebo-demos', 'ros-iron-ros-ign-image-dbgsym', 'ros-galactic-ign-rviz-common', 'ros-galactic-irobot-create-ignition-sim', 'ros-rolling-ros-ign-interfaces', 'ros-iron-ignition-math6-vendor', 'ros-humble-ros-ign-interfaces-dbgsym', 'ros-rolling-ros-ign-image', 'python3-ignition-gazebo6', 'ros-foxy-ign-ros2-control-demos', 'ros-galactic-ros-ign-bridge-dbgsym', 'ros-foxy-ros-ign-image', 'ros-galactic-ros-ign-interfaces-dbgsym', 'ros-foxy-ros-ign-gazebo-dbgsym', 'ros-noetic-ign-ros-control-dbgsym', 'ros-humble-dolly-ignition', 'ros-humble-ign-ros2-control-demos-dbgsym', 'ros-rolling-ros-ign-interfaces-dbgsym', 'ros-humble-ros-ign-gazebo-dbgsym', 'ros-rolling-ros-ign-gazebo-demos', 'ros-foxy-ign-ros2-control-dbgsym', 'ros-rolling-ros-ign-bridge', 'ros-humble-ign-ros2-control-demos', 'ros-galactic-turtlebot4-ignition-gui-plugins', 'ros-galactic-ros-ign', 'ros-galactic-turtlebot4-ignition-bringup', 'ros-galactic-irobot-create-ignition-bringup', 'ros-indigo-designator-integration-cpp', 'ros-humble-irobot-create-ignition-bringup', 'ros-noetic-ros-ign-bridge-dbgsym', 'ros-galactic-ign-ros2-control-demos', 'ros-foxy-ros-ign-interfaces-dbgsym', 'ros-humble-ign-ros2-control-dbgsym', 'ros-galactic-ign-rviz', 'ros-indigo-designator-integration-lisp', 'ros-galactic-ign-ros2-control-dbgsym', 'ros-galactic-ros-ign-gazebo-demos', 'ros-galactic-ros-ign-image-dbgsym', 'ros-galactic-ros-ign-gazebo', 'ros-galactic-ros-ign-bridge', 'ros-iron-ros-ign-gazebo', 'ros-noetic-ros-ign', 'ros-galactic-ros-ign-interfaces', 'ros-galactic-irobot-create-ignition-toolbox-dbgsym', 'ros-humble-irobot-create-ignition-plugins-dbgsym', 'ros-iron-ros-ign-image', 'ros-iron-ros-ign', 'ros-humble-ros-ign', 'ros-galactic-irobot-create-ignition-toolbox', 'ros-rolling-ign-rviz', 'ros-rolling-ros-ign-gazebo-dbgsym', 'ros-humble-ros-ign-bridge', 'ros-foxy-ros-ign-interfaces', 'ros-iron-ignition-cmake2-vendor', 'ros-galactic-ign-rviz-common-dbgsym', 'ros-noetic-ros-ign-bridge', 'ros-humble-ros-ign-image-dbgsym', 'ros-humble-irobot-create-ignition-sim', 'ros-galactic-ign-ros2-control-demos-dbgsym', 'ros-humble-ros-ign-image', 'ros-humble-irobot-create-ignition-plugins', 'ros-indigo-designator-integration-msgs', 'ros-galactic-irobot-create-ignition-plugins-dbgsym', 'ros-iron-ros-ign-bridge-dbgsym', 'ros-rolling-ignition-cmake2-vendor', 'ros-noetic-ros-ign-image', 'ros-foxy-crane-plus-ignition', 'ros-iron-ros-ign-bridge', 'ros-rolling-ign-rviz-common', 'ros-noetic-ros-ign-image-dbgsym', 'ros-humble-turtlebot4-ignition-gui-plugins', 'ros-rolling-ros-ign-image-dbgsym', 'ros-galactic-turtlebot4-ignition-toolbox-dbgsym', 'ros-noetic-ign-ros-control-demos', 'ros-indigo-designator-integration', 'ros-humble-ignition-math6-vendor', 'ros-rolling-ign-rviz-common-dbgsym', 'ros-iron-ros-ign-gazebo-demos', 'ros-galactic-ign-rviz-plugins-dbgsym', 'ros-rolling-ros-ign', 'ros-humble-ignition-cmake2-vendor', 'ros-iron-ros-ign-interfaces', 'ros-foxy-ros-ign-gazebo', 'ros-foxy-ros-ign-gazebo-demos', 'ros-humble-ign-ros2-control', 'ros-rolling-ign-rviz-plugins', 'ros-rolling-ros-ign-gazebo', 'ros-foxy-ign-ros2-control', 'ros-galactic-ign-rviz-plugins', 'ros-iron-ros-ign-interfaces-dbgsym', 'ros-foxy-ros-ign-bridge-dbgsym', 'ros-galactic-turtlebot4-ignition-gui-plugins-dbgsym', 'ros-noetic-ros-ign-gazebo-dbgsym', 'ros-noetic-bota-signal-handler', 'ros-foxy-ros-ign-bridge', 'ros-humble-ros-ign-gazebo', 'ros-galactic-ign-ros2-control', 'ros-galactic-dolly-ignition', 'ros-humble-irobot-create-ignition-toolbox', 'ros-rolling-dolly-ignition', 'ros-galactic-irobot-create-ignition-plugins', 'ros-humble-turtlebot4-ignition-toolbox', 'ros-humble-ros-ign-interfaces'}\n",
      "127\n"
     ]
    }
   ],
   "source": [
    "set_gazebo = set([f for f in package_df[\"name\"].tolist() if \"gazebo\" in f and \"rmf\" not in f ])\n",
    "print(set_gazebo)\n",
    "print(len(set_gazebo))\n",
    "set_ignition = set([f for f in package_df[\"name\"].tolist() if \"ignition\" in f and \"rmf\" not in f])\n",
    "print(set_ignition)\n",
    "print(len(set_ignition))\n",
    "set_gz = set([f for f in package_df[\"name\"].tolist() if \"gz\" in f and \"rmf\" not in f and \"classic\" not in f])\n",
    "print(set_gz)\n",
    "print(len(set_gz))\n",
    "set_ign = set([f for f in package_df[\"name\"].tolist() if \"ign\" in f and \"rmf\" not in f ])\n",
    "print(set_ign)\n",
    "print(len(set_ign))\n"
   ]
  },
  {
   "cell_type": "code",
   "execution_count": 23,
   "metadata": {},
   "outputs": [
    {
     "name": "stdout",
     "output_type": "stream",
     "text": [
      "Set of new Gazebo packages, formerly Ignition\n",
      "268\n",
      "{'ros-galactic-ign-rviz-dbgsym', 'ros-jazzy-gz-sim-vendor', 'ros-jazzy-gz-ogre-next-vendor-dbgsym', 'ros-rolling-ignition-math6-vendor', 'ros-iron-ros-gz-bridge', 'ros-foxy-ign-ros2-control-demos-dbgsym', 'ros-jazzy-gz-ros2-control-demos', 'ros-humble-turtlebot4-ignition-toolbox-dbgsym', 'ros-iron-dolly-ignition', 'ros-jazzy-gz-math-vendor-dbgsym', 'ros-rolling-gz-rendering-vendor-dbgsym', 'ros-galactic-ros-ign-image', 'ros-rolling-ign-rviz-dbgsym', 'ros-humble-clearpath-generator-gz', 'ros-jazzy-gz-utils-vendor', 'ros-noetic-bota-signal-handler-dbgsym', 'ros-rolling-gz-ogre-next-vendor-dbgsym', 'ros-foxy-dolly-ignition', 'ros-humble-ros-ign-bridge-dbgsym', 'ros-iron-ros-gz-interfaces', 'ros-rolling-gz-common-vendor', 'ros-jazzy-ros-gz-image', 'ros-jazzy-ros-gz-sim-demos', 'ros-humble-ros-ign-gazebo-demos', 'ros-jazzy-gz-cmake-vendor', 'ros-foxy-ros-ign-image-dbgsym', 'python3-ignition-math6', 'ros-foxy-ros-ign', 'ros-iron-leo-gz-bringup', 'ros-jazzy-gz-ros2-control', 'ros-rolling-ros-gz-bridge', 'ros-jazzy-ros-gz-bridge-dbgsym', 'ros-rolling-ros-ign-bridge-dbgsym', 'ros-humble-ros-gz-sim-dbgsym', 'ros-humble-ros-gz-interfaces', 'ros-jazzy-gz-launch-vendor', 'ros-rolling-ros-gz-image-dbgsym', 'ros-rolling-gz-tools-vendor-dbgsym', 'ros-jazzy-gz-ros2-control-demos-dbgsym', 'ros-jazzy-gz-fuel-tools-vendor-dbgsym', 'ros-iron-ros-ign-gazebo-dbgsym', 'ros-humble-ros-gz-image', 'ros-humble-leo-gz-bringup', 'ros-galactic-turtlebot4-ignition-toolbox', 'ros-noetic-ign-ros-control', 'ros-jazzy-gz-common-vendor-dbgsym', 'ros-humble-irobot-create-ignition-toolbox-dbgsym', 'ros-jazzy-gz-fuel-tools-vendor', 'ros-humble-ros-gz', 'ros-galactic-ros-ign-gazebo-dbgsym', 'ros-humble-turtlebot4-ignition-bringup', 'ros-rolling-ign-rviz-plugins-dbgsym', 'ros-jazzy-gz-ogre-next-vendor', 'ros-noetic-ros-ign-gazebo', 'python3-gz-sim6', 'ros-humble-turtlebot4-ignition-gui-plugins-dbgsym', 'ros-jazzy-gz-transport-vendor-dbgsym', 'ros-rolling-ros-gz-sim-dbgsym', 'ros-iron-ros-gz-interfaces-dbgsym', 'ros-jazzy-leo-gz-bringup', 'ros-noetic-ros-ign-gazebo-demos', 'ros-iron-ros-ign-image-dbgsym', 'ros-rolling-gz-transport-vendor', 'ros-jazzy-gz-rendering-vendor-dbgsym', 'ros-galactic-ign-rviz-common', 'ros-rolling-gz-ros2-control-demos', 'ros-rolling-gz-dartsim-vendor-dbgsym', 'ros-galactic-irobot-create-ignition-sim', 'ros-jazzy-gz-launch-vendor-dbgsym', 'ros-rolling-ros-ign-interfaces', 'ros-jazzy-ros-gz-image-dbgsym', 'ros-rolling-gz-msgs-vendor-dbgsym', 'ros-jazzy-ros-gz-interfaces-dbgsym', 'ros-jazzy-gz-plugin-vendor-dbgsym', 'ros-humble-ros-ign-interfaces-dbgsym', 'ros-rolling-ros-ign-image', 'python3-ignition-gazebo6', 'ros-foxy-ign-ros2-control-demos', 'ros-galactic-ros-ign-bridge-dbgsym', 'ros-humble-leo-gz-plugins', 'ros-foxy-ros-ign-image', 'ros-galactic-ros-ign-interfaces-dbgsym', 'ros-rolling-gz-msgs-vendor', 'ros-rolling-ros-gz-sim', 'ros-rolling-gz-utils-vendor', 'ros-rolling-test-ros-gz-bridge', 'ros-rolling-ros-gz-bridge-dbgsym', 'ros-rolling-gz-gui-vendor', 'ros-rolling-ros-gz-interfaces', 'ros-humble-ros-gz-image-dbgsym', 'ros-jazzy-gz-sim-vendor-dbgsym', 'ros-foxy-ros-ign-gazebo-dbgsym', 'ros-rolling-ros-gz', 'ros-rolling-gz-math-vendor', 'ros-noetic-ign-ros-control-dbgsym', 'ros-rolling-gz-launch-vendor', 'ros-jazzy-ros-gz', 'ros-rolling-gz-ogre-next-vendor', 'ros-humble-dolly-ignition', 'ros-humble-ign-ros2-control-demos-dbgsym', 'ros-rolling-ros-ign-interfaces-dbgsym', 'ros-rolling-gz-physics-vendor', 'ros-humble-ros-ign-gazebo-dbgsym', 'ros-jazzy-ros-gz-bridge', 'ros-rolling-ros-ign-gazebo-demos', 'ros-foxy-ign-ros2-control-dbgsym', 'ros-iron-ros-gz-image-dbgsym', 'ros-rolling-ros-gz-image', 'ros-rolling-leo-gz-bringup', 'ros-rolling-ros-ign-bridge', 'ros-jazzy-ros-gz-sim', 'ros-iron-ros-gz-sim-demos', 'ros-rolling-ros-gz-sim-demos', 'ros-humble-ign-ros2-control-demos', 'ros-galactic-turtlebot4-ignition-gui-plugins', 'ros-galactic-irobot-create-ignition-plugins', 'ros-galactic-ros-ign', 'ros-galactic-turtlebot4-ignition-bringup', 'ros-galactic-irobot-create-ignition-bringup', 'ros-humble-andino-gz', 'ros-indigo-designator-integration-cpp', 'ros-humble-irobot-create-ignition-bringup', 'ros-noetic-ros-ign-bridge-dbgsym', 'ros-galactic-ign-ros2-control-demos', 'ros-humble-clearpath-gz', 'ros-jazzy-gz-dartsim-vendor', 'ros-jazzy-ros-gz-interfaces', 'ros-iron-leo-gz-worlds', 'ros-jazzy-gz-dartsim-vendor-dbgsym', 'ros-foxy-ros-ign-interfaces-dbgsym', 'ros-jazzy-gz-gui-vendor', 'ros-rolling-gz-utils-vendor-dbgsym', 'ros-jazzy-gz-common-vendor', 'ros-humble-ign-ros2-control-dbgsym', 'ros-galactic-ign-rviz', 'ros-iron-gz-ros2-control', 'ros-indigo-designator-integration-lisp', 'ros-jazzy-leo-gz-plugins', 'ros-galactic-ign-ros2-control-dbgsym', 'ros-jazzy-test-ros-gz-bridge', 'ros-humble-ros-gz-sim-demos', 'ros-jazzy-gz-physics-vendor', 'ros-galactic-ros-ign-gazebo-demos', 'ros-jazzy-gz-plugin-vendor', 'ros-rolling-gz-plugin-vendor', 'ros-iron-leo-gz-plugins', 'ros-galactic-ros-ign-image-dbgsym', 'ros-humble-leo-gz-worlds', 'ros-galactic-ros-ign-gazebo', 'ros-galactic-ros-ign-bridge', 'ros-jazzy-gz-rendering-vendor', 'ros-iron-ros-ign-gazebo', 'ros-noetic-ros-ign', 'ros-galactic-ros-ign-interfaces', 'ros-galactic-irobot-create-ignition-toolbox-dbgsym', 'ros-iron-gz-ros2-control-demos-dbgsym', 'ros-humble-irobot-create-ignition-plugins-dbgsym', 'ros-iron-gz-ros2-control-dbgsym', 'ros-jazzy-gz-sensors-vendor-dbgsym', 'ros-rolling-gz-sensors-vendor-dbgsym', 'ros-jazzy-gz-utils-vendor-dbgsym', 'ros-rolling-gz-ros2-control-demos-dbgsym', 'ros-iron-ros-ign-image', 'ros-rolling-gz-sensors-vendor', 'ros-iron-ros-ign', 'ros-humble-ros-ign', 'ros-galactic-irobot-create-ignition-toolbox', 'ros-rolling-ign-rviz', 'ros-rolling-gz-plugin-vendor-dbgsym', 'ros-humble-leo-gz-plugins-dbgsym', 'ros-rolling-ros-ign-gazebo-dbgsym', 'ros-humble-ros-gz-bridge', 'ros-rolling-gz-common-vendor-dbgsym', 'ros-humble-ros-ign-bridge', 'ros-foxy-ros-ign-interfaces', 'ros-iron-ignition-cmake2-vendor', 'ros-galactic-ign-rviz-common-dbgsym', 'ros-noetic-ros-ign-bridge', 'ros-humble-ros-ign-image-dbgsym', 'ros-jazzy-gz-physics-vendor-dbgsym', 'ros-iron-ros-gz', 'ros-humble-irobot-create-ignition-sim', 'ros-galactic-ign-ros2-control-demos-dbgsym', 'ros-iron-ros-gz-sim', 'ros-humble-ros-ign-image', 'ros-jazzy-gz-math-vendor', 'ros-rolling-gz-dartsim-vendor', 'ros-rolling-gz-transport-vendor-dbgsym', 'ros-humble-irobot-create-ignition-plugins', 'ros-rolling-gz-fuel-tools-vendor-dbgsym', 'ros-rolling-gz-launch-vendor-dbgsym', 'ros-indigo-designator-integration-msgs', 'ros-jazzy-gz-sensors-vendor', 'ros-rolling-gz-ros2-control', 'ros-galactic-irobot-create-ignition-plugins-dbgsym', 'ros-iron-ros-ign-bridge-dbgsym', 'ros-rolling-ignition-cmake2-vendor', 'ros-noetic-ros-ign-image', 'ros-rolling-gz-sim-vendor', 'ros-foxy-crane-plus-ignition', 'ros-iron-ros-ign-bridge', 'ros-rolling-gz-rendering-vendor', 'ros-iron-test-ros-gz-bridge', 'ros-jazzy-ros-gz-sim-dbgsym', 'ros-rolling-leo-gz-worlds', 'ros-rolling-gz-physics-vendor-dbgsym', 'ros-jazzy-gz-gui-vendor-dbgsym', 'ros-rolling-ign-rviz-common', 'ros-noetic-ros-ign-image-dbgsym', 'ros-humble-turtlebot4-ignition-gui-plugins', 'ros-rolling-ros-ign-image-dbgsym', 'ros-noetic-ign-ros-control-demos', 'ros-indigo-designator-integration', 'ros-jazzy-gz-transport-vendor', 'ros-humble-ignition-math6-vendor', 'ros-rolling-ign-rviz-common-dbgsym', 'ros-rolling-ros-gz-interfaces-dbgsym', 'ros-iron-ros-ign-gazebo-demos', 'ros-rolling-leo-gz-plugins-dbgsym', 'ros-galactic-ign-rviz-plugins-dbgsym', 'ros-rolling-ros-ign', 'python3-gz-math6', 'ros-iron-ros-gz-sim-dbgsym', 'ros-jazzy-gz-msgs-vendor', 'ros-humble-ignition-cmake2-vendor', 'ros-iron-ros-ign-interfaces', 'ros-iron-gz-ros2-control-demos', 'ros-iron-ros-gz-image', 'ros-jazzy-gz-ros2-control-dbgsym', 'ros-jazzy-gz-msgs-vendor-dbgsym', 'ros-iron-leo-gz-plugins-dbgsym', 'ros-foxy-ros-ign-gazebo', 'ros-rolling-gz-fuel-tools-vendor', 'ros-foxy-ros-ign-gazebo-demos', 'ros-rolling-gz-sim-vendor-dbgsym', 'ros-humble-ign-ros2-control', 'ros-rolling-ign-rviz-plugins', 'ros-rolling-ros-ign-gazebo', 'ros-foxy-ign-ros2-control', 'ros-galactic-ign-rviz-plugins', 'ros-iron-ros-ign-interfaces-dbgsym', 'ros-humble-ros-ign-interfaces', 'ros-foxy-ros-ign-bridge-dbgsym', 'ros-galactic-turtlebot4-ignition-gui-plugins-dbgsym', 'ros-rolling-gz-tools-vendor', 'ros-humble-ros-gz-bridge-dbgsym', 'ros-jazzy-gz-tools-vendor-dbgsym', 'ros-jazzy-leo-gz-plugins-dbgsym', 'ros-rolling-leo-gz-plugins', 'ros-noetic-ros-ign-gazebo-dbgsym', 'ros-noetic-bota-signal-handler', 'ros-rolling-gz-cmake-vendor', 'ros-foxy-ros-ign-bridge', 'ros-humble-ros-ign-gazebo', 'ros-galactic-ign-ros2-control', 'ros-galactic-dolly-ignition', 'ros-humble-irobot-create-ignition-toolbox', 'ros-rolling-gz-ros2-control-dbgsym', 'ros-rolling-gz-gui-vendor-dbgsym', 'ros-humble-ros-gz-sim', 'ros-rolling-dolly-ignition', 'ros-humble-ros-gz-interfaces-dbgsym', 'ros-iron-ros-gz-bridge-dbgsym', 'ros-iron-ignition-math6-vendor', 'ros-rolling-gz-math-vendor-dbgsym', 'ros-humble-turtlebot4-ignition-toolbox', 'ros-galactic-turtlebot4-ignition-toolbox-dbgsym', 'ros-jazzy-gz-tools-vendor'}\n",
      "----------------\n",
      "Set of Gazebo Classic packages\n",
      "449\n",
      "{'ros-humble-irobot-create-gazebo-bringup', 'ros-kinetic-fetch-gazebo', 'ros-dashing-gazebo-dev', 'ros-humble-omni-base-gazebo', 'ros-dashing-gazebo-msgs-dbgsym', 'ros-kinetic-eca-a9-gazebo', 'ros-kinetic-gazebo-msgs', 'ros-melodic-mir-gazebo', 'ros-eloquent-gazebo-plugins-dbgsym', 'ros-melodic-cob-gazebo-objects', 'ros-humble-pmb2-gazebo', 'ros-kinetic-uuv-gazebo-plugins', 'ros-kinetic-gazebo-dev', 'ros-iron-gazebo-ros-pkgs', 'ros-melodic-desistek-saga-gazebo', 'ros-noetic-mir-gazebo', 'ros-kinetic-hector-sensors-gazebo', 'ros-melodic-hector-sensors-gazebo', 'ros-melodic-open-manipulator-with-tb3-gazebo', 'ros-noetic-dingo-gazebo', 'ros-melodic-rotors-gazebo', 'ros-melodic-hector-gazebo-plugins-dbgsym', 'ros-melodic-igvc-self-drive-gazebo-plugins-dbgsym', 'ros-noetic-gazebo-video-monitor-plugins-dbgsym', 'ros-melodic-igvc-self-drive-gazebo-plugins', 'ros-humble-as2-gazebo-assets-dbgsym', 'ros-foxy-turtlebot3-gazebo-dbgsym', 'ros-melodic-fetch-gazebo-demo', 'ros-melodic-audibot-gazebo-dbgsym', 'ros-kinetic-gazebo-ros', 'ros-iron-gazebo-video-monitors', 'ros-noetic-mia-hand-gazebo', 'ros-kinetic-igvc-self-drive-gazebo-plugins', 'ros-indigo-turtlebot-gazebo', 'ros-noetic-pr2-controller-configuration-gazebo', 'ros-humble-gazebo-ros-dbgsym', 'ros-melodic-blender-gazebo', 'ros-indigo-fetch-gazebo-demo', 'ros-humble-crane-plus-gazebo', 'ros-humble-gazebo-ros2-control-demos', 'ros-noetic-gazebo-video-monitor-plugins', 'ros-dashing-gazebo-ros-pkgs', 'ros-noetic-cob-gazebo-worlds', 'ros-noetic-hector-gazebo-plugins-dbgsym', 'ros-noetic-velodyne-gazebo-plugins', 'ros-rolling-gazebo-plugins', 'ros-humble-gazebo-planar-move-plugin-dbgsym', 'ros-melodic-ridgeback-gazebo', 'ros-melodic-gazebo-ros', 'ros-humble-gazebo-plugins', 'ros-kinetic-turtlebot3-gazebo', 'ros-iron-gazebo-ros2-control', 'ros-humble-gazebo-ros-pkgs', 'ros-melodic-uuv-gazebo-plugins-dbgsym', 'ros-melodic-hector-gazebo-worlds', 'ros-rolling-gazebo-msgs-dbgsym', 'ros-noetic-qb-move-gazebo', 'ros-melodic-rotors-gazebo-dbgsym', 'ros-foxy-gazebo-ros-dbgsym', 'ros-noetic-turtlebot3-gazebo-dbgsym', 'ros-crystal-gazebo-dev', 'ros-melodic-cob-gazebo-ros-control', 'ros-eloquent-gazebo-ros-dbgsym', 'ros-foxy-pal-gazebo-worlds', 'ros-kinetic-kobuki-gazebo', 'ros-eloquent-gazebo-dev', 'ros-foxy-pmb2-2dnav-gazebo', 'ros-noetic-leo-gazebo-plugins-dbgsym', 'ros-foxy-jackal-gazebo', 'ros-foxy-gazebo-msgs', 'ros-noetic-jackal-gazebo', 'ros-melodic-khi-duaro-gazebo', 'ros-foxy-pmb2-gazebo', 'ros-rolling-gazebo-msgs', 'ros-humble-as2-platform-gazebo', 'ros-kinetic-hector-gazebo-thermal-camera', 'ros-indigo-agvs-gazebo', 'ros-noetic-qb-device-gazebo', 'ros-iron-gazebo-ros', 'ros-dashing-gazebo-plugins-dbgsym', 'ros-indigo-pepper-gazebo-plugin', 'ros-melodic-prbt-gazebo', 'ros-jazzy-gazebo-msgs-dbgsym', 'ros-melodic-gazebo-ros-pkgs', 'ros-lunar-hector-gazebo-thermal-camera', 'ros-kinetic-open-manipulator-with-tb3-gazebo', 'ros-humble-gazebo-no-physics-plugin-dbgsym', 'ros-galactic-irobot-create-gazebo-plugins-dbgsym', 'ros-melodic-hector-gazebo-plugins', 'ros-melodic-moose-gazebo', 'ros-noetic-turtlebot3-gazebo', 'ros-indigo-hrpsys-gazebo-msgs', 'ros-humble-gazebo-model-attachment-plugin-dbgsym', 'ros-crystal-gazebo-msgs-dbgsym', 'ros-eloquent-gazebo-ros', 'ros-noetic-robotont-gazebo', 'ros-melodic-uuv-gazebo', 'ros-dashing-gazebo-msgs', 'ros-noetic-gazebo-plugins-dbgsym', 'ros-rolling-turtlebot3-gazebo-dbgsym', 'ros-melodic-eca-a9-gazebo', 'ros-kinetic-pr2-gazebo', 'ros-noetic-franka-gazebo-dbgsym', 'ros-melodic-open-manipulator-gazebo', 'ros-melodic-qb-device-gazebo-dbgsym', 'ros-dashing-gazebo-ros-dbgsym', 'ros-kinetic-uuv-gazebo', 'ros-galactic-velodyne-gazebo-plugins-dbgsym', 'ros-humble-turtlebot3-gazebo', 'ros-humble-gazebo-video-monitor-plugins-dbgsym', 'ros-melodic-roboticsgroup-upatras-gazebo-plugins', 'ros-indigo-baxter-gazebo', 'ros-melodic-cob-gazebo-ros-control-dbgsym', 'ros-indigo-cob-gazebo-worlds', 'ros-noetic-gazebo-ros-control', 'ros-rolling-gazebo-ros2-control-dbgsym', 'ros-crystal-gazebo-ros', 'ros-noetic-gazebo-plugins', 'ros-humble-gazebo-model-attachment-plugin-msgs-dbgsym', 'ros-iron-gazebo-video-monitor-plugins', 'ros-noetic-roboticsgroup-upatras-gazebo-plugins-dbgsym', 'ros-melodic-gazebo-video-monitors', 'ros-kinetic-velodyne-gazebo-plugins', 'ros-galactic-gazebo-ros2-control-demos', 'ros-rolling-velodyne-gazebo-plugins', 'ros-melodic-uuv-gazebo-plugins', 'ros-kinetic-gazebo-ros-pkgs', 'ros-iron-gazebo-dev', 'ros-kinetic-uuv-gazebo-ros-plugins', 'ros-humble-gazebo-video-monitor-utils', 'ros-galactic-gazebo-ros', 'ros-galactic-irobot-create-gazebo-sim', 'ros-humble-gazebo-ros', 'ros-indigo-cob-gazebo-plugins', 'ros-humble-as2-gazebo-classic-assets', 'ros-rolling-gazebo-ros2-control', 'ros-jazzy-gazebo-msgs', 'ros-kinetic-fetch-gazebo-demo', 'ros-melodic-roboticsgroup-upatras-gazebo-plugins-dbgsym', 'ros-humble-irobot-create-gazebo-sim', 'ros-rolling-gazebo-ros2-control-demos', 'ros-iron-gazebo-plugins-dbgsym', 'ros-indigo-concert-service-gazebo', 'ros-galactic-gazebo-msgs-dbgsym', 'ros-melodic-nextage-gazebo', 'ros-foxy-gazebo-ros', 'ros-noetic-gazebo-model-attachment-plugin', 'ros-melodic-gazebo-video-monitor-plugins-dbgsym', 'ros-noetic-leo-gazebo', 'ros-indigo-aras-visual-servo-gazebo', 'ros-iron-gazebo-ros2-control-dbgsym', 'ros-humble-dolly-gazebo', 'ros-rolling-gazebo-ros', 'ros-foxy-velodyne-gazebo-plugins', 'ros-melodic-uuv-gazebo-ros-plugins-msgs', 'ros-kinetic-ur-gazebo', 'ros-indigo-hector-gazebo-worlds', 'ros-melodic-lauv-gazebo', 'ros-indigo-hector-gazebo-thermal-camera', 'ros-kinetic-uuv-gazebo-worlds', 'ros-indigo-cob-gazebo-objects', 'ros-indigo-gazebo-world-plugin-loader', 'ros-crystal-gazebo-plugins', 'ros-lunar-gazebo-ros', 'ros-crystal-gazebo-msgs', 'ros-humble-as2-gazebo-assets', 'ros-foxy-gazebo-plugins-dbgsym', 'ros-indigo-gazebo-state-plugins', 'ros-noetic-mia-hand-gazebo-dbgsym', 'ros-humble-gazebo-video-monitor-plugins', 'ros-kinetic-pr2-controller-configuration-gazebo', 'ros-noetic-qb-hand-gazebo-dbgsym', 'ros-noetic-hector-gazebo-worlds', 'ros-indigo-gazebo-plugins', 'ros-jazzy-dolly-gazebo', 'ros-noetic-open-manipulator-gazebo-dbgsym', 'ros-melodic-gazebo-ros-control', 'ros-indigo-gazebo-grasp-plugin', 'ros-foxy-gazebo-msgs-dbgsym', 'ros-melodic-hector-gazebo-thermal-camera', 'ros-rolling-gazebo-ros2-control-demos-dbgsym', 'ros-noetic-gazebo-msgs', 'ros-melodic-qb-device-gazebo', 'ros-humble-gazebo-msgs-dbgsym', 'ros-noetic-qb-hand-gazebo', 'ros-galactic-velodyne-gazebo-plugins', 'ros-kinetic-hector-gazebo', 'ros-humble-gazebo-model-attachment-plugin-msgs', 'ros-foxy-gazebo-plugins', 'ros-melodic-turtlebot3-gazebo', 'ros-noetic-gazebo-ros-dbgsym', 'ros-lunar-pr2-gazebo-plugins', 'ros-lunar-gazebo-ros-control', 'ros-melodic-wave-gazebo-plugins-dbgsym', 'ros-dashing-gazebo-plugins', 'ros-indigo-pr2-gazebo-plugins', 'ros-indigo-gazebo-ros-control', 'ros-humble-pal-gazebo-plugins-dbgsym', 'ros-noetic-roboticsgroup-upatras-gazebo-plugins', 'ros-rolling-turtlebot3-gazebo', 'ros-noetic-husky-gazebo', 'ros-noetic-hector-gazebo-thermal-camera', 'ros-melodic-mrp2-gazebo', 'ros-foxy-crane-plus-gazebo', 'ros-noetic-open-manipulator-gazebo', 'ros-melodic-heron-gazebo', 'ros-humble-gazebo-msgs', 'ros-indigo-ur-gazebo', 'ros-lunar-hector-gazebo-plugins', 'ros-melodic-gazebo-video-monitor-plugins', 'ros-kinetic-open-manipulator-p-gazebo', 'ros-lunar-hector-sensors-gazebo', 'ros-kinetic-roboticsgroup-upatras-gazebo-plugins', 'ros-kinetic-open-manipulator-gazebo', 'ros-iron-gazebo-ros-dbgsym', 'ros-foxy-husky-gazebo', 'ros-indigo-husky-gazebo', 'ros-humble-tiago-gazebo-dbgsym', 'ros-indigo-cob-gazebo-ros-control', 'ros-indigo-gazebo-ros', 'ros-crystal-gazebo-plugins-dbgsym', 'ros-melodic-cob-gazebo-worlds', 'ros-noetic-diffbot-gazebo', 'ros-lunar-gazebo-plugins', 'ros-noetic-gazebo-ros-control-dbgsym', 'ros-kinetic-kobuki-gazebo-plugins', 'ros-foxy-turtlebot3-gazebo', 'ros-melodic-pr2-gazebo', 'ros-melodic-robotont-gazebo', 'ros-kinetic-gazebo-plugins', 'ros-noetic-khi-duaro-gazebo', 'ros-galactic-gazebo-plugins-dbgsym', 'ros-humble-gazebo-set-joint-positions-plugin', 'ros-melodic-usv-gazebo-plugins', 'ros-indigo-cob-gazebo', 'ros-melodic-leo-gazebo-dbgsym', 'ros-indigo-gazebo-msgs', 'ros-melodic-rexrov2-gazebo', 'ros-indigo-velodyne-gazebo-plugins', 'ros-noetic-ridgeback-gazebo-plugins-dbgsym', 'ros-iron-gazebo-video-monitor-utils', 'ros-noetic-gazebo-dev', 'ros-melodic-cob-gazebo-tools', 'ros-galactic-irobot-create-gazebo-bringup', 'ros-indigo-gazebo-ros-pkgs', 'ros-kinetic-ainstein-radar-gazebo-plugins', 'ros-noetic-open-manipulator-p-gazebo', 'ros-noetic-hector-gazebo', 'ros-iron-gazebo-plugins', 'ros-indigo-hector-quadrotor-gazebo', 'ros-kinetic-husky-gazebo', 'ros-kinetic-hector-gazebo-worlds', 'ros-noetic-cob-gazebo-tools', 'ros-melodic-usv-gazebo-plugins-dbgsym', 'ros-noetic-gazebo-ros-control-select-joints', 'ros-foxy-velodyne-gazebo-plugins-dbgsym', 'ros-melodic-open-manipulator-gazebo-dbgsym', 'ros-humble-gazebo-ros2-control-demos-dbgsym', 'ros-melodic-velodyne-gazebo-plugins-dbgsym', 'ros-kinetic-hector-gazebo-plugins', 'ros-kinetic-manipulator-h-gazebo', 'ros-melodic-omnibase-gazebo', 'ros-noetic-warthog-gazebo', 'ros-dashing-gazebo-ros', 'ros-noetic-gazebo-model-attachment-plugin-dbgsym', 'ros-melodic-wamv-gazebo', 'ros-melodic-uuv-gazebo-worlds', 'ros-indigo-gazebo-mimic', 'ros-kinetic-khi-duaro-gazebo', 'ros-iron-gazebo-ros2-control-demos-dbgsym', 'ros-melodic-fetch-gazebo', 'ros-humble-gazebo-no-physics-plugin', 'ros-noetic-ridgeback-gazebo', 'ros-noetic-ridgeback-gazebo-plugins', 'ros-iron-velodyne-gazebo-plugins-dbgsym', 'ros-galactic-gazebo-ros-dbgsym', 'ros-galactic-irobot-create-gazebo-plugins', 'ros-humble-gazebo-model-attachment-plugin', 'ros-foxy-gazebo-dev', 'ros-melodic-hector-gazebo', 'ros-melodic-gazebo-ros-control-dbgsym', 'ros-rolling-dolly-gazebo', 'ros-melodic-velodyne-gazebo-plugins', 'ros-melodic-husky-gazebo', 'ros-noetic-khi-rs-gazebo', 'ros-noetic-audibot-gazebo-dbgsym', 'ros-iron-gazebo-msgs-dbgsym', 'ros-eloquent-gazebo-ros-pkgs', 'ros-iron-turtlebot3-gazebo', 'ros-melodic-vrx-gazebo-dbgsym', 'ros-melodic-denso-robot-gazebo', 'ros-humble-gazebo-set-joint-positions-plugin-dbgsym', 'ros-galactic-turtlebot3-gazebo-dbgsym', 'ros-indigo-pr2-gazebo', 'ros-melodic-hector-gazebo-thermal-camera-dbgsym', 'ros-galactic-turtlebot3-gazebo', 'ros-humble-raspimouse-gazebo', 'ros-humble-velodyne-gazebo-plugins-dbgsym', 'ros-noetic-gazebo-ros-control-select-joints-dbgsym', 'ros-noetic-gazebo-custom-sensor-preloader-dbgsym', 'ros-melodic-warthog-gazebo', 'ros-melodic-wave-gazebo-plugins', 'ros-indigo-denso-robot-gazebo', 'ros-iron-gazebo-video-monitor-interfaces-dbgsym', 'ros-lunar-hector-gazebo-plugins-dbgsym', 'ros-humble-gazebo-dev', 'ros-noetic-pr2-gazebo-plugins-dbgsym', 'ros-indigo-gazebo-concert', 'ros-iron-gazebo-ros2-control-demos', 'ros-melodic-uuv-gazebo-ros-plugins', 'ros-galactic-gazebo-plugins', 'ros-melodic-gazebo-video-monitor-msgs', 'ros-indigo-kobuki-gazebo', 'ros-kinetic-gazebo-ros-control', 'ros-kinetic-pepper-gazebo-plugin', 'ros-melodic-wave-gazebo', 'ros-melodic-ainstein-radar-gazebo-plugins', 'ros-noetic-franka-gazebo', 'ros-melodic-open-manipulator-p-gazebo', 'ros-melodic-gazebo-ros-dbgsym', 'ros-melodic-jackal-gazebo', 'ros-humble-turtlebot3-gazebo-dbgsym', 'ros-noetic-qb-move-gazebo-dbgsym', 'ros-noetic-hector-sensors-gazebo', 'ros-foxy-gazebo-ros2-control-demos-dbgsym', 'ros-melodic-pr2-gazebo-plugins-dbgsym', 'ros-eloquent-gazebo-msgs-dbgsym', 'ros-lunar-gazebo-msgs', 'ros-eloquent-gazebo-plugins', 'ros-galactic-gazebo-ros-pkgs', 'ros-melodic-audibot-gazebo', 'ros-noetic-mecanum-gazebo-plugin', 'ros-foxy-nav2-gazebo-spawner', 'ros-noetic-cob-gazebo-plugins', 'ros-indigo-gazebo-test-tools', 'ros-iron-gazebo-video-monitor-interfaces', 'ros-melodic-vrx-gazebo', 'ros-melodic-ur-gazebo', 'ros-humble-gazebo-ros2-control-dbgsym', 'ros-galactic-gazebo-ros2-control-demos-dbgsym', 'ros-melodic-rotors-gazebo-plugins-dbgsym', 'ros-lunar-gazebo-ros-pkgs', 'ros-noetic-gazebo-video-monitor-msgs', 'ros-melodic-fetch-gazebo-dbgsym', 'ros-humble-irobot-create-gazebo-plugins-dbgsym', 'ros-galactic-gazebo-ros2-control', 'ros-melodic-open-manipulator-p-gazebo-dbgsym', 'ros-noetic-cob-gazebo', 'ros-noetic-leo-gazebo-worlds', 'ros-noetic-prbt-gazebo', 'ros-kinetic-ur-e-gazebo', 'ros-melodic-ridgeback-gazebo-plugins', 'ros-noetic-cob-gazebo-plugins-dbgsym', 'ros-humble-gazebo-plugins-dbgsym', 'ros-galactic-gazebo-ros2-control-dbgsym', 'ros-indigo-fetch-gazebo', 'ros-foxy-gazebo-ros2-control-dbgsym', 'ros-humble-tiago-gazebo', 'ros-melodic-ridgeback-gazebo-plugins-dbgsym', 'ros-melodic-pr2-gazebo-plugins', 'ros-noetic-audibot-gazebo', 'ros-noetic-pr2-gazebo', 'ros-humble-gazebo-video-monitors', 'ros-humble-velodyne-gazebo-plugins', 'ros-humble-gazebo-video-monitor-interfaces-dbgsym', 'ros-melodic-gazebo-plugins', 'ros-indigo-kobuki-gazebo-plugins', 'ros-humble-gazebo-video-monitor-interfaces', 'ros-melodic-tuw-gazebo-msgs', 'ros-eloquent-gazebo-msgs', 'ros-indigo-create-gazebo-plugins', 'ros-crystal-gazebo-ros-pkgs', 'ros-melodic-igvc-self-drive-gazebo', 'ros-rolling-gazebo-ros-dbgsym', 'ros-crystal-gazebo-ros-dbgsym', 'ros-rolling-velodyne-gazebo-plugins-dbgsym', 'ros-noetic-pr2-gazebo-plugins', 'ros-humble-irobot-create-gazebo-plugins', 'ros-melodic-rotors-gazebo-plugins', 'ros-foxy-gazebo-ros2-control-demos', 'ros-melodic-mecanum-gazebo-plugin', 'ros-foxy-dolly-gazebo', 'ros-noetic-cob-gazebo-objects', 'ros-foxy-gazebo-ros2-control', 'ros-indigo-hrpsys-gazebo-general', 'ros-galactic-gazebo-msgs', 'ros-noetic-velodyne-gazebo-plugins-dbgsym', 'ros-humble-as2-platform-gazebo-dbgsym', 'ros-rolling-gazebo-dev', 'ros-humble-pal-gazebo-worlds', 'ros-noetic-warthog-gazebo-dbgsym', 'ros-noetic-gazebo-ros', 'ros-noetic-open-manipulator-p-gazebo-dbgsym', 'ros-lunar-gazebo-dev', 'ros-indigo-pr2-controller-configuration-gazebo', 'ros-dashing-turtlebot3-gazebo-dbgsym', 'ros-galactic-dolly-gazebo', 'ros-iron-dolly-gazebo', 'ros-melodic-warthog-gazebo-dbgsym', 'ros-galactic-gazebo-dev', 'ros-noetic-leo-gazebo-plugins', 'ros-iron-velodyne-gazebo-plugins', 'ros-kinetic-uuv-gazebo-ros-plugins-msgs', 'ros-melodic-gazebo-msgs', 'ros-dashing-turtlebot3-gazebo', 'ros-rolling-gazebo-ros-pkgs', 'ros-melodic-turtlebot3-gazebo-dbgsym', 'ros-humble-pal-gazebo-plugins', 'ros-noetic-ur-gazebo', 'ros-iron-turtlebot3-gazebo-dbgsym', 'ros-kinetic-turtlebot-gazebo', 'ros-melodic-pr2-controller-configuration-gazebo', 'ros-kinetic-katana-arm-gazebo', 'ros-noetic-cob-gazebo-ros-control', 'ros-noetic-qb-device-gazebo-dbgsym', 'ros-noetic-rm-gazebo', 'ros-eloquent-nav2-gazebo-spawner', 'ros-melodic-gazebo-plugins-dbgsym', 'ros-melodic-cob-gazebo-plugins', 'ros-noetic-rm-gazebo-dbgsym', 'ros-melodic-uos-gazebo-worlds', 'ros-melodic-leo-gazebo', 'ros-melodic-robosense-gazebo-plugins-dbgsym', 'ros-melodic-gazebo-dev', 'ros-noetic-hector-gazebo-plugins', 'ros-rolling-gazebo-plugins-dbgsym', 'ros-humble-gazebo-planar-move-plugin', 'ros-noetic-gazebo-custom-sensor-preloader', 'ros-iron-gazebo-msgs', 'ros-melodic-franka-gazebo', 'ros-noetic-gazebo-video-monitors', 'ros-indigo-nextage-gazebo', 'ros-kinetic-pr2-gazebo-plugins', 'ros-iron-gazebo-video-monitor-plugins-dbgsym', 'ros-melodic-gundam-rx78-gazebo', 'ros-melodic-khi-rs-gazebo', 'ros-melodic-uuv-gazebo-ros-plugins-dbgsym', 'ros-noetic-hector-gazebo-thermal-camera-dbgsym', 'ros-indigo-hector-gazebo', 'ros-humble-gazebo-ros2-control', 'ros-foxy-gazebo-ros-pkgs', 'ros-indigo-youbot-gazebo-control', 'ros-noetic-cob-gazebo-ros-control-dbgsym', 'ros-indigo-hector-gazebo-plugins', 'ros-noetic-gazebo-video-monitor-utils', 'ros-melodic-robosense-gazebo-plugins', 'ros-indigo-mrp2-hardware-gazebo', 'ros-noetic-gazebo-ros-pkgs', 'ros-galactic-nav2-gazebo-spawner'}\n",
      "----------------\n",
      "Sanity Check -- should be empty\n",
      "set()\n"
     ]
    }
   ],
   "source": [
    "# Now let's clean up these sets\n",
    "set_ign_gazebo = set_gazebo.intersection(set_ign)\n",
    "# Remove ign_gazebo from gazebo to give us just gazebo classic\n",
    "set_gazebo_classic = set_gazebo-set_ign_gazebo\n",
    "\n",
    "set_new_gazebo = set_ign_gazebo.union(set_ign,set_gz,set_ignition)\n",
    "print(\"Set of new Gazebo packages, formerly Ignition\")\n",
    "print(len(set_new_gazebo))\n",
    "print(set_new_gazebo)\n",
    "print(\"----------------\")\n",
    "print(\"Set of Gazebo Classic packages\")\n",
    "print(len(set_gazebo_classic))\n",
    "print(set_gazebo_classic)\n",
    "print(\"----------------\")\n",
    "print(\"Sanity Check -- should be empty\")\n",
    "print(set_gazebo_classic.intersection(set_new_gazebo))"
   ]
  },
  {
   "cell_type": "code",
   "execution_count": 24,
   "metadata": {},
   "outputs": [],
   "source": [
    "# Make dataframes of classic and new gazebo packages\n",
    "classic_df = package_df[package_df['name'].isin(set_gazebo_classic)]\n",
    "gazebo_df = package_df[package_df['name'].isin(set_new_gazebo)]"
   ]
  },
  {
   "cell_type": "code",
   "execution_count": 25,
   "metadata": {},
   "outputs": [
    {
     "name": "stdout",
     "output_type": "stream",
     "text": [
      "Gazebo Classic Package Downloads August 2023: 514113\n",
      "Gazebo Classic Package Downloads August 2024: 390511\n",
      "Percent Change Between August 2023 and August 2024: -24.04%\n",
      "---------------------------------------------------\n",
      "Ign Gazebo Package Downloads August 2023: 178970\n",
      "Ign Gazebo Package Downloads August 2024: 380509\n",
      "Percent Change Between August 2023 and August 2024: 112.61%\n",
      "---------------------------------------------------\n",
      "In August 2023 Gazebo Classic was 74.18% of all Gazebo Downloads\n",
      "In August 2023 New Gazebo     was 25.82% of all Gazebo Downloads\n",
      "---------------------------------------------------\n",
      "In August 2024 Gazebo Classic was 50.65% of all Gazebo Downloads\n",
      "In August 2024 New Gazebo     was 49.35% of all Gazebo Downloads\n",
      "---------------------------------------------------\n",
      "TOTAL Gazebo Downloads in August 2023: 693083\n",
      "TOTAL Gazebo Downloads in August 2024: 771020\n",
      "Change in TOTAL Gazebo Downloads Between August 2023 and August 2024: 11.24%\n",
      "---------------------------------------------------\n",
      "*ESTIMATED* Annual Gazebo Downloads: 9252240\n"
     ]
    }
   ],
   "source": [
    "classic_last = classic_df[last_year].sum()\n",
    "classic_this = classic_df[this_year].sum()\n",
    "gazebo_last = gazebo_df[last_year].sum()\n",
    "gazebo_this = gazebo_df[this_year].sum()\n",
    "print(\"Gazebo Classic Package Downloads {0} {1}: {2}\".format(last_month, last_year, int(classic_last)))\n",
    "print(\"Gazebo Classic Package Downloads {0} {1}: {2}\".format(this_month, this_year, int(classic_this)))\n",
    "classic_change = (classic_this - classic_last) / classic_last\n",
    "print(\"Percent Change Between {0} {1} and {2} {3}: {4:.2f}%\".format(last_month, last_year, this_month, this_year, 100.0*classic_change))\n",
    "print(\"---------------------------------------------------\")\n",
    "print(\"Ign Gazebo Package Downloads {0} {1}: {2}\".format(last_month, last_year, int(gazebo_last)))\n",
    "print(\"Ign Gazebo Package Downloads {0} {1}: {2}\".format(this_month, this_year, int(gazebo_this)))\n",
    "gazebo_change = (gazebo_this - gazebo_last) / gazebo_last\n",
    "print(\"Percent Change Between {0} {1} and {2} {3}: {4:.2f}%\".format(last_month, last_year, this_month, this_year, 100.0*gazebo_change))\n",
    "print(\"---------------------------------------------------\")\n",
    "sum_last = gazebo_last + classic_last\n",
    "gazebo_share_last = gazebo_last / sum_last\n",
    "classic_share_last = classic_last / sum_last\n",
    "print(\"In {0} {1} Gazebo Classic was {2:.2f}% of all Gazebo Downloads\".format(last_month,last_year,classic_share_last*100.0))\n",
    "print(\"In {0} {1} New Gazebo     was {2:.2f}% of all Gazebo Downloads\".format(last_month,last_year,gazebo_share_last*100.0))\n",
    "print(\"---------------------------------------------------\")\n",
    "sum_this = gazebo_this + classic_this\n",
    "gazebo_share_this = gazebo_this / sum_this\n",
    "classic_share_this = classic_this / sum_this\n",
    "print(\"In {0} {1} Gazebo Classic was {2:.2f}% of all Gazebo Downloads\".format(this_month,this_year,classic_share_this*100.0))\n",
    "print(\"In {0} {1} New Gazebo     was {2:.2f}% of all Gazebo Downloads\".format(this_month,this_year,gazebo_share_this*100.0))\n",
    "print(\"---------------------------------------------------\")\n",
    "total_gz_last = classic_last + gazebo_last \n",
    "total_gz_this = classic_this + gazebo_this\n",
    "total_gz_change = (total_gz_this - total_gz_last) / total_gz_last\n",
    "print(\"TOTAL Gazebo Downloads in {0} {1}: {2}\".format(last_month,last_year,int(total_gz_last)))\n",
    "print(\"TOTAL Gazebo Downloads in {0} {1}: {2}\".format(this_month,this_year,total_gz_this))\n",
    "print(\"Change in TOTAL Gazebo Downloads Between {0} {1} and {2} {3}: {4:.2f}%\".format(last_month,last_year,this_month,this_year,total_gz_change*100.0))\n",
    "print(\"---------------------------------------------------\")\n",
    "print(\"*ESTIMATED* Annual Gazebo Downloads: {0}\".format(12*total_gz_this))\n"
   ]
  },
  {
   "cell_type": "code",
   "execution_count": 26,
   "metadata": {
    "scrolled": true
   },
   "outputs": [
    {
     "data": {
      "text/html": [
       "<div>\n",
       "<style scoped>\n",
       "    .dataframe tbody tr th:only-of-type {\n",
       "        vertical-align: middle;\n",
       "    }\n",
       "\n",
       "    .dataframe tbody tr th {\n",
       "        vertical-align: top;\n",
       "    }\n",
       "\n",
       "    .dataframe thead th {\n",
       "        text-align: right;\n",
       "    }\n",
       "</style>\n",
       "<table border=\"1\" class=\"dataframe\">\n",
       "  <thead>\n",
       "    <tr style=\"text-align: right;\">\n",
       "      <th></th>\n",
       "      <th>name</th>\n",
       "      <th>package</th>\n",
       "      <th>distro</th>\n",
       "      <th>2024</th>\n",
       "      <th>2023</th>\n",
       "      <th>YoY</th>\n",
       "      <th>YoY_Prct</th>\n",
       "    </tr>\n",
       "  </thead>\n",
       "  <tbody>\n",
       "    <tr>\n",
       "      <th>0</th>\n",
       "      <td>python3-rosdep-modules</td>\n",
       "      <td>modules</td>\n",
       "      <td>rosdep</td>\n",
       "      <td>163403</td>\n",
       "      <td>104782.0</td>\n",
       "      <td>58621.0</td>\n",
       "      <td>35.875106</td>\n",
       "    </tr>\n",
       "    <tr>\n",
       "      <th>1</th>\n",
       "      <td>python3-rosdep</td>\n",
       "      <td></td>\n",
       "      <td>rosdep</td>\n",
       "      <td>152122</td>\n",
       "      <td>92990.0</td>\n",
       "      <td>59132.0</td>\n",
       "      <td>38.871432</td>\n",
       "    </tr>\n",
       "    <tr>\n",
       "      <th>2</th>\n",
       "      <td>python3-rospkg-modules</td>\n",
       "      <td>modules</td>\n",
       "      <td>rospkg</td>\n",
       "      <td>116634</td>\n",
       "      <td>125781.0</td>\n",
       "      <td>-9147.0</td>\n",
       "      <td>-7.842482</td>\n",
       "    </tr>\n",
       "    <tr>\n",
       "      <th>3</th>\n",
       "      <td>python3-catkin-pkg-modules</td>\n",
       "      <td>pkg-modules</td>\n",
       "      <td>catkin</td>\n",
       "      <td>116538</td>\n",
       "      <td>123623.0</td>\n",
       "      <td>-7085.0</td>\n",
       "      <td>-6.079562</td>\n",
       "    </tr>\n",
       "    <tr>\n",
       "      <th>4</th>\n",
       "      <td>python3-rosdistro-modules</td>\n",
       "      <td>modules</td>\n",
       "      <td>rosdistro</td>\n",
       "      <td>116206</td>\n",
       "      <td>106449.0</td>\n",
       "      <td>9757.0</td>\n",
       "      <td>8.396296</td>\n",
       "    </tr>\n",
       "    <tr>\n",
       "      <th>5</th>\n",
       "      <td>python3-colcon-ros</td>\n",
       "      <td>ros</td>\n",
       "      <td>colcon</td>\n",
       "      <td>87402</td>\n",
       "      <td>50235.0</td>\n",
       "      <td>37167.0</td>\n",
       "      <td>42.524199</td>\n",
       "    </tr>\n",
       "    <tr>\n",
       "      <th>6</th>\n",
       "      <td>python3-colcon-core</td>\n",
       "      <td>core</td>\n",
       "      <td>colcon</td>\n",
       "      <td>86902</td>\n",
       "      <td>54221.0</td>\n",
       "      <td>32681.0</td>\n",
       "      <td>37.606729</td>\n",
       "    </tr>\n",
       "    <tr>\n",
       "      <th>7</th>\n",
       "      <td>python3-catkin-pkg</td>\n",
       "      <td>pkg</td>\n",
       "      <td>catkin</td>\n",
       "      <td>84571</td>\n",
       "      <td>76772.0</td>\n",
       "      <td>7799.0</td>\n",
       "      <td>9.221837</td>\n",
       "    </tr>\n",
       "    <tr>\n",
       "      <th>8</th>\n",
       "      <td>python3-colcon-notification</td>\n",
       "      <td>notification</td>\n",
       "      <td>colcon</td>\n",
       "      <td>79712</td>\n",
       "      <td>51487.0</td>\n",
       "      <td>28225.0</td>\n",
       "      <td>35.408721</td>\n",
       "    </tr>\n",
       "    <tr>\n",
       "      <th>9</th>\n",
       "      <td>python3-colcon-devtools</td>\n",
       "      <td>devtools</td>\n",
       "      <td>colcon</td>\n",
       "      <td>79500</td>\n",
       "      <td>49480.0</td>\n",
       "      <td>30020.0</td>\n",
       "      <td>37.761006</td>\n",
       "    </tr>\n",
       "    <tr>\n",
       "      <th>10</th>\n",
       "      <td>python3-colcon-cd</td>\n",
       "      <td>cd</td>\n",
       "      <td>colcon</td>\n",
       "      <td>79466</td>\n",
       "      <td>49143.0</td>\n",
       "      <td>30323.0</td>\n",
       "      <td>38.158458</td>\n",
       "    </tr>\n",
       "    <tr>\n",
       "      <th>11</th>\n",
       "      <td>python3-colcon-package-information</td>\n",
       "      <td>package-information</td>\n",
       "      <td>colcon</td>\n",
       "      <td>79342</td>\n",
       "      <td>49248.0</td>\n",
       "      <td>30094.0</td>\n",
       "      <td>37.929470</td>\n",
       "    </tr>\n",
       "    <tr>\n",
       "      <th>12</th>\n",
       "      <td>python3-colcon-cmake</td>\n",
       "      <td>cmake</td>\n",
       "      <td>colcon</td>\n",
       "      <td>76987</td>\n",
       "      <td>50729.0</td>\n",
       "      <td>26258.0</td>\n",
       "      <td>34.107057</td>\n",
       "    </tr>\n",
       "    <tr>\n",
       "      <th>13</th>\n",
       "      <td>python3-colcon-recursive-crawl</td>\n",
       "      <td>recursive-crawl</td>\n",
       "      <td>colcon</td>\n",
       "      <td>76951</td>\n",
       "      <td>49583.0</td>\n",
       "      <td>27368.0</td>\n",
       "      <td>35.565490</td>\n",
       "    </tr>\n",
       "    <tr>\n",
       "      <th>14</th>\n",
       "      <td>python3-colcon-bash</td>\n",
       "      <td>bash</td>\n",
       "      <td>colcon</td>\n",
       "      <td>76534</td>\n",
       "      <td>49214.0</td>\n",
       "      <td>27320.0</td>\n",
       "      <td>35.696553</td>\n",
       "    </tr>\n",
       "    <tr>\n",
       "      <th>15</th>\n",
       "      <td>python3-colcon-zsh</td>\n",
       "      <td>zsh</td>\n",
       "      <td>colcon</td>\n",
       "      <td>76491</td>\n",
       "      <td>49143.0</td>\n",
       "      <td>27348.0</td>\n",
       "      <td>35.753226</td>\n",
       "    </tr>\n",
       "    <tr>\n",
       "      <th>16</th>\n",
       "      <td>python3-colcon-parallel-executor</td>\n",
       "      <td>parallel-executor</td>\n",
       "      <td>colcon</td>\n",
       "      <td>76411</td>\n",
       "      <td>49136.0</td>\n",
       "      <td>27275.0</td>\n",
       "      <td>35.695122</td>\n",
       "    </tr>\n",
       "    <tr>\n",
       "      <th>17</th>\n",
       "      <td>python3-colcon-powershell</td>\n",
       "      <td>powershell</td>\n",
       "      <td>colcon</td>\n",
       "      <td>76277</td>\n",
       "      <td>49502.0</td>\n",
       "      <td>26775.0</td>\n",
       "      <td>35.102324</td>\n",
       "    </tr>\n",
       "    <tr>\n",
       "      <th>18</th>\n",
       "      <td>ros-humble-image-transport</td>\n",
       "      <td>image-transport</td>\n",
       "      <td>humble</td>\n",
       "      <td>75977</td>\n",
       "      <td>50253.0</td>\n",
       "      <td>25724.0</td>\n",
       "      <td>33.857615</td>\n",
       "    </tr>\n",
       "    <tr>\n",
       "      <th>19</th>\n",
       "      <td>python3-colcon-python-setup-py</td>\n",
       "      <td>python-setup-py</td>\n",
       "      <td>colcon</td>\n",
       "      <td>75084</td>\n",
       "      <td>52283.0</td>\n",
       "      <td>22801.0</td>\n",
       "      <td>30.367322</td>\n",
       "    </tr>\n",
       "  </tbody>\n",
       "</table>\n",
       "</div>"
      ],
      "text/plain": [
       "                                  name              package     distro  \\\n",
       "0               python3-rosdep-modules              modules     rosdep   \n",
       "1                       python3-rosdep                          rosdep   \n",
       "2               python3-rospkg-modules              modules     rospkg   \n",
       "3           python3-catkin-pkg-modules          pkg-modules     catkin   \n",
       "4            python3-rosdistro-modules              modules  rosdistro   \n",
       "5                   python3-colcon-ros                  ros     colcon   \n",
       "6                  python3-colcon-core                 core     colcon   \n",
       "7                   python3-catkin-pkg                  pkg     catkin   \n",
       "8          python3-colcon-notification         notification     colcon   \n",
       "9              python3-colcon-devtools             devtools     colcon   \n",
       "10                   python3-colcon-cd                   cd     colcon   \n",
       "11  python3-colcon-package-information  package-information     colcon   \n",
       "12                python3-colcon-cmake                cmake     colcon   \n",
       "13      python3-colcon-recursive-crawl      recursive-crawl     colcon   \n",
       "14                 python3-colcon-bash                 bash     colcon   \n",
       "15                  python3-colcon-zsh                  zsh     colcon   \n",
       "16    python3-colcon-parallel-executor    parallel-executor     colcon   \n",
       "17           python3-colcon-powershell           powershell     colcon   \n",
       "18          ros-humble-image-transport      image-transport     humble   \n",
       "19      python3-colcon-python-setup-py      python-setup-py     colcon   \n",
       "\n",
       "      2024      2023      YoY   YoY_Prct  \n",
       "0   163403  104782.0  58621.0  35.875106  \n",
       "1   152122   92990.0  59132.0  38.871432  \n",
       "2   116634  125781.0  -9147.0  -7.842482  \n",
       "3   116538  123623.0  -7085.0  -6.079562  \n",
       "4   116206  106449.0   9757.0   8.396296  \n",
       "5    87402   50235.0  37167.0  42.524199  \n",
       "6    86902   54221.0  32681.0  37.606729  \n",
       "7    84571   76772.0   7799.0   9.221837  \n",
       "8    79712   51487.0  28225.0  35.408721  \n",
       "9    79500   49480.0  30020.0  37.761006  \n",
       "10   79466   49143.0  30323.0  38.158458  \n",
       "11   79342   49248.0  30094.0  37.929470  \n",
       "12   76987   50729.0  26258.0  34.107057  \n",
       "13   76951   49583.0  27368.0  35.565490  \n",
       "14   76534   49214.0  27320.0  35.696553  \n",
       "15   76491   49143.0  27348.0  35.753226  \n",
       "16   76411   49136.0  27275.0  35.695122  \n",
       "17   76277   49502.0  26775.0  35.102324  \n",
       "18   75977   50253.0  25724.0  33.857615  \n",
       "19   75084   52283.0  22801.0  30.367322  "
      ]
     },
     "execution_count": 26,
     "metadata": {},
     "output_type": "execute_result"
    }
   ],
   "source": [
    "package_df[0:20]"
   ]
  },
  {
   "cell_type": "code",
   "execution_count": 27,
   "metadata": {},
   "outputs": [
    {
     "data": {
      "text/html": [
       "<div>\n",
       "<style scoped>\n",
       "    .dataframe tbody tr th:only-of-type {\n",
       "        vertical-align: middle;\n",
       "    }\n",
       "\n",
       "    .dataframe tbody tr th {\n",
       "        vertical-align: top;\n",
       "    }\n",
       "\n",
       "    .dataframe thead th {\n",
       "        text-align: right;\n",
       "    }\n",
       "</style>\n",
       "<table border=\"1\" class=\"dataframe\">\n",
       "  <thead>\n",
       "    <tr style=\"text-align: right;\">\n",
       "      <th></th>\n",
       "      <th>name</th>\n",
       "      <th>package</th>\n",
       "      <th>distro</th>\n",
       "      <th>2024</th>\n",
       "      <th>2023</th>\n",
       "      <th>YoY</th>\n",
       "      <th>YoY_Prct</th>\n",
       "    </tr>\n",
       "  </thead>\n",
       "  <tbody>\n",
       "  </tbody>\n",
       "</table>\n",
       "</div>"
      ],
      "text/plain": [
       "Empty DataFrame\n",
       "Columns: [name, package, distro, 2024, 2023, YoY, YoY_Prct]\n",
       "Index: []"
      ]
     },
     "execution_count": 27,
     "metadata": {},
     "output_type": "execute_result"
    }
   ],
   "source": [
    "package_df[package_df['name'].str.contains(\"RPM\")]"
   ]
  },
  {
   "cell_type": "code",
   "execution_count": 28,
   "metadata": {},
   "outputs": [
    {
     "data": {
      "text/html": [
       "<div>\n",
       "<style scoped>\n",
       "    .dataframe tbody tr th:only-of-type {\n",
       "        vertical-align: middle;\n",
       "    }\n",
       "\n",
       "    .dataframe tbody tr th {\n",
       "        vertical-align: top;\n",
       "    }\n",
       "\n",
       "    .dataframe thead th {\n",
       "        text-align: right;\n",
       "    }\n",
       "</style>\n",
       "<table border=\"1\" class=\"dataframe\">\n",
       "  <thead>\n",
       "    <tr style=\"text-align: right;\">\n",
       "      <th></th>\n",
       "      <th>name</th>\n",
       "      <th>package</th>\n",
       "      <th>distro</th>\n",
       "      <th>2024</th>\n",
       "      <th>2023</th>\n",
       "      <th>YoY</th>\n",
       "      <th>YoY_Prct</th>\n",
       "    </tr>\n",
       "  </thead>\n",
       "  <tbody>\n",
       "    <tr>\n",
       "      <th>988</th>\n",
       "      <td>ros-foxy-statistics-msgs</td>\n",
       "      <td>statistics-msgs</td>\n",
       "      <td>foxy</td>\n",
       "      <td>8746</td>\n",
       "      <td>13786.0</td>\n",
       "      <td>-5040.0</td>\n",
       "      <td>-57.626343</td>\n",
       "    </tr>\n",
       "    <tr>\n",
       "      <th>990</th>\n",
       "      <td>ros-foxy-libstatistics-collector</td>\n",
       "      <td>libstatistics-collector</td>\n",
       "      <td>foxy</td>\n",
       "      <td>8745</td>\n",
       "      <td>13783.0</td>\n",
       "      <td>-5038.0</td>\n",
       "      <td>-57.610063</td>\n",
       "    </tr>\n",
       "    <tr>\n",
       "      <th>991</th>\n",
       "      <td>ros-foxy-rclcpp</td>\n",
       "      <td>rclcpp</td>\n",
       "      <td>foxy</td>\n",
       "      <td>8744</td>\n",
       "      <td>13997.0</td>\n",
       "      <td>-5253.0</td>\n",
       "      <td>-60.075480</td>\n",
       "    </tr>\n",
       "    <tr>\n",
       "      <th>1249</th>\n",
       "      <td>ros-foxy-ros-workspace</td>\n",
       "      <td>ros-workspace</td>\n",
       "      <td>foxy</td>\n",
       "      <td>7531</td>\n",
       "      <td>13979.0</td>\n",
       "      <td>-6448.0</td>\n",
       "      <td>-85.619440</td>\n",
       "    </tr>\n",
       "    <tr>\n",
       "      <th>1255</th>\n",
       "      <td>ros-foxy-ament-cmake</td>\n",
       "      <td>ament-cmake</td>\n",
       "      <td>foxy</td>\n",
       "      <td>7522</td>\n",
       "      <td>13839.0</td>\n",
       "      <td>-6317.0</td>\n",
       "      <td>-83.980324</td>\n",
       "    </tr>\n",
       "    <tr>\n",
       "      <th>1259</th>\n",
       "      <td>ros-foxy-ament-cmake-core</td>\n",
       "      <td>ament-cmake-core</td>\n",
       "      <td>foxy</td>\n",
       "      <td>7507</td>\n",
       "      <td>13722.0</td>\n",
       "      <td>-6215.0</td>\n",
       "      <td>-82.789397</td>\n",
       "    </tr>\n",
       "    <tr>\n",
       "      <th>1261</th>\n",
       "      <td>ros-foxy-rmw</td>\n",
       "      <td>rmw</td>\n",
       "      <td>foxy</td>\n",
       "      <td>7491</td>\n",
       "      <td>13385.0</td>\n",
       "      <td>-5894.0</td>\n",
       "      <td>-78.681084</td>\n",
       "    </tr>\n",
       "    <tr>\n",
       "      <th>1262</th>\n",
       "      <td>ros-foxy-rosidl-generator-cpp</td>\n",
       "      <td>rosidl-generator-cpp</td>\n",
       "      <td>foxy</td>\n",
       "      <td>7482</td>\n",
       "      <td>12307.0</td>\n",
       "      <td>-4825.0</td>\n",
       "      <td>-64.488105</td>\n",
       "    </tr>\n",
       "    <tr>\n",
       "      <th>1263</th>\n",
       "      <td>ros-foxy-rosidl-default-generators</td>\n",
       "      <td>rosidl-default-generators</td>\n",
       "      <td>foxy</td>\n",
       "      <td>7477</td>\n",
       "      <td>12423.0</td>\n",
       "      <td>-4946.0</td>\n",
       "      <td>-66.149525</td>\n",
       "    </tr>\n",
       "    <tr>\n",
       "      <th>1265</th>\n",
       "      <td>ros-foxy-rosidl-runtime-c</td>\n",
       "      <td>rosidl-runtime-c</td>\n",
       "      <td>foxy</td>\n",
       "      <td>7474</td>\n",
       "      <td>13401.0</td>\n",
       "      <td>-5927.0</td>\n",
       "      <td>-79.301579</td>\n",
       "    </tr>\n",
       "    <tr>\n",
       "      <th>1266</th>\n",
       "      <td>ros-foxy-rcpputils</td>\n",
       "      <td>rcpputils</td>\n",
       "      <td>foxy</td>\n",
       "      <td>7473</td>\n",
       "      <td>13481.0</td>\n",
       "      <td>-6008.0</td>\n",
       "      <td>-80.396093</td>\n",
       "    </tr>\n",
       "    <tr>\n",
       "      <th>1268</th>\n",
       "      <td>ros-foxy-rosidl-runtime-cpp</td>\n",
       "      <td>rosidl-runtime-cpp</td>\n",
       "      <td>foxy</td>\n",
       "      <td>7464</td>\n",
       "      <td>13375.0</td>\n",
       "      <td>-5911.0</td>\n",
       "      <td>-79.193462</td>\n",
       "    </tr>\n",
       "    <tr>\n",
       "      <th>1269</th>\n",
       "      <td>ros-foxy-rosidl-generator-c</td>\n",
       "      <td>rosidl-generator-c</td>\n",
       "      <td>foxy</td>\n",
       "      <td>7462</td>\n",
       "      <td>13356.0</td>\n",
       "      <td>-5894.0</td>\n",
       "      <td>-78.986867</td>\n",
       "    </tr>\n",
       "    <tr>\n",
       "      <th>1270</th>\n",
       "      <td>ros-foxy-builtin-interfaces</td>\n",
       "      <td>builtin-interfaces</td>\n",
       "      <td>foxy</td>\n",
       "      <td>7460</td>\n",
       "      <td>13433.0</td>\n",
       "      <td>-5973.0</td>\n",
       "      <td>-80.067024</td>\n",
       "    </tr>\n",
       "    <tr>\n",
       "      <th>1273</th>\n",
       "      <td>ros-foxy-rmw-implementation</td>\n",
       "      <td>rmw-implementation</td>\n",
       "      <td>foxy</td>\n",
       "      <td>7454</td>\n",
       "      <td>13332.0</td>\n",
       "      <td>-5878.0</td>\n",
       "      <td>-78.856990</td>\n",
       "    </tr>\n",
       "    <tr>\n",
       "      <th>1275</th>\n",
       "      <td>ros-foxy-rosidl-typesupport-cpp</td>\n",
       "      <td>rosidl-typesupport-cpp</td>\n",
       "      <td>foxy</td>\n",
       "      <td>7451</td>\n",
       "      <td>13404.0</td>\n",
       "      <td>-5953.0</td>\n",
       "      <td>-79.895316</td>\n",
       "    </tr>\n",
       "    <tr>\n",
       "      <th>1276</th>\n",
       "      <td>ros-foxy-rosidl-typesupport-c</td>\n",
       "      <td>rosidl-typesupport-c</td>\n",
       "      <td>foxy</td>\n",
       "      <td>7449</td>\n",
       "      <td>13401.0</td>\n",
       "      <td>-5952.0</td>\n",
       "      <td>-79.903343</td>\n",
       "    </tr>\n",
       "    <tr>\n",
       "      <th>1277</th>\n",
       "      <td>ros-foxy-rcutils</td>\n",
       "      <td>rcutils</td>\n",
       "      <td>foxy</td>\n",
       "      <td>7449</td>\n",
       "      <td>13356.0</td>\n",
       "      <td>-5907.0</td>\n",
       "      <td>-79.299235</td>\n",
       "    </tr>\n",
       "    <tr>\n",
       "      <th>1278</th>\n",
       "      <td>ros-foxy-rosgraph-msgs</td>\n",
       "      <td>rosgraph-msgs</td>\n",
       "      <td>foxy</td>\n",
       "      <td>7444</td>\n",
       "      <td>13314.0</td>\n",
       "      <td>-5870.0</td>\n",
       "      <td>-78.855454</td>\n",
       "    </tr>\n",
       "    <tr>\n",
       "      <th>1280</th>\n",
       "      <td>ros-foxy-rcl-interfaces</td>\n",
       "      <td>rcl-interfaces</td>\n",
       "      <td>foxy</td>\n",
       "      <td>7440</td>\n",
       "      <td>13351.0</td>\n",
       "      <td>-5911.0</td>\n",
       "      <td>-79.448925</td>\n",
       "    </tr>\n",
       "  </tbody>\n",
       "</table>\n",
       "</div>"
      ],
      "text/plain": [
       "                                    name                    package distro  \\\n",
       "988             ros-foxy-statistics-msgs            statistics-msgs   foxy   \n",
       "990     ros-foxy-libstatistics-collector    libstatistics-collector   foxy   \n",
       "991                      ros-foxy-rclcpp                     rclcpp   foxy   \n",
       "1249              ros-foxy-ros-workspace              ros-workspace   foxy   \n",
       "1255                ros-foxy-ament-cmake                ament-cmake   foxy   \n",
       "1259           ros-foxy-ament-cmake-core           ament-cmake-core   foxy   \n",
       "1261                        ros-foxy-rmw                        rmw   foxy   \n",
       "1262       ros-foxy-rosidl-generator-cpp       rosidl-generator-cpp   foxy   \n",
       "1263  ros-foxy-rosidl-default-generators  rosidl-default-generators   foxy   \n",
       "1265           ros-foxy-rosidl-runtime-c           rosidl-runtime-c   foxy   \n",
       "1266                  ros-foxy-rcpputils                  rcpputils   foxy   \n",
       "1268         ros-foxy-rosidl-runtime-cpp         rosidl-runtime-cpp   foxy   \n",
       "1269         ros-foxy-rosidl-generator-c         rosidl-generator-c   foxy   \n",
       "1270         ros-foxy-builtin-interfaces         builtin-interfaces   foxy   \n",
       "1273         ros-foxy-rmw-implementation         rmw-implementation   foxy   \n",
       "1275     ros-foxy-rosidl-typesupport-cpp     rosidl-typesupport-cpp   foxy   \n",
       "1276       ros-foxy-rosidl-typesupport-c       rosidl-typesupport-c   foxy   \n",
       "1277                    ros-foxy-rcutils                    rcutils   foxy   \n",
       "1278              ros-foxy-rosgraph-msgs              rosgraph-msgs   foxy   \n",
       "1280             ros-foxy-rcl-interfaces             rcl-interfaces   foxy   \n",
       "\n",
       "      2024     2023     YoY   YoY_Prct  \n",
       "988   8746  13786.0 -5040.0 -57.626343  \n",
       "990   8745  13783.0 -5038.0 -57.610063  \n",
       "991   8744  13997.0 -5253.0 -60.075480  \n",
       "1249  7531  13979.0 -6448.0 -85.619440  \n",
       "1255  7522  13839.0 -6317.0 -83.980324  \n",
       "1259  7507  13722.0 -6215.0 -82.789397  \n",
       "1261  7491  13385.0 -5894.0 -78.681084  \n",
       "1262  7482  12307.0 -4825.0 -64.488105  \n",
       "1263  7477  12423.0 -4946.0 -66.149525  \n",
       "1265  7474  13401.0 -5927.0 -79.301579  \n",
       "1266  7473  13481.0 -6008.0 -80.396093  \n",
       "1268  7464  13375.0 -5911.0 -79.193462  \n",
       "1269  7462  13356.0 -5894.0 -78.986867  \n",
       "1270  7460  13433.0 -5973.0 -80.067024  \n",
       "1273  7454  13332.0 -5878.0 -78.856990  \n",
       "1275  7451  13404.0 -5953.0 -79.895316  \n",
       "1276  7449  13401.0 -5952.0 -79.903343  \n",
       "1277  7449  13356.0 -5907.0 -79.299235  \n",
       "1278  7444  13314.0 -5870.0 -78.855454  \n",
       "1280  7440  13351.0 -5911.0 -79.448925  "
      ]
     },
     "execution_count": 28,
     "metadata": {},
     "output_type": "execute_result"
    }
   ],
   "source": [
    "# break down data by distro\n",
    "just_foxy = package_df[package_df[\"distro\"]==\"foxy\"]\n",
    "just_foxy[0:20]"
   ]
  },
  {
   "cell_type": "code",
   "execution_count": null,
   "metadata": {},
   "outputs": [],
   "source": []
  },
  {
   "cell_type": "code",
   "execution_count": 29,
   "metadata": {},
   "outputs": [
    {
     "data": {
      "text/plain": [
       "name        ros-melodic-ros-pytest\n",
       "package                 ros-pytest\n",
       "distro                     melodic\n",
       "2024                             4\n",
       "2023                        1563.0\n",
       "YoY                        -1559.0\n",
       "YoY_Prct                  -38975.0\n",
       "Name: 17365, dtype: object"
      ]
     },
     "execution_count": 29,
     "metadata": {},
     "output_type": "execute_result"
    }
   ],
   "source": [
    "# package with the highest yoy prct change\n",
    "package_df.iloc[package_df[\"YoY_Prct\"].argmin()]"
   ]
  },
  {
   "cell_type": "code",
   "execution_count": 30,
   "metadata": {},
   "outputs": [],
   "source": [
    "just_foxy = package_df[package_df[\"distro\"] == \"foxy\"]"
   ]
  },
  {
   "cell_type": "code",
   "execution_count": 31,
   "metadata": {},
   "outputs": [
    {
     "data": {
      "text/plain": [
       "name        ros-foxy-ibeo-msgs\n",
       "package              ibeo-msgs\n",
       "distro                    foxy\n",
       "2024                         6\n",
       "2023                     446.0\n",
       "YoY                     -440.0\n",
       "YoY_Prct          -7333.333333\n",
       "Name: 16494, dtype: object"
      ]
     },
     "execution_count": 31,
     "metadata": {},
     "output_type": "execute_result"
    }
   ],
   "source": [
    "# find the foxy pkg with hightest yoy prct change\n",
    "just_foxy.iloc[just_foxy[\"YoY_Prct\"].argmin()]"
   ]
  },
  {
   "cell_type": "code",
   "execution_count": null,
   "metadata": {},
   "outputs": [],
   "source": []
  },
  {
   "cell_type": "code",
   "execution_count": 32,
   "metadata": {},
   "outputs": [
    {
     "data": {
      "text/plain": [
       "name        ros-foxy-py-trees-ros\n",
       "package              py-trees-ros\n",
       "distro                       foxy\n",
       "2024                         1238\n",
       "2023                        124.0\n",
       "YoY                        1114.0\n",
       "YoY_Prct                89.983845\n",
       "Name: 3184, dtype: object"
      ]
     },
     "execution_count": 32,
     "metadata": {},
     "output_type": "execute_result"
    }
   ],
   "source": [
    "just_foxy.iloc[just_foxy[\"YoY_Prct\"].argmax()]"
   ]
  },
  {
   "cell_type": "code",
   "execution_count": 33,
   "metadata": {},
   "outputs": [
    {
     "data": {
      "text/plain": [
       "-833.3333333333334"
      ]
     },
     "execution_count": 33,
     "metadata": {},
     "output_type": "execute_result"
    }
   ],
   "source": [
    "just_foxy[\"YoY_Prct\"].median()"
   ]
  },
  {
   "cell_type": "code",
   "execution_count": 34,
   "metadata": {},
   "outputs": [],
   "source": [
    "melodic = package_df[package_df[\"distro\"] == \"melodic\"]"
   ]
  },
  {
   "cell_type": "code",
   "execution_count": 35,
   "metadata": {},
   "outputs": [
    {
     "data": {
      "text/plain": [
       "name        ros-melodic-ros-pytest\n",
       "package                 ros-pytest\n",
       "distro                     melodic\n",
       "2024                             4\n",
       "2023                        1563.0\n",
       "YoY                        -1559.0\n",
       "YoY_Prct                  -38975.0\n",
       "Name: 17365, dtype: object"
      ]
     },
     "execution_count": 35,
     "metadata": {},
     "output_type": "execute_result"
    }
   ],
   "source": [
    "melodic.iloc[melodic[\"YoY_Prct\"].argmin()]"
   ]
  },
  {
   "cell_type": "code",
   "execution_count": 69,
   "metadata": {},
   "outputs": [
    {
     "name": "stdout",
     "output_type": "stream",
     "text": [
      "Desktop installs between 2023 and 2024\n",
      "2024: 135497\n",
      "2023: 165615\n",
      "Change Prct: -18.18555082571023\n"
     ]
    }
   ],
   "source": [
    "# Let's look at Desktop installs, we would hope that those would be going up. \n",
    "\n",
    "# get the \"pure\" desktop installs \n",
    "exclude = [\"warthog\",\"turtlebot4\",\"ridgeback\",\"leo\",\"dingo\",\"mrp2\",\"jackal\",\"bwi\",\"clearpath\",\"industrial\"\n",
    "           \"husky\",\"moose\",\"kobuki\",\"care\",\"pr2\",\"heron\",\"rosh\",\"grizzly\",\"husky\",\"baxter\",\"webots\",\"create\"]\n",
    "package_names = package_df[\"name\"].tolist()\n",
    "pure_desktops = []\n",
    "extended_desktops = []\n",
    "for p in package_names:\n",
    "    if \"desktop\" in p:\n",
    "        extended_desktops.append(p)\n",
    "        hit = True\n",
    "        for e in exclude:\n",
    "            if e in p:\n",
    "                hit = False\n",
    "                break\n",
    "        if hit:\n",
    "            pure_desktops.append(p)\n",
    "            \n",
    "# You can check pure desktops or vendor desktops by toggling pure_desktops and extended desktops\n",
    "desktop_df = package_df[package_df[\"name\"].isin(pure_desktops)]\n",
    "\n",
    "print(\"Desktop installs between {0} and {1}\".format(last_year,this_year))\n",
    "desk_last = int(desktop_df[\"2023\"].sum())\n",
    "desk_this = int(desktop_df[\"2024\"].sum())\n",
    "print(\"{0}: {1}\".format(this_year,desk_this))\n",
    "print(\"{0}: {1}\".format(last_year,desk_last))\n",
    "print(\"Change Prct: {0}\".format((100.00*(desk_this-desk_last)/desk_last)))\n"
   ]
  },
  {
   "cell_type": "code",
   "execution_count": null,
   "metadata": {},
   "outputs": [],
   "source": []
  },
  {
   "cell_type": "raw",
   "metadata": {},
   "source": []
  },
  {
   "cell_type": "code",
   "execution_count": 39,
   "metadata": {},
   "outputs": [
    {
     "name": "stdout",
     "output_type": "stream",
     "text": [
      "Total Packages Downloaded August 2024\n",
      "42727079\n",
      "Total Packages Downloaded August 2023\n",
      "44406647.0\n",
      "Total Packages Downloaded Change\n",
      "-3.782244581537534\n",
      "Estimated total Packages in 2024\n",
      "512724948\n",
      "Estimated total Packages in 2023\n",
      "532879764.0\n"
     ]
    }
   ],
   "source": [
    "# calculate the total number of packages (ROS 1 + ROS 2 + Python + Gazebo) downloaded for this month\n",
    "# this year and last, calculate the percent change\n",
    "r2 = package_df[package_df[\"distro\"].isin(ros2)]\n",
    "r1 = package_df[package_df[\"distro\"].isin(ros1)]\n",
    "print(\"Total Packages Downloaded {0} {1}\".format(this_month,this_year))\n",
    "total_this = package_df[this_year].sum()\n",
    "print(total_this)\n",
    "\n",
    "print(\"Total Packages Downloaded {0} {1}\".format(last_month,last_year))\n",
    "total_last = package_df[last_year].sum()\n",
    "print(total_last)\n",
    "\n",
    "print(\"Total Packages Downloaded Change\")\n",
    "print(100*(total_this-total_last)/(total_last))\n",
    "\n",
    "print(\"Estimated total Packages in {0}\".format(this_year))\n",
    "print(12*total_this)\n",
    "\n",
    "print(\"Estimated total Packages in {0}\".format(last_year))\n",
    "print(12*total_last)\n"
   ]
  },
  {
   "cell_type": "code",
   "execution_count": 40,
   "metadata": {},
   "outputs": [
    {
     "name": "stdout",
     "output_type": "stream",
     "text": [
      "ROS 1 Packages Downloaded August 2023\n",
      "20143340.0\n",
      "ROS 1 Packages Downloaded August 2024\n",
      "8667061\n",
      "ROS 1 Packages Downloaded Change\n",
      "-56.97306901437398\n"
     ]
    }
   ],
   "source": [
    "# Calculate ROS 1 packages downloaded this year and last year, along with percent change\n",
    "print(\"ROS 1 Packages Downloaded {0} {1}\".format(last_month,last_year))\n",
    "r1sum_last = r1[last_year].sum()\n",
    "print(r1sum_last)\n",
    "\n",
    "print(\"ROS 1 Packages Downloaded {0} {1}\".format(this_month,this_year))\n",
    "r1sum_this = r1[this_year].sum()\n",
    "print(r1sum_this)\n",
    "\n",
    "print(\"ROS 1 Packages Downloaded Change\")\n",
    "print(100*(r1sum_this-r1sum_last)/(r1sum_last))"
   ]
  },
  {
   "cell_type": "code",
   "execution_count": 41,
   "metadata": {},
   "outputs": [
    {
     "name": "stdout",
     "output_type": "stream",
     "text": [
      "ROS 2 Packages Downloaded August 2023\n",
      "21765405.0\n",
      "ROS 2 Packages Downloaded August 2024\n",
      "30913771\n",
      "ROS 2 Packages Downloaded Change\n",
      "42.03168284716044\n",
      "Esitmated ROS 2 Packages Downloaded in 2024\n",
      "370965252\n"
     ]
    }
   ],
   "source": [
    "# Calculate ROS 2 packages downloaded this year and last year, along with percent change\n",
    "# NOTE ROS 1 + ROS 2 != Total Packages\n",
    "# Total Pkgs = ROS1 + ROS2 + [Gazebo/Colcon/Ament/Catkin/Python]\n",
    "print(\"ROS 2 Packages Downloaded {0} {1}\".format(last_month,last_year))\n",
    "r2sum_last = r2[last_year].sum()\n",
    "print(r2sum_last)\n",
    "\n",
    "print(\"ROS 2 Packages Downloaded {0} {1}\".format(this_month,this_year))\n",
    "r2sum_this = r2[this_year].sum()\n",
    "print(r2sum_this)\n",
    "\n",
    "print(\"ROS 2 Packages Downloaded Change\")\n",
    "print(100*(r2sum_this-r2sum_last)/(r2sum_last))\n",
    "\n",
    "print(\"Esitmated ROS 2 Packages Downloaded in {0}\".format(this_year))\n",
    "print(r2sum_this*12)"
   ]
  },
  {
   "cell_type": "code",
   "execution_count": 42,
   "metadata": {},
   "outputs": [
    {
     "name": "stdout",
     "output_type": "stream",
     "text": [
      "August 2023 ROS 1 + ROS 2 Total Packages Downloaded\n",
      "41908745.0\n",
      "August 2024 ROS 1 + ROS 2 Total Packages Downloaded\n",
      "39580832\n",
      "August 2023 Non-ROS Packages Downloaded\n",
      "2497902.0\n",
      "August 2024 Non-ROS Packages Downloaded\n",
      "3146247\n",
      "August 2024 Total ROS Packages Downloaded\n",
      "39580832\n",
      "===============================\n"
     ]
    }
   ],
   "source": [
    "print(\"{0} {1} ROS 1 + ROS 2 Total Packages Downloaded\".format(last_month,last_year))\n",
    "print(r1sum_last+r2sum_last)\n",
    "\n",
    "print(\"{0} {1} ROS 1 + ROS 2 Total Packages Downloaded\".format(this_month,this_year))\n",
    "print(r1sum_this+r2sum_this)\n",
    "\n",
    "print(\"{0} {1} Non-ROS Packages Downloaded\".format(last_month,last_year))\n",
    "print(total_last-(r1sum_last+r2sum_last))\n",
    "\n",
    "print(\"{0} {1} Non-ROS Packages Downloaded\".format(this_month,this_year))\n",
    "non_ros_this = total_this-(r1sum_this+r2sum_this)\n",
    "print(non_ros_this)\n",
    "#print(total_this-(r1sum_this+r2sum_this))\n",
    "\n",
    "print(\"{0} {1} Total ROS Packages Downloaded\".format(this_month,this_year))\n",
    "total_ros_this = r1sum_this+r2sum_this\n",
    "print(total_ros_this)\n",
    "print(\"===============================\")"
   ]
  },
  {
   "cell_type": "code",
   "execution_count": 43,
   "metadata": {},
   "outputs": [
    {
     "name": "stdout",
     "output_type": "stream",
     "text": [
      "Percent ROS 2 Pkgs Downloaded August 2023\n",
      "51.935234519668874\n",
      "Percent ROS 1 Pkgs Downloaded August 2023\n",
      "48.06476548033113\n",
      "============================\n",
      "Percent ROS 2 Pkgs Downloaded August 2024\n",
      "78.1028832339856\n",
      "Percent ROS 1 Pkgs Downloaded August 2024\n",
      "21.897116766014417\n",
      "============================\n",
      "YoY change in ROS 2 downloads as % (last year minus this year)\n",
      "26.16764871431672\n",
      "YoY change in ROS 1 downloads as %\n",
      "-26.167648714316716\n"
     ]
    }
   ],
   "source": [
    "# Calculate the percent changes in ROS 1 and ROS 2 packages\n",
    "\n",
    "print(\"Percent ROS 2 Pkgs Downloaded {0} {1}\".format(last_month,last_year))\n",
    "prct_r2_last = r2sum_last/(r1sum_last+r2sum_last)*100\n",
    "print(prct_r2_last)\n",
    "\n",
    "print(\"Percent ROS 1 Pkgs Downloaded {0} {1}\".format(last_month,last_year))\n",
    "prct_r1_last = r1sum_last/(r1sum_last+r2sum_last)*100\n",
    "print(r1sum_last/(r1sum_last+r2sum_last)*100)\n",
    "\n",
    "print(\"============================\")\n",
    "print(\"Percent ROS 2 Pkgs Downloaded {0} {1}\".format(this_month,this_year))\n",
    "prct_r2_this = r2sum_this/(r1sum_this+r2sum_this)*100\n",
    "print(prct_r2_this)\n",
    "\n",
    "print(\"Percent ROS 1 Pkgs Downloaded {0} {1}\".format(this_month,this_year))\n",
    "prct_r1_this = r1sum_this/(r1sum_this+r2sum_this)*100\n",
    "print(prct_r1_this)\n",
    "\n",
    "print(\"============================\")\n",
    "\n",
    "print(\"YoY change in ROS 2 downloads as % (last year minus this year)\")\n",
    "print(prct_r2_this-prct_r2_last)\n",
    "\n",
    "print(\"YoY change in ROS 1 downloads as %\")\n",
    "print(prct_r1_this-prct_r1_last)\n"
   ]
  },
  {
   "cell_type": "code",
   "execution_count": 44,
   "metadata": {},
   "outputs": [
    {
     "name": "stdout",
     "output_type": "stream",
     "text": [
      "Percent ROS 2 in 2024 August\n",
      "78.1028832339856\n",
      "Percent ROS 2 in 2023 August\n",
      "51.935234519668874\n",
      "Change in ROS 2 between now and the last measurement\n",
      "26.16764871431672\n",
      "-----------------------------------\n",
      "Total Packages in 2024 August\n",
      "42727079\n",
      "==>Sanity Check ROS packages + other packages this year\n",
      "42727079\n",
      "ESTIMATED Total Packages in the year 2024\n",
      "512724948\n"
     ]
    }
   ],
   "source": [
    "r2_this = (r2sum_this/(r1sum_this+r2sum_this)*100)\n",
    "r2_last = (r2sum_last/(r1sum_last+r2sum_last)*100)\n",
    "print(\"Percent ROS 2 in {0} {1}\".format(this_year,this_month))\n",
    "print(r2_this)\n",
    "\n",
    "print(\"Percent ROS 2 in {0} {1}\".format(last_year,last_month))\n",
    "print(r2_last)\n",
    "\n",
    "print(\"Change in ROS 2 between now and the last measurement\")\n",
    "print(r2_this-r2_last)\n",
    "print(\"-----------------------------------\")\n",
    "\n",
    "print(\"Total Packages in {0} {1}\".format(this_year,this_month))\n",
    "print(package_df[this_year].sum())\n",
    "\n",
    "print(\"==>Sanity Check ROS packages + other packages this year\")\n",
    "print(total_ros_this+non_ros_this)\n",
    "\n",
    "print(\"ESTIMATED Total Packages in the year {0}\".format(this_year))\n",
    "print(12*package_df[this_year].sum())\n"
   ]
  },
  {
   "cell_type": "code",
   "execution_count": 45,
   "metadata": {},
   "outputs": [
    {
     "name": "stdout",
     "output_type": "stream",
     "text": [
      "           name   2024   2023\n",
      "0     boxturtle   0.00   0.00\n",
      "1       cturtle   0.00   0.00\n",
      "2   diamondback   0.00   0.00\n",
      "3      electric   0.00   0.00\n",
      "4        fuerte   0.00   0.00\n",
      "5        groovy   0.00   0.00\n",
      "6         hydro   0.00   0.00\n",
      "7        indigo   0.05   0.47\n",
      "8          jade   0.00   0.00\n",
      "9       kinetic   0.43   1.19\n",
      "10        lunar   0.00   0.23\n",
      "11      melodic   2.37   7.75\n",
      "12       noetic  16.75  34.45\n",
      "13       ardent   0.00   0.02\n",
      "14       bouncy   0.00   0.03\n",
      "15      crystal   0.02   0.05\n",
      "16      dashing   0.11   0.28\n",
      "17     eloquent   0.12   0.23\n",
      "18         foxy   3.71   7.03\n",
      "19     galactic   1.18   2.75\n",
      "20       humble  48.35  28.32\n",
      "21         iron   5.58   4.24\n",
      "22        jazzy   6.07   0.00\n",
      "23      rolling   4.81   4.12\n",
      "89.55\n",
      "91.16\n"
     ]
    }
   ],
   "source": [
    "print(distro_df)\n",
    "print(distro_df[this_year].sum())\n",
    "print(distro_df[last_year].sum())"
   ]
  },
  {
   "cell_type": "code",
   "execution_count": 46,
   "metadata": {},
   "outputs": [
    {
     "name": "stdout",
     "output_type": "stream",
     "text": [
      "Percentage downloads that are not ROS packages (i.e. python):\n",
      "August 2024: 10.450000000000003\n",
      "August 2023: 8.840000000000003\n",
      "------------\n",
      "Distros less than one percent\n",
      "           name  2024  2023\n",
      "0     boxturtle  0.00  0.00\n",
      "1       cturtle  0.00  0.00\n",
      "2   diamondback  0.00  0.00\n",
      "3      electric  0.00  0.00\n",
      "4        fuerte  0.00  0.00\n",
      "5        groovy  0.00  0.00\n",
      "6         hydro  0.00  0.00\n",
      "7        indigo  0.05  0.47\n",
      "8          jade  0.00  0.00\n",
      "9       kinetic  0.43  1.19\n",
      "10        lunar  0.00  0.23\n",
      "13       ardent  0.00  0.02\n",
      "14       bouncy  0.00  0.03\n",
      "15      crystal  0.02  0.05\n",
      "16      dashing  0.11  0.28\n",
      "17     eloquent  0.12  0.23\n",
      "Sum of all distros less than one\n",
      "August 2024: 0.73\n",
      "August 2023: 2.5\n",
      "-------------\n",
      "Distros greater than 1%\n",
      "        name   2024   2023\n",
      "11   melodic   2.37   7.75\n",
      "12    noetic  16.75  34.45\n",
      "18      foxy   3.71   7.03\n",
      "19  galactic   1.18   2.75\n",
      "20    humble  48.35  28.32\n",
      "21      iron   5.58   4.24\n",
      "22     jazzy   6.07   0.00\n",
      "23   rolling   4.81   4.12\n"
     ]
    }
   ],
   "source": [
    "# Calculate percentages for active distros, old distros, \n",
    "everything_else_last = 100.0-distro_df[last_year].sum()\n",
    "everything_else_this = 100.0-distro_df[this_year].sum()\n",
    "print(\"Percentage downloads that are not ROS packages (i.e. python):\")\n",
    "print(\"{0} {1}: {2}\".format(this_month,this_year,everything_else_this))\n",
    "print(\"{0} {1}: {2}\".format(last_month,last_year,everything_else_last))\n",
    "print(\"------------\")\n",
    "\n",
    "\n",
    "leftovers = distro_df[distro_df[this_year]<1]\n",
    "print(\"Distros less than one percent\")\n",
    "print(leftovers)\n",
    "\n",
    "all_other_this = leftovers[this_year].sum()\n",
    "all_other_last = leftovers[last_year].sum()\n",
    "print(\"Sum of all distros less than one\")\n",
    "\n",
    "print(\"{0} {1}: {2}\".format(this_month,this_year,all_other_this))\n",
    "print(\"{0} {1}: {2}\".format(last_month,last_year,all_other_last))\n",
    "print(\"-------------\")\n",
    "temp = distro_df[distro_df[this_year]>=1]\n",
    "print(\"Distros greater than 1%\")\n",
    "print(temp)"
   ]
  },
  {
   "cell_type": "code",
   "execution_count": 47,
   "metadata": {},
   "outputs": [
    {
     "name": "stdout",
     "output_type": "stream",
     "text": [
      "                  name   2024   2023  YoY Change Prct\n",
      " 11            melodic   2.37   7.75            -5.38\n",
      " 12             noetic  16.75  34.45           -17.70\n",
      " 18               foxy   3.71   7.03            -3.32\n",
      " 19           galactic   1.18   2.75            -1.57\n",
      " 20             humble  48.35  28.32            20.03\n",
      " 21               iron   5.58   4.24             1.34\n",
      " 22              jazzy   6.07   0.00             6.07\n",
      " 23            rolling   4.81   4.12             0.69\n",
      "-1   all other distros   0.73   2.50            -1.77\n",
      "-2      other pacakges  10.45   8.84             1.61\n",
      "Saved to DistroPrctChangeAugust2023toAugust2024.csv\n",
      "------ Sanity Check\n",
      "name               melodicnoeticfoxygalactichumbleironjazzyrollin...\n",
      "2024                                                           100.0\n",
      "2023                                                           100.0\n",
      "YoY Change Prct                                                 -0.0\n",
      "dtype: object\n"
     ]
    }
   ],
   "source": [
    "# Create a short table with distro change data\n",
    "# we really should merge this with the raw, per package data at some point\n",
    "distro_t = distro_df[distro_df[this_year]>=1].copy()\n",
    "distro_t.loc[-1]= [\"all other distros\",all_other_this,all_other_last]\n",
    "distro_t.loc[-2]= [\"other pacakges\",everything_else_this,everything_else_last]  # adding a row\n",
    "distro_t[\"YoY Change Prct\"] = distro_t[this_year]-distro_t[last_year]\n",
    "print(distro_t)\n",
    "fname = \"DistroPrctChange{0}{1}to{2}{3}.csv\".format(last_month,last_year,this_month,this_year)\n",
    "print(\"Saved to {0}\".format(fname))\n",
    "distro_t.to_csv(fname)\n",
    "# Sanity Check, should be 100\n",
    "print(\"------ Sanity Check\")\n",
    "print(distro_t.sum())\n"
   ]
  },
  {
   "cell_type": "code",
   "execution_count": 58,
   "metadata": {},
   "outputs": [
    {
     "name": "stdout",
     "output_type": "stream",
     "text": [
      "['Melodic', 'Noetic', 'Foxy', 'Galactic', 'Humble', 'Iron', 'Jazzy', 'Rolling']\n",
      "0              Melodic\n",
      "1               Noetic\n",
      "2                 Foxy\n",
      "3             Galactic\n",
      "4               Humble\n",
      "5                 Iron\n",
      "6                Jazzy\n",
      "7              Rolling\n",
      "8    All Other Distros\n",
      "9          Python Pkgs\n",
      "Name: name, dtype: object\n",
      "                name   2024   2023  2022\n",
      "0            Melodic   2.37   7.75   NaN\n",
      "1             Noetic  16.75  34.45   NaN\n",
      "2               Foxy   3.71   7.03   NaN\n",
      "3           Galactic   1.18   2.75   NaN\n",
      "4             Humble  48.35  28.32   NaN\n",
      "5               Iron   5.58   4.24   NaN\n",
      "6              Jazzy   6.07   0.00   NaN\n",
      "7            Rolling   4.81   4.12   NaN\n",
      "8  All Other Distros    NaN   0.73  2.50\n",
      "9        Python Pkgs    NaN  10.45  8.84\n",
      "99.84\n",
      "88.82000000000001\n"
     ]
    },
    {
     "data": {
      "application/vnd.plotly.v1+json": {
       "config": {
        "plotlyServerURL": "https://plot.ly"
       },
       "data": [
        {
         "domain": {
          "x": [
           0,
           0.5
          ]
         },
         "labels": [
          "Melodic",
          "Noetic",
          "Foxy",
          "Galactic",
          "Humble",
          "Iron",
          "Jazzy",
          "Rolling",
          "All Other Distros",
          "Python Pkgs"
         ],
         "marker": {
          "colors": [
           "#FFAAAA",
           "#FF6666",
           "#CCCCFF",
           "#9999FF",
           "#6666FF",
           "#3333FF",
           "#fcdc3f",
           "#7cc14b",
           "#EE00FF",
           "#FF00FF"
          ]
         },
         "sort": false,
         "title": {
          "text": ""
         },
         "type": "pie",
         "values": [
          7.75,
          34.45,
          7.03,
          2.75,
          28.32,
          4.24,
          0,
          4.12,
          0.73,
          10.450000000000003
         ]
        },
        {
         "domain": {
          "x": [
           0.5,
           1
          ]
         },
         "labels": [
          "Melodic",
          "Noetic",
          "Foxy",
          "Galactic",
          "Humble",
          "Iron",
          "Jazzy",
          "Rolling",
          "All Other Distros",
          "Python Pkgs"
         ],
         "marker": {
          "colors": [
           "#FFAAAA",
           "#FF6666",
           "#CCCCFF",
           "#9999FF",
           "#6666FF",
           "#3333FF",
           "#fcdc3f",
           "#7cc14b",
           "#EE00FF",
           "#FF00FF"
          ]
         },
         "sort": false,
         "title": {
          "text": ""
         },
         "type": "pie",
         "values": [
          2.37,
          16.75,
          3.71,
          1.18,
          48.35,
          5.58,
          6.07,
          4.81,
          null,
          null
         ]
        }
       ],
       "layout": {
        "font": {
         "color": "#22314E",
         "family": "Arial",
         "size": 16
        },
        "template": {
         "data": {
          "bar": [
           {
            "error_x": {
             "color": "#2a3f5f"
            },
            "error_y": {
             "color": "#2a3f5f"
            },
            "marker": {
             "line": {
              "color": "#E5ECF6",
              "width": 0.5
             },
             "pattern": {
              "fillmode": "overlay",
              "size": 10,
              "solidity": 0.2
             }
            },
            "type": "bar"
           }
          ],
          "barpolar": [
           {
            "marker": {
             "line": {
              "color": "#E5ECF6",
              "width": 0.5
             },
             "pattern": {
              "fillmode": "overlay",
              "size": 10,
              "solidity": 0.2
             }
            },
            "type": "barpolar"
           }
          ],
          "carpet": [
           {
            "aaxis": {
             "endlinecolor": "#2a3f5f",
             "gridcolor": "white",
             "linecolor": "white",
             "minorgridcolor": "white",
             "startlinecolor": "#2a3f5f"
            },
            "baxis": {
             "endlinecolor": "#2a3f5f",
             "gridcolor": "white",
             "linecolor": "white",
             "minorgridcolor": "white",
             "startlinecolor": "#2a3f5f"
            },
            "type": "carpet"
           }
          ],
          "choropleth": [
           {
            "colorbar": {
             "outlinewidth": 0,
             "ticks": ""
            },
            "type": "choropleth"
           }
          ],
          "contour": [
           {
            "colorbar": {
             "outlinewidth": 0,
             "ticks": ""
            },
            "colorscale": [
             [
              0,
              "#0d0887"
             ],
             [
              0.1111111111111111,
              "#46039f"
             ],
             [
              0.2222222222222222,
              "#7201a8"
             ],
             [
              0.3333333333333333,
              "#9c179e"
             ],
             [
              0.4444444444444444,
              "#bd3786"
             ],
             [
              0.5555555555555556,
              "#d8576b"
             ],
             [
              0.6666666666666666,
              "#ed7953"
             ],
             [
              0.7777777777777778,
              "#fb9f3a"
             ],
             [
              0.8888888888888888,
              "#fdca26"
             ],
             [
              1,
              "#f0f921"
             ]
            ],
            "type": "contour"
           }
          ],
          "contourcarpet": [
           {
            "colorbar": {
             "outlinewidth": 0,
             "ticks": ""
            },
            "type": "contourcarpet"
           }
          ],
          "heatmap": [
           {
            "colorbar": {
             "outlinewidth": 0,
             "ticks": ""
            },
            "colorscale": [
             [
              0,
              "#0d0887"
             ],
             [
              0.1111111111111111,
              "#46039f"
             ],
             [
              0.2222222222222222,
              "#7201a8"
             ],
             [
              0.3333333333333333,
              "#9c179e"
             ],
             [
              0.4444444444444444,
              "#bd3786"
             ],
             [
              0.5555555555555556,
              "#d8576b"
             ],
             [
              0.6666666666666666,
              "#ed7953"
             ],
             [
              0.7777777777777778,
              "#fb9f3a"
             ],
             [
              0.8888888888888888,
              "#fdca26"
             ],
             [
              1,
              "#f0f921"
             ]
            ],
            "type": "heatmap"
           }
          ],
          "heatmapgl": [
           {
            "colorbar": {
             "outlinewidth": 0,
             "ticks": ""
            },
            "colorscale": [
             [
              0,
              "#0d0887"
             ],
             [
              0.1111111111111111,
              "#46039f"
             ],
             [
              0.2222222222222222,
              "#7201a8"
             ],
             [
              0.3333333333333333,
              "#9c179e"
             ],
             [
              0.4444444444444444,
              "#bd3786"
             ],
             [
              0.5555555555555556,
              "#d8576b"
             ],
             [
              0.6666666666666666,
              "#ed7953"
             ],
             [
              0.7777777777777778,
              "#fb9f3a"
             ],
             [
              0.8888888888888888,
              "#fdca26"
             ],
             [
              1,
              "#f0f921"
             ]
            ],
            "type": "heatmapgl"
           }
          ],
          "histogram": [
           {
            "marker": {
             "pattern": {
              "fillmode": "overlay",
              "size": 10,
              "solidity": 0.2
             }
            },
            "type": "histogram"
           }
          ],
          "histogram2d": [
           {
            "colorbar": {
             "outlinewidth": 0,
             "ticks": ""
            },
            "colorscale": [
             [
              0,
              "#0d0887"
             ],
             [
              0.1111111111111111,
              "#46039f"
             ],
             [
              0.2222222222222222,
              "#7201a8"
             ],
             [
              0.3333333333333333,
              "#9c179e"
             ],
             [
              0.4444444444444444,
              "#bd3786"
             ],
             [
              0.5555555555555556,
              "#d8576b"
             ],
             [
              0.6666666666666666,
              "#ed7953"
             ],
             [
              0.7777777777777778,
              "#fb9f3a"
             ],
             [
              0.8888888888888888,
              "#fdca26"
             ],
             [
              1,
              "#f0f921"
             ]
            ],
            "type": "histogram2d"
           }
          ],
          "histogram2dcontour": [
           {
            "colorbar": {
             "outlinewidth": 0,
             "ticks": ""
            },
            "colorscale": [
             [
              0,
              "#0d0887"
             ],
             [
              0.1111111111111111,
              "#46039f"
             ],
             [
              0.2222222222222222,
              "#7201a8"
             ],
             [
              0.3333333333333333,
              "#9c179e"
             ],
             [
              0.4444444444444444,
              "#bd3786"
             ],
             [
              0.5555555555555556,
              "#d8576b"
             ],
             [
              0.6666666666666666,
              "#ed7953"
             ],
             [
              0.7777777777777778,
              "#fb9f3a"
             ],
             [
              0.8888888888888888,
              "#fdca26"
             ],
             [
              1,
              "#f0f921"
             ]
            ],
            "type": "histogram2dcontour"
           }
          ],
          "mesh3d": [
           {
            "colorbar": {
             "outlinewidth": 0,
             "ticks": ""
            },
            "type": "mesh3d"
           }
          ],
          "parcoords": [
           {
            "line": {
             "colorbar": {
              "outlinewidth": 0,
              "ticks": ""
             }
            },
            "type": "parcoords"
           }
          ],
          "pie": [
           {
            "automargin": true,
            "type": "pie"
           }
          ],
          "scatter": [
           {
            "fillpattern": {
             "fillmode": "overlay",
             "size": 10,
             "solidity": 0.2
            },
            "type": "scatter"
           }
          ],
          "scatter3d": [
           {
            "line": {
             "colorbar": {
              "outlinewidth": 0,
              "ticks": ""
             }
            },
            "marker": {
             "colorbar": {
              "outlinewidth": 0,
              "ticks": ""
             }
            },
            "type": "scatter3d"
           }
          ],
          "scattercarpet": [
           {
            "marker": {
             "colorbar": {
              "outlinewidth": 0,
              "ticks": ""
             }
            },
            "type": "scattercarpet"
           }
          ],
          "scattergeo": [
           {
            "marker": {
             "colorbar": {
              "outlinewidth": 0,
              "ticks": ""
             }
            },
            "type": "scattergeo"
           }
          ],
          "scattergl": [
           {
            "marker": {
             "colorbar": {
              "outlinewidth": 0,
              "ticks": ""
             }
            },
            "type": "scattergl"
           }
          ],
          "scattermapbox": [
           {
            "marker": {
             "colorbar": {
              "outlinewidth": 0,
              "ticks": ""
             }
            },
            "type": "scattermapbox"
           }
          ],
          "scatterpolar": [
           {
            "marker": {
             "colorbar": {
              "outlinewidth": 0,
              "ticks": ""
             }
            },
            "type": "scatterpolar"
           }
          ],
          "scatterpolargl": [
           {
            "marker": {
             "colorbar": {
              "outlinewidth": 0,
              "ticks": ""
             }
            },
            "type": "scatterpolargl"
           }
          ],
          "scatterternary": [
           {
            "marker": {
             "colorbar": {
              "outlinewidth": 0,
              "ticks": ""
             }
            },
            "type": "scatterternary"
           }
          ],
          "surface": [
           {
            "colorbar": {
             "outlinewidth": 0,
             "ticks": ""
            },
            "colorscale": [
             [
              0,
              "#0d0887"
             ],
             [
              0.1111111111111111,
              "#46039f"
             ],
             [
              0.2222222222222222,
              "#7201a8"
             ],
             [
              0.3333333333333333,
              "#9c179e"
             ],
             [
              0.4444444444444444,
              "#bd3786"
             ],
             [
              0.5555555555555556,
              "#d8576b"
             ],
             [
              0.6666666666666666,
              "#ed7953"
             ],
             [
              0.7777777777777778,
              "#fb9f3a"
             ],
             [
              0.8888888888888888,
              "#fdca26"
             ],
             [
              1,
              "#f0f921"
             ]
            ],
            "type": "surface"
           }
          ],
          "table": [
           {
            "cells": {
             "fill": {
              "color": "#EBF0F8"
             },
             "line": {
              "color": "white"
             }
            },
            "header": {
             "fill": {
              "color": "#C8D4E3"
             },
             "line": {
              "color": "white"
             }
            },
            "type": "table"
           }
          ]
         },
         "layout": {
          "annotationdefaults": {
           "arrowcolor": "#2a3f5f",
           "arrowhead": 0,
           "arrowwidth": 1
          },
          "autotypenumbers": "strict",
          "coloraxis": {
           "colorbar": {
            "outlinewidth": 0,
            "ticks": ""
           }
          },
          "colorscale": {
           "diverging": [
            [
             0,
             "#8e0152"
            ],
            [
             0.1,
             "#c51b7d"
            ],
            [
             0.2,
             "#de77ae"
            ],
            [
             0.3,
             "#f1b6da"
            ],
            [
             0.4,
             "#fde0ef"
            ],
            [
             0.5,
             "#f7f7f7"
            ],
            [
             0.6,
             "#e6f5d0"
            ],
            [
             0.7,
             "#b8e186"
            ],
            [
             0.8,
             "#7fbc41"
            ],
            [
             0.9,
             "#4d9221"
            ],
            [
             1,
             "#276419"
            ]
           ],
           "sequential": [
            [
             0,
             "#0d0887"
            ],
            [
             0.1111111111111111,
             "#46039f"
            ],
            [
             0.2222222222222222,
             "#7201a8"
            ],
            [
             0.3333333333333333,
             "#9c179e"
            ],
            [
             0.4444444444444444,
             "#bd3786"
            ],
            [
             0.5555555555555556,
             "#d8576b"
            ],
            [
             0.6666666666666666,
             "#ed7953"
            ],
            [
             0.7777777777777778,
             "#fb9f3a"
            ],
            [
             0.8888888888888888,
             "#fdca26"
            ],
            [
             1,
             "#f0f921"
            ]
           ],
           "sequentialminus": [
            [
             0,
             "#0d0887"
            ],
            [
             0.1111111111111111,
             "#46039f"
            ],
            [
             0.2222222222222222,
             "#7201a8"
            ],
            [
             0.3333333333333333,
             "#9c179e"
            ],
            [
             0.4444444444444444,
             "#bd3786"
            ],
            [
             0.5555555555555556,
             "#d8576b"
            ],
            [
             0.6666666666666666,
             "#ed7953"
            ],
            [
             0.7777777777777778,
             "#fb9f3a"
            ],
            [
             0.8888888888888888,
             "#fdca26"
            ],
            [
             1,
             "#f0f921"
            ]
           ]
          },
          "colorway": [
           "#636efa",
           "#EF553B",
           "#00cc96",
           "#ab63fa",
           "#FFA15A",
           "#19d3f3",
           "#FF6692",
           "#B6E880",
           "#FF97FF",
           "#FECB52"
          ],
          "font": {
           "color": "#2a3f5f"
          },
          "geo": {
           "bgcolor": "white",
           "lakecolor": "white",
           "landcolor": "#E5ECF6",
           "showlakes": true,
           "showland": true,
           "subunitcolor": "white"
          },
          "hoverlabel": {
           "align": "left"
          },
          "hovermode": "closest",
          "mapbox": {
           "style": "light"
          },
          "paper_bgcolor": "white",
          "plot_bgcolor": "#E5ECF6",
          "polar": {
           "angularaxis": {
            "gridcolor": "white",
            "linecolor": "white",
            "ticks": ""
           },
           "bgcolor": "#E5ECF6",
           "radialaxis": {
            "gridcolor": "white",
            "linecolor": "white",
            "ticks": ""
           }
          },
          "scene": {
           "xaxis": {
            "backgroundcolor": "#E5ECF6",
            "gridcolor": "white",
            "gridwidth": 2,
            "linecolor": "white",
            "showbackground": true,
            "ticks": "",
            "zerolinecolor": "white"
           },
           "yaxis": {
            "backgroundcolor": "#E5ECF6",
            "gridcolor": "white",
            "gridwidth": 2,
            "linecolor": "white",
            "showbackground": true,
            "ticks": "",
            "zerolinecolor": "white"
           },
           "zaxis": {
            "backgroundcolor": "#E5ECF6",
            "gridcolor": "white",
            "gridwidth": 2,
            "linecolor": "white",
            "showbackground": true,
            "ticks": "",
            "zerolinecolor": "white"
           }
          },
          "shapedefaults": {
           "line": {
            "color": "#2a3f5f"
           }
          },
          "ternary": {
           "aaxis": {
            "gridcolor": "white",
            "linecolor": "white",
            "ticks": ""
           },
           "baxis": {
            "gridcolor": "white",
            "linecolor": "white",
            "ticks": ""
           },
           "bgcolor": "#E5ECF6",
           "caxis": {
            "gridcolor": "white",
            "linecolor": "white",
            "ticks": ""
           }
          },
          "title": {
           "x": 0.05
          },
          "xaxis": {
           "automargin": true,
           "gridcolor": "white",
           "linecolor": "white",
           "ticks": "",
           "title": {
            "standoff": 15
           },
           "zerolinecolor": "white",
           "zerolinewidth": 2
          },
          "yaxis": {
           "automargin": true,
           "gridcolor": "white",
           "linecolor": "white",
           "ticks": "",
           "title": {
            "standoff": 15
           },
           "zerolinecolor": "white",
           "zerolinewidth": 2
          }
         }
        },
        "title": {
         "font": {
          "color": "#22314E",
          "family": "Arial",
          "size": 24
         },
         "text": "Download Percentage from packages.ros.org October 2022 vs October 2023"
        }
       }
      },
      "text/html": [
       "<div>                            <div id=\"00391453-1b65-4371-9d69-644a4e42ce52\" class=\"plotly-graph-div\" style=\"height:525px; width:100%;\"></div>            <script type=\"text/javascript\">                require([\"plotly\"], function(Plotly) {                    window.PLOTLYENV=window.PLOTLYENV || {};                                    if (document.getElementById(\"00391453-1b65-4371-9d69-644a4e42ce52\")) {                    Plotly.newPlot(                        \"00391453-1b65-4371-9d69-644a4e42ce52\",                        [{\"domain\":{\"x\":[0,0.5]},\"labels\":[\"Melodic\",\"Noetic\",\"Foxy\",\"Galactic\",\"Humble\",\"Iron\",\"Jazzy\",\"Rolling\",\"All Other Distros\",\"Python Pkgs\"],\"sort\":false,\"title\":{\"text\":\"\"},\"values\":[7.75,34.45,7.03,2.75,28.32,4.24,0.0,4.12,0.73,10.450000000000003],\"type\":\"pie\",\"marker\":{\"colors\":[\"#FFAAAA\",\"#FF6666\",\"#CCCCFF\",\"#9999FF\",\"#6666FF\",\"#3333FF\",\"#fcdc3f\",\"#7cc14b\",\"#EE00FF\",\"#FF00FF\"]}},{\"domain\":{\"x\":[0.5,1.0]},\"labels\":[\"Melodic\",\"Noetic\",\"Foxy\",\"Galactic\",\"Humble\",\"Iron\",\"Jazzy\",\"Rolling\",\"All Other Distros\",\"Python Pkgs\"],\"sort\":false,\"title\":{\"text\":\"\"},\"values\":[2.37,16.75,3.71,1.18,48.35,5.58,6.07,4.81,null,null],\"type\":\"pie\",\"marker\":{\"colors\":[\"#FFAAAA\",\"#FF6666\",\"#CCCCFF\",\"#9999FF\",\"#6666FF\",\"#3333FF\",\"#fcdc3f\",\"#7cc14b\",\"#EE00FF\",\"#FF00FF\"]}}],                        {\"title\":{\"text\":\"Download Percentage from packages.ros.org October 2022 vs October 2023\",\"font\":{\"size\":24,\"family\":\"Arial\",\"color\":\"#22314E\"}},\"template\":{\"data\":{\"histogram2dcontour\":[{\"type\":\"histogram2dcontour\",\"colorbar\":{\"outlinewidth\":0,\"ticks\":\"\"},\"colorscale\":[[0.0,\"#0d0887\"],[0.1111111111111111,\"#46039f\"],[0.2222222222222222,\"#7201a8\"],[0.3333333333333333,\"#9c179e\"],[0.4444444444444444,\"#bd3786\"],[0.5555555555555556,\"#d8576b\"],[0.6666666666666666,\"#ed7953\"],[0.7777777777777778,\"#fb9f3a\"],[0.8888888888888888,\"#fdca26\"],[1.0,\"#f0f921\"]]}],\"choropleth\":[{\"type\":\"choropleth\",\"colorbar\":{\"outlinewidth\":0,\"ticks\":\"\"}}],\"histogram2d\":[{\"type\":\"histogram2d\",\"colorbar\":{\"outlinewidth\":0,\"ticks\":\"\"},\"colorscale\":[[0.0,\"#0d0887\"],[0.1111111111111111,\"#46039f\"],[0.2222222222222222,\"#7201a8\"],[0.3333333333333333,\"#9c179e\"],[0.4444444444444444,\"#bd3786\"],[0.5555555555555556,\"#d8576b\"],[0.6666666666666666,\"#ed7953\"],[0.7777777777777778,\"#fb9f3a\"],[0.8888888888888888,\"#fdca26\"],[1.0,\"#f0f921\"]]}],\"heatmap\":[{\"type\":\"heatmap\",\"colorbar\":{\"outlinewidth\":0,\"ticks\":\"\"},\"colorscale\":[[0.0,\"#0d0887\"],[0.1111111111111111,\"#46039f\"],[0.2222222222222222,\"#7201a8\"],[0.3333333333333333,\"#9c179e\"],[0.4444444444444444,\"#bd3786\"],[0.5555555555555556,\"#d8576b\"],[0.6666666666666666,\"#ed7953\"],[0.7777777777777778,\"#fb9f3a\"],[0.8888888888888888,\"#fdca26\"],[1.0,\"#f0f921\"]]}],\"heatmapgl\":[{\"type\":\"heatmapgl\",\"colorbar\":{\"outlinewidth\":0,\"ticks\":\"\"},\"colorscale\":[[0.0,\"#0d0887\"],[0.1111111111111111,\"#46039f\"],[0.2222222222222222,\"#7201a8\"],[0.3333333333333333,\"#9c179e\"],[0.4444444444444444,\"#bd3786\"],[0.5555555555555556,\"#d8576b\"],[0.6666666666666666,\"#ed7953\"],[0.7777777777777778,\"#fb9f3a\"],[0.8888888888888888,\"#fdca26\"],[1.0,\"#f0f921\"]]}],\"contourcarpet\":[{\"type\":\"contourcarpet\",\"colorbar\":{\"outlinewidth\":0,\"ticks\":\"\"}}],\"contour\":[{\"type\":\"contour\",\"colorbar\":{\"outlinewidth\":0,\"ticks\":\"\"},\"colorscale\":[[0.0,\"#0d0887\"],[0.1111111111111111,\"#46039f\"],[0.2222222222222222,\"#7201a8\"],[0.3333333333333333,\"#9c179e\"],[0.4444444444444444,\"#bd3786\"],[0.5555555555555556,\"#d8576b\"],[0.6666666666666666,\"#ed7953\"],[0.7777777777777778,\"#fb9f3a\"],[0.8888888888888888,\"#fdca26\"],[1.0,\"#f0f921\"]]}],\"surface\":[{\"type\":\"surface\",\"colorbar\":{\"outlinewidth\":0,\"ticks\":\"\"},\"colorscale\":[[0.0,\"#0d0887\"],[0.1111111111111111,\"#46039f\"],[0.2222222222222222,\"#7201a8\"],[0.3333333333333333,\"#9c179e\"],[0.4444444444444444,\"#bd3786\"],[0.5555555555555556,\"#d8576b\"],[0.6666666666666666,\"#ed7953\"],[0.7777777777777778,\"#fb9f3a\"],[0.8888888888888888,\"#fdca26\"],[1.0,\"#f0f921\"]]}],\"mesh3d\":[{\"type\":\"mesh3d\",\"colorbar\":{\"outlinewidth\":0,\"ticks\":\"\"}}],\"scatter\":[{\"fillpattern\":{\"fillmode\":\"overlay\",\"size\":10,\"solidity\":0.2},\"type\":\"scatter\"}],\"parcoords\":[{\"type\":\"parcoords\",\"line\":{\"colorbar\":{\"outlinewidth\":0,\"ticks\":\"\"}}}],\"scatterpolargl\":[{\"type\":\"scatterpolargl\",\"marker\":{\"colorbar\":{\"outlinewidth\":0,\"ticks\":\"\"}}}],\"bar\":[{\"error_x\":{\"color\":\"#2a3f5f\"},\"error_y\":{\"color\":\"#2a3f5f\"},\"marker\":{\"line\":{\"color\":\"#E5ECF6\",\"width\":0.5},\"pattern\":{\"fillmode\":\"overlay\",\"size\":10,\"solidity\":0.2}},\"type\":\"bar\"}],\"scattergeo\":[{\"type\":\"scattergeo\",\"marker\":{\"colorbar\":{\"outlinewidth\":0,\"ticks\":\"\"}}}],\"scatterpolar\":[{\"type\":\"scatterpolar\",\"marker\":{\"colorbar\":{\"outlinewidth\":0,\"ticks\":\"\"}}}],\"histogram\":[{\"marker\":{\"pattern\":{\"fillmode\":\"overlay\",\"size\":10,\"solidity\":0.2}},\"type\":\"histogram\"}],\"scattergl\":[{\"type\":\"scattergl\",\"marker\":{\"colorbar\":{\"outlinewidth\":0,\"ticks\":\"\"}}}],\"scatter3d\":[{\"type\":\"scatter3d\",\"line\":{\"colorbar\":{\"outlinewidth\":0,\"ticks\":\"\"}},\"marker\":{\"colorbar\":{\"outlinewidth\":0,\"ticks\":\"\"}}}],\"scattermapbox\":[{\"type\":\"scattermapbox\",\"marker\":{\"colorbar\":{\"outlinewidth\":0,\"ticks\":\"\"}}}],\"scatterternary\":[{\"type\":\"scatterternary\",\"marker\":{\"colorbar\":{\"outlinewidth\":0,\"ticks\":\"\"}}}],\"scattercarpet\":[{\"type\":\"scattercarpet\",\"marker\":{\"colorbar\":{\"outlinewidth\":0,\"ticks\":\"\"}}}],\"carpet\":[{\"aaxis\":{\"endlinecolor\":\"#2a3f5f\",\"gridcolor\":\"white\",\"linecolor\":\"white\",\"minorgridcolor\":\"white\",\"startlinecolor\":\"#2a3f5f\"},\"baxis\":{\"endlinecolor\":\"#2a3f5f\",\"gridcolor\":\"white\",\"linecolor\":\"white\",\"minorgridcolor\":\"white\",\"startlinecolor\":\"#2a3f5f\"},\"type\":\"carpet\"}],\"table\":[{\"cells\":{\"fill\":{\"color\":\"#EBF0F8\"},\"line\":{\"color\":\"white\"}},\"header\":{\"fill\":{\"color\":\"#C8D4E3\"},\"line\":{\"color\":\"white\"}},\"type\":\"table\"}],\"barpolar\":[{\"marker\":{\"line\":{\"color\":\"#E5ECF6\",\"width\":0.5},\"pattern\":{\"fillmode\":\"overlay\",\"size\":10,\"solidity\":0.2}},\"type\":\"barpolar\"}],\"pie\":[{\"automargin\":true,\"type\":\"pie\"}]},\"layout\":{\"autotypenumbers\":\"strict\",\"colorway\":[\"#636efa\",\"#EF553B\",\"#00cc96\",\"#ab63fa\",\"#FFA15A\",\"#19d3f3\",\"#FF6692\",\"#B6E880\",\"#FF97FF\",\"#FECB52\"],\"font\":{\"color\":\"#2a3f5f\"},\"hovermode\":\"closest\",\"hoverlabel\":{\"align\":\"left\"},\"paper_bgcolor\":\"white\",\"plot_bgcolor\":\"#E5ECF6\",\"polar\":{\"bgcolor\":\"#E5ECF6\",\"angularaxis\":{\"gridcolor\":\"white\",\"linecolor\":\"white\",\"ticks\":\"\"},\"radialaxis\":{\"gridcolor\":\"white\",\"linecolor\":\"white\",\"ticks\":\"\"}},\"ternary\":{\"bgcolor\":\"#E5ECF6\",\"aaxis\":{\"gridcolor\":\"white\",\"linecolor\":\"white\",\"ticks\":\"\"},\"baxis\":{\"gridcolor\":\"white\",\"linecolor\":\"white\",\"ticks\":\"\"},\"caxis\":{\"gridcolor\":\"white\",\"linecolor\":\"white\",\"ticks\":\"\"}},\"coloraxis\":{\"colorbar\":{\"outlinewidth\":0,\"ticks\":\"\"}},\"colorscale\":{\"sequential\":[[0.0,\"#0d0887\"],[0.1111111111111111,\"#46039f\"],[0.2222222222222222,\"#7201a8\"],[0.3333333333333333,\"#9c179e\"],[0.4444444444444444,\"#bd3786\"],[0.5555555555555556,\"#d8576b\"],[0.6666666666666666,\"#ed7953\"],[0.7777777777777778,\"#fb9f3a\"],[0.8888888888888888,\"#fdca26\"],[1.0,\"#f0f921\"]],\"sequentialminus\":[[0.0,\"#0d0887\"],[0.1111111111111111,\"#46039f\"],[0.2222222222222222,\"#7201a8\"],[0.3333333333333333,\"#9c179e\"],[0.4444444444444444,\"#bd3786\"],[0.5555555555555556,\"#d8576b\"],[0.6666666666666666,\"#ed7953\"],[0.7777777777777778,\"#fb9f3a\"],[0.8888888888888888,\"#fdca26\"],[1.0,\"#f0f921\"]],\"diverging\":[[0,\"#8e0152\"],[0.1,\"#c51b7d\"],[0.2,\"#de77ae\"],[0.3,\"#f1b6da\"],[0.4,\"#fde0ef\"],[0.5,\"#f7f7f7\"],[0.6,\"#e6f5d0\"],[0.7,\"#b8e186\"],[0.8,\"#7fbc41\"],[0.9,\"#4d9221\"],[1,\"#276419\"]]},\"xaxis\":{\"gridcolor\":\"white\",\"linecolor\":\"white\",\"ticks\":\"\",\"title\":{\"standoff\":15},\"zerolinecolor\":\"white\",\"automargin\":true,\"zerolinewidth\":2},\"yaxis\":{\"gridcolor\":\"white\",\"linecolor\":\"white\",\"ticks\":\"\",\"title\":{\"standoff\":15},\"zerolinecolor\":\"white\",\"automargin\":true,\"zerolinewidth\":2},\"scene\":{\"xaxis\":{\"backgroundcolor\":\"#E5ECF6\",\"gridcolor\":\"white\",\"linecolor\":\"white\",\"showbackground\":true,\"ticks\":\"\",\"zerolinecolor\":\"white\",\"gridwidth\":2},\"yaxis\":{\"backgroundcolor\":\"#E5ECF6\",\"gridcolor\":\"white\",\"linecolor\":\"white\",\"showbackground\":true,\"ticks\":\"\",\"zerolinecolor\":\"white\",\"gridwidth\":2},\"zaxis\":{\"backgroundcolor\":\"#E5ECF6\",\"gridcolor\":\"white\",\"linecolor\":\"white\",\"showbackground\":true,\"ticks\":\"\",\"zerolinecolor\":\"white\",\"gridwidth\":2}},\"shapedefaults\":{\"line\":{\"color\":\"#2a3f5f\"}},\"annotationdefaults\":{\"arrowcolor\":\"#2a3f5f\",\"arrowhead\":0,\"arrowwidth\":1},\"geo\":{\"bgcolor\":\"white\",\"landcolor\":\"#E5ECF6\",\"subunitcolor\":\"white\",\"showland\":true,\"showlakes\":true,\"lakecolor\":\"white\"},\"title\":{\"x\":0.05},\"mapbox\":{\"style\":\"light\"}}},\"font\":{\"family\":\"Arial\",\"color\":\"#22314E\",\"size\":16}},                        {\"responsive\": true}                    ).then(function(){\n",
       "                            \n",
       "var gd = document.getElementById('00391453-1b65-4371-9d69-644a4e42ce52');\n",
       "var x = new MutationObserver(function (mutations, observer) {{\n",
       "        var display = window.getComputedStyle(gd).display;\n",
       "        if (!display || display === 'none') {{\n",
       "            console.log([gd, 'removed!']);\n",
       "            Plotly.purge(gd);\n",
       "            observer.disconnect();\n",
       "        }}\n",
       "}});\n",
       "\n",
       "// Listen for the removal of the full notebook cells\n",
       "var notebookContainer = gd.closest('#notebook-container');\n",
       "if (notebookContainer) {{\n",
       "    x.observe(notebookContainer, {childList: true});\n",
       "}}\n",
       "\n",
       "// Listen for the clearing of the current output cell\n",
       "var outputEl = gd.closest('.output');\n",
       "if (outputEl) {{\n",
       "    x.observe(outputEl, {childList: true});\n",
       "}}\n",
       "\n",
       "                        })                };                });            </script>        </div>"
      ]
     },
     "metadata": {},
     "output_type": "display_data"
    }
   ],
   "source": [
    "# Generate side by side plots of distros\n",
    "temp = distro_df[distro_df[this_year]>=1].copy()\n",
    "new_names = [a[0].upper()+a[1:] for a in temp[\"name\"]]\n",
    "print(new_names)\n",
    "temp[\"name\"] = pd.Series(data=new_names,copy=False,index=temp[\"name\"].index)\n",
    "\n",
    "new_row = pd.DataFrame(data=[{\"name\":\"All Other Distros\",\"2023\":all_other_this,\"2022\":all_other_last},\n",
    "                             {\"name\":\"Python Pkgs\",\"2023\":everything_else_this,\"2022\":everything_else_last}])\n",
    "temp = pd.concat([temp, new_row], ignore_index=True)\n",
    "print(temp[\"name\"])\n",
    "print(temp)\n",
    "print(temp[last_year].sum())\n",
    "print(temp[this_year].sum())\n",
    "\n",
    "colors ={\"noetic\": 'rgba(255,0,0,0.4)',\n",
    "         \"melodic\": 'rgba(255,0,0,0.4)',\n",
    "         \"kinetic\": 'rgba(255,0,0,0.4)',\n",
    "         \"dashing\": 'rgba(255,0,0,0.4)',\n",
    "         \"eloquent\": 'rgba(255,0,0,0.4)',\n",
    "         \"foxy\": 'rgba(255,0,0,0.4)',         \n",
    "         \"galactic\": 'rgba(255,0,0,0.4)',\n",
    "         \"humble\": 'rgba(255,0,0,0.4)',\n",
    "         \"iron\": 'rgba(255,0,0,0.4)',\n",
    "         \"rolling\": 'rgba(255,0,0,0.4)',\n",
    "        }\n",
    "\n",
    "#title={\n",
    "#    'text': \"Plot Title\",\n",
    "#    'xanchor': 'center',\n",
    "#    'yanchor': 'top'}\n",
    "title ={\n",
    "    'text': \"Plot Title\",\n",
    "    'y':0.9,\n",
    "    'x':0.5,\n",
    "    'xanchor': 'center',\n",
    "    'yanchor': 'bottom'}\n",
    "\n",
    "trace1 = go.Pie(values= temp[last_year], labels = temp[\"name\"],domain=dict(x=[0, 0.5]),title=\"\",sort= False)\n",
    "trace2 = go.Pie(values= temp[this_year], labels = temp[\"name\"],domain=dict(x=[0.5,1.0]),title=\"\", sort=False)\n",
    "layout = go.Layout(title=\"Download Percentage from packages.ros.org October 2022 vs October 2023\")\n",
    "data = [trace1,trace2]\n",
    "fig = go.Figure(data=data, layout=layout)\n",
    "\n",
    "\n",
    "fig.update_layout(\n",
    "    font_family=\"Arial\",\n",
    "    font_color=\"#22314E\",\n",
    "    font_size=16,\n",
    "    title_font_size = 24,\n",
    "    title_font_family=\"Arial\",\n",
    "    title_font_color=\"#22314E\"\n",
    ")\n",
    "\n",
    "fig.update_traces(marker=dict(colors=['#FFAAAA','#FF6666','#CCCCFF','#9999FF',\n",
    "                                      '#6666FF','#3333FF','#fcdc3f',\"#7cc14b\",\"#EE00FF\",\"#FF00FF\"]))\n",
    "\n",
    "fig.show()\n"
   ]
  },
  {
   "cell_type": "code",
   "execution_count": 60,
   "metadata": {},
   "outputs": [
    {
     "data": {
      "application/vnd.plotly.v1+json": {
       "config": {
        "plotlyServerURL": "https://plot.ly"
       },
       "data": [
        {
         "labels": [
          "Melodic",
          "Noetic",
          "Foxy",
          "Galactic",
          "Humble",
          "Iron",
          "Jazzy",
          "Rolling",
          "All Other Distros",
          "Python Pkgs"
         ],
         "marker": {
          "colors": [
           "#FFAAAA",
           "#FF6666",
           "#CCCCFF",
           "#9999FF",
           "#6666FF",
           "#3333FF",
           "#fcdc3f",
           "#7cc14b",
           "#FF00FF",
           "#0000FF"
          ]
         },
         "sort": false,
         "title": {
          "text": ""
         },
         "type": "pie",
         "values": [
          7.75,
          34.45,
          7.03,
          2.75,
          28.32,
          4.24,
          0,
          4.12,
          0.73,
          10.450000000000003
         ]
        }
       ],
       "layout": {
        "font": {
         "color": "#22314E",
         "family": "Arial",
         "size": 16
        },
        "template": {
         "data": {
          "bar": [
           {
            "error_x": {
             "color": "#2a3f5f"
            },
            "error_y": {
             "color": "#2a3f5f"
            },
            "marker": {
             "line": {
              "color": "#E5ECF6",
              "width": 0.5
             },
             "pattern": {
              "fillmode": "overlay",
              "size": 10,
              "solidity": 0.2
             }
            },
            "type": "bar"
           }
          ],
          "barpolar": [
           {
            "marker": {
             "line": {
              "color": "#E5ECF6",
              "width": 0.5
             },
             "pattern": {
              "fillmode": "overlay",
              "size": 10,
              "solidity": 0.2
             }
            },
            "type": "barpolar"
           }
          ],
          "carpet": [
           {
            "aaxis": {
             "endlinecolor": "#2a3f5f",
             "gridcolor": "white",
             "linecolor": "white",
             "minorgridcolor": "white",
             "startlinecolor": "#2a3f5f"
            },
            "baxis": {
             "endlinecolor": "#2a3f5f",
             "gridcolor": "white",
             "linecolor": "white",
             "minorgridcolor": "white",
             "startlinecolor": "#2a3f5f"
            },
            "type": "carpet"
           }
          ],
          "choropleth": [
           {
            "colorbar": {
             "outlinewidth": 0,
             "ticks": ""
            },
            "type": "choropleth"
           }
          ],
          "contour": [
           {
            "colorbar": {
             "outlinewidth": 0,
             "ticks": ""
            },
            "colorscale": [
             [
              0,
              "#0d0887"
             ],
             [
              0.1111111111111111,
              "#46039f"
             ],
             [
              0.2222222222222222,
              "#7201a8"
             ],
             [
              0.3333333333333333,
              "#9c179e"
             ],
             [
              0.4444444444444444,
              "#bd3786"
             ],
             [
              0.5555555555555556,
              "#d8576b"
             ],
             [
              0.6666666666666666,
              "#ed7953"
             ],
             [
              0.7777777777777778,
              "#fb9f3a"
             ],
             [
              0.8888888888888888,
              "#fdca26"
             ],
             [
              1,
              "#f0f921"
             ]
            ],
            "type": "contour"
           }
          ],
          "contourcarpet": [
           {
            "colorbar": {
             "outlinewidth": 0,
             "ticks": ""
            },
            "type": "contourcarpet"
           }
          ],
          "heatmap": [
           {
            "colorbar": {
             "outlinewidth": 0,
             "ticks": ""
            },
            "colorscale": [
             [
              0,
              "#0d0887"
             ],
             [
              0.1111111111111111,
              "#46039f"
             ],
             [
              0.2222222222222222,
              "#7201a8"
             ],
             [
              0.3333333333333333,
              "#9c179e"
             ],
             [
              0.4444444444444444,
              "#bd3786"
             ],
             [
              0.5555555555555556,
              "#d8576b"
             ],
             [
              0.6666666666666666,
              "#ed7953"
             ],
             [
              0.7777777777777778,
              "#fb9f3a"
             ],
             [
              0.8888888888888888,
              "#fdca26"
             ],
             [
              1,
              "#f0f921"
             ]
            ],
            "type": "heatmap"
           }
          ],
          "heatmapgl": [
           {
            "colorbar": {
             "outlinewidth": 0,
             "ticks": ""
            },
            "colorscale": [
             [
              0,
              "#0d0887"
             ],
             [
              0.1111111111111111,
              "#46039f"
             ],
             [
              0.2222222222222222,
              "#7201a8"
             ],
             [
              0.3333333333333333,
              "#9c179e"
             ],
             [
              0.4444444444444444,
              "#bd3786"
             ],
             [
              0.5555555555555556,
              "#d8576b"
             ],
             [
              0.6666666666666666,
              "#ed7953"
             ],
             [
              0.7777777777777778,
              "#fb9f3a"
             ],
             [
              0.8888888888888888,
              "#fdca26"
             ],
             [
              1,
              "#f0f921"
             ]
            ],
            "type": "heatmapgl"
           }
          ],
          "histogram": [
           {
            "marker": {
             "pattern": {
              "fillmode": "overlay",
              "size": 10,
              "solidity": 0.2
             }
            },
            "type": "histogram"
           }
          ],
          "histogram2d": [
           {
            "colorbar": {
             "outlinewidth": 0,
             "ticks": ""
            },
            "colorscale": [
             [
              0,
              "#0d0887"
             ],
             [
              0.1111111111111111,
              "#46039f"
             ],
             [
              0.2222222222222222,
              "#7201a8"
             ],
             [
              0.3333333333333333,
              "#9c179e"
             ],
             [
              0.4444444444444444,
              "#bd3786"
             ],
             [
              0.5555555555555556,
              "#d8576b"
             ],
             [
              0.6666666666666666,
              "#ed7953"
             ],
             [
              0.7777777777777778,
              "#fb9f3a"
             ],
             [
              0.8888888888888888,
              "#fdca26"
             ],
             [
              1,
              "#f0f921"
             ]
            ],
            "type": "histogram2d"
           }
          ],
          "histogram2dcontour": [
           {
            "colorbar": {
             "outlinewidth": 0,
             "ticks": ""
            },
            "colorscale": [
             [
              0,
              "#0d0887"
             ],
             [
              0.1111111111111111,
              "#46039f"
             ],
             [
              0.2222222222222222,
              "#7201a8"
             ],
             [
              0.3333333333333333,
              "#9c179e"
             ],
             [
              0.4444444444444444,
              "#bd3786"
             ],
             [
              0.5555555555555556,
              "#d8576b"
             ],
             [
              0.6666666666666666,
              "#ed7953"
             ],
             [
              0.7777777777777778,
              "#fb9f3a"
             ],
             [
              0.8888888888888888,
              "#fdca26"
             ],
             [
              1,
              "#f0f921"
             ]
            ],
            "type": "histogram2dcontour"
           }
          ],
          "mesh3d": [
           {
            "colorbar": {
             "outlinewidth": 0,
             "ticks": ""
            },
            "type": "mesh3d"
           }
          ],
          "parcoords": [
           {
            "line": {
             "colorbar": {
              "outlinewidth": 0,
              "ticks": ""
             }
            },
            "type": "parcoords"
           }
          ],
          "pie": [
           {
            "automargin": true,
            "type": "pie"
           }
          ],
          "scatter": [
           {
            "fillpattern": {
             "fillmode": "overlay",
             "size": 10,
             "solidity": 0.2
            },
            "type": "scatter"
           }
          ],
          "scatter3d": [
           {
            "line": {
             "colorbar": {
              "outlinewidth": 0,
              "ticks": ""
             }
            },
            "marker": {
             "colorbar": {
              "outlinewidth": 0,
              "ticks": ""
             }
            },
            "type": "scatter3d"
           }
          ],
          "scattercarpet": [
           {
            "marker": {
             "colorbar": {
              "outlinewidth": 0,
              "ticks": ""
             }
            },
            "type": "scattercarpet"
           }
          ],
          "scattergeo": [
           {
            "marker": {
             "colorbar": {
              "outlinewidth": 0,
              "ticks": ""
             }
            },
            "type": "scattergeo"
           }
          ],
          "scattergl": [
           {
            "marker": {
             "colorbar": {
              "outlinewidth": 0,
              "ticks": ""
             }
            },
            "type": "scattergl"
           }
          ],
          "scattermapbox": [
           {
            "marker": {
             "colorbar": {
              "outlinewidth": 0,
              "ticks": ""
             }
            },
            "type": "scattermapbox"
           }
          ],
          "scatterpolar": [
           {
            "marker": {
             "colorbar": {
              "outlinewidth": 0,
              "ticks": ""
             }
            },
            "type": "scatterpolar"
           }
          ],
          "scatterpolargl": [
           {
            "marker": {
             "colorbar": {
              "outlinewidth": 0,
              "ticks": ""
             }
            },
            "type": "scatterpolargl"
           }
          ],
          "scatterternary": [
           {
            "marker": {
             "colorbar": {
              "outlinewidth": 0,
              "ticks": ""
             }
            },
            "type": "scatterternary"
           }
          ],
          "surface": [
           {
            "colorbar": {
             "outlinewidth": 0,
             "ticks": ""
            },
            "colorscale": [
             [
              0,
              "#0d0887"
             ],
             [
              0.1111111111111111,
              "#46039f"
             ],
             [
              0.2222222222222222,
              "#7201a8"
             ],
             [
              0.3333333333333333,
              "#9c179e"
             ],
             [
              0.4444444444444444,
              "#bd3786"
             ],
             [
              0.5555555555555556,
              "#d8576b"
             ],
             [
              0.6666666666666666,
              "#ed7953"
             ],
             [
              0.7777777777777778,
              "#fb9f3a"
             ],
             [
              0.8888888888888888,
              "#fdca26"
             ],
             [
              1,
              "#f0f921"
             ]
            ],
            "type": "surface"
           }
          ],
          "table": [
           {
            "cells": {
             "fill": {
              "color": "#EBF0F8"
             },
             "line": {
              "color": "white"
             }
            },
            "header": {
             "fill": {
              "color": "#C8D4E3"
             },
             "line": {
              "color": "white"
             }
            },
            "type": "table"
           }
          ]
         },
         "layout": {
          "annotationdefaults": {
           "arrowcolor": "#2a3f5f",
           "arrowhead": 0,
           "arrowwidth": 1
          },
          "autotypenumbers": "strict",
          "coloraxis": {
           "colorbar": {
            "outlinewidth": 0,
            "ticks": ""
           }
          },
          "colorscale": {
           "diverging": [
            [
             0,
             "#8e0152"
            ],
            [
             0.1,
             "#c51b7d"
            ],
            [
             0.2,
             "#de77ae"
            ],
            [
             0.3,
             "#f1b6da"
            ],
            [
             0.4,
             "#fde0ef"
            ],
            [
             0.5,
             "#f7f7f7"
            ],
            [
             0.6,
             "#e6f5d0"
            ],
            [
             0.7,
             "#b8e186"
            ],
            [
             0.8,
             "#7fbc41"
            ],
            [
             0.9,
             "#4d9221"
            ],
            [
             1,
             "#276419"
            ]
           ],
           "sequential": [
            [
             0,
             "#0d0887"
            ],
            [
             0.1111111111111111,
             "#46039f"
            ],
            [
             0.2222222222222222,
             "#7201a8"
            ],
            [
             0.3333333333333333,
             "#9c179e"
            ],
            [
             0.4444444444444444,
             "#bd3786"
            ],
            [
             0.5555555555555556,
             "#d8576b"
            ],
            [
             0.6666666666666666,
             "#ed7953"
            ],
            [
             0.7777777777777778,
             "#fb9f3a"
            ],
            [
             0.8888888888888888,
             "#fdca26"
            ],
            [
             1,
             "#f0f921"
            ]
           ],
           "sequentialminus": [
            [
             0,
             "#0d0887"
            ],
            [
             0.1111111111111111,
             "#46039f"
            ],
            [
             0.2222222222222222,
             "#7201a8"
            ],
            [
             0.3333333333333333,
             "#9c179e"
            ],
            [
             0.4444444444444444,
             "#bd3786"
            ],
            [
             0.5555555555555556,
             "#d8576b"
            ],
            [
             0.6666666666666666,
             "#ed7953"
            ],
            [
             0.7777777777777778,
             "#fb9f3a"
            ],
            [
             0.8888888888888888,
             "#fdca26"
            ],
            [
             1,
             "#f0f921"
            ]
           ]
          },
          "colorway": [
           "#636efa",
           "#EF553B",
           "#00cc96",
           "#ab63fa",
           "#FFA15A",
           "#19d3f3",
           "#FF6692",
           "#B6E880",
           "#FF97FF",
           "#FECB52"
          ],
          "font": {
           "color": "#2a3f5f"
          },
          "geo": {
           "bgcolor": "white",
           "lakecolor": "white",
           "landcolor": "#E5ECF6",
           "showlakes": true,
           "showland": true,
           "subunitcolor": "white"
          },
          "hoverlabel": {
           "align": "left"
          },
          "hovermode": "closest",
          "mapbox": {
           "style": "light"
          },
          "paper_bgcolor": "white",
          "plot_bgcolor": "#E5ECF6",
          "polar": {
           "angularaxis": {
            "gridcolor": "white",
            "linecolor": "white",
            "ticks": ""
           },
           "bgcolor": "#E5ECF6",
           "radialaxis": {
            "gridcolor": "white",
            "linecolor": "white",
            "ticks": ""
           }
          },
          "scene": {
           "xaxis": {
            "backgroundcolor": "#E5ECF6",
            "gridcolor": "white",
            "gridwidth": 2,
            "linecolor": "white",
            "showbackground": true,
            "ticks": "",
            "zerolinecolor": "white"
           },
           "yaxis": {
            "backgroundcolor": "#E5ECF6",
            "gridcolor": "white",
            "gridwidth": 2,
            "linecolor": "white",
            "showbackground": true,
            "ticks": "",
            "zerolinecolor": "white"
           },
           "zaxis": {
            "backgroundcolor": "#E5ECF6",
            "gridcolor": "white",
            "gridwidth": 2,
            "linecolor": "white",
            "showbackground": true,
            "ticks": "",
            "zerolinecolor": "white"
           }
          },
          "shapedefaults": {
           "line": {
            "color": "#2a3f5f"
           }
          },
          "ternary": {
           "aaxis": {
            "gridcolor": "white",
            "linecolor": "white",
            "ticks": ""
           },
           "baxis": {
            "gridcolor": "white",
            "linecolor": "white",
            "ticks": ""
           },
           "bgcolor": "#E5ECF6",
           "caxis": {
            "gridcolor": "white",
            "linecolor": "white",
            "ticks": ""
           }
          },
          "title": {
           "x": 0.05
          },
          "xaxis": {
           "automargin": true,
           "gridcolor": "white",
           "linecolor": "white",
           "ticks": "",
           "title": {
            "standoff": 15
           },
           "zerolinecolor": "white",
           "zerolinewidth": 2
          },
          "yaxis": {
           "automargin": true,
           "gridcolor": "white",
           "linecolor": "white",
           "ticks": "",
           "title": {
            "standoff": 15
           },
           "zerolinecolor": "white",
           "zerolinewidth": 2
          }
         }
        },
        "title": {
         "font": {
          "color": "#22314E",
          "family": "Arial",
          "size": 24
         },
         "text": "ROS Package Distro Percentages August 2023"
        }
       }
      },
      "text/html": [
       "<div>                            <div id=\"ced3b80b-d788-4a07-8032-d2560e165844\" class=\"plotly-graph-div\" style=\"height:525px; width:100%;\"></div>            <script type=\"text/javascript\">                require([\"plotly\"], function(Plotly) {                    window.PLOTLYENV=window.PLOTLYENV || {};                                    if (document.getElementById(\"ced3b80b-d788-4a07-8032-d2560e165844\")) {                    Plotly.newPlot(                        \"ced3b80b-d788-4a07-8032-d2560e165844\",                        [{\"labels\":[\"Melodic\",\"Noetic\",\"Foxy\",\"Galactic\",\"Humble\",\"Iron\",\"Jazzy\",\"Rolling\",\"All Other Distros\",\"Python Pkgs\"],\"sort\":false,\"title\":{\"text\":\"\"},\"values\":[7.75,34.45,7.03,2.75,28.32,4.24,0.0,4.12,0.73,10.450000000000003],\"type\":\"pie\",\"marker\":{\"colors\":[\"#FFAAAA\",\"#FF6666\",\"#CCCCFF\",\"#9999FF\",\"#6666FF\",\"#3333FF\",\"#fcdc3f\",\"#7cc14b\",\"#FF00FF\",\"#0000FF\"]}}],                        {\"title\":{\"text\":\"ROS Package Distro Percentages August 2023\",\"font\":{\"size\":24,\"family\":\"Arial\",\"color\":\"#22314E\"}},\"template\":{\"data\":{\"histogram2dcontour\":[{\"type\":\"histogram2dcontour\",\"colorbar\":{\"outlinewidth\":0,\"ticks\":\"\"},\"colorscale\":[[0.0,\"#0d0887\"],[0.1111111111111111,\"#46039f\"],[0.2222222222222222,\"#7201a8\"],[0.3333333333333333,\"#9c179e\"],[0.4444444444444444,\"#bd3786\"],[0.5555555555555556,\"#d8576b\"],[0.6666666666666666,\"#ed7953\"],[0.7777777777777778,\"#fb9f3a\"],[0.8888888888888888,\"#fdca26\"],[1.0,\"#f0f921\"]]}],\"choropleth\":[{\"type\":\"choropleth\",\"colorbar\":{\"outlinewidth\":0,\"ticks\":\"\"}}],\"histogram2d\":[{\"type\":\"histogram2d\",\"colorbar\":{\"outlinewidth\":0,\"ticks\":\"\"},\"colorscale\":[[0.0,\"#0d0887\"],[0.1111111111111111,\"#46039f\"],[0.2222222222222222,\"#7201a8\"],[0.3333333333333333,\"#9c179e\"],[0.4444444444444444,\"#bd3786\"],[0.5555555555555556,\"#d8576b\"],[0.6666666666666666,\"#ed7953\"],[0.7777777777777778,\"#fb9f3a\"],[0.8888888888888888,\"#fdca26\"],[1.0,\"#f0f921\"]]}],\"heatmap\":[{\"type\":\"heatmap\",\"colorbar\":{\"outlinewidth\":0,\"ticks\":\"\"},\"colorscale\":[[0.0,\"#0d0887\"],[0.1111111111111111,\"#46039f\"],[0.2222222222222222,\"#7201a8\"],[0.3333333333333333,\"#9c179e\"],[0.4444444444444444,\"#bd3786\"],[0.5555555555555556,\"#d8576b\"],[0.6666666666666666,\"#ed7953\"],[0.7777777777777778,\"#fb9f3a\"],[0.8888888888888888,\"#fdca26\"],[1.0,\"#f0f921\"]]}],\"heatmapgl\":[{\"type\":\"heatmapgl\",\"colorbar\":{\"outlinewidth\":0,\"ticks\":\"\"},\"colorscale\":[[0.0,\"#0d0887\"],[0.1111111111111111,\"#46039f\"],[0.2222222222222222,\"#7201a8\"],[0.3333333333333333,\"#9c179e\"],[0.4444444444444444,\"#bd3786\"],[0.5555555555555556,\"#d8576b\"],[0.6666666666666666,\"#ed7953\"],[0.7777777777777778,\"#fb9f3a\"],[0.8888888888888888,\"#fdca26\"],[1.0,\"#f0f921\"]]}],\"contourcarpet\":[{\"type\":\"contourcarpet\",\"colorbar\":{\"outlinewidth\":0,\"ticks\":\"\"}}],\"contour\":[{\"type\":\"contour\",\"colorbar\":{\"outlinewidth\":0,\"ticks\":\"\"},\"colorscale\":[[0.0,\"#0d0887\"],[0.1111111111111111,\"#46039f\"],[0.2222222222222222,\"#7201a8\"],[0.3333333333333333,\"#9c179e\"],[0.4444444444444444,\"#bd3786\"],[0.5555555555555556,\"#d8576b\"],[0.6666666666666666,\"#ed7953\"],[0.7777777777777778,\"#fb9f3a\"],[0.8888888888888888,\"#fdca26\"],[1.0,\"#f0f921\"]]}],\"surface\":[{\"type\":\"surface\",\"colorbar\":{\"outlinewidth\":0,\"ticks\":\"\"},\"colorscale\":[[0.0,\"#0d0887\"],[0.1111111111111111,\"#46039f\"],[0.2222222222222222,\"#7201a8\"],[0.3333333333333333,\"#9c179e\"],[0.4444444444444444,\"#bd3786\"],[0.5555555555555556,\"#d8576b\"],[0.6666666666666666,\"#ed7953\"],[0.7777777777777778,\"#fb9f3a\"],[0.8888888888888888,\"#fdca26\"],[1.0,\"#f0f921\"]]}],\"mesh3d\":[{\"type\":\"mesh3d\",\"colorbar\":{\"outlinewidth\":0,\"ticks\":\"\"}}],\"scatter\":[{\"fillpattern\":{\"fillmode\":\"overlay\",\"size\":10,\"solidity\":0.2},\"type\":\"scatter\"}],\"parcoords\":[{\"type\":\"parcoords\",\"line\":{\"colorbar\":{\"outlinewidth\":0,\"ticks\":\"\"}}}],\"scatterpolargl\":[{\"type\":\"scatterpolargl\",\"marker\":{\"colorbar\":{\"outlinewidth\":0,\"ticks\":\"\"}}}],\"bar\":[{\"error_x\":{\"color\":\"#2a3f5f\"},\"error_y\":{\"color\":\"#2a3f5f\"},\"marker\":{\"line\":{\"color\":\"#E5ECF6\",\"width\":0.5},\"pattern\":{\"fillmode\":\"overlay\",\"size\":10,\"solidity\":0.2}},\"type\":\"bar\"}],\"scattergeo\":[{\"type\":\"scattergeo\",\"marker\":{\"colorbar\":{\"outlinewidth\":0,\"ticks\":\"\"}}}],\"scatterpolar\":[{\"type\":\"scatterpolar\",\"marker\":{\"colorbar\":{\"outlinewidth\":0,\"ticks\":\"\"}}}],\"histogram\":[{\"marker\":{\"pattern\":{\"fillmode\":\"overlay\",\"size\":10,\"solidity\":0.2}},\"type\":\"histogram\"}],\"scattergl\":[{\"type\":\"scattergl\",\"marker\":{\"colorbar\":{\"outlinewidth\":0,\"ticks\":\"\"}}}],\"scatter3d\":[{\"type\":\"scatter3d\",\"line\":{\"colorbar\":{\"outlinewidth\":0,\"ticks\":\"\"}},\"marker\":{\"colorbar\":{\"outlinewidth\":0,\"ticks\":\"\"}}}],\"scattermapbox\":[{\"type\":\"scattermapbox\",\"marker\":{\"colorbar\":{\"outlinewidth\":0,\"ticks\":\"\"}}}],\"scatterternary\":[{\"type\":\"scatterternary\",\"marker\":{\"colorbar\":{\"outlinewidth\":0,\"ticks\":\"\"}}}],\"scattercarpet\":[{\"type\":\"scattercarpet\",\"marker\":{\"colorbar\":{\"outlinewidth\":0,\"ticks\":\"\"}}}],\"carpet\":[{\"aaxis\":{\"endlinecolor\":\"#2a3f5f\",\"gridcolor\":\"white\",\"linecolor\":\"white\",\"minorgridcolor\":\"white\",\"startlinecolor\":\"#2a3f5f\"},\"baxis\":{\"endlinecolor\":\"#2a3f5f\",\"gridcolor\":\"white\",\"linecolor\":\"white\",\"minorgridcolor\":\"white\",\"startlinecolor\":\"#2a3f5f\"},\"type\":\"carpet\"}],\"table\":[{\"cells\":{\"fill\":{\"color\":\"#EBF0F8\"},\"line\":{\"color\":\"white\"}},\"header\":{\"fill\":{\"color\":\"#C8D4E3\"},\"line\":{\"color\":\"white\"}},\"type\":\"table\"}],\"barpolar\":[{\"marker\":{\"line\":{\"color\":\"#E5ECF6\",\"width\":0.5},\"pattern\":{\"fillmode\":\"overlay\",\"size\":10,\"solidity\":0.2}},\"type\":\"barpolar\"}],\"pie\":[{\"automargin\":true,\"type\":\"pie\"}]},\"layout\":{\"autotypenumbers\":\"strict\",\"colorway\":[\"#636efa\",\"#EF553B\",\"#00cc96\",\"#ab63fa\",\"#FFA15A\",\"#19d3f3\",\"#FF6692\",\"#B6E880\",\"#FF97FF\",\"#FECB52\"],\"font\":{\"color\":\"#2a3f5f\"},\"hovermode\":\"closest\",\"hoverlabel\":{\"align\":\"left\"},\"paper_bgcolor\":\"white\",\"plot_bgcolor\":\"#E5ECF6\",\"polar\":{\"bgcolor\":\"#E5ECF6\",\"angularaxis\":{\"gridcolor\":\"white\",\"linecolor\":\"white\",\"ticks\":\"\"},\"radialaxis\":{\"gridcolor\":\"white\",\"linecolor\":\"white\",\"ticks\":\"\"}},\"ternary\":{\"bgcolor\":\"#E5ECF6\",\"aaxis\":{\"gridcolor\":\"white\",\"linecolor\":\"white\",\"ticks\":\"\"},\"baxis\":{\"gridcolor\":\"white\",\"linecolor\":\"white\",\"ticks\":\"\"},\"caxis\":{\"gridcolor\":\"white\",\"linecolor\":\"white\",\"ticks\":\"\"}},\"coloraxis\":{\"colorbar\":{\"outlinewidth\":0,\"ticks\":\"\"}},\"colorscale\":{\"sequential\":[[0.0,\"#0d0887\"],[0.1111111111111111,\"#46039f\"],[0.2222222222222222,\"#7201a8\"],[0.3333333333333333,\"#9c179e\"],[0.4444444444444444,\"#bd3786\"],[0.5555555555555556,\"#d8576b\"],[0.6666666666666666,\"#ed7953\"],[0.7777777777777778,\"#fb9f3a\"],[0.8888888888888888,\"#fdca26\"],[1.0,\"#f0f921\"]],\"sequentialminus\":[[0.0,\"#0d0887\"],[0.1111111111111111,\"#46039f\"],[0.2222222222222222,\"#7201a8\"],[0.3333333333333333,\"#9c179e\"],[0.4444444444444444,\"#bd3786\"],[0.5555555555555556,\"#d8576b\"],[0.6666666666666666,\"#ed7953\"],[0.7777777777777778,\"#fb9f3a\"],[0.8888888888888888,\"#fdca26\"],[1.0,\"#f0f921\"]],\"diverging\":[[0,\"#8e0152\"],[0.1,\"#c51b7d\"],[0.2,\"#de77ae\"],[0.3,\"#f1b6da\"],[0.4,\"#fde0ef\"],[0.5,\"#f7f7f7\"],[0.6,\"#e6f5d0\"],[0.7,\"#b8e186\"],[0.8,\"#7fbc41\"],[0.9,\"#4d9221\"],[1,\"#276419\"]]},\"xaxis\":{\"gridcolor\":\"white\",\"linecolor\":\"white\",\"ticks\":\"\",\"title\":{\"standoff\":15},\"zerolinecolor\":\"white\",\"automargin\":true,\"zerolinewidth\":2},\"yaxis\":{\"gridcolor\":\"white\",\"linecolor\":\"white\",\"ticks\":\"\",\"title\":{\"standoff\":15},\"zerolinecolor\":\"white\",\"automargin\":true,\"zerolinewidth\":2},\"scene\":{\"xaxis\":{\"backgroundcolor\":\"#E5ECF6\",\"gridcolor\":\"white\",\"linecolor\":\"white\",\"showbackground\":true,\"ticks\":\"\",\"zerolinecolor\":\"white\",\"gridwidth\":2},\"yaxis\":{\"backgroundcolor\":\"#E5ECF6\",\"gridcolor\":\"white\",\"linecolor\":\"white\",\"showbackground\":true,\"ticks\":\"\",\"zerolinecolor\":\"white\",\"gridwidth\":2},\"zaxis\":{\"backgroundcolor\":\"#E5ECF6\",\"gridcolor\":\"white\",\"linecolor\":\"white\",\"showbackground\":true,\"ticks\":\"\",\"zerolinecolor\":\"white\",\"gridwidth\":2}},\"shapedefaults\":{\"line\":{\"color\":\"#2a3f5f\"}},\"annotationdefaults\":{\"arrowcolor\":\"#2a3f5f\",\"arrowhead\":0,\"arrowwidth\":1},\"geo\":{\"bgcolor\":\"white\",\"landcolor\":\"#E5ECF6\",\"subunitcolor\":\"white\",\"showland\":true,\"showlakes\":true,\"lakecolor\":\"white\"},\"title\":{\"x\":0.05},\"mapbox\":{\"style\":\"light\"}}},\"font\":{\"family\":\"Arial\",\"color\":\"#22314E\",\"size\":16}},                        {\"responsive\": true}                    ).then(function(){\n",
       "                            \n",
       "var gd = document.getElementById('ced3b80b-d788-4a07-8032-d2560e165844');\n",
       "var x = new MutationObserver(function (mutations, observer) {{\n",
       "        var display = window.getComputedStyle(gd).display;\n",
       "        if (!display || display === 'none') {{\n",
       "            console.log([gd, 'removed!']);\n",
       "            Plotly.purge(gd);\n",
       "            observer.disconnect();\n",
       "        }}\n",
       "}});\n",
       "\n",
       "// Listen for the removal of the full notebook cells\n",
       "var notebookContainer = gd.closest('#notebook-container');\n",
       "if (notebookContainer) {{\n",
       "    x.observe(notebookContainer, {childList: true});\n",
       "}}\n",
       "\n",
       "// Listen for the clearing of the current output cell\n",
       "var outputEl = gd.closest('.output');\n",
       "if (outputEl) {{\n",
       "    x.observe(outputEl, {childList: true});\n",
       "}}\n",
       "\n",
       "                        })                };                });            </script>        </div>"
      ]
     },
     "metadata": {},
     "output_type": "display_data"
    }
   ],
   "source": [
    "trace1 = go.Pie(values= temp[last_year], labels = temp[\"name\"],title=\"\",sort= False)\n",
    "layout = go.Layout(title=\"ROS Package Distro Percentages {0} {1}\".format(last_month,last_year))\n",
    "fig = go.Figure(data=trace1, layout=layout)\n",
    "\n",
    "\n",
    "fig.update_layout(\n",
    "    font_family=\"Arial\",\n",
    "    font_color=\"#22314E\",\n",
    "    font_size=16,\n",
    "    title_font_size = 24,\n",
    "    title_font_family=\"Arial\",\n",
    "    title_font_color=\"#22314E\"\n",
    ")\n",
    "\n",
    "fig.update_traces(marker=dict(colors=['#FFAAAA','#FF6666','#CCCCFF','#9999FF',\n",
    "                                      '#6666FF','#3333FF','#fcdc3f',\"#7cc14b\",\"#FF00FF\",\"#0000FF\"]))\n",
    "\n",
    "fig.show()\n"
   ]
  },
  {
   "cell_type": "code",
   "execution_count": 64,
   "metadata": {},
   "outputs": [
    {
     "data": {
      "application/vnd.plotly.v1+json": {
       "config": {
        "plotlyServerURL": "https://plot.ly"
       },
       "data": [
        {
         "labels": [
          "Melodic",
          "Noetic",
          "Foxy",
          "Galactic",
          "Humble",
          "Iron",
          "Jazzy",
          "Rolling",
          "All Other Distros",
          "Python Pkgs"
         ],
         "marker": {
          "colors": [
           "#292f56",
           "#412f4c",
           "#592f43",
           "#702f39",
           "#882f30",
           "#a02e26",
           "#b82e1d",
           "#cf2e13",
           "#e72e0a",
           "#ff2e00"
          ]
         },
         "sort": false,
         "title": {
          "text": ""
         },
         "type": "pie",
         "values": [
          2.37,
          16.75,
          3.71,
          1.18,
          48.35,
          5.58,
          6.07,
          4.81,
          null,
          null
         ]
        }
       ],
       "layout": {
        "font": {
         "color": "#22314E",
         "family": "Arial",
         "size": 16
        },
        "template": {
         "data": {
          "bar": [
           {
            "error_x": {
             "color": "#2a3f5f"
            },
            "error_y": {
             "color": "#2a3f5f"
            },
            "marker": {
             "line": {
              "color": "#E5ECF6",
              "width": 0.5
             },
             "pattern": {
              "fillmode": "overlay",
              "size": 10,
              "solidity": 0.2
             }
            },
            "type": "bar"
           }
          ],
          "barpolar": [
           {
            "marker": {
             "line": {
              "color": "#E5ECF6",
              "width": 0.5
             },
             "pattern": {
              "fillmode": "overlay",
              "size": 10,
              "solidity": 0.2
             }
            },
            "type": "barpolar"
           }
          ],
          "carpet": [
           {
            "aaxis": {
             "endlinecolor": "#2a3f5f",
             "gridcolor": "white",
             "linecolor": "white",
             "minorgridcolor": "white",
             "startlinecolor": "#2a3f5f"
            },
            "baxis": {
             "endlinecolor": "#2a3f5f",
             "gridcolor": "white",
             "linecolor": "white",
             "minorgridcolor": "white",
             "startlinecolor": "#2a3f5f"
            },
            "type": "carpet"
           }
          ],
          "choropleth": [
           {
            "colorbar": {
             "outlinewidth": 0,
             "ticks": ""
            },
            "type": "choropleth"
           }
          ],
          "contour": [
           {
            "colorbar": {
             "outlinewidth": 0,
             "ticks": ""
            },
            "colorscale": [
             [
              0,
              "#0d0887"
             ],
             [
              0.1111111111111111,
              "#46039f"
             ],
             [
              0.2222222222222222,
              "#7201a8"
             ],
             [
              0.3333333333333333,
              "#9c179e"
             ],
             [
              0.4444444444444444,
              "#bd3786"
             ],
             [
              0.5555555555555556,
              "#d8576b"
             ],
             [
              0.6666666666666666,
              "#ed7953"
             ],
             [
              0.7777777777777778,
              "#fb9f3a"
             ],
             [
              0.8888888888888888,
              "#fdca26"
             ],
             [
              1,
              "#f0f921"
             ]
            ],
            "type": "contour"
           }
          ],
          "contourcarpet": [
           {
            "colorbar": {
             "outlinewidth": 0,
             "ticks": ""
            },
            "type": "contourcarpet"
           }
          ],
          "heatmap": [
           {
            "colorbar": {
             "outlinewidth": 0,
             "ticks": ""
            },
            "colorscale": [
             [
              0,
              "#0d0887"
             ],
             [
              0.1111111111111111,
              "#46039f"
             ],
             [
              0.2222222222222222,
              "#7201a8"
             ],
             [
              0.3333333333333333,
              "#9c179e"
             ],
             [
              0.4444444444444444,
              "#bd3786"
             ],
             [
              0.5555555555555556,
              "#d8576b"
             ],
             [
              0.6666666666666666,
              "#ed7953"
             ],
             [
              0.7777777777777778,
              "#fb9f3a"
             ],
             [
              0.8888888888888888,
              "#fdca26"
             ],
             [
              1,
              "#f0f921"
             ]
            ],
            "type": "heatmap"
           }
          ],
          "heatmapgl": [
           {
            "colorbar": {
             "outlinewidth": 0,
             "ticks": ""
            },
            "colorscale": [
             [
              0,
              "#0d0887"
             ],
             [
              0.1111111111111111,
              "#46039f"
             ],
             [
              0.2222222222222222,
              "#7201a8"
             ],
             [
              0.3333333333333333,
              "#9c179e"
             ],
             [
              0.4444444444444444,
              "#bd3786"
             ],
             [
              0.5555555555555556,
              "#d8576b"
             ],
             [
              0.6666666666666666,
              "#ed7953"
             ],
             [
              0.7777777777777778,
              "#fb9f3a"
             ],
             [
              0.8888888888888888,
              "#fdca26"
             ],
             [
              1,
              "#f0f921"
             ]
            ],
            "type": "heatmapgl"
           }
          ],
          "histogram": [
           {
            "marker": {
             "pattern": {
              "fillmode": "overlay",
              "size": 10,
              "solidity": 0.2
             }
            },
            "type": "histogram"
           }
          ],
          "histogram2d": [
           {
            "colorbar": {
             "outlinewidth": 0,
             "ticks": ""
            },
            "colorscale": [
             [
              0,
              "#0d0887"
             ],
             [
              0.1111111111111111,
              "#46039f"
             ],
             [
              0.2222222222222222,
              "#7201a8"
             ],
             [
              0.3333333333333333,
              "#9c179e"
             ],
             [
              0.4444444444444444,
              "#bd3786"
             ],
             [
              0.5555555555555556,
              "#d8576b"
             ],
             [
              0.6666666666666666,
              "#ed7953"
             ],
             [
              0.7777777777777778,
              "#fb9f3a"
             ],
             [
              0.8888888888888888,
              "#fdca26"
             ],
             [
              1,
              "#f0f921"
             ]
            ],
            "type": "histogram2d"
           }
          ],
          "histogram2dcontour": [
           {
            "colorbar": {
             "outlinewidth": 0,
             "ticks": ""
            },
            "colorscale": [
             [
              0,
              "#0d0887"
             ],
             [
              0.1111111111111111,
              "#46039f"
             ],
             [
              0.2222222222222222,
              "#7201a8"
             ],
             [
              0.3333333333333333,
              "#9c179e"
             ],
             [
              0.4444444444444444,
              "#bd3786"
             ],
             [
              0.5555555555555556,
              "#d8576b"
             ],
             [
              0.6666666666666666,
              "#ed7953"
             ],
             [
              0.7777777777777778,
              "#fb9f3a"
             ],
             [
              0.8888888888888888,
              "#fdca26"
             ],
             [
              1,
              "#f0f921"
             ]
            ],
            "type": "histogram2dcontour"
           }
          ],
          "mesh3d": [
           {
            "colorbar": {
             "outlinewidth": 0,
             "ticks": ""
            },
            "type": "mesh3d"
           }
          ],
          "parcoords": [
           {
            "line": {
             "colorbar": {
              "outlinewidth": 0,
              "ticks": ""
             }
            },
            "type": "parcoords"
           }
          ],
          "pie": [
           {
            "automargin": true,
            "type": "pie"
           }
          ],
          "scatter": [
           {
            "fillpattern": {
             "fillmode": "overlay",
             "size": 10,
             "solidity": 0.2
            },
            "type": "scatter"
           }
          ],
          "scatter3d": [
           {
            "line": {
             "colorbar": {
              "outlinewidth": 0,
              "ticks": ""
             }
            },
            "marker": {
             "colorbar": {
              "outlinewidth": 0,
              "ticks": ""
             }
            },
            "type": "scatter3d"
           }
          ],
          "scattercarpet": [
           {
            "marker": {
             "colorbar": {
              "outlinewidth": 0,
              "ticks": ""
             }
            },
            "type": "scattercarpet"
           }
          ],
          "scattergeo": [
           {
            "marker": {
             "colorbar": {
              "outlinewidth": 0,
              "ticks": ""
             }
            },
            "type": "scattergeo"
           }
          ],
          "scattergl": [
           {
            "marker": {
             "colorbar": {
              "outlinewidth": 0,
              "ticks": ""
             }
            },
            "type": "scattergl"
           }
          ],
          "scattermapbox": [
           {
            "marker": {
             "colorbar": {
              "outlinewidth": 0,
              "ticks": ""
             }
            },
            "type": "scattermapbox"
           }
          ],
          "scatterpolar": [
           {
            "marker": {
             "colorbar": {
              "outlinewidth": 0,
              "ticks": ""
             }
            },
            "type": "scatterpolar"
           }
          ],
          "scatterpolargl": [
           {
            "marker": {
             "colorbar": {
              "outlinewidth": 0,
              "ticks": ""
             }
            },
            "type": "scatterpolargl"
           }
          ],
          "scatterternary": [
           {
            "marker": {
             "colorbar": {
              "outlinewidth": 0,
              "ticks": ""
             }
            },
            "type": "scatterternary"
           }
          ],
          "surface": [
           {
            "colorbar": {
             "outlinewidth": 0,
             "ticks": ""
            },
            "colorscale": [
             [
              0,
              "#0d0887"
             ],
             [
              0.1111111111111111,
              "#46039f"
             ],
             [
              0.2222222222222222,
              "#7201a8"
             ],
             [
              0.3333333333333333,
              "#9c179e"
             ],
             [
              0.4444444444444444,
              "#bd3786"
             ],
             [
              0.5555555555555556,
              "#d8576b"
             ],
             [
              0.6666666666666666,
              "#ed7953"
             ],
             [
              0.7777777777777778,
              "#fb9f3a"
             ],
             [
              0.8888888888888888,
              "#fdca26"
             ],
             [
              1,
              "#f0f921"
             ]
            ],
            "type": "surface"
           }
          ],
          "table": [
           {
            "cells": {
             "fill": {
              "color": "#EBF0F8"
             },
             "line": {
              "color": "white"
             }
            },
            "header": {
             "fill": {
              "color": "#C8D4E3"
             },
             "line": {
              "color": "white"
             }
            },
            "type": "table"
           }
          ]
         },
         "layout": {
          "annotationdefaults": {
           "arrowcolor": "#2a3f5f",
           "arrowhead": 0,
           "arrowwidth": 1
          },
          "autotypenumbers": "strict",
          "coloraxis": {
           "colorbar": {
            "outlinewidth": 0,
            "ticks": ""
           }
          },
          "colorscale": {
           "diverging": [
            [
             0,
             "#8e0152"
            ],
            [
             0.1,
             "#c51b7d"
            ],
            [
             0.2,
             "#de77ae"
            ],
            [
             0.3,
             "#f1b6da"
            ],
            [
             0.4,
             "#fde0ef"
            ],
            [
             0.5,
             "#f7f7f7"
            ],
            [
             0.6,
             "#e6f5d0"
            ],
            [
             0.7,
             "#b8e186"
            ],
            [
             0.8,
             "#7fbc41"
            ],
            [
             0.9,
             "#4d9221"
            ],
            [
             1,
             "#276419"
            ]
           ],
           "sequential": [
            [
             0,
             "#0d0887"
            ],
            [
             0.1111111111111111,
             "#46039f"
            ],
            [
             0.2222222222222222,
             "#7201a8"
            ],
            [
             0.3333333333333333,
             "#9c179e"
            ],
            [
             0.4444444444444444,
             "#bd3786"
            ],
            [
             0.5555555555555556,
             "#d8576b"
            ],
            [
             0.6666666666666666,
             "#ed7953"
            ],
            [
             0.7777777777777778,
             "#fb9f3a"
            ],
            [
             0.8888888888888888,
             "#fdca26"
            ],
            [
             1,
             "#f0f921"
            ]
           ],
           "sequentialminus": [
            [
             0,
             "#0d0887"
            ],
            [
             0.1111111111111111,
             "#46039f"
            ],
            [
             0.2222222222222222,
             "#7201a8"
            ],
            [
             0.3333333333333333,
             "#9c179e"
            ],
            [
             0.4444444444444444,
             "#bd3786"
            ],
            [
             0.5555555555555556,
             "#d8576b"
            ],
            [
             0.6666666666666666,
             "#ed7953"
            ],
            [
             0.7777777777777778,
             "#fb9f3a"
            ],
            [
             0.8888888888888888,
             "#fdca26"
            ],
            [
             1,
             "#f0f921"
            ]
           ]
          },
          "colorway": [
           "#636efa",
           "#EF553B",
           "#00cc96",
           "#ab63fa",
           "#FFA15A",
           "#19d3f3",
           "#FF6692",
           "#B6E880",
           "#FF97FF",
           "#FECB52"
          ],
          "font": {
           "color": "#2a3f5f"
          },
          "geo": {
           "bgcolor": "white",
           "lakecolor": "white",
           "landcolor": "#E5ECF6",
           "showlakes": true,
           "showland": true,
           "subunitcolor": "white"
          },
          "hoverlabel": {
           "align": "left"
          },
          "hovermode": "closest",
          "mapbox": {
           "style": "light"
          },
          "paper_bgcolor": "white",
          "plot_bgcolor": "#E5ECF6",
          "polar": {
           "angularaxis": {
            "gridcolor": "white",
            "linecolor": "white",
            "ticks": ""
           },
           "bgcolor": "#E5ECF6",
           "radialaxis": {
            "gridcolor": "white",
            "linecolor": "white",
            "ticks": ""
           }
          },
          "scene": {
           "xaxis": {
            "backgroundcolor": "#E5ECF6",
            "gridcolor": "white",
            "gridwidth": 2,
            "linecolor": "white",
            "showbackground": true,
            "ticks": "",
            "zerolinecolor": "white"
           },
           "yaxis": {
            "backgroundcolor": "#E5ECF6",
            "gridcolor": "white",
            "gridwidth": 2,
            "linecolor": "white",
            "showbackground": true,
            "ticks": "",
            "zerolinecolor": "white"
           },
           "zaxis": {
            "backgroundcolor": "#E5ECF6",
            "gridcolor": "white",
            "gridwidth": 2,
            "linecolor": "white",
            "showbackground": true,
            "ticks": "",
            "zerolinecolor": "white"
           }
          },
          "shapedefaults": {
           "line": {
            "color": "#2a3f5f"
           }
          },
          "ternary": {
           "aaxis": {
            "gridcolor": "white",
            "linecolor": "white",
            "ticks": ""
           },
           "baxis": {
            "gridcolor": "white",
            "linecolor": "white",
            "ticks": ""
           },
           "bgcolor": "#E5ECF6",
           "caxis": {
            "gridcolor": "white",
            "linecolor": "white",
            "ticks": ""
           }
          },
          "title": {
           "x": 0.05
          },
          "xaxis": {
           "automargin": true,
           "gridcolor": "white",
           "linecolor": "white",
           "ticks": "",
           "title": {
            "standoff": 15
           },
           "zerolinecolor": "white",
           "zerolinewidth": 2
          },
          "yaxis": {
           "automargin": true,
           "gridcolor": "white",
           "linecolor": "white",
           "ticks": "",
           "title": {
            "standoff": 15
           },
           "zerolinecolor": "white",
           "zerolinewidth": 2
          }
         }
        },
        "title": {
         "font": {
          "color": "#22314E",
          "family": "Arial",
          "size": 24
         },
         "text": "ROS Package Downloads by Distro August 2024"
        }
       }
      },
      "text/html": [
       "<div>                            <div id=\"a763948d-4ac0-40d8-969d-2d242398d9e4\" class=\"plotly-graph-div\" style=\"height:525px; width:100%;\"></div>            <script type=\"text/javascript\">                require([\"plotly\"], function(Plotly) {                    window.PLOTLYENV=window.PLOTLYENV || {};                                    if (document.getElementById(\"a763948d-4ac0-40d8-969d-2d242398d9e4\")) {                    Plotly.newPlot(                        \"a763948d-4ac0-40d8-969d-2d242398d9e4\",                        [{\"labels\":[\"Melodic\",\"Noetic\",\"Foxy\",\"Galactic\",\"Humble\",\"Iron\",\"Jazzy\",\"Rolling\",\"All Other Distros\",\"Python Pkgs\"],\"sort\":false,\"title\":{\"text\":\"\"},\"values\":[2.37,16.75,3.71,1.18,48.35,5.58,6.07,4.81,null,null],\"type\":\"pie\",\"marker\":{\"colors\":[\"#292f56\",\"#412f4c\",\"#592f43\",\"#702f39\",\"#882f30\",\"#a02e26\",\"#b82e1d\",\"#cf2e13\",\"#e72e0a\",\"#ff2e00\"]}}],                        {\"title\":{\"text\":\"ROS Package Downloads by Distro August 2024\",\"font\":{\"size\":24,\"family\":\"Arial\",\"color\":\"#22314E\"}},\"template\":{\"data\":{\"histogram2dcontour\":[{\"type\":\"histogram2dcontour\",\"colorbar\":{\"outlinewidth\":0,\"ticks\":\"\"},\"colorscale\":[[0.0,\"#0d0887\"],[0.1111111111111111,\"#46039f\"],[0.2222222222222222,\"#7201a8\"],[0.3333333333333333,\"#9c179e\"],[0.4444444444444444,\"#bd3786\"],[0.5555555555555556,\"#d8576b\"],[0.6666666666666666,\"#ed7953\"],[0.7777777777777778,\"#fb9f3a\"],[0.8888888888888888,\"#fdca26\"],[1.0,\"#f0f921\"]]}],\"choropleth\":[{\"type\":\"choropleth\",\"colorbar\":{\"outlinewidth\":0,\"ticks\":\"\"}}],\"histogram2d\":[{\"type\":\"histogram2d\",\"colorbar\":{\"outlinewidth\":0,\"ticks\":\"\"},\"colorscale\":[[0.0,\"#0d0887\"],[0.1111111111111111,\"#46039f\"],[0.2222222222222222,\"#7201a8\"],[0.3333333333333333,\"#9c179e\"],[0.4444444444444444,\"#bd3786\"],[0.5555555555555556,\"#d8576b\"],[0.6666666666666666,\"#ed7953\"],[0.7777777777777778,\"#fb9f3a\"],[0.8888888888888888,\"#fdca26\"],[1.0,\"#f0f921\"]]}],\"heatmap\":[{\"type\":\"heatmap\",\"colorbar\":{\"outlinewidth\":0,\"ticks\":\"\"},\"colorscale\":[[0.0,\"#0d0887\"],[0.1111111111111111,\"#46039f\"],[0.2222222222222222,\"#7201a8\"],[0.3333333333333333,\"#9c179e\"],[0.4444444444444444,\"#bd3786\"],[0.5555555555555556,\"#d8576b\"],[0.6666666666666666,\"#ed7953\"],[0.7777777777777778,\"#fb9f3a\"],[0.8888888888888888,\"#fdca26\"],[1.0,\"#f0f921\"]]}],\"heatmapgl\":[{\"type\":\"heatmapgl\",\"colorbar\":{\"outlinewidth\":0,\"ticks\":\"\"},\"colorscale\":[[0.0,\"#0d0887\"],[0.1111111111111111,\"#46039f\"],[0.2222222222222222,\"#7201a8\"],[0.3333333333333333,\"#9c179e\"],[0.4444444444444444,\"#bd3786\"],[0.5555555555555556,\"#d8576b\"],[0.6666666666666666,\"#ed7953\"],[0.7777777777777778,\"#fb9f3a\"],[0.8888888888888888,\"#fdca26\"],[1.0,\"#f0f921\"]]}],\"contourcarpet\":[{\"type\":\"contourcarpet\",\"colorbar\":{\"outlinewidth\":0,\"ticks\":\"\"}}],\"contour\":[{\"type\":\"contour\",\"colorbar\":{\"outlinewidth\":0,\"ticks\":\"\"},\"colorscale\":[[0.0,\"#0d0887\"],[0.1111111111111111,\"#46039f\"],[0.2222222222222222,\"#7201a8\"],[0.3333333333333333,\"#9c179e\"],[0.4444444444444444,\"#bd3786\"],[0.5555555555555556,\"#d8576b\"],[0.6666666666666666,\"#ed7953\"],[0.7777777777777778,\"#fb9f3a\"],[0.8888888888888888,\"#fdca26\"],[1.0,\"#f0f921\"]]}],\"surface\":[{\"type\":\"surface\",\"colorbar\":{\"outlinewidth\":0,\"ticks\":\"\"},\"colorscale\":[[0.0,\"#0d0887\"],[0.1111111111111111,\"#46039f\"],[0.2222222222222222,\"#7201a8\"],[0.3333333333333333,\"#9c179e\"],[0.4444444444444444,\"#bd3786\"],[0.5555555555555556,\"#d8576b\"],[0.6666666666666666,\"#ed7953\"],[0.7777777777777778,\"#fb9f3a\"],[0.8888888888888888,\"#fdca26\"],[1.0,\"#f0f921\"]]}],\"mesh3d\":[{\"type\":\"mesh3d\",\"colorbar\":{\"outlinewidth\":0,\"ticks\":\"\"}}],\"scatter\":[{\"fillpattern\":{\"fillmode\":\"overlay\",\"size\":10,\"solidity\":0.2},\"type\":\"scatter\"}],\"parcoords\":[{\"type\":\"parcoords\",\"line\":{\"colorbar\":{\"outlinewidth\":0,\"ticks\":\"\"}}}],\"scatterpolargl\":[{\"type\":\"scatterpolargl\",\"marker\":{\"colorbar\":{\"outlinewidth\":0,\"ticks\":\"\"}}}],\"bar\":[{\"error_x\":{\"color\":\"#2a3f5f\"},\"error_y\":{\"color\":\"#2a3f5f\"},\"marker\":{\"line\":{\"color\":\"#E5ECF6\",\"width\":0.5},\"pattern\":{\"fillmode\":\"overlay\",\"size\":10,\"solidity\":0.2}},\"type\":\"bar\"}],\"scattergeo\":[{\"type\":\"scattergeo\",\"marker\":{\"colorbar\":{\"outlinewidth\":0,\"ticks\":\"\"}}}],\"scatterpolar\":[{\"type\":\"scatterpolar\",\"marker\":{\"colorbar\":{\"outlinewidth\":0,\"ticks\":\"\"}}}],\"histogram\":[{\"marker\":{\"pattern\":{\"fillmode\":\"overlay\",\"size\":10,\"solidity\":0.2}},\"type\":\"histogram\"}],\"scattergl\":[{\"type\":\"scattergl\",\"marker\":{\"colorbar\":{\"outlinewidth\":0,\"ticks\":\"\"}}}],\"scatter3d\":[{\"type\":\"scatter3d\",\"line\":{\"colorbar\":{\"outlinewidth\":0,\"ticks\":\"\"}},\"marker\":{\"colorbar\":{\"outlinewidth\":0,\"ticks\":\"\"}}}],\"scattermapbox\":[{\"type\":\"scattermapbox\",\"marker\":{\"colorbar\":{\"outlinewidth\":0,\"ticks\":\"\"}}}],\"scatterternary\":[{\"type\":\"scatterternary\",\"marker\":{\"colorbar\":{\"outlinewidth\":0,\"ticks\":\"\"}}}],\"scattercarpet\":[{\"type\":\"scattercarpet\",\"marker\":{\"colorbar\":{\"outlinewidth\":0,\"ticks\":\"\"}}}],\"carpet\":[{\"aaxis\":{\"endlinecolor\":\"#2a3f5f\",\"gridcolor\":\"white\",\"linecolor\":\"white\",\"minorgridcolor\":\"white\",\"startlinecolor\":\"#2a3f5f\"},\"baxis\":{\"endlinecolor\":\"#2a3f5f\",\"gridcolor\":\"white\",\"linecolor\":\"white\",\"minorgridcolor\":\"white\",\"startlinecolor\":\"#2a3f5f\"},\"type\":\"carpet\"}],\"table\":[{\"cells\":{\"fill\":{\"color\":\"#EBF0F8\"},\"line\":{\"color\":\"white\"}},\"header\":{\"fill\":{\"color\":\"#C8D4E3\"},\"line\":{\"color\":\"white\"}},\"type\":\"table\"}],\"barpolar\":[{\"marker\":{\"line\":{\"color\":\"#E5ECF6\",\"width\":0.5},\"pattern\":{\"fillmode\":\"overlay\",\"size\":10,\"solidity\":0.2}},\"type\":\"barpolar\"}],\"pie\":[{\"automargin\":true,\"type\":\"pie\"}]},\"layout\":{\"autotypenumbers\":\"strict\",\"colorway\":[\"#636efa\",\"#EF553B\",\"#00cc96\",\"#ab63fa\",\"#FFA15A\",\"#19d3f3\",\"#FF6692\",\"#B6E880\",\"#FF97FF\",\"#FECB52\"],\"font\":{\"color\":\"#2a3f5f\"},\"hovermode\":\"closest\",\"hoverlabel\":{\"align\":\"left\"},\"paper_bgcolor\":\"white\",\"plot_bgcolor\":\"#E5ECF6\",\"polar\":{\"bgcolor\":\"#E5ECF6\",\"angularaxis\":{\"gridcolor\":\"white\",\"linecolor\":\"white\",\"ticks\":\"\"},\"radialaxis\":{\"gridcolor\":\"white\",\"linecolor\":\"white\",\"ticks\":\"\"}},\"ternary\":{\"bgcolor\":\"#E5ECF6\",\"aaxis\":{\"gridcolor\":\"white\",\"linecolor\":\"white\",\"ticks\":\"\"},\"baxis\":{\"gridcolor\":\"white\",\"linecolor\":\"white\",\"ticks\":\"\"},\"caxis\":{\"gridcolor\":\"white\",\"linecolor\":\"white\",\"ticks\":\"\"}},\"coloraxis\":{\"colorbar\":{\"outlinewidth\":0,\"ticks\":\"\"}},\"colorscale\":{\"sequential\":[[0.0,\"#0d0887\"],[0.1111111111111111,\"#46039f\"],[0.2222222222222222,\"#7201a8\"],[0.3333333333333333,\"#9c179e\"],[0.4444444444444444,\"#bd3786\"],[0.5555555555555556,\"#d8576b\"],[0.6666666666666666,\"#ed7953\"],[0.7777777777777778,\"#fb9f3a\"],[0.8888888888888888,\"#fdca26\"],[1.0,\"#f0f921\"]],\"sequentialminus\":[[0.0,\"#0d0887\"],[0.1111111111111111,\"#46039f\"],[0.2222222222222222,\"#7201a8\"],[0.3333333333333333,\"#9c179e\"],[0.4444444444444444,\"#bd3786\"],[0.5555555555555556,\"#d8576b\"],[0.6666666666666666,\"#ed7953\"],[0.7777777777777778,\"#fb9f3a\"],[0.8888888888888888,\"#fdca26\"],[1.0,\"#f0f921\"]],\"diverging\":[[0,\"#8e0152\"],[0.1,\"#c51b7d\"],[0.2,\"#de77ae\"],[0.3,\"#f1b6da\"],[0.4,\"#fde0ef\"],[0.5,\"#f7f7f7\"],[0.6,\"#e6f5d0\"],[0.7,\"#b8e186\"],[0.8,\"#7fbc41\"],[0.9,\"#4d9221\"],[1,\"#276419\"]]},\"xaxis\":{\"gridcolor\":\"white\",\"linecolor\":\"white\",\"ticks\":\"\",\"title\":{\"standoff\":15},\"zerolinecolor\":\"white\",\"automargin\":true,\"zerolinewidth\":2},\"yaxis\":{\"gridcolor\":\"white\",\"linecolor\":\"white\",\"ticks\":\"\",\"title\":{\"standoff\":15},\"zerolinecolor\":\"white\",\"automargin\":true,\"zerolinewidth\":2},\"scene\":{\"xaxis\":{\"backgroundcolor\":\"#E5ECF6\",\"gridcolor\":\"white\",\"linecolor\":\"white\",\"showbackground\":true,\"ticks\":\"\",\"zerolinecolor\":\"white\",\"gridwidth\":2},\"yaxis\":{\"backgroundcolor\":\"#E5ECF6\",\"gridcolor\":\"white\",\"linecolor\":\"white\",\"showbackground\":true,\"ticks\":\"\",\"zerolinecolor\":\"white\",\"gridwidth\":2},\"zaxis\":{\"backgroundcolor\":\"#E5ECF6\",\"gridcolor\":\"white\",\"linecolor\":\"white\",\"showbackground\":true,\"ticks\":\"\",\"zerolinecolor\":\"white\",\"gridwidth\":2}},\"shapedefaults\":{\"line\":{\"color\":\"#2a3f5f\"}},\"annotationdefaults\":{\"arrowcolor\":\"#2a3f5f\",\"arrowhead\":0,\"arrowwidth\":1},\"geo\":{\"bgcolor\":\"white\",\"landcolor\":\"#E5ECF6\",\"subunitcolor\":\"white\",\"showland\":true,\"showlakes\":true,\"lakecolor\":\"white\"},\"title\":{\"x\":0.05},\"mapbox\":{\"style\":\"light\"}}},\"font\":{\"family\":\"Arial\",\"color\":\"#22314E\",\"size\":16}},                        {\"responsive\": true}                    ).then(function(){\n",
       "                            \n",
       "var gd = document.getElementById('a763948d-4ac0-40d8-969d-2d242398d9e4');\n",
       "var x = new MutationObserver(function (mutations, observer) {{\n",
       "        var display = window.getComputedStyle(gd).display;\n",
       "        if (!display || display === 'none') {{\n",
       "            console.log([gd, 'removed!']);\n",
       "            Plotly.purge(gd);\n",
       "            observer.disconnect();\n",
       "        }}\n",
       "}});\n",
       "\n",
       "// Listen for the removal of the full notebook cells\n",
       "var notebookContainer = gd.closest('#notebook-container');\n",
       "if (notebookContainer) {{\n",
       "    x.observe(notebookContainer, {childList: true});\n",
       "}}\n",
       "\n",
       "// Listen for the clearing of the current output cell\n",
       "var outputEl = gd.closest('.output');\n",
       "if (outputEl) {{\n",
       "    x.observe(outputEl, {childList: true});\n",
       "}}\n",
       "\n",
       "                        })                };                });            </script>        </div>"
      ]
     },
     "metadata": {},
     "output_type": "display_data"
    }
   ],
   "source": [
    "trace2 = go.Pie(values= temp[this_year], labels = temp[\"name\"],title=\"\",sort= False)\n",
    "layout = go.Layout(title=\"ROS Package Downloads by Distro {0} {1}\".format(this_month,this_year))\n",
    "fig = go.Figure(data=trace2, layout=layout)\n",
    "\n",
    "\n",
    "fig.update_layout(\n",
    "    font_family=\"Arial\",\n",
    "    font_color=\"#22314E\",\n",
    "    font_size=16,\n",
    "    title_font_size = 24,\n",
    "    title_font_family=\"Arial\",\n",
    "    title_font_color=\"#22314E\"\n",
    ")\n",
    "\n",
    "fig.update_traces(marker=dict(colors=[\"#292f56\",\n",
    "\"#412f4c\",\n",
    "\"#592f43\",\n",
    "\"#702f39\",\n",
    "\"#882f30\",\n",
    "\"#a02e26\",\n",
    "\"#b82e1d\",\n",
    "\"#cf2e13\",\n",
    "\"#e72e0a\",\n",
    "\"#ff2e00\",]))\n",
    "\n",
    "fig.show()\n"
   ]
  },
  {
   "cell_type": "code",
   "execution_count": null,
   "metadata": {},
   "outputs": [],
   "source": [
    "\n"
   ]
  },
  {
   "cell_type": "code",
   "execution_count": 51,
   "metadata": {},
   "outputs": [
    {
     "name": "stderr",
     "output_type": "stream",
     "text": [
      "/tmp/ipykernel_78289/3257179422.py:3: UserWarning:\n",
      "\n",
      "Boolean Series key will be reindexed to match DataFrame index.\n",
      "\n"
     ]
    },
    {
     "data": {
      "application/vnd.plotly.v1+json": {
       "config": {
        "plotlyServerURL": "https://plot.ly"
       },
       "data": [
        {
         "domain": {
          "x": [
           0.5,
           1
          ]
         },
         "labels": [
          "i386",
          "amd64",
          "armhf",
          "arm64",
          "source"
         ],
         "title": {
          "text": "2024"
         },
         "type": "pie",
         "values": [
          0.04,
          81.79,
          0.1,
          10.87,
          0
         ]
        },
        {
         "domain": {
          "x": [
           0,
           0.5
          ]
         },
         "labels": [
          "i386",
          "amd64",
          "armhf",
          "arm64",
          "source"
         ],
         "title": {
          "text": "2023"
         },
         "type": "pie",
         "values": [
          0.26,
          83.11,
          0.73,
          10.45,
          0
         ]
        }
       ],
       "layout": {
        "template": {
         "data": {
          "bar": [
           {
            "error_x": {
             "color": "#2a3f5f"
            },
            "error_y": {
             "color": "#2a3f5f"
            },
            "marker": {
             "line": {
              "color": "#E5ECF6",
              "width": 0.5
             },
             "pattern": {
              "fillmode": "overlay",
              "size": 10,
              "solidity": 0.2
             }
            },
            "type": "bar"
           }
          ],
          "barpolar": [
           {
            "marker": {
             "line": {
              "color": "#E5ECF6",
              "width": 0.5
             },
             "pattern": {
              "fillmode": "overlay",
              "size": 10,
              "solidity": 0.2
             }
            },
            "type": "barpolar"
           }
          ],
          "carpet": [
           {
            "aaxis": {
             "endlinecolor": "#2a3f5f",
             "gridcolor": "white",
             "linecolor": "white",
             "minorgridcolor": "white",
             "startlinecolor": "#2a3f5f"
            },
            "baxis": {
             "endlinecolor": "#2a3f5f",
             "gridcolor": "white",
             "linecolor": "white",
             "minorgridcolor": "white",
             "startlinecolor": "#2a3f5f"
            },
            "type": "carpet"
           }
          ],
          "choropleth": [
           {
            "colorbar": {
             "outlinewidth": 0,
             "ticks": ""
            },
            "type": "choropleth"
           }
          ],
          "contour": [
           {
            "colorbar": {
             "outlinewidth": 0,
             "ticks": ""
            },
            "colorscale": [
             [
              0,
              "#0d0887"
             ],
             [
              0.1111111111111111,
              "#46039f"
             ],
             [
              0.2222222222222222,
              "#7201a8"
             ],
             [
              0.3333333333333333,
              "#9c179e"
             ],
             [
              0.4444444444444444,
              "#bd3786"
             ],
             [
              0.5555555555555556,
              "#d8576b"
             ],
             [
              0.6666666666666666,
              "#ed7953"
             ],
             [
              0.7777777777777778,
              "#fb9f3a"
             ],
             [
              0.8888888888888888,
              "#fdca26"
             ],
             [
              1,
              "#f0f921"
             ]
            ],
            "type": "contour"
           }
          ],
          "contourcarpet": [
           {
            "colorbar": {
             "outlinewidth": 0,
             "ticks": ""
            },
            "type": "contourcarpet"
           }
          ],
          "heatmap": [
           {
            "colorbar": {
             "outlinewidth": 0,
             "ticks": ""
            },
            "colorscale": [
             [
              0,
              "#0d0887"
             ],
             [
              0.1111111111111111,
              "#46039f"
             ],
             [
              0.2222222222222222,
              "#7201a8"
             ],
             [
              0.3333333333333333,
              "#9c179e"
             ],
             [
              0.4444444444444444,
              "#bd3786"
             ],
             [
              0.5555555555555556,
              "#d8576b"
             ],
             [
              0.6666666666666666,
              "#ed7953"
             ],
             [
              0.7777777777777778,
              "#fb9f3a"
             ],
             [
              0.8888888888888888,
              "#fdca26"
             ],
             [
              1,
              "#f0f921"
             ]
            ],
            "type": "heatmap"
           }
          ],
          "heatmapgl": [
           {
            "colorbar": {
             "outlinewidth": 0,
             "ticks": ""
            },
            "colorscale": [
             [
              0,
              "#0d0887"
             ],
             [
              0.1111111111111111,
              "#46039f"
             ],
             [
              0.2222222222222222,
              "#7201a8"
             ],
             [
              0.3333333333333333,
              "#9c179e"
             ],
             [
              0.4444444444444444,
              "#bd3786"
             ],
             [
              0.5555555555555556,
              "#d8576b"
             ],
             [
              0.6666666666666666,
              "#ed7953"
             ],
             [
              0.7777777777777778,
              "#fb9f3a"
             ],
             [
              0.8888888888888888,
              "#fdca26"
             ],
             [
              1,
              "#f0f921"
             ]
            ],
            "type": "heatmapgl"
           }
          ],
          "histogram": [
           {
            "marker": {
             "pattern": {
              "fillmode": "overlay",
              "size": 10,
              "solidity": 0.2
             }
            },
            "type": "histogram"
           }
          ],
          "histogram2d": [
           {
            "colorbar": {
             "outlinewidth": 0,
             "ticks": ""
            },
            "colorscale": [
             [
              0,
              "#0d0887"
             ],
             [
              0.1111111111111111,
              "#46039f"
             ],
             [
              0.2222222222222222,
              "#7201a8"
             ],
             [
              0.3333333333333333,
              "#9c179e"
             ],
             [
              0.4444444444444444,
              "#bd3786"
             ],
             [
              0.5555555555555556,
              "#d8576b"
             ],
             [
              0.6666666666666666,
              "#ed7953"
             ],
             [
              0.7777777777777778,
              "#fb9f3a"
             ],
             [
              0.8888888888888888,
              "#fdca26"
             ],
             [
              1,
              "#f0f921"
             ]
            ],
            "type": "histogram2d"
           }
          ],
          "histogram2dcontour": [
           {
            "colorbar": {
             "outlinewidth": 0,
             "ticks": ""
            },
            "colorscale": [
             [
              0,
              "#0d0887"
             ],
             [
              0.1111111111111111,
              "#46039f"
             ],
             [
              0.2222222222222222,
              "#7201a8"
             ],
             [
              0.3333333333333333,
              "#9c179e"
             ],
             [
              0.4444444444444444,
              "#bd3786"
             ],
             [
              0.5555555555555556,
              "#d8576b"
             ],
             [
              0.6666666666666666,
              "#ed7953"
             ],
             [
              0.7777777777777778,
              "#fb9f3a"
             ],
             [
              0.8888888888888888,
              "#fdca26"
             ],
             [
              1,
              "#f0f921"
             ]
            ],
            "type": "histogram2dcontour"
           }
          ],
          "mesh3d": [
           {
            "colorbar": {
             "outlinewidth": 0,
             "ticks": ""
            },
            "type": "mesh3d"
           }
          ],
          "parcoords": [
           {
            "line": {
             "colorbar": {
              "outlinewidth": 0,
              "ticks": ""
             }
            },
            "type": "parcoords"
           }
          ],
          "pie": [
           {
            "automargin": true,
            "type": "pie"
           }
          ],
          "scatter": [
           {
            "fillpattern": {
             "fillmode": "overlay",
             "size": 10,
             "solidity": 0.2
            },
            "type": "scatter"
           }
          ],
          "scatter3d": [
           {
            "line": {
             "colorbar": {
              "outlinewidth": 0,
              "ticks": ""
             }
            },
            "marker": {
             "colorbar": {
              "outlinewidth": 0,
              "ticks": ""
             }
            },
            "type": "scatter3d"
           }
          ],
          "scattercarpet": [
           {
            "marker": {
             "colorbar": {
              "outlinewidth": 0,
              "ticks": ""
             }
            },
            "type": "scattercarpet"
           }
          ],
          "scattergeo": [
           {
            "marker": {
             "colorbar": {
              "outlinewidth": 0,
              "ticks": ""
             }
            },
            "type": "scattergeo"
           }
          ],
          "scattergl": [
           {
            "marker": {
             "colorbar": {
              "outlinewidth": 0,
              "ticks": ""
             }
            },
            "type": "scattergl"
           }
          ],
          "scattermapbox": [
           {
            "marker": {
             "colorbar": {
              "outlinewidth": 0,
              "ticks": ""
             }
            },
            "type": "scattermapbox"
           }
          ],
          "scatterpolar": [
           {
            "marker": {
             "colorbar": {
              "outlinewidth": 0,
              "ticks": ""
             }
            },
            "type": "scatterpolar"
           }
          ],
          "scatterpolargl": [
           {
            "marker": {
             "colorbar": {
              "outlinewidth": 0,
              "ticks": ""
             }
            },
            "type": "scatterpolargl"
           }
          ],
          "scatterternary": [
           {
            "marker": {
             "colorbar": {
              "outlinewidth": 0,
              "ticks": ""
             }
            },
            "type": "scatterternary"
           }
          ],
          "surface": [
           {
            "colorbar": {
             "outlinewidth": 0,
             "ticks": ""
            },
            "colorscale": [
             [
              0,
              "#0d0887"
             ],
             [
              0.1111111111111111,
              "#46039f"
             ],
             [
              0.2222222222222222,
              "#7201a8"
             ],
             [
              0.3333333333333333,
              "#9c179e"
             ],
             [
              0.4444444444444444,
              "#bd3786"
             ],
             [
              0.5555555555555556,
              "#d8576b"
             ],
             [
              0.6666666666666666,
              "#ed7953"
             ],
             [
              0.7777777777777778,
              "#fb9f3a"
             ],
             [
              0.8888888888888888,
              "#fdca26"
             ],
             [
              1,
              "#f0f921"
             ]
            ],
            "type": "surface"
           }
          ],
          "table": [
           {
            "cells": {
             "fill": {
              "color": "#EBF0F8"
             },
             "line": {
              "color": "white"
             }
            },
            "header": {
             "fill": {
              "color": "#C8D4E3"
             },
             "line": {
              "color": "white"
             }
            },
            "type": "table"
           }
          ]
         },
         "layout": {
          "annotationdefaults": {
           "arrowcolor": "#2a3f5f",
           "arrowhead": 0,
           "arrowwidth": 1
          },
          "autotypenumbers": "strict",
          "coloraxis": {
           "colorbar": {
            "outlinewidth": 0,
            "ticks": ""
           }
          },
          "colorscale": {
           "diverging": [
            [
             0,
             "#8e0152"
            ],
            [
             0.1,
             "#c51b7d"
            ],
            [
             0.2,
             "#de77ae"
            ],
            [
             0.3,
             "#f1b6da"
            ],
            [
             0.4,
             "#fde0ef"
            ],
            [
             0.5,
             "#f7f7f7"
            ],
            [
             0.6,
             "#e6f5d0"
            ],
            [
             0.7,
             "#b8e186"
            ],
            [
             0.8,
             "#7fbc41"
            ],
            [
             0.9,
             "#4d9221"
            ],
            [
             1,
             "#276419"
            ]
           ],
           "sequential": [
            [
             0,
             "#0d0887"
            ],
            [
             0.1111111111111111,
             "#46039f"
            ],
            [
             0.2222222222222222,
             "#7201a8"
            ],
            [
             0.3333333333333333,
             "#9c179e"
            ],
            [
             0.4444444444444444,
             "#bd3786"
            ],
            [
             0.5555555555555556,
             "#d8576b"
            ],
            [
             0.6666666666666666,
             "#ed7953"
            ],
            [
             0.7777777777777778,
             "#fb9f3a"
            ],
            [
             0.8888888888888888,
             "#fdca26"
            ],
            [
             1,
             "#f0f921"
            ]
           ],
           "sequentialminus": [
            [
             0,
             "#0d0887"
            ],
            [
             0.1111111111111111,
             "#46039f"
            ],
            [
             0.2222222222222222,
             "#7201a8"
            ],
            [
             0.3333333333333333,
             "#9c179e"
            ],
            [
             0.4444444444444444,
             "#bd3786"
            ],
            [
             0.5555555555555556,
             "#d8576b"
            ],
            [
             0.6666666666666666,
             "#ed7953"
            ],
            [
             0.7777777777777778,
             "#fb9f3a"
            ],
            [
             0.8888888888888888,
             "#fdca26"
            ],
            [
             1,
             "#f0f921"
            ]
           ]
          },
          "colorway": [
           "#636efa",
           "#EF553B",
           "#00cc96",
           "#ab63fa",
           "#FFA15A",
           "#19d3f3",
           "#FF6692",
           "#B6E880",
           "#FF97FF",
           "#FECB52"
          ],
          "font": {
           "color": "#2a3f5f"
          },
          "geo": {
           "bgcolor": "white",
           "lakecolor": "white",
           "landcolor": "#E5ECF6",
           "showlakes": true,
           "showland": true,
           "subunitcolor": "white"
          },
          "hoverlabel": {
           "align": "left"
          },
          "hovermode": "closest",
          "mapbox": {
           "style": "light"
          },
          "paper_bgcolor": "white",
          "plot_bgcolor": "#E5ECF6",
          "polar": {
           "angularaxis": {
            "gridcolor": "white",
            "linecolor": "white",
            "ticks": ""
           },
           "bgcolor": "#E5ECF6",
           "radialaxis": {
            "gridcolor": "white",
            "linecolor": "white",
            "ticks": ""
           }
          },
          "scene": {
           "xaxis": {
            "backgroundcolor": "#E5ECF6",
            "gridcolor": "white",
            "gridwidth": 2,
            "linecolor": "white",
            "showbackground": true,
            "ticks": "",
            "zerolinecolor": "white"
           },
           "yaxis": {
            "backgroundcolor": "#E5ECF6",
            "gridcolor": "white",
            "gridwidth": 2,
            "linecolor": "white",
            "showbackground": true,
            "ticks": "",
            "zerolinecolor": "white"
           },
           "zaxis": {
            "backgroundcolor": "#E5ECF6",
            "gridcolor": "white",
            "gridwidth": 2,
            "linecolor": "white",
            "showbackground": true,
            "ticks": "",
            "zerolinecolor": "white"
           }
          },
          "shapedefaults": {
           "line": {
            "color": "#2a3f5f"
           }
          },
          "ternary": {
           "aaxis": {
            "gridcolor": "white",
            "linecolor": "white",
            "ticks": ""
           },
           "baxis": {
            "gridcolor": "white",
            "linecolor": "white",
            "ticks": ""
           },
           "bgcolor": "#E5ECF6",
           "caxis": {
            "gridcolor": "white",
            "linecolor": "white",
            "ticks": ""
           }
          },
          "title": {
           "x": 0.05
          },
          "xaxis": {
           "automargin": true,
           "gridcolor": "white",
           "linecolor": "white",
           "ticks": "",
           "title": {
            "standoff": 15
           },
           "zerolinecolor": "white",
           "zerolinewidth": 2
          },
          "yaxis": {
           "automargin": true,
           "gridcolor": "white",
           "linecolor": "white",
           "ticks": "",
           "title": {
            "standoff": 15
           },
           "zerolinecolor": "white",
           "zerolinewidth": 2
          }
         }
        },
        "title": {
         "text": "ROS Packages Downloaded By Architecture - August 2023 vs 2024 August"
        }
       }
      },
      "text/html": [
       "<div>                            <div id=\"d8c05937-bb3c-411c-9e87-92d143a88f73\" class=\"plotly-graph-div\" style=\"height:525px; width:100%;\"></div>            <script type=\"text/javascript\">                require([\"plotly\"], function(Plotly) {                    window.PLOTLYENV=window.PLOTLYENV || {};                                    if (document.getElementById(\"d8c05937-bb3c-411c-9e87-92d143a88f73\")) {                    Plotly.newPlot(                        \"d8c05937-bb3c-411c-9e87-92d143a88f73\",                        [{\"domain\":{\"x\":[0.5,1]},\"labels\":[\"i386\",\"amd64\",\"armhf\",\"arm64\",\"source\"],\"title\":{\"text\":\"2024\"},\"values\":[0.04,81.79,0.1,10.87,0.0],\"type\":\"pie\"},{\"domain\":{\"x\":[0.0,0.5]},\"labels\":[\"i386\",\"amd64\",\"armhf\",\"arm64\",\"source\"],\"title\":{\"text\":\"2023\"},\"values\":[0.26,83.11,0.73,10.45,0.0],\"type\":\"pie\"}],                        {\"title\":{\"text\":\"ROS Packages Downloaded By Architecture - August 2023 vs 2024 August\"},\"template\":{\"data\":{\"histogram2dcontour\":[{\"type\":\"histogram2dcontour\",\"colorbar\":{\"outlinewidth\":0,\"ticks\":\"\"},\"colorscale\":[[0.0,\"#0d0887\"],[0.1111111111111111,\"#46039f\"],[0.2222222222222222,\"#7201a8\"],[0.3333333333333333,\"#9c179e\"],[0.4444444444444444,\"#bd3786\"],[0.5555555555555556,\"#d8576b\"],[0.6666666666666666,\"#ed7953\"],[0.7777777777777778,\"#fb9f3a\"],[0.8888888888888888,\"#fdca26\"],[1.0,\"#f0f921\"]]}],\"choropleth\":[{\"type\":\"choropleth\",\"colorbar\":{\"outlinewidth\":0,\"ticks\":\"\"}}],\"histogram2d\":[{\"type\":\"histogram2d\",\"colorbar\":{\"outlinewidth\":0,\"ticks\":\"\"},\"colorscale\":[[0.0,\"#0d0887\"],[0.1111111111111111,\"#46039f\"],[0.2222222222222222,\"#7201a8\"],[0.3333333333333333,\"#9c179e\"],[0.4444444444444444,\"#bd3786\"],[0.5555555555555556,\"#d8576b\"],[0.6666666666666666,\"#ed7953\"],[0.7777777777777778,\"#fb9f3a\"],[0.8888888888888888,\"#fdca26\"],[1.0,\"#f0f921\"]]}],\"heatmap\":[{\"type\":\"heatmap\",\"colorbar\":{\"outlinewidth\":0,\"ticks\":\"\"},\"colorscale\":[[0.0,\"#0d0887\"],[0.1111111111111111,\"#46039f\"],[0.2222222222222222,\"#7201a8\"],[0.3333333333333333,\"#9c179e\"],[0.4444444444444444,\"#bd3786\"],[0.5555555555555556,\"#d8576b\"],[0.6666666666666666,\"#ed7953\"],[0.7777777777777778,\"#fb9f3a\"],[0.8888888888888888,\"#fdca26\"],[1.0,\"#f0f921\"]]}],\"heatmapgl\":[{\"type\":\"heatmapgl\",\"colorbar\":{\"outlinewidth\":0,\"ticks\":\"\"},\"colorscale\":[[0.0,\"#0d0887\"],[0.1111111111111111,\"#46039f\"],[0.2222222222222222,\"#7201a8\"],[0.3333333333333333,\"#9c179e\"],[0.4444444444444444,\"#bd3786\"],[0.5555555555555556,\"#d8576b\"],[0.6666666666666666,\"#ed7953\"],[0.7777777777777778,\"#fb9f3a\"],[0.8888888888888888,\"#fdca26\"],[1.0,\"#f0f921\"]]}],\"contourcarpet\":[{\"type\":\"contourcarpet\",\"colorbar\":{\"outlinewidth\":0,\"ticks\":\"\"}}],\"contour\":[{\"type\":\"contour\",\"colorbar\":{\"outlinewidth\":0,\"ticks\":\"\"},\"colorscale\":[[0.0,\"#0d0887\"],[0.1111111111111111,\"#46039f\"],[0.2222222222222222,\"#7201a8\"],[0.3333333333333333,\"#9c179e\"],[0.4444444444444444,\"#bd3786\"],[0.5555555555555556,\"#d8576b\"],[0.6666666666666666,\"#ed7953\"],[0.7777777777777778,\"#fb9f3a\"],[0.8888888888888888,\"#fdca26\"],[1.0,\"#f0f921\"]]}],\"surface\":[{\"type\":\"surface\",\"colorbar\":{\"outlinewidth\":0,\"ticks\":\"\"},\"colorscale\":[[0.0,\"#0d0887\"],[0.1111111111111111,\"#46039f\"],[0.2222222222222222,\"#7201a8\"],[0.3333333333333333,\"#9c179e\"],[0.4444444444444444,\"#bd3786\"],[0.5555555555555556,\"#d8576b\"],[0.6666666666666666,\"#ed7953\"],[0.7777777777777778,\"#fb9f3a\"],[0.8888888888888888,\"#fdca26\"],[1.0,\"#f0f921\"]]}],\"mesh3d\":[{\"type\":\"mesh3d\",\"colorbar\":{\"outlinewidth\":0,\"ticks\":\"\"}}],\"scatter\":[{\"fillpattern\":{\"fillmode\":\"overlay\",\"size\":10,\"solidity\":0.2},\"type\":\"scatter\"}],\"parcoords\":[{\"type\":\"parcoords\",\"line\":{\"colorbar\":{\"outlinewidth\":0,\"ticks\":\"\"}}}],\"scatterpolargl\":[{\"type\":\"scatterpolargl\",\"marker\":{\"colorbar\":{\"outlinewidth\":0,\"ticks\":\"\"}}}],\"bar\":[{\"error_x\":{\"color\":\"#2a3f5f\"},\"error_y\":{\"color\":\"#2a3f5f\"},\"marker\":{\"line\":{\"color\":\"#E5ECF6\",\"width\":0.5},\"pattern\":{\"fillmode\":\"overlay\",\"size\":10,\"solidity\":0.2}},\"type\":\"bar\"}],\"scattergeo\":[{\"type\":\"scattergeo\",\"marker\":{\"colorbar\":{\"outlinewidth\":0,\"ticks\":\"\"}}}],\"scatterpolar\":[{\"type\":\"scatterpolar\",\"marker\":{\"colorbar\":{\"outlinewidth\":0,\"ticks\":\"\"}}}],\"histogram\":[{\"marker\":{\"pattern\":{\"fillmode\":\"overlay\",\"size\":10,\"solidity\":0.2}},\"type\":\"histogram\"}],\"scattergl\":[{\"type\":\"scattergl\",\"marker\":{\"colorbar\":{\"outlinewidth\":0,\"ticks\":\"\"}}}],\"scatter3d\":[{\"type\":\"scatter3d\",\"line\":{\"colorbar\":{\"outlinewidth\":0,\"ticks\":\"\"}},\"marker\":{\"colorbar\":{\"outlinewidth\":0,\"ticks\":\"\"}}}],\"scattermapbox\":[{\"type\":\"scattermapbox\",\"marker\":{\"colorbar\":{\"outlinewidth\":0,\"ticks\":\"\"}}}],\"scatterternary\":[{\"type\":\"scatterternary\",\"marker\":{\"colorbar\":{\"outlinewidth\":0,\"ticks\":\"\"}}}],\"scattercarpet\":[{\"type\":\"scattercarpet\",\"marker\":{\"colorbar\":{\"outlinewidth\":0,\"ticks\":\"\"}}}],\"carpet\":[{\"aaxis\":{\"endlinecolor\":\"#2a3f5f\",\"gridcolor\":\"white\",\"linecolor\":\"white\",\"minorgridcolor\":\"white\",\"startlinecolor\":\"#2a3f5f\"},\"baxis\":{\"endlinecolor\":\"#2a3f5f\",\"gridcolor\":\"white\",\"linecolor\":\"white\",\"minorgridcolor\":\"white\",\"startlinecolor\":\"#2a3f5f\"},\"type\":\"carpet\"}],\"table\":[{\"cells\":{\"fill\":{\"color\":\"#EBF0F8\"},\"line\":{\"color\":\"white\"}},\"header\":{\"fill\":{\"color\":\"#C8D4E3\"},\"line\":{\"color\":\"white\"}},\"type\":\"table\"}],\"barpolar\":[{\"marker\":{\"line\":{\"color\":\"#E5ECF6\",\"width\":0.5},\"pattern\":{\"fillmode\":\"overlay\",\"size\":10,\"solidity\":0.2}},\"type\":\"barpolar\"}],\"pie\":[{\"automargin\":true,\"type\":\"pie\"}]},\"layout\":{\"autotypenumbers\":\"strict\",\"colorway\":[\"#636efa\",\"#EF553B\",\"#00cc96\",\"#ab63fa\",\"#FFA15A\",\"#19d3f3\",\"#FF6692\",\"#B6E880\",\"#FF97FF\",\"#FECB52\"],\"font\":{\"color\":\"#2a3f5f\"},\"hovermode\":\"closest\",\"hoverlabel\":{\"align\":\"left\"},\"paper_bgcolor\":\"white\",\"plot_bgcolor\":\"#E5ECF6\",\"polar\":{\"bgcolor\":\"#E5ECF6\",\"angularaxis\":{\"gridcolor\":\"white\",\"linecolor\":\"white\",\"ticks\":\"\"},\"radialaxis\":{\"gridcolor\":\"white\",\"linecolor\":\"white\",\"ticks\":\"\"}},\"ternary\":{\"bgcolor\":\"#E5ECF6\",\"aaxis\":{\"gridcolor\":\"white\",\"linecolor\":\"white\",\"ticks\":\"\"},\"baxis\":{\"gridcolor\":\"white\",\"linecolor\":\"white\",\"ticks\":\"\"},\"caxis\":{\"gridcolor\":\"white\",\"linecolor\":\"white\",\"ticks\":\"\"}},\"coloraxis\":{\"colorbar\":{\"outlinewidth\":0,\"ticks\":\"\"}},\"colorscale\":{\"sequential\":[[0.0,\"#0d0887\"],[0.1111111111111111,\"#46039f\"],[0.2222222222222222,\"#7201a8\"],[0.3333333333333333,\"#9c179e\"],[0.4444444444444444,\"#bd3786\"],[0.5555555555555556,\"#d8576b\"],[0.6666666666666666,\"#ed7953\"],[0.7777777777777778,\"#fb9f3a\"],[0.8888888888888888,\"#fdca26\"],[1.0,\"#f0f921\"]],\"sequentialminus\":[[0.0,\"#0d0887\"],[0.1111111111111111,\"#46039f\"],[0.2222222222222222,\"#7201a8\"],[0.3333333333333333,\"#9c179e\"],[0.4444444444444444,\"#bd3786\"],[0.5555555555555556,\"#d8576b\"],[0.6666666666666666,\"#ed7953\"],[0.7777777777777778,\"#fb9f3a\"],[0.8888888888888888,\"#fdca26\"],[1.0,\"#f0f921\"]],\"diverging\":[[0,\"#8e0152\"],[0.1,\"#c51b7d\"],[0.2,\"#de77ae\"],[0.3,\"#f1b6da\"],[0.4,\"#fde0ef\"],[0.5,\"#f7f7f7\"],[0.6,\"#e6f5d0\"],[0.7,\"#b8e186\"],[0.8,\"#7fbc41\"],[0.9,\"#4d9221\"],[1,\"#276419\"]]},\"xaxis\":{\"gridcolor\":\"white\",\"linecolor\":\"white\",\"ticks\":\"\",\"title\":{\"standoff\":15},\"zerolinecolor\":\"white\",\"automargin\":true,\"zerolinewidth\":2},\"yaxis\":{\"gridcolor\":\"white\",\"linecolor\":\"white\",\"ticks\":\"\",\"title\":{\"standoff\":15},\"zerolinecolor\":\"white\",\"automargin\":true,\"zerolinewidth\":2},\"scene\":{\"xaxis\":{\"backgroundcolor\":\"#E5ECF6\",\"gridcolor\":\"white\",\"linecolor\":\"white\",\"showbackground\":true,\"ticks\":\"\",\"zerolinecolor\":\"white\",\"gridwidth\":2},\"yaxis\":{\"backgroundcolor\":\"#E5ECF6\",\"gridcolor\":\"white\",\"linecolor\":\"white\",\"showbackground\":true,\"ticks\":\"\",\"zerolinecolor\":\"white\",\"gridwidth\":2},\"zaxis\":{\"backgroundcolor\":\"#E5ECF6\",\"gridcolor\":\"white\",\"linecolor\":\"white\",\"showbackground\":true,\"ticks\":\"\",\"zerolinecolor\":\"white\",\"gridwidth\":2}},\"shapedefaults\":{\"line\":{\"color\":\"#2a3f5f\"}},\"annotationdefaults\":{\"arrowcolor\":\"#2a3f5f\",\"arrowhead\":0,\"arrowwidth\":1},\"geo\":{\"bgcolor\":\"white\",\"landcolor\":\"#E5ECF6\",\"subunitcolor\":\"white\",\"showland\":true,\"showlakes\":true,\"lakecolor\":\"white\"},\"title\":{\"x\":0.05},\"mapbox\":{\"style\":\"light\"}}}},                        {\"responsive\": true}                    ).then(function(){\n",
       "                            \n",
       "var gd = document.getElementById('d8c05937-bb3c-411c-9e87-92d143a88f73');\n",
       "var x = new MutationObserver(function (mutations, observer) {{\n",
       "        var display = window.getComputedStyle(gd).display;\n",
       "        if (!display || display === 'none') {{\n",
       "            console.log([gd, 'removed!']);\n",
       "            Plotly.purge(gd);\n",
       "            observer.disconnect();\n",
       "        }}\n",
       "}});\n",
       "\n",
       "// Listen for the removal of the full notebook cells\n",
       "var notebookContainer = gd.closest('#notebook-container');\n",
       "if (notebookContainer) {{\n",
       "    x.observe(notebookContainer, {childList: true});\n",
       "}}\n",
       "\n",
       "// Listen for the clearing of the current output cell\n",
       "var outputEl = gd.closest('.output');\n",
       "if (outputEl) {{\n",
       "    x.observe(outputEl, {childList: true});\n",
       "}}\n",
       "\n",
       "                        })                };                });            </script>        </div>"
      ]
     },
     "metadata": {},
     "output_type": "display_data"
    }
   ],
   "source": [
    "# Download percentages by year\n",
    "temp[\"diff\"]=temp[this_year]-temp[last_year]\n",
    "temp = arch_df[arch_os_df[this_year]>0.00001]\n",
    "\n",
    "trace1 = go.Pie(values= temp[this_year], labels = temp[\"name\"],domain=dict(x=[0.5, 1]),title=this_year)\n",
    "trace2 = go.Pie(values= temp[last_year], labels = temp[\"name\"],domain=dict(x=[0.0,0.5]),title=last_year)\n",
    "\n",
    "layout = go.Layout(title=\"ROS Packages Downloaded By Architecture - {0} {1} vs {2} {3}\".format(last_month,last_year,this_year,this_month))\n",
    "data = [trace1, trace2]\n",
    "fig = go.Figure(data=data, layout=layout)\n",
    "fig.show()"
   ]
  },
  {
   "cell_type": "code",
   "execution_count": null,
   "metadata": {},
   "outputs": [],
   "source": []
  },
  {
   "cell_type": "code",
   "execution_count": 52,
   "metadata": {},
   "outputs": [
    {
     "ename": "ValueError",
     "evalue": "All arguments should have the same length. The length of argument `y` is 2, whereas the length of  previously-processed arguments ['name'] is 24",
     "output_type": "error",
     "traceback": [
      "\u001b[0;31m---------------------------------------------------------------------------\u001b[0m",
      "\u001b[0;31mValueError\u001b[0m                                Traceback (most recent call last)",
      "Cell \u001b[0;32mIn[52], line 1\u001b[0m\n\u001b[0;32m----> 1\u001b[0m fig \u001b[38;5;241m=\u001b[39m \u001b[43mpx\u001b[49m\u001b[38;5;241;43m.\u001b[39;49m\u001b[43mbar\u001b[49m\u001b[43m(\u001b[49m\u001b[43mdistro_df\u001b[49m\u001b[43m,\u001b[49m\u001b[43m \u001b[49m\u001b[43mx\u001b[49m\u001b[38;5;241;43m=\u001b[39;49m\u001b[38;5;124;43m\"\u001b[39;49m\u001b[38;5;124;43mname\u001b[39;49m\u001b[38;5;124;43m\"\u001b[39;49m\u001b[43m,\u001b[49m\u001b[43m \u001b[49m\u001b[43my\u001b[49m\u001b[38;5;241;43m=\u001b[39;49m\u001b[43m[\u001b[49m\u001b[38;5;124;43m\"\u001b[39;49m\u001b[38;5;124;43m2023\u001b[39;49m\u001b[38;5;124;43m\"\u001b[39;49m\u001b[43m,\u001b[49m\u001b[43m \u001b[49m\u001b[38;5;124;43m\"\u001b[39;49m\u001b[38;5;124;43m2022\u001b[39;49m\u001b[38;5;124;43m\"\u001b[39;49m\u001b[43m]\u001b[49m\u001b[43m,\u001b[49m\u001b[43m \u001b[49m\u001b[43mtitle\u001b[49m\u001b[38;5;241;43m=\u001b[39;49m\u001b[38;5;124;43m\"\u001b[39;49m\u001b[38;5;124;43mWide-Form Input\u001b[39;49m\u001b[38;5;124;43m\"\u001b[39;49m\u001b[43m)\u001b[49m\n\u001b[1;32m      2\u001b[0m fig\u001b[38;5;241m.\u001b[39mshow()\n",
      "File \u001b[0;32m~/Code/ros_metrics_analysis/notebooks/metrics/lib/python3.11/site-packages/plotly/express/_chart_types.py:373\u001b[0m, in \u001b[0;36mbar\u001b[0;34m(data_frame, x, y, color, pattern_shape, facet_row, facet_col, facet_col_wrap, facet_row_spacing, facet_col_spacing, hover_name, hover_data, custom_data, text, base, error_x, error_x_minus, error_y, error_y_minus, animation_frame, animation_group, category_orders, labels, color_discrete_sequence, color_discrete_map, color_continuous_scale, pattern_shape_sequence, pattern_shape_map, range_color, color_continuous_midpoint, opacity, orientation, barmode, log_x, log_y, range_x, range_y, text_auto, title, template, width, height)\u001b[0m\n\u001b[1;32m    325\u001b[0m \u001b[38;5;28;01mdef\u001b[39;00m \u001b[38;5;21mbar\u001b[39m(\n\u001b[1;32m    326\u001b[0m     data_frame\u001b[38;5;241m=\u001b[39m\u001b[38;5;28;01mNone\u001b[39;00m,\n\u001b[1;32m    327\u001b[0m     x\u001b[38;5;241m=\u001b[39m\u001b[38;5;28;01mNone\u001b[39;00m,\n\u001b[0;32m   (...)\u001b[0m\n\u001b[1;32m    367\u001b[0m     height\u001b[38;5;241m=\u001b[39m\u001b[38;5;28;01mNone\u001b[39;00m,\n\u001b[1;32m    368\u001b[0m ) \u001b[38;5;241m-\u001b[39m\u001b[38;5;241m>\u001b[39m go\u001b[38;5;241m.\u001b[39mFigure:\n\u001b[1;32m    369\u001b[0m \u001b[38;5;250m    \u001b[39m\u001b[38;5;124;03m\"\"\"\u001b[39;00m\n\u001b[1;32m    370\u001b[0m \u001b[38;5;124;03m    In a bar plot, each row of `data_frame` is represented as a rectangular\u001b[39;00m\n\u001b[1;32m    371\u001b[0m \u001b[38;5;124;03m    mark.\u001b[39;00m\n\u001b[1;32m    372\u001b[0m \u001b[38;5;124;03m    \"\"\"\u001b[39;00m\n\u001b[0;32m--> 373\u001b[0m     \u001b[38;5;28;01mreturn\u001b[39;00m \u001b[43mmake_figure\u001b[49m\u001b[43m(\u001b[49m\n\u001b[1;32m    374\u001b[0m \u001b[43m        \u001b[49m\u001b[43margs\u001b[49m\u001b[38;5;241;43m=\u001b[39;49m\u001b[38;5;28;43mlocals\u001b[39;49m\u001b[43m(\u001b[49m\u001b[43m)\u001b[49m\u001b[43m,\u001b[49m\n\u001b[1;32m    375\u001b[0m \u001b[43m        \u001b[49m\u001b[43mconstructor\u001b[49m\u001b[38;5;241;43m=\u001b[39;49m\u001b[43mgo\u001b[49m\u001b[38;5;241;43m.\u001b[39;49m\u001b[43mBar\u001b[49m\u001b[43m,\u001b[49m\n\u001b[1;32m    376\u001b[0m \u001b[43m        \u001b[49m\u001b[43mtrace_patch\u001b[49m\u001b[38;5;241;43m=\u001b[39;49m\u001b[38;5;28;43mdict\u001b[39;49m\u001b[43m(\u001b[49m\u001b[43mtextposition\u001b[49m\u001b[38;5;241;43m=\u001b[39;49m\u001b[38;5;124;43m\"\u001b[39;49m\u001b[38;5;124;43mauto\u001b[39;49m\u001b[38;5;124;43m\"\u001b[39;49m\u001b[43m)\u001b[49m\u001b[43m,\u001b[49m\n\u001b[1;32m    377\u001b[0m \u001b[43m        \u001b[49m\u001b[43mlayout_patch\u001b[49m\u001b[38;5;241;43m=\u001b[39;49m\u001b[38;5;28;43mdict\u001b[39;49m\u001b[43m(\u001b[49m\u001b[43mbarmode\u001b[49m\u001b[38;5;241;43m=\u001b[39;49m\u001b[43mbarmode\u001b[49m\u001b[43m)\u001b[49m\u001b[43m,\u001b[49m\n\u001b[1;32m    378\u001b[0m \u001b[43m    \u001b[49m\u001b[43m)\u001b[49m\n",
      "File \u001b[0;32m~/Code/ros_metrics_analysis/notebooks/metrics/lib/python3.11/site-packages/plotly/express/_core.py:2076\u001b[0m, in \u001b[0;36mmake_figure\u001b[0;34m(args, constructor, trace_patch, layout_patch)\u001b[0m\n\u001b[1;32m   2073\u001b[0m layout_patch \u001b[38;5;241m=\u001b[39m layout_patch \u001b[38;5;129;01mor\u001b[39;00m {}\n\u001b[1;32m   2074\u001b[0m apply_default_cascade(args)\n\u001b[0;32m-> 2076\u001b[0m args \u001b[38;5;241m=\u001b[39m \u001b[43mbuild_dataframe\u001b[49m\u001b[43m(\u001b[49m\u001b[43margs\u001b[49m\u001b[43m,\u001b[49m\u001b[43m \u001b[49m\u001b[43mconstructor\u001b[49m\u001b[43m)\u001b[49m\n\u001b[1;32m   2077\u001b[0m \u001b[38;5;28;01mif\u001b[39;00m constructor \u001b[38;5;129;01min\u001b[39;00m [go\u001b[38;5;241m.\u001b[39mTreemap, go\u001b[38;5;241m.\u001b[39mSunburst, go\u001b[38;5;241m.\u001b[39mIcicle] \u001b[38;5;129;01mand\u001b[39;00m args[\u001b[38;5;124m\"\u001b[39m\u001b[38;5;124mpath\u001b[39m\u001b[38;5;124m\"\u001b[39m] \u001b[38;5;129;01mis\u001b[39;00m \u001b[38;5;129;01mnot\u001b[39;00m \u001b[38;5;28;01mNone\u001b[39;00m:\n\u001b[1;32m   2078\u001b[0m     args \u001b[38;5;241m=\u001b[39m process_dataframe_hierarchy(args)\n",
      "File \u001b[0;32m~/Code/ros_metrics_analysis/notebooks/metrics/lib/python3.11/site-packages/plotly/express/_core.py:1485\u001b[0m, in \u001b[0;36mbuild_dataframe\u001b[0;34m(args, constructor)\u001b[0m\n\u001b[1;32m   1482\u001b[0m     args[\u001b[38;5;124m\"\u001b[39m\u001b[38;5;124mcolor\u001b[39m\u001b[38;5;124m\"\u001b[39m] \u001b[38;5;241m=\u001b[39m \u001b[38;5;28;01mNone\u001b[39;00m\n\u001b[1;32m   1483\u001b[0m \u001b[38;5;66;03m# now that things have been prepped, we do the systematic rewriting of `args`\u001b[39;00m\n\u001b[0;32m-> 1485\u001b[0m df_output, wide_id_vars \u001b[38;5;241m=\u001b[39m \u001b[43mprocess_args_into_dataframe\u001b[49m\u001b[43m(\u001b[49m\n\u001b[1;32m   1486\u001b[0m \u001b[43m    \u001b[49m\u001b[43margs\u001b[49m\u001b[43m,\u001b[49m\u001b[43m \u001b[49m\u001b[43mwide_mode\u001b[49m\u001b[43m,\u001b[49m\u001b[43m \u001b[49m\u001b[43mvar_name\u001b[49m\u001b[43m,\u001b[49m\u001b[43m \u001b[49m\u001b[43mvalue_name\u001b[49m\n\u001b[1;32m   1487\u001b[0m \u001b[43m\u001b[49m\u001b[43m)\u001b[49m\n\u001b[1;32m   1489\u001b[0m \u001b[38;5;66;03m# now that `df_output` exists and `args` contains only references, we complete\u001b[39;00m\n\u001b[1;32m   1490\u001b[0m \u001b[38;5;66;03m# the special-case and wide-mode handling by further rewriting args and/or mutating\u001b[39;00m\n\u001b[1;32m   1491\u001b[0m \u001b[38;5;66;03m# df_output\u001b[39;00m\n\u001b[1;32m   1493\u001b[0m count_name \u001b[38;5;241m=\u001b[39m _escape_col_name(df_output, \u001b[38;5;124m\"\u001b[39m\u001b[38;5;124mcount\u001b[39m\u001b[38;5;124m\"\u001b[39m, [var_name, value_name])\n",
      "File \u001b[0;32m~/Code/ros_metrics_analysis/notebooks/metrics/lib/python3.11/site-packages/plotly/express/_core.py:1250\u001b[0m, in \u001b[0;36mprocess_args_into_dataframe\u001b[0;34m(args, wide_mode, var_name, value_name)\u001b[0m\n\u001b[1;32m   1247\u001b[0m         col_name \u001b[38;5;241m=\u001b[39m _check_name_not_reserved(field, reserved_names)\n\u001b[1;32m   1249\u001b[0m     \u001b[38;5;28;01mif\u001b[39;00m length \u001b[38;5;129;01mand\u001b[39;00m \u001b[38;5;28mlen\u001b[39m(argument) \u001b[38;5;241m!=\u001b[39m length:\n\u001b[0;32m-> 1250\u001b[0m         \u001b[38;5;28;01mraise\u001b[39;00m \u001b[38;5;167;01mValueError\u001b[39;00m(\n\u001b[1;32m   1251\u001b[0m             \u001b[38;5;124m\"\u001b[39m\u001b[38;5;124mAll arguments should have the same length. \u001b[39m\u001b[38;5;124m\"\u001b[39m\n\u001b[1;32m   1252\u001b[0m             \u001b[38;5;124m\"\u001b[39m\u001b[38;5;124mThe length of argument `\u001b[39m\u001b[38;5;132;01m%s\u001b[39;00m\u001b[38;5;124m` is \u001b[39m\u001b[38;5;132;01m%d\u001b[39;00m\u001b[38;5;124m, whereas the \u001b[39m\u001b[38;5;124m\"\u001b[39m\n\u001b[1;32m   1253\u001b[0m             \u001b[38;5;124m\"\u001b[39m\u001b[38;5;124mlength of  previously-processed arguments \u001b[39m\u001b[38;5;132;01m%s\u001b[39;00m\u001b[38;5;124m is \u001b[39m\u001b[38;5;132;01m%d\u001b[39;00m\u001b[38;5;124m\"\u001b[39m\n\u001b[1;32m   1254\u001b[0m             \u001b[38;5;241m%\u001b[39m (field, \u001b[38;5;28mlen\u001b[39m(argument), \u001b[38;5;28mstr\u001b[39m(\u001b[38;5;28mlist\u001b[39m(df_output\u001b[38;5;241m.\u001b[39mkeys())), length)\n\u001b[1;32m   1255\u001b[0m         )\n\u001b[1;32m   1256\u001b[0m     df_output[\u001b[38;5;28mstr\u001b[39m(col_name)] \u001b[38;5;241m=\u001b[39m to_unindexed_series(argument, \u001b[38;5;28mstr\u001b[39m(col_name))\n\u001b[1;32m   1258\u001b[0m \u001b[38;5;66;03m# Finally, update argument with column name now that column exists\u001b[39;00m\n",
      "\u001b[0;31mValueError\u001b[0m: All arguments should have the same length. The length of argument `y` is 2, whereas the length of  previously-processed arguments ['name'] is 24"
     ]
    }
   ],
   "source": [
    "fig = px.bar(distro_df, x=\"name\", y=[\"2023\", \"2022\"], title=\"Wide-Form Input\")\n",
    "fig.show()"
   ]
  },
  {
   "cell_type": "code",
   "execution_count": 53,
   "metadata": {},
   "outputs": [],
   "source": [
    "fname = \"../data/march_2020.txt\"\n",
    "stats_mar_2020 = process_package_dump(fname,\"3/2020\")\n",
    "fname = \"../data/march_2021.txt\"\n",
    "stats_mar_2021 = process_package_dump(fname,\"3/2021\")\n",
    "\n",
    "joined_distro = join_stats([stats_mar_2020[\"distro\"],stats_mar_2021[\"distro\"]])\n",
    "mar_distro_df = pd.DataFrame(data=joined_distro)\n",
    "mar_distro_df.to_csv(\"march_distro.csv\")\n",
    "mar_distro_df.head()\n",
    "stats_mar_2021 = process_package_dump(fname,\"3/2021\")"
   ]
  },
  {
   "cell_type": "code",
   "execution_count": 115,
   "metadata": {},
   "outputs": [
    {
     "ename": "KeyError",
     "evalue": "'7/2021'",
     "output_type": "error",
     "traceback": [
      "\u001b[0;31m---------------------------------------------------------------------------\u001b[0m",
      "\u001b[0;31mKeyError\u001b[0m                                  Traceback (most recent call last)",
      "File \u001b[0;32m~/Code/ros_metrics_analysis/notebooks/metrics/lib/python3.11/site-packages/pandas/core/indexes/base.py:3790\u001b[0m, in \u001b[0;36mIndex.get_loc\u001b[0;34m(self, key)\u001b[0m\n\u001b[1;32m   3789\u001b[0m \u001b[38;5;28;01mtry\u001b[39;00m:\n\u001b[0;32m-> 3790\u001b[0m     \u001b[38;5;28;01mreturn\u001b[39;00m \u001b[38;5;28;43mself\u001b[39;49m\u001b[38;5;241;43m.\u001b[39;49m\u001b[43m_engine\u001b[49m\u001b[38;5;241;43m.\u001b[39;49m\u001b[43mget_loc\u001b[49m\u001b[43m(\u001b[49m\u001b[43mcasted_key\u001b[49m\u001b[43m)\u001b[49m\n\u001b[1;32m   3791\u001b[0m \u001b[38;5;28;01mexcept\u001b[39;00m \u001b[38;5;167;01mKeyError\u001b[39;00m \u001b[38;5;28;01mas\u001b[39;00m err:\n",
      "File \u001b[0;32mindex.pyx:152\u001b[0m, in \u001b[0;36mpandas._libs.index.IndexEngine.get_loc\u001b[0;34m()\u001b[0m\n",
      "File \u001b[0;32mindex.pyx:181\u001b[0m, in \u001b[0;36mpandas._libs.index.IndexEngine.get_loc\u001b[0;34m()\u001b[0m\n",
      "File \u001b[0;32mpandas/_libs/hashtable_class_helper.pxi:7080\u001b[0m, in \u001b[0;36mpandas._libs.hashtable.PyObjectHashTable.get_item\u001b[0;34m()\u001b[0m\n",
      "File \u001b[0;32mpandas/_libs/hashtable_class_helper.pxi:7088\u001b[0m, in \u001b[0;36mpandas._libs.hashtable.PyObjectHashTable.get_item\u001b[0;34m()\u001b[0m\n",
      "\u001b[0;31mKeyError\u001b[0m: '7/2021'",
      "\nThe above exception was the direct cause of the following exception:\n",
      "\u001b[0;31mKeyError\u001b[0m                                  Traceback (most recent call last)",
      "Cell \u001b[0;32mIn[115], line 1\u001b[0m\n\u001b[0;32m----> 1\u001b[0m temp \u001b[38;5;241m=\u001b[39m mar_distro_df[\u001b[43mmar_distro_df\u001b[49m\u001b[43m[\u001b[49m\u001b[38;5;124;43m\"\u001b[39;49m\u001b[38;5;124;43m7/2021\u001b[39;49m\u001b[38;5;124;43m\"\u001b[39;49m\u001b[43m]\u001b[49m\u001b[38;5;241m>\u001b[39m\u001b[38;5;241m0.5\u001b[39m]\n\u001b[1;32m      3\u001b[0m trace1 \u001b[38;5;241m=\u001b[39m go\u001b[38;5;241m.\u001b[39mPie(values\u001b[38;5;241m=\u001b[39m temp[\u001b[38;5;124m\"\u001b[39m\u001b[38;5;124m7/2020\u001b[39m\u001b[38;5;124m\"\u001b[39m], labels \u001b[38;5;241m=\u001b[39m temp[\u001b[38;5;124m\"\u001b[39m\u001b[38;5;124mname\u001b[39m\u001b[38;5;124m\"\u001b[39m],domain\u001b[38;5;241m=\u001b[39m\u001b[38;5;28mdict\u001b[39m(x\u001b[38;5;241m=\u001b[39m[\u001b[38;5;241m0.5\u001b[39m,\u001b[38;5;241m1.0\u001b[39m]),title\u001b[38;5;241m=\u001b[39m\u001b[38;5;124m\"\u001b[39m\u001b[38;5;124m7/2020\u001b[39m\u001b[38;5;124m\"\u001b[39m)\n\u001b[1;32m      4\u001b[0m trace2 \u001b[38;5;241m=\u001b[39m go\u001b[38;5;241m.\u001b[39mPie(values\u001b[38;5;241m=\u001b[39m temp[\u001b[38;5;124m\"\u001b[39m\u001b[38;5;124m7/2021\u001b[39m\u001b[38;5;124m\"\u001b[39m], labels \u001b[38;5;241m=\u001b[39m temp[\u001b[38;5;124m\"\u001b[39m\u001b[38;5;124mname\u001b[39m\u001b[38;5;124m\"\u001b[39m],domain\u001b[38;5;241m=\u001b[39m\u001b[38;5;28mdict\u001b[39m(x\u001b[38;5;241m=\u001b[39m[\u001b[38;5;241m0\u001b[39m, \u001b[38;5;241m0.5\u001b[39m]),title\u001b[38;5;241m=\u001b[39m\u001b[38;5;124m\"\u001b[39m\u001b[38;5;124m7/2021\u001b[39m\u001b[38;5;124m\"\u001b[39m)\n",
      "File \u001b[0;32m~/Code/ros_metrics_analysis/notebooks/metrics/lib/python3.11/site-packages/pandas/core/frame.py:3893\u001b[0m, in \u001b[0;36mDataFrame.__getitem__\u001b[0;34m(self, key)\u001b[0m\n\u001b[1;32m   3891\u001b[0m \u001b[38;5;28;01mif\u001b[39;00m \u001b[38;5;28mself\u001b[39m\u001b[38;5;241m.\u001b[39mcolumns\u001b[38;5;241m.\u001b[39mnlevels \u001b[38;5;241m>\u001b[39m \u001b[38;5;241m1\u001b[39m:\n\u001b[1;32m   3892\u001b[0m     \u001b[38;5;28;01mreturn\u001b[39;00m \u001b[38;5;28mself\u001b[39m\u001b[38;5;241m.\u001b[39m_getitem_multilevel(key)\n\u001b[0;32m-> 3893\u001b[0m indexer \u001b[38;5;241m=\u001b[39m \u001b[38;5;28;43mself\u001b[39;49m\u001b[38;5;241;43m.\u001b[39;49m\u001b[43mcolumns\u001b[49m\u001b[38;5;241;43m.\u001b[39;49m\u001b[43mget_loc\u001b[49m\u001b[43m(\u001b[49m\u001b[43mkey\u001b[49m\u001b[43m)\u001b[49m\n\u001b[1;32m   3894\u001b[0m \u001b[38;5;28;01mif\u001b[39;00m is_integer(indexer):\n\u001b[1;32m   3895\u001b[0m     indexer \u001b[38;5;241m=\u001b[39m [indexer]\n",
      "File \u001b[0;32m~/Code/ros_metrics_analysis/notebooks/metrics/lib/python3.11/site-packages/pandas/core/indexes/base.py:3797\u001b[0m, in \u001b[0;36mIndex.get_loc\u001b[0;34m(self, key)\u001b[0m\n\u001b[1;32m   3792\u001b[0m     \u001b[38;5;28;01mif\u001b[39;00m \u001b[38;5;28misinstance\u001b[39m(casted_key, \u001b[38;5;28mslice\u001b[39m) \u001b[38;5;129;01mor\u001b[39;00m (\n\u001b[1;32m   3793\u001b[0m         \u001b[38;5;28misinstance\u001b[39m(casted_key, abc\u001b[38;5;241m.\u001b[39mIterable)\n\u001b[1;32m   3794\u001b[0m         \u001b[38;5;129;01mand\u001b[39;00m \u001b[38;5;28many\u001b[39m(\u001b[38;5;28misinstance\u001b[39m(x, \u001b[38;5;28mslice\u001b[39m) \u001b[38;5;28;01mfor\u001b[39;00m x \u001b[38;5;129;01min\u001b[39;00m casted_key)\n\u001b[1;32m   3795\u001b[0m     ):\n\u001b[1;32m   3796\u001b[0m         \u001b[38;5;28;01mraise\u001b[39;00m InvalidIndexError(key)\n\u001b[0;32m-> 3797\u001b[0m     \u001b[38;5;28;01mraise\u001b[39;00m \u001b[38;5;167;01mKeyError\u001b[39;00m(key) \u001b[38;5;28;01mfrom\u001b[39;00m \u001b[38;5;21;01merr\u001b[39;00m\n\u001b[1;32m   3798\u001b[0m \u001b[38;5;28;01mexcept\u001b[39;00m \u001b[38;5;167;01mTypeError\u001b[39;00m:\n\u001b[1;32m   3799\u001b[0m     \u001b[38;5;66;03m# If we have a listlike key, _check_indexing_error will raise\u001b[39;00m\n\u001b[1;32m   3800\u001b[0m     \u001b[38;5;66;03m#  InvalidIndexError. Otherwise we fall through and re-raise\u001b[39;00m\n\u001b[1;32m   3801\u001b[0m     \u001b[38;5;66;03m#  the TypeError.\u001b[39;00m\n\u001b[1;32m   3802\u001b[0m     \u001b[38;5;28mself\u001b[39m\u001b[38;5;241m.\u001b[39m_check_indexing_error(key)\n",
      "\u001b[0;31mKeyError\u001b[0m: '7/2021'"
     ]
    }
   ],
   "source": [
    "temp = mar_distro_df[mar_distro_df[\"7/2021\"]>0.5]\n",
    "\n",
    "trace1 = go.Pie(values= temp[\"7/2020\"], labels = temp[\"name\"],domain=dict(x=[0.5,1.0]),title=\"7/2020\")\n",
    "trace2 = go.Pie(values= temp[\"7/2021\"], labels = temp[\"name\"],domain=dict(x=[0, 0.5]),title=\"7/2021\")\n",
    "\n",
    "layout = go.Layout(title=\"ROS Index Download Percentage: March 2020 vs. March 2021\",)\n",
    "data = [trace1, trace2]\n",
    "fig = go.Figure(data=data, layout=layout)\n",
    "fig.show()\n"
   ]
  },
  {
   "cell_type": "code",
   "execution_count": null,
   "metadata": {},
   "outputs": [],
   "source": [
    "cd ../data/\n"
   ]
  },
  {
   "cell_type": "code",
   "execution_count": 1,
   "metadata": {},
   "outputs": [
    {
     "ename": "NameError",
     "evalue": "name 'stats_this' is not defined",
     "output_type": "error",
     "traceback": [
      "\u001b[0;31m---------------------------------------------------------------------------\u001b[0m",
      "\u001b[0;31mNameError\u001b[0m                                 Traceback (most recent call last)",
      "Cell \u001b[0;32mIn[1], line 1\u001b[0m\n\u001b[0;32m----> 1\u001b[0m \u001b[43mstats_this\u001b[49m\n",
      "\u001b[0;31mNameError\u001b[0m: name 'stats_this' is not defined"
     ]
    }
   ],
   "source": [
    "stats_this"
   ]
  },
  {
   "cell_type": "code",
   "execution_count": null,
   "metadata": {},
   "outputs": [],
   "source": []
  },
  {
   "cell_type": "code",
   "execution_count": null,
   "metadata": {},
   "outputs": [],
   "source": []
  },
  {
   "cell_type": "code",
   "execution_count": null,
   "metadata": {},
   "outputs": [],
   "source": []
  },
  {
   "cell_type": "code",
   "execution_count": null,
   "metadata": {},
   "outputs": [],
   "source": []
  },
  {
   "cell_type": "code",
   "execution_count": null,
   "metadata": {},
   "outputs": [],
   "source": []
  },
  {
   "cell_type": "code",
   "execution_count": null,
   "metadata": {},
   "outputs": [],
   "source": []
  },
  {
   "cell_type": "code",
   "execution_count": null,
   "metadata": {},
   "outputs": [],
   "source": []
  },
  {
   "cell_type": "code",
   "execution_count": null,
   "metadata": {},
   "outputs": [],
   "source": []
  },
  {
   "cell_type": "code",
   "execution_count": null,
   "metadata": {},
   "outputs": [],
   "source": []
  },
  {
   "cell_type": "code",
   "execution_count": null,
   "metadata": {},
   "outputs": [],
   "source": []
  },
  {
   "cell_type": "code",
   "execution_count": null,
   "metadata": {},
   "outputs": [],
   "source": []
  }
 ],
 "metadata": {
  "kernelspec": {
   "display_name": "metrics",
   "language": "python",
   "name": "metrics"
  },
  "language_info": {
   "codemirror_mode": {
    "name": "ipython",
    "version": 3
   },
   "file_extension": ".py",
   "mimetype": "text/x-python",
   "name": "python",
   "nbconvert_exporter": "python",
   "pygments_lexer": "ipython3",
   "version": "3.11.9"
  }
 },
 "nbformat": 4,
 "nbformat_minor": 2
}
