{
 "cells": [
  {
   "cell_type": "code",
   "execution_count": 22,
   "metadata": {},
   "outputs": [],
   "source": [
    "# pip install https://github.com/googleapis/python-analytics-data\n",
    "from apiclient.discovery import build \n",
    "from oauth2client.service_account import ServiceAccountCredentials"
   ]
  },
  {
   "cell_type": "code",
   "execution_count": 2,
   "metadata": {},
   "outputs": [],
   "source": [
    "# https://lvngd.com/blog/access-the-google-analytics-reporting-api-with-python/"
   ]
  },
  {
   "cell_type": "code",
   "execution_count": 18,
   "metadata": {},
   "outputs": [],
   "source": [
    "# VIEW ID Gives the analytics tracker you want to connect to (e.g. Wiki, robots, ros.org)\n",
    "# You'll need one for each property\n",
    "# Example: https://keyword-hero.com/documentation/finding-your-view-id-in-google-analytics\n",
    "SCOPES = ['https://www.googleapis.com/auth/analytics.readonly']\n",
    "KEY_FILE_LOCATION = './ganalyticstest-254023-93ec92d191d6.json'\n",
    "VIEW_ID = '76364704'"
   ]
  },
  {
   "cell_type": "code",
   "execution_count": 13,
   "metadata": {},
   "outputs": [],
   "source": [
    "credentials = ServiceAccountCredentials.from_json_keyfile_name( \n",
    "            KEY_FILE_LOCATION, SCOPES)"
   ]
  },
  {
   "cell_type": "code",
   "execution_count": 14,
   "metadata": {},
   "outputs": [],
   "source": [
    "analytics = build('analyticsreporting', 'v4', credentials=credentials)"
   ]
  },
  {
   "cell_type": "code",
   "execution_count": null,
   "metadata": {},
   "outputs": [],
   "source": [
    "# Note, you must grep the keyfile for the e-mail address, \n",
    "# e.g. blah@foo.iam.gserviceaccount.com and, and then add it\n",
    "# to the authorized user account.\n",
    "# i.e. https://analytics.google.com/analytics/web/#/a17821189w35999412p76364704/admin/suiteusermanagement/account\n",
    "# See: https://stackoverflow.com/questions/12837748/analytics-google-api-error-403-user-does-not-have-any-google-analytics-account"
   ]
  },
  {
   "cell_type": "code",
   "execution_count": 21,
   "metadata": {},
   "outputs": [],
   "source": [
    "response = analytics.reports().batchGet( \n",
    "    body={ \n",
    "        'reportRequests': [ \n",
    "            { \n",
    "                'viewId': VIEW_ID, \n",
    "                'dateRanges': [{'startDate': '365daysAgo', 'endDate': 'today'}], \n",
    "                'metrics': [{'expression': 'ga:percentNewSessions'}] \n",
    "                }] \n",
    "                } \n",
    "            ).execute()"
   ]
  },
  {
   "cell_type": "code",
   "execution_count": 17,
   "metadata": {},
   "outputs": [
    {
     "data": {
      "text/plain": [
       "{'reports': [{'columnHeader': {'metricHeader': {'metricHeaderEntries': [{'name': 'ga:percentNewSessions',\n",
       "       'type': 'PERCENT'}]}},\n",
       "   'data': {'maximums': [{'values': ['20.338010032996216']}],\n",
       "    'minimums': [{'values': ['20.338010032996216']}],\n",
       "    'rowCount': 1,\n",
       "    'rows': [{'metrics': [{'values': ['20.338010032996216']}]}],\n",
       "    'totals': [{'values': ['20.338010032996216']}]}}]}"
      ]
     },
     "execution_count": 17,
     "metadata": {},
     "output_type": "execute_result"
    }
   ],
   "source": [
    "response"
   ]
  },
  {
   "cell_type": "code",
   "execution_count": null,
   "metadata": {},
   "outputs": [],
   "source": []
  }
 ],
 "metadata": {
  "kernelspec": {
   "display_name": "Python 3",
   "language": "python",
   "name": "python3"
  },
  "language_info": {
   "codemirror_mode": {
    "name": "ipython",
    "version": 3
   },
   "file_extension": ".py",
   "mimetype": "text/x-python",
   "name": "python",
   "nbconvert_exporter": "python",
   "pygments_lexer": "ipython3",
   "version": "3.6.9"
  }
 },
 "nbformat": 4,
 "nbformat_minor": 2
}
