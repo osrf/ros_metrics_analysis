{
 "cells": [
  {
   "cell_type": "code",
   "execution_count": 157,
   "id": "d9eba239",
   "metadata": {},
   "outputs": [],
   "source": [
    "import pandas as pd\n",
    "import io\n",
    "from lars import apache, csv\n",
    "import copy\n",
    "import datetime\n",
    "import time\n",
    "from collections import Counter\n",
    "import glob\n",
    "import plotly.express as px\n",
    "from plotly import tools\n",
    "import plotly.offline as py\n",
    "import plotly.graph_objs as go"
   ]
  },
  {
   "cell_type": "code",
   "execution_count": 2,
   "id": "9d34d4f0",
   "metadata": {},
   "outputs": [],
   "source": [
    "fname = \"./temp/packages-logs/apt-access.log\""
   ]
  },
  {
   "cell_type": "code",
   "execution_count": 3,
   "id": "3f5a8108",
   "metadata": {},
   "outputs": [],
   "source": [
    "def date_check(to_check,start_time,end_time):\n",
    "    if start_time < end_time:\n",
    "        return to_check >= start_time and to_check <= end_time\n",
    "    else: #Over midnight\n",
    "        return to_check >= start_time or to_check <= end_time"
   ]
  },
  {
   "cell_type": "code",
   "execution_count": 43,
   "id": "b0ea109e",
   "metadata": {},
   "outputs": [
    {
     "name": "stdout",
     "output_type": "stream",
     "text": [
      "./temp/packages-logs/apt-access.log.1\n",
      ".\n"
     ]
    },
    {
     "name": "stderr",
     "output_type": "stream",
     "text": [
      "/home/katscott/Code/ros_metrics_analysis/notebooks/metrics/lib/python3.11/site-packages/lars/apache.py:741: ApacheWarning: Line 7256: Line contains invalid data\n",
      "  warnings.warn(\n",
      "/home/katscott/Code/ros_metrics_analysis/notebooks/metrics/lib/python3.11/site-packages/lars/apache.py:741: ApacheWarning: Line 12888: Line contains invalid data\n",
      "  warnings.warn(\n",
      "/home/katscott/Code/ros_metrics_analysis/notebooks/metrics/lib/python3.11/site-packages/lars/apache.py:741: ApacheWarning: Line 12892: Line contains invalid data\n",
      "  warnings.warn(\n",
      "/home/katscott/Code/ros_metrics_analysis/notebooks/metrics/lib/python3.11/site-packages/lars/apache.py:741: ApacheWarning: Line 12896: Line contains invalid data\n",
      "  warnings.warn(\n",
      "/home/katscott/Code/ros_metrics_analysis/notebooks/metrics/lib/python3.11/site-packages/lars/apache.py:741: ApacheWarning: Line 12901: Line contains invalid data\n",
      "  warnings.warn(\n",
      "/home/katscott/Code/ros_metrics_analysis/notebooks/metrics/lib/python3.11/site-packages/lars/apache.py:741: ApacheWarning: Line 12906: Line contains invalid data\n",
      "  warnings.warn(\n",
      "/home/katscott/Code/ros_metrics_analysis/notebooks/metrics/lib/python3.11/site-packages/lars/apache.py:741: ApacheWarning: Line 12911: Line contains invalid data\n",
      "  warnings.warn(\n",
      "/home/katscott/Code/ros_metrics_analysis/notebooks/metrics/lib/python3.11/site-packages/lars/apache.py:741: ApacheWarning: Line 14825: Line contains invalid data\n",
      "  warnings.warn(\n",
      "/home/katscott/Code/ros_metrics_analysis/notebooks/metrics/lib/python3.11/site-packages/lars/apache.py:741: ApacheWarning: Line 14826: Line contains invalid data\n",
      "  warnings.warn(\n",
      "/home/katscott/Code/ros_metrics_analysis/notebooks/metrics/lib/python3.11/site-packages/lars/apache.py:741: ApacheWarning: Line 19271: Line contains invalid data\n",
      "  warnings.warn(\n",
      "/home/katscott/Code/ros_metrics_analysis/notebooks/metrics/lib/python3.11/site-packages/lars/apache.py:741: ApacheWarning: Line 41248: Line contains invalid data\n",
      "  warnings.warn(\n",
      "/home/katscott/Code/ros_metrics_analysis/notebooks/metrics/lib/python3.11/site-packages/lars/apache.py:741: ApacheWarning: Line 41251: Line contains invalid data\n",
      "  warnings.warn(\n",
      "/home/katscott/Code/ros_metrics_analysis/notebooks/metrics/lib/python3.11/site-packages/lars/apache.py:741: ApacheWarning: Line 41252: Line contains invalid data\n",
      "  warnings.warn(\n",
      "/home/katscott/Code/ros_metrics_analysis/notebooks/metrics/lib/python3.11/site-packages/lars/apache.py:741: ApacheWarning: Line 41253: Line contains invalid data\n",
      "  warnings.warn(\n",
      "/home/katscott/Code/ros_metrics_analysis/notebooks/metrics/lib/python3.11/site-packages/lars/apache.py:741: ApacheWarning: Line 41254: Line contains invalid data\n",
      "  warnings.warn(\n",
      "/home/katscott/Code/ros_metrics_analysis/notebooks/metrics/lib/python3.11/site-packages/lars/apache.py:741: ApacheWarning: Line 41287: Line contains invalid data\n",
      "  warnings.warn(\n",
      "/home/katscott/Code/ros_metrics_analysis/notebooks/metrics/lib/python3.11/site-packages/lars/apache.py:741: ApacheWarning: Line 45834: Line contains invalid data\n",
      "  warnings.warn(\n",
      "/home/katscott/Code/ros_metrics_analysis/notebooks/metrics/lib/python3.11/site-packages/lars/apache.py:741: ApacheWarning: Line 45835: Line contains invalid data\n",
      "  warnings.warn(\n"
     ]
    },
    {
     "name": "stdout",
     "output_type": "stream",
     "text": [
      ".\n",
      ".\n",
      ".\n",
      ".\n",
      ".\n",
      ".\n"
     ]
    },
    {
     "name": "stderr",
     "output_type": "stream",
     "text": [
      "/home/katscott/Code/ros_metrics_analysis/notebooks/metrics/lib/python3.11/site-packages/lars/apache.py:741: ApacheWarning: Line 79145: Line contains invalid data\n",
      "  warnings.warn(\n",
      "/home/katscott/Code/ros_metrics_analysis/notebooks/metrics/lib/python3.11/site-packages/lars/apache.py:741: ApacheWarning: Line 94063: Line contains invalid data\n",
      "  warnings.warn(\n",
      "/home/katscott/Code/ros_metrics_analysis/notebooks/metrics/lib/python3.11/site-packages/lars/apache.py:741: ApacheWarning: Line 102513: Line contains invalid data\n",
      "  warnings.warn(\n",
      "/home/katscott/Code/ros_metrics_analysis/notebooks/metrics/lib/python3.11/site-packages/lars/apache.py:741: ApacheWarning: Line 103528: Line contains invalid data\n",
      "  warnings.warn(\n"
     ]
    },
    {
     "name": "stdout",
     "output_type": "stream",
     "text": [
      ".\n",
      ".\n",
      ".\n",
      ".\n",
      ".\n",
      ".\n",
      ".\n"
     ]
    },
    {
     "name": "stderr",
     "output_type": "stream",
     "text": [
      "/home/katscott/Code/ros_metrics_analysis/notebooks/metrics/lib/python3.11/site-packages/lars/apache.py:741: ApacheWarning: Line 133667: Line contains invalid data\n",
      "  warnings.warn(\n",
      "/home/katscott/Code/ros_metrics_analysis/notebooks/metrics/lib/python3.11/site-packages/lars/apache.py:741: ApacheWarning: Line 136153: Line contains invalid data\n",
      "  warnings.warn(\n",
      "/home/katscott/Code/ros_metrics_analysis/notebooks/metrics/lib/python3.11/site-packages/lars/apache.py:741: ApacheWarning: Line 136413: Line contains invalid data\n",
      "  warnings.warn(\n",
      "/home/katscott/Code/ros_metrics_analysis/notebooks/metrics/lib/python3.11/site-packages/lars/apache.py:741: ApacheWarning: Line 138720: Line contains invalid data\n",
      "  warnings.warn(\n",
      "/home/katscott/Code/ros_metrics_analysis/notebooks/metrics/lib/python3.11/site-packages/lars/apache.py:741: ApacheWarning: Line 146765: Line contains invalid data\n",
      "  warnings.warn(\n",
      "/home/katscott/Code/ros_metrics_analysis/notebooks/metrics/lib/python3.11/site-packages/lars/apache.py:741: ApacheWarning: Line 146766: Line contains invalid data\n",
      "  warnings.warn(\n",
      "/home/katscott/Code/ros_metrics_analysis/notebooks/metrics/lib/python3.11/site-packages/lars/apache.py:741: ApacheWarning: Line 150933: Line contains invalid data\n",
      "  warnings.warn(\n"
     ]
    },
    {
     "name": "stdout",
     "output_type": "stream",
     "text": [
      ".\n",
      "./temp/packages-logs/apt-access.log.10\n",
      ".\n"
     ]
    },
    {
     "name": "stderr",
     "output_type": "stream",
     "text": [
      "/home/katscott/Code/ros_metrics_analysis/notebooks/metrics/lib/python3.11/site-packages/lars/apache.py:741: ApacheWarning: Line 6249: Line contains invalid data\n",
      "  warnings.warn(\n",
      "/home/katscott/Code/ros_metrics_analysis/notebooks/metrics/lib/python3.11/site-packages/lars/apache.py:741: ApacheWarning: Line 6250: Line contains invalid data\n",
      "  warnings.warn(\n",
      "/home/katscott/Code/ros_metrics_analysis/notebooks/metrics/lib/python3.11/site-packages/lars/apache.py:741: ApacheWarning: Line 6251: Line contains invalid data\n",
      "  warnings.warn(\n",
      "/home/katscott/Code/ros_metrics_analysis/notebooks/metrics/lib/python3.11/site-packages/lars/apache.py:741: ApacheWarning: Line 6252: Line contains invalid data\n",
      "  warnings.warn(\n",
      "/home/katscott/Code/ros_metrics_analysis/notebooks/metrics/lib/python3.11/site-packages/lars/apache.py:741: ApacheWarning: Line 6253: Line contains invalid data\n",
      "  warnings.warn(\n",
      "/home/katscott/Code/ros_metrics_analysis/notebooks/metrics/lib/python3.11/site-packages/lars/apache.py:741: ApacheWarning: Line 6254: Line contains invalid data\n",
      "  warnings.warn(\n",
      "/home/katscott/Code/ros_metrics_analysis/notebooks/metrics/lib/python3.11/site-packages/lars/apache.py:741: ApacheWarning: Line 7861: Line contains invalid data\n",
      "  warnings.warn(\n",
      "/home/katscott/Code/ros_metrics_analysis/notebooks/metrics/lib/python3.11/site-packages/lars/apache.py:741: ApacheWarning: Line 16011: Line contains invalid data\n",
      "  warnings.warn(\n",
      "/home/katscott/Code/ros_metrics_analysis/notebooks/metrics/lib/python3.11/site-packages/lars/apache.py:741: ApacheWarning: Line 18894: Line contains invalid data\n",
      "  warnings.warn(\n",
      "/home/katscott/Code/ros_metrics_analysis/notebooks/metrics/lib/python3.11/site-packages/lars/apache.py:741: ApacheWarning: Line 18895: Line contains invalid data\n",
      "  warnings.warn(\n",
      "/home/katscott/Code/ros_metrics_analysis/notebooks/metrics/lib/python3.11/site-packages/lars/apache.py:741: ApacheWarning: Line 21566: Line contains invalid data\n",
      "  warnings.warn(\n",
      "/home/katscott/Code/ros_metrics_analysis/notebooks/metrics/lib/python3.11/site-packages/lars/apache.py:741: ApacheWarning: Line 27862: Line contains invalid data\n",
      "  warnings.warn(\n",
      "/home/katscott/Code/ros_metrics_analysis/notebooks/metrics/lib/python3.11/site-packages/lars/apache.py:741: ApacheWarning: Line 28598: Line contains invalid data\n",
      "  warnings.warn(\n",
      "/home/katscott/Code/ros_metrics_analysis/notebooks/metrics/lib/python3.11/site-packages/lars/apache.py:741: ApacheWarning: Line 28599: Line contains invalid data\n",
      "  warnings.warn(\n",
      "/home/katscott/Code/ros_metrics_analysis/notebooks/metrics/lib/python3.11/site-packages/lars/apache.py:741: ApacheWarning: Line 28600: Line contains invalid data\n",
      "  warnings.warn(\n",
      "/home/katscott/Code/ros_metrics_analysis/notebooks/metrics/lib/python3.11/site-packages/lars/apache.py:741: ApacheWarning: Line 28601: Line contains invalid data\n",
      "  warnings.warn(\n",
      "/home/katscott/Code/ros_metrics_analysis/notebooks/metrics/lib/python3.11/site-packages/lars/apache.py:741: ApacheWarning: Line 28602: Line contains invalid data\n",
      "  warnings.warn(\n",
      "/home/katscott/Code/ros_metrics_analysis/notebooks/metrics/lib/python3.11/site-packages/lars/apache.py:741: ApacheWarning: Line 28603: Line contains invalid data\n",
      "  warnings.warn(\n",
      "/home/katscott/Code/ros_metrics_analysis/notebooks/metrics/lib/python3.11/site-packages/lars/apache.py:741: ApacheWarning: Line 28605: Line contains invalid data\n",
      "  warnings.warn(\n",
      "/home/katscott/Code/ros_metrics_analysis/notebooks/metrics/lib/python3.11/site-packages/lars/apache.py:741: ApacheWarning: Line 28606: Line contains invalid data\n",
      "  warnings.warn(\n",
      "/home/katscott/Code/ros_metrics_analysis/notebooks/metrics/lib/python3.11/site-packages/lars/apache.py:741: ApacheWarning: Line 28607: Line contains invalid data\n",
      "  warnings.warn(\n",
      "/home/katscott/Code/ros_metrics_analysis/notebooks/metrics/lib/python3.11/site-packages/lars/apache.py:741: ApacheWarning: Line 28608: Line contains invalid data\n",
      "  warnings.warn(\n",
      "/home/katscott/Code/ros_metrics_analysis/notebooks/metrics/lib/python3.11/site-packages/lars/apache.py:741: ApacheWarning: Line 28609: Line contains invalid data\n",
      "  warnings.warn(\n",
      "/home/katscott/Code/ros_metrics_analysis/notebooks/metrics/lib/python3.11/site-packages/lars/apache.py:741: ApacheWarning: Line 28610: Line contains invalid data\n",
      "  warnings.warn(\n",
      "/home/katscott/Code/ros_metrics_analysis/notebooks/metrics/lib/python3.11/site-packages/lars/apache.py:741: ApacheWarning: Line 28611: Line contains invalid data\n",
      "  warnings.warn(\n",
      "/home/katscott/Code/ros_metrics_analysis/notebooks/metrics/lib/python3.11/site-packages/lars/apache.py:741: ApacheWarning: Line 28612: Line contains invalid data\n",
      "  warnings.warn(\n",
      "/home/katscott/Code/ros_metrics_analysis/notebooks/metrics/lib/python3.11/site-packages/lars/apache.py:741: ApacheWarning: Line 28613: Line contains invalid data\n",
      "  warnings.warn(\n",
      "/home/katscott/Code/ros_metrics_analysis/notebooks/metrics/lib/python3.11/site-packages/lars/apache.py:741: ApacheWarning: Line 28614: Line contains invalid data\n",
      "  warnings.warn(\n",
      "/home/katscott/Code/ros_metrics_analysis/notebooks/metrics/lib/python3.11/site-packages/lars/apache.py:741: ApacheWarning: Line 28615: Line contains invalid data\n",
      "  warnings.warn(\n",
      "/home/katscott/Code/ros_metrics_analysis/notebooks/metrics/lib/python3.11/site-packages/lars/apache.py:741: ApacheWarning: Line 28616: Line contains invalid data\n",
      "  warnings.warn(\n",
      "/home/katscott/Code/ros_metrics_analysis/notebooks/metrics/lib/python3.11/site-packages/lars/apache.py:741: ApacheWarning: Line 28617: Line contains invalid data\n",
      "  warnings.warn(\n",
      "/home/katscott/Code/ros_metrics_analysis/notebooks/metrics/lib/python3.11/site-packages/lars/apache.py:741: ApacheWarning: Line 28619: Line contains invalid data\n",
      "  warnings.warn(\n",
      "/home/katscott/Code/ros_metrics_analysis/notebooks/metrics/lib/python3.11/site-packages/lars/apache.py:741: ApacheWarning: Line 28620: Line contains invalid data\n",
      "  warnings.warn(\n",
      "/home/katscott/Code/ros_metrics_analysis/notebooks/metrics/lib/python3.11/site-packages/lars/apache.py:741: ApacheWarning: Line 28622: Line contains invalid data\n",
      "  warnings.warn(\n",
      "/home/katscott/Code/ros_metrics_analysis/notebooks/metrics/lib/python3.11/site-packages/lars/apache.py:741: ApacheWarning: Line 28624: Line contains invalid data\n",
      "  warnings.warn(\n",
      "/home/katscott/Code/ros_metrics_analysis/notebooks/metrics/lib/python3.11/site-packages/lars/apache.py:741: ApacheWarning: Line 28626: Line contains invalid data\n",
      "  warnings.warn(\n",
      "/home/katscott/Code/ros_metrics_analysis/notebooks/metrics/lib/python3.11/site-packages/lars/apache.py:741: ApacheWarning: Line 28627: Line contains invalid data\n",
      "  warnings.warn(\n",
      "/home/katscott/Code/ros_metrics_analysis/notebooks/metrics/lib/python3.11/site-packages/lars/apache.py:741: ApacheWarning: Line 28628: Line contains invalid data\n",
      "  warnings.warn(\n",
      "/home/katscott/Code/ros_metrics_analysis/notebooks/metrics/lib/python3.11/site-packages/lars/apache.py:741: ApacheWarning: Line 28629: Line contains invalid data\n",
      "  warnings.warn(\n",
      "/home/katscott/Code/ros_metrics_analysis/notebooks/metrics/lib/python3.11/site-packages/lars/apache.py:741: ApacheWarning: Line 28630: Line contains invalid data\n",
      "  warnings.warn(\n",
      "/home/katscott/Code/ros_metrics_analysis/notebooks/metrics/lib/python3.11/site-packages/lars/apache.py:741: ApacheWarning: Line 28631: Line contains invalid data\n",
      "  warnings.warn(\n",
      "/home/katscott/Code/ros_metrics_analysis/notebooks/metrics/lib/python3.11/site-packages/lars/apache.py:741: ApacheWarning: Line 28632: Line contains invalid data\n",
      "  warnings.warn(\n",
      "/home/katscott/Code/ros_metrics_analysis/notebooks/metrics/lib/python3.11/site-packages/lars/apache.py:741: ApacheWarning: Line 28633: Line contains invalid data\n",
      "  warnings.warn(\n",
      "/home/katscott/Code/ros_metrics_analysis/notebooks/metrics/lib/python3.11/site-packages/lars/apache.py:741: ApacheWarning: Line 28634: Line contains invalid data\n",
      "  warnings.warn(\n",
      "/home/katscott/Code/ros_metrics_analysis/notebooks/metrics/lib/python3.11/site-packages/lars/apache.py:741: ApacheWarning: Line 28635: Line contains invalid data\n",
      "  warnings.warn(\n",
      "/home/katscott/Code/ros_metrics_analysis/notebooks/metrics/lib/python3.11/site-packages/lars/apache.py:741: ApacheWarning: Line 28637: Line contains invalid data\n",
      "  warnings.warn(\n",
      "/home/katscott/Code/ros_metrics_analysis/notebooks/metrics/lib/python3.11/site-packages/lars/apache.py:741: ApacheWarning: Line 28638: Line contains invalid data\n",
      "  warnings.warn(\n",
      "/home/katscott/Code/ros_metrics_analysis/notebooks/metrics/lib/python3.11/site-packages/lars/apache.py:741: ApacheWarning: Line 28639: Line contains invalid data\n",
      "  warnings.warn(\n",
      "/home/katscott/Code/ros_metrics_analysis/notebooks/metrics/lib/python3.11/site-packages/lars/apache.py:741: ApacheWarning: Line 28640: Line contains invalid data\n",
      "  warnings.warn(\n",
      "/home/katscott/Code/ros_metrics_analysis/notebooks/metrics/lib/python3.11/site-packages/lars/apache.py:741: ApacheWarning: Line 28641: Line contains invalid data\n",
      "  warnings.warn(\n",
      "/home/katscott/Code/ros_metrics_analysis/notebooks/metrics/lib/python3.11/site-packages/lars/apache.py:741: ApacheWarning: Line 28642: Line contains invalid data\n",
      "  warnings.warn(\n",
      "/home/katscott/Code/ros_metrics_analysis/notebooks/metrics/lib/python3.11/site-packages/lars/apache.py:741: ApacheWarning: Line 28643: Line contains invalid data\n",
      "  warnings.warn(\n",
      "/home/katscott/Code/ros_metrics_analysis/notebooks/metrics/lib/python3.11/site-packages/lars/apache.py:741: ApacheWarning: Line 28645: Line contains invalid data\n",
      "  warnings.warn(\n",
      "/home/katscott/Code/ros_metrics_analysis/notebooks/metrics/lib/python3.11/site-packages/lars/apache.py:741: ApacheWarning: Line 28646: Line contains invalid data\n",
      "  warnings.warn(\n",
      "/home/katscott/Code/ros_metrics_analysis/notebooks/metrics/lib/python3.11/site-packages/lars/apache.py:741: ApacheWarning: Line 28647: Line contains invalid data\n",
      "  warnings.warn(\n",
      "/home/katscott/Code/ros_metrics_analysis/notebooks/metrics/lib/python3.11/site-packages/lars/apache.py:741: ApacheWarning: Line 28649: Line contains invalid data\n",
      "  warnings.warn(\n",
      "/home/katscott/Code/ros_metrics_analysis/notebooks/metrics/lib/python3.11/site-packages/lars/apache.py:741: ApacheWarning: Line 28650: Line contains invalid data\n",
      "  warnings.warn(\n",
      "/home/katscott/Code/ros_metrics_analysis/notebooks/metrics/lib/python3.11/site-packages/lars/apache.py:741: ApacheWarning: Line 28651: Line contains invalid data\n",
      "  warnings.warn(\n",
      "/home/katscott/Code/ros_metrics_analysis/notebooks/metrics/lib/python3.11/site-packages/lars/apache.py:741: ApacheWarning: Line 28652: Line contains invalid data\n",
      "  warnings.warn(\n",
      "/home/katscott/Code/ros_metrics_analysis/notebooks/metrics/lib/python3.11/site-packages/lars/apache.py:741: ApacheWarning: Line 28653: Line contains invalid data\n",
      "  warnings.warn(\n",
      "/home/katscott/Code/ros_metrics_analysis/notebooks/metrics/lib/python3.11/site-packages/lars/apache.py:741: ApacheWarning: Line 28654: Line contains invalid data\n",
      "  warnings.warn(\n",
      "/home/katscott/Code/ros_metrics_analysis/notebooks/metrics/lib/python3.11/site-packages/lars/apache.py:741: ApacheWarning: Line 28655: Line contains invalid data\n",
      "  warnings.warn(\n",
      "/home/katscott/Code/ros_metrics_analysis/notebooks/metrics/lib/python3.11/site-packages/lars/apache.py:741: ApacheWarning: Line 28656: Line contains invalid data\n",
      "  warnings.warn(\n",
      "/home/katscott/Code/ros_metrics_analysis/notebooks/metrics/lib/python3.11/site-packages/lars/apache.py:741: ApacheWarning: Line 28657: Line contains invalid data\n",
      "  warnings.warn(\n",
      "/home/katscott/Code/ros_metrics_analysis/notebooks/metrics/lib/python3.11/site-packages/lars/apache.py:741: ApacheWarning: Line 28658: Line contains invalid data\n",
      "  warnings.warn(\n",
      "/home/katscott/Code/ros_metrics_analysis/notebooks/metrics/lib/python3.11/site-packages/lars/apache.py:741: ApacheWarning: Line 28659: Line contains invalid data\n",
      "  warnings.warn(\n",
      "/home/katscott/Code/ros_metrics_analysis/notebooks/metrics/lib/python3.11/site-packages/lars/apache.py:741: ApacheWarning: Line 28660: Line contains invalid data\n",
      "  warnings.warn(\n",
      "/home/katscott/Code/ros_metrics_analysis/notebooks/metrics/lib/python3.11/site-packages/lars/apache.py:741: ApacheWarning: Line 28661: Line contains invalid data\n",
      "  warnings.warn(\n",
      "/home/katscott/Code/ros_metrics_analysis/notebooks/metrics/lib/python3.11/site-packages/lars/apache.py:741: ApacheWarning: Line 28662: Line contains invalid data\n",
      "  warnings.warn(\n",
      "/home/katscott/Code/ros_metrics_analysis/notebooks/metrics/lib/python3.11/site-packages/lars/apache.py:741: ApacheWarning: Line 28663: Line contains invalid data\n",
      "  warnings.warn(\n",
      "/home/katscott/Code/ros_metrics_analysis/notebooks/metrics/lib/python3.11/site-packages/lars/apache.py:741: ApacheWarning: Line 28664: Line contains invalid data\n",
      "  warnings.warn(\n",
      "/home/katscott/Code/ros_metrics_analysis/notebooks/metrics/lib/python3.11/site-packages/lars/apache.py:741: ApacheWarning: Line 28665: Line contains invalid data\n",
      "  warnings.warn(\n",
      "/home/katscott/Code/ros_metrics_analysis/notebooks/metrics/lib/python3.11/site-packages/lars/apache.py:741: ApacheWarning: Line 28666: Line contains invalid data\n",
      "  warnings.warn(\n",
      "/home/katscott/Code/ros_metrics_analysis/notebooks/metrics/lib/python3.11/site-packages/lars/apache.py:741: ApacheWarning: Line 28667: Line contains invalid data\n",
      "  warnings.warn(\n",
      "/home/katscott/Code/ros_metrics_analysis/notebooks/metrics/lib/python3.11/site-packages/lars/apache.py:741: ApacheWarning: Line 28668: Line contains invalid data\n",
      "  warnings.warn(\n",
      "/home/katscott/Code/ros_metrics_analysis/notebooks/metrics/lib/python3.11/site-packages/lars/apache.py:741: ApacheWarning: Line 28669: Line contains invalid data\n",
      "  warnings.warn(\n",
      "/home/katscott/Code/ros_metrics_analysis/notebooks/metrics/lib/python3.11/site-packages/lars/apache.py:741: ApacheWarning: Line 28670: Line contains invalid data\n",
      "  warnings.warn(\n",
      "/home/katscott/Code/ros_metrics_analysis/notebooks/metrics/lib/python3.11/site-packages/lars/apache.py:741: ApacheWarning: Line 28672: Line contains invalid data\n",
      "  warnings.warn(\n",
      "/home/katscott/Code/ros_metrics_analysis/notebooks/metrics/lib/python3.11/site-packages/lars/apache.py:741: ApacheWarning: Line 28673: Line contains invalid data\n",
      "  warnings.warn(\n",
      "/home/katscott/Code/ros_metrics_analysis/notebooks/metrics/lib/python3.11/site-packages/lars/apache.py:741: ApacheWarning: Line 28675: Line contains invalid data\n",
      "  warnings.warn(\n",
      "/home/katscott/Code/ros_metrics_analysis/notebooks/metrics/lib/python3.11/site-packages/lars/apache.py:741: ApacheWarning: Line 28676: Line contains invalid data\n",
      "  warnings.warn(\n",
      "/home/katscott/Code/ros_metrics_analysis/notebooks/metrics/lib/python3.11/site-packages/lars/apache.py:741: ApacheWarning: Line 28677: Line contains invalid data\n",
      "  warnings.warn(\n",
      "/home/katscott/Code/ros_metrics_analysis/notebooks/metrics/lib/python3.11/site-packages/lars/apache.py:741: ApacheWarning: Line 28678: Line contains invalid data\n",
      "  warnings.warn(\n",
      "/home/katscott/Code/ros_metrics_analysis/notebooks/metrics/lib/python3.11/site-packages/lars/apache.py:741: ApacheWarning: Line 28680: Line contains invalid data\n",
      "  warnings.warn(\n",
      "/home/katscott/Code/ros_metrics_analysis/notebooks/metrics/lib/python3.11/site-packages/lars/apache.py:741: ApacheWarning: Line 28681: Line contains invalid data\n",
      "  warnings.warn(\n",
      "/home/katscott/Code/ros_metrics_analysis/notebooks/metrics/lib/python3.11/site-packages/lars/apache.py:741: ApacheWarning: Line 28682: Line contains invalid data\n",
      "  warnings.warn(\n",
      "/home/katscott/Code/ros_metrics_analysis/notebooks/metrics/lib/python3.11/site-packages/lars/apache.py:741: ApacheWarning: Line 28683: Line contains invalid data\n",
      "  warnings.warn(\n",
      "/home/katscott/Code/ros_metrics_analysis/notebooks/metrics/lib/python3.11/site-packages/lars/apache.py:741: ApacheWarning: Line 28684: Line contains invalid data\n",
      "  warnings.warn(\n",
      "/home/katscott/Code/ros_metrics_analysis/notebooks/metrics/lib/python3.11/site-packages/lars/apache.py:741: ApacheWarning: Line 28685: Line contains invalid data\n",
      "  warnings.warn(\n",
      "/home/katscott/Code/ros_metrics_analysis/notebooks/metrics/lib/python3.11/site-packages/lars/apache.py:741: ApacheWarning: Line 28686: Line contains invalid data\n",
      "  warnings.warn(\n",
      "/home/katscott/Code/ros_metrics_analysis/notebooks/metrics/lib/python3.11/site-packages/lars/apache.py:741: ApacheWarning: Line 28687: Line contains invalid data\n",
      "  warnings.warn(\n",
      "/home/katscott/Code/ros_metrics_analysis/notebooks/metrics/lib/python3.11/site-packages/lars/apache.py:741: ApacheWarning: Line 28688: Line contains invalid data\n",
      "  warnings.warn(\n",
      "/home/katscott/Code/ros_metrics_analysis/notebooks/metrics/lib/python3.11/site-packages/lars/apache.py:741: ApacheWarning: Line 28689: Line contains invalid data\n",
      "  warnings.warn(\n",
      "/home/katscott/Code/ros_metrics_analysis/notebooks/metrics/lib/python3.11/site-packages/lars/apache.py:741: ApacheWarning: Line 28690: Line contains invalid data\n",
      "  warnings.warn(\n",
      "/home/katscott/Code/ros_metrics_analysis/notebooks/metrics/lib/python3.11/site-packages/lars/apache.py:741: ApacheWarning: Line 28691: Line contains invalid data\n",
      "  warnings.warn(\n",
      "/home/katscott/Code/ros_metrics_analysis/notebooks/metrics/lib/python3.11/site-packages/lars/apache.py:741: ApacheWarning: Line 28693: Line contains invalid data\n",
      "  warnings.warn(\n",
      "/home/katscott/Code/ros_metrics_analysis/notebooks/metrics/lib/python3.11/site-packages/lars/apache.py:741: ApacheWarning: Line 28694: Line contains invalid data\n",
      "  warnings.warn(\n",
      "/home/katscott/Code/ros_metrics_analysis/notebooks/metrics/lib/python3.11/site-packages/lars/apache.py:741: ApacheWarning: Line 28695: Line contains invalid data\n",
      "  warnings.warn(\n",
      "/home/katscott/Code/ros_metrics_analysis/notebooks/metrics/lib/python3.11/site-packages/lars/apache.py:741: ApacheWarning: Line 28696: Line contains invalid data\n",
      "  warnings.warn(\n",
      "/home/katscott/Code/ros_metrics_analysis/notebooks/metrics/lib/python3.11/site-packages/lars/apache.py:741: ApacheWarning: Line 28698: Line contains invalid data\n",
      "  warnings.warn(\n",
      "/home/katscott/Code/ros_metrics_analysis/notebooks/metrics/lib/python3.11/site-packages/lars/apache.py:741: ApacheWarning: Line 28699: Line contains invalid data\n",
      "  warnings.warn(\n",
      "/home/katscott/Code/ros_metrics_analysis/notebooks/metrics/lib/python3.11/site-packages/lars/apache.py:741: ApacheWarning: Line 28704: Line contains invalid data\n",
      "  warnings.warn(\n",
      "/home/katscott/Code/ros_metrics_analysis/notebooks/metrics/lib/python3.11/site-packages/lars/apache.py:741: ApacheWarning: Line 28723: Line contains invalid data\n",
      "  warnings.warn(\n",
      "/home/katscott/Code/ros_metrics_analysis/notebooks/metrics/lib/python3.11/site-packages/lars/apache.py:741: ApacheWarning: Line 28724: Line contains invalid data\n",
      "  warnings.warn(\n",
      "/home/katscott/Code/ros_metrics_analysis/notebooks/metrics/lib/python3.11/site-packages/lars/apache.py:741: ApacheWarning: Line 28725: Line contains invalid data\n",
      "  warnings.warn(\n",
      "/home/katscott/Code/ros_metrics_analysis/notebooks/metrics/lib/python3.11/site-packages/lars/apache.py:741: ApacheWarning: Line 28727: Line contains invalid data\n",
      "  warnings.warn(\n",
      "/home/katscott/Code/ros_metrics_analysis/notebooks/metrics/lib/python3.11/site-packages/lars/apache.py:741: ApacheWarning: Line 28729: Line contains invalid data\n",
      "  warnings.warn(\n",
      "/home/katscott/Code/ros_metrics_analysis/notebooks/metrics/lib/python3.11/site-packages/lars/apache.py:741: ApacheWarning: Line 28731: Line contains invalid data\n",
      "  warnings.warn(\n",
      "/home/katscott/Code/ros_metrics_analysis/notebooks/metrics/lib/python3.11/site-packages/lars/apache.py:741: ApacheWarning: Line 28732: Line contains invalid data\n",
      "  warnings.warn(\n",
      "/home/katscott/Code/ros_metrics_analysis/notebooks/metrics/lib/python3.11/site-packages/lars/apache.py:741: ApacheWarning: Line 28733: Line contains invalid data\n",
      "  warnings.warn(\n",
      "/home/katscott/Code/ros_metrics_analysis/notebooks/metrics/lib/python3.11/site-packages/lars/apache.py:741: ApacheWarning: Line 28734: Line contains invalid data\n",
      "  warnings.warn(\n",
      "/home/katscott/Code/ros_metrics_analysis/notebooks/metrics/lib/python3.11/site-packages/lars/apache.py:741: ApacheWarning: Line 28735: Line contains invalid data\n",
      "  warnings.warn(\n",
      "/home/katscott/Code/ros_metrics_analysis/notebooks/metrics/lib/python3.11/site-packages/lars/apache.py:741: ApacheWarning: Line 28736: Line contains invalid data\n",
      "  warnings.warn(\n",
      "/home/katscott/Code/ros_metrics_analysis/notebooks/metrics/lib/python3.11/site-packages/lars/apache.py:741: ApacheWarning: Line 28739: Line contains invalid data\n",
      "  warnings.warn(\n",
      "/home/katscott/Code/ros_metrics_analysis/notebooks/metrics/lib/python3.11/site-packages/lars/apache.py:741: ApacheWarning: Line 28741: Line contains invalid data\n",
      "  warnings.warn(\n",
      "/home/katscott/Code/ros_metrics_analysis/notebooks/metrics/lib/python3.11/site-packages/lars/apache.py:741: ApacheWarning: Line 28742: Line contains invalid data\n",
      "  warnings.warn(\n",
      "/home/katscott/Code/ros_metrics_analysis/notebooks/metrics/lib/python3.11/site-packages/lars/apache.py:741: ApacheWarning: Line 28744: Line contains invalid data\n",
      "  warnings.warn(\n",
      "/home/katscott/Code/ros_metrics_analysis/notebooks/metrics/lib/python3.11/site-packages/lars/apache.py:741: ApacheWarning: Line 28745: Line contains invalid data\n",
      "  warnings.warn(\n",
      "/home/katscott/Code/ros_metrics_analysis/notebooks/metrics/lib/python3.11/site-packages/lars/apache.py:741: ApacheWarning: Line 28747: Line contains invalid data\n",
      "  warnings.warn(\n",
      "/home/katscott/Code/ros_metrics_analysis/notebooks/metrics/lib/python3.11/site-packages/lars/apache.py:741: ApacheWarning: Line 28749: Line contains invalid data\n",
      "  warnings.warn(\n",
      "/home/katscott/Code/ros_metrics_analysis/notebooks/metrics/lib/python3.11/site-packages/lars/apache.py:741: ApacheWarning: Line 28750: Line contains invalid data\n",
      "  warnings.warn(\n",
      "/home/katscott/Code/ros_metrics_analysis/notebooks/metrics/lib/python3.11/site-packages/lars/apache.py:741: ApacheWarning: Line 28751: Line contains invalid data\n",
      "  warnings.warn(\n",
      "/home/katscott/Code/ros_metrics_analysis/notebooks/metrics/lib/python3.11/site-packages/lars/apache.py:741: ApacheWarning: Line 28752: Line contains invalid data\n",
      "  warnings.warn(\n",
      "/home/katscott/Code/ros_metrics_analysis/notebooks/metrics/lib/python3.11/site-packages/lars/apache.py:741: ApacheWarning: Line 28753: Line contains invalid data\n",
      "  warnings.warn(\n",
      "/home/katscott/Code/ros_metrics_analysis/notebooks/metrics/lib/python3.11/site-packages/lars/apache.py:741: ApacheWarning: Line 28754: Line contains invalid data\n",
      "  warnings.warn(\n",
      "/home/katscott/Code/ros_metrics_analysis/notebooks/metrics/lib/python3.11/site-packages/lars/apache.py:741: ApacheWarning: Line 28756: Line contains invalid data\n",
      "  warnings.warn(\n",
      "/home/katscott/Code/ros_metrics_analysis/notebooks/metrics/lib/python3.11/site-packages/lars/apache.py:741: ApacheWarning: Line 28757: Line contains invalid data\n",
      "  warnings.warn(\n",
      "/home/katscott/Code/ros_metrics_analysis/notebooks/metrics/lib/python3.11/site-packages/lars/apache.py:741: ApacheWarning: Line 28758: Line contains invalid data\n",
      "  warnings.warn(\n",
      "/home/katscott/Code/ros_metrics_analysis/notebooks/metrics/lib/python3.11/site-packages/lars/apache.py:741: ApacheWarning: Line 28759: Line contains invalid data\n",
      "  warnings.warn(\n",
      "/home/katscott/Code/ros_metrics_analysis/notebooks/metrics/lib/python3.11/site-packages/lars/apache.py:741: ApacheWarning: Line 28760: Line contains invalid data\n",
      "  warnings.warn(\n",
      "/home/katscott/Code/ros_metrics_analysis/notebooks/metrics/lib/python3.11/site-packages/lars/apache.py:741: ApacheWarning: Line 28761: Line contains invalid data\n",
      "  warnings.warn(\n",
      "/home/katscott/Code/ros_metrics_analysis/notebooks/metrics/lib/python3.11/site-packages/lars/apache.py:741: ApacheWarning: Line 28762: Line contains invalid data\n",
      "  warnings.warn(\n",
      "/home/katscott/Code/ros_metrics_analysis/notebooks/metrics/lib/python3.11/site-packages/lars/apache.py:741: ApacheWarning: Line 28763: Line contains invalid data\n",
      "  warnings.warn(\n",
      "/home/katscott/Code/ros_metrics_analysis/notebooks/metrics/lib/python3.11/site-packages/lars/apache.py:741: ApacheWarning: Line 28764: Line contains invalid data\n",
      "  warnings.warn(\n",
      "/home/katscott/Code/ros_metrics_analysis/notebooks/metrics/lib/python3.11/site-packages/lars/apache.py:741: ApacheWarning: Line 28765: Line contains invalid data\n",
      "  warnings.warn(\n",
      "/home/katscott/Code/ros_metrics_analysis/notebooks/metrics/lib/python3.11/site-packages/lars/apache.py:741: ApacheWarning: Line 28766: Line contains invalid data\n",
      "  warnings.warn(\n",
      "/home/katscott/Code/ros_metrics_analysis/notebooks/metrics/lib/python3.11/site-packages/lars/apache.py:741: ApacheWarning: Line 28767: Line contains invalid data\n",
      "  warnings.warn(\n",
      "/home/katscott/Code/ros_metrics_analysis/notebooks/metrics/lib/python3.11/site-packages/lars/apache.py:741: ApacheWarning: Line 28768: Line contains invalid data\n",
      "  warnings.warn(\n",
      "/home/katscott/Code/ros_metrics_analysis/notebooks/metrics/lib/python3.11/site-packages/lars/apache.py:741: ApacheWarning: Line 28769: Line contains invalid data\n",
      "  warnings.warn(\n",
      "/home/katscott/Code/ros_metrics_analysis/notebooks/metrics/lib/python3.11/site-packages/lars/apache.py:741: ApacheWarning: Line 28770: Line contains invalid data\n",
      "  warnings.warn(\n",
      "/home/katscott/Code/ros_metrics_analysis/notebooks/metrics/lib/python3.11/site-packages/lars/apache.py:741: ApacheWarning: Line 28771: Line contains invalid data\n",
      "  warnings.warn(\n",
      "/home/katscott/Code/ros_metrics_analysis/notebooks/metrics/lib/python3.11/site-packages/lars/apache.py:741: ApacheWarning: Line 28773: Line contains invalid data\n",
      "  warnings.warn(\n",
      "/home/katscott/Code/ros_metrics_analysis/notebooks/metrics/lib/python3.11/site-packages/lars/apache.py:741: ApacheWarning: Line 28774: Line contains invalid data\n",
      "  warnings.warn(\n",
      "/home/katscott/Code/ros_metrics_analysis/notebooks/metrics/lib/python3.11/site-packages/lars/apache.py:741: ApacheWarning: Line 28776: Line contains invalid data\n",
      "  warnings.warn(\n",
      "/home/katscott/Code/ros_metrics_analysis/notebooks/metrics/lib/python3.11/site-packages/lars/apache.py:741: ApacheWarning: Line 28777: Line contains invalid data\n",
      "  warnings.warn(\n",
      "/home/katscott/Code/ros_metrics_analysis/notebooks/metrics/lib/python3.11/site-packages/lars/apache.py:741: ApacheWarning: Line 28778: Line contains invalid data\n",
      "  warnings.warn(\n",
      "/home/katscott/Code/ros_metrics_analysis/notebooks/metrics/lib/python3.11/site-packages/lars/apache.py:741: ApacheWarning: Line 28779: Line contains invalid data\n",
      "  warnings.warn(\n",
      "/home/katscott/Code/ros_metrics_analysis/notebooks/metrics/lib/python3.11/site-packages/lars/apache.py:741: ApacheWarning: Line 28780: Line contains invalid data\n",
      "  warnings.warn(\n",
      "/home/katscott/Code/ros_metrics_analysis/notebooks/metrics/lib/python3.11/site-packages/lars/apache.py:741: ApacheWarning: Line 28781: Line contains invalid data\n",
      "  warnings.warn(\n",
      "/home/katscott/Code/ros_metrics_analysis/notebooks/metrics/lib/python3.11/site-packages/lars/apache.py:741: ApacheWarning: Line 28783: Line contains invalid data\n",
      "  warnings.warn(\n",
      "/home/katscott/Code/ros_metrics_analysis/notebooks/metrics/lib/python3.11/site-packages/lars/apache.py:741: ApacheWarning: Line 28784: Line contains invalid data\n",
      "  warnings.warn(\n",
      "/home/katscott/Code/ros_metrics_analysis/notebooks/metrics/lib/python3.11/site-packages/lars/apache.py:741: ApacheWarning: Line 28785: Line contains invalid data\n",
      "  warnings.warn(\n",
      "/home/katscott/Code/ros_metrics_analysis/notebooks/metrics/lib/python3.11/site-packages/lars/apache.py:741: ApacheWarning: Line 28786: Line contains invalid data\n",
      "  warnings.warn(\n",
      "/home/katscott/Code/ros_metrics_analysis/notebooks/metrics/lib/python3.11/site-packages/lars/apache.py:741: ApacheWarning: Line 28787: Line contains invalid data\n",
      "  warnings.warn(\n",
      "/home/katscott/Code/ros_metrics_analysis/notebooks/metrics/lib/python3.11/site-packages/lars/apache.py:741: ApacheWarning: Line 28790: Line contains invalid data\n",
      "  warnings.warn(\n",
      "/home/katscott/Code/ros_metrics_analysis/notebooks/metrics/lib/python3.11/site-packages/lars/apache.py:741: ApacheWarning: Line 28795: Line contains invalid data\n",
      "  warnings.warn(\n",
      "/home/katscott/Code/ros_metrics_analysis/notebooks/metrics/lib/python3.11/site-packages/lars/apache.py:741: ApacheWarning: Line 28809: Line contains invalid data\n",
      "  warnings.warn(\n",
      "/home/katscott/Code/ros_metrics_analysis/notebooks/metrics/lib/python3.11/site-packages/lars/apache.py:741: ApacheWarning: Line 28811: Line contains invalid data\n",
      "  warnings.warn(\n",
      "/home/katscott/Code/ros_metrics_analysis/notebooks/metrics/lib/python3.11/site-packages/lars/apache.py:741: ApacheWarning: Line 28813: Line contains invalid data\n",
      "  warnings.warn(\n",
      "/home/katscott/Code/ros_metrics_analysis/notebooks/metrics/lib/python3.11/site-packages/lars/apache.py:741: ApacheWarning: Line 28815: Line contains invalid data\n",
      "  warnings.warn(\n",
      "/home/katscott/Code/ros_metrics_analysis/notebooks/metrics/lib/python3.11/site-packages/lars/apache.py:741: ApacheWarning: Line 28816: Line contains invalid data\n",
      "  warnings.warn(\n",
      "/home/katscott/Code/ros_metrics_analysis/notebooks/metrics/lib/python3.11/site-packages/lars/apache.py:741: ApacheWarning: Line 32658: Line contains invalid data\n",
      "  warnings.warn(\n"
     ]
    },
    {
     "name": "stdout",
     "output_type": "stream",
     "text": [
      ".\n",
      ".\n",
      ".\n"
     ]
    },
    {
     "name": "stderr",
     "output_type": "stream",
     "text": [
      "/home/katscott/Code/ros_metrics_analysis/notebooks/metrics/lib/python3.11/site-packages/lars/apache.py:741: ApacheWarning: Line 37085: Line contains invalid data\n",
      "  warnings.warn(\n",
      "/home/katscott/Code/ros_metrics_analysis/notebooks/metrics/lib/python3.11/site-packages/lars/apache.py:741: ApacheWarning: Line 37086: Line contains invalid data\n",
      "  warnings.warn(\n",
      "/home/katscott/Code/ros_metrics_analysis/notebooks/metrics/lib/python3.11/site-packages/lars/apache.py:741: ApacheWarning: Line 37087: Line contains invalid data\n",
      "  warnings.warn(\n",
      "/home/katscott/Code/ros_metrics_analysis/notebooks/metrics/lib/python3.11/site-packages/lars/apache.py:741: ApacheWarning: Line 37088: Line contains invalid data\n",
      "  warnings.warn(\n",
      "/home/katscott/Code/ros_metrics_analysis/notebooks/metrics/lib/python3.11/site-packages/lars/apache.py:741: ApacheWarning: Line 37089: Line contains invalid data\n",
      "  warnings.warn(\n",
      "/home/katscott/Code/ros_metrics_analysis/notebooks/metrics/lib/python3.11/site-packages/lars/apache.py:741: ApacheWarning: Line 37115: Line contains invalid data\n",
      "  warnings.warn(\n",
      "/home/katscott/Code/ros_metrics_analysis/notebooks/metrics/lib/python3.11/site-packages/lars/apache.py:741: ApacheWarning: Line 38987: Line contains invalid data\n",
      "  warnings.warn(\n",
      "/home/katscott/Code/ros_metrics_analysis/notebooks/metrics/lib/python3.11/site-packages/lars/apache.py:741: ApacheWarning: Line 44431: Line contains invalid data\n",
      "  warnings.warn(\n",
      "/home/katscott/Code/ros_metrics_analysis/notebooks/metrics/lib/python3.11/site-packages/lars/apache.py:741: ApacheWarning: Line 44432: Line contains invalid data\n",
      "  warnings.warn(\n",
      "/home/katscott/Code/ros_metrics_analysis/notebooks/metrics/lib/python3.11/site-packages/lars/apache.py:741: ApacheWarning: Line 44433: Line contains invalid data\n",
      "  warnings.warn(\n",
      "/home/katscott/Code/ros_metrics_analysis/notebooks/metrics/lib/python3.11/site-packages/lars/apache.py:741: ApacheWarning: Line 47155: Line contains invalid data\n",
      "  warnings.warn(\n",
      "/home/katscott/Code/ros_metrics_analysis/notebooks/metrics/lib/python3.11/site-packages/lars/apache.py:741: ApacheWarning: Line 49503: Line contains invalid data\n",
      "  warnings.warn(\n",
      "/home/katscott/Code/ros_metrics_analysis/notebooks/metrics/lib/python3.11/site-packages/lars/apache.py:741: ApacheWarning: Line 49504: Line contains invalid data\n",
      "  warnings.warn(\n",
      "/home/katscott/Code/ros_metrics_analysis/notebooks/metrics/lib/python3.11/site-packages/lars/apache.py:741: ApacheWarning: Line 50509: Line contains invalid data\n",
      "  warnings.warn(\n",
      "/home/katscott/Code/ros_metrics_analysis/notebooks/metrics/lib/python3.11/site-packages/lars/apache.py:741: ApacheWarning: Line 50510: Line contains invalid data\n",
      "  warnings.warn(\n",
      "/home/katscott/Code/ros_metrics_analysis/notebooks/metrics/lib/python3.11/site-packages/lars/apache.py:741: ApacheWarning: Line 50511: Line contains invalid data\n",
      "  warnings.warn(\n",
      "/home/katscott/Code/ros_metrics_analysis/notebooks/metrics/lib/python3.11/site-packages/lars/apache.py:741: ApacheWarning: Line 50512: Line contains invalid data\n",
      "  warnings.warn(\n",
      "/home/katscott/Code/ros_metrics_analysis/notebooks/metrics/lib/python3.11/site-packages/lars/apache.py:741: ApacheWarning: Line 50513: Line contains invalid data\n",
      "  warnings.warn(\n",
      "/home/katscott/Code/ros_metrics_analysis/notebooks/metrics/lib/python3.11/site-packages/lars/apache.py:741: ApacheWarning: Line 50514: Line contains invalid data\n",
      "  warnings.warn(\n",
      "/home/katscott/Code/ros_metrics_analysis/notebooks/metrics/lib/python3.11/site-packages/lars/apache.py:741: ApacheWarning: Line 52809: Line contains invalid data\n",
      "  warnings.warn(\n",
      "/home/katscott/Code/ros_metrics_analysis/notebooks/metrics/lib/python3.11/site-packages/lars/apache.py:741: ApacheWarning: Line 56711: Line contains invalid data\n",
      "  warnings.warn(\n",
      "/home/katscott/Code/ros_metrics_analysis/notebooks/metrics/lib/python3.11/site-packages/lars/apache.py:741: ApacheWarning: Line 56712: Line contains invalid data\n",
      "  warnings.warn(\n"
     ]
    },
    {
     "name": "stdout",
     "output_type": "stream",
     "text": [
      ".\n",
      "./temp/packages-logs/apt-access.log.11\n",
      ".\n",
      ".\n"
     ]
    },
    {
     "name": "stderr",
     "output_type": "stream",
     "text": [
      "/home/katscott/Code/ros_metrics_analysis/notebooks/metrics/lib/python3.11/site-packages/lars/apache.py:741: ApacheWarning: Line 3611: Line contains invalid data\n",
      "  warnings.warn(\n",
      "/home/katscott/Code/ros_metrics_analysis/notebooks/metrics/lib/python3.11/site-packages/lars/apache.py:741: ApacheWarning: Line 3612: Line contains invalid data\n",
      "  warnings.warn(\n",
      "/home/katscott/Code/ros_metrics_analysis/notebooks/metrics/lib/python3.11/site-packages/lars/apache.py:741: ApacheWarning: Line 3613: Line contains invalid data\n",
      "  warnings.warn(\n",
      "/home/katscott/Code/ros_metrics_analysis/notebooks/metrics/lib/python3.11/site-packages/lars/apache.py:741: ApacheWarning: Line 3614: Line contains invalid data\n",
      "  warnings.warn(\n",
      "/home/katscott/Code/ros_metrics_analysis/notebooks/metrics/lib/python3.11/site-packages/lars/apache.py:741: ApacheWarning: Line 3615: Line contains invalid data\n",
      "  warnings.warn(\n",
      "/home/katscott/Code/ros_metrics_analysis/notebooks/metrics/lib/python3.11/site-packages/lars/apache.py:741: ApacheWarning: Line 3616: Line contains invalid data\n",
      "  warnings.warn(\n",
      "/home/katscott/Code/ros_metrics_analysis/notebooks/metrics/lib/python3.11/site-packages/lars/apache.py:741: ApacheWarning: Line 3617: Line contains invalid data\n",
      "  warnings.warn(\n",
      "/home/katscott/Code/ros_metrics_analysis/notebooks/metrics/lib/python3.11/site-packages/lars/apache.py:741: ApacheWarning: Line 3618: Line contains invalid data\n",
      "  warnings.warn(\n",
      "/home/katscott/Code/ros_metrics_analysis/notebooks/metrics/lib/python3.11/site-packages/lars/apache.py:741: ApacheWarning: Line 3619: Line contains invalid data\n",
      "  warnings.warn(\n",
      "/home/katscott/Code/ros_metrics_analysis/notebooks/metrics/lib/python3.11/site-packages/lars/apache.py:741: ApacheWarning: Line 3620: Line contains invalid data\n",
      "  warnings.warn(\n",
      "/home/katscott/Code/ros_metrics_analysis/notebooks/metrics/lib/python3.11/site-packages/lars/apache.py:741: ApacheWarning: Line 3621: Line contains invalid data\n",
      "  warnings.warn(\n",
      "/home/katscott/Code/ros_metrics_analysis/notebooks/metrics/lib/python3.11/site-packages/lars/apache.py:741: ApacheWarning: Line 3622: Line contains invalid data\n",
      "  warnings.warn(\n",
      "/home/katscott/Code/ros_metrics_analysis/notebooks/metrics/lib/python3.11/site-packages/lars/apache.py:741: ApacheWarning: Line 6740: Line contains invalid data\n",
      "  warnings.warn(\n",
      "/home/katscott/Code/ros_metrics_analysis/notebooks/metrics/lib/python3.11/site-packages/lars/apache.py:741: ApacheWarning: Line 6741: Line contains invalid data\n",
      "  warnings.warn(\n",
      "/home/katscott/Code/ros_metrics_analysis/notebooks/metrics/lib/python3.11/site-packages/lars/apache.py:741: ApacheWarning: Line 6742: Line contains invalid data\n",
      "  warnings.warn(\n",
      "/home/katscott/Code/ros_metrics_analysis/notebooks/metrics/lib/python3.11/site-packages/lars/apache.py:741: ApacheWarning: Line 6743: Line contains invalid data\n",
      "  warnings.warn(\n",
      "/home/katscott/Code/ros_metrics_analysis/notebooks/metrics/lib/python3.11/site-packages/lars/apache.py:741: ApacheWarning: Line 6744: Line contains invalid data\n",
      "  warnings.warn(\n",
      "/home/katscott/Code/ros_metrics_analysis/notebooks/metrics/lib/python3.11/site-packages/lars/apache.py:741: ApacheWarning: Line 6745: Line contains invalid data\n",
      "  warnings.warn(\n",
      "/home/katscott/Code/ros_metrics_analysis/notebooks/metrics/lib/python3.11/site-packages/lars/apache.py:741: ApacheWarning: Line 25687: Line contains invalid data\n",
      "  warnings.warn(\n"
     ]
    },
    {
     "name": "stdout",
     "output_type": "stream",
     "text": [
      ".\n",
      ".\n",
      ".\n"
     ]
    },
    {
     "name": "stderr",
     "output_type": "stream",
     "text": [
      "/home/katscott/Code/ros_metrics_analysis/notebooks/metrics/lib/python3.11/site-packages/lars/apache.py:741: ApacheWarning: Line 47984: Line contains invalid data\n",
      "  warnings.warn(\n",
      "/home/katscott/Code/ros_metrics_analysis/notebooks/metrics/lib/python3.11/site-packages/lars/apache.py:741: ApacheWarning: Line 48901: Line contains invalid data\n",
      "  warnings.warn(\n",
      "/home/katscott/Code/ros_metrics_analysis/notebooks/metrics/lib/python3.11/site-packages/lars/apache.py:741: ApacheWarning: Line 50584: Line contains invalid data\n",
      "  warnings.warn(\n",
      "/home/katscott/Code/ros_metrics_analysis/notebooks/metrics/lib/python3.11/site-packages/lars/apache.py:741: ApacheWarning: Line 52603: Line contains invalid data\n",
      "  warnings.warn(\n",
      "/home/katscott/Code/ros_metrics_analysis/notebooks/metrics/lib/python3.11/site-packages/lars/apache.py:741: ApacheWarning: Line 54635: Line contains invalid data\n",
      "  warnings.warn(\n",
      "/home/katscott/Code/ros_metrics_analysis/notebooks/metrics/lib/python3.11/site-packages/lars/apache.py:741: ApacheWarning: Line 54725: Line contains invalid data\n",
      "  warnings.warn(\n",
      "/home/katscott/Code/ros_metrics_analysis/notebooks/metrics/lib/python3.11/site-packages/lars/apache.py:741: ApacheWarning: Line 57998: Line contains invalid data\n",
      "  warnings.warn(\n",
      "/home/katscott/Code/ros_metrics_analysis/notebooks/metrics/lib/python3.11/site-packages/lars/apache.py:741: ApacheWarning: Line 57999: Line contains invalid data\n",
      "  warnings.warn(\n",
      "/home/katscott/Code/ros_metrics_analysis/notebooks/metrics/lib/python3.11/site-packages/lars/apache.py:741: ApacheWarning: Line 58535: Line contains invalid data\n",
      "  warnings.warn(\n",
      "/home/katscott/Code/ros_metrics_analysis/notebooks/metrics/lib/python3.11/site-packages/lars/apache.py:741: ApacheWarning: Line 58536: Line contains invalid data\n",
      "  warnings.warn(\n",
      "/home/katscott/Code/ros_metrics_analysis/notebooks/metrics/lib/python3.11/site-packages/lars/apache.py:741: ApacheWarning: Line 58537: Line contains invalid data\n",
      "  warnings.warn(\n",
      "/home/katscott/Code/ros_metrics_analysis/notebooks/metrics/lib/python3.11/site-packages/lars/apache.py:741: ApacheWarning: Line 58539: Line contains invalid data\n",
      "  warnings.warn(\n",
      "/home/katscott/Code/ros_metrics_analysis/notebooks/metrics/lib/python3.11/site-packages/lars/apache.py:741: ApacheWarning: Line 58540: Line contains invalid data\n",
      "  warnings.warn(\n",
      "/home/katscott/Code/ros_metrics_analysis/notebooks/metrics/lib/python3.11/site-packages/lars/apache.py:741: ApacheWarning: Line 58566: Line contains invalid data\n",
      "  warnings.warn(\n",
      "/home/katscott/Code/ros_metrics_analysis/notebooks/metrics/lib/python3.11/site-packages/lars/apache.py:741: ApacheWarning: Line 60258: Line contains invalid data\n",
      "  warnings.warn(\n"
     ]
    },
    {
     "name": "stdout",
     "output_type": "stream",
     "text": [
      ".\n",
      ".\n"
     ]
    },
    {
     "name": "stderr",
     "output_type": "stream",
     "text": [
      "/home/katscott/Code/ros_metrics_analysis/notebooks/metrics/lib/python3.11/site-packages/lars/apache.py:741: ApacheWarning: Line 68631: Line contains invalid data\n",
      "  warnings.warn(\n",
      "/home/katscott/Code/ros_metrics_analysis/notebooks/metrics/lib/python3.11/site-packages/lars/apache.py:741: ApacheWarning: Line 74307: Line contains invalid data\n",
      "  warnings.warn(\n",
      "/home/katscott/Code/ros_metrics_analysis/notebooks/metrics/lib/python3.11/site-packages/lars/apache.py:741: ApacheWarning: Line 74308: Line contains invalid data\n",
      "  warnings.warn(\n",
      "/home/katscott/Code/ros_metrics_analysis/notebooks/metrics/lib/python3.11/site-packages/lars/apache.py:741: ApacheWarning: Line 74309: Line contains invalid data\n",
      "  warnings.warn(\n",
      "/home/katscott/Code/ros_metrics_analysis/notebooks/metrics/lib/python3.11/site-packages/lars/apache.py:741: ApacheWarning: Line 74310: Line contains invalid data\n",
      "  warnings.warn(\n",
      "/home/katscott/Code/ros_metrics_analysis/notebooks/metrics/lib/python3.11/site-packages/lars/apache.py:741: ApacheWarning: Line 74311: Line contains invalid data\n",
      "  warnings.warn(\n",
      "/home/katscott/Code/ros_metrics_analysis/notebooks/metrics/lib/python3.11/site-packages/lars/apache.py:741: ApacheWarning: Line 74312: Line contains invalid data\n",
      "  warnings.warn(\n",
      "/home/katscott/Code/ros_metrics_analysis/notebooks/metrics/lib/python3.11/site-packages/lars/apache.py:741: ApacheWarning: Line 74313: Line contains invalid data\n",
      "  warnings.warn(\n",
      "/home/katscott/Code/ros_metrics_analysis/notebooks/metrics/lib/python3.11/site-packages/lars/apache.py:741: ApacheWarning: Line 74314: Line contains invalid data\n",
      "  warnings.warn(\n",
      "/home/katscott/Code/ros_metrics_analysis/notebooks/metrics/lib/python3.11/site-packages/lars/apache.py:741: ApacheWarning: Line 74315: Line contains invalid data\n",
      "  warnings.warn(\n",
      "/home/katscott/Code/ros_metrics_analysis/notebooks/metrics/lib/python3.11/site-packages/lars/apache.py:741: ApacheWarning: Line 74316: Line contains invalid data\n",
      "  warnings.warn(\n",
      "/home/katscott/Code/ros_metrics_analysis/notebooks/metrics/lib/python3.11/site-packages/lars/apache.py:741: ApacheWarning: Line 74317: Line contains invalid data\n",
      "  warnings.warn(\n",
      "/home/katscott/Code/ros_metrics_analysis/notebooks/metrics/lib/python3.11/site-packages/lars/apache.py:741: ApacheWarning: Line 74321: Line contains invalid data\n",
      "  warnings.warn(\n"
     ]
    },
    {
     "name": "stdout",
     "output_type": "stream",
     "text": [
      ".\n",
      ".\n"
     ]
    },
    {
     "name": "stderr",
     "output_type": "stream",
     "text": [
      "/home/katscott/Code/ros_metrics_analysis/notebooks/metrics/lib/python3.11/site-packages/lars/apache.py:741: ApacheWarning: Line 97644: Line contains invalid data\n",
      "  warnings.warn(\n",
      "/home/katscott/Code/ros_metrics_analysis/notebooks/metrics/lib/python3.11/site-packages/lars/apache.py:741: ApacheWarning: Line 97645: Line contains invalid data\n",
      "  warnings.warn(\n",
      "/home/katscott/Code/ros_metrics_analysis/notebooks/metrics/lib/python3.11/site-packages/lars/apache.py:741: ApacheWarning: Line 97647: Line contains invalid data\n",
      "  warnings.warn(\n",
      "/home/katscott/Code/ros_metrics_analysis/notebooks/metrics/lib/python3.11/site-packages/lars/apache.py:741: ApacheWarning: Line 97648: Line contains invalid data\n",
      "  warnings.warn(\n",
      "/home/katscott/Code/ros_metrics_analysis/notebooks/metrics/lib/python3.11/site-packages/lars/apache.py:741: ApacheWarning: Line 97650: Line contains invalid data\n",
      "  warnings.warn(\n",
      "/home/katscott/Code/ros_metrics_analysis/notebooks/metrics/lib/python3.11/site-packages/lars/apache.py:741: ApacheWarning: Line 97651: Line contains invalid data\n",
      "  warnings.warn(\n"
     ]
    },
    {
     "name": "stdout",
     "output_type": "stream",
     "text": [
      ".\n",
      ".\n"
     ]
    },
    {
     "name": "stderr",
     "output_type": "stream",
     "text": [
      "/home/katscott/Code/ros_metrics_analysis/notebooks/metrics/lib/python3.11/site-packages/lars/apache.py:741: ApacheWarning: Line 118678: Line contains invalid data\n",
      "  warnings.warn(\n",
      "/home/katscott/Code/ros_metrics_analysis/notebooks/metrics/lib/python3.11/site-packages/lars/apache.py:741: ApacheWarning: Line 1367: Line contains invalid data\n",
      "  warnings.warn(\n"
     ]
    },
    {
     "name": "stdout",
     "output_type": "stream",
     "text": [
      "./temp/packages-logs/apt-access.log.12\n",
      ".\n"
     ]
    },
    {
     "name": "stderr",
     "output_type": "stream",
     "text": [
      "/home/katscott/Code/ros_metrics_analysis/notebooks/metrics/lib/python3.11/site-packages/lars/apache.py:741: ApacheWarning: Line 15588: Line contains invalid data\n",
      "  warnings.warn(\n",
      "/home/katscott/Code/ros_metrics_analysis/notebooks/metrics/lib/python3.11/site-packages/lars/apache.py:741: ApacheWarning: Line 16358: Line contains invalid data\n",
      "  warnings.warn(\n",
      "/home/katscott/Code/ros_metrics_analysis/notebooks/metrics/lib/python3.11/site-packages/lars/apache.py:741: ApacheWarning: Line 16359: Line contains invalid data\n",
      "  warnings.warn(\n",
      "/home/katscott/Code/ros_metrics_analysis/notebooks/metrics/lib/python3.11/site-packages/lars/apache.py:741: ApacheWarning: Line 16471: Line contains invalid data\n",
      "  warnings.warn(\n",
      "/home/katscott/Code/ros_metrics_analysis/notebooks/metrics/lib/python3.11/site-packages/lars/apache.py:741: ApacheWarning: Line 16743: Line contains invalid data\n",
      "  warnings.warn(\n",
      "/home/katscott/Code/ros_metrics_analysis/notebooks/metrics/lib/python3.11/site-packages/lars/apache.py:741: ApacheWarning: Line 18507: Line contains invalid data\n",
      "  warnings.warn(\n",
      "/home/katscott/Code/ros_metrics_analysis/notebooks/metrics/lib/python3.11/site-packages/lars/apache.py:741: ApacheWarning: Line 19742: Line contains invalid data\n",
      "  warnings.warn(\n",
      "/home/katscott/Code/ros_metrics_analysis/notebooks/metrics/lib/python3.11/site-packages/lars/apache.py:741: ApacheWarning: Line 19877: Line contains invalid data\n",
      "  warnings.warn(\n",
      "/home/katscott/Code/ros_metrics_analysis/notebooks/metrics/lib/python3.11/site-packages/lars/apache.py:741: ApacheWarning: Line 19929: Line contains invalid data\n",
      "  warnings.warn(\n",
      "/home/katscott/Code/ros_metrics_analysis/notebooks/metrics/lib/python3.11/site-packages/lars/apache.py:741: ApacheWarning: Line 19931: Line contains invalid data\n",
      "  warnings.warn(\n",
      "/home/katscott/Code/ros_metrics_analysis/notebooks/metrics/lib/python3.11/site-packages/lars/apache.py:741: ApacheWarning: Line 20090: Line contains invalid data\n",
      "  warnings.warn(\n",
      "/home/katscott/Code/ros_metrics_analysis/notebooks/metrics/lib/python3.11/site-packages/lars/apache.py:741: ApacheWarning: Line 20494: Line contains invalid data\n",
      "  warnings.warn(\n",
      "/home/katscott/Code/ros_metrics_analysis/notebooks/metrics/lib/python3.11/site-packages/lars/apache.py:741: ApacheWarning: Line 20678: Line contains invalid data\n",
      "  warnings.warn(\n",
      "/home/katscott/Code/ros_metrics_analysis/notebooks/metrics/lib/python3.11/site-packages/lars/apache.py:741: ApacheWarning: Line 20895: Line contains invalid data\n",
      "  warnings.warn(\n",
      "/home/katscott/Code/ros_metrics_analysis/notebooks/metrics/lib/python3.11/site-packages/lars/apache.py:741: ApacheWarning: Line 21162: Line contains invalid data\n",
      "  warnings.warn(\n",
      "/home/katscott/Code/ros_metrics_analysis/notebooks/metrics/lib/python3.11/site-packages/lars/apache.py:741: ApacheWarning: Line 21303: Line contains invalid data\n",
      "  warnings.warn(\n",
      "/home/katscott/Code/ros_metrics_analysis/notebooks/metrics/lib/python3.11/site-packages/lars/apache.py:741: ApacheWarning: Line 21464: Line contains invalid data\n",
      "  warnings.warn(\n",
      "/home/katscott/Code/ros_metrics_analysis/notebooks/metrics/lib/python3.11/site-packages/lars/apache.py:741: ApacheWarning: Line 25029: Line contains invalid data\n",
      "  warnings.warn(\n",
      "/home/katscott/Code/ros_metrics_analysis/notebooks/metrics/lib/python3.11/site-packages/lars/apache.py:741: ApacheWarning: Line 25030: Line contains invalid data\n",
      "  warnings.warn(\n",
      "/home/katscott/Code/ros_metrics_analysis/notebooks/metrics/lib/python3.11/site-packages/lars/apache.py:741: ApacheWarning: Line 25143: Line contains invalid data\n",
      "  warnings.warn(\n",
      "/home/katscott/Code/ros_metrics_analysis/notebooks/metrics/lib/python3.11/site-packages/lars/apache.py:741: ApacheWarning: Line 27895: Line contains invalid data\n",
      "  warnings.warn(\n",
      "/home/katscott/Code/ros_metrics_analysis/notebooks/metrics/lib/python3.11/site-packages/lars/apache.py:741: ApacheWarning: Line 35652: Line contains invalid data\n",
      "  warnings.warn(\n",
      "/home/katscott/Code/ros_metrics_analysis/notebooks/metrics/lib/python3.11/site-packages/lars/apache.py:741: ApacheWarning: Line 35654: Line contains invalid data\n",
      "  warnings.warn(\n",
      "/home/katscott/Code/ros_metrics_analysis/notebooks/metrics/lib/python3.11/site-packages/lars/apache.py:741: ApacheWarning: Line 35655: Line contains invalid data\n",
      "  warnings.warn(\n",
      "/home/katscott/Code/ros_metrics_analysis/notebooks/metrics/lib/python3.11/site-packages/lars/apache.py:741: ApacheWarning: Line 35656: Line contains invalid data\n",
      "  warnings.warn(\n",
      "/home/katscott/Code/ros_metrics_analysis/notebooks/metrics/lib/python3.11/site-packages/lars/apache.py:741: ApacheWarning: Line 35657: Line contains invalid data\n",
      "  warnings.warn(\n",
      "/home/katscott/Code/ros_metrics_analysis/notebooks/metrics/lib/python3.11/site-packages/lars/apache.py:741: ApacheWarning: Line 35681: Line contains invalid data\n",
      "  warnings.warn(\n",
      "/home/katscott/Code/ros_metrics_analysis/notebooks/metrics/lib/python3.11/site-packages/lars/apache.py:741: ApacheWarning: Line 36996: Line contains invalid data\n",
      "  warnings.warn(\n",
      "/home/katscott/Code/ros_metrics_analysis/notebooks/metrics/lib/python3.11/site-packages/lars/apache.py:741: ApacheWarning: Line 37215: Line contains invalid data\n",
      "  warnings.warn(\n",
      "/home/katscott/Code/ros_metrics_analysis/notebooks/metrics/lib/python3.11/site-packages/lars/apache.py:741: ApacheWarning: Line 37216: Line contains invalid data\n",
      "  warnings.warn(\n",
      "/home/katscott/Code/ros_metrics_analysis/notebooks/metrics/lib/python3.11/site-packages/lars/apache.py:741: ApacheWarning: Line 37217: Line contains invalid data\n",
      "  warnings.warn(\n"
     ]
    },
    {
     "name": "stdout",
     "output_type": "stream",
     "text": [
      ".\n",
      ".\n",
      ".\n"
     ]
    },
    {
     "name": "stderr",
     "output_type": "stream",
     "text": [
      "/home/katscott/Code/ros_metrics_analysis/notebooks/metrics/lib/python3.11/site-packages/lars/apache.py:741: ApacheWarning: Line 45845: Line contains invalid data\n",
      "  warnings.warn(\n",
      "/home/katscott/Code/ros_metrics_analysis/notebooks/metrics/lib/python3.11/site-packages/lars/apache.py:741: ApacheWarning: Line 45886: Line contains invalid data\n",
      "  warnings.warn(\n",
      "/home/katscott/Code/ros_metrics_analysis/notebooks/metrics/lib/python3.11/site-packages/lars/apache.py:741: ApacheWarning: Line 55277: Line contains invalid data\n",
      "  warnings.warn(\n",
      "/home/katscott/Code/ros_metrics_analysis/notebooks/metrics/lib/python3.11/site-packages/lars/apache.py:741: ApacheWarning: Line 55332: Line contains invalid data\n",
      "  warnings.warn(\n",
      "/home/katscott/Code/ros_metrics_analysis/notebooks/metrics/lib/python3.11/site-packages/lars/apache.py:741: ApacheWarning: Line 59025: Line contains invalid data\n",
      "  warnings.warn(\n"
     ]
    },
    {
     "name": "stdout",
     "output_type": "stream",
     "text": [
      ".\n",
      ".\n"
     ]
    },
    {
     "name": "stderr",
     "output_type": "stream",
     "text": [
      "/home/katscott/Code/ros_metrics_analysis/notebooks/metrics/lib/python3.11/site-packages/lars/apache.py:741: ApacheWarning: Line 62326: Line contains invalid data\n",
      "  warnings.warn(\n",
      "/home/katscott/Code/ros_metrics_analysis/notebooks/metrics/lib/python3.11/site-packages/lars/apache.py:741: ApacheWarning: Line 64251: Line contains invalid data\n",
      "  warnings.warn(\n",
      "/home/katscott/Code/ros_metrics_analysis/notebooks/metrics/lib/python3.11/site-packages/lars/apache.py:741: ApacheWarning: Line 64252: Line contains invalid data\n",
      "  warnings.warn(\n",
      "/home/katscott/Code/ros_metrics_analysis/notebooks/metrics/lib/python3.11/site-packages/lars/apache.py:741: ApacheWarning: Line 64630: Line contains invalid data\n",
      "  warnings.warn(\n",
      "/home/katscott/Code/ros_metrics_analysis/notebooks/metrics/lib/python3.11/site-packages/lars/apache.py:741: ApacheWarning: Line 64721: Line contains invalid data\n",
      "  warnings.warn(\n"
     ]
    },
    {
     "name": "stdout",
     "output_type": "stream",
     "text": [
      ".\n",
      ".\n",
      "./temp/packages-logs/apt-access.log.13\n"
     ]
    },
    {
     "name": "stderr",
     "output_type": "stream",
     "text": [
      "/home/katscott/Code/ros_metrics_analysis/notebooks/metrics/lib/python3.11/site-packages/lars/apache.py:741: ApacheWarning: Line 6895: Line contains invalid data\n",
      "  warnings.warn(\n",
      "/home/katscott/Code/ros_metrics_analysis/notebooks/metrics/lib/python3.11/site-packages/lars/apache.py:741: ApacheWarning: Line 6896: Line contains invalid data\n",
      "  warnings.warn(\n",
      "/home/katscott/Code/ros_metrics_analysis/notebooks/metrics/lib/python3.11/site-packages/lars/apache.py:741: ApacheWarning: Line 6897: Line contains invalid data\n",
      "  warnings.warn(\n",
      "/home/katscott/Code/ros_metrics_analysis/notebooks/metrics/lib/python3.11/site-packages/lars/apache.py:741: ApacheWarning: Line 6898: Line contains invalid data\n",
      "  warnings.warn(\n",
      "/home/katscott/Code/ros_metrics_analysis/notebooks/metrics/lib/python3.11/site-packages/lars/apache.py:741: ApacheWarning: Line 6900: Line contains invalid data\n",
      "  warnings.warn(\n",
      "/home/katscott/Code/ros_metrics_analysis/notebooks/metrics/lib/python3.11/site-packages/lars/apache.py:741: ApacheWarning: Line 6901: Line contains invalid data\n",
      "  warnings.warn(\n",
      "/home/katscott/Code/ros_metrics_analysis/notebooks/metrics/lib/python3.11/site-packages/lars/apache.py:741: ApacheWarning: Line 11368: Line contains invalid data\n",
      "  warnings.warn(\n",
      "/home/katscott/Code/ros_metrics_analysis/notebooks/metrics/lib/python3.11/site-packages/lars/apache.py:741: ApacheWarning: Line 13687: Line contains invalid data\n",
      "  warnings.warn(\n",
      "/home/katscott/Code/ros_metrics_analysis/notebooks/metrics/lib/python3.11/site-packages/lars/apache.py:741: ApacheWarning: Line 13688: Line contains invalid data\n",
      "  warnings.warn(\n",
      "/home/katscott/Code/ros_metrics_analysis/notebooks/metrics/lib/python3.11/site-packages/lars/apache.py:741: ApacheWarning: Line 13693: Line contains invalid data\n",
      "  warnings.warn(\n",
      "/home/katscott/Code/ros_metrics_analysis/notebooks/metrics/lib/python3.11/site-packages/lars/apache.py:741: ApacheWarning: Line 16170: Line contains invalid data\n",
      "  warnings.warn(\n",
      "/home/katscott/Code/ros_metrics_analysis/notebooks/metrics/lib/python3.11/site-packages/lars/apache.py:741: ApacheWarning: Line 17090: Line contains invalid data\n",
      "  warnings.warn(\n",
      "/home/katscott/Code/ros_metrics_analysis/notebooks/metrics/lib/python3.11/site-packages/lars/apache.py:741: ApacheWarning: Line 17091: Line contains invalid data\n",
      "  warnings.warn(\n",
      "/home/katscott/Code/ros_metrics_analysis/notebooks/metrics/lib/python3.11/site-packages/lars/apache.py:741: ApacheWarning: Line 17610: Line contains invalid data\n",
      "  warnings.warn(\n",
      "/home/katscott/Code/ros_metrics_analysis/notebooks/metrics/lib/python3.11/site-packages/lars/apache.py:741: ApacheWarning: Line 25032: Line contains invalid data\n",
      "  warnings.warn(\n",
      "/home/katscott/Code/ros_metrics_analysis/notebooks/metrics/lib/python3.11/site-packages/lars/apache.py:741: ApacheWarning: Line 31055: Line contains invalid data\n",
      "  warnings.warn(\n"
     ]
    },
    {
     "name": "stdout",
     "output_type": "stream",
     "text": [
      ".\n",
      ".\n",
      ".\n"
     ]
    },
    {
     "name": "stderr",
     "output_type": "stream",
     "text": [
      "/home/katscott/Code/ros_metrics_analysis/notebooks/metrics/lib/python3.11/site-packages/lars/apache.py:741: ApacheWarning: Line 34645: Line contains invalid data\n",
      "  warnings.warn(\n",
      "/home/katscott/Code/ros_metrics_analysis/notebooks/metrics/lib/python3.11/site-packages/lars/apache.py:741: ApacheWarning: Line 34650: Line contains invalid data\n",
      "  warnings.warn(\n",
      "/home/katscott/Code/ros_metrics_analysis/notebooks/metrics/lib/python3.11/site-packages/lars/apache.py:741: ApacheWarning: Line 34651: Line contains invalid data\n",
      "  warnings.warn(\n",
      "/home/katscott/Code/ros_metrics_analysis/notebooks/metrics/lib/python3.11/site-packages/lars/apache.py:741: ApacheWarning: Line 34652: Line contains invalid data\n",
      "  warnings.warn(\n",
      "/home/katscott/Code/ros_metrics_analysis/notebooks/metrics/lib/python3.11/site-packages/lars/apache.py:741: ApacheWarning: Line 34654: Line contains invalid data\n",
      "  warnings.warn(\n",
      "/home/katscott/Code/ros_metrics_analysis/notebooks/metrics/lib/python3.11/site-packages/lars/apache.py:741: ApacheWarning: Line 34687: Line contains invalid data\n",
      "  warnings.warn(\n",
      "/home/katscott/Code/ros_metrics_analysis/notebooks/metrics/lib/python3.11/site-packages/lars/apache.py:741: ApacheWarning: Line 37859: Line contains invalid data\n",
      "  warnings.warn(\n",
      "/home/katscott/Code/ros_metrics_analysis/notebooks/metrics/lib/python3.11/site-packages/lars/apache.py:741: ApacheWarning: Line 37860: Line contains invalid data\n",
      "  warnings.warn(\n"
     ]
    },
    {
     "name": "stdout",
     "output_type": "stream",
     "text": [
      ".\n",
      ".\n"
     ]
    },
    {
     "name": "stderr",
     "output_type": "stream",
     "text": [
      "/home/katscott/Code/ros_metrics_analysis/notebooks/metrics/lib/python3.11/site-packages/lars/apache.py:741: ApacheWarning: Line 50394: Line contains invalid data\n",
      "  warnings.warn(\n",
      "/home/katscott/Code/ros_metrics_analysis/notebooks/metrics/lib/python3.11/site-packages/lars/apache.py:741: ApacheWarning: Line 50605: Line contains invalid data\n",
      "  warnings.warn(\n",
      "/home/katscott/Code/ros_metrics_analysis/notebooks/metrics/lib/python3.11/site-packages/lars/apache.py:741: ApacheWarning: Line 56291: Line contains invalid data\n",
      "  warnings.warn(\n",
      "/home/katscott/Code/ros_metrics_analysis/notebooks/metrics/lib/python3.11/site-packages/lars/apache.py:741: ApacheWarning: Line 57595: Line contains invalid data\n",
      "  warnings.warn(\n"
     ]
    },
    {
     "name": "stdout",
     "output_type": "stream",
     "text": [
      ".\n",
      ".\n"
     ]
    },
    {
     "name": "stderr",
     "output_type": "stream",
     "text": [
      "/home/katscott/Code/ros_metrics_analysis/notebooks/metrics/lib/python3.11/site-packages/lars/apache.py:741: ApacheWarning: Line 75398: Line contains invalid data\n",
      "  warnings.warn(\n",
      "/home/katscott/Code/ros_metrics_analysis/notebooks/metrics/lib/python3.11/site-packages/lars/apache.py:741: ApacheWarning: Line 80303: Line contains invalid data\n",
      "  warnings.warn(\n",
      "/home/katscott/Code/ros_metrics_analysis/notebooks/metrics/lib/python3.11/site-packages/lars/apache.py:741: ApacheWarning: Line 83174: Line contains invalid data\n",
      "  warnings.warn(\n",
      "/home/katscott/Code/ros_metrics_analysis/notebooks/metrics/lib/python3.11/site-packages/lars/apache.py:741: ApacheWarning: Line 83176: Line contains invalid data\n",
      "  warnings.warn(\n",
      "/home/katscott/Code/ros_metrics_analysis/notebooks/metrics/lib/python3.11/site-packages/lars/apache.py:741: ApacheWarning: Line 83178: Line contains invalid data\n",
      "  warnings.warn(\n"
     ]
    },
    {
     "name": "stdout",
     "output_type": "stream",
     "text": [
      ".\n",
      "./temp/packages-logs/apt-access.log.14\n"
     ]
    },
    {
     "name": "stderr",
     "output_type": "stream",
     "text": [
      "/home/katscott/Code/ros_metrics_analysis/notebooks/metrics/lib/python3.11/site-packages/lars/apache.py:741: ApacheWarning: Line 86866: Line contains invalid data\n",
      "  warnings.warn(\n",
      "/home/katscott/Code/ros_metrics_analysis/notebooks/metrics/lib/python3.11/site-packages/lars/apache.py:741: ApacheWarning: Line 86868: Line contains invalid data\n",
      "  warnings.warn(\n",
      "/home/katscott/Code/ros_metrics_analysis/notebooks/metrics/lib/python3.11/site-packages/lars/apache.py:741: ApacheWarning: Line 86869: Line contains invalid data\n",
      "  warnings.warn(\n",
      "/home/katscott/Code/ros_metrics_analysis/notebooks/metrics/lib/python3.11/site-packages/lars/apache.py:741: ApacheWarning: Line 86870: Line contains invalid data\n",
      "  warnings.warn(\n",
      "/home/katscott/Code/ros_metrics_analysis/notebooks/metrics/lib/python3.11/site-packages/lars/apache.py:741: ApacheWarning: Line 86871: Line contains invalid data\n",
      "  warnings.warn(\n",
      "/home/katscott/Code/ros_metrics_analysis/notebooks/metrics/lib/python3.11/site-packages/lars/apache.py:741: ApacheWarning: Line 86872: Line contains invalid data\n",
      "  warnings.warn(\n",
      "/home/katscott/Code/ros_metrics_analysis/notebooks/metrics/lib/python3.11/site-packages/lars/apache.py:741: ApacheWarning: Line 11314: Line contains invalid data\n",
      "  warnings.warn(\n"
     ]
    },
    {
     "name": "stdout",
     "output_type": "stream",
     "text": [
      ".\n",
      ".\n"
     ]
    },
    {
     "name": "stderr",
     "output_type": "stream",
     "text": [
      "/home/katscott/Code/ros_metrics_analysis/notebooks/metrics/lib/python3.11/site-packages/lars/apache.py:741: ApacheWarning: Line 25445: Line contains invalid data\n",
      "  warnings.warn(\n",
      "/home/katscott/Code/ros_metrics_analysis/notebooks/metrics/lib/python3.11/site-packages/lars/apache.py:741: ApacheWarning: Line 32041: Line contains invalid data\n",
      "  warnings.warn(\n",
      "/home/katscott/Code/ros_metrics_analysis/notebooks/metrics/lib/python3.11/site-packages/lars/apache.py:741: ApacheWarning: Line 33114: Line contains invalid data\n",
      "  warnings.warn(\n",
      "/home/katscott/Code/ros_metrics_analysis/notebooks/metrics/lib/python3.11/site-packages/lars/apache.py:741: ApacheWarning: Line 33116: Line contains invalid data\n",
      "  warnings.warn(\n",
      "/home/katscott/Code/ros_metrics_analysis/notebooks/metrics/lib/python3.11/site-packages/lars/apache.py:741: ApacheWarning: Line 33118: Line contains invalid data\n",
      "  warnings.warn(\n",
      "/home/katscott/Code/ros_metrics_analysis/notebooks/metrics/lib/python3.11/site-packages/lars/apache.py:741: ApacheWarning: Line 33119: Line contains invalid data\n",
      "  warnings.warn(\n",
      "/home/katscott/Code/ros_metrics_analysis/notebooks/metrics/lib/python3.11/site-packages/lars/apache.py:741: ApacheWarning: Line 33120: Line contains invalid data\n",
      "  warnings.warn(\n",
      "/home/katscott/Code/ros_metrics_analysis/notebooks/metrics/lib/python3.11/site-packages/lars/apache.py:741: ApacheWarning: Line 33152: Line contains invalid data\n",
      "  warnings.warn(\n",
      "/home/katscott/Code/ros_metrics_analysis/notebooks/metrics/lib/python3.11/site-packages/lars/apache.py:741: ApacheWarning: Line 36434: Line contains invalid data\n",
      "  warnings.warn(\n"
     ]
    },
    {
     "name": "stdout",
     "output_type": "stream",
     "text": [
      ".\n",
      ".\n"
     ]
    },
    {
     "name": "stderr",
     "output_type": "stream",
     "text": [
      "/home/katscott/Code/ros_metrics_analysis/notebooks/metrics/lib/python3.11/site-packages/lars/apache.py:741: ApacheWarning: Line 38437: Line contains invalid data\n",
      "  warnings.warn(\n",
      "/home/katscott/Code/ros_metrics_analysis/notebooks/metrics/lib/python3.11/site-packages/lars/apache.py:741: ApacheWarning: Line 38438: Line contains invalid data\n",
      "  warnings.warn(\n",
      "/home/katscott/Code/ros_metrics_analysis/notebooks/metrics/lib/python3.11/site-packages/lars/apache.py:741: ApacheWarning: Line 46012: Line contains invalid data\n",
      "  warnings.warn(\n",
      "/home/katscott/Code/ros_metrics_analysis/notebooks/metrics/lib/python3.11/site-packages/lars/apache.py:741: ApacheWarning: Line 50241: Line contains invalid data\n",
      "  warnings.warn(\n"
     ]
    },
    {
     "name": "stdout",
     "output_type": "stream",
     "text": [
      ".\n",
      ".\n"
     ]
    },
    {
     "name": "stderr",
     "output_type": "stream",
     "text": [
      "/home/katscott/Code/ros_metrics_analysis/notebooks/metrics/lib/python3.11/site-packages/lars/apache.py:741: ApacheWarning: Line 63976: Line contains invalid data\n",
      "  warnings.warn(\n"
     ]
    },
    {
     "name": "stdout",
     "output_type": "stream",
     "text": [
      ".\n",
      ".\n",
      ".\n"
     ]
    },
    {
     "name": "stderr",
     "output_type": "stream",
     "text": [
      "/home/katscott/Code/ros_metrics_analysis/notebooks/metrics/lib/python3.11/site-packages/lars/apache.py:741: ApacheWarning: Line 81743: Line contains invalid data\n",
      "  warnings.warn(\n",
      "/home/katscott/Code/ros_metrics_analysis/notebooks/metrics/lib/python3.11/site-packages/lars/apache.py:741: ApacheWarning: Line 82917: Line contains invalid data\n",
      "  warnings.warn(\n",
      "/home/katscott/Code/ros_metrics_analysis/notebooks/metrics/lib/python3.11/site-packages/lars/apache.py:741: ApacheWarning: Line 82918: Line contains invalid data\n",
      "  warnings.warn(\n",
      "/home/katscott/Code/ros_metrics_analysis/notebooks/metrics/lib/python3.11/site-packages/lars/apache.py:741: ApacheWarning: Line 84961: Line contains invalid data\n",
      "  warnings.warn(\n",
      "/home/katscott/Code/ros_metrics_analysis/notebooks/metrics/lib/python3.11/site-packages/lars/apache.py:741: ApacheWarning: Line 85130: Line contains invalid data\n",
      "  warnings.warn(\n",
      "/home/katscott/Code/ros_metrics_analysis/notebooks/metrics/lib/python3.11/site-packages/lars/apache.py:741: ApacheWarning: Line 85393: Line contains invalid data\n",
      "  warnings.warn(\n",
      "/home/katscott/Code/ros_metrics_analysis/notebooks/metrics/lib/python3.11/site-packages/lars/apache.py:741: ApacheWarning: Line 85896: Line contains invalid data\n",
      "  warnings.warn(\n",
      "/home/katscott/Code/ros_metrics_analysis/notebooks/metrics/lib/python3.11/site-packages/lars/apache.py:741: ApacheWarning: Line 87437: Line contains invalid data\n",
      "  warnings.warn(\n",
      "/home/katscott/Code/ros_metrics_analysis/notebooks/metrics/lib/python3.11/site-packages/lars/apache.py:741: ApacheWarning: Line 87461: Line contains invalid data\n",
      "  warnings.warn(\n",
      "/home/katscott/Code/ros_metrics_analysis/notebooks/metrics/lib/python3.11/site-packages/lars/apache.py:741: ApacheWarning: Line 87615: Line contains invalid data\n",
      "  warnings.warn(\n",
      "/home/katscott/Code/ros_metrics_analysis/notebooks/metrics/lib/python3.11/site-packages/lars/apache.py:741: ApacheWarning: Line 88146: Line contains invalid data\n",
      "  warnings.warn(\n",
      "/home/katscott/Code/ros_metrics_analysis/notebooks/metrics/lib/python3.11/site-packages/lars/apache.py:741: ApacheWarning: Line 88213: Line contains invalid data\n",
      "  warnings.warn(\n",
      "/home/katscott/Code/ros_metrics_analysis/notebooks/metrics/lib/python3.11/site-packages/lars/apache.py:741: ApacheWarning: Line 88315: Line contains invalid data\n",
      "  warnings.warn(\n",
      "/home/katscott/Code/ros_metrics_analysis/notebooks/metrics/lib/python3.11/site-packages/lars/apache.py:741: ApacheWarning: Line 88418: Line contains invalid data\n",
      "  warnings.warn(\n",
      "/home/katscott/Code/ros_metrics_analysis/notebooks/metrics/lib/python3.11/site-packages/lars/apache.py:741: ApacheWarning: Line 88498: Line contains invalid data\n",
      "  warnings.warn(\n",
      "/home/katscott/Code/ros_metrics_analysis/notebooks/metrics/lib/python3.11/site-packages/lars/apache.py:741: ApacheWarning: Line 88596: Line contains invalid data\n",
      "  warnings.warn(\n",
      "/home/katscott/Code/ros_metrics_analysis/notebooks/metrics/lib/python3.11/site-packages/lars/apache.py:741: ApacheWarning: Line 88689: Line contains invalid data\n",
      "  warnings.warn(\n"
     ]
    },
    {
     "name": "stdout",
     "output_type": "stream",
     "text": [
      "./temp/packages-logs/apt-access.log.15\n",
      ".\n"
     ]
    },
    {
     "name": "stderr",
     "output_type": "stream",
     "text": [
      "/home/katscott/Code/ros_metrics_analysis/notebooks/metrics/lib/python3.11/site-packages/lars/apache.py:741: ApacheWarning: Line 8566: Line contains invalid data\n",
      "  warnings.warn(\n",
      "/home/katscott/Code/ros_metrics_analysis/notebooks/metrics/lib/python3.11/site-packages/lars/apache.py:741: ApacheWarning: Line 8567: Line contains invalid data\n",
      "  warnings.warn(\n",
      "/home/katscott/Code/ros_metrics_analysis/notebooks/metrics/lib/python3.11/site-packages/lars/apache.py:741: ApacheWarning: Line 8568: Line contains invalid data\n",
      "  warnings.warn(\n",
      "/home/katscott/Code/ros_metrics_analysis/notebooks/metrics/lib/python3.11/site-packages/lars/apache.py:741: ApacheWarning: Line 8569: Line contains invalid data\n",
      "  warnings.warn(\n",
      "/home/katscott/Code/ros_metrics_analysis/notebooks/metrics/lib/python3.11/site-packages/lars/apache.py:741: ApacheWarning: Line 8570: Line contains invalid data\n",
      "  warnings.warn(\n",
      "/home/katscott/Code/ros_metrics_analysis/notebooks/metrics/lib/python3.11/site-packages/lars/apache.py:741: ApacheWarning: Line 8571: Line contains invalid data\n",
      "  warnings.warn(\n",
      "/home/katscott/Code/ros_metrics_analysis/notebooks/metrics/lib/python3.11/site-packages/lars/apache.py:741: ApacheWarning: Line 9768: Line contains invalid data\n",
      "  warnings.warn(\n",
      "/home/katscott/Code/ros_metrics_analysis/notebooks/metrics/lib/python3.11/site-packages/lars/apache.py:741: ApacheWarning: Line 11980: Line contains invalid data\n",
      "  warnings.warn(\n",
      "/home/katscott/Code/ros_metrics_analysis/notebooks/metrics/lib/python3.11/site-packages/lars/apache.py:741: ApacheWarning: Line 17836: Line contains invalid data\n",
      "  warnings.warn(\n"
     ]
    },
    {
     "name": "stdout",
     "output_type": "stream",
     "text": [
      ".\n",
      ".\n"
     ]
    },
    {
     "name": "stderr",
     "output_type": "stream",
     "text": [
      "/home/katscott/Code/ros_metrics_analysis/notebooks/metrics/lib/python3.11/site-packages/lars/apache.py:741: ApacheWarning: Line 20868: Line contains invalid data\n",
      "  warnings.warn(\n",
      "/home/katscott/Code/ros_metrics_analysis/notebooks/metrics/lib/python3.11/site-packages/lars/apache.py:741: ApacheWarning: Line 22846: Line contains invalid data\n",
      "  warnings.warn(\n",
      "/home/katscott/Code/ros_metrics_analysis/notebooks/metrics/lib/python3.11/site-packages/lars/apache.py:741: ApacheWarning: Line 22847: Line contains invalid data\n",
      "  warnings.warn(\n",
      "/home/katscott/Code/ros_metrics_analysis/notebooks/metrics/lib/python3.11/site-packages/lars/apache.py:741: ApacheWarning: Line 22848: Line contains invalid data\n",
      "  warnings.warn(\n",
      "/home/katscott/Code/ros_metrics_analysis/notebooks/metrics/lib/python3.11/site-packages/lars/apache.py:741: ApacheWarning: Line 22849: Line contains invalid data\n",
      "  warnings.warn(\n",
      "/home/katscott/Code/ros_metrics_analysis/notebooks/metrics/lib/python3.11/site-packages/lars/apache.py:741: ApacheWarning: Line 22850: Line contains invalid data\n",
      "  warnings.warn(\n",
      "/home/katscott/Code/ros_metrics_analysis/notebooks/metrics/lib/python3.11/site-packages/lars/apache.py:741: ApacheWarning: Line 22873: Line contains invalid data\n",
      "  warnings.warn(\n",
      "/home/katscott/Code/ros_metrics_analysis/notebooks/metrics/lib/python3.11/site-packages/lars/apache.py:741: ApacheWarning: Line 27110: Line contains invalid data\n",
      "  warnings.warn(\n",
      "/home/katscott/Code/ros_metrics_analysis/notebooks/metrics/lib/python3.11/site-packages/lars/apache.py:741: ApacheWarning: Line 40856: Line contains invalid data\n",
      "  warnings.warn(\n",
      "/home/katscott/Code/ros_metrics_analysis/notebooks/metrics/lib/python3.11/site-packages/lars/apache.py:741: ApacheWarning: Line 40857: Line contains invalid data\n",
      "  warnings.warn(\n",
      "/home/katscott/Code/ros_metrics_analysis/notebooks/metrics/lib/python3.11/site-packages/lars/apache.py:741: ApacheWarning: Line 48031: Line contains invalid data\n",
      "  warnings.warn(\n"
     ]
    },
    {
     "name": "stdout",
     "output_type": "stream",
     "text": [
      ".\n",
      ".\n",
      ".\n"
     ]
    },
    {
     "name": "stderr",
     "output_type": "stream",
     "text": [
      "/home/katscott/Code/ros_metrics_analysis/notebooks/metrics/lib/python3.11/site-packages/lars/apache.py:741: ApacheWarning: Line 57224: Line contains invalid data\n",
      "  warnings.warn(\n",
      "/home/katscott/Code/ros_metrics_analysis/notebooks/metrics/lib/python3.11/site-packages/lars/apache.py:741: ApacheWarning: Line 58217: Line contains invalid data\n",
      "  warnings.warn(\n",
      "/home/katscott/Code/ros_metrics_analysis/notebooks/metrics/lib/python3.11/site-packages/lars/apache.py:741: ApacheWarning: Line 64934: Line contains invalid data\n",
      "  warnings.warn(\n",
      "/home/katscott/Code/ros_metrics_analysis/notebooks/metrics/lib/python3.11/site-packages/lars/apache.py:741: ApacheWarning: Line 65539: Line contains invalid data\n",
      "  warnings.warn(\n",
      "/home/katscott/Code/ros_metrics_analysis/notebooks/metrics/lib/python3.11/site-packages/lars/apache.py:741: ApacheWarning: Line 66138: Line contains invalid data\n",
      "  warnings.warn(\n",
      "/home/katscott/Code/ros_metrics_analysis/notebooks/metrics/lib/python3.11/site-packages/lars/apache.py:741: ApacheWarning: Line 66139: Line contains invalid data\n",
      "  warnings.warn(\n",
      "/home/katscott/Code/ros_metrics_analysis/notebooks/metrics/lib/python3.11/site-packages/lars/apache.py:741: ApacheWarning: Line 66140: Line contains invalid data\n",
      "  warnings.warn(\n",
      "/home/katscott/Code/ros_metrics_analysis/notebooks/metrics/lib/python3.11/site-packages/lars/apache.py:741: ApacheWarning: Line 66141: Line contains invalid data\n",
      "  warnings.warn(\n",
      "/home/katscott/Code/ros_metrics_analysis/notebooks/metrics/lib/python3.11/site-packages/lars/apache.py:741: ApacheWarning: Line 66142: Line contains invalid data\n",
      "  warnings.warn(\n",
      "/home/katscott/Code/ros_metrics_analysis/notebooks/metrics/lib/python3.11/site-packages/lars/apache.py:741: ApacheWarning: Line 66143: Line contains invalid data\n",
      "  warnings.warn(\n",
      "/home/katscott/Code/ros_metrics_analysis/notebooks/metrics/lib/python3.11/site-packages/lars/apache.py:741: ApacheWarning: Line 66144: Line contains invalid data\n",
      "  warnings.warn(\n",
      "/home/katscott/Code/ros_metrics_analysis/notebooks/metrics/lib/python3.11/site-packages/lars/apache.py:741: ApacheWarning: Line 66145: Line contains invalid data\n",
      "  warnings.warn(\n",
      "/home/katscott/Code/ros_metrics_analysis/notebooks/metrics/lib/python3.11/site-packages/lars/apache.py:741: ApacheWarning: Line 66146: Line contains invalid data\n",
      "  warnings.warn(\n",
      "/home/katscott/Code/ros_metrics_analysis/notebooks/metrics/lib/python3.11/site-packages/lars/apache.py:741: ApacheWarning: Line 66147: Line contains invalid data\n",
      "  warnings.warn(\n",
      "/home/katscott/Code/ros_metrics_analysis/notebooks/metrics/lib/python3.11/site-packages/lars/apache.py:741: ApacheWarning: Line 66148: Line contains invalid data\n",
      "  warnings.warn(\n"
     ]
    },
    {
     "name": "stdout",
     "output_type": "stream",
     "text": [
      ".\n",
      ".\n"
     ]
    },
    {
     "name": "stderr",
     "output_type": "stream",
     "text": [
      "/home/katscott/Code/ros_metrics_analysis/notebooks/metrics/lib/python3.11/site-packages/lars/apache.py:741: ApacheWarning: Line 75718: Line contains invalid data\n",
      "  warnings.warn(\n",
      "/home/katscott/Code/ros_metrics_analysis/notebooks/metrics/lib/python3.11/site-packages/lars/apache.py:741: ApacheWarning: Line 76172: Line contains invalid data\n",
      "  warnings.warn(\n",
      "/home/katscott/Code/ros_metrics_analysis/notebooks/metrics/lib/python3.11/site-packages/lars/apache.py:741: ApacheWarning: Line 76173: Line contains invalid data\n",
      "  warnings.warn(\n",
      "/home/katscott/Code/ros_metrics_analysis/notebooks/metrics/lib/python3.11/site-packages/lars/apache.py:741: ApacheWarning: Line 77333: Line contains invalid data\n",
      "  warnings.warn(\n",
      "/home/katscott/Code/ros_metrics_analysis/notebooks/metrics/lib/python3.11/site-packages/lars/apache.py:741: ApacheWarning: Line 80837: Line contains invalid data\n",
      "  warnings.warn(\n",
      "/home/katscott/Code/ros_metrics_analysis/notebooks/metrics/lib/python3.11/site-packages/lars/apache.py:741: ApacheWarning: Line 80838: Line contains invalid data\n",
      "  warnings.warn(\n",
      "/home/katscott/Code/ros_metrics_analysis/notebooks/metrics/lib/python3.11/site-packages/lars/apache.py:741: ApacheWarning: Line 80840: Line contains invalid data\n",
      "  warnings.warn(\n",
      "/home/katscott/Code/ros_metrics_analysis/notebooks/metrics/lib/python3.11/site-packages/lars/apache.py:741: ApacheWarning: Line 80841: Line contains invalid data\n",
      "  warnings.warn(\n",
      "/home/katscott/Code/ros_metrics_analysis/notebooks/metrics/lib/python3.11/site-packages/lars/apache.py:741: ApacheWarning: Line 80842: Line contains invalid data\n",
      "  warnings.warn(\n",
      "/home/katscott/Code/ros_metrics_analysis/notebooks/metrics/lib/python3.11/site-packages/lars/apache.py:741: ApacheWarning: Line 80843: Line contains invalid data\n",
      "  warnings.warn(\n",
      "/home/katscott/Code/ros_metrics_analysis/notebooks/metrics/lib/python3.11/site-packages/lars/apache.py:741: ApacheWarning: Line 86502: Line contains invalid data\n",
      "  warnings.warn(\n",
      "/home/katscott/Code/ros_metrics_analysis/notebooks/metrics/lib/python3.11/site-packages/lars/apache.py:741: ApacheWarning: Line 86535: Line contains invalid data\n",
      "  warnings.warn(\n",
      "/home/katscott/Code/ros_metrics_analysis/notebooks/metrics/lib/python3.11/site-packages/lars/apache.py:741: ApacheWarning: Line 86580: Line contains invalid data\n",
      "  warnings.warn(\n",
      "/home/katscott/Code/ros_metrics_analysis/notebooks/metrics/lib/python3.11/site-packages/lars/apache.py:741: ApacheWarning: Line 86712: Line contains invalid data\n",
      "  warnings.warn(\n",
      "/home/katscott/Code/ros_metrics_analysis/notebooks/metrics/lib/python3.11/site-packages/lars/apache.py:741: ApacheWarning: Line 86813: Line contains invalid data\n",
      "  warnings.warn(\n",
      "/home/katscott/Code/ros_metrics_analysis/notebooks/metrics/lib/python3.11/site-packages/lars/apache.py:741: ApacheWarning: Line 86892: Line contains invalid data\n",
      "  warnings.warn(\n",
      "/home/katscott/Code/ros_metrics_analysis/notebooks/metrics/lib/python3.11/site-packages/lars/apache.py:741: ApacheWarning: Line 86969: Line contains invalid data\n",
      "  warnings.warn(\n",
      "/home/katscott/Code/ros_metrics_analysis/notebooks/metrics/lib/python3.11/site-packages/lars/apache.py:741: ApacheWarning: Line 87043: Line contains invalid data\n",
      "  warnings.warn(\n",
      "/home/katscott/Code/ros_metrics_analysis/notebooks/metrics/lib/python3.11/site-packages/lars/apache.py:741: ApacheWarning: Line 87130: Line contains invalid data\n",
      "  warnings.warn(\n",
      "/home/katscott/Code/ros_metrics_analysis/notebooks/metrics/lib/python3.11/site-packages/lars/apache.py:741: ApacheWarning: Line 87189: Line contains invalid data\n",
      "  warnings.warn(\n",
      "/home/katscott/Code/ros_metrics_analysis/notebooks/metrics/lib/python3.11/site-packages/lars/apache.py:741: ApacheWarning: Line 87272: Line contains invalid data\n",
      "  warnings.warn(\n",
      "/home/katscott/Code/ros_metrics_analysis/notebooks/metrics/lib/python3.11/site-packages/lars/apache.py:741: ApacheWarning: Line 87355: Line contains invalid data\n",
      "  warnings.warn(\n",
      "/home/katscott/Code/ros_metrics_analysis/notebooks/metrics/lib/python3.11/site-packages/lars/apache.py:741: ApacheWarning: Line 88552: Line contains invalid data\n",
      "  warnings.warn(\n",
      "/home/katscott/Code/ros_metrics_analysis/notebooks/metrics/lib/python3.11/site-packages/lars/apache.py:741: ApacheWarning: Line 3860: Line contains invalid data\n",
      "  warnings.warn(\n",
      "/home/katscott/Code/ros_metrics_analysis/notebooks/metrics/lib/python3.11/site-packages/lars/apache.py:741: ApacheWarning: Line 3865: Line contains invalid data\n",
      "  warnings.warn(\n",
      "/home/katscott/Code/ros_metrics_analysis/notebooks/metrics/lib/python3.11/site-packages/lars/apache.py:741: ApacheWarning: Line 3868: Line contains invalid data\n",
      "  warnings.warn(\n",
      "/home/katscott/Code/ros_metrics_analysis/notebooks/metrics/lib/python3.11/site-packages/lars/apache.py:741: ApacheWarning: Line 3874: Line contains invalid data\n",
      "  warnings.warn(\n",
      "/home/katscott/Code/ros_metrics_analysis/notebooks/metrics/lib/python3.11/site-packages/lars/apache.py:741: ApacheWarning: Line 5280: Line contains invalid data\n",
      "  warnings.warn(\n",
      "/home/katscott/Code/ros_metrics_analysis/notebooks/metrics/lib/python3.11/site-packages/lars/apache.py:741: ApacheWarning: Line 5281: Line contains invalid data\n",
      "  warnings.warn(\n",
      "/home/katscott/Code/ros_metrics_analysis/notebooks/metrics/lib/python3.11/site-packages/lars/apache.py:741: ApacheWarning: Line 5282: Line contains invalid data\n",
      "  warnings.warn(\n",
      "/home/katscott/Code/ros_metrics_analysis/notebooks/metrics/lib/python3.11/site-packages/lars/apache.py:741: ApacheWarning: Line 5283: Line contains invalid data\n",
      "  warnings.warn(\n",
      "/home/katscott/Code/ros_metrics_analysis/notebooks/metrics/lib/python3.11/site-packages/lars/apache.py:741: ApacheWarning: Line 5286: Line contains invalid data\n",
      "  warnings.warn(\n",
      "/home/katscott/Code/ros_metrics_analysis/notebooks/metrics/lib/python3.11/site-packages/lars/apache.py:741: ApacheWarning: Line 5287: Line contains invalid data\n",
      "  warnings.warn(\n",
      "/home/katscott/Code/ros_metrics_analysis/notebooks/metrics/lib/python3.11/site-packages/lars/apache.py:741: ApacheWarning: Line 10882: Line contains invalid data\n",
      "  warnings.warn(\n",
      "/home/katscott/Code/ros_metrics_analysis/notebooks/metrics/lib/python3.11/site-packages/lars/apache.py:741: ApacheWarning: Line 10883: Line contains invalid data\n",
      "  warnings.warn(\n",
      "/home/katscott/Code/ros_metrics_analysis/notebooks/metrics/lib/python3.11/site-packages/lars/apache.py:741: ApacheWarning: Line 12625: Line contains invalid data\n",
      "  warnings.warn(\n"
     ]
    },
    {
     "name": "stdout",
     "output_type": "stream",
     "text": [
      "./temp/packages-logs/apt-access.log.16\n",
      ".\n"
     ]
    },
    {
     "name": "stderr",
     "output_type": "stream",
     "text": [
      "/home/katscott/Code/ros_metrics_analysis/notebooks/metrics/lib/python3.11/site-packages/lars/apache.py:741: ApacheWarning: Line 17872: Line contains invalid data\n",
      "  warnings.warn(\n",
      "/home/katscott/Code/ros_metrics_analysis/notebooks/metrics/lib/python3.11/site-packages/lars/apache.py:741: ApacheWarning: Line 17873: Line contains invalid data\n",
      "  warnings.warn(\n",
      "/home/katscott/Code/ros_metrics_analysis/notebooks/metrics/lib/python3.11/site-packages/lars/apache.py:741: ApacheWarning: Line 25677: Line contains invalid data\n",
      "  warnings.warn(\n",
      "/home/katscott/Code/ros_metrics_analysis/notebooks/metrics/lib/python3.11/site-packages/lars/apache.py:741: ApacheWarning: Line 25678: Line contains invalid data\n",
      "  warnings.warn(\n",
      "/home/katscott/Code/ros_metrics_analysis/notebooks/metrics/lib/python3.11/site-packages/lars/apache.py:741: ApacheWarning: Line 25679: Line contains invalid data\n",
      "  warnings.warn(\n",
      "/home/katscott/Code/ros_metrics_analysis/notebooks/metrics/lib/python3.11/site-packages/lars/apache.py:741: ApacheWarning: Line 25680: Line contains invalid data\n",
      "  warnings.warn(\n",
      "/home/katscott/Code/ros_metrics_analysis/notebooks/metrics/lib/python3.11/site-packages/lars/apache.py:741: ApacheWarning: Line 25681: Line contains invalid data\n",
      "  warnings.warn(\n",
      "/home/katscott/Code/ros_metrics_analysis/notebooks/metrics/lib/python3.11/site-packages/lars/apache.py:741: ApacheWarning: Line 25707: Line contains invalid data\n",
      "  warnings.warn(\n",
      "/home/katscott/Code/ros_metrics_analysis/notebooks/metrics/lib/python3.11/site-packages/lars/apache.py:741: ApacheWarning: Line 28518: Line contains invalid data\n",
      "  warnings.warn(\n"
     ]
    },
    {
     "name": "stdout",
     "output_type": "stream",
     "text": [
      ".\n",
      ".\n"
     ]
    },
    {
     "name": "stderr",
     "output_type": "stream",
     "text": [
      "/home/katscott/Code/ros_metrics_analysis/notebooks/metrics/lib/python3.11/site-packages/lars/apache.py:741: ApacheWarning: Line 39655: Line contains invalid data\n",
      "  warnings.warn(\n"
     ]
    },
    {
     "name": "stdout",
     "output_type": "stream",
     "text": [
      ".\n",
      ".\n"
     ]
    },
    {
     "name": "stderr",
     "output_type": "stream",
     "text": [
      "/home/katscott/Code/ros_metrics_analysis/notebooks/metrics/lib/python3.11/site-packages/lars/apache.py:741: ApacheWarning: Line 57869: Line contains invalid data\n",
      "  warnings.warn(\n",
      "/home/katscott/Code/ros_metrics_analysis/notebooks/metrics/lib/python3.11/site-packages/lars/apache.py:741: ApacheWarning: Line 57870: Line contains invalid data\n",
      "  warnings.warn(\n",
      "/home/katscott/Code/ros_metrics_analysis/notebooks/metrics/lib/python3.11/site-packages/lars/apache.py:741: ApacheWarning: Line 57871: Line contains invalid data\n",
      "  warnings.warn(\n",
      "/home/katscott/Code/ros_metrics_analysis/notebooks/metrics/lib/python3.11/site-packages/lars/apache.py:741: ApacheWarning: Line 57872: Line contains invalid data\n",
      "  warnings.warn(\n",
      "/home/katscott/Code/ros_metrics_analysis/notebooks/metrics/lib/python3.11/site-packages/lars/apache.py:741: ApacheWarning: Line 57873: Line contains invalid data\n",
      "  warnings.warn(\n",
      "/home/katscott/Code/ros_metrics_analysis/notebooks/metrics/lib/python3.11/site-packages/lars/apache.py:741: ApacheWarning: Line 57874: Line contains invalid data\n",
      "  warnings.warn(\n",
      "/home/katscott/Code/ros_metrics_analysis/notebooks/metrics/lib/python3.11/site-packages/lars/apache.py:741: ApacheWarning: Line 65339: Line contains invalid data\n",
      "  warnings.warn(\n",
      "/home/katscott/Code/ros_metrics_analysis/notebooks/metrics/lib/python3.11/site-packages/lars/apache.py:741: ApacheWarning: Line 65340: Line contains invalid data\n",
      "  warnings.warn(\n",
      "/home/katscott/Code/ros_metrics_analysis/notebooks/metrics/lib/python3.11/site-packages/lars/apache.py:741: ApacheWarning: Line 65345: Line contains invalid data\n",
      "  warnings.warn(\n",
      "/home/katscott/Code/ros_metrics_analysis/notebooks/metrics/lib/python3.11/site-packages/lars/apache.py:741: ApacheWarning: Line 65723: Line contains invalid data\n",
      "  warnings.warn(\n",
      "/home/katscott/Code/ros_metrics_analysis/notebooks/metrics/lib/python3.11/site-packages/lars/apache.py:741: ApacheWarning: Line 67692: Line contains invalid data\n",
      "  warnings.warn(\n"
     ]
    },
    {
     "name": "stdout",
     "output_type": "stream",
     "text": [
      ".\n",
      ".\n"
     ]
    },
    {
     "name": "stderr",
     "output_type": "stream",
     "text": [
      "/home/katscott/Code/ros_metrics_analysis/notebooks/metrics/lib/python3.11/site-packages/lars/apache.py:741: ApacheWarning: Line 73140: Line contains invalid data\n",
      "  warnings.warn(\n",
      "/home/katscott/Code/ros_metrics_analysis/notebooks/metrics/lib/python3.11/site-packages/lars/apache.py:741: ApacheWarning: Line 73705: Line contains invalid data\n",
      "  warnings.warn(\n",
      "/home/katscott/Code/ros_metrics_analysis/notebooks/metrics/lib/python3.11/site-packages/lars/apache.py:741: ApacheWarning: Line 77289: Line contains invalid data\n",
      "  warnings.warn(\n",
      "/home/katscott/Code/ros_metrics_analysis/notebooks/metrics/lib/python3.11/site-packages/lars/apache.py:741: ApacheWarning: Line 80391: Line contains invalid data\n",
      "  warnings.warn(\n",
      "/home/katscott/Code/ros_metrics_analysis/notebooks/metrics/lib/python3.11/site-packages/lars/apache.py:741: ApacheWarning: Line 81164: Line contains invalid data\n",
      "  warnings.warn(\n",
      "/home/katscott/Code/ros_metrics_analysis/notebooks/metrics/lib/python3.11/site-packages/lars/apache.py:741: ApacheWarning: Line 81165: Line contains invalid data\n",
      "  warnings.warn(\n",
      "/home/katscott/Code/ros_metrics_analysis/notebooks/metrics/lib/python3.11/site-packages/lars/apache.py:741: ApacheWarning: Line 81166: Line contains invalid data\n",
      "  warnings.warn(\n",
      "/home/katscott/Code/ros_metrics_analysis/notebooks/metrics/lib/python3.11/site-packages/lars/apache.py:741: ApacheWarning: Line 81168: Line contains invalid data\n",
      "  warnings.warn(\n",
      "/home/katscott/Code/ros_metrics_analysis/notebooks/metrics/lib/python3.11/site-packages/lars/apache.py:741: ApacheWarning: Line 81169: Line contains invalid data\n",
      "  warnings.warn(\n",
      "/home/katscott/Code/ros_metrics_analysis/notebooks/metrics/lib/python3.11/site-packages/lars/apache.py:741: ApacheWarning: Line 81171: Line contains invalid data\n",
      "  warnings.warn(\n",
      "/home/katscott/Code/ros_metrics_analysis/notebooks/metrics/lib/python3.11/site-packages/lars/apache.py:741: ApacheWarning: Line 83230: Line contains invalid data\n",
      "  warnings.warn(\n",
      "/home/katscott/Code/ros_metrics_analysis/notebooks/metrics/lib/python3.11/site-packages/lars/apache.py:741: ApacheWarning: Line 7399: Line contains invalid data\n",
      "  warnings.warn(\n",
      "/home/katscott/Code/ros_metrics_analysis/notebooks/metrics/lib/python3.11/site-packages/lars/apache.py:741: ApacheWarning: Line 12648: Line contains invalid data\n",
      "  warnings.warn(\n",
      "/home/katscott/Code/ros_metrics_analysis/notebooks/metrics/lib/python3.11/site-packages/lars/apache.py:741: ApacheWarning: Line 15187: Line contains invalid data\n",
      "  warnings.warn(\n",
      "/home/katscott/Code/ros_metrics_analysis/notebooks/metrics/lib/python3.11/site-packages/lars/apache.py:741: ApacheWarning: Line 15188: Line contains invalid data\n",
      "  warnings.warn(\n",
      "/home/katscott/Code/ros_metrics_analysis/notebooks/metrics/lib/python3.11/site-packages/lars/apache.py:741: ApacheWarning: Line 17795: Line contains invalid data\n",
      "  warnings.warn(\n",
      "/home/katscott/Code/ros_metrics_analysis/notebooks/metrics/lib/python3.11/site-packages/lars/apache.py:741: ApacheWarning: Line 17796: Line contains invalid data\n",
      "  warnings.warn(\n",
      "/home/katscott/Code/ros_metrics_analysis/notebooks/metrics/lib/python3.11/site-packages/lars/apache.py:741: ApacheWarning: Line 17797: Line contains invalid data\n",
      "  warnings.warn(\n",
      "/home/katscott/Code/ros_metrics_analysis/notebooks/metrics/lib/python3.11/site-packages/lars/apache.py:741: ApacheWarning: Line 17798: Line contains invalid data\n",
      "  warnings.warn(\n",
      "/home/katscott/Code/ros_metrics_analysis/notebooks/metrics/lib/python3.11/site-packages/lars/apache.py:741: ApacheWarning: Line 17799: Line contains invalid data\n",
      "  warnings.warn(\n",
      "/home/katscott/Code/ros_metrics_analysis/notebooks/metrics/lib/python3.11/site-packages/lars/apache.py:741: ApacheWarning: Line 17824: Line contains invalid data\n",
      "  warnings.warn(\n",
      "/home/katscott/Code/ros_metrics_analysis/notebooks/metrics/lib/python3.11/site-packages/lars/apache.py:741: ApacheWarning: Line 18244: Line contains invalid data\n",
      "  warnings.warn(\n",
      "/home/katscott/Code/ros_metrics_analysis/notebooks/metrics/lib/python3.11/site-packages/lars/apache.py:741: ApacheWarning: Line 18257: Line contains invalid data\n",
      "  warnings.warn(\n",
      "/home/katscott/Code/ros_metrics_analysis/notebooks/metrics/lib/python3.11/site-packages/lars/apache.py:741: ApacheWarning: Line 18296: Line contains invalid data\n",
      "  warnings.warn(\n",
      "/home/katscott/Code/ros_metrics_analysis/notebooks/metrics/lib/python3.11/site-packages/lars/apache.py:741: ApacheWarning: Line 18459: Line contains invalid data\n",
      "  warnings.warn(\n",
      "/home/katscott/Code/ros_metrics_analysis/notebooks/metrics/lib/python3.11/site-packages/lars/apache.py:741: ApacheWarning: Line 18476: Line contains invalid data\n",
      "  warnings.warn(\n",
      "/home/katscott/Code/ros_metrics_analysis/notebooks/metrics/lib/python3.11/site-packages/lars/apache.py:741: ApacheWarning: Line 18663: Line contains invalid data\n",
      "  warnings.warn(\n",
      "/home/katscott/Code/ros_metrics_analysis/notebooks/metrics/lib/python3.11/site-packages/lars/apache.py:741: ApacheWarning: Line 20272: Line contains invalid data\n",
      "  warnings.warn(\n",
      "/home/katscott/Code/ros_metrics_analysis/notebooks/metrics/lib/python3.11/site-packages/lars/apache.py:741: ApacheWarning: Line 20273: Line contains invalid data\n",
      "  warnings.warn(\n",
      "/home/katscott/Code/ros_metrics_analysis/notebooks/metrics/lib/python3.11/site-packages/lars/apache.py:741: ApacheWarning: Line 20275: Line contains invalid data\n",
      "  warnings.warn(\n",
      "/home/katscott/Code/ros_metrics_analysis/notebooks/metrics/lib/python3.11/site-packages/lars/apache.py:741: ApacheWarning: Line 20276: Line contains invalid data\n",
      "  warnings.warn(\n",
      "/home/katscott/Code/ros_metrics_analysis/notebooks/metrics/lib/python3.11/site-packages/lars/apache.py:741: ApacheWarning: Line 20277: Line contains invalid data\n",
      "  warnings.warn(\n",
      "/home/katscott/Code/ros_metrics_analysis/notebooks/metrics/lib/python3.11/site-packages/lars/apache.py:741: ApacheWarning: Line 20279: Line contains invalid data\n",
      "  warnings.warn(\n",
      "/home/katscott/Code/ros_metrics_analysis/notebooks/metrics/lib/python3.11/site-packages/lars/apache.py:741: ApacheWarning: Line 20281: Line contains invalid data\n",
      "  warnings.warn(\n",
      "/home/katscott/Code/ros_metrics_analysis/notebooks/metrics/lib/python3.11/site-packages/lars/apache.py:741: ApacheWarning: Line 20282: Line contains invalid data\n",
      "  warnings.warn(\n",
      "/home/katscott/Code/ros_metrics_analysis/notebooks/metrics/lib/python3.11/site-packages/lars/apache.py:741: ApacheWarning: Line 20283: Line contains invalid data\n",
      "  warnings.warn(\n",
      "/home/katscott/Code/ros_metrics_analysis/notebooks/metrics/lib/python3.11/site-packages/lars/apache.py:741: ApacheWarning: Line 20284: Line contains invalid data\n",
      "  warnings.warn(\n",
      "/home/katscott/Code/ros_metrics_analysis/notebooks/metrics/lib/python3.11/site-packages/lars/apache.py:741: ApacheWarning: Line 20287: Line contains invalid data\n",
      "  warnings.warn(\n",
      "/home/katscott/Code/ros_metrics_analysis/notebooks/metrics/lib/python3.11/site-packages/lars/apache.py:741: ApacheWarning: Line 20288: Line contains invalid data\n",
      "  warnings.warn(\n",
      "/home/katscott/Code/ros_metrics_analysis/notebooks/metrics/lib/python3.11/site-packages/lars/apache.py:741: ApacheWarning: Line 20290: Line contains invalid data\n",
      "  warnings.warn(\n",
      "/home/katscott/Code/ros_metrics_analysis/notebooks/metrics/lib/python3.11/site-packages/lars/apache.py:741: ApacheWarning: Line 20291: Line contains invalid data\n",
      "  warnings.warn(\n",
      "/home/katscott/Code/ros_metrics_analysis/notebooks/metrics/lib/python3.11/site-packages/lars/apache.py:741: ApacheWarning: Line 20293: Line contains invalid data\n",
      "  warnings.warn(\n",
      "/home/katscott/Code/ros_metrics_analysis/notebooks/metrics/lib/python3.11/site-packages/lars/apache.py:741: ApacheWarning: Line 20295: Line contains invalid data\n",
      "  warnings.warn(\n",
      "/home/katscott/Code/ros_metrics_analysis/notebooks/metrics/lib/python3.11/site-packages/lars/apache.py:741: ApacheWarning: Line 20297: Line contains invalid data\n",
      "  warnings.warn(\n",
      "/home/katscott/Code/ros_metrics_analysis/notebooks/metrics/lib/python3.11/site-packages/lars/apache.py:741: ApacheWarning: Line 20298: Line contains invalid data\n",
      "  warnings.warn(\n",
      "/home/katscott/Code/ros_metrics_analysis/notebooks/metrics/lib/python3.11/site-packages/lars/apache.py:741: ApacheWarning: Line 20299: Line contains invalid data\n",
      "  warnings.warn(\n",
      "/home/katscott/Code/ros_metrics_analysis/notebooks/metrics/lib/python3.11/site-packages/lars/apache.py:741: ApacheWarning: Line 20300: Line contains invalid data\n",
      "  warnings.warn(\n",
      "/home/katscott/Code/ros_metrics_analysis/notebooks/metrics/lib/python3.11/site-packages/lars/apache.py:741: ApacheWarning: Line 20301: Line contains invalid data\n",
      "  warnings.warn(\n",
      "/home/katscott/Code/ros_metrics_analysis/notebooks/metrics/lib/python3.11/site-packages/lars/apache.py:741: ApacheWarning: Line 20302: Line contains invalid data\n",
      "  warnings.warn(\n",
      "/home/katscott/Code/ros_metrics_analysis/notebooks/metrics/lib/python3.11/site-packages/lars/apache.py:741: ApacheWarning: Line 20303: Line contains invalid data\n",
      "  warnings.warn(\n",
      "/home/katscott/Code/ros_metrics_analysis/notebooks/metrics/lib/python3.11/site-packages/lars/apache.py:741: ApacheWarning: Line 20304: Line contains invalid data\n",
      "  warnings.warn(\n",
      "/home/katscott/Code/ros_metrics_analysis/notebooks/metrics/lib/python3.11/site-packages/lars/apache.py:741: ApacheWarning: Line 20305: Line contains invalid data\n",
      "  warnings.warn(\n",
      "/home/katscott/Code/ros_metrics_analysis/notebooks/metrics/lib/python3.11/site-packages/lars/apache.py:741: ApacheWarning: Line 20306: Line contains invalid data\n",
      "  warnings.warn(\n",
      "/home/katscott/Code/ros_metrics_analysis/notebooks/metrics/lib/python3.11/site-packages/lars/apache.py:741: ApacheWarning: Line 20307: Line contains invalid data\n",
      "  warnings.warn(\n",
      "/home/katscott/Code/ros_metrics_analysis/notebooks/metrics/lib/python3.11/site-packages/lars/apache.py:741: ApacheWarning: Line 20308: Line contains invalid data\n",
      "  warnings.warn(\n",
      "/home/katscott/Code/ros_metrics_analysis/notebooks/metrics/lib/python3.11/site-packages/lars/apache.py:741: ApacheWarning: Line 20309: Line contains invalid data\n",
      "  warnings.warn(\n",
      "/home/katscott/Code/ros_metrics_analysis/notebooks/metrics/lib/python3.11/site-packages/lars/apache.py:741: ApacheWarning: Line 20310: Line contains invalid data\n",
      "  warnings.warn(\n",
      "/home/katscott/Code/ros_metrics_analysis/notebooks/metrics/lib/python3.11/site-packages/lars/apache.py:741: ApacheWarning: Line 20313: Line contains invalid data\n",
      "  warnings.warn(\n",
      "/home/katscott/Code/ros_metrics_analysis/notebooks/metrics/lib/python3.11/site-packages/lars/apache.py:741: ApacheWarning: Line 20314: Line contains invalid data\n",
      "  warnings.warn(\n",
      "/home/katscott/Code/ros_metrics_analysis/notebooks/metrics/lib/python3.11/site-packages/lars/apache.py:741: ApacheWarning: Line 20315: Line contains invalid data\n",
      "  warnings.warn(\n",
      "/home/katscott/Code/ros_metrics_analysis/notebooks/metrics/lib/python3.11/site-packages/lars/apache.py:741: ApacheWarning: Line 20316: Line contains invalid data\n",
      "  warnings.warn(\n",
      "/home/katscott/Code/ros_metrics_analysis/notebooks/metrics/lib/python3.11/site-packages/lars/apache.py:741: ApacheWarning: Line 20318: Line contains invalid data\n",
      "  warnings.warn(\n",
      "/home/katscott/Code/ros_metrics_analysis/notebooks/metrics/lib/python3.11/site-packages/lars/apache.py:741: ApacheWarning: Line 20319: Line contains invalid data\n",
      "  warnings.warn(\n",
      "/home/katscott/Code/ros_metrics_analysis/notebooks/metrics/lib/python3.11/site-packages/lars/apache.py:741: ApacheWarning: Line 20321: Line contains invalid data\n",
      "  warnings.warn(\n",
      "/home/katscott/Code/ros_metrics_analysis/notebooks/metrics/lib/python3.11/site-packages/lars/apache.py:741: ApacheWarning: Line 20324: Line contains invalid data\n",
      "  warnings.warn(\n",
      "/home/katscott/Code/ros_metrics_analysis/notebooks/metrics/lib/python3.11/site-packages/lars/apache.py:741: ApacheWarning: Line 20325: Line contains invalid data\n",
      "  warnings.warn(\n",
      "/home/katscott/Code/ros_metrics_analysis/notebooks/metrics/lib/python3.11/site-packages/lars/apache.py:741: ApacheWarning: Line 20327: Line contains invalid data\n",
      "  warnings.warn(\n",
      "/home/katscott/Code/ros_metrics_analysis/notebooks/metrics/lib/python3.11/site-packages/lars/apache.py:741: ApacheWarning: Line 20328: Line contains invalid data\n",
      "  warnings.warn(\n",
      "/home/katscott/Code/ros_metrics_analysis/notebooks/metrics/lib/python3.11/site-packages/lars/apache.py:741: ApacheWarning: Line 20330: Line contains invalid data\n",
      "  warnings.warn(\n",
      "/home/katscott/Code/ros_metrics_analysis/notebooks/metrics/lib/python3.11/site-packages/lars/apache.py:741: ApacheWarning: Line 20331: Line contains invalid data\n",
      "  warnings.warn(\n",
      "/home/katscott/Code/ros_metrics_analysis/notebooks/metrics/lib/python3.11/site-packages/lars/apache.py:741: ApacheWarning: Line 20332: Line contains invalid data\n",
      "  warnings.warn(\n",
      "/home/katscott/Code/ros_metrics_analysis/notebooks/metrics/lib/python3.11/site-packages/lars/apache.py:741: ApacheWarning: Line 20335: Line contains invalid data\n",
      "  warnings.warn(\n",
      "/home/katscott/Code/ros_metrics_analysis/notebooks/metrics/lib/python3.11/site-packages/lars/apache.py:741: ApacheWarning: Line 20358: Line contains invalid data\n",
      "  warnings.warn(\n",
      "/home/katscott/Code/ros_metrics_analysis/notebooks/metrics/lib/python3.11/site-packages/lars/apache.py:741: ApacheWarning: Line 20359: Line contains invalid data\n",
      "  warnings.warn(\n",
      "/home/katscott/Code/ros_metrics_analysis/notebooks/metrics/lib/python3.11/site-packages/lars/apache.py:741: ApacheWarning: Line 20360: Line contains invalid data\n",
      "  warnings.warn(\n",
      "/home/katscott/Code/ros_metrics_analysis/notebooks/metrics/lib/python3.11/site-packages/lars/apache.py:741: ApacheWarning: Line 20362: Line contains invalid data\n",
      "  warnings.warn(\n",
      "/home/katscott/Code/ros_metrics_analysis/notebooks/metrics/lib/python3.11/site-packages/lars/apache.py:741: ApacheWarning: Line 20363: Line contains invalid data\n",
      "  warnings.warn(\n",
      "/home/katscott/Code/ros_metrics_analysis/notebooks/metrics/lib/python3.11/site-packages/lars/apache.py:741: ApacheWarning: Line 20403: Line contains invalid data\n",
      "  warnings.warn(\n",
      "/home/katscott/Code/ros_metrics_analysis/notebooks/metrics/lib/python3.11/site-packages/lars/apache.py:741: ApacheWarning: Line 20404: Line contains invalid data\n",
      "  warnings.warn(\n",
      "/home/katscott/Code/ros_metrics_analysis/notebooks/metrics/lib/python3.11/site-packages/lars/apache.py:741: ApacheWarning: Line 20405: Line contains invalid data\n",
      "  warnings.warn(\n",
      "/home/katscott/Code/ros_metrics_analysis/notebooks/metrics/lib/python3.11/site-packages/lars/apache.py:741: ApacheWarning: Line 20406: Line contains invalid data\n",
      "  warnings.warn(\n",
      "/home/katscott/Code/ros_metrics_analysis/notebooks/metrics/lib/python3.11/site-packages/lars/apache.py:741: ApacheWarning: Line 20407: Line contains invalid data\n",
      "  warnings.warn(\n",
      "/home/katscott/Code/ros_metrics_analysis/notebooks/metrics/lib/python3.11/site-packages/lars/apache.py:741: ApacheWarning: Line 20408: Line contains invalid data\n",
      "  warnings.warn(\n",
      "/home/katscott/Code/ros_metrics_analysis/notebooks/metrics/lib/python3.11/site-packages/lars/apache.py:741: ApacheWarning: Line 20410: Line contains invalid data\n",
      "  warnings.warn(\n",
      "/home/katscott/Code/ros_metrics_analysis/notebooks/metrics/lib/python3.11/site-packages/lars/apache.py:741: ApacheWarning: Line 20411: Line contains invalid data\n",
      "  warnings.warn(\n",
      "/home/katscott/Code/ros_metrics_analysis/notebooks/metrics/lib/python3.11/site-packages/lars/apache.py:741: ApacheWarning: Line 20412: Line contains invalid data\n",
      "  warnings.warn(\n",
      "/home/katscott/Code/ros_metrics_analysis/notebooks/metrics/lib/python3.11/site-packages/lars/apache.py:741: ApacheWarning: Line 20414: Line contains invalid data\n",
      "  warnings.warn(\n",
      "/home/katscott/Code/ros_metrics_analysis/notebooks/metrics/lib/python3.11/site-packages/lars/apache.py:741: ApacheWarning: Line 20415: Line contains invalid data\n",
      "  warnings.warn(\n",
      "/home/katscott/Code/ros_metrics_analysis/notebooks/metrics/lib/python3.11/site-packages/lars/apache.py:741: ApacheWarning: Line 20417: Line contains invalid data\n",
      "  warnings.warn(\n",
      "/home/katscott/Code/ros_metrics_analysis/notebooks/metrics/lib/python3.11/site-packages/lars/apache.py:741: ApacheWarning: Line 20418: Line contains invalid data\n",
      "  warnings.warn(\n",
      "/home/katscott/Code/ros_metrics_analysis/notebooks/metrics/lib/python3.11/site-packages/lars/apache.py:741: ApacheWarning: Line 20420: Line contains invalid data\n",
      "  warnings.warn(\n",
      "/home/katscott/Code/ros_metrics_analysis/notebooks/metrics/lib/python3.11/site-packages/lars/apache.py:741: ApacheWarning: Line 20421: Line contains invalid data\n",
      "  warnings.warn(\n",
      "/home/katscott/Code/ros_metrics_analysis/notebooks/metrics/lib/python3.11/site-packages/lars/apache.py:741: ApacheWarning: Line 20422: Line contains invalid data\n",
      "  warnings.warn(\n",
      "/home/katscott/Code/ros_metrics_analysis/notebooks/metrics/lib/python3.11/site-packages/lars/apache.py:741: ApacheWarning: Line 20423: Line contains invalid data\n",
      "  warnings.warn(\n",
      "/home/katscott/Code/ros_metrics_analysis/notebooks/metrics/lib/python3.11/site-packages/lars/apache.py:741: ApacheWarning: Line 20424: Line contains invalid data\n",
      "  warnings.warn(\n",
      "/home/katscott/Code/ros_metrics_analysis/notebooks/metrics/lib/python3.11/site-packages/lars/apache.py:741: ApacheWarning: Line 20426: Line contains invalid data\n",
      "  warnings.warn(\n",
      "/home/katscott/Code/ros_metrics_analysis/notebooks/metrics/lib/python3.11/site-packages/lars/apache.py:741: ApacheWarning: Line 20427: Line contains invalid data\n",
      "  warnings.warn(\n",
      "/home/katscott/Code/ros_metrics_analysis/notebooks/metrics/lib/python3.11/site-packages/lars/apache.py:741: ApacheWarning: Line 20429: Line contains invalid data\n",
      "  warnings.warn(\n",
      "/home/katscott/Code/ros_metrics_analysis/notebooks/metrics/lib/python3.11/site-packages/lars/apache.py:741: ApacheWarning: Line 20433: Line contains invalid data\n",
      "  warnings.warn(\n",
      "/home/katscott/Code/ros_metrics_analysis/notebooks/metrics/lib/python3.11/site-packages/lars/apache.py:741: ApacheWarning: Line 20434: Line contains invalid data\n",
      "  warnings.warn(\n",
      "/home/katscott/Code/ros_metrics_analysis/notebooks/metrics/lib/python3.11/site-packages/lars/apache.py:741: ApacheWarning: Line 20437: Line contains invalid data\n",
      "  warnings.warn(\n",
      "/home/katscott/Code/ros_metrics_analysis/notebooks/metrics/lib/python3.11/site-packages/lars/apache.py:741: ApacheWarning: Line 20438: Line contains invalid data\n",
      "  warnings.warn(\n",
      "/home/katscott/Code/ros_metrics_analysis/notebooks/metrics/lib/python3.11/site-packages/lars/apache.py:741: ApacheWarning: Line 20439: Line contains invalid data\n",
      "  warnings.warn(\n",
      "/home/katscott/Code/ros_metrics_analysis/notebooks/metrics/lib/python3.11/site-packages/lars/apache.py:741: ApacheWarning: Line 20440: Line contains invalid data\n",
      "  warnings.warn(\n",
      "/home/katscott/Code/ros_metrics_analysis/notebooks/metrics/lib/python3.11/site-packages/lars/apache.py:741: ApacheWarning: Line 20441: Line contains invalid data\n",
      "  warnings.warn(\n",
      "/home/katscott/Code/ros_metrics_analysis/notebooks/metrics/lib/python3.11/site-packages/lars/apache.py:741: ApacheWarning: Line 20442: Line contains invalid data\n",
      "  warnings.warn(\n",
      "/home/katscott/Code/ros_metrics_analysis/notebooks/metrics/lib/python3.11/site-packages/lars/apache.py:741: ApacheWarning: Line 20443: Line contains invalid data\n",
      "  warnings.warn(\n",
      "/home/katscott/Code/ros_metrics_analysis/notebooks/metrics/lib/python3.11/site-packages/lars/apache.py:741: ApacheWarning: Line 20444: Line contains invalid data\n",
      "  warnings.warn(\n",
      "/home/katscott/Code/ros_metrics_analysis/notebooks/metrics/lib/python3.11/site-packages/lars/apache.py:741: ApacheWarning: Line 20445: Line contains invalid data\n",
      "  warnings.warn(\n",
      "/home/katscott/Code/ros_metrics_analysis/notebooks/metrics/lib/python3.11/site-packages/lars/apache.py:741: ApacheWarning: Line 20447: Line contains invalid data\n",
      "  warnings.warn(\n",
      "/home/katscott/Code/ros_metrics_analysis/notebooks/metrics/lib/python3.11/site-packages/lars/apache.py:741: ApacheWarning: Line 20448: Line contains invalid data\n",
      "  warnings.warn(\n",
      "/home/katscott/Code/ros_metrics_analysis/notebooks/metrics/lib/python3.11/site-packages/lars/apache.py:741: ApacheWarning: Line 20449: Line contains invalid data\n",
      "  warnings.warn(\n",
      "/home/katscott/Code/ros_metrics_analysis/notebooks/metrics/lib/python3.11/site-packages/lars/apache.py:741: ApacheWarning: Line 20450: Line contains invalid data\n",
      "  warnings.warn(\n",
      "/home/katscott/Code/ros_metrics_analysis/notebooks/metrics/lib/python3.11/site-packages/lars/apache.py:741: ApacheWarning: Line 20452: Line contains invalid data\n",
      "  warnings.warn(\n",
      "/home/katscott/Code/ros_metrics_analysis/notebooks/metrics/lib/python3.11/site-packages/lars/apache.py:741: ApacheWarning: Line 20454: Line contains invalid data\n",
      "  warnings.warn(\n",
      "/home/katscott/Code/ros_metrics_analysis/notebooks/metrics/lib/python3.11/site-packages/lars/apache.py:741: ApacheWarning: Line 20455: Line contains invalid data\n",
      "  warnings.warn(\n",
      "/home/katscott/Code/ros_metrics_analysis/notebooks/metrics/lib/python3.11/site-packages/lars/apache.py:741: ApacheWarning: Line 20456: Line contains invalid data\n",
      "  warnings.warn(\n",
      "/home/katscott/Code/ros_metrics_analysis/notebooks/metrics/lib/python3.11/site-packages/lars/apache.py:741: ApacheWarning: Line 20457: Line contains invalid data\n",
      "  warnings.warn(\n",
      "/home/katscott/Code/ros_metrics_analysis/notebooks/metrics/lib/python3.11/site-packages/lars/apache.py:741: ApacheWarning: Line 20458: Line contains invalid data\n",
      "  warnings.warn(\n",
      "/home/katscott/Code/ros_metrics_analysis/notebooks/metrics/lib/python3.11/site-packages/lars/apache.py:741: ApacheWarning: Line 20460: Line contains invalid data\n",
      "  warnings.warn(\n",
      "/home/katscott/Code/ros_metrics_analysis/notebooks/metrics/lib/python3.11/site-packages/lars/apache.py:741: ApacheWarning: Line 20463: Line contains invalid data\n",
      "  warnings.warn(\n",
      "/home/katscott/Code/ros_metrics_analysis/notebooks/metrics/lib/python3.11/site-packages/lars/apache.py:741: ApacheWarning: Line 20466: Line contains invalid data\n",
      "  warnings.warn(\n",
      "/home/katscott/Code/ros_metrics_analysis/notebooks/metrics/lib/python3.11/site-packages/lars/apache.py:741: ApacheWarning: Line 20491: Line contains invalid data\n",
      "  warnings.warn(\n",
      "/home/katscott/Code/ros_metrics_analysis/notebooks/metrics/lib/python3.11/site-packages/lars/apache.py:741: ApacheWarning: Line 20492: Line contains invalid data\n",
      "  warnings.warn(\n",
      "/home/katscott/Code/ros_metrics_analysis/notebooks/metrics/lib/python3.11/site-packages/lars/apache.py:741: ApacheWarning: Line 20493: Line contains invalid data\n",
      "  warnings.warn(\n",
      "/home/katscott/Code/ros_metrics_analysis/notebooks/metrics/lib/python3.11/site-packages/lars/apache.py:741: ApacheWarning: Line 20495: Line contains invalid data\n",
      "  warnings.warn(\n",
      "/home/katscott/Code/ros_metrics_analysis/notebooks/metrics/lib/python3.11/site-packages/lars/apache.py:741: ApacheWarning: Line 20497: Line contains invalid data\n",
      "  warnings.warn(\n",
      "/home/katscott/Code/ros_metrics_analysis/notebooks/metrics/lib/python3.11/site-packages/lars/apache.py:741: ApacheWarning: Line 20513: Line contains invalid data\n",
      "  warnings.warn(\n",
      "/home/katscott/Code/ros_metrics_analysis/notebooks/metrics/lib/python3.11/site-packages/lars/apache.py:741: ApacheWarning: Line 20514: Line contains invalid data\n",
      "  warnings.warn(\n",
      "/home/katscott/Code/ros_metrics_analysis/notebooks/metrics/lib/python3.11/site-packages/lars/apache.py:741: ApacheWarning: Line 20516: Line contains invalid data\n",
      "  warnings.warn(\n",
      "/home/katscott/Code/ros_metrics_analysis/notebooks/metrics/lib/python3.11/site-packages/lars/apache.py:741: ApacheWarning: Line 20517: Line contains invalid data\n",
      "  warnings.warn(\n",
      "/home/katscott/Code/ros_metrics_analysis/notebooks/metrics/lib/python3.11/site-packages/lars/apache.py:741: ApacheWarning: Line 20518: Line contains invalid data\n",
      "  warnings.warn(\n",
      "/home/katscott/Code/ros_metrics_analysis/notebooks/metrics/lib/python3.11/site-packages/lars/apache.py:741: ApacheWarning: Line 20519: Line contains invalid data\n",
      "  warnings.warn(\n",
      "/home/katscott/Code/ros_metrics_analysis/notebooks/metrics/lib/python3.11/site-packages/lars/apache.py:741: ApacheWarning: Line 20522: Line contains invalid data\n",
      "  warnings.warn(\n",
      "/home/katscott/Code/ros_metrics_analysis/notebooks/metrics/lib/python3.11/site-packages/lars/apache.py:741: ApacheWarning: Line 20523: Line contains invalid data\n",
      "  warnings.warn(\n",
      "/home/katscott/Code/ros_metrics_analysis/notebooks/metrics/lib/python3.11/site-packages/lars/apache.py:741: ApacheWarning: Line 20524: Line contains invalid data\n",
      "  warnings.warn(\n",
      "/home/katscott/Code/ros_metrics_analysis/notebooks/metrics/lib/python3.11/site-packages/lars/apache.py:741: ApacheWarning: Line 20525: Line contains invalid data\n",
      "  warnings.warn(\n",
      "/home/katscott/Code/ros_metrics_analysis/notebooks/metrics/lib/python3.11/site-packages/lars/apache.py:741: ApacheWarning: Line 20527: Line contains invalid data\n",
      "  warnings.warn(\n",
      "/home/katscott/Code/ros_metrics_analysis/notebooks/metrics/lib/python3.11/site-packages/lars/apache.py:741: ApacheWarning: Line 20529: Line contains invalid data\n",
      "  warnings.warn(\n",
      "/home/katscott/Code/ros_metrics_analysis/notebooks/metrics/lib/python3.11/site-packages/lars/apache.py:741: ApacheWarning: Line 20530: Line contains invalid data\n",
      "  warnings.warn(\n",
      "/home/katscott/Code/ros_metrics_analysis/notebooks/metrics/lib/python3.11/site-packages/lars/apache.py:741: ApacheWarning: Line 20531: Line contains invalid data\n",
      "  warnings.warn(\n",
      "/home/katscott/Code/ros_metrics_analysis/notebooks/metrics/lib/python3.11/site-packages/lars/apache.py:741: ApacheWarning: Line 20532: Line contains invalid data\n",
      "  warnings.warn(\n",
      "/home/katscott/Code/ros_metrics_analysis/notebooks/metrics/lib/python3.11/site-packages/lars/apache.py:741: ApacheWarning: Line 20533: Line contains invalid data\n",
      "  warnings.warn(\n",
      "/home/katscott/Code/ros_metrics_analysis/notebooks/metrics/lib/python3.11/site-packages/lars/apache.py:741: ApacheWarning: Line 20535: Line contains invalid data\n",
      "  warnings.warn(\n",
      "/home/katscott/Code/ros_metrics_analysis/notebooks/metrics/lib/python3.11/site-packages/lars/apache.py:741: ApacheWarning: Line 20536: Line contains invalid data\n",
      "  warnings.warn(\n",
      "/home/katscott/Code/ros_metrics_analysis/notebooks/metrics/lib/python3.11/site-packages/lars/apache.py:741: ApacheWarning: Line 20537: Line contains invalid data\n",
      "  warnings.warn(\n",
      "/home/katscott/Code/ros_metrics_analysis/notebooks/metrics/lib/python3.11/site-packages/lars/apache.py:741: ApacheWarning: Line 20539: Line contains invalid data\n",
      "  warnings.warn(\n",
      "/home/katscott/Code/ros_metrics_analysis/notebooks/metrics/lib/python3.11/site-packages/lars/apache.py:741: ApacheWarning: Line 20541: Line contains invalid data\n",
      "  warnings.warn(\n",
      "/home/katscott/Code/ros_metrics_analysis/notebooks/metrics/lib/python3.11/site-packages/lars/apache.py:741: ApacheWarning: Line 20543: Line contains invalid data\n",
      "  warnings.warn(\n",
      "/home/katscott/Code/ros_metrics_analysis/notebooks/metrics/lib/python3.11/site-packages/lars/apache.py:741: ApacheWarning: Line 20544: Line contains invalid data\n",
      "  warnings.warn(\n",
      "/home/katscott/Code/ros_metrics_analysis/notebooks/metrics/lib/python3.11/site-packages/lars/apache.py:741: ApacheWarning: Line 20545: Line contains invalid data\n",
      "  warnings.warn(\n",
      "/home/katscott/Code/ros_metrics_analysis/notebooks/metrics/lib/python3.11/site-packages/lars/apache.py:741: ApacheWarning: Line 20547: Line contains invalid data\n",
      "  warnings.warn(\n",
      "/home/katscott/Code/ros_metrics_analysis/notebooks/metrics/lib/python3.11/site-packages/lars/apache.py:741: ApacheWarning: Line 20548: Line contains invalid data\n",
      "  warnings.warn(\n",
      "/home/katscott/Code/ros_metrics_analysis/notebooks/metrics/lib/python3.11/site-packages/lars/apache.py:741: ApacheWarning: Line 20550: Line contains invalid data\n",
      "  warnings.warn(\n",
      "/home/katscott/Code/ros_metrics_analysis/notebooks/metrics/lib/python3.11/site-packages/lars/apache.py:741: ApacheWarning: Line 20551: Line contains invalid data\n",
      "  warnings.warn(\n",
      "/home/katscott/Code/ros_metrics_analysis/notebooks/metrics/lib/python3.11/site-packages/lars/apache.py:741: ApacheWarning: Line 20552: Line contains invalid data\n",
      "  warnings.warn(\n",
      "/home/katscott/Code/ros_metrics_analysis/notebooks/metrics/lib/python3.11/site-packages/lars/apache.py:741: ApacheWarning: Line 20553: Line contains invalid data\n",
      "  warnings.warn(\n",
      "/home/katscott/Code/ros_metrics_analysis/notebooks/metrics/lib/python3.11/site-packages/lars/apache.py:741: ApacheWarning: Line 20554: Line contains invalid data\n",
      "  warnings.warn(\n",
      "/home/katscott/Code/ros_metrics_analysis/notebooks/metrics/lib/python3.11/site-packages/lars/apache.py:741: ApacheWarning: Line 20557: Line contains invalid data\n",
      "  warnings.warn(\n",
      "/home/katscott/Code/ros_metrics_analysis/notebooks/metrics/lib/python3.11/site-packages/lars/apache.py:741: ApacheWarning: Line 20558: Line contains invalid data\n",
      "  warnings.warn(\n",
      "/home/katscott/Code/ros_metrics_analysis/notebooks/metrics/lib/python3.11/site-packages/lars/apache.py:741: ApacheWarning: Line 20559: Line contains invalid data\n",
      "  warnings.warn(\n",
      "/home/katscott/Code/ros_metrics_analysis/notebooks/metrics/lib/python3.11/site-packages/lars/apache.py:741: ApacheWarning: Line 20560: Line contains invalid data\n",
      "  warnings.warn(\n",
      "/home/katscott/Code/ros_metrics_analysis/notebooks/metrics/lib/python3.11/site-packages/lars/apache.py:741: ApacheWarning: Line 20562: Line contains invalid data\n",
      "  warnings.warn(\n",
      "/home/katscott/Code/ros_metrics_analysis/notebooks/metrics/lib/python3.11/site-packages/lars/apache.py:741: ApacheWarning: Line 20563: Line contains invalid data\n",
      "  warnings.warn(\n",
      "/home/katscott/Code/ros_metrics_analysis/notebooks/metrics/lib/python3.11/site-packages/lars/apache.py:741: ApacheWarning: Line 20564: Line contains invalid data\n",
      "  warnings.warn(\n",
      "/home/katscott/Code/ros_metrics_analysis/notebooks/metrics/lib/python3.11/site-packages/lars/apache.py:741: ApacheWarning: Line 20565: Line contains invalid data\n",
      "  warnings.warn(\n",
      "/home/katscott/Code/ros_metrics_analysis/notebooks/metrics/lib/python3.11/site-packages/lars/apache.py:741: ApacheWarning: Line 20567: Line contains invalid data\n",
      "  warnings.warn(\n",
      "/home/katscott/Code/ros_metrics_analysis/notebooks/metrics/lib/python3.11/site-packages/lars/apache.py:741: ApacheWarning: Line 20569: Line contains invalid data\n",
      "  warnings.warn(\n",
      "/home/katscott/Code/ros_metrics_analysis/notebooks/metrics/lib/python3.11/site-packages/lars/apache.py:741: ApacheWarning: Line 20570: Line contains invalid data\n",
      "  warnings.warn(\n",
      "/home/katscott/Code/ros_metrics_analysis/notebooks/metrics/lib/python3.11/site-packages/lars/apache.py:741: ApacheWarning: Line 20571: Line contains invalid data\n",
      "  warnings.warn(\n",
      "/home/katscott/Code/ros_metrics_analysis/notebooks/metrics/lib/python3.11/site-packages/lars/apache.py:741: ApacheWarning: Line 20574: Line contains invalid data\n",
      "  warnings.warn(\n",
      "/home/katscott/Code/ros_metrics_analysis/notebooks/metrics/lib/python3.11/site-packages/lars/apache.py:741: ApacheWarning: Line 20579: Line contains invalid data\n",
      "  warnings.warn(\n",
      "/home/katscott/Code/ros_metrics_analysis/notebooks/metrics/lib/python3.11/site-packages/lars/apache.py:741: ApacheWarning: Line 20641: Line contains invalid data\n",
      "  warnings.warn(\n",
      "/home/katscott/Code/ros_metrics_analysis/notebooks/metrics/lib/python3.11/site-packages/lars/apache.py:741: ApacheWarning: Line 20644: Line contains invalid data\n",
      "  warnings.warn(\n",
      "/home/katscott/Code/ros_metrics_analysis/notebooks/metrics/lib/python3.11/site-packages/lars/apache.py:741: ApacheWarning: Line 20645: Line contains invalid data\n",
      "  warnings.warn(\n",
      "/home/katscott/Code/ros_metrics_analysis/notebooks/metrics/lib/python3.11/site-packages/lars/apache.py:741: ApacheWarning: Line 20648: Line contains invalid data\n",
      "  warnings.warn(\n",
      "/home/katscott/Code/ros_metrics_analysis/notebooks/metrics/lib/python3.11/site-packages/lars/apache.py:741: ApacheWarning: Line 20649: Line contains invalid data\n",
      "  warnings.warn(\n",
      "/home/katscott/Code/ros_metrics_analysis/notebooks/metrics/lib/python3.11/site-packages/lars/apache.py:741: ApacheWarning: Line 21232: Line contains invalid data\n",
      "  warnings.warn(\n",
      "/home/katscott/Code/ros_metrics_analysis/notebooks/metrics/lib/python3.11/site-packages/lars/apache.py:741: ApacheWarning: Line 22932: Line contains invalid data\n",
      "  warnings.warn(\n",
      "/home/katscott/Code/ros_metrics_analysis/notebooks/metrics/lib/python3.11/site-packages/lars/apache.py:741: ApacheWarning: Line 22933: Line contains invalid data\n",
      "  warnings.warn(\n"
     ]
    },
    {
     "name": "stdout",
     "output_type": "stream",
     "text": [
      ".\n",
      "./temp/packages-logs/apt-access.log.17\n",
      ".\n",
      ".\n"
     ]
    },
    {
     "name": "stderr",
     "output_type": "stream",
     "text": [
      "/home/katscott/Code/ros_metrics_analysis/notebooks/metrics/lib/python3.11/site-packages/lars/apache.py:741: ApacheWarning: Line 26225: Line contains invalid data\n",
      "  warnings.warn(\n",
      "/home/katscott/Code/ros_metrics_analysis/notebooks/metrics/lib/python3.11/site-packages/lars/apache.py:741: ApacheWarning: Line 26514: Line contains invalid data\n",
      "  warnings.warn(\n",
      "/home/katscott/Code/ros_metrics_analysis/notebooks/metrics/lib/python3.11/site-packages/lars/apache.py:741: ApacheWarning: Line 26516: Line contains invalid data\n",
      "  warnings.warn(\n",
      "/home/katscott/Code/ros_metrics_analysis/notebooks/metrics/lib/python3.11/site-packages/lars/apache.py:741: ApacheWarning: Line 26517: Line contains invalid data\n",
      "  warnings.warn(\n",
      "/home/katscott/Code/ros_metrics_analysis/notebooks/metrics/lib/python3.11/site-packages/lars/apache.py:741: ApacheWarning: Line 26518: Line contains invalid data\n",
      "  warnings.warn(\n",
      "/home/katscott/Code/ros_metrics_analysis/notebooks/metrics/lib/python3.11/site-packages/lars/apache.py:741: ApacheWarning: Line 26519: Line contains invalid data\n",
      "  warnings.warn(\n",
      "/home/katscott/Code/ros_metrics_analysis/notebooks/metrics/lib/python3.11/site-packages/lars/apache.py:741: ApacheWarning: Line 26520: Line contains invalid data\n",
      "  warnings.warn(\n"
     ]
    },
    {
     "name": "stdout",
     "output_type": "stream",
     "text": [
      ".\n",
      ".\n",
      ".\n",
      ".\n"
     ]
    },
    {
     "name": "stderr",
     "output_type": "stream",
     "text": [
      "/home/katscott/Code/ros_metrics_analysis/notebooks/metrics/lib/python3.11/site-packages/lars/apache.py:741: ApacheWarning: Line 52372: Line contains invalid data\n",
      "  warnings.warn(\n",
      "/home/katscott/Code/ros_metrics_analysis/notebooks/metrics/lib/python3.11/site-packages/lars/apache.py:741: ApacheWarning: Line 57608: Line contains invalid data\n",
      "  warnings.warn(\n",
      "/home/katscott/Code/ros_metrics_analysis/notebooks/metrics/lib/python3.11/site-packages/lars/apache.py:741: ApacheWarning: Line 69724: Line contains invalid data\n",
      "  warnings.warn(\n",
      "/home/katscott/Code/ros_metrics_analysis/notebooks/metrics/lib/python3.11/site-packages/lars/apache.py:741: ApacheWarning: Line 71115: Line contains invalid data\n",
      "  warnings.warn(\n",
      "/home/katscott/Code/ros_metrics_analysis/notebooks/metrics/lib/python3.11/site-packages/lars/apache.py:741: ApacheWarning: Line 73024: Line contains invalid data\n",
      "  warnings.warn(\n",
      "/home/katscott/Code/ros_metrics_analysis/notebooks/metrics/lib/python3.11/site-packages/lars/apache.py:741: ApacheWarning: Line 73105: Line contains invalid data\n",
      "  warnings.warn(\n"
     ]
    },
    {
     "name": "stdout",
     "output_type": "stream",
     "text": [
      ".\n",
      "./temp/packages-logs/apt-access.log.18\n",
      ".\n"
     ]
    },
    {
     "name": "stderr",
     "output_type": "stream",
     "text": [
      "/home/katscott/Code/ros_metrics_analysis/notebooks/metrics/lib/python3.11/site-packages/lars/apache.py:741: ApacheWarning: Line 3517: Line contains invalid data\n",
      "  warnings.warn(\n",
      "/home/katscott/Code/ros_metrics_analysis/notebooks/metrics/lib/python3.11/site-packages/lars/apache.py:741: ApacheWarning: Line 3518: Line contains invalid data\n",
      "  warnings.warn(\n",
      "/home/katscott/Code/ros_metrics_analysis/notebooks/metrics/lib/python3.11/site-packages/lars/apache.py:741: ApacheWarning: Line 3519: Line contains invalid data\n",
      "  warnings.warn(\n",
      "/home/katscott/Code/ros_metrics_analysis/notebooks/metrics/lib/python3.11/site-packages/lars/apache.py:741: ApacheWarning: Line 3520: Line contains invalid data\n",
      "  warnings.warn(\n",
      "/home/katscott/Code/ros_metrics_analysis/notebooks/metrics/lib/python3.11/site-packages/lars/apache.py:741: ApacheWarning: Line 3521: Line contains invalid data\n",
      "  warnings.warn(\n",
      "/home/katscott/Code/ros_metrics_analysis/notebooks/metrics/lib/python3.11/site-packages/lars/apache.py:741: ApacheWarning: Line 3522: Line contains invalid data\n",
      "  warnings.warn(\n",
      "/home/katscott/Code/ros_metrics_analysis/notebooks/metrics/lib/python3.11/site-packages/lars/apache.py:741: ApacheWarning: Line 8472: Line contains invalid data\n",
      "  warnings.warn(\n",
      "/home/katscott/Code/ros_metrics_analysis/notebooks/metrics/lib/python3.11/site-packages/lars/apache.py:741: ApacheWarning: Line 13483: Line contains invalid data\n",
      "  warnings.warn(\n",
      "/home/katscott/Code/ros_metrics_analysis/notebooks/metrics/lib/python3.11/site-packages/lars/apache.py:741: ApacheWarning: Line 13484: Line contains invalid data\n",
      "  warnings.warn(\n",
      "/home/katscott/Code/ros_metrics_analysis/notebooks/metrics/lib/python3.11/site-packages/lars/apache.py:741: ApacheWarning: Line 13485: Line contains invalid data\n",
      "  warnings.warn(\n",
      "/home/katscott/Code/ros_metrics_analysis/notebooks/metrics/lib/python3.11/site-packages/lars/apache.py:741: ApacheWarning: Line 13486: Line contains invalid data\n",
      "  warnings.warn(\n",
      "/home/katscott/Code/ros_metrics_analysis/notebooks/metrics/lib/python3.11/site-packages/lars/apache.py:741: ApacheWarning: Line 13488: Line contains invalid data\n",
      "  warnings.warn(\n",
      "/home/katscott/Code/ros_metrics_analysis/notebooks/metrics/lib/python3.11/site-packages/lars/apache.py:741: ApacheWarning: Line 13508: Line contains invalid data\n",
      "  warnings.warn(\n",
      "/home/katscott/Code/ros_metrics_analysis/notebooks/metrics/lib/python3.11/site-packages/lars/apache.py:741: ApacheWarning: Line 14740: Line contains invalid data\n",
      "  warnings.warn(\n",
      "/home/katscott/Code/ros_metrics_analysis/notebooks/metrics/lib/python3.11/site-packages/lars/apache.py:741: ApacheWarning: Line 14741: Line contains invalid data\n",
      "  warnings.warn(\n",
      "/home/katscott/Code/ros_metrics_analysis/notebooks/metrics/lib/python3.11/site-packages/lars/apache.py:741: ApacheWarning: Line 16099: Line contains invalid data\n",
      "  warnings.warn(\n",
      "/home/katscott/Code/ros_metrics_analysis/notebooks/metrics/lib/python3.11/site-packages/lars/apache.py:741: ApacheWarning: Line 17279: Line contains invalid data\n",
      "  warnings.warn(\n",
      "/home/katscott/Code/ros_metrics_analysis/notebooks/metrics/lib/python3.11/site-packages/lars/apache.py:741: ApacheWarning: Line 18787: Line contains invalid data\n",
      "  warnings.warn(\n"
     ]
    },
    {
     "name": "stdout",
     "output_type": "stream",
     "text": [
      ".\n",
      ".\n",
      ".\n"
     ]
    },
    {
     "name": "stderr",
     "output_type": "stream",
     "text": [
      "/home/katscott/Code/ros_metrics_analysis/notebooks/metrics/lib/python3.11/site-packages/lars/apache.py:741: ApacheWarning: Line 23220: Line contains invalid data\n",
      "  warnings.warn(\n",
      "/home/katscott/Code/ros_metrics_analysis/notebooks/metrics/lib/python3.11/site-packages/lars/apache.py:741: ApacheWarning: Line 23596: Line contains invalid data\n",
      "  warnings.warn(\n",
      "/home/katscott/Code/ros_metrics_analysis/notebooks/metrics/lib/python3.11/site-packages/lars/apache.py:741: ApacheWarning: Line 24596: Line contains invalid data\n",
      "  warnings.warn(\n",
      "/home/katscott/Code/ros_metrics_analysis/notebooks/metrics/lib/python3.11/site-packages/lars/apache.py:741: ApacheWarning: Line 28821: Line contains invalid data\n",
      "  warnings.warn(\n",
      "/home/katscott/Code/ros_metrics_analysis/notebooks/metrics/lib/python3.11/site-packages/lars/apache.py:741: ApacheWarning: Line 28822: Line contains invalid data\n",
      "  warnings.warn(\n",
      "/home/katscott/Code/ros_metrics_analysis/notebooks/metrics/lib/python3.11/site-packages/lars/apache.py:741: ApacheWarning: Line 34927: Line contains invalid data\n",
      "  warnings.warn(\n",
      "/home/katscott/Code/ros_metrics_analysis/notebooks/metrics/lib/python3.11/site-packages/lars/apache.py:741: ApacheWarning: Line 35316: Line contains invalid data\n",
      "  warnings.warn(\n",
      "/home/katscott/Code/ros_metrics_analysis/notebooks/metrics/lib/python3.11/site-packages/lars/apache.py:741: ApacheWarning: Line 58349: Line contains invalid data\n",
      "  warnings.warn(\n",
      "/home/katscott/Code/ros_metrics_analysis/notebooks/metrics/lib/python3.11/site-packages/lars/apache.py:741: ApacheWarning: Line 60509: Line contains invalid data\n",
      "  warnings.warn(\n"
     ]
    },
    {
     "name": "stdout",
     "output_type": "stream",
     "text": [
      ".\n",
      ".\n",
      ".\n"
     ]
    },
    {
     "name": "stderr",
     "output_type": "stream",
     "text": [
      "/home/katscott/Code/ros_metrics_analysis/notebooks/metrics/lib/python3.11/site-packages/lars/apache.py:741: ApacheWarning: Line 63036: Line contains invalid data\n",
      "  warnings.warn(\n",
      "/home/katscott/Code/ros_metrics_analysis/notebooks/metrics/lib/python3.11/site-packages/lars/apache.py:741: ApacheWarning: Line 64170: Line contains invalid data\n",
      "  warnings.warn(\n",
      "/home/katscott/Code/ros_metrics_analysis/notebooks/metrics/lib/python3.11/site-packages/lars/apache.py:741: ApacheWarning: Line 66007: Line contains invalid data\n",
      "  warnings.warn(\n",
      "/home/katscott/Code/ros_metrics_analysis/notebooks/metrics/lib/python3.11/site-packages/lars/apache.py:741: ApacheWarning: Line 66008: Line contains invalid data\n",
      "  warnings.warn(\n",
      "/home/katscott/Code/ros_metrics_analysis/notebooks/metrics/lib/python3.11/site-packages/lars/apache.py:741: ApacheWarning: Line 69746: Line contains invalid data\n",
      "  warnings.warn(\n",
      "/home/katscott/Code/ros_metrics_analysis/notebooks/metrics/lib/python3.11/site-packages/lars/apache.py:741: ApacheWarning: Line 69748: Line contains invalid data\n",
      "  warnings.warn(\n",
      "/home/katscott/Code/ros_metrics_analysis/notebooks/metrics/lib/python3.11/site-packages/lars/apache.py:741: ApacheWarning: Line 72010: Line contains invalid data\n",
      "  warnings.warn(\n",
      "/home/katscott/Code/ros_metrics_analysis/notebooks/metrics/lib/python3.11/site-packages/lars/apache.py:741: ApacheWarning: Line 74453: Line contains invalid data\n",
      "  warnings.warn(\n",
      "/home/katscott/Code/ros_metrics_analysis/notebooks/metrics/lib/python3.11/site-packages/lars/apache.py:741: ApacheWarning: Line 74454: Line contains invalid data\n",
      "  warnings.warn(\n",
      "/home/katscott/Code/ros_metrics_analysis/notebooks/metrics/lib/python3.11/site-packages/lars/apache.py:741: ApacheWarning: Line 74455: Line contains invalid data\n",
      "  warnings.warn(\n",
      "/home/katscott/Code/ros_metrics_analysis/notebooks/metrics/lib/python3.11/site-packages/lars/apache.py:741: ApacheWarning: Line 74456: Line contains invalid data\n",
      "  warnings.warn(\n",
      "/home/katscott/Code/ros_metrics_analysis/notebooks/metrics/lib/python3.11/site-packages/lars/apache.py:741: ApacheWarning: Line 74457: Line contains invalid data\n",
      "  warnings.warn(\n",
      "/home/katscott/Code/ros_metrics_analysis/notebooks/metrics/lib/python3.11/site-packages/lars/apache.py:741: ApacheWarning: Line 74458: Line contains invalid data\n",
      "  warnings.warn(\n",
      "/home/katscott/Code/ros_metrics_analysis/notebooks/metrics/lib/python3.11/site-packages/lars/apache.py:741: ApacheWarning: Line 74459: Line contains invalid data\n",
      "  warnings.warn(\n",
      "/home/katscott/Code/ros_metrics_analysis/notebooks/metrics/lib/python3.11/site-packages/lars/apache.py:741: ApacheWarning: Line 75049: Line contains invalid data\n",
      "  warnings.warn(\n"
     ]
    },
    {
     "name": "stdout",
     "output_type": "stream",
     "text": [
      "./temp/packages-logs/apt-access.log.19\n",
      ".\n",
      ".\n"
     ]
    },
    {
     "name": "stderr",
     "output_type": "stream",
     "text": [
      "/home/katscott/Code/ros_metrics_analysis/notebooks/metrics/lib/python3.11/site-packages/lars/apache.py:741: ApacheWarning: Line 15240: Line contains invalid data\n",
      "  warnings.warn(\n",
      "/home/katscott/Code/ros_metrics_analysis/notebooks/metrics/lib/python3.11/site-packages/lars/apache.py:741: ApacheWarning: Line 15447: Line contains invalid data\n",
      "  warnings.warn(\n",
      "/home/katscott/Code/ros_metrics_analysis/notebooks/metrics/lib/python3.11/site-packages/lars/apache.py:741: ApacheWarning: Line 15448: Line contains invalid data\n",
      "  warnings.warn(\n",
      "/home/katscott/Code/ros_metrics_analysis/notebooks/metrics/lib/python3.11/site-packages/lars/apache.py:741: ApacheWarning: Line 17941: Line contains invalid data\n",
      "  warnings.warn(\n",
      "/home/katscott/Code/ros_metrics_analysis/notebooks/metrics/lib/python3.11/site-packages/lars/apache.py:741: ApacheWarning: Line 17942: Line contains invalid data\n",
      "  warnings.warn(\n",
      "/home/katscott/Code/ros_metrics_analysis/notebooks/metrics/lib/python3.11/site-packages/lars/apache.py:741: ApacheWarning: Line 17943: Line contains invalid data\n",
      "  warnings.warn(\n",
      "/home/katscott/Code/ros_metrics_analysis/notebooks/metrics/lib/python3.11/site-packages/lars/apache.py:741: ApacheWarning: Line 17947: Line contains invalid data\n",
      "  warnings.warn(\n",
      "/home/katscott/Code/ros_metrics_analysis/notebooks/metrics/lib/python3.11/site-packages/lars/apache.py:741: ApacheWarning: Line 17949: Line contains invalid data\n",
      "  warnings.warn(\n",
      "/home/katscott/Code/ros_metrics_analysis/notebooks/metrics/lib/python3.11/site-packages/lars/apache.py:741: ApacheWarning: Line 17989: Line contains invalid data\n",
      "  warnings.warn(\n",
      "/home/katscott/Code/ros_metrics_analysis/notebooks/metrics/lib/python3.11/site-packages/lars/apache.py:741: ApacheWarning: Line 18704: Line contains invalid data\n",
      "  warnings.warn(\n",
      "/home/katscott/Code/ros_metrics_analysis/notebooks/metrics/lib/python3.11/site-packages/lars/apache.py:741: ApacheWarning: Line 18705: Line contains invalid data\n",
      "  warnings.warn(\n",
      "/home/katscott/Code/ros_metrics_analysis/notebooks/metrics/lib/python3.11/site-packages/lars/apache.py:741: ApacheWarning: Line 26186: Line contains invalid data\n",
      "  warnings.warn(\n",
      "/home/katscott/Code/ros_metrics_analysis/notebooks/metrics/lib/python3.11/site-packages/lars/apache.py:741: ApacheWarning: Line 27349: Line contains invalid data\n",
      "  warnings.warn(\n",
      "/home/katscott/Code/ros_metrics_analysis/notebooks/metrics/lib/python3.11/site-packages/lars/apache.py:741: ApacheWarning: Line 28935: Line contains invalid data\n",
      "  warnings.warn(\n",
      "/home/katscott/Code/ros_metrics_analysis/notebooks/metrics/lib/python3.11/site-packages/lars/apache.py:741: ApacheWarning: Line 33117: Line contains invalid data\n",
      "  warnings.warn(\n",
      "/home/katscott/Code/ros_metrics_analysis/notebooks/metrics/lib/python3.11/site-packages/lars/apache.py:741: ApacheWarning: Line 33121: Line contains invalid data\n",
      "  warnings.warn(\n",
      "/home/katscott/Code/ros_metrics_analysis/notebooks/metrics/lib/python3.11/site-packages/lars/apache.py:741: ApacheWarning: Line 33122: Line contains invalid data\n",
      "  warnings.warn(\n",
      "/home/katscott/Code/ros_metrics_analysis/notebooks/metrics/lib/python3.11/site-packages/lars/apache.py:741: ApacheWarning: Line 33123: Line contains invalid data\n",
      "  warnings.warn(\n",
      "/home/katscott/Code/ros_metrics_analysis/notebooks/metrics/lib/python3.11/site-packages/lars/apache.py:741: ApacheWarning: Line 40355: Line contains invalid data\n",
      "  warnings.warn(\n",
      "/home/katscott/Code/ros_metrics_analysis/notebooks/metrics/lib/python3.11/site-packages/lars/apache.py:741: ApacheWarning: Line 40356: Line contains invalid data\n",
      "  warnings.warn(\n",
      "/home/katscott/Code/ros_metrics_analysis/notebooks/metrics/lib/python3.11/site-packages/lars/apache.py:741: ApacheWarning: Line 40357: Line contains invalid data\n",
      "  warnings.warn(\n",
      "/home/katscott/Code/ros_metrics_analysis/notebooks/metrics/lib/python3.11/site-packages/lars/apache.py:741: ApacheWarning: Line 43087: Line contains invalid data\n",
      "  warnings.warn(\n"
     ]
    },
    {
     "name": "stdout",
     "output_type": "stream",
     "text": [
      ".\n",
      ".\n",
      ".\n",
      ".\n",
      ".\n",
      ".\n",
      ".\n",
      ".\n"
     ]
    },
    {
     "name": "stderr",
     "output_type": "stream",
     "text": [
      "/home/katscott/Code/ros_metrics_analysis/notebooks/metrics/lib/python3.11/site-packages/lars/apache.py:741: ApacheWarning: Line 72944: Line contains invalid data\n",
      "  warnings.warn(\n",
      "/home/katscott/Code/ros_metrics_analysis/notebooks/metrics/lib/python3.11/site-packages/lars/apache.py:741: ApacheWarning: Line 84158: Line contains invalid data\n",
      "  warnings.warn(\n",
      "/home/katscott/Code/ros_metrics_analysis/notebooks/metrics/lib/python3.11/site-packages/lars/apache.py:741: ApacheWarning: Line 90791: Line contains invalid data\n",
      "  warnings.warn(\n",
      "/home/katscott/Code/ros_metrics_analysis/notebooks/metrics/lib/python3.11/site-packages/lars/apache.py:741: ApacheWarning: Line 94280: Line contains invalid data\n",
      "  warnings.warn(\n",
      "/home/katscott/Code/ros_metrics_analysis/notebooks/metrics/lib/python3.11/site-packages/lars/apache.py:741: ApacheWarning: Line 94517: Line contains invalid data\n",
      "  warnings.warn(\n",
      "/home/katscott/Code/ros_metrics_analysis/notebooks/metrics/lib/python3.11/site-packages/lars/apache.py:741: ApacheWarning: Line 98056: Line contains invalid data\n",
      "  warnings.warn(\n"
     ]
    },
    {
     "name": "stdout",
     "output_type": "stream",
     "text": [
      ".\n",
      "./temp/packages-logs/apt-access.log.2\n",
      ".\n"
     ]
    },
    {
     "name": "stderr",
     "output_type": "stream",
     "text": [
      "/home/katscott/Code/ros_metrics_analysis/notebooks/metrics/lib/python3.11/site-packages/lars/apache.py:741: ApacheWarning: Line 1149: Line contains invalid data\n",
      "  warnings.warn(\n",
      "/home/katscott/Code/ros_metrics_analysis/notebooks/metrics/lib/python3.11/site-packages/lars/apache.py:741: ApacheWarning: Line 7394: Line contains invalid data\n",
      "  warnings.warn(\n",
      "/home/katscott/Code/ros_metrics_analysis/notebooks/metrics/lib/python3.11/site-packages/lars/apache.py:741: ApacheWarning: Line 7395: Line contains invalid data\n",
      "  warnings.warn(\n",
      "/home/katscott/Code/ros_metrics_analysis/notebooks/metrics/lib/python3.11/site-packages/lars/apache.py:741: ApacheWarning: Line 11547: Line contains invalid data\n",
      "  warnings.warn(\n",
      "/home/katscott/Code/ros_metrics_analysis/notebooks/metrics/lib/python3.11/site-packages/lars/apache.py:741: ApacheWarning: Line 11548: Line contains invalid data\n",
      "  warnings.warn(\n",
      "/home/katscott/Code/ros_metrics_analysis/notebooks/metrics/lib/python3.11/site-packages/lars/apache.py:741: ApacheWarning: Line 14758: Line contains invalid data\n",
      "  warnings.warn(\n",
      "/home/katscott/Code/ros_metrics_analysis/notebooks/metrics/lib/python3.11/site-packages/lars/apache.py:741: ApacheWarning: Line 19182: Line contains invalid data\n",
      "  warnings.warn(\n",
      "/home/katscott/Code/ros_metrics_analysis/notebooks/metrics/lib/python3.11/site-packages/lars/apache.py:741: ApacheWarning: Line 19183: Line contains invalid data\n",
      "  warnings.warn(\n",
      "/home/katscott/Code/ros_metrics_analysis/notebooks/metrics/lib/python3.11/site-packages/lars/apache.py:741: ApacheWarning: Line 31303: Line contains invalid data\n",
      "  warnings.warn(\n",
      "/home/katscott/Code/ros_metrics_analysis/notebooks/metrics/lib/python3.11/site-packages/lars/apache.py:741: ApacheWarning: Line 31304: Line contains invalid data\n",
      "  warnings.warn(\n",
      "/home/katscott/Code/ros_metrics_analysis/notebooks/metrics/lib/python3.11/site-packages/lars/apache.py:741: ApacheWarning: Line 31305: Line contains invalid data\n",
      "  warnings.warn(\n",
      "/home/katscott/Code/ros_metrics_analysis/notebooks/metrics/lib/python3.11/site-packages/lars/apache.py:741: ApacheWarning: Line 31306: Line contains invalid data\n",
      "  warnings.warn(\n",
      "/home/katscott/Code/ros_metrics_analysis/notebooks/metrics/lib/python3.11/site-packages/lars/apache.py:741: ApacheWarning: Line 31308: Line contains invalid data\n",
      "  warnings.warn(\n",
      "/home/katscott/Code/ros_metrics_analysis/notebooks/metrics/lib/python3.11/site-packages/lars/apache.py:741: ApacheWarning: Line 31332: Line contains invalid data\n",
      "  warnings.warn(\n"
     ]
    },
    {
     "name": "stdout",
     "output_type": "stream",
     "text": [
      ".\n",
      ".\n",
      ".\n"
     ]
    },
    {
     "name": "stderr",
     "output_type": "stream",
     "text": [
      "/home/katscott/Code/ros_metrics_analysis/notebooks/metrics/lib/python3.11/site-packages/lars/apache.py:741: ApacheWarning: Line 36673: Line contains invalid data\n",
      "  warnings.warn(\n"
     ]
    },
    {
     "name": "stdout",
     "output_type": "stream",
     "text": [
      ".\n",
      ".\n"
     ]
    },
    {
     "name": "stderr",
     "output_type": "stream",
     "text": [
      "/home/katscott/Code/ros_metrics_analysis/notebooks/metrics/lib/python3.11/site-packages/lars/apache.py:741: ApacheWarning: Line 52155: Line contains invalid data\n",
      "  warnings.warn(\n",
      "/home/katscott/Code/ros_metrics_analysis/notebooks/metrics/lib/python3.11/site-packages/lars/apache.py:741: ApacheWarning: Line 52179: Line contains invalid data\n",
      "  warnings.warn(\n",
      "/home/katscott/Code/ros_metrics_analysis/notebooks/metrics/lib/python3.11/site-packages/lars/apache.py:741: ApacheWarning: Line 66408: Line contains invalid data\n",
      "  warnings.warn(\n",
      "/home/katscott/Code/ros_metrics_analysis/notebooks/metrics/lib/python3.11/site-packages/lars/apache.py:741: ApacheWarning: Line 68467: Line contains invalid data\n",
      "  warnings.warn(\n",
      "/home/katscott/Code/ros_metrics_analysis/notebooks/metrics/lib/python3.11/site-packages/lars/apache.py:741: ApacheWarning: Line 72083: Line contains invalid data\n",
      "  warnings.warn(\n"
     ]
    },
    {
     "name": "stdout",
     "output_type": "stream",
     "text": [
      ".\n",
      ".\n"
     ]
    },
    {
     "name": "stderr",
     "output_type": "stream",
     "text": [
      "/home/katscott/Code/ros_metrics_analysis/notebooks/metrics/lib/python3.11/site-packages/lars/apache.py:741: ApacheWarning: Line 88404: Line contains invalid data\n",
      "  warnings.warn(\n",
      "/home/katscott/Code/ros_metrics_analysis/notebooks/metrics/lib/python3.11/site-packages/lars/apache.py:741: ApacheWarning: Line 88450: Line contains invalid data\n",
      "  warnings.warn(\n",
      "/home/katscott/Code/ros_metrics_analysis/notebooks/metrics/lib/python3.11/site-packages/lars/apache.py:741: ApacheWarning: Line 88455: Line contains invalid data\n",
      "  warnings.warn(\n",
      "/home/katscott/Code/ros_metrics_analysis/notebooks/metrics/lib/python3.11/site-packages/lars/apache.py:741: ApacheWarning: Line 88458: Line contains invalid data\n",
      "  warnings.warn(\n",
      "/home/katscott/Code/ros_metrics_analysis/notebooks/metrics/lib/python3.11/site-packages/lars/apache.py:741: ApacheWarning: Line 88461: Line contains invalid data\n",
      "  warnings.warn(\n",
      "/home/katscott/Code/ros_metrics_analysis/notebooks/metrics/lib/python3.11/site-packages/lars/apache.py:741: ApacheWarning: Line 88478: Line contains invalid data\n",
      "  warnings.warn(\n",
      "/home/katscott/Code/ros_metrics_analysis/notebooks/metrics/lib/python3.11/site-packages/lars/apache.py:741: ApacheWarning: Line 90454: Line contains invalid data\n",
      "  warnings.warn(\n",
      "/home/katscott/Code/ros_metrics_analysis/notebooks/metrics/lib/python3.11/site-packages/lars/apache.py:741: ApacheWarning: Line 111618: Line contains invalid data\n",
      "  warnings.warn(\n"
     ]
    },
    {
     "name": "stdout",
     "output_type": "stream",
     "text": [
      ".\n",
      ".\n",
      ".\n",
      ".\n",
      ".\n"
     ]
    },
    {
     "name": "stderr",
     "output_type": "stream",
     "text": [
      "/home/katscott/Code/ros_metrics_analysis/notebooks/metrics/lib/python3.11/site-packages/lars/apache.py:741: ApacheWarning: Line 113429: Line contains invalid data\n",
      "  warnings.warn(\n",
      "/home/katscott/Code/ros_metrics_analysis/notebooks/metrics/lib/python3.11/site-packages/lars/apache.py:741: ApacheWarning: Line 113430: Line contains invalid data\n",
      "  warnings.warn(\n",
      "/home/katscott/Code/ros_metrics_analysis/notebooks/metrics/lib/python3.11/site-packages/lars/apache.py:741: ApacheWarning: Line 113433: Line contains invalid data\n",
      "  warnings.warn(\n",
      "/home/katscott/Code/ros_metrics_analysis/notebooks/metrics/lib/python3.11/site-packages/lars/apache.py:741: ApacheWarning: Line 113434: Line contains invalid data\n",
      "  warnings.warn(\n",
      "/home/katscott/Code/ros_metrics_analysis/notebooks/metrics/lib/python3.11/site-packages/lars/apache.py:741: ApacheWarning: Line 113437: Line contains invalid data\n",
      "  warnings.warn(\n",
      "/home/katscott/Code/ros_metrics_analysis/notebooks/metrics/lib/python3.11/site-packages/lars/apache.py:741: ApacheWarning: Line 113438: Line contains invalid data\n",
      "  warnings.warn(\n",
      "/home/katscott/Code/ros_metrics_analysis/notebooks/metrics/lib/python3.11/site-packages/lars/apache.py:741: ApacheWarning: Line 115079: Line contains invalid data\n",
      "  warnings.warn(\n",
      "/home/katscott/Code/ros_metrics_analysis/notebooks/metrics/lib/python3.11/site-packages/lars/apache.py:741: ApacheWarning: Line 115080: Line contains invalid data\n",
      "  warnings.warn(\n",
      "/home/katscott/Code/ros_metrics_analysis/notebooks/metrics/lib/python3.11/site-packages/lars/apache.py:741: ApacheWarning: Line 127352: Line contains invalid data\n",
      "  warnings.warn(\n",
      "/home/katscott/Code/ros_metrics_analysis/notebooks/metrics/lib/python3.11/site-packages/lars/apache.py:741: ApacheWarning: Line 129159: Line contains invalid data\n",
      "  warnings.warn(\n",
      "/home/katscott/Code/ros_metrics_analysis/notebooks/metrics/lib/python3.11/site-packages/lars/apache.py:741: ApacheWarning: Line 129160: Line contains invalid data\n",
      "  warnings.warn(\n",
      "/home/katscott/Code/ros_metrics_analysis/notebooks/metrics/lib/python3.11/site-packages/lars/apache.py:741: ApacheWarning: Line 129161: Line contains invalid data\n",
      "  warnings.warn(\n",
      "/home/katscott/Code/ros_metrics_analysis/notebooks/metrics/lib/python3.11/site-packages/lars/apache.py:741: ApacheWarning: Line 129162: Line contains invalid data\n",
      "  warnings.warn(\n",
      "/home/katscott/Code/ros_metrics_analysis/notebooks/metrics/lib/python3.11/site-packages/lars/apache.py:741: ApacheWarning: Line 129163: Line contains invalid data\n",
      "  warnings.warn(\n",
      "/home/katscott/Code/ros_metrics_analysis/notebooks/metrics/lib/python3.11/site-packages/lars/apache.py:741: ApacheWarning: Line 129164: Line contains invalid data\n",
      "  warnings.warn(\n",
      "/home/katscott/Code/ros_metrics_analysis/notebooks/metrics/lib/python3.11/site-packages/lars/apache.py:741: ApacheWarning: Line 129165: Line contains invalid data\n",
      "  warnings.warn(\n",
      "/home/katscott/Code/ros_metrics_analysis/notebooks/metrics/lib/python3.11/site-packages/lars/apache.py:741: ApacheWarning: Line 129166: Line contains invalid data\n",
      "  warnings.warn(\n",
      "/home/katscott/Code/ros_metrics_analysis/notebooks/metrics/lib/python3.11/site-packages/lars/apache.py:741: ApacheWarning: Line 129167: Line contains invalid data\n",
      "  warnings.warn(\n",
      "/home/katscott/Code/ros_metrics_analysis/notebooks/metrics/lib/python3.11/site-packages/lars/apache.py:741: ApacheWarning: Line 129168: Line contains invalid data\n",
      "  warnings.warn(\n",
      "/home/katscott/Code/ros_metrics_analysis/notebooks/metrics/lib/python3.11/site-packages/lars/apache.py:741: ApacheWarning: Line 129169: Line contains invalid data\n",
      "  warnings.warn(\n",
      "/home/katscott/Code/ros_metrics_analysis/notebooks/metrics/lib/python3.11/site-packages/lars/apache.py:741: ApacheWarning: Line 129170: Line contains invalid data\n",
      "  warnings.warn(\n",
      "/home/katscott/Code/ros_metrics_analysis/notebooks/metrics/lib/python3.11/site-packages/lars/apache.py:741: ApacheWarning: Line 129171: Line contains invalid data\n",
      "  warnings.warn(\n",
      "/home/katscott/Code/ros_metrics_analysis/notebooks/metrics/lib/python3.11/site-packages/lars/apache.py:741: ApacheWarning: Line 129172: Line contains invalid data\n",
      "  warnings.warn(\n",
      "/home/katscott/Code/ros_metrics_analysis/notebooks/metrics/lib/python3.11/site-packages/lars/apache.py:741: ApacheWarning: Line 129173: Line contains invalid data\n",
      "  warnings.warn(\n",
      "/home/katscott/Code/ros_metrics_analysis/notebooks/metrics/lib/python3.11/site-packages/lars/apache.py:741: ApacheWarning: Line 129174: Line contains invalid data\n",
      "  warnings.warn(\n",
      "/home/katscott/Code/ros_metrics_analysis/notebooks/metrics/lib/python3.11/site-packages/lars/apache.py:741: ApacheWarning: Line 129175: Line contains invalid data\n",
      "  warnings.warn(\n",
      "/home/katscott/Code/ros_metrics_analysis/notebooks/metrics/lib/python3.11/site-packages/lars/apache.py:741: ApacheWarning: Line 129176: Line contains invalid data\n",
      "  warnings.warn(\n",
      "/home/katscott/Code/ros_metrics_analysis/notebooks/metrics/lib/python3.11/site-packages/lars/apache.py:741: ApacheWarning: Line 129177: Line contains invalid data\n",
      "  warnings.warn(\n",
      "/home/katscott/Code/ros_metrics_analysis/notebooks/metrics/lib/python3.11/site-packages/lars/apache.py:741: ApacheWarning: Line 129178: Line contains invalid data\n",
      "  warnings.warn(\n",
      "/home/katscott/Code/ros_metrics_analysis/notebooks/metrics/lib/python3.11/site-packages/lars/apache.py:741: ApacheWarning: Line 129179: Line contains invalid data\n",
      "  warnings.warn(\n",
      "/home/katscott/Code/ros_metrics_analysis/notebooks/metrics/lib/python3.11/site-packages/lars/apache.py:741: ApacheWarning: Line 129180: Line contains invalid data\n",
      "  warnings.warn(\n",
      "/home/katscott/Code/ros_metrics_analysis/notebooks/metrics/lib/python3.11/site-packages/lars/apache.py:741: ApacheWarning: Line 131916: Line contains invalid data\n",
      "  warnings.warn(\n",
      "/home/katscott/Code/ros_metrics_analysis/notebooks/metrics/lib/python3.11/site-packages/lars/apache.py:741: ApacheWarning: Line 131918: Line contains invalid data\n",
      "  warnings.warn(\n",
      "/home/katscott/Code/ros_metrics_analysis/notebooks/metrics/lib/python3.11/site-packages/lars/apache.py:741: ApacheWarning: Line 322: Line contains invalid data\n",
      "  warnings.warn(\n"
     ]
    },
    {
     "name": "stdout",
     "output_type": "stream",
     "text": [
      "./temp/packages-logs/apt-access.log.20\n",
      ".\n",
      ".\n"
     ]
    },
    {
     "name": "stderr",
     "output_type": "stream",
     "text": [
      "/home/katscott/Code/ros_metrics_analysis/notebooks/metrics/lib/python3.11/site-packages/lars/apache.py:741: ApacheWarning: Line 17072: Line contains invalid data\n",
      "  warnings.warn(\n",
      "/home/katscott/Code/ros_metrics_analysis/notebooks/metrics/lib/python3.11/site-packages/lars/apache.py:741: ApacheWarning: Line 17073: Line contains invalid data\n",
      "  warnings.warn(\n",
      "/home/katscott/Code/ros_metrics_analysis/notebooks/metrics/lib/python3.11/site-packages/lars/apache.py:741: ApacheWarning: Line 17074: Line contains invalid data\n",
      "  warnings.warn(\n",
      "/home/katscott/Code/ros_metrics_analysis/notebooks/metrics/lib/python3.11/site-packages/lars/apache.py:741: ApacheWarning: Line 17076: Line contains invalid data\n",
      "  warnings.warn(\n",
      "/home/katscott/Code/ros_metrics_analysis/notebooks/metrics/lib/python3.11/site-packages/lars/apache.py:741: ApacheWarning: Line 17078: Line contains invalid data\n",
      "  warnings.warn(\n",
      "/home/katscott/Code/ros_metrics_analysis/notebooks/metrics/lib/python3.11/site-packages/lars/apache.py:741: ApacheWarning: Line 17105: Line contains invalid data\n",
      "  warnings.warn(\n",
      "/home/katscott/Code/ros_metrics_analysis/notebooks/metrics/lib/python3.11/site-packages/lars/apache.py:741: ApacheWarning: Line 20027: Line contains invalid data\n",
      "  warnings.warn(\n",
      "/home/katscott/Code/ros_metrics_analysis/notebooks/metrics/lib/python3.11/site-packages/lars/apache.py:741: ApacheWarning: Line 21651: Line contains invalid data\n",
      "  warnings.warn(\n",
      "/home/katscott/Code/ros_metrics_analysis/notebooks/metrics/lib/python3.11/site-packages/lars/apache.py:741: ApacheWarning: Line 21652: Line contains invalid data\n",
      "  warnings.warn(\n",
      "/home/katscott/Code/ros_metrics_analysis/notebooks/metrics/lib/python3.11/site-packages/lars/apache.py:741: ApacheWarning: Line 21653: Line contains invalid data\n",
      "  warnings.warn(\n",
      "/home/katscott/Code/ros_metrics_analysis/notebooks/metrics/lib/python3.11/site-packages/lars/apache.py:741: ApacheWarning: Line 21654: Line contains invalid data\n",
      "  warnings.warn(\n",
      "/home/katscott/Code/ros_metrics_analysis/notebooks/metrics/lib/python3.11/site-packages/lars/apache.py:741: ApacheWarning: Line 21656: Line contains invalid data\n",
      "  warnings.warn(\n",
      "/home/katscott/Code/ros_metrics_analysis/notebooks/metrics/lib/python3.11/site-packages/lars/apache.py:741: ApacheWarning: Line 21657: Line contains invalid data\n",
      "  warnings.warn(\n",
      "/home/katscott/Code/ros_metrics_analysis/notebooks/metrics/lib/python3.11/site-packages/lars/apache.py:741: ApacheWarning: Line 26059: Line contains invalid data\n",
      "  warnings.warn(\n",
      "/home/katscott/Code/ros_metrics_analysis/notebooks/metrics/lib/python3.11/site-packages/lars/apache.py:741: ApacheWarning: Line 27097: Line contains invalid data\n",
      "  warnings.warn(\n",
      "/home/katscott/Code/ros_metrics_analysis/notebooks/metrics/lib/python3.11/site-packages/lars/apache.py:741: ApacheWarning: Line 35232: Line contains invalid data\n",
      "  warnings.warn(\n",
      "/home/katscott/Code/ros_metrics_analysis/notebooks/metrics/lib/python3.11/site-packages/lars/apache.py:741: ApacheWarning: Line 41679: Line contains invalid data\n",
      "  warnings.warn(\n",
      "/home/katscott/Code/ros_metrics_analysis/notebooks/metrics/lib/python3.11/site-packages/lars/apache.py:741: ApacheWarning: Line 42084: Line contains invalid data\n",
      "  warnings.warn(\n"
     ]
    },
    {
     "name": "stdout",
     "output_type": "stream",
     "text": [
      ".\n",
      ".\n",
      ".\n",
      ".\n"
     ]
    },
    {
     "name": "stderr",
     "output_type": "stream",
     "text": [
      "/home/katscott/Code/ros_metrics_analysis/notebooks/metrics/lib/python3.11/site-packages/lars/apache.py:741: ApacheWarning: Line 52304: Line contains invalid data\n",
      "  warnings.warn(\n",
      "/home/katscott/Code/ros_metrics_analysis/notebooks/metrics/lib/python3.11/site-packages/lars/apache.py:741: ApacheWarning: Line 52305: Line contains invalid data\n",
      "  warnings.warn(\n",
      "/home/katscott/Code/ros_metrics_analysis/notebooks/metrics/lib/python3.11/site-packages/lars/apache.py:741: ApacheWarning: Line 53992: Line contains invalid data\n",
      "  warnings.warn(\n",
      "/home/katscott/Code/ros_metrics_analysis/notebooks/metrics/lib/python3.11/site-packages/lars/apache.py:741: ApacheWarning: Line 55049: Line contains invalid data\n",
      "  warnings.warn(\n",
      "/home/katscott/Code/ros_metrics_analysis/notebooks/metrics/lib/python3.11/site-packages/lars/apache.py:741: ApacheWarning: Line 59165: Line contains invalid data\n",
      "  warnings.warn(\n",
      "/home/katscott/Code/ros_metrics_analysis/notebooks/metrics/lib/python3.11/site-packages/lars/apache.py:741: ApacheWarning: Line 59407: Line contains invalid data\n",
      "  warnings.warn(\n",
      "/home/katscott/Code/ros_metrics_analysis/notebooks/metrics/lib/python3.11/site-packages/lars/apache.py:741: ApacheWarning: Line 61868: Line contains invalid data\n",
      "  warnings.warn(\n",
      "/home/katscott/Code/ros_metrics_analysis/notebooks/metrics/lib/python3.11/site-packages/lars/apache.py:741: ApacheWarning: Line 67018: Line contains invalid data\n",
      "  warnings.warn(\n",
      "/home/katscott/Code/ros_metrics_analysis/notebooks/metrics/lib/python3.11/site-packages/lars/apache.py:741: ApacheWarning: Line 67766: Line contains invalid data\n",
      "  warnings.warn(\n",
      "/home/katscott/Code/ros_metrics_analysis/notebooks/metrics/lib/python3.11/site-packages/lars/apache.py:741: ApacheWarning: Line 69638: Line contains invalid data\n",
      "  warnings.warn(\n",
      "/home/katscott/Code/ros_metrics_analysis/notebooks/metrics/lib/python3.11/site-packages/lars/apache.py:741: ApacheWarning: Line 76255: Line contains invalid data\n",
      "  warnings.warn(\n",
      "/home/katscott/Code/ros_metrics_analysis/notebooks/metrics/lib/python3.11/site-packages/lars/apache.py:741: ApacheWarning: Line 76259: Line contains invalid data\n",
      "  warnings.warn(\n",
      "/home/katscott/Code/ros_metrics_analysis/notebooks/metrics/lib/python3.11/site-packages/lars/apache.py:741: ApacheWarning: Line 79737: Line contains invalid data\n",
      "  warnings.warn(\n",
      "/home/katscott/Code/ros_metrics_analysis/notebooks/metrics/lib/python3.11/site-packages/lars/apache.py:741: ApacheWarning: Line 79859: Line contains invalid data\n",
      "  warnings.warn(\n",
      "/home/katscott/Code/ros_metrics_analysis/notebooks/metrics/lib/python3.11/site-packages/lars/apache.py:741: ApacheWarning: Line 81739: Line contains invalid data\n",
      "  warnings.warn(\n",
      "/home/katscott/Code/ros_metrics_analysis/notebooks/metrics/lib/python3.11/site-packages/lars/apache.py:741: ApacheWarning: Line 81740: Line contains invalid data\n",
      "  warnings.warn(\n",
      "/home/katscott/Code/ros_metrics_analysis/notebooks/metrics/lib/python3.11/site-packages/lars/apache.py:741: ApacheWarning: Line 81741: Line contains invalid data\n",
      "  warnings.warn(\n",
      "/home/katscott/Code/ros_metrics_analysis/notebooks/metrics/lib/python3.11/site-packages/lars/apache.py:741: ApacheWarning: Line 82082: Line contains invalid data\n",
      "  warnings.warn(\n"
     ]
    },
    {
     "name": "stdout",
     "output_type": "stream",
     "text": [
      ".\n",
      ".\n",
      ".\n",
      ".\n"
     ]
    },
    {
     "name": "stderr",
     "output_type": "stream",
     "text": [
      "/home/katscott/Code/ros_metrics_analysis/notebooks/metrics/lib/python3.11/site-packages/lars/apache.py:741: ApacheWarning: Line 96326: Line contains invalid data\n",
      "  warnings.warn(\n",
      "/home/katscott/Code/ros_metrics_analysis/notebooks/metrics/lib/python3.11/site-packages/lars/apache.py:741: ApacheWarning: Line 96327: Line contains invalid data\n",
      "  warnings.warn(\n",
      "/home/katscott/Code/ros_metrics_analysis/notebooks/metrics/lib/python3.11/site-packages/lars/apache.py:741: ApacheWarning: Line 96328: Line contains invalid data\n",
      "  warnings.warn(\n",
      "/home/katscott/Code/ros_metrics_analysis/notebooks/metrics/lib/python3.11/site-packages/lars/apache.py:741: ApacheWarning: Line 96329: Line contains invalid data\n",
      "  warnings.warn(\n",
      "/home/katscott/Code/ros_metrics_analysis/notebooks/metrics/lib/python3.11/site-packages/lars/apache.py:741: ApacheWarning: Line 96330: Line contains invalid data\n",
      "  warnings.warn(\n",
      "/home/katscott/Code/ros_metrics_analysis/notebooks/metrics/lib/python3.11/site-packages/lars/apache.py:741: ApacheWarning: Line 96331: Line contains invalid data\n",
      "  warnings.warn(\n",
      "/home/katscott/Code/ros_metrics_analysis/notebooks/metrics/lib/python3.11/site-packages/lars/apache.py:741: ApacheWarning: Line 96332: Line contains invalid data\n",
      "  warnings.warn(\n",
      "/home/katscott/Code/ros_metrics_analysis/notebooks/metrics/lib/python3.11/site-packages/lars/apache.py:741: ApacheWarning: Line 96333: Line contains invalid data\n",
      "  warnings.warn(\n",
      "/home/katscott/Code/ros_metrics_analysis/notebooks/metrics/lib/python3.11/site-packages/lars/apache.py:741: ApacheWarning: Line 96334: Line contains invalid data\n",
      "  warnings.warn(\n",
      "/home/katscott/Code/ros_metrics_analysis/notebooks/metrics/lib/python3.11/site-packages/lars/apache.py:741: ApacheWarning: Line 96335: Line contains invalid data\n",
      "  warnings.warn(\n",
      "/home/katscott/Code/ros_metrics_analysis/notebooks/metrics/lib/python3.11/site-packages/lars/apache.py:741: ApacheWarning: Line 96336: Line contains invalid data\n",
      "  warnings.warn(\n",
      "/home/katscott/Code/ros_metrics_analysis/notebooks/metrics/lib/python3.11/site-packages/lars/apache.py:741: ApacheWarning: Line 96337: Line contains invalid data\n",
      "  warnings.warn(\n",
      "/home/katscott/Code/ros_metrics_analysis/notebooks/metrics/lib/python3.11/site-packages/lars/apache.py:741: ApacheWarning: Line 96338: Line contains invalid data\n",
      "  warnings.warn(\n",
      "/home/katscott/Code/ros_metrics_analysis/notebooks/metrics/lib/python3.11/site-packages/lars/apache.py:741: ApacheWarning: Line 96339: Line contains invalid data\n",
      "  warnings.warn(\n",
      "/home/katscott/Code/ros_metrics_analysis/notebooks/metrics/lib/python3.11/site-packages/lars/apache.py:741: ApacheWarning: Line 96340: Line contains invalid data\n",
      "  warnings.warn(\n",
      "/home/katscott/Code/ros_metrics_analysis/notebooks/metrics/lib/python3.11/site-packages/lars/apache.py:741: ApacheWarning: Line 96341: Line contains invalid data\n",
      "  warnings.warn(\n",
      "/home/katscott/Code/ros_metrics_analysis/notebooks/metrics/lib/python3.11/site-packages/lars/apache.py:741: ApacheWarning: Line 96342: Line contains invalid data\n",
      "  warnings.warn(\n",
      "/home/katscott/Code/ros_metrics_analysis/notebooks/metrics/lib/python3.11/site-packages/lars/apache.py:741: ApacheWarning: Line 96343: Line contains invalid data\n",
      "  warnings.warn(\n",
      "/home/katscott/Code/ros_metrics_analysis/notebooks/metrics/lib/python3.11/site-packages/lars/apache.py:741: ApacheWarning: Line 96344: Line contains invalid data\n",
      "  warnings.warn(\n",
      "/home/katscott/Code/ros_metrics_analysis/notebooks/metrics/lib/python3.11/site-packages/lars/apache.py:741: ApacheWarning: Line 96345: Line contains invalid data\n",
      "  warnings.warn(\n",
      "/home/katscott/Code/ros_metrics_analysis/notebooks/metrics/lib/python3.11/site-packages/lars/apache.py:741: ApacheWarning: Line 96346: Line contains invalid data\n",
      "  warnings.warn(\n",
      "/home/katscott/Code/ros_metrics_analysis/notebooks/metrics/lib/python3.11/site-packages/lars/apache.py:741: ApacheWarning: Line 96347: Line contains invalid data\n",
      "  warnings.warn(\n",
      "/home/katscott/Code/ros_metrics_analysis/notebooks/metrics/lib/python3.11/site-packages/lars/apache.py:741: ApacheWarning: Line 97780: Line contains invalid data\n",
      "  warnings.warn(\n",
      "/home/katscott/Code/ros_metrics_analysis/notebooks/metrics/lib/python3.11/site-packages/lars/apache.py:741: ApacheWarning: Line 110732: Line contains invalid data\n",
      "  warnings.warn(\n",
      "/home/katscott/Code/ros_metrics_analysis/notebooks/metrics/lib/python3.11/site-packages/lars/apache.py:741: ApacheWarning: Line 110766: Line contains invalid data\n",
      "  warnings.warn(\n",
      "/home/katscott/Code/ros_metrics_analysis/notebooks/metrics/lib/python3.11/site-packages/lars/apache.py:741: ApacheWarning: Line 113612: Line contains invalid data\n",
      "  warnings.warn(\n",
      "/home/katscott/Code/ros_metrics_analysis/notebooks/metrics/lib/python3.11/site-packages/lars/apache.py:741: ApacheWarning: Line 113613: Line contains invalid data\n",
      "  warnings.warn(\n",
      "/home/katscott/Code/ros_metrics_analysis/notebooks/metrics/lib/python3.11/site-packages/lars/apache.py:741: ApacheWarning: Line 113614: Line contains invalid data\n",
      "  warnings.warn(\n",
      "/home/katscott/Code/ros_metrics_analysis/notebooks/metrics/lib/python3.11/site-packages/lars/apache.py:741: ApacheWarning: Line 113615: Line contains invalid data\n",
      "  warnings.warn(\n",
      "/home/katscott/Code/ros_metrics_analysis/notebooks/metrics/lib/python3.11/site-packages/lars/apache.py:741: ApacheWarning: Line 113616: Line contains invalid data\n",
      "  warnings.warn(\n",
      "/home/katscott/Code/ros_metrics_analysis/notebooks/metrics/lib/python3.11/site-packages/lars/apache.py:741: ApacheWarning: Line 113618: Line contains invalid data\n",
      "  warnings.warn(\n",
      "/home/katscott/Code/ros_metrics_analysis/notebooks/metrics/lib/python3.11/site-packages/lars/apache.py:741: ApacheWarning: Line 113619: Line contains invalid data\n",
      "  warnings.warn(\n",
      "/home/katscott/Code/ros_metrics_analysis/notebooks/metrics/lib/python3.11/site-packages/lars/apache.py:741: ApacheWarning: Line 113620: Line contains invalid data\n",
      "  warnings.warn(\n",
      "/home/katscott/Code/ros_metrics_analysis/notebooks/metrics/lib/python3.11/site-packages/lars/apache.py:741: ApacheWarning: Line 113621: Line contains invalid data\n",
      "  warnings.warn(\n",
      "/home/katscott/Code/ros_metrics_analysis/notebooks/metrics/lib/python3.11/site-packages/lars/apache.py:741: ApacheWarning: Line 113622: Line contains invalid data\n",
      "  warnings.warn(\n",
      "/home/katscott/Code/ros_metrics_analysis/notebooks/metrics/lib/python3.11/site-packages/lars/apache.py:741: ApacheWarning: Line 113624: Line contains invalid data\n",
      "  warnings.warn(\n",
      "/home/katscott/Code/ros_metrics_analysis/notebooks/metrics/lib/python3.11/site-packages/lars/apache.py:741: ApacheWarning: Line 113625: Line contains invalid data\n",
      "  warnings.warn(\n",
      "/home/katscott/Code/ros_metrics_analysis/notebooks/metrics/lib/python3.11/site-packages/lars/apache.py:741: ApacheWarning: Line 114588: Line contains invalid data\n",
      "  warnings.warn(\n"
     ]
    },
    {
     "name": "stdout",
     "output_type": "stream",
     "text": [
      ".\n",
      ".\n",
      ".\n"
     ]
    },
    {
     "name": "stderr",
     "output_type": "stream",
     "text": [
      "/home/katscott/Code/ros_metrics_analysis/notebooks/metrics/lib/python3.11/site-packages/lars/apache.py:741: ApacheWarning: Line 120660: Line contains invalid data\n",
      "  warnings.warn(\n"
     ]
    },
    {
     "name": "stdout",
     "output_type": "stream",
     "text": [
      "./temp/packages-logs/apt-access.log.21\n",
      ".\n"
     ]
    },
    {
     "name": "stderr",
     "output_type": "stream",
     "text": [
      "/home/katscott/Code/ros_metrics_analysis/notebooks/metrics/lib/python3.11/site-packages/lars/apache.py:741: ApacheWarning: Line 949: Line contains invalid data\n",
      "  warnings.warn(\n",
      "/home/katscott/Code/ros_metrics_analysis/notebooks/metrics/lib/python3.11/site-packages/lars/apache.py:741: ApacheWarning: Line 7291: Line contains invalid data\n",
      "  warnings.warn(\n",
      "/home/katscott/Code/ros_metrics_analysis/notebooks/metrics/lib/python3.11/site-packages/lars/apache.py:741: ApacheWarning: Line 7292: Line contains invalid data\n",
      "  warnings.warn(\n",
      "/home/katscott/Code/ros_metrics_analysis/notebooks/metrics/lib/python3.11/site-packages/lars/apache.py:741: ApacheWarning: Line 8995: Line contains invalid data\n",
      "  warnings.warn(\n",
      "/home/katscott/Code/ros_metrics_analysis/notebooks/metrics/lib/python3.11/site-packages/lars/apache.py:741: ApacheWarning: Line 9806: Line contains invalid data\n",
      "  warnings.warn(\n",
      "/home/katscott/Code/ros_metrics_analysis/notebooks/metrics/lib/python3.11/site-packages/lars/apache.py:741: ApacheWarning: Line 11208: Line contains invalid data\n",
      "  warnings.warn(\n",
      "/home/katscott/Code/ros_metrics_analysis/notebooks/metrics/lib/python3.11/site-packages/lars/apache.py:741: ApacheWarning: Line 11209: Line contains invalid data\n",
      "  warnings.warn(\n",
      "/home/katscott/Code/ros_metrics_analysis/notebooks/metrics/lib/python3.11/site-packages/lars/apache.py:741: ApacheWarning: Line 11210: Line contains invalid data\n",
      "  warnings.warn(\n",
      "/home/katscott/Code/ros_metrics_analysis/notebooks/metrics/lib/python3.11/site-packages/lars/apache.py:741: ApacheWarning: Line 11211: Line contains invalid data\n",
      "  warnings.warn(\n",
      "/home/katscott/Code/ros_metrics_analysis/notebooks/metrics/lib/python3.11/site-packages/lars/apache.py:741: ApacheWarning: Line 11212: Line contains invalid data\n",
      "  warnings.warn(\n",
      "/home/katscott/Code/ros_metrics_analysis/notebooks/metrics/lib/python3.11/site-packages/lars/apache.py:741: ApacheWarning: Line 11241: Line contains invalid data\n",
      "  warnings.warn(\n",
      "/home/katscott/Code/ros_metrics_analysis/notebooks/metrics/lib/python3.11/site-packages/lars/apache.py:741: ApacheWarning: Line 17020: Line contains invalid data\n",
      "  warnings.warn(\n",
      "/home/katscott/Code/ros_metrics_analysis/notebooks/metrics/lib/python3.11/site-packages/lars/apache.py:741: ApacheWarning: Line 17021: Line contains invalid data\n",
      "  warnings.warn(\n",
      "/home/katscott/Code/ros_metrics_analysis/notebooks/metrics/lib/python3.11/site-packages/lars/apache.py:741: ApacheWarning: Line 33798: Line contains invalid data\n",
      "  warnings.warn(\n",
      "/home/katscott/Code/ros_metrics_analysis/notebooks/metrics/lib/python3.11/site-packages/lars/apache.py:741: ApacheWarning: Line 34970: Line contains invalid data\n",
      "  warnings.warn(\n",
      "/home/katscott/Code/ros_metrics_analysis/notebooks/metrics/lib/python3.11/site-packages/lars/apache.py:741: ApacheWarning: Line 34972: Line contains invalid data\n",
      "  warnings.warn(\n",
      "/home/katscott/Code/ros_metrics_analysis/notebooks/metrics/lib/python3.11/site-packages/lars/apache.py:741: ApacheWarning: Line 34981: Line contains invalid data\n",
      "  warnings.warn(\n",
      "/home/katscott/Code/ros_metrics_analysis/notebooks/metrics/lib/python3.11/site-packages/lars/apache.py:741: ApacheWarning: Line 34983: Line contains invalid data\n",
      "  warnings.warn(\n",
      "/home/katscott/Code/ros_metrics_analysis/notebooks/metrics/lib/python3.11/site-packages/lars/apache.py:741: ApacheWarning: Line 34985: Line contains invalid data\n",
      "  warnings.warn(\n",
      "/home/katscott/Code/ros_metrics_analysis/notebooks/metrics/lib/python3.11/site-packages/lars/apache.py:741: ApacheWarning: Line 34987: Line contains invalid data\n",
      "  warnings.warn(\n"
     ]
    },
    {
     "name": "stdout",
     "output_type": "stream",
     "text": [
      ".\n",
      ".\n"
     ]
    },
    {
     "name": "stderr",
     "output_type": "stream",
     "text": [
      "/home/katscott/Code/ros_metrics_analysis/notebooks/metrics/lib/python3.11/site-packages/lars/apache.py:741: ApacheWarning: Line 39840: Line contains invalid data\n",
      "  warnings.warn(\n"
     ]
    },
    {
     "name": "stdout",
     "output_type": "stream",
     "text": [
      ".\n",
      ".\n"
     ]
    },
    {
     "name": "stderr",
     "output_type": "stream",
     "text": [
      "/home/katscott/Code/ros_metrics_analysis/notebooks/metrics/lib/python3.11/site-packages/lars/apache.py:741: ApacheWarning: Line 59715: Line contains invalid data\n",
      "  warnings.warn(\n",
      "/home/katscott/Code/ros_metrics_analysis/notebooks/metrics/lib/python3.11/site-packages/lars/apache.py:741: ApacheWarning: Line 59716: Line contains invalid data\n",
      "  warnings.warn(\n",
      "/home/katscott/Code/ros_metrics_analysis/notebooks/metrics/lib/python3.11/site-packages/lars/apache.py:741: ApacheWarning: Line 63824: Line contains invalid data\n",
      "  warnings.warn(\n",
      "/home/katscott/Code/ros_metrics_analysis/notebooks/metrics/lib/python3.11/site-packages/lars/apache.py:741: ApacheWarning: Line 69556: Line contains invalid data\n",
      "  warnings.warn(\n"
     ]
    },
    {
     "name": "stdout",
     "output_type": "stream",
     "text": [
      ".\n",
      ".\n"
     ]
    },
    {
     "name": "stderr",
     "output_type": "stream",
     "text": [
      "/home/katscott/Code/ros_metrics_analysis/notebooks/metrics/lib/python3.11/site-packages/lars/apache.py:741: ApacheWarning: Line 75002: Line contains invalid data\n",
      "  warnings.warn(\n",
      "/home/katscott/Code/ros_metrics_analysis/notebooks/metrics/lib/python3.11/site-packages/lars/apache.py:741: ApacheWarning: Line 83629: Line contains invalid data\n",
      "  warnings.warn(\n",
      "/home/katscott/Code/ros_metrics_analysis/notebooks/metrics/lib/python3.11/site-packages/lars/apache.py:741: ApacheWarning: Line 85964: Line contains invalid data\n",
      "  warnings.warn(\n",
      "/home/katscott/Code/ros_metrics_analysis/notebooks/metrics/lib/python3.11/site-packages/lars/apache.py:741: ApacheWarning: Line 89972: Line contains invalid data\n",
      "  warnings.warn(\n"
     ]
    },
    {
     "name": "stdout",
     "output_type": "stream",
     "text": [
      ".\n",
      ".\n",
      ".\n",
      ".\n",
      ".\n",
      ".\n"
     ]
    },
    {
     "name": "stderr",
     "output_type": "stream",
     "text": [
      "/home/katscott/Code/ros_metrics_analysis/notebooks/metrics/lib/python3.11/site-packages/lars/apache.py:741: ApacheWarning: Line 115965: Line contains invalid data\n",
      "  warnings.warn(\n"
     ]
    },
    {
     "name": "stdout",
     "output_type": "stream",
     "text": [
      ".\n",
      ".\n",
      ".\n",
      ".\n",
      "./temp/packages-logs/apt-access.log.22\n"
     ]
    },
    {
     "name": "stderr",
     "output_type": "stream",
     "text": [
      "/home/katscott/Code/ros_metrics_analysis/notebooks/metrics/lib/python3.11/site-packages/lars/apache.py:741: ApacheWarning: Line 146307: Line contains invalid data\n",
      "  warnings.warn(\n",
      "/home/katscott/Code/ros_metrics_analysis/notebooks/metrics/lib/python3.11/site-packages/lars/apache.py:741: ApacheWarning: Line 146308: Line contains invalid data\n",
      "  warnings.warn(\n",
      "/home/katscott/Code/ros_metrics_analysis/notebooks/metrics/lib/python3.11/site-packages/lars/apache.py:741: ApacheWarning: Line 159132: Line contains invalid data\n",
      "  warnings.warn(\n",
      "/home/katscott/Code/ros_metrics_analysis/notebooks/metrics/lib/python3.11/site-packages/lars/apache.py:741: ApacheWarning: Line 163277: Line contains invalid data\n",
      "  warnings.warn(\n",
      "/home/katscott/Code/ros_metrics_analysis/notebooks/metrics/lib/python3.11/site-packages/lars/apache.py:741: ApacheWarning: Line 4167: Line contains invalid data\n",
      "  warnings.warn(\n",
      "/home/katscott/Code/ros_metrics_analysis/notebooks/metrics/lib/python3.11/site-packages/lars/apache.py:741: ApacheWarning: Line 4168: Line contains invalid data\n",
      "  warnings.warn(\n",
      "/home/katscott/Code/ros_metrics_analysis/notebooks/metrics/lib/python3.11/site-packages/lars/apache.py:741: ApacheWarning: Line 4169: Line contains invalid data\n",
      "  warnings.warn(\n",
      "/home/katscott/Code/ros_metrics_analysis/notebooks/metrics/lib/python3.11/site-packages/lars/apache.py:741: ApacheWarning: Line 4170: Line contains invalid data\n",
      "  warnings.warn(\n",
      "/home/katscott/Code/ros_metrics_analysis/notebooks/metrics/lib/python3.11/site-packages/lars/apache.py:741: ApacheWarning: Line 4171: Line contains invalid data\n",
      "  warnings.warn(\n",
      "/home/katscott/Code/ros_metrics_analysis/notebooks/metrics/lib/python3.11/site-packages/lars/apache.py:741: ApacheWarning: Line 4228: Line contains invalid data\n",
      "  warnings.warn(\n",
      "/home/katscott/Code/ros_metrics_analysis/notebooks/metrics/lib/python3.11/site-packages/lars/apache.py:741: ApacheWarning: Line 8749: Line contains invalid data\n",
      "  warnings.warn(\n"
     ]
    },
    {
     "name": "stdout",
     "output_type": "stream",
     "text": [
      ".\n",
      ".\n"
     ]
    },
    {
     "name": "stderr",
     "output_type": "stream",
     "text": [
      "/home/katscott/Code/ros_metrics_analysis/notebooks/metrics/lib/python3.11/site-packages/lars/apache.py:741: ApacheWarning: Line 12239: Line contains invalid data\n",
      "  warnings.warn(\n",
      "/home/katscott/Code/ros_metrics_analysis/notebooks/metrics/lib/python3.11/site-packages/lars/apache.py:741: ApacheWarning: Line 12240: Line contains invalid data\n",
      "  warnings.warn(\n",
      "/home/katscott/Code/ros_metrics_analysis/notebooks/metrics/lib/python3.11/site-packages/lars/apache.py:741: ApacheWarning: Line 14916: Line contains invalid data\n",
      "  warnings.warn(\n",
      "/home/katscott/Code/ros_metrics_analysis/notebooks/metrics/lib/python3.11/site-packages/lars/apache.py:741: ApacheWarning: Line 14917: Line contains invalid data\n",
      "  warnings.warn(\n",
      "/home/katscott/Code/ros_metrics_analysis/notebooks/metrics/lib/python3.11/site-packages/lars/apache.py:741: ApacheWarning: Line 18117: Line contains invalid data\n",
      "  warnings.warn(\n",
      "/home/katscott/Code/ros_metrics_analysis/notebooks/metrics/lib/python3.11/site-packages/lars/apache.py:741: ApacheWarning: Line 18931: Line contains invalid data\n",
      "  warnings.warn(\n",
      "/home/katscott/Code/ros_metrics_analysis/notebooks/metrics/lib/python3.11/site-packages/lars/apache.py:741: ApacheWarning: Line 18932: Line contains invalid data\n",
      "  warnings.warn(\n",
      "/home/katscott/Code/ros_metrics_analysis/notebooks/metrics/lib/python3.11/site-packages/lars/apache.py:741: ApacheWarning: Line 18933: Line contains invalid data\n",
      "  warnings.warn(\n",
      "/home/katscott/Code/ros_metrics_analysis/notebooks/metrics/lib/python3.11/site-packages/lars/apache.py:741: ApacheWarning: Line 18934: Line contains invalid data\n",
      "  warnings.warn(\n",
      "/home/katscott/Code/ros_metrics_analysis/notebooks/metrics/lib/python3.11/site-packages/lars/apache.py:741: ApacheWarning: Line 18935: Line contains invalid data\n",
      "  warnings.warn(\n",
      "/home/katscott/Code/ros_metrics_analysis/notebooks/metrics/lib/python3.11/site-packages/lars/apache.py:741: ApacheWarning: Line 18936: Line contains invalid data\n",
      "  warnings.warn(\n",
      "/home/katscott/Code/ros_metrics_analysis/notebooks/metrics/lib/python3.11/site-packages/lars/apache.py:741: ApacheWarning: Line 22641: Line contains invalid data\n",
      "  warnings.warn(\n",
      "/home/katscott/Code/ros_metrics_analysis/notebooks/metrics/lib/python3.11/site-packages/lars/apache.py:741: ApacheWarning: Line 23179: Line contains invalid data\n",
      "  warnings.warn(\n",
      "/home/katscott/Code/ros_metrics_analysis/notebooks/metrics/lib/python3.11/site-packages/lars/apache.py:741: ApacheWarning: Line 28166: Line contains invalid data\n",
      "  warnings.warn(\n",
      "/home/katscott/Code/ros_metrics_analysis/notebooks/metrics/lib/python3.11/site-packages/lars/apache.py:741: ApacheWarning: Line 28167: Line contains invalid data\n",
      "  warnings.warn(\n",
      "/home/katscott/Code/ros_metrics_analysis/notebooks/metrics/lib/python3.11/site-packages/lars/apache.py:741: ApacheWarning: Line 28172: Line contains invalid data\n",
      "  warnings.warn(\n",
      "/home/katscott/Code/ros_metrics_analysis/notebooks/metrics/lib/python3.11/site-packages/lars/apache.py:741: ApacheWarning: Line 38145: Line contains invalid data\n",
      "  warnings.warn(\n",
      "/home/katscott/Code/ros_metrics_analysis/notebooks/metrics/lib/python3.11/site-packages/lars/apache.py:741: ApacheWarning: Line 38146: Line contains invalid data\n",
      "  warnings.warn(\n",
      "/home/katscott/Code/ros_metrics_analysis/notebooks/metrics/lib/python3.11/site-packages/lars/apache.py:741: ApacheWarning: Line 39183: Line contains invalid data\n",
      "  warnings.warn(\n",
      "/home/katscott/Code/ros_metrics_analysis/notebooks/metrics/lib/python3.11/site-packages/lars/apache.py:741: ApacheWarning: Line 41641: Line contains invalid data\n",
      "  warnings.warn(\n",
      "/home/katscott/Code/ros_metrics_analysis/notebooks/metrics/lib/python3.11/site-packages/lars/apache.py:741: ApacheWarning: Line 45537: Line contains invalid data\n",
      "  warnings.warn(\n",
      "/home/katscott/Code/ros_metrics_analysis/notebooks/metrics/lib/python3.11/site-packages/lars/apache.py:741: ApacheWarning: Line 45539: Line contains invalid data\n",
      "  warnings.warn(\n",
      "/home/katscott/Code/ros_metrics_analysis/notebooks/metrics/lib/python3.11/site-packages/lars/apache.py:741: ApacheWarning: Line 47644: Line contains invalid data\n",
      "  warnings.warn(\n",
      "/home/katscott/Code/ros_metrics_analysis/notebooks/metrics/lib/python3.11/site-packages/lars/apache.py:741: ApacheWarning: Line 47850: Line contains invalid data\n",
      "  warnings.warn(\n",
      "/home/katscott/Code/ros_metrics_analysis/notebooks/metrics/lib/python3.11/site-packages/lars/apache.py:741: ApacheWarning: Line 50039: Line contains invalid data\n",
      "  warnings.warn(\n",
      "/home/katscott/Code/ros_metrics_analysis/notebooks/metrics/lib/python3.11/site-packages/lars/apache.py:741: ApacheWarning: Line 50315: Line contains invalid data\n",
      "  warnings.warn(\n",
      "/home/katscott/Code/ros_metrics_analysis/notebooks/metrics/lib/python3.11/site-packages/lars/apache.py:741: ApacheWarning: Line 50804: Line contains invalid data\n",
      "  warnings.warn(\n",
      "/home/katscott/Code/ros_metrics_analysis/notebooks/metrics/lib/python3.11/site-packages/lars/apache.py:741: ApacheWarning: Line 51281: Line contains invalid data\n",
      "  warnings.warn(\n",
      "/home/katscott/Code/ros_metrics_analysis/notebooks/metrics/lib/python3.11/site-packages/lars/apache.py:741: ApacheWarning: Line 62213: Line contains invalid data\n",
      "  warnings.warn(\n"
     ]
    },
    {
     "name": "stdout",
     "output_type": "stream",
     "text": [
      ".\n",
      ".\n",
      ".\n",
      ".\n",
      ".\n",
      ".\n",
      ".\n",
      ".\n",
      ".\n"
     ]
    },
    {
     "name": "stderr",
     "output_type": "stream",
     "text": [
      "/home/katscott/Code/ros_metrics_analysis/notebooks/metrics/lib/python3.11/site-packages/lars/apache.py:741: ApacheWarning: Line 66023: Line contains invalid data\n",
      "  warnings.warn(\n",
      "/home/katscott/Code/ros_metrics_analysis/notebooks/metrics/lib/python3.11/site-packages/lars/apache.py:741: ApacheWarning: Line 66605: Line contains invalid data\n",
      "  warnings.warn(\n",
      "/home/katscott/Code/ros_metrics_analysis/notebooks/metrics/lib/python3.11/site-packages/lars/apache.py:741: ApacheWarning: Line 66607: Line contains invalid data\n",
      "  warnings.warn(\n",
      "/home/katscott/Code/ros_metrics_analysis/notebooks/metrics/lib/python3.11/site-packages/lars/apache.py:741: ApacheWarning: Line 66608: Line contains invalid data\n",
      "  warnings.warn(\n",
      "/home/katscott/Code/ros_metrics_analysis/notebooks/metrics/lib/python3.11/site-packages/lars/apache.py:741: ApacheWarning: Line 66609: Line contains invalid data\n",
      "  warnings.warn(\n",
      "/home/katscott/Code/ros_metrics_analysis/notebooks/metrics/lib/python3.11/site-packages/lars/apache.py:741: ApacheWarning: Line 66646: Line contains invalid data\n",
      "  warnings.warn(\n",
      "/home/katscott/Code/ros_metrics_analysis/notebooks/metrics/lib/python3.11/site-packages/lars/apache.py:741: ApacheWarning: Line 68002: Line contains invalid data\n",
      "  warnings.warn(\n",
      "/home/katscott/Code/ros_metrics_analysis/notebooks/metrics/lib/python3.11/site-packages/lars/apache.py:741: ApacheWarning: Line 68003: Line contains invalid data\n",
      "  warnings.warn(\n",
      "/home/katscott/Code/ros_metrics_analysis/notebooks/metrics/lib/python3.11/site-packages/lars/apache.py:741: ApacheWarning: Line 73726: Line contains invalid data\n",
      "  warnings.warn(\n",
      "/home/katscott/Code/ros_metrics_analysis/notebooks/metrics/lib/python3.11/site-packages/lars/apache.py:741: ApacheWarning: Line 88314: Line contains invalid data\n",
      "  warnings.warn(\n",
      "/home/katscott/Code/ros_metrics_analysis/notebooks/metrics/lib/python3.11/site-packages/lars/apache.py:741: ApacheWarning: Line 102660: Line contains invalid data\n",
      "  warnings.warn(\n",
      "/home/katscott/Code/ros_metrics_analysis/notebooks/metrics/lib/python3.11/site-packages/lars/apache.py:741: ApacheWarning: Line 102670: Line contains invalid data\n",
      "  warnings.warn(\n",
      "/home/katscott/Code/ros_metrics_analysis/notebooks/metrics/lib/python3.11/site-packages/lars/apache.py:741: ApacheWarning: Line 108076: Line contains invalid data\n",
      "  warnings.warn(\n",
      "/home/katscott/Code/ros_metrics_analysis/notebooks/metrics/lib/python3.11/site-packages/lars/apache.py:741: ApacheWarning: Line 116266: Line contains invalid data\n",
      "  warnings.warn(\n",
      "/home/katscott/Code/ros_metrics_analysis/notebooks/metrics/lib/python3.11/site-packages/lars/apache.py:741: ApacheWarning: Line 1079: Line contains invalid data\n",
      "  warnings.warn(\n",
      "/home/katscott/Code/ros_metrics_analysis/notebooks/metrics/lib/python3.11/site-packages/lars/apache.py:741: ApacheWarning: Line 2101: Line contains invalid data\n",
      "  warnings.warn(\n",
      "/home/katscott/Code/ros_metrics_analysis/notebooks/metrics/lib/python3.11/site-packages/lars/apache.py:741: ApacheWarning: Line 2607: Line contains invalid data\n",
      "  warnings.warn(\n",
      "/home/katscott/Code/ros_metrics_analysis/notebooks/metrics/lib/python3.11/site-packages/lars/apache.py:741: ApacheWarning: Line 2609: Line contains invalid data\n",
      "  warnings.warn(\n",
      "/home/katscott/Code/ros_metrics_analysis/notebooks/metrics/lib/python3.11/site-packages/lars/apache.py:741: ApacheWarning: Line 2610: Line contains invalid data\n",
      "  warnings.warn(\n",
      "/home/katscott/Code/ros_metrics_analysis/notebooks/metrics/lib/python3.11/site-packages/lars/apache.py:741: ApacheWarning: Line 2611: Line contains invalid data\n",
      "  warnings.warn(\n",
      "/home/katscott/Code/ros_metrics_analysis/notebooks/metrics/lib/python3.11/site-packages/lars/apache.py:741: ApacheWarning: Line 2613: Line contains invalid data\n",
      "  warnings.warn(\n",
      "/home/katscott/Code/ros_metrics_analysis/notebooks/metrics/lib/python3.11/site-packages/lars/apache.py:741: ApacheWarning: Line 2636: Line contains invalid data\n",
      "  warnings.warn(\n",
      "/home/katscott/Code/ros_metrics_analysis/notebooks/metrics/lib/python3.11/site-packages/lars/apache.py:741: ApacheWarning: Line 2765: Line contains invalid data\n",
      "  warnings.warn(\n",
      "/home/katscott/Code/ros_metrics_analysis/notebooks/metrics/lib/python3.11/site-packages/lars/apache.py:741: ApacheWarning: Line 2942: Line contains invalid data\n",
      "  warnings.warn(\n",
      "/home/katscott/Code/ros_metrics_analysis/notebooks/metrics/lib/python3.11/site-packages/lars/apache.py:741: ApacheWarning: Line 2943: Line contains invalid data\n",
      "  warnings.warn(\n",
      "/home/katscott/Code/ros_metrics_analysis/notebooks/metrics/lib/python3.11/site-packages/lars/apache.py:741: ApacheWarning: Line 14397: Line contains invalid data\n",
      "  warnings.warn(\n",
      "/home/katscott/Code/ros_metrics_analysis/notebooks/metrics/lib/python3.11/site-packages/lars/apache.py:741: ApacheWarning: Line 17950: Line contains invalid data\n",
      "  warnings.warn(\n"
     ]
    },
    {
     "name": "stdout",
     "output_type": "stream",
     "text": [
      ".\n",
      "./temp/packages-logs/apt-access.log.23\n",
      ".\n",
      ".\n",
      ".\n",
      ".\n",
      ".\n"
     ]
    },
    {
     "name": "stderr",
     "output_type": "stream",
     "text": [
      "/home/katscott/Code/ros_metrics_analysis/notebooks/metrics/lib/python3.11/site-packages/lars/apache.py:741: ApacheWarning: Line 18941: Line contains invalid data\n",
      "  warnings.warn(\n",
      "/home/katscott/Code/ros_metrics_analysis/notebooks/metrics/lib/python3.11/site-packages/lars/apache.py:741: ApacheWarning: Line 18942: Line contains invalid data\n",
      "  warnings.warn(\n",
      "/home/katscott/Code/ros_metrics_analysis/notebooks/metrics/lib/python3.11/site-packages/lars/apache.py:741: ApacheWarning: Line 19735: Line contains invalid data\n",
      "  warnings.warn(\n",
      "/home/katscott/Code/ros_metrics_analysis/notebooks/metrics/lib/python3.11/site-packages/lars/apache.py:741: ApacheWarning: Line 19736: Line contains invalid data\n",
      "  warnings.warn(\n",
      "/home/katscott/Code/ros_metrics_analysis/notebooks/metrics/lib/python3.11/site-packages/lars/apache.py:741: ApacheWarning: Line 19737: Line contains invalid data\n",
      "  warnings.warn(\n",
      "/home/katscott/Code/ros_metrics_analysis/notebooks/metrics/lib/python3.11/site-packages/lars/apache.py:741: ApacheWarning: Line 19738: Line contains invalid data\n",
      "  warnings.warn(\n",
      "/home/katscott/Code/ros_metrics_analysis/notebooks/metrics/lib/python3.11/site-packages/lars/apache.py:741: ApacheWarning: Line 19739: Line contains invalid data\n",
      "  warnings.warn(\n",
      "/home/katscott/Code/ros_metrics_analysis/notebooks/metrics/lib/python3.11/site-packages/lars/apache.py:741: ApacheWarning: Line 19740: Line contains invalid data\n",
      "  warnings.warn(\n",
      "/home/katscott/Code/ros_metrics_analysis/notebooks/metrics/lib/python3.11/site-packages/lars/apache.py:741: ApacheWarning: Line 21076: Line contains invalid data\n",
      "  warnings.warn(\n",
      "/home/katscott/Code/ros_metrics_analysis/notebooks/metrics/lib/python3.11/site-packages/lars/apache.py:741: ApacheWarning: Line 23668: Line contains invalid data\n",
      "  warnings.warn(\n",
      "/home/katscott/Code/ros_metrics_analysis/notebooks/metrics/lib/python3.11/site-packages/lars/apache.py:741: ApacheWarning: Line 23670: Line contains invalid data\n",
      "  warnings.warn(\n",
      "/home/katscott/Code/ros_metrics_analysis/notebooks/metrics/lib/python3.11/site-packages/lars/apache.py:741: ApacheWarning: Line 23671: Line contains invalid data\n",
      "  warnings.warn(\n",
      "/home/katscott/Code/ros_metrics_analysis/notebooks/metrics/lib/python3.11/site-packages/lars/apache.py:741: ApacheWarning: Line 28986: Line contains invalid data\n",
      "  warnings.warn(\n",
      "/home/katscott/Code/ros_metrics_analysis/notebooks/metrics/lib/python3.11/site-packages/lars/apache.py:741: ApacheWarning: Line 28987: Line contains invalid data\n",
      "  warnings.warn(\n",
      "/home/katscott/Code/ros_metrics_analysis/notebooks/metrics/lib/python3.11/site-packages/lars/apache.py:741: ApacheWarning: Line 38112: Line contains invalid data\n",
      "  warnings.warn(\n",
      "/home/katscott/Code/ros_metrics_analysis/notebooks/metrics/lib/python3.11/site-packages/lars/apache.py:741: ApacheWarning: Line 38113: Line contains invalid data\n",
      "  warnings.warn(\n",
      "/home/katscott/Code/ros_metrics_analysis/notebooks/metrics/lib/python3.11/site-packages/lars/apache.py:741: ApacheWarning: Line 38114: Line contains invalid data\n",
      "  warnings.warn(\n",
      "/home/katscott/Code/ros_metrics_analysis/notebooks/metrics/lib/python3.11/site-packages/lars/apache.py:741: ApacheWarning: Line 38115: Line contains invalid data\n",
      "  warnings.warn(\n",
      "/home/katscott/Code/ros_metrics_analysis/notebooks/metrics/lib/python3.11/site-packages/lars/apache.py:741: ApacheWarning: Line 38116: Line contains invalid data\n",
      "  warnings.warn(\n",
      "/home/katscott/Code/ros_metrics_analysis/notebooks/metrics/lib/python3.11/site-packages/lars/apache.py:741: ApacheWarning: Line 38117: Line contains invalid data\n",
      "  warnings.warn(\n",
      "/home/katscott/Code/ros_metrics_analysis/notebooks/metrics/lib/python3.11/site-packages/lars/apache.py:741: ApacheWarning: Line 38118: Line contains invalid data\n",
      "  warnings.warn(\n",
      "/home/katscott/Code/ros_metrics_analysis/notebooks/metrics/lib/python3.11/site-packages/lars/apache.py:741: ApacheWarning: Line 38119: Line contains invalid data\n",
      "  warnings.warn(\n",
      "/home/katscott/Code/ros_metrics_analysis/notebooks/metrics/lib/python3.11/site-packages/lars/apache.py:741: ApacheWarning: Line 38120: Line contains invalid data\n",
      "  warnings.warn(\n",
      "/home/katscott/Code/ros_metrics_analysis/notebooks/metrics/lib/python3.11/site-packages/lars/apache.py:741: ApacheWarning: Line 38122: Line contains invalid data\n",
      "  warnings.warn(\n",
      "/home/katscott/Code/ros_metrics_analysis/notebooks/metrics/lib/python3.11/site-packages/lars/apache.py:741: ApacheWarning: Line 38123: Line contains invalid data\n",
      "  warnings.warn(\n",
      "/home/katscott/Code/ros_metrics_analysis/notebooks/metrics/lib/python3.11/site-packages/lars/apache.py:741: ApacheWarning: Line 38124: Line contains invalid data\n",
      "  warnings.warn(\n",
      "/home/katscott/Code/ros_metrics_analysis/notebooks/metrics/lib/python3.11/site-packages/lars/apache.py:741: ApacheWarning: Line 42766: Line contains invalid data\n",
      "  warnings.warn(\n",
      "/home/katscott/Code/ros_metrics_analysis/notebooks/metrics/lib/python3.11/site-packages/lars/apache.py:741: ApacheWarning: Line 42767: Line contains invalid data\n",
      "  warnings.warn(\n",
      "/home/katscott/Code/ros_metrics_analysis/notebooks/metrics/lib/python3.11/site-packages/lars/apache.py:741: ApacheWarning: Line 51955: Line contains invalid data\n",
      "  warnings.warn(\n",
      "/home/katscott/Code/ros_metrics_analysis/notebooks/metrics/lib/python3.11/site-packages/lars/apache.py:741: ApacheWarning: Line 57281: Line contains invalid data\n",
      "  warnings.warn(\n",
      "/home/katscott/Code/ros_metrics_analysis/notebooks/metrics/lib/python3.11/site-packages/lars/apache.py:741: ApacheWarning: Line 57282: Line contains invalid data\n",
      "  warnings.warn(\n",
      "/home/katscott/Code/ros_metrics_analysis/notebooks/metrics/lib/python3.11/site-packages/lars/apache.py:741: ApacheWarning: Line 64955: Line contains invalid data\n",
      "  warnings.warn(\n"
     ]
    },
    {
     "name": "stdout",
     "output_type": "stream",
     "text": [
      ".\n",
      ".\n"
     ]
    },
    {
     "name": "stderr",
     "output_type": "stream",
     "text": [
      "/home/katscott/Code/ros_metrics_analysis/notebooks/metrics/lib/python3.11/site-packages/lars/apache.py:741: ApacheWarning: Line 77257: Line contains invalid data\n",
      "  warnings.warn(\n",
      "/home/katscott/Code/ros_metrics_analysis/notebooks/metrics/lib/python3.11/site-packages/lars/apache.py:741: ApacheWarning: Line 77260: Line contains invalid data\n",
      "  warnings.warn(\n",
      "/home/katscott/Code/ros_metrics_analysis/notebooks/metrics/lib/python3.11/site-packages/lars/apache.py:741: ApacheWarning: Line 77264: Line contains invalid data\n",
      "  warnings.warn(\n",
      "/home/katscott/Code/ros_metrics_analysis/notebooks/metrics/lib/python3.11/site-packages/lars/apache.py:741: ApacheWarning: Line 77270: Line contains invalid data\n",
      "  warnings.warn(\n",
      "/home/katscott/Code/ros_metrics_analysis/notebooks/metrics/lib/python3.11/site-packages/lars/apache.py:741: ApacheWarning: Line 77271: Line contains invalid data\n",
      "  warnings.warn(\n",
      "/home/katscott/Code/ros_metrics_analysis/notebooks/metrics/lib/python3.11/site-packages/lars/apache.py:741: ApacheWarning: Line 77272: Line contains invalid data\n",
      "  warnings.warn(\n",
      "/home/katscott/Code/ros_metrics_analysis/notebooks/metrics/lib/python3.11/site-packages/lars/apache.py:741: ApacheWarning: Line 77273: Line contains invalid data\n",
      "  warnings.warn(\n"
     ]
    },
    {
     "name": "stdout",
     "output_type": "stream",
     "text": [
      ".\n",
      ".\n",
      ".\n",
      ".\n",
      ".\n",
      ".\n",
      "./temp/packages-logs/apt-access.log.24\n"
     ]
    },
    {
     "name": "stderr",
     "output_type": "stream",
     "text": [
      "/home/katscott/Code/ros_metrics_analysis/notebooks/metrics/lib/python3.11/site-packages/lars/apache.py:741: ApacheWarning: Line 93809: Line contains invalid data\n",
      "  warnings.warn(\n",
      "/home/katscott/Code/ros_metrics_analysis/notebooks/metrics/lib/python3.11/site-packages/lars/apache.py:741: ApacheWarning: Line 95594: Line contains invalid data\n",
      "  warnings.warn(\n",
      "/home/katscott/Code/ros_metrics_analysis/notebooks/metrics/lib/python3.11/site-packages/lars/apache.py:741: ApacheWarning: Line 95595: Line contains invalid data\n",
      "  warnings.warn(\n",
      "/home/katscott/Code/ros_metrics_analysis/notebooks/metrics/lib/python3.11/site-packages/lars/apache.py:741: ApacheWarning: Line 103600: Line contains invalid data\n",
      "  warnings.warn(\n",
      "/home/katscott/Code/ros_metrics_analysis/notebooks/metrics/lib/python3.11/site-packages/lars/apache.py:741: ApacheWarning: Line 106239: Line contains invalid data\n",
      "  warnings.warn(\n",
      "/home/katscott/Code/ros_metrics_analysis/notebooks/metrics/lib/python3.11/site-packages/lars/apache.py:741: ApacheWarning: Line 106240: Line contains invalid data\n",
      "  warnings.warn(\n",
      "/home/katscott/Code/ros_metrics_analysis/notebooks/metrics/lib/python3.11/site-packages/lars/apache.py:741: ApacheWarning: Line 111398: Line contains invalid data\n",
      "  warnings.warn(\n",
      "/home/katscott/Code/ros_metrics_analysis/notebooks/metrics/lib/python3.11/site-packages/lars/apache.py:741: ApacheWarning: Line 113224: Line contains invalid data\n",
      "  warnings.warn(\n",
      "/home/katscott/Code/ros_metrics_analysis/notebooks/metrics/lib/python3.11/site-packages/lars/apache.py:741: ApacheWarning: Line 115627: Line contains invalid data\n",
      "  warnings.warn(\n",
      "/home/katscott/Code/ros_metrics_analysis/notebooks/metrics/lib/python3.11/site-packages/lars/apache.py:741: ApacheWarning: Line 115628: Line contains invalid data\n",
      "  warnings.warn(\n",
      "/home/katscott/Code/ros_metrics_analysis/notebooks/metrics/lib/python3.11/site-packages/lars/apache.py:741: ApacheWarning: Line 120333: Line contains invalid data\n",
      "  warnings.warn(\n",
      "/home/katscott/Code/ros_metrics_analysis/notebooks/metrics/lib/python3.11/site-packages/lars/apache.py:741: ApacheWarning: Line 120334: Line contains invalid data\n",
      "  warnings.warn(\n",
      "/home/katscott/Code/ros_metrics_analysis/notebooks/metrics/lib/python3.11/site-packages/lars/apache.py:741: ApacheWarning: Line 121378: Line contains invalid data\n",
      "  warnings.warn(\n",
      "/home/katscott/Code/ros_metrics_analysis/notebooks/metrics/lib/python3.11/site-packages/lars/apache.py:741: ApacheWarning: Line 124965: Line contains invalid data\n",
      "  warnings.warn(\n",
      "/home/katscott/Code/ros_metrics_analysis/notebooks/metrics/lib/python3.11/site-packages/lars/apache.py:741: ApacheWarning: Line 10011: Line contains invalid data\n",
      "  warnings.warn(\n"
     ]
    },
    {
     "name": "stdout",
     "output_type": "stream",
     "text": [
      ".\n",
      ".\n"
     ]
    },
    {
     "name": "stderr",
     "output_type": "stream",
     "text": [
      "/home/katscott/Code/ros_metrics_analysis/notebooks/metrics/lib/python3.11/site-packages/lars/apache.py:741: ApacheWarning: Line 14567: Line contains invalid data\n",
      "  warnings.warn(\n",
      "/home/katscott/Code/ros_metrics_analysis/notebooks/metrics/lib/python3.11/site-packages/lars/apache.py:741: ApacheWarning: Line 24775: Line contains invalid data\n",
      "  warnings.warn(\n",
      "/home/katscott/Code/ros_metrics_analysis/notebooks/metrics/lib/python3.11/site-packages/lars/apache.py:741: ApacheWarning: Line 24995: Line contains invalid data\n",
      "  warnings.warn(\n",
      "/home/katscott/Code/ros_metrics_analysis/notebooks/metrics/lib/python3.11/site-packages/lars/apache.py:741: ApacheWarning: Line 27187: Line contains invalid data\n",
      "  warnings.warn(\n",
      "/home/katscott/Code/ros_metrics_analysis/notebooks/metrics/lib/python3.11/site-packages/lars/apache.py:741: ApacheWarning: Line 27277: Line contains invalid data\n",
      "  warnings.warn(\n",
      "/home/katscott/Code/ros_metrics_analysis/notebooks/metrics/lib/python3.11/site-packages/lars/apache.py:741: ApacheWarning: Line 27279: Line contains invalid data\n",
      "  warnings.warn(\n"
     ]
    },
    {
     "name": "stdout",
     "output_type": "stream",
     "text": [
      ".\n",
      ".\n"
     ]
    },
    {
     "name": "stderr",
     "output_type": "stream",
     "text": [
      "/home/katscott/Code/ros_metrics_analysis/notebooks/metrics/lib/python3.11/site-packages/lars/apache.py:741: ApacheWarning: Line 31815: Line contains invalid data\n",
      "  warnings.warn(\n",
      "/home/katscott/Code/ros_metrics_analysis/notebooks/metrics/lib/python3.11/site-packages/lars/apache.py:741: ApacheWarning: Line 31970: Line contains invalid data\n",
      "  warnings.warn(\n",
      "/home/katscott/Code/ros_metrics_analysis/notebooks/metrics/lib/python3.11/site-packages/lars/apache.py:741: ApacheWarning: Line 38232: Line contains invalid data\n",
      "  warnings.warn(\n",
      "/home/katscott/Code/ros_metrics_analysis/notebooks/metrics/lib/python3.11/site-packages/lars/apache.py:741: ApacheWarning: Line 46912: Line contains invalid data\n",
      "  warnings.warn(\n",
      "/home/katscott/Code/ros_metrics_analysis/notebooks/metrics/lib/python3.11/site-packages/lars/apache.py:741: ApacheWarning: Line 53002: Line contains invalid data\n",
      "  warnings.warn(\n",
      "/home/katscott/Code/ros_metrics_analysis/notebooks/metrics/lib/python3.11/site-packages/lars/apache.py:741: ApacheWarning: Line 53003: Line contains invalid data\n",
      "  warnings.warn(\n",
      "/home/katscott/Code/ros_metrics_analysis/notebooks/metrics/lib/python3.11/site-packages/lars/apache.py:741: ApacheWarning: Line 53004: Line contains invalid data\n",
      "  warnings.warn(\n",
      "/home/katscott/Code/ros_metrics_analysis/notebooks/metrics/lib/python3.11/site-packages/lars/apache.py:741: ApacheWarning: Line 53005: Line contains invalid data\n",
      "  warnings.warn(\n",
      "/home/katscott/Code/ros_metrics_analysis/notebooks/metrics/lib/python3.11/site-packages/lars/apache.py:741: ApacheWarning: Line 53006: Line contains invalid data\n",
      "  warnings.warn(\n",
      "/home/katscott/Code/ros_metrics_analysis/notebooks/metrics/lib/python3.11/site-packages/lars/apache.py:741: ApacheWarning: Line 53007: Line contains invalid data\n",
      "  warnings.warn(\n",
      "/home/katscott/Code/ros_metrics_analysis/notebooks/metrics/lib/python3.11/site-packages/lars/apache.py:741: ApacheWarning: Line 53008: Line contains invalid data\n",
      "  warnings.warn(\n",
      "/home/katscott/Code/ros_metrics_analysis/notebooks/metrics/lib/python3.11/site-packages/lars/apache.py:741: ApacheWarning: Line 53009: Line contains invalid data\n",
      "  warnings.warn(\n",
      "/home/katscott/Code/ros_metrics_analysis/notebooks/metrics/lib/python3.11/site-packages/lars/apache.py:741: ApacheWarning: Line 53010: Line contains invalid data\n",
      "  warnings.warn(\n",
      "/home/katscott/Code/ros_metrics_analysis/notebooks/metrics/lib/python3.11/site-packages/lars/apache.py:741: ApacheWarning: Line 53012: Line contains invalid data\n",
      "  warnings.warn(\n",
      "/home/katscott/Code/ros_metrics_analysis/notebooks/metrics/lib/python3.11/site-packages/lars/apache.py:741: ApacheWarning: Line 53014: Line contains invalid data\n",
      "  warnings.warn(\n",
      "/home/katscott/Code/ros_metrics_analysis/notebooks/metrics/lib/python3.11/site-packages/lars/apache.py:741: ApacheWarning: Line 65657: Line contains invalid data\n",
      "  warnings.warn(\n",
      "/home/katscott/Code/ros_metrics_analysis/notebooks/metrics/lib/python3.11/site-packages/lars/apache.py:741: ApacheWarning: Line 5013: Line contains invalid data\n",
      "  warnings.warn(\n",
      "/home/katscott/Code/ros_metrics_analysis/notebooks/metrics/lib/python3.11/site-packages/lars/apache.py:741: ApacheWarning: Line 5664: Line contains invalid data\n",
      "  warnings.warn(\n",
      "/home/katscott/Code/ros_metrics_analysis/notebooks/metrics/lib/python3.11/site-packages/lars/apache.py:741: ApacheWarning: Line 5706: Line contains invalid data\n",
      "  warnings.warn(\n",
      "/home/katscott/Code/ros_metrics_analysis/notebooks/metrics/lib/python3.11/site-packages/lars/apache.py:741: ApacheWarning: Line 6707: Line contains invalid data\n",
      "  warnings.warn(\n",
      "/home/katscott/Code/ros_metrics_analysis/notebooks/metrics/lib/python3.11/site-packages/lars/apache.py:741: ApacheWarning: Line 10606: Line contains invalid data\n",
      "  warnings.warn(\n",
      "/home/katscott/Code/ros_metrics_analysis/notebooks/metrics/lib/python3.11/site-packages/lars/apache.py:741: ApacheWarning: Line 12632: Line contains invalid data\n",
      "  warnings.warn(\n",
      "/home/katscott/Code/ros_metrics_analysis/notebooks/metrics/lib/python3.11/site-packages/lars/apache.py:741: ApacheWarning: Line 21666: Line contains invalid data\n",
      "  warnings.warn(\n",
      "/home/katscott/Code/ros_metrics_analysis/notebooks/metrics/lib/python3.11/site-packages/lars/apache.py:741: ApacheWarning: Line 22076: Line contains invalid data\n",
      "  warnings.warn(\n",
      "/home/katscott/Code/ros_metrics_analysis/notebooks/metrics/lib/python3.11/site-packages/lars/apache.py:741: ApacheWarning: Line 23142: Line contains invalid data\n",
      "  warnings.warn(\n"
     ]
    },
    {
     "name": "stdout",
     "output_type": "stream",
     "text": [
      ".\n",
      ".\n",
      ".\n",
      "./temp/packages-logs/apt-access.log.25\n",
      ".\n",
      ".\n"
     ]
    },
    {
     "name": "stderr",
     "output_type": "stream",
     "text": [
      "/home/katscott/Code/ros_metrics_analysis/notebooks/metrics/lib/python3.11/site-packages/lars/apache.py:741: ApacheWarning: Line 26815: Line contains invalid data\n",
      "  warnings.warn(\n",
      "/home/katscott/Code/ros_metrics_analysis/notebooks/metrics/lib/python3.11/site-packages/lars/apache.py:741: ApacheWarning: Line 27581: Line contains invalid data\n",
      "  warnings.warn(\n",
      "/home/katscott/Code/ros_metrics_analysis/notebooks/metrics/lib/python3.11/site-packages/lars/apache.py:741: ApacheWarning: Line 29569: Line contains invalid data\n",
      "  warnings.warn(\n",
      "/home/katscott/Code/ros_metrics_analysis/notebooks/metrics/lib/python3.11/site-packages/lars/apache.py:741: ApacheWarning: Line 32392: Line contains invalid data\n",
      "  warnings.warn(\n",
      "/home/katscott/Code/ros_metrics_analysis/notebooks/metrics/lib/python3.11/site-packages/lars/apache.py:741: ApacheWarning: Line 45063: Line contains invalid data\n",
      "  warnings.warn(\n",
      "/home/katscott/Code/ros_metrics_analysis/notebooks/metrics/lib/python3.11/site-packages/lars/apache.py:741: ApacheWarning: Line 45280: Line contains invalid data\n",
      "  warnings.warn(\n",
      "/home/katscott/Code/ros_metrics_analysis/notebooks/metrics/lib/python3.11/site-packages/lars/apache.py:741: ApacheWarning: Line 45281: Line contains invalid data\n",
      "  warnings.warn(\n",
      "/home/katscott/Code/ros_metrics_analysis/notebooks/metrics/lib/python3.11/site-packages/lars/apache.py:741: ApacheWarning: Line 45282: Line contains invalid data\n",
      "  warnings.warn(\n",
      "/home/katscott/Code/ros_metrics_analysis/notebooks/metrics/lib/python3.11/site-packages/lars/apache.py:741: ApacheWarning: Line 45283: Line contains invalid data\n",
      "  warnings.warn(\n",
      "/home/katscott/Code/ros_metrics_analysis/notebooks/metrics/lib/python3.11/site-packages/lars/apache.py:741: ApacheWarning: Line 45285: Line contains invalid data\n",
      "  warnings.warn(\n",
      "/home/katscott/Code/ros_metrics_analysis/notebooks/metrics/lib/python3.11/site-packages/lars/apache.py:741: ApacheWarning: Line 45286: Line contains invalid data\n",
      "  warnings.warn(\n"
     ]
    },
    {
     "name": "stdout",
     "output_type": "stream",
     "text": [
      ".\n",
      ".\n",
      ".\n",
      ".\n"
     ]
    },
    {
     "name": "stderr",
     "output_type": "stream",
     "text": [
      "/home/katscott/Code/ros_metrics_analysis/notebooks/metrics/lib/python3.11/site-packages/lars/apache.py:741: ApacheWarning: Line 51152: Line contains invalid data\n",
      "  warnings.warn(\n",
      "/home/katscott/Code/ros_metrics_analysis/notebooks/metrics/lib/python3.11/site-packages/lars/apache.py:741: ApacheWarning: Line 52602: Line contains invalid data\n",
      "  warnings.warn(\n",
      "/home/katscott/Code/ros_metrics_analysis/notebooks/metrics/lib/python3.11/site-packages/lars/apache.py:741: ApacheWarning: Line 62132: Line contains invalid data\n",
      "  warnings.warn(\n",
      "/home/katscott/Code/ros_metrics_analysis/notebooks/metrics/lib/python3.11/site-packages/lars/apache.py:741: ApacheWarning: Line 62133: Line contains invalid data\n",
      "  warnings.warn(\n",
      "/home/katscott/Code/ros_metrics_analysis/notebooks/metrics/lib/python3.11/site-packages/lars/apache.py:741: ApacheWarning: Line 65961: Line contains invalid data\n",
      "  warnings.warn(\n",
      "/home/katscott/Code/ros_metrics_analysis/notebooks/metrics/lib/python3.11/site-packages/lars/apache.py:741: ApacheWarning: Line 65962: Line contains invalid data\n",
      "  warnings.warn(\n",
      "/home/katscott/Code/ros_metrics_analysis/notebooks/metrics/lib/python3.11/site-packages/lars/apache.py:741: ApacheWarning: Line 67596: Line contains invalid data\n",
      "  warnings.warn(\n",
      "/home/katscott/Code/ros_metrics_analysis/notebooks/metrics/lib/python3.11/site-packages/lars/apache.py:741: ApacheWarning: Line 67597: Line contains invalid data\n",
      "  warnings.warn(\n",
      "/home/katscott/Code/ros_metrics_analysis/notebooks/metrics/lib/python3.11/site-packages/lars/apache.py:741: ApacheWarning: Line 67598: Line contains invalid data\n",
      "  warnings.warn(\n",
      "/home/katscott/Code/ros_metrics_analysis/notebooks/metrics/lib/python3.11/site-packages/lars/apache.py:741: ApacheWarning: Line 67599: Line contains invalid data\n",
      "  warnings.warn(\n",
      "/home/katscott/Code/ros_metrics_analysis/notebooks/metrics/lib/python3.11/site-packages/lars/apache.py:741: ApacheWarning: Line 67600: Line contains invalid data\n",
      "  warnings.warn(\n",
      "/home/katscott/Code/ros_metrics_analysis/notebooks/metrics/lib/python3.11/site-packages/lars/apache.py:741: ApacheWarning: Line 67601: Line contains invalid data\n",
      "  warnings.warn(\n"
     ]
    },
    {
     "name": "stdout",
     "output_type": "stream",
     "text": [
      ".\n",
      ".\n",
      "./temp/packages-logs/apt-access.log.26\n"
     ]
    },
    {
     "name": "stderr",
     "output_type": "stream",
     "text": [
      "/home/katscott/Code/ros_metrics_analysis/notebooks/metrics/lib/python3.11/site-packages/lars/apache.py:741: ApacheWarning: Line 71377: Line contains invalid data\n",
      "  warnings.warn(\n",
      "/home/katscott/Code/ros_metrics_analysis/notebooks/metrics/lib/python3.11/site-packages/lars/apache.py:741: ApacheWarning: Line 79411: Line contains invalid data\n",
      "  warnings.warn(\n",
      "/home/katscott/Code/ros_metrics_analysis/notebooks/metrics/lib/python3.11/site-packages/lars/apache.py:741: ApacheWarning: Line 79412: Line contains invalid data\n",
      "  warnings.warn(\n",
      "/home/katscott/Code/ros_metrics_analysis/notebooks/metrics/lib/python3.11/site-packages/lars/apache.py:741: ApacheWarning: Line 79413: Line contains invalid data\n",
      "  warnings.warn(\n",
      "/home/katscott/Code/ros_metrics_analysis/notebooks/metrics/lib/python3.11/site-packages/lars/apache.py:741: ApacheWarning: Line 79414: Line contains invalid data\n",
      "  warnings.warn(\n",
      "/home/katscott/Code/ros_metrics_analysis/notebooks/metrics/lib/python3.11/site-packages/lars/apache.py:741: ApacheWarning: Line 79415: Line contains invalid data\n",
      "  warnings.warn(\n",
      "/home/katscott/Code/ros_metrics_analysis/notebooks/metrics/lib/python3.11/site-packages/lars/apache.py:741: ApacheWarning: Line 79437: Line contains invalid data\n",
      "  warnings.warn(\n",
      "/home/katscott/Code/ros_metrics_analysis/notebooks/metrics/lib/python3.11/site-packages/lars/apache.py:741: ApacheWarning: Line 80158: Line contains invalid data\n",
      "  warnings.warn(\n",
      "/home/katscott/Code/ros_metrics_analysis/notebooks/metrics/lib/python3.11/site-packages/lars/apache.py:741: ApacheWarning: Line 7495: Line contains invalid data\n",
      "  warnings.warn(\n",
      "/home/katscott/Code/ros_metrics_analysis/notebooks/metrics/lib/python3.11/site-packages/lars/apache.py:741: ApacheWarning: Line 10415: Line contains invalid data\n",
      "  warnings.warn(\n",
      "/home/katscott/Code/ros_metrics_analysis/notebooks/metrics/lib/python3.11/site-packages/lars/apache.py:741: ApacheWarning: Line 10995: Line contains invalid data\n",
      "  warnings.warn(\n",
      "/home/katscott/Code/ros_metrics_analysis/notebooks/metrics/lib/python3.11/site-packages/lars/apache.py:741: ApacheWarning: Line 21889: Line contains invalid data\n",
      "  warnings.warn(\n",
      "/home/katscott/Code/ros_metrics_analysis/notebooks/metrics/lib/python3.11/site-packages/lars/apache.py:741: ApacheWarning: Line 21891: Line contains invalid data\n",
      "  warnings.warn(\n",
      "/home/katscott/Code/ros_metrics_analysis/notebooks/metrics/lib/python3.11/site-packages/lars/apache.py:741: ApacheWarning: Line 21892: Line contains invalid data\n",
      "  warnings.warn(\n",
      "/home/katscott/Code/ros_metrics_analysis/notebooks/metrics/lib/python3.11/site-packages/lars/apache.py:741: ApacheWarning: Line 21893: Line contains invalid data\n",
      "  warnings.warn(\n",
      "/home/katscott/Code/ros_metrics_analysis/notebooks/metrics/lib/python3.11/site-packages/lars/apache.py:741: ApacheWarning: Line 21894: Line contains invalid data\n",
      "  warnings.warn(\n",
      "/home/katscott/Code/ros_metrics_analysis/notebooks/metrics/lib/python3.11/site-packages/lars/apache.py:741: ApacheWarning: Line 21895: Line contains invalid data\n",
      "  warnings.warn(\n",
      "/home/katscott/Code/ros_metrics_analysis/notebooks/metrics/lib/python3.11/site-packages/lars/apache.py:741: ApacheWarning: Line 21896: Line contains invalid data\n",
      "  warnings.warn(\n",
      "/home/katscott/Code/ros_metrics_analysis/notebooks/metrics/lib/python3.11/site-packages/lars/apache.py:741: ApacheWarning: Line 23532: Line contains invalid data\n",
      "  warnings.warn(\n",
      "/home/katscott/Code/ros_metrics_analysis/notebooks/metrics/lib/python3.11/site-packages/lars/apache.py:741: ApacheWarning: Line 28034: Line contains invalid data\n",
      "  warnings.warn(\n",
      "/home/katscott/Code/ros_metrics_analysis/notebooks/metrics/lib/python3.11/site-packages/lars/apache.py:741: ApacheWarning: Line 28035: Line contains invalid data\n",
      "  warnings.warn(\n",
      "/home/katscott/Code/ros_metrics_analysis/notebooks/metrics/lib/python3.11/site-packages/lars/apache.py:741: ApacheWarning: Line 28038: Line contains invalid data\n",
      "  warnings.warn(\n",
      "/home/katscott/Code/ros_metrics_analysis/notebooks/metrics/lib/python3.11/site-packages/lars/apache.py:741: ApacheWarning: Line 28040: Line contains invalid data\n",
      "  warnings.warn(\n",
      "/home/katscott/Code/ros_metrics_analysis/notebooks/metrics/lib/python3.11/site-packages/lars/apache.py:741: ApacheWarning: Line 28042: Line contains invalid data\n",
      "  warnings.warn(\n",
      "/home/katscott/Code/ros_metrics_analysis/notebooks/metrics/lib/python3.11/site-packages/lars/apache.py:741: ApacheWarning: Line 28044: Line contains invalid data\n",
      "  warnings.warn(\n",
      "/home/katscott/Code/ros_metrics_analysis/notebooks/metrics/lib/python3.11/site-packages/lars/apache.py:741: ApacheWarning: Line 28045: Line contains invalid data\n",
      "  warnings.warn(\n",
      "/home/katscott/Code/ros_metrics_analysis/notebooks/metrics/lib/python3.11/site-packages/lars/apache.py:741: ApacheWarning: Line 28048: Line contains invalid data\n",
      "  warnings.warn(\n",
      "/home/katscott/Code/ros_metrics_analysis/notebooks/metrics/lib/python3.11/site-packages/lars/apache.py:741: ApacheWarning: Line 28049: Line contains invalid data\n",
      "  warnings.warn(\n",
      "/home/katscott/Code/ros_metrics_analysis/notebooks/metrics/lib/python3.11/site-packages/lars/apache.py:741: ApacheWarning: Line 28053: Line contains invalid data\n",
      "  warnings.warn(\n",
      "/home/katscott/Code/ros_metrics_analysis/notebooks/metrics/lib/python3.11/site-packages/lars/apache.py:741: ApacheWarning: Line 28057: Line contains invalid data\n",
      "  warnings.warn(\n",
      "/home/katscott/Code/ros_metrics_analysis/notebooks/metrics/lib/python3.11/site-packages/lars/apache.py:741: ApacheWarning: Line 28060: Line contains invalid data\n",
      "  warnings.warn(\n",
      "/home/katscott/Code/ros_metrics_analysis/notebooks/metrics/lib/python3.11/site-packages/lars/apache.py:741: ApacheWarning: Line 28061: Line contains invalid data\n",
      "  warnings.warn(\n",
      "/home/katscott/Code/ros_metrics_analysis/notebooks/metrics/lib/python3.11/site-packages/lars/apache.py:741: ApacheWarning: Line 28063: Line contains invalid data\n",
      "  warnings.warn(\n",
      "/home/katscott/Code/ros_metrics_analysis/notebooks/metrics/lib/python3.11/site-packages/lars/apache.py:741: ApacheWarning: Line 28067: Line contains invalid data\n",
      "  warnings.warn(\n",
      "/home/katscott/Code/ros_metrics_analysis/notebooks/metrics/lib/python3.11/site-packages/lars/apache.py:741: ApacheWarning: Line 28069: Line contains invalid data\n",
      "  warnings.warn(\n",
      "/home/katscott/Code/ros_metrics_analysis/notebooks/metrics/lib/python3.11/site-packages/lars/apache.py:741: ApacheWarning: Line 28072: Line contains invalid data\n",
      "  warnings.warn(\n",
      "/home/katscott/Code/ros_metrics_analysis/notebooks/metrics/lib/python3.11/site-packages/lars/apache.py:741: ApacheWarning: Line 28073: Line contains invalid data\n",
      "  warnings.warn(\n",
      "/home/katscott/Code/ros_metrics_analysis/notebooks/metrics/lib/python3.11/site-packages/lars/apache.py:741: ApacheWarning: Line 28076: Line contains invalid data\n",
      "  warnings.warn(\n",
      "/home/katscott/Code/ros_metrics_analysis/notebooks/metrics/lib/python3.11/site-packages/lars/apache.py:741: ApacheWarning: Line 28079: Line contains invalid data\n",
      "  warnings.warn(\n",
      "/home/katscott/Code/ros_metrics_analysis/notebooks/metrics/lib/python3.11/site-packages/lars/apache.py:741: ApacheWarning: Line 28080: Line contains invalid data\n",
      "  warnings.warn(\n",
      "/home/katscott/Code/ros_metrics_analysis/notebooks/metrics/lib/python3.11/site-packages/lars/apache.py:741: ApacheWarning: Line 28081: Line contains invalid data\n",
      "  warnings.warn(\n",
      "/home/katscott/Code/ros_metrics_analysis/notebooks/metrics/lib/python3.11/site-packages/lars/apache.py:741: ApacheWarning: Line 28082: Line contains invalid data\n",
      "  warnings.warn(\n",
      "/home/katscott/Code/ros_metrics_analysis/notebooks/metrics/lib/python3.11/site-packages/lars/apache.py:741: ApacheWarning: Line 28085: Line contains invalid data\n",
      "  warnings.warn(\n",
      "/home/katscott/Code/ros_metrics_analysis/notebooks/metrics/lib/python3.11/site-packages/lars/apache.py:741: ApacheWarning: Line 28086: Line contains invalid data\n",
      "  warnings.warn(\n",
      "/home/katscott/Code/ros_metrics_analysis/notebooks/metrics/lib/python3.11/site-packages/lars/apache.py:741: ApacheWarning: Line 28087: Line contains invalid data\n",
      "  warnings.warn(\n",
      "/home/katscott/Code/ros_metrics_analysis/notebooks/metrics/lib/python3.11/site-packages/lars/apache.py:741: ApacheWarning: Line 28089: Line contains invalid data\n",
      "  warnings.warn(\n",
      "/home/katscott/Code/ros_metrics_analysis/notebooks/metrics/lib/python3.11/site-packages/lars/apache.py:741: ApacheWarning: Line 28090: Line contains invalid data\n",
      "  warnings.warn(\n",
      "/home/katscott/Code/ros_metrics_analysis/notebooks/metrics/lib/python3.11/site-packages/lars/apache.py:741: ApacheWarning: Line 28091: Line contains invalid data\n",
      "  warnings.warn(\n",
      "/home/katscott/Code/ros_metrics_analysis/notebooks/metrics/lib/python3.11/site-packages/lars/apache.py:741: ApacheWarning: Line 28092: Line contains invalid data\n",
      "  warnings.warn(\n",
      "/home/katscott/Code/ros_metrics_analysis/notebooks/metrics/lib/python3.11/site-packages/lars/apache.py:741: ApacheWarning: Line 28097: Line contains invalid data\n",
      "  warnings.warn(\n",
      "/home/katscott/Code/ros_metrics_analysis/notebooks/metrics/lib/python3.11/site-packages/lars/apache.py:741: ApacheWarning: Line 28100: Line contains invalid data\n",
      "  warnings.warn(\n",
      "/home/katscott/Code/ros_metrics_analysis/notebooks/metrics/lib/python3.11/site-packages/lars/apache.py:741: ApacheWarning: Line 28101: Line contains invalid data\n",
      "  warnings.warn(\n",
      "/home/katscott/Code/ros_metrics_analysis/notebooks/metrics/lib/python3.11/site-packages/lars/apache.py:741: ApacheWarning: Line 28102: Line contains invalid data\n",
      "  warnings.warn(\n",
      "/home/katscott/Code/ros_metrics_analysis/notebooks/metrics/lib/python3.11/site-packages/lars/apache.py:741: ApacheWarning: Line 28105: Line contains invalid data\n",
      "  warnings.warn(\n",
      "/home/katscott/Code/ros_metrics_analysis/notebooks/metrics/lib/python3.11/site-packages/lars/apache.py:741: ApacheWarning: Line 28106: Line contains invalid data\n",
      "  warnings.warn(\n",
      "/home/katscott/Code/ros_metrics_analysis/notebooks/metrics/lib/python3.11/site-packages/lars/apache.py:741: ApacheWarning: Line 28107: Line contains invalid data\n",
      "  warnings.warn(\n",
      "/home/katscott/Code/ros_metrics_analysis/notebooks/metrics/lib/python3.11/site-packages/lars/apache.py:741: ApacheWarning: Line 28108: Line contains invalid data\n",
      "  warnings.warn(\n",
      "/home/katscott/Code/ros_metrics_analysis/notebooks/metrics/lib/python3.11/site-packages/lars/apache.py:741: ApacheWarning: Line 28109: Line contains invalid data\n",
      "  warnings.warn(\n",
      "/home/katscott/Code/ros_metrics_analysis/notebooks/metrics/lib/python3.11/site-packages/lars/apache.py:741: ApacheWarning: Line 28111: Line contains invalid data\n",
      "  warnings.warn(\n",
      "/home/katscott/Code/ros_metrics_analysis/notebooks/metrics/lib/python3.11/site-packages/lars/apache.py:741: ApacheWarning: Line 28112: Line contains invalid data\n",
      "  warnings.warn(\n",
      "/home/katscott/Code/ros_metrics_analysis/notebooks/metrics/lib/python3.11/site-packages/lars/apache.py:741: ApacheWarning: Line 28114: Line contains invalid data\n",
      "  warnings.warn(\n",
      "/home/katscott/Code/ros_metrics_analysis/notebooks/metrics/lib/python3.11/site-packages/lars/apache.py:741: ApacheWarning: Line 28116: Line contains invalid data\n",
      "  warnings.warn(\n",
      "/home/katscott/Code/ros_metrics_analysis/notebooks/metrics/lib/python3.11/site-packages/lars/apache.py:741: ApacheWarning: Line 28117: Line contains invalid data\n",
      "  warnings.warn(\n",
      "/home/katscott/Code/ros_metrics_analysis/notebooks/metrics/lib/python3.11/site-packages/lars/apache.py:741: ApacheWarning: Line 28121: Line contains invalid data\n",
      "  warnings.warn(\n",
      "/home/katscott/Code/ros_metrics_analysis/notebooks/metrics/lib/python3.11/site-packages/lars/apache.py:741: ApacheWarning: Line 28144: Line contains invalid data\n",
      "  warnings.warn(\n",
      "/home/katscott/Code/ros_metrics_analysis/notebooks/metrics/lib/python3.11/site-packages/lars/apache.py:741: ApacheWarning: Line 28146: Line contains invalid data\n",
      "  warnings.warn(\n",
      "/home/katscott/Code/ros_metrics_analysis/notebooks/metrics/lib/python3.11/site-packages/lars/apache.py:741: ApacheWarning: Line 28148: Line contains invalid data\n",
      "  warnings.warn(\n",
      "/home/katscott/Code/ros_metrics_analysis/notebooks/metrics/lib/python3.11/site-packages/lars/apache.py:741: ApacheWarning: Line 28155: Line contains invalid data\n",
      "  warnings.warn(\n",
      "/home/katscott/Code/ros_metrics_analysis/notebooks/metrics/lib/python3.11/site-packages/lars/apache.py:741: ApacheWarning: Line 28156: Line contains invalid data\n",
      "  warnings.warn(\n",
      "/home/katscott/Code/ros_metrics_analysis/notebooks/metrics/lib/python3.11/site-packages/lars/apache.py:741: ApacheWarning: Line 28380: Line contains invalid data\n",
      "  warnings.warn(\n",
      "/home/katscott/Code/ros_metrics_analysis/notebooks/metrics/lib/python3.11/site-packages/lars/apache.py:741: ApacheWarning: Line 28382: Line contains invalid data\n",
      "  warnings.warn(\n",
      "/home/katscott/Code/ros_metrics_analysis/notebooks/metrics/lib/python3.11/site-packages/lars/apache.py:741: ApacheWarning: Line 28386: Line contains invalid data\n",
      "  warnings.warn(\n",
      "/home/katscott/Code/ros_metrics_analysis/notebooks/metrics/lib/python3.11/site-packages/lars/apache.py:741: ApacheWarning: Line 28387: Line contains invalid data\n",
      "  warnings.warn(\n",
      "/home/katscott/Code/ros_metrics_analysis/notebooks/metrics/lib/python3.11/site-packages/lars/apache.py:741: ApacheWarning: Line 28389: Line contains invalid data\n",
      "  warnings.warn(\n",
      "/home/katscott/Code/ros_metrics_analysis/notebooks/metrics/lib/python3.11/site-packages/lars/apache.py:741: ApacheWarning: Line 28391: Line contains invalid data\n",
      "  warnings.warn(\n",
      "/home/katscott/Code/ros_metrics_analysis/notebooks/metrics/lib/python3.11/site-packages/lars/apache.py:741: ApacheWarning: Line 28394: Line contains invalid data\n",
      "  warnings.warn(\n",
      "/home/katscott/Code/ros_metrics_analysis/notebooks/metrics/lib/python3.11/site-packages/lars/apache.py:741: ApacheWarning: Line 28396: Line contains invalid data\n",
      "  warnings.warn(\n",
      "/home/katscott/Code/ros_metrics_analysis/notebooks/metrics/lib/python3.11/site-packages/lars/apache.py:741: ApacheWarning: Line 28399: Line contains invalid data\n",
      "  warnings.warn(\n",
      "/home/katscott/Code/ros_metrics_analysis/notebooks/metrics/lib/python3.11/site-packages/lars/apache.py:741: ApacheWarning: Line 28402: Line contains invalid data\n",
      "  warnings.warn(\n",
      "/home/katscott/Code/ros_metrics_analysis/notebooks/metrics/lib/python3.11/site-packages/lars/apache.py:741: ApacheWarning: Line 28405: Line contains invalid data\n",
      "  warnings.warn(\n",
      "/home/katscott/Code/ros_metrics_analysis/notebooks/metrics/lib/python3.11/site-packages/lars/apache.py:741: ApacheWarning: Line 28408: Line contains invalid data\n",
      "  warnings.warn(\n",
      "/home/katscott/Code/ros_metrics_analysis/notebooks/metrics/lib/python3.11/site-packages/lars/apache.py:741: ApacheWarning: Line 28411: Line contains invalid data\n",
      "  warnings.warn(\n",
      "/home/katscott/Code/ros_metrics_analysis/notebooks/metrics/lib/python3.11/site-packages/lars/apache.py:741: ApacheWarning: Line 28413: Line contains invalid data\n",
      "  warnings.warn(\n",
      "/home/katscott/Code/ros_metrics_analysis/notebooks/metrics/lib/python3.11/site-packages/lars/apache.py:741: ApacheWarning: Line 28414: Line contains invalid data\n",
      "  warnings.warn(\n",
      "/home/katscott/Code/ros_metrics_analysis/notebooks/metrics/lib/python3.11/site-packages/lars/apache.py:741: ApacheWarning: Line 28417: Line contains invalid data\n",
      "  warnings.warn(\n",
      "/home/katscott/Code/ros_metrics_analysis/notebooks/metrics/lib/python3.11/site-packages/lars/apache.py:741: ApacheWarning: Line 28420: Line contains invalid data\n",
      "  warnings.warn(\n",
      "/home/katscott/Code/ros_metrics_analysis/notebooks/metrics/lib/python3.11/site-packages/lars/apache.py:741: ApacheWarning: Line 28422: Line contains invalid data\n",
      "  warnings.warn(\n",
      "/home/katscott/Code/ros_metrics_analysis/notebooks/metrics/lib/python3.11/site-packages/lars/apache.py:741: ApacheWarning: Line 28423: Line contains invalid data\n",
      "  warnings.warn(\n",
      "/home/katscott/Code/ros_metrics_analysis/notebooks/metrics/lib/python3.11/site-packages/lars/apache.py:741: ApacheWarning: Line 28425: Line contains invalid data\n",
      "  warnings.warn(\n",
      "/home/katscott/Code/ros_metrics_analysis/notebooks/metrics/lib/python3.11/site-packages/lars/apache.py:741: ApacheWarning: Line 28426: Line contains invalid data\n",
      "  warnings.warn(\n",
      "/home/katscott/Code/ros_metrics_analysis/notebooks/metrics/lib/python3.11/site-packages/lars/apache.py:741: ApacheWarning: Line 28428: Line contains invalid data\n",
      "  warnings.warn(\n",
      "/home/katscott/Code/ros_metrics_analysis/notebooks/metrics/lib/python3.11/site-packages/lars/apache.py:741: ApacheWarning: Line 28430: Line contains invalid data\n",
      "  warnings.warn(\n",
      "/home/katscott/Code/ros_metrics_analysis/notebooks/metrics/lib/python3.11/site-packages/lars/apache.py:741: ApacheWarning: Line 28432: Line contains invalid data\n",
      "  warnings.warn(\n",
      "/home/katscott/Code/ros_metrics_analysis/notebooks/metrics/lib/python3.11/site-packages/lars/apache.py:741: ApacheWarning: Line 28434: Line contains invalid data\n",
      "  warnings.warn(\n",
      "/home/katscott/Code/ros_metrics_analysis/notebooks/metrics/lib/python3.11/site-packages/lars/apache.py:741: ApacheWarning: Line 28437: Line contains invalid data\n",
      "  warnings.warn(\n",
      "/home/katscott/Code/ros_metrics_analysis/notebooks/metrics/lib/python3.11/site-packages/lars/apache.py:741: ApacheWarning: Line 28439: Line contains invalid data\n",
      "  warnings.warn(\n",
      "/home/katscott/Code/ros_metrics_analysis/notebooks/metrics/lib/python3.11/site-packages/lars/apache.py:741: ApacheWarning: Line 28441: Line contains invalid data\n",
      "  warnings.warn(\n",
      "/home/katscott/Code/ros_metrics_analysis/notebooks/metrics/lib/python3.11/site-packages/lars/apache.py:741: ApacheWarning: Line 28443: Line contains invalid data\n",
      "  warnings.warn(\n",
      "/home/katscott/Code/ros_metrics_analysis/notebooks/metrics/lib/python3.11/site-packages/lars/apache.py:741: ApacheWarning: Line 28448: Line contains invalid data\n",
      "  warnings.warn(\n",
      "/home/katscott/Code/ros_metrics_analysis/notebooks/metrics/lib/python3.11/site-packages/lars/apache.py:741: ApacheWarning: Line 28450: Line contains invalid data\n",
      "  warnings.warn(\n",
      "/home/katscott/Code/ros_metrics_analysis/notebooks/metrics/lib/python3.11/site-packages/lars/apache.py:741: ApacheWarning: Line 28453: Line contains invalid data\n",
      "  warnings.warn(\n",
      "/home/katscott/Code/ros_metrics_analysis/notebooks/metrics/lib/python3.11/site-packages/lars/apache.py:741: ApacheWarning: Line 28457: Line contains invalid data\n",
      "  warnings.warn(\n",
      "/home/katscott/Code/ros_metrics_analysis/notebooks/metrics/lib/python3.11/site-packages/lars/apache.py:741: ApacheWarning: Line 28460: Line contains invalid data\n",
      "  warnings.warn(\n",
      "/home/katscott/Code/ros_metrics_analysis/notebooks/metrics/lib/python3.11/site-packages/lars/apache.py:741: ApacheWarning: Line 28462: Line contains invalid data\n",
      "  warnings.warn(\n",
      "/home/katscott/Code/ros_metrics_analysis/notebooks/metrics/lib/python3.11/site-packages/lars/apache.py:741: ApacheWarning: Line 28464: Line contains invalid data\n",
      "  warnings.warn(\n",
      "/home/katscott/Code/ros_metrics_analysis/notebooks/metrics/lib/python3.11/site-packages/lars/apache.py:741: ApacheWarning: Line 28469: Line contains invalid data\n",
      "  warnings.warn(\n",
      "/home/katscott/Code/ros_metrics_analysis/notebooks/metrics/lib/python3.11/site-packages/lars/apache.py:741: ApacheWarning: Line 28471: Line contains invalid data\n",
      "  warnings.warn(\n",
      "/home/katscott/Code/ros_metrics_analysis/notebooks/metrics/lib/python3.11/site-packages/lars/apache.py:741: ApacheWarning: Line 28472: Line contains invalid data\n",
      "  warnings.warn(\n",
      "/home/katscott/Code/ros_metrics_analysis/notebooks/metrics/lib/python3.11/site-packages/lars/apache.py:741: ApacheWarning: Line 28474: Line contains invalid data\n",
      "  warnings.warn(\n",
      "/home/katscott/Code/ros_metrics_analysis/notebooks/metrics/lib/python3.11/site-packages/lars/apache.py:741: ApacheWarning: Line 28476: Line contains invalid data\n",
      "  warnings.warn(\n",
      "/home/katscott/Code/ros_metrics_analysis/notebooks/metrics/lib/python3.11/site-packages/lars/apache.py:741: ApacheWarning: Line 28479: Line contains invalid data\n",
      "  warnings.warn(\n",
      "/home/katscott/Code/ros_metrics_analysis/notebooks/metrics/lib/python3.11/site-packages/lars/apache.py:741: ApacheWarning: Line 28482: Line contains invalid data\n",
      "  warnings.warn(\n",
      "/home/katscott/Code/ros_metrics_analysis/notebooks/metrics/lib/python3.11/site-packages/lars/apache.py:741: ApacheWarning: Line 28484: Line contains invalid data\n",
      "  warnings.warn(\n",
      "/home/katscott/Code/ros_metrics_analysis/notebooks/metrics/lib/python3.11/site-packages/lars/apache.py:741: ApacheWarning: Line 28489: Line contains invalid data\n",
      "  warnings.warn(\n",
      "/home/katscott/Code/ros_metrics_analysis/notebooks/metrics/lib/python3.11/site-packages/lars/apache.py:741: ApacheWarning: Line 28533: Line contains invalid data\n",
      "  warnings.warn(\n",
      "/home/katscott/Code/ros_metrics_analysis/notebooks/metrics/lib/python3.11/site-packages/lars/apache.py:741: ApacheWarning: Line 28537: Line contains invalid data\n",
      "  warnings.warn(\n",
      "/home/katscott/Code/ros_metrics_analysis/notebooks/metrics/lib/python3.11/site-packages/lars/apache.py:741: ApacheWarning: Line 28542: Line contains invalid data\n",
      "  warnings.warn(\n",
      "/home/katscott/Code/ros_metrics_analysis/notebooks/metrics/lib/python3.11/site-packages/lars/apache.py:741: ApacheWarning: Line 28546: Line contains invalid data\n",
      "  warnings.warn(\n",
      "/home/katscott/Code/ros_metrics_analysis/notebooks/metrics/lib/python3.11/site-packages/lars/apache.py:741: ApacheWarning: Line 28547: Line contains invalid data\n",
      "  warnings.warn(\n",
      "/home/katscott/Code/ros_metrics_analysis/notebooks/metrics/lib/python3.11/site-packages/lars/apache.py:741: ApacheWarning: Line 28548: Line contains invalid data\n",
      "  warnings.warn(\n",
      "/home/katscott/Code/ros_metrics_analysis/notebooks/metrics/lib/python3.11/site-packages/lars/apache.py:741: ApacheWarning: Line 28550: Line contains invalid data\n",
      "  warnings.warn(\n",
      "/home/katscott/Code/ros_metrics_analysis/notebooks/metrics/lib/python3.11/site-packages/lars/apache.py:741: ApacheWarning: Line 28553: Line contains invalid data\n",
      "  warnings.warn(\n",
      "/home/katscott/Code/ros_metrics_analysis/notebooks/metrics/lib/python3.11/site-packages/lars/apache.py:741: ApacheWarning: Line 28554: Line contains invalid data\n",
      "  warnings.warn(\n",
      "/home/katscott/Code/ros_metrics_analysis/notebooks/metrics/lib/python3.11/site-packages/lars/apache.py:741: ApacheWarning: Line 28557: Line contains invalid data\n",
      "  warnings.warn(\n",
      "/home/katscott/Code/ros_metrics_analysis/notebooks/metrics/lib/python3.11/site-packages/lars/apache.py:741: ApacheWarning: Line 28558: Line contains invalid data\n",
      "  warnings.warn(\n",
      "/home/katscott/Code/ros_metrics_analysis/notebooks/metrics/lib/python3.11/site-packages/lars/apache.py:741: ApacheWarning: Line 28559: Line contains invalid data\n",
      "  warnings.warn(\n",
      "/home/katscott/Code/ros_metrics_analysis/notebooks/metrics/lib/python3.11/site-packages/lars/apache.py:741: ApacheWarning: Line 28562: Line contains invalid data\n",
      "  warnings.warn(\n",
      "/home/katscott/Code/ros_metrics_analysis/notebooks/metrics/lib/python3.11/site-packages/lars/apache.py:741: ApacheWarning: Line 28564: Line contains invalid data\n",
      "  warnings.warn(\n",
      "/home/katscott/Code/ros_metrics_analysis/notebooks/metrics/lib/python3.11/site-packages/lars/apache.py:741: ApacheWarning: Line 28565: Line contains invalid data\n",
      "  warnings.warn(\n",
      "/home/katscott/Code/ros_metrics_analysis/notebooks/metrics/lib/python3.11/site-packages/lars/apache.py:741: ApacheWarning: Line 28568: Line contains invalid data\n",
      "  warnings.warn(\n",
      "/home/katscott/Code/ros_metrics_analysis/notebooks/metrics/lib/python3.11/site-packages/lars/apache.py:741: ApacheWarning: Line 28569: Line contains invalid data\n",
      "  warnings.warn(\n",
      "/home/katscott/Code/ros_metrics_analysis/notebooks/metrics/lib/python3.11/site-packages/lars/apache.py:741: ApacheWarning: Line 28572: Line contains invalid data\n",
      "  warnings.warn(\n",
      "/home/katscott/Code/ros_metrics_analysis/notebooks/metrics/lib/python3.11/site-packages/lars/apache.py:741: ApacheWarning: Line 28576: Line contains invalid data\n",
      "  warnings.warn(\n",
      "/home/katscott/Code/ros_metrics_analysis/notebooks/metrics/lib/python3.11/site-packages/lars/apache.py:741: ApacheWarning: Line 28581: Line contains invalid data\n",
      "  warnings.warn(\n",
      "/home/katscott/Code/ros_metrics_analysis/notebooks/metrics/lib/python3.11/site-packages/lars/apache.py:741: ApacheWarning: Line 28583: Line contains invalid data\n",
      "  warnings.warn(\n",
      "/home/katscott/Code/ros_metrics_analysis/notebooks/metrics/lib/python3.11/site-packages/lars/apache.py:741: ApacheWarning: Line 28585: Line contains invalid data\n",
      "  warnings.warn(\n",
      "/home/katscott/Code/ros_metrics_analysis/notebooks/metrics/lib/python3.11/site-packages/lars/apache.py:741: ApacheWarning: Line 28589: Line contains invalid data\n",
      "  warnings.warn(\n",
      "/home/katscott/Code/ros_metrics_analysis/notebooks/metrics/lib/python3.11/site-packages/lars/apache.py:741: ApacheWarning: Line 28590: Line contains invalid data\n",
      "  warnings.warn(\n",
      "/home/katscott/Code/ros_metrics_analysis/notebooks/metrics/lib/python3.11/site-packages/lars/apache.py:741: ApacheWarning: Line 28592: Line contains invalid data\n",
      "  warnings.warn(\n",
      "/home/katscott/Code/ros_metrics_analysis/notebooks/metrics/lib/python3.11/site-packages/lars/apache.py:741: ApacheWarning: Line 28596: Line contains invalid data\n",
      "  warnings.warn(\n",
      "/home/katscott/Code/ros_metrics_analysis/notebooks/metrics/lib/python3.11/site-packages/lars/apache.py:741: ApacheWarning: Line 28618: Line contains invalid data\n",
      "  warnings.warn(\n",
      "/home/katscott/Code/ros_metrics_analysis/notebooks/metrics/lib/python3.11/site-packages/lars/apache.py:741: ApacheWarning: Line 28625: Line contains invalid data\n",
      "  warnings.warn(\n",
      "/home/katscott/Code/ros_metrics_analysis/notebooks/metrics/lib/python3.11/site-packages/lars/apache.py:741: ApacheWarning: Line 28644: Line contains invalid data\n",
      "  warnings.warn(\n",
      "/home/katscott/Code/ros_metrics_analysis/notebooks/metrics/lib/python3.11/site-packages/lars/apache.py:741: ApacheWarning: Line 28648: Line contains invalid data\n",
      "  warnings.warn(\n",
      "/home/katscott/Code/ros_metrics_analysis/notebooks/metrics/lib/python3.11/site-packages/lars/apache.py:741: ApacheWarning: Line 28700: Line contains invalid data\n",
      "  warnings.warn(\n",
      "/home/katscott/Code/ros_metrics_analysis/notebooks/metrics/lib/python3.11/site-packages/lars/apache.py:741: ApacheWarning: Line 28703: Line contains invalid data\n",
      "  warnings.warn(\n",
      "/home/katscott/Code/ros_metrics_analysis/notebooks/metrics/lib/python3.11/site-packages/lars/apache.py:741: ApacheWarning: Line 28707: Line contains invalid data\n",
      "  warnings.warn(\n",
      "/home/katscott/Code/ros_metrics_analysis/notebooks/metrics/lib/python3.11/site-packages/lars/apache.py:741: ApacheWarning: Line 31484: Line contains invalid data\n",
      "  warnings.warn(\n"
     ]
    },
    {
     "name": "stdout",
     "output_type": "stream",
     "text": [
      ".\n",
      ".\n",
      ".\n"
     ]
    },
    {
     "name": "stderr",
     "output_type": "stream",
     "text": [
      "/home/katscott/Code/ros_metrics_analysis/notebooks/metrics/lib/python3.11/site-packages/lars/apache.py:741: ApacheWarning: Line 33050: Line contains invalid data\n",
      "  warnings.warn(\n",
      "/home/katscott/Code/ros_metrics_analysis/notebooks/metrics/lib/python3.11/site-packages/lars/apache.py:741: ApacheWarning: Line 35544: Line contains invalid data\n",
      "  warnings.warn(\n",
      "/home/katscott/Code/ros_metrics_analysis/notebooks/metrics/lib/python3.11/site-packages/lars/apache.py:741: ApacheWarning: Line 35545: Line contains invalid data\n",
      "  warnings.warn(\n",
      "/home/katscott/Code/ros_metrics_analysis/notebooks/metrics/lib/python3.11/site-packages/lars/apache.py:741: ApacheWarning: Line 35546: Line contains invalid data\n",
      "  warnings.warn(\n",
      "/home/katscott/Code/ros_metrics_analysis/notebooks/metrics/lib/python3.11/site-packages/lars/apache.py:741: ApacheWarning: Line 39426: Line contains invalid data\n",
      "  warnings.warn(\n",
      "/home/katscott/Code/ros_metrics_analysis/notebooks/metrics/lib/python3.11/site-packages/lars/apache.py:741: ApacheWarning: Line 39427: Line contains invalid data\n",
      "  warnings.warn(\n",
      "/home/katscott/Code/ros_metrics_analysis/notebooks/metrics/lib/python3.11/site-packages/lars/apache.py:741: ApacheWarning: Line 39428: Line contains invalid data\n",
      "  warnings.warn(\n",
      "/home/katscott/Code/ros_metrics_analysis/notebooks/metrics/lib/python3.11/site-packages/lars/apache.py:741: ApacheWarning: Line 39429: Line contains invalid data\n",
      "  warnings.warn(\n",
      "/home/katscott/Code/ros_metrics_analysis/notebooks/metrics/lib/python3.11/site-packages/lars/apache.py:741: ApacheWarning: Line 39454: Line contains invalid data\n",
      "  warnings.warn(\n",
      "/home/katscott/Code/ros_metrics_analysis/notebooks/metrics/lib/python3.11/site-packages/lars/apache.py:741: ApacheWarning: Line 39661: Line contains invalid data\n",
      "  warnings.warn(\n"
     ]
    },
    {
     "name": "stdout",
     "output_type": "stream",
     "text": [
      ".\n",
      ".\n",
      ".\n",
      ".\n"
     ]
    },
    {
     "name": "stderr",
     "output_type": "stream",
     "text": [
      "/home/katscott/Code/ros_metrics_analysis/notebooks/metrics/lib/python3.11/site-packages/lars/apache.py:741: ApacheWarning: Line 51953: Line contains invalid data\n",
      "  warnings.warn(\n",
      "/home/katscott/Code/ros_metrics_analysis/notebooks/metrics/lib/python3.11/site-packages/lars/apache.py:741: ApacheWarning: Line 52528: Line contains invalid data\n",
      "  warnings.warn(\n",
      "/home/katscott/Code/ros_metrics_analysis/notebooks/metrics/lib/python3.11/site-packages/lars/apache.py:741: ApacheWarning: Line 52551: Line contains invalid data\n",
      "  warnings.warn(\n",
      "/home/katscott/Code/ros_metrics_analysis/notebooks/metrics/lib/python3.11/site-packages/lars/apache.py:741: ApacheWarning: Line 52553: Line contains invalid data\n",
      "  warnings.warn(\n",
      "/home/katscott/Code/ros_metrics_analysis/notebooks/metrics/lib/python3.11/site-packages/lars/apache.py:741: ApacheWarning: Line 56257: Line contains invalid data\n",
      "  warnings.warn(\n",
      "/home/katscott/Code/ros_metrics_analysis/notebooks/metrics/lib/python3.11/site-packages/lars/apache.py:741: ApacheWarning: Line 67604: Line contains invalid data\n",
      "  warnings.warn(\n",
      "/home/katscott/Code/ros_metrics_analysis/notebooks/metrics/lib/python3.11/site-packages/lars/apache.py:741: ApacheWarning: Line 71609: Line contains invalid data\n",
      "  warnings.warn(\n"
     ]
    },
    {
     "name": "stdout",
     "output_type": "stream",
     "text": [
      ".\n",
      ".\n",
      ".\n",
      ".\n"
     ]
    },
    {
     "name": "stderr",
     "output_type": "stream",
     "text": [
      "/home/katscott/Code/ros_metrics_analysis/notebooks/metrics/lib/python3.11/site-packages/lars/apache.py:741: ApacheWarning: Line 111060: Line contains invalid data\n",
      "  warnings.warn(\n",
      "/home/katscott/Code/ros_metrics_analysis/notebooks/metrics/lib/python3.11/site-packages/lars/apache.py:741: ApacheWarning: Line 111061: Line contains invalid data\n",
      "  warnings.warn(\n",
      "/home/katscott/Code/ros_metrics_analysis/notebooks/metrics/lib/python3.11/site-packages/lars/apache.py:741: ApacheWarning: Line 112773: Line contains invalid data\n",
      "  warnings.warn(\n",
      "/home/katscott/Code/ros_metrics_analysis/notebooks/metrics/lib/python3.11/site-packages/lars/apache.py:741: ApacheWarning: Line 112774: Line contains invalid data\n",
      "  warnings.warn(\n",
      "/home/katscott/Code/ros_metrics_analysis/notebooks/metrics/lib/python3.11/site-packages/lars/apache.py:741: ApacheWarning: Line 115187: Line contains invalid data\n",
      "  warnings.warn(\n",
      "/home/katscott/Code/ros_metrics_analysis/notebooks/metrics/lib/python3.11/site-packages/lars/apache.py:741: ApacheWarning: Line 115188: Line contains invalid data\n",
      "  warnings.warn(\n",
      "/home/katscott/Code/ros_metrics_analysis/notebooks/metrics/lib/python3.11/site-packages/lars/apache.py:741: ApacheWarning: Line 115189: Line contains invalid data\n",
      "  warnings.warn(\n",
      "/home/katscott/Code/ros_metrics_analysis/notebooks/metrics/lib/python3.11/site-packages/lars/apache.py:741: ApacheWarning: Line 115190: Line contains invalid data\n",
      "  warnings.warn(\n",
      "/home/katscott/Code/ros_metrics_analysis/notebooks/metrics/lib/python3.11/site-packages/lars/apache.py:741: ApacheWarning: Line 115191: Line contains invalid data\n",
      "  warnings.warn(\n",
      "/home/katscott/Code/ros_metrics_analysis/notebooks/metrics/lib/python3.11/site-packages/lars/apache.py:741: ApacheWarning: Line 115216: Line contains invalid data\n",
      "  warnings.warn(\n"
     ]
    },
    {
     "name": "stdout",
     "output_type": "stream",
     "text": [
      "./temp/packages-logs/apt-access.log.27\n",
      ".\n",
      ".\n"
     ]
    },
    {
     "name": "stderr",
     "output_type": "stream",
     "text": [
      "/home/katscott/Code/ros_metrics_analysis/notebooks/metrics/lib/python3.11/site-packages/lars/apache.py:741: ApacheWarning: Line 19258: Line contains invalid data\n",
      "  warnings.warn(\n",
      "/home/katscott/Code/ros_metrics_analysis/notebooks/metrics/lib/python3.11/site-packages/lars/apache.py:741: ApacheWarning: Line 19259: Line contains invalid data\n",
      "  warnings.warn(\n",
      "/home/katscott/Code/ros_metrics_analysis/notebooks/metrics/lib/python3.11/site-packages/lars/apache.py:741: ApacheWarning: Line 20099: Line contains invalid data\n",
      "  warnings.warn(\n",
      "/home/katscott/Code/ros_metrics_analysis/notebooks/metrics/lib/python3.11/site-packages/lars/apache.py:741: ApacheWarning: Line 21335: Line contains invalid data\n",
      "  warnings.warn(\n",
      "/home/katscott/Code/ros_metrics_analysis/notebooks/metrics/lib/python3.11/site-packages/lars/apache.py:741: ApacheWarning: Line 21336: Line contains invalid data\n",
      "  warnings.warn(\n",
      "/home/katscott/Code/ros_metrics_analysis/notebooks/metrics/lib/python3.11/site-packages/lars/apache.py:741: ApacheWarning: Line 21337: Line contains invalid data\n",
      "  warnings.warn(\n",
      "/home/katscott/Code/ros_metrics_analysis/notebooks/metrics/lib/python3.11/site-packages/lars/apache.py:741: ApacheWarning: Line 21338: Line contains invalid data\n",
      "  warnings.warn(\n",
      "/home/katscott/Code/ros_metrics_analysis/notebooks/metrics/lib/python3.11/site-packages/lars/apache.py:741: ApacheWarning: Line 21339: Line contains invalid data\n",
      "  warnings.warn(\n",
      "/home/katscott/Code/ros_metrics_analysis/notebooks/metrics/lib/python3.11/site-packages/lars/apache.py:741: ApacheWarning: Line 21340: Line contains invalid data\n",
      "  warnings.warn(\n",
      "/home/katscott/Code/ros_metrics_analysis/notebooks/metrics/lib/python3.11/site-packages/lars/apache.py:741: ApacheWarning: Line 25306: Line contains invalid data\n",
      "  warnings.warn(\n",
      "/home/katscott/Code/ros_metrics_analysis/notebooks/metrics/lib/python3.11/site-packages/lars/apache.py:741: ApacheWarning: Line 26910: Line contains invalid data\n",
      "  warnings.warn(\n",
      "/home/katscott/Code/ros_metrics_analysis/notebooks/metrics/lib/python3.11/site-packages/lars/apache.py:741: ApacheWarning: Line 32838: Line contains invalid data\n",
      "  warnings.warn(\n",
      "/home/katscott/Code/ros_metrics_analysis/notebooks/metrics/lib/python3.11/site-packages/lars/apache.py:741: ApacheWarning: Line 44393: Line contains invalid data\n",
      "  warnings.warn(\n",
      "/home/katscott/Code/ros_metrics_analysis/notebooks/metrics/lib/python3.11/site-packages/lars/apache.py:741: ApacheWarning: Line 44394: Line contains invalid data\n",
      "  warnings.warn(\n",
      "/home/katscott/Code/ros_metrics_analysis/notebooks/metrics/lib/python3.11/site-packages/lars/apache.py:741: ApacheWarning: Line 48498: Line contains invalid data\n",
      "  warnings.warn(\n",
      "/home/katscott/Code/ros_metrics_analysis/notebooks/metrics/lib/python3.11/site-packages/lars/apache.py:741: ApacheWarning: Line 48809: Line contains invalid data\n",
      "  warnings.warn(\n",
      "/home/katscott/Code/ros_metrics_analysis/notebooks/metrics/lib/python3.11/site-packages/lars/apache.py:741: ApacheWarning: Line 50037: Line contains invalid data\n",
      "  warnings.warn(\n"
     ]
    },
    {
     "name": "stdout",
     "output_type": "stream",
     "text": [
      ".\n",
      ".\n",
      ".\n",
      ".\n"
     ]
    },
    {
     "name": "stderr",
     "output_type": "stream",
     "text": [
      "/home/katscott/Code/ros_metrics_analysis/notebooks/metrics/lib/python3.11/site-packages/lars/apache.py:741: ApacheWarning: Line 57952: Line contains invalid data\n",
      "  warnings.warn(\n",
      "/home/katscott/Code/ros_metrics_analysis/notebooks/metrics/lib/python3.11/site-packages/lars/apache.py:741: ApacheWarning: Line 58115: Line contains invalid data\n",
      "  warnings.warn(\n",
      "/home/katscott/Code/ros_metrics_analysis/notebooks/metrics/lib/python3.11/site-packages/lars/apache.py:741: ApacheWarning: Line 59925: Line contains invalid data\n",
      "  warnings.warn(\n",
      "/home/katscott/Code/ros_metrics_analysis/notebooks/metrics/lib/python3.11/site-packages/lars/apache.py:741: ApacheWarning: Line 71493: Line contains invalid data\n",
      "  warnings.warn(\n",
      "/home/katscott/Code/ros_metrics_analysis/notebooks/metrics/lib/python3.11/site-packages/lars/apache.py:741: ApacheWarning: Line 72723: Line contains invalid data\n",
      "  warnings.warn(\n",
      "/home/katscott/Code/ros_metrics_analysis/notebooks/metrics/lib/python3.11/site-packages/lars/apache.py:741: ApacheWarning: Line 72836: Line contains invalid data\n",
      "  warnings.warn(\n"
     ]
    },
    {
     "name": "stdout",
     "output_type": "stream",
     "text": [
      ".\n",
      ".\n",
      ".\n"
     ]
    },
    {
     "name": "stderr",
     "output_type": "stream",
     "text": [
      "/home/katscott/Code/ros_metrics_analysis/notebooks/metrics/lib/python3.11/site-packages/lars/apache.py:741: ApacheWarning: Line 96773: Line contains invalid data\n",
      "  warnings.warn(\n",
      "/home/katscott/Code/ros_metrics_analysis/notebooks/metrics/lib/python3.11/site-packages/lars/apache.py:741: ApacheWarning: Line 96812: Line contains invalid data\n",
      "  warnings.warn(\n",
      "/home/katscott/Code/ros_metrics_analysis/notebooks/metrics/lib/python3.11/site-packages/lars/apache.py:741: ApacheWarning: Line 96855: Line contains invalid data\n",
      "  warnings.warn(\n",
      "/home/katscott/Code/ros_metrics_analysis/notebooks/metrics/lib/python3.11/site-packages/lars/apache.py:741: ApacheWarning: Line 96912: Line contains invalid data\n",
      "  warnings.warn(\n",
      "/home/katscott/Code/ros_metrics_analysis/notebooks/metrics/lib/python3.11/site-packages/lars/apache.py:741: ApacheWarning: Line 96961: Line contains invalid data\n",
      "  warnings.warn(\n",
      "/home/katscott/Code/ros_metrics_analysis/notebooks/metrics/lib/python3.11/site-packages/lars/apache.py:741: ApacheWarning: Line 106029: Line contains invalid data\n",
      "  warnings.warn(\n",
      "/home/katscott/Code/ros_metrics_analysis/notebooks/metrics/lib/python3.11/site-packages/lars/apache.py:741: ApacheWarning: Line 106030: Line contains invalid data\n",
      "  warnings.warn(\n",
      "/home/katscott/Code/ros_metrics_analysis/notebooks/metrics/lib/python3.11/site-packages/lars/apache.py:741: ApacheWarning: Line 111695: Line contains invalid data\n",
      "  warnings.warn(\n",
      "/home/katscott/Code/ros_metrics_analysis/notebooks/metrics/lib/python3.11/site-packages/lars/apache.py:741: ApacheWarning: Line 111696: Line contains invalid data\n",
      "  warnings.warn(\n",
      "/home/katscott/Code/ros_metrics_analysis/notebooks/metrics/lib/python3.11/site-packages/lars/apache.py:741: ApacheWarning: Line 111697: Line contains invalid data\n",
      "  warnings.warn(\n",
      "/home/katscott/Code/ros_metrics_analysis/notebooks/metrics/lib/python3.11/site-packages/lars/apache.py:741: ApacheWarning: Line 111698: Line contains invalid data\n",
      "  warnings.warn(\n",
      "/home/katscott/Code/ros_metrics_analysis/notebooks/metrics/lib/python3.11/site-packages/lars/apache.py:741: ApacheWarning: Line 111699: Line contains invalid data\n",
      "  warnings.warn(\n",
      "/home/katscott/Code/ros_metrics_analysis/notebooks/metrics/lib/python3.11/site-packages/lars/apache.py:741: ApacheWarning: Line 111725: Line contains invalid data\n",
      "  warnings.warn(\n",
      "/home/katscott/Code/ros_metrics_analysis/notebooks/metrics/lib/python3.11/site-packages/lars/apache.py:741: ApacheWarning: Line 112733: Line contains invalid data\n",
      "  warnings.warn(\n",
      "/home/katscott/Code/ros_metrics_analysis/notebooks/metrics/lib/python3.11/site-packages/lars/apache.py:741: ApacheWarning: Line 118186: Line contains invalid data\n",
      "  warnings.warn(\n",
      "/home/katscott/Code/ros_metrics_analysis/notebooks/metrics/lib/python3.11/site-packages/lars/apache.py:741: ApacheWarning: Line 118187: Line contains invalid data\n",
      "  warnings.warn(\n",
      "/home/katscott/Code/ros_metrics_analysis/notebooks/metrics/lib/python3.11/site-packages/lars/apache.py:741: ApacheWarning: Line 118191: Line contains invalid data\n",
      "  warnings.warn(\n",
      "/home/katscott/Code/ros_metrics_analysis/notebooks/metrics/lib/python3.11/site-packages/lars/apache.py:741: ApacheWarning: Line 180: Line contains invalid data\n",
      "  warnings.warn(\n",
      "/home/katscott/Code/ros_metrics_analysis/notebooks/metrics/lib/python3.11/site-packages/lars/apache.py:741: ApacheWarning: Line 745: Line contains invalid data\n",
      "  warnings.warn(\n"
     ]
    },
    {
     "name": "stdout",
     "output_type": "stream",
     "text": [
      ".\n",
      ".\n",
      ".\n",
      "./temp/packages-logs/apt-access.log.28\n",
      ".\n",
      ".\n",
      ".\n",
      ".\n",
      ".\n",
      ".\n",
      ".\n"
     ]
    },
    {
     "name": "stderr",
     "output_type": "stream",
     "text": [
      "/home/katscott/Code/ros_metrics_analysis/notebooks/metrics/lib/python3.11/site-packages/lars/apache.py:741: ApacheWarning: Line 11836: Line contains invalid data\n",
      "  warnings.warn(\n",
      "/home/katscott/Code/ros_metrics_analysis/notebooks/metrics/lib/python3.11/site-packages/lars/apache.py:741: ApacheWarning: Line 16017: Line contains invalid data\n",
      "  warnings.warn(\n",
      "/home/katscott/Code/ros_metrics_analysis/notebooks/metrics/lib/python3.11/site-packages/lars/apache.py:741: ApacheWarning: Line 16018: Line contains invalid data\n",
      "  warnings.warn(\n",
      "/home/katscott/Code/ros_metrics_analysis/notebooks/metrics/lib/python3.11/site-packages/lars/apache.py:741: ApacheWarning: Line 20184: Line contains invalid data\n",
      "  warnings.warn(\n",
      "/home/katscott/Code/ros_metrics_analysis/notebooks/metrics/lib/python3.11/site-packages/lars/apache.py:741: ApacheWarning: Line 25558: Line contains invalid data\n",
      "  warnings.warn(\n",
      "/home/katscott/Code/ros_metrics_analysis/notebooks/metrics/lib/python3.11/site-packages/lars/apache.py:741: ApacheWarning: Line 26224: Line contains invalid data\n",
      "  warnings.warn(\n",
      "/home/katscott/Code/ros_metrics_analysis/notebooks/metrics/lib/python3.11/site-packages/lars/apache.py:741: ApacheWarning: Line 32763: Line contains invalid data\n",
      "  warnings.warn(\n",
      "/home/katscott/Code/ros_metrics_analysis/notebooks/metrics/lib/python3.11/site-packages/lars/apache.py:741: ApacheWarning: Line 32764: Line contains invalid data\n",
      "  warnings.warn(\n",
      "/home/katscott/Code/ros_metrics_analysis/notebooks/metrics/lib/python3.11/site-packages/lars/apache.py:741: ApacheWarning: Line 36538: Line contains invalid data\n",
      "  warnings.warn(\n",
      "/home/katscott/Code/ros_metrics_analysis/notebooks/metrics/lib/python3.11/site-packages/lars/apache.py:741: ApacheWarning: Line 40492: Line contains invalid data\n",
      "  warnings.warn(\n",
      "/home/katscott/Code/ros_metrics_analysis/notebooks/metrics/lib/python3.11/site-packages/lars/apache.py:741: ApacheWarning: Line 46950: Line contains invalid data\n",
      "  warnings.warn(\n",
      "/home/katscott/Code/ros_metrics_analysis/notebooks/metrics/lib/python3.11/site-packages/lars/apache.py:741: ApacheWarning: Line 46953: Line contains invalid data\n",
      "  warnings.warn(\n",
      "/home/katscott/Code/ros_metrics_analysis/notebooks/metrics/lib/python3.11/site-packages/lars/apache.py:741: ApacheWarning: Line 46954: Line contains invalid data\n",
      "  warnings.warn(\n",
      "/home/katscott/Code/ros_metrics_analysis/notebooks/metrics/lib/python3.11/site-packages/lars/apache.py:741: ApacheWarning: Line 46955: Line contains invalid data\n",
      "  warnings.warn(\n",
      "/home/katscott/Code/ros_metrics_analysis/notebooks/metrics/lib/python3.11/site-packages/lars/apache.py:741: ApacheWarning: Line 46956: Line contains invalid data\n",
      "  warnings.warn(\n",
      "/home/katscott/Code/ros_metrics_analysis/notebooks/metrics/lib/python3.11/site-packages/lars/apache.py:741: ApacheWarning: Line 46958: Line contains invalid data\n",
      "  warnings.warn(\n",
      "/home/katscott/Code/ros_metrics_analysis/notebooks/metrics/lib/python3.11/site-packages/lars/apache.py:741: ApacheWarning: Line 47923: Line contains invalid data\n",
      "  warnings.warn(\n",
      "/home/katscott/Code/ros_metrics_analysis/notebooks/metrics/lib/python3.11/site-packages/lars/apache.py:741: ApacheWarning: Line 48026: Line contains invalid data\n",
      "  warnings.warn(\n",
      "/home/katscott/Code/ros_metrics_analysis/notebooks/metrics/lib/python3.11/site-packages/lars/apache.py:741: ApacheWarning: Line 49530: Line contains invalid data\n",
      "  warnings.warn(\n",
      "/home/katscott/Code/ros_metrics_analysis/notebooks/metrics/lib/python3.11/site-packages/lars/apache.py:741: ApacheWarning: Line 62380: Line contains invalid data\n",
      "  warnings.warn(\n",
      "/home/katscott/Code/ros_metrics_analysis/notebooks/metrics/lib/python3.11/site-packages/lars/apache.py:741: ApacheWarning: Line 71296: Line contains invalid data\n",
      "  warnings.warn(\n"
     ]
    },
    {
     "name": "stdout",
     "output_type": "stream",
     "text": [
      ".\n",
      ".\n",
      ".\n",
      ".\n"
     ]
    },
    {
     "name": "stderr",
     "output_type": "stream",
     "text": [
      "/home/katscott/Code/ros_metrics_analysis/notebooks/metrics/lib/python3.11/site-packages/lars/apache.py:741: ApacheWarning: Line 91459: Line contains invalid data\n",
      "  warnings.warn(\n",
      "/home/katscott/Code/ros_metrics_analysis/notebooks/metrics/lib/python3.11/site-packages/lars/apache.py:741: ApacheWarning: Line 99339: Line contains invalid data\n",
      "  warnings.warn(\n",
      "/home/katscott/Code/ros_metrics_analysis/notebooks/metrics/lib/python3.11/site-packages/lars/apache.py:741: ApacheWarning: Line 99839: Line contains invalid data\n",
      "  warnings.warn(\n",
      "/home/katscott/Code/ros_metrics_analysis/notebooks/metrics/lib/python3.11/site-packages/lars/apache.py:741: ApacheWarning: Line 99840: Line contains invalid data\n",
      "  warnings.warn(\n",
      "/home/katscott/Code/ros_metrics_analysis/notebooks/metrics/lib/python3.11/site-packages/lars/apache.py:741: ApacheWarning: Line 107227: Line contains invalid data\n",
      "  warnings.warn(\n",
      "/home/katscott/Code/ros_metrics_analysis/notebooks/metrics/lib/python3.11/site-packages/lars/apache.py:741: ApacheWarning: Line 107228: Line contains invalid data\n",
      "  warnings.warn(\n",
      "/home/katscott/Code/ros_metrics_analysis/notebooks/metrics/lib/python3.11/site-packages/lars/apache.py:741: ApacheWarning: Line 107229: Line contains invalid data\n",
      "  warnings.warn(\n",
      "/home/katscott/Code/ros_metrics_analysis/notebooks/metrics/lib/python3.11/site-packages/lars/apache.py:741: ApacheWarning: Line 107230: Line contains invalid data\n",
      "  warnings.warn(\n",
      "/home/katscott/Code/ros_metrics_analysis/notebooks/metrics/lib/python3.11/site-packages/lars/apache.py:741: ApacheWarning: Line 107231: Line contains invalid data\n",
      "  warnings.warn(\n",
      "/home/katscott/Code/ros_metrics_analysis/notebooks/metrics/lib/python3.11/site-packages/lars/apache.py:741: ApacheWarning: Line 107232: Line contains invalid data\n",
      "  warnings.warn(\n",
      "/home/katscott/Code/ros_metrics_analysis/notebooks/metrics/lib/python3.11/site-packages/lars/apache.py:741: ApacheWarning: Line 107233: Line contains invalid data\n",
      "  warnings.warn(\n",
      "/home/katscott/Code/ros_metrics_analysis/notebooks/metrics/lib/python3.11/site-packages/lars/apache.py:741: ApacheWarning: Line 107234: Line contains invalid data\n",
      "  warnings.warn(\n",
      "/home/katscott/Code/ros_metrics_analysis/notebooks/metrics/lib/python3.11/site-packages/lars/apache.py:741: ApacheWarning: Line 107235: Line contains invalid data\n",
      "  warnings.warn(\n",
      "/home/katscott/Code/ros_metrics_analysis/notebooks/metrics/lib/python3.11/site-packages/lars/apache.py:741: ApacheWarning: Line 107236: Line contains invalid data\n",
      "  warnings.warn(\n",
      "/home/katscott/Code/ros_metrics_analysis/notebooks/metrics/lib/python3.11/site-packages/lars/apache.py:741: ApacheWarning: Line 107237: Line contains invalid data\n",
      "  warnings.warn(\n",
      "/home/katscott/Code/ros_metrics_analysis/notebooks/metrics/lib/python3.11/site-packages/lars/apache.py:741: ApacheWarning: Line 107293: Line contains invalid data\n",
      "  warnings.warn(\n",
      "/home/katscott/Code/ros_metrics_analysis/notebooks/metrics/lib/python3.11/site-packages/lars/apache.py:741: ApacheWarning: Line 107294: Line contains invalid data\n",
      "  warnings.warn(\n",
      "/home/katscott/Code/ros_metrics_analysis/notebooks/metrics/lib/python3.11/site-packages/lars/apache.py:741: ApacheWarning: Line 107418: Line contains invalid data\n",
      "  warnings.warn(\n",
      "/home/katscott/Code/ros_metrics_analysis/notebooks/metrics/lib/python3.11/site-packages/lars/apache.py:741: ApacheWarning: Line 107420: Line contains invalid data\n",
      "  warnings.warn(\n",
      "/home/katscott/Code/ros_metrics_analysis/notebooks/metrics/lib/python3.11/site-packages/lars/apache.py:741: ApacheWarning: Line 107421: Line contains invalid data\n",
      "  warnings.warn(\n",
      "/home/katscott/Code/ros_metrics_analysis/notebooks/metrics/lib/python3.11/site-packages/lars/apache.py:741: ApacheWarning: Line 107422: Line contains invalid data\n",
      "  warnings.warn(\n",
      "/home/katscott/Code/ros_metrics_analysis/notebooks/metrics/lib/python3.11/site-packages/lars/apache.py:741: ApacheWarning: Line 107423: Line contains invalid data\n",
      "  warnings.warn(\n",
      "/home/katscott/Code/ros_metrics_analysis/notebooks/metrics/lib/python3.11/site-packages/lars/apache.py:741: ApacheWarning: Line 107449: Line contains invalid data\n",
      "  warnings.warn(\n",
      "/home/katscott/Code/ros_metrics_analysis/notebooks/metrics/lib/python3.11/site-packages/lars/apache.py:741: ApacheWarning: Line 109034: Line contains invalid data\n",
      "  warnings.warn(\n",
      "/home/katscott/Code/ros_metrics_analysis/notebooks/metrics/lib/python3.11/site-packages/lars/apache.py:741: ApacheWarning: Line 109035: Line contains invalid data\n",
      "  warnings.warn(\n",
      "/home/katscott/Code/ros_metrics_analysis/notebooks/metrics/lib/python3.11/site-packages/lars/apache.py:741: ApacheWarning: Line 109524: Line contains invalid data\n",
      "  warnings.warn(\n",
      "/home/katscott/Code/ros_metrics_analysis/notebooks/metrics/lib/python3.11/site-packages/lars/apache.py:741: ApacheWarning: Line 115875: Line contains invalid data\n",
      "  warnings.warn(\n",
      "/home/katscott/Code/ros_metrics_analysis/notebooks/metrics/lib/python3.11/site-packages/lars/apache.py:741: ApacheWarning: Line 115876: Line contains invalid data\n",
      "  warnings.warn(\n",
      "/home/katscott/Code/ros_metrics_analysis/notebooks/metrics/lib/python3.11/site-packages/lars/apache.py:741: ApacheWarning: Line 115993: Line contains invalid data\n",
      "  warnings.warn(\n",
      "/home/katscott/Code/ros_metrics_analysis/notebooks/metrics/lib/python3.11/site-packages/lars/apache.py:741: ApacheWarning: Line 120058: Line contains invalid data\n",
      "  warnings.warn(\n",
      "/home/katscott/Code/ros_metrics_analysis/notebooks/metrics/lib/python3.11/site-packages/lars/apache.py:741: ApacheWarning: Line 3877: Line contains invalid data\n",
      "  warnings.warn(\n",
      "/home/katscott/Code/ros_metrics_analysis/notebooks/metrics/lib/python3.11/site-packages/lars/apache.py:741: ApacheWarning: Line 6077: Line contains invalid data\n",
      "  warnings.warn(\n",
      "/home/katscott/Code/ros_metrics_analysis/notebooks/metrics/lib/python3.11/site-packages/lars/apache.py:741: ApacheWarning: Line 7679: Line contains invalid data\n",
      "  warnings.warn(\n"
     ]
    },
    {
     "name": "stdout",
     "output_type": "stream",
     "text": [
      ".\n",
      "./temp/packages-logs/apt-access.log.29\n",
      ".\n"
     ]
    },
    {
     "name": "stderr",
     "output_type": "stream",
     "text": [
      "/home/katscott/Code/ros_metrics_analysis/notebooks/metrics/lib/python3.11/site-packages/lars/apache.py:741: ApacheWarning: Line 15017: Line contains invalid data\n",
      "  warnings.warn(\n",
      "/home/katscott/Code/ros_metrics_analysis/notebooks/metrics/lib/python3.11/site-packages/lars/apache.py:741: ApacheWarning: Line 17100: Line contains invalid data\n",
      "  warnings.warn(\n",
      "/home/katscott/Code/ros_metrics_analysis/notebooks/metrics/lib/python3.11/site-packages/lars/apache.py:741: ApacheWarning: Line 18148: Line contains invalid data\n",
      "  warnings.warn(\n",
      "/home/katscott/Code/ros_metrics_analysis/notebooks/metrics/lib/python3.11/site-packages/lars/apache.py:741: ApacheWarning: Line 18149: Line contains invalid data\n",
      "  warnings.warn(\n",
      "/home/katscott/Code/ros_metrics_analysis/notebooks/metrics/lib/python3.11/site-packages/lars/apache.py:741: ApacheWarning: Line 18869: Line contains invalid data\n",
      "  warnings.warn(\n",
      "/home/katscott/Code/ros_metrics_analysis/notebooks/metrics/lib/python3.11/site-packages/lars/apache.py:741: ApacheWarning: Line 19464: Line contains invalid data\n",
      "  warnings.warn(\n",
      "/home/katscott/Code/ros_metrics_analysis/notebooks/metrics/lib/python3.11/site-packages/lars/apache.py:741: ApacheWarning: Line 19465: Line contains invalid data\n",
      "  warnings.warn(\n",
      "/home/katscott/Code/ros_metrics_analysis/notebooks/metrics/lib/python3.11/site-packages/lars/apache.py:741: ApacheWarning: Line 19466: Line contains invalid data\n",
      "  warnings.warn(\n",
      "/home/katscott/Code/ros_metrics_analysis/notebooks/metrics/lib/python3.11/site-packages/lars/apache.py:741: ApacheWarning: Line 19467: Line contains invalid data\n",
      "  warnings.warn(\n",
      "/home/katscott/Code/ros_metrics_analysis/notebooks/metrics/lib/python3.11/site-packages/lars/apache.py:741: ApacheWarning: Line 19468: Line contains invalid data\n",
      "  warnings.warn(\n",
      "/home/katscott/Code/ros_metrics_analysis/notebooks/metrics/lib/python3.11/site-packages/lars/apache.py:741: ApacheWarning: Line 19469: Line contains invalid data\n",
      "  warnings.warn(\n",
      "/home/katscott/Code/ros_metrics_analysis/notebooks/metrics/lib/python3.11/site-packages/lars/apache.py:741: ApacheWarning: Line 20826: Line contains invalid data\n",
      "  warnings.warn(\n",
      "/home/katscott/Code/ros_metrics_analysis/notebooks/metrics/lib/python3.11/site-packages/lars/apache.py:741: ApacheWarning: Line 24444: Line contains invalid data\n",
      "  warnings.warn(\n",
      "/home/katscott/Code/ros_metrics_analysis/notebooks/metrics/lib/python3.11/site-packages/lars/apache.py:741: ApacheWarning: Line 24519: Line contains invalid data\n",
      "  warnings.warn(\n"
     ]
    },
    {
     "name": "stdout",
     "output_type": "stream",
     "text": [
      ".\n",
      ".\n"
     ]
    },
    {
     "name": "stderr",
     "output_type": "stream",
     "text": [
      "/home/katscott/Code/ros_metrics_analysis/notebooks/metrics/lib/python3.11/site-packages/lars/apache.py:741: ApacheWarning: Line 38444: Line contains invalid data\n",
      "  warnings.warn(\n",
      "/home/katscott/Code/ros_metrics_analysis/notebooks/metrics/lib/python3.11/site-packages/lars/apache.py:741: ApacheWarning: Line 42747: Line contains invalid data\n",
      "  warnings.warn(\n",
      "/home/katscott/Code/ros_metrics_analysis/notebooks/metrics/lib/python3.11/site-packages/lars/apache.py:741: ApacheWarning: Line 47423: Line contains invalid data\n",
      "  warnings.warn(\n",
      "/home/katscott/Code/ros_metrics_analysis/notebooks/metrics/lib/python3.11/site-packages/lars/apache.py:741: ApacheWarning: Line 50376: Line contains invalid data\n",
      "  warnings.warn(\n",
      "/home/katscott/Code/ros_metrics_analysis/notebooks/metrics/lib/python3.11/site-packages/lars/apache.py:741: ApacheWarning: Line 55729: Line contains invalid data\n",
      "  warnings.warn(\n",
      "/home/katscott/Code/ros_metrics_analysis/notebooks/metrics/lib/python3.11/site-packages/lars/apache.py:741: ApacheWarning: Line 58053: Line contains invalid data\n",
      "  warnings.warn(\n",
      "/home/katscott/Code/ros_metrics_analysis/notebooks/metrics/lib/python3.11/site-packages/lars/apache.py:741: ApacheWarning: Line 64439: Line contains invalid data\n",
      "  warnings.warn(\n"
     ]
    },
    {
     "name": "stdout",
     "output_type": "stream",
     "text": [
      ".\n",
      ".\n",
      ".\n",
      ".\n",
      ".\n"
     ]
    },
    {
     "name": "stderr",
     "output_type": "stream",
     "text": [
      "/home/katscott/Code/ros_metrics_analysis/notebooks/metrics/lib/python3.11/site-packages/lars/apache.py:741: ApacheWarning: Line 76189: Line contains invalid data\n",
      "  warnings.warn(\n",
      "/home/katscott/Code/ros_metrics_analysis/notebooks/metrics/lib/python3.11/site-packages/lars/apache.py:741: ApacheWarning: Line 87035: Line contains invalid data\n",
      "  warnings.warn(\n"
     ]
    },
    {
     "name": "stdout",
     "output_type": "stream",
     "text": [
      ".\n",
      ".\n",
      ".\n"
     ]
    },
    {
     "name": "stderr",
     "output_type": "stream",
     "text": [
      "/home/katscott/Code/ros_metrics_analysis/notebooks/metrics/lib/python3.11/site-packages/lars/apache.py:741: ApacheWarning: Line 95033: Line contains invalid data\n",
      "  warnings.warn(\n",
      "/home/katscott/Code/ros_metrics_analysis/notebooks/metrics/lib/python3.11/site-packages/lars/apache.py:741: ApacheWarning: Line 95034: Line contains invalid data\n",
      "  warnings.warn(\n",
      "/home/katscott/Code/ros_metrics_analysis/notebooks/metrics/lib/python3.11/site-packages/lars/apache.py:741: ApacheWarning: Line 95035: Line contains invalid data\n",
      "  warnings.warn(\n",
      "/home/katscott/Code/ros_metrics_analysis/notebooks/metrics/lib/python3.11/site-packages/lars/apache.py:741: ApacheWarning: Line 95036: Line contains invalid data\n",
      "  warnings.warn(\n",
      "/home/katscott/Code/ros_metrics_analysis/notebooks/metrics/lib/python3.11/site-packages/lars/apache.py:741: ApacheWarning: Line 95038: Line contains invalid data\n",
      "  warnings.warn(\n",
      "/home/katscott/Code/ros_metrics_analysis/notebooks/metrics/lib/python3.11/site-packages/lars/apache.py:741: ApacheWarning: Line 95039: Line contains invalid data\n",
      "  warnings.warn(\n",
      "/home/katscott/Code/ros_metrics_analysis/notebooks/metrics/lib/python3.11/site-packages/lars/apache.py:741: ApacheWarning: Line 101036: Line contains invalid data\n",
      "  warnings.warn(\n",
      "/home/katscott/Code/ros_metrics_analysis/notebooks/metrics/lib/python3.11/site-packages/lars/apache.py:741: ApacheWarning: Line 101214: Line contains invalid data\n",
      "  warnings.warn(\n",
      "/home/katscott/Code/ros_metrics_analysis/notebooks/metrics/lib/python3.11/site-packages/lars/apache.py:741: ApacheWarning: Line 106560: Line contains invalid data\n",
      "  warnings.warn(\n",
      "/home/katscott/Code/ros_metrics_analysis/notebooks/metrics/lib/python3.11/site-packages/lars/apache.py:741: ApacheWarning: Line 109592: Line contains invalid data\n",
      "  warnings.warn(\n",
      "/home/katscott/Code/ros_metrics_analysis/notebooks/metrics/lib/python3.11/site-packages/lars/apache.py:741: ApacheWarning: Line 111027: Line contains invalid data\n",
      "  warnings.warn(\n",
      "/home/katscott/Code/ros_metrics_analysis/notebooks/metrics/lib/python3.11/site-packages/lars/apache.py:741: ApacheWarning: Line 111028: Line contains invalid data\n",
      "  warnings.warn(\n",
      "/home/katscott/Code/ros_metrics_analysis/notebooks/metrics/lib/python3.11/site-packages/lars/apache.py:741: ApacheWarning: Line 111029: Line contains invalid data\n",
      "  warnings.warn(\n",
      "/home/katscott/Code/ros_metrics_analysis/notebooks/metrics/lib/python3.11/site-packages/lars/apache.py:741: ApacheWarning: Line 111030: Line contains invalid data\n",
      "  warnings.warn(\n",
      "/home/katscott/Code/ros_metrics_analysis/notebooks/metrics/lib/python3.11/site-packages/lars/apache.py:741: ApacheWarning: Line 111031: Line contains invalid data\n",
      "  warnings.warn(\n",
      "/home/katscott/Code/ros_metrics_analysis/notebooks/metrics/lib/python3.11/site-packages/lars/apache.py:741: ApacheWarning: Line 111056: Line contains invalid data\n",
      "  warnings.warn(\n",
      "/home/katscott/Code/ros_metrics_analysis/notebooks/metrics/lib/python3.11/site-packages/lars/apache.py:741: ApacheWarning: Line 113173: Line contains invalid data\n",
      "  warnings.warn(\n",
      "/home/katscott/Code/ros_metrics_analysis/notebooks/metrics/lib/python3.11/site-packages/lars/apache.py:741: ApacheWarning: Line 119444: Line contains invalid data\n",
      "  warnings.warn(\n",
      "/home/katscott/Code/ros_metrics_analysis/notebooks/metrics/lib/python3.11/site-packages/lars/apache.py:741: ApacheWarning: Line 121603: Line contains invalid data\n",
      "  warnings.warn(\n",
      "/home/katscott/Code/ros_metrics_analysis/notebooks/metrics/lib/python3.11/site-packages/lars/apache.py:741: ApacheWarning: Line 123860: Line contains invalid data\n",
      "  warnings.warn(\n",
      "/home/katscott/Code/ros_metrics_analysis/notebooks/metrics/lib/python3.11/site-packages/lars/apache.py:741: ApacheWarning: Line 124509: Line contains invalid data\n",
      "  warnings.warn(\n",
      "/home/katscott/Code/ros_metrics_analysis/notebooks/metrics/lib/python3.11/site-packages/lars/apache.py:741: ApacheWarning: Line 126693: Line contains invalid data\n",
      "  warnings.warn(\n",
      "/home/katscott/Code/ros_metrics_analysis/notebooks/metrics/lib/python3.11/site-packages/lars/apache.py:741: ApacheWarning: Line 128088: Line contains invalid data\n",
      "  warnings.warn(\n",
      "/home/katscott/Code/ros_metrics_analysis/notebooks/metrics/lib/python3.11/site-packages/lars/apache.py:741: ApacheWarning: Line 1410: Line contains invalid data\n",
      "  warnings.warn(\n",
      "/home/katscott/Code/ros_metrics_analysis/notebooks/metrics/lib/python3.11/site-packages/lars/apache.py:741: ApacheWarning: Line 1445: Line contains invalid data\n",
      "  warnings.warn(\n",
      "/home/katscott/Code/ros_metrics_analysis/notebooks/metrics/lib/python3.11/site-packages/lars/apache.py:741: ApacheWarning: Line 3125: Line contains invalid data\n",
      "  warnings.warn(\n",
      "/home/katscott/Code/ros_metrics_analysis/notebooks/metrics/lib/python3.11/site-packages/lars/apache.py:741: ApacheWarning: Line 8329: Line contains invalid data\n",
      "  warnings.warn(\n",
      "/home/katscott/Code/ros_metrics_analysis/notebooks/metrics/lib/python3.11/site-packages/lars/apache.py:741: ApacheWarning: Line 8330: Line contains invalid data\n",
      "  warnings.warn(\n",
      "/home/katscott/Code/ros_metrics_analysis/notebooks/metrics/lib/python3.11/site-packages/lars/apache.py:741: ApacheWarning: Line 8358: Line contains invalid data\n",
      "  warnings.warn(\n",
      "/home/katscott/Code/ros_metrics_analysis/notebooks/metrics/lib/python3.11/site-packages/lars/apache.py:741: ApacheWarning: Line 9963: Line contains invalid data\n",
      "  warnings.warn(\n",
      "/home/katscott/Code/ros_metrics_analysis/notebooks/metrics/lib/python3.11/site-packages/lars/apache.py:741: ApacheWarning: Line 10354: Line contains invalid data\n",
      "  warnings.warn(\n",
      "/home/katscott/Code/ros_metrics_analysis/notebooks/metrics/lib/python3.11/site-packages/lars/apache.py:741: ApacheWarning: Line 10355: Line contains invalid data\n",
      "  warnings.warn(\n"
     ]
    },
    {
     "name": "stdout",
     "output_type": "stream",
     "text": [
      ".\n",
      "./temp/packages-logs/apt-access.log.3\n",
      ".\n"
     ]
    },
    {
     "name": "stderr",
     "output_type": "stream",
     "text": [
      "/home/katscott/Code/ros_metrics_analysis/notebooks/metrics/lib/python3.11/site-packages/lars/apache.py:741: ApacheWarning: Line 16897: Line contains invalid data\n",
      "  warnings.warn(\n",
      "/home/katscott/Code/ros_metrics_analysis/notebooks/metrics/lib/python3.11/site-packages/lars/apache.py:741: ApacheWarning: Line 16898: Line contains invalid data\n",
      "  warnings.warn(\n",
      "/home/katscott/Code/ros_metrics_analysis/notebooks/metrics/lib/python3.11/site-packages/lars/apache.py:741: ApacheWarning: Line 16899: Line contains invalid data\n",
      "  warnings.warn(\n",
      "/home/katscott/Code/ros_metrics_analysis/notebooks/metrics/lib/python3.11/site-packages/lars/apache.py:741: ApacheWarning: Line 16900: Line contains invalid data\n",
      "  warnings.warn(\n",
      "/home/katscott/Code/ros_metrics_analysis/notebooks/metrics/lib/python3.11/site-packages/lars/apache.py:741: ApacheWarning: Line 16901: Line contains invalid data\n",
      "  warnings.warn(\n",
      "/home/katscott/Code/ros_metrics_analysis/notebooks/metrics/lib/python3.11/site-packages/lars/apache.py:741: ApacheWarning: Line 16926: Line contains invalid data\n",
      "  warnings.warn(\n",
      "/home/katscott/Code/ros_metrics_analysis/notebooks/metrics/lib/python3.11/site-packages/lars/apache.py:741: ApacheWarning: Line 21936: Line contains invalid data\n",
      "  warnings.warn(\n",
      "/home/katscott/Code/ros_metrics_analysis/notebooks/metrics/lib/python3.11/site-packages/lars/apache.py:741: ApacheWarning: Line 22467: Line contains invalid data\n",
      "  warnings.warn(\n",
      "/home/katscott/Code/ros_metrics_analysis/notebooks/metrics/lib/python3.11/site-packages/lars/apache.py:741: ApacheWarning: Line 32431: Line contains invalid data\n",
      "  warnings.warn(\n",
      "/home/katscott/Code/ros_metrics_analysis/notebooks/metrics/lib/python3.11/site-packages/lars/apache.py:741: ApacheWarning: Line 33385: Line contains invalid data\n",
      "  warnings.warn(\n",
      "/home/katscott/Code/ros_metrics_analysis/notebooks/metrics/lib/python3.11/site-packages/lars/apache.py:741: ApacheWarning: Line 33386: Line contains invalid data\n",
      "  warnings.warn(\n",
      "/home/katscott/Code/ros_metrics_analysis/notebooks/metrics/lib/python3.11/site-packages/lars/apache.py:741: ApacheWarning: Line 38415: Line contains invalid data\n",
      "  warnings.warn(\n",
      "/home/katscott/Code/ros_metrics_analysis/notebooks/metrics/lib/python3.11/site-packages/lars/apache.py:741: ApacheWarning: Line 39994: Line contains invalid data\n",
      "  warnings.warn(\n"
     ]
    },
    {
     "name": "stdout",
     "output_type": "stream",
     "text": [
      ".\n",
      ".\n",
      ".\n"
     ]
    },
    {
     "name": "stderr",
     "output_type": "stream",
     "text": [
      "/home/katscott/Code/ros_metrics_analysis/notebooks/metrics/lib/python3.11/site-packages/lars/apache.py:741: ApacheWarning: Line 43553: Line contains invalid data\n",
      "  warnings.warn(\n",
      "/home/katscott/Code/ros_metrics_analysis/notebooks/metrics/lib/python3.11/site-packages/lars/apache.py:741: ApacheWarning: Line 43556: Line contains invalid data\n",
      "  warnings.warn(\n",
      "/home/katscott/Code/ros_metrics_analysis/notebooks/metrics/lib/python3.11/site-packages/lars/apache.py:741: ApacheWarning: Line 43562: Line contains invalid data\n",
      "  warnings.warn(\n",
      "/home/katscott/Code/ros_metrics_analysis/notebooks/metrics/lib/python3.11/site-packages/lars/apache.py:741: ApacheWarning: Line 43568: Line contains invalid data\n",
      "  warnings.warn(\n",
      "/home/katscott/Code/ros_metrics_analysis/notebooks/metrics/lib/python3.11/site-packages/lars/apache.py:741: ApacheWarning: Line 43577: Line contains invalid data\n",
      "  warnings.warn(\n",
      "/home/katscott/Code/ros_metrics_analysis/notebooks/metrics/lib/python3.11/site-packages/lars/apache.py:741: ApacheWarning: Line 43578: Line contains invalid data\n",
      "  warnings.warn(\n",
      "/home/katscott/Code/ros_metrics_analysis/notebooks/metrics/lib/python3.11/site-packages/lars/apache.py:741: ApacheWarning: Line 55736: Line contains invalid data\n",
      "  warnings.warn(\n",
      "/home/katscott/Code/ros_metrics_analysis/notebooks/metrics/lib/python3.11/site-packages/lars/apache.py:741: ApacheWarning: Line 58944: Line contains invalid data\n",
      "  warnings.warn(\n",
      "/home/katscott/Code/ros_metrics_analysis/notebooks/metrics/lib/python3.11/site-packages/lars/apache.py:741: ApacheWarning: Line 59020: Line contains invalid data\n",
      "  warnings.warn(\n",
      "/home/katscott/Code/ros_metrics_analysis/notebooks/metrics/lib/python3.11/site-packages/lars/apache.py:741: ApacheWarning: Line 60685: Line contains invalid data\n",
      "  warnings.warn(\n",
      "/home/katscott/Code/ros_metrics_analysis/notebooks/metrics/lib/python3.11/site-packages/lars/apache.py:741: ApacheWarning: Line 60686: Line contains invalid data\n",
      "  warnings.warn(\n",
      "/home/katscott/Code/ros_metrics_analysis/notebooks/metrics/lib/python3.11/site-packages/lars/apache.py:741: ApacheWarning: Line 60690: Line contains invalid data\n",
      "  warnings.warn(\n",
      "/home/katscott/Code/ros_metrics_analysis/notebooks/metrics/lib/python3.11/site-packages/lars/apache.py:741: ApacheWarning: Line 67112: Line contains invalid data\n",
      "  warnings.warn(\n",
      "/home/katscott/Code/ros_metrics_analysis/notebooks/metrics/lib/python3.11/site-packages/lars/apache.py:741: ApacheWarning: Line 67388: Line contains invalid data\n",
      "  warnings.warn(\n"
     ]
    },
    {
     "name": "stdout",
     "output_type": "stream",
     "text": [
      ".\n",
      ".\n",
      ".\n",
      "./temp/packages-logs/apt-access.log.30\n"
     ]
    },
    {
     "name": "stderr",
     "output_type": "stream",
     "text": [
      "/home/katscott/Code/ros_metrics_analysis/notebooks/metrics/lib/python3.11/site-packages/lars/apache.py:741: ApacheWarning: Line 72613: Line contains invalid data\n",
      "  warnings.warn(\n",
      "/home/katscott/Code/ros_metrics_analysis/notebooks/metrics/lib/python3.11/site-packages/lars/apache.py:741: ApacheWarning: Line 10260: Line contains invalid data\n",
      "  warnings.warn(\n",
      "/home/katscott/Code/ros_metrics_analysis/notebooks/metrics/lib/python3.11/site-packages/lars/apache.py:741: ApacheWarning: Line 10479: Line contains invalid data\n",
      "  warnings.warn(\n",
      "/home/katscott/Code/ros_metrics_analysis/notebooks/metrics/lib/python3.11/site-packages/lars/apache.py:741: ApacheWarning: Line 15348: Line contains invalid data\n",
      "  warnings.warn(\n"
     ]
    },
    {
     "name": "stdout",
     "output_type": "stream",
     "text": [
      ".\n",
      ".\n"
     ]
    },
    {
     "name": "stderr",
     "output_type": "stream",
     "text": [
      "/home/katscott/Code/ros_metrics_analysis/notebooks/metrics/lib/python3.11/site-packages/lars/apache.py:741: ApacheWarning: Line 19905: Line contains invalid data\n",
      "  warnings.warn(\n",
      "/home/katscott/Code/ros_metrics_analysis/notebooks/metrics/lib/python3.11/site-packages/lars/apache.py:741: ApacheWarning: Line 21202: Line contains invalid data\n",
      "  warnings.warn(\n",
      "/home/katscott/Code/ros_metrics_analysis/notebooks/metrics/lib/python3.11/site-packages/lars/apache.py:741: ApacheWarning: Line 22182: Line contains invalid data\n",
      "  warnings.warn(\n",
      "/home/katscott/Code/ros_metrics_analysis/notebooks/metrics/lib/python3.11/site-packages/lars/apache.py:741: ApacheWarning: Line 25906: Line contains invalid data\n",
      "  warnings.warn(\n",
      "/home/katscott/Code/ros_metrics_analysis/notebooks/metrics/lib/python3.11/site-packages/lars/apache.py:741: ApacheWarning: Line 25907: Line contains invalid data\n",
      "  warnings.warn(\n",
      "/home/katscott/Code/ros_metrics_analysis/notebooks/metrics/lib/python3.11/site-packages/lars/apache.py:741: ApacheWarning: Line 26156: Line contains invalid data\n",
      "  warnings.warn(\n",
      "/home/katscott/Code/ros_metrics_analysis/notebooks/metrics/lib/python3.11/site-packages/lars/apache.py:741: ApacheWarning: Line 26157: Line contains invalid data\n",
      "  warnings.warn(\n",
      "/home/katscott/Code/ros_metrics_analysis/notebooks/metrics/lib/python3.11/site-packages/lars/apache.py:741: ApacheWarning: Line 27015: Line contains invalid data\n",
      "  warnings.warn(\n",
      "/home/katscott/Code/ros_metrics_analysis/notebooks/metrics/lib/python3.11/site-packages/lars/apache.py:741: ApacheWarning: Line 31454: Line contains invalid data\n",
      "  warnings.warn(\n"
     ]
    },
    {
     "name": "stdout",
     "output_type": "stream",
     "text": [
      ".\n",
      ".\n"
     ]
    },
    {
     "name": "stderr",
     "output_type": "stream",
     "text": [
      "/home/katscott/Code/ros_metrics_analysis/notebooks/metrics/lib/python3.11/site-packages/lars/apache.py:741: ApacheWarning: Line 37324: Line contains invalid data\n",
      "  warnings.warn(\n",
      "/home/katscott/Code/ros_metrics_analysis/notebooks/metrics/lib/python3.11/site-packages/lars/apache.py:741: ApacheWarning: Line 48361: Line contains invalid data\n",
      "  warnings.warn(\n",
      "/home/katscott/Code/ros_metrics_analysis/notebooks/metrics/lib/python3.11/site-packages/lars/apache.py:741: ApacheWarning: Line 49210: Line contains invalid data\n",
      "  warnings.warn(\n",
      "/home/katscott/Code/ros_metrics_analysis/notebooks/metrics/lib/python3.11/site-packages/lars/apache.py:741: ApacheWarning: Line 49918: Line contains invalid data\n",
      "  warnings.warn(\n",
      "/home/katscott/Code/ros_metrics_analysis/notebooks/metrics/lib/python3.11/site-packages/lars/apache.py:741: ApacheWarning: Line 50140: Line contains invalid data\n",
      "  warnings.warn(\n"
     ]
    },
    {
     "name": "stdout",
     "output_type": "stream",
     "text": [
      ".\n",
      ".\n"
     ]
    },
    {
     "name": "stderr",
     "output_type": "stream",
     "text": [
      "/home/katscott/Code/ros_metrics_analysis/notebooks/metrics/lib/python3.11/site-packages/lars/apache.py:741: ApacheWarning: Line 53227: Line contains invalid data\n",
      "  warnings.warn(\n",
      "/home/katscott/Code/ros_metrics_analysis/notebooks/metrics/lib/python3.11/site-packages/lars/apache.py:741: ApacheWarning: Line 61682: Line contains invalid data\n",
      "  warnings.warn(\n"
     ]
    },
    {
     "name": "stdout",
     "output_type": "stream",
     "text": [
      ".\n",
      ".\n",
      ".\n"
     ]
    },
    {
     "name": "stderr",
     "output_type": "stream",
     "text": [
      "/home/katscott/Code/ros_metrics_analysis/notebooks/metrics/lib/python3.11/site-packages/lars/apache.py:741: ApacheWarning: Line 71843: Line contains invalid data\n",
      "  warnings.warn(\n",
      "/home/katscott/Code/ros_metrics_analysis/notebooks/metrics/lib/python3.11/site-packages/lars/apache.py:741: ApacheWarning: Line 79194: Line contains invalid data\n",
      "  warnings.warn(\n",
      "/home/katscott/Code/ros_metrics_analysis/notebooks/metrics/lib/python3.11/site-packages/lars/apache.py:741: ApacheWarning: Line 94859: Line contains invalid data\n",
      "  warnings.warn(\n",
      "/home/katscott/Code/ros_metrics_analysis/notebooks/metrics/lib/python3.11/site-packages/lars/apache.py:741: ApacheWarning: Line 94864: Line contains invalid data\n",
      "  warnings.warn(\n",
      "/home/katscott/Code/ros_metrics_analysis/notebooks/metrics/lib/python3.11/site-packages/lars/apache.py:741: ApacheWarning: Line 94865: Line contains invalid data\n",
      "  warnings.warn(\n",
      "/home/katscott/Code/ros_metrics_analysis/notebooks/metrics/lib/python3.11/site-packages/lars/apache.py:741: ApacheWarning: Line 95411: Line contains invalid data\n",
      "  warnings.warn(\n",
      "/home/katscott/Code/ros_metrics_analysis/notebooks/metrics/lib/python3.11/site-packages/lars/apache.py:741: ApacheWarning: Line 95412: Line contains invalid data\n",
      "  warnings.warn(\n",
      "/home/katscott/Code/ros_metrics_analysis/notebooks/metrics/lib/python3.11/site-packages/lars/apache.py:741: ApacheWarning: Line 95782: Line contains invalid data\n",
      "  warnings.warn(\n",
      "/home/katscott/Code/ros_metrics_analysis/notebooks/metrics/lib/python3.11/site-packages/lars/apache.py:741: ApacheWarning: Line 95783: Line contains invalid data\n",
      "  warnings.warn(\n",
      "/home/katscott/Code/ros_metrics_analysis/notebooks/metrics/lib/python3.11/site-packages/lars/apache.py:741: ApacheWarning: Line 95784: Line contains invalid data\n",
      "  warnings.warn(\n",
      "/home/katscott/Code/ros_metrics_analysis/notebooks/metrics/lib/python3.11/site-packages/lars/apache.py:741: ApacheWarning: Line 95786: Line contains invalid data\n",
      "  warnings.warn(\n",
      "/home/katscott/Code/ros_metrics_analysis/notebooks/metrics/lib/python3.11/site-packages/lars/apache.py:741: ApacheWarning: Line 95787: Line contains invalid data\n",
      "  warnings.warn(\n",
      "/home/katscott/Code/ros_metrics_analysis/notebooks/metrics/lib/python3.11/site-packages/lars/apache.py:741: ApacheWarning: Line 95791: Line contains invalid data\n",
      "  warnings.warn(\n",
      "/home/katscott/Code/ros_metrics_analysis/notebooks/metrics/lib/python3.11/site-packages/lars/apache.py:741: ApacheWarning: Line 95811: Line contains invalid data\n",
      "  warnings.warn(\n",
      "/home/katscott/Code/ros_metrics_analysis/notebooks/metrics/lib/python3.11/site-packages/lars/apache.py:741: ApacheWarning: Line 102116: Line contains invalid data\n",
      "  warnings.warn(\n",
      "/home/katscott/Code/ros_metrics_analysis/notebooks/metrics/lib/python3.11/site-packages/lars/apache.py:741: ApacheWarning: Line 105418: Line contains invalid data\n",
      "  warnings.warn(\n"
     ]
    },
    {
     "name": "stdout",
     "output_type": "stream",
     "text": [
      ".\n",
      ".\n",
      ".\n",
      "./temp/packages-logs/apt-access.log.31\n"
     ]
    },
    {
     "name": "stderr",
     "output_type": "stream",
     "text": [
      "/home/katscott/Code/ros_metrics_analysis/notebooks/metrics/lib/python3.11/site-packages/lars/apache.py:741: ApacheWarning: Line 121226: Line contains invalid data\n",
      "  warnings.warn(\n",
      "/home/katscott/Code/ros_metrics_analysis/notebooks/metrics/lib/python3.11/site-packages/lars/apache.py:741: ApacheWarning: Line 121227: Line contains invalid data\n",
      "  warnings.warn(\n",
      "/home/katscott/Code/ros_metrics_analysis/notebooks/metrics/lib/python3.11/site-packages/lars/apache.py:741: ApacheWarning: Line 121229: Line contains invalid data\n",
      "  warnings.warn(\n",
      "/home/katscott/Code/ros_metrics_analysis/notebooks/metrics/lib/python3.11/site-packages/lars/apache.py:741: ApacheWarning: Line 683: Line contains invalid data\n",
      "  warnings.warn(\n",
      "/home/katscott/Code/ros_metrics_analysis/notebooks/metrics/lib/python3.11/site-packages/lars/apache.py:741: ApacheWarning: Line 684: Line contains invalid data\n",
      "  warnings.warn(\n",
      "/home/katscott/Code/ros_metrics_analysis/notebooks/metrics/lib/python3.11/site-packages/lars/apache.py:741: ApacheWarning: Line 1819: Line contains invalid data\n",
      "  warnings.warn(\n"
     ]
    },
    {
     "name": "stdout",
     "output_type": "stream",
     "text": [
      ".\n",
      ".\n"
     ]
    },
    {
     "name": "stderr",
     "output_type": "stream",
     "text": [
      "/home/katscott/Code/ros_metrics_analysis/notebooks/metrics/lib/python3.11/site-packages/lars/apache.py:741: ApacheWarning: Line 27466: Line contains invalid data\n",
      "  warnings.warn(\n"
     ]
    },
    {
     "name": "stdout",
     "output_type": "stream",
     "text": [
      ".\n",
      ".\n"
     ]
    },
    {
     "name": "stderr",
     "output_type": "stream",
     "text": [
      "/home/katscott/Code/ros_metrics_analysis/notebooks/metrics/lib/python3.11/site-packages/lars/apache.py:741: ApacheWarning: Line 45275: Line contains invalid data\n",
      "  warnings.warn(\n",
      "/home/katscott/Code/ros_metrics_analysis/notebooks/metrics/lib/python3.11/site-packages/lars/apache.py:741: ApacheWarning: Line 45278: Line contains invalid data\n",
      "  warnings.warn(\n",
      "/home/katscott/Code/ros_metrics_analysis/notebooks/metrics/lib/python3.11/site-packages/lars/apache.py:741: ApacheWarning: Line 45289: Line contains invalid data\n",
      "  warnings.warn(\n",
      "/home/katscott/Code/ros_metrics_analysis/notebooks/metrics/lib/python3.11/site-packages/lars/apache.py:741: ApacheWarning: Line 45291: Line contains invalid data\n",
      "  warnings.warn(\n",
      "/home/katscott/Code/ros_metrics_analysis/notebooks/metrics/lib/python3.11/site-packages/lars/apache.py:741: ApacheWarning: Line 81281: Line contains invalid data\n",
      "  warnings.warn(\n",
      "/home/katscott/Code/ros_metrics_analysis/notebooks/metrics/lib/python3.11/site-packages/lars/apache.py:741: ApacheWarning: Line 85101: Line contains invalid data\n",
      "  warnings.warn(\n",
      "/home/katscott/Code/ros_metrics_analysis/notebooks/metrics/lib/python3.11/site-packages/lars/apache.py:741: ApacheWarning: Line 87427: Line contains invalid data\n",
      "  warnings.warn(\n",
      "/home/katscott/Code/ros_metrics_analysis/notebooks/metrics/lib/python3.11/site-packages/lars/apache.py:741: ApacheWarning: Line 91875: Line contains invalid data\n",
      "  warnings.warn(\n",
      "/home/katscott/Code/ros_metrics_analysis/notebooks/metrics/lib/python3.11/site-packages/lars/apache.py:741: ApacheWarning: Line 91876: Line contains invalid data\n",
      "  warnings.warn(\n",
      "/home/katscott/Code/ros_metrics_analysis/notebooks/metrics/lib/python3.11/site-packages/lars/apache.py:741: ApacheWarning: Line 91936: Line contains invalid data\n",
      "  warnings.warn(\n",
      "/home/katscott/Code/ros_metrics_analysis/notebooks/metrics/lib/python3.11/site-packages/lars/apache.py:741: ApacheWarning: Line 94586: Line contains invalid data\n",
      "  warnings.warn(\n"
     ]
    },
    {
     "name": "stdout",
     "output_type": "stream",
     "text": [
      ".\n",
      ".\n",
      ".\n",
      ".\n",
      ".\n",
      ".\n",
      ".\n",
      ".\n"
     ]
    },
    {
     "name": "stderr",
     "output_type": "stream",
     "text": [
      "/home/katscott/Code/ros_metrics_analysis/notebooks/metrics/lib/python3.11/site-packages/lars/apache.py:741: ApacheWarning: Line 100596: Line contains invalid data\n",
      "  warnings.warn(\n",
      "/home/katscott/Code/ros_metrics_analysis/notebooks/metrics/lib/python3.11/site-packages/lars/apache.py:741: ApacheWarning: Line 115862: Line contains invalid data\n",
      "  warnings.warn(\n",
      "/home/katscott/Code/ros_metrics_analysis/notebooks/metrics/lib/python3.11/site-packages/lars/apache.py:741: ApacheWarning: Line 115863: Line contains invalid data\n",
      "  warnings.warn(\n",
      "/home/katscott/Code/ros_metrics_analysis/notebooks/metrics/lib/python3.11/site-packages/lars/apache.py:741: ApacheWarning: Line 115866: Line contains invalid data\n",
      "  warnings.warn(\n",
      "/home/katscott/Code/ros_metrics_analysis/notebooks/metrics/lib/python3.11/site-packages/lars/apache.py:741: ApacheWarning: Line 115867: Line contains invalid data\n",
      "  warnings.warn(\n",
      "/home/katscott/Code/ros_metrics_analysis/notebooks/metrics/lib/python3.11/site-packages/lars/apache.py:741: ApacheWarning: Line 115868: Line contains invalid data\n",
      "  warnings.warn(\n",
      "/home/katscott/Code/ros_metrics_analysis/notebooks/metrics/lib/python3.11/site-packages/lars/apache.py:741: ApacheWarning: Line 115869: Line contains invalid data\n",
      "  warnings.warn(\n",
      "/home/katscott/Code/ros_metrics_analysis/notebooks/metrics/lib/python3.11/site-packages/lars/apache.py:741: ApacheWarning: Line 116555: Line contains invalid data\n",
      "  warnings.warn(\n",
      "/home/katscott/Code/ros_metrics_analysis/notebooks/metrics/lib/python3.11/site-packages/lars/apache.py:741: ApacheWarning: Line 116556: Line contains invalid data\n",
      "  warnings.warn(\n",
      "/home/katscott/Code/ros_metrics_analysis/notebooks/metrics/lib/python3.11/site-packages/lars/apache.py:741: ApacheWarning: Line 116557: Line contains invalid data\n",
      "  warnings.warn(\n",
      "/home/katscott/Code/ros_metrics_analysis/notebooks/metrics/lib/python3.11/site-packages/lars/apache.py:741: ApacheWarning: Line 116558: Line contains invalid data\n",
      "  warnings.warn(\n",
      "/home/katscott/Code/ros_metrics_analysis/notebooks/metrics/lib/python3.11/site-packages/lars/apache.py:741: ApacheWarning: Line 116559: Line contains invalid data\n",
      "  warnings.warn(\n",
      "/home/katscott/Code/ros_metrics_analysis/notebooks/metrics/lib/python3.11/site-packages/lars/apache.py:741: ApacheWarning: Line 116565: Line contains invalid data\n",
      "  warnings.warn(\n",
      "/home/katscott/Code/ros_metrics_analysis/notebooks/metrics/lib/python3.11/site-packages/lars/apache.py:741: ApacheWarning: Line 116584: Line contains invalid data\n",
      "  warnings.warn(\n",
      "/home/katscott/Code/ros_metrics_analysis/notebooks/metrics/lib/python3.11/site-packages/lars/apache.py:741: ApacheWarning: Line 121961: Line contains invalid data\n",
      "  warnings.warn(\n",
      "/home/katscott/Code/ros_metrics_analysis/notebooks/metrics/lib/python3.11/site-packages/lars/apache.py:741: ApacheWarning: Line 126974: Line contains invalid data\n",
      "  warnings.warn(\n",
      "/home/katscott/Code/ros_metrics_analysis/notebooks/metrics/lib/python3.11/site-packages/lars/apache.py:741: ApacheWarning: Line 126975: Line contains invalid data\n",
      "  warnings.warn(\n",
      "/home/katscott/Code/ros_metrics_analysis/notebooks/metrics/lib/python3.11/site-packages/lars/apache.py:741: ApacheWarning: Line 129123: Line contains invalid data\n",
      "  warnings.warn(\n",
      "/home/katscott/Code/ros_metrics_analysis/notebooks/metrics/lib/python3.11/site-packages/lars/apache.py:741: ApacheWarning: Line 129441: Line contains invalid data\n",
      "  warnings.warn(\n",
      "/home/katscott/Code/ros_metrics_analysis/notebooks/metrics/lib/python3.11/site-packages/lars/apache.py:741: ApacheWarning: Line 129729: Line contains invalid data\n",
      "  warnings.warn(\n",
      "/home/katscott/Code/ros_metrics_analysis/notebooks/metrics/lib/python3.11/site-packages/lars/apache.py:741: ApacheWarning: Line 130715: Line contains invalid data\n",
      "  warnings.warn(\n",
      "/home/katscott/Code/ros_metrics_analysis/notebooks/metrics/lib/python3.11/site-packages/lars/apache.py:741: ApacheWarning: Line 130724: Line contains invalid data\n",
      "  warnings.warn(\n",
      "/home/katscott/Code/ros_metrics_analysis/notebooks/metrics/lib/python3.11/site-packages/lars/apache.py:741: ApacheWarning: Line 131557: Line contains invalid data\n",
      "  warnings.warn(\n"
     ]
    },
    {
     "name": "stdout",
     "output_type": "stream",
     "text": [
      ".\n"
     ]
    },
    {
     "name": "stderr",
     "output_type": "stream",
     "text": [
      "/home/katscott/Code/ros_metrics_analysis/notebooks/metrics/lib/python3.11/site-packages/lars/apache.py:741: ApacheWarning: Line 135233: Line contains invalid data\n",
      "  warnings.warn(\n",
      "/home/katscott/Code/ros_metrics_analysis/notebooks/metrics/lib/python3.11/site-packages/lars/apache.py:741: ApacheWarning: Line 135235: Line contains invalid data\n",
      "  warnings.warn(\n",
      "/home/katscott/Code/ros_metrics_analysis/notebooks/metrics/lib/python3.11/site-packages/lars/apache.py:741: ApacheWarning: Line 135237: Line contains invalid data\n",
      "  warnings.warn(\n",
      "/home/katscott/Code/ros_metrics_analysis/notebooks/metrics/lib/python3.11/site-packages/lars/apache.py:741: ApacheWarning: Line 135241: Line contains invalid data\n",
      "  warnings.warn(\n",
      "/home/katscott/Code/ros_metrics_analysis/notebooks/metrics/lib/python3.11/site-packages/lars/apache.py:741: ApacheWarning: Line 136532: Line contains invalid data\n",
      "  warnings.warn(\n",
      "/home/katscott/Code/ros_metrics_analysis/notebooks/metrics/lib/python3.11/site-packages/lars/apache.py:741: ApacheWarning: Line 136533: Line contains invalid data\n",
      "  warnings.warn(\n",
      "/home/katscott/Code/ros_metrics_analysis/notebooks/metrics/lib/python3.11/site-packages/lars/apache.py:741: ApacheWarning: Line 136534: Line contains invalid data\n",
      "  warnings.warn(\n",
      "/home/katscott/Code/ros_metrics_analysis/notebooks/metrics/lib/python3.11/site-packages/lars/apache.py:741: ApacheWarning: Line 136535: Line contains invalid data\n",
      "  warnings.warn(\n",
      "/home/katscott/Code/ros_metrics_analysis/notebooks/metrics/lib/python3.11/site-packages/lars/apache.py:741: ApacheWarning: Line 136536: Line contains invalid data\n",
      "  warnings.warn(\n",
      "/home/katscott/Code/ros_metrics_analysis/notebooks/metrics/lib/python3.11/site-packages/lars/apache.py:741: ApacheWarning: Line 136537: Line contains invalid data\n",
      "  warnings.warn(\n",
      "/home/katscott/Code/ros_metrics_analysis/notebooks/metrics/lib/python3.11/site-packages/lars/apache.py:741: ApacheWarning: Line 8948: Line contains invalid data\n",
      "  warnings.warn(\n",
      "/home/katscott/Code/ros_metrics_analysis/notebooks/metrics/lib/python3.11/site-packages/lars/apache.py:741: ApacheWarning: Line 8949: Line contains invalid data\n",
      "  warnings.warn(\n",
      "/home/katscott/Code/ros_metrics_analysis/notebooks/metrics/lib/python3.11/site-packages/lars/apache.py:741: ApacheWarning: Line 11986: Line contains invalid data\n",
      "  warnings.warn(\n",
      "/home/katscott/Code/ros_metrics_analysis/notebooks/metrics/lib/python3.11/site-packages/lars/apache.py:741: ApacheWarning: Line 13827: Line contains invalid data\n",
      "  warnings.warn(\n"
     ]
    },
    {
     "name": "stdout",
     "output_type": "stream",
     "text": [
      ".\n",
      "./temp/packages-logs/apt-access.log.32\n",
      ".\n",
      ".\n",
      ".\n",
      ".\n",
      ".\n",
      ".\n",
      ".\n"
     ]
    },
    {
     "name": "stderr",
     "output_type": "stream",
     "text": [
      "/home/katscott/Code/ros_metrics_analysis/notebooks/metrics/lib/python3.11/site-packages/lars/apache.py:741: ApacheWarning: Line 16269: Line contains invalid data\n",
      "  warnings.warn(\n",
      "/home/katscott/Code/ros_metrics_analysis/notebooks/metrics/lib/python3.11/site-packages/lars/apache.py:741: ApacheWarning: Line 16270: Line contains invalid data\n",
      "  warnings.warn(\n",
      "/home/katscott/Code/ros_metrics_analysis/notebooks/metrics/lib/python3.11/site-packages/lars/apache.py:741: ApacheWarning: Line 21362: Line contains invalid data\n",
      "  warnings.warn(\n",
      "/home/katscott/Code/ros_metrics_analysis/notebooks/metrics/lib/python3.11/site-packages/lars/apache.py:741: ApacheWarning: Line 23406: Line contains invalid data\n",
      "  warnings.warn(\n",
      "/home/katscott/Code/ros_metrics_analysis/notebooks/metrics/lib/python3.11/site-packages/lars/apache.py:741: ApacheWarning: Line 24686: Line contains invalid data\n",
      "  warnings.warn(\n",
      "/home/katscott/Code/ros_metrics_analysis/notebooks/metrics/lib/python3.11/site-packages/lars/apache.py:741: ApacheWarning: Line 24694: Line contains invalid data\n",
      "  warnings.warn(\n",
      "/home/katscott/Code/ros_metrics_analysis/notebooks/metrics/lib/python3.11/site-packages/lars/apache.py:741: ApacheWarning: Line 24706: Line contains invalid data\n",
      "  warnings.warn(\n",
      "/home/katscott/Code/ros_metrics_analysis/notebooks/metrics/lib/python3.11/site-packages/lars/apache.py:741: ApacheWarning: Line 24730: Line contains invalid data\n",
      "  warnings.warn(\n",
      "/home/katscott/Code/ros_metrics_analysis/notebooks/metrics/lib/python3.11/site-packages/lars/apache.py:741: ApacheWarning: Line 26983: Line contains invalid data\n",
      "  warnings.warn(\n",
      "/home/katscott/Code/ros_metrics_analysis/notebooks/metrics/lib/python3.11/site-packages/lars/apache.py:741: ApacheWarning: Line 26984: Line contains invalid data\n",
      "  warnings.warn(\n",
      "/home/katscott/Code/ros_metrics_analysis/notebooks/metrics/lib/python3.11/site-packages/lars/apache.py:741: ApacheWarning: Line 26985: Line contains invalid data\n",
      "  warnings.warn(\n",
      "/home/katscott/Code/ros_metrics_analysis/notebooks/metrics/lib/python3.11/site-packages/lars/apache.py:741: ApacheWarning: Line 26986: Line contains invalid data\n",
      "  warnings.warn(\n",
      "/home/katscott/Code/ros_metrics_analysis/notebooks/metrics/lib/python3.11/site-packages/lars/apache.py:741: ApacheWarning: Line 26987: Line contains invalid data\n",
      "  warnings.warn(\n",
      "/home/katscott/Code/ros_metrics_analysis/notebooks/metrics/lib/python3.11/site-packages/lars/apache.py:741: ApacheWarning: Line 26991: Line contains invalid data\n",
      "  warnings.warn(\n",
      "/home/katscott/Code/ros_metrics_analysis/notebooks/metrics/lib/python3.11/site-packages/lars/apache.py:741: ApacheWarning: Line 27011: Line contains invalid data\n",
      "  warnings.warn(\n",
      "/home/katscott/Code/ros_metrics_analysis/notebooks/metrics/lib/python3.11/site-packages/lars/apache.py:741: ApacheWarning: Line 29899: Line contains invalid data\n",
      "  warnings.warn(\n",
      "/home/katscott/Code/ros_metrics_analysis/notebooks/metrics/lib/python3.11/site-packages/lars/apache.py:741: ApacheWarning: Line 29948: Line contains invalid data\n",
      "  warnings.warn(\n",
      "/home/katscott/Code/ros_metrics_analysis/notebooks/metrics/lib/python3.11/site-packages/lars/apache.py:741: ApacheWarning: Line 30217: Line contains invalid data\n",
      "  warnings.warn(\n",
      "/home/katscott/Code/ros_metrics_analysis/notebooks/metrics/lib/python3.11/site-packages/lars/apache.py:741: ApacheWarning: Line 51892: Line contains invalid data\n",
      "  warnings.warn(\n",
      "/home/katscott/Code/ros_metrics_analysis/notebooks/metrics/lib/python3.11/site-packages/lars/apache.py:741: ApacheWarning: Line 53652: Line contains invalid data\n",
      "  warnings.warn(\n",
      "/home/katscott/Code/ros_metrics_analysis/notebooks/metrics/lib/python3.11/site-packages/lars/apache.py:741: ApacheWarning: Line 53653: Line contains invalid data\n",
      "  warnings.warn(\n",
      "/home/katscott/Code/ros_metrics_analysis/notebooks/metrics/lib/python3.11/site-packages/lars/apache.py:741: ApacheWarning: Line 53654: Line contains invalid data\n",
      "  warnings.warn(\n",
      "/home/katscott/Code/ros_metrics_analysis/notebooks/metrics/lib/python3.11/site-packages/lars/apache.py:741: ApacheWarning: Line 53655: Line contains invalid data\n",
      "  warnings.warn(\n",
      "/home/katscott/Code/ros_metrics_analysis/notebooks/metrics/lib/python3.11/site-packages/lars/apache.py:741: ApacheWarning: Line 53656: Line contains invalid data\n",
      "  warnings.warn(\n",
      "/home/katscott/Code/ros_metrics_analysis/notebooks/metrics/lib/python3.11/site-packages/lars/apache.py:741: ApacheWarning: Line 53657: Line contains invalid data\n",
      "  warnings.warn(\n",
      "/home/katscott/Code/ros_metrics_analysis/notebooks/metrics/lib/python3.11/site-packages/lars/apache.py:741: ApacheWarning: Line 53658: Line contains invalid data\n",
      "  warnings.warn(\n",
      "/home/katscott/Code/ros_metrics_analysis/notebooks/metrics/lib/python3.11/site-packages/lars/apache.py:741: ApacheWarning: Line 53659: Line contains invalid data\n",
      "  warnings.warn(\n",
      "/home/katscott/Code/ros_metrics_analysis/notebooks/metrics/lib/python3.11/site-packages/lars/apache.py:741: ApacheWarning: Line 53660: Line contains invalid data\n",
      "  warnings.warn(\n",
      "/home/katscott/Code/ros_metrics_analysis/notebooks/metrics/lib/python3.11/site-packages/lars/apache.py:741: ApacheWarning: Line 53662: Line contains invalid data\n",
      "  warnings.warn(\n",
      "/home/katscott/Code/ros_metrics_analysis/notebooks/metrics/lib/python3.11/site-packages/lars/apache.py:741: ApacheWarning: Line 53663: Line contains invalid data\n",
      "  warnings.warn(\n",
      "/home/katscott/Code/ros_metrics_analysis/notebooks/metrics/lib/python3.11/site-packages/lars/apache.py:741: ApacheWarning: Line 60456: Line contains invalid data\n",
      "  warnings.warn(\n",
      "/home/katscott/Code/ros_metrics_analysis/notebooks/metrics/lib/python3.11/site-packages/lars/apache.py:741: ApacheWarning: Line 69491: Line contains invalid data\n",
      "  warnings.warn(\n",
      "/home/katscott/Code/ros_metrics_analysis/notebooks/metrics/lib/python3.11/site-packages/lars/apache.py:741: ApacheWarning: Line 69492: Line contains invalid data\n",
      "  warnings.warn(\n",
      "/home/katscott/Code/ros_metrics_analysis/notebooks/metrics/lib/python3.11/site-packages/lars/apache.py:741: ApacheWarning: Line 69496: Line contains invalid data\n",
      "  warnings.warn(\n",
      "/home/katscott/Code/ros_metrics_analysis/notebooks/metrics/lib/python3.11/site-packages/lars/apache.py:741: ApacheWarning: Line 69497: Line contains invalid data\n",
      "  warnings.warn(\n",
      "/home/katscott/Code/ros_metrics_analysis/notebooks/metrics/lib/python3.11/site-packages/lars/apache.py:741: ApacheWarning: Line 69498: Line contains invalid data\n",
      "  warnings.warn(\n",
      "/home/katscott/Code/ros_metrics_analysis/notebooks/metrics/lib/python3.11/site-packages/lars/apache.py:741: ApacheWarning: Line 69499: Line contains invalid data\n",
      "  warnings.warn(\n",
      "/home/katscott/Code/ros_metrics_analysis/notebooks/metrics/lib/python3.11/site-packages/lars/apache.py:741: ApacheWarning: Line 79546: Line contains invalid data\n",
      "  warnings.warn(\n",
      "/home/katscott/Code/ros_metrics_analysis/notebooks/metrics/lib/python3.11/site-packages/lars/apache.py:741: ApacheWarning: Line 1344: Line contains invalid data\n",
      "  warnings.warn(\n",
      "/home/katscott/Code/ros_metrics_analysis/notebooks/metrics/lib/python3.11/site-packages/lars/apache.py:741: ApacheWarning: Line 6064: Line contains invalid data\n",
      "  warnings.warn(\n",
      "/home/katscott/Code/ros_metrics_analysis/notebooks/metrics/lib/python3.11/site-packages/lars/apache.py:741: ApacheWarning: Line 12356: Line contains invalid data\n",
      "  warnings.warn(\n",
      "/home/katscott/Code/ros_metrics_analysis/notebooks/metrics/lib/python3.11/site-packages/lars/apache.py:741: ApacheWarning: Line 12357: Line contains invalid data\n",
      "  warnings.warn(\n",
      "/home/katscott/Code/ros_metrics_analysis/notebooks/metrics/lib/python3.11/site-packages/lars/apache.py:741: ApacheWarning: Line 12692: Line contains invalid data\n",
      "  warnings.warn(\n",
      "/home/katscott/Code/ros_metrics_analysis/notebooks/metrics/lib/python3.11/site-packages/lars/apache.py:741: ApacheWarning: Line 12695: Line contains invalid data\n",
      "  warnings.warn(\n",
      "/home/katscott/Code/ros_metrics_analysis/notebooks/metrics/lib/python3.11/site-packages/lars/apache.py:741: ApacheWarning: Line 12698: Line contains invalid data\n",
      "  warnings.warn(\n",
      "/home/katscott/Code/ros_metrics_analysis/notebooks/metrics/lib/python3.11/site-packages/lars/apache.py:741: ApacheWarning: Line 12701: Line contains invalid data\n",
      "  warnings.warn(\n",
      "/home/katscott/Code/ros_metrics_analysis/notebooks/metrics/lib/python3.11/site-packages/lars/apache.py:741: ApacheWarning: Line 12703: Line contains invalid data\n",
      "  warnings.warn(\n",
      "/home/katscott/Code/ros_metrics_analysis/notebooks/metrics/lib/python3.11/site-packages/lars/apache.py:741: ApacheWarning: Line 12706: Line contains invalid data\n",
      "  warnings.warn(\n",
      "/home/katscott/Code/ros_metrics_analysis/notebooks/metrics/lib/python3.11/site-packages/lars/apache.py:741: ApacheWarning: Line 12708: Line contains invalid data\n",
      "  warnings.warn(\n",
      "/home/katscott/Code/ros_metrics_analysis/notebooks/metrics/lib/python3.11/site-packages/lars/apache.py:741: ApacheWarning: Line 12711: Line contains invalid data\n",
      "  warnings.warn(\n",
      "/home/katscott/Code/ros_metrics_analysis/notebooks/metrics/lib/python3.11/site-packages/lars/apache.py:741: ApacheWarning: Line 12713: Line contains invalid data\n",
      "  warnings.warn(\n",
      "/home/katscott/Code/ros_metrics_analysis/notebooks/metrics/lib/python3.11/site-packages/lars/apache.py:741: ApacheWarning: Line 12716: Line contains invalid data\n",
      "  warnings.warn(\n",
      "/home/katscott/Code/ros_metrics_analysis/notebooks/metrics/lib/python3.11/site-packages/lars/apache.py:741: ApacheWarning: Line 12718: Line contains invalid data\n",
      "  warnings.warn(\n",
      "/home/katscott/Code/ros_metrics_analysis/notebooks/metrics/lib/python3.11/site-packages/lars/apache.py:741: ApacheWarning: Line 12720: Line contains invalid data\n",
      "  warnings.warn(\n",
      "/home/katscott/Code/ros_metrics_analysis/notebooks/metrics/lib/python3.11/site-packages/lars/apache.py:741: ApacheWarning: Line 12813: Line contains invalid data\n",
      "  warnings.warn(\n",
      "/home/katscott/Code/ros_metrics_analysis/notebooks/metrics/lib/python3.11/site-packages/lars/apache.py:741: ApacheWarning: Line 13545: Line contains invalid data\n",
      "  warnings.warn(\n",
      "/home/katscott/Code/ros_metrics_analysis/notebooks/metrics/lib/python3.11/site-packages/lars/apache.py:741: ApacheWarning: Line 15603: Line contains invalid data\n",
      "  warnings.warn(\n",
      "/home/katscott/Code/ros_metrics_analysis/notebooks/metrics/lib/python3.11/site-packages/lars/apache.py:741: ApacheWarning: Line 20116: Line contains invalid data\n",
      "  warnings.warn(\n",
      "/home/katscott/Code/ros_metrics_analysis/notebooks/metrics/lib/python3.11/site-packages/lars/apache.py:741: ApacheWarning: Line 21180: Line contains invalid data\n",
      "  warnings.warn(\n",
      "/home/katscott/Code/ros_metrics_analysis/notebooks/metrics/lib/python3.11/site-packages/lars/apache.py:741: ApacheWarning: Line 21332: Line contains invalid data\n",
      "  warnings.warn(\n"
     ]
    },
    {
     "name": "stdout",
     "output_type": "stream",
     "text": [
      ".\n",
      "./temp/packages-logs/apt-access.log.33\n",
      ".\n",
      ".\n",
      ".\n",
      ".\n"
     ]
    },
    {
     "name": "stderr",
     "output_type": "stream",
     "text": [
      "/home/katscott/Code/ros_metrics_analysis/notebooks/metrics/lib/python3.11/site-packages/lars/apache.py:741: ApacheWarning: Line 30799: Line contains invalid data\n",
      "  warnings.warn(\n",
      "/home/katscott/Code/ros_metrics_analysis/notebooks/metrics/lib/python3.11/site-packages/lars/apache.py:741: ApacheWarning: Line 31440: Line contains invalid data\n",
      "  warnings.warn(\n",
      "/home/katscott/Code/ros_metrics_analysis/notebooks/metrics/lib/python3.11/site-packages/lars/apache.py:741: ApacheWarning: Line 32420: Line contains invalid data\n",
      "  warnings.warn(\n",
      "/home/katscott/Code/ros_metrics_analysis/notebooks/metrics/lib/python3.11/site-packages/lars/apache.py:741: ApacheWarning: Line 32421: Line contains invalid data\n",
      "  warnings.warn(\n",
      "/home/katscott/Code/ros_metrics_analysis/notebooks/metrics/lib/python3.11/site-packages/lars/apache.py:741: ApacheWarning: Line 32423: Line contains invalid data\n",
      "  warnings.warn(\n",
      "/home/katscott/Code/ros_metrics_analysis/notebooks/metrics/lib/python3.11/site-packages/lars/apache.py:741: ApacheWarning: Line 33829: Line contains invalid data\n",
      "  warnings.warn(\n",
      "/home/katscott/Code/ros_metrics_analysis/notebooks/metrics/lib/python3.11/site-packages/lars/apache.py:741: ApacheWarning: Line 33830: Line contains invalid data\n",
      "  warnings.warn(\n",
      "/home/katscott/Code/ros_metrics_analysis/notebooks/metrics/lib/python3.11/site-packages/lars/apache.py:741: ApacheWarning: Line 33831: Line contains invalid data\n",
      "  warnings.warn(\n",
      "/home/katscott/Code/ros_metrics_analysis/notebooks/metrics/lib/python3.11/site-packages/lars/apache.py:741: ApacheWarning: Line 33833: Line contains invalid data\n",
      "  warnings.warn(\n",
      "/home/katscott/Code/ros_metrics_analysis/notebooks/metrics/lib/python3.11/site-packages/lars/apache.py:741: ApacheWarning: Line 33834: Line contains invalid data\n",
      "  warnings.warn(\n",
      "/home/katscott/Code/ros_metrics_analysis/notebooks/metrics/lib/python3.11/site-packages/lars/apache.py:741: ApacheWarning: Line 33836: Line contains invalid data\n",
      "  warnings.warn(\n",
      "/home/katscott/Code/ros_metrics_analysis/notebooks/metrics/lib/python3.11/site-packages/lars/apache.py:741: ApacheWarning: Line 33837: Line contains invalid data\n",
      "  warnings.warn(\n",
      "/home/katscott/Code/ros_metrics_analysis/notebooks/metrics/lib/python3.11/site-packages/lars/apache.py:741: ApacheWarning: Line 33840: Line contains invalid data\n",
      "  warnings.warn(\n",
      "/home/katscott/Code/ros_metrics_analysis/notebooks/metrics/lib/python3.11/site-packages/lars/apache.py:741: ApacheWarning: Line 33842: Line contains invalid data\n",
      "  warnings.warn(\n",
      "/home/katscott/Code/ros_metrics_analysis/notebooks/metrics/lib/python3.11/site-packages/lars/apache.py:741: ApacheWarning: Line 33846: Line contains invalid data\n",
      "  warnings.warn(\n",
      "/home/katscott/Code/ros_metrics_analysis/notebooks/metrics/lib/python3.11/site-packages/lars/apache.py:741: ApacheWarning: Line 33847: Line contains invalid data\n",
      "  warnings.warn(\n",
      "/home/katscott/Code/ros_metrics_analysis/notebooks/metrics/lib/python3.11/site-packages/lars/apache.py:741: ApacheWarning: Line 33848: Line contains invalid data\n",
      "  warnings.warn(\n",
      "/home/katscott/Code/ros_metrics_analysis/notebooks/metrics/lib/python3.11/site-packages/lars/apache.py:741: ApacheWarning: Line 33850: Line contains invalid data\n",
      "  warnings.warn(\n",
      "/home/katscott/Code/ros_metrics_analysis/notebooks/metrics/lib/python3.11/site-packages/lars/apache.py:741: ApacheWarning: Line 33852: Line contains invalid data\n",
      "  warnings.warn(\n",
      "/home/katscott/Code/ros_metrics_analysis/notebooks/metrics/lib/python3.11/site-packages/lars/apache.py:741: ApacheWarning: Line 33860: Line contains invalid data\n",
      "  warnings.warn(\n",
      "/home/katscott/Code/ros_metrics_analysis/notebooks/metrics/lib/python3.11/site-packages/lars/apache.py:741: ApacheWarning: Line 33879: Line contains invalid data\n",
      "  warnings.warn(\n",
      "/home/katscott/Code/ros_metrics_analysis/notebooks/metrics/lib/python3.11/site-packages/lars/apache.py:741: ApacheWarning: Line 33882: Line contains invalid data\n",
      "  warnings.warn(\n",
      "/home/katscott/Code/ros_metrics_analysis/notebooks/metrics/lib/python3.11/site-packages/lars/apache.py:741: ApacheWarning: Line 33885: Line contains invalid data\n",
      "  warnings.warn(\n",
      "/home/katscott/Code/ros_metrics_analysis/notebooks/metrics/lib/python3.11/site-packages/lars/apache.py:741: ApacheWarning: Line 33886: Line contains invalid data\n",
      "  warnings.warn(\n",
      "/home/katscott/Code/ros_metrics_analysis/notebooks/metrics/lib/python3.11/site-packages/lars/apache.py:741: ApacheWarning: Line 33888: Line contains invalid data\n",
      "  warnings.warn(\n",
      "/home/katscott/Code/ros_metrics_analysis/notebooks/metrics/lib/python3.11/site-packages/lars/apache.py:741: ApacheWarning: Line 33889: Line contains invalid data\n",
      "  warnings.warn(\n",
      "/home/katscott/Code/ros_metrics_analysis/notebooks/metrics/lib/python3.11/site-packages/lars/apache.py:741: ApacheWarning: Line 33891: Line contains invalid data\n",
      "  warnings.warn(\n",
      "/home/katscott/Code/ros_metrics_analysis/notebooks/metrics/lib/python3.11/site-packages/lars/apache.py:741: ApacheWarning: Line 33898: Line contains invalid data\n",
      "  warnings.warn(\n",
      "/home/katscott/Code/ros_metrics_analysis/notebooks/metrics/lib/python3.11/site-packages/lars/apache.py:741: ApacheWarning: Line 33899: Line contains invalid data\n",
      "  warnings.warn(\n",
      "/home/katscott/Code/ros_metrics_analysis/notebooks/metrics/lib/python3.11/site-packages/lars/apache.py:741: ApacheWarning: Line 33904: Line contains invalid data\n",
      "  warnings.warn(\n",
      "/home/katscott/Code/ros_metrics_analysis/notebooks/metrics/lib/python3.11/site-packages/lars/apache.py:741: ApacheWarning: Line 33909: Line contains invalid data\n",
      "  warnings.warn(\n",
      "/home/katscott/Code/ros_metrics_analysis/notebooks/metrics/lib/python3.11/site-packages/lars/apache.py:741: ApacheWarning: Line 33911: Line contains invalid data\n",
      "  warnings.warn(\n",
      "/home/katscott/Code/ros_metrics_analysis/notebooks/metrics/lib/python3.11/site-packages/lars/apache.py:741: ApacheWarning: Line 33916: Line contains invalid data\n",
      "  warnings.warn(\n",
      "/home/katscott/Code/ros_metrics_analysis/notebooks/metrics/lib/python3.11/site-packages/lars/apache.py:741: ApacheWarning: Line 33920: Line contains invalid data\n",
      "  warnings.warn(\n",
      "/home/katscott/Code/ros_metrics_analysis/notebooks/metrics/lib/python3.11/site-packages/lars/apache.py:741: ApacheWarning: Line 33922: Line contains invalid data\n",
      "  warnings.warn(\n",
      "/home/katscott/Code/ros_metrics_analysis/notebooks/metrics/lib/python3.11/site-packages/lars/apache.py:741: ApacheWarning: Line 33923: Line contains invalid data\n",
      "  warnings.warn(\n",
      "/home/katscott/Code/ros_metrics_analysis/notebooks/metrics/lib/python3.11/site-packages/lars/apache.py:741: ApacheWarning: Line 33927: Line contains invalid data\n",
      "  warnings.warn(\n",
      "/home/katscott/Code/ros_metrics_analysis/notebooks/metrics/lib/python3.11/site-packages/lars/apache.py:741: ApacheWarning: Line 33930: Line contains invalid data\n",
      "  warnings.warn(\n",
      "/home/katscott/Code/ros_metrics_analysis/notebooks/metrics/lib/python3.11/site-packages/lars/apache.py:741: ApacheWarning: Line 33933: Line contains invalid data\n",
      "  warnings.warn(\n",
      "/home/katscott/Code/ros_metrics_analysis/notebooks/metrics/lib/python3.11/site-packages/lars/apache.py:741: ApacheWarning: Line 33936: Line contains invalid data\n",
      "  warnings.warn(\n",
      "/home/katscott/Code/ros_metrics_analysis/notebooks/metrics/lib/python3.11/site-packages/lars/apache.py:741: ApacheWarning: Line 33938: Line contains invalid data\n",
      "  warnings.warn(\n",
      "/home/katscott/Code/ros_metrics_analysis/notebooks/metrics/lib/python3.11/site-packages/lars/apache.py:741: ApacheWarning: Line 33949: Line contains invalid data\n",
      "  warnings.warn(\n",
      "/home/katscott/Code/ros_metrics_analysis/notebooks/metrics/lib/python3.11/site-packages/lars/apache.py:741: ApacheWarning: Line 33951: Line contains invalid data\n",
      "  warnings.warn(\n",
      "/home/katscott/Code/ros_metrics_analysis/notebooks/metrics/lib/python3.11/site-packages/lars/apache.py:741: ApacheWarning: Line 33952: Line contains invalid data\n",
      "  warnings.warn(\n",
      "/home/katscott/Code/ros_metrics_analysis/notebooks/metrics/lib/python3.11/site-packages/lars/apache.py:741: ApacheWarning: Line 33955: Line contains invalid data\n",
      "  warnings.warn(\n",
      "/home/katscott/Code/ros_metrics_analysis/notebooks/metrics/lib/python3.11/site-packages/lars/apache.py:741: ApacheWarning: Line 33958: Line contains invalid data\n",
      "  warnings.warn(\n",
      "/home/katscott/Code/ros_metrics_analysis/notebooks/metrics/lib/python3.11/site-packages/lars/apache.py:741: ApacheWarning: Line 33960: Line contains invalid data\n",
      "  warnings.warn(\n",
      "/home/katscott/Code/ros_metrics_analysis/notebooks/metrics/lib/python3.11/site-packages/lars/apache.py:741: ApacheWarning: Line 33961: Line contains invalid data\n",
      "  warnings.warn(\n",
      "/home/katscott/Code/ros_metrics_analysis/notebooks/metrics/lib/python3.11/site-packages/lars/apache.py:741: ApacheWarning: Line 33974: Line contains invalid data\n",
      "  warnings.warn(\n",
      "/home/katscott/Code/ros_metrics_analysis/notebooks/metrics/lib/python3.11/site-packages/lars/apache.py:741: ApacheWarning: Line 33983: Line contains invalid data\n",
      "  warnings.warn(\n",
      "/home/katscott/Code/ros_metrics_analysis/notebooks/metrics/lib/python3.11/site-packages/lars/apache.py:741: ApacheWarning: Line 34032: Line contains invalid data\n",
      "  warnings.warn(\n",
      "/home/katscott/Code/ros_metrics_analysis/notebooks/metrics/lib/python3.11/site-packages/lars/apache.py:741: ApacheWarning: Line 34034: Line contains invalid data\n",
      "  warnings.warn(\n",
      "/home/katscott/Code/ros_metrics_analysis/notebooks/metrics/lib/python3.11/site-packages/lars/apache.py:741: ApacheWarning: Line 34035: Line contains invalid data\n",
      "  warnings.warn(\n",
      "/home/katscott/Code/ros_metrics_analysis/notebooks/metrics/lib/python3.11/site-packages/lars/apache.py:741: ApacheWarning: Line 34041: Line contains invalid data\n",
      "  warnings.warn(\n",
      "/home/katscott/Code/ros_metrics_analysis/notebooks/metrics/lib/python3.11/site-packages/lars/apache.py:741: ApacheWarning: Line 34043: Line contains invalid data\n",
      "  warnings.warn(\n",
      "/home/katscott/Code/ros_metrics_analysis/notebooks/metrics/lib/python3.11/site-packages/lars/apache.py:741: ApacheWarning: Line 34098: Line contains invalid data\n",
      "  warnings.warn(\n",
      "/home/katscott/Code/ros_metrics_analysis/notebooks/metrics/lib/python3.11/site-packages/lars/apache.py:741: ApacheWarning: Line 34099: Line contains invalid data\n",
      "  warnings.warn(\n",
      "/home/katscott/Code/ros_metrics_analysis/notebooks/metrics/lib/python3.11/site-packages/lars/apache.py:741: ApacheWarning: Line 34100: Line contains invalid data\n",
      "  warnings.warn(\n",
      "/home/katscott/Code/ros_metrics_analysis/notebooks/metrics/lib/python3.11/site-packages/lars/apache.py:741: ApacheWarning: Line 34102: Line contains invalid data\n",
      "  warnings.warn(\n",
      "/home/katscott/Code/ros_metrics_analysis/notebooks/metrics/lib/python3.11/site-packages/lars/apache.py:741: ApacheWarning: Line 34103: Line contains invalid data\n",
      "  warnings.warn(\n",
      "/home/katscott/Code/ros_metrics_analysis/notebooks/metrics/lib/python3.11/site-packages/lars/apache.py:741: ApacheWarning: Line 34104: Line contains invalid data\n",
      "  warnings.warn(\n",
      "/home/katscott/Code/ros_metrics_analysis/notebooks/metrics/lib/python3.11/site-packages/lars/apache.py:741: ApacheWarning: Line 34105: Line contains invalid data\n",
      "  warnings.warn(\n",
      "/home/katscott/Code/ros_metrics_analysis/notebooks/metrics/lib/python3.11/site-packages/lars/apache.py:741: ApacheWarning: Line 34109: Line contains invalid data\n",
      "  warnings.warn(\n",
      "/home/katscott/Code/ros_metrics_analysis/notebooks/metrics/lib/python3.11/site-packages/lars/apache.py:741: ApacheWarning: Line 34110: Line contains invalid data\n",
      "  warnings.warn(\n",
      "/home/katscott/Code/ros_metrics_analysis/notebooks/metrics/lib/python3.11/site-packages/lars/apache.py:741: ApacheWarning: Line 34112: Line contains invalid data\n",
      "  warnings.warn(\n",
      "/home/katscott/Code/ros_metrics_analysis/notebooks/metrics/lib/python3.11/site-packages/lars/apache.py:741: ApacheWarning: Line 34113: Line contains invalid data\n",
      "  warnings.warn(\n",
      "/home/katscott/Code/ros_metrics_analysis/notebooks/metrics/lib/python3.11/site-packages/lars/apache.py:741: ApacheWarning: Line 34116: Line contains invalid data\n",
      "  warnings.warn(\n",
      "/home/katscott/Code/ros_metrics_analysis/notebooks/metrics/lib/python3.11/site-packages/lars/apache.py:741: ApacheWarning: Line 34118: Line contains invalid data\n",
      "  warnings.warn(\n",
      "/home/katscott/Code/ros_metrics_analysis/notebooks/metrics/lib/python3.11/site-packages/lars/apache.py:741: ApacheWarning: Line 34120: Line contains invalid data\n",
      "  warnings.warn(\n",
      "/home/katscott/Code/ros_metrics_analysis/notebooks/metrics/lib/python3.11/site-packages/lars/apache.py:741: ApacheWarning: Line 34125: Line contains invalid data\n",
      "  warnings.warn(\n",
      "/home/katscott/Code/ros_metrics_analysis/notebooks/metrics/lib/python3.11/site-packages/lars/apache.py:741: ApacheWarning: Line 34126: Line contains invalid data\n",
      "  warnings.warn(\n",
      "/home/katscott/Code/ros_metrics_analysis/notebooks/metrics/lib/python3.11/site-packages/lars/apache.py:741: ApacheWarning: Line 34127: Line contains invalid data\n",
      "  warnings.warn(\n",
      "/home/katscott/Code/ros_metrics_analysis/notebooks/metrics/lib/python3.11/site-packages/lars/apache.py:741: ApacheWarning: Line 34128: Line contains invalid data\n",
      "  warnings.warn(\n",
      "/home/katscott/Code/ros_metrics_analysis/notebooks/metrics/lib/python3.11/site-packages/lars/apache.py:741: ApacheWarning: Line 34137: Line contains invalid data\n",
      "  warnings.warn(\n",
      "/home/katscott/Code/ros_metrics_analysis/notebooks/metrics/lib/python3.11/site-packages/lars/apache.py:741: ApacheWarning: Line 34144: Line contains invalid data\n",
      "  warnings.warn(\n",
      "/home/katscott/Code/ros_metrics_analysis/notebooks/metrics/lib/python3.11/site-packages/lars/apache.py:741: ApacheWarning: Line 34147: Line contains invalid data\n",
      "  warnings.warn(\n",
      "/home/katscott/Code/ros_metrics_analysis/notebooks/metrics/lib/python3.11/site-packages/lars/apache.py:741: ApacheWarning: Line 34148: Line contains invalid data\n",
      "  warnings.warn(\n",
      "/home/katscott/Code/ros_metrics_analysis/notebooks/metrics/lib/python3.11/site-packages/lars/apache.py:741: ApacheWarning: Line 34149: Line contains invalid data\n",
      "  warnings.warn(\n",
      "/home/katscott/Code/ros_metrics_analysis/notebooks/metrics/lib/python3.11/site-packages/lars/apache.py:741: ApacheWarning: Line 34151: Line contains invalid data\n",
      "  warnings.warn(\n",
      "/home/katscott/Code/ros_metrics_analysis/notebooks/metrics/lib/python3.11/site-packages/lars/apache.py:741: ApacheWarning: Line 34153: Line contains invalid data\n",
      "  warnings.warn(\n",
      "/home/katscott/Code/ros_metrics_analysis/notebooks/metrics/lib/python3.11/site-packages/lars/apache.py:741: ApacheWarning: Line 34154: Line contains invalid data\n",
      "  warnings.warn(\n",
      "/home/katscott/Code/ros_metrics_analysis/notebooks/metrics/lib/python3.11/site-packages/lars/apache.py:741: ApacheWarning: Line 34155: Line contains invalid data\n",
      "  warnings.warn(\n",
      "/home/katscott/Code/ros_metrics_analysis/notebooks/metrics/lib/python3.11/site-packages/lars/apache.py:741: ApacheWarning: Line 34157: Line contains invalid data\n",
      "  warnings.warn(\n",
      "/home/katscott/Code/ros_metrics_analysis/notebooks/metrics/lib/python3.11/site-packages/lars/apache.py:741: ApacheWarning: Line 34160: Line contains invalid data\n",
      "  warnings.warn(\n",
      "/home/katscott/Code/ros_metrics_analysis/notebooks/metrics/lib/python3.11/site-packages/lars/apache.py:741: ApacheWarning: Line 34162: Line contains invalid data\n",
      "  warnings.warn(\n",
      "/home/katscott/Code/ros_metrics_analysis/notebooks/metrics/lib/python3.11/site-packages/lars/apache.py:741: ApacheWarning: Line 34165: Line contains invalid data\n",
      "  warnings.warn(\n",
      "/home/katscott/Code/ros_metrics_analysis/notebooks/metrics/lib/python3.11/site-packages/lars/apache.py:741: ApacheWarning: Line 34166: Line contains invalid data\n",
      "  warnings.warn(\n",
      "/home/katscott/Code/ros_metrics_analysis/notebooks/metrics/lib/python3.11/site-packages/lars/apache.py:741: ApacheWarning: Line 34169: Line contains invalid data\n",
      "  warnings.warn(\n",
      "/home/katscott/Code/ros_metrics_analysis/notebooks/metrics/lib/python3.11/site-packages/lars/apache.py:741: ApacheWarning: Line 34171: Line contains invalid data\n",
      "  warnings.warn(\n",
      "/home/katscott/Code/ros_metrics_analysis/notebooks/metrics/lib/python3.11/site-packages/lars/apache.py:741: ApacheWarning: Line 34173: Line contains invalid data\n",
      "  warnings.warn(\n",
      "/home/katscott/Code/ros_metrics_analysis/notebooks/metrics/lib/python3.11/site-packages/lars/apache.py:741: ApacheWarning: Line 34175: Line contains invalid data\n",
      "  warnings.warn(\n",
      "/home/katscott/Code/ros_metrics_analysis/notebooks/metrics/lib/python3.11/site-packages/lars/apache.py:741: ApacheWarning: Line 34177: Line contains invalid data\n",
      "  warnings.warn(\n",
      "/home/katscott/Code/ros_metrics_analysis/notebooks/metrics/lib/python3.11/site-packages/lars/apache.py:741: ApacheWarning: Line 34178: Line contains invalid data\n",
      "  warnings.warn(\n",
      "/home/katscott/Code/ros_metrics_analysis/notebooks/metrics/lib/python3.11/site-packages/lars/apache.py:741: ApacheWarning: Line 34185: Line contains invalid data\n",
      "  warnings.warn(\n",
      "/home/katscott/Code/ros_metrics_analysis/notebooks/metrics/lib/python3.11/site-packages/lars/apache.py:741: ApacheWarning: Line 34187: Line contains invalid data\n",
      "  warnings.warn(\n",
      "/home/katscott/Code/ros_metrics_analysis/notebooks/metrics/lib/python3.11/site-packages/lars/apache.py:741: ApacheWarning: Line 34189: Line contains invalid data\n",
      "  warnings.warn(\n",
      "/home/katscott/Code/ros_metrics_analysis/notebooks/metrics/lib/python3.11/site-packages/lars/apache.py:741: ApacheWarning: Line 34192: Line contains invalid data\n",
      "  warnings.warn(\n",
      "/home/katscott/Code/ros_metrics_analysis/notebooks/metrics/lib/python3.11/site-packages/lars/apache.py:741: ApacheWarning: Line 34193: Line contains invalid data\n",
      "  warnings.warn(\n",
      "/home/katscott/Code/ros_metrics_analysis/notebooks/metrics/lib/python3.11/site-packages/lars/apache.py:741: ApacheWarning: Line 34195: Line contains invalid data\n",
      "  warnings.warn(\n",
      "/home/katscott/Code/ros_metrics_analysis/notebooks/metrics/lib/python3.11/site-packages/lars/apache.py:741: ApacheWarning: Line 34201: Line contains invalid data\n",
      "  warnings.warn(\n",
      "/home/katscott/Code/ros_metrics_analysis/notebooks/metrics/lib/python3.11/site-packages/lars/apache.py:741: ApacheWarning: Line 34239: Line contains invalid data\n",
      "  warnings.warn(\n",
      "/home/katscott/Code/ros_metrics_analysis/notebooks/metrics/lib/python3.11/site-packages/lars/apache.py:741: ApacheWarning: Line 34241: Line contains invalid data\n",
      "  warnings.warn(\n",
      "/home/katscott/Code/ros_metrics_analysis/notebooks/metrics/lib/python3.11/site-packages/lars/apache.py:741: ApacheWarning: Line 34244: Line contains invalid data\n",
      "  warnings.warn(\n",
      "/home/katscott/Code/ros_metrics_analysis/notebooks/metrics/lib/python3.11/site-packages/lars/apache.py:741: ApacheWarning: Line 34248: Line contains invalid data\n",
      "  warnings.warn(\n",
      "/home/katscott/Code/ros_metrics_analysis/notebooks/metrics/lib/python3.11/site-packages/lars/apache.py:741: ApacheWarning: Line 34250: Line contains invalid data\n",
      "  warnings.warn(\n",
      "/home/katscott/Code/ros_metrics_analysis/notebooks/metrics/lib/python3.11/site-packages/lars/apache.py:741: ApacheWarning: Line 34254: Line contains invalid data\n",
      "  warnings.warn(\n",
      "/home/katscott/Code/ros_metrics_analysis/notebooks/metrics/lib/python3.11/site-packages/lars/apache.py:741: ApacheWarning: Line 34255: Line contains invalid data\n",
      "  warnings.warn(\n",
      "/home/katscott/Code/ros_metrics_analysis/notebooks/metrics/lib/python3.11/site-packages/lars/apache.py:741: ApacheWarning: Line 34257: Line contains invalid data\n",
      "  warnings.warn(\n",
      "/home/katscott/Code/ros_metrics_analysis/notebooks/metrics/lib/python3.11/site-packages/lars/apache.py:741: ApacheWarning: Line 34259: Line contains invalid data\n",
      "  warnings.warn(\n",
      "/home/katscott/Code/ros_metrics_analysis/notebooks/metrics/lib/python3.11/site-packages/lars/apache.py:741: ApacheWarning: Line 34260: Line contains invalid data\n",
      "  warnings.warn(\n",
      "/home/katscott/Code/ros_metrics_analysis/notebooks/metrics/lib/python3.11/site-packages/lars/apache.py:741: ApacheWarning: Line 34261: Line contains invalid data\n",
      "  warnings.warn(\n",
      "/home/katscott/Code/ros_metrics_analysis/notebooks/metrics/lib/python3.11/site-packages/lars/apache.py:741: ApacheWarning: Line 34263: Line contains invalid data\n",
      "  warnings.warn(\n",
      "/home/katscott/Code/ros_metrics_analysis/notebooks/metrics/lib/python3.11/site-packages/lars/apache.py:741: ApacheWarning: Line 34269: Line contains invalid data\n",
      "  warnings.warn(\n",
      "/home/katscott/Code/ros_metrics_analysis/notebooks/metrics/lib/python3.11/site-packages/lars/apache.py:741: ApacheWarning: Line 34270: Line contains invalid data\n",
      "  warnings.warn(\n",
      "/home/katscott/Code/ros_metrics_analysis/notebooks/metrics/lib/python3.11/site-packages/lars/apache.py:741: ApacheWarning: Line 34275: Line contains invalid data\n",
      "  warnings.warn(\n",
      "/home/katscott/Code/ros_metrics_analysis/notebooks/metrics/lib/python3.11/site-packages/lars/apache.py:741: ApacheWarning: Line 34278: Line contains invalid data\n",
      "  warnings.warn(\n",
      "/home/katscott/Code/ros_metrics_analysis/notebooks/metrics/lib/python3.11/site-packages/lars/apache.py:741: ApacheWarning: Line 34279: Line contains invalid data\n",
      "  warnings.warn(\n",
      "/home/katscott/Code/ros_metrics_analysis/notebooks/metrics/lib/python3.11/site-packages/lars/apache.py:741: ApacheWarning: Line 34287: Line contains invalid data\n",
      "  warnings.warn(\n",
      "/home/katscott/Code/ros_metrics_analysis/notebooks/metrics/lib/python3.11/site-packages/lars/apache.py:741: ApacheWarning: Line 34288: Line contains invalid data\n",
      "  warnings.warn(\n",
      "/home/katscott/Code/ros_metrics_analysis/notebooks/metrics/lib/python3.11/site-packages/lars/apache.py:741: ApacheWarning: Line 34290: Line contains invalid data\n",
      "  warnings.warn(\n",
      "/home/katscott/Code/ros_metrics_analysis/notebooks/metrics/lib/python3.11/site-packages/lars/apache.py:741: ApacheWarning: Line 34328: Line contains invalid data\n",
      "  warnings.warn(\n",
      "/home/katscott/Code/ros_metrics_analysis/notebooks/metrics/lib/python3.11/site-packages/lars/apache.py:741: ApacheWarning: Line 34358: Line contains invalid data\n",
      "  warnings.warn(\n",
      "/home/katscott/Code/ros_metrics_analysis/notebooks/metrics/lib/python3.11/site-packages/lars/apache.py:741: ApacheWarning: Line 34367: Line contains invalid data\n",
      "  warnings.warn(\n",
      "/home/katscott/Code/ros_metrics_analysis/notebooks/metrics/lib/python3.11/site-packages/lars/apache.py:741: ApacheWarning: Line 34384: Line contains invalid data\n",
      "  warnings.warn(\n",
      "/home/katscott/Code/ros_metrics_analysis/notebooks/metrics/lib/python3.11/site-packages/lars/apache.py:741: ApacheWarning: Line 34411: Line contains invalid data\n",
      "  warnings.warn(\n",
      "/home/katscott/Code/ros_metrics_analysis/notebooks/metrics/lib/python3.11/site-packages/lars/apache.py:741: ApacheWarning: Line 34433: Line contains invalid data\n",
      "  warnings.warn(\n",
      "/home/katscott/Code/ros_metrics_analysis/notebooks/metrics/lib/python3.11/site-packages/lars/apache.py:741: ApacheWarning: Line 34471: Line contains invalid data\n",
      "  warnings.warn(\n",
      "/home/katscott/Code/ros_metrics_analysis/notebooks/metrics/lib/python3.11/site-packages/lars/apache.py:741: ApacheWarning: Line 34492: Line contains invalid data\n",
      "  warnings.warn(\n",
      "/home/katscott/Code/ros_metrics_analysis/notebooks/metrics/lib/python3.11/site-packages/lars/apache.py:741: ApacheWarning: Line 34507: Line contains invalid data\n",
      "  warnings.warn(\n",
      "/home/katscott/Code/ros_metrics_analysis/notebooks/metrics/lib/python3.11/site-packages/lars/apache.py:741: ApacheWarning: Line 34545: Line contains invalid data\n",
      "  warnings.warn(\n",
      "/home/katscott/Code/ros_metrics_analysis/notebooks/metrics/lib/python3.11/site-packages/lars/apache.py:741: ApacheWarning: Line 34547: Line contains invalid data\n",
      "  warnings.warn(\n",
      "/home/katscott/Code/ros_metrics_analysis/notebooks/metrics/lib/python3.11/site-packages/lars/apache.py:741: ApacheWarning: Line 34550: Line contains invalid data\n",
      "  warnings.warn(\n",
      "/home/katscott/Code/ros_metrics_analysis/notebooks/metrics/lib/python3.11/site-packages/lars/apache.py:741: ApacheWarning: Line 34552: Line contains invalid data\n",
      "  warnings.warn(\n",
      "/home/katscott/Code/ros_metrics_analysis/notebooks/metrics/lib/python3.11/site-packages/lars/apache.py:741: ApacheWarning: Line 34565: Line contains invalid data\n",
      "  warnings.warn(\n",
      "/home/katscott/Code/ros_metrics_analysis/notebooks/metrics/lib/python3.11/site-packages/lars/apache.py:741: ApacheWarning: Line 34568: Line contains invalid data\n",
      "  warnings.warn(\n",
      "/home/katscott/Code/ros_metrics_analysis/notebooks/metrics/lib/python3.11/site-packages/lars/apache.py:741: ApacheWarning: Line 34569: Line contains invalid data\n",
      "  warnings.warn(\n",
      "/home/katscott/Code/ros_metrics_analysis/notebooks/metrics/lib/python3.11/site-packages/lars/apache.py:741: ApacheWarning: Line 34570: Line contains invalid data\n",
      "  warnings.warn(\n",
      "/home/katscott/Code/ros_metrics_analysis/notebooks/metrics/lib/python3.11/site-packages/lars/apache.py:741: ApacheWarning: Line 34572: Line contains invalid data\n",
      "  warnings.warn(\n",
      "/home/katscott/Code/ros_metrics_analysis/notebooks/metrics/lib/python3.11/site-packages/lars/apache.py:741: ApacheWarning: Line 34573: Line contains invalid data\n",
      "  warnings.warn(\n",
      "/home/katscott/Code/ros_metrics_analysis/notebooks/metrics/lib/python3.11/site-packages/lars/apache.py:741: ApacheWarning: Line 34574: Line contains invalid data\n",
      "  warnings.warn(\n",
      "/home/katscott/Code/ros_metrics_analysis/notebooks/metrics/lib/python3.11/site-packages/lars/apache.py:741: ApacheWarning: Line 34575: Line contains invalid data\n",
      "  warnings.warn(\n",
      "/home/katscott/Code/ros_metrics_analysis/notebooks/metrics/lib/python3.11/site-packages/lars/apache.py:741: ApacheWarning: Line 34576: Line contains invalid data\n",
      "  warnings.warn(\n",
      "/home/katscott/Code/ros_metrics_analysis/notebooks/metrics/lib/python3.11/site-packages/lars/apache.py:741: ApacheWarning: Line 34578: Line contains invalid data\n",
      "  warnings.warn(\n",
      "/home/katscott/Code/ros_metrics_analysis/notebooks/metrics/lib/python3.11/site-packages/lars/apache.py:741: ApacheWarning: Line 34579: Line contains invalid data\n",
      "  warnings.warn(\n",
      "/home/katscott/Code/ros_metrics_analysis/notebooks/metrics/lib/python3.11/site-packages/lars/apache.py:741: ApacheWarning: Line 34580: Line contains invalid data\n",
      "  warnings.warn(\n",
      "/home/katscott/Code/ros_metrics_analysis/notebooks/metrics/lib/python3.11/site-packages/lars/apache.py:741: ApacheWarning: Line 34583: Line contains invalid data\n",
      "  warnings.warn(\n",
      "/home/katscott/Code/ros_metrics_analysis/notebooks/metrics/lib/python3.11/site-packages/lars/apache.py:741: ApacheWarning: Line 34590: Line contains invalid data\n",
      "  warnings.warn(\n",
      "/home/katscott/Code/ros_metrics_analysis/notebooks/metrics/lib/python3.11/site-packages/lars/apache.py:741: ApacheWarning: Line 34592: Line contains invalid data\n",
      "  warnings.warn(\n",
      "/home/katscott/Code/ros_metrics_analysis/notebooks/metrics/lib/python3.11/site-packages/lars/apache.py:741: ApacheWarning: Line 34593: Line contains invalid data\n",
      "  warnings.warn(\n",
      "/home/katscott/Code/ros_metrics_analysis/notebooks/metrics/lib/python3.11/site-packages/lars/apache.py:741: ApacheWarning: Line 34598: Line contains invalid data\n",
      "  warnings.warn(\n",
      "/home/katscott/Code/ros_metrics_analysis/notebooks/metrics/lib/python3.11/site-packages/lars/apache.py:741: ApacheWarning: Line 34625: Line contains invalid data\n",
      "  warnings.warn(\n",
      "/home/katscott/Code/ros_metrics_analysis/notebooks/metrics/lib/python3.11/site-packages/lars/apache.py:741: ApacheWarning: Line 34626: Line contains invalid data\n",
      "  warnings.warn(\n",
      "/home/katscott/Code/ros_metrics_analysis/notebooks/metrics/lib/python3.11/site-packages/lars/apache.py:741: ApacheWarning: Line 34629: Line contains invalid data\n",
      "  warnings.warn(\n",
      "/home/katscott/Code/ros_metrics_analysis/notebooks/metrics/lib/python3.11/site-packages/lars/apache.py:741: ApacheWarning: Line 34634: Line contains invalid data\n",
      "  warnings.warn(\n",
      "/home/katscott/Code/ros_metrics_analysis/notebooks/metrics/lib/python3.11/site-packages/lars/apache.py:741: ApacheWarning: Line 34640: Line contains invalid data\n",
      "  warnings.warn(\n",
      "/home/katscott/Code/ros_metrics_analysis/notebooks/metrics/lib/python3.11/site-packages/lars/apache.py:741: ApacheWarning: Line 39937: Line contains invalid data\n",
      "  warnings.warn(\n",
      "/home/katscott/Code/ros_metrics_analysis/notebooks/metrics/lib/python3.11/site-packages/lars/apache.py:741: ApacheWarning: Line 39938: Line contains invalid data\n",
      "  warnings.warn(\n",
      "/home/katscott/Code/ros_metrics_analysis/notebooks/metrics/lib/python3.11/site-packages/lars/apache.py:741: ApacheWarning: Line 39941: Line contains invalid data\n",
      "  warnings.warn(\n",
      "/home/katscott/Code/ros_metrics_analysis/notebooks/metrics/lib/python3.11/site-packages/lars/apache.py:741: ApacheWarning: Line 39942: Line contains invalid data\n",
      "  warnings.warn(\n",
      "/home/katscott/Code/ros_metrics_analysis/notebooks/metrics/lib/python3.11/site-packages/lars/apache.py:741: ApacheWarning: Line 39943: Line contains invalid data\n",
      "  warnings.warn(\n",
      "/home/katscott/Code/ros_metrics_analysis/notebooks/metrics/lib/python3.11/site-packages/lars/apache.py:741: ApacheWarning: Line 39950: Line contains invalid data\n",
      "  warnings.warn(\n",
      "/home/katscott/Code/ros_metrics_analysis/notebooks/metrics/lib/python3.11/site-packages/lars/apache.py:741: ApacheWarning: Line 40003: Line contains invalid data\n",
      "  warnings.warn(\n",
      "/home/katscott/Code/ros_metrics_analysis/notebooks/metrics/lib/python3.11/site-packages/lars/apache.py:741: ApacheWarning: Line 40694: Line contains invalid data\n",
      "  warnings.warn(\n",
      "/home/katscott/Code/ros_metrics_analysis/notebooks/metrics/lib/python3.11/site-packages/lars/apache.py:741: ApacheWarning: Line 40695: Line contains invalid data\n",
      "  warnings.warn(\n",
      "/home/katscott/Code/ros_metrics_analysis/notebooks/metrics/lib/python3.11/site-packages/lars/apache.py:741: ApacheWarning: Line 43979: Line contains invalid data\n",
      "  warnings.warn(\n",
      "/home/katscott/Code/ros_metrics_analysis/notebooks/metrics/lib/python3.11/site-packages/lars/apache.py:741: ApacheWarning: Line 47525: Line contains invalid data\n",
      "  warnings.warn(\n",
      "/home/katscott/Code/ros_metrics_analysis/notebooks/metrics/lib/python3.11/site-packages/lars/apache.py:741: ApacheWarning: Line 47989: Line contains invalid data\n",
      "  warnings.warn(\n",
      "/home/katscott/Code/ros_metrics_analysis/notebooks/metrics/lib/python3.11/site-packages/lars/apache.py:741: ApacheWarning: Line 67680: Line contains invalid data\n",
      "  warnings.warn(\n",
      "/home/katscott/Code/ros_metrics_analysis/notebooks/metrics/lib/python3.11/site-packages/lars/apache.py:741: ApacheWarning: Line 77350: Line contains invalid data\n",
      "  warnings.warn(\n",
      "/home/katscott/Code/ros_metrics_analysis/notebooks/metrics/lib/python3.11/site-packages/lars/apache.py:741: ApacheWarning: Line 82329: Line contains invalid data\n",
      "  warnings.warn(\n"
     ]
    },
    {
     "name": "stdout",
     "output_type": "stream",
     "text": [
      ".\n",
      ".\n",
      ".\n",
      ".\n",
      ".\n",
      ".\n",
      "./temp/packages-logs/apt-access.log.34\n"
     ]
    },
    {
     "name": "stderr",
     "output_type": "stream",
     "text": [
      "/home/katscott/Code/ros_metrics_analysis/notebooks/metrics/lib/python3.11/site-packages/lars/apache.py:741: ApacheWarning: Line 93975: Line contains invalid data\n",
      "  warnings.warn(\n",
      "/home/katscott/Code/ros_metrics_analysis/notebooks/metrics/lib/python3.11/site-packages/lars/apache.py:741: ApacheWarning: Line 93976: Line contains invalid data\n",
      "  warnings.warn(\n",
      "/home/katscott/Code/ros_metrics_analysis/notebooks/metrics/lib/python3.11/site-packages/lars/apache.py:741: ApacheWarning: Line 93977: Line contains invalid data\n",
      "  warnings.warn(\n",
      "/home/katscott/Code/ros_metrics_analysis/notebooks/metrics/lib/python3.11/site-packages/lars/apache.py:741: ApacheWarning: Line 93978: Line contains invalid data\n",
      "  warnings.warn(\n",
      "/home/katscott/Code/ros_metrics_analysis/notebooks/metrics/lib/python3.11/site-packages/lars/apache.py:741: ApacheWarning: Line 93979: Line contains invalid data\n",
      "  warnings.warn(\n",
      "/home/katscott/Code/ros_metrics_analysis/notebooks/metrics/lib/python3.11/site-packages/lars/apache.py:741: ApacheWarning: Line 93980: Line contains invalid data\n",
      "  warnings.warn(\n",
      "/home/katscott/Code/ros_metrics_analysis/notebooks/metrics/lib/python3.11/site-packages/lars/apache.py:741: ApacheWarning: Line 98723: Line contains invalid data\n",
      "  warnings.warn(\n",
      "/home/katscott/Code/ros_metrics_analysis/notebooks/metrics/lib/python3.11/site-packages/lars/apache.py:741: ApacheWarning: Line 102981: Line contains invalid data\n",
      "  warnings.warn(\n"
     ]
    },
    {
     "name": "stdout",
     "output_type": "stream",
     "text": [
      ".\n",
      ".\n",
      ".\n"
     ]
    },
    {
     "name": "stderr",
     "output_type": "stream",
     "text": [
      "/home/katscott/Code/ros_metrics_analysis/notebooks/metrics/lib/python3.11/site-packages/lars/apache.py:741: ApacheWarning: Line 18526: Line contains invalid data\n",
      "  warnings.warn(\n",
      "/home/katscott/Code/ros_metrics_analysis/notebooks/metrics/lib/python3.11/site-packages/lars/apache.py:741: ApacheWarning: Line 20049: Line contains invalid data\n",
      "  warnings.warn(\n",
      "/home/katscott/Code/ros_metrics_analysis/notebooks/metrics/lib/python3.11/site-packages/lars/apache.py:741: ApacheWarning: Line 20050: Line contains invalid data\n",
      "  warnings.warn(\n",
      "/home/katscott/Code/ros_metrics_analysis/notebooks/metrics/lib/python3.11/site-packages/lars/apache.py:741: ApacheWarning: Line 27616: Line contains invalid data\n",
      "  warnings.warn(\n",
      "/home/katscott/Code/ros_metrics_analysis/notebooks/metrics/lib/python3.11/site-packages/lars/apache.py:741: ApacheWarning: Line 28701: Line contains invalid data\n",
      "  warnings.warn(\n",
      "/home/katscott/Code/ros_metrics_analysis/notebooks/metrics/lib/python3.11/site-packages/lars/apache.py:741: ApacheWarning: Line 34240: Line contains invalid data\n",
      "  warnings.warn(\n",
      "/home/katscott/Code/ros_metrics_analysis/notebooks/metrics/lib/python3.11/site-packages/lars/apache.py:741: ApacheWarning: Line 36241: Line contains invalid data\n",
      "  warnings.warn(\n",
      "/home/katscott/Code/ros_metrics_analysis/notebooks/metrics/lib/python3.11/site-packages/lars/apache.py:741: ApacheWarning: Line 36242: Line contains invalid data\n",
      "  warnings.warn(\n",
      "/home/katscott/Code/ros_metrics_analysis/notebooks/metrics/lib/python3.11/site-packages/lars/apache.py:741: ApacheWarning: Line 36373: Line contains invalid data\n",
      "  warnings.warn(\n",
      "/home/katscott/Code/ros_metrics_analysis/notebooks/metrics/lib/python3.11/site-packages/lars/apache.py:741: ApacheWarning: Line 38440: Line contains invalid data\n",
      "  warnings.warn(\n",
      "/home/katscott/Code/ros_metrics_analysis/notebooks/metrics/lib/python3.11/site-packages/lars/apache.py:741: ApacheWarning: Line 39469: Line contains invalid data\n",
      "  warnings.warn(\n",
      "/home/katscott/Code/ros_metrics_analysis/notebooks/metrics/lib/python3.11/site-packages/lars/apache.py:741: ApacheWarning: Line 39471: Line contains invalid data\n",
      "  warnings.warn(\n",
      "/home/katscott/Code/ros_metrics_analysis/notebooks/metrics/lib/python3.11/site-packages/lars/apache.py:741: ApacheWarning: Line 39472: Line contains invalid data\n",
      "  warnings.warn(\n",
      "/home/katscott/Code/ros_metrics_analysis/notebooks/metrics/lib/python3.11/site-packages/lars/apache.py:741: ApacheWarning: Line 39473: Line contains invalid data\n",
      "  warnings.warn(\n",
      "/home/katscott/Code/ros_metrics_analysis/notebooks/metrics/lib/python3.11/site-packages/lars/apache.py:741: ApacheWarning: Line 39474: Line contains invalid data\n",
      "  warnings.warn(\n",
      "/home/katscott/Code/ros_metrics_analysis/notebooks/metrics/lib/python3.11/site-packages/lars/apache.py:741: ApacheWarning: Line 39479: Line contains invalid data\n",
      "  warnings.warn(\n",
      "/home/katscott/Code/ros_metrics_analysis/notebooks/metrics/lib/python3.11/site-packages/lars/apache.py:741: ApacheWarning: Line 39498: Line contains invalid data\n",
      "  warnings.warn(\n",
      "/home/katscott/Code/ros_metrics_analysis/notebooks/metrics/lib/python3.11/site-packages/lars/apache.py:741: ApacheWarning: Line 42316: Line contains invalid data\n",
      "  warnings.warn(\n"
     ]
    },
    {
     "name": "stdout",
     "output_type": "stream",
     "text": [
      ".\n",
      ".\n",
      ".\n",
      ".\n"
     ]
    },
    {
     "name": "stderr",
     "output_type": "stream",
     "text": [
      "/home/katscott/Code/ros_metrics_analysis/notebooks/metrics/lib/python3.11/site-packages/lars/apache.py:741: ApacheWarning: Line 50441: Line contains invalid data\n",
      "  warnings.warn(\n",
      "/home/katscott/Code/ros_metrics_analysis/notebooks/metrics/lib/python3.11/site-packages/lars/apache.py:741: ApacheWarning: Line 55251: Line contains invalid data\n",
      "  warnings.warn(\n",
      "/home/katscott/Code/ros_metrics_analysis/notebooks/metrics/lib/python3.11/site-packages/lars/apache.py:741: ApacheWarning: Line 55483: Line contains invalid data\n",
      "  warnings.warn(\n",
      "/home/katscott/Code/ros_metrics_analysis/notebooks/metrics/lib/python3.11/site-packages/lars/apache.py:741: ApacheWarning: Line 59137: Line contains invalid data\n",
      "  warnings.warn(\n",
      "/home/katscott/Code/ros_metrics_analysis/notebooks/metrics/lib/python3.11/site-packages/lars/apache.py:741: ApacheWarning: Line 69633: Line contains invalid data\n",
      "  warnings.warn(\n",
      "/home/katscott/Code/ros_metrics_analysis/notebooks/metrics/lib/python3.11/site-packages/lars/apache.py:741: ApacheWarning: Line 71219: Line contains invalid data\n",
      "  warnings.warn(\n",
      "/home/katscott/Code/ros_metrics_analysis/notebooks/metrics/lib/python3.11/site-packages/lars/apache.py:741: ApacheWarning: Line 73367: Line contains invalid data\n",
      "  warnings.warn(\n",
      "/home/katscott/Code/ros_metrics_analysis/notebooks/metrics/lib/python3.11/site-packages/lars/apache.py:741: ApacheWarning: Line 86329: Line contains invalid data\n",
      "  warnings.warn(\n",
      "/home/katscott/Code/ros_metrics_analysis/notebooks/metrics/lib/python3.11/site-packages/lars/apache.py:741: ApacheWarning: Line 87646: Line contains invalid data\n",
      "  warnings.warn(\n",
      "/home/katscott/Code/ros_metrics_analysis/notebooks/metrics/lib/python3.11/site-packages/lars/apache.py:741: ApacheWarning: Line 89284: Line contains invalid data\n",
      "  warnings.warn(\n",
      "/home/katscott/Code/ros_metrics_analysis/notebooks/metrics/lib/python3.11/site-packages/lars/apache.py:741: ApacheWarning: Line 89285: Line contains invalid data\n",
      "  warnings.warn(\n",
      "/home/katscott/Code/ros_metrics_analysis/notebooks/metrics/lib/python3.11/site-packages/lars/apache.py:741: ApacheWarning: Line 94248: Line contains invalid data\n",
      "  warnings.warn(\n",
      "/home/katscott/Code/ros_metrics_analysis/notebooks/metrics/lib/python3.11/site-packages/lars/apache.py:741: ApacheWarning: Line 94249: Line contains invalid data\n",
      "  warnings.warn(\n",
      "/home/katscott/Code/ros_metrics_analysis/notebooks/metrics/lib/python3.11/site-packages/lars/apache.py:741: ApacheWarning: Line 94250: Line contains invalid data\n",
      "  warnings.warn(\n",
      "/home/katscott/Code/ros_metrics_analysis/notebooks/metrics/lib/python3.11/site-packages/lars/apache.py:741: ApacheWarning: Line 94251: Line contains invalid data\n",
      "  warnings.warn(\n",
      "/home/katscott/Code/ros_metrics_analysis/notebooks/metrics/lib/python3.11/site-packages/lars/apache.py:741: ApacheWarning: Line 94253: Line contains invalid data\n",
      "  warnings.warn(\n",
      "/home/katscott/Code/ros_metrics_analysis/notebooks/metrics/lib/python3.11/site-packages/lars/apache.py:741: ApacheWarning: Line 94254: Line contains invalid data\n",
      "  warnings.warn(\n",
      "/home/katscott/Code/ros_metrics_analysis/notebooks/metrics/lib/python3.11/site-packages/lars/apache.py:741: ApacheWarning: Line 95150: Line contains invalid data\n",
      "  warnings.warn(\n",
      "/home/katscott/Code/ros_metrics_analysis/notebooks/metrics/lib/python3.11/site-packages/lars/apache.py:741: ApacheWarning: Line 96321: Line contains invalid data\n",
      "  warnings.warn(\n"
     ]
    },
    {
     "name": "stdout",
     "output_type": "stream",
     "text": [
      ".\n",
      ".\n",
      ".\n"
     ]
    },
    {
     "name": "stderr",
     "output_type": "stream",
     "text": [
      "/home/katscott/Code/ros_metrics_analysis/notebooks/metrics/lib/python3.11/site-packages/lars/apache.py:741: ApacheWarning: Line 101818: Line contains invalid data\n",
      "  warnings.warn(\n",
      "/home/katscott/Code/ros_metrics_analysis/notebooks/metrics/lib/python3.11/site-packages/lars/apache.py:741: ApacheWarning: Line 112593: Line contains invalid data\n",
      "  warnings.warn(\n",
      "/home/katscott/Code/ros_metrics_analysis/notebooks/metrics/lib/python3.11/site-packages/lars/apache.py:741: ApacheWarning: Line 118845: Line contains invalid data\n",
      "  warnings.warn(\n",
      "/home/katscott/Code/ros_metrics_analysis/notebooks/metrics/lib/python3.11/site-packages/lars/apache.py:741: ApacheWarning: Line 1681: Line contains invalid data\n",
      "  warnings.warn(\n",
      "/home/katscott/Code/ros_metrics_analysis/notebooks/metrics/lib/python3.11/site-packages/lars/apache.py:741: ApacheWarning: Line 1857: Line contains invalid data\n",
      "  warnings.warn(\n"
     ]
    },
    {
     "name": "stdout",
     "output_type": "stream",
     "text": [
      ".\n",
      ".\n",
      "./temp/packages-logs/apt-access.log.35\n",
      ".\n",
      ".\n",
      ".\n"
     ]
    },
    {
     "name": "stderr",
     "output_type": "stream",
     "text": [
      "/home/katscott/Code/ros_metrics_analysis/notebooks/metrics/lib/python3.11/site-packages/lars/apache.py:741: ApacheWarning: Line 12103: Line contains invalid data\n",
      "  warnings.warn(\n",
      "/home/katscott/Code/ros_metrics_analysis/notebooks/metrics/lib/python3.11/site-packages/lars/apache.py:741: ApacheWarning: Line 14503: Line contains invalid data\n",
      "  warnings.warn(\n",
      "/home/katscott/Code/ros_metrics_analysis/notebooks/metrics/lib/python3.11/site-packages/lars/apache.py:741: ApacheWarning: Line 14504: Line contains invalid data\n",
      "  warnings.warn(\n",
      "/home/katscott/Code/ros_metrics_analysis/notebooks/metrics/lib/python3.11/site-packages/lars/apache.py:741: ApacheWarning: Line 17456: Line contains invalid data\n",
      "  warnings.warn(\n",
      "/home/katscott/Code/ros_metrics_analysis/notebooks/metrics/lib/python3.11/site-packages/lars/apache.py:741: ApacheWarning: Line 17666: Line contains invalid data\n",
      "  warnings.warn(\n",
      "/home/katscott/Code/ros_metrics_analysis/notebooks/metrics/lib/python3.11/site-packages/lars/apache.py:741: ApacheWarning: Line 17744: Line contains invalid data\n",
      "  warnings.warn(\n",
      "/home/katscott/Code/ros_metrics_analysis/notebooks/metrics/lib/python3.11/site-packages/lars/apache.py:741: ApacheWarning: Line 17905: Line contains invalid data\n",
      "  warnings.warn(\n",
      "/home/katscott/Code/ros_metrics_analysis/notebooks/metrics/lib/python3.11/site-packages/lars/apache.py:741: ApacheWarning: Line 18031: Line contains invalid data\n",
      "  warnings.warn(\n",
      "/home/katscott/Code/ros_metrics_analysis/notebooks/metrics/lib/python3.11/site-packages/lars/apache.py:741: ApacheWarning: Line 18501: Line contains invalid data\n",
      "  warnings.warn(\n",
      "/home/katscott/Code/ros_metrics_analysis/notebooks/metrics/lib/python3.11/site-packages/lars/apache.py:741: ApacheWarning: Line 18624: Line contains invalid data\n",
      "  warnings.warn(\n",
      "/home/katscott/Code/ros_metrics_analysis/notebooks/metrics/lib/python3.11/site-packages/lars/apache.py:741: ApacheWarning: Line 18837: Line contains invalid data\n",
      "  warnings.warn(\n",
      "/home/katscott/Code/ros_metrics_analysis/notebooks/metrics/lib/python3.11/site-packages/lars/apache.py:741: ApacheWarning: Line 19061: Line contains invalid data\n",
      "  warnings.warn(\n",
      "/home/katscott/Code/ros_metrics_analysis/notebooks/metrics/lib/python3.11/site-packages/lars/apache.py:741: ApacheWarning: Line 19168: Line contains invalid data\n",
      "  warnings.warn(\n",
      "/home/katscott/Code/ros_metrics_analysis/notebooks/metrics/lib/python3.11/site-packages/lars/apache.py:741: ApacheWarning: Line 19286: Line contains invalid data\n",
      "  warnings.warn(\n",
      "/home/katscott/Code/ros_metrics_analysis/notebooks/metrics/lib/python3.11/site-packages/lars/apache.py:741: ApacheWarning: Line 25318: Line contains invalid data\n",
      "  warnings.warn(\n",
      "/home/katscott/Code/ros_metrics_analysis/notebooks/metrics/lib/python3.11/site-packages/lars/apache.py:741: ApacheWarning: Line 34456: Line contains invalid data\n",
      "  warnings.warn(\n",
      "/home/katscott/Code/ros_metrics_analysis/notebooks/metrics/lib/python3.11/site-packages/lars/apache.py:741: ApacheWarning: Line 34458: Line contains invalid data\n",
      "  warnings.warn(\n",
      "/home/katscott/Code/ros_metrics_analysis/notebooks/metrics/lib/python3.11/site-packages/lars/apache.py:741: ApacheWarning: Line 34459: Line contains invalid data\n",
      "  warnings.warn(\n",
      "/home/katscott/Code/ros_metrics_analysis/notebooks/metrics/lib/python3.11/site-packages/lars/apache.py:741: ApacheWarning: Line 34460: Line contains invalid data\n",
      "  warnings.warn(\n",
      "/home/katscott/Code/ros_metrics_analysis/notebooks/metrics/lib/python3.11/site-packages/lars/apache.py:741: ApacheWarning: Line 34461: Line contains invalid data\n",
      "  warnings.warn(\n",
      "/home/katscott/Code/ros_metrics_analysis/notebooks/metrics/lib/python3.11/site-packages/lars/apache.py:741: ApacheWarning: Line 34465: Line contains invalid data\n",
      "  warnings.warn(\n",
      "/home/katscott/Code/ros_metrics_analysis/notebooks/metrics/lib/python3.11/site-packages/lars/apache.py:741: ApacheWarning: Line 34484: Line contains invalid data\n",
      "  warnings.warn(\n",
      "/home/katscott/Code/ros_metrics_analysis/notebooks/metrics/lib/python3.11/site-packages/lars/apache.py:741: ApacheWarning: Line 36340: Line contains invalid data\n",
      "  warnings.warn(\n",
      "/home/katscott/Code/ros_metrics_analysis/notebooks/metrics/lib/python3.11/site-packages/lars/apache.py:741: ApacheWarning: Line 36341: Line contains invalid data\n",
      "  warnings.warn(\n",
      "/home/katscott/Code/ros_metrics_analysis/notebooks/metrics/lib/python3.11/site-packages/lars/apache.py:741: ApacheWarning: Line 56981: Line contains invalid data\n",
      "  warnings.warn(\n"
     ]
    },
    {
     "name": "stdout",
     "output_type": "stream",
     "text": [
      ".\n",
      ".\n",
      ".\n",
      ".\n",
      ".\n"
     ]
    },
    {
     "name": "stderr",
     "output_type": "stream",
     "text": [
      "/home/katscott/Code/ros_metrics_analysis/notebooks/metrics/lib/python3.11/site-packages/lars/apache.py:741: ApacheWarning: Line 72207: Line contains invalid data\n",
      "  warnings.warn(\n",
      "/home/katscott/Code/ros_metrics_analysis/notebooks/metrics/lib/python3.11/site-packages/lars/apache.py:741: ApacheWarning: Line 78818: Line contains invalid data\n",
      "  warnings.warn(\n",
      "/home/katscott/Code/ros_metrics_analysis/notebooks/metrics/lib/python3.11/site-packages/lars/apache.py:741: ApacheWarning: Line 86950: Line contains invalid data\n",
      "  warnings.warn(\n",
      "/home/katscott/Code/ros_metrics_analysis/notebooks/metrics/lib/python3.11/site-packages/lars/apache.py:741: ApacheWarning: Line 86951: Line contains invalid data\n",
      "  warnings.warn(\n",
      "/home/katscott/Code/ros_metrics_analysis/notebooks/metrics/lib/python3.11/site-packages/lars/apache.py:741: ApacheWarning: Line 86952: Line contains invalid data\n",
      "  warnings.warn(\n",
      "/home/katscott/Code/ros_metrics_analysis/notebooks/metrics/lib/python3.11/site-packages/lars/apache.py:741: ApacheWarning: Line 86953: Line contains invalid data\n",
      "  warnings.warn(\n",
      "/home/katscott/Code/ros_metrics_analysis/notebooks/metrics/lib/python3.11/site-packages/lars/apache.py:741: ApacheWarning: Line 86954: Line contains invalid data\n",
      "  warnings.warn(\n",
      "/home/katscott/Code/ros_metrics_analysis/notebooks/metrics/lib/python3.11/site-packages/lars/apache.py:741: ApacheWarning: Line 86955: Line contains invalid data\n",
      "  warnings.warn(\n",
      "/home/katscott/Code/ros_metrics_analysis/notebooks/metrics/lib/python3.11/site-packages/lars/apache.py:741: ApacheWarning: Line 86956: Line contains invalid data\n",
      "  warnings.warn(\n",
      "/home/katscott/Code/ros_metrics_analysis/notebooks/metrics/lib/python3.11/site-packages/lars/apache.py:741: ApacheWarning: Line 86957: Line contains invalid data\n",
      "  warnings.warn(\n",
      "/home/katscott/Code/ros_metrics_analysis/notebooks/metrics/lib/python3.11/site-packages/lars/apache.py:741: ApacheWarning: Line 86958: Line contains invalid data\n",
      "  warnings.warn(\n",
      "/home/katscott/Code/ros_metrics_analysis/notebooks/metrics/lib/python3.11/site-packages/lars/apache.py:741: ApacheWarning: Line 86959: Line contains invalid data\n",
      "  warnings.warn(\n",
      "/home/katscott/Code/ros_metrics_analysis/notebooks/metrics/lib/python3.11/site-packages/lars/apache.py:741: ApacheWarning: Line 86960: Line contains invalid data\n",
      "  warnings.warn(\n",
      "/home/katscott/Code/ros_metrics_analysis/notebooks/metrics/lib/python3.11/site-packages/lars/apache.py:741: ApacheWarning: Line 97766: Line contains invalid data\n",
      "  warnings.warn(\n",
      "/home/katscott/Code/ros_metrics_analysis/notebooks/metrics/lib/python3.11/site-packages/lars/apache.py:741: ApacheWarning: Line 99124: Line contains invalid data\n",
      "  warnings.warn(\n",
      "/home/katscott/Code/ros_metrics_analysis/notebooks/metrics/lib/python3.11/site-packages/lars/apache.py:741: ApacheWarning: Line 99271: Line contains invalid data\n",
      "  warnings.warn(\n",
      "/home/katscott/Code/ros_metrics_analysis/notebooks/metrics/lib/python3.11/site-packages/lars/apache.py:741: ApacheWarning: Line 101966: Line contains invalid data\n",
      "  warnings.warn(\n",
      "/home/katscott/Code/ros_metrics_analysis/notebooks/metrics/lib/python3.11/site-packages/lars/apache.py:741: ApacheWarning: Line 116279: Line contains invalid data\n",
      "  warnings.warn(\n",
      "/home/katscott/Code/ros_metrics_analysis/notebooks/metrics/lib/python3.11/site-packages/lars/apache.py:741: ApacheWarning: Line 116283: Line contains invalid data\n",
      "  warnings.warn(\n",
      "/home/katscott/Code/ros_metrics_analysis/notebooks/metrics/lib/python3.11/site-packages/lars/apache.py:741: ApacheWarning: Line 116284: Line contains invalid data\n",
      "  warnings.warn(\n",
      "/home/katscott/Code/ros_metrics_analysis/notebooks/metrics/lib/python3.11/site-packages/lars/apache.py:741: ApacheWarning: Line 116285: Line contains invalid data\n",
      "  warnings.warn(\n",
      "/home/katscott/Code/ros_metrics_analysis/notebooks/metrics/lib/python3.11/site-packages/lars/apache.py:741: ApacheWarning: Line 116286: Line contains invalid data\n",
      "  warnings.warn(\n",
      "/home/katscott/Code/ros_metrics_analysis/notebooks/metrics/lib/python3.11/site-packages/lars/apache.py:741: ApacheWarning: Line 116287: Line contains invalid data\n",
      "  warnings.warn(\n",
      "/home/katscott/Code/ros_metrics_analysis/notebooks/metrics/lib/python3.11/site-packages/lars/apache.py:741: ApacheWarning: Line 118364: Line contains invalid data\n",
      "  warnings.warn(\n"
     ]
    },
    {
     "name": "stdout",
     "output_type": "stream",
     "text": [
      ".\n",
      ".\n",
      ".\n",
      ".\n",
      "./temp/packages-logs/apt-access.log.36\n",
      ".\n",
      ".\n",
      ".\n"
     ]
    },
    {
     "name": "stderr",
     "output_type": "stream",
     "text": [
      "/home/katscott/Code/ros_metrics_analysis/notebooks/metrics/lib/python3.11/site-packages/lars/apache.py:741: ApacheWarning: Line 15469: Line contains invalid data\n",
      "  warnings.warn(\n",
      "/home/katscott/Code/ros_metrics_analysis/notebooks/metrics/lib/python3.11/site-packages/lars/apache.py:741: ApacheWarning: Line 17081: Line contains invalid data\n",
      "  warnings.warn(\n",
      "/home/katscott/Code/ros_metrics_analysis/notebooks/metrics/lib/python3.11/site-packages/lars/apache.py:741: ApacheWarning: Line 18150: Line contains invalid data\n",
      "  warnings.warn(\n",
      "/home/katscott/Code/ros_metrics_analysis/notebooks/metrics/lib/python3.11/site-packages/lars/apache.py:741: ApacheWarning: Line 18471: Line contains invalid data\n",
      "  warnings.warn(\n",
      "/home/katscott/Code/ros_metrics_analysis/notebooks/metrics/lib/python3.11/site-packages/lars/apache.py:741: ApacheWarning: Line 18472: Line contains invalid data\n",
      "  warnings.warn(\n",
      "/home/katscott/Code/ros_metrics_analysis/notebooks/metrics/lib/python3.11/site-packages/lars/apache.py:741: ApacheWarning: Line 18473: Line contains invalid data\n",
      "  warnings.warn(\n",
      "/home/katscott/Code/ros_metrics_analysis/notebooks/metrics/lib/python3.11/site-packages/lars/apache.py:741: ApacheWarning: Line 18474: Line contains invalid data\n",
      "  warnings.warn(\n",
      "/home/katscott/Code/ros_metrics_analysis/notebooks/metrics/lib/python3.11/site-packages/lars/apache.py:741: ApacheWarning: Line 18475: Line contains invalid data\n",
      "  warnings.warn(\n",
      "/home/katscott/Code/ros_metrics_analysis/notebooks/metrics/lib/python3.11/site-packages/lars/apache.py:741: ApacheWarning: Line 18479: Line contains invalid data\n",
      "  warnings.warn(\n",
      "/home/katscott/Code/ros_metrics_analysis/notebooks/metrics/lib/python3.11/site-packages/lars/apache.py:741: ApacheWarning: Line 18500: Line contains invalid data\n",
      "  warnings.warn(\n",
      "/home/katscott/Code/ros_metrics_analysis/notebooks/metrics/lib/python3.11/site-packages/lars/apache.py:741: ApacheWarning: Line 25127: Line contains invalid data\n",
      "  warnings.warn(\n",
      "/home/katscott/Code/ros_metrics_analysis/notebooks/metrics/lib/python3.11/site-packages/lars/apache.py:741: ApacheWarning: Line 28719: Line contains invalid data\n",
      "  warnings.warn(\n"
     ]
    },
    {
     "name": "stdout",
     "output_type": "stream",
     "text": [
      ".\n",
      ".\n",
      ".\n",
      ".\n",
      ".\n",
      ".\n",
      ".\n",
      ".\n"
     ]
    },
    {
     "name": "stderr",
     "output_type": "stream",
     "text": [
      "/home/katscott/Code/ros_metrics_analysis/notebooks/metrics/lib/python3.11/site-packages/lars/apache.py:741: ApacheWarning: Line 47067: Line contains invalid data\n",
      "  warnings.warn(\n",
      "/home/katscott/Code/ros_metrics_analysis/notebooks/metrics/lib/python3.11/site-packages/lars/apache.py:741: ApacheWarning: Line 51982: Line contains invalid data\n",
      "  warnings.warn(\n",
      "/home/katscott/Code/ros_metrics_analysis/notebooks/metrics/lib/python3.11/site-packages/lars/apache.py:741: ApacheWarning: Line 53294: Line contains invalid data\n",
      "  warnings.warn(\n",
      "/home/katscott/Code/ros_metrics_analysis/notebooks/metrics/lib/python3.11/site-packages/lars/apache.py:741: ApacheWarning: Line 53295: Line contains invalid data\n",
      "  warnings.warn(\n",
      "/home/katscott/Code/ros_metrics_analysis/notebooks/metrics/lib/python3.11/site-packages/lars/apache.py:741: ApacheWarning: Line 57126: Line contains invalid data\n",
      "  warnings.warn(\n",
      "/home/katscott/Code/ros_metrics_analysis/notebooks/metrics/lib/python3.11/site-packages/lars/apache.py:741: ApacheWarning: Line 64818: Line contains invalid data\n",
      "  warnings.warn(\n",
      "/home/katscott/Code/ros_metrics_analysis/notebooks/metrics/lib/python3.11/site-packages/lars/apache.py:741: ApacheWarning: Line 74994: Line contains invalid data\n",
      "  warnings.warn(\n",
      "/home/katscott/Code/ros_metrics_analysis/notebooks/metrics/lib/python3.11/site-packages/lars/apache.py:741: ApacheWarning: Line 78806: Line contains invalid data\n",
      "  warnings.warn(\n",
      "/home/katscott/Code/ros_metrics_analysis/notebooks/metrics/lib/python3.11/site-packages/lars/apache.py:741: ApacheWarning: Line 81573: Line contains invalid data\n",
      "  warnings.warn(\n",
      "/home/katscott/Code/ros_metrics_analysis/notebooks/metrics/lib/python3.11/site-packages/lars/apache.py:741: ApacheWarning: Line 83677: Line contains invalid data\n",
      "  warnings.warn(\n",
      "/home/katscott/Code/ros_metrics_analysis/notebooks/metrics/lib/python3.11/site-packages/lars/apache.py:741: ApacheWarning: Line 88103: Line contains invalid data\n",
      "  warnings.warn(\n",
      "/home/katscott/Code/ros_metrics_analysis/notebooks/metrics/lib/python3.11/site-packages/lars/apache.py:741: ApacheWarning: Line 100996: Line contains invalid data\n",
      "  warnings.warn(\n",
      "/home/katscott/Code/ros_metrics_analysis/notebooks/metrics/lib/python3.11/site-packages/lars/apache.py:741: ApacheWarning: Line 100997: Line contains invalid data\n",
      "  warnings.warn(\n",
      "/home/katscott/Code/ros_metrics_analysis/notebooks/metrics/lib/python3.11/site-packages/lars/apache.py:741: ApacheWarning: Line 100999: Line contains invalid data\n",
      "  warnings.warn(\n",
      "/home/katscott/Code/ros_metrics_analysis/notebooks/metrics/lib/python3.11/site-packages/lars/apache.py:741: ApacheWarning: Line 101002: Line contains invalid data\n",
      "  warnings.warn(\n",
      "/home/katscott/Code/ros_metrics_analysis/notebooks/metrics/lib/python3.11/site-packages/lars/apache.py:741: ApacheWarning: Line 101005: Line contains invalid data\n",
      "  warnings.warn(\n",
      "/home/katscott/Code/ros_metrics_analysis/notebooks/metrics/lib/python3.11/site-packages/lars/apache.py:741: ApacheWarning: Line 101006: Line contains invalid data\n",
      "  warnings.warn(\n",
      "/home/katscott/Code/ros_metrics_analysis/notebooks/metrics/lib/python3.11/site-packages/lars/apache.py:741: ApacheWarning: Line 105114: Line contains invalid data\n",
      "  warnings.warn(\n",
      "/home/katscott/Code/ros_metrics_analysis/notebooks/metrics/lib/python3.11/site-packages/lars/apache.py:741: ApacheWarning: Line 107480: Line contains invalid data\n",
      "  warnings.warn(\n",
      "/home/katscott/Code/ros_metrics_analysis/notebooks/metrics/lib/python3.11/site-packages/lars/apache.py:741: ApacheWarning: Line 110359: Line contains invalid data\n",
      "  warnings.warn(\n"
     ]
    },
    {
     "name": "stdout",
     "output_type": "stream",
     "text": [
      ".\n",
      "./temp/packages-logs/apt-access.log.37\n",
      ".\n"
     ]
    },
    {
     "name": "stderr",
     "output_type": "stream",
     "text": [
      "/home/katscott/Code/ros_metrics_analysis/notebooks/metrics/lib/python3.11/site-packages/lars/apache.py:741: ApacheWarning: Line 120115: Line contains invalid data\n",
      "  warnings.warn(\n",
      "/home/katscott/Code/ros_metrics_analysis/notebooks/metrics/lib/python3.11/site-packages/lars/apache.py:741: ApacheWarning: Line 120118: Line contains invalid data\n",
      "  warnings.warn(\n",
      "/home/katscott/Code/ros_metrics_analysis/notebooks/metrics/lib/python3.11/site-packages/lars/apache.py:741: ApacheWarning: Line 120120: Line contains invalid data\n",
      "  warnings.warn(\n",
      "/home/katscott/Code/ros_metrics_analysis/notebooks/metrics/lib/python3.11/site-packages/lars/apache.py:741: ApacheWarning: Line 127048: Line contains invalid data\n",
      "  warnings.warn(\n",
      "/home/katscott/Code/ros_metrics_analysis/notebooks/metrics/lib/python3.11/site-packages/lars/apache.py:741: ApacheWarning: Line 10546: Line contains invalid data\n",
      "  warnings.warn(\n",
      "/home/katscott/Code/ros_metrics_analysis/notebooks/metrics/lib/python3.11/site-packages/lars/apache.py:741: ApacheWarning: Line 12719: Line contains invalid data\n",
      "  warnings.warn(\n",
      "/home/katscott/Code/ros_metrics_analysis/notebooks/metrics/lib/python3.11/site-packages/lars/apache.py:741: ApacheWarning: Line 12722: Line contains invalid data\n",
      "  warnings.warn(\n",
      "/home/katscott/Code/ros_metrics_analysis/notebooks/metrics/lib/python3.11/site-packages/lars/apache.py:741: ApacheWarning: Line 12726: Line contains invalid data\n",
      "  warnings.warn(\n",
      "/home/katscott/Code/ros_metrics_analysis/notebooks/metrics/lib/python3.11/site-packages/lars/apache.py:741: ApacheWarning: Line 12747: Line contains invalid data\n",
      "  warnings.warn(\n"
     ]
    },
    {
     "name": "stdout",
     "output_type": "stream",
     "text": [
      ".\n",
      ".\n",
      ".\n",
      ".\n",
      ".\n"
     ]
    },
    {
     "name": "stderr",
     "output_type": "stream",
     "text": [
      "/home/katscott/Code/ros_metrics_analysis/notebooks/metrics/lib/python3.11/site-packages/lars/apache.py:741: ApacheWarning: Line 37862: Line contains invalid data\n",
      "  warnings.warn(\n",
      "/home/katscott/Code/ros_metrics_analysis/notebooks/metrics/lib/python3.11/site-packages/lars/apache.py:741: ApacheWarning: Line 37863: Line contains invalid data\n",
      "  warnings.warn(\n",
      "/home/katscott/Code/ros_metrics_analysis/notebooks/metrics/lib/python3.11/site-packages/lars/apache.py:741: ApacheWarning: Line 42488: Line contains invalid data\n",
      "  warnings.warn(\n",
      "/home/katscott/Code/ros_metrics_analysis/notebooks/metrics/lib/python3.11/site-packages/lars/apache.py:741: ApacheWarning: Line 52086: Line contains invalid data\n",
      "  warnings.warn(\n",
      "/home/katscott/Code/ros_metrics_analysis/notebooks/metrics/lib/python3.11/site-packages/lars/apache.py:741: ApacheWarning: Line 63472: Line contains invalid data\n",
      "  warnings.warn(\n",
      "/home/katscott/Code/ros_metrics_analysis/notebooks/metrics/lib/python3.11/site-packages/lars/apache.py:741: ApacheWarning: Line 63473: Line contains invalid data\n",
      "  warnings.warn(\n",
      "/home/katscott/Code/ros_metrics_analysis/notebooks/metrics/lib/python3.11/site-packages/lars/apache.py:741: ApacheWarning: Line 64942: Line contains invalid data\n",
      "  warnings.warn(\n",
      "/home/katscott/Code/ros_metrics_analysis/notebooks/metrics/lib/python3.11/site-packages/lars/apache.py:741: ApacheWarning: Line 68528: Line contains invalid data\n",
      "  warnings.warn(\n",
      "/home/katscott/Code/ros_metrics_analysis/notebooks/metrics/lib/python3.11/site-packages/lars/apache.py:741: ApacheWarning: Line 78372: Line contains invalid data\n",
      "  warnings.warn(\n",
      "/home/katscott/Code/ros_metrics_analysis/notebooks/metrics/lib/python3.11/site-packages/lars/apache.py:741: ApacheWarning: Line 78676: Line contains invalid data\n",
      "  warnings.warn(\n",
      "/home/katscott/Code/ros_metrics_analysis/notebooks/metrics/lib/python3.11/site-packages/lars/apache.py:741: ApacheWarning: Line 79261: Line contains invalid data\n",
      "  warnings.warn(\n",
      "/home/katscott/Code/ros_metrics_analysis/notebooks/metrics/lib/python3.11/site-packages/lars/apache.py:741: ApacheWarning: Line 85395: Line contains invalid data\n",
      "  warnings.warn(\n",
      "/home/katscott/Code/ros_metrics_analysis/notebooks/metrics/lib/python3.11/site-packages/lars/apache.py:741: ApacheWarning: Line 85396: Line contains invalid data\n",
      "  warnings.warn(\n",
      "/home/katscott/Code/ros_metrics_analysis/notebooks/metrics/lib/python3.11/site-packages/lars/apache.py:741: ApacheWarning: Line 85397: Line contains invalid data\n",
      "  warnings.warn(\n",
      "/home/katscott/Code/ros_metrics_analysis/notebooks/metrics/lib/python3.11/site-packages/lars/apache.py:741: ApacheWarning: Line 85398: Line contains invalid data\n",
      "  warnings.warn(\n",
      "/home/katscott/Code/ros_metrics_analysis/notebooks/metrics/lib/python3.11/site-packages/lars/apache.py:741: ApacheWarning: Line 85399: Line contains invalid data\n",
      "  warnings.warn(\n",
      "/home/katscott/Code/ros_metrics_analysis/notebooks/metrics/lib/python3.11/site-packages/lars/apache.py:741: ApacheWarning: Line 85400: Line contains invalid data\n",
      "  warnings.warn(\n",
      "/home/katscott/Code/ros_metrics_analysis/notebooks/metrics/lib/python3.11/site-packages/lars/apache.py:741: ApacheWarning: Line 85401: Line contains invalid data\n",
      "  warnings.warn(\n",
      "/home/katscott/Code/ros_metrics_analysis/notebooks/metrics/lib/python3.11/site-packages/lars/apache.py:741: ApacheWarning: Line 85402: Line contains invalid data\n",
      "  warnings.warn(\n",
      "/home/katscott/Code/ros_metrics_analysis/notebooks/metrics/lib/python3.11/site-packages/lars/apache.py:741: ApacheWarning: Line 85403: Line contains invalid data\n",
      "  warnings.warn(\n",
      "/home/katscott/Code/ros_metrics_analysis/notebooks/metrics/lib/python3.11/site-packages/lars/apache.py:741: ApacheWarning: Line 85404: Line contains invalid data\n",
      "  warnings.warn(\n",
      "/home/katscott/Code/ros_metrics_analysis/notebooks/metrics/lib/python3.11/site-packages/lars/apache.py:741: ApacheWarning: Line 85405: Line contains invalid data\n",
      "  warnings.warn(\n",
      "/home/katscott/Code/ros_metrics_analysis/notebooks/metrics/lib/python3.11/site-packages/lars/apache.py:741: ApacheWarning: Line 85406: Line contains invalid data\n",
      "  warnings.warn(\n",
      "/home/katscott/Code/ros_metrics_analysis/notebooks/metrics/lib/python3.11/site-packages/lars/apache.py:741: ApacheWarning: Line 85407: Line contains invalid data\n",
      "  warnings.warn(\n",
      "/home/katscott/Code/ros_metrics_analysis/notebooks/metrics/lib/python3.11/site-packages/lars/apache.py:741: ApacheWarning: Line 85408: Line contains invalid data\n",
      "  warnings.warn(\n",
      "/home/katscott/Code/ros_metrics_analysis/notebooks/metrics/lib/python3.11/site-packages/lars/apache.py:741: ApacheWarning: Line 85409: Line contains invalid data\n",
      "  warnings.warn(\n",
      "/home/katscott/Code/ros_metrics_analysis/notebooks/metrics/lib/python3.11/site-packages/lars/apache.py:741: ApacheWarning: Line 85410: Line contains invalid data\n",
      "  warnings.warn(\n",
      "/home/katscott/Code/ros_metrics_analysis/notebooks/metrics/lib/python3.11/site-packages/lars/apache.py:741: ApacheWarning: Line 88782: Line contains invalid data\n",
      "  warnings.warn(\n",
      "/home/katscott/Code/ros_metrics_analysis/notebooks/metrics/lib/python3.11/site-packages/lars/apache.py:741: ApacheWarning: Line 89966: Line contains invalid data\n",
      "  warnings.warn(\n",
      "/home/katscott/Code/ros_metrics_analysis/notebooks/metrics/lib/python3.11/site-packages/lars/apache.py:741: ApacheWarning: Line 91738: Line contains invalid data\n",
      "  warnings.warn(\n",
      "/home/katscott/Code/ros_metrics_analysis/notebooks/metrics/lib/python3.11/site-packages/lars/apache.py:741: ApacheWarning: Line 92108: Line contains invalid data\n",
      "  warnings.warn(\n"
     ]
    },
    {
     "name": "stdout",
     "output_type": "stream",
     "text": [
      ".\n",
      ".\n",
      ".\n",
      ".\n",
      ".\n"
     ]
    },
    {
     "name": "stderr",
     "output_type": "stream",
     "text": [
      "/home/katscott/Code/ros_metrics_analysis/notebooks/metrics/lib/python3.11/site-packages/lars/apache.py:741: ApacheWarning: Line 98412: Line contains invalid data\n",
      "  warnings.warn(\n",
      "/home/katscott/Code/ros_metrics_analysis/notebooks/metrics/lib/python3.11/site-packages/lars/apache.py:741: ApacheWarning: Line 101925: Line contains invalid data\n",
      "  warnings.warn(\n"
     ]
    },
    {
     "name": "stdout",
     "output_type": "stream",
     "text": [
      ".\n",
      ".\n"
     ]
    },
    {
     "name": "stderr",
     "output_type": "stream",
     "text": [
      "/home/katscott/Code/ros_metrics_analysis/notebooks/metrics/lib/python3.11/site-packages/lars/apache.py:741: ApacheWarning: Line 125440: Line contains invalid data\n",
      "  warnings.warn(\n",
      "/home/katscott/Code/ros_metrics_analysis/notebooks/metrics/lib/python3.11/site-packages/lars/apache.py:741: ApacheWarning: Line 131954: Line contains invalid data\n",
      "  warnings.warn(\n",
      "/home/katscott/Code/ros_metrics_analysis/notebooks/metrics/lib/python3.11/site-packages/lars/apache.py:741: ApacheWarning: Line 131956: Line contains invalid data\n",
      "  warnings.warn(\n",
      "/home/katscott/Code/ros_metrics_analysis/notebooks/metrics/lib/python3.11/site-packages/lars/apache.py:741: ApacheWarning: Line 131957: Line contains invalid data\n",
      "  warnings.warn(\n",
      "/home/katscott/Code/ros_metrics_analysis/notebooks/metrics/lib/python3.11/site-packages/lars/apache.py:741: ApacheWarning: Line 131958: Line contains invalid data\n",
      "  warnings.warn(\n",
      "/home/katscott/Code/ros_metrics_analysis/notebooks/metrics/lib/python3.11/site-packages/lars/apache.py:741: ApacheWarning: Line 131959: Line contains invalid data\n",
      "  warnings.warn(\n",
      "/home/katscott/Code/ros_metrics_analysis/notebooks/metrics/lib/python3.11/site-packages/lars/apache.py:741: ApacheWarning: Line 131961: Line contains invalid data\n",
      "  warnings.warn(\n",
      "/home/katscott/Code/ros_metrics_analysis/notebooks/metrics/lib/python3.11/site-packages/lars/apache.py:741: ApacheWarning: Line 135907: Line contains invalid data\n",
      "  warnings.warn(\n",
      "/home/katscott/Code/ros_metrics_analysis/notebooks/metrics/lib/python3.11/site-packages/lars/apache.py:741: ApacheWarning: Line 135963: Line contains invalid data\n",
      "  warnings.warn(\n"
     ]
    },
    {
     "name": "stdout",
     "output_type": "stream",
     "text": [
      ".\n",
      ".\n",
      "./temp/packages-logs/apt-access.log.38\n",
      ".\n"
     ]
    },
    {
     "name": "stderr",
     "output_type": "stream",
     "text": [
      "/home/katscott/Code/ros_metrics_analysis/notebooks/metrics/lib/python3.11/site-packages/lars/apache.py:741: ApacheWarning: Line 69: Line contains invalid data\n",
      "  warnings.warn(\n",
      "/home/katscott/Code/ros_metrics_analysis/notebooks/metrics/lib/python3.11/site-packages/lars/apache.py:741: ApacheWarning: Line 4064: Line contains invalid data\n",
      "  warnings.warn(\n",
      "/home/katscott/Code/ros_metrics_analysis/notebooks/metrics/lib/python3.11/site-packages/lars/apache.py:741: ApacheWarning: Line 4065: Line contains invalid data\n",
      "  warnings.warn(\n",
      "/home/katscott/Code/ros_metrics_analysis/notebooks/metrics/lib/python3.11/site-packages/lars/apache.py:741: ApacheWarning: Line 7420: Line contains invalid data\n",
      "  warnings.warn(\n",
      "/home/katscott/Code/ros_metrics_analysis/notebooks/metrics/lib/python3.11/site-packages/lars/apache.py:741: ApacheWarning: Line 7941: Line contains invalid data\n",
      "  warnings.warn(\n",
      "/home/katscott/Code/ros_metrics_analysis/notebooks/metrics/lib/python3.11/site-packages/lars/apache.py:741: ApacheWarning: Line 9186: Line contains invalid data\n",
      "  warnings.warn(\n",
      "/home/katscott/Code/ros_metrics_analysis/notebooks/metrics/lib/python3.11/site-packages/lars/apache.py:741: ApacheWarning: Line 9187: Line contains invalid data\n",
      "  warnings.warn(\n",
      "/home/katscott/Code/ros_metrics_analysis/notebooks/metrics/lib/python3.11/site-packages/lars/apache.py:741: ApacheWarning: Line 10039: Line contains invalid data\n",
      "  warnings.warn(\n",
      "/home/katscott/Code/ros_metrics_analysis/notebooks/metrics/lib/python3.11/site-packages/lars/apache.py:741: ApacheWarning: Line 10040: Line contains invalid data\n",
      "  warnings.warn(\n",
      "/home/katscott/Code/ros_metrics_analysis/notebooks/metrics/lib/python3.11/site-packages/lars/apache.py:741: ApacheWarning: Line 10041: Line contains invalid data\n",
      "  warnings.warn(\n",
      "/home/katscott/Code/ros_metrics_analysis/notebooks/metrics/lib/python3.11/site-packages/lars/apache.py:741: ApacheWarning: Line 10042: Line contains invalid data\n",
      "  warnings.warn(\n",
      "/home/katscott/Code/ros_metrics_analysis/notebooks/metrics/lib/python3.11/site-packages/lars/apache.py:741: ApacheWarning: Line 10043: Line contains invalid data\n",
      "  warnings.warn(\n",
      "/home/katscott/Code/ros_metrics_analysis/notebooks/metrics/lib/python3.11/site-packages/lars/apache.py:741: ApacheWarning: Line 10047: Line contains invalid data\n",
      "  warnings.warn(\n",
      "/home/katscott/Code/ros_metrics_analysis/notebooks/metrics/lib/python3.11/site-packages/lars/apache.py:741: ApacheWarning: Line 10068: Line contains invalid data\n",
      "  warnings.warn(\n"
     ]
    },
    {
     "name": "stdout",
     "output_type": "stream",
     "text": [
      ".\n",
      ".\n"
     ]
    },
    {
     "name": "stderr",
     "output_type": "stream",
     "text": [
      "/home/katscott/Code/ros_metrics_analysis/notebooks/metrics/lib/python3.11/site-packages/lars/apache.py:741: ApacheWarning: Line 25691: Line contains invalid data\n",
      "  warnings.warn(\n",
      "/home/katscott/Code/ros_metrics_analysis/notebooks/metrics/lib/python3.11/site-packages/lars/apache.py:741: ApacheWarning: Line 25692: Line contains invalid data\n",
      "  warnings.warn(\n",
      "/home/katscott/Code/ros_metrics_analysis/notebooks/metrics/lib/python3.11/site-packages/lars/apache.py:741: ApacheWarning: Line 25693: Line contains invalid data\n",
      "  warnings.warn(\n",
      "/home/katscott/Code/ros_metrics_analysis/notebooks/metrics/lib/python3.11/site-packages/lars/apache.py:741: ApacheWarning: Line 25694: Line contains invalid data\n",
      "  warnings.warn(\n",
      "/home/katscott/Code/ros_metrics_analysis/notebooks/metrics/lib/python3.11/site-packages/lars/apache.py:741: ApacheWarning: Line 25695: Line contains invalid data\n",
      "  warnings.warn(\n",
      "/home/katscott/Code/ros_metrics_analysis/notebooks/metrics/lib/python3.11/site-packages/lars/apache.py:741: ApacheWarning: Line 25696: Line contains invalid data\n",
      "  warnings.warn(\n",
      "/home/katscott/Code/ros_metrics_analysis/notebooks/metrics/lib/python3.11/site-packages/lars/apache.py:741: ApacheWarning: Line 26169: Line contains invalid data\n",
      "  warnings.warn(\n",
      "/home/katscott/Code/ros_metrics_analysis/notebooks/metrics/lib/python3.11/site-packages/lars/apache.py:741: ApacheWarning: Line 30562: Line contains invalid data\n",
      "  warnings.warn(\n",
      "/home/katscott/Code/ros_metrics_analysis/notebooks/metrics/lib/python3.11/site-packages/lars/apache.py:741: ApacheWarning: Line 30574: Line contains invalid data\n",
      "  warnings.warn(\n",
      "/home/katscott/Code/ros_metrics_analysis/notebooks/metrics/lib/python3.11/site-packages/lars/apache.py:741: ApacheWarning: Line 34366: Line contains invalid data\n",
      "  warnings.warn(\n"
     ]
    },
    {
     "name": "stdout",
     "output_type": "stream",
     "text": [
      ".\n"
     ]
    },
    {
     "name": "stderr",
     "output_type": "stream",
     "text": [
      "/home/katscott/Code/ros_metrics_analysis/notebooks/metrics/lib/python3.11/site-packages/lars/apache.py:741: ApacheWarning: Line 46469: Line contains invalid data\n",
      "  warnings.warn(\n",
      "/home/katscott/Code/ros_metrics_analysis/notebooks/metrics/lib/python3.11/site-packages/lars/apache.py:741: ApacheWarning: Line 56157: Line contains invalid data\n",
      "  warnings.warn(\n",
      "/home/katscott/Code/ros_metrics_analysis/notebooks/metrics/lib/python3.11/site-packages/lars/apache.py:741: ApacheWarning: Line 56211: Line contains invalid data\n",
      "  warnings.warn(\n"
     ]
    },
    {
     "name": "stdout",
     "output_type": "stream",
     "text": [
      ".\n",
      ".\n",
      ".\n"
     ]
    },
    {
     "name": "stderr",
     "output_type": "stream",
     "text": [
      "/home/katscott/Code/ros_metrics_analysis/notebooks/metrics/lib/python3.11/site-packages/lars/apache.py:741: ApacheWarning: Line 67041: Line contains invalid data\n",
      "  warnings.warn(\n",
      "/home/katscott/Code/ros_metrics_analysis/notebooks/metrics/lib/python3.11/site-packages/lars/apache.py:741: ApacheWarning: Line 478: Line contains invalid data\n",
      "  warnings.warn(\n",
      "/home/katscott/Code/ros_metrics_analysis/notebooks/metrics/lib/python3.11/site-packages/lars/apache.py:741: ApacheWarning: Line 479: Line contains invalid data\n",
      "  warnings.warn(\n",
      "/home/katscott/Code/ros_metrics_analysis/notebooks/metrics/lib/python3.11/site-packages/lars/apache.py:741: ApacheWarning: Line 2097: Line contains invalid data\n",
      "  warnings.warn(\n",
      "/home/katscott/Code/ros_metrics_analysis/notebooks/metrics/lib/python3.11/site-packages/lars/apache.py:741: ApacheWarning: Line 2098: Line contains invalid data\n",
      "  warnings.warn(\n",
      "/home/katscott/Code/ros_metrics_analysis/notebooks/metrics/lib/python3.11/site-packages/lars/apache.py:741: ApacheWarning: Line 2099: Line contains invalid data\n",
      "  warnings.warn(\n",
      "/home/katscott/Code/ros_metrics_analysis/notebooks/metrics/lib/python3.11/site-packages/lars/apache.py:741: ApacheWarning: Line 2100: Line contains invalid data\n",
      "  warnings.warn(\n",
      "/home/katscott/Code/ros_metrics_analysis/notebooks/metrics/lib/python3.11/site-packages/lars/apache.py:741: ApacheWarning: Line 2105: Line contains invalid data\n",
      "  warnings.warn(\n",
      "/home/katscott/Code/ros_metrics_analysis/notebooks/metrics/lib/python3.11/site-packages/lars/apache.py:741: ApacheWarning: Line 2124: Line contains invalid data\n",
      "  warnings.warn(\n",
      "/home/katscott/Code/ros_metrics_analysis/notebooks/metrics/lib/python3.11/site-packages/lars/apache.py:741: ApacheWarning: Line 4023: Line contains invalid data\n",
      "  warnings.warn(\n",
      "/home/katscott/Code/ros_metrics_analysis/notebooks/metrics/lib/python3.11/site-packages/lars/apache.py:741: ApacheWarning: Line 4046: Line contains invalid data\n",
      "  warnings.warn(\n",
      "/home/katscott/Code/ros_metrics_analysis/notebooks/metrics/lib/python3.11/site-packages/lars/apache.py:741: ApacheWarning: Line 4094: Line contains invalid data\n",
      "  warnings.warn(\n",
      "/home/katscott/Code/ros_metrics_analysis/notebooks/metrics/lib/python3.11/site-packages/lars/apache.py:741: ApacheWarning: Line 4115: Line contains invalid data\n",
      "  warnings.warn(\n",
      "/home/katscott/Code/ros_metrics_analysis/notebooks/metrics/lib/python3.11/site-packages/lars/apache.py:741: ApacheWarning: Line 4229: Line contains invalid data\n",
      "  warnings.warn(\n",
      "/home/katscott/Code/ros_metrics_analysis/notebooks/metrics/lib/python3.11/site-packages/lars/apache.py:741: ApacheWarning: Line 4256: Line contains invalid data\n",
      "  warnings.warn(\n",
      "/home/katscott/Code/ros_metrics_analysis/notebooks/metrics/lib/python3.11/site-packages/lars/apache.py:741: ApacheWarning: Line 4297: Line contains invalid data\n",
      "  warnings.warn(\n",
      "/home/katscott/Code/ros_metrics_analysis/notebooks/metrics/lib/python3.11/site-packages/lars/apache.py:741: ApacheWarning: Line 4484: Line contains invalid data\n",
      "  warnings.warn(\n",
      "/home/katscott/Code/ros_metrics_analysis/notebooks/metrics/lib/python3.11/site-packages/lars/apache.py:741: ApacheWarning: Line 4525: Line contains invalid data\n",
      "  warnings.warn(\n",
      "/home/katscott/Code/ros_metrics_analysis/notebooks/metrics/lib/python3.11/site-packages/lars/apache.py:741: ApacheWarning: Line 4555: Line contains invalid data\n",
      "  warnings.warn(\n",
      "/home/katscott/Code/ros_metrics_analysis/notebooks/metrics/lib/python3.11/site-packages/lars/apache.py:741: ApacheWarning: Line 4708: Line contains invalid data\n",
      "  warnings.warn(\n"
     ]
    },
    {
     "name": "stdout",
     "output_type": "stream",
     "text": [
      "./temp/packages-logs/apt-access.log.39\n",
      ".\n"
     ]
    },
    {
     "name": "stderr",
     "output_type": "stream",
     "text": [
      "/home/katscott/Code/ros_metrics_analysis/notebooks/metrics/lib/python3.11/site-packages/lars/apache.py:741: ApacheWarning: Line 4889: Line contains invalid data\n",
      "  warnings.warn(\n",
      "/home/katscott/Code/ros_metrics_analysis/notebooks/metrics/lib/python3.11/site-packages/lars/apache.py:741: ApacheWarning: Line 6439: Line contains invalid data\n",
      "  warnings.warn(\n",
      "/home/katscott/Code/ros_metrics_analysis/notebooks/metrics/lib/python3.11/site-packages/lars/apache.py:741: ApacheWarning: Line 16543: Line contains invalid data\n",
      "  warnings.warn(\n",
      "/home/katscott/Code/ros_metrics_analysis/notebooks/metrics/lib/python3.11/site-packages/lars/apache.py:741: ApacheWarning: Line 18994: Line contains invalid data\n",
      "  warnings.warn(\n"
     ]
    },
    {
     "name": "stdout",
     "output_type": "stream",
     "text": [
      ".\n",
      ".\n"
     ]
    },
    {
     "name": "stderr",
     "output_type": "stream",
     "text": [
      "/home/katscott/Code/ros_metrics_analysis/notebooks/metrics/lib/python3.11/site-packages/lars/apache.py:741: ApacheWarning: Line 37587: Line contains invalid data\n",
      "  warnings.warn(\n",
      "/home/katscott/Code/ros_metrics_analysis/notebooks/metrics/lib/python3.11/site-packages/lars/apache.py:741: ApacheWarning: Line 42768: Line contains invalid data\n",
      "  warnings.warn(\n",
      "/home/katscott/Code/ros_metrics_analysis/notebooks/metrics/lib/python3.11/site-packages/lars/apache.py:741: ApacheWarning: Line 42769: Line contains invalid data\n",
      "  warnings.warn(\n",
      "/home/katscott/Code/ros_metrics_analysis/notebooks/metrics/lib/python3.11/site-packages/lars/apache.py:741: ApacheWarning: Line 42770: Line contains invalid data\n",
      "  warnings.warn(\n",
      "/home/katscott/Code/ros_metrics_analysis/notebooks/metrics/lib/python3.11/site-packages/lars/apache.py:741: ApacheWarning: Line 42771: Line contains invalid data\n",
      "  warnings.warn(\n",
      "/home/katscott/Code/ros_metrics_analysis/notebooks/metrics/lib/python3.11/site-packages/lars/apache.py:741: ApacheWarning: Line 49148: Line contains invalid data\n",
      "  warnings.warn(\n",
      "/home/katscott/Code/ros_metrics_analysis/notebooks/metrics/lib/python3.11/site-packages/lars/apache.py:741: ApacheWarning: Line 58285: Line contains invalid data\n",
      "  warnings.warn(\n"
     ]
    },
    {
     "name": "stdout",
     "output_type": "stream",
     "text": [
      ".\n",
      ".\n",
      ".\n",
      ".\n",
      ".\n",
      ".\n"
     ]
    },
    {
     "name": "stderr",
     "output_type": "stream",
     "text": [
      "/home/katscott/Code/ros_metrics_analysis/notebooks/metrics/lib/python3.11/site-packages/lars/apache.py:741: ApacheWarning: Line 90734: Line contains invalid data\n",
      "  warnings.warn(\n",
      "/home/katscott/Code/ros_metrics_analysis/notebooks/metrics/lib/python3.11/site-packages/lars/apache.py:741: ApacheWarning: Line 94608: Line contains invalid data\n",
      "  warnings.warn(\n",
      "/home/katscott/Code/ros_metrics_analysis/notebooks/metrics/lib/python3.11/site-packages/lars/apache.py:741: ApacheWarning: Line 97865: Line contains invalid data\n",
      "  warnings.warn(\n",
      "/home/katscott/Code/ros_metrics_analysis/notebooks/metrics/lib/python3.11/site-packages/lars/apache.py:741: ApacheWarning: Line 100178: Line contains invalid data\n",
      "  warnings.warn(\n"
     ]
    },
    {
     "name": "stdout",
     "output_type": "stream",
     "text": [
      ".\n",
      ".\n",
      ".\n"
     ]
    },
    {
     "name": "stderr",
     "output_type": "stream",
     "text": [
      "/home/katscott/Code/ros_metrics_analysis/notebooks/metrics/lib/python3.11/site-packages/lars/apache.py:741: ApacheWarning: Line 106584: Line contains invalid data\n",
      "  warnings.warn(\n",
      "/home/katscott/Code/ros_metrics_analysis/notebooks/metrics/lib/python3.11/site-packages/lars/apache.py:741: ApacheWarning: Line 107006: Line contains invalid data\n",
      "  warnings.warn(\n",
      "/home/katscott/Code/ros_metrics_analysis/notebooks/metrics/lib/python3.11/site-packages/lars/apache.py:741: ApacheWarning: Line 110715: Line contains invalid data\n",
      "  warnings.warn(\n",
      "/home/katscott/Code/ros_metrics_analysis/notebooks/metrics/lib/python3.11/site-packages/lars/apache.py:741: ApacheWarning: Line 110716: Line contains invalid data\n",
      "  warnings.warn(\n",
      "/home/katscott/Code/ros_metrics_analysis/notebooks/metrics/lib/python3.11/site-packages/lars/apache.py:741: ApacheWarning: Line 110717: Line contains invalid data\n",
      "  warnings.warn(\n",
      "/home/katscott/Code/ros_metrics_analysis/notebooks/metrics/lib/python3.11/site-packages/lars/apache.py:741: ApacheWarning: Line 110718: Line contains invalid data\n",
      "  warnings.warn(\n",
      "/home/katscott/Code/ros_metrics_analysis/notebooks/metrics/lib/python3.11/site-packages/lars/apache.py:741: ApacheWarning: Line 110719: Line contains invalid data\n",
      "  warnings.warn(\n",
      "/home/katscott/Code/ros_metrics_analysis/notebooks/metrics/lib/python3.11/site-packages/lars/apache.py:741: ApacheWarning: Line 110720: Line contains invalid data\n",
      "  warnings.warn(\n",
      "/home/katscott/Code/ros_metrics_analysis/notebooks/metrics/lib/python3.11/site-packages/lars/apache.py:741: ApacheWarning: Line 110721: Line contains invalid data\n",
      "  warnings.warn(\n",
      "/home/katscott/Code/ros_metrics_analysis/notebooks/metrics/lib/python3.11/site-packages/lars/apache.py:741: ApacheWarning: Line 110722: Line contains invalid data\n",
      "  warnings.warn(\n",
      "/home/katscott/Code/ros_metrics_analysis/notebooks/metrics/lib/python3.11/site-packages/lars/apache.py:741: ApacheWarning: Line 110723: Line contains invalid data\n",
      "  warnings.warn(\n",
      "/home/katscott/Code/ros_metrics_analysis/notebooks/metrics/lib/python3.11/site-packages/lars/apache.py:741: ApacheWarning: Line 110724: Line contains invalid data\n",
      "  warnings.warn(\n",
      "/home/katscott/Code/ros_metrics_analysis/notebooks/metrics/lib/python3.11/site-packages/lars/apache.py:741: ApacheWarning: Line 110725: Line contains invalid data\n",
      "  warnings.warn(\n",
      "/home/katscott/Code/ros_metrics_analysis/notebooks/metrics/lib/python3.11/site-packages/lars/apache.py:741: ApacheWarning: Line 113143: Line contains invalid data\n",
      "  warnings.warn(\n",
      "/home/katscott/Code/ros_metrics_analysis/notebooks/metrics/lib/python3.11/site-packages/lars/apache.py:741: ApacheWarning: Line 116365: Line contains invalid data\n",
      "  warnings.warn(\n",
      "/home/katscott/Code/ros_metrics_analysis/notebooks/metrics/lib/python3.11/site-packages/lars/apache.py:741: ApacheWarning: Line 117948: Line contains invalid data\n",
      "  warnings.warn(\n",
      "/home/katscott/Code/ros_metrics_analysis/notebooks/metrics/lib/python3.11/site-packages/lars/apache.py:741: ApacheWarning: Line 2782: Line contains invalid data\n",
      "  warnings.warn(\n",
      "/home/katscott/Code/ros_metrics_analysis/notebooks/metrics/lib/python3.11/site-packages/lars/apache.py:741: ApacheWarning: Line 8140: Line contains invalid data\n",
      "  warnings.warn(\n",
      "/home/katscott/Code/ros_metrics_analysis/notebooks/metrics/lib/python3.11/site-packages/lars/apache.py:741: ApacheWarning: Line 19187: Line contains invalid data\n",
      "  warnings.warn(\n",
      "/home/katscott/Code/ros_metrics_analysis/notebooks/metrics/lib/python3.11/site-packages/lars/apache.py:741: ApacheWarning: Line 20844: Line contains invalid data\n",
      "  warnings.warn(\n",
      "/home/katscott/Code/ros_metrics_analysis/notebooks/metrics/lib/python3.11/site-packages/lars/apache.py:741: ApacheWarning: Line 22412: Line contains invalid data\n",
      "  warnings.warn(\n",
      "/home/katscott/Code/ros_metrics_analysis/notebooks/metrics/lib/python3.11/site-packages/lars/apache.py:741: ApacheWarning: Line 22414: Line contains invalid data\n",
      "  warnings.warn(\n",
      "/home/katscott/Code/ros_metrics_analysis/notebooks/metrics/lib/python3.11/site-packages/lars/apache.py:741: ApacheWarning: Line 22416: Line contains invalid data\n",
      "  warnings.warn(\n",
      "/home/katscott/Code/ros_metrics_analysis/notebooks/metrics/lib/python3.11/site-packages/lars/apache.py:741: ApacheWarning: Line 22417: Line contains invalid data\n",
      "  warnings.warn(\n",
      "/home/katscott/Code/ros_metrics_analysis/notebooks/metrics/lib/python3.11/site-packages/lars/apache.py:741: ApacheWarning: Line 22418: Line contains invalid data\n",
      "  warnings.warn(\n",
      "/home/katscott/Code/ros_metrics_analysis/notebooks/metrics/lib/python3.11/site-packages/lars/apache.py:741: ApacheWarning: Line 22455: Line contains invalid data\n",
      "  warnings.warn(\n",
      "/home/katscott/Code/ros_metrics_analysis/notebooks/metrics/lib/python3.11/site-packages/lars/apache.py:741: ApacheWarning: Line 22483: Line contains invalid data\n",
      "  warnings.warn(\n",
      "/home/katscott/Code/ros_metrics_analysis/notebooks/metrics/lib/python3.11/site-packages/lars/apache.py:741: ApacheWarning: Line 26464: Line contains invalid data\n",
      "  warnings.warn(\n",
      "/home/katscott/Code/ros_metrics_analysis/notebooks/metrics/lib/python3.11/site-packages/lars/apache.py:741: ApacheWarning: Line 26466: Line contains invalid data\n",
      "  warnings.warn(\n",
      "/home/katscott/Code/ros_metrics_analysis/notebooks/metrics/lib/python3.11/site-packages/lars/apache.py:741: ApacheWarning: Line 26468: Line contains invalid data\n",
      "  warnings.warn(\n",
      "/home/katscott/Code/ros_metrics_analysis/notebooks/metrics/lib/python3.11/site-packages/lars/apache.py:741: ApacheWarning: Line 36248: Line contains invalid data\n",
      "  warnings.warn(\n",
      "/home/katscott/Code/ros_metrics_analysis/notebooks/metrics/lib/python3.11/site-packages/lars/apache.py:741: ApacheWarning: Line 36828: Line contains invalid data\n",
      "  warnings.warn(\n",
      "/home/katscott/Code/ros_metrics_analysis/notebooks/metrics/lib/python3.11/site-packages/lars/apache.py:741: ApacheWarning: Line 40799: Line contains invalid data\n",
      "  warnings.warn(\n"
     ]
    },
    {
     "name": "stdout",
     "output_type": "stream",
     "text": [
      "./temp/packages-logs/apt-access.log.4\n",
      ".\n",
      ".\n",
      ".\n",
      ".\n",
      ".\n",
      ".\n",
      ".\n"
     ]
    },
    {
     "name": "stderr",
     "output_type": "stream",
     "text": [
      "/home/katscott/Code/ros_metrics_analysis/notebooks/metrics/lib/python3.11/site-packages/lars/apache.py:741: ApacheWarning: Line 45077: Line contains invalid data\n",
      "  warnings.warn(\n",
      "/home/katscott/Code/ros_metrics_analysis/notebooks/metrics/lib/python3.11/site-packages/lars/apache.py:741: ApacheWarning: Line 45173: Line contains invalid data\n",
      "  warnings.warn(\n",
      "/home/katscott/Code/ros_metrics_analysis/notebooks/metrics/lib/python3.11/site-packages/lars/apache.py:741: ApacheWarning: Line 49190: Line contains invalid data\n",
      "  warnings.warn(\n",
      "/home/katscott/Code/ros_metrics_analysis/notebooks/metrics/lib/python3.11/site-packages/lars/apache.py:741: ApacheWarning: Line 56197: Line contains invalid data\n",
      "  warnings.warn(\n",
      "/home/katscott/Code/ros_metrics_analysis/notebooks/metrics/lib/python3.11/site-packages/lars/apache.py:741: ApacheWarning: Line 56198: Line contains invalid data\n",
      "  warnings.warn(\n",
      "/home/katscott/Code/ros_metrics_analysis/notebooks/metrics/lib/python3.11/site-packages/lars/apache.py:741: ApacheWarning: Line 56202: Line contains invalid data\n",
      "  warnings.warn(\n",
      "/home/katscott/Code/ros_metrics_analysis/notebooks/metrics/lib/python3.11/site-packages/lars/apache.py:741: ApacheWarning: Line 56203: Line contains invalid data\n",
      "  warnings.warn(\n",
      "/home/katscott/Code/ros_metrics_analysis/notebooks/metrics/lib/python3.11/site-packages/lars/apache.py:741: ApacheWarning: Line 56204: Line contains invalid data\n",
      "  warnings.warn(\n",
      "/home/katscott/Code/ros_metrics_analysis/notebooks/metrics/lib/python3.11/site-packages/lars/apache.py:741: ApacheWarning: Line 62563: Line contains invalid data\n",
      "  warnings.warn(\n",
      "/home/katscott/Code/ros_metrics_analysis/notebooks/metrics/lib/python3.11/site-packages/lars/apache.py:741: ApacheWarning: Line 63706: Line contains invalid data\n",
      "  warnings.warn(\n",
      "/home/katscott/Code/ros_metrics_analysis/notebooks/metrics/lib/python3.11/site-packages/lars/apache.py:741: ApacheWarning: Line 82810: Line contains invalid data\n",
      "  warnings.warn(\n",
      "/home/katscott/Code/ros_metrics_analysis/notebooks/metrics/lib/python3.11/site-packages/lars/apache.py:741: ApacheWarning: Line 92811: Line contains invalid data\n",
      "  warnings.warn(\n",
      "/home/katscott/Code/ros_metrics_analysis/notebooks/metrics/lib/python3.11/site-packages/lars/apache.py:741: ApacheWarning: Line 92812: Line contains invalid data\n",
      "  warnings.warn(\n",
      "/home/katscott/Code/ros_metrics_analysis/notebooks/metrics/lib/python3.11/site-packages/lars/apache.py:741: ApacheWarning: Line 92813: Line contains invalid data\n",
      "  warnings.warn(\n",
      "/home/katscott/Code/ros_metrics_analysis/notebooks/metrics/lib/python3.11/site-packages/lars/apache.py:741: ApacheWarning: Line 92814: Line contains invalid data\n",
      "  warnings.warn(\n",
      "/home/katscott/Code/ros_metrics_analysis/notebooks/metrics/lib/python3.11/site-packages/lars/apache.py:741: ApacheWarning: Line 92815: Line contains invalid data\n",
      "  warnings.warn(\n",
      "/home/katscott/Code/ros_metrics_analysis/notebooks/metrics/lib/python3.11/site-packages/lars/apache.py:741: ApacheWarning: Line 92817: Line contains invalid data\n",
      "  warnings.warn(\n"
     ]
    },
    {
     "name": "stdout",
     "output_type": "stream",
     "text": [
      ".\n",
      ".\n",
      "./temp/packages-logs/apt-access.log.40\n",
      ".\n"
     ]
    },
    {
     "name": "stderr",
     "output_type": "stream",
     "text": [
      "/home/katscott/Code/ros_metrics_analysis/notebooks/metrics/lib/python3.11/site-packages/lars/apache.py:741: ApacheWarning: Line 94479: Line contains invalid data\n",
      "  warnings.warn(\n",
      "/home/katscott/Code/ros_metrics_analysis/notebooks/metrics/lib/python3.11/site-packages/lars/apache.py:741: ApacheWarning: Line 94481: Line contains invalid data\n",
      "  warnings.warn(\n",
      "/home/katscott/Code/ros_metrics_analysis/notebooks/metrics/lib/python3.11/site-packages/lars/apache.py:741: ApacheWarning: Line 94486: Line contains invalid data\n",
      "  warnings.warn(\n",
      "/home/katscott/Code/ros_metrics_analysis/notebooks/metrics/lib/python3.11/site-packages/lars/apache.py:741: ApacheWarning: Line 94490: Line contains invalid data\n",
      "  warnings.warn(\n",
      "/home/katscott/Code/ros_metrics_analysis/notebooks/metrics/lib/python3.11/site-packages/lars/apache.py:741: ApacheWarning: Line 94528: Line contains invalid data\n",
      "  warnings.warn(\n",
      "/home/katscott/Code/ros_metrics_analysis/notebooks/metrics/lib/python3.11/site-packages/lars/apache.py:741: ApacheWarning: Line 18229: Line contains invalid data\n",
      "  warnings.warn(\n",
      "/home/katscott/Code/ros_metrics_analysis/notebooks/metrics/lib/python3.11/site-packages/lars/apache.py:741: ApacheWarning: Line 18230: Line contains invalid data\n",
      "  warnings.warn(\n"
     ]
    },
    {
     "name": "stdout",
     "output_type": "stream",
     "text": [
      ".\n",
      ".\n",
      ".\n",
      ".\n"
     ]
    },
    {
     "name": "stderr",
     "output_type": "stream",
     "text": [
      "/home/katscott/Code/ros_metrics_analysis/notebooks/metrics/lib/python3.11/site-packages/lars/apache.py:741: ApacheWarning: Line 55375: Line contains invalid data\n",
      "  warnings.warn(\n",
      "/home/katscott/Code/ros_metrics_analysis/notebooks/metrics/lib/python3.11/site-packages/lars/apache.py:741: ApacheWarning: Line 55376: Line contains invalid data\n",
      "  warnings.warn(\n",
      "/home/katscott/Code/ros_metrics_analysis/notebooks/metrics/lib/python3.11/site-packages/lars/apache.py:741: ApacheWarning: Line 55377: Line contains invalid data\n",
      "  warnings.warn(\n",
      "/home/katscott/Code/ros_metrics_analysis/notebooks/metrics/lib/python3.11/site-packages/lars/apache.py:741: ApacheWarning: Line 55378: Line contains invalid data\n",
      "  warnings.warn(\n",
      "/home/katscott/Code/ros_metrics_analysis/notebooks/metrics/lib/python3.11/site-packages/lars/apache.py:741: ApacheWarning: Line 55379: Line contains invalid data\n",
      "  warnings.warn(\n",
      "/home/katscott/Code/ros_metrics_analysis/notebooks/metrics/lib/python3.11/site-packages/lars/apache.py:741: ApacheWarning: Line 55380: Line contains invalid data\n",
      "  warnings.warn(\n",
      "/home/katscott/Code/ros_metrics_analysis/notebooks/metrics/lib/python3.11/site-packages/lars/apache.py:741: ApacheWarning: Line 56713: Line contains invalid data\n",
      "  warnings.warn(\n",
      "/home/katscott/Code/ros_metrics_analysis/notebooks/metrics/lib/python3.11/site-packages/lars/apache.py:741: ApacheWarning: Line 56714: Line contains invalid data\n",
      "  warnings.warn(\n",
      "/home/katscott/Code/ros_metrics_analysis/notebooks/metrics/lib/python3.11/site-packages/lars/apache.py:741: ApacheWarning: Line 58754: Line contains invalid data\n",
      "  warnings.warn(\n",
      "/home/katscott/Code/ros_metrics_analysis/notebooks/metrics/lib/python3.11/site-packages/lars/apache.py:741: ApacheWarning: Line 74237: Line contains invalid data\n",
      "  warnings.warn(\n",
      "/home/katscott/Code/ros_metrics_analysis/notebooks/metrics/lib/python3.11/site-packages/lars/apache.py:741: ApacheWarning: Line 74483: Line contains invalid data\n",
      "  warnings.warn(\n",
      "/home/katscott/Code/ros_metrics_analysis/notebooks/metrics/lib/python3.11/site-packages/lars/apache.py:741: ApacheWarning: Line 74832: Line contains invalid data\n",
      "  warnings.warn(\n",
      "/home/katscott/Code/ros_metrics_analysis/notebooks/metrics/lib/python3.11/site-packages/lars/apache.py:741: ApacheWarning: Line 74833: Line contains invalid data\n",
      "  warnings.warn(\n",
      "/home/katscott/Code/ros_metrics_analysis/notebooks/metrics/lib/python3.11/site-packages/lars/apache.py:741: ApacheWarning: Line 74834: Line contains invalid data\n",
      "  warnings.warn(\n",
      "/home/katscott/Code/ros_metrics_analysis/notebooks/metrics/lib/python3.11/site-packages/lars/apache.py:741: ApacheWarning: Line 74835: Line contains invalid data\n",
      "  warnings.warn(\n",
      "/home/katscott/Code/ros_metrics_analysis/notebooks/metrics/lib/python3.11/site-packages/lars/apache.py:741: ApacheWarning: Line 74836: Line contains invalid data\n",
      "  warnings.warn(\n",
      "/home/katscott/Code/ros_metrics_analysis/notebooks/metrics/lib/python3.11/site-packages/lars/apache.py:741: ApacheWarning: Line 74838: Line contains invalid data\n",
      "  warnings.warn(\n"
     ]
    },
    {
     "name": "stdout",
     "output_type": "stream",
     "text": [
      ".\n",
      ".\n",
      ".\n",
      ".\n",
      ".\n"
     ]
    },
    {
     "name": "stderr",
     "output_type": "stream",
     "text": [
      "/home/katscott/Code/ros_metrics_analysis/notebooks/metrics/lib/python3.11/site-packages/lars/apache.py:741: ApacheWarning: Line 109274: Line contains invalid data\n",
      "  warnings.warn(\n",
      "/home/katscott/Code/ros_metrics_analysis/notebooks/metrics/lib/python3.11/site-packages/lars/apache.py:741: ApacheWarning: Line 118819: Line contains invalid data\n",
      "  warnings.warn(\n",
      "/home/katscott/Code/ros_metrics_analysis/notebooks/metrics/lib/python3.11/site-packages/lars/apache.py:741: ApacheWarning: Line 119008: Line contains invalid data\n",
      "  warnings.warn(\n",
      "/home/katscott/Code/ros_metrics_analysis/notebooks/metrics/lib/python3.11/site-packages/lars/apache.py:741: ApacheWarning: Line 119096: Line contains invalid data\n",
      "  warnings.warn(\n",
      "/home/katscott/Code/ros_metrics_analysis/notebooks/metrics/lib/python3.11/site-packages/lars/apache.py:741: ApacheWarning: Line 119944: Line contains invalid data\n",
      "  warnings.warn(\n",
      "/home/katscott/Code/ros_metrics_analysis/notebooks/metrics/lib/python3.11/site-packages/lars/apache.py:741: ApacheWarning: Line 119946: Line contains invalid data\n",
      "  warnings.warn(\n",
      "/home/katscott/Code/ros_metrics_analysis/notebooks/metrics/lib/python3.11/site-packages/lars/apache.py:741: ApacheWarning: Line 120033: Line contains invalid data\n",
      "  warnings.warn(\n",
      "/home/katscott/Code/ros_metrics_analysis/notebooks/metrics/lib/python3.11/site-packages/lars/apache.py:741: ApacheWarning: Line 127497: Line contains invalid data\n",
      "  warnings.warn(\n",
      "/home/katscott/Code/ros_metrics_analysis/notebooks/metrics/lib/python3.11/site-packages/lars/apache.py:741: ApacheWarning: Line 128054: Line contains invalid data\n",
      "  warnings.warn(\n",
      "/home/katscott/Code/ros_metrics_analysis/notebooks/metrics/lib/python3.11/site-packages/lars/apache.py:741: ApacheWarning: Line 128063: Line contains invalid data\n",
      "  warnings.warn(\n",
      "/home/katscott/Code/ros_metrics_analysis/notebooks/metrics/lib/python3.11/site-packages/lars/apache.py:741: ApacheWarning: Line 128436: Line contains invalid data\n",
      "  warnings.warn(\n",
      "/home/katscott/Code/ros_metrics_analysis/notebooks/metrics/lib/python3.11/site-packages/lars/apache.py:741: ApacheWarning: Line 128437: Line contains invalid data\n",
      "  warnings.warn(\n",
      "/home/katscott/Code/ros_metrics_analysis/notebooks/metrics/lib/python3.11/site-packages/lars/apache.py:741: ApacheWarning: Line 131127: Line contains invalid data\n",
      "  warnings.warn(\n",
      "/home/katscott/Code/ros_metrics_analysis/notebooks/metrics/lib/python3.11/site-packages/lars/apache.py:741: ApacheWarning: Line 131128: Line contains invalid data\n",
      "  warnings.warn(\n",
      "/home/katscott/Code/ros_metrics_analysis/notebooks/metrics/lib/python3.11/site-packages/lars/apache.py:741: ApacheWarning: Line 132475: Line contains invalid data\n",
      "  warnings.warn(\n",
      "/home/katscott/Code/ros_metrics_analysis/notebooks/metrics/lib/python3.11/site-packages/lars/apache.py:741: ApacheWarning: Line 132477: Line contains invalid data\n",
      "  warnings.warn(\n",
      "/home/katscott/Code/ros_metrics_analysis/notebooks/metrics/lib/python3.11/site-packages/lars/apache.py:741: ApacheWarning: Line 132479: Line contains invalid data\n",
      "  warnings.warn(\n",
      "/home/katscott/Code/ros_metrics_analysis/notebooks/metrics/lib/python3.11/site-packages/lars/apache.py:741: ApacheWarning: Line 132484: Line contains invalid data\n",
      "  warnings.warn(\n",
      "/home/katscott/Code/ros_metrics_analysis/notebooks/metrics/lib/python3.11/site-packages/lars/apache.py:741: ApacheWarning: Line 132485: Line contains invalid data\n",
      "  warnings.warn(\n",
      "/home/katscott/Code/ros_metrics_analysis/notebooks/metrics/lib/python3.11/site-packages/lars/apache.py:741: ApacheWarning: Line 132487: Line contains invalid data\n",
      "  warnings.warn(\n",
      "/home/katscott/Code/ros_metrics_analysis/notebooks/metrics/lib/python3.11/site-packages/lars/apache.py:741: ApacheWarning: Line 132489: Line contains invalid data\n",
      "  warnings.warn(\n",
      "/home/katscott/Code/ros_metrics_analysis/notebooks/metrics/lib/python3.11/site-packages/lars/apache.py:741: ApacheWarning: Line 135882: Line contains invalid data\n",
      "  warnings.warn(\n",
      "/home/katscott/Code/ros_metrics_analysis/notebooks/metrics/lib/python3.11/site-packages/lars/apache.py:741: ApacheWarning: Line 143612: Line contains invalid data\n",
      "  warnings.warn(\n",
      "/home/katscott/Code/ros_metrics_analysis/notebooks/metrics/lib/python3.11/site-packages/lars/apache.py:741: ApacheWarning: Line 143613: Line contains invalid data\n",
      "  warnings.warn(\n",
      "/home/katscott/Code/ros_metrics_analysis/notebooks/metrics/lib/python3.11/site-packages/lars/apache.py:741: ApacheWarning: Line 144020: Line contains invalid data\n",
      "  warnings.warn(\n",
      "/home/katscott/Code/ros_metrics_analysis/notebooks/metrics/lib/python3.11/site-packages/lars/apache.py:741: ApacheWarning: Line 145135: Line contains invalid data\n",
      "  warnings.warn(\n",
      "/home/katscott/Code/ros_metrics_analysis/notebooks/metrics/lib/python3.11/site-packages/lars/apache.py:741: ApacheWarning: Line 145137: Line contains invalid data\n",
      "  warnings.warn(\n",
      "/home/katscott/Code/ros_metrics_analysis/notebooks/metrics/lib/python3.11/site-packages/lars/apache.py:741: ApacheWarning: Line 145138: Line contains invalid data\n",
      "  warnings.warn(\n",
      "/home/katscott/Code/ros_metrics_analysis/notebooks/metrics/lib/python3.11/site-packages/lars/apache.py:741: ApacheWarning: Line 146588: Line contains invalid data\n",
      "  warnings.warn(\n",
      "/home/katscott/Code/ros_metrics_analysis/notebooks/metrics/lib/python3.11/site-packages/lars/apache.py:741: ApacheWarning: Line 150658: Line contains invalid data\n",
      "  warnings.warn(\n",
      "/home/katscott/Code/ros_metrics_analysis/notebooks/metrics/lib/python3.11/site-packages/lars/apache.py:741: ApacheWarning: Line 150659: Line contains invalid data\n",
      "  warnings.warn(\n",
      "/home/katscott/Code/ros_metrics_analysis/notebooks/metrics/lib/python3.11/site-packages/lars/apache.py:741: ApacheWarning: Line 150660: Line contains invalid data\n",
      "  warnings.warn(\n",
      "/home/katscott/Code/ros_metrics_analysis/notebooks/metrics/lib/python3.11/site-packages/lars/apache.py:741: ApacheWarning: Line 150661: Line contains invalid data\n",
      "  warnings.warn(\n",
      "/home/katscott/Code/ros_metrics_analysis/notebooks/metrics/lib/python3.11/site-packages/lars/apache.py:741: ApacheWarning: Line 150664: Line contains invalid data\n",
      "  warnings.warn(\n",
      "/home/katscott/Code/ros_metrics_analysis/notebooks/metrics/lib/python3.11/site-packages/lars/apache.py:741: ApacheWarning: Line 150665: Line contains invalid data\n",
      "  warnings.warn(\n",
      "/home/katscott/Code/ros_metrics_analysis/notebooks/metrics/lib/python3.11/site-packages/lars/apache.py:741: ApacheWarning: Line 150668: Line contains invalid data\n",
      "  warnings.warn(\n",
      "/home/katscott/Code/ros_metrics_analysis/notebooks/metrics/lib/python3.11/site-packages/lars/apache.py:741: ApacheWarning: Line 150669: Line contains invalid data\n",
      "  warnings.warn(\n",
      "/home/katscott/Code/ros_metrics_analysis/notebooks/metrics/lib/python3.11/site-packages/lars/apache.py:741: ApacheWarning: Line 155282: Line contains invalid data\n",
      "  warnings.warn(\n",
      "/home/katscott/Code/ros_metrics_analysis/notebooks/metrics/lib/python3.11/site-packages/lars/apache.py:741: ApacheWarning: Line 155283: Line contains invalid data\n",
      "  warnings.warn(\n",
      "/home/katscott/Code/ros_metrics_analysis/notebooks/metrics/lib/python3.11/site-packages/lars/apache.py:741: ApacheWarning: Line 155287: Line contains invalid data\n",
      "  warnings.warn(\n",
      "/home/katscott/Code/ros_metrics_analysis/notebooks/metrics/lib/python3.11/site-packages/lars/apache.py:741: ApacheWarning: Line 256: Line contains invalid data\n",
      "  warnings.warn(\n",
      "/home/katscott/Code/ros_metrics_analysis/notebooks/metrics/lib/python3.11/site-packages/lars/apache.py:741: ApacheWarning: Line 6044: Line contains invalid data\n",
      "  warnings.warn(\n",
      "/home/katscott/Code/ros_metrics_analysis/notebooks/metrics/lib/python3.11/site-packages/lars/apache.py:741: ApacheWarning: Line 7692: Line contains invalid data\n",
      "  warnings.warn(\n",
      "/home/katscott/Code/ros_metrics_analysis/notebooks/metrics/lib/python3.11/site-packages/lars/apache.py:741: ApacheWarning: Line 9210: Line contains invalid data\n",
      "  warnings.warn(\n",
      "/home/katscott/Code/ros_metrics_analysis/notebooks/metrics/lib/python3.11/site-packages/lars/apache.py:741: ApacheWarning: Line 9211: Line contains invalid data\n",
      "  warnings.warn(\n",
      "/home/katscott/Code/ros_metrics_analysis/notebooks/metrics/lib/python3.11/site-packages/lars/apache.py:741: ApacheWarning: Line 9212: Line contains invalid data\n",
      "  warnings.warn(\n",
      "/home/katscott/Code/ros_metrics_analysis/notebooks/metrics/lib/python3.11/site-packages/lars/apache.py:741: ApacheWarning: Line 9213: Line contains invalid data\n",
      "  warnings.warn(\n",
      "/home/katscott/Code/ros_metrics_analysis/notebooks/metrics/lib/python3.11/site-packages/lars/apache.py:741: ApacheWarning: Line 9214: Line contains invalid data\n",
      "  warnings.warn(\n",
      "/home/katscott/Code/ros_metrics_analysis/notebooks/metrics/lib/python3.11/site-packages/lars/apache.py:741: ApacheWarning: Line 9215: Line contains invalid data\n",
      "  warnings.warn(\n"
     ]
    },
    {
     "name": "stdout",
     "output_type": "stream",
     "text": [
      ".\n",
      ".\n",
      ".\n",
      ".\n",
      ".\n",
      "./temp/packages-logs/apt-access.log.41\n",
      ".\n",
      ".\n",
      ".\n",
      ".\n"
     ]
    },
    {
     "name": "stderr",
     "output_type": "stream",
     "text": [
      "/home/katscott/Code/ros_metrics_analysis/notebooks/metrics/lib/python3.11/site-packages/lars/apache.py:741: ApacheWarning: Line 11375: Line contains invalid data\n",
      "  warnings.warn(\n",
      "/home/katscott/Code/ros_metrics_analysis/notebooks/metrics/lib/python3.11/site-packages/lars/apache.py:741: ApacheWarning: Line 11726: Line contains invalid data\n",
      "  warnings.warn(\n",
      "/home/katscott/Code/ros_metrics_analysis/notebooks/metrics/lib/python3.11/site-packages/lars/apache.py:741: ApacheWarning: Line 11809: Line contains invalid data\n",
      "  warnings.warn(\n",
      "/home/katscott/Code/ros_metrics_analysis/notebooks/metrics/lib/python3.11/site-packages/lars/apache.py:741: ApacheWarning: Line 18562: Line contains invalid data\n",
      "  warnings.warn(\n",
      "/home/katscott/Code/ros_metrics_analysis/notebooks/metrics/lib/python3.11/site-packages/lars/apache.py:741: ApacheWarning: Line 18563: Line contains invalid data\n",
      "  warnings.warn(\n",
      "/home/katscott/Code/ros_metrics_analysis/notebooks/metrics/lib/python3.11/site-packages/lars/apache.py:741: ApacheWarning: Line 18859: Line contains invalid data\n",
      "  warnings.warn(\n",
      "/home/katscott/Code/ros_metrics_analysis/notebooks/metrics/lib/python3.11/site-packages/lars/apache.py:741: ApacheWarning: Line 18860: Line contains invalid data\n",
      "  warnings.warn(\n",
      "/home/katscott/Code/ros_metrics_analysis/notebooks/metrics/lib/python3.11/site-packages/lars/apache.py:741: ApacheWarning: Line 23369: Line contains invalid data\n",
      "  warnings.warn(\n",
      "/home/katscott/Code/ros_metrics_analysis/notebooks/metrics/lib/python3.11/site-packages/lars/apache.py:741: ApacheWarning: Line 25904: Line contains invalid data\n",
      "  warnings.warn(\n",
      "/home/katscott/Code/ros_metrics_analysis/notebooks/metrics/lib/python3.11/site-packages/lars/apache.py:741: ApacheWarning: Line 40917: Line contains invalid data\n",
      "  warnings.warn(\n",
      "/home/katscott/Code/ros_metrics_analysis/notebooks/metrics/lib/python3.11/site-packages/lars/apache.py:741: ApacheWarning: Line 41131: Line contains invalid data\n",
      "  warnings.warn(\n",
      "/home/katscott/Code/ros_metrics_analysis/notebooks/metrics/lib/python3.11/site-packages/lars/apache.py:741: ApacheWarning: Line 45663: Line contains invalid data\n",
      "  warnings.warn(\n",
      "/home/katscott/Code/ros_metrics_analysis/notebooks/metrics/lib/python3.11/site-packages/lars/apache.py:741: ApacheWarning: Line 49389: Line contains invalid data\n",
      "  warnings.warn(\n",
      "/home/katscott/Code/ros_metrics_analysis/notebooks/metrics/lib/python3.11/site-packages/lars/apache.py:741: ApacheWarning: Line 57702: Line contains invalid data\n",
      "  warnings.warn(\n",
      "/home/katscott/Code/ros_metrics_analysis/notebooks/metrics/lib/python3.11/site-packages/lars/apache.py:741: ApacheWarning: Line 58518: Line contains invalid data\n",
      "  warnings.warn(\n",
      "/home/katscott/Code/ros_metrics_analysis/notebooks/metrics/lib/python3.11/site-packages/lars/apache.py:741: ApacheWarning: Line 64910: Line contains invalid data\n",
      "  warnings.warn(\n"
     ]
    },
    {
     "name": "stdout",
     "output_type": "stream",
     "text": [
      ".\n",
      ".\n",
      ".\n",
      ".\n"
     ]
    },
    {
     "name": "stderr",
     "output_type": "stream",
     "text": [
      "/home/katscott/Code/ros_metrics_analysis/notebooks/metrics/lib/python3.11/site-packages/lars/apache.py:741: ApacheWarning: Line 72087: Line contains invalid data\n",
      "  warnings.warn(\n",
      "/home/katscott/Code/ros_metrics_analysis/notebooks/metrics/lib/python3.11/site-packages/lars/apache.py:741: ApacheWarning: Line 72697: Line contains invalid data\n",
      "  warnings.warn(\n",
      "/home/katscott/Code/ros_metrics_analysis/notebooks/metrics/lib/python3.11/site-packages/lars/apache.py:741: ApacheWarning: Line 72985: Line contains invalid data\n",
      "  warnings.warn(\n",
      "/home/katscott/Code/ros_metrics_analysis/notebooks/metrics/lib/python3.11/site-packages/lars/apache.py:741: ApacheWarning: Line 73248: Line contains invalid data\n",
      "  warnings.warn(\n",
      "/home/katscott/Code/ros_metrics_analysis/notebooks/metrics/lib/python3.11/site-packages/lars/apache.py:741: ApacheWarning: Line 89949: Line contains invalid data\n",
      "  warnings.warn(\n"
     ]
    },
    {
     "name": "stdout",
     "output_type": "stream",
     "text": [
      ".\n",
      ".\n"
     ]
    },
    {
     "name": "stderr",
     "output_type": "stream",
     "text": [
      "/home/katscott/Code/ros_metrics_analysis/notebooks/metrics/lib/python3.11/site-packages/lars/apache.py:741: ApacheWarning: Line 92652: Line contains invalid data\n",
      "  warnings.warn(\n",
      "/home/katscott/Code/ros_metrics_analysis/notebooks/metrics/lib/python3.11/site-packages/lars/apache.py:741: ApacheWarning: Line 100710: Line contains invalid data\n",
      "  warnings.warn(\n",
      "/home/katscott/Code/ros_metrics_analysis/notebooks/metrics/lib/python3.11/site-packages/lars/apache.py:741: ApacheWarning: Line 104600: Line contains invalid data\n",
      "  warnings.warn(\n",
      "/home/katscott/Code/ros_metrics_analysis/notebooks/metrics/lib/python3.11/site-packages/lars/apache.py:741: ApacheWarning: Line 104601: Line contains invalid data\n",
      "  warnings.warn(\n"
     ]
    },
    {
     "name": "stdout",
     "output_type": "stream",
     "text": [
      ".\n",
      ".\n",
      "./temp/packages-logs/apt-access.log.42\n",
      ".\n"
     ]
    },
    {
     "name": "stderr",
     "output_type": "stream",
     "text": [
      "/home/katscott/Code/ros_metrics_analysis/notebooks/metrics/lib/python3.11/site-packages/lars/apache.py:741: ApacheWarning: Line 114815: Line contains invalid data\n",
      "  warnings.warn(\n",
      "/home/katscott/Code/ros_metrics_analysis/notebooks/metrics/lib/python3.11/site-packages/lars/apache.py:741: ApacheWarning: Line 114884: Line contains invalid data\n",
      "  warnings.warn(\n",
      "/home/katscott/Code/ros_metrics_analysis/notebooks/metrics/lib/python3.11/site-packages/lars/apache.py:741: ApacheWarning: Line 119740: Line contains invalid data\n",
      "  warnings.warn(\n",
      "/home/katscott/Code/ros_metrics_analysis/notebooks/metrics/lib/python3.11/site-packages/lars/apache.py:741: ApacheWarning: Line 119741: Line contains invalid data\n",
      "  warnings.warn(\n",
      "/home/katscott/Code/ros_metrics_analysis/notebooks/metrics/lib/python3.11/site-packages/lars/apache.py:741: ApacheWarning: Line 119742: Line contains invalid data\n",
      "  warnings.warn(\n",
      "/home/katscott/Code/ros_metrics_analysis/notebooks/metrics/lib/python3.11/site-packages/lars/apache.py:741: ApacheWarning: Line 119744: Line contains invalid data\n",
      "  warnings.warn(\n",
      "/home/katscott/Code/ros_metrics_analysis/notebooks/metrics/lib/python3.11/site-packages/lars/apache.py:741: ApacheWarning: Line 119745: Line contains invalid data\n",
      "  warnings.warn(\n",
      "/home/katscott/Code/ros_metrics_analysis/notebooks/metrics/lib/python3.11/site-packages/lars/apache.py:741: ApacheWarning: Line 119750: Line contains invalid data\n",
      "  warnings.warn(\n",
      "/home/katscott/Code/ros_metrics_analysis/notebooks/metrics/lib/python3.11/site-packages/lars/apache.py:741: ApacheWarning: Line 119789: Line contains invalid data\n",
      "  warnings.warn(\n",
      "/home/katscott/Code/ros_metrics_analysis/notebooks/metrics/lib/python3.11/site-packages/lars/apache.py:741: ApacheWarning: Line 123466: Line contains invalid data\n",
      "  warnings.warn(\n",
      "/home/katscott/Code/ros_metrics_analysis/notebooks/metrics/lib/python3.11/site-packages/lars/apache.py:741: ApacheWarning: Line 124389: Line contains invalid data\n",
      "  warnings.warn(\n",
      "/home/katscott/Code/ros_metrics_analysis/notebooks/metrics/lib/python3.11/site-packages/lars/apache.py:741: ApacheWarning: Line 124390: Line contains invalid data\n",
      "  warnings.warn(\n",
      "/home/katscott/Code/ros_metrics_analysis/notebooks/metrics/lib/python3.11/site-packages/lars/apache.py:741: ApacheWarning: Line 124395: Line contains invalid data\n",
      "  warnings.warn(\n",
      "/home/katscott/Code/ros_metrics_analysis/notebooks/metrics/lib/python3.11/site-packages/lars/apache.py:741: ApacheWarning: Line 15748: Line contains invalid data\n",
      "  warnings.warn(\n"
     ]
    },
    {
     "name": "stdout",
     "output_type": "stream",
     "text": [
      ".\n",
      ".\n"
     ]
    },
    {
     "name": "stderr",
     "output_type": "stream",
     "text": [
      "/home/katscott/Code/ros_metrics_analysis/notebooks/metrics/lib/python3.11/site-packages/lars/apache.py:741: ApacheWarning: Line 21954: Line contains invalid data\n",
      "  warnings.warn(\n",
      "/home/katscott/Code/ros_metrics_analysis/notebooks/metrics/lib/python3.11/site-packages/lars/apache.py:741: ApacheWarning: Line 28862: Line contains invalid data\n",
      "  warnings.warn(\n",
      "/home/katscott/Code/ros_metrics_analysis/notebooks/metrics/lib/python3.11/site-packages/lars/apache.py:741: ApacheWarning: Line 28863: Line contains invalid data\n",
      "  warnings.warn(\n",
      "/home/katscott/Code/ros_metrics_analysis/notebooks/metrics/lib/python3.11/site-packages/lars/apache.py:741: ApacheWarning: Line 33931: Line contains invalid data\n",
      "  warnings.warn(\n",
      "/home/katscott/Code/ros_metrics_analysis/notebooks/metrics/lib/python3.11/site-packages/lars/apache.py:741: ApacheWarning: Line 35458: Line contains invalid data\n",
      "  warnings.warn(\n",
      "/home/katscott/Code/ros_metrics_analysis/notebooks/metrics/lib/python3.11/site-packages/lars/apache.py:741: ApacheWarning: Line 35459: Line contains invalid data\n",
      "  warnings.warn(\n",
      "/home/katscott/Code/ros_metrics_analysis/notebooks/metrics/lib/python3.11/site-packages/lars/apache.py:741: ApacheWarning: Line 38077: Line contains invalid data\n",
      "  warnings.warn(\n",
      "/home/katscott/Code/ros_metrics_analysis/notebooks/metrics/lib/python3.11/site-packages/lars/apache.py:741: ApacheWarning: Line 39125: Line contains invalid data\n",
      "  warnings.warn(\n",
      "/home/katscott/Code/ros_metrics_analysis/notebooks/metrics/lib/python3.11/site-packages/lars/apache.py:741: ApacheWarning: Line 46204: Line contains invalid data\n",
      "  warnings.warn(\n",
      "/home/katscott/Code/ros_metrics_analysis/notebooks/metrics/lib/python3.11/site-packages/lars/apache.py:741: ApacheWarning: Line 56354: Line contains invalid data\n",
      "  warnings.warn(\n",
      "/home/katscott/Code/ros_metrics_analysis/notebooks/metrics/lib/python3.11/site-packages/lars/apache.py:741: ApacheWarning: Line 57069: Line contains invalid data\n",
      "  warnings.warn(\n",
      "/home/katscott/Code/ros_metrics_analysis/notebooks/metrics/lib/python3.11/site-packages/lars/apache.py:741: ApacheWarning: Line 63702: Line contains invalid data\n",
      "  warnings.warn(\n",
      "/home/katscott/Code/ros_metrics_analysis/notebooks/metrics/lib/python3.11/site-packages/lars/apache.py:741: ApacheWarning: Line 63703: Line contains invalid data\n",
      "  warnings.warn(\n",
      "/home/katscott/Code/ros_metrics_analysis/notebooks/metrics/lib/python3.11/site-packages/lars/apache.py:741: ApacheWarning: Line 63704: Line contains invalid data\n",
      "  warnings.warn(\n",
      "/home/katscott/Code/ros_metrics_analysis/notebooks/metrics/lib/python3.11/site-packages/lars/apache.py:741: ApacheWarning: Line 63707: Line contains invalid data\n",
      "  warnings.warn(\n",
      "/home/katscott/Code/ros_metrics_analysis/notebooks/metrics/lib/python3.11/site-packages/lars/apache.py:741: ApacheWarning: Line 63708: Line contains invalid data\n",
      "  warnings.warn(\n",
      "/home/katscott/Code/ros_metrics_analysis/notebooks/metrics/lib/python3.11/site-packages/lars/apache.py:741: ApacheWarning: Line 77939: Line contains invalid data\n",
      "  warnings.warn(\n"
     ]
    },
    {
     "name": "stdout",
     "output_type": "stream",
     "text": [
      ".\n",
      ".\n",
      ".\n",
      ".\n",
      ".\n"
     ]
    },
    {
     "name": "stderr",
     "output_type": "stream",
     "text": [
      "/home/katscott/Code/ros_metrics_analysis/notebooks/metrics/lib/python3.11/site-packages/lars/apache.py:741: ApacheWarning: Line 82165: Line contains invalid data\n",
      "  warnings.warn(\n",
      "/home/katscott/Code/ros_metrics_analysis/notebooks/metrics/lib/python3.11/site-packages/lars/apache.py:741: ApacheWarning: Line 82169: Line contains invalid data\n",
      "  warnings.warn(\n",
      "/home/katscott/Code/ros_metrics_analysis/notebooks/metrics/lib/python3.11/site-packages/lars/apache.py:741: ApacheWarning: Line 82172: Line contains invalid data\n",
      "  warnings.warn(\n",
      "/home/katscott/Code/ros_metrics_analysis/notebooks/metrics/lib/python3.11/site-packages/lars/apache.py:741: ApacheWarning: Line 82174: Line contains invalid data\n",
      "  warnings.warn(\n",
      "/home/katscott/Code/ros_metrics_analysis/notebooks/metrics/lib/python3.11/site-packages/lars/apache.py:741: ApacheWarning: Line 82176: Line contains invalid data\n",
      "  warnings.warn(\n",
      "/home/katscott/Code/ros_metrics_analysis/notebooks/metrics/lib/python3.11/site-packages/lars/apache.py:741: ApacheWarning: Line 82178: Line contains invalid data\n",
      "  warnings.warn(\n",
      "/home/katscott/Code/ros_metrics_analysis/notebooks/metrics/lib/python3.11/site-packages/lars/apache.py:741: ApacheWarning: Line 95235: Line contains invalid data\n",
      "  warnings.warn(\n"
     ]
    },
    {
     "name": "stdout",
     "output_type": "stream",
     "text": [
      ".\n",
      ".\n",
      ".\n",
      ".\n"
     ]
    },
    {
     "name": "stderr",
     "output_type": "stream",
     "text": [
      "/home/katscott/Code/ros_metrics_analysis/notebooks/metrics/lib/python3.11/site-packages/lars/apache.py:741: ApacheWarning: Line 118173: Line contains invalid data\n",
      "  warnings.warn(\n",
      "/home/katscott/Code/ros_metrics_analysis/notebooks/metrics/lib/python3.11/site-packages/lars/apache.py:741: ApacheWarning: Line 118380: Line contains invalid data\n",
      "  warnings.warn(\n",
      "/home/katscott/Code/ros_metrics_analysis/notebooks/metrics/lib/python3.11/site-packages/lars/apache.py:741: ApacheWarning: Line 118851: Line contains invalid data\n",
      "  warnings.warn(\n",
      "/home/katscott/Code/ros_metrics_analysis/notebooks/metrics/lib/python3.11/site-packages/lars/apache.py:741: ApacheWarning: Line 119211: Line contains invalid data\n",
      "  warnings.warn(\n",
      "/home/katscott/Code/ros_metrics_analysis/notebooks/metrics/lib/python3.11/site-packages/lars/apache.py:741: ApacheWarning: Line 119460: Line contains invalid data\n",
      "  warnings.warn(\n",
      "/home/katscott/Code/ros_metrics_analysis/notebooks/metrics/lib/python3.11/site-packages/lars/apache.py:741: ApacheWarning: Line 119805: Line contains invalid data\n",
      "  warnings.warn(\n",
      "/home/katscott/Code/ros_metrics_analysis/notebooks/metrics/lib/python3.11/site-packages/lars/apache.py:741: ApacheWarning: Line 120155: Line contains invalid data\n",
      "  warnings.warn(\n",
      "/home/katscott/Code/ros_metrics_analysis/notebooks/metrics/lib/python3.11/site-packages/lars/apache.py:741: ApacheWarning: Line 120810: Line contains invalid data\n",
      "  warnings.warn(\n",
      "/home/katscott/Code/ros_metrics_analysis/notebooks/metrics/lib/python3.11/site-packages/lars/apache.py:741: ApacheWarning: Line 121269: Line contains invalid data\n",
      "  warnings.warn(\n",
      "/home/katscott/Code/ros_metrics_analysis/notebooks/metrics/lib/python3.11/site-packages/lars/apache.py:741: ApacheWarning: Line 121668: Line contains invalid data\n",
      "  warnings.warn(\n",
      "/home/katscott/Code/ros_metrics_analysis/notebooks/metrics/lib/python3.11/site-packages/lars/apache.py:741: ApacheWarning: Line 122065: Line contains invalid data\n",
      "  warnings.warn(\n",
      "/home/katscott/Code/ros_metrics_analysis/notebooks/metrics/lib/python3.11/site-packages/lars/apache.py:741: ApacheWarning: Line 122237: Line contains invalid data\n",
      "  warnings.warn(\n",
      "/home/katscott/Code/ros_metrics_analysis/notebooks/metrics/lib/python3.11/site-packages/lars/apache.py:741: ApacheWarning: Line 128640: Line contains invalid data\n",
      "  warnings.warn(\n",
      "/home/katscott/Code/ros_metrics_analysis/notebooks/metrics/lib/python3.11/site-packages/lars/apache.py:741: ApacheWarning: Line 137463: Line contains invalid data\n",
      "  warnings.warn(\n",
      "/home/katscott/Code/ros_metrics_analysis/notebooks/metrics/lib/python3.11/site-packages/lars/apache.py:741: ApacheWarning: Line 137464: Line contains invalid data\n",
      "  warnings.warn(\n",
      "/home/katscott/Code/ros_metrics_analysis/notebooks/metrics/lib/python3.11/site-packages/lars/apache.py:741: ApacheWarning: Line 138655: Line contains invalid data\n",
      "  warnings.warn(\n"
     ]
    },
    {
     "name": "stdout",
     "output_type": "stream",
     "text": [
      ".\n",
      ".\n"
     ]
    },
    {
     "name": "stderr",
     "output_type": "stream",
     "text": [
      "/home/katscott/Code/ros_metrics_analysis/notebooks/metrics/lib/python3.11/site-packages/lars/apache.py:741: ApacheWarning: Line 143284: Line contains invalid data\n",
      "  warnings.warn(\n",
      "/home/katscott/Code/ros_metrics_analysis/notebooks/metrics/lib/python3.11/site-packages/lars/apache.py:741: ApacheWarning: Line 145120: Line contains invalid data\n",
      "  warnings.warn(\n",
      "/home/katscott/Code/ros_metrics_analysis/notebooks/metrics/lib/python3.11/site-packages/lars/apache.py:741: ApacheWarning: Line 149752: Line contains invalid data\n",
      "  warnings.warn(\n",
      "/home/katscott/Code/ros_metrics_analysis/notebooks/metrics/lib/python3.11/site-packages/lars/apache.py:741: ApacheWarning: Line 149756: Line contains invalid data\n",
      "  warnings.warn(\n",
      "/home/katscott/Code/ros_metrics_analysis/notebooks/metrics/lib/python3.11/site-packages/lars/apache.py:741: ApacheWarning: Line 149757: Line contains invalid data\n",
      "  warnings.warn(\n",
      "/home/katscott/Code/ros_metrics_analysis/notebooks/metrics/lib/python3.11/site-packages/lars/apache.py:741: ApacheWarning: Line 149759: Line contains invalid data\n",
      "  warnings.warn(\n",
      "/home/katscott/Code/ros_metrics_analysis/notebooks/metrics/lib/python3.11/site-packages/lars/apache.py:741: ApacheWarning: Line 149760: Line contains invalid data\n",
      "  warnings.warn(\n",
      "/home/katscott/Code/ros_metrics_analysis/notebooks/metrics/lib/python3.11/site-packages/lars/apache.py:741: ApacheWarning: Line 149769: Line contains invalid data\n",
      "  warnings.warn(\n",
      "/home/katscott/Code/ros_metrics_analysis/notebooks/metrics/lib/python3.11/site-packages/lars/apache.py:741: ApacheWarning: Line 149817: Line contains invalid data\n",
      "  warnings.warn(\n"
     ]
    },
    {
     "name": "stdout",
     "output_type": "stream",
     "text": [
      ".\n",
      "./temp/packages-logs/apt-access.log.43\n",
      ".\n"
     ]
    },
    {
     "name": "stderr",
     "output_type": "stream",
     "text": [
      "/home/katscott/Code/ros_metrics_analysis/notebooks/metrics/lib/python3.11/site-packages/lars/apache.py:741: ApacheWarning: Line 156747: Line contains invalid data\n",
      "  warnings.warn(\n",
      "/home/katscott/Code/ros_metrics_analysis/notebooks/metrics/lib/python3.11/site-packages/lars/apache.py:741: ApacheWarning: Line 158768: Line contains invalid data\n",
      "  warnings.warn(\n",
      "/home/katscott/Code/ros_metrics_analysis/notebooks/metrics/lib/python3.11/site-packages/lars/apache.py:741: ApacheWarning: Line 159455: Line contains invalid data\n",
      "  warnings.warn(\n",
      "/home/katscott/Code/ros_metrics_analysis/notebooks/metrics/lib/python3.11/site-packages/lars/apache.py:741: ApacheWarning: Line 10573: Line contains invalid data\n",
      "  warnings.warn(\n",
      "/home/katscott/Code/ros_metrics_analysis/notebooks/metrics/lib/python3.11/site-packages/lars/apache.py:741: ApacheWarning: Line 12864: Line contains invalid data\n",
      "  warnings.warn(\n",
      "/home/katscott/Code/ros_metrics_analysis/notebooks/metrics/lib/python3.11/site-packages/lars/apache.py:741: ApacheWarning: Line 13311: Line contains invalid data\n",
      "  warnings.warn(\n"
     ]
    },
    {
     "name": "stdout",
     "output_type": "stream",
     "text": [
      ".\n",
      ".\n"
     ]
    },
    {
     "name": "stderr",
     "output_type": "stream",
     "text": [
      "/home/katscott/Code/ros_metrics_analysis/notebooks/metrics/lib/python3.11/site-packages/lars/apache.py:741: ApacheWarning: Line 26047: Line contains invalid data\n",
      "  warnings.warn(\n",
      "/home/katscott/Code/ros_metrics_analysis/notebooks/metrics/lib/python3.11/site-packages/lars/apache.py:741: ApacheWarning: Line 31433: Line contains invalid data\n",
      "  warnings.warn(\n",
      "/home/katscott/Code/ros_metrics_analysis/notebooks/metrics/lib/python3.11/site-packages/lars/apache.py:741: ApacheWarning: Line 33935: Line contains invalid data\n",
      "  warnings.warn(\n",
      "/home/katscott/Code/ros_metrics_analysis/notebooks/metrics/lib/python3.11/site-packages/lars/apache.py:741: ApacheWarning: Line 34750: Line contains invalid data\n",
      "  warnings.warn(\n",
      "/home/katscott/Code/ros_metrics_analysis/notebooks/metrics/lib/python3.11/site-packages/lars/apache.py:741: ApacheWarning: Line 34751: Line contains invalid data\n",
      "  warnings.warn(\n",
      "/home/katscott/Code/ros_metrics_analysis/notebooks/metrics/lib/python3.11/site-packages/lars/apache.py:741: ApacheWarning: Line 36567: Line contains invalid data\n",
      "  warnings.warn(\n",
      "/home/katscott/Code/ros_metrics_analysis/notebooks/metrics/lib/python3.11/site-packages/lars/apache.py:741: ApacheWarning: Line 36591: Line contains invalid data\n",
      "  warnings.warn(\n",
      "/home/katscott/Code/ros_metrics_analysis/notebooks/metrics/lib/python3.11/site-packages/lars/apache.py:741: ApacheWarning: Line 40129: Line contains invalid data\n",
      "  warnings.warn(\n",
      "/home/katscott/Code/ros_metrics_analysis/notebooks/metrics/lib/python3.11/site-packages/lars/apache.py:741: ApacheWarning: Line 40131: Line contains invalid data\n",
      "  warnings.warn(\n",
      "/home/katscott/Code/ros_metrics_analysis/notebooks/metrics/lib/python3.11/site-packages/lars/apache.py:741: ApacheWarning: Line 40132: Line contains invalid data\n",
      "  warnings.warn(\n"
     ]
    },
    {
     "name": "stdout",
     "output_type": "stream",
     "text": [
      ".\n",
      ".\n",
      ".\n",
      ".\n",
      ".\n"
     ]
    },
    {
     "name": "stderr",
     "output_type": "stream",
     "text": [
      "/home/katscott/Code/ros_metrics_analysis/notebooks/metrics/lib/python3.11/site-packages/lars/apache.py:741: ApacheWarning: Line 72708: Line contains invalid data\n",
      "  warnings.warn(\n",
      "/home/katscott/Code/ros_metrics_analysis/notebooks/metrics/lib/python3.11/site-packages/lars/apache.py:741: ApacheWarning: Line 73559: Line contains invalid data\n",
      "  warnings.warn(\n",
      "/home/katscott/Code/ros_metrics_analysis/notebooks/metrics/lib/python3.11/site-packages/lars/apache.py:741: ApacheWarning: Line 79775: Line contains invalid data\n",
      "  warnings.warn(\n",
      "/home/katscott/Code/ros_metrics_analysis/notebooks/metrics/lib/python3.11/site-packages/lars/apache.py:741: ApacheWarning: Line 88763: Line contains invalid data\n",
      "  warnings.warn(\n",
      "/home/katscott/Code/ros_metrics_analysis/notebooks/metrics/lib/python3.11/site-packages/lars/apache.py:741: ApacheWarning: Line 88804: Line contains invalid data\n",
      "  warnings.warn(\n",
      "/home/katscott/Code/ros_metrics_analysis/notebooks/metrics/lib/python3.11/site-packages/lars/apache.py:741: ApacheWarning: Line 88810: Line contains invalid data\n",
      "  warnings.warn(\n",
      "/home/katscott/Code/ros_metrics_analysis/notebooks/metrics/lib/python3.11/site-packages/lars/apache.py:741: ApacheWarning: Line 95429: Line contains invalid data\n",
      "  warnings.warn(\n",
      "/home/katscott/Code/ros_metrics_analysis/notebooks/metrics/lib/python3.11/site-packages/lars/apache.py:741: ApacheWarning: Line 106201: Line contains invalid data\n",
      "  warnings.warn(\n"
     ]
    },
    {
     "name": "stdout",
     "output_type": "stream",
     "text": [
      ".\n",
      ".\n",
      ".\n"
     ]
    },
    {
     "name": "stderr",
     "output_type": "stream",
     "text": [
      "/home/katscott/Code/ros_metrics_analysis/notebooks/metrics/lib/python3.11/site-packages/lars/apache.py:741: ApacheWarning: Line 118078: Line contains invalid data\n",
      "  warnings.warn(\n",
      "/home/katscott/Code/ros_metrics_analysis/notebooks/metrics/lib/python3.11/site-packages/lars/apache.py:741: ApacheWarning: Line 121707: Line contains invalid data\n",
      "  warnings.warn(\n",
      "/home/katscott/Code/ros_metrics_analysis/notebooks/metrics/lib/python3.11/site-packages/lars/apache.py:741: ApacheWarning: Line 124293: Line contains invalid data\n",
      "  warnings.warn(\n",
      "/home/katscott/Code/ros_metrics_analysis/notebooks/metrics/lib/python3.11/site-packages/lars/apache.py:741: ApacheWarning: Line 124294: Line contains invalid data\n",
      "  warnings.warn(\n",
      "/home/katscott/Code/ros_metrics_analysis/notebooks/metrics/lib/python3.11/site-packages/lars/apache.py:741: ApacheWarning: Line 124295: Line contains invalid data\n",
      "  warnings.warn(\n",
      "/home/katscott/Code/ros_metrics_analysis/notebooks/metrics/lib/python3.11/site-packages/lars/apache.py:741: ApacheWarning: Line 124296: Line contains invalid data\n",
      "  warnings.warn(\n",
      "/home/katscott/Code/ros_metrics_analysis/notebooks/metrics/lib/python3.11/site-packages/lars/apache.py:741: ApacheWarning: Line 124297: Line contains invalid data\n",
      "  warnings.warn(\n",
      "/home/katscott/Code/ros_metrics_analysis/notebooks/metrics/lib/python3.11/site-packages/lars/apache.py:741: ApacheWarning: Line 124298: Line contains invalid data\n",
      "  warnings.warn(\n",
      "/home/katscott/Code/ros_metrics_analysis/notebooks/metrics/lib/python3.11/site-packages/lars/apache.py:741: ApacheWarning: Line 124299: Line contains invalid data\n",
      "  warnings.warn(\n",
      "/home/katscott/Code/ros_metrics_analysis/notebooks/metrics/lib/python3.11/site-packages/lars/apache.py:741: ApacheWarning: Line 124300: Line contains invalid data\n",
      "  warnings.warn(\n",
      "/home/katscott/Code/ros_metrics_analysis/notebooks/metrics/lib/python3.11/site-packages/lars/apache.py:741: ApacheWarning: Line 124301: Line contains invalid data\n",
      "  warnings.warn(\n",
      "/home/katscott/Code/ros_metrics_analysis/notebooks/metrics/lib/python3.11/site-packages/lars/apache.py:741: ApacheWarning: Line 124302: Line contains invalid data\n",
      "  warnings.warn(\n",
      "/home/katscott/Code/ros_metrics_analysis/notebooks/metrics/lib/python3.11/site-packages/lars/apache.py:741: ApacheWarning: Line 124303: Line contains invalid data\n",
      "  warnings.warn(\n",
      "/home/katscott/Code/ros_metrics_analysis/notebooks/metrics/lib/python3.11/site-packages/lars/apache.py:741: ApacheWarning: Line 129543: Line contains invalid data\n",
      "  warnings.warn(\n",
      "/home/katscott/Code/ros_metrics_analysis/notebooks/metrics/lib/python3.11/site-packages/lars/apache.py:741: ApacheWarning: Line 129544: Line contains invalid data\n",
      "  warnings.warn(\n",
      "/home/katscott/Code/ros_metrics_analysis/notebooks/metrics/lib/python3.11/site-packages/lars/apache.py:741: ApacheWarning: Line 129545: Line contains invalid data\n",
      "  warnings.warn(\n",
      "/home/katscott/Code/ros_metrics_analysis/notebooks/metrics/lib/python3.11/site-packages/lars/apache.py:741: ApacheWarning: Line 129546: Line contains invalid data\n",
      "  warnings.warn(\n",
      "/home/katscott/Code/ros_metrics_analysis/notebooks/metrics/lib/python3.11/site-packages/lars/apache.py:741: ApacheWarning: Line 129547: Line contains invalid data\n",
      "  warnings.warn(\n",
      "/home/katscott/Code/ros_metrics_analysis/notebooks/metrics/lib/python3.11/site-packages/lars/apache.py:741: ApacheWarning: Line 129553: Line contains invalid data\n",
      "  warnings.warn(\n",
      "/home/katscott/Code/ros_metrics_analysis/notebooks/metrics/lib/python3.11/site-packages/lars/apache.py:741: ApacheWarning: Line 129600: Line contains invalid data\n",
      "  warnings.warn(\n"
     ]
    },
    {
     "name": "stdout",
     "output_type": "stream",
     "text": [
      ".\n",
      ".\n",
      ".\n",
      "./temp/packages-logs/apt-access.log.44\n",
      ".\n",
      ".\n",
      ".\n"
     ]
    },
    {
     "name": "stderr",
     "output_type": "stream",
     "text": [
      "/home/katscott/Code/ros_metrics_analysis/notebooks/metrics/lib/python3.11/site-packages/lars/apache.py:741: ApacheWarning: Line 21078: Line contains invalid data\n",
      "  warnings.warn(\n",
      "/home/katscott/Code/ros_metrics_analysis/notebooks/metrics/lib/python3.11/site-packages/lars/apache.py:741: ApacheWarning: Line 28906: Line contains invalid data\n",
      "  warnings.warn(\n",
      "/home/katscott/Code/ros_metrics_analysis/notebooks/metrics/lib/python3.11/site-packages/lars/apache.py:741: ApacheWarning: Line 32300: Line contains invalid data\n",
      "  warnings.warn(\n",
      "/home/katscott/Code/ros_metrics_analysis/notebooks/metrics/lib/python3.11/site-packages/lars/apache.py:741: ApacheWarning: Line 41511: Line contains invalid data\n",
      "  warnings.warn(\n",
      "/home/katscott/Code/ros_metrics_analysis/notebooks/metrics/lib/python3.11/site-packages/lars/apache.py:741: ApacheWarning: Line 41512: Line contains invalid data\n",
      "  warnings.warn(\n",
      "/home/katscott/Code/ros_metrics_analysis/notebooks/metrics/lib/python3.11/site-packages/lars/apache.py:741: ApacheWarning: Line 44120: Line contains invalid data\n",
      "  warnings.warn(\n",
      "/home/katscott/Code/ros_metrics_analysis/notebooks/metrics/lib/python3.11/site-packages/lars/apache.py:741: ApacheWarning: Line 57987: Line contains invalid data\n",
      "  warnings.warn(\n",
      "/home/katscott/Code/ros_metrics_analysis/notebooks/metrics/lib/python3.11/site-packages/lars/apache.py:741: ApacheWarning: Line 59959: Line contains invalid data\n",
      "  warnings.warn(\n",
      "/home/katscott/Code/ros_metrics_analysis/notebooks/metrics/lib/python3.11/site-packages/lars/apache.py:741: ApacheWarning: Line 65135: Line contains invalid data\n",
      "  warnings.warn(\n",
      "/home/katscott/Code/ros_metrics_analysis/notebooks/metrics/lib/python3.11/site-packages/lars/apache.py:741: ApacheWarning: Line 66696: Line contains invalid data\n",
      "  warnings.warn(\n",
      "/home/katscott/Code/ros_metrics_analysis/notebooks/metrics/lib/python3.11/site-packages/lars/apache.py:741: ApacheWarning: Line 67284: Line contains invalid data\n",
      "  warnings.warn(\n",
      "/home/katscott/Code/ros_metrics_analysis/notebooks/metrics/lib/python3.11/site-packages/lars/apache.py:741: ApacheWarning: Line 67287: Line contains invalid data\n",
      "  warnings.warn(\n",
      "/home/katscott/Code/ros_metrics_analysis/notebooks/metrics/lib/python3.11/site-packages/lars/apache.py:741: ApacheWarning: Line 67289: Line contains invalid data\n",
      "  warnings.warn(\n",
      "/home/katscott/Code/ros_metrics_analysis/notebooks/metrics/lib/python3.11/site-packages/lars/apache.py:741: ApacheWarning: Line 67328: Line contains invalid data\n",
      "  warnings.warn(\n"
     ]
    },
    {
     "name": "stdout",
     "output_type": "stream",
     "text": [
      ".\n",
      ".\n",
      ".\n",
      ".\n",
      ".\n",
      ".\n"
     ]
    },
    {
     "name": "stderr",
     "output_type": "stream",
     "text": [
      "/home/katscott/Code/ros_metrics_analysis/notebooks/metrics/lib/python3.11/site-packages/lars/apache.py:741: ApacheWarning: Line 71919: Line contains invalid data\n",
      "  warnings.warn(\n",
      "/home/katscott/Code/ros_metrics_analysis/notebooks/metrics/lib/python3.11/site-packages/lars/apache.py:741: ApacheWarning: Line 71927: Line contains invalid data\n",
      "  warnings.warn(\n",
      "/home/katscott/Code/ros_metrics_analysis/notebooks/metrics/lib/python3.11/site-packages/lars/apache.py:741: ApacheWarning: Line 89359: Line contains invalid data\n",
      "  warnings.warn(\n"
     ]
    },
    {
     "name": "stdout",
     "output_type": "stream",
     "text": [
      ".\n",
      ".\n"
     ]
    },
    {
     "name": "stderr",
     "output_type": "stream",
     "text": [
      "/home/katscott/Code/ros_metrics_analysis/notebooks/metrics/lib/python3.11/site-packages/lars/apache.py:741: ApacheWarning: Line 112861: Line contains invalid data\n",
      "  warnings.warn(\n"
     ]
    },
    {
     "name": "stdout",
     "output_type": "stream",
     "text": [
      ".\n",
      ".\n",
      ".\n"
     ]
    },
    {
     "name": "stderr",
     "output_type": "stream",
     "text": [
      "/home/katscott/Code/ros_metrics_analysis/notebooks/metrics/lib/python3.11/site-packages/lars/apache.py:741: ApacheWarning: Line 131985: Line contains invalid data\n",
      "  warnings.warn(\n",
      "/home/katscott/Code/ros_metrics_analysis/notebooks/metrics/lib/python3.11/site-packages/lars/apache.py:741: ApacheWarning: Line 136247: Line contains invalid data\n",
      "  warnings.warn(\n",
      "/home/katscott/Code/ros_metrics_analysis/notebooks/metrics/lib/python3.11/site-packages/lars/apache.py:741: ApacheWarning: Line 136248: Line contains invalid data\n",
      "  warnings.warn(\n",
      "/home/katscott/Code/ros_metrics_analysis/notebooks/metrics/lib/python3.11/site-packages/lars/apache.py:741: ApacheWarning: Line 136249: Line contains invalid data\n",
      "  warnings.warn(\n",
      "/home/katscott/Code/ros_metrics_analysis/notebooks/metrics/lib/python3.11/site-packages/lars/apache.py:741: ApacheWarning: Line 140669: Line contains invalid data\n",
      "  warnings.warn(\n",
      "/home/katscott/Code/ros_metrics_analysis/notebooks/metrics/lib/python3.11/site-packages/lars/apache.py:741: ApacheWarning: Line 145090: Line contains invalid data\n",
      "  warnings.warn(\n",
      "/home/katscott/Code/ros_metrics_analysis/notebooks/metrics/lib/python3.11/site-packages/lars/apache.py:741: ApacheWarning: Line 149716: Line contains invalid data\n",
      "  warnings.warn(\n",
      "/home/katscott/Code/ros_metrics_analysis/notebooks/metrics/lib/python3.11/site-packages/lars/apache.py:741: ApacheWarning: Line 149717: Line contains invalid data\n",
      "  warnings.warn(\n",
      "/home/katscott/Code/ros_metrics_analysis/notebooks/metrics/lib/python3.11/site-packages/lars/apache.py:741: ApacheWarning: Line 149718: Line contains invalid data\n",
      "  warnings.warn(\n",
      "/home/katscott/Code/ros_metrics_analysis/notebooks/metrics/lib/python3.11/site-packages/lars/apache.py:741: ApacheWarning: Line 149719: Line contains invalid data\n",
      "  warnings.warn(\n",
      "/home/katscott/Code/ros_metrics_analysis/notebooks/metrics/lib/python3.11/site-packages/lars/apache.py:741: ApacheWarning: Line 149720: Line contains invalid data\n",
      "  warnings.warn(\n",
      "/home/katscott/Code/ros_metrics_analysis/notebooks/metrics/lib/python3.11/site-packages/lars/apache.py:741: ApacheWarning: Line 149725: Line contains invalid data\n",
      "  warnings.warn(\n",
      "/home/katscott/Code/ros_metrics_analysis/notebooks/metrics/lib/python3.11/site-packages/lars/apache.py:741: ApacheWarning: Line 149754: Line contains invalid data\n",
      "  warnings.warn(\n",
      "/home/katscott/Code/ros_metrics_analysis/notebooks/metrics/lib/python3.11/site-packages/lars/apache.py:741: ApacheWarning: Line 151610: Line contains invalid data\n",
      "  warnings.warn(\n",
      "/home/katscott/Code/ros_metrics_analysis/notebooks/metrics/lib/python3.11/site-packages/lars/apache.py:741: ApacheWarning: Line 153042: Line contains invalid data\n",
      "  warnings.warn(\n",
      "/home/katscott/Code/ros_metrics_analysis/notebooks/metrics/lib/python3.11/site-packages/lars/apache.py:741: ApacheWarning: Line 163091: Line contains invalid data\n",
      "  warnings.warn(\n",
      "/home/katscott/Code/ros_metrics_analysis/notebooks/metrics/lib/python3.11/site-packages/lars/apache.py:741: ApacheWarning: Line 168930: Line contains invalid data\n",
      "  warnings.warn(\n",
      "/home/katscott/Code/ros_metrics_analysis/notebooks/metrics/lib/python3.11/site-packages/lars/apache.py:741: ApacheWarning: Line 168931: Line contains invalid data\n",
      "  warnings.warn(\n",
      "/home/katscott/Code/ros_metrics_analysis/notebooks/metrics/lib/python3.11/site-packages/lars/apache.py:741: ApacheWarning: Line 169214: Line contains invalid data\n",
      "  warnings.warn(\n",
      "/home/katscott/Code/ros_metrics_analysis/notebooks/metrics/lib/python3.11/site-packages/lars/apache.py:741: ApacheWarning: Line 751: Line contains invalid data\n",
      "  warnings.warn(\n",
      "/home/katscott/Code/ros_metrics_analysis/notebooks/metrics/lib/python3.11/site-packages/lars/apache.py:741: ApacheWarning: Line 912: Line contains invalid data\n",
      "  warnings.warn(\n",
      "/home/katscott/Code/ros_metrics_analysis/notebooks/metrics/lib/python3.11/site-packages/lars/apache.py:741: ApacheWarning: Line 8637: Line contains invalid data\n",
      "  warnings.warn(\n",
      "/home/katscott/Code/ros_metrics_analysis/notebooks/metrics/lib/python3.11/site-packages/lars/apache.py:741: ApacheWarning: Line 11753: Line contains invalid data\n",
      "  warnings.warn(\n"
     ]
    },
    {
     "name": "stdout",
     "output_type": "stream",
     "text": [
      ".\n",
      ".\n",
      ".\n",
      "./temp/packages-logs/apt-access.log.45\n",
      ".\n",
      ".\n",
      ".\n",
      ".\n",
      ".\n",
      ".\n",
      ".\n"
     ]
    },
    {
     "name": "stderr",
     "output_type": "stream",
     "text": [
      "/home/katscott/Code/ros_metrics_analysis/notebooks/metrics/lib/python3.11/site-packages/lars/apache.py:741: ApacheWarning: Line 21708: Line contains invalid data\n",
      "  warnings.warn(\n",
      "/home/katscott/Code/ros_metrics_analysis/notebooks/metrics/lib/python3.11/site-packages/lars/apache.py:741: ApacheWarning: Line 29136: Line contains invalid data\n",
      "  warnings.warn(\n",
      "/home/katscott/Code/ros_metrics_analysis/notebooks/metrics/lib/python3.11/site-packages/lars/apache.py:741: ApacheWarning: Line 29276: Line contains invalid data\n",
      "  warnings.warn(\n",
      "/home/katscott/Code/ros_metrics_analysis/notebooks/metrics/lib/python3.11/site-packages/lars/apache.py:741: ApacheWarning: Line 32340: Line contains invalid data\n",
      "  warnings.warn(\n",
      "/home/katscott/Code/ros_metrics_analysis/notebooks/metrics/lib/python3.11/site-packages/lars/apache.py:741: ApacheWarning: Line 32341: Line contains invalid data\n",
      "  warnings.warn(\n",
      "/home/katscott/Code/ros_metrics_analysis/notebooks/metrics/lib/python3.11/site-packages/lars/apache.py:741: ApacheWarning: Line 38410: Line contains invalid data\n",
      "  warnings.warn(\n",
      "/home/katscott/Code/ros_metrics_analysis/notebooks/metrics/lib/python3.11/site-packages/lars/apache.py:741: ApacheWarning: Line 45045: Line contains invalid data\n",
      "  warnings.warn(\n",
      "/home/katscott/Code/ros_metrics_analysis/notebooks/metrics/lib/python3.11/site-packages/lars/apache.py:741: ApacheWarning: Line 45839: Line contains invalid data\n",
      "  warnings.warn(\n",
      "/home/katscott/Code/ros_metrics_analysis/notebooks/metrics/lib/python3.11/site-packages/lars/apache.py:741: ApacheWarning: Line 58815: Line contains invalid data\n",
      "  warnings.warn(\n",
      "/home/katscott/Code/ros_metrics_analysis/notebooks/metrics/lib/python3.11/site-packages/lars/apache.py:741: ApacheWarning: Line 68179: Line contains invalid data\n",
      "  warnings.warn(\n",
      "/home/katscott/Code/ros_metrics_analysis/notebooks/metrics/lib/python3.11/site-packages/lars/apache.py:741: ApacheWarning: Line 68181: Line contains invalid data\n",
      "  warnings.warn(\n",
      "/home/katscott/Code/ros_metrics_analysis/notebooks/metrics/lib/python3.11/site-packages/lars/apache.py:741: ApacheWarning: Line 68182: Line contains invalid data\n",
      "  warnings.warn(\n",
      "/home/katscott/Code/ros_metrics_analysis/notebooks/metrics/lib/python3.11/site-packages/lars/apache.py:741: ApacheWarning: Line 68183: Line contains invalid data\n",
      "  warnings.warn(\n",
      "/home/katscott/Code/ros_metrics_analysis/notebooks/metrics/lib/python3.11/site-packages/lars/apache.py:741: ApacheWarning: Line 68186: Line contains invalid data\n",
      "  warnings.warn(\n",
      "/home/katscott/Code/ros_metrics_analysis/notebooks/metrics/lib/python3.11/site-packages/lars/apache.py:741: ApacheWarning: Line 68191: Line contains invalid data\n",
      "  warnings.warn(\n",
      "/home/katscott/Code/ros_metrics_analysis/notebooks/metrics/lib/python3.11/site-packages/lars/apache.py:741: ApacheWarning: Line 68219: Line contains invalid data\n",
      "  warnings.warn(\n",
      "/home/katscott/Code/ros_metrics_analysis/notebooks/metrics/lib/python3.11/site-packages/lars/apache.py:741: ApacheWarning: Line 71013: Line contains invalid data\n",
      "  warnings.warn(\n",
      "/home/katscott/Code/ros_metrics_analysis/notebooks/metrics/lib/python3.11/site-packages/lars/apache.py:741: ApacheWarning: Line 74138: Line contains invalid data\n",
      "  warnings.warn(\n",
      "/home/katscott/Code/ros_metrics_analysis/notebooks/metrics/lib/python3.11/site-packages/lars/apache.py:741: ApacheWarning: Line 74139: Line contains invalid data\n",
      "  warnings.warn(\n"
     ]
    },
    {
     "name": "stdout",
     "output_type": "stream",
     "text": [
      ".\n",
      ".\n",
      "./temp/packages-logs/apt-access.log.46\n",
      ".\n",
      ".\n"
     ]
    },
    {
     "name": "stderr",
     "output_type": "stream",
     "text": [
      "/home/katscott/Code/ros_metrics_analysis/notebooks/metrics/lib/python3.11/site-packages/lars/apache.py:741: ApacheWarning: Line 82717: Line contains invalid data\n",
      "  warnings.warn(\n",
      "/home/katscott/Code/ros_metrics_analysis/notebooks/metrics/lib/python3.11/site-packages/lars/apache.py:741: ApacheWarning: Line 82718: Line contains invalid data\n",
      "  warnings.warn(\n",
      "/home/katscott/Code/ros_metrics_analysis/notebooks/metrics/lib/python3.11/site-packages/lars/apache.py:741: ApacheWarning: Line 85029: Line contains invalid data\n",
      "  warnings.warn(\n",
      "/home/katscott/Code/ros_metrics_analysis/notebooks/metrics/lib/python3.11/site-packages/lars/apache.py:741: ApacheWarning: Line 86942: Line contains invalid data\n",
      "  warnings.warn(\n",
      "/home/katscott/Code/ros_metrics_analysis/notebooks/metrics/lib/python3.11/site-packages/lars/apache.py:741: ApacheWarning: Line 5709: Line contains invalid data\n",
      "  warnings.warn(\n",
      "/home/katscott/Code/ros_metrics_analysis/notebooks/metrics/lib/python3.11/site-packages/lars/apache.py:741: ApacheWarning: Line 5710: Line contains invalid data\n",
      "  warnings.warn(\n",
      "/home/katscott/Code/ros_metrics_analysis/notebooks/metrics/lib/python3.11/site-packages/lars/apache.py:741: ApacheWarning: Line 5711: Line contains invalid data\n",
      "  warnings.warn(\n",
      "/home/katscott/Code/ros_metrics_analysis/notebooks/metrics/lib/python3.11/site-packages/lars/apache.py:741: ApacheWarning: Line 5712: Line contains invalid data\n",
      "  warnings.warn(\n",
      "/home/katscott/Code/ros_metrics_analysis/notebooks/metrics/lib/python3.11/site-packages/lars/apache.py:741: ApacheWarning: Line 5713: Line contains invalid data\n",
      "  warnings.warn(\n",
      "/home/katscott/Code/ros_metrics_analysis/notebooks/metrics/lib/python3.11/site-packages/lars/apache.py:741: ApacheWarning: Line 5714: Line contains invalid data\n",
      "  warnings.warn(\n",
      "/home/katscott/Code/ros_metrics_analysis/notebooks/metrics/lib/python3.11/site-packages/lars/apache.py:741: ApacheWarning: Line 6314: Line contains invalid data\n",
      "  warnings.warn(\n",
      "/home/katscott/Code/ros_metrics_analysis/notebooks/metrics/lib/python3.11/site-packages/lars/apache.py:741: ApacheWarning: Line 8234: Line contains invalid data\n",
      "  warnings.warn(\n",
      "/home/katscott/Code/ros_metrics_analysis/notebooks/metrics/lib/python3.11/site-packages/lars/apache.py:741: ApacheWarning: Line 10173: Line contains invalid data\n",
      "  warnings.warn(\n",
      "/home/katscott/Code/ros_metrics_analysis/notebooks/metrics/lib/python3.11/site-packages/lars/apache.py:741: ApacheWarning: Line 10174: Line contains invalid data\n",
      "  warnings.warn(\n",
      "/home/katscott/Code/ros_metrics_analysis/notebooks/metrics/lib/python3.11/site-packages/lars/apache.py:741: ApacheWarning: Line 10855: Line contains invalid data\n",
      "  warnings.warn(\n",
      "/home/katscott/Code/ros_metrics_analysis/notebooks/metrics/lib/python3.11/site-packages/lars/apache.py:741: ApacheWarning: Line 10856: Line contains invalid data\n",
      "  warnings.warn(\n",
      "/home/katscott/Code/ros_metrics_analysis/notebooks/metrics/lib/python3.11/site-packages/lars/apache.py:741: ApacheWarning: Line 10857: Line contains invalid data\n",
      "  warnings.warn(\n",
      "/home/katscott/Code/ros_metrics_analysis/notebooks/metrics/lib/python3.11/site-packages/lars/apache.py:741: ApacheWarning: Line 10858: Line contains invalid data\n",
      "  warnings.warn(\n",
      "/home/katscott/Code/ros_metrics_analysis/notebooks/metrics/lib/python3.11/site-packages/lars/apache.py:741: ApacheWarning: Line 10859: Line contains invalid data\n",
      "  warnings.warn(\n",
      "/home/katscott/Code/ros_metrics_analysis/notebooks/metrics/lib/python3.11/site-packages/lars/apache.py:741: ApacheWarning: Line 10860: Line contains invalid data\n",
      "  warnings.warn(\n",
      "/home/katscott/Code/ros_metrics_analysis/notebooks/metrics/lib/python3.11/site-packages/lars/apache.py:741: ApacheWarning: Line 19646: Line contains invalid data\n",
      "  warnings.warn(\n",
      "/home/katscott/Code/ros_metrics_analysis/notebooks/metrics/lib/python3.11/site-packages/lars/apache.py:741: ApacheWarning: Line 24508: Line contains invalid data\n",
      "  warnings.warn(\n",
      "/home/katscott/Code/ros_metrics_analysis/notebooks/metrics/lib/python3.11/site-packages/lars/apache.py:741: ApacheWarning: Line 24811: Line contains invalid data\n",
      "  warnings.warn(\n",
      "/home/katscott/Code/ros_metrics_analysis/notebooks/metrics/lib/python3.11/site-packages/lars/apache.py:741: ApacheWarning: Line 26345: Line contains invalid data\n",
      "  warnings.warn(\n",
      "/home/katscott/Code/ros_metrics_analysis/notebooks/metrics/lib/python3.11/site-packages/lars/apache.py:741: ApacheWarning: Line 26790: Line contains invalid data\n",
      "  warnings.warn(\n",
      "/home/katscott/Code/ros_metrics_analysis/notebooks/metrics/lib/python3.11/site-packages/lars/apache.py:741: ApacheWarning: Line 26794: Line contains invalid data\n",
      "  warnings.warn(\n",
      "/home/katscott/Code/ros_metrics_analysis/notebooks/metrics/lib/python3.11/site-packages/lars/apache.py:741: ApacheWarning: Line 33609: Line contains invalid data\n",
      "  warnings.warn(\n",
      "/home/katscott/Code/ros_metrics_analysis/notebooks/metrics/lib/python3.11/site-packages/lars/apache.py:741: ApacheWarning: Line 35661: Line contains invalid data\n",
      "  warnings.warn(\n",
      "/home/katscott/Code/ros_metrics_analysis/notebooks/metrics/lib/python3.11/site-packages/lars/apache.py:741: ApacheWarning: Line 35662: Line contains invalid data\n",
      "  warnings.warn(\n"
     ]
    },
    {
     "name": "stdout",
     "output_type": "stream",
     "text": [
      ".\n",
      ".\n"
     ]
    },
    {
     "name": "stderr",
     "output_type": "stream",
     "text": [
      "/home/katscott/Code/ros_metrics_analysis/notebooks/metrics/lib/python3.11/site-packages/lars/apache.py:741: ApacheWarning: Line 43589: Line contains invalid data\n",
      "  warnings.warn(\n",
      "/home/katscott/Code/ros_metrics_analysis/notebooks/metrics/lib/python3.11/site-packages/lars/apache.py:741: ApacheWarning: Line 47662: Line contains invalid data\n",
      "  warnings.warn(\n",
      "/home/katscott/Code/ros_metrics_analysis/notebooks/metrics/lib/python3.11/site-packages/lars/apache.py:741: ApacheWarning: Line 58161: Line contains invalid data\n",
      "  warnings.warn(\n",
      "/home/katscott/Code/ros_metrics_analysis/notebooks/metrics/lib/python3.11/site-packages/lars/apache.py:741: ApacheWarning: Line 58162: Line contains invalid data\n",
      "  warnings.warn(\n",
      "/home/katscott/Code/ros_metrics_analysis/notebooks/metrics/lib/python3.11/site-packages/lars/apache.py:741: ApacheWarning: Line 58163: Line contains invalid data\n",
      "  warnings.warn(\n",
      "/home/katscott/Code/ros_metrics_analysis/notebooks/metrics/lib/python3.11/site-packages/lars/apache.py:741: ApacheWarning: Line 58164: Line contains invalid data\n",
      "  warnings.warn(\n",
      "/home/katscott/Code/ros_metrics_analysis/notebooks/metrics/lib/python3.11/site-packages/lars/apache.py:741: ApacheWarning: Line 58165: Line contains invalid data\n",
      "  warnings.warn(\n",
      "/home/katscott/Code/ros_metrics_analysis/notebooks/metrics/lib/python3.11/site-packages/lars/apache.py:741: ApacheWarning: Line 58170: Line contains invalid data\n",
      "  warnings.warn(\n",
      "/home/katscott/Code/ros_metrics_analysis/notebooks/metrics/lib/python3.11/site-packages/lars/apache.py:741: ApacheWarning: Line 58189: Line contains invalid data\n",
      "  warnings.warn(\n",
      "/home/katscott/Code/ros_metrics_analysis/notebooks/metrics/lib/python3.11/site-packages/lars/apache.py:741: ApacheWarning: Line 66671: Line contains invalid data\n",
      "  warnings.warn(\n",
      "/home/katscott/Code/ros_metrics_analysis/notebooks/metrics/lib/python3.11/site-packages/lars/apache.py:741: ApacheWarning: Line 66672: Line contains invalid data\n",
      "  warnings.warn(\n",
      "/home/katscott/Code/ros_metrics_analysis/notebooks/metrics/lib/python3.11/site-packages/lars/apache.py:741: ApacheWarning: Line 66673: Line contains invalid data\n",
      "  warnings.warn(\n",
      "/home/katscott/Code/ros_metrics_analysis/notebooks/metrics/lib/python3.11/site-packages/lars/apache.py:741: ApacheWarning: Line 66674: Line contains invalid data\n",
      "  warnings.warn(\n",
      "/home/katscott/Code/ros_metrics_analysis/notebooks/metrics/lib/python3.11/site-packages/lars/apache.py:741: ApacheWarning: Line 66675: Line contains invalid data\n",
      "  warnings.warn(\n",
      "/home/katscott/Code/ros_metrics_analysis/notebooks/metrics/lib/python3.11/site-packages/lars/apache.py:741: ApacheWarning: Line 66676: Line contains invalid data\n",
      "  warnings.warn(\n",
      "/home/katscott/Code/ros_metrics_analysis/notebooks/metrics/lib/python3.11/site-packages/lars/apache.py:741: ApacheWarning: Line 76212: Line contains invalid data\n",
      "  warnings.warn(\n",
      "/home/katscott/Code/ros_metrics_analysis/notebooks/metrics/lib/python3.11/site-packages/lars/apache.py:741: ApacheWarning: Line 76213: Line contains invalid data\n",
      "  warnings.warn(\n",
      "/home/katscott/Code/ros_metrics_analysis/notebooks/metrics/lib/python3.11/site-packages/lars/apache.py:741: ApacheWarning: Line 83658: Line contains invalid data\n",
      "  warnings.warn(\n"
     ]
    },
    {
     "name": "stdout",
     "output_type": "stream",
     "text": [
      ".\n",
      ".\n",
      ".\n",
      ".\n",
      "./temp/packages-logs/apt-access.log.47\n"
     ]
    },
    {
     "name": "stderr",
     "output_type": "stream",
     "text": [
      "/home/katscott/Code/ros_metrics_analysis/notebooks/metrics/lib/python3.11/site-packages/lars/apache.py:741: ApacheWarning: Line 66: Line contains invalid data\n",
      "  warnings.warn(\n",
      "/home/katscott/Code/ros_metrics_analysis/notebooks/metrics/lib/python3.11/site-packages/lars/apache.py:741: ApacheWarning: Line 5426: Line contains invalid data\n",
      "  warnings.warn(\n",
      "/home/katscott/Code/ros_metrics_analysis/notebooks/metrics/lib/python3.11/site-packages/lars/apache.py:741: ApacheWarning: Line 11965: Line contains invalid data\n",
      "  warnings.warn(\n",
      "/home/katscott/Code/ros_metrics_analysis/notebooks/metrics/lib/python3.11/site-packages/lars/apache.py:741: ApacheWarning: Line 14311: Line contains invalid data\n",
      "  warnings.warn(\n",
      "/home/katscott/Code/ros_metrics_analysis/notebooks/metrics/lib/python3.11/site-packages/lars/apache.py:741: ApacheWarning: Line 14312: Line contains invalid data\n",
      "  warnings.warn(\n",
      "/home/katscott/Code/ros_metrics_analysis/notebooks/metrics/lib/python3.11/site-packages/lars/apache.py:741: ApacheWarning: Line 14313: Line contains invalid data\n",
      "  warnings.warn(\n",
      "/home/katscott/Code/ros_metrics_analysis/notebooks/metrics/lib/python3.11/site-packages/lars/apache.py:741: ApacheWarning: Line 14315: Line contains invalid data\n",
      "  warnings.warn(\n",
      "/home/katscott/Code/ros_metrics_analysis/notebooks/metrics/lib/python3.11/site-packages/lars/apache.py:741: ApacheWarning: Line 14316: Line contains invalid data\n",
      "  warnings.warn(\n",
      "/home/katscott/Code/ros_metrics_analysis/notebooks/metrics/lib/python3.11/site-packages/lars/apache.py:741: ApacheWarning: Line 14317: Line contains invalid data\n",
      "  warnings.warn(\n",
      "/home/katscott/Code/ros_metrics_analysis/notebooks/metrics/lib/python3.11/site-packages/lars/apache.py:741: ApacheWarning: Line 15299: Line contains invalid data\n",
      "  warnings.warn(\n",
      "/home/katscott/Code/ros_metrics_analysis/notebooks/metrics/lib/python3.11/site-packages/lars/apache.py:741: ApacheWarning: Line 21631: Line contains invalid data\n",
      "  warnings.warn(\n"
     ]
    },
    {
     "name": "stdout",
     "output_type": "stream",
     "text": [
      ".\n",
      ".\n",
      ".\n",
      ".\n"
     ]
    },
    {
     "name": "stderr",
     "output_type": "stream",
     "text": [
      "/home/katscott/Code/ros_metrics_analysis/notebooks/metrics/lib/python3.11/site-packages/lars/apache.py:741: ApacheWarning: Line 37571: Line contains invalid data\n",
      "  warnings.warn(\n",
      "/home/katscott/Code/ros_metrics_analysis/notebooks/metrics/lib/python3.11/site-packages/lars/apache.py:741: ApacheWarning: Line 37573: Line contains invalid data\n",
      "  warnings.warn(\n",
      "/home/katscott/Code/ros_metrics_analysis/notebooks/metrics/lib/python3.11/site-packages/lars/apache.py:741: ApacheWarning: Line 37574: Line contains invalid data\n",
      "  warnings.warn(\n",
      "/home/katscott/Code/ros_metrics_analysis/notebooks/metrics/lib/python3.11/site-packages/lars/apache.py:741: ApacheWarning: Line 39423: Line contains invalid data\n",
      "  warnings.warn(\n",
      "/home/katscott/Code/ros_metrics_analysis/notebooks/metrics/lib/python3.11/site-packages/lars/apache.py:741: ApacheWarning: Line 39424: Line contains invalid data\n",
      "  warnings.warn(\n",
      "/home/katscott/Code/ros_metrics_analysis/notebooks/metrics/lib/python3.11/site-packages/lars/apache.py:741: ApacheWarning: Line 41796: Line contains invalid data\n",
      "  warnings.warn(\n",
      "/home/katscott/Code/ros_metrics_analysis/notebooks/metrics/lib/python3.11/site-packages/lars/apache.py:741: ApacheWarning: Line 48256: Line contains invalid data\n",
      "  warnings.warn(\n",
      "/home/katscott/Code/ros_metrics_analysis/notebooks/metrics/lib/python3.11/site-packages/lars/apache.py:741: ApacheWarning: Line 48257: Line contains invalid data\n",
      "  warnings.warn(\n",
      "/home/katscott/Code/ros_metrics_analysis/notebooks/metrics/lib/python3.11/site-packages/lars/apache.py:741: ApacheWarning: Line 48788: Line contains invalid data\n",
      "  warnings.warn(\n",
      "/home/katscott/Code/ros_metrics_analysis/notebooks/metrics/lib/python3.11/site-packages/lars/apache.py:741: ApacheWarning: Line 48789: Line contains invalid data\n",
      "  warnings.warn(\n",
      "/home/katscott/Code/ros_metrics_analysis/notebooks/metrics/lib/python3.11/site-packages/lars/apache.py:741: ApacheWarning: Line 49688: Line contains invalid data\n",
      "  warnings.warn(\n"
     ]
    },
    {
     "name": "stdout",
     "output_type": "stream",
     "text": [
      ".\n",
      ".\n"
     ]
    },
    {
     "name": "stderr",
     "output_type": "stream",
     "text": [
      "/home/katscott/Code/ros_metrics_analysis/notebooks/metrics/lib/python3.11/site-packages/lars/apache.py:741: ApacheWarning: Line 65825: Line contains invalid data\n",
      "  warnings.warn(\n",
      "/home/katscott/Code/ros_metrics_analysis/notebooks/metrics/lib/python3.11/site-packages/lars/apache.py:741: ApacheWarning: Line 72452: Line contains invalid data\n",
      "  warnings.warn(\n",
      "/home/katscott/Code/ros_metrics_analysis/notebooks/metrics/lib/python3.11/site-packages/lars/apache.py:741: ApacheWarning: Line 73768: Line contains invalid data\n",
      "  warnings.warn(\n"
     ]
    },
    {
     "name": "stdout",
     "output_type": "stream",
     "text": [
      ".\n",
      ".\n"
     ]
    },
    {
     "name": "stderr",
     "output_type": "stream",
     "text": [
      "/home/katscott/Code/ros_metrics_analysis/notebooks/metrics/lib/python3.11/site-packages/lars/apache.py:741: ApacheWarning: Line 77254: Line contains invalid data\n",
      "  warnings.warn(\n",
      "/home/katscott/Code/ros_metrics_analysis/notebooks/metrics/lib/python3.11/site-packages/lars/apache.py:741: ApacheWarning: Line 77730: Line contains invalid data\n",
      "  warnings.warn(\n",
      "/home/katscott/Code/ros_metrics_analysis/notebooks/metrics/lib/python3.11/site-packages/lars/apache.py:741: ApacheWarning: Line 77731: Line contains invalid data\n",
      "  warnings.warn(\n",
      "/home/katscott/Code/ros_metrics_analysis/notebooks/metrics/lib/python3.11/site-packages/lars/apache.py:741: ApacheWarning: Line 77733: Line contains invalid data\n",
      "  warnings.warn(\n",
      "/home/katscott/Code/ros_metrics_analysis/notebooks/metrics/lib/python3.11/site-packages/lars/apache.py:741: ApacheWarning: Line 77734: Line contains invalid data\n",
      "  warnings.warn(\n",
      "/home/katscott/Code/ros_metrics_analysis/notebooks/metrics/lib/python3.11/site-packages/lars/apache.py:741: ApacheWarning: Line 77735: Line contains invalid data\n",
      "  warnings.warn(\n",
      "/home/katscott/Code/ros_metrics_analysis/notebooks/metrics/lib/python3.11/site-packages/lars/apache.py:741: ApacheWarning: Line 77739: Line contains invalid data\n",
      "  warnings.warn(\n",
      "/home/katscott/Code/ros_metrics_analysis/notebooks/metrics/lib/python3.11/site-packages/lars/apache.py:741: ApacheWarning: Line 77759: Line contains invalid data\n",
      "  warnings.warn(\n",
      "/home/katscott/Code/ros_metrics_analysis/notebooks/metrics/lib/python3.11/site-packages/lars/apache.py:741: ApacheWarning: Line 82970: Line contains invalid data\n",
      "  warnings.warn(\n",
      "/home/katscott/Code/ros_metrics_analysis/notebooks/metrics/lib/python3.11/site-packages/lars/apache.py:741: ApacheWarning: Line 91210: Line contains invalid data\n",
      "  warnings.warn(\n",
      "/home/katscott/Code/ros_metrics_analysis/notebooks/metrics/lib/python3.11/site-packages/lars/apache.py:741: ApacheWarning: Line 95924: Line contains invalid data\n",
      "  warnings.warn(\n",
      "/home/katscott/Code/ros_metrics_analysis/notebooks/metrics/lib/python3.11/site-packages/lars/apache.py:741: ApacheWarning: Line 96050: Line contains invalid data\n",
      "  warnings.warn(\n"
     ]
    },
    {
     "name": "stdout",
     "output_type": "stream",
     "text": [
      ".\n",
      ".\n"
     ]
    },
    {
     "name": "stderr",
     "output_type": "stream",
     "text": [
      "/home/katscott/Code/ros_metrics_analysis/notebooks/metrics/lib/python3.11/site-packages/lars/apache.py:741: ApacheWarning: Line 98586: Line contains invalid data\n",
      "  warnings.warn(\n",
      "/home/katscott/Code/ros_metrics_analysis/notebooks/metrics/lib/python3.11/site-packages/lars/apache.py:741: ApacheWarning: Line 98587: Line contains invalid data\n",
      "  warnings.warn(\n",
      "/home/katscott/Code/ros_metrics_analysis/notebooks/metrics/lib/python3.11/site-packages/lars/apache.py:741: ApacheWarning: Line 98588: Line contains invalid data\n",
      "  warnings.warn(\n",
      "/home/katscott/Code/ros_metrics_analysis/notebooks/metrics/lib/python3.11/site-packages/lars/apache.py:741: ApacheWarning: Line 98589: Line contains invalid data\n",
      "  warnings.warn(\n",
      "/home/katscott/Code/ros_metrics_analysis/notebooks/metrics/lib/python3.11/site-packages/lars/apache.py:741: ApacheWarning: Line 98590: Line contains invalid data\n",
      "  warnings.warn(\n",
      "/home/katscott/Code/ros_metrics_analysis/notebooks/metrics/lib/python3.11/site-packages/lars/apache.py:741: ApacheWarning: Line 98591: Line contains invalid data\n",
      "  warnings.warn(\n",
      "/home/katscott/Code/ros_metrics_analysis/notebooks/metrics/lib/python3.11/site-packages/lars/apache.py:741: ApacheWarning: Line 98592: Line contains invalid data\n",
      "  warnings.warn(\n",
      "/home/katscott/Code/ros_metrics_analysis/notebooks/metrics/lib/python3.11/site-packages/lars/apache.py:741: ApacheWarning: Line 98593: Line contains invalid data\n",
      "  warnings.warn(\n",
      "/home/katscott/Code/ros_metrics_analysis/notebooks/metrics/lib/python3.11/site-packages/lars/apache.py:741: ApacheWarning: Line 98594: Line contains invalid data\n",
      "  warnings.warn(\n",
      "/home/katscott/Code/ros_metrics_analysis/notebooks/metrics/lib/python3.11/site-packages/lars/apache.py:741: ApacheWarning: Line 98595: Line contains invalid data\n",
      "  warnings.warn(\n",
      "/home/katscott/Code/ros_metrics_analysis/notebooks/metrics/lib/python3.11/site-packages/lars/apache.py:741: ApacheWarning: Line 98596: Line contains invalid data\n",
      "  warnings.warn(\n",
      "/home/katscott/Code/ros_metrics_analysis/notebooks/metrics/lib/python3.11/site-packages/lars/apache.py:741: ApacheWarning: Line 99629: Line contains invalid data\n",
      "  warnings.warn(\n"
     ]
    },
    {
     "name": "stdout",
     "output_type": "stream",
     "text": [
      "./temp/packages-logs/apt-access.log.48\n",
      ".\n"
     ]
    },
    {
     "name": "stderr",
     "output_type": "stream",
     "text": [
      "/home/katscott/Code/ros_metrics_analysis/notebooks/metrics/lib/python3.11/site-packages/lars/apache.py:741: ApacheWarning: Line 19370: Line contains invalid data\n",
      "  warnings.warn(\n",
      "/home/katscott/Code/ros_metrics_analysis/notebooks/metrics/lib/python3.11/site-packages/lars/apache.py:741: ApacheWarning: Line 19377: Line contains invalid data\n",
      "  warnings.warn(\n",
      "/home/katscott/Code/ros_metrics_analysis/notebooks/metrics/lib/python3.11/site-packages/lars/apache.py:741: ApacheWarning: Line 19378: Line contains invalid data\n",
      "  warnings.warn(\n"
     ]
    },
    {
     "name": "stdout",
     "output_type": "stream",
     "text": [
      ".\n",
      ".\n"
     ]
    },
    {
     "name": "stderr",
     "output_type": "stream",
     "text": [
      "/home/katscott/Code/ros_metrics_analysis/notebooks/metrics/lib/python3.11/site-packages/lars/apache.py:741: ApacheWarning: Line 30534: Line contains invalid data\n",
      "  warnings.warn(\n",
      "/home/katscott/Code/ros_metrics_analysis/notebooks/metrics/lib/python3.11/site-packages/lars/apache.py:741: ApacheWarning: Line 30538: Line contains invalid data\n",
      "  warnings.warn(\n",
      "/home/katscott/Code/ros_metrics_analysis/notebooks/metrics/lib/python3.11/site-packages/lars/apache.py:741: ApacheWarning: Line 30540: Line contains invalid data\n",
      "  warnings.warn(\n",
      "/home/katscott/Code/ros_metrics_analysis/notebooks/metrics/lib/python3.11/site-packages/lars/apache.py:741: ApacheWarning: Line 32121: Line contains invalid data\n",
      "  warnings.warn(\n",
      "/home/katscott/Code/ros_metrics_analysis/notebooks/metrics/lib/python3.11/site-packages/lars/apache.py:741: ApacheWarning: Line 35265: Line contains invalid data\n",
      "  warnings.warn(\n",
      "/home/katscott/Code/ros_metrics_analysis/notebooks/metrics/lib/python3.11/site-packages/lars/apache.py:741: ApacheWarning: Line 35338: Line contains invalid data\n",
      "  warnings.warn(\n",
      "/home/katscott/Code/ros_metrics_analysis/notebooks/metrics/lib/python3.11/site-packages/lars/apache.py:741: ApacheWarning: Line 39612: Line contains invalid data\n",
      "  warnings.warn(\n",
      "/home/katscott/Code/ros_metrics_analysis/notebooks/metrics/lib/python3.11/site-packages/lars/apache.py:741: ApacheWarning: Line 39613: Line contains invalid data\n",
      "  warnings.warn(\n",
      "/home/katscott/Code/ros_metrics_analysis/notebooks/metrics/lib/python3.11/site-packages/lars/apache.py:741: ApacheWarning: Line 39618: Line contains invalid data\n",
      "  warnings.warn(\n",
      "/home/katscott/Code/ros_metrics_analysis/notebooks/metrics/lib/python3.11/site-packages/lars/apache.py:741: ApacheWarning: Line 41173: Line contains invalid data\n",
      "  warnings.warn(\n"
     ]
    },
    {
     "name": "stdout",
     "output_type": "stream",
     "text": [
      ".\n",
      ".\n",
      ".\n",
      ".\n",
      ".\n",
      ".\n"
     ]
    },
    {
     "name": "stderr",
     "output_type": "stream",
     "text": [
      "/home/katscott/Code/ros_metrics_analysis/notebooks/metrics/lib/python3.11/site-packages/lars/apache.py:741: ApacheWarning: Line 70142: Line contains invalid data\n",
      "  warnings.warn(\n",
      "/home/katscott/Code/ros_metrics_analysis/notebooks/metrics/lib/python3.11/site-packages/lars/apache.py:741: ApacheWarning: Line 70551: Line contains invalid data\n",
      "  warnings.warn(\n",
      "/home/katscott/Code/ros_metrics_analysis/notebooks/metrics/lib/python3.11/site-packages/lars/apache.py:741: ApacheWarning: Line 70564: Line contains invalid data\n",
      "  warnings.warn(\n",
      "/home/katscott/Code/ros_metrics_analysis/notebooks/metrics/lib/python3.11/site-packages/lars/apache.py:741: ApacheWarning: Line 70565: Line contains invalid data\n",
      "  warnings.warn(\n",
      "/home/katscott/Code/ros_metrics_analysis/notebooks/metrics/lib/python3.11/site-packages/lars/apache.py:741: ApacheWarning: Line 70569: Line contains invalid data\n",
      "  warnings.warn(\n",
      "/home/katscott/Code/ros_metrics_analysis/notebooks/metrics/lib/python3.11/site-packages/lars/apache.py:741: ApacheWarning: Line 74767: Line contains invalid data\n",
      "  warnings.warn(\n",
      "/home/katscott/Code/ros_metrics_analysis/notebooks/metrics/lib/python3.11/site-packages/lars/apache.py:741: ApacheWarning: Line 74768: Line contains invalid data\n",
      "  warnings.warn(\n",
      "/home/katscott/Code/ros_metrics_analysis/notebooks/metrics/lib/python3.11/site-packages/lars/apache.py:741: ApacheWarning: Line 74770: Line contains invalid data\n",
      "  warnings.warn(\n",
      "/home/katscott/Code/ros_metrics_analysis/notebooks/metrics/lib/python3.11/site-packages/lars/apache.py:741: ApacheWarning: Line 74777: Line contains invalid data\n",
      "  warnings.warn(\n",
      "/home/katscott/Code/ros_metrics_analysis/notebooks/metrics/lib/python3.11/site-packages/lars/apache.py:741: ApacheWarning: Line 74779: Line contains invalid data\n",
      "  warnings.warn(\n",
      "/home/katscott/Code/ros_metrics_analysis/notebooks/metrics/lib/python3.11/site-packages/lars/apache.py:741: ApacheWarning: Line 74781: Line contains invalid data\n",
      "  warnings.warn(\n",
      "/home/katscott/Code/ros_metrics_analysis/notebooks/metrics/lib/python3.11/site-packages/lars/apache.py:741: ApacheWarning: Line 82449: Line contains invalid data\n",
      "  warnings.warn(\n",
      "/home/katscott/Code/ros_metrics_analysis/notebooks/metrics/lib/python3.11/site-packages/lars/apache.py:741: ApacheWarning: Line 82454: Line contains invalid data\n",
      "  warnings.warn(\n",
      "/home/katscott/Code/ros_metrics_analysis/notebooks/metrics/lib/python3.11/site-packages/lars/apache.py:741: ApacheWarning: Line 82459: Line contains invalid data\n",
      "  warnings.warn(\n",
      "/home/katscott/Code/ros_metrics_analysis/notebooks/metrics/lib/python3.11/site-packages/lars/apache.py:741: ApacheWarning: Line 82463: Line contains invalid data\n",
      "  warnings.warn(\n",
      "/home/katscott/Code/ros_metrics_analysis/notebooks/metrics/lib/python3.11/site-packages/lars/apache.py:741: ApacheWarning: Line 82467: Line contains invalid data\n",
      "  warnings.warn(\n",
      "/home/katscott/Code/ros_metrics_analysis/notebooks/metrics/lib/python3.11/site-packages/lars/apache.py:741: ApacheWarning: Line 82477: Line contains invalid data\n",
      "  warnings.warn(\n",
      "/home/katscott/Code/ros_metrics_analysis/notebooks/metrics/lib/python3.11/site-packages/lars/apache.py:741: ApacheWarning: Line 82604: Line contains invalid data\n",
      "  warnings.warn(\n",
      "/home/katscott/Code/ros_metrics_analysis/notebooks/metrics/lib/python3.11/site-packages/lars/apache.py:741: ApacheWarning: Line 94950: Line contains invalid data\n",
      "  warnings.warn(\n"
     ]
    },
    {
     "name": "stdout",
     "output_type": "stream",
     "text": [
      ".\n",
      ".\n"
     ]
    },
    {
     "name": "stderr",
     "output_type": "stream",
     "text": [
      "/home/katscott/Code/ros_metrics_analysis/notebooks/metrics/lib/python3.11/site-packages/lars/apache.py:741: ApacheWarning: Line 104410: Line contains invalid data\n",
      "  warnings.warn(\n",
      "/home/katscott/Code/ros_metrics_analysis/notebooks/metrics/lib/python3.11/site-packages/lars/apache.py:741: ApacheWarning: Line 105494: Line contains invalid data\n",
      "  warnings.warn(\n",
      "/home/katscott/Code/ros_metrics_analysis/notebooks/metrics/lib/python3.11/site-packages/lars/apache.py:741: ApacheWarning: Line 118478: Line contains invalid data\n",
      "  warnings.warn(\n",
      "/home/katscott/Code/ros_metrics_analysis/notebooks/metrics/lib/python3.11/site-packages/lars/apache.py:741: ApacheWarning: Line 122374: Line contains invalid data\n",
      "  warnings.warn(\n",
      "/home/katscott/Code/ros_metrics_analysis/notebooks/metrics/lib/python3.11/site-packages/lars/apache.py:741: ApacheWarning: Line 122466: Line contains invalid data\n",
      "  warnings.warn(\n"
     ]
    },
    {
     "name": "stdout",
     "output_type": "stream",
     "text": [
      ".\n",
      "./temp/packages-logs/apt-access.log.49\n",
      ".\n"
     ]
    },
    {
     "name": "stderr",
     "output_type": "stream",
     "text": [
      "/home/katscott/Code/ros_metrics_analysis/notebooks/metrics/lib/python3.11/site-packages/lars/apache.py:741: ApacheWarning: Line 16825: Line contains invalid data\n",
      "  warnings.warn(\n",
      "/home/katscott/Code/ros_metrics_analysis/notebooks/metrics/lib/python3.11/site-packages/lars/apache.py:741: ApacheWarning: Line 16826: Line contains invalid data\n",
      "  warnings.warn(\n",
      "/home/katscott/Code/ros_metrics_analysis/notebooks/metrics/lib/python3.11/site-packages/lars/apache.py:741: ApacheWarning: Line 16827: Line contains invalid data\n",
      "  warnings.warn(\n",
      "/home/katscott/Code/ros_metrics_analysis/notebooks/metrics/lib/python3.11/site-packages/lars/apache.py:741: ApacheWarning: Line 16829: Line contains invalid data\n",
      "  warnings.warn(\n",
      "/home/katscott/Code/ros_metrics_analysis/notebooks/metrics/lib/python3.11/site-packages/lars/apache.py:741: ApacheWarning: Line 16830: Line contains invalid data\n",
      "  warnings.warn(\n",
      "/home/katscott/Code/ros_metrics_analysis/notebooks/metrics/lib/python3.11/site-packages/lars/apache.py:741: ApacheWarning: Line 16831: Line contains invalid data\n",
      "  warnings.warn(\n",
      "/home/katscott/Code/ros_metrics_analysis/notebooks/metrics/lib/python3.11/site-packages/lars/apache.py:741: ApacheWarning: Line 29724: Line contains invalid data\n",
      "  warnings.warn(\n",
      "/home/katscott/Code/ros_metrics_analysis/notebooks/metrics/lib/python3.11/site-packages/lars/apache.py:741: ApacheWarning: Line 30926: Line contains invalid data\n",
      "  warnings.warn(\n"
     ]
    },
    {
     "name": "stdout",
     "output_type": "stream",
     "text": [
      ".\n",
      ".\n"
     ]
    },
    {
     "name": "stderr",
     "output_type": "stream",
     "text": [
      "/home/katscott/Code/ros_metrics_analysis/notebooks/metrics/lib/python3.11/site-packages/lars/apache.py:741: ApacheWarning: Line 37706: Line contains invalid data\n",
      "  warnings.warn(\n",
      "/home/katscott/Code/ros_metrics_analysis/notebooks/metrics/lib/python3.11/site-packages/lars/apache.py:741: ApacheWarning: Line 39549: Line contains invalid data\n",
      "  warnings.warn(\n",
      "/home/katscott/Code/ros_metrics_analysis/notebooks/metrics/lib/python3.11/site-packages/lars/apache.py:741: ApacheWarning: Line 50361: Line contains invalid data\n",
      "  warnings.warn(\n",
      "/home/katscott/Code/ros_metrics_analysis/notebooks/metrics/lib/python3.11/site-packages/lars/apache.py:741: ApacheWarning: Line 50362: Line contains invalid data\n",
      "  warnings.warn(\n",
      "/home/katscott/Code/ros_metrics_analysis/notebooks/metrics/lib/python3.11/site-packages/lars/apache.py:741: ApacheWarning: Line 51822: Line contains invalid data\n",
      "  warnings.warn(\n",
      "/home/katscott/Code/ros_metrics_analysis/notebooks/metrics/lib/python3.11/site-packages/lars/apache.py:741: ApacheWarning: Line 51823: Line contains invalid data\n",
      "  warnings.warn(\n",
      "/home/katscott/Code/ros_metrics_analysis/notebooks/metrics/lib/python3.11/site-packages/lars/apache.py:741: ApacheWarning: Line 51824: Line contains invalid data\n",
      "  warnings.warn(\n",
      "/home/katscott/Code/ros_metrics_analysis/notebooks/metrics/lib/python3.11/site-packages/lars/apache.py:741: ApacheWarning: Line 51825: Line contains invalid data\n",
      "  warnings.warn(\n",
      "/home/katscott/Code/ros_metrics_analysis/notebooks/metrics/lib/python3.11/site-packages/lars/apache.py:741: ApacheWarning: Line 51826: Line contains invalid data\n",
      "  warnings.warn(\n",
      "/home/katscott/Code/ros_metrics_analysis/notebooks/metrics/lib/python3.11/site-packages/lars/apache.py:741: ApacheWarning: Line 51827: Line contains invalid data\n",
      "  warnings.warn(\n",
      "/home/katscott/Code/ros_metrics_analysis/notebooks/metrics/lib/python3.11/site-packages/lars/apache.py:741: ApacheWarning: Line 51828: Line contains invalid data\n",
      "  warnings.warn(\n",
      "/home/katscott/Code/ros_metrics_analysis/notebooks/metrics/lib/python3.11/site-packages/lars/apache.py:741: ApacheWarning: Line 51829: Line contains invalid data\n",
      "  warnings.warn(\n",
      "/home/katscott/Code/ros_metrics_analysis/notebooks/metrics/lib/python3.11/site-packages/lars/apache.py:741: ApacheWarning: Line 51830: Line contains invalid data\n",
      "  warnings.warn(\n",
      "/home/katscott/Code/ros_metrics_analysis/notebooks/metrics/lib/python3.11/site-packages/lars/apache.py:741: ApacheWarning: Line 51831: Line contains invalid data\n",
      "  warnings.warn(\n",
      "/home/katscott/Code/ros_metrics_analysis/notebooks/metrics/lib/python3.11/site-packages/lars/apache.py:741: ApacheWarning: Line 51832: Line contains invalid data\n",
      "  warnings.warn(\n",
      "/home/katscott/Code/ros_metrics_analysis/notebooks/metrics/lib/python3.11/site-packages/lars/apache.py:741: ApacheWarning: Line 51833: Line contains invalid data\n",
      "  warnings.warn(\n",
      "/home/katscott/Code/ros_metrics_analysis/notebooks/metrics/lib/python3.11/site-packages/lars/apache.py:741: ApacheWarning: Line 51834: Line contains invalid data\n",
      "  warnings.warn(\n",
      "/home/katscott/Code/ros_metrics_analysis/notebooks/metrics/lib/python3.11/site-packages/lars/apache.py:741: ApacheWarning: Line 51835: Line contains invalid data\n",
      "  warnings.warn(\n",
      "/home/katscott/Code/ros_metrics_analysis/notebooks/metrics/lib/python3.11/site-packages/lars/apache.py:741: ApacheWarning: Line 51836: Line contains invalid data\n",
      "  warnings.warn(\n",
      "/home/katscott/Code/ros_metrics_analysis/notebooks/metrics/lib/python3.11/site-packages/lars/apache.py:741: ApacheWarning: Line 51837: Line contains invalid data\n",
      "  warnings.warn(\n",
      "/home/katscott/Code/ros_metrics_analysis/notebooks/metrics/lib/python3.11/site-packages/lars/apache.py:741: ApacheWarning: Line 51838: Line contains invalid data\n",
      "  warnings.warn(\n",
      "/home/katscott/Code/ros_metrics_analysis/notebooks/metrics/lib/python3.11/site-packages/lars/apache.py:741: ApacheWarning: Line 51839: Line contains invalid data\n",
      "  warnings.warn(\n",
      "/home/katscott/Code/ros_metrics_analysis/notebooks/metrics/lib/python3.11/site-packages/lars/apache.py:741: ApacheWarning: Line 51840: Line contains invalid data\n",
      "  warnings.warn(\n",
      "/home/katscott/Code/ros_metrics_analysis/notebooks/metrics/lib/python3.11/site-packages/lars/apache.py:741: ApacheWarning: Line 51841: Line contains invalid data\n",
      "  warnings.warn(\n",
      "/home/katscott/Code/ros_metrics_analysis/notebooks/metrics/lib/python3.11/site-packages/lars/apache.py:741: ApacheWarning: Line 51842: Line contains invalid data\n",
      "  warnings.warn(\n",
      "/home/katscott/Code/ros_metrics_analysis/notebooks/metrics/lib/python3.11/site-packages/lars/apache.py:741: ApacheWarning: Line 51861: Line contains invalid data\n",
      "  warnings.warn(\n",
      "/home/katscott/Code/ros_metrics_analysis/notebooks/metrics/lib/python3.11/site-packages/lars/apache.py:741: ApacheWarning: Line 65310: Line contains invalid data\n",
      "  warnings.warn(\n",
      "/home/katscott/Code/ros_metrics_analysis/notebooks/metrics/lib/python3.11/site-packages/lars/apache.py:741: ApacheWarning: Line 69684: Line contains invalid data\n",
      "  warnings.warn(\n"
     ]
    },
    {
     "name": "stdout",
     "output_type": "stream",
     "text": [
      ".\n",
      ".\n",
      ".\n",
      ".\n"
     ]
    },
    {
     "name": "stderr",
     "output_type": "stream",
     "text": [
      "/home/katscott/Code/ros_metrics_analysis/notebooks/metrics/lib/python3.11/site-packages/lars/apache.py:741: ApacheWarning: Line 75281: Line contains invalid data\n",
      "  warnings.warn(\n",
      "/home/katscott/Code/ros_metrics_analysis/notebooks/metrics/lib/python3.11/site-packages/lars/apache.py:741: ApacheWarning: Line 75943: Line contains invalid data\n",
      "  warnings.warn(\n",
      "/home/katscott/Code/ros_metrics_analysis/notebooks/metrics/lib/python3.11/site-packages/lars/apache.py:741: ApacheWarning: Line 78523: Line contains invalid data\n",
      "  warnings.warn(\n",
      "/home/katscott/Code/ros_metrics_analysis/notebooks/metrics/lib/python3.11/site-packages/lars/apache.py:741: ApacheWarning: Line 78524: Line contains invalid data\n",
      "  warnings.warn(\n",
      "/home/katscott/Code/ros_metrics_analysis/notebooks/metrics/lib/python3.11/site-packages/lars/apache.py:741: ApacheWarning: Line 78531: Line contains invalid data\n",
      "  warnings.warn(\n",
      "/home/katscott/Code/ros_metrics_analysis/notebooks/metrics/lib/python3.11/site-packages/lars/apache.py:741: ApacheWarning: Line 91825: Line contains invalid data\n",
      "  warnings.warn(\n",
      "/home/katscott/Code/ros_metrics_analysis/notebooks/metrics/lib/python3.11/site-packages/lars/apache.py:741: ApacheWarning: Line 93435: Line contains invalid data\n",
      "  warnings.warn(\n",
      "/home/katscott/Code/ros_metrics_analysis/notebooks/metrics/lib/python3.11/site-packages/lars/apache.py:741: ApacheWarning: Line 106288: Line contains invalid data\n",
      "  warnings.warn(\n",
      "/home/katscott/Code/ros_metrics_analysis/notebooks/metrics/lib/python3.11/site-packages/lars/apache.py:741: ApacheWarning: Line 107899: Line contains invalid data\n",
      "  warnings.warn(\n",
      "/home/katscott/Code/ros_metrics_analysis/notebooks/metrics/lib/python3.11/site-packages/lars/apache.py:741: ApacheWarning: Line 110361: Line contains invalid data\n",
      "  warnings.warn(\n",
      "/home/katscott/Code/ros_metrics_analysis/notebooks/metrics/lib/python3.11/site-packages/lars/apache.py:741: ApacheWarning: Line 110364: Line contains invalid data\n",
      "  warnings.warn(\n",
      "/home/katscott/Code/ros_metrics_analysis/notebooks/metrics/lib/python3.11/site-packages/lars/apache.py:741: ApacheWarning: Line 112981: Line contains invalid data\n",
      "  warnings.warn(\n",
      "/home/katscott/Code/ros_metrics_analysis/notebooks/metrics/lib/python3.11/site-packages/lars/apache.py:741: ApacheWarning: Line 112982: Line contains invalid data\n",
      "  warnings.warn(\n",
      "/home/katscott/Code/ros_metrics_analysis/notebooks/metrics/lib/python3.11/site-packages/lars/apache.py:741: ApacheWarning: Line 113664: Line contains invalid data\n",
      "  warnings.warn(\n",
      "/home/katscott/Code/ros_metrics_analysis/notebooks/metrics/lib/python3.11/site-packages/lars/apache.py:741: ApacheWarning: Line 114048: Line contains invalid data\n",
      "  warnings.warn(\n",
      "/home/katscott/Code/ros_metrics_analysis/notebooks/metrics/lib/python3.11/site-packages/lars/apache.py:741: ApacheWarning: Line 114049: Line contains invalid data\n",
      "  warnings.warn(\n",
      "/home/katscott/Code/ros_metrics_analysis/notebooks/metrics/lib/python3.11/site-packages/lars/apache.py:741: ApacheWarning: Line 117953: Line contains invalid data\n",
      "  warnings.warn(\n",
      "/home/katscott/Code/ros_metrics_analysis/notebooks/metrics/lib/python3.11/site-packages/lars/apache.py:741: ApacheWarning: Line 137465: Line contains invalid data\n",
      "  warnings.warn(\n",
      "/home/katscott/Code/ros_metrics_analysis/notebooks/metrics/lib/python3.11/site-packages/lars/apache.py:741: ApacheWarning: Line 137466: Line contains invalid data\n",
      "  warnings.warn(\n",
      "/home/katscott/Code/ros_metrics_analysis/notebooks/metrics/lib/python3.11/site-packages/lars/apache.py:741: ApacheWarning: Line 137467: Line contains invalid data\n",
      "  warnings.warn(\n",
      "/home/katscott/Code/ros_metrics_analysis/notebooks/metrics/lib/python3.11/site-packages/lars/apache.py:741: ApacheWarning: Line 137468: Line contains invalid data\n",
      "  warnings.warn(\n",
      "/home/katscott/Code/ros_metrics_analysis/notebooks/metrics/lib/python3.11/site-packages/lars/apache.py:741: ApacheWarning: Line 137469: Line contains invalid data\n",
      "  warnings.warn(\n",
      "/home/katscott/Code/ros_metrics_analysis/notebooks/metrics/lib/python3.11/site-packages/lars/apache.py:741: ApacheWarning: Line 137470: Line contains invalid data\n",
      "  warnings.warn(\n",
      "/home/katscott/Code/ros_metrics_analysis/notebooks/metrics/lib/python3.11/site-packages/lars/apache.py:741: ApacheWarning: Line 666: Line contains invalid data\n",
      "  warnings.warn(\n",
      "/home/katscott/Code/ros_metrics_analysis/notebooks/metrics/lib/python3.11/site-packages/lars/apache.py:741: ApacheWarning: Line 667: Line contains invalid data\n",
      "  warnings.warn(\n",
      "/home/katscott/Code/ros_metrics_analysis/notebooks/metrics/lib/python3.11/site-packages/lars/apache.py:741: ApacheWarning: Line 13107: Line contains invalid data\n",
      "  warnings.warn(\n",
      "/home/katscott/Code/ros_metrics_analysis/notebooks/metrics/lib/python3.11/site-packages/lars/apache.py:741: ApacheWarning: Line 13110: Line contains invalid data\n",
      "  warnings.warn(\n",
      "/home/katscott/Code/ros_metrics_analysis/notebooks/metrics/lib/python3.11/site-packages/lars/apache.py:741: ApacheWarning: Line 13111: Line contains invalid data\n",
      "  warnings.warn(\n",
      "/home/katscott/Code/ros_metrics_analysis/notebooks/metrics/lib/python3.11/site-packages/lars/apache.py:741: ApacheWarning: Line 13112: Line contains invalid data\n",
      "  warnings.warn(\n",
      "/home/katscott/Code/ros_metrics_analysis/notebooks/metrics/lib/python3.11/site-packages/lars/apache.py:741: ApacheWarning: Line 13113: Line contains invalid data\n",
      "  warnings.warn(\n",
      "/home/katscott/Code/ros_metrics_analysis/notebooks/metrics/lib/python3.11/site-packages/lars/apache.py:741: ApacheWarning: Line 13135: Line contains invalid data\n",
      "  warnings.warn(\n",
      "/home/katscott/Code/ros_metrics_analysis/notebooks/metrics/lib/python3.11/site-packages/lars/apache.py:741: ApacheWarning: Line 17620: Line contains invalid data\n",
      "  warnings.warn(\n"
     ]
    },
    {
     "name": "stdout",
     "output_type": "stream",
     "text": [
      ".\n",
      ".\n",
      ".\n",
      ".\n",
      ".\n",
      ".\n",
      "./temp/packages-logs/apt-access.log.5\n",
      ".\n",
      ".\n"
     ]
    },
    {
     "name": "stderr",
     "output_type": "stream",
     "text": [
      "/home/katscott/Code/ros_metrics_analysis/notebooks/metrics/lib/python3.11/site-packages/lars/apache.py:741: ApacheWarning: Line 20150: Line contains invalid data\n",
      "  warnings.warn(\n",
      "/home/katscott/Code/ros_metrics_analysis/notebooks/metrics/lib/python3.11/site-packages/lars/apache.py:741: ApacheWarning: Line 20151: Line contains invalid data\n",
      "  warnings.warn(\n",
      "/home/katscott/Code/ros_metrics_analysis/notebooks/metrics/lib/python3.11/site-packages/lars/apache.py:741: ApacheWarning: Line 20154: Line contains invalid data\n",
      "  warnings.warn(\n",
      "/home/katscott/Code/ros_metrics_analysis/notebooks/metrics/lib/python3.11/site-packages/lars/apache.py:741: ApacheWarning: Line 20155: Line contains invalid data\n",
      "  warnings.warn(\n",
      "/home/katscott/Code/ros_metrics_analysis/notebooks/metrics/lib/python3.11/site-packages/lars/apache.py:741: ApacheWarning: Line 20156: Line contains invalid data\n",
      "  warnings.warn(\n",
      "/home/katscott/Code/ros_metrics_analysis/notebooks/metrics/lib/python3.11/site-packages/lars/apache.py:741: ApacheWarning: Line 20157: Line contains invalid data\n",
      "  warnings.warn(\n",
      "/home/katscott/Code/ros_metrics_analysis/notebooks/metrics/lib/python3.11/site-packages/lars/apache.py:741: ApacheWarning: Line 20817: Line contains invalid data\n",
      "  warnings.warn(\n",
      "/home/katscott/Code/ros_metrics_analysis/notebooks/metrics/lib/python3.11/site-packages/lars/apache.py:741: ApacheWarning: Line 20838: Line contains invalid data\n",
      "  warnings.warn(\n",
      "/home/katscott/Code/ros_metrics_analysis/notebooks/metrics/lib/python3.11/site-packages/lars/apache.py:741: ApacheWarning: Line 20881: Line contains invalid data\n",
      "  warnings.warn(\n",
      "/home/katscott/Code/ros_metrics_analysis/notebooks/metrics/lib/python3.11/site-packages/lars/apache.py:741: ApacheWarning: Line 20949: Line contains invalid data\n",
      "  warnings.warn(\n",
      "/home/katscott/Code/ros_metrics_analysis/notebooks/metrics/lib/python3.11/site-packages/lars/apache.py:741: ApacheWarning: Line 21001: Line contains invalid data\n",
      "  warnings.warn(\n",
      "/home/katscott/Code/ros_metrics_analysis/notebooks/metrics/lib/python3.11/site-packages/lars/apache.py:741: ApacheWarning: Line 21473: Line contains invalid data\n",
      "  warnings.warn(\n",
      "/home/katscott/Code/ros_metrics_analysis/notebooks/metrics/lib/python3.11/site-packages/lars/apache.py:741: ApacheWarning: Line 21570: Line contains invalid data\n",
      "  warnings.warn(\n",
      "/home/katscott/Code/ros_metrics_analysis/notebooks/metrics/lib/python3.11/site-packages/lars/apache.py:741: ApacheWarning: Line 21630: Line contains invalid data\n",
      "  warnings.warn(\n",
      "/home/katscott/Code/ros_metrics_analysis/notebooks/metrics/lib/python3.11/site-packages/lars/apache.py:741: ApacheWarning: Line 21899: Line contains invalid data\n",
      "  warnings.warn(\n",
      "/home/katscott/Code/ros_metrics_analysis/notebooks/metrics/lib/python3.11/site-packages/lars/apache.py:741: ApacheWarning: Line 21948: Line contains invalid data\n",
      "  warnings.warn(\n",
      "/home/katscott/Code/ros_metrics_analysis/notebooks/metrics/lib/python3.11/site-packages/lars/apache.py:741: ApacheWarning: Line 27936: Line contains invalid data\n",
      "  warnings.warn(\n",
      "/home/katscott/Code/ros_metrics_analysis/notebooks/metrics/lib/python3.11/site-packages/lars/apache.py:741: ApacheWarning: Line 27937: Line contains invalid data\n",
      "  warnings.warn(\n",
      "/home/katscott/Code/ros_metrics_analysis/notebooks/metrics/lib/python3.11/site-packages/lars/apache.py:741: ApacheWarning: Line 27938: Line contains invalid data\n",
      "  warnings.warn(\n",
      "/home/katscott/Code/ros_metrics_analysis/notebooks/metrics/lib/python3.11/site-packages/lars/apache.py:741: ApacheWarning: Line 37128: Line contains invalid data\n",
      "  warnings.warn(\n",
      "/home/katscott/Code/ros_metrics_analysis/notebooks/metrics/lib/python3.11/site-packages/lars/apache.py:741: ApacheWarning: Line 54382: Line contains invalid data\n",
      "  warnings.warn(\n",
      "/home/katscott/Code/ros_metrics_analysis/notebooks/metrics/lib/python3.11/site-packages/lars/apache.py:741: ApacheWarning: Line 55802: Line contains invalid data\n",
      "  warnings.warn(\n"
     ]
    },
    {
     "name": "stdout",
     "output_type": "stream",
     "text": [
      ".\n",
      ".\n",
      ".\n",
      ".\n",
      ".\n"
     ]
    },
    {
     "name": "stderr",
     "output_type": "stream",
     "text": [
      "/home/katscott/Code/ros_metrics_analysis/notebooks/metrics/lib/python3.11/site-packages/lars/apache.py:741: ApacheWarning: Line 63162: Line contains invalid data\n",
      "  warnings.warn(\n",
      "/home/katscott/Code/ros_metrics_analysis/notebooks/metrics/lib/python3.11/site-packages/lars/apache.py:741: ApacheWarning: Line 70784: Line contains invalid data\n",
      "  warnings.warn(\n",
      "/home/katscott/Code/ros_metrics_analysis/notebooks/metrics/lib/python3.11/site-packages/lars/apache.py:741: ApacheWarning: Line 70799: Line contains invalid data\n",
      "  warnings.warn(\n",
      "/home/katscott/Code/ros_metrics_analysis/notebooks/metrics/lib/python3.11/site-packages/lars/apache.py:741: ApacheWarning: Line 79115: Line contains invalid data\n",
      "  warnings.warn(\n"
     ]
    },
    {
     "name": "stdout",
     "output_type": "stream",
     "text": [
      ".\n",
      ".\n",
      ".\n"
     ]
    },
    {
     "name": "stderr",
     "output_type": "stream",
     "text": [
      "/home/katscott/Code/ros_metrics_analysis/notebooks/metrics/lib/python3.11/site-packages/lars/apache.py:741: ApacheWarning: Line 95653: Line contains invalid data\n",
      "  warnings.warn(\n",
      "/home/katscott/Code/ros_metrics_analysis/notebooks/metrics/lib/python3.11/site-packages/lars/apache.py:741: ApacheWarning: Line 115962: Line contains invalid data\n",
      "  warnings.warn(\n",
      "/home/katscott/Code/ros_metrics_analysis/notebooks/metrics/lib/python3.11/site-packages/lars/apache.py:741: ApacheWarning: Line 118688: Line contains invalid data\n",
      "  warnings.warn(\n",
      "/home/katscott/Code/ros_metrics_analysis/notebooks/metrics/lib/python3.11/site-packages/lars/apache.py:741: ApacheWarning: Line 123224: Line contains invalid data\n",
      "  warnings.warn(\n",
      "/home/katscott/Code/ros_metrics_analysis/notebooks/metrics/lib/python3.11/site-packages/lars/apache.py:741: ApacheWarning: Line 124034: Line contains invalid data\n",
      "  warnings.warn(\n"
     ]
    },
    {
     "name": "stdout",
     "output_type": "stream",
     "text": [
      ".\n",
      ".\n",
      ".\n",
      ".\n"
     ]
    },
    {
     "name": "stderr",
     "output_type": "stream",
     "text": [
      "/home/katscott/Code/ros_metrics_analysis/notebooks/metrics/lib/python3.11/site-packages/lars/apache.py:741: ApacheWarning: Line 149283: Line contains invalid data\n",
      "  warnings.warn(\n",
      "/home/katscott/Code/ros_metrics_analysis/notebooks/metrics/lib/python3.11/site-packages/lars/apache.py:741: ApacheWarning: Line 152760: Line contains invalid data\n",
      "  warnings.warn(\n",
      "/home/katscott/Code/ros_metrics_analysis/notebooks/metrics/lib/python3.11/site-packages/lars/apache.py:741: ApacheWarning: Line 145: Line contains invalid data\n",
      "  warnings.warn(\n",
      "/home/katscott/Code/ros_metrics_analysis/notebooks/metrics/lib/python3.11/site-packages/lars/apache.py:741: ApacheWarning: Line 221: Line contains invalid data\n",
      "  warnings.warn(\n",
      "/home/katscott/Code/ros_metrics_analysis/notebooks/metrics/lib/python3.11/site-packages/lars/apache.py:741: ApacheWarning: Line 304: Line contains invalid data\n",
      "  warnings.warn(\n",
      "/home/katscott/Code/ros_metrics_analysis/notebooks/metrics/lib/python3.11/site-packages/lars/apache.py:741: ApacheWarning: Line 8518: Line contains invalid data\n",
      "  warnings.warn(\n",
      "/home/katscott/Code/ros_metrics_analysis/notebooks/metrics/lib/python3.11/site-packages/lars/apache.py:741: ApacheWarning: Line 8519: Line contains invalid data\n",
      "  warnings.warn(\n",
      "/home/katscott/Code/ros_metrics_analysis/notebooks/metrics/lib/python3.11/site-packages/lars/apache.py:741: ApacheWarning: Line 8520: Line contains invalid data\n",
      "  warnings.warn(\n",
      "/home/katscott/Code/ros_metrics_analysis/notebooks/metrics/lib/python3.11/site-packages/lars/apache.py:741: ApacheWarning: Line 8521: Line contains invalid data\n",
      "  warnings.warn(\n",
      "/home/katscott/Code/ros_metrics_analysis/notebooks/metrics/lib/python3.11/site-packages/lars/apache.py:741: ApacheWarning: Line 8522: Line contains invalid data\n",
      "  warnings.warn(\n",
      "/home/katscott/Code/ros_metrics_analysis/notebooks/metrics/lib/python3.11/site-packages/lars/apache.py:741: ApacheWarning: Line 8523: Line contains invalid data\n",
      "  warnings.warn(\n",
      "/home/katscott/Code/ros_metrics_analysis/notebooks/metrics/lib/python3.11/site-packages/lars/apache.py:741: ApacheWarning: Line 10410: Line contains invalid data\n",
      "  warnings.warn(\n",
      "/home/katscott/Code/ros_metrics_analysis/notebooks/metrics/lib/python3.11/site-packages/lars/apache.py:741: ApacheWarning: Line 11220: Line contains invalid data\n",
      "  warnings.warn(\n",
      "/home/katscott/Code/ros_metrics_analysis/notebooks/metrics/lib/python3.11/site-packages/lars/apache.py:741: ApacheWarning: Line 13452: Line contains invalid data\n",
      "  warnings.warn(\n"
     ]
    },
    {
     "name": "stdout",
     "output_type": "stream",
     "text": [
      ".\n",
      "./temp/packages-logs/apt-access.log.50\n",
      ".\n",
      ".\n"
     ]
    },
    {
     "name": "stderr",
     "output_type": "stream",
     "text": [
      "/home/katscott/Code/ros_metrics_analysis/notebooks/metrics/lib/python3.11/site-packages/lars/apache.py:741: ApacheWarning: Line 21613: Line contains invalid data\n",
      "  warnings.warn(\n",
      "/home/katscott/Code/ros_metrics_analysis/notebooks/metrics/lib/python3.11/site-packages/lars/apache.py:741: ApacheWarning: Line 25766: Line contains invalid data\n",
      "  warnings.warn(\n",
      "/home/katscott/Code/ros_metrics_analysis/notebooks/metrics/lib/python3.11/site-packages/lars/apache.py:741: ApacheWarning: Line 25767: Line contains invalid data\n",
      "  warnings.warn(\n",
      "/home/katscott/Code/ros_metrics_analysis/notebooks/metrics/lib/python3.11/site-packages/lars/apache.py:741: ApacheWarning: Line 26475: Line contains invalid data\n",
      "  warnings.warn(\n",
      "/home/katscott/Code/ros_metrics_analysis/notebooks/metrics/lib/python3.11/site-packages/lars/apache.py:741: ApacheWarning: Line 27435: Line contains invalid data\n",
      "  warnings.warn(\n"
     ]
    },
    {
     "name": "stdout",
     "output_type": "stream",
     "text": [
      ".\n",
      ".\n"
     ]
    },
    {
     "name": "stderr",
     "output_type": "stream",
     "text": [
      "/home/katscott/Code/ros_metrics_analysis/notebooks/metrics/lib/python3.11/site-packages/lars/apache.py:741: ApacheWarning: Line 32740: Line contains invalid data\n",
      "  warnings.warn(\n",
      "/home/katscott/Code/ros_metrics_analysis/notebooks/metrics/lib/python3.11/site-packages/lars/apache.py:741: ApacheWarning: Line 39852: Line contains invalid data\n",
      "  warnings.warn(\n",
      "/home/katscott/Code/ros_metrics_analysis/notebooks/metrics/lib/python3.11/site-packages/lars/apache.py:741: ApacheWarning: Line 42353: Line contains invalid data\n",
      "  warnings.warn(\n",
      "/home/katscott/Code/ros_metrics_analysis/notebooks/metrics/lib/python3.11/site-packages/lars/apache.py:741: ApacheWarning: Line 44977: Line contains invalid data\n",
      "  warnings.warn(\n",
      "/home/katscott/Code/ros_metrics_analysis/notebooks/metrics/lib/python3.11/site-packages/lars/apache.py:741: ApacheWarning: Line 46061: Line contains invalid data\n",
      "  warnings.warn(\n"
     ]
    },
    {
     "name": "stdout",
     "output_type": "stream",
     "text": [
      ".\n",
      ".\n"
     ]
    },
    {
     "name": "stderr",
     "output_type": "stream",
     "text": [
      "/home/katscott/Code/ros_metrics_analysis/notebooks/metrics/lib/python3.11/site-packages/lars/apache.py:741: ApacheWarning: Line 58051: Line contains invalid data\n",
      "  warnings.warn(\n",
      "/home/katscott/Code/ros_metrics_analysis/notebooks/metrics/lib/python3.11/site-packages/lars/apache.py:741: ApacheWarning: Line 59146: Line contains invalid data\n",
      "  warnings.warn(\n",
      "/home/katscott/Code/ros_metrics_analysis/notebooks/metrics/lib/python3.11/site-packages/lars/apache.py:741: ApacheWarning: Line 69902: Line contains invalid data\n",
      "  warnings.warn(\n",
      "/home/katscott/Code/ros_metrics_analysis/notebooks/metrics/lib/python3.11/site-packages/lars/apache.py:741: ApacheWarning: Line 70999: Line contains invalid data\n",
      "  warnings.warn(\n",
      "/home/katscott/Code/ros_metrics_analysis/notebooks/metrics/lib/python3.11/site-packages/lars/apache.py:741: ApacheWarning: Line 72675: Line contains invalid data\n",
      "  warnings.warn(\n",
      "/home/katscott/Code/ros_metrics_analysis/notebooks/metrics/lib/python3.11/site-packages/lars/apache.py:741: ApacheWarning: Line 72677: Line contains invalid data\n",
      "  warnings.warn(\n",
      "/home/katscott/Code/ros_metrics_analysis/notebooks/metrics/lib/python3.11/site-packages/lars/apache.py:741: ApacheWarning: Line 72681: Line contains invalid data\n",
      "  warnings.warn(\n"
     ]
    },
    {
     "name": "stdout",
     "output_type": "stream",
     "text": [
      ".\n",
      ".\n",
      ".\n"
     ]
    },
    {
     "name": "stderr",
     "output_type": "stream",
     "text": [
      "/home/katscott/Code/ros_metrics_analysis/notebooks/metrics/lib/python3.11/site-packages/lars/apache.py:741: ApacheWarning: Line 97924: Line contains invalid data\n",
      "  warnings.warn(\n"
     ]
    },
    {
     "name": "stdout",
     "output_type": "stream",
     "text": [
      ".\n",
      ".\n",
      ".\n",
      ".\n",
      ".\n",
      "./temp/packages-logs/apt-access.log.51\n"
     ]
    },
    {
     "name": "stderr",
     "output_type": "stream",
     "text": [
      "/home/katscott/Code/ros_metrics_analysis/notebooks/metrics/lib/python3.11/site-packages/lars/apache.py:741: ApacheWarning: Line 130836: Line contains invalid data\n",
      "  warnings.warn(\n",
      "/home/katscott/Code/ros_metrics_analysis/notebooks/metrics/lib/python3.11/site-packages/lars/apache.py:741: ApacheWarning: Line 133132: Line contains invalid data\n",
      "  warnings.warn(\n",
      "/home/katscott/Code/ros_metrics_analysis/notebooks/metrics/lib/python3.11/site-packages/lars/apache.py:741: ApacheWarning: Line 133133: Line contains invalid data\n",
      "  warnings.warn(\n",
      "/home/katscott/Code/ros_metrics_analysis/notebooks/metrics/lib/python3.11/site-packages/lars/apache.py:741: ApacheWarning: Line 133134: Line contains invalid data\n",
      "  warnings.warn(\n",
      "/home/katscott/Code/ros_metrics_analysis/notebooks/metrics/lib/python3.11/site-packages/lars/apache.py:741: ApacheWarning: Line 133135: Line contains invalid data\n",
      "  warnings.warn(\n",
      "/home/katscott/Code/ros_metrics_analysis/notebooks/metrics/lib/python3.11/site-packages/lars/apache.py:741: ApacheWarning: Line 133136: Line contains invalid data\n",
      "  warnings.warn(\n",
      "/home/katscott/Code/ros_metrics_analysis/notebooks/metrics/lib/python3.11/site-packages/lars/apache.py:741: ApacheWarning: Line 133142: Line contains invalid data\n",
      "  warnings.warn(\n",
      "/home/katscott/Code/ros_metrics_analysis/notebooks/metrics/lib/python3.11/site-packages/lars/apache.py:741: ApacheWarning: Line 133184: Line contains invalid data\n",
      "  warnings.warn(\n",
      "/home/katscott/Code/ros_metrics_analysis/notebooks/metrics/lib/python3.11/site-packages/lars/apache.py:741: ApacheWarning: Line 136220: Line contains invalid data\n",
      "  warnings.warn(\n",
      "/home/katscott/Code/ros_metrics_analysis/notebooks/metrics/lib/python3.11/site-packages/lars/apache.py:741: ApacheWarning: Line 621: Line contains invalid data\n",
      "  warnings.warn(\n",
      "/home/katscott/Code/ros_metrics_analysis/notebooks/metrics/lib/python3.11/site-packages/lars/apache.py:741: ApacheWarning: Line 622: Line contains invalid data\n",
      "  warnings.warn(\n"
     ]
    },
    {
     "name": "stdout",
     "output_type": "stream",
     "text": [
      ".\n",
      ".\n",
      ".\n"
     ]
    },
    {
     "name": "stderr",
     "output_type": "stream",
     "text": [
      "/home/katscott/Code/ros_metrics_analysis/notebooks/metrics/lib/python3.11/site-packages/lars/apache.py:741: ApacheWarning: Line 23628: Line contains invalid data\n",
      "  warnings.warn(\n",
      "/home/katscott/Code/ros_metrics_analysis/notebooks/metrics/lib/python3.11/site-packages/lars/apache.py:741: ApacheWarning: Line 31307: Line contains invalid data\n",
      "  warnings.warn(\n",
      "/home/katscott/Code/ros_metrics_analysis/notebooks/metrics/lib/python3.11/site-packages/lars/apache.py:741: ApacheWarning: Line 31309: Line contains invalid data\n",
      "  warnings.warn(\n",
      "/home/katscott/Code/ros_metrics_analysis/notebooks/metrics/lib/python3.11/site-packages/lars/apache.py:741: ApacheWarning: Line 31312: Line contains invalid data\n",
      "  warnings.warn(\n"
     ]
    },
    {
     "name": "stdout",
     "output_type": "stream",
     "text": [
      ".\n",
      ".\n"
     ]
    },
    {
     "name": "stderr",
     "output_type": "stream",
     "text": [
      "/home/katscott/Code/ros_metrics_analysis/notebooks/metrics/lib/python3.11/site-packages/lars/apache.py:741: ApacheWarning: Line 44348: Line contains invalid data\n",
      "  warnings.warn(\n",
      "/home/katscott/Code/ros_metrics_analysis/notebooks/metrics/lib/python3.11/site-packages/lars/apache.py:741: ApacheWarning: Line 59484: Line contains invalid data\n",
      "  warnings.warn(\n",
      "/home/katscott/Code/ros_metrics_analysis/notebooks/metrics/lib/python3.11/site-packages/lars/apache.py:741: ApacheWarning: Line 59485: Line contains invalid data\n",
      "  warnings.warn(\n"
     ]
    },
    {
     "name": "stdout",
     "output_type": "stream",
     "text": [
      ".\n",
      ".\n"
     ]
    },
    {
     "name": "stderr",
     "output_type": "stream",
     "text": [
      "/home/katscott/Code/ros_metrics_analysis/notebooks/metrics/lib/python3.11/site-packages/lars/apache.py:741: ApacheWarning: Line 61168: Line contains invalid data\n",
      "  warnings.warn(\n",
      "/home/katscott/Code/ros_metrics_analysis/notebooks/metrics/lib/python3.11/site-packages/lars/apache.py:741: ApacheWarning: Line 66484: Line contains invalid data\n",
      "  warnings.warn(\n",
      "/home/katscott/Code/ros_metrics_analysis/notebooks/metrics/lib/python3.11/site-packages/lars/apache.py:741: ApacheWarning: Line 73419: Line contains invalid data\n",
      "  warnings.warn(\n"
     ]
    },
    {
     "name": "stdout",
     "output_type": "stream",
     "text": [
      ".\n"
     ]
    },
    {
     "name": "stderr",
     "output_type": "stream",
     "text": [
      "/home/katscott/Code/ros_metrics_analysis/notebooks/metrics/lib/python3.11/site-packages/lars/apache.py:741: ApacheWarning: Line 81268: Line contains invalid data\n",
      "  warnings.warn(\n",
      "/home/katscott/Code/ros_metrics_analysis/notebooks/metrics/lib/python3.11/site-packages/lars/apache.py:741: ApacheWarning: Line 88586: Line contains invalid data\n",
      "  warnings.warn(\n",
      "/home/katscott/Code/ros_metrics_analysis/notebooks/metrics/lib/python3.11/site-packages/lars/apache.py:741: ApacheWarning: Line 90215: Line contains invalid data\n",
      "  warnings.warn(\n",
      "/home/katscott/Code/ros_metrics_analysis/notebooks/metrics/lib/python3.11/site-packages/lars/apache.py:741: ApacheWarning: Line 90216: Line contains invalid data\n",
      "  warnings.warn(\n",
      "/home/katscott/Code/ros_metrics_analysis/notebooks/metrics/lib/python3.11/site-packages/lars/apache.py:741: ApacheWarning: Line 90217: Line contains invalid data\n",
      "  warnings.warn(\n",
      "/home/katscott/Code/ros_metrics_analysis/notebooks/metrics/lib/python3.11/site-packages/lars/apache.py:741: ApacheWarning: Line 90218: Line contains invalid data\n",
      "  warnings.warn(\n",
      "/home/katscott/Code/ros_metrics_analysis/notebooks/metrics/lib/python3.11/site-packages/lars/apache.py:741: ApacheWarning: Line 90219: Line contains invalid data\n",
      "  warnings.warn(\n",
      "/home/katscott/Code/ros_metrics_analysis/notebooks/metrics/lib/python3.11/site-packages/lars/apache.py:741: ApacheWarning: Line 90220: Line contains invalid data\n",
      "  warnings.warn(\n",
      "/home/katscott/Code/ros_metrics_analysis/notebooks/metrics/lib/python3.11/site-packages/lars/apache.py:741: ApacheWarning: Line 90221: Line contains invalid data\n",
      "  warnings.warn(\n",
      "/home/katscott/Code/ros_metrics_analysis/notebooks/metrics/lib/python3.11/site-packages/lars/apache.py:741: ApacheWarning: Line 90222: Line contains invalid data\n",
      "  warnings.warn(\n",
      "/home/katscott/Code/ros_metrics_analysis/notebooks/metrics/lib/python3.11/site-packages/lars/apache.py:741: ApacheWarning: Line 90223: Line contains invalid data\n",
      "  warnings.warn(\n",
      "/home/katscott/Code/ros_metrics_analysis/notebooks/metrics/lib/python3.11/site-packages/lars/apache.py:741: ApacheWarning: Line 90225: Line contains invalid data\n",
      "  warnings.warn(\n",
      "/home/katscott/Code/ros_metrics_analysis/notebooks/metrics/lib/python3.11/site-packages/lars/apache.py:741: ApacheWarning: Line 90226: Line contains invalid data\n",
      "  warnings.warn(\n",
      "/home/katscott/Code/ros_metrics_analysis/notebooks/metrics/lib/python3.11/site-packages/lars/apache.py:741: ApacheWarning: Line 90227: Line contains invalid data\n",
      "  warnings.warn(\n",
      "/home/katscott/Code/ros_metrics_analysis/notebooks/metrics/lib/python3.11/site-packages/lars/apache.py:741: ApacheWarning: Line 90228: Line contains invalid data\n",
      "  warnings.warn(\n",
      "/home/katscott/Code/ros_metrics_analysis/notebooks/metrics/lib/python3.11/site-packages/lars/apache.py:741: ApacheWarning: Line 90229: Line contains invalid data\n",
      "  warnings.warn(\n",
      "/home/katscott/Code/ros_metrics_analysis/notebooks/metrics/lib/python3.11/site-packages/lars/apache.py:741: ApacheWarning: Line 90230: Line contains invalid data\n",
      "  warnings.warn(\n",
      "/home/katscott/Code/ros_metrics_analysis/notebooks/metrics/lib/python3.11/site-packages/lars/apache.py:741: ApacheWarning: Line 90231: Line contains invalid data\n",
      "  warnings.warn(\n",
      "/home/katscott/Code/ros_metrics_analysis/notebooks/metrics/lib/python3.11/site-packages/lars/apache.py:741: ApacheWarning: Line 90232: Line contains invalid data\n",
      "  warnings.warn(\n",
      "/home/katscott/Code/ros_metrics_analysis/notebooks/metrics/lib/python3.11/site-packages/lars/apache.py:741: ApacheWarning: Line 90233: Line contains invalid data\n",
      "  warnings.warn(\n",
      "/home/katscott/Code/ros_metrics_analysis/notebooks/metrics/lib/python3.11/site-packages/lars/apache.py:741: ApacheWarning: Line 90234: Line contains invalid data\n",
      "  warnings.warn(\n",
      "/home/katscott/Code/ros_metrics_analysis/notebooks/metrics/lib/python3.11/site-packages/lars/apache.py:741: ApacheWarning: Line 90235: Line contains invalid data\n",
      "  warnings.warn(\n",
      "/home/katscott/Code/ros_metrics_analysis/notebooks/metrics/lib/python3.11/site-packages/lars/apache.py:741: ApacheWarning: Line 90236: Line contains invalid data\n",
      "  warnings.warn(\n",
      "/home/katscott/Code/ros_metrics_analysis/notebooks/metrics/lib/python3.11/site-packages/lars/apache.py:741: ApacheWarning: Line 90237: Line contains invalid data\n",
      "  warnings.warn(\n"
     ]
    },
    {
     "name": "stdout",
     "output_type": "stream",
     "text": [
      ".\n",
      ".\n"
     ]
    },
    {
     "name": "stderr",
     "output_type": "stream",
     "text": [
      "/home/katscott/Code/ros_metrics_analysis/notebooks/metrics/lib/python3.11/site-packages/lars/apache.py:741: ApacheWarning: Line 95991: Line contains invalid data\n",
      "  warnings.warn(\n",
      "/home/katscott/Code/ros_metrics_analysis/notebooks/metrics/lib/python3.11/site-packages/lars/apache.py:741: ApacheWarning: Line 102119: Line contains invalid data\n",
      "  warnings.warn(\n",
      "/home/katscott/Code/ros_metrics_analysis/notebooks/metrics/lib/python3.11/site-packages/lars/apache.py:741: ApacheWarning: Line 103575: Line contains invalid data\n",
      "  warnings.warn(\n",
      "/home/katscott/Code/ros_metrics_analysis/notebooks/metrics/lib/python3.11/site-packages/lars/apache.py:741: ApacheWarning: Line 103576: Line contains invalid data\n",
      "  warnings.warn(\n",
      "/home/katscott/Code/ros_metrics_analysis/notebooks/metrics/lib/python3.11/site-packages/lars/apache.py:741: ApacheWarning: Line 103577: Line contains invalid data\n",
      "  warnings.warn(\n",
      "/home/katscott/Code/ros_metrics_analysis/notebooks/metrics/lib/python3.11/site-packages/lars/apache.py:741: ApacheWarning: Line 103578: Line contains invalid data\n",
      "  warnings.warn(\n",
      "/home/katscott/Code/ros_metrics_analysis/notebooks/metrics/lib/python3.11/site-packages/lars/apache.py:741: ApacheWarning: Line 103579: Line contains invalid data\n",
      "  warnings.warn(\n",
      "/home/katscott/Code/ros_metrics_analysis/notebooks/metrics/lib/python3.11/site-packages/lars/apache.py:741: ApacheWarning: Line 103583: Line contains invalid data\n",
      "  warnings.warn(\n",
      "/home/katscott/Code/ros_metrics_analysis/notebooks/metrics/lib/python3.11/site-packages/lars/apache.py:741: ApacheWarning: Line 103604: Line contains invalid data\n",
      "  warnings.warn(\n"
     ]
    },
    {
     "name": "stdout",
     "output_type": "stream",
     "text": [
      ".\n",
      ".\n",
      ".\n"
     ]
    },
    {
     "name": "stderr",
     "output_type": "stream",
     "text": [
      "/home/katscott/Code/ros_metrics_analysis/notebooks/metrics/lib/python3.11/site-packages/lars/apache.py:741: ApacheWarning: Line 112620: Line contains invalid data\n",
      "  warnings.warn(\n",
      "/home/katscott/Code/ros_metrics_analysis/notebooks/metrics/lib/python3.11/site-packages/lars/apache.py:741: ApacheWarning: Line 113035: Line contains invalid data\n",
      "  warnings.warn(\n",
      "/home/katscott/Code/ros_metrics_analysis/notebooks/metrics/lib/python3.11/site-packages/lars/apache.py:741: ApacheWarning: Line 121517: Line contains invalid data\n",
      "  warnings.warn(\n",
      "/home/katscott/Code/ros_metrics_analysis/notebooks/metrics/lib/python3.11/site-packages/lars/apache.py:741: ApacheWarning: Line 121555: Line contains invalid data\n",
      "  warnings.warn(\n",
      "/home/katscott/Code/ros_metrics_analysis/notebooks/metrics/lib/python3.11/site-packages/lars/apache.py:741: ApacheWarning: Line 121556: Line contains invalid data\n",
      "  warnings.warn(\n",
      "/home/katscott/Code/ros_metrics_analysis/notebooks/metrics/lib/python3.11/site-packages/lars/apache.py:741: ApacheWarning: Line 130448: Line contains invalid data\n",
      "  warnings.warn(\n",
      "/home/katscott/Code/ros_metrics_analysis/notebooks/metrics/lib/python3.11/site-packages/lars/apache.py:741: ApacheWarning: Line 132027: Line contains invalid data\n",
      "  warnings.warn(\n"
     ]
    },
    {
     "name": "stdout",
     "output_type": "stream",
     "text": [
      "./temp/packages-logs/apt-access.log.52\n",
      ".\n",
      ".\n"
     ]
    },
    {
     "name": "stderr",
     "output_type": "stream",
     "text": [
      "/home/katscott/Code/ros_metrics_analysis/notebooks/metrics/lib/python3.11/site-packages/lars/apache.py:741: ApacheWarning: Line 2979: Line contains invalid data\n",
      "  warnings.warn(\n",
      "/home/katscott/Code/ros_metrics_analysis/notebooks/metrics/lib/python3.11/site-packages/lars/apache.py:741: ApacheWarning: Line 2980: Line contains invalid data\n",
      "  warnings.warn(\n",
      "/home/katscott/Code/ros_metrics_analysis/notebooks/metrics/lib/python3.11/site-packages/lars/apache.py:741: ApacheWarning: Line 17954: Line contains invalid data\n",
      "  warnings.warn(\n"
     ]
    },
    {
     "name": "stdout",
     "output_type": "stream",
     "text": [
      ".\n",
      ".\n"
     ]
    },
    {
     "name": "stderr",
     "output_type": "stream",
     "text": [
      "/home/katscott/Code/ros_metrics_analysis/notebooks/metrics/lib/python3.11/site-packages/lars/apache.py:741: ApacheWarning: Line 38099: Line contains invalid data\n",
      "  warnings.warn(\n",
      "/home/katscott/Code/ros_metrics_analysis/notebooks/metrics/lib/python3.11/site-packages/lars/apache.py:741: ApacheWarning: Line 44770: Line contains invalid data\n",
      "  warnings.warn(\n",
      "/home/katscott/Code/ros_metrics_analysis/notebooks/metrics/lib/python3.11/site-packages/lars/apache.py:741: ApacheWarning: Line 44771: Line contains invalid data\n",
      "  warnings.warn(\n",
      "/home/katscott/Code/ros_metrics_analysis/notebooks/metrics/lib/python3.11/site-packages/lars/apache.py:741: ApacheWarning: Line 46037: Line contains invalid data\n",
      "  warnings.warn(\n",
      "/home/katscott/Code/ros_metrics_analysis/notebooks/metrics/lib/python3.11/site-packages/lars/apache.py:741: ApacheWarning: Line 50855: Line contains invalid data\n",
      "  warnings.warn(\n"
     ]
    },
    {
     "name": "stdout",
     "output_type": "stream",
     "text": [
      ".\n",
      ".\n",
      ".\n",
      ".\n",
      ".\n",
      ".\n"
     ]
    },
    {
     "name": "stderr",
     "output_type": "stream",
     "text": [
      "/home/katscott/Code/ros_metrics_analysis/notebooks/metrics/lib/python3.11/site-packages/lars/apache.py:741: ApacheWarning: Line 71336: Line contains invalid data\n",
      "  warnings.warn(\n",
      "/home/katscott/Code/ros_metrics_analysis/notebooks/metrics/lib/python3.11/site-packages/lars/apache.py:741: ApacheWarning: Line 72546: Line contains invalid data\n",
      "  warnings.warn(\n",
      "/home/katscott/Code/ros_metrics_analysis/notebooks/metrics/lib/python3.11/site-packages/lars/apache.py:741: ApacheWarning: Line 74347: Line contains invalid data\n",
      "  warnings.warn(\n",
      "/home/katscott/Code/ros_metrics_analysis/notebooks/metrics/lib/python3.11/site-packages/lars/apache.py:741: ApacheWarning: Line 74811: Line contains invalid data\n",
      "  warnings.warn(\n",
      "/home/katscott/Code/ros_metrics_analysis/notebooks/metrics/lib/python3.11/site-packages/lars/apache.py:741: ApacheWarning: Line 74824: Line contains invalid data\n",
      "  warnings.warn(\n",
      "/home/katscott/Code/ros_metrics_analysis/notebooks/metrics/lib/python3.11/site-packages/lars/apache.py:741: ApacheWarning: Line 76950: Line contains invalid data\n",
      "  warnings.warn(\n",
      "/home/katscott/Code/ros_metrics_analysis/notebooks/metrics/lib/python3.11/site-packages/lars/apache.py:741: ApacheWarning: Line 78917: Line contains invalid data\n",
      "  warnings.warn(\n",
      "/home/katscott/Code/ros_metrics_analysis/notebooks/metrics/lib/python3.11/site-packages/lars/apache.py:741: ApacheWarning: Line 82378: Line contains invalid data\n",
      "  warnings.warn(\n",
      "/home/katscott/Code/ros_metrics_analysis/notebooks/metrics/lib/python3.11/site-packages/lars/apache.py:741: ApacheWarning: Line 82379: Line contains invalid data\n",
      "  warnings.warn(\n",
      "/home/katscott/Code/ros_metrics_analysis/notebooks/metrics/lib/python3.11/site-packages/lars/apache.py:741: ApacheWarning: Line 82380: Line contains invalid data\n",
      "  warnings.warn(\n",
      "/home/katscott/Code/ros_metrics_analysis/notebooks/metrics/lib/python3.11/site-packages/lars/apache.py:741: ApacheWarning: Line 82381: Line contains invalid data\n",
      "  warnings.warn(\n",
      "/home/katscott/Code/ros_metrics_analysis/notebooks/metrics/lib/python3.11/site-packages/lars/apache.py:741: ApacheWarning: Line 82382: Line contains invalid data\n",
      "  warnings.warn(\n",
      "/home/katscott/Code/ros_metrics_analysis/notebooks/metrics/lib/python3.11/site-packages/lars/apache.py:741: ApacheWarning: Line 82387: Line contains invalid data\n",
      "  warnings.warn(\n",
      "/home/katscott/Code/ros_metrics_analysis/notebooks/metrics/lib/python3.11/site-packages/lars/apache.py:741: ApacheWarning: Line 82414: Line contains invalid data\n",
      "  warnings.warn(\n",
      "/home/katscott/Code/ros_metrics_analysis/notebooks/metrics/lib/python3.11/site-packages/lars/apache.py:741: ApacheWarning: Line 82576: Line contains invalid data\n",
      "  warnings.warn(\n",
      "/home/katscott/Code/ros_metrics_analysis/notebooks/metrics/lib/python3.11/site-packages/lars/apache.py:741: ApacheWarning: Line 96324: Line contains invalid data\n",
      "  warnings.warn(\n",
      "/home/katscott/Code/ros_metrics_analysis/notebooks/metrics/lib/python3.11/site-packages/lars/apache.py:741: ApacheWarning: Line 99225: Line contains invalid data\n",
      "  warnings.warn(\n",
      "/home/katscott/Code/ros_metrics_analysis/notebooks/metrics/lib/python3.11/site-packages/lars/apache.py:741: ApacheWarning: Line 101429: Line contains invalid data\n",
      "  warnings.warn(\n",
      "/home/katscott/Code/ros_metrics_analysis/notebooks/metrics/lib/python3.11/site-packages/lars/apache.py:741: ApacheWarning: Line 101454: Line contains invalid data\n",
      "  warnings.warn(\n",
      "/home/katscott/Code/ros_metrics_analysis/notebooks/metrics/lib/python3.11/site-packages/lars/apache.py:741: ApacheWarning: Line 5984: Line contains invalid data\n",
      "  warnings.warn(\n",
      "/home/katscott/Code/ros_metrics_analysis/notebooks/metrics/lib/python3.11/site-packages/lars/apache.py:741: ApacheWarning: Line 5985: Line contains invalid data\n",
      "  warnings.warn(\n",
      "/home/katscott/Code/ros_metrics_analysis/notebooks/metrics/lib/python3.11/site-packages/lars/apache.py:741: ApacheWarning: Line 5986: Line contains invalid data\n",
      "  warnings.warn(\n",
      "/home/katscott/Code/ros_metrics_analysis/notebooks/metrics/lib/python3.11/site-packages/lars/apache.py:741: ApacheWarning: Line 5987: Line contains invalid data\n",
      "  warnings.warn(\n",
      "/home/katscott/Code/ros_metrics_analysis/notebooks/metrics/lib/python3.11/site-packages/lars/apache.py:741: ApacheWarning: Line 5989: Line contains invalid data\n",
      "  warnings.warn(\n",
      "/home/katscott/Code/ros_metrics_analysis/notebooks/metrics/lib/python3.11/site-packages/lars/apache.py:741: ApacheWarning: Line 6020: Line contains invalid data\n",
      "  warnings.warn(\n",
      "/home/katscott/Code/ros_metrics_analysis/notebooks/metrics/lib/python3.11/site-packages/lars/apache.py:741: ApacheWarning: Line 9502: Line contains invalid data\n",
      "  warnings.warn(\n",
      "/home/katscott/Code/ros_metrics_analysis/notebooks/metrics/lib/python3.11/site-packages/lars/apache.py:741: ApacheWarning: Line 9503: Line contains invalid data\n",
      "  warnings.warn(\n",
      "/home/katscott/Code/ros_metrics_analysis/notebooks/metrics/lib/python3.11/site-packages/lars/apache.py:741: ApacheWarning: Line 9506: Line contains invalid data\n",
      "  warnings.warn(\n",
      "/home/katscott/Code/ros_metrics_analysis/notebooks/metrics/lib/python3.11/site-packages/lars/apache.py:741: ApacheWarning: Line 9508: Line contains invalid data\n",
      "  warnings.warn(\n"
     ]
    },
    {
     "name": "stdout",
     "output_type": "stream",
     "text": [
      "./temp/packages-logs/apt-access.log.6\n",
      ".\n"
     ]
    },
    {
     "name": "stderr",
     "output_type": "stream",
     "text": [
      "/home/katscott/Code/ros_metrics_analysis/notebooks/metrics/lib/python3.11/site-packages/lars/apache.py:741: ApacheWarning: Line 11096: Line contains invalid data\n",
      "  warnings.warn(\n",
      "/home/katscott/Code/ros_metrics_analysis/notebooks/metrics/lib/python3.11/site-packages/lars/apache.py:741: ApacheWarning: Line 11333: Line contains invalid data\n",
      "  warnings.warn(\n",
      "/home/katscott/Code/ros_metrics_analysis/notebooks/metrics/lib/python3.11/site-packages/lars/apache.py:741: ApacheWarning: Line 13384: Line contains invalid data\n",
      "  warnings.warn(\n",
      "/home/katscott/Code/ros_metrics_analysis/notebooks/metrics/lib/python3.11/site-packages/lars/apache.py:741: ApacheWarning: Line 13729: Line contains invalid data\n",
      "  warnings.warn(\n",
      "/home/katscott/Code/ros_metrics_analysis/notebooks/metrics/lib/python3.11/site-packages/lars/apache.py:741: ApacheWarning: Line 18670: Line contains invalid data\n",
      "  warnings.warn(\n",
      "/home/katscott/Code/ros_metrics_analysis/notebooks/metrics/lib/python3.11/site-packages/lars/apache.py:741: ApacheWarning: Line 24426: Line contains invalid data\n",
      "  warnings.warn(\n"
     ]
    },
    {
     "name": "stdout",
     "output_type": "stream",
     "text": [
      ".\n",
      ".\n"
     ]
    },
    {
     "name": "stderr",
     "output_type": "stream",
     "text": [
      "/home/katscott/Code/ros_metrics_analysis/notebooks/metrics/lib/python3.11/site-packages/lars/apache.py:741: ApacheWarning: Line 26776: Line contains invalid data\n",
      "  warnings.warn(\n",
      "/home/katscott/Code/ros_metrics_analysis/notebooks/metrics/lib/python3.11/site-packages/lars/apache.py:741: ApacheWarning: Line 27433: Line contains invalid data\n",
      "  warnings.warn(\n",
      "/home/katscott/Code/ros_metrics_analysis/notebooks/metrics/lib/python3.11/site-packages/lars/apache.py:741: ApacheWarning: Line 29809: Line contains invalid data\n",
      "  warnings.warn(\n",
      "/home/katscott/Code/ros_metrics_analysis/notebooks/metrics/lib/python3.11/site-packages/lars/apache.py:741: ApacheWarning: Line 33835: Line contains invalid data\n",
      "  warnings.warn(\n",
      "/home/katscott/Code/ros_metrics_analysis/notebooks/metrics/lib/python3.11/site-packages/lars/apache.py:741: ApacheWarning: Line 39671: Line contains invalid data\n",
      "  warnings.warn(\n",
      "/home/katscott/Code/ros_metrics_analysis/notebooks/metrics/lib/python3.11/site-packages/lars/apache.py:741: ApacheWarning: Line 45117: Line contains invalid data\n",
      "  warnings.warn(\n",
      "/home/katscott/Code/ros_metrics_analysis/notebooks/metrics/lib/python3.11/site-packages/lars/apache.py:741: ApacheWarning: Line 50258: Line contains invalid data\n",
      "  warnings.warn(\n",
      "/home/katscott/Code/ros_metrics_analysis/notebooks/metrics/lib/python3.11/site-packages/lars/apache.py:741: ApacheWarning: Line 50259: Line contains invalid data\n",
      "  warnings.warn(\n"
     ]
    },
    {
     "name": "stdout",
     "output_type": "stream",
     "text": [
      ".\n",
      ".\n",
      ".\n",
      ".\n"
     ]
    },
    {
     "name": "stderr",
     "output_type": "stream",
     "text": [
      "/home/katscott/Code/ros_metrics_analysis/notebooks/metrics/lib/python3.11/site-packages/lars/apache.py:741: ApacheWarning: Line 58698: Line contains invalid data\n",
      "  warnings.warn(\n",
      "/home/katscott/Code/ros_metrics_analysis/notebooks/metrics/lib/python3.11/site-packages/lars/apache.py:741: ApacheWarning: Line 68038: Line contains invalid data\n",
      "  warnings.warn(\n",
      "/home/katscott/Code/ros_metrics_analysis/notebooks/metrics/lib/python3.11/site-packages/lars/apache.py:741: ApacheWarning: Line 80249: Line contains invalid data\n",
      "  warnings.warn(\n",
      "/home/katscott/Code/ros_metrics_analysis/notebooks/metrics/lib/python3.11/site-packages/lars/apache.py:741: ApacheWarning: Line 80301: Line contains invalid data\n",
      "  warnings.warn(\n",
      "/home/katscott/Code/ros_metrics_analysis/notebooks/metrics/lib/python3.11/site-packages/lars/apache.py:741: ApacheWarning: Line 80302: Line contains invalid data\n",
      "  warnings.warn(\n",
      "/home/katscott/Code/ros_metrics_analysis/notebooks/metrics/lib/python3.11/site-packages/lars/apache.py:741: ApacheWarning: Line 80304: Line contains invalid data\n",
      "  warnings.warn(\n",
      "/home/katscott/Code/ros_metrics_analysis/notebooks/metrics/lib/python3.11/site-packages/lars/apache.py:741: ApacheWarning: Line 80305: Line contains invalid data\n",
      "  warnings.warn(\n",
      "/home/katscott/Code/ros_metrics_analysis/notebooks/metrics/lib/python3.11/site-packages/lars/apache.py:741: ApacheWarning: Line 80306: Line contains invalid data\n",
      "  warnings.warn(\n",
      "/home/katscott/Code/ros_metrics_analysis/notebooks/metrics/lib/python3.11/site-packages/lars/apache.py:741: ApacheWarning: Line 80307: Line contains invalid data\n",
      "  warnings.warn(\n",
      "/home/katscott/Code/ros_metrics_analysis/notebooks/metrics/lib/python3.11/site-packages/lars/apache.py:741: ApacheWarning: Line 80308: Line contains invalid data\n",
      "  warnings.warn(\n",
      "/home/katscott/Code/ros_metrics_analysis/notebooks/metrics/lib/python3.11/site-packages/lars/apache.py:741: ApacheWarning: Line 80309: Line contains invalid data\n",
      "  warnings.warn(\n",
      "/home/katscott/Code/ros_metrics_analysis/notebooks/metrics/lib/python3.11/site-packages/lars/apache.py:741: ApacheWarning: Line 80310: Line contains invalid data\n",
      "  warnings.warn(\n",
      "/home/katscott/Code/ros_metrics_analysis/notebooks/metrics/lib/python3.11/site-packages/lars/apache.py:741: ApacheWarning: Line 80311: Line contains invalid data\n",
      "  warnings.warn(\n",
      "/home/katscott/Code/ros_metrics_analysis/notebooks/metrics/lib/python3.11/site-packages/lars/apache.py:741: ApacheWarning: Line 80312: Line contains invalid data\n",
      "  warnings.warn(\n",
      "/home/katscott/Code/ros_metrics_analysis/notebooks/metrics/lib/python3.11/site-packages/lars/apache.py:741: ApacheWarning: Line 80313: Line contains invalid data\n",
      "  warnings.warn(\n",
      "/home/katscott/Code/ros_metrics_analysis/notebooks/metrics/lib/python3.11/site-packages/lars/apache.py:741: ApacheWarning: Line 80314: Line contains invalid data\n",
      "  warnings.warn(\n",
      "/home/katscott/Code/ros_metrics_analysis/notebooks/metrics/lib/python3.11/site-packages/lars/apache.py:741: ApacheWarning: Line 80315: Line contains invalid data\n",
      "  warnings.warn(\n",
      "/home/katscott/Code/ros_metrics_analysis/notebooks/metrics/lib/python3.11/site-packages/lars/apache.py:741: ApacheWarning: Line 80316: Line contains invalid data\n",
      "  warnings.warn(\n",
      "/home/katscott/Code/ros_metrics_analysis/notebooks/metrics/lib/python3.11/site-packages/lars/apache.py:741: ApacheWarning: Line 80317: Line contains invalid data\n",
      "  warnings.warn(\n",
      "/home/katscott/Code/ros_metrics_analysis/notebooks/metrics/lib/python3.11/site-packages/lars/apache.py:741: ApacheWarning: Line 80318: Line contains invalid data\n",
      "  warnings.warn(\n",
      "/home/katscott/Code/ros_metrics_analysis/notebooks/metrics/lib/python3.11/site-packages/lars/apache.py:741: ApacheWarning: Line 80319: Line contains invalid data\n",
      "  warnings.warn(\n",
      "/home/katscott/Code/ros_metrics_analysis/notebooks/metrics/lib/python3.11/site-packages/lars/apache.py:741: ApacheWarning: Line 80320: Line contains invalid data\n",
      "  warnings.warn(\n",
      "/home/katscott/Code/ros_metrics_analysis/notebooks/metrics/lib/python3.11/site-packages/lars/apache.py:741: ApacheWarning: Line 80321: Line contains invalid data\n",
      "  warnings.warn(\n",
      "/home/katscott/Code/ros_metrics_analysis/notebooks/metrics/lib/python3.11/site-packages/lars/apache.py:741: ApacheWarning: Line 80322: Line contains invalid data\n",
      "  warnings.warn(\n",
      "/home/katscott/Code/ros_metrics_analysis/notebooks/metrics/lib/python3.11/site-packages/lars/apache.py:741: ApacheWarning: Line 80323: Line contains invalid data\n",
      "  warnings.warn(\n",
      "/home/katscott/Code/ros_metrics_analysis/notebooks/metrics/lib/python3.11/site-packages/lars/apache.py:741: ApacheWarning: Line 80324: Line contains invalid data\n",
      "  warnings.warn(\n",
      "/home/katscott/Code/ros_metrics_analysis/notebooks/metrics/lib/python3.11/site-packages/lars/apache.py:741: ApacheWarning: Line 80325: Line contains invalid data\n",
      "  warnings.warn(\n",
      "/home/katscott/Code/ros_metrics_analysis/notebooks/metrics/lib/python3.11/site-packages/lars/apache.py:741: ApacheWarning: Line 80326: Line contains invalid data\n",
      "  warnings.warn(\n",
      "/home/katscott/Code/ros_metrics_analysis/notebooks/metrics/lib/python3.11/site-packages/lars/apache.py:741: ApacheWarning: Line 80327: Line contains invalid data\n",
      "  warnings.warn(\n",
      "/home/katscott/Code/ros_metrics_analysis/notebooks/metrics/lib/python3.11/site-packages/lars/apache.py:741: ApacheWarning: Line 80328: Line contains invalid data\n",
      "  warnings.warn(\n",
      "/home/katscott/Code/ros_metrics_analysis/notebooks/metrics/lib/python3.11/site-packages/lars/apache.py:741: ApacheWarning: Line 80329: Line contains invalid data\n",
      "  warnings.warn(\n",
      "/home/katscott/Code/ros_metrics_analysis/notebooks/metrics/lib/python3.11/site-packages/lars/apache.py:741: ApacheWarning: Line 80330: Line contains invalid data\n",
      "  warnings.warn(\n",
      "/home/katscott/Code/ros_metrics_analysis/notebooks/metrics/lib/python3.11/site-packages/lars/apache.py:741: ApacheWarning: Line 80331: Line contains invalid data\n",
      "  warnings.warn(\n",
      "/home/katscott/Code/ros_metrics_analysis/notebooks/metrics/lib/python3.11/site-packages/lars/apache.py:741: ApacheWarning: Line 80332: Line contains invalid data\n",
      "  warnings.warn(\n",
      "/home/katscott/Code/ros_metrics_analysis/notebooks/metrics/lib/python3.11/site-packages/lars/apache.py:741: ApacheWarning: Line 80333: Line contains invalid data\n",
      "  warnings.warn(\n"
     ]
    },
    {
     "name": "stdout",
     "output_type": "stream",
     "text": [
      ".\n",
      ".\n",
      ".\n"
     ]
    },
    {
     "name": "stderr",
     "output_type": "stream",
     "text": [
      "/home/katscott/Code/ros_metrics_analysis/notebooks/metrics/lib/python3.11/site-packages/lars/apache.py:741: ApacheWarning: Line 90544: Line contains invalid data\n",
      "  warnings.warn(\n",
      "/home/katscott/Code/ros_metrics_analysis/notebooks/metrics/lib/python3.11/site-packages/lars/apache.py:741: ApacheWarning: Line 90545: Line contains invalid data\n",
      "  warnings.warn(\n",
      "/home/katscott/Code/ros_metrics_analysis/notebooks/metrics/lib/python3.11/site-packages/lars/apache.py:741: ApacheWarning: Line 106096: Line contains invalid data\n",
      "  warnings.warn(\n",
      "/home/katscott/Code/ros_metrics_analysis/notebooks/metrics/lib/python3.11/site-packages/lars/apache.py:741: ApacheWarning: Line 106131: Line contains invalid data\n",
      "  warnings.warn(\n",
      "/home/katscott/Code/ros_metrics_analysis/notebooks/metrics/lib/python3.11/site-packages/lars/apache.py:741: ApacheWarning: Line 107639: Line contains invalid data\n",
      "  warnings.warn(\n",
      "/home/katscott/Code/ros_metrics_analysis/notebooks/metrics/lib/python3.11/site-packages/lars/apache.py:741: ApacheWarning: Line 107640: Line contains invalid data\n",
      "  warnings.warn(\n",
      "/home/katscott/Code/ros_metrics_analysis/notebooks/metrics/lib/python3.11/site-packages/lars/apache.py:741: ApacheWarning: Line 107641: Line contains invalid data\n",
      "  warnings.warn(\n",
      "/home/katscott/Code/ros_metrics_analysis/notebooks/metrics/lib/python3.11/site-packages/lars/apache.py:741: ApacheWarning: Line 107642: Line contains invalid data\n",
      "  warnings.warn(\n",
      "/home/katscott/Code/ros_metrics_analysis/notebooks/metrics/lib/python3.11/site-packages/lars/apache.py:741: ApacheWarning: Line 107643: Line contains invalid data\n",
      "  warnings.warn(\n",
      "/home/katscott/Code/ros_metrics_analysis/notebooks/metrics/lib/python3.11/site-packages/lars/apache.py:741: ApacheWarning: Line 107644: Line contains invalid data\n",
      "  warnings.warn(\n",
      "/home/katscott/Code/ros_metrics_analysis/notebooks/metrics/lib/python3.11/site-packages/lars/apache.py:741: ApacheWarning: Line 108449: Line contains invalid data\n",
      "  warnings.warn(\n"
     ]
    },
    {
     "name": "stdout",
     "output_type": "stream",
     "text": [
      "./temp/packages-logs/apt-access.log.7\n",
      ".\n"
     ]
    },
    {
     "name": "stderr",
     "output_type": "stream",
     "text": [
      "/home/katscott/Code/ros_metrics_analysis/notebooks/metrics/lib/python3.11/site-packages/lars/apache.py:741: ApacheWarning: Line 5363: Line contains invalid data\n",
      "  warnings.warn(\n",
      "/home/katscott/Code/ros_metrics_analysis/notebooks/metrics/lib/python3.11/site-packages/lars/apache.py:741: ApacheWarning: Line 25145: Line contains invalid data\n",
      "  warnings.warn(\n",
      "/home/katscott/Code/ros_metrics_analysis/notebooks/metrics/lib/python3.11/site-packages/lars/apache.py:741: ApacheWarning: Line 25146: Line contains invalid data\n",
      "  warnings.warn(\n",
      "/home/katscott/Code/ros_metrics_analysis/notebooks/metrics/lib/python3.11/site-packages/lars/apache.py:741: ApacheWarning: Line 25147: Line contains invalid data\n",
      "  warnings.warn(\n",
      "/home/katscott/Code/ros_metrics_analysis/notebooks/metrics/lib/python3.11/site-packages/lars/apache.py:741: ApacheWarning: Line 25148: Line contains invalid data\n",
      "  warnings.warn(\n",
      "/home/katscott/Code/ros_metrics_analysis/notebooks/metrics/lib/python3.11/site-packages/lars/apache.py:741: ApacheWarning: Line 25150: Line contains invalid data\n",
      "  warnings.warn(\n",
      "/home/katscott/Code/ros_metrics_analysis/notebooks/metrics/lib/python3.11/site-packages/lars/apache.py:741: ApacheWarning: Line 25151: Line contains invalid data\n",
      "  warnings.warn(\n",
      "/home/katscott/Code/ros_metrics_analysis/notebooks/metrics/lib/python3.11/site-packages/lars/apache.py:741: ApacheWarning: Line 27632: Line contains invalid data\n",
      "  warnings.warn(\n"
     ]
    },
    {
     "name": "stdout",
     "output_type": "stream",
     "text": [
      ".\n",
      ".\n",
      ".\n",
      ".\n"
     ]
    },
    {
     "name": "stderr",
     "output_type": "stream",
     "text": [
      "/home/katscott/Code/ros_metrics_analysis/notebooks/metrics/lib/python3.11/site-packages/lars/apache.py:741: ApacheWarning: Line 40911: Line contains invalid data\n",
      "  warnings.warn(\n",
      "/home/katscott/Code/ros_metrics_analysis/notebooks/metrics/lib/python3.11/site-packages/lars/apache.py:741: ApacheWarning: Line 43565: Line contains invalid data\n",
      "  warnings.warn(\n",
      "/home/katscott/Code/ros_metrics_analysis/notebooks/metrics/lib/python3.11/site-packages/lars/apache.py:741: ApacheWarning: Line 43566: Line contains invalid data\n",
      "  warnings.warn(\n",
      "/home/katscott/Code/ros_metrics_analysis/notebooks/metrics/lib/python3.11/site-packages/lars/apache.py:741: ApacheWarning: Line 50165: Line contains invalid data\n",
      "  warnings.warn(\n",
      "/home/katscott/Code/ros_metrics_analysis/notebooks/metrics/lib/python3.11/site-packages/lars/apache.py:741: ApacheWarning: Line 56663: Line contains invalid data\n",
      "  warnings.warn(\n",
      "/home/katscott/Code/ros_metrics_analysis/notebooks/metrics/lib/python3.11/site-packages/lars/apache.py:741: ApacheWarning: Line 56665: Line contains invalid data\n",
      "  warnings.warn(\n"
     ]
    },
    {
     "name": "stdout",
     "output_type": "stream",
     "text": [
      ".\n",
      ".\n",
      ".\n",
      ".\n",
      ".\n"
     ]
    },
    {
     "name": "stderr",
     "output_type": "stream",
     "text": [
      "/home/katscott/Code/ros_metrics_analysis/notebooks/metrics/lib/python3.11/site-packages/lars/apache.py:741: ApacheWarning: Line 81275: Line contains invalid data\n",
      "  warnings.warn(\n",
      "/home/katscott/Code/ros_metrics_analysis/notebooks/metrics/lib/python3.11/site-packages/lars/apache.py:741: ApacheWarning: Line 81290: Line contains invalid data\n",
      "  warnings.warn(\n",
      "/home/katscott/Code/ros_metrics_analysis/notebooks/metrics/lib/python3.11/site-packages/lars/apache.py:741: ApacheWarning: Line 81303: Line contains invalid data\n",
      "  warnings.warn(\n",
      "/home/katscott/Code/ros_metrics_analysis/notebooks/metrics/lib/python3.11/site-packages/lars/apache.py:741: ApacheWarning: Line 81306: Line contains invalid data\n",
      "  warnings.warn(\n",
      "/home/katscott/Code/ros_metrics_analysis/notebooks/metrics/lib/python3.11/site-packages/lars/apache.py:741: ApacheWarning: Line 81310: Line contains invalid data\n",
      "  warnings.warn(\n",
      "/home/katscott/Code/ros_metrics_analysis/notebooks/metrics/lib/python3.11/site-packages/lars/apache.py:741: ApacheWarning: Line 81312: Line contains invalid data\n",
      "  warnings.warn(\n",
      "/home/katscott/Code/ros_metrics_analysis/notebooks/metrics/lib/python3.11/site-packages/lars/apache.py:741: ApacheWarning: Line 81314: Line contains invalid data\n",
      "  warnings.warn(\n",
      "/home/katscott/Code/ros_metrics_analysis/notebooks/metrics/lib/python3.11/site-packages/lars/apache.py:741: ApacheWarning: Line 81317: Line contains invalid data\n",
      "  warnings.warn(\n",
      "/home/katscott/Code/ros_metrics_analysis/notebooks/metrics/lib/python3.11/site-packages/lars/apache.py:741: ApacheWarning: Line 81319: Line contains invalid data\n",
      "  warnings.warn(\n",
      "/home/katscott/Code/ros_metrics_analysis/notebooks/metrics/lib/python3.11/site-packages/lars/apache.py:741: ApacheWarning: Line 81321: Line contains invalid data\n",
      "  warnings.warn(\n",
      "/home/katscott/Code/ros_metrics_analysis/notebooks/metrics/lib/python3.11/site-packages/lars/apache.py:741: ApacheWarning: Line 81330: Line contains invalid data\n",
      "  warnings.warn(\n",
      "/home/katscott/Code/ros_metrics_analysis/notebooks/metrics/lib/python3.11/site-packages/lars/apache.py:741: ApacheWarning: Line 81460: Line contains invalid data\n",
      "  warnings.warn(\n",
      "/home/katscott/Code/ros_metrics_analysis/notebooks/metrics/lib/python3.11/site-packages/lars/apache.py:741: ApacheWarning: Line 81473: Line contains invalid data\n",
      "  warnings.warn(\n",
      "/home/katscott/Code/ros_metrics_analysis/notebooks/metrics/lib/python3.11/site-packages/lars/apache.py:741: ApacheWarning: Line 81475: Line contains invalid data\n",
      "  warnings.warn(\n",
      "/home/katscott/Code/ros_metrics_analysis/notebooks/metrics/lib/python3.11/site-packages/lars/apache.py:741: ApacheWarning: Line 81478: Line contains invalid data\n",
      "  warnings.warn(\n",
      "/home/katscott/Code/ros_metrics_analysis/notebooks/metrics/lib/python3.11/site-packages/lars/apache.py:741: ApacheWarning: Line 81494: Line contains invalid data\n",
      "  warnings.warn(\n",
      "/home/katscott/Code/ros_metrics_analysis/notebooks/metrics/lib/python3.11/site-packages/lars/apache.py:741: ApacheWarning: Line 81497: Line contains invalid data\n",
      "  warnings.warn(\n",
      "/home/katscott/Code/ros_metrics_analysis/notebooks/metrics/lib/python3.11/site-packages/lars/apache.py:741: ApacheWarning: Line 81498: Line contains invalid data\n",
      "  warnings.warn(\n",
      "/home/katscott/Code/ros_metrics_analysis/notebooks/metrics/lib/python3.11/site-packages/lars/apache.py:741: ApacheWarning: Line 81500: Line contains invalid data\n",
      "  warnings.warn(\n",
      "/home/katscott/Code/ros_metrics_analysis/notebooks/metrics/lib/python3.11/site-packages/lars/apache.py:741: ApacheWarning: Line 81502: Line contains invalid data\n",
      "  warnings.warn(\n",
      "/home/katscott/Code/ros_metrics_analysis/notebooks/metrics/lib/python3.11/site-packages/lars/apache.py:741: ApacheWarning: Line 81504: Line contains invalid data\n",
      "  warnings.warn(\n",
      "/home/katscott/Code/ros_metrics_analysis/notebooks/metrics/lib/python3.11/site-packages/lars/apache.py:741: ApacheWarning: Line 81507: Line contains invalid data\n",
      "  warnings.warn(\n",
      "/home/katscott/Code/ros_metrics_analysis/notebooks/metrics/lib/python3.11/site-packages/lars/apache.py:741: ApacheWarning: Line 81510: Line contains invalid data\n",
      "  warnings.warn(\n",
      "/home/katscott/Code/ros_metrics_analysis/notebooks/metrics/lib/python3.11/site-packages/lars/apache.py:741: ApacheWarning: Line 81514: Line contains invalid data\n",
      "  warnings.warn(\n",
      "/home/katscott/Code/ros_metrics_analysis/notebooks/metrics/lib/python3.11/site-packages/lars/apache.py:741: ApacheWarning: Line 81525: Line contains invalid data\n",
      "  warnings.warn(\n",
      "/home/katscott/Code/ros_metrics_analysis/notebooks/metrics/lib/python3.11/site-packages/lars/apache.py:741: ApacheWarning: Line 81603: Line contains invalid data\n",
      "  warnings.warn(\n",
      "/home/katscott/Code/ros_metrics_analysis/notebooks/metrics/lib/python3.11/site-packages/lars/apache.py:741: ApacheWarning: Line 81670: Line contains invalid data\n",
      "  warnings.warn(\n",
      "/home/katscott/Code/ros_metrics_analysis/notebooks/metrics/lib/python3.11/site-packages/lars/apache.py:741: ApacheWarning: Line 81714: Line contains invalid data\n",
      "  warnings.warn(\n",
      "/home/katscott/Code/ros_metrics_analysis/notebooks/metrics/lib/python3.11/site-packages/lars/apache.py:741: ApacheWarning: Line 81715: Line contains invalid data\n",
      "  warnings.warn(\n",
      "/home/katscott/Code/ros_metrics_analysis/notebooks/metrics/lib/python3.11/site-packages/lars/apache.py:741: ApacheWarning: Line 81721: Line contains invalid data\n",
      "  warnings.warn(\n",
      "/home/katscott/Code/ros_metrics_analysis/notebooks/metrics/lib/python3.11/site-packages/lars/apache.py:741: ApacheWarning: Line 81886: Line contains invalid data\n",
      "  warnings.warn(\n",
      "/home/katscott/Code/ros_metrics_analysis/notebooks/metrics/lib/python3.11/site-packages/lars/apache.py:741: ApacheWarning: Line 81890: Line contains invalid data\n",
      "  warnings.warn(\n",
      "/home/katscott/Code/ros_metrics_analysis/notebooks/metrics/lib/python3.11/site-packages/lars/apache.py:741: ApacheWarning: Line 81987: Line contains invalid data\n",
      "  warnings.warn(\n",
      "/home/katscott/Code/ros_metrics_analysis/notebooks/metrics/lib/python3.11/site-packages/lars/apache.py:741: ApacheWarning: Line 81999: Line contains invalid data\n",
      "  warnings.warn(\n",
      "/home/katscott/Code/ros_metrics_analysis/notebooks/metrics/lib/python3.11/site-packages/lars/apache.py:741: ApacheWarning: Line 82004: Line contains invalid data\n",
      "  warnings.warn(\n",
      "/home/katscott/Code/ros_metrics_analysis/notebooks/metrics/lib/python3.11/site-packages/lars/apache.py:741: ApacheWarning: Line 82014: Line contains invalid data\n",
      "  warnings.warn(\n",
      "/home/katscott/Code/ros_metrics_analysis/notebooks/metrics/lib/python3.11/site-packages/lars/apache.py:741: ApacheWarning: Line 82017: Line contains invalid data\n",
      "  warnings.warn(\n",
      "/home/katscott/Code/ros_metrics_analysis/notebooks/metrics/lib/python3.11/site-packages/lars/apache.py:741: ApacheWarning: Line 82025: Line contains invalid data\n",
      "  warnings.warn(\n",
      "/home/katscott/Code/ros_metrics_analysis/notebooks/metrics/lib/python3.11/site-packages/lars/apache.py:741: ApacheWarning: Line 82058: Line contains invalid data\n",
      "  warnings.warn(\n",
      "/home/katscott/Code/ros_metrics_analysis/notebooks/metrics/lib/python3.11/site-packages/lars/apache.py:741: ApacheWarning: Line 82074: Line contains invalid data\n",
      "  warnings.warn(\n",
      "/home/katscott/Code/ros_metrics_analysis/notebooks/metrics/lib/python3.11/site-packages/lars/apache.py:741: ApacheWarning: Line 82081: Line contains invalid data\n",
      "  warnings.warn(\n",
      "/home/katscott/Code/ros_metrics_analysis/notebooks/metrics/lib/python3.11/site-packages/lars/apache.py:741: ApacheWarning: Line 82086: Line contains invalid data\n",
      "  warnings.warn(\n",
      "/home/katscott/Code/ros_metrics_analysis/notebooks/metrics/lib/python3.11/site-packages/lars/apache.py:741: ApacheWarning: Line 82100: Line contains invalid data\n",
      "  warnings.warn(\n",
      "/home/katscott/Code/ros_metrics_analysis/notebooks/metrics/lib/python3.11/site-packages/lars/apache.py:741: ApacheWarning: Line 82163: Line contains invalid data\n",
      "  warnings.warn(\n",
      "/home/katscott/Code/ros_metrics_analysis/notebooks/metrics/lib/python3.11/site-packages/lars/apache.py:741: ApacheWarning: Line 82170: Line contains invalid data\n",
      "  warnings.warn(\n",
      "/home/katscott/Code/ros_metrics_analysis/notebooks/metrics/lib/python3.11/site-packages/lars/apache.py:741: ApacheWarning: Line 82173: Line contains invalid data\n",
      "  warnings.warn(\n",
      "/home/katscott/Code/ros_metrics_analysis/notebooks/metrics/lib/python3.11/site-packages/lars/apache.py:741: ApacheWarning: Line 82235: Line contains invalid data\n",
      "  warnings.warn(\n",
      "/home/katscott/Code/ros_metrics_analysis/notebooks/metrics/lib/python3.11/site-packages/lars/apache.py:741: ApacheWarning: Line 82244: Line contains invalid data\n",
      "  warnings.warn(\n",
      "/home/katscott/Code/ros_metrics_analysis/notebooks/metrics/lib/python3.11/site-packages/lars/apache.py:741: ApacheWarning: Line 86244: Line contains invalid data\n",
      "  warnings.warn(\n",
      "/home/katscott/Code/ros_metrics_analysis/notebooks/metrics/lib/python3.11/site-packages/lars/apache.py:741: ApacheWarning: Line 86245: Line contains invalid data\n",
      "  warnings.warn(\n",
      "/home/katscott/Code/ros_metrics_analysis/notebooks/metrics/lib/python3.11/site-packages/lars/apache.py:741: ApacheWarning: Line 86247: Line contains invalid data\n",
      "  warnings.warn(\n",
      "/home/katscott/Code/ros_metrics_analysis/notebooks/metrics/lib/python3.11/site-packages/lars/apache.py:741: ApacheWarning: Line 86257: Line contains invalid data\n",
      "  warnings.warn(\n",
      "/home/katscott/Code/ros_metrics_analysis/notebooks/metrics/lib/python3.11/site-packages/lars/apache.py:741: ApacheWarning: Line 88031: Line contains invalid data\n",
      "  warnings.warn(\n",
      "/home/katscott/Code/ros_metrics_analysis/notebooks/metrics/lib/python3.11/site-packages/lars/apache.py:741: ApacheWarning: Line 88114: Line contains invalid data\n",
      "  warnings.warn(\n",
      "/home/katscott/Code/ros_metrics_analysis/notebooks/metrics/lib/python3.11/site-packages/lars/apache.py:741: ApacheWarning: Line 102911: Line contains invalid data\n",
      "  warnings.warn(\n",
      "/home/katscott/Code/ros_metrics_analysis/notebooks/metrics/lib/python3.11/site-packages/lars/apache.py:741: ApacheWarning: Line 103445: Line contains invalid data\n",
      "  warnings.warn(\n",
      "/home/katscott/Code/ros_metrics_analysis/notebooks/metrics/lib/python3.11/site-packages/lars/apache.py:741: ApacheWarning: Line 111058: Line contains invalid data\n",
      "  warnings.warn(\n"
     ]
    },
    {
     "name": "stdout",
     "output_type": "stream",
     "text": [
      ".\n",
      ".\n",
      "./temp/packages-logs/apt-access.log.8\n"
     ]
    },
    {
     "name": "stderr",
     "output_type": "stream",
     "text": [
      "/home/katscott/Code/ros_metrics_analysis/notebooks/metrics/lib/python3.11/site-packages/lars/apache.py:741: ApacheWarning: Line 116094: Line contains invalid data\n",
      "  warnings.warn(\n",
      "/home/katscott/Code/ros_metrics_analysis/notebooks/metrics/lib/python3.11/site-packages/lars/apache.py:741: ApacheWarning: Line 119514: Line contains invalid data\n",
      "  warnings.warn(\n",
      "/home/katscott/Code/ros_metrics_analysis/notebooks/metrics/lib/python3.11/site-packages/lars/apache.py:741: ApacheWarning: Line 119515: Line contains invalid data\n",
      "  warnings.warn(\n",
      "/home/katscott/Code/ros_metrics_analysis/notebooks/metrics/lib/python3.11/site-packages/lars/apache.py:741: ApacheWarning: Line 5372: Line contains invalid data\n",
      "  warnings.warn(\n",
      "/home/katscott/Code/ros_metrics_analysis/notebooks/metrics/lib/python3.11/site-packages/lars/apache.py:741: ApacheWarning: Line 14375: Line contains invalid data\n",
      "  warnings.warn(\n",
      "/home/katscott/Code/ros_metrics_analysis/notebooks/metrics/lib/python3.11/site-packages/lars/apache.py:741: ApacheWarning: Line 15992: Line contains invalid data\n",
      "  warnings.warn(\n"
     ]
    },
    {
     "name": "stdout",
     "output_type": "stream",
     "text": [
      ".\n",
      ".\n",
      ".\n",
      ".\n",
      ".\n"
     ]
    },
    {
     "name": "stderr",
     "output_type": "stream",
     "text": [
      "/home/katscott/Code/ros_metrics_analysis/notebooks/metrics/lib/python3.11/site-packages/lars/apache.py:741: ApacheWarning: Line 32206: Line contains invalid data\n",
      "  warnings.warn(\n",
      "/home/katscott/Code/ros_metrics_analysis/notebooks/metrics/lib/python3.11/site-packages/lars/apache.py:741: ApacheWarning: Line 32207: Line contains invalid data\n",
      "  warnings.warn(\n",
      "/home/katscott/Code/ros_metrics_analysis/notebooks/metrics/lib/python3.11/site-packages/lars/apache.py:741: ApacheWarning: Line 42744: Line contains invalid data\n",
      "  warnings.warn(\n",
      "/home/katscott/Code/ros_metrics_analysis/notebooks/metrics/lib/python3.11/site-packages/lars/apache.py:741: ApacheWarning: Line 43943: Line contains invalid data\n",
      "  warnings.warn(\n",
      "/home/katscott/Code/ros_metrics_analysis/notebooks/metrics/lib/python3.11/site-packages/lars/apache.py:741: ApacheWarning: Line 46296: Line contains invalid data\n",
      "  warnings.warn(\n",
      "/home/katscott/Code/ros_metrics_analysis/notebooks/metrics/lib/python3.11/site-packages/lars/apache.py:741: ApacheWarning: Line 56166: Line contains invalid data\n",
      "  warnings.warn(\n"
     ]
    },
    {
     "name": "stdout",
     "output_type": "stream",
     "text": [
      ".\n",
      ".\n",
      ".\n",
      ".\n"
     ]
    },
    {
     "name": "stderr",
     "output_type": "stream",
     "text": [
      "/home/katscott/Code/ros_metrics_analysis/notebooks/metrics/lib/python3.11/site-packages/lars/apache.py:741: ApacheWarning: Line 81454: Line contains invalid data\n",
      "  warnings.warn(\n",
      "/home/katscott/Code/ros_metrics_analysis/notebooks/metrics/lib/python3.11/site-packages/lars/apache.py:741: ApacheWarning: Line 86232: Line contains invalid data\n",
      "  warnings.warn(\n",
      "/home/katscott/Code/ros_metrics_analysis/notebooks/metrics/lib/python3.11/site-packages/lars/apache.py:741: ApacheWarning: Line 86233: Line contains invalid data\n",
      "  warnings.warn(\n",
      "/home/katscott/Code/ros_metrics_analysis/notebooks/metrics/lib/python3.11/site-packages/lars/apache.py:741: ApacheWarning: Line 86235: Line contains invalid data\n",
      "  warnings.warn(\n",
      "/home/katscott/Code/ros_metrics_analysis/notebooks/metrics/lib/python3.11/site-packages/lars/apache.py:741: ApacheWarning: Line 87529: Line contains invalid data\n",
      "  warnings.warn(\n",
      "/home/katscott/Code/ros_metrics_analysis/notebooks/metrics/lib/python3.11/site-packages/lars/apache.py:741: ApacheWarning: Line 87530: Line contains invalid data\n",
      "  warnings.warn(\n",
      "/home/katscott/Code/ros_metrics_analysis/notebooks/metrics/lib/python3.11/site-packages/lars/apache.py:741: ApacheWarning: Line 92027: Line contains invalid data\n",
      "  warnings.warn(\n",
      "/home/katscott/Code/ros_metrics_analysis/notebooks/metrics/lib/python3.11/site-packages/lars/apache.py:741: ApacheWarning: Line 92122: Line contains invalid data\n",
      "  warnings.warn(\n",
      "/home/katscott/Code/ros_metrics_analysis/notebooks/metrics/lib/python3.11/site-packages/lars/apache.py:741: ApacheWarning: Line 96146: Line contains invalid data\n",
      "  warnings.warn(\n",
      "/home/katscott/Code/ros_metrics_analysis/notebooks/metrics/lib/python3.11/site-packages/lars/apache.py:741: ApacheWarning: Line 97354: Line contains invalid data\n",
      "  warnings.warn(\n",
      "/home/katscott/Code/ros_metrics_analysis/notebooks/metrics/lib/python3.11/site-packages/lars/apache.py:741: ApacheWarning: Line 97355: Line contains invalid data\n",
      "  warnings.warn(\n",
      "/home/katscott/Code/ros_metrics_analysis/notebooks/metrics/lib/python3.11/site-packages/lars/apache.py:741: ApacheWarning: Line 98141: Line contains invalid data\n",
      "  warnings.warn(\n",
      "/home/katscott/Code/ros_metrics_analysis/notebooks/metrics/lib/python3.11/site-packages/lars/apache.py:741: ApacheWarning: Line 98450: Line contains invalid data\n",
      "  warnings.warn(\n",
      "/home/katscott/Code/ros_metrics_analysis/notebooks/metrics/lib/python3.11/site-packages/lars/apache.py:741: ApacheWarning: Line 98452: Line contains invalid data\n",
      "  warnings.warn(\n",
      "/home/katscott/Code/ros_metrics_analysis/notebooks/metrics/lib/python3.11/site-packages/lars/apache.py:741: ApacheWarning: Line 98453: Line contains invalid data\n",
      "  warnings.warn(\n",
      "/home/katscott/Code/ros_metrics_analysis/notebooks/metrics/lib/python3.11/site-packages/lars/apache.py:741: ApacheWarning: Line 98454: Line contains invalid data\n",
      "  warnings.warn(\n",
      "/home/katscott/Code/ros_metrics_analysis/notebooks/metrics/lib/python3.11/site-packages/lars/apache.py:741: ApacheWarning: Line 98456: Line contains invalid data\n",
      "  warnings.warn(\n",
      "/home/katscott/Code/ros_metrics_analysis/notebooks/metrics/lib/python3.11/site-packages/lars/apache.py:741: ApacheWarning: Line 98567: Line contains invalid data\n",
      "  warnings.warn(\n",
      "/home/katscott/Code/ros_metrics_analysis/notebooks/metrics/lib/python3.11/site-packages/lars/apache.py:741: ApacheWarning: Line 98799: Line contains invalid data\n",
      "  warnings.warn(\n",
      "/home/katscott/Code/ros_metrics_analysis/notebooks/metrics/lib/python3.11/site-packages/lars/apache.py:741: ApacheWarning: Line 101088: Line contains invalid data\n",
      "  warnings.warn(\n"
     ]
    },
    {
     "name": "stdout",
     "output_type": "stream",
     "text": [
      ".\n",
      "./temp/packages-logs/apt-access.log.9\n"
     ]
    },
    {
     "name": "stderr",
     "output_type": "stream",
     "text": [
      "/home/katscott/Code/ros_metrics_analysis/notebooks/metrics/lib/python3.11/site-packages/lars/apache.py:741: ApacheWarning: Line 296: Line contains invalid data\n",
      "  warnings.warn(\n",
      "/home/katscott/Code/ros_metrics_analysis/notebooks/metrics/lib/python3.11/site-packages/lars/apache.py:741: ApacheWarning: Line 1640: Line contains invalid data\n",
      "  warnings.warn(\n",
      "/home/katscott/Code/ros_metrics_analysis/notebooks/metrics/lib/python3.11/site-packages/lars/apache.py:741: ApacheWarning: Line 1641: Line contains invalid data\n",
      "  warnings.warn(\n",
      "/home/katscott/Code/ros_metrics_analysis/notebooks/metrics/lib/python3.11/site-packages/lars/apache.py:741: ApacheWarning: Line 12646: Line contains invalid data\n",
      "  warnings.warn(\n"
     ]
    },
    {
     "name": "stdout",
     "output_type": "stream",
     "text": [
      ".\n",
      ".\n",
      ".\n"
     ]
    },
    {
     "name": "stderr",
     "output_type": "stream",
     "text": [
      "/home/katscott/Code/ros_metrics_analysis/notebooks/metrics/lib/python3.11/site-packages/lars/apache.py:741: ApacheWarning: Line 25908: Line contains invalid data\n",
      "  warnings.warn(\n",
      "/home/katscott/Code/ros_metrics_analysis/notebooks/metrics/lib/python3.11/site-packages/lars/apache.py:741: ApacheWarning: Line 25909: Line contains invalid data\n",
      "  warnings.warn(\n",
      "/home/katscott/Code/ros_metrics_analysis/notebooks/metrics/lib/python3.11/site-packages/lars/apache.py:741: ApacheWarning: Line 27624: Line contains invalid data\n",
      "  warnings.warn(\n",
      "/home/katscott/Code/ros_metrics_analysis/notebooks/metrics/lib/python3.11/site-packages/lars/apache.py:741: ApacheWarning: Line 27837: Line contains invalid data\n",
      "  warnings.warn(\n",
      "/home/katscott/Code/ros_metrics_analysis/notebooks/metrics/lib/python3.11/site-packages/lars/apache.py:741: ApacheWarning: Line 29732: Line contains invalid data\n",
      "  warnings.warn(\n",
      "/home/katscott/Code/ros_metrics_analysis/notebooks/metrics/lib/python3.11/site-packages/lars/apache.py:741: ApacheWarning: Line 39189: Line contains invalid data\n",
      "  warnings.warn(\n",
      "/home/katscott/Code/ros_metrics_analysis/notebooks/metrics/lib/python3.11/site-packages/lars/apache.py:741: ApacheWarning: Line 41402: Line contains invalid data\n",
      "  warnings.warn(\n",
      "/home/katscott/Code/ros_metrics_analysis/notebooks/metrics/lib/python3.11/site-packages/lars/apache.py:741: ApacheWarning: Line 46075: Line contains invalid data\n",
      "  warnings.warn(\n",
      "/home/katscott/Code/ros_metrics_analysis/notebooks/metrics/lib/python3.11/site-packages/lars/apache.py:741: ApacheWarning: Line 49188: Line contains invalid data\n",
      "  warnings.warn(\n",
      "/home/katscott/Code/ros_metrics_analysis/notebooks/metrics/lib/python3.11/site-packages/lars/apache.py:741: ApacheWarning: Line 50193: Line contains invalid data\n",
      "  warnings.warn(\n",
      "/home/katscott/Code/ros_metrics_analysis/notebooks/metrics/lib/python3.11/site-packages/lars/apache.py:741: ApacheWarning: Line 50194: Line contains invalid data\n",
      "  warnings.warn(\n"
     ]
    },
    {
     "name": "stdout",
     "output_type": "stream",
     "text": [
      ".\n",
      ".\n"
     ]
    },
    {
     "name": "stderr",
     "output_type": "stream",
     "text": [
      "/home/katscott/Code/ros_metrics_analysis/notebooks/metrics/lib/python3.11/site-packages/lars/apache.py:741: ApacheWarning: Line 53444: Line contains invalid data\n",
      "  warnings.warn(\n",
      "/home/katscott/Code/ros_metrics_analysis/notebooks/metrics/lib/python3.11/site-packages/lars/apache.py:741: ApacheWarning: Line 53735: Line contains invalid data\n",
      "  warnings.warn(\n",
      "/home/katscott/Code/ros_metrics_analysis/notebooks/metrics/lib/python3.11/site-packages/lars/apache.py:741: ApacheWarning: Line 53736: Line contains invalid data\n",
      "  warnings.warn(\n",
      "/home/katscott/Code/ros_metrics_analysis/notebooks/metrics/lib/python3.11/site-packages/lars/apache.py:741: ApacheWarning: Line 53737: Line contains invalid data\n",
      "  warnings.warn(\n",
      "/home/katscott/Code/ros_metrics_analysis/notebooks/metrics/lib/python3.11/site-packages/lars/apache.py:741: ApacheWarning: Line 53738: Line contains invalid data\n",
      "  warnings.warn(\n",
      "/home/katscott/Code/ros_metrics_analysis/notebooks/metrics/lib/python3.11/site-packages/lars/apache.py:741: ApacheWarning: Line 53739: Line contains invalid data\n",
      "  warnings.warn(\n",
      "/home/katscott/Code/ros_metrics_analysis/notebooks/metrics/lib/python3.11/site-packages/lars/apache.py:741: ApacheWarning: Line 53760: Line contains invalid data\n",
      "  warnings.warn(\n",
      "/home/katscott/Code/ros_metrics_analysis/notebooks/metrics/lib/python3.11/site-packages/lars/apache.py:741: ApacheWarning: Line 54381: Line contains invalid data\n",
      "  warnings.warn(\n",
      "/home/katscott/Code/ros_metrics_analysis/notebooks/metrics/lib/python3.11/site-packages/lars/apache.py:741: ApacheWarning: Line 56973: Line contains invalid data\n",
      "  warnings.warn(\n",
      "/home/katscott/Code/ros_metrics_analysis/notebooks/metrics/lib/python3.11/site-packages/lars/apache.py:741: ApacheWarning: Line 61278: Line contains invalid data\n",
      "  warnings.warn(\n",
      "/home/katscott/Code/ros_metrics_analysis/notebooks/metrics/lib/python3.11/site-packages/lars/apache.py:741: ApacheWarning: Line 63111: Line contains invalid data\n",
      "  warnings.warn(\n"
     ]
    },
    {
     "name": "stdout",
     "output_type": "stream",
     "text": [
      ".\n",
      "Processed 795304 requests in 52 files.\n"
     ]
    }
   ],
   "source": [
    "rows = []\n",
    "# Set start and end dates \n",
    "start_time = datetime.datetime(2023,11,1,0,0) \n",
    "end_time = datetime.datetime(2023,12,1,0,0)\n",
    "# Get all the files in the log directory\n",
    "logs = sorted(glob.glob('./temp/packages-logs/apt-access.log.*'))\n",
    "# Heads up, there may be a few warnings. The script takes a minute, and spits out a \".\" every 10k lines\n",
    "for log in logs:\n",
    "    i = 0 \n",
    "    print(log)\n",
    "    with io.open(log, 'r') as infile:\n",
    "        with apache.ApacheSource(infile) as source:\n",
    "            for row in source:\n",
    "                i+=1\n",
    "                # if status == ok and within time bounds\n",
    "                if row.status == 200 and date_check(row.time,start_time,end_time):\n",
    "                    rows.append(row)\n",
    "                if i%10000==0:\n",
    "                    print(\".\")\n",
    "print(\"Processed {0} requests in {1} files.\".format(len(rows),len(logs)))\n",
    "# For each processed row, pull out the requested URL path, and count the total number\n",
    "results = Counter([row.request.url.path_str for row in rows])                    \n",
    "# Drop the resulting counter into a data frame\n",
    "df = pd.DataFrame.from_dict(results, orient='index').reset_index()\n",
    "# Set Columns\n",
    "df = df.set_axis([\"path\",\"count\"], axis=1)\n",
    "# Save the results to a CSV file\n",
    "df\n",
    "df.to_csv(\"gazebo_logs_output.csv\")release_file = \"gz_release_to_pkg.csv\"\n",
    "release_df = pd.read_csv(release_file)\n",
    "pkg2release = {}\n",
    "for idx,row in release_df.iter_rows():\n",
    "    pkg = row[\"package\"]\n",
    "    pkg2release[pkg] = row[\"release\"]"
   ]
  },
  {
   "cell_type": "code",
   "execution_count": 146,
   "id": "ec014193",
   "metadata": {},
   "outputs": [],
   "source": [
    "# Load a file that maps pkg names to releases\n",
    "# Turn that file into a dict so we can use it\n",
    "release_file = \"gz_release_to_pkg.csv\"\n",
    "release_df = pd.read_csv(release_file)\n",
    "release_df\n",
    "\n",
    "pkg2release = {}\n",
    "temp_list = []\n",
    "for idx,row in release_df.iterrows():\n",
    "    pkg = row[\"package\"].strip()\n",
    "    if pkg[0:3] == \"lib\": # fix a little bug with names that start with lib\n",
    "        pkg = pkg[3:]\n",
    "    temp_list.append(pkg)\n",
    "    pkg2release[pkg] = row[\"release\"]\n",
    "\n",
    "# Many libaries map to multiple releases, in that case assign to multiple \n",
    "# releases \n",
    "ct = Counter(temp_list)\n",
    "for c in ct.most_common():\n",
    "    if c[1] > 1:\n",
    "        pkg2release[c[0]]=\"multiple\"\n",
    "        "
   ]
  },
  {
   "cell_type": "code",
   "execution_count": 152,
   "id": "4d98fafe",
   "metadata": {},
   "outputs": [
    {
     "name": "stdout",
     "output_type": "stream",
     "text": [
      "Processed 33689 out of 33691\n",
      "/gazebo.key\n",
      "/gazebo/ubuntu-stable/dists/bionic/InRelease\n",
      "/gazebo/ubuntu-stable/dists/focal/InRelease\n",
      "/gazebo/ubuntu-stable/dists/xenial/InRelease\n",
      "/gazebo/ubuntu-stable/dists/jammy/InRelease\n",
      "/gazebo/ubuntu-nightly/dists/focal/InRelease\n",
      "/gazebo.gpg\n",
      "/gazebo/ubuntu/dists/focal/InRelease\n",
      "/gazebo/ubuntu/dists/bionic/InRelease\n",
      "/gazebo/ubuntu-nightly/dists/jammy/InRelease\n",
      "/gazebo/ubuntu/dists/xenial/InRelease\n",
      "/gazebo/debian-stable/dists/buster/InRelease\n",
      "/gazebo/ubuntu-stable/dists/trusty/InRelease\n",
      "/gazebo/ubuntu/dists/jammy/InRelease\n",
      "/gazebo/ubuntu-prerelease/dists/jammy/Release.gpg\n",
      "/gazebo/ubuntu-prerelease/dists/focal/InRelease\n",
      "/gazebo/ubuntu-stable/lists/localreadd_utopic_InRelease\n",
      "/gazebo/ubuntu/dists/precise/InRelease\n",
      "/gazebo/ubuntu-prerelease/dists/jammy/InRelease\n",
      "/gazebo/ubuntu/dists/yakkety/Release.gpg\n",
      "/gazebo/ubuntu-stable/dists/focal/Release.gpg\n",
      "/gazebo/ubuntu-nightly/dists/bionic/InRelease\n",
      "/gazebo/ubuntu/dists/trusty/InRelease\n",
      "/gazebo/ubuntu/dists/precise/Release.gpg\n",
      "/gazebo/ubuntu-prerelease/lists/packages%255Fofficial_utopic_InRelease\n",
      "/gazebo/ubuntu-prerelease/dists/trusty/InRelease\n",
      "/gazebo/ubuntu/lists/localreadd_artful_InRelease\n",
      "/gazebo/ubuntu/lists/localreadd_bionic_InRelease\n",
      "/gazebo/ubuntu/lists/localreadd_cosmic_InRelease\n",
      "/gazebo/ubuntu/lists/localreadd_precise_InRelease\n",
      "/gazebo/ubuntu/lists/localreadd_quantal_InRelease\n",
      "/gazebo/ubuntu/lists/localreadd_raring_InRelease\n",
      "/gazebo/ubuntu/lists/localreadd_saucy_InRelease\n",
      "/gazebo/ubuntu/lists/localreadd_trusty_InRelease\n",
      "/gazebo/ubuntu/lists/localreadd_utopic_InRelease\n",
      "/gazebo/ubuntu/lists/localreadd_vivid_InRelease\n",
      "/gazebo/ubuntu/lists/localreadd_wily_InRelease\n",
      "/gazebo/ubuntu/lists/localreadd_xenial_InRelease\n",
      "/gazebo/ubuntu/lists/localreadd_yakkety_InRelease\n",
      "/gazebo/ubuntu/lists/localreadd_zesty_InRelease\n",
      "/gazebo/ubuntu/lists/packages%255Fofficial_bionic_InRelease\n",
      "/gazebo/ubuntu-stable/dists/bionic/Release.gpg\n",
      "/gazebo/debian-stable/lists/packages%255Fofficial_stretch_InRelease\n",
      "/gazebo/ubuntu-stable/dists/zesty/InRelease\n",
      "/gazebo/ubuntu/dists/raring/Release.gpg\n",
      "/gazebo/ubuntu-stable/dists/raring/Release.gpg\n",
      "/gazebo/ubuntu-stable/lists/localreadd_yakkety_InRelease\n",
      "/gazebo/ubuntu-stable/dists/yakkety/InRelease\n",
      "/gazebo/debian-stable/dists/sid/Release.gpg\n",
      "/gazebo/debian-prerelease/dists/buster/InRelease\n",
      "/gazebo/debian-prerelease/dists/buster/Release.gpg\n",
      "/gazebo/debian-prerelease/dists/jessie/InRelease\n",
      "/gazebo/debian-prerelease/dists/jessie/Release.gpg\n",
      "/gazebo/debian-prerelease/dists/sid/InRelease\n",
      "/gazebo/debian-prerelease/dists/sid/Release.gpg\n",
      "/gazebo/debian-prerelease/dists/stretch/InRelease\n",
      "/gazebo/debian-prerelease/dists/stretch/Release.gpg\n",
      "/gazebo/debian-stable/dists/buster/Release.gpg\n",
      "/gazebo/debian-stable/dists/jessie/InRelease\n",
      "/gazebo/debian-stable/dists/jessie/Release.gpg\n",
      "/gazebo/debian-stable/dists/sid/InRelease\n",
      "/gazebo/debian-stable/dists/stretch/InRelease\n",
      "/gazebo/debian-stable/dists/stretch/Release.gpg\n",
      "/gazebo/debian-stable/lists/packages%255Fofficial_jessie_InRelease\n",
      "/gazebo/debian-stable/lists/packages%255Fofficial_sid_InRelease\n",
      "/gazebo/debian-testing/dists/buster/InRelease\n",
      "/gazebo/debian-testing/dists/buster/Release.gpg\n",
      "/gazebo/debian-testing/dists/stretch/InRelease\n",
      "/gazebo/debian-testing/dists/stretch/Release.gpg\n",
      "/gazebo/ubuntu/dists/artful/InRelease\n",
      "/gazebo/ubuntu/dists/artful/Release.gpg\n",
      "/gazebo/ubuntu/dists/bionic/Release.gpg\n",
      "/gazebo/ubuntu/dists/cosmic/InRelease\n",
      "/gazebo/ubuntu/dists/cosmic/Release.gpg\n",
      "/gazebo/ubuntu/dists/disco/InRelease\n",
      "/gazebo/ubuntu/dists/disco/Release.gpg\n",
      "/gazebo/ubuntu/dists/eoan/InRelease\n",
      "/gazebo/ubuntu/dists/eoan/Release.gpg\n",
      "/gazebo/ubuntu/dists/focal/Release.gpg\n",
      "/gazebo/ubuntu/dists/groovy/InRelease\n",
      "/gazebo/ubuntu/dists/groovy/Release.gpg\n",
      "/gazebo/ubuntu/dists/jammy/Release.gpg\n",
      "/gazebo/ubuntu/dists/quantal/InRelease\n",
      "/gazebo/ubuntu/dists/quantal/Release.gpg\n",
      "/gazebo/ubuntu/dists/raring/InRelease\n",
      "/gazebo/ubuntu/dists/saucy/InRelease\n",
      "/gazebo/ubuntu/dists/saucy/Release.gpg\n",
      "/gazebo/ubuntu/dists/trusty/Release.gpg\n",
      "/gazebo/ubuntu/dists/utopic/InRelease\n",
      "/gazebo/ubuntu/dists/utopic/Release.gpg\n",
      "/gazebo/ubuntu/dists/vivid/InRelease\n",
      "/gazebo/ubuntu/dists/vivid/Release.gpg\n",
      "/gazebo/ubuntu/dists/wily/InRelease\n",
      "/gazebo/ubuntu/dists/wily/Release.gpg\n",
      "/gazebo/ubuntu/dists/xenial/Release.gpg\n",
      "/gazebo/ubuntu/dists/yakkety/InRelease\n",
      "/gazebo/ubuntu/dists/zesty/InRelease\n",
      "/gazebo/ubuntu/dists/zesty/Release.gpg\n",
      "/gazebo/ubuntu/lists/dart6%252E13%255Fgazebo%255Fppa_jammy_InRelease\n",
      "/gazebo/ubuntu/lists/openrobotics%255Fdart%255Fpackages%255Ffrom%255Fppa_bionic_InRelease\n",
      "/gazebo/ubuntu/lists/packages%255Fofficial_artful_InRelease\n",
      "/gazebo/ubuntu/lists/packages%255Fofficial_cosmic_InRelease\n",
      "/gazebo/ubuntu/lists/packages%255Fofficial_precise_InRelease\n",
      "/gazebo/ubuntu/lists/packages%255Fofficial_quantal_InRelease\n",
      "/gazebo/ubuntu/lists/packages%255Fofficial_raring_InRelease\n",
      "/gazebo/ubuntu/lists/packages%255Fofficial_saucy_InRelease\n",
      "/gazebo/ubuntu/lists/packages%255Fofficial_trusty_InRelease\n",
      "/gazebo/ubuntu/lists/packages%255Fofficial_utopic_InRelease\n",
      "/gazebo/ubuntu/lists/packages%255Fofficial_vivid_InRelease\n",
      "/gazebo/ubuntu/lists/packages%255Fofficial_wily_InRelease\n",
      "/gazebo/ubuntu/lists/packages%255Fofficial_xenial_InRelease\n",
      "/gazebo/ubuntu/lists/packages%255Fofficial_yakkety_InRelease\n",
      "/gazebo/ubuntu/lists/packages%255Fofficial_zesty_InRelease\n",
      "/gazebo/ubuntu-drake/dists/xenial/InRelease\n",
      "/gazebo/ubuntu-drake/dists/xenial/Release.gpg\n",
      "/gazebo/ubuntu-mentor2/dists/trusty/InRelease\n",
      "/gazebo/ubuntu-mentor2/dists/trusty/Release.gpg\n",
      "/gazebo/ubuntu-mentor2/dists/vivid/InRelease\n",
      "/gazebo/ubuntu-mentor2/dists/vivid/Release.gpg\n",
      "/gazebo/ubuntu-nightly/dists/artful/InRelease\n",
      "/gazebo/ubuntu-nightly/dists/artful/Release.gpg\n",
      "/gazebo/ubuntu-nightly/dists/bionic/Release.gpg\n",
      "/gazebo/ubuntu-nightly/dists/cosmic/InRelease\n",
      "/gazebo/ubuntu-nightly/dists/cosmic/Release.gpg\n",
      "/gazebo/ubuntu-nightly/dists/disco/InRelease\n",
      "/gazebo/ubuntu-nightly/dists/disco/Release.gpg\n",
      "/gazebo/ubuntu-nightly/dists/eoan/InRelease\n",
      "/gazebo/ubuntu-nightly/dists/eoan/Release.gpg\n",
      "/gazebo/ubuntu-nightly/dists/focal/Release.gpg\n",
      "/gazebo/ubuntu-nightly/dists/groovy/InRelease\n",
      "/gazebo/ubuntu-nightly/dists/groovy/Release.gpg\n",
      "/gazebo/ubuntu-nightly/dists/jammy/Release.gpg\n",
      "/gazebo/ubuntu-nightly/dists/precise/InRelease\n",
      "/gazebo/ubuntu-nightly/dists/precise/Release.gpg\n",
      "/gazebo/ubuntu-nightly/dists/quantal/InRelease\n",
      "/gazebo/ubuntu-nightly/dists/quantal/Release.gpg\n",
      "/gazebo/ubuntu-nightly/dists/raring/InRelease\n",
      "/gazebo/ubuntu-nightly/dists/raring/Release.gpg\n",
      "/gazebo/ubuntu-nightly/dists/saucy/InRelease\n",
      "/gazebo/ubuntu-nightly/dists/saucy/Release.gpg\n",
      "/gazebo/ubuntu-nightly/dists/trusty/InRelease\n",
      "/gazebo/ubuntu-nightly/dists/trusty/Release.gpg\n",
      "/gazebo/ubuntu-nightly/dists/utopic/InRelease\n",
      "/gazebo/ubuntu-nightly/dists/utopic/Release.gpg\n",
      "/gazebo/ubuntu-nightly/dists/vivid/InRelease\n",
      "/gazebo/ubuntu-nightly/dists/vivid/Release.gpg\n",
      "/gazebo/ubuntu-nightly/dists/wily/InRelease\n",
      "/gazebo/ubuntu-nightly/dists/wily/Release.gpg\n",
      "/gazebo/ubuntu-nightly/dists/xenial/InRelease\n",
      "/gazebo/ubuntu-nightly/dists/xenial/Release.gpg\n",
      "/gazebo/ubuntu-nightly/dists/yakkety/InRelease\n",
      "/gazebo/ubuntu-nightly/dists/yakkety/Release.gpg\n",
      "/gazebo/ubuntu-nightly/dists/zesty/InRelease\n",
      "/gazebo/ubuntu-nightly/dists/zesty/Release.gpg\n",
      "/gazebo/ubuntu-prerelease/dists/artful/InRelease\n",
      "/gazebo/ubuntu-prerelease/dists/artful/Release.gpg\n",
      "/gazebo/ubuntu-prerelease/dists/bionic/InRelease\n",
      "/gazebo/ubuntu-prerelease/dists/bionic/Release.gpg\n",
      "/gazebo/ubuntu-prerelease/dists/cosmic/InRelease\n",
      "/gazebo/ubuntu-prerelease/dists/cosmic/Release.gpg\n",
      "/gazebo/ubuntu-prerelease/dists/disco/InRelease\n",
      "/gazebo/ubuntu-prerelease/dists/disco/Release.gpg\n",
      "/gazebo/ubuntu-prerelease/dists/eoan/InRelease\n",
      "/gazebo/ubuntu-prerelease/dists/eoan/Release.gpg\n",
      "/gazebo/ubuntu-prerelease/dists/focal/Release.gpg\n",
      "/gazebo/ubuntu-prerelease/dists/groovy/InRelease\n",
      "/gazebo/ubuntu-prerelease/dists/groovy/Release.gpg\n",
      "/gazebo/ubuntu-prerelease/dists/precise/InRelease\n",
      "/gazebo/ubuntu-prerelease/dists/precise/Release.gpg\n",
      "/gazebo/ubuntu-prerelease/dists/quantal/InRelease\n",
      "/gazebo/ubuntu-prerelease/dists/quantal/Release.gpg\n",
      "/gazebo/ubuntu-prerelease/dists/raring/InRelease\n",
      "/gazebo/ubuntu-prerelease/dists/raring/Release.gpg\n",
      "/gazebo/ubuntu-prerelease/dists/saucy/InRelease\n",
      "/gazebo/ubuntu-prerelease/dists/saucy/Release.gpg\n",
      "/gazebo/ubuntu-prerelease/dists/trusty/Release.gpg\n",
      "/gazebo/ubuntu-prerelease/dists/utopic/InRelease\n",
      "/gazebo/ubuntu-prerelease/dists/utopic/Release.gpg\n",
      "/gazebo/ubuntu-prerelease/dists/vivid/InRelease\n",
      "/gazebo/ubuntu-prerelease/dists/vivid/Release.gpg\n",
      "/gazebo/ubuntu-prerelease/dists/wily/InRelease\n",
      "/gazebo/ubuntu-prerelease/dists/wily/Release.gpg\n",
      "/gazebo/ubuntu-prerelease/dists/xenial/InRelease\n",
      "/gazebo/ubuntu-prerelease/dists/xenial/Release.gpg\n",
      "/gazebo/ubuntu-prerelease/dists/yakkety/InRelease\n",
      "/gazebo/ubuntu-prerelease/dists/yakkety/Release.gpg\n",
      "/gazebo/ubuntu-prerelease/dists/zesty/InRelease\n",
      "/gazebo/ubuntu-prerelease/dists/zesty/Release.gpg\n",
      "/gazebo/ubuntu-prerelease/lists/dart6%252E13%255Fgazebo%255Fppa_jammy_InRelease\n",
      "/gazebo/ubuntu-prerelease/lists/openrobotics%255Fdart%255Fpackages%255Ffrom%255Fppa_bionic_InRelease\n",
      "/gazebo/ubuntu-prerelease/lists/packages%255Fofficial_artful_InRelease\n",
      "/gazebo/ubuntu-prerelease/lists/packages%255Fofficial_bionic_InRelease\n",
      "/gazebo/ubuntu-prerelease/lists/packages%255Fofficial_cosmic_InRelease\n",
      "/gazebo/ubuntu-prerelease/lists/packages%255Fofficial_precise_InRelease\n",
      "/gazebo/ubuntu-prerelease/lists/packages%255Fofficial_trusty_InRelease\n",
      "/gazebo/ubuntu-prerelease/lists/packages%255Fofficial_vivid_InRelease\n",
      "/gazebo/ubuntu-prerelease/lists/packages%255Fofficial_wily_InRelease\n",
      "/gazebo/ubuntu-prerelease/lists/packages%255Fofficial_xenial_InRelease\n",
      "/gazebo/ubuntu-prerelease/lists/packages%255Fofficial_yakkety_InRelease\n",
      "/gazebo/ubuntu-prerelease/lists/packages%255Fofficial_zesty_InRelease\n",
      "/gazebo/ubuntu-stable/dists/artful/InRelease\n",
      "/gazebo/ubuntu-stable/dists/artful/Release.gpg\n",
      "/gazebo/ubuntu-stable/dists/cosmic/InRelease\n",
      "/gazebo/ubuntu-stable/dists/cosmic/Release.gpg\n",
      "/gazebo/ubuntu-stable/dists/disco/InRelease\n",
      "/gazebo/ubuntu-stable/dists/disco/Release.gpg\n",
      "/gazebo/ubuntu-stable/dists/eoan/InRelease\n",
      "/gazebo/ubuntu-stable/dists/eoan/Release.gpg\n"
     ]
    },
    {
     "name": "stdout",
     "output_type": "stream",
     "text": [
      "/gazebo/ubuntu-stable/dists/groovy/InRelease\n",
      "/gazebo/ubuntu-stable/dists/groovy/Release.gpg\n",
      "/gazebo/ubuntu-stable/dists/jammy/Release.gpg\n",
      "/gazebo/ubuntu-stable/dists/precise/InRelease\n",
      "/gazebo/ubuntu-stable/dists/precise/Release.gpg\n",
      "/gazebo/ubuntu-stable/dists/quantal/InRelease\n",
      "/gazebo/ubuntu-stable/dists/quantal/Release.gpg\n",
      "/gazebo/ubuntu-stable/dists/raring/InRelease\n",
      "/gazebo/ubuntu-stable/dists/saucy/InRelease\n",
      "/gazebo/ubuntu-stable/dists/saucy/Release.gpg\n",
      "/gazebo/ubuntu-stable/dists/trusty/Release.gpg\n",
      "/gazebo/ubuntu-stable/dists/utopic/InRelease\n",
      "/gazebo/ubuntu-stable/dists/utopic/Release.gpg\n",
      "/gazebo/ubuntu-stable/dists/vivid/InRelease\n",
      "/gazebo/ubuntu-stable/dists/vivid/Release.gpg\n",
      "/gazebo/ubuntu-stable/dists/wily/InRelease\n",
      "/gazebo/ubuntu-stable/dists/wily/Release.gpg\n",
      "/gazebo/ubuntu-stable/dists/xenial/Release.gpg\n",
      "/gazebo/ubuntu-stable/dists/yakkety/Release.gpg\n",
      "/gazebo/ubuntu-stable/dists/zesty/Release.gpg\n",
      "/gazebo/ubuntu-stable/lists/dart6%252E13%255Fgazebo%255Fppa_jammy_InRelease\n",
      "/gazebo/ubuntu-stable/lists/localreadd_artful_InRelease\n",
      "/gazebo/ubuntu-stable/lists/localreadd_bionic_InRelease\n",
      "/gazebo/ubuntu-stable/lists/localreadd_cosmic_InRelease\n",
      "/gazebo/ubuntu-stable/lists/localreadd_precise_InRelease\n",
      "/gazebo/ubuntu-stable/lists/localreadd_quantal_InRelease\n",
      "/gazebo/ubuntu-stable/lists/localreadd_raring_InRelease\n",
      "/gazebo/ubuntu-stable/lists/localreadd_saucy_InRelease\n",
      "/gazebo/ubuntu-stable/lists/localreadd_trusty_InRelease\n",
      "/gazebo/ubuntu-stable/lists/localreadd_vivid_InRelease\n",
      "/gazebo/ubuntu-stable/lists/localreadd_wily_InRelease\n",
      "/gazebo/ubuntu-stable/lists/localreadd_xenial_InRelease\n",
      "/gazebo/ubuntu-stable/lists/localreadd_zesty_InRelease\n",
      "/gazebo/ubuntu-stable/lists/openrobotics%255Fdart%255Fpackages%255Ffrom%255Fppa_bionic_InRelease\n",
      "/gazebo/ubuntu-stable/lists/packages%255Fofficial_artful_InRelease\n",
      "/gazebo/ubuntu-stable/lists/packages%255Fofficial_bionic_InRelease\n",
      "/gazebo/ubuntu-stable/lists/packages%255Fofficial_cosmic_InRelease\n",
      "/gazebo/ubuntu-stable/lists/packages%255Fofficial_precise_InRelease\n",
      "/gazebo/ubuntu-stable/lists/packages%255Fofficial_quantal_InRelease\n",
      "/gazebo/ubuntu-stable/lists/packages%255Fofficial_raring_InRelease\n",
      "/gazebo/ubuntu-stable/lists/packages%255Fofficial_saucy_InRelease\n",
      "/gazebo/ubuntu-stable/lists/packages%255Fofficial_trusty_InRelease\n",
      "/gazebo/ubuntu-stable/lists/packages%255Fofficial_utopic_InRelease\n",
      "/gazebo/ubuntu-stable/lists/packages%255Fofficial_vivid_InRelease\n",
      "/gazebo/ubuntu-stable/lists/packages%255Fofficial_wily_InRelease\n",
      "/gazebo/ubuntu-stable/lists/packages%255Fofficial_xenial_InRelease\n",
      "/gazebo/ubuntu-stable/lists/packages%255Fofficial_yakkety_InRelease\n",
      "/gazebo/ubuntu-stable/lists/packages%255Fofficial_zesty_InRelease\n",
      "/gazebo/ubuntu-testing/dists/bionic/InRelease\n",
      "/gazebo/ubuntu-testing/dists/bionic/Release.gpg\n",
      "/gazebo/ubuntu-testing/dists/focal/InRelease\n",
      "/gazebo/ubuntu-testing/dists/focal/Release.gpg\n",
      "/gazebo/ubuntu-testing/dists/jammy/InRelease\n",
      "/gazebo/ubuntu-testing/dists/jammy/Release.gpg\n",
      "/gazebo/ubuntu-testing/dists/xenial/InRelease\n",
      "/gazebo/ubuntu-testing/dists/xenial/Release.gpg\n",
      "/gazebo/ubuntu-testing/lists/dart6%252E13%255Fcore%255Fcollisions%255Fodelcpsolver%255Ffrom%255Fdebian%255Fbased%255Fppa_jammy_InRelease\n",
      "/gazebo/ubuntu-testing/lists/openrobotics%255Fdart%255Fpackages%255Ffrom%255Fppa_bionic_InRelease\n"
     ]
    }
   ],
   "source": [
    "def parse_filename(fname):\n",
    "    distro = None\n",
    "    arch = None\n",
    "    arches = [\"armhf\",\"amd64\",\"arm64\",\"i386\"]\n",
    "    distros = [\"jammy\",\"focal\",\"bionic\",\"artful\",\"xenial\",\"vivid\",\"trusty\",\"precise\",\"wily\",\"zesty\",\"yakety\",\"artful\"]\n",
    "    for a in arches:\n",
    "        if a in fname:\n",
    "            arch = a \n",
    "    for d in distros:\n",
    "        if d in fname:\n",
    "            distro = d\n",
    "    return arch, distro\n",
    "\n",
    "def refine_results(df, pkg2release):\n",
    "    result = []\n",
    "    skips = [\".gpg\",\".key\",\"InRelease\"]\n",
    "    for idx,row in df.iterrows():\n",
    "        temp = {\"skip\":False,\n",
    "                \"arch\":None,\n",
    "                \"host\":None,\n",
    "                \"distro\":None,\n",
    "                \"release\":None,\n",
    "                \"pkg\":None,\n",
    "                \"file\":None,\n",
    "                \"path\":row[\"path\"],\n",
    "                \"count\":row[\"count\"]}\n",
    "        if any(skip in row[\"path\"] for skip in skips):\n",
    "            temp[\"skip\"] = True\n",
    "            temp[\"file\"] = row[\"path\"].split(\"/\")[-1]\n",
    "            temp[\"arch\"], temp[\"distro\"] = parse_filename(row[\"path\"])\n",
    "            result.append(temp)\n",
    "            continue\n",
    "\n",
    "        path = row[\"path\"].split(\"/\")\n",
    "        \n",
    "        if(len(path) <= 3):\n",
    "            continue\n",
    "        temp[\"host\"] = path[2]\n",
    "        if path[3] == \"dists\":\n",
    "            temp[\"distro\"] = path[4]\n",
    "        elif path[3] == \"pool\" and len(path) > 7:\n",
    "            temp[\"pkg\"] = path[6]\n",
    "            temp[\"file\"] = path[7]\n",
    "            arch, distro = parse_filename(path[7])\n",
    "            temp[\"arch\"] = arch\n",
    "            temp[\"distro\"] = distro\n",
    "            if temp[\"pkg\"] in pkg2release.keys():\n",
    "                temp[\"release\"] = pkg2release[temp[\"pkg\"]]             \n",
    "        result.append(temp)\n",
    "    return pd.DataFrame(result)\n",
    "\n",
    "print(\"Processed {0} out of {1}\".format(len(output),len(df)))\n",
    "output = refine_results(df,pkg2release)\n",
    "output.to_csv(\"GazeboLogsNovProcessed.csv\")"
   ]
  },
  {
   "cell_type": "code",
   "execution_count": 153,
   "id": "2316aba9",
   "metadata": {},
   "outputs": [
    {
     "data": {
      "text/html": [
       "<div>\n",
       "<style scoped>\n",
       "    .dataframe tbody tr th:only-of-type {\n",
       "        vertical-align: middle;\n",
       "    }\n",
       "\n",
       "    .dataframe tbody tr th {\n",
       "        vertical-align: top;\n",
       "    }\n",
       "\n",
       "    .dataframe thead th {\n",
       "        text-align: right;\n",
       "    }\n",
       "</style>\n",
       "<table border=\"1\" class=\"dataframe\">\n",
       "  <thead>\n",
       "    <tr style=\"text-align: right;\">\n",
       "      <th></th>\n",
       "      <th>skip</th>\n",
       "      <th>arch</th>\n",
       "      <th>host</th>\n",
       "      <th>distro</th>\n",
       "      <th>release</th>\n",
       "      <th>pkg</th>\n",
       "      <th>file</th>\n",
       "      <th>path</th>\n",
       "      <th>count</th>\n",
       "    </tr>\n",
       "  </thead>\n",
       "  <tbody>\n",
       "    <tr>\n",
       "      <th>0</th>\n",
       "      <td>False</td>\n",
       "      <td>None</td>\n",
       "      <td>ubuntu-stable</td>\n",
       "      <td>bionic</td>\n",
       "      <td>None</td>\n",
       "      <td>None</td>\n",
       "      <td>None</td>\n",
       "      <td>/gazebo/ubuntu-stable/dists/bionic/main/binary...</td>\n",
       "      <td>2873</td>\n",
       "    </tr>\n",
       "    <tr>\n",
       "      <th>1</th>\n",
       "      <td>True</td>\n",
       "      <td>None</td>\n",
       "      <td>None</td>\n",
       "      <td>None</td>\n",
       "      <td>None</td>\n",
       "      <td>None</td>\n",
       "      <td>gazebo.key</td>\n",
       "      <td>/gazebo.key</td>\n",
       "      <td>8907</td>\n",
       "    </tr>\n",
       "    <tr>\n",
       "      <th>2</th>\n",
       "      <td>True</td>\n",
       "      <td>None</td>\n",
       "      <td>None</td>\n",
       "      <td>bionic</td>\n",
       "      <td>None</td>\n",
       "      <td>None</td>\n",
       "      <td>InRelease</td>\n",
       "      <td>/gazebo/ubuntu-stable/dists/bionic/InRelease</td>\n",
       "      <td>4110</td>\n",
       "    </tr>\n",
       "    <tr>\n",
       "      <th>3</th>\n",
       "      <td>False</td>\n",
       "      <td>None</td>\n",
       "      <td>ubuntu</td>\n",
       "      <td>None</td>\n",
       "      <td>None</td>\n",
       "      <td>None</td>\n",
       "      <td>None</td>\n",
       "      <td>/gazebo/ubuntu/</td>\n",
       "      <td>200</td>\n",
       "    </tr>\n",
       "    <tr>\n",
       "      <th>4</th>\n",
       "      <td>False</td>\n",
       "      <td>amd64</td>\n",
       "      <td>ubuntu-stable</td>\n",
       "      <td>focal</td>\n",
       "      <td>multiple</td>\n",
       "      <td>gz-utils2</td>\n",
       "      <td>libgz-utils2-cli-dev_2.2.0-1%7efocal_amd64.deb</td>\n",
       "      <td>/gazebo/ubuntu-stable/pool/main/g/gz-utils2/li...</td>\n",
       "      <td>678</td>\n",
       "    </tr>\n",
       "  </tbody>\n",
       "</table>\n",
       "</div>"
      ],
      "text/plain": [
       "    skip   arch           host  distro   release        pkg  \\\n",
       "0  False   None  ubuntu-stable  bionic      None       None   \n",
       "1   True   None           None    None      None       None   \n",
       "2   True   None           None  bionic      None       None   \n",
       "3  False   None         ubuntu    None      None       None   \n",
       "4  False  amd64  ubuntu-stable   focal  multiple  gz-utils2   \n",
       "\n",
       "                                             file  \\\n",
       "0                                            None   \n",
       "1                                      gazebo.key   \n",
       "2                                       InRelease   \n",
       "3                                            None   \n",
       "4  libgz-utils2-cli-dev_2.2.0-1%7efocal_amd64.deb   \n",
       "\n",
       "                                                path  count  \n",
       "0  /gazebo/ubuntu-stable/dists/bionic/main/binary...   2873  \n",
       "1                                        /gazebo.key   8907  \n",
       "2       /gazebo/ubuntu-stable/dists/bionic/InRelease   4110  \n",
       "3                                    /gazebo/ubuntu/    200  \n",
       "4  /gazebo/ubuntu-stable/pool/main/g/gz-utils2/li...    678  "
      ]
     },
     "execution_count": 153,
     "metadata": {},
     "output_type": "execute_result"
    }
   ],
   "source": [
    "output.head()"
   ]
  },
  {
   "cell_type": "code",
   "execution_count": 133,
   "id": "f6928bb4",
   "metadata": {},
   "outputs": [
    {
     "name": "stderr",
     "output_type": "stream",
     "text": [
      "/tmp/ipykernel_471668/4084832193.py:1: UserWarning: Boolean Series key will be reindexed to match DataFrame index.\n",
      "  output[output[\"pkg\"]==\"ignition-physics5\"][output[\"distro\"]==\"bionic\"][\"count\"].sum()\n"
     ]
    },
    {
     "data": {
      "text/plain": [
       "952"
      ]
     },
     "execution_count": 133,
     "metadata": {},
     "output_type": "execute_result"
    }
   ],
   "source": [
    "output[output[\"pkg\"]==\"ignition-physics5\"][output[\"distro\"]==\"bionic\"][\"count\"].sum()"
   ]
  },
  {
   "cell_type": "code",
   "execution_count": 154,
   "id": "50afd7f5",
   "metadata": {},
   "outputs": [
    {
     "name": "stdout",
     "output_type": "stream",
     "text": [
      "Total Downloads between 2023-11-01 00:00:00 and 2023-12-01 00:00:00: 776227\n"
     ]
    }
   ],
   "source": [
    "total_downloads = output[\"count\"].sum()\n",
    "print(\"Total Downloads between {0} and {1}: {2}\".format(start_time,end_time, total_downloads))"
   ]
  },
  {
   "cell_type": "code",
   "execution_count": 161,
   "id": "6ff7ef72",
   "metadata": {},
   "outputs": [
    {
     "name": "stdout",
     "output_type": "stream",
     "text": [
      "{'armhf': 8502, 'amd64': 554612, 'arm64': 40020, 'i386': 10402}\n"
     ]
    },
    {
     "data": {
      "text/plain": [
       "['armhf', 'amd64', 'arm64', 'i386']"
      ]
     },
     "execution_count": 161,
     "metadata": {},
     "output_type": "execute_result"
    }
   ],
   "source": [
    "# Let's start simple and do arch. \n",
    "arches = [\"armhf\",\"amd64\",\"arm64\",\"i386\"]\n",
    "by_arch = {}\n",
    "total = 0\n",
    "for arch in arches:\n",
    "    temp = output[output[\"arch\"] == arch][\"count\"].sum()\n",
    "    total += temp\n",
    "    by_arch[arch] = temp\n",
    "print(by_arch)\n",
    "list(by_arch.keys())"
   ]
  },
  {
   "cell_type": "code",
   "execution_count": 164,
   "id": "ba509cb6",
   "metadata": {},
   "outputs": [
    {
     "data": {
      "application/vnd.plotly.v1+json": {
       "config": {
        "plotlyServerURL": "https://plot.ly"
       },
       "data": [
        {
         "labels": [
          "armhf",
          "amd64",
          "arm64",
          "i386"
         ],
         "sort": false,
         "type": "pie",
         "values": [
          8502,
          554612,
          40020,
          10402
         ]
        }
       ],
       "layout": {
        "font": {
         "color": "#22314E",
         "family": "Arial",
         "size": 16
        },
        "template": {
         "data": {
          "bar": [
           {
            "error_x": {
             "color": "#2a3f5f"
            },
            "error_y": {
             "color": "#2a3f5f"
            },
            "marker": {
             "line": {
              "color": "#E5ECF6",
              "width": 0.5
             },
             "pattern": {
              "fillmode": "overlay",
              "size": 10,
              "solidity": 0.2
             }
            },
            "type": "bar"
           }
          ],
          "barpolar": [
           {
            "marker": {
             "line": {
              "color": "#E5ECF6",
              "width": 0.5
             },
             "pattern": {
              "fillmode": "overlay",
              "size": 10,
              "solidity": 0.2
             }
            },
            "type": "barpolar"
           }
          ],
          "carpet": [
           {
            "aaxis": {
             "endlinecolor": "#2a3f5f",
             "gridcolor": "white",
             "linecolor": "white",
             "minorgridcolor": "white",
             "startlinecolor": "#2a3f5f"
            },
            "baxis": {
             "endlinecolor": "#2a3f5f",
             "gridcolor": "white",
             "linecolor": "white",
             "minorgridcolor": "white",
             "startlinecolor": "#2a3f5f"
            },
            "type": "carpet"
           }
          ],
          "choropleth": [
           {
            "colorbar": {
             "outlinewidth": 0,
             "ticks": ""
            },
            "type": "choropleth"
           }
          ],
          "contour": [
           {
            "colorbar": {
             "outlinewidth": 0,
             "ticks": ""
            },
            "colorscale": [
             [
              0,
              "#0d0887"
             ],
             [
              0.1111111111111111,
              "#46039f"
             ],
             [
              0.2222222222222222,
              "#7201a8"
             ],
             [
              0.3333333333333333,
              "#9c179e"
             ],
             [
              0.4444444444444444,
              "#bd3786"
             ],
             [
              0.5555555555555556,
              "#d8576b"
             ],
             [
              0.6666666666666666,
              "#ed7953"
             ],
             [
              0.7777777777777778,
              "#fb9f3a"
             ],
             [
              0.8888888888888888,
              "#fdca26"
             ],
             [
              1,
              "#f0f921"
             ]
            ],
            "type": "contour"
           }
          ],
          "contourcarpet": [
           {
            "colorbar": {
             "outlinewidth": 0,
             "ticks": ""
            },
            "type": "contourcarpet"
           }
          ],
          "heatmap": [
           {
            "colorbar": {
             "outlinewidth": 0,
             "ticks": ""
            },
            "colorscale": [
             [
              0,
              "#0d0887"
             ],
             [
              0.1111111111111111,
              "#46039f"
             ],
             [
              0.2222222222222222,
              "#7201a8"
             ],
             [
              0.3333333333333333,
              "#9c179e"
             ],
             [
              0.4444444444444444,
              "#bd3786"
             ],
             [
              0.5555555555555556,
              "#d8576b"
             ],
             [
              0.6666666666666666,
              "#ed7953"
             ],
             [
              0.7777777777777778,
              "#fb9f3a"
             ],
             [
              0.8888888888888888,
              "#fdca26"
             ],
             [
              1,
              "#f0f921"
             ]
            ],
            "type": "heatmap"
           }
          ],
          "heatmapgl": [
           {
            "colorbar": {
             "outlinewidth": 0,
             "ticks": ""
            },
            "colorscale": [
             [
              0,
              "#0d0887"
             ],
             [
              0.1111111111111111,
              "#46039f"
             ],
             [
              0.2222222222222222,
              "#7201a8"
             ],
             [
              0.3333333333333333,
              "#9c179e"
             ],
             [
              0.4444444444444444,
              "#bd3786"
             ],
             [
              0.5555555555555556,
              "#d8576b"
             ],
             [
              0.6666666666666666,
              "#ed7953"
             ],
             [
              0.7777777777777778,
              "#fb9f3a"
             ],
             [
              0.8888888888888888,
              "#fdca26"
             ],
             [
              1,
              "#f0f921"
             ]
            ],
            "type": "heatmapgl"
           }
          ],
          "histogram": [
           {
            "marker": {
             "pattern": {
              "fillmode": "overlay",
              "size": 10,
              "solidity": 0.2
             }
            },
            "type": "histogram"
           }
          ],
          "histogram2d": [
           {
            "colorbar": {
             "outlinewidth": 0,
             "ticks": ""
            },
            "colorscale": [
             [
              0,
              "#0d0887"
             ],
             [
              0.1111111111111111,
              "#46039f"
             ],
             [
              0.2222222222222222,
              "#7201a8"
             ],
             [
              0.3333333333333333,
              "#9c179e"
             ],
             [
              0.4444444444444444,
              "#bd3786"
             ],
             [
              0.5555555555555556,
              "#d8576b"
             ],
             [
              0.6666666666666666,
              "#ed7953"
             ],
             [
              0.7777777777777778,
              "#fb9f3a"
             ],
             [
              0.8888888888888888,
              "#fdca26"
             ],
             [
              1,
              "#f0f921"
             ]
            ],
            "type": "histogram2d"
           }
          ],
          "histogram2dcontour": [
           {
            "colorbar": {
             "outlinewidth": 0,
             "ticks": ""
            },
            "colorscale": [
             [
              0,
              "#0d0887"
             ],
             [
              0.1111111111111111,
              "#46039f"
             ],
             [
              0.2222222222222222,
              "#7201a8"
             ],
             [
              0.3333333333333333,
              "#9c179e"
             ],
             [
              0.4444444444444444,
              "#bd3786"
             ],
             [
              0.5555555555555556,
              "#d8576b"
             ],
             [
              0.6666666666666666,
              "#ed7953"
             ],
             [
              0.7777777777777778,
              "#fb9f3a"
             ],
             [
              0.8888888888888888,
              "#fdca26"
             ],
             [
              1,
              "#f0f921"
             ]
            ],
            "type": "histogram2dcontour"
           }
          ],
          "mesh3d": [
           {
            "colorbar": {
             "outlinewidth": 0,
             "ticks": ""
            },
            "type": "mesh3d"
           }
          ],
          "parcoords": [
           {
            "line": {
             "colorbar": {
              "outlinewidth": 0,
              "ticks": ""
             }
            },
            "type": "parcoords"
           }
          ],
          "pie": [
           {
            "automargin": true,
            "type": "pie"
           }
          ],
          "scatter": [
           {
            "fillpattern": {
             "fillmode": "overlay",
             "size": 10,
             "solidity": 0.2
            },
            "type": "scatter"
           }
          ],
          "scatter3d": [
           {
            "line": {
             "colorbar": {
              "outlinewidth": 0,
              "ticks": ""
             }
            },
            "marker": {
             "colorbar": {
              "outlinewidth": 0,
              "ticks": ""
             }
            },
            "type": "scatter3d"
           }
          ],
          "scattercarpet": [
           {
            "marker": {
             "colorbar": {
              "outlinewidth": 0,
              "ticks": ""
             }
            },
            "type": "scattercarpet"
           }
          ],
          "scattergeo": [
           {
            "marker": {
             "colorbar": {
              "outlinewidth": 0,
              "ticks": ""
             }
            },
            "type": "scattergeo"
           }
          ],
          "scattergl": [
           {
            "marker": {
             "colorbar": {
              "outlinewidth": 0,
              "ticks": ""
             }
            },
            "type": "scattergl"
           }
          ],
          "scattermapbox": [
           {
            "marker": {
             "colorbar": {
              "outlinewidth": 0,
              "ticks": ""
             }
            },
            "type": "scattermapbox"
           }
          ],
          "scatterpolar": [
           {
            "marker": {
             "colorbar": {
              "outlinewidth": 0,
              "ticks": ""
             }
            },
            "type": "scatterpolar"
           }
          ],
          "scatterpolargl": [
           {
            "marker": {
             "colorbar": {
              "outlinewidth": 0,
              "ticks": ""
             }
            },
            "type": "scatterpolargl"
           }
          ],
          "scatterternary": [
           {
            "marker": {
             "colorbar": {
              "outlinewidth": 0,
              "ticks": ""
             }
            },
            "type": "scatterternary"
           }
          ],
          "surface": [
           {
            "colorbar": {
             "outlinewidth": 0,
             "ticks": ""
            },
            "colorscale": [
             [
              0,
              "#0d0887"
             ],
             [
              0.1111111111111111,
              "#46039f"
             ],
             [
              0.2222222222222222,
              "#7201a8"
             ],
             [
              0.3333333333333333,
              "#9c179e"
             ],
             [
              0.4444444444444444,
              "#bd3786"
             ],
             [
              0.5555555555555556,
              "#d8576b"
             ],
             [
              0.6666666666666666,
              "#ed7953"
             ],
             [
              0.7777777777777778,
              "#fb9f3a"
             ],
             [
              0.8888888888888888,
              "#fdca26"
             ],
             [
              1,
              "#f0f921"
             ]
            ],
            "type": "surface"
           }
          ],
          "table": [
           {
            "cells": {
             "fill": {
              "color": "#EBF0F8"
             },
             "line": {
              "color": "white"
             }
            },
            "header": {
             "fill": {
              "color": "#C8D4E3"
             },
             "line": {
              "color": "white"
             }
            },
            "type": "table"
           }
          ]
         },
         "layout": {
          "annotationdefaults": {
           "arrowcolor": "#2a3f5f",
           "arrowhead": 0,
           "arrowwidth": 1
          },
          "autotypenumbers": "strict",
          "coloraxis": {
           "colorbar": {
            "outlinewidth": 0,
            "ticks": ""
           }
          },
          "colorscale": {
           "diverging": [
            [
             0,
             "#8e0152"
            ],
            [
             0.1,
             "#c51b7d"
            ],
            [
             0.2,
             "#de77ae"
            ],
            [
             0.3,
             "#f1b6da"
            ],
            [
             0.4,
             "#fde0ef"
            ],
            [
             0.5,
             "#f7f7f7"
            ],
            [
             0.6,
             "#e6f5d0"
            ],
            [
             0.7,
             "#b8e186"
            ],
            [
             0.8,
             "#7fbc41"
            ],
            [
             0.9,
             "#4d9221"
            ],
            [
             1,
             "#276419"
            ]
           ],
           "sequential": [
            [
             0,
             "#0d0887"
            ],
            [
             0.1111111111111111,
             "#46039f"
            ],
            [
             0.2222222222222222,
             "#7201a8"
            ],
            [
             0.3333333333333333,
             "#9c179e"
            ],
            [
             0.4444444444444444,
             "#bd3786"
            ],
            [
             0.5555555555555556,
             "#d8576b"
            ],
            [
             0.6666666666666666,
             "#ed7953"
            ],
            [
             0.7777777777777778,
             "#fb9f3a"
            ],
            [
             0.8888888888888888,
             "#fdca26"
            ],
            [
             1,
             "#f0f921"
            ]
           ],
           "sequentialminus": [
            [
             0,
             "#0d0887"
            ],
            [
             0.1111111111111111,
             "#46039f"
            ],
            [
             0.2222222222222222,
             "#7201a8"
            ],
            [
             0.3333333333333333,
             "#9c179e"
            ],
            [
             0.4444444444444444,
             "#bd3786"
            ],
            [
             0.5555555555555556,
             "#d8576b"
            ],
            [
             0.6666666666666666,
             "#ed7953"
            ],
            [
             0.7777777777777778,
             "#fb9f3a"
            ],
            [
             0.8888888888888888,
             "#fdca26"
            ],
            [
             1,
             "#f0f921"
            ]
           ]
          },
          "colorway": [
           "#636efa",
           "#EF553B",
           "#00cc96",
           "#ab63fa",
           "#FFA15A",
           "#19d3f3",
           "#FF6692",
           "#B6E880",
           "#FF97FF",
           "#FECB52"
          ],
          "font": {
           "color": "#2a3f5f"
          },
          "geo": {
           "bgcolor": "white",
           "lakecolor": "white",
           "landcolor": "#E5ECF6",
           "showlakes": true,
           "showland": true,
           "subunitcolor": "white"
          },
          "hoverlabel": {
           "align": "left"
          },
          "hovermode": "closest",
          "mapbox": {
           "style": "light"
          },
          "paper_bgcolor": "white",
          "plot_bgcolor": "#E5ECF6",
          "polar": {
           "angularaxis": {
            "gridcolor": "white",
            "linecolor": "white",
            "ticks": ""
           },
           "bgcolor": "#E5ECF6",
           "radialaxis": {
            "gridcolor": "white",
            "linecolor": "white",
            "ticks": ""
           }
          },
          "scene": {
           "xaxis": {
            "backgroundcolor": "#E5ECF6",
            "gridcolor": "white",
            "gridwidth": 2,
            "linecolor": "white",
            "showbackground": true,
            "ticks": "",
            "zerolinecolor": "white"
           },
           "yaxis": {
            "backgroundcolor": "#E5ECF6",
            "gridcolor": "white",
            "gridwidth": 2,
            "linecolor": "white",
            "showbackground": true,
            "ticks": "",
            "zerolinecolor": "white"
           },
           "zaxis": {
            "backgroundcolor": "#E5ECF6",
            "gridcolor": "white",
            "gridwidth": 2,
            "linecolor": "white",
            "showbackground": true,
            "ticks": "",
            "zerolinecolor": "white"
           }
          },
          "shapedefaults": {
           "line": {
            "color": "#2a3f5f"
           }
          },
          "ternary": {
           "aaxis": {
            "gridcolor": "white",
            "linecolor": "white",
            "ticks": ""
           },
           "baxis": {
            "gridcolor": "white",
            "linecolor": "white",
            "ticks": ""
           },
           "bgcolor": "#E5ECF6",
           "caxis": {
            "gridcolor": "white",
            "linecolor": "white",
            "ticks": ""
           }
          },
          "title": {
           "x": 0.05
          },
          "xaxis": {
           "automargin": true,
           "gridcolor": "white",
           "linecolor": "white",
           "ticks": "",
           "title": {
            "standoff": 15
           },
           "zerolinecolor": "white",
           "zerolinewidth": 2
          },
          "yaxis": {
           "automargin": true,
           "gridcolor": "white",
           "linecolor": "white",
           "ticks": "",
           "title": {
            "standoff": 15
           },
           "zerolinecolor": "white",
           "zerolinewidth": 2
          }
         }
        },
        "title": {
         "font": {
          "color": "#22314E",
          "family": "Arial",
          "size": 24
         },
         "text": "Gazebo Downloads By Arch November 2023"
        }
       }
      },
      "text/html": [
       "<div>                            <div id=\"d69f8bd7-6088-4edd-8430-2ebfe6125e06\" class=\"plotly-graph-div\" style=\"height:525px; width:100%;\"></div>            <script type=\"text/javascript\">                require([\"plotly\"], function(Plotly) {                    window.PLOTLYENV=window.PLOTLYENV || {};                                    if (document.getElementById(\"d69f8bd7-6088-4edd-8430-2ebfe6125e06\")) {                    Plotly.newPlot(                        \"d69f8bd7-6088-4edd-8430-2ebfe6125e06\",                        [{\"labels\":[\"armhf\",\"amd64\",\"arm64\",\"i386\"],\"sort\":false,\"values\":[8502,554612,40020,10402],\"type\":\"pie\"}],                        {\"title\":{\"text\":\"Gazebo Downloads By Arch November 2023\",\"font\":{\"size\":24,\"family\":\"Arial\",\"color\":\"#22314E\"}},\"template\":{\"data\":{\"histogram2dcontour\":[{\"type\":\"histogram2dcontour\",\"colorbar\":{\"outlinewidth\":0,\"ticks\":\"\"},\"colorscale\":[[0.0,\"#0d0887\"],[0.1111111111111111,\"#46039f\"],[0.2222222222222222,\"#7201a8\"],[0.3333333333333333,\"#9c179e\"],[0.4444444444444444,\"#bd3786\"],[0.5555555555555556,\"#d8576b\"],[0.6666666666666666,\"#ed7953\"],[0.7777777777777778,\"#fb9f3a\"],[0.8888888888888888,\"#fdca26\"],[1.0,\"#f0f921\"]]}],\"choropleth\":[{\"type\":\"choropleth\",\"colorbar\":{\"outlinewidth\":0,\"ticks\":\"\"}}],\"histogram2d\":[{\"type\":\"histogram2d\",\"colorbar\":{\"outlinewidth\":0,\"ticks\":\"\"},\"colorscale\":[[0.0,\"#0d0887\"],[0.1111111111111111,\"#46039f\"],[0.2222222222222222,\"#7201a8\"],[0.3333333333333333,\"#9c179e\"],[0.4444444444444444,\"#bd3786\"],[0.5555555555555556,\"#d8576b\"],[0.6666666666666666,\"#ed7953\"],[0.7777777777777778,\"#fb9f3a\"],[0.8888888888888888,\"#fdca26\"],[1.0,\"#f0f921\"]]}],\"heatmap\":[{\"type\":\"heatmap\",\"colorbar\":{\"outlinewidth\":0,\"ticks\":\"\"},\"colorscale\":[[0.0,\"#0d0887\"],[0.1111111111111111,\"#46039f\"],[0.2222222222222222,\"#7201a8\"],[0.3333333333333333,\"#9c179e\"],[0.4444444444444444,\"#bd3786\"],[0.5555555555555556,\"#d8576b\"],[0.6666666666666666,\"#ed7953\"],[0.7777777777777778,\"#fb9f3a\"],[0.8888888888888888,\"#fdca26\"],[1.0,\"#f0f921\"]]}],\"heatmapgl\":[{\"type\":\"heatmapgl\",\"colorbar\":{\"outlinewidth\":0,\"ticks\":\"\"},\"colorscale\":[[0.0,\"#0d0887\"],[0.1111111111111111,\"#46039f\"],[0.2222222222222222,\"#7201a8\"],[0.3333333333333333,\"#9c179e\"],[0.4444444444444444,\"#bd3786\"],[0.5555555555555556,\"#d8576b\"],[0.6666666666666666,\"#ed7953\"],[0.7777777777777778,\"#fb9f3a\"],[0.8888888888888888,\"#fdca26\"],[1.0,\"#f0f921\"]]}],\"contourcarpet\":[{\"type\":\"contourcarpet\",\"colorbar\":{\"outlinewidth\":0,\"ticks\":\"\"}}],\"contour\":[{\"type\":\"contour\",\"colorbar\":{\"outlinewidth\":0,\"ticks\":\"\"},\"colorscale\":[[0.0,\"#0d0887\"],[0.1111111111111111,\"#46039f\"],[0.2222222222222222,\"#7201a8\"],[0.3333333333333333,\"#9c179e\"],[0.4444444444444444,\"#bd3786\"],[0.5555555555555556,\"#d8576b\"],[0.6666666666666666,\"#ed7953\"],[0.7777777777777778,\"#fb9f3a\"],[0.8888888888888888,\"#fdca26\"],[1.0,\"#f0f921\"]]}],\"surface\":[{\"type\":\"surface\",\"colorbar\":{\"outlinewidth\":0,\"ticks\":\"\"},\"colorscale\":[[0.0,\"#0d0887\"],[0.1111111111111111,\"#46039f\"],[0.2222222222222222,\"#7201a8\"],[0.3333333333333333,\"#9c179e\"],[0.4444444444444444,\"#bd3786\"],[0.5555555555555556,\"#d8576b\"],[0.6666666666666666,\"#ed7953\"],[0.7777777777777778,\"#fb9f3a\"],[0.8888888888888888,\"#fdca26\"],[1.0,\"#f0f921\"]]}],\"mesh3d\":[{\"type\":\"mesh3d\",\"colorbar\":{\"outlinewidth\":0,\"ticks\":\"\"}}],\"scatter\":[{\"fillpattern\":{\"fillmode\":\"overlay\",\"size\":10,\"solidity\":0.2},\"type\":\"scatter\"}],\"parcoords\":[{\"type\":\"parcoords\",\"line\":{\"colorbar\":{\"outlinewidth\":0,\"ticks\":\"\"}}}],\"scatterpolargl\":[{\"type\":\"scatterpolargl\",\"marker\":{\"colorbar\":{\"outlinewidth\":0,\"ticks\":\"\"}}}],\"bar\":[{\"error_x\":{\"color\":\"#2a3f5f\"},\"error_y\":{\"color\":\"#2a3f5f\"},\"marker\":{\"line\":{\"color\":\"#E5ECF6\",\"width\":0.5},\"pattern\":{\"fillmode\":\"overlay\",\"size\":10,\"solidity\":0.2}},\"type\":\"bar\"}],\"scattergeo\":[{\"type\":\"scattergeo\",\"marker\":{\"colorbar\":{\"outlinewidth\":0,\"ticks\":\"\"}}}],\"scatterpolar\":[{\"type\":\"scatterpolar\",\"marker\":{\"colorbar\":{\"outlinewidth\":0,\"ticks\":\"\"}}}],\"histogram\":[{\"marker\":{\"pattern\":{\"fillmode\":\"overlay\",\"size\":10,\"solidity\":0.2}},\"type\":\"histogram\"}],\"scattergl\":[{\"type\":\"scattergl\",\"marker\":{\"colorbar\":{\"outlinewidth\":0,\"ticks\":\"\"}}}],\"scatter3d\":[{\"type\":\"scatter3d\",\"line\":{\"colorbar\":{\"outlinewidth\":0,\"ticks\":\"\"}},\"marker\":{\"colorbar\":{\"outlinewidth\":0,\"ticks\":\"\"}}}],\"scattermapbox\":[{\"type\":\"scattermapbox\",\"marker\":{\"colorbar\":{\"outlinewidth\":0,\"ticks\":\"\"}}}],\"scatterternary\":[{\"type\":\"scatterternary\",\"marker\":{\"colorbar\":{\"outlinewidth\":0,\"ticks\":\"\"}}}],\"scattercarpet\":[{\"type\":\"scattercarpet\",\"marker\":{\"colorbar\":{\"outlinewidth\":0,\"ticks\":\"\"}}}],\"carpet\":[{\"aaxis\":{\"endlinecolor\":\"#2a3f5f\",\"gridcolor\":\"white\",\"linecolor\":\"white\",\"minorgridcolor\":\"white\",\"startlinecolor\":\"#2a3f5f\"},\"baxis\":{\"endlinecolor\":\"#2a3f5f\",\"gridcolor\":\"white\",\"linecolor\":\"white\",\"minorgridcolor\":\"white\",\"startlinecolor\":\"#2a3f5f\"},\"type\":\"carpet\"}],\"table\":[{\"cells\":{\"fill\":{\"color\":\"#EBF0F8\"},\"line\":{\"color\":\"white\"}},\"header\":{\"fill\":{\"color\":\"#C8D4E3\"},\"line\":{\"color\":\"white\"}},\"type\":\"table\"}],\"barpolar\":[{\"marker\":{\"line\":{\"color\":\"#E5ECF6\",\"width\":0.5},\"pattern\":{\"fillmode\":\"overlay\",\"size\":10,\"solidity\":0.2}},\"type\":\"barpolar\"}],\"pie\":[{\"automargin\":true,\"type\":\"pie\"}]},\"layout\":{\"autotypenumbers\":\"strict\",\"colorway\":[\"#636efa\",\"#EF553B\",\"#00cc96\",\"#ab63fa\",\"#FFA15A\",\"#19d3f3\",\"#FF6692\",\"#B6E880\",\"#FF97FF\",\"#FECB52\"],\"font\":{\"color\":\"#2a3f5f\"},\"hovermode\":\"closest\",\"hoverlabel\":{\"align\":\"left\"},\"paper_bgcolor\":\"white\",\"plot_bgcolor\":\"#E5ECF6\",\"polar\":{\"bgcolor\":\"#E5ECF6\",\"angularaxis\":{\"gridcolor\":\"white\",\"linecolor\":\"white\",\"ticks\":\"\"},\"radialaxis\":{\"gridcolor\":\"white\",\"linecolor\":\"white\",\"ticks\":\"\"}},\"ternary\":{\"bgcolor\":\"#E5ECF6\",\"aaxis\":{\"gridcolor\":\"white\",\"linecolor\":\"white\",\"ticks\":\"\"},\"baxis\":{\"gridcolor\":\"white\",\"linecolor\":\"white\",\"ticks\":\"\"},\"caxis\":{\"gridcolor\":\"white\",\"linecolor\":\"white\",\"ticks\":\"\"}},\"coloraxis\":{\"colorbar\":{\"outlinewidth\":0,\"ticks\":\"\"}},\"colorscale\":{\"sequential\":[[0.0,\"#0d0887\"],[0.1111111111111111,\"#46039f\"],[0.2222222222222222,\"#7201a8\"],[0.3333333333333333,\"#9c179e\"],[0.4444444444444444,\"#bd3786\"],[0.5555555555555556,\"#d8576b\"],[0.6666666666666666,\"#ed7953\"],[0.7777777777777778,\"#fb9f3a\"],[0.8888888888888888,\"#fdca26\"],[1.0,\"#f0f921\"]],\"sequentialminus\":[[0.0,\"#0d0887\"],[0.1111111111111111,\"#46039f\"],[0.2222222222222222,\"#7201a8\"],[0.3333333333333333,\"#9c179e\"],[0.4444444444444444,\"#bd3786\"],[0.5555555555555556,\"#d8576b\"],[0.6666666666666666,\"#ed7953\"],[0.7777777777777778,\"#fb9f3a\"],[0.8888888888888888,\"#fdca26\"],[1.0,\"#f0f921\"]],\"diverging\":[[0,\"#8e0152\"],[0.1,\"#c51b7d\"],[0.2,\"#de77ae\"],[0.3,\"#f1b6da\"],[0.4,\"#fde0ef\"],[0.5,\"#f7f7f7\"],[0.6,\"#e6f5d0\"],[0.7,\"#b8e186\"],[0.8,\"#7fbc41\"],[0.9,\"#4d9221\"],[1,\"#276419\"]]},\"xaxis\":{\"gridcolor\":\"white\",\"linecolor\":\"white\",\"ticks\":\"\",\"title\":{\"standoff\":15},\"zerolinecolor\":\"white\",\"automargin\":true,\"zerolinewidth\":2},\"yaxis\":{\"gridcolor\":\"white\",\"linecolor\":\"white\",\"ticks\":\"\",\"title\":{\"standoff\":15},\"zerolinecolor\":\"white\",\"automargin\":true,\"zerolinewidth\":2},\"scene\":{\"xaxis\":{\"backgroundcolor\":\"#E5ECF6\",\"gridcolor\":\"white\",\"linecolor\":\"white\",\"showbackground\":true,\"ticks\":\"\",\"zerolinecolor\":\"white\",\"gridwidth\":2},\"yaxis\":{\"backgroundcolor\":\"#E5ECF6\",\"gridcolor\":\"white\",\"linecolor\":\"white\",\"showbackground\":true,\"ticks\":\"\",\"zerolinecolor\":\"white\",\"gridwidth\":2},\"zaxis\":{\"backgroundcolor\":\"#E5ECF6\",\"gridcolor\":\"white\",\"linecolor\":\"white\",\"showbackground\":true,\"ticks\":\"\",\"zerolinecolor\":\"white\",\"gridwidth\":2}},\"shapedefaults\":{\"line\":{\"color\":\"#2a3f5f\"}},\"annotationdefaults\":{\"arrowcolor\":\"#2a3f5f\",\"arrowhead\":0,\"arrowwidth\":1},\"geo\":{\"bgcolor\":\"white\",\"landcolor\":\"#E5ECF6\",\"subunitcolor\":\"white\",\"showland\":true,\"showlakes\":true,\"lakecolor\":\"white\"},\"title\":{\"x\":0.05},\"mapbox\":{\"style\":\"light\"}}},\"font\":{\"family\":\"Arial\",\"color\":\"#22314E\",\"size\":16}},                        {\"responsive\": true}                    ).then(function(){\n",
       "                            \n",
       "var gd = document.getElementById('d69f8bd7-6088-4edd-8430-2ebfe6125e06');\n",
       "var x = new MutationObserver(function (mutations, observer) {{\n",
       "        var display = window.getComputedStyle(gd).display;\n",
       "        if (!display || display === 'none') {{\n",
       "            console.log([gd, 'removed!']);\n",
       "            Plotly.purge(gd);\n",
       "            observer.disconnect();\n",
       "        }}\n",
       "}});\n",
       "\n",
       "// Listen for the removal of the full notebook cells\n",
       "var notebookContainer = gd.closest('#notebook-container');\n",
       "if (notebookContainer) {{\n",
       "    x.observe(notebookContainer, {childList: true});\n",
       "}}\n",
       "\n",
       "// Listen for the clearing of the current output cell\n",
       "var outputEl = gd.closest('.output');\n",
       "if (outputEl) {{\n",
       "    x.observe(outputEl, {childList: true});\n",
       "}}\n",
       "\n",
       "                        })                };                });            </script>        </div>"
      ]
     },
     "metadata": {},
     "output_type": "display_data"
    }
   ],
   "source": [
    "# Plot Gazebo Arch\n",
    "trace1 = go.Pie(values= list(by_arch.values()), labels = list(by_arch.keys()),sort= False)\n",
    "layout = go.Layout(title=\"Gazebo Downloads By Arch November 2023\")\n",
    "fig = go.Figure(data=trace1, layout=layout)\n",
    "\n",
    "\n",
    "fig.update_layout(\n",
    "    font_family=\"Arial\",\n",
    "    font_color=\"#22314E\",\n",
    "    font_size=16,\n",
    "    title_font_size = 24,\n",
    "    title_font_family=\"Arial\",\n",
    "    title_font_color=\"#22314E\"\n",
    ")\n",
    "\n",
    "fig.show()"
   ]
  },
  {
   "cell_type": "code",
   "execution_count": 167,
   "id": "834a4cab",
   "metadata": {},
   "outputs": [
    {
     "name": "stdout",
     "output_type": "stream",
     "text": [
      "{'jammy': 404974, 'focal': 237902, 'bionic': 59207, 'artful': 1456, 'xenial': 10342, 'vivid': 1605, 'trusty': 4050, 'precise': 2450, 'wily': 897, 'zesty': 1533, 'yakety': 0}\n"
     ]
    }
   ],
   "source": [
    "#Now let's do distro, the process is the same\n",
    "# Let's start simple and do arch. \n",
    "distros = [\"jammy\",\"focal\",\"bionic\",\"artful\",\"xenial\",\"vivid\",\"trusty\",\"precise\",\"wily\",\"zesty\",\"yakety\",\"artful\"]\n",
    "by_distro = {}\n",
    "total = 0\n",
    "for distro in distros:\n",
    "    temp = output[output[\"distro\"] == distro][\"count\"].sum()\n",
    "    total += temp\n",
    "    by_distro[distro] = temp\n",
    "print(by_distro)"
   ]
  },
  {
   "cell_type": "code",
   "execution_count": 168,
   "id": "76db853f",
   "metadata": {},
   "outputs": [
    {
     "data": {
      "application/vnd.plotly.v1+json": {
       "config": {
        "plotlyServerURL": "https://plot.ly"
       },
       "data": [
        {
         "labels": [
          "jammy",
          "focal",
          "bionic",
          "artful",
          "xenial",
          "vivid",
          "trusty",
          "precise",
          "wily",
          "zesty",
          "yakety"
         ],
         "sort": false,
         "type": "pie",
         "values": [
          404974,
          237902,
          59207,
          1456,
          10342,
          1605,
          4050,
          2450,
          897,
          1533,
          0
         ]
        }
       ],
       "layout": {
        "font": {
         "color": "#22314E",
         "family": "Arial",
         "size": 16
        },
        "template": {
         "data": {
          "bar": [
           {
            "error_x": {
             "color": "#2a3f5f"
            },
            "error_y": {
             "color": "#2a3f5f"
            },
            "marker": {
             "line": {
              "color": "#E5ECF6",
              "width": 0.5
             },
             "pattern": {
              "fillmode": "overlay",
              "size": 10,
              "solidity": 0.2
             }
            },
            "type": "bar"
           }
          ],
          "barpolar": [
           {
            "marker": {
             "line": {
              "color": "#E5ECF6",
              "width": 0.5
             },
             "pattern": {
              "fillmode": "overlay",
              "size": 10,
              "solidity": 0.2
             }
            },
            "type": "barpolar"
           }
          ],
          "carpet": [
           {
            "aaxis": {
             "endlinecolor": "#2a3f5f",
             "gridcolor": "white",
             "linecolor": "white",
             "minorgridcolor": "white",
             "startlinecolor": "#2a3f5f"
            },
            "baxis": {
             "endlinecolor": "#2a3f5f",
             "gridcolor": "white",
             "linecolor": "white",
             "minorgridcolor": "white",
             "startlinecolor": "#2a3f5f"
            },
            "type": "carpet"
           }
          ],
          "choropleth": [
           {
            "colorbar": {
             "outlinewidth": 0,
             "ticks": ""
            },
            "type": "choropleth"
           }
          ],
          "contour": [
           {
            "colorbar": {
             "outlinewidth": 0,
             "ticks": ""
            },
            "colorscale": [
             [
              0,
              "#0d0887"
             ],
             [
              0.1111111111111111,
              "#46039f"
             ],
             [
              0.2222222222222222,
              "#7201a8"
             ],
             [
              0.3333333333333333,
              "#9c179e"
             ],
             [
              0.4444444444444444,
              "#bd3786"
             ],
             [
              0.5555555555555556,
              "#d8576b"
             ],
             [
              0.6666666666666666,
              "#ed7953"
             ],
             [
              0.7777777777777778,
              "#fb9f3a"
             ],
             [
              0.8888888888888888,
              "#fdca26"
             ],
             [
              1,
              "#f0f921"
             ]
            ],
            "type": "contour"
           }
          ],
          "contourcarpet": [
           {
            "colorbar": {
             "outlinewidth": 0,
             "ticks": ""
            },
            "type": "contourcarpet"
           }
          ],
          "heatmap": [
           {
            "colorbar": {
             "outlinewidth": 0,
             "ticks": ""
            },
            "colorscale": [
             [
              0,
              "#0d0887"
             ],
             [
              0.1111111111111111,
              "#46039f"
             ],
             [
              0.2222222222222222,
              "#7201a8"
             ],
             [
              0.3333333333333333,
              "#9c179e"
             ],
             [
              0.4444444444444444,
              "#bd3786"
             ],
             [
              0.5555555555555556,
              "#d8576b"
             ],
             [
              0.6666666666666666,
              "#ed7953"
             ],
             [
              0.7777777777777778,
              "#fb9f3a"
             ],
             [
              0.8888888888888888,
              "#fdca26"
             ],
             [
              1,
              "#f0f921"
             ]
            ],
            "type": "heatmap"
           }
          ],
          "heatmapgl": [
           {
            "colorbar": {
             "outlinewidth": 0,
             "ticks": ""
            },
            "colorscale": [
             [
              0,
              "#0d0887"
             ],
             [
              0.1111111111111111,
              "#46039f"
             ],
             [
              0.2222222222222222,
              "#7201a8"
             ],
             [
              0.3333333333333333,
              "#9c179e"
             ],
             [
              0.4444444444444444,
              "#bd3786"
             ],
             [
              0.5555555555555556,
              "#d8576b"
             ],
             [
              0.6666666666666666,
              "#ed7953"
             ],
             [
              0.7777777777777778,
              "#fb9f3a"
             ],
             [
              0.8888888888888888,
              "#fdca26"
             ],
             [
              1,
              "#f0f921"
             ]
            ],
            "type": "heatmapgl"
           }
          ],
          "histogram": [
           {
            "marker": {
             "pattern": {
              "fillmode": "overlay",
              "size": 10,
              "solidity": 0.2
             }
            },
            "type": "histogram"
           }
          ],
          "histogram2d": [
           {
            "colorbar": {
             "outlinewidth": 0,
             "ticks": ""
            },
            "colorscale": [
             [
              0,
              "#0d0887"
             ],
             [
              0.1111111111111111,
              "#46039f"
             ],
             [
              0.2222222222222222,
              "#7201a8"
             ],
             [
              0.3333333333333333,
              "#9c179e"
             ],
             [
              0.4444444444444444,
              "#bd3786"
             ],
             [
              0.5555555555555556,
              "#d8576b"
             ],
             [
              0.6666666666666666,
              "#ed7953"
             ],
             [
              0.7777777777777778,
              "#fb9f3a"
             ],
             [
              0.8888888888888888,
              "#fdca26"
             ],
             [
              1,
              "#f0f921"
             ]
            ],
            "type": "histogram2d"
           }
          ],
          "histogram2dcontour": [
           {
            "colorbar": {
             "outlinewidth": 0,
             "ticks": ""
            },
            "colorscale": [
             [
              0,
              "#0d0887"
             ],
             [
              0.1111111111111111,
              "#46039f"
             ],
             [
              0.2222222222222222,
              "#7201a8"
             ],
             [
              0.3333333333333333,
              "#9c179e"
             ],
             [
              0.4444444444444444,
              "#bd3786"
             ],
             [
              0.5555555555555556,
              "#d8576b"
             ],
             [
              0.6666666666666666,
              "#ed7953"
             ],
             [
              0.7777777777777778,
              "#fb9f3a"
             ],
             [
              0.8888888888888888,
              "#fdca26"
             ],
             [
              1,
              "#f0f921"
             ]
            ],
            "type": "histogram2dcontour"
           }
          ],
          "mesh3d": [
           {
            "colorbar": {
             "outlinewidth": 0,
             "ticks": ""
            },
            "type": "mesh3d"
           }
          ],
          "parcoords": [
           {
            "line": {
             "colorbar": {
              "outlinewidth": 0,
              "ticks": ""
             }
            },
            "type": "parcoords"
           }
          ],
          "pie": [
           {
            "automargin": true,
            "type": "pie"
           }
          ],
          "scatter": [
           {
            "fillpattern": {
             "fillmode": "overlay",
             "size": 10,
             "solidity": 0.2
            },
            "type": "scatter"
           }
          ],
          "scatter3d": [
           {
            "line": {
             "colorbar": {
              "outlinewidth": 0,
              "ticks": ""
             }
            },
            "marker": {
             "colorbar": {
              "outlinewidth": 0,
              "ticks": ""
             }
            },
            "type": "scatter3d"
           }
          ],
          "scattercarpet": [
           {
            "marker": {
             "colorbar": {
              "outlinewidth": 0,
              "ticks": ""
             }
            },
            "type": "scattercarpet"
           }
          ],
          "scattergeo": [
           {
            "marker": {
             "colorbar": {
              "outlinewidth": 0,
              "ticks": ""
             }
            },
            "type": "scattergeo"
           }
          ],
          "scattergl": [
           {
            "marker": {
             "colorbar": {
              "outlinewidth": 0,
              "ticks": ""
             }
            },
            "type": "scattergl"
           }
          ],
          "scattermapbox": [
           {
            "marker": {
             "colorbar": {
              "outlinewidth": 0,
              "ticks": ""
             }
            },
            "type": "scattermapbox"
           }
          ],
          "scatterpolar": [
           {
            "marker": {
             "colorbar": {
              "outlinewidth": 0,
              "ticks": ""
             }
            },
            "type": "scatterpolar"
           }
          ],
          "scatterpolargl": [
           {
            "marker": {
             "colorbar": {
              "outlinewidth": 0,
              "ticks": ""
             }
            },
            "type": "scatterpolargl"
           }
          ],
          "scatterternary": [
           {
            "marker": {
             "colorbar": {
              "outlinewidth": 0,
              "ticks": ""
             }
            },
            "type": "scatterternary"
           }
          ],
          "surface": [
           {
            "colorbar": {
             "outlinewidth": 0,
             "ticks": ""
            },
            "colorscale": [
             [
              0,
              "#0d0887"
             ],
             [
              0.1111111111111111,
              "#46039f"
             ],
             [
              0.2222222222222222,
              "#7201a8"
             ],
             [
              0.3333333333333333,
              "#9c179e"
             ],
             [
              0.4444444444444444,
              "#bd3786"
             ],
             [
              0.5555555555555556,
              "#d8576b"
             ],
             [
              0.6666666666666666,
              "#ed7953"
             ],
             [
              0.7777777777777778,
              "#fb9f3a"
             ],
             [
              0.8888888888888888,
              "#fdca26"
             ],
             [
              1,
              "#f0f921"
             ]
            ],
            "type": "surface"
           }
          ],
          "table": [
           {
            "cells": {
             "fill": {
              "color": "#EBF0F8"
             },
             "line": {
              "color": "white"
             }
            },
            "header": {
             "fill": {
              "color": "#C8D4E3"
             },
             "line": {
              "color": "white"
             }
            },
            "type": "table"
           }
          ]
         },
         "layout": {
          "annotationdefaults": {
           "arrowcolor": "#2a3f5f",
           "arrowhead": 0,
           "arrowwidth": 1
          },
          "autotypenumbers": "strict",
          "coloraxis": {
           "colorbar": {
            "outlinewidth": 0,
            "ticks": ""
           }
          },
          "colorscale": {
           "diverging": [
            [
             0,
             "#8e0152"
            ],
            [
             0.1,
             "#c51b7d"
            ],
            [
             0.2,
             "#de77ae"
            ],
            [
             0.3,
             "#f1b6da"
            ],
            [
             0.4,
             "#fde0ef"
            ],
            [
             0.5,
             "#f7f7f7"
            ],
            [
             0.6,
             "#e6f5d0"
            ],
            [
             0.7,
             "#b8e186"
            ],
            [
             0.8,
             "#7fbc41"
            ],
            [
             0.9,
             "#4d9221"
            ],
            [
             1,
             "#276419"
            ]
           ],
           "sequential": [
            [
             0,
             "#0d0887"
            ],
            [
             0.1111111111111111,
             "#46039f"
            ],
            [
             0.2222222222222222,
             "#7201a8"
            ],
            [
             0.3333333333333333,
             "#9c179e"
            ],
            [
             0.4444444444444444,
             "#bd3786"
            ],
            [
             0.5555555555555556,
             "#d8576b"
            ],
            [
             0.6666666666666666,
             "#ed7953"
            ],
            [
             0.7777777777777778,
             "#fb9f3a"
            ],
            [
             0.8888888888888888,
             "#fdca26"
            ],
            [
             1,
             "#f0f921"
            ]
           ],
           "sequentialminus": [
            [
             0,
             "#0d0887"
            ],
            [
             0.1111111111111111,
             "#46039f"
            ],
            [
             0.2222222222222222,
             "#7201a8"
            ],
            [
             0.3333333333333333,
             "#9c179e"
            ],
            [
             0.4444444444444444,
             "#bd3786"
            ],
            [
             0.5555555555555556,
             "#d8576b"
            ],
            [
             0.6666666666666666,
             "#ed7953"
            ],
            [
             0.7777777777777778,
             "#fb9f3a"
            ],
            [
             0.8888888888888888,
             "#fdca26"
            ],
            [
             1,
             "#f0f921"
            ]
           ]
          },
          "colorway": [
           "#636efa",
           "#EF553B",
           "#00cc96",
           "#ab63fa",
           "#FFA15A",
           "#19d3f3",
           "#FF6692",
           "#B6E880",
           "#FF97FF",
           "#FECB52"
          ],
          "font": {
           "color": "#2a3f5f"
          },
          "geo": {
           "bgcolor": "white",
           "lakecolor": "white",
           "landcolor": "#E5ECF6",
           "showlakes": true,
           "showland": true,
           "subunitcolor": "white"
          },
          "hoverlabel": {
           "align": "left"
          },
          "hovermode": "closest",
          "mapbox": {
           "style": "light"
          },
          "paper_bgcolor": "white",
          "plot_bgcolor": "#E5ECF6",
          "polar": {
           "angularaxis": {
            "gridcolor": "white",
            "linecolor": "white",
            "ticks": ""
           },
           "bgcolor": "#E5ECF6",
           "radialaxis": {
            "gridcolor": "white",
            "linecolor": "white",
            "ticks": ""
           }
          },
          "scene": {
           "xaxis": {
            "backgroundcolor": "#E5ECF6",
            "gridcolor": "white",
            "gridwidth": 2,
            "linecolor": "white",
            "showbackground": true,
            "ticks": "",
            "zerolinecolor": "white"
           },
           "yaxis": {
            "backgroundcolor": "#E5ECF6",
            "gridcolor": "white",
            "gridwidth": 2,
            "linecolor": "white",
            "showbackground": true,
            "ticks": "",
            "zerolinecolor": "white"
           },
           "zaxis": {
            "backgroundcolor": "#E5ECF6",
            "gridcolor": "white",
            "gridwidth": 2,
            "linecolor": "white",
            "showbackground": true,
            "ticks": "",
            "zerolinecolor": "white"
           }
          },
          "shapedefaults": {
           "line": {
            "color": "#2a3f5f"
           }
          },
          "ternary": {
           "aaxis": {
            "gridcolor": "white",
            "linecolor": "white",
            "ticks": ""
           },
           "baxis": {
            "gridcolor": "white",
            "linecolor": "white",
            "ticks": ""
           },
           "bgcolor": "#E5ECF6",
           "caxis": {
            "gridcolor": "white",
            "linecolor": "white",
            "ticks": ""
           }
          },
          "title": {
           "x": 0.05
          },
          "xaxis": {
           "automargin": true,
           "gridcolor": "white",
           "linecolor": "white",
           "ticks": "",
           "title": {
            "standoff": 15
           },
           "zerolinecolor": "white",
           "zerolinewidth": 2
          },
          "yaxis": {
           "automargin": true,
           "gridcolor": "white",
           "linecolor": "white",
           "ticks": "",
           "title": {
            "standoff": 15
           },
           "zerolinecolor": "white",
           "zerolinewidth": 2
          }
         }
        },
        "title": {
         "font": {
          "color": "#22314E",
          "family": "Arial",
          "size": 24
         },
         "text": "Gazebo Downloads By Distro November 2023"
        }
       }
      },
      "text/html": [
       "<div>                            <div id=\"21878b59-4ff6-4e24-8bc4-b347363631c4\" class=\"plotly-graph-div\" style=\"height:525px; width:100%;\"></div>            <script type=\"text/javascript\">                require([\"plotly\"], function(Plotly) {                    window.PLOTLYENV=window.PLOTLYENV || {};                                    if (document.getElementById(\"21878b59-4ff6-4e24-8bc4-b347363631c4\")) {                    Plotly.newPlot(                        \"21878b59-4ff6-4e24-8bc4-b347363631c4\",                        [{\"labels\":[\"jammy\",\"focal\",\"bionic\",\"artful\",\"xenial\",\"vivid\",\"trusty\",\"precise\",\"wily\",\"zesty\",\"yakety\"],\"sort\":false,\"values\":[404974,237902,59207,1456,10342,1605,4050,2450,897,1533,0],\"type\":\"pie\"}],                        {\"title\":{\"text\":\"Gazebo Downloads By Distro November 2023\",\"font\":{\"size\":24,\"family\":\"Arial\",\"color\":\"#22314E\"}},\"template\":{\"data\":{\"histogram2dcontour\":[{\"type\":\"histogram2dcontour\",\"colorbar\":{\"outlinewidth\":0,\"ticks\":\"\"},\"colorscale\":[[0.0,\"#0d0887\"],[0.1111111111111111,\"#46039f\"],[0.2222222222222222,\"#7201a8\"],[0.3333333333333333,\"#9c179e\"],[0.4444444444444444,\"#bd3786\"],[0.5555555555555556,\"#d8576b\"],[0.6666666666666666,\"#ed7953\"],[0.7777777777777778,\"#fb9f3a\"],[0.8888888888888888,\"#fdca26\"],[1.0,\"#f0f921\"]]}],\"choropleth\":[{\"type\":\"choropleth\",\"colorbar\":{\"outlinewidth\":0,\"ticks\":\"\"}}],\"histogram2d\":[{\"type\":\"histogram2d\",\"colorbar\":{\"outlinewidth\":0,\"ticks\":\"\"},\"colorscale\":[[0.0,\"#0d0887\"],[0.1111111111111111,\"#46039f\"],[0.2222222222222222,\"#7201a8\"],[0.3333333333333333,\"#9c179e\"],[0.4444444444444444,\"#bd3786\"],[0.5555555555555556,\"#d8576b\"],[0.6666666666666666,\"#ed7953\"],[0.7777777777777778,\"#fb9f3a\"],[0.8888888888888888,\"#fdca26\"],[1.0,\"#f0f921\"]]}],\"heatmap\":[{\"type\":\"heatmap\",\"colorbar\":{\"outlinewidth\":0,\"ticks\":\"\"},\"colorscale\":[[0.0,\"#0d0887\"],[0.1111111111111111,\"#46039f\"],[0.2222222222222222,\"#7201a8\"],[0.3333333333333333,\"#9c179e\"],[0.4444444444444444,\"#bd3786\"],[0.5555555555555556,\"#d8576b\"],[0.6666666666666666,\"#ed7953\"],[0.7777777777777778,\"#fb9f3a\"],[0.8888888888888888,\"#fdca26\"],[1.0,\"#f0f921\"]]}],\"heatmapgl\":[{\"type\":\"heatmapgl\",\"colorbar\":{\"outlinewidth\":0,\"ticks\":\"\"},\"colorscale\":[[0.0,\"#0d0887\"],[0.1111111111111111,\"#46039f\"],[0.2222222222222222,\"#7201a8\"],[0.3333333333333333,\"#9c179e\"],[0.4444444444444444,\"#bd3786\"],[0.5555555555555556,\"#d8576b\"],[0.6666666666666666,\"#ed7953\"],[0.7777777777777778,\"#fb9f3a\"],[0.8888888888888888,\"#fdca26\"],[1.0,\"#f0f921\"]]}],\"contourcarpet\":[{\"type\":\"contourcarpet\",\"colorbar\":{\"outlinewidth\":0,\"ticks\":\"\"}}],\"contour\":[{\"type\":\"contour\",\"colorbar\":{\"outlinewidth\":0,\"ticks\":\"\"},\"colorscale\":[[0.0,\"#0d0887\"],[0.1111111111111111,\"#46039f\"],[0.2222222222222222,\"#7201a8\"],[0.3333333333333333,\"#9c179e\"],[0.4444444444444444,\"#bd3786\"],[0.5555555555555556,\"#d8576b\"],[0.6666666666666666,\"#ed7953\"],[0.7777777777777778,\"#fb9f3a\"],[0.8888888888888888,\"#fdca26\"],[1.0,\"#f0f921\"]]}],\"surface\":[{\"type\":\"surface\",\"colorbar\":{\"outlinewidth\":0,\"ticks\":\"\"},\"colorscale\":[[0.0,\"#0d0887\"],[0.1111111111111111,\"#46039f\"],[0.2222222222222222,\"#7201a8\"],[0.3333333333333333,\"#9c179e\"],[0.4444444444444444,\"#bd3786\"],[0.5555555555555556,\"#d8576b\"],[0.6666666666666666,\"#ed7953\"],[0.7777777777777778,\"#fb9f3a\"],[0.8888888888888888,\"#fdca26\"],[1.0,\"#f0f921\"]]}],\"mesh3d\":[{\"type\":\"mesh3d\",\"colorbar\":{\"outlinewidth\":0,\"ticks\":\"\"}}],\"scatter\":[{\"fillpattern\":{\"fillmode\":\"overlay\",\"size\":10,\"solidity\":0.2},\"type\":\"scatter\"}],\"parcoords\":[{\"type\":\"parcoords\",\"line\":{\"colorbar\":{\"outlinewidth\":0,\"ticks\":\"\"}}}],\"scatterpolargl\":[{\"type\":\"scatterpolargl\",\"marker\":{\"colorbar\":{\"outlinewidth\":0,\"ticks\":\"\"}}}],\"bar\":[{\"error_x\":{\"color\":\"#2a3f5f\"},\"error_y\":{\"color\":\"#2a3f5f\"},\"marker\":{\"line\":{\"color\":\"#E5ECF6\",\"width\":0.5},\"pattern\":{\"fillmode\":\"overlay\",\"size\":10,\"solidity\":0.2}},\"type\":\"bar\"}],\"scattergeo\":[{\"type\":\"scattergeo\",\"marker\":{\"colorbar\":{\"outlinewidth\":0,\"ticks\":\"\"}}}],\"scatterpolar\":[{\"type\":\"scatterpolar\",\"marker\":{\"colorbar\":{\"outlinewidth\":0,\"ticks\":\"\"}}}],\"histogram\":[{\"marker\":{\"pattern\":{\"fillmode\":\"overlay\",\"size\":10,\"solidity\":0.2}},\"type\":\"histogram\"}],\"scattergl\":[{\"type\":\"scattergl\",\"marker\":{\"colorbar\":{\"outlinewidth\":0,\"ticks\":\"\"}}}],\"scatter3d\":[{\"type\":\"scatter3d\",\"line\":{\"colorbar\":{\"outlinewidth\":0,\"ticks\":\"\"}},\"marker\":{\"colorbar\":{\"outlinewidth\":0,\"ticks\":\"\"}}}],\"scattermapbox\":[{\"type\":\"scattermapbox\",\"marker\":{\"colorbar\":{\"outlinewidth\":0,\"ticks\":\"\"}}}],\"scatterternary\":[{\"type\":\"scatterternary\",\"marker\":{\"colorbar\":{\"outlinewidth\":0,\"ticks\":\"\"}}}],\"scattercarpet\":[{\"type\":\"scattercarpet\",\"marker\":{\"colorbar\":{\"outlinewidth\":0,\"ticks\":\"\"}}}],\"carpet\":[{\"aaxis\":{\"endlinecolor\":\"#2a3f5f\",\"gridcolor\":\"white\",\"linecolor\":\"white\",\"minorgridcolor\":\"white\",\"startlinecolor\":\"#2a3f5f\"},\"baxis\":{\"endlinecolor\":\"#2a3f5f\",\"gridcolor\":\"white\",\"linecolor\":\"white\",\"minorgridcolor\":\"white\",\"startlinecolor\":\"#2a3f5f\"},\"type\":\"carpet\"}],\"table\":[{\"cells\":{\"fill\":{\"color\":\"#EBF0F8\"},\"line\":{\"color\":\"white\"}},\"header\":{\"fill\":{\"color\":\"#C8D4E3\"},\"line\":{\"color\":\"white\"}},\"type\":\"table\"}],\"barpolar\":[{\"marker\":{\"line\":{\"color\":\"#E5ECF6\",\"width\":0.5},\"pattern\":{\"fillmode\":\"overlay\",\"size\":10,\"solidity\":0.2}},\"type\":\"barpolar\"}],\"pie\":[{\"automargin\":true,\"type\":\"pie\"}]},\"layout\":{\"autotypenumbers\":\"strict\",\"colorway\":[\"#636efa\",\"#EF553B\",\"#00cc96\",\"#ab63fa\",\"#FFA15A\",\"#19d3f3\",\"#FF6692\",\"#B6E880\",\"#FF97FF\",\"#FECB52\"],\"font\":{\"color\":\"#2a3f5f\"},\"hovermode\":\"closest\",\"hoverlabel\":{\"align\":\"left\"},\"paper_bgcolor\":\"white\",\"plot_bgcolor\":\"#E5ECF6\",\"polar\":{\"bgcolor\":\"#E5ECF6\",\"angularaxis\":{\"gridcolor\":\"white\",\"linecolor\":\"white\",\"ticks\":\"\"},\"radialaxis\":{\"gridcolor\":\"white\",\"linecolor\":\"white\",\"ticks\":\"\"}},\"ternary\":{\"bgcolor\":\"#E5ECF6\",\"aaxis\":{\"gridcolor\":\"white\",\"linecolor\":\"white\",\"ticks\":\"\"},\"baxis\":{\"gridcolor\":\"white\",\"linecolor\":\"white\",\"ticks\":\"\"},\"caxis\":{\"gridcolor\":\"white\",\"linecolor\":\"white\",\"ticks\":\"\"}},\"coloraxis\":{\"colorbar\":{\"outlinewidth\":0,\"ticks\":\"\"}},\"colorscale\":{\"sequential\":[[0.0,\"#0d0887\"],[0.1111111111111111,\"#46039f\"],[0.2222222222222222,\"#7201a8\"],[0.3333333333333333,\"#9c179e\"],[0.4444444444444444,\"#bd3786\"],[0.5555555555555556,\"#d8576b\"],[0.6666666666666666,\"#ed7953\"],[0.7777777777777778,\"#fb9f3a\"],[0.8888888888888888,\"#fdca26\"],[1.0,\"#f0f921\"]],\"sequentialminus\":[[0.0,\"#0d0887\"],[0.1111111111111111,\"#46039f\"],[0.2222222222222222,\"#7201a8\"],[0.3333333333333333,\"#9c179e\"],[0.4444444444444444,\"#bd3786\"],[0.5555555555555556,\"#d8576b\"],[0.6666666666666666,\"#ed7953\"],[0.7777777777777778,\"#fb9f3a\"],[0.8888888888888888,\"#fdca26\"],[1.0,\"#f0f921\"]],\"diverging\":[[0,\"#8e0152\"],[0.1,\"#c51b7d\"],[0.2,\"#de77ae\"],[0.3,\"#f1b6da\"],[0.4,\"#fde0ef\"],[0.5,\"#f7f7f7\"],[0.6,\"#e6f5d0\"],[0.7,\"#b8e186\"],[0.8,\"#7fbc41\"],[0.9,\"#4d9221\"],[1,\"#276419\"]]},\"xaxis\":{\"gridcolor\":\"white\",\"linecolor\":\"white\",\"ticks\":\"\",\"title\":{\"standoff\":15},\"zerolinecolor\":\"white\",\"automargin\":true,\"zerolinewidth\":2},\"yaxis\":{\"gridcolor\":\"white\",\"linecolor\":\"white\",\"ticks\":\"\",\"title\":{\"standoff\":15},\"zerolinecolor\":\"white\",\"automargin\":true,\"zerolinewidth\":2},\"scene\":{\"xaxis\":{\"backgroundcolor\":\"#E5ECF6\",\"gridcolor\":\"white\",\"linecolor\":\"white\",\"showbackground\":true,\"ticks\":\"\",\"zerolinecolor\":\"white\",\"gridwidth\":2},\"yaxis\":{\"backgroundcolor\":\"#E5ECF6\",\"gridcolor\":\"white\",\"linecolor\":\"white\",\"showbackground\":true,\"ticks\":\"\",\"zerolinecolor\":\"white\",\"gridwidth\":2},\"zaxis\":{\"backgroundcolor\":\"#E5ECF6\",\"gridcolor\":\"white\",\"linecolor\":\"white\",\"showbackground\":true,\"ticks\":\"\",\"zerolinecolor\":\"white\",\"gridwidth\":2}},\"shapedefaults\":{\"line\":{\"color\":\"#2a3f5f\"}},\"annotationdefaults\":{\"arrowcolor\":\"#2a3f5f\",\"arrowhead\":0,\"arrowwidth\":1},\"geo\":{\"bgcolor\":\"white\",\"landcolor\":\"#E5ECF6\",\"subunitcolor\":\"white\",\"showland\":true,\"showlakes\":true,\"lakecolor\":\"white\"},\"title\":{\"x\":0.05},\"mapbox\":{\"style\":\"light\"}}},\"font\":{\"family\":\"Arial\",\"color\":\"#22314E\",\"size\":16}},                        {\"responsive\": true}                    ).then(function(){\n",
       "                            \n",
       "var gd = document.getElementById('21878b59-4ff6-4e24-8bc4-b347363631c4');\n",
       "var x = new MutationObserver(function (mutations, observer) {{\n",
       "        var display = window.getComputedStyle(gd).display;\n",
       "        if (!display || display === 'none') {{\n",
       "            console.log([gd, 'removed!']);\n",
       "            Plotly.purge(gd);\n",
       "            observer.disconnect();\n",
       "        }}\n",
       "}});\n",
       "\n",
       "// Listen for the removal of the full notebook cells\n",
       "var notebookContainer = gd.closest('#notebook-container');\n",
       "if (notebookContainer) {{\n",
       "    x.observe(notebookContainer, {childList: true});\n",
       "}}\n",
       "\n",
       "// Listen for the clearing of the current output cell\n",
       "var outputEl = gd.closest('.output');\n",
       "if (outputEl) {{\n",
       "    x.observe(outputEl, {childList: true});\n",
       "}}\n",
       "\n",
       "                        })                };                });            </script>        </div>"
      ]
     },
     "metadata": {},
     "output_type": "display_data"
    }
   ],
   "source": [
    "trace1 = go.Pie(values= list(by_distro.values()), labels = list(by_distro.keys()),sort= False)\n",
    "layout = go.Layout(title=\"Gazebo Downloads By Distro November 2023\")\n",
    "fig = go.Figure(data=trace1, layout=layout)\n",
    "\n",
    "fig.update_layout(\n",
    "    font_family=\"Arial\",\n",
    "    font_color=\"#22314E\",\n",
    "    font_size=16,\n",
    "    title_font_size = 24,\n",
    "    title_font_family=\"Arial\",\n",
    "    title_font_color=\"#22314E\"\n",
    ")\n",
    "\n",
    "fig.show()"
   ]
  },
  {
   "cell_type": "code",
   "execution_count": 169,
   "id": "bb8d94d6",
   "metadata": {},
   "outputs": [
    {
     "name": "stdout",
     "output_type": "stream",
     "text": [
      "{'citadel': 44500, 'dome': 6550, 'edifice': 14123, 'fortress': 114031, 'garden': 151696, 'harmonic': 53200}\n"
     ]
    }
   ],
   "source": [
    "# Let's look at the relative downloads of each release\n",
    "# Since some packages double count releases we ignore those, as such the values\n",
    "# here are an under count, and we should only focus on the relative amounts\n",
    "releases = [\"citadel\",\"dome\",\"edifice\",\"fortress\",\"garden\",\"harmonic\"] \n",
    "by_release = {}\n",
    "total = 0\n",
    "for release in releases:\n",
    "    temp = output[output[\"release\"] == release][\"count\"].sum()\n",
    "    total += temp\n",
    "    by_release[release] = temp\n",
    "print(by_release)\n"
   ]
  },
  {
   "cell_type": "code",
   "execution_count": 170,
   "id": "2ec70369",
   "metadata": {},
   "outputs": [
    {
     "data": {
      "application/vnd.plotly.v1+json": {
       "config": {
        "plotlyServerURL": "https://plot.ly"
       },
       "data": [
        {
         "labels": [
          "citadel",
          "dome",
          "edifice",
          "fortress",
          "garden",
          "harmonic"
         ],
         "sort": false,
         "type": "pie",
         "values": [
          44500,
          6550,
          14123,
          114031,
          151696,
          53200
         ]
        }
       ],
       "layout": {
        "font": {
         "color": "#22314E",
         "family": "Arial",
         "size": 16
        },
        "template": {
         "data": {
          "bar": [
           {
            "error_x": {
             "color": "#2a3f5f"
            },
            "error_y": {
             "color": "#2a3f5f"
            },
            "marker": {
             "line": {
              "color": "#E5ECF6",
              "width": 0.5
             },
             "pattern": {
              "fillmode": "overlay",
              "size": 10,
              "solidity": 0.2
             }
            },
            "type": "bar"
           }
          ],
          "barpolar": [
           {
            "marker": {
             "line": {
              "color": "#E5ECF6",
              "width": 0.5
             },
             "pattern": {
              "fillmode": "overlay",
              "size": 10,
              "solidity": 0.2
             }
            },
            "type": "barpolar"
           }
          ],
          "carpet": [
           {
            "aaxis": {
             "endlinecolor": "#2a3f5f",
             "gridcolor": "white",
             "linecolor": "white",
             "minorgridcolor": "white",
             "startlinecolor": "#2a3f5f"
            },
            "baxis": {
             "endlinecolor": "#2a3f5f",
             "gridcolor": "white",
             "linecolor": "white",
             "minorgridcolor": "white",
             "startlinecolor": "#2a3f5f"
            },
            "type": "carpet"
           }
          ],
          "choropleth": [
           {
            "colorbar": {
             "outlinewidth": 0,
             "ticks": ""
            },
            "type": "choropleth"
           }
          ],
          "contour": [
           {
            "colorbar": {
             "outlinewidth": 0,
             "ticks": ""
            },
            "colorscale": [
             [
              0,
              "#0d0887"
             ],
             [
              0.1111111111111111,
              "#46039f"
             ],
             [
              0.2222222222222222,
              "#7201a8"
             ],
             [
              0.3333333333333333,
              "#9c179e"
             ],
             [
              0.4444444444444444,
              "#bd3786"
             ],
             [
              0.5555555555555556,
              "#d8576b"
             ],
             [
              0.6666666666666666,
              "#ed7953"
             ],
             [
              0.7777777777777778,
              "#fb9f3a"
             ],
             [
              0.8888888888888888,
              "#fdca26"
             ],
             [
              1,
              "#f0f921"
             ]
            ],
            "type": "contour"
           }
          ],
          "contourcarpet": [
           {
            "colorbar": {
             "outlinewidth": 0,
             "ticks": ""
            },
            "type": "contourcarpet"
           }
          ],
          "heatmap": [
           {
            "colorbar": {
             "outlinewidth": 0,
             "ticks": ""
            },
            "colorscale": [
             [
              0,
              "#0d0887"
             ],
             [
              0.1111111111111111,
              "#46039f"
             ],
             [
              0.2222222222222222,
              "#7201a8"
             ],
             [
              0.3333333333333333,
              "#9c179e"
             ],
             [
              0.4444444444444444,
              "#bd3786"
             ],
             [
              0.5555555555555556,
              "#d8576b"
             ],
             [
              0.6666666666666666,
              "#ed7953"
             ],
             [
              0.7777777777777778,
              "#fb9f3a"
             ],
             [
              0.8888888888888888,
              "#fdca26"
             ],
             [
              1,
              "#f0f921"
             ]
            ],
            "type": "heatmap"
           }
          ],
          "heatmapgl": [
           {
            "colorbar": {
             "outlinewidth": 0,
             "ticks": ""
            },
            "colorscale": [
             [
              0,
              "#0d0887"
             ],
             [
              0.1111111111111111,
              "#46039f"
             ],
             [
              0.2222222222222222,
              "#7201a8"
             ],
             [
              0.3333333333333333,
              "#9c179e"
             ],
             [
              0.4444444444444444,
              "#bd3786"
             ],
             [
              0.5555555555555556,
              "#d8576b"
             ],
             [
              0.6666666666666666,
              "#ed7953"
             ],
             [
              0.7777777777777778,
              "#fb9f3a"
             ],
             [
              0.8888888888888888,
              "#fdca26"
             ],
             [
              1,
              "#f0f921"
             ]
            ],
            "type": "heatmapgl"
           }
          ],
          "histogram": [
           {
            "marker": {
             "pattern": {
              "fillmode": "overlay",
              "size": 10,
              "solidity": 0.2
             }
            },
            "type": "histogram"
           }
          ],
          "histogram2d": [
           {
            "colorbar": {
             "outlinewidth": 0,
             "ticks": ""
            },
            "colorscale": [
             [
              0,
              "#0d0887"
             ],
             [
              0.1111111111111111,
              "#46039f"
             ],
             [
              0.2222222222222222,
              "#7201a8"
             ],
             [
              0.3333333333333333,
              "#9c179e"
             ],
             [
              0.4444444444444444,
              "#bd3786"
             ],
             [
              0.5555555555555556,
              "#d8576b"
             ],
             [
              0.6666666666666666,
              "#ed7953"
             ],
             [
              0.7777777777777778,
              "#fb9f3a"
             ],
             [
              0.8888888888888888,
              "#fdca26"
             ],
             [
              1,
              "#f0f921"
             ]
            ],
            "type": "histogram2d"
           }
          ],
          "histogram2dcontour": [
           {
            "colorbar": {
             "outlinewidth": 0,
             "ticks": ""
            },
            "colorscale": [
             [
              0,
              "#0d0887"
             ],
             [
              0.1111111111111111,
              "#46039f"
             ],
             [
              0.2222222222222222,
              "#7201a8"
             ],
             [
              0.3333333333333333,
              "#9c179e"
             ],
             [
              0.4444444444444444,
              "#bd3786"
             ],
             [
              0.5555555555555556,
              "#d8576b"
             ],
             [
              0.6666666666666666,
              "#ed7953"
             ],
             [
              0.7777777777777778,
              "#fb9f3a"
             ],
             [
              0.8888888888888888,
              "#fdca26"
             ],
             [
              1,
              "#f0f921"
             ]
            ],
            "type": "histogram2dcontour"
           }
          ],
          "mesh3d": [
           {
            "colorbar": {
             "outlinewidth": 0,
             "ticks": ""
            },
            "type": "mesh3d"
           }
          ],
          "parcoords": [
           {
            "line": {
             "colorbar": {
              "outlinewidth": 0,
              "ticks": ""
             }
            },
            "type": "parcoords"
           }
          ],
          "pie": [
           {
            "automargin": true,
            "type": "pie"
           }
          ],
          "scatter": [
           {
            "fillpattern": {
             "fillmode": "overlay",
             "size": 10,
             "solidity": 0.2
            },
            "type": "scatter"
           }
          ],
          "scatter3d": [
           {
            "line": {
             "colorbar": {
              "outlinewidth": 0,
              "ticks": ""
             }
            },
            "marker": {
             "colorbar": {
              "outlinewidth": 0,
              "ticks": ""
             }
            },
            "type": "scatter3d"
           }
          ],
          "scattercarpet": [
           {
            "marker": {
             "colorbar": {
              "outlinewidth": 0,
              "ticks": ""
             }
            },
            "type": "scattercarpet"
           }
          ],
          "scattergeo": [
           {
            "marker": {
             "colorbar": {
              "outlinewidth": 0,
              "ticks": ""
             }
            },
            "type": "scattergeo"
           }
          ],
          "scattergl": [
           {
            "marker": {
             "colorbar": {
              "outlinewidth": 0,
              "ticks": ""
             }
            },
            "type": "scattergl"
           }
          ],
          "scattermapbox": [
           {
            "marker": {
             "colorbar": {
              "outlinewidth": 0,
              "ticks": ""
             }
            },
            "type": "scattermapbox"
           }
          ],
          "scatterpolar": [
           {
            "marker": {
             "colorbar": {
              "outlinewidth": 0,
              "ticks": ""
             }
            },
            "type": "scatterpolar"
           }
          ],
          "scatterpolargl": [
           {
            "marker": {
             "colorbar": {
              "outlinewidth": 0,
              "ticks": ""
             }
            },
            "type": "scatterpolargl"
           }
          ],
          "scatterternary": [
           {
            "marker": {
             "colorbar": {
              "outlinewidth": 0,
              "ticks": ""
             }
            },
            "type": "scatterternary"
           }
          ],
          "surface": [
           {
            "colorbar": {
             "outlinewidth": 0,
             "ticks": ""
            },
            "colorscale": [
             [
              0,
              "#0d0887"
             ],
             [
              0.1111111111111111,
              "#46039f"
             ],
             [
              0.2222222222222222,
              "#7201a8"
             ],
             [
              0.3333333333333333,
              "#9c179e"
             ],
             [
              0.4444444444444444,
              "#bd3786"
             ],
             [
              0.5555555555555556,
              "#d8576b"
             ],
             [
              0.6666666666666666,
              "#ed7953"
             ],
             [
              0.7777777777777778,
              "#fb9f3a"
             ],
             [
              0.8888888888888888,
              "#fdca26"
             ],
             [
              1,
              "#f0f921"
             ]
            ],
            "type": "surface"
           }
          ],
          "table": [
           {
            "cells": {
             "fill": {
              "color": "#EBF0F8"
             },
             "line": {
              "color": "white"
             }
            },
            "header": {
             "fill": {
              "color": "#C8D4E3"
             },
             "line": {
              "color": "white"
             }
            },
            "type": "table"
           }
          ]
         },
         "layout": {
          "annotationdefaults": {
           "arrowcolor": "#2a3f5f",
           "arrowhead": 0,
           "arrowwidth": 1
          },
          "autotypenumbers": "strict",
          "coloraxis": {
           "colorbar": {
            "outlinewidth": 0,
            "ticks": ""
           }
          },
          "colorscale": {
           "diverging": [
            [
             0,
             "#8e0152"
            ],
            [
             0.1,
             "#c51b7d"
            ],
            [
             0.2,
             "#de77ae"
            ],
            [
             0.3,
             "#f1b6da"
            ],
            [
             0.4,
             "#fde0ef"
            ],
            [
             0.5,
             "#f7f7f7"
            ],
            [
             0.6,
             "#e6f5d0"
            ],
            [
             0.7,
             "#b8e186"
            ],
            [
             0.8,
             "#7fbc41"
            ],
            [
             0.9,
             "#4d9221"
            ],
            [
             1,
             "#276419"
            ]
           ],
           "sequential": [
            [
             0,
             "#0d0887"
            ],
            [
             0.1111111111111111,
             "#46039f"
            ],
            [
             0.2222222222222222,
             "#7201a8"
            ],
            [
             0.3333333333333333,
             "#9c179e"
            ],
            [
             0.4444444444444444,
             "#bd3786"
            ],
            [
             0.5555555555555556,
             "#d8576b"
            ],
            [
             0.6666666666666666,
             "#ed7953"
            ],
            [
             0.7777777777777778,
             "#fb9f3a"
            ],
            [
             0.8888888888888888,
             "#fdca26"
            ],
            [
             1,
             "#f0f921"
            ]
           ],
           "sequentialminus": [
            [
             0,
             "#0d0887"
            ],
            [
             0.1111111111111111,
             "#46039f"
            ],
            [
             0.2222222222222222,
             "#7201a8"
            ],
            [
             0.3333333333333333,
             "#9c179e"
            ],
            [
             0.4444444444444444,
             "#bd3786"
            ],
            [
             0.5555555555555556,
             "#d8576b"
            ],
            [
             0.6666666666666666,
             "#ed7953"
            ],
            [
             0.7777777777777778,
             "#fb9f3a"
            ],
            [
             0.8888888888888888,
             "#fdca26"
            ],
            [
             1,
             "#f0f921"
            ]
           ]
          },
          "colorway": [
           "#636efa",
           "#EF553B",
           "#00cc96",
           "#ab63fa",
           "#FFA15A",
           "#19d3f3",
           "#FF6692",
           "#B6E880",
           "#FF97FF",
           "#FECB52"
          ],
          "font": {
           "color": "#2a3f5f"
          },
          "geo": {
           "bgcolor": "white",
           "lakecolor": "white",
           "landcolor": "#E5ECF6",
           "showlakes": true,
           "showland": true,
           "subunitcolor": "white"
          },
          "hoverlabel": {
           "align": "left"
          },
          "hovermode": "closest",
          "mapbox": {
           "style": "light"
          },
          "paper_bgcolor": "white",
          "plot_bgcolor": "#E5ECF6",
          "polar": {
           "angularaxis": {
            "gridcolor": "white",
            "linecolor": "white",
            "ticks": ""
           },
           "bgcolor": "#E5ECF6",
           "radialaxis": {
            "gridcolor": "white",
            "linecolor": "white",
            "ticks": ""
           }
          },
          "scene": {
           "xaxis": {
            "backgroundcolor": "#E5ECF6",
            "gridcolor": "white",
            "gridwidth": 2,
            "linecolor": "white",
            "showbackground": true,
            "ticks": "",
            "zerolinecolor": "white"
           },
           "yaxis": {
            "backgroundcolor": "#E5ECF6",
            "gridcolor": "white",
            "gridwidth": 2,
            "linecolor": "white",
            "showbackground": true,
            "ticks": "",
            "zerolinecolor": "white"
           },
           "zaxis": {
            "backgroundcolor": "#E5ECF6",
            "gridcolor": "white",
            "gridwidth": 2,
            "linecolor": "white",
            "showbackground": true,
            "ticks": "",
            "zerolinecolor": "white"
           }
          },
          "shapedefaults": {
           "line": {
            "color": "#2a3f5f"
           }
          },
          "ternary": {
           "aaxis": {
            "gridcolor": "white",
            "linecolor": "white",
            "ticks": ""
           },
           "baxis": {
            "gridcolor": "white",
            "linecolor": "white",
            "ticks": ""
           },
           "bgcolor": "#E5ECF6",
           "caxis": {
            "gridcolor": "white",
            "linecolor": "white",
            "ticks": ""
           }
          },
          "title": {
           "x": 0.05
          },
          "xaxis": {
           "automargin": true,
           "gridcolor": "white",
           "linecolor": "white",
           "ticks": "",
           "title": {
            "standoff": 15
           },
           "zerolinecolor": "white",
           "zerolinewidth": 2
          },
          "yaxis": {
           "automargin": true,
           "gridcolor": "white",
           "linecolor": "white",
           "ticks": "",
           "title": {
            "standoff": 15
           },
           "zerolinecolor": "white",
           "zerolinewidth": 2
          }
         }
        },
        "title": {
         "font": {
          "color": "#22314E",
          "family": "Arial",
          "size": 24
         },
         "text": "Gazebo Downloads By Release November 2023"
        }
       }
      },
      "text/html": [
       "<div>                            <div id=\"364e637f-bee2-454b-8131-d03fa32bcfff\" class=\"plotly-graph-div\" style=\"height:525px; width:100%;\"></div>            <script type=\"text/javascript\">                require([\"plotly\"], function(Plotly) {                    window.PLOTLYENV=window.PLOTLYENV || {};                                    if (document.getElementById(\"364e637f-bee2-454b-8131-d03fa32bcfff\")) {                    Plotly.newPlot(                        \"364e637f-bee2-454b-8131-d03fa32bcfff\",                        [{\"labels\":[\"citadel\",\"dome\",\"edifice\",\"fortress\",\"garden\",\"harmonic\"],\"sort\":false,\"values\":[44500,6550,14123,114031,151696,53200],\"type\":\"pie\"}],                        {\"title\":{\"text\":\"Gazebo Downloads By Release November 2023\",\"font\":{\"size\":24,\"family\":\"Arial\",\"color\":\"#22314E\"}},\"template\":{\"data\":{\"histogram2dcontour\":[{\"type\":\"histogram2dcontour\",\"colorbar\":{\"outlinewidth\":0,\"ticks\":\"\"},\"colorscale\":[[0.0,\"#0d0887\"],[0.1111111111111111,\"#46039f\"],[0.2222222222222222,\"#7201a8\"],[0.3333333333333333,\"#9c179e\"],[0.4444444444444444,\"#bd3786\"],[0.5555555555555556,\"#d8576b\"],[0.6666666666666666,\"#ed7953\"],[0.7777777777777778,\"#fb9f3a\"],[0.8888888888888888,\"#fdca26\"],[1.0,\"#f0f921\"]]}],\"choropleth\":[{\"type\":\"choropleth\",\"colorbar\":{\"outlinewidth\":0,\"ticks\":\"\"}}],\"histogram2d\":[{\"type\":\"histogram2d\",\"colorbar\":{\"outlinewidth\":0,\"ticks\":\"\"},\"colorscale\":[[0.0,\"#0d0887\"],[0.1111111111111111,\"#46039f\"],[0.2222222222222222,\"#7201a8\"],[0.3333333333333333,\"#9c179e\"],[0.4444444444444444,\"#bd3786\"],[0.5555555555555556,\"#d8576b\"],[0.6666666666666666,\"#ed7953\"],[0.7777777777777778,\"#fb9f3a\"],[0.8888888888888888,\"#fdca26\"],[1.0,\"#f0f921\"]]}],\"heatmap\":[{\"type\":\"heatmap\",\"colorbar\":{\"outlinewidth\":0,\"ticks\":\"\"},\"colorscale\":[[0.0,\"#0d0887\"],[0.1111111111111111,\"#46039f\"],[0.2222222222222222,\"#7201a8\"],[0.3333333333333333,\"#9c179e\"],[0.4444444444444444,\"#bd3786\"],[0.5555555555555556,\"#d8576b\"],[0.6666666666666666,\"#ed7953\"],[0.7777777777777778,\"#fb9f3a\"],[0.8888888888888888,\"#fdca26\"],[1.0,\"#f0f921\"]]}],\"heatmapgl\":[{\"type\":\"heatmapgl\",\"colorbar\":{\"outlinewidth\":0,\"ticks\":\"\"},\"colorscale\":[[0.0,\"#0d0887\"],[0.1111111111111111,\"#46039f\"],[0.2222222222222222,\"#7201a8\"],[0.3333333333333333,\"#9c179e\"],[0.4444444444444444,\"#bd3786\"],[0.5555555555555556,\"#d8576b\"],[0.6666666666666666,\"#ed7953\"],[0.7777777777777778,\"#fb9f3a\"],[0.8888888888888888,\"#fdca26\"],[1.0,\"#f0f921\"]]}],\"contourcarpet\":[{\"type\":\"contourcarpet\",\"colorbar\":{\"outlinewidth\":0,\"ticks\":\"\"}}],\"contour\":[{\"type\":\"contour\",\"colorbar\":{\"outlinewidth\":0,\"ticks\":\"\"},\"colorscale\":[[0.0,\"#0d0887\"],[0.1111111111111111,\"#46039f\"],[0.2222222222222222,\"#7201a8\"],[0.3333333333333333,\"#9c179e\"],[0.4444444444444444,\"#bd3786\"],[0.5555555555555556,\"#d8576b\"],[0.6666666666666666,\"#ed7953\"],[0.7777777777777778,\"#fb9f3a\"],[0.8888888888888888,\"#fdca26\"],[1.0,\"#f0f921\"]]}],\"surface\":[{\"type\":\"surface\",\"colorbar\":{\"outlinewidth\":0,\"ticks\":\"\"},\"colorscale\":[[0.0,\"#0d0887\"],[0.1111111111111111,\"#46039f\"],[0.2222222222222222,\"#7201a8\"],[0.3333333333333333,\"#9c179e\"],[0.4444444444444444,\"#bd3786\"],[0.5555555555555556,\"#d8576b\"],[0.6666666666666666,\"#ed7953\"],[0.7777777777777778,\"#fb9f3a\"],[0.8888888888888888,\"#fdca26\"],[1.0,\"#f0f921\"]]}],\"mesh3d\":[{\"type\":\"mesh3d\",\"colorbar\":{\"outlinewidth\":0,\"ticks\":\"\"}}],\"scatter\":[{\"fillpattern\":{\"fillmode\":\"overlay\",\"size\":10,\"solidity\":0.2},\"type\":\"scatter\"}],\"parcoords\":[{\"type\":\"parcoords\",\"line\":{\"colorbar\":{\"outlinewidth\":0,\"ticks\":\"\"}}}],\"scatterpolargl\":[{\"type\":\"scatterpolargl\",\"marker\":{\"colorbar\":{\"outlinewidth\":0,\"ticks\":\"\"}}}],\"bar\":[{\"error_x\":{\"color\":\"#2a3f5f\"},\"error_y\":{\"color\":\"#2a3f5f\"},\"marker\":{\"line\":{\"color\":\"#E5ECF6\",\"width\":0.5},\"pattern\":{\"fillmode\":\"overlay\",\"size\":10,\"solidity\":0.2}},\"type\":\"bar\"}],\"scattergeo\":[{\"type\":\"scattergeo\",\"marker\":{\"colorbar\":{\"outlinewidth\":0,\"ticks\":\"\"}}}],\"scatterpolar\":[{\"type\":\"scatterpolar\",\"marker\":{\"colorbar\":{\"outlinewidth\":0,\"ticks\":\"\"}}}],\"histogram\":[{\"marker\":{\"pattern\":{\"fillmode\":\"overlay\",\"size\":10,\"solidity\":0.2}},\"type\":\"histogram\"}],\"scattergl\":[{\"type\":\"scattergl\",\"marker\":{\"colorbar\":{\"outlinewidth\":0,\"ticks\":\"\"}}}],\"scatter3d\":[{\"type\":\"scatter3d\",\"line\":{\"colorbar\":{\"outlinewidth\":0,\"ticks\":\"\"}},\"marker\":{\"colorbar\":{\"outlinewidth\":0,\"ticks\":\"\"}}}],\"scattermapbox\":[{\"type\":\"scattermapbox\",\"marker\":{\"colorbar\":{\"outlinewidth\":0,\"ticks\":\"\"}}}],\"scatterternary\":[{\"type\":\"scatterternary\",\"marker\":{\"colorbar\":{\"outlinewidth\":0,\"ticks\":\"\"}}}],\"scattercarpet\":[{\"type\":\"scattercarpet\",\"marker\":{\"colorbar\":{\"outlinewidth\":0,\"ticks\":\"\"}}}],\"carpet\":[{\"aaxis\":{\"endlinecolor\":\"#2a3f5f\",\"gridcolor\":\"white\",\"linecolor\":\"white\",\"minorgridcolor\":\"white\",\"startlinecolor\":\"#2a3f5f\"},\"baxis\":{\"endlinecolor\":\"#2a3f5f\",\"gridcolor\":\"white\",\"linecolor\":\"white\",\"minorgridcolor\":\"white\",\"startlinecolor\":\"#2a3f5f\"},\"type\":\"carpet\"}],\"table\":[{\"cells\":{\"fill\":{\"color\":\"#EBF0F8\"},\"line\":{\"color\":\"white\"}},\"header\":{\"fill\":{\"color\":\"#C8D4E3\"},\"line\":{\"color\":\"white\"}},\"type\":\"table\"}],\"barpolar\":[{\"marker\":{\"line\":{\"color\":\"#E5ECF6\",\"width\":0.5},\"pattern\":{\"fillmode\":\"overlay\",\"size\":10,\"solidity\":0.2}},\"type\":\"barpolar\"}],\"pie\":[{\"automargin\":true,\"type\":\"pie\"}]},\"layout\":{\"autotypenumbers\":\"strict\",\"colorway\":[\"#636efa\",\"#EF553B\",\"#00cc96\",\"#ab63fa\",\"#FFA15A\",\"#19d3f3\",\"#FF6692\",\"#B6E880\",\"#FF97FF\",\"#FECB52\"],\"font\":{\"color\":\"#2a3f5f\"},\"hovermode\":\"closest\",\"hoverlabel\":{\"align\":\"left\"},\"paper_bgcolor\":\"white\",\"plot_bgcolor\":\"#E5ECF6\",\"polar\":{\"bgcolor\":\"#E5ECF6\",\"angularaxis\":{\"gridcolor\":\"white\",\"linecolor\":\"white\",\"ticks\":\"\"},\"radialaxis\":{\"gridcolor\":\"white\",\"linecolor\":\"white\",\"ticks\":\"\"}},\"ternary\":{\"bgcolor\":\"#E5ECF6\",\"aaxis\":{\"gridcolor\":\"white\",\"linecolor\":\"white\",\"ticks\":\"\"},\"baxis\":{\"gridcolor\":\"white\",\"linecolor\":\"white\",\"ticks\":\"\"},\"caxis\":{\"gridcolor\":\"white\",\"linecolor\":\"white\",\"ticks\":\"\"}},\"coloraxis\":{\"colorbar\":{\"outlinewidth\":0,\"ticks\":\"\"}},\"colorscale\":{\"sequential\":[[0.0,\"#0d0887\"],[0.1111111111111111,\"#46039f\"],[0.2222222222222222,\"#7201a8\"],[0.3333333333333333,\"#9c179e\"],[0.4444444444444444,\"#bd3786\"],[0.5555555555555556,\"#d8576b\"],[0.6666666666666666,\"#ed7953\"],[0.7777777777777778,\"#fb9f3a\"],[0.8888888888888888,\"#fdca26\"],[1.0,\"#f0f921\"]],\"sequentialminus\":[[0.0,\"#0d0887\"],[0.1111111111111111,\"#46039f\"],[0.2222222222222222,\"#7201a8\"],[0.3333333333333333,\"#9c179e\"],[0.4444444444444444,\"#bd3786\"],[0.5555555555555556,\"#d8576b\"],[0.6666666666666666,\"#ed7953\"],[0.7777777777777778,\"#fb9f3a\"],[0.8888888888888888,\"#fdca26\"],[1.0,\"#f0f921\"]],\"diverging\":[[0,\"#8e0152\"],[0.1,\"#c51b7d\"],[0.2,\"#de77ae\"],[0.3,\"#f1b6da\"],[0.4,\"#fde0ef\"],[0.5,\"#f7f7f7\"],[0.6,\"#e6f5d0\"],[0.7,\"#b8e186\"],[0.8,\"#7fbc41\"],[0.9,\"#4d9221\"],[1,\"#276419\"]]},\"xaxis\":{\"gridcolor\":\"white\",\"linecolor\":\"white\",\"ticks\":\"\",\"title\":{\"standoff\":15},\"zerolinecolor\":\"white\",\"automargin\":true,\"zerolinewidth\":2},\"yaxis\":{\"gridcolor\":\"white\",\"linecolor\":\"white\",\"ticks\":\"\",\"title\":{\"standoff\":15},\"zerolinecolor\":\"white\",\"automargin\":true,\"zerolinewidth\":2},\"scene\":{\"xaxis\":{\"backgroundcolor\":\"#E5ECF6\",\"gridcolor\":\"white\",\"linecolor\":\"white\",\"showbackground\":true,\"ticks\":\"\",\"zerolinecolor\":\"white\",\"gridwidth\":2},\"yaxis\":{\"backgroundcolor\":\"#E5ECF6\",\"gridcolor\":\"white\",\"linecolor\":\"white\",\"showbackground\":true,\"ticks\":\"\",\"zerolinecolor\":\"white\",\"gridwidth\":2},\"zaxis\":{\"backgroundcolor\":\"#E5ECF6\",\"gridcolor\":\"white\",\"linecolor\":\"white\",\"showbackground\":true,\"ticks\":\"\",\"zerolinecolor\":\"white\",\"gridwidth\":2}},\"shapedefaults\":{\"line\":{\"color\":\"#2a3f5f\"}},\"annotationdefaults\":{\"arrowcolor\":\"#2a3f5f\",\"arrowhead\":0,\"arrowwidth\":1},\"geo\":{\"bgcolor\":\"white\",\"landcolor\":\"#E5ECF6\",\"subunitcolor\":\"white\",\"showland\":true,\"showlakes\":true,\"lakecolor\":\"white\"},\"title\":{\"x\":0.05},\"mapbox\":{\"style\":\"light\"}}},\"font\":{\"family\":\"Arial\",\"color\":\"#22314E\",\"size\":16}},                        {\"responsive\": true}                    ).then(function(){\n",
       "                            \n",
       "var gd = document.getElementById('364e637f-bee2-454b-8131-d03fa32bcfff');\n",
       "var x = new MutationObserver(function (mutations, observer) {{\n",
       "        var display = window.getComputedStyle(gd).display;\n",
       "        if (!display || display === 'none') {{\n",
       "            console.log([gd, 'removed!']);\n",
       "            Plotly.purge(gd);\n",
       "            observer.disconnect();\n",
       "        }}\n",
       "}});\n",
       "\n",
       "// Listen for the removal of the full notebook cells\n",
       "var notebookContainer = gd.closest('#notebook-container');\n",
       "if (notebookContainer) {{\n",
       "    x.observe(notebookContainer, {childList: true});\n",
       "}}\n",
       "\n",
       "// Listen for the clearing of the current output cell\n",
       "var outputEl = gd.closest('.output');\n",
       "if (outputEl) {{\n",
       "    x.observe(outputEl, {childList: true});\n",
       "}}\n",
       "\n",
       "                        })                };                });            </script>        </div>"
      ]
     },
     "metadata": {},
     "output_type": "display_data"
    }
   ],
   "source": [
    "trace1 = go.Pie(values= list(by_release.values()), labels = list(by_release.keys()),sort= False)\n",
    "layout = go.Layout(title=\"Gazebo Downloads By Release November 2023\")\n",
    "fig = go.Figure(data=trace1, layout=layout)\n",
    "\n",
    "fig.update_layout(\n",
    "    font_family=\"Arial\",\n",
    "    font_color=\"#22314E\",\n",
    "    font_size=16,\n",
    "    title_font_size = 24,\n",
    "    title_font_family=\"Arial\",\n",
    "    title_font_color=\"#22314E\"\n",
    ")\n",
    "\n",
    "fig.show()"
   ]
  },
  {
   "cell_type": "code",
   "execution_count": null,
   "id": "28466a4c",
   "metadata": {},
   "outputs": [],
   "source": []
  }
 ],
 "metadata": {
  "kernelspec": {
   "display_name": "metrics",
   "language": "python",
   "name": "metrics"
  },
  "language_info": {
   "codemirror_mode": {
    "name": "ipython",
    "version": 3
   },
   "file_extension": ".py",
   "mimetype": "text/x-python",
   "name": "python",
   "nbconvert_exporter": "python",
   "pygments_lexer": "ipython3",
   "version": "3.11.6"
  }
 },
 "nbformat": 4,
 "nbformat_minor": 5
}
