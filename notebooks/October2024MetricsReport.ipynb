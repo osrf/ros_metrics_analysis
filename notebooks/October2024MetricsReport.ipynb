{
 "cells": [
  {
   "cell_type": "code",
   "execution_count": 1,
   "metadata": {},
   "outputs": [],
   "source": [
    "import numpy as np\n",
    "import pandas as pd\n",
    "import nbformat\n",
    "import plotly.express as px\n",
    "from plotly import tools\n",
    "import plotly.offline as py\n",
    "import plotly.graph_objs as go\n"
   ]
  },
  {
   "cell_type": "code",
   "execution_count": 2,
   "metadata": {},
   "outputs": [],
   "source": [
    "# Download files\n",
    "# run analyze_awstats\n",
    "# Use this to parse files"
   ]
  },
  {
   "cell_type": "code",
   "execution_count": 3,
   "metadata": {},
   "outputs": [],
   "source": [
    "ros2 = [\"ardent\",\"bouncy\",\"crystal\",\"dashing\",\"eloquent\",\"foxy\",\"galactic\",\"humble\",\"iron\",\"jazzy\",\"rolling\"]\n",
    "ros1 = [\"boxturtle\",\"cturtle\",\"diamondback\",\"electric\",\"fuerte\",\"groovy\",\"hydro\",\"indigo\",\"jade\",\"kinetic\",\"lunar\",\"melodic\",\"noetic\"]\n",
    "# This are just values for the input files\n",
    "this_year = \"2024\"\n",
    "this_month = \"October\"\n",
    "last_year = \"2023\"\n",
    "last_month = \"October\""
   ]
  },
  {
   "cell_type": "code",
   "execution_count": 4,
   "metadata": {},
   "outputs": [],
   "source": [
    "def process_package_dump(fname,date):\n",
    "    package_counts = [] \n",
    "    distro_counts = []\n",
    "    arch_counts = []\n",
    "    arch_x_os_counts = []\n",
    "    stats = []\n",
    "    with open(fname,'r') as fp:\n",
    "        # remove the first line\n",
    "        f = fp.readline()\n",
    "\n",
    "        # remove all the empty \n",
    "        f = fp.readline()\n",
    "        while \"not a ros package name\" in f:\n",
    "            f = fp.readline()\n",
    "\n",
    "        while \"Breakdown\" not in f:\n",
    "            temp = f.split(\":\")\n",
    "            parts = temp[0].split(\"-\")\n",
    "            distro = parts[1]\n",
    "            package = \"-\".join(parts[2:])\n",
    "            data = {\n",
    "                \"package\":package,\n",
    "                \"distro\":distro,\n",
    "                \"name\":temp[0],\n",
    "                \"count\":int(temp[1]),\n",
    "                \"date\":date\n",
    "            }\n",
    "\n",
    "            package_counts.append(data)\n",
    "            f = fp.readline()\n",
    "        # Done with the modules \n",
    "\n",
    "        f = fp.readline()\n",
    "        while \"Breakdown\" not in f:\n",
    "            temp = f.split(\":\")\n",
    "            data = {\n",
    "                \"name\":temp[0],\n",
    "                \"prct\":float(temp[1].replace(\"%\",\"\")),\n",
    "                \"date\":date\n",
    "            }\n",
    "            distro_counts.append(data)\n",
    "            f = fp.readline()\n",
    "\n",
    "        f = fp.readline()\n",
    "        while \"Results\" not in f:\n",
    "            temp = f.split(\":\")\n",
    "            data = {\n",
    "                \"name\":temp[0],\n",
    "                \"prct\":float(temp[1].replace(\"%\",\"\")),\n",
    "                \"date\":date\n",
    "            }\n",
    "            arch_counts.append(data)\n",
    "            f = fp.readline()\n",
    "\n",
    "        f = fp.readline()\n",
    "        while \"Unique\" not in f:\n",
    "            temp = f.split(\":\")\n",
    "            data = {\n",
    "                \"name\":temp[0],\n",
    "                \"prct\":float(temp[1].replace(\"%\",\"\")),\n",
    "                \"date\":date\n",
    "            }\n",
    "            arch_x_os_counts.append(data)\n",
    "            f = fp.readline()\n",
    "\n",
    "        f = fp.readline()    \n",
    "        while len(f) > 0:\n",
    "            temp = f.split(\":\")\n",
    "            data = {\n",
    "                \"name\":temp[0],\n",
    "                \"prct\":temp[1],\n",
    "                \"date\":date\n",
    "            }\n",
    "            stats.append((temp[0],temp[1]))\n",
    "            f = fp.readline()\n",
    "    retval = {}\n",
    "    retval[\"package\"] = package_counts\n",
    "    retval[\"distro\"] = distro_counts\n",
    "    retval[\"arch\"] = arch_counts\n",
    "    retval[\"arch_x_os\"] = arch_x_os_counts\n",
    "    retval[\"stats\"] = stats\n",
    "    return retval\n"
   ]
  },
  {
   "cell_type": "code",
   "execution_count": 5,
   "metadata": {},
   "outputs": [],
   "source": [
    "# Load and process the dumps from analyze_awstats.py as dictionaries\n",
    "fname = \"../scripts/October2023.txt\"\n",
    "stats_last = process_package_dump(fname,last_year)\n",
    "fname = \"../scripts/October2024.txt\"\n",
    "stats_this = process_package_dump(fname,this_year)"
   ]
  },
  {
   "cell_type": "code",
   "execution_count": 6,
   "metadata": {},
   "outputs": [
    {
     "name": "stdout",
     "output_type": "stream",
     "text": [
      "##############################\n",
      "Diff Packages\n",
      "2023: 26931\n",
      "2024: 26978\n",
      "Percent Change: 0.17452006980802792%\n",
      "##############################\n",
      "Total Deb Downloads\n",
      "2023: 48510685\n",
      "2024: 48943663\n",
      "Percent Change: 0.8925415091541173%\n"
     ]
    }
   ],
   "source": [
    "# print raw package counts and deb download data\n",
    "print(\"#\"*30)\n",
    "print(\"Diff Packages\")\n",
    "d_this = int(stats_this[\"stats\"][0][1])\n",
    "d_last = int(stats_last[\"stats\"][0][1])\n",
    "print(\"{0}: {1}\".format(last_year,d_last))\n",
    "print(\"{0}: {1}\".format(this_year,d_this))\n",
    "print(\"Percent Change: {0}%\".format(100.0*((d_this-d_last)/d_last)))\n",
    "print(\"#\"*30)\n",
    "print(\"Total Deb Downloads\")\n",
    "d_this = int(stats_this[\"stats\"][1][1])\n",
    "d_last = int(stats_last[\"stats\"][1][1])\n",
    "print(\"{0}: {1}\".format(last_year,d_last))\n",
    "print(\"{0}: {1}\".format(this_year,d_this))\n",
    "print(\"Percent Change: {0}%\".format(100.0*((d_this-d_last)/d_last)))"
   ]
  },
  {
   "cell_type": "code",
   "execution_count": 7,
   "metadata": {},
   "outputs": [
    {
     "name": "stdout",
     "output_type": "stream",
     "text": [
      "26150\n",
      "26225\n",
      "dict_keys(['package', 'distro', 'arch', 'arch_x_os', 'stats'])\n",
      "[{'name': 'bionic_amd64', 'prct': 4.67, 'date': '2023'}, {'name': 'bionic_arm64', 'prct': 1.23, 'date': '2023'}, {'name': 'bionic_armhf', 'prct': 0.06, 'date': '2023'}, {'name': 'buster_amd64', 'prct': 0.12, 'date': '2023'}, {'name': 'buster_arm64', 'prct': 0.04, 'date': '2023'}, {'name': 'buster_armhf', 'prct': 0.0, 'date': '2023'}, {'name': 'disco_amd64', 'prct': 0.0, 'date': '2023'}, {'name': 'focal_amd64', 'prct': 36.82, 'date': '2023'}, {'name': 'focal_arm64', 'prct': 4.68, 'date': '2023'}, {'name': 'focal_armhf', 'prct': 0.14, 'date': '2023'}, {'name': 'jammy_amd64', 'prct': 40.62, 'date': '2023'}, {'name': 'jammy_arm64', 'prct': 3.15, 'date': '2023'}, {'name': 'jammy_armhf', 'prct': 0.0, 'date': '2023'}, {'name': 'stretch_amd64', 'prct': 0.07, 'date': '2023'}, {'name': 'stretch_arm64', 'prct': 0.03, 'date': '2023'}, {'name': 'trusty_amd64', 'prct': 0.22, 'date': '2023'}, {'name': 'trusty_armhf', 'prct': 0.02, 'date': '2023'}, {'name': 'trusty_i386', 'prct': 0.03, 'date': '2023'}, {'name': 'xenial_amd64', 'prct': 1.0, 'date': '2023'}, {'name': 'xenial_arm64', 'prct': 0.04, 'date': '2023'}, {'name': 'xenial_armhf', 'prct': 0.05, 'date': '2023'}, {'name': 'xenial_i386', 'prct': 0.08, 'date': '2023'}]\n"
     ]
    },
    {
     "data": {
      "text/plain": [
       "{'package': [{'package': 'modules',\n",
       "   'distro': 'rosdistro',\n",
       "   'name': 'python3-rosdistro-modules',\n",
       "   'count': 198217,\n",
       "   'date': '2024'},\n",
       "  {'package': 'core',\n",
       "   'distro': 'colcon',\n",
       "   'name': 'python3-colcon-core',\n",
       "   'count': 137956,\n",
       "   'date': '2024'},\n",
       "  {'package': 'pkg-modules',\n",
       "   'distro': 'catkin',\n",
       "   'name': 'python3-catkin-pkg-modules',\n",
       "   'count': 134237,\n",
       "   'date': '2024'},\n",
       "  {'package': 'modules',\n",
       "   'distro': 'rosdep',\n",
       "   'name': 'python3-rosdep-modules',\n",
       "   'count': 132889,\n",
       "   'date': '2024'},\n",
       "  {'package': 'modules',\n",
       "   'distro': 'rospkg',\n",
       "   'name': 'python3-rospkg-modules',\n",
       "   'count': 130589,\n",
       "   'date': '2024'},\n",
       "  {'package': 'python-setup-py',\n",
       "   'distro': 'colcon',\n",
       "   'name': 'python3-colcon-python-setup-py',\n",
       "   'count': 129041,\n",
       "   'date': '2024'},\n",
       "  {'package': '',\n",
       "   'distro': 'rosdep',\n",
       "   'name': 'python3-rosdep',\n",
       "   'count': 123021,\n",
       "   'date': '2024'},\n",
       "  {'package': '',\n",
       "   'distro': 'rosdistro',\n",
       "   'name': 'python3-rosdistro',\n",
       "   'count': 118745,\n",
       "   'date': '2024'},\n",
       "  {'package': 'pkg',\n",
       "   'distro': 'catkin',\n",
       "   'name': 'python3-catkin-pkg',\n",
       "   'count': 98862,\n",
       "   'date': '2024'},\n",
       "  {'package': 'ros',\n",
       "   'distro': 'colcon',\n",
       "   'name': 'python3-colcon-ros',\n",
       "   'count': 98287,\n",
       "   'date': '2024'},\n",
       "  {'package': 'package-information',\n",
       "   'distro': 'colcon',\n",
       "   'name': 'python3-colcon-package-information',\n",
       "   'count': 94062,\n",
       "   'date': '2024'},\n",
       "  {'package': 'cd',\n",
       "   'distro': 'colcon',\n",
       "   'name': 'python3-colcon-cd',\n",
       "   'count': 93728,\n",
       "   'date': '2024'},\n",
       "  {'package': 'notification',\n",
       "   'distro': 'colcon',\n",
       "   'name': 'python3-colcon-notification',\n",
       "   'count': 93642,\n",
       "   'date': '2024'},\n",
       "  {'package': 'devtools',\n",
       "   'distro': 'colcon',\n",
       "   'name': 'python3-colcon-devtools',\n",
       "   'count': 93479,\n",
       "   'date': '2024'},\n",
       "  {'package': 'cmake',\n",
       "   'distro': 'colcon',\n",
       "   'name': 'python3-colcon-cmake',\n",
       "   'count': 92714,\n",
       "   'date': '2024'},\n",
       "  {'package': 'recursive-crawl',\n",
       "   'distro': 'colcon',\n",
       "   'name': 'python3-colcon-recursive-crawl',\n",
       "   'count': 92509,\n",
       "   'date': '2024'},\n",
       "  {'package': 'parallel-executor',\n",
       "   'distro': 'colcon',\n",
       "   'name': 'python3-colcon-parallel-executor',\n",
       "   'count': 91791,\n",
       "   'date': '2024'},\n",
       "  {'package': 'bash',\n",
       "   'distro': 'colcon',\n",
       "   'name': 'python3-colcon-bash',\n",
       "   'count': 91744,\n",
       "   'date': '2024'},\n",
       "  {'package': 'zsh',\n",
       "   'distro': 'colcon',\n",
       "   'name': 'python3-colcon-zsh',\n",
       "   'count': 91575,\n",
       "   'date': '2024'},\n",
       "  {'package': 'powershell',\n",
       "   'distro': 'colcon',\n",
       "   'name': 'python3-colcon-powershell',\n",
       "   'count': 91347,\n",
       "   'date': '2024'},\n",
       "  {'package': 'output',\n",
       "   'distro': 'colcon',\n",
       "   'name': 'python3-colcon-output',\n",
       "   'count': 90813,\n",
       "   'date': '2024'},\n",
       "  {'package': 'defaults',\n",
       "   'distro': 'colcon',\n",
       "   'name': 'python3-colcon-defaults',\n",
       "   'count': 90487,\n",
       "   'date': '2024'},\n",
       "  {'package': 'common-extensions',\n",
       "   'distro': 'colcon',\n",
       "   'name': 'python3-colcon-common-extensions',\n",
       "   'count': 90298,\n",
       "   'date': '2024'},\n",
       "  {'package': 'package-selection',\n",
       "   'distro': 'colcon',\n",
       "   'name': 'python3-colcon-package-selection',\n",
       "   'count': 90165,\n",
       "   'date': '2024'},\n",
       "  {'package': '',\n",
       "   'distro': 'vcstool',\n",
       "   'name': 'python3-vcstool',\n",
       "   'count': 80155,\n",
       "   'date': '2024'},\n",
       "  {'package': 'tf2-msgs',\n",
       "   'distro': 'humble',\n",
       "   'name': 'ros-humble-tf2-msgs',\n",
       "   'count': 79561,\n",
       "   'date': '2024'},\n",
       "  {'package': 'tf2-ros',\n",
       "   'distro': 'humble',\n",
       "   'name': 'ros-humble-tf2-ros',\n",
       "   'count': 79318,\n",
       "   'date': '2024'},\n",
       "  {'package': 'tf2',\n",
       "   'distro': 'humble',\n",
       "   'name': 'ros-humble-tf2',\n",
       "   'count': 79286,\n",
       "   'date': '2024'},\n",
       "  {'package': 'tf2-geometry-msgs',\n",
       "   'distro': 'humble',\n",
       "   'name': 'ros-humble-tf2-geometry-msgs',\n",
       "   'count': 77494,\n",
       "   'date': '2024'},\n",
       "  {'package': 'tf2-ros-py',\n",
       "   'distro': 'humble',\n",
       "   'name': 'ros-humble-tf2-ros-py',\n",
       "   'count': 77170,\n",
       "   'date': '2024'},\n",
       "  {'package': 'tf2-py',\n",
       "   'distro': 'humble',\n",
       "   'name': 'ros-humble-tf2-py',\n",
       "   'count': 77079,\n",
       "   'date': '2024'},\n",
       "  {'package': 'tf2-eigen',\n",
       "   'distro': 'humble',\n",
       "   'name': 'ros-humble-tf2-eigen',\n",
       "   'count': 75213,\n",
       "   'date': '2024'},\n",
       "  {'package': 'laser-geometry',\n",
       "   'distro': 'humble',\n",
       "   'name': 'ros-humble-laser-geometry',\n",
       "   'count': 73997,\n",
       "   'date': '2024'},\n",
       "  {'package': 'robot-state-publisher',\n",
       "   'distro': 'humble',\n",
       "   'name': 'ros-humble-robot-state-publisher',\n",
       "   'count': 73557,\n",
       "   'date': '2024'},\n",
       "  {'package': 'rviz-common',\n",
       "   'distro': 'humble',\n",
       "   'name': 'ros-humble-rviz-common',\n",
       "   'count': 72460,\n",
       "   'date': '2024'},\n",
       "  {'package': 'interactive-markers',\n",
       "   'distro': 'humble',\n",
       "   'name': 'ros-humble-interactive-markers',\n",
       "   'count': 72367,\n",
       "   'date': '2024'},\n",
       "  {'package': 'rviz-default-plugins',\n",
       "   'distro': 'humble',\n",
       "   'name': 'ros-humble-rviz-default-plugins',\n",
       "   'count': 71949,\n",
       "   'date': '2024'},\n",
       "  {'package': 'tf2-kdl',\n",
       "   'distro': 'humble',\n",
       "   'name': 'ros-humble-tf2-kdl',\n",
       "   'count': 71946,\n",
       "   'date': '2024'},\n",
       "  {'package': 'tf2-sensor-msgs',\n",
       "   'distro': 'humble',\n",
       "   'name': 'ros-humble-tf2-sensor-msgs',\n",
       "   'count': 71454,\n",
       "   'date': '2024'},\n",
       "  {'package': 'rviz2',\n",
       "   'distro': 'humble',\n",
       "   'name': 'ros-humble-rviz2',\n",
       "   'count': 71237,\n",
       "   'date': '2024'},\n",
       "  {'package': 'tf2-eigen-kdl',\n",
       "   'distro': 'humble',\n",
       "   'name': 'ros-humble-tf2-eigen-kdl',\n",
       "   'count': 70478,\n",
       "   'date': '2024'},\n",
       "  {'package': 'test-result',\n",
       "   'distro': 'colcon',\n",
       "   'name': 'python3-colcon-test-result',\n",
       "   'count': 70202,\n",
       "   'date': '2024'},\n",
       "  {'package': 'library-path',\n",
       "   'distro': 'colcon',\n",
       "   'name': 'python3-colcon-library-path',\n",
       "   'count': 70201,\n",
       "   'date': '2024'},\n",
       "  {'package': 'pkg-config',\n",
       "   'distro': 'colcon',\n",
       "   'name': 'python3-colcon-pkg-config',\n",
       "   'count': 70130,\n",
       "   'date': '2024'},\n",
       "  {'package': 'metadata',\n",
       "   'distro': 'colcon',\n",
       "   'name': 'python3-colcon-metadata',\n",
       "   'count': 69484,\n",
       "   'date': '2024'},\n",
       "  {'package': 'tf2-tools',\n",
       "   'distro': 'humble',\n",
       "   'name': 'ros-humble-tf2-tools',\n",
       "   'count': 69475,\n",
       "   'date': '2024'},\n",
       "  {'package': 'argcomplete',\n",
       "   'distro': 'colcon',\n",
       "   'name': 'python3-colcon-argcomplete',\n",
       "   'count': 69434,\n",
       "   'date': '2024'},\n",
       "  {'package': 'image-transport',\n",
       "   'distro': 'humble',\n",
       "   'name': 'ros-humble-image-transport',\n",
       "   'count': 69381,\n",
       "   'date': '2024'},\n",
       "  {'package': 'ros-base',\n",
       "   'distro': 'humble',\n",
       "   'name': 'ros-humble-ros-base',\n",
       "   'count': 68923,\n",
       "   'date': '2024'},\n",
       "  {'package': 'geometry2',\n",
       "   'distro': 'humble',\n",
       "   'name': 'ros-humble-geometry2',\n",
       "   'count': 68733,\n",
       "   'date': '2024'},\n",
       "  {'package': 'tf2-bullet',\n",
       "   'distro': 'humble',\n",
       "   'name': 'ros-humble-tf2-bullet',\n",
       "   'count': 68135,\n",
       "   'date': '2024'},\n",
       "  {'package': 'cv-bridge',\n",
       "   'distro': 'noetic',\n",
       "   'name': 'ros-noetic-cv-bridge',\n",
       "   'count': 65020,\n",
       "   'date': '2024'},\n",
       "  {'package': 'cv-bridge',\n",
       "   'distro': 'humble',\n",
       "   'name': 'ros-humble-cv-bridge',\n",
       "   'count': 63937,\n",
       "   'date': '2024'},\n",
       "  {'package': '',\n",
       "   'distro': 'rospkg',\n",
       "   'name': 'python3-rospkg',\n",
       "   'count': 62906,\n",
       "   'date': '2024'},\n",
       "  {'package': 'tf',\n",
       "   'distro': 'noetic',\n",
       "   'name': 'ros-noetic-tf',\n",
       "   'count': 62905,\n",
       "   'date': '2024'},\n",
       "  {'package': 'tf2-ros',\n",
       "   'distro': 'noetic',\n",
       "   'name': 'ros-noetic-tf2-ros',\n",
       "   'count': 62606,\n",
       "   'date': '2024'},\n",
       "  {'package': 'tf2-py',\n",
       "   'distro': 'noetic',\n",
       "   'name': 'ros-noetic-tf2-py',\n",
       "   'count': 62258,\n",
       "   'date': '2024'},\n",
       "  {'package': 'libcurl-vendor',\n",
       "   'distro': 'humble',\n",
       "   'name': 'ros-humble-libcurl-vendor',\n",
       "   'count': 62050,\n",
       "   'date': '2024'},\n",
       "  {'package': 'resource-retriever',\n",
       "   'distro': 'humble',\n",
       "   'name': 'ros-humble-resource-retriever',\n",
       "   'count': 61855,\n",
       "   'date': '2024'},\n",
       "  {'package': '',\n",
       "   'distro': 'bloom',\n",
       "   'name': 'python3-bloom',\n",
       "   'count': 61827,\n",
       "   'date': '2024'},\n",
       "  {'package': 'sensor-msgs-py',\n",
       "   'distro': 'humble',\n",
       "   'name': 'ros-humble-sensor-msgs-py',\n",
       "   'count': 60961,\n",
       "   'date': '2024'},\n",
       "  {'package': 'message-filters',\n",
       "   'distro': 'humble',\n",
       "   'name': 'ros-humble-message-filters',\n",
       "   'count': 60837,\n",
       "   'date': '2024'},\n",
       "  {'package': 'ros-workspace',\n",
       "   'distro': 'humble',\n",
       "   'name': 'ros-humble-ros-workspace',\n",
       "   'count': 60236,\n",
       "   'date': '2024'},\n",
       "  {'package': 'diagnostic-updater',\n",
       "   'distro': 'noetic',\n",
       "   'name': 'ros-noetic-diagnostic-updater',\n",
       "   'count': 59983,\n",
       "   'date': '2024'},\n",
       "  {'package': 'interactive-markers',\n",
       "   'distro': 'noetic',\n",
       "   'name': 'ros-noetic-interactive-markers',\n",
       "   'count': 59389,\n",
       "   'date': '2024'},\n",
       "  {'package': 'map-msgs',\n",
       "   'distro': 'humble',\n",
       "   'name': 'ros-humble-map-msgs',\n",
       "   'count': 59276,\n",
       "   'date': '2024'},\n",
       "  {'package': 'rviz-assimp-vendor',\n",
       "   'distro': 'humble',\n",
       "   'name': 'ros-humble-rviz-assimp-vendor',\n",
       "   'count': 59186,\n",
       "   'date': '2024'},\n",
       "  {'package': 'rviz-ogre-vendor',\n",
       "   'distro': 'humble',\n",
       "   'name': 'ros-humble-rviz-ogre-vendor',\n",
       "   'count': 59157,\n",
       "   'date': '2024'},\n",
       "  {'package': 'image-transport',\n",
       "   'distro': 'noetic',\n",
       "   'name': 'ros-noetic-image-transport',\n",
       "   'count': 59141,\n",
       "   'date': '2024'},\n",
       "  {'package': 'ignition-math6-vendor',\n",
       "   'distro': 'humble',\n",
       "   'name': 'ros-humble-ignition-math6-vendor',\n",
       "   'count': 58938,\n",
       "   'date': '2024'},\n",
       "  {'package': 'ignition-cmake2-vendor',\n",
       "   'distro': 'humble',\n",
       "   'name': 'ros-humble-ignition-cmake2-vendor',\n",
       "   'count': 58793,\n",
       "   'date': '2024'},\n",
       "  {'package': 'rviz-rendering',\n",
       "   'distro': 'humble',\n",
       "   'name': 'ros-humble-rviz-rendering',\n",
       "   'count': 58746,\n",
       "   'date': '2024'},\n",
       "  {'package': 'teleop-twist-joy',\n",
       "   'distro': 'humble',\n",
       "   'name': 'ros-humble-teleop-twist-joy',\n",
       "   'count': 58611,\n",
       "   'date': '2024'},\n",
       "  {'package': 'angles',\n",
       "   'distro': 'humble',\n",
       "   'name': 'ros-humble-angles',\n",
       "   'count': 58501,\n",
       "   'date': '2024'},\n",
       "  {'package': 'ament-cmake-flake8',\n",
       "   'distro': 'humble',\n",
       "   'name': 'ros-humble-ament-cmake-flake8',\n",
       "   'count': 58232,\n",
       "   'date': '2024'},\n",
       "  {'package': 'ament-cmake',\n",
       "   'distro': 'humble',\n",
       "   'name': 'ros-humble-ament-cmake',\n",
       "   'count': 57788,\n",
       "   'date': '2024'},\n",
       "  {'package': 'ament-cmake-python',\n",
       "   'distro': 'humble',\n",
       "   'name': 'ros-humble-ament-cmake-python',\n",
       "   'count': 57752,\n",
       "   'date': '2024'},\n",
       "  {'package': 'urdf',\n",
       "   'distro': 'humble',\n",
       "   'name': 'ros-humble-urdf',\n",
       "   'count': 57563,\n",
       "   'date': '2024'},\n",
       "  {'package': 'ament-cmake-test',\n",
       "   'distro': 'humble',\n",
       "   'name': 'ros-humble-ament-cmake-test',\n",
       "   'count': 57538,\n",
       "   'date': '2024'},\n",
       "  {'package': 'ament-cmake-include-directories',\n",
       "   'distro': 'humble',\n",
       "   'name': 'ros-humble-ament-cmake-include-directories',\n",
       "   'count': 57505,\n",
       "   'date': '2024'},\n",
       "  {'package': 'urdf-parser-plugin',\n",
       "   'distro': 'humble',\n",
       "   'name': 'ros-humble-urdf-parser-plugin',\n",
       "   'count': 57499,\n",
       "   'date': '2024'},\n",
       "  {'package': 'ament-cmake-version',\n",
       "   'distro': 'humble',\n",
       "   'name': 'ros-humble-ament-cmake-version',\n",
       "   'count': 57486,\n",
       "   'date': '2024'},\n",
       "  {'package': 'ament-cmake-export-libraries',\n",
       "   'distro': 'humble',\n",
       "   'name': 'ros-humble-ament-cmake-export-libraries',\n",
       "   'count': 57477,\n",
       "   'date': '2024'},\n",
       "  {'package': 'ament-cmake-export-targets',\n",
       "   'distro': 'humble',\n",
       "   'name': 'ros-humble-ament-cmake-export-targets',\n",
       "   'count': 57467,\n",
       "   'date': '2024'},\n",
       "  {'package': 'ament-cmake-gen-version-h',\n",
       "   'distro': 'humble',\n",
       "   'name': 'ros-humble-ament-cmake-gen-version-h',\n",
       "   'count': 57458,\n",
       "   'date': '2024'},\n",
       "  {'package': 'ament-cmake-target-dependencies',\n",
       "   'distro': 'humble',\n",
       "   'name': 'ros-humble-ament-cmake-target-dependencies',\n",
       "   'count': 57451,\n",
       "   'date': '2024'},\n",
       "  {'package': 'ament-cmake-core',\n",
       "   'distro': 'humble',\n",
       "   'name': 'ros-humble-ament-cmake-core',\n",
       "   'count': 57439,\n",
       "   'date': '2024'},\n",
       "  {'package': 'ament-cmake-export-link-flags',\n",
       "   'distro': 'humble',\n",
       "   'name': 'ros-humble-ament-cmake-export-link-flags',\n",
       "   'count': 57428,\n",
       "   'date': '2024'},\n",
       "  {'package': 'ament-index-python',\n",
       "   'distro': 'humble',\n",
       "   'name': 'ros-humble-ament-index-python',\n",
       "   'count': 57413,\n",
       "   'date': '2024'},\n",
       "  {'package': 'ament-cmake-export-include-directories',\n",
       "   'distro': 'humble',\n",
       "   'name': 'ros-humble-ament-cmake-export-include-directories',\n",
       "   'count': 57404,\n",
       "   'date': '2024'},\n",
       "  {'package': 'ament-cmake-export-interfaces',\n",
       "   'distro': 'humble',\n",
       "   'name': 'ros-humble-ament-cmake-export-interfaces',\n",
       "   'count': 57400,\n",
       "   'date': '2024'},\n",
       "  {'package': 'ament-cmake-export-dependencies',\n",
       "   'distro': 'humble',\n",
       "   'name': 'ros-humble-ament-cmake-export-dependencies',\n",
       "   'count': 57368,\n",
       "   'date': '2024'},\n",
       "  {'package': 'ament-cmake-libraries',\n",
       "   'distro': 'humble',\n",
       "   'name': 'ros-humble-ament-cmake-libraries',\n",
       "   'count': 57314,\n",
       "   'date': '2024'},\n",
       "  {'package': 'rosidl-default-runtime',\n",
       "   'distro': 'humble',\n",
       "   'name': 'ros-humble-rosidl-default-runtime',\n",
       "   'count': 57301,\n",
       "   'date': '2024'},\n",
       "  {'package': 'ament-lint',\n",
       "   'distro': 'humble',\n",
       "   'name': 'ros-humble-ament-lint',\n",
       "   'count': 57293,\n",
       "   'date': '2024'},\n",
       "  {'package': 'ament-cmake-export-definitions',\n",
       "   'distro': 'humble',\n",
       "   'name': 'ros-humble-ament-cmake-export-definitions',\n",
       "   'count': 57212,\n",
       "   'date': '2024'},\n",
       "  {'package': 'rcl-logging-spdlog',\n",
       "   'distro': 'humble',\n",
       "   'name': 'ros-humble-rcl-logging-spdlog',\n",
       "   'count': 57069,\n",
       "   'date': '2024'},\n",
       "  {'package': 'rosidl-typesupport-introspection-c',\n",
       "   'distro': 'humble',\n",
       "   'name': 'ros-humble-rosidl-typesupport-introspection-c',\n",
       "   'count': 57038,\n",
       "   'date': '2024'},\n",
       "  {'package': 'rosidl-typesupport-introspection-cpp',\n",
       "   'distro': 'humble',\n",
       "   'name': 'ros-humble-rosidl-typesupport-introspection-cpp',\n",
       "   'count': 57023,\n",
       "   'date': '2024'},\n",
       "  {'package': 'rclcpp',\n",
       "   'distro': 'humble',\n",
       "   'name': 'ros-humble-rclcpp',\n",
       "   'count': 56984,\n",
       "   'date': '2024'},\n",
       "  {'package': 'ament-cmake-ros',\n",
       "   'distro': 'humble',\n",
       "   'name': 'ros-humble-ament-cmake-ros',\n",
       "   'count': 56960,\n",
       "   'date': '2024'},\n",
       "  {'package': 'spdlog-vendor',\n",
       "   'distro': 'humble',\n",
       "   'name': 'ros-humble-spdlog-vendor',\n",
       "   'count': 56951,\n",
       "   'date': '2024'},\n",
       "  {'package': 'builtin-interfaces',\n",
       "   'distro': 'humble',\n",
       "   'name': 'ros-humble-builtin-interfaces',\n",
       "   'count': 56946,\n",
       "   'date': '2024'},\n",
       "  {'package': 'ament-index-cpp',\n",
       "   'distro': 'humble',\n",
       "   'name': 'ros-humble-ament-index-cpp',\n",
       "   'count': 56928,\n",
       "   'date': '2024'},\n",
       "  {'package': 'rosidl-generator-py',\n",
       "   'distro': 'humble',\n",
       "   'name': 'ros-humble-rosidl-generator-py',\n",
       "   'count': 56926,\n",
       "   'date': '2024'},\n",
       "  {'package': 'tf2-geometry-msgs',\n",
       "   'distro': 'noetic',\n",
       "   'name': 'ros-noetic-tf2-geometry-msgs',\n",
       "   'count': 56912,\n",
       "   'date': '2024'},\n",
       "  {'package': 'rcutils',\n",
       "   'distro': 'humble',\n",
       "   'name': 'ros-humble-rcutils',\n",
       "   'count': 56873,\n",
       "   'date': '2024'},\n",
       "  {'package': 'python-cmake-module',\n",
       "   'distro': 'humble',\n",
       "   'name': 'ros-humble-python-cmake-module',\n",
       "   'count': 56836,\n",
       "   'date': '2024'},\n",
       "  {'package': 'rosidl-runtime-c',\n",
       "   'distro': 'humble',\n",
       "   'name': 'ros-humble-rosidl-runtime-c',\n",
       "   'count': 56816,\n",
       "   'date': '2024'},\n",
       "  {'package': 'gtest-vendor',\n",
       "   'distro': 'humble',\n",
       "   'name': 'ros-humble-gtest-vendor',\n",
       "   'count': 56808,\n",
       "   'date': '2024'},\n",
       "  {'package': 'rosidl-adapter',\n",
       "   'distro': 'humble',\n",
       "   'name': 'ros-humble-rosidl-adapter',\n",
       "   'count': 56793,\n",
       "   'date': '2024'},\n",
       "  {'package': 'rosidl-typesupport-fastrtps-c',\n",
       "   'distro': 'humble',\n",
       "   'name': 'ros-humble-rosidl-typesupport-fastrtps-c',\n",
       "   'count': 56793,\n",
       "   'date': '2024'},\n",
       "  {'package': 'rosidl-parser',\n",
       "   'distro': 'humble',\n",
       "   'name': 'ros-humble-rosidl-parser',\n",
       "   'count': 56792,\n",
       "   'date': '2024'},\n",
       "  {'package': 'ament-cmake-gtest',\n",
       "   'distro': 'humble',\n",
       "   'name': 'ros-humble-ament-cmake-gtest',\n",
       "   'count': 56780,\n",
       "   'date': '2024'},\n",
       "  {'package': 'sensor-msgs',\n",
       "   'distro': 'humble',\n",
       "   'name': 'ros-humble-sensor-msgs',\n",
       "   'count': 56780,\n",
       "   'date': '2024'},\n",
       "  {'package': 'ament-flake8',\n",
       "   'distro': 'humble',\n",
       "   'name': 'ros-humble-ament-flake8',\n",
       "   'count': 56778,\n",
       "   'date': '2024'},\n",
       "  {'package': 'rosidl-typesupport-fastrtps-cpp',\n",
       "   'distro': 'humble',\n",
       "   'name': 'ros-humble-rosidl-typesupport-fastrtps-cpp',\n",
       "   'count': 56763,\n",
       "   'date': '2024'},\n",
       "  {'package': 'rmw',\n",
       "   'distro': 'humble',\n",
       "   'name': 'ros-humble-rmw',\n",
       "   'count': 56707,\n",
       "   'date': '2024'},\n",
       "  {'package': 'rosidl-generator-cpp',\n",
       "   'distro': 'humble',\n",
       "   'name': 'ros-humble-rosidl-generator-cpp',\n",
       "   'count': 56702,\n",
       "   'date': '2024'},\n",
       "  {'package': 'rosidl-generator-c',\n",
       "   'distro': 'humble',\n",
       "   'name': 'ros-humble-rosidl-generator-c',\n",
       "   'count': 56683,\n",
       "   'date': '2024'},\n",
       "  {'package': 'std-msgs',\n",
       "   'distro': 'humble',\n",
       "   'name': 'ros-humble-std-msgs',\n",
       "   'count': 56678,\n",
       "   'date': '2024'},\n",
       "  {'package': 'rosidl-runtime-cpp',\n",
       "   'distro': 'humble',\n",
       "   'name': 'ros-humble-rosidl-runtime-cpp',\n",
       "   'count': 56675,\n",
       "   'date': '2024'},\n",
       "  {'package': 'rosidl-typesupport-cpp',\n",
       "   'distro': 'humble',\n",
       "   'name': 'ros-humble-rosidl-typesupport-cpp',\n",
       "   'count': 56669,\n",
       "   'date': '2024'},\n",
       "  {'package': 'rosidl-cmake',\n",
       "   'distro': 'humble',\n",
       "   'name': 'ros-humble-rosidl-cmake',\n",
       "   'count': 56668,\n",
       "   'date': '2024'},\n",
       "  {'package': 'rosidl-typesupport-c',\n",
       "   'distro': 'humble',\n",
       "   'name': 'ros-humble-rosidl-typesupport-c',\n",
       "   'count': 56666,\n",
       "   'date': '2024'},\n",
       "  {'package': 'rosidl-typesupport-interface',\n",
       "   'distro': 'humble',\n",
       "   'name': 'ros-humble-rosidl-typesupport-interface',\n",
       "   'count': 56649,\n",
       "   'date': '2024'},\n",
       "  {'package': 'rcpputils',\n",
       "   'distro': 'humble',\n",
       "   'name': 'ros-humble-rcpputils',\n",
       "   'count': 56646,\n",
       "   'date': '2024'},\n",
       "  {'package': 'ament-cmake-pytest',\n",
       "   'distro': 'humble',\n",
       "   'name': 'ros-humble-ament-cmake-pytest',\n",
       "   'count': 56637,\n",
       "   'date': '2024'},\n",
       "  {'package': 'rpyutils',\n",
       "   'distro': 'humble',\n",
       "   'name': 'ros-humble-rpyutils',\n",
       "   'count': 56617,\n",
       "   'date': '2024'},\n",
       "  {'package': 'ament-cmake-gmock',\n",
       "   'distro': 'humble',\n",
       "   'name': 'ros-humble-ament-cmake-gmock',\n",
       "   'count': 56565,\n",
       "   'date': '2024'},\n",
       "  {'package': 'statistics-msgs',\n",
       "   'distro': 'humble',\n",
       "   'name': 'ros-humble-statistics-msgs',\n",
       "   'count': 56559,\n",
       "   'date': '2024'},\n",
       "  {'package': 'eigen3-cmake-module',\n",
       "   'distro': 'humble',\n",
       "   'name': 'ros-humble-eigen3-cmake-module',\n",
       "   'count': 56508,\n",
       "   'date': '2024'},\n",
       "  {'package': 'fastrtps-cmake-module',\n",
       "   'distro': 'humble',\n",
       "   'name': 'ros-humble-fastrtps-cmake-module',\n",
       "   'count': 56484,\n",
       "   'date': '2024'},\n",
       "  {'package': 'rcl',\n",
       "   'distro': 'humble',\n",
       "   'name': 'ros-humble-rcl',\n",
       "   'count': 56451,\n",
       "   'date': '2024'},\n",
       "  {'package': 'libstatistics-collector',\n",
       "   'distro': 'humble',\n",
       "   'name': 'ros-humble-libstatistics-collector',\n",
       "   'count': 56447,\n",
       "   'date': '2024'},\n",
       "  {'package': 'fastcdr',\n",
       "   'distro': 'humble',\n",
       "   'name': 'ros-humble-fastcdr',\n",
       "   'count': 56444,\n",
       "   'date': '2024'},\n",
       "  {'package': 'domain-coordinator',\n",
       "   'distro': 'humble',\n",
       "   'name': 'ros-humble-domain-coordinator',\n",
       "   'count': 56415,\n",
       "   'date': '2024'},\n",
       "  {'package': 'rosidl-cli',\n",
       "   'distro': 'humble',\n",
       "   'name': 'ros-humble-rosidl-cli',\n",
       "   'count': 56408,\n",
       "   'date': '2024'},\n",
       "  {'package': 'tf-conversions',\n",
       "   'distro': 'noetic',\n",
       "   'name': 'ros-noetic-tf-conversions',\n",
       "   'count': 56385,\n",
       "   'date': '2024'},\n",
       "  {'package': 'geometry-msgs',\n",
       "   'distro': 'humble',\n",
       "   'name': 'ros-humble-geometry-msgs',\n",
       "   'count': 56371,\n",
       "   'date': '2024'},\n",
       "  {'package': 'rmw-implementation-cmake',\n",
       "   'distro': 'humble',\n",
       "   'name': 'ros-humble-rmw-implementation-cmake',\n",
       "   'count': 56355,\n",
       "   'date': '2024'},\n",
       "  {'package': 'gmock-vendor',\n",
       "   'distro': 'humble',\n",
       "   'name': 'ros-humble-gmock-vendor',\n",
       "   'count': 56345,\n",
       "   'date': '2024'},\n",
       "  {'package': 'orocos-kdl-vendor',\n",
       "   'distro': 'humble',\n",
       "   'name': 'ros-humble-orocos-kdl-vendor',\n",
       "   'count': 56337,\n",
       "   'date': '2024'},\n",
       "  {'package': 'rosgraph-msgs',\n",
       "   'distro': 'humble',\n",
       "   'name': 'ros-humble-rosgraph-msgs',\n",
       "   'count': 56157,\n",
       "   'date': '2024'},\n",
       "  {'package': 'kdl-parser',\n",
       "   'distro': 'humble',\n",
       "   'name': 'ros-humble-kdl-parser',\n",
       "   'count': 56119,\n",
       "   'date': '2024'},\n",
       "  {'package': 'rcl-yaml-param-parser',\n",
       "   'distro': 'humble',\n",
       "   'name': 'ros-humble-rcl-yaml-param-parser',\n",
       "   'count': 56115,\n",
       "   'date': '2024'},\n",
       "  {'package': 'rmw-implementation',\n",
       "   'distro': 'humble',\n",
       "   'name': 'ros-humble-rmw-implementation',\n",
       "   'count': 56106,\n",
       "   'date': '2024'},\n",
       "  {'package': 'yaml-cpp-vendor',\n",
       "   'distro': 'humble',\n",
       "   'name': 'ros-humble-yaml-cpp-vendor',\n",
       "   'count': 56099,\n",
       "   'date': '2024'},\n",
       "  {'package': 'ament-pep257',\n",
       "   'distro': 'humble',\n",
       "   'name': 'ros-humble-ament-pep257',\n",
       "   'count': 56081,\n",
       "   'date': '2024'},\n",
       "  {'package': 'rcl-interfaces',\n",
       "   'distro': 'humble',\n",
       "   'name': 'ros-humble-rcl-interfaces',\n",
       "   'count': 56035,\n",
       "   'date': '2024'},\n",
       "  {'package': 'libyaml-vendor',\n",
       "   'distro': 'humble',\n",
       "   'name': 'ros-humble-libyaml-vendor',\n",
       "   'count': 55906,\n",
       "   'date': '2024'},\n",
       "  {'package': 'urdf',\n",
       "   'distro': 'noetic',\n",
       "   'name': 'ros-noetic-urdf',\n",
       "   'count': 55871,\n",
       "   'date': '2024'},\n",
       "  {'package': 'ament-copyright',\n",
       "   'distro': 'humble',\n",
       "   'name': 'ros-humble-ament-copyright',\n",
       "   'count': 55870,\n",
       "   'date': '2024'},\n",
       "  {'package': 'rmw-dds-common',\n",
       "   'distro': 'humble',\n",
       "   'name': 'ros-humble-rmw-dds-common',\n",
       "   'count': 55843,\n",
       "   'date': '2024'},\n",
       "  {'package': 'tracetools',\n",
       "   'distro': 'humble',\n",
       "   'name': 'ros-humble-tracetools',\n",
       "   'count': 55839,\n",
       "   'date': '2024'},\n",
       "  {'package': 'ament-lint-cmake',\n",
       "   'distro': 'humble',\n",
       "   'name': 'ros-humble-ament-lint-cmake',\n",
       "   'count': 55833,\n",
       "   'date': '2024'},\n",
       "  {'package': 'unique-identifier-msgs',\n",
       "   'distro': 'humble',\n",
       "   'name': 'ros-humble-unique-identifier-msgs',\n",
       "   'count': 55766,\n",
       "   'date': '2024'},\n",
       "  {'package': 'rcl-logging-interface',\n",
       "   'distro': 'humble',\n",
       "   'name': 'ros-humble-rcl-logging-interface',\n",
       "   'count': 55713,\n",
       "   'date': '2024'},\n",
       "  {'package': 'rclpy',\n",
       "   'distro': 'humble',\n",
       "   'name': 'ros-humble-rclpy',\n",
       "   'count': 55629,\n",
       "   'date': '2024'},\n",
       "  {'package': 'console-bridge-vendor',\n",
       "   'distro': 'humble',\n",
       "   'name': 'ros-humble-console-bridge-vendor',\n",
       "   'count': 55626,\n",
       "   'date': '2024'},\n",
       "  {'package': 'action-msgs',\n",
       "   'distro': 'humble',\n",
       "   'name': 'ros-humble-action-msgs',\n",
       "   'count': 55623,\n",
       "   'date': '2024'},\n",
       "  {'package': 'ament-xmllint',\n",
       "   'distro': 'humble',\n",
       "   'name': 'ros-humble-ament-xmllint',\n",
       "   'count': 55562,\n",
       "   'date': '2024'},\n",
       "  {'package': 'ament-cmake-lint-cmake',\n",
       "   'distro': 'humble',\n",
       "   'name': 'ros-humble-ament-cmake-lint-cmake',\n",
       "   'count': 55358,\n",
       "   'date': '2024'},\n",
       "  {'package': 'ament-uncrustify',\n",
       "   'distro': 'humble',\n",
       "   'name': 'ros-humble-ament-uncrustify',\n",
       "   'count': 55245,\n",
       "   'date': '2024'},\n",
       "  {'package': 'uncrustify-vendor',\n",
       "   'distro': 'humble',\n",
       "   'name': 'ros-humble-uncrustify-vendor',\n",
       "   'count': 55212,\n",
       "   'date': '2024'},\n",
       "  {'package': 'ament-cpplint',\n",
       "   'distro': 'humble',\n",
       "   'name': 'ros-humble-ament-cpplint',\n",
       "   'count': 55172,\n",
       "   'date': '2024'},\n",
       "  {'package': 'ament-cppcheck',\n",
       "   'distro': 'humble',\n",
       "   'name': 'ros-humble-ament-cppcheck',\n",
       "   'count': 55163,\n",
       "   'date': '2024'},\n",
       "  {'package': 'lifecycle-msgs',\n",
       "   'distro': 'humble',\n",
       "   'name': 'ros-humble-lifecycle-msgs',\n",
       "   'count': 55135,\n",
       "   'date': '2024'},\n",
       "  {'package': 'rcl-lifecycle',\n",
       "   'distro': 'humble',\n",
       "   'name': 'ros-humble-rcl-lifecycle',\n",
       "   'count': 55132,\n",
       "   'date': '2024'},\n",
       "  {'package': 'ament-lint-auto',\n",
       "   'distro': 'humble',\n",
       "   'name': 'ros-humble-ament-lint-auto',\n",
       "   'count': 55124,\n",
       "   'date': '2024'},\n",
       "  {'package': 'ament-cmake-xmllint',\n",
       "   'distro': 'humble',\n",
       "   'name': 'ros-humble-ament-cmake-xmllint',\n",
       "   'count': 55104,\n",
       "   'date': '2024'},\n",
       "  {'package': 'class-loader',\n",
       "   'distro': 'humble',\n",
       "   'name': 'ros-humble-class-loader',\n",
       "   'count': 55074,\n",
       "   'date': '2024'},\n",
       "  {'package': 'ament-cmake-pep257',\n",
       "   'distro': 'humble',\n",
       "   'name': 'ros-humble-ament-cmake-pep257',\n",
       "   'count': 55074,\n",
       "   'date': '2024'},\n",
       "  {'package': 'ament-lint-common',\n",
       "   'distro': 'humble',\n",
       "   'name': 'ros-humble-ament-lint-common',\n",
       "   'count': 54984,\n",
       "   'date': '2024'},\n",
       "  {'package': 'composition-interfaces',\n",
       "   'distro': 'humble',\n",
       "   'name': 'ros-humble-composition-interfaces',\n",
       "   'count': 54899,\n",
       "   'date': '2024'},\n",
       "  {'package': 'ament-cmake-uncrustify',\n",
       "   'distro': 'humble',\n",
       "   'name': 'ros-humble-ament-cmake-uncrustify',\n",
       "   'count': 54872,\n",
       "   'date': '2024'},\n",
       "  {'package': 'rcl-action',\n",
       "   'distro': 'humble',\n",
       "   'name': 'ros-humble-rcl-action',\n",
       "   'count': 54859,\n",
       "   'date': '2024'},\n",
       "  {'package': 'ament-cmake-cppcheck',\n",
       "   'distro': 'humble',\n",
       "   'name': 'ros-humble-ament-cmake-cppcheck',\n",
       "   'count': 54850,\n",
       "   'date': '2024'},\n",
       "  {'package': 'tinyxml2-vendor',\n",
       "   'distro': 'humble',\n",
       "   'name': 'ros-humble-tinyxml2-vendor',\n",
       "   'count': 54841,\n",
       "   'date': '2024'},\n",
       "  {'package': 'mixin',\n",
       "   'distro': 'colcon',\n",
       "   'name': 'python3-colcon-mixin',\n",
       "   'count': 54828,\n",
       "   'date': '2024'},\n",
       "  {'package': 'urdfdom',\n",
       "   'distro': 'humble',\n",
       "   'name': 'ros-humble-urdfdom',\n",
       "   'count': 54800,\n",
       "   'date': '2024'},\n",
       "  {'package': 'ament-cmake-copyright',\n",
       "   'distro': 'humble',\n",
       "   'name': 'ros-humble-ament-cmake-copyright',\n",
       "   'count': 54800,\n",
       "   'date': '2024'},\n",
       "  {'package': 'urdfdom-headers',\n",
       "   'distro': 'humble',\n",
       "   'name': 'ros-humble-urdfdom-headers',\n",
       "   'count': 54748,\n",
       "   'date': '2024'},\n",
       "  {'package': 'pluginlib',\n",
       "   'distro': 'humble',\n",
       "   'name': 'ros-humble-pluginlib',\n",
       "   'count': 54739,\n",
       "   'date': '2024'},\n",
       "  {'package': 'tinyxml-vendor',\n",
       "   'distro': 'humble',\n",
       "   'name': 'ros-humble-tinyxml-vendor',\n",
       "   'count': 54735,\n",
       "   'date': '2024'},\n",
       "  {'package': 'python-qt-binding',\n",
       "   'distro': 'humble',\n",
       "   'name': 'ros-humble-python-qt-binding',\n",
       "   'count': 54657,\n",
       "   'date': '2024'},\n",
       "  {'package': 'magic-enum',\n",
       "   'distro': 'humble',\n",
       "   'name': 'ros-humble-magic-enum',\n",
       "   'count': 54622,\n",
       "   'date': '2024'},\n",
       "  {'package': 'ros2cli',\n",
       "   'distro': 'humble',\n",
       "   'name': 'ros-humble-ros2cli',\n",
       "   'count': 54522,\n",
       "   'date': '2024'},\n",
       "  {'package': 'rclcpp-action',\n",
       "   'distro': 'humble',\n",
       "   'name': 'ros-humble-rclcpp-action',\n",
       "   'count': 54511,\n",
       "   'date': '2024'},\n",
       "  {'package': 'ament-cmake-cpplint',\n",
       "   'distro': 'humble',\n",
       "   'name': 'ros-humble-ament-cmake-cpplint',\n",
       "   'count': 54465,\n",
       "   'date': '2024'},\n",
       "  {'package': 'rosidl-default-generators',\n",
       "   'distro': 'humble',\n",
       "   'name': 'ros-humble-rosidl-default-generators',\n",
       "   'count': 54443,\n",
       "   'date': '2024'},\n",
       "  {'package': 'foonathan-memory-vendor',\n",
       "   'distro': 'humble',\n",
       "   'name': 'ros-humble-foonathan-memory-vendor',\n",
       "   'count': 54317,\n",
       "   'date': '2024'},\n",
       "  {'package': 'rclcpp-components',\n",
       "   'distro': 'humble',\n",
       "   'name': 'ros-humble-rclcpp-components',\n",
       "   'count': 54278,\n",
       "   'date': '2024'},\n",
       "  {'package': 'rmw-fastrtps-cpp',\n",
       "   'distro': 'humble',\n",
       "   'name': 'ros-humble-rmw-fastrtps-cpp',\n",
       "   'count': 54241,\n",
       "   'date': '2024'},\n",
       "  {'package': 'rmw-fastrtps-shared-cpp',\n",
       "   'distro': 'humble',\n",
       "   'name': 'ros-humble-rmw-fastrtps-shared-cpp',\n",
       "   'count': 54235,\n",
       "   'date': '2024'},\n",
       "  {'package': 'fastrtps',\n",
       "   'distro': 'humble',\n",
       "   'name': 'ros-humble-fastrtps',\n",
       "   'count': 53985,\n",
       "   'date': '2024'},\n",
       "  {'package': 'nav-msgs',\n",
       "   'distro': 'humble',\n",
       "   'name': 'ros-humble-nav-msgs',\n",
       "   'count': 53809,\n",
       "   'date': '2024'},\n",
       "  {'package': 'ros-environment',\n",
       "   'distro': 'humble',\n",
       "   'name': 'ros-humble-ros-environment',\n",
       "   'count': 53766,\n",
       "   'date': '2024'},\n",
       "  {'package': 'launch',\n",
       "   'distro': 'humble',\n",
       "   'name': 'ros-humble-launch',\n",
       "   'count': 53706,\n",
       "   'date': '2024'},\n",
       "  {'package': 'tools',\n",
       "   'distro': 'dev',\n",
       "   'name': 'ros-dev-tools',\n",
       "   'count': 53695,\n",
       "   'date': '2024'},\n",
       "  {'package': 'essential',\n",
       "   'distro': 'build',\n",
       "   'name': 'ros-build-essential',\n",
       "   'count': 53688,\n",
       "   'date': '2024'},\n",
       "  {'package': 'pcl-conversions',\n",
       "   'distro': 'humble',\n",
       "   'name': 'ros-humble-pcl-conversions',\n",
       "   'count': 53676,\n",
       "   'date': '2024'},\n",
       "  {'package': 'osrf-pycommon',\n",
       "   'distro': 'humble',\n",
       "   'name': 'ros-humble-osrf-pycommon',\n",
       "   'count': 53596,\n",
       "   'date': '2024'},\n",
       "  {'package': 'ros2service',\n",
       "   'distro': 'humble',\n",
       "   'name': 'ros-humble-ros2service',\n",
       "   'count': 53476,\n",
       "   'date': '2024'},\n",
       "  {'package': 'launch-ros',\n",
       "   'distro': 'humble',\n",
       "   'name': 'ros-humble-launch-ros',\n",
       "   'count': 53474,\n",
       "   'date': '2024'},\n",
       "  {'package': 'actionlib',\n",
       "   'distro': 'noetic',\n",
       "   'name': 'ros-noetic-actionlib',\n",
       "   'count': 53291,\n",
       "   'date': '2024'},\n",
       "  {'package': 'std-srvs',\n",
       "   'distro': 'humble',\n",
       "   'name': 'ros-humble-std-srvs',\n",
       "   'count': 53290,\n",
       "   'date': '2024'},\n",
       "  {'package': 'rclcpp-lifecycle',\n",
       "   'distro': 'humble',\n",
       "   'name': 'ros-humble-rclcpp-lifecycle',\n",
       "   'count': 53239,\n",
       "   'date': '2024'},\n",
       "  {'package': 'ros2node',\n",
       "   'distro': 'humble',\n",
       "   'name': 'ros-humble-ros2node',\n",
       "   'count': 53233,\n",
       "   'date': '2024'},\n",
       "  {'package': 'rosidl-runtime-py',\n",
       "   'distro': 'humble',\n",
       "   'name': 'ros-humble-rosidl-runtime-py',\n",
       "   'count': 53174,\n",
       "   'date': '2024'},\n",
       "  {'package': 'ros2pkg',\n",
       "   'distro': 'humble',\n",
       "   'name': 'ros-humble-ros2pkg',\n",
       "   'count': 52905,\n",
       "   'date': '2024'},\n",
       "  {'package': 'visualization-msgs',\n",
       "   'distro': 'humble',\n",
       "   'name': 'ros-humble-visualization-msgs',\n",
       "   'count': 52886,\n",
       "   'date': '2024'},\n",
       "  {'package': 'trajectory-msgs',\n",
       "   'distro': 'humble',\n",
       "   'name': 'ros-humble-trajectory-msgs',\n",
       "   'count': 52874,\n",
       "   'date': '2024'},\n",
       "  {'package': 'ros2param',\n",
       "   'distro': 'humble',\n",
       "   'name': 'ros-humble-ros2param',\n",
       "   'count': 52825,\n",
       "   'date': '2024'},\n",
       "  {'package': 'rviz',\n",
       "   'distro': 'noetic',\n",
       "   'name': 'ros-noetic-rviz',\n",
       "   'count': 52820,\n",
       "   'date': '2024'},\n",
       "  {'package': 'ros2run',\n",
       "   'distro': 'humble',\n",
       "   'name': 'ros-humble-ros2run',\n",
       "   'count': 52580,\n",
       "   'date': '2024'},\n",
       "  {'package': 'map-msgs',\n",
       "   'distro': 'noetic',\n",
       "   'name': 'ros-noetic-map-msgs',\n",
       "   'count': 52467,\n",
       "   'date': '2024'},\n",
       "  {'package': 'launch-yaml',\n",
       "   'distro': 'humble',\n",
       "   'name': 'ros-humble-launch-yaml',\n",
       "   'count': 52384,\n",
       "   'date': '2024'},\n",
       "  {'package': 'laser-geometry',\n",
       "   'distro': 'noetic',\n",
       "   'name': 'ros-noetic-laser-geometry',\n",
       "   'count': 52312,\n",
       "   'date': '2024'},\n",
       "  {'package': 'launch-xml',\n",
       "   'distro': 'humble',\n",
       "   'name': 'ros-humble-launch-xml',\n",
       "   'count': 52195,\n",
       "   'date': '2024'},\n",
       "  {'package': 'launch-testing-ament-cmake',\n",
       "   'distro': 'humble',\n",
       "   'name': 'ros-humble-launch-testing-ament-cmake',\n",
       "   'count': 51942,\n",
       "   'date': '2024'},\n",
       "  {'package': 'launch-testing',\n",
       "   'distro': 'humble',\n",
       "   'name': 'ros-humble-launch-testing',\n",
       "   'count': 51914,\n",
       "   'date': '2024'},\n",
       "  {'package': 'rosbag2-storage',\n",
       "   'distro': 'humble',\n",
       "   'name': 'ros-humble-rosbag2-storage',\n",
       "   'count': 51889,\n",
       "   'date': '2024'},\n",
       "  {'package': 'roscpp',\n",
       "   'distro': 'noetic',\n",
       "   'name': 'ros-noetic-roscpp',\n",
       "   'count': 51882,\n",
       "   'date': '2024'},\n",
       "  {'package': 'pybind11-vendor',\n",
       "   'distro': 'humble',\n",
       "   'name': 'ros-humble-pybind11-vendor',\n",
       "   'count': 51874,\n",
       "   'date': '2024'},\n",
       "  {'package': 'diagnostic-msgs',\n",
       "   'distro': 'humble',\n",
       "   'name': 'ros-humble-diagnostic-msgs',\n",
       "   'count': 51708,\n",
       "   'date': '2024'},\n",
       "  {'package': 'dummy-robot-bringup',\n",
       "   'distro': 'humble',\n",
       "   'name': 'ros-humble-dummy-robot-bringup',\n",
       "   'count': 51644,\n",
       "   'date': '2024'},\n",
       "  {'package': 'rosbag2-cpp',\n",
       "   'distro': 'humble',\n",
       "   'name': 'ros-humble-rosbag2-cpp',\n",
       "   'count': 51619,\n",
       "   'date': '2024'},\n",
       "  {'package': 'pcl-msgs',\n",
       "   'distro': 'humble',\n",
       "   'name': 'ros-humble-pcl-msgs',\n",
       "   'count': 51442,\n",
       "   'date': '2024'},\n",
       "  {'package': 'launch-testing-ros',\n",
       "   'distro': 'humble',\n",
       "   'name': 'ros-humble-launch-testing-ros',\n",
       "   'count': 51312,\n",
       "   'date': '2024'},\n",
       "  {'package': 'desktop',\n",
       "   'distro': 'humble',\n",
       "   'name': 'ros-humble-desktop',\n",
       "   'count': 51286,\n",
       "   'date': '2024'},\n",
       "  {'package': 'ros2topic',\n",
       "   'distro': 'humble',\n",
       "   'name': 'ros-humble-ros2topic',\n",
       "   'count': 51228,\n",
       "   'date': '2024'},\n",
       "  {'package': 'shared-queues-vendor',\n",
       "   'distro': 'humble',\n",
       "   'name': 'ros-humble-shared-queues-vendor',\n",
       "   'count': 51194,\n",
       "   'date': '2024'},\n",
       "  {'package': 'rospy',\n",
       "   'distro': 'noetic',\n",
       "   'name': 'ros-noetic-rospy',\n",
       "   'count': 50905,\n",
       "   'date': '2024'},\n",
       "  {'package': 'stereo-msgs',\n",
       "   'distro': 'humble',\n",
       "   'name': 'ros-humble-stereo-msgs',\n",
       "   'count': 50806,\n",
       "   'date': '2024'},\n",
       "  {'package': 'actionlib-msgs',\n",
       "   'distro': 'humble',\n",
       "   'name': 'ros-humble-actionlib-msgs',\n",
       "   'count': 50688,\n",
       "   'date': '2024'},\n",
       "  {'package': 'shape-msgs',\n",
       "   'distro': 'humble',\n",
       "   'name': 'ros-humble-shape-msgs',\n",
       "   'count': 50678,\n",
       "   'date': '2024'},\n",
       "  {'package': 'rqt-gui',\n",
       "   'distro': 'humble',\n",
       "   'name': 'ros-humble-rqt-gui',\n",
       "   'count': 50660,\n",
       "   'date': '2024'},\n",
       "  {'package': 'ros2launch',\n",
       "   'distro': 'humble',\n",
       "   'name': 'ros-humble-ros2launch',\n",
       "   'count': 50620,\n",
       "   'date': '2024'},\n",
       "  {'package': 'zstd-vendor',\n",
       "   'distro': 'humble',\n",
       "   'name': 'ros-humble-zstd-vendor',\n",
       "   'count': 50606,\n",
       "   'date': '2024'},\n",
       "  {'package': 'rqt-gui-py',\n",
       "   'distro': 'humble',\n",
       "   'name': 'ros-humble-rqt-gui-py',\n",
       "   'count': 50598,\n",
       "   'date': '2024'},\n",
       "  {'package': 'sensor-msgs',\n",
       "   'distro': 'noetic',\n",
       "   'name': 'ros-noetic-sensor-msgs',\n",
       "   'count': 50555,\n",
       "   'date': '2024'},\n",
       "  {'package': 'sqlite3-vendor',\n",
       "   'distro': 'humble',\n",
       "   'name': 'ros-humble-sqlite3-vendor',\n",
       "   'count': 50547,\n",
       "   'date': '2024'},\n",
       "  {'package': 'roslaunch',\n",
       "   'distro': 'noetic',\n",
       "   'name': 'ros-noetic-roslaunch',\n",
       "   'count': 50543,\n",
       "   'date': '2024'},\n",
       "  {'package': 'xmlrpcpp',\n",
       "   'distro': 'noetic',\n",
       "   'name': 'ros-noetic-xmlrpcpp',\n",
       "   'count': 50500,\n",
       "   'date': '2024'},\n",
       "  {'package': 'common-interfaces',\n",
       "   'distro': 'humble',\n",
       "   'name': 'ros-humble-common-interfaces',\n",
       "   'count': 50480,\n",
       "   'date': '2024'},\n",
       "  {'package': 'qt-gui',\n",
       "   'distro': 'humble',\n",
       "   'name': 'ros-humble-qt-gui',\n",
       "   'count': 50478,\n",
       "   'date': '2024'},\n",
       "  {'package': 'xacro',\n",
       "   'distro': 'noetic',\n",
       "   'name': 'ros-noetic-xacro',\n",
       "   'count': 50398,\n",
       "   'date': '2024'},\n",
       "  {'package': 'tango-icons-vendor',\n",
       "   'distro': 'humble',\n",
       "   'name': 'ros-humble-tango-icons-vendor',\n",
       "   'count': 50341,\n",
       "   'date': '2024'},\n",
       "  {'package': 'rosbag2-transport',\n",
       "   'distro': 'humble',\n",
       "   'name': 'ros-humble-rosbag2-transport',\n",
       "   'count': 50175,\n",
       "   'date': '2024'},\n",
       "  {'package': 'rosbag2-interfaces',\n",
       "   'distro': 'humble',\n",
       "   'name': 'ros-humble-rosbag2-interfaces',\n",
       "   'count': 50162,\n",
       "   'date': '2024'},\n",
       "  {'package': 'rosbag2-compression',\n",
       "   'distro': 'humble',\n",
       "   'name': 'ros-humble-rosbag2-compression',\n",
       "   'count': 50065,\n",
       "   'date': '2024'},\n",
       "  {'package': 'rosbag2',\n",
       "   'distro': 'humble',\n",
       "   'name': 'ros-humble-rosbag2',\n",
       "   'count': 50035,\n",
       "   'date': '2024'},\n",
       "  {'package': 'rosbag2-py',\n",
       "   'distro': 'humble',\n",
       "   'name': 'ros-humble-rosbag2-py',\n",
       "   'count': 49957,\n",
       "   'date': '2024'},\n",
       "  {'package': 'keyboard-handler',\n",
       "   'distro': 'humble',\n",
       "   'name': 'ros-humble-keyboard-handler',\n",
       "   'count': 49937,\n",
       "   'date': '2024'},\n",
       "  {'package': 'ros2action',\n",
       "   'distro': 'humble',\n",
       "   'name': 'ros-humble-ros2action',\n",
       "   'count': 49900,\n",
       "   'date': '2024'},\n",
       "  {'package': 'ros2bag',\n",
       "   'distro': 'humble',\n",
       "   'name': 'ros-humble-ros2bag',\n",
       "   'count': 49837,\n",
       "   'date': '2024'},\n",
       "  {'package': 'ros2lifecycle',\n",
       "   'distro': 'humble',\n",
       "   'name': 'ros-humble-ros2lifecycle',\n",
       "   'count': 49835,\n",
       "   'date': '2024'},\n",
       "  {'package': 'rosbag2-storage-default-plugins',\n",
       "   'distro': 'humble',\n",
       "   'name': 'ros-humble-rosbag2-storage-default-plugins',\n",
       "   'count': 49825,\n",
       "   'date': '2024'},\n",
       "  {'package': 'ros2multicast',\n",
       "   'distro': 'humble',\n",
       "   'name': 'ros-humble-ros2multicast',\n",
       "   'count': 49731,\n",
       "   'date': '2024'},\n",
       "  {'package': 'ros2doctor',\n",
       "   'distro': 'humble',\n",
       "   'name': 'ros-humble-ros2doctor',\n",
       "   'count': 49714,\n",
       "   'date': '2024'},\n",
       "  {'package': 'sros2',\n",
       "   'distro': 'humble',\n",
       "   'name': 'ros-humble-sros2',\n",
       "   'count': 49684,\n",
       "   'date': '2024'},\n",
       "  {'package': 'ros2interface',\n",
       "   'distro': 'humble',\n",
       "   'name': 'ros-humble-ros2interface',\n",
       "   'count': 49665,\n",
       "   'date': '2024'},\n",
       "  {'package': 'ros2cli-common-extensions',\n",
       "   'distro': 'humble',\n",
       "   'name': 'ros-humble-ros2cli-common-extensions',\n",
       "   'count': 49664,\n",
       "   'date': '2024'},\n",
       "  {'package': 'ros2component',\n",
       "   'distro': 'humble',\n",
       "   'name': 'ros-humble-ros2component',\n",
       "   'count': 49644,\n",
       "   'date': '2024'},\n",
       "  {'package': 'rosbag2-compression-zstd',\n",
       "   'distro': 'humble',\n",
       "   'name': 'ros-humble-rosbag2-compression-zstd',\n",
       "   'count': 49625,\n",
       "   'date': '2024'},\n",
       "  {'package': 'installed-package-information',\n",
       "   'distro': 'colcon',\n",
       "   'name': 'python3-colcon-installed-package-information',\n",
       "   'count': 49598,\n",
       "   'date': '2024'},\n",
       "  {'package': 'rostest',\n",
       "   'distro': 'noetic',\n",
       "   'name': 'ros-noetic-rostest',\n",
       "   'count': 49491,\n",
       "   'date': '2024'},\n",
       "  {'package': 'rosbag',\n",
       "   'distro': 'noetic',\n",
       "   'name': 'ros-noetic-rosbag',\n",
       "   'count': 49385,\n",
       "   'date': '2024'},\n",
       "  {'package': 'ament-cmake-auto',\n",
       "   'distro': 'humble',\n",
       "   'name': 'ros-humble-ament-cmake-auto',\n",
       "   'count': 49366,\n",
       "   'date': '2024'},\n",
       "  {'package': 'ros-core',\n",
       "   'distro': 'humble',\n",
       "   'name': 'ros-humble-ros-core',\n",
       "   'count': 49348,\n",
       "   'date': '2024'},\n",
       "  {'package': 'sros2-cmake',\n",
       "   'distro': 'humble',\n",
       "   'name': 'ros-humble-sros2-cmake',\n",
       "   'count': 49332,\n",
       "   'date': '2024'},\n",
       "  {'package': 'robot-state-publisher',\n",
       "   'distro': 'noetic',\n",
       "   'name': 'ros-noetic-robot-state-publisher',\n",
       "   'count': 49296,\n",
       "   'date': '2024'},\n",
       "  {'package': 'ament-package',\n",
       "   'distro': 'humble',\n",
       "   'name': 'ros-humble-ament-package',\n",
       "   'count': 49262,\n",
       "   'date': '2024'},\n",
       "  {'package': 'tf2-kdl',\n",
       "   'distro': 'noetic',\n",
       "   'name': 'ros-noetic-tf2-kdl',\n",
       "   'count': 49056,\n",
       "   'date': '2024'},\n",
       "  {'package': 'rosgraph',\n",
       "   'distro': 'noetic',\n",
       "   'name': 'ros-noetic-rosgraph',\n",
       "   'count': 49003,\n",
       "   'date': '2024'},\n",
       "  {'package': 'joy',\n",
       "   'distro': 'humble',\n",
       "   'name': 'ros-humble-joy',\n",
       "   'count': 48971,\n",
       "   'date': '2024'},\n",
       "  {'package': 'kdl-parser',\n",
       "   'distro': 'noetic',\n",
       "   'name': 'ros-noetic-kdl-parser',\n",
       "   'count': 48804,\n",
       "   'date': '2024'},\n",
       "  {'package': 'dynamic-reconfigure',\n",
       "   'distro': 'noetic',\n",
       "   'name': 'ros-noetic-dynamic-reconfigure',\n",
       "   'count': 48749,\n",
       "   'date': '2024'},\n",
       "  {'package': 'sdl2-vendor',\n",
       "   'distro': 'humble',\n",
       "   'name': 'ros-humble-sdl2-vendor',\n",
       "   'count': 48730,\n",
       "   'date': '2024'},\n",
       "  {'package': 'rqt-py-common',\n",
       "   'distro': 'humble',\n",
       "   'name': 'ros-humble-rqt-py-common',\n",
       "   'count': 48508,\n",
       "   'date': '2024'},\n",
       "  {'package': 'rosout',\n",
       "   'distro': 'noetic',\n",
       "   'name': 'ros-noetic-rosout',\n",
       "   'count': 48508,\n",
       "   'date': '2024'},\n",
       "  {'package': 'tf2-msgs',\n",
       "   'distro': 'noetic',\n",
       "   'name': 'ros-noetic-tf2-msgs',\n",
       "   'count': 48496,\n",
       "   'date': '2024'},\n",
       "  {'package': 'rosparam',\n",
       "   'distro': 'noetic',\n",
       "   'name': 'ros-noetic-rosparam',\n",
       "   'count': 48331,\n",
       "   'date': '2024'},\n",
       "  {'package': 'rosmaster',\n",
       "   'distro': 'noetic',\n",
       "   'name': 'ros-noetic-rosmaster',\n",
       "   'count': 48278,\n",
       "   'date': '2024'},\n",
       "  {'package': 'rosbag-storage',\n",
       "   'distro': 'noetic',\n",
       "   'name': 'ros-noetic-rosbag-storage',\n",
       "   'count': 48261,\n",
       "   'date': '2024'},\n",
       "  {'package': 'message-filters',\n",
       "   'distro': 'noetic',\n",
       "   'name': 'ros-noetic-message-filters',\n",
       "   'count': 48114,\n",
       "   'date': '2024'},\n",
       "  {'package': 'nodelet',\n",
       "   'distro': 'noetic',\n",
       "   'name': 'ros-noetic-nodelet',\n",
       "   'count': 48109,\n",
       "   'date': '2024'},\n",
       "  {'package': 'topic-tools',\n",
       "   'distro': 'noetic',\n",
       "   'name': 'ros-noetic-topic-tools',\n",
       "   'count': 48077,\n",
       "   'date': '2024'},\n",
       "  {'package': 'rosmsg',\n",
       "   'distro': 'noetic',\n",
       "   'name': 'ros-noetic-rosmsg',\n",
       "   'count': 48020,\n",
       "   'date': '2024'},\n",
       "  {'package': 'rostopic',\n",
       "   'distro': 'noetic',\n",
       "   'name': 'ros-noetic-rostopic',\n",
       "   'count': 47973,\n",
       "   'date': '2024'},\n",
       "  {'package': 'rosservice',\n",
       "   'distro': 'noetic',\n",
       "   'name': 'ros-noetic-rosservice',\n",
       "   'count': 47884,\n",
       "   'date': '2024'},\n",
       "  {'package': 'roslz4',\n",
       "   'distro': 'noetic',\n",
       "   'name': 'ros-noetic-roslz4',\n",
       "   'count': 47840,\n",
       "   'date': '2024'},\n",
       "  {'package': 'rosnode',\n",
       "   'distro': 'noetic',\n",
       "   'name': 'ros-noetic-rosnode',\n",
       "   'count': 47611,\n",
       "   'date': '2024'},\n",
       "  {'package': 'image-geometry',\n",
       "   'distro': 'humble',\n",
       "   'name': 'ros-humble-image-geometry',\n",
       "   'count': 47428,\n",
       "   'date': '2024'},\n",
       "  {'package': 'roswtf',\n",
       "   'distro': 'noetic',\n",
       "   'name': 'ros-noetic-roswtf',\n",
       "   'count': 47318,\n",
       "   'date': '2024'},\n",
       "  {'package': 'qt-gui-py-common',\n",
       "   'distro': 'humble',\n",
       "   'name': 'ros-humble-qt-gui-py-common',\n",
       "   'count': 47300,\n",
       "   'date': '2024'},\n",
       "  {'package': 'rqt-image-view',\n",
       "   'distro': 'humble',\n",
       "   'name': 'ros-humble-rqt-image-view',\n",
       "   'count': 46904,\n",
       "   'date': '2024'},\n",
       "  {'package': 'override-check',\n",
       "   'distro': 'colcon',\n",
       "   'name': 'python3-colcon-override-check',\n",
       "   'count': 46840,\n",
       "   'date': '2024'},\n",
       "  {'package': 'tf2',\n",
       "   'distro': 'noetic',\n",
       "   'name': 'ros-noetic-tf2',\n",
       "   'count': 46799,\n",
       "   'date': '2024'},\n",
       "  {'package': 'bondcpp',\n",
       "   'distro': 'noetic',\n",
       "   'name': 'ros-noetic-bondcpp',\n",
       "   'count': 46782,\n",
       "   'date': '2024'},\n",
       "  {'package': 'rqt-console',\n",
       "   'distro': 'humble',\n",
       "   'name': 'ros-humble-rqt-console',\n",
       "   'count': 46330,\n",
       "   'date': '2024'},\n",
       "  {'package': 'rqt-reconfigure',\n",
       "   'distro': 'humble',\n",
       "   'name': 'ros-humble-rqt-reconfigure',\n",
       "   'count': 46044,\n",
       "   'date': '2024'},\n",
       "  {'package': 'example-interfaces',\n",
       "   'distro': 'humble',\n",
       "   'name': 'ros-humble-example-interfaces',\n",
       "   'count': 45686,\n",
       "   'date': '2024'},\n",
       "  {'package': 'rqt-gui-cpp',\n",
       "   'distro': 'humble',\n",
       "   'name': 'ros-humble-rqt-gui-cpp',\n",
       "   'count': 45465,\n",
       "   'date': '2024'},\n",
       "  {'package': 'qt-gui-cpp',\n",
       "   'distro': 'humble',\n",
       "   'name': 'ros-humble-qt-gui-cpp',\n",
       "   'count': 45451,\n",
       "   'date': '2024'},\n",
       "  {'package': 'camera-calibration-parsers',\n",
       "   'distro': 'noetic',\n",
       "   'name': 'ros-noetic-camera-calibration-parsers',\n",
       "   'count': 45287,\n",
       "   'date': '2024'},\n",
       "  {'package': 'nodelet-topic-tools',\n",
       "   'distro': 'noetic',\n",
       "   'name': 'ros-noetic-nodelet-topic-tools',\n",
       "   'count': 45103,\n",
       "   'date': '2024'},\n",
       "  {'package': 'camera-info-manager',\n",
       "   'distro': 'noetic',\n",
       "   'name': 'ros-noetic-camera-info-manager',\n",
       "   'count': 44839,\n",
       "   'date': '2024'},\n",
       "  {'package': 'rqt-graph',\n",
       "   'distro': 'humble',\n",
       "   'name': 'ros-humble-rqt-graph',\n",
       "   'count': 44348,\n",
       "   'date': '2024'},\n",
       "  {'package': 'qt-dotgraph',\n",
       "   'distro': 'humble',\n",
       "   'name': 'ros-humble-qt-dotgraph',\n",
       "   'count': 44012,\n",
       "   'date': '2024'},\n",
       "  {'package': 'joint-state-publisher',\n",
       "   'distro': 'noetic',\n",
       "   'name': 'ros-noetic-joint-state-publisher',\n",
       "   'count': 43996,\n",
       "   'date': '2024'},\n",
       "  {'package': 'rqt-common-plugins',\n",
       "   'distro': 'humble',\n",
       "   'name': 'ros-humble-rqt-common-plugins',\n",
       "   'count': 43808,\n",
       "   'date': '2024'},\n",
       "  {'package': 'rqt-topic',\n",
       "   'distro': 'humble',\n",
       "   'name': 'ros-humble-rqt-topic',\n",
       "   'count': 43788,\n",
       "   'date': '2024'},\n",
       "  {'package': 'rqt-plot',\n",
       "   'distro': 'humble',\n",
       "   'name': 'ros-humble-rqt-plot',\n",
       "   'count': 43772,\n",
       "   'date': '2024'},\n",
       "  {'package': 'pcl-msgs',\n",
       "   'distro': 'noetic',\n",
       "   'name': 'ros-noetic-pcl-msgs',\n",
       "   'count': 43339,\n",
       "   'date': '2024'},\n",
       "  {'package': 'tools',\n",
       "   'distro': 'catkin',\n",
       "   'name': 'python3-catkin-tools',\n",
       "   'count': 43065,\n",
       "   'date': '2024'},\n",
       "  {'package': 'pcl-ros',\n",
       "   'distro': 'noetic',\n",
       "   'name': 'ros-noetic-pcl-ros',\n",
       "   'count': 42612,\n",
       "   'date': '2024'},\n",
       "  {'package': 'bondpy',\n",
       "   'distro': 'noetic',\n",
       "   'name': 'ros-noetic-bondpy',\n",
       "   'count': 42576,\n",
       "   'date': '2024'},\n",
       "  {'package': 'stereo-msgs',\n",
       "   'distro': 'noetic',\n",
       "   'name': 'ros-noetic-stereo-msgs',\n",
       "   'count': 42394,\n",
       "   'date': '2024'},\n",
       "  {'package': 'pcl-conversions',\n",
       "   'distro': 'noetic',\n",
       "   'name': 'ros-noetic-pcl-conversions',\n",
       "   'count': 42315,\n",
       "   'date': '2024'},\n",
       "  {'package': 'rqt-srv',\n",
       "   'distro': 'humble',\n",
       "   'name': 'ros-humble-rqt-srv',\n",
       "   'count': 42236,\n",
       "   'date': '2024'},\n",
       "  {'package': 'ros-core',\n",
       "   'distro': 'noetic',\n",
       "   'name': 'ros-noetic-ros-core',\n",
       "   'count': 42223,\n",
       "   'date': '2024'},\n",
       "  {'package': 'rqt-bag',\n",
       "   'distro': 'humble',\n",
       "   'name': 'ros-humble-rqt-bag',\n",
       "   'count': 42140,\n",
       "   'date': '2024'},\n",
       "  {'package': 'rqt-action',\n",
       "   'distro': 'humble',\n",
       "   'name': 'ros-humble-rqt-action',\n",
       "   'count': 42126,\n",
       "   'date': '2024'},\n",
       "  {'package': 'rqt-shell',\n",
       "   'distro': 'humble',\n",
       "   'name': 'ros-humble-rqt-shell',\n",
       "   'count': 42110,\n",
       "   'date': '2024'},\n",
       "  {'package': 'hardware-interface',\n",
       "   'distro': 'noetic',\n",
       "   'name': 'ros-noetic-hardware-interface',\n",
       "   'count': 42095,\n",
       "   'date': '2024'},\n",
       "  {'package': 'rqt-msg',\n",
       "   'distro': 'humble',\n",
       "   'name': 'ros-humble-rqt-msg',\n",
       "   'count': 42081,\n",
       "   'date': '2024'},\n",
       "  {'package': 'teleop-twist-keyboard',\n",
       "   'distro': 'humble',\n",
       "   'name': 'ros-humble-teleop-twist-keyboard',\n",
       "   'count': 42030,\n",
       "   'date': '2024'},\n",
       "  {'package': 'rqt-service-caller',\n",
       "   'distro': 'humble',\n",
       "   'name': 'ros-humble-rqt-service-caller',\n",
       "   'count': 42022,\n",
       "   'date': '2024'},\n",
       "  {'package': 'rqt-bag-plugins',\n",
       "   'distro': 'humble',\n",
       "   'name': 'ros-humble-rqt-bag-plugins',\n",
       "   'count': 42022,\n",
       "   'date': '2024'},\n",
       "  {'package': 'controller-manager-msgs',\n",
       "   'distro': 'noetic',\n",
       "   'name': 'ros-noetic-controller-manager-msgs',\n",
       "   'count': 41989,\n",
       "   'date': '2024'},\n",
       "  {'package': 'rqt-py-console',\n",
       "   'distro': 'humble',\n",
       "   'name': 'ros-humble-rqt-py-console',\n",
       "   'count': 41973,\n",
       "   'date': '2024'},\n",
       "  {'package': 'controller-manager',\n",
       "   'distro': 'noetic',\n",
       "   'name': 'ros-noetic-controller-manager',\n",
       "   'count': 41967,\n",
       "   'date': '2024'},\n",
       "  {'package': 'demo-nodes-cpp',\n",
       "   'distro': 'humble',\n",
       "   'name': 'ros-humble-demo-nodes-cpp',\n",
       "   'count': 41947,\n",
       "   'date': '2024'},\n",
       "  {'package': 'common-msgs',\n",
       "   'distro': 'noetic',\n",
       "   'name': 'ros-noetic-common-msgs',\n",
       "   'count': 41844,\n",
       "   'date': '2024'},\n",
       "  {'package': 'rqt-publisher',\n",
       "   'distro': 'humble',\n",
       "   'name': 'ros-humble-rqt-publisher',\n",
       "   'count': 41833,\n",
       "   'date': '2024'},\n",
       "  {'package': 'rqt-gui',\n",
       "   'distro': 'noetic',\n",
       "   'name': 'ros-noetic-rqt-gui',\n",
       "   'count': 41783,\n",
       "   'date': '2024'},\n",
       "  {'package': 'ros-base',\n",
       "   'distro': 'noetic',\n",
       "   'name': 'ros-noetic-ros-base',\n",
       "   'count': 41719,\n",
       "   'date': '2024'},\n",
       "  {'package': 'ros-comm',\n",
       "   'distro': 'noetic',\n",
       "   'name': 'ros-noetic-ros-comm',\n",
       "   'count': 41637,\n",
       "   'date': '2024'},\n",
       "  {'package': 'nodelet-core',\n",
       "   'distro': 'noetic',\n",
       "   'name': 'ros-noetic-nodelet-core',\n",
       "   'count': 41618,\n",
       "   'date': '2024'},\n",
       "  {'package': 'bond-core',\n",
       "   'distro': 'noetic',\n",
       "   'name': 'ros-noetic-bond-core',\n",
       "   'count': 41543,\n",
       "   'date': '2024'},\n",
       "  {'package': 'controller-interface',\n",
       "   'distro': 'noetic',\n",
       "   'name': 'ros-noetic-controller-interface',\n",
       "   'count': 41511,\n",
       "   'date': '2024'},\n",
       "  {'package': 'realtime-tools',\n",
       "   'distro': 'noetic',\n",
       "   'name': 'ros-noetic-realtime-tools',\n",
       "   'count': 41500,\n",
       "   'date': '2024'},\n",
       "  {'package': 'logging-demo',\n",
       "   'distro': 'humble',\n",
       "   'name': 'ros-humble-logging-demo',\n",
       "   'count': 41307,\n",
       "   'date': '2024'},\n",
       "  {'package': 'kdl-conversions',\n",
       "   'distro': 'noetic',\n",
       "   'name': 'ros-noetic-kdl-conversions',\n",
       "   'count': 41132,\n",
       "   'date': '2024'},\n",
       "  {'package': 'demo-nodes-py',\n",
       "   'distro': 'humble',\n",
       "   'name': 'ros-humble-demo-nodes-py',\n",
       "   'count': 41027,\n",
       "   'date': '2024'},\n",
       "  {'package': 'xacro',\n",
       "   'distro': 'humble',\n",
       "   'name': 'ros-humble-xacro',\n",
       "   'count': 40896,\n",
       "   'date': '2024'},\n",
       "  {'package': 'joint-state-publisher-gui',\n",
       "   'distro': 'noetic',\n",
       "   'name': 'ros-noetic-joint-state-publisher-gui',\n",
       "   'count': 40637,\n",
       "   'date': '2024'},\n",
       "  {'package': 'filters',\n",
       "   'distro': 'noetic',\n",
       "   'name': 'ros-noetic-filters',\n",
       "   'count': 40599,\n",
       "   'date': '2024'},\n",
       "  {'package': 'rqt-gui-py',\n",
       "   'distro': 'noetic',\n",
       "   'name': 'ros-noetic-rqt-gui-py',\n",
       "   'count': 40579,\n",
       "   'date': '2024'},\n",
       "  {'package': 'action-tutorials-interfaces',\n",
       "   'distro': 'humble',\n",
       "   'name': 'ros-humble-action-tutorials-interfaces',\n",
       "   'count': 40509,\n",
       "   'date': '2024'},\n",
       "  {'package': 'gazebo-ros',\n",
       "   'distro': 'noetic',\n",
       "   'name': 'ros-noetic-gazebo-ros',\n",
       "   'count': 40326,\n",
       "   'date': '2024'},\n",
       "  {'package': 'gazebo-msgs',\n",
       "   'distro': 'noetic',\n",
       "   'name': 'ros-noetic-gazebo-msgs',\n",
       "   'count': 40095,\n",
       "   'date': '2024'},\n",
       "  {'package': 'turtlesim',\n",
       "   'distro': 'humble',\n",
       "   'name': 'ros-humble-turtlesim',\n",
       "   'count': 39960,\n",
       "   'date': '2024'},\n",
       "  {'package': 'examples-rclpy-minimal-subscriber',\n",
       "   'distro': 'humble',\n",
       "   'name': 'ros-humble-examples-rclpy-minimal-subscriber',\n",
       "   'count': 39896,\n",
       "   'date': '2024'},\n",
       "  {'package': 'examples-rclpy-minimal-service',\n",
       "   'distro': 'humble',\n",
       "   'name': 'ros-humble-examples-rclpy-minimal-service',\n",
       "   'count': 39851,\n",
       "   'date': '2024'},\n",
       "  {'package': 'examples-rclcpp-minimal-publisher',\n",
       "   'distro': 'humble',\n",
       "   'name': 'ros-humble-examples-rclcpp-minimal-publisher',\n",
       "   'count': 39795,\n",
       "   'date': '2024'},\n",
       "  {'package': 'examples-rclpy-minimal-publisher',\n",
       "   'distro': 'humble',\n",
       "   'name': 'ros-humble-examples-rclpy-minimal-publisher',\n",
       "   'count': 39793,\n",
       "   'date': '2024'},\n",
       "  {'package': 'tlsf-cpp',\n",
       "   'distro': 'humble',\n",
       "   'name': 'ros-humble-tlsf-cpp',\n",
       "   'count': 39774,\n",
       "   'date': '2024'},\n",
       "  {'package': 'examples-rclpy-minimal-client',\n",
       "   'distro': 'humble',\n",
       "   'name': 'ros-humble-examples-rclpy-minimal-client',\n",
       "   'count': 39741,\n",
       "   'date': '2024'},\n",
       "  {'package': 'tlsf',\n",
       "   'distro': 'humble',\n",
       "   'name': 'ros-humble-tlsf',\n",
       "   'count': 39699,\n",
       "   'date': '2024'},\n",
       "  {'package': 'diagnostic-aggregator',\n",
       "   'distro': 'noetic',\n",
       "   'name': 'ros-noetic-diagnostic-aggregator',\n",
       "   'count': 39685,\n",
       "   'date': '2024'},\n",
       "  {'package': 'examples-rclpy-minimal-action-server',\n",
       "   'distro': 'humble',\n",
       "   'name': 'ros-humble-examples-rclpy-minimal-action-server',\n",
       "   'count': 39604,\n",
       "   'date': '2024'},\n",
       "  {'package': 'image-geometry',\n",
       "   'distro': 'noetic',\n",
       "   'name': 'ros-noetic-image-geometry',\n",
       "   'count': 39601,\n",
       "   'date': '2024'},\n",
       "  {'package': 'examples-rclpy-minimal-action-client',\n",
       "   'distro': 'humble',\n",
       "   'name': 'ros-humble-examples-rclpy-minimal-action-client',\n",
       "   'count': 39502,\n",
       "   'date': '2024'},\n",
       "  {'package': 'lifecycle',\n",
       "   'distro': 'humble',\n",
       "   'name': 'ros-humble-lifecycle',\n",
       "   'count': 39445,\n",
       "   'date': '2024'},\n",
       "  {'package': 'depthimage-to-laserscan',\n",
       "   'distro': 'humble',\n",
       "   'name': 'ros-humble-depthimage-to-laserscan',\n",
       "   'count': 39440,\n",
       "   'date': '2024'},\n",
       "  {'package': 'composition',\n",
       "   'distro': 'humble',\n",
       "   'name': 'ros-humble-composition',\n",
       "   'count': 39439,\n",
       "   'date': '2024'},\n",
       "  {'package': 'examples-rclcpp-minimal-client',\n",
       "   'distro': 'humble',\n",
       "   'name': 'ros-humble-examples-rclcpp-minimal-client',\n",
       "   'count': 39411,\n",
       "   'date': '2024'},\n",
       "  {'package': 'action-tutorials-cpp',\n",
       "   'distro': 'humble',\n",
       "   'name': 'ros-humble-action-tutorials-cpp',\n",
       "   'count': 39409,\n",
       "   'date': '2024'},\n",
       "  {'package': 'examples-rclcpp-minimal-subscriber',\n",
       "   'distro': 'humble',\n",
       "   'name': 'ros-humble-examples-rclcpp-minimal-subscriber',\n",
       "   'count': 39398,\n",
       "   'date': '2024'},\n",
       "  {'package': 'image-tools',\n",
       "   'distro': 'humble',\n",
       "   'name': 'ros-humble-image-tools',\n",
       "   'count': 39394,\n",
       "   'date': '2024'},\n",
       "  {'package': 'examples-rclcpp-minimal-composition',\n",
       "   'distro': 'humble',\n",
       "   'name': 'ros-humble-examples-rclcpp-minimal-composition',\n",
       "   'count': 39391,\n",
       "   'date': '2024'},\n",
       "  {'package': 'dummy-sensors',\n",
       "   'distro': 'humble',\n",
       "   'name': 'ros-humble-dummy-sensors',\n",
       "   'count': 39382,\n",
       "   'date': '2024'},\n",
       "  {'package': 'dummy-map-server',\n",
       "   'distro': 'humble',\n",
       "   'name': 'ros-humble-dummy-map-server',\n",
       "   'count': 39368,\n",
       "   'date': '2024'},\n",
       "  {'package': 'examples-rclpy-executors',\n",
       "   'distro': 'humble',\n",
       "   'name': 'ros-humble-examples-rclpy-executors',\n",
       "   'count': 39340,\n",
       "   'date': '2024'},\n",
       "  {'package': 'examples-rclcpp-minimal-action-server',\n",
       "   'distro': 'humble',\n",
       "   'name': 'ros-humble-examples-rclcpp-minimal-action-server',\n",
       "   'count': 39338,\n",
       "   'date': '2024'},\n",
       "  {'package': 'pendulum-msgs',\n",
       "   'distro': 'humble',\n",
       "   'name': 'ros-humble-pendulum-msgs',\n",
       "   'count': 39329,\n",
       "   'date': '2024'},\n",
       "  {'package': 'examples-rclcpp-minimal-action-client',\n",
       "   'distro': 'humble',\n",
       "   'name': 'ros-humble-examples-rclcpp-minimal-action-client',\n",
       "   'count': 39294,\n",
       "   'date': '2024'},\n",
       "  {'package': 'topic-monitor',\n",
       "   'distro': 'humble',\n",
       "   'name': 'ros-humble-topic-monitor',\n",
       "   'count': 39289,\n",
       "   'date': '2024'},\n",
       "  {'package': 'pendulum-control',\n",
       "   'distro': 'humble',\n",
       "   'name': 'ros-humble-pendulum-control',\n",
       "   'count': 39282,\n",
       "   'date': '2024'},\n",
       "  {'package': 'examples-rclcpp-multithreaded-executor',\n",
       "   'distro': 'humble',\n",
       "   'name': 'ros-humble-examples-rclcpp-multithreaded-executor',\n",
       "   'count': 39236,\n",
       "   'date': '2024'},\n",
       "  {'package': 'examples-rclcpp-minimal-service',\n",
       "   'distro': 'humble',\n",
       "   'name': 'ros-humble-examples-rclcpp-minimal-service',\n",
       "   'count': 39234,\n",
       "   'date': '2024'},\n",
       "  {'package': 'action-tutorials-py',\n",
       "   'distro': 'humble',\n",
       "   'name': 'ros-humble-action-tutorials-py',\n",
       "   'count': 39208,\n",
       "   'date': '2024'},\n",
       "  {'package': 'quality-of-service-demo-cpp',\n",
       "   'distro': 'humble',\n",
       "   'name': 'ros-humble-quality-of-service-demo-cpp',\n",
       "   'count': 39208,\n",
       "   'date': '2024'},\n",
       "  {'package': 'rttest',\n",
       "   'distro': 'humble',\n",
       "   'name': 'ros-humble-rttest',\n",
       "   'count': 39208,\n",
       "   'date': '2024'},\n",
       "  {'package': 'demo-nodes-cpp-native',\n",
       "   'distro': 'humble',\n",
       "   'name': 'ros-humble-demo-nodes-cpp-native',\n",
       "   'count': 39186,\n",
       "   'date': '2024'},\n",
       "  {'package': 'quality-of-service-demo-py',\n",
       "   'distro': 'humble',\n",
       "   'name': 'ros-humble-quality-of-service-demo-py',\n",
       "   'count': 39172,\n",
       "   'date': '2024'},\n",
       "  {'package': 'examples-rclcpp-minimal-timer',\n",
       "   'distro': 'humble',\n",
       "   'name': 'ros-humble-examples-rclcpp-minimal-timer',\n",
       "   'count': 39154,\n",
       "   'date': '2024'},\n",
       "  {'package': 'control-toolbox',\n",
       "   'distro': 'noetic',\n",
       "   'name': 'ros-noetic-control-toolbox',\n",
       "   'count': 39106,\n",
       "   'date': '2024'},\n",
       "  {'package': 'intra-process-demo',\n",
       "   'distro': 'humble',\n",
       "   'name': 'ros-humble-intra-process-demo',\n",
       "   'count': 39080,\n",
       "   'date': '2024'},\n",
       "  {'package': 'joint-limits-interface',\n",
       "   'distro': 'noetic',\n",
       "   'name': 'ros-noetic-joint-limits-interface',\n",
       "   'count': 39048,\n",
       "   'date': '2024'},\n",
       "  {'package': 'rqt-gui-cpp',\n",
       "   'distro': 'noetic',\n",
       "   'name': 'ros-noetic-rqt-gui-cpp',\n",
       "   'count': 39035,\n",
       "   'date': '2024'},\n",
       "  {'package': 'resource-retriever',\n",
       "   'distro': 'noetic',\n",
       "   'name': 'ros-noetic-resource-retriever',\n",
       "   'count': 38334,\n",
       "   'date': '2024'},\n",
       "  {'package': 'generator',\n",
       "   'distro': 'rosinstall',\n",
       "   'name': 'python3-rosinstall-generator',\n",
       "   'count': 38179,\n",
       "   'date': '2024'},\n",
       "  {'package': 'python-qt-binding',\n",
       "   'distro': 'noetic',\n",
       "   'name': 'ros-noetic-python-qt-binding',\n",
       "   'count': 37988,\n",
       "   'date': '2024'},\n",
       "  {'package': 'rqt-py-common',\n",
       "   'distro': 'noetic',\n",
       "   'name': 'ros-noetic-rqt-py-common',\n",
       "   'count': 37577,\n",
       "   'date': '2024'},\n",
       "  {'package': 'joint-state-controller',\n",
       "   'distro': 'noetic',\n",
       "   'name': 'ros-noetic-joint-state-controller',\n",
       "   'count': 37457,\n",
       "   'date': '2024'},\n",
       "  {'package': 'diagnostic-updater',\n",
       "   'distro': 'humble',\n",
       "   'name': 'ros-humble-diagnostic-updater',\n",
       "   'count': 37308,\n",
       "   'date': '2024'},\n",
       "  {'package': 'transmission-interface',\n",
       "   'distro': 'noetic',\n",
       "   'name': 'ros-noetic-transmission-interface',\n",
       "   'count': 37237,\n",
       "   'date': '2024'},\n",
       "  {'package': 'polled-camera',\n",
       "   'distro': 'noetic',\n",
       "   'name': 'ros-noetic-polled-camera',\n",
       "   'count': 36904,\n",
       "   'date': '2024'},\n",
       "  {'package': 'rqt-logger-level',\n",
       "   'distro': 'noetic',\n",
       "   'name': 'ros-noetic-rqt-logger-level',\n",
       "   'count': 36826,\n",
       "   'date': '2024'},\n",
       "  {'package': 'rqt-console',\n",
       "   'distro': 'noetic',\n",
       "   'name': 'ros-noetic-rqt-console',\n",
       "   'count': 36729,\n",
       "   'date': '2024'},\n",
       "  {'package': 'rqt-image-view',\n",
       "   'distro': 'noetic',\n",
       "   'name': 'ros-noetic-rqt-image-view',\n",
       "   'count': 36635,\n",
       "   'date': '2024'},\n",
       "  {'package': 'forward-command-controller',\n",
       "   'distro': 'noetic',\n",
       "   'name': 'ros-noetic-forward-command-controller',\n",
       "   'count': 36550,\n",
       "   'date': '2024'},\n",
       "  {'package': 'diagnostic-common-diagnostics',\n",
       "   'distro': 'noetic',\n",
       "   'name': 'ros-noetic-diagnostic-common-diagnostics',\n",
       "   'count': 36466,\n",
       "   'date': '2024'},\n",
       "  {'package': 'catkin',\n",
       "   'distro': 'noetic',\n",
       "   'name': 'ros-noetic-catkin',\n",
       "   'count': 36393,\n",
       "   'date': '2024'},\n",
       "  {'package': 'rqt-reconfigure',\n",
       "   'distro': 'noetic',\n",
       "   'name': 'ros-noetic-rqt-reconfigure',\n",
       "   'count': 36308,\n",
       "   'date': '2024'},\n",
       "  {'package': 'rqt-bag',\n",
       "   'distro': 'noetic',\n",
       "   'name': 'ros-noetic-rqt-bag',\n",
       "   'count': 36270,\n",
       "   'date': '2024'},\n",
       "  {'package': 'gazebo-plugins',\n",
       "   'distro': 'noetic',\n",
       "   'name': 'ros-noetic-gazebo-plugins',\n",
       "   'count': 36254,\n",
       "   'date': '2024'},\n",
       "  {'package': 'self-test',\n",
       "   'distro': 'noetic',\n",
       "   'name': 'ros-noetic-self-test',\n",
       "   'count': 36211,\n",
       "   'date': '2024'},\n",
       "  {'package': 'rqt-plot',\n",
       "   'distro': 'noetic',\n",
       "   'name': 'ros-noetic-rqt-plot',\n",
       "   'count': 36140,\n",
       "   'date': '2024'},\n",
       "  {'package': 'diagnostic-analysis',\n",
       "   'distro': 'noetic',\n",
       "   'name': 'ros-noetic-diagnostic-analysis',\n",
       "   'count': 36015,\n",
       "   'date': '2024'},\n",
       "  {'package': 'rqt-graph',\n",
       "   'distro': 'noetic',\n",
       "   'name': 'ros-noetic-rqt-graph',\n",
       "   'count': 35881,\n",
       "   'date': '2024'},\n",
       "  {'package': 'diagnostics',\n",
       "   'distro': 'noetic',\n",
       "   'name': 'ros-noetic-diagnostics',\n",
       "   'count': 35860,\n",
       "   'date': '2024'},\n",
       "  {'package': 'pycommon',\n",
       "   'distro': 'osrf',\n",
       "   'name': 'python3-osrf-pycommon',\n",
       "   'count': 35754,\n",
       "   'date': '2024'},\n",
       "  {'package': 'gazebo-ros-control',\n",
       "   'distro': 'noetic',\n",
       "   'name': 'ros-noetic-gazebo-ros-control',\n",
       "   'count': 35673,\n",
       "   'date': '2024'},\n",
       "  {'package': 'smach-ros',\n",
       "   'distro': 'noetic',\n",
       "   'name': 'ros-noetic-smach-ros',\n",
       "   'count': 35502,\n",
       "   'date': '2024'},\n",
       "  {'package': 'std-msgs',\n",
       "   'distro': 'noetic',\n",
       "   'name': 'ros-noetic-std-msgs',\n",
       "   'count': 35497,\n",
       "   'date': '2024'},\n",
       "  {'package': 'rqt-service-caller',\n",
       "   'distro': 'noetic',\n",
       "   'name': 'ros-noetic-rqt-service-caller',\n",
       "   'count': 35458,\n",
       "   'date': '2024'},\n",
       "  {'package': 'rospy-tutorials',\n",
       "   'distro': 'noetic',\n",
       "   'name': 'ros-noetic-rospy-tutorials',\n",
       "   'count': 35452,\n",
       "   'date': '2024'},\n",
       "  {'package': 'rqt-launch',\n",
       "   'distro': 'noetic',\n",
       "   'name': 'ros-noetic-rqt-launch',\n",
       "   'count': 35401,\n",
       "   'date': '2024'},\n",
       "  {'package': 'rqt-shell',\n",
       "   'distro': 'noetic',\n",
       "   'name': 'ros-noetic-rqt-shell',\n",
       "   'count': 35368,\n",
       "   'date': '2024'},\n",
       "  {'package': 'rqt-action',\n",
       "   'distro': 'noetic',\n",
       "   'name': 'ros-noetic-rqt-action',\n",
       "   'count': 35364,\n",
       "   'date': '2024'},\n",
       "  {'package': 'rqt-common-plugins',\n",
       "   'distro': 'noetic',\n",
       "   'name': 'ros-noetic-rqt-common-plugins',\n",
       "   'count': 35340,\n",
       "   'date': '2024'},\n",
       "  {'package': 'rqt-topic',\n",
       "   'distro': 'noetic',\n",
       "   'name': 'ros-noetic-rqt-topic',\n",
       "   'count': 35290,\n",
       "   'date': '2024'},\n",
       "  {'package': 'rqt-py-console',\n",
       "   'distro': 'noetic',\n",
       "   'name': 'ros-noetic-rqt-py-console',\n",
       "   'count': 35281,\n",
       "   'date': '2024'},\n",
       "  {'package': 'rqt-srv',\n",
       "   'distro': 'noetic',\n",
       "   'name': 'ros-noetic-rqt-srv',\n",
       "   'count': 35277,\n",
       "   'date': '2024'},\n",
       "  {'package': 'rqt-msg',\n",
       "   'distro': 'noetic',\n",
       "   'name': 'ros-noetic-rqt-msg',\n",
       "   'count': 35277,\n",
       "   'date': '2024'},\n",
       "  {'package': 'rosconsole',\n",
       "   'distro': 'noetic',\n",
       "   'name': 'ros-noetic-rosconsole',\n",
       "   'count': 35277,\n",
       "   'date': '2024'},\n",
       "  {'package': 'rqt-top',\n",
       "   'distro': 'noetic',\n",
       "   'name': 'ros-noetic-rqt-top',\n",
       "   'count': 35271,\n",
       "   'date': '2024'},\n",
       "  {'package': 'rqt-web',\n",
       "   'distro': 'noetic',\n",
       "   'name': 'ros-noetic-rqt-web',\n",
       "   'count': 35240,\n",
       "   'date': '2024'},\n",
       "  {'package': 'rqt-publisher',\n",
       "   'distro': 'noetic',\n",
       "   'name': 'ros-noetic-rqt-publisher',\n",
       "   'count': 35232,\n",
       "   'date': '2024'},\n",
       "  {'package': 'compressed-image-transport',\n",
       "   'distro': 'noetic',\n",
       "   'name': 'ros-noetic-compressed-image-transport',\n",
       "   'count': 35229,\n",
       "   'date': '2024'},\n",
       "  {'package': 'rqt-bag-plugins',\n",
       "   'distro': 'noetic',\n",
       "   'name': 'ros-noetic-rqt-bag-plugins',\n",
       "   'count': 35226,\n",
       "   'date': '2024'},\n",
       "  {'package': 'rqt-dep',\n",
       "   'distro': 'noetic',\n",
       "   'name': 'ros-noetic-rqt-dep',\n",
       "   'count': 35221,\n",
       "   'date': '2024'},\n",
       "  {'package': 'position-controllers',\n",
       "   'distro': 'noetic',\n",
       "   'name': 'ros-noetic-position-controllers',\n",
       "   'count': 35182,\n",
       "   'date': '2024'},\n",
       "  {'package': 'rosgraph-msgs',\n",
       "   'distro': 'noetic',\n",
       "   'name': 'ros-noetic-rosgraph-msgs',\n",
       "   'count': 35174,\n",
       "   'date': '2024'},\n",
       "  {'package': 'rqt-tf-tree',\n",
       "   'distro': 'noetic',\n",
       "   'name': 'ros-noetic-rqt-tf-tree',\n",
       "   'count': 34877,\n",
       "   'date': '2024'},\n",
       "  {'package': 'message-runtime',\n",
       "   'distro': 'noetic',\n",
       "   'name': 'ros-noetic-message-runtime',\n",
       "   'count': 34856,\n",
       "   'date': '2024'},\n",
       "  {'package': 'geometry',\n",
       "   'distro': 'noetic',\n",
       "   'name': 'ros-noetic-geometry',\n",
       "   'count': 34784,\n",
       "   'date': '2024'},\n",
       "  {'package': 'media-export',\n",
       "   'distro': 'noetic',\n",
       "   'name': 'ros-noetic-media-export',\n",
       "   'count': 34768,\n",
       "   'date': '2024'},\n",
       "  {'package': 'rqt-robot-monitor',\n",
       "   'distro': 'noetic',\n",
       "   'name': 'ros-noetic-rqt-robot-monitor',\n",
       "   'count': 34759,\n",
       "   'date': '2024'},\n",
       "  {'package': 'executive-smach',\n",
       "   'distro': 'noetic',\n",
       "   'name': 'ros-noetic-executive-smach',\n",
       "   'count': 34697,\n",
       "   'date': '2024'},\n",
       "  {'package': 'robot',\n",
       "   'distro': 'noetic',\n",
       "   'name': 'ros-noetic-robot',\n",
       "   'count': 34673,\n",
       "   'date': '2024'},\n",
       "  {'package': 'image-proc',\n",
       "   'distro': 'noetic',\n",
       "   'name': 'ros-noetic-image-proc',\n",
       "   'count': 34642,\n",
       "   'date': '2024'},\n",
       "  {'package': 'tf2-eigen',\n",
       "   'distro': 'noetic',\n",
       "   'name': 'ros-noetic-tf2-eigen',\n",
       "   'count': 34612,\n",
       "   'date': '2024'},\n",
       "  {'package': 'rqt-rviz',\n",
       "   'distro': 'noetic',\n",
       "   'name': 'ros-noetic-rqt-rviz',\n",
       "   'count': 34595,\n",
       "   'date': '2024'},\n",
       "  {'package': 'rqt-robot-plugins',\n",
       "   'distro': 'noetic',\n",
       "   'name': 'ros-noetic-rqt-robot-plugins',\n",
       "   'count': 34592,\n",
       "   'date': '2024'},\n",
       "  {'package': 'eigen-conversions',\n",
       "   'distro': 'noetic',\n",
       "   'name': 'ros-noetic-eigen-conversions',\n",
       "   'count': 34568,\n",
       "   'date': '2024'},\n",
       "  {'package': 'angles',\n",
       "   'distro': 'noetic',\n",
       "   'name': 'ros-noetic-angles',\n",
       "   'count': 34557,\n",
       "   'date': '2024'},\n",
       "  {'package': 'image-view',\n",
       "   'distro': 'noetic',\n",
       "   'name': 'ros-noetic-image-view',\n",
       "   'count': 34518,\n",
       "   'date': '2024'},\n",
       "  {'package': 'rqt-robot-dashboard',\n",
       "   'distro': 'noetic',\n",
       "   'name': 'ros-noetic-rqt-robot-dashboard',\n",
       "   'count': 34509,\n",
       "   'date': '2024'},\n",
       "  {'package': 'compressed-depth-image-transport',\n",
       "   'distro': 'noetic',\n",
       "   'name': 'ros-noetic-compressed-depth-image-transport',\n",
       "   'count': 34502,\n",
       "   'date': '2024'},\n",
       "  {'package': 'turtlesim',\n",
       "   'distro': 'noetic',\n",
       "   'name': 'ros-noetic-turtlesim',\n",
       "   'count': 34499,\n",
       "   'date': '2024'},\n",
       "  {'package': 'rqt-robot-steering',\n",
       "   'distro': 'noetic',\n",
       "   'name': 'ros-noetic-rqt-robot-steering',\n",
       "   'count': 34491,\n",
       "   'date': '2024'},\n",
       "  {'package': 'rqt-nav-view',\n",
       "   'distro': 'noetic',\n",
       "   'name': 'ros-noetic-rqt-nav-view',\n",
       "   'count': 34482,\n",
       "   'date': '2024'},\n",
       "  {'package': 'rosbuild',\n",
       "   'distro': 'noetic',\n",
       "   'name': 'ros-noetic-rosbuild',\n",
       "   'count': 34404,\n",
       "   'date': '2024'},\n",
       "  {'package': 'rqt-runtime-monitor',\n",
       "   'distro': 'noetic',\n",
       "   'name': 'ros-noetic-rqt-runtime-monitor',\n",
       "   'count': 34361,\n",
       "   'date': '2024'},\n",
       "  {'package': 'rqt-pose-view',\n",
       "   'distro': 'noetic',\n",
       "   'name': 'ros-noetic-rqt-pose-view',\n",
       "   'count': 34281,\n",
       "   'date': '2024'},\n",
       "  {'package': 'theora-image-transport',\n",
       "   'distro': 'noetic',\n",
       "   'name': 'ros-noetic-theora-image-transport',\n",
       "   'count': 34272,\n",
       "   'date': '2024'},\n",
       "  {'package': 'rqt-moveit',\n",
       "   'distro': 'noetic',\n",
       "   'name': 'ros-noetic-rqt-moveit',\n",
       "   'count': 34271,\n",
       "   'date': '2024'},\n",
       "  {'package': 'roscpp-serialization',\n",
       "   'distro': 'noetic',\n",
       "   'name': 'ros-noetic-roscpp-serialization',\n",
       "   'count': 34243,\n",
       "   'date': '2024'},\n",
       "  {'package': 'rostime',\n",
       "   'distro': 'noetic',\n",
       "   'name': 'ros-noetic-rostime',\n",
       "   'count': 34241,\n",
       "   'date': '2024'},\n",
       "  {'package': 'roscpp-traits',\n",
       "   'distro': 'noetic',\n",
       "   'name': 'ros-noetic-roscpp-traits',\n",
       "   'count': 34230,\n",
       "   'date': '2024'},\n",
       "  {'package': 'cpp-common',\n",
       "   'distro': 'noetic',\n",
       "   'name': 'ros-noetic-cpp-common',\n",
       "   'count': 34212,\n",
       "   'date': '2024'},\n",
       "  {'package': 'rviz-plugin-tutorials',\n",
       "   'distro': 'noetic',\n",
       "   'name': 'ros-noetic-rviz-plugin-tutorials',\n",
       "   'count': 34026,\n",
       "   'date': '2024'},\n",
       "  {'package': 'visualization-tutorials',\n",
       "   'distro': 'noetic',\n",
       "   'name': 'ros-noetic-visualization-tutorials',\n",
       "   'count': 33951,\n",
       "   'date': '2024'},\n",
       "  {'package': 'rviz-python-tutorial',\n",
       "   'distro': 'noetic',\n",
       "   'name': 'ros-noetic-rviz-python-tutorial',\n",
       "   'count': 33950,\n",
       "   'date': '2024'},\n",
       "  {'package': 'librviz-tutorial',\n",
       "   'distro': 'noetic',\n",
       "   'name': 'ros-noetic-librviz-tutorial',\n",
       "   'count': 33917,\n",
       "   'date': '2024'},\n",
       "  {'package': 'actionlib-tutorials',\n",
       "   'distro': 'noetic',\n",
       "   'name': 'ros-noetic-actionlib-tutorials',\n",
       "   'count': 33894,\n",
       "   'date': '2024'},\n",
       "  {'package': 'roscpp-tutorials',\n",
       "   'distro': 'noetic',\n",
       "   'name': 'ros-noetic-roscpp-tutorials',\n",
       "   'count': 33889,\n",
       "   'date': '2024'},\n",
       "  {'package': 'urdf-tutorial',\n",
       "   'distro': 'noetic',\n",
       "   'name': 'ros-noetic-urdf-tutorial',\n",
       "   'count': 33792,\n",
       "   'date': '2024'},\n",
       "  {'package': 'gazebo-ros-pkgs',\n",
       "   'distro': 'noetic',\n",
       "   'name': 'ros-noetic-gazebo-ros-pkgs',\n",
       "   'count': 33774,\n",
       "   'date': '2024'},\n",
       "  {'package': 'image-transport-plugins',\n",
       "   'distro': 'noetic',\n",
       "   'name': 'ros-noetic-image-transport-plugins',\n",
       "   'count': 33773,\n",
       "   'date': '2024'},\n",
       "  {'package': 'ros-tutorials',\n",
       "   'distro': 'noetic',\n",
       "   'name': 'ros-noetic-ros-tutorials',\n",
       "   'count': 33769,\n",
       "   'date': '2024'},\n",
       "  {'package': 'common-tutorials',\n",
       "   'distro': 'noetic',\n",
       "   'name': 'ros-noetic-common-tutorials',\n",
       "   'count': 33705,\n",
       "   'date': '2024'},\n",
       "  {'package': 'nodelet-tutorial-math',\n",
       "   'distro': 'noetic',\n",
       "   'name': 'ros-noetic-nodelet-tutorial-math',\n",
       "   'count': 33679,\n",
       "   'date': '2024'},\n",
       "  {'package': 'interactive-marker-tutorials',\n",
       "   'distro': 'noetic',\n",
       "   'name': 'ros-noetic-interactive-marker-tutorials',\n",
       "   'count': 33630,\n",
       "   'date': '2024'},\n",
       "  {'package': 'viz',\n",
       "   'distro': 'noetic',\n",
       "   'name': 'ros-noetic-viz',\n",
       "   'count': 33597,\n",
       "   'date': '2024'},\n",
       "  {'package': 'turtle-actionlib',\n",
       "   'distro': 'noetic',\n",
       "   'name': 'ros-noetic-turtle-actionlib',\n",
       "   'count': 33579,\n",
       "   'date': '2024'},\n",
       "  {'package': 'pluginlib-tutorials',\n",
       "   'distro': 'noetic',\n",
       "   'name': 'ros-noetic-pluginlib-tutorials',\n",
       "   'count': 33576,\n",
       "   'date': '2024'},\n",
       "  {'package': 'visualization-marker-tutorials',\n",
       "   'distro': 'noetic',\n",
       "   'name': 'ros-noetic-visualization-marker-tutorials',\n",
       "   'count': 33573,\n",
       "   'date': '2024'},\n",
       "  {'package': 'pluginlib',\n",
       "   'distro': 'noetic',\n",
       "   'name': 'ros-noetic-pluginlib',\n",
       "   'count': 33566,\n",
       "   'date': '2024'},\n",
       "  {'package': 'turtle-tf2',\n",
       "   'distro': 'noetic',\n",
       "   'name': 'ros-noetic-turtle-tf2',\n",
       "   'count': 33529,\n",
       "   'date': '2024'},\n",
       "  {'package': 'image-publisher',\n",
       "   'distro': 'noetic',\n",
       "   'name': 'ros-noetic-image-publisher',\n",
       "   'count': 33529,\n",
       "   'date': '2024'},\n",
       "  {'package': 'turtle-tf',\n",
       "   'distro': 'noetic',\n",
       "   'name': 'ros-noetic-turtle-tf',\n",
       "   'count': 33519,\n",
       "   'date': '2024'},\n",
       "  {'package': 'desktop',\n",
       "   'distro': 'noetic',\n",
       "   'name': 'ros-noetic-desktop',\n",
       "   'count': 33509,\n",
       "   'date': '2024'},\n",
       "  {'package': 'geometry-tutorials',\n",
       "   'distro': 'noetic',\n",
       "   'name': 'ros-noetic-geometry-tutorials',\n",
       "   'count': 33493,\n",
       "   'date': '2024'},\n",
       "  {'package': 'depth-image-proc',\n",
       "   'distro': 'noetic',\n",
       "   'name': 'ros-noetic-depth-image-proc',\n",
       "   'count': 33412,\n",
       "   'date': '2024'},\n",
       "  {'package': 'geometry-msgs',\n",
       "   'distro': 'noetic',\n",
       "   'name': 'ros-noetic-geometry-msgs',\n",
       "   'count': 33264,\n",
       "   'date': '2024'},\n",
       "  {'package': 'message-generation',\n",
       "   'distro': 'noetic',\n",
       "   'name': 'ros-noetic-message-generation',\n",
       "   'count': 33079,\n",
       "   'date': '2024'},\n",
       "  {'package': 'diff-drive-controller',\n",
       "   'distro': 'noetic',\n",
       "   'name': 'ros-noetic-diff-drive-controller',\n",
       "   'count': 33019,\n",
       "   'date': '2024'},\n",
       "  {'package': 'std-srvs',\n",
       "   'distro': 'noetic',\n",
       "   'name': 'ros-noetic-std-srvs',\n",
       "   'count': 32893,\n",
       "   'date': '2024'},\n",
       "  {'package': 'genmsg',\n",
       "   'distro': 'noetic',\n",
       "   'name': 'ros-noetic-genmsg',\n",
       "   'count': 32858,\n",
       "   'date': '2024'},\n",
       "  {'package': 'genpy',\n",
       "   'distro': 'noetic',\n",
       "   'name': 'ros-noetic-genpy',\n",
       "   'count': 32785,\n",
       "   'date': '2024'},\n",
       "  {'package': 'gencpp',\n",
       "   'distro': 'noetic',\n",
       "   'name': 'ros-noetic-gencpp',\n",
       "   'count': 32764,\n",
       "   'date': '2024'},\n",
       "  {'package': 'actionlib-msgs',\n",
       "   'distro': 'noetic',\n",
       "   'name': 'ros-noetic-actionlib-msgs',\n",
       "   'count': 32739,\n",
       "   'date': '2024'},\n",
       "  {'package': 'geneus',\n",
       "   'distro': 'noetic',\n",
       "   'name': 'ros-noetic-geneus',\n",
       "   'count': 32719,\n",
       "   'date': '2024'},\n",
       "  {'package': 'genlisp',\n",
       "   'distro': 'noetic',\n",
       "   'name': 'ros-noetic-genlisp',\n",
       "   'count': 32716,\n",
       "   'date': '2024'},\n",
       "  {'package': 'gennodejs',\n",
       "   'distro': 'noetic',\n",
       "   'name': 'ros-noetic-gennodejs',\n",
       "   'count': 32707,\n",
       "   'date': '2024'},\n",
       "  {'package': 'laser-filters',\n",
       "   'distro': 'noetic',\n",
       "   'name': 'ros-noetic-laser-filters',\n",
       "   'count': 32418,\n",
       "   'date': '2024'},\n",
       "  {'package': 'ros-environment',\n",
       "   'distro': 'noetic',\n",
       "   'name': 'ros-noetic-ros-environment',\n",
       "   'count': 32120,\n",
       "   'date': '2024'},\n",
       "  {'package': 'vision-opencv',\n",
       "   'distro': 'noetic',\n",
       "   'name': 'ros-noetic-vision-opencv',\n",
       "   'count': 31930,\n",
       "   'date': '2024'},\n",
       "  {'package': 'roslib',\n",
       "   'distro': 'noetic',\n",
       "   'name': 'ros-noetic-roslib',\n",
       "   'count': 31810,\n",
       "   'date': '2024'},\n",
       "  {'package': 'rospack',\n",
       "   'distro': 'noetic',\n",
       "   'name': 'ros-noetic-rospack',\n",
       "   'count': 31697,\n",
       "   'date': '2024'},\n",
       "  {'package': 'camera-calibration',\n",
       "   'distro': 'noetic',\n",
       "   'name': 'ros-noetic-camera-calibration',\n",
       "   'count': 31507,\n",
       "   'date': '2024'},\n",
       "  {'package': 'stereo-image-proc',\n",
       "   'distro': 'noetic',\n",
       "   'name': 'ros-noetic-stereo-image-proc',\n",
       "   'count': 31269,\n",
       "   'date': '2024'},\n",
       "  {'package': 'image-rotate',\n",
       "   'distro': 'noetic',\n",
       "   'name': 'ros-noetic-image-rotate',\n",
       "   'count': 31176,\n",
       "   'date': '2024'},\n",
       "  {'package': 'nav-msgs',\n",
       "   'distro': 'noetic',\n",
       "   'name': 'ros-noetic-nav-msgs',\n",
       "   'count': 31172,\n",
       "   'date': '2024'},\n",
       "  {'package': 'visualization-msgs',\n",
       "   'distro': 'noetic',\n",
       "   'name': 'ros-noetic-visualization-msgs',\n",
       "   'count': 30920,\n",
       "   'date': '2024'},\n",
       "  {'package': 'laser-pipeline',\n",
       "   'distro': 'noetic',\n",
       "   'name': 'ros-noetic-laser-pipeline',\n",
       "   'count': 30726,\n",
       "   'date': '2024'},\n",
       "  {'package': 'image-pipeline',\n",
       "   'distro': 'noetic',\n",
       "   'name': 'ros-noetic-image-pipeline',\n",
       "   'count': 30698,\n",
       "   'date': '2024'},\n",
       "  {'package': 'laser-assembler',\n",
       "   'distro': 'noetic',\n",
       "   'name': 'ros-noetic-laser-assembler',\n",
       "   'count': 30538,\n",
       "   'date': '2024'},\n",
       "  {'package': 'perception',\n",
       "   'distro': 'noetic',\n",
       "   'name': 'ros-noetic-perception',\n",
       "   'count': 30478,\n",
       "   'date': '2024'},\n",
       "  {'package': 'image-common',\n",
       "   'distro': 'noetic',\n",
       "   'name': 'ros-noetic-image-common',\n",
       "   'count': 30467,\n",
       "   'date': '2024'},\n",
       "  {'package': 'rosunit',\n",
       "   'distro': 'noetic',\n",
       "   'name': 'ros-noetic-rosunit',\n",
       "   'count': 30467,\n",
       "   'date': '2024'},\n",
       "  {'package': 'perception-pcl',\n",
       "   'distro': 'noetic',\n",
       "   'name': 'ros-noetic-perception-pcl',\n",
       "   'count': 30460,\n",
       "   'date': '2024'},\n",
       "  {'package': 'desktop-full',\n",
       "   'distro': 'noetic',\n",
       "   'name': 'ros-noetic-desktop-full',\n",
       "   'count': 30387,\n",
       "   'date': '2024'},\n",
       "  {'package': 'bond',\n",
       "   'distro': 'noetic',\n",
       "   'name': 'ros-noetic-bond',\n",
       "   'count': 30017,\n",
       "   'date': '2024'},\n",
       "  {'package': 'class-loader',\n",
       "   'distro': 'noetic',\n",
       "   'name': 'ros-noetic-class-loader',\n",
       "   'count': 29938,\n",
       "   'date': '2024'},\n",
       "  {'package': 'tl-expected',\n",
       "   'distro': 'humble',\n",
       "   'name': 'ros-humble-tl-expected',\n",
       "   'count': 29918,\n",
       "   'date': '2024'},\n",
       "  {'package': 'rosconsole-bridge',\n",
       "   'distro': 'noetic',\n",
       "   'name': 'ros-noetic-rosconsole-bridge',\n",
       "   'count': 29864,\n",
       "   'date': '2024'},\n",
       "  {'package': 'stage-ros',\n",
       "   'distro': 'noetic',\n",
       "   'name': 'ros-noetic-stage-ros',\n",
       "   'count': 29858,\n",
       "   'date': '2024'},\n",
       "  {'package': 'generate-parameter-library',\n",
       "   'distro': 'humble',\n",
       "   'name': 'ros-humble-generate-parameter-library',\n",
       "   'count': 29848,\n",
       "   'date': '2024'},\n",
       "  {'package': 'generate-parameter-library-py',\n",
       "   'distro': 'humble',\n",
       "   'name': 'ros-humble-generate-parameter-library-py',\n",
       "   'count': 29844,\n",
       "   'date': '2024'},\n",
       "  {'package': 'parameter-traits',\n",
       "   'distro': 'humble',\n",
       "   'name': 'ros-humble-parameter-traits',\n",
       "   'count': 29811,\n",
       "   'date': '2024'},\n",
       "  {'package': 'rsl',\n",
       "   'distro': 'humble',\n",
       "   'name': 'ros-humble-rsl',\n",
       "   'count': 29806,\n",
       "   'date': '2024'},\n",
       "  {'package': 'tcb-span',\n",
       "   'distro': 'humble',\n",
       "   'name': 'ros-humble-tcb-span',\n",
       "   'count': 29776,\n",
       "   'date': '2024'},\n",
       "  {'package': 'control-msgs',\n",
       "   'distro': 'noetic',\n",
       "   'name': 'ros-noetic-control-msgs',\n",
       "   'count': 29646,\n",
       "   'date': '2024'},\n",
       "  {'package': 'simulators',\n",
       "   'distro': 'noetic',\n",
       "   'name': 'ros-noetic-simulators',\n",
       "   'count': 29621,\n",
       "   'date': '2024'},\n",
       "  {'package': 'rosclean',\n",
       "   'distro': 'noetic',\n",
       "   'name': 'ros-noetic-rosclean',\n",
       "   'count': 29617,\n",
       "   'date': '2024'},\n",
       "  {'package': 'urdf-sim-tutorial',\n",
       "   'distro': 'noetic',\n",
       "   'name': 'ros-noetic-urdf-sim-tutorial',\n",
       "   'count': 29609,\n",
       "   'date': '2024'},\n",
       "  {'package': 'hardware-interface',\n",
       "   'distro': 'humble',\n",
       "   'name': 'ros-humble-hardware-interface',\n",
       "   'count': 29459,\n",
       "   'date': '2024'},\n",
       "  {'package': 'trajectory-msgs',\n",
       "   'distro': 'noetic',\n",
       "   'name': 'ros-noetic-trajectory-msgs',\n",
       "   'count': 29335,\n",
       "   'date': '2024'},\n",
       "  {'package': 'control-msgs',\n",
       "   'distro': 'humble',\n",
       "   'name': 'ros-humble-control-msgs',\n",
       "   'count': 29180,\n",
       "   'date': '2024'},\n",
       "  {'package': 'backward-ros',\n",
       "   'distro': 'humble',\n",
       "   'name': 'ros-humble-backward-ros',\n",
       "   'count': 28854,\n",
       "   'date': '2024'},\n",
       "  {'package': 'controller-interface',\n",
       "   'distro': 'humble',\n",
       "   'name': 'ros-humble-controller-interface',\n",
       "   'count': 28797,\n",
       "   'date': '2024'},\n",
       "  {'package': 'diagnostic-msgs',\n",
       "   'distro': 'noetic',\n",
       "   'name': 'ros-noetic-diagnostic-msgs',\n",
       "   'count': 28490,\n",
       "   'date': '2024'},\n",
       "  {'package': 'filters',\n",
       "   'distro': 'humble',\n",
       "   'name': 'ros-humble-filters',\n",
       "   'count': 28478,\n",
       "   'date': '2024'},\n",
       "  {'package': 'controller-manager-msgs',\n",
       "   'distro': 'humble',\n",
       "   'name': 'ros-humble-controller-manager-msgs',\n",
       "   'count': 28212,\n",
       "   'date': '2024'},\n",
       "  {'package': 'controller-manager',\n",
       "   'distro': 'humble',\n",
       "   'name': 'ros-humble-controller-manager',\n",
       "   'count': 28069,\n",
       "   'date': '2024'},\n",
       "  {'package': 'ros2-control-test-assets',\n",
       "   'distro': 'humble',\n",
       "   'name': 'ros-humble-ros2-control-test-assets',\n",
       "   'count': 27877,\n",
       "   'date': '2024'},\n",
       "  {'package': 'shape-msgs',\n",
       "   'distro': 'noetic',\n",
       "   'name': 'ros-noetic-shape-msgs',\n",
       "   'count': 27727,\n",
       "   'date': '2024'},\n",
       "  {'package': 'realtime-tools',\n",
       "   'distro': 'humble',\n",
       "   'name': 'ros-humble-realtime-tools',\n",
       "   'count': 27632,\n",
       "   'date': '2024'},\n",
       "  {'package': 'nav2-msgs',\n",
       "   'distro': 'humble',\n",
       "   'name': 'ros-humble-nav2-msgs',\n",
       "   'count': 27469,\n",
       "   'date': '2024'},\n",
       "  {'package': 'smclib',\n",
       "   'distro': 'noetic',\n",
       "   'name': 'ros-noetic-smclib',\n",
       "   'count': 27435,\n",
       "   'date': '2024'},\n",
       "  {'package': 'camera-calibration-parsers',\n",
       "   'distro': 'humble',\n",
       "   'name': 'ros-humble-camera-calibration-parsers',\n",
       "   'count': 27328,\n",
       "   'date': '2024'},\n",
       "  {'package': 'joint-state-publisher',\n",
       "   'distro': 'humble',\n",
       "   'name': 'ros-humble-joint-state-publisher',\n",
       "   'count': 27322,\n",
       "   'date': '2024'},\n",
       "  {'package': 'qt-gui',\n",
       "   'distro': 'noetic',\n",
       "   'name': 'ros-noetic-qt-gui',\n",
       "   'count': 27146,\n",
       "   'date': '2024'},\n",
       "  {'package': 'camera-info-manager',\n",
       "   'distro': 'humble',\n",
       "   'name': 'ros-humble-camera-info-manager',\n",
       "   'count': 26849,\n",
       "   'date': '2024'},\n",
       "  {'package': 'rosbag-migration-rule',\n",
       "   'distro': 'noetic',\n",
       "   'name': 'ros-noetic-rosbag-migration-rule',\n",
       "   'count': 26717,\n",
       "   'date': '2024'},\n",
       "  {'package': 'lcov-result',\n",
       "   'distro': 'colcon',\n",
       "   'name': 'python3-colcon-lcov-result',\n",
       "   'count': 26477,\n",
       "   'date': '2024'},\n",
       "  {'package': 'rmw-cyclonedds-cpp',\n",
       "   'distro': 'humble',\n",
       "   'name': 'ros-humble-rmw-cyclonedds-cpp',\n",
       "   'count': 26099,\n",
       "   'date': '2024'},\n",
       "  {'package': 'mk',\n",
       "   'distro': 'noetic',\n",
       "   'name': 'ros-noetic-mk',\n",
       "   'count': 26083,\n",
       "   'date': '2024'},\n",
       "  {'package': 'ompl',\n",
       "   'distro': 'humble',\n",
       "   'name': 'ros-humble-ompl',\n",
       "   'count': 26004,\n",
       "   'date': '2024'},\n",
       "  {'package': 'nav2-util',\n",
       "   'distro': 'humble',\n",
       "   'name': 'ros-humble-nav2-util',\n",
       "   'count': 25972,\n",
       "   'date': '2024'},\n",
       "  {'package': 'ros',\n",
       "   'distro': 'noetic',\n",
       "   'name': 'ros-noetic-ros',\n",
       "   'count': 25951,\n",
       "   'date': '2024'},\n",
       "  {'package': 'roslisp',\n",
       "   'distro': 'noetic',\n",
       "   'name': 'ros-noetic-roslisp',\n",
       "   'count': 25904,\n",
       "   'date': '2024'},\n",
       "  {'package': 'iceoryx-hoofs',\n",
       "   'distro': 'humble',\n",
       "   'name': 'ros-humble-iceoryx-hoofs',\n",
       "   'count': 25805,\n",
       "   'date': '2024'},\n",
       "  {'package': 'iceoryx-binding-c',\n",
       "   'distro': 'humble',\n",
       "   'name': 'ros-humble-iceoryx-binding-c',\n",
       "   'count': 25802,\n",
       "   'date': '2024'},\n",
       "  {'package': 'iceoryx-posh',\n",
       "   'distro': 'humble',\n",
       "   'name': 'ros-humble-iceoryx-posh',\n",
       "   'count': 25790,\n",
       "   'date': '2024'},\n",
       "  {'package': 'cyclonedds',\n",
       "   'distro': 'humble',\n",
       "   'name': 'ros-humble-cyclonedds',\n",
       "   'count': 25782,\n",
       "   'date': '2024'},\n",
       "  {'package': 'roslint',\n",
       "   'distro': 'noetic',\n",
       "   'name': 'ros-noetic-roslint',\n",
       "   'count': 25490,\n",
       "   'date': '2024'},\n",
       "  {'package': 'roscpp-core',\n",
       "   'distro': 'noetic',\n",
       "   'name': 'ros-noetic-roscpp-core',\n",
       "   'count': 25359,\n",
       "   'date': '2024'},\n",
       "  {'package': 'cmake-modules',\n",
       "   'distro': 'noetic',\n",
       "   'name': 'ros-noetic-cmake-modules',\n",
       "   'count': 25115,\n",
       "   'date': '2024'},\n",
       "  {'package': 'qt-gui-cpp',\n",
       "   'distro': 'noetic',\n",
       "   'name': 'ros-noetic-qt-gui-cpp',\n",
       "   'count': 25071,\n",
       "   'date': '2024'},\n",
       "  {'package': 'gazebo-dev',\n",
       "   'distro': 'noetic',\n",
       "   'name': 'ros-noetic-gazebo-dev',\n",
       "   'count': 25051,\n",
       "   'date': '2024'},\n",
       "  {'package': 'nav2-common',\n",
       "   'distro': 'humble',\n",
       "   'name': 'ros-humble-nav2-common',\n",
       "   'count': 24898,\n",
       "   'date': '2024'},\n",
       "  {'package': 'compressed-image-transport',\n",
       "   'distro': 'humble',\n",
       "   'name': 'ros-humble-compressed-image-transport',\n",
       "   'count': 24812,\n",
       "   'date': '2024'},\n",
       "  {'package': 'rosbash',\n",
       "   'distro': 'noetic',\n",
       "   'name': 'ros-noetic-rosbash',\n",
       "   'count': 24771,\n",
       "   'date': '2024'},\n",
       "  {'package': 'bond',\n",
       "   'distro': 'humble',\n",
       "   'name': 'ros-humble-bond',\n",
       "   'count': 24552,\n",
       "   'date': '2024'},\n",
       "  {'package': 'bondcpp',\n",
       "   'distro': 'humble',\n",
       "   'name': 'ros-humble-bondcpp',\n",
       "   'count': 24131,\n",
       "   'date': '2024'},\n",
       "  {'package': 'smclib',\n",
       "   'distro': 'humble',\n",
       "   'name': 'ros-humble-smclib',\n",
       "   'count': 24091,\n",
       "   'date': '2024'},\n",
       "  {'package': 'roslang',\n",
       "   'distro': 'noetic',\n",
       "   'name': 'ros-noetic-roslang',\n",
       "   'count': 24045,\n",
       "   'date': '2024'},\n",
       "  {'package': 'compressed-depth-image-transport',\n",
       "   'distro': 'humble',\n",
       "   'name': 'ros-humble-compressed-depth-image-transport',\n",
       "   'count': 23935,\n",
       "   'date': '2024'},\n",
       "  {'package': 'coveragepy-result',\n",
       "   'distro': 'colcon',\n",
       "   'name': 'python3-colcon-coveragepy-result',\n",
       "   'count': 23916,\n",
       "   'date': '2024'},\n",
       "  {'package': 'theora-image-transport',\n",
       "   'distro': 'humble',\n",
       "   'name': 'ros-humble-theora-image-transport',\n",
       "   'count': 23812,\n",
       "   'date': '2024'},\n",
       "  {'package': 'image-transport-plugins',\n",
       "   'distro': 'humble',\n",
       "   'name': 'ros-humble-image-transport-plugins',\n",
       "   'count': 23790,\n",
       "   'date': '2024'},\n",
       "  {'package': 'roscreate',\n",
       "   'distro': 'noetic',\n",
       "   'name': 'ros-noetic-roscreate',\n",
       "   'count': 23690,\n",
       "   'date': '2024'},\n",
       "  {'package': 'nav2-costmap-2d',\n",
       "   'distro': 'humble',\n",
       "   'name': 'ros-humble-nav2-costmap-2d',\n",
       "   'count': 23377,\n",
       "   'date': '2024'},\n",
       "  {'package': 'rosmake',\n",
       "   'distro': 'noetic',\n",
       "   'name': 'ros-noetic-rosmake',\n",
       "   'count': 23330,\n",
       "   'date': '2024'},\n",
       "  {'package': 'rosboost-cfg',\n",
       "   'distro': 'noetic',\n",
       "   'name': 'ros-noetic-rosboost-cfg',\n",
       "   'count': 23118,\n",
       "   'date': '2024'},\n",
       "  {'package': 'joint-state-broadcaster',\n",
       "   'distro': 'humble',\n",
       "   'name': 'ros-humble-joint-state-broadcaster',\n",
       "   'count': 22662,\n",
       "   'date': '2024'},\n",
       "  {'package': 'behaviortree-cpp-v3',\n",
       "   'distro': 'humble',\n",
       "   'name': 'ros-humble-behaviortree-cpp-v3',\n",
       "   'count': 22466,\n",
       "   'date': '2024'},\n",
       "  {'package': 'joy',\n",
       "   'distro': 'noetic',\n",
       "   'name': 'ros-noetic-joy',\n",
       "   'count': 22324,\n",
       "   'date': '2024'},\n",
       "  {'package': 'qt-gui-py-common',\n",
       "   'distro': 'noetic',\n",
       "   'name': 'ros-noetic-qt-gui-py-common',\n",
       "   'count': 22224,\n",
       "   'date': '2024'},\n",
       "  {'package': 'joint-state-publisher-gui',\n",
       "   'distro': 'humble',\n",
       "   'name': 'ros-humble-joint-state-publisher-gui',\n",
       "   'count': 22147,\n",
       "   'date': '2024'},\n",
       "  {'package': 'control-toolbox',\n",
       "   'distro': 'humble',\n",
       "   'name': 'ros-humble-control-toolbox',\n",
       "   'count': 21727,\n",
       "   'date': '2024'},\n",
       "  {'package': 'pcl-ros',\n",
       "   'distro': 'humble',\n",
       "   'name': 'ros-humble-pcl-ros',\n",
       "   'count': 21563,\n",
       "   'date': '2024'},\n",
       "  {'package': 'qt-dotgraph',\n",
       "   'distro': 'noetic',\n",
       "   'name': 'ros-noetic-qt-dotgraph',\n",
       "   'count': 21550,\n",
       "   'date': '2024'},\n",
       "  {'package': 'geographic-msgs',\n",
       "   'distro': 'humble',\n",
       "   'name': 'ros-humble-geographic-msgs',\n",
       "   'count': 21529,\n",
       "   'date': '2024'},\n",
       "  {'package': 'joint-trajectory-controller',\n",
       "   'distro': 'humble',\n",
       "   'name': 'ros-humble-joint-trajectory-controller',\n",
       "   'count': 21441,\n",
       "   'date': '2024'},\n",
       "  {'package': 'nav2-voxel-grid',\n",
       "   'distro': 'humble',\n",
       "   'name': 'ros-humble-nav2-voxel-grid',\n",
       "   'count': 21403,\n",
       "   'date': '2024'},\n",
       "  {'package': 'smach',\n",
       "   'distro': 'noetic',\n",
       "   'name': 'ros-noetic-smach',\n",
       "   'count': 21294,\n",
       "   'date': '2024'},\n",
       "  {'package': 'smach-msgs',\n",
       "   'distro': 'noetic',\n",
       "   'name': 'ros-noetic-smach-msgs',\n",
       "   'count': 21200,\n",
       "   'date': '2024'},\n",
       "  {'package': 'qwt-dependency',\n",
       "   'distro': 'noetic',\n",
       "   'name': 'ros-noetic-qwt-dependency',\n",
       "   'count': 20933,\n",
       "   'date': '2024'},\n",
       "  {'package': 'nav2-map-server',\n",
       "   'distro': 'humble',\n",
       "   'name': 'ros-humble-nav2-map-server',\n",
       "   'count': 19879,\n",
       "   'date': '2024'},\n",
       "  {'package': 'webkit-dependency',\n",
       "   'distro': 'noetic',\n",
       "   'name': 'ros-noetic-webkit-dependency',\n",
       "   'count': 19539,\n",
       "   'date': '2024'},\n",
       "  {'package': 'nav2-lifecycle-manager',\n",
       "   'distro': 'humble',\n",
       "   'name': 'ros-humble-nav2-lifecycle-manager',\n",
       "   'count': 19447,\n",
       "   'date': '2024'},\n",
       "  {'package': 'tf-transformations',\n",
       "   'distro': 'humble',\n",
       "   'name': 'ros-humble-tf-transformations',\n",
       "   'count': 19254,\n",
       "   'date': '2024'},\n",
       "  {'package': 'forward-command-controller',\n",
       "   'distro': 'humble',\n",
       "   'name': 'ros-humble-forward-command-controller',\n",
       "   'count': 18839,\n",
       "   'date': '2024'},\n",
       "  {'package': 'gl-dependency',\n",
       "   'distro': 'noetic',\n",
       "   'name': 'ros-noetic-gl-dependency',\n",
       "   'count': 18755,\n",
       "   'date': '2024'},\n",
       "  {'package': 'nav2-core',\n",
       "   'distro': 'humble',\n",
       "   'name': 'ros-humble-nav2-core',\n",
       "   'count': 18637,\n",
       "   'date': '2024'},\n",
       "  {'package': 'vision-msgs',\n",
       "   'distro': 'humble',\n",
       "   'name': 'ros-humble-vision-msgs',\n",
       "   'count': 18621,\n",
       "   'date': '2024'},\n",
       "  {'package': 'rosauth',\n",
       "   'distro': 'noetic',\n",
       "   'name': 'ros-noetic-rosauth',\n",
       "   'count': 18532,\n",
       "   'date': '2024'},\n",
       "  {'package': 'rosbridge-library',\n",
       "   'distro': 'noetic',\n",
       "   'name': 'ros-noetic-rosbridge-library',\n",
       "   'count': 18514,\n",
       "   'date': '2024'},\n",
       "  {'package': 'urdf-parser-plugin',\n",
       "   'distro': 'noetic',\n",
       "   'name': 'ros-noetic-urdf-parser-plugin',\n",
       "   'count': 18479,\n",
       "   'date': '2024'},\n",
       "  {'package': 'rosapi',\n",
       "   'distro': 'noetic',\n",
       "   'name': 'ros-noetic-rosapi',\n",
       "   'count': 18382,\n",
       "   'date': '2024'},\n",
       "  {'package': 'nav-2d-utils',\n",
       "   'distro': 'humble',\n",
       "   'name': 'ros-humble-nav-2d-utils',\n",
       "   'count': 18369,\n",
       "   'date': '2024'},\n",
       "  {'package': 'nav2-behavior-tree',\n",
       "   'distro': 'humble',\n",
       "   'name': 'ros-humble-nav2-behavior-tree',\n",
       "   'count': 18209,\n",
       "   'date': '2024'},\n",
       "  {'package': 'rosbridge-server',\n",
       "   'distro': 'noetic',\n",
       "   'name': 'ros-noetic-rosbridge-server',\n",
       "   'count': 18114,\n",
       "   'date': '2024'},\n",
       "  {'package': 'ackermann-msgs',\n",
       "   'distro': 'humble',\n",
       "   'name': 'ros-humble-ackermann-msgs',\n",
       "   'count': 18103,\n",
       "   'date': '2024'},\n",
       "  {'package': 'urdfdom-py',\n",
       "   'distro': 'noetic',\n",
       "   'name': 'ros-noetic-urdfdom-py',\n",
       "   'count': 18061,\n",
       "   'date': '2024'},\n",
       "  {'package': 'nav2-controller',\n",
       "   'distro': 'humble',\n",
       "   'name': 'ros-humble-nav2-controller',\n",
       "   'count': 18042,\n",
       "   'date': '2024'},\n",
       "  {'package': 'nav2-amcl',\n",
       "   'distro': 'humble',\n",
       "   'name': 'ros-humble-nav2-amcl',\n",
       "   'count': 18041,\n",
       "   'date': '2024'},\n",
       "  {'package': 'slam-toolbox',\n",
       "   'distro': 'humble',\n",
       "   'name': 'ros-humble-slam-toolbox',\n",
       "   'count': 17999,\n",
       "   'date': '2024'},\n",
       "  {'package': 'nav2-rviz-plugins',\n",
       "   'distro': 'humble',\n",
       "   'name': 'ros-humble-nav2-rviz-plugins',\n",
       "   'count': 17931,\n",
       "   'date': '2024'},\n",
       "  {'package': 'navigation2',\n",
       "   'distro': 'humble',\n",
       "   'name': 'ros-humble-navigation2',\n",
       "   'count': 17920,\n",
       "   'date': '2024'},\n",
       "  {'package': 'nav2-planner',\n",
       "   'distro': 'humble',\n",
       "   'name': 'ros-humble-nav2-planner',\n",
       "   'count': 17913,\n",
       "   'date': '2024'},\n",
       "  {'package': 'dwb-core',\n",
       "   'distro': 'humble',\n",
       "   'name': 'ros-humble-dwb-core',\n",
       "   'count': 17884,\n",
       "   'date': '2024'},\n",
       "  {'package': 'dwb-critics',\n",
       "   'distro': 'humble',\n",
       "   'name': 'ros-humble-dwb-critics',\n",
       "   'count': 17876,\n",
       "   'date': '2024'},\n",
       "  {'package': 'costmap-queue',\n",
       "   'distro': 'humble',\n",
       "   'name': 'ros-humble-costmap-queue',\n",
       "   'count': 17862,\n",
       "   'date': '2024'},\n",
       "  {'package': 'nav2-constrained-smoother',\n",
       "   'distro': 'humble',\n",
       "   'name': 'ros-humble-nav2-constrained-smoother',\n",
       "   'count': 17857,\n",
       "   'date': '2024'},\n",
       "  {'package': 'nav2-velocity-smoother',\n",
       "   'distro': 'humble',\n",
       "   'name': 'ros-humble-nav2-velocity-smoother',\n",
       "   'count': 17832,\n",
       "   'date': '2024'},\n",
       "  {'package': 'nav2-smac-planner',\n",
       "   'distro': 'humble',\n",
       "   'name': 'ros-humble-nav2-smac-planner',\n",
       "   'count': 17821,\n",
       "   'date': '2024'},\n",
       "  {'package': 'nav2-bt-navigator',\n",
       "   'distro': 'humble',\n",
       "   'name': 'ros-humble-nav2-bt-navigator',\n",
       "   'count': 17815,\n",
       "   'date': '2024'},\n",
       "  {'package': 'dwb-plugins',\n",
       "   'distro': 'humble',\n",
       "   'name': 'ros-humble-dwb-plugins',\n",
       "   'count': 17801,\n",
       "   'date': '2024'},\n",
       "  {'package': 'nav2-regulated-pure-pursuit-controller',\n",
       "   'distro': 'humble',\n",
       "   'name': 'ros-humble-nav2-regulated-pure-pursuit-controller',\n",
       "   'count': 17800,\n",
       "   'date': '2024'},\n",
       "  {'package': 'nav2-dwb-controller',\n",
       "   'distro': 'humble',\n",
       "   'name': 'ros-humble-nav2-dwb-controller',\n",
       "   'count': 17793,\n",
       "   'date': '2024'},\n",
       "  {'package': 'nav2-navfn-planner',\n",
       "   'distro': 'humble',\n",
       "   'name': 'ros-humble-nav2-navfn-planner',\n",
       "   'count': 17764,\n",
       "   'date': '2024'},\n",
       "  {'package': 'nav2-behaviors',\n",
       "   'distro': 'humble',\n",
       "   'name': 'ros-humble-nav2-behaviors',\n",
       "   'count': 17762,\n",
       "   'date': '2024'},\n",
       "  {'package': 'nav2-waypoint-follower',\n",
       "   'distro': 'humble',\n",
       "   'name': 'ros-humble-nav2-waypoint-follower',\n",
       "   'count': 17722,\n",
       "   'date': '2024'},\n",
       "  {'package': 'nav2-collision-monitor',\n",
       "   'distro': 'humble',\n",
       "   'name': 'ros-humble-nav2-collision-monitor',\n",
       "   'count': 17720,\n",
       "   'date': '2024'},\n",
       "  {'package': 'nav2-mppi-controller',\n",
       "   'distro': 'humble',\n",
       "   'name': 'ros-humble-nav2-mppi-controller',\n",
       "   'count': 17716,\n",
       "   'date': '2024'},\n",
       "  {'package': 'nav2-rotation-shim-controller',\n",
       "   'distro': 'humble',\n",
       "   'name': 'ros-humble-nav2-rotation-shim-controller',\n",
       "   'count': 17704,\n",
       "   'date': '2024'},\n",
       "  {'package': 'nav2-smoother',\n",
       "   'distro': 'humble',\n",
       "   'name': 'ros-humble-nav2-smoother',\n",
       "   'count': 17704,\n",
       "   'date': '2024'},\n",
       "  {'package': 'nav2-theta-star-planner',\n",
       "   'distro': 'humble',\n",
       "   'name': 'ros-humble-nav2-theta-star-planner',\n",
       "   'count': 17681,\n",
       "   'date': '2024'},\n",
       "  {'package': 'gazebo-msgs',\n",
       "   'distro': 'humble',\n",
       "   'name': 'ros-humble-gazebo-msgs',\n",
       "   'count': 17036,\n",
       "   'date': '2024'},\n",
       "  {'package': 'velocity-controllers',\n",
       "   'distro': 'humble',\n",
       "   'name': 'ros-humble-velocity-controllers',\n",
       "   'count': 17004,\n",
       "   'date': '2024'},\n",
       "  {'package': 'voxel-grid',\n",
       "   'distro': 'noetic',\n",
       "   'name': 'ros-noetic-voxel-grid',\n",
       "   'count': 16877,\n",
       "   'date': '2024'},\n",
       "  {'package': 'nav-2d-msgs',\n",
       "   'distro': 'humble',\n",
       "   'name': 'ros-humble-nav-2d-msgs',\n",
       "   'count': 16862,\n",
       "   'date': '2024'},\n",
       "  {'package': 'ros2controlcli',\n",
       "   'distro': 'humble',\n",
       "   'name': 'ros-humble-ros2controlcli',\n",
       "   'count': 16799,\n",
       "   'date': '2024'},\n",
       "  {'package': 'rosidl-pycommon',\n",
       "   'distro': 'jazzy',\n",
       "   'name': 'ros-jazzy-rosidl-pycommon',\n",
       "   'count': 16618,\n",
       "   'date': '2024'},\n",
       "  {'package': 'rosidl-adapter',\n",
       "   'distro': 'jazzy',\n",
       "   'name': 'ros-jazzy-rosidl-adapter',\n",
       "   'count': 16612,\n",
       "   'date': '2024'},\n",
       "  {'package': 'stage',\n",
       "   'distro': 'noetic',\n",
       "   'name': 'ros-noetic-stage',\n",
       "   'count': 16606,\n",
       "   'date': '2024'},\n",
       "  {'package': 'rosidl-parser',\n",
       "   'distro': 'jazzy',\n",
       "   'name': 'ros-jazzy-rosidl-parser',\n",
       "   'count': 16600,\n",
       "   'date': '2024'},\n",
       "  {'package': 'rosidl-generator-type-description',\n",
       "   'distro': 'jazzy',\n",
       "   'name': 'ros-jazzy-rosidl-generator-type-description',\n",
       "   'count': 16600,\n",
       "   'date': '2024'},\n",
       "  {'package': 'rosidl-cmake',\n",
       "   'distro': 'jazzy',\n",
       "   'name': 'ros-jazzy-rosidl-cmake',\n",
       "   'count': 16593,\n",
       "   'date': '2024'},\n",
       "  {'package': 'rosidl-cli',\n",
       "   'distro': 'jazzy',\n",
       "   'name': 'ros-jazzy-rosidl-cli',\n",
       "   'count': 16591,\n",
       "   'date': '2024'},\n",
       "  {'package': 'rosidl-typesupport-interface',\n",
       "   'distro': 'jazzy',\n",
       "   'name': 'ros-jazzy-rosidl-typesupport-interface',\n",
       "   'count': 16591,\n",
       "   'date': '2024'},\n",
       "  {'package': 'rosbridge-msgs',\n",
       "   'distro': 'noetic',\n",
       "   'name': 'ros-noetic-rosbridge-msgs',\n",
       "   'count': 16354,\n",
       "   'date': '2024'},\n",
       "  {'package': 'transmission-interface',\n",
       "   'distro': 'humble',\n",
       "   'name': 'ros-humble-transmission-interface',\n",
       "   'count': 16345,\n",
       "   'date': '2024'},\n",
       "  {'package': 'image-transport',\n",
       "   'distro': 'jazzy',\n",
       "   'name': 'ros-jazzy-image-transport',\n",
       "   'count': 16342,\n",
       "   'date': '2024'},\n",
       "  {'package': 'gazebo-dev',\n",
       "   'distro': 'humble',\n",
       "   'name': 'ros-humble-gazebo-dev',\n",
       "   'count': 16333,\n",
       "   'date': '2024'},\n",
       "  {'package': 'nav2-bringup',\n",
       "   'distro': 'humble',\n",
       "   'name': 'ros-humble-nav2-bringup',\n",
       "   'count': 16327,\n",
       "   'date': '2024'},\n",
       "  {'package': 'dwb-msgs',\n",
       "   'distro': 'humble',\n",
       "   'name': 'ros-humble-dwb-msgs',\n",
       "   'count': 16259,\n",
       "   'date': '2024'},\n",
       "  {'package': 'nav2-simple-commander',\n",
       "   'distro': 'humble',\n",
       "   'name': 'ros-humble-nav2-simple-commander',\n",
       "   'count': 16254,\n",
       "   'date': '2024'},\n",
       "  {'package': 'diff-drive-controller',\n",
       "   'distro': 'humble',\n",
       "   'name': 'ros-humble-diff-drive-controller',\n",
       "   'count': 16240,\n",
       "   'date': '2024'},\n",
       "  {'package': 'rcpputils',\n",
       "   'distro': 'jazzy',\n",
       "   'name': 'ros-jazzy-rcpputils',\n",
       "   'count': 16203,\n",
       "   'date': '2024'},\n",
       "  {'package': 'fastcdr',\n",
       "   'distro': 'jazzy',\n",
       "   'name': 'ros-jazzy-fastcdr',\n",
       "   'count': 16190,\n",
       "   'date': '2024'},\n",
       "  {'package': 'unique-identifier-msgs',\n",
       "   'distro': 'jazzy',\n",
       "   'name': 'ros-jazzy-unique-identifier-msgs',\n",
       "   'count': 16156,\n",
       "   'date': '2024'},\n",
       "  {'package': 'rosidl-generator-c',\n",
       "   'distro': 'jazzy',\n",
       "   'name': 'ros-jazzy-rosidl-generator-c',\n",
       "   'count': 16154,\n",
       "   'date': '2024'},\n",
       "  {'package': 'rosidl-runtime-cpp',\n",
       "   'distro': 'jazzy',\n",
       "   'name': 'ros-jazzy-rosidl-runtime-cpp',\n",
       "   'count': 16153,\n",
       "   'date': '2024'},\n",
       "  {'package': 'rosidl-generator-cpp',\n",
       "   'distro': 'jazzy',\n",
       "   'name': 'ros-jazzy-rosidl-generator-cpp',\n",
       "   'count': 16147,\n",
       "   'date': '2024'},\n",
       "  {'package': 'rosidl-typesupport-c',\n",
       "   'distro': 'jazzy',\n",
       "   'name': 'ros-jazzy-rosidl-typesupport-c',\n",
       "   'count': 16147,\n",
       "   'date': '2024'},\n",
       "  {'package': 'rosidl-typesupport-fastrtps-c',\n",
       "   'distro': 'jazzy',\n",
       "   'name': 'ros-jazzy-rosidl-typesupport-fastrtps-c',\n",
       "   'count': 16146,\n",
       "   'date': '2024'},\n",
       "  {'package': 'rosidl-generator-py',\n",
       "   'distro': 'jazzy',\n",
       "   'name': 'ros-jazzy-rosidl-generator-py',\n",
       "   'count': 16144,\n",
       "   'date': '2024'},\n",
       "  {'package': 'rosidl-typesupport-introspection-cpp',\n",
       "   'distro': 'jazzy',\n",
       "   'name': 'ros-jazzy-rosidl-typesupport-introspection-cpp',\n",
       "   'count': 16138,\n",
       "   'date': '2024'},\n",
       "  {'package': 'rosidl-dynamic-typesupport',\n",
       "   'distro': 'jazzy',\n",
       "   'name': 'ros-jazzy-rosidl-dynamic-typesupport',\n",
       "   'count': 16134,\n",
       "   'date': '2024'},\n",
       "  {'package': 'rosidl-typesupport-fastrtps-cpp',\n",
       "   'distro': 'jazzy',\n",
       "   'name': 'ros-jazzy-rosidl-typesupport-fastrtps-cpp',\n",
       "   'count': 16130,\n",
       "   'date': '2024'},\n",
       "  {'package': 'rosidl-typesupport-introspection-c',\n",
       "   'distro': 'jazzy',\n",
       "   'name': 'ros-jazzy-rosidl-typesupport-introspection-c',\n",
       "   'count': 16130,\n",
       "   'date': '2024'},\n",
       "  {'package': 'rosidl-core-runtime',\n",
       "   'distro': 'jazzy',\n",
       "   'name': 'ros-jazzy-rosidl-core-runtime',\n",
       "   'count': 16126,\n",
       "   'date': '2024'},\n",
       "  {'package': 'rosidl-typesupport-cpp',\n",
       "   'distro': 'jazzy',\n",
       "   'name': 'ros-jazzy-rosidl-typesupport-cpp',\n",
       "   'count': 16124,\n",
       "   'date': '2024'},\n",
       "  {'package': 'rmw',\n",
       "   'distro': 'jazzy',\n",
       "   'name': 'ros-jazzy-rmw',\n",
       "   'count': 16119,\n",
       "   'date': '2024'},\n",
       "  {'package': 'builtin-interfaces',\n",
       "   'distro': 'jazzy',\n",
       "   'name': 'ros-jazzy-builtin-interfaces',\n",
       "   'count': 16118,\n",
       "   'date': '2024'},\n",
       "  {'package': 'rcutils',\n",
       "   'distro': 'jazzy',\n",
       "   'name': 'ros-jazzy-rcutils',\n",
       "   'count': 16099,\n",
       "   'date': '2024'},\n",
       "  {'package': 'rosidl-default-runtime',\n",
       "   'distro': 'jazzy',\n",
       "   'name': 'ros-jazzy-rosidl-default-runtime',\n",
       "   'count': 16092,\n",
       "   'date': '2024'},\n",
       "  {'package': 'action-msgs',\n",
       "   'distro': 'jazzy',\n",
       "   'name': 'ros-jazzy-action-msgs',\n",
       "   'count': 16091,\n",
       "   'date': '2024'},\n",
       "  {'package': 'service-msgs',\n",
       "   'distro': 'jazzy',\n",
       "   'name': 'ros-jazzy-service-msgs',\n",
       "   'count': 16083,\n",
       "   'date': '2024'},\n",
       "  {'package': 'tracetools',\n",
       "   'distro': 'jazzy',\n",
       "   'name': 'ros-jazzy-tracetools',\n",
       "   'count': 16061,\n",
       "   'date': '2024'},\n",
       "  {'package': 'ros2-control',\n",
       "   'distro': 'humble',\n",
       "   'name': 'ros-humble-ros2-control',\n",
       "   'count': 16055,\n",
       "   'date': '2024'},\n",
       "  {'package': 'rosidl-runtime-c',\n",
       "   'distro': 'jazzy',\n",
       "   'name': 'ros-jazzy-rosidl-runtime-c',\n",
       "   'count': 16037,\n",
       "   'date': '2024'},\n",
       "  {'package': 'gazebo-ros',\n",
       "   'distro': 'humble',\n",
       "   'name': 'ros-humble-gazebo-ros',\n",
       "   'count': 16034,\n",
       "   'date': '2024'},\n",
       "  {'package': 'gazebo-plugins',\n",
       "   'distro': 'humble',\n",
       "   'name': 'ros-humble-gazebo-plugins',\n",
       "   'count': 15933,\n",
       "   'date': '2024'},\n",
       "  {'package': 'rcl-interfaces',\n",
       "   'distro': 'jazzy',\n",
       "   'name': 'ros-jazzy-rcl-interfaces',\n",
       "   'count': 15829,\n",
       "   'date': '2024'},\n",
       "  {'package': 'rosgraph-msgs',\n",
       "   'distro': 'jazzy',\n",
       "   'name': 'ros-jazzy-rosgraph-msgs',\n",
       "   'count': 15827,\n",
       "   'date': '2024'},\n",
       "  {'package': 'rcl',\n",
       "   'distro': 'jazzy',\n",
       "   'name': 'ros-jazzy-rcl',\n",
       "   'count': 15826,\n",
       "   'date': '2024'},\n",
       "  {'package': 'std-msgs',\n",
       "   'distro': 'jazzy',\n",
       "   'name': 'ros-jazzy-std-msgs',\n",
       "   'count': 15800,\n",
       "   'date': '2024'},\n",
       "  {'package': 'rcl-logging-interface',\n",
       "   'distro': 'jazzy',\n",
       "   'name': 'ros-jazzy-rcl-logging-interface',\n",
       "   'count': 15792,\n",
       "   'date': '2024'},\n",
       "  {'package': 'lifecycle-msgs',\n",
       "   'distro': 'jazzy',\n",
       "   'name': 'ros-jazzy-lifecycle-msgs',\n",
       "   'count': 15778,\n",
       "   'date': '2024'},\n",
       "  {'package': 'rviz-rendering',\n",
       "   'distro': 'jazzy',\n",
       "   'name': 'ros-jazzy-rviz-rendering',\n",
       "   'count': 15759,\n",
       "   'date': '2024'},\n",
       "  {'package': 'rviz-ogre-vendor',\n",
       "   'distro': 'jazzy',\n",
       "   'name': 'ros-jazzy-rviz-ogre-vendor',\n",
       "   'count': 15740,\n",
       "   'date': '2024'},\n",
       "  {'package': 'type-description-interfaces',\n",
       "   'distro': 'jazzy',\n",
       "   'name': 'ros-jazzy-type-description-interfaces',\n",
       "   'count': 15739,\n",
       "   'date': '2024'},\n",
       "  {'package': 'rviz-assimp-vendor',\n",
       "   'distro': 'jazzy',\n",
       "   'name': 'ros-jazzy-rviz-assimp-vendor',\n",
       "   'count': 15734,\n",
       "   'date': '2024'},\n",
       "  {'package': 'joint-limits',\n",
       "   'distro': 'humble',\n",
       "   'name': 'ros-humble-joint-limits',\n",
       "   'count': 15731,\n",
       "   'date': '2024'},\n",
       "  {'package': 'rcl-lifecycle',\n",
       "   'distro': 'jazzy',\n",
       "   'name': 'ros-jazzy-rcl-lifecycle',\n",
       "   'count': 15711,\n",
       "   'date': '2024'},\n",
       "  {'package': 'map-server',\n",
       "   'distro': 'noetic',\n",
       "   'name': 'ros-noetic-map-server',\n",
       "   'count': 15693,\n",
       "   'date': '2024'},\n",
       "  {'package': 'rmw-implementation',\n",
       "   'distro': 'jazzy',\n",
       "   'name': 'ros-jazzy-rmw-implementation',\n",
       "   'count': 15687,\n",
       "   'date': '2024'},\n",
       "  {'package': 'rcl-logging-spdlog',\n",
       "   'distro': 'jazzy',\n",
       "   'name': 'ros-jazzy-rcl-logging-spdlog',\n",
       "   'count': 15686,\n",
       "   'date': '2024'},\n",
       "  {'package': 'rcl-yaml-param-parser',\n",
       "   'distro': 'jazzy',\n",
       "   'name': 'ros-jazzy-rcl-yaml-param-parser',\n",
       "   'count': 15680,\n",
       "   'date': '2024'},\n",
       "  {'package': 'position-controllers',\n",
       "   'distro': 'humble',\n",
       "   'name': 'ros-humble-position-controllers',\n",
       "   'count': 15671,\n",
       "   'date': '2024'},\n",
       "  {'package': 'rclpy',\n",
       "   'distro': 'jazzy',\n",
       "   'name': 'ros-jazzy-rclpy',\n",
       "   'count': 15669,\n",
       "   'date': '2024'},\n",
       "  {'package': 'rmw-dds-common',\n",
       "   'distro': 'jazzy',\n",
       "   'name': 'ros-jazzy-rmw-dds-common',\n",
       "   'count': 15648,\n",
       "   'date': '2024'},\n",
       "  {'package': 'rcl-action',\n",
       "   'distro': 'jazzy',\n",
       "   'name': 'ros-jazzy-rcl-action',\n",
       "   'count': 15625,\n",
       "   'date': '2024'},\n",
       "  {'package': 'costmap-2d',\n",
       "   'distro': 'noetic',\n",
       "   'name': 'ros-noetic-costmap-2d',\n",
       "   'count': 15617,\n",
       "   'date': '2024'},\n",
       "  {'package': 'fastrtps',\n",
       "   'distro': 'jazzy',\n",
       "   'name': 'ros-jazzy-fastrtps',\n",
       "   'count': 15607,\n",
       "   'date': '2024'},\n",
       "  {'package': 'rmw-fastrtps-cpp',\n",
       "   'distro': 'jazzy',\n",
       "   'name': 'ros-jazzy-rmw-fastrtps-cpp',\n",
       "   'count': 15544,\n",
       "   'date': '2024'},\n",
       "  {'package': 'rosidl-dynamic-typesupport-fastrtps',\n",
       "   'distro': 'jazzy',\n",
       "   'name': 'ros-jazzy-rosidl-dynamic-typesupport-fastrtps',\n",
       "   'count': 15533,\n",
       "   'date': '2024'},\n",
       "  {'package': 'rmw-fastrtps-shared-cpp',\n",
       "   'distro': 'jazzy',\n",
       "   'name': 'ros-jazzy-rmw-fastrtps-shared-cpp',\n",
       "   'count': 15531,\n",
       "   'date': '2024'},\n",
       "  {'package': 'interactive-markers',\n",
       "   'distro': 'jazzy',\n",
       "   'name': 'ros-jazzy-interactive-markers',\n",
       "   'count': 15512,\n",
       "   'date': '2024'},\n",
       "  {'package': 'geometry-msgs',\n",
       "   'distro': 'jazzy',\n",
       "   'name': 'ros-jazzy-geometry-msgs',\n",
       "   'count': 15499,\n",
       "   'date': '2024'},\n",
       "  {'package': 'rclcpp',\n",
       "   'distro': 'jazzy',\n",
       "   'name': 'ros-jazzy-rclcpp',\n",
       "   'count': 15462,\n",
       "   'date': '2024'},\n",
       "  {'package': 'statistics-msgs',\n",
       "   'distro': 'jazzy',\n",
       "   'name': 'ros-jazzy-statistics-msgs',\n",
       "   'count': 15462,\n",
       "   'date': '2024'},\n",
       "  {'package': 'map-msgs',\n",
       "   'distro': 'jazzy',\n",
       "   'name': 'ros-jazzy-map-msgs',\n",
       "   'count': 15439,\n",
       "   'date': '2024'},\n",
       "  {'package': 'laser-geometry',\n",
       "   'distro': 'jazzy',\n",
       "   'name': 'ros-jazzy-laser-geometry',\n",
       "   'count': 15397,\n",
       "   'date': '2024'},\n",
       "  {'package': 'composition-interfaces',\n",
       "   'distro': 'jazzy',\n",
       "   'name': 'ros-jazzy-composition-interfaces',\n",
       "   'count': 15380,\n",
       "   'date': '2024'},\n",
       "  {'package': 'class-loader',\n",
       "   'distro': 'jazzy',\n",
       "   'name': 'ros-jazzy-class-loader',\n",
       "   'count': 15376,\n",
       "   'date': '2024'},\n",
       "  {'package': 'libstatistics-collector',\n",
       "   'distro': 'jazzy',\n",
       "   'name': 'ros-jazzy-libstatistics-collector',\n",
       "   'count': 15326,\n",
       "   'date': '2024'},\n",
       "  {'package': 'point-cloud-transport',\n",
       "   'distro': 'jazzy',\n",
       "   'name': 'ros-jazzy-point-cloud-transport',\n",
       "   'count': 15287,\n",
       "   'date': '2024'},\n",
       "  {'package': 'rviz-common',\n",
       "   'distro': 'jazzy',\n",
       "   'name': 'ros-jazzy-rviz-common',\n",
       "   'count': 15283,\n",
       "   'date': '2024'},\n",
       "  {'package': 'rviz-default-plugins',\n",
       "   'distro': 'jazzy',\n",
       "   'name': 'ros-jazzy-rviz-default-plugins',\n",
       "   'count': 15278,\n",
       "   'date': '2024'},\n",
       "  {'package': 'moveit-msgs',\n",
       "   'distro': 'noetic',\n",
       "   'name': 'ros-noetic-moveit-msgs',\n",
       "   'count': 15269,\n",
       "   'date': '2024'},\n",
       "  {'package': 'sensor-msgs',\n",
       "   'distro': 'jazzy',\n",
       "   'name': 'ros-jazzy-sensor-msgs',\n",
       "   'count': 15229,\n",
       "   'date': '2024'},\n",
       "  {'package': 'nav-core',\n",
       "   'distro': 'noetic',\n",
       "   'name': 'ros-noetic-nav-core',\n",
       "   'count': 15087,\n",
       "   'date': '2024'},\n",
       "  {'package': 'urdf-parser-plugin',\n",
       "   'distro': 'jazzy',\n",
       "   'name': 'ros-jazzy-urdf-parser-plugin',\n",
       "   'count': 15018,\n",
       "   'date': '2024'},\n",
       "  {'package': 'object-recognition-msgs',\n",
       "   'distro': 'noetic',\n",
       "   'name': 'ros-noetic-object-recognition-msgs',\n",
       "   'count': 15014,\n",
       "   'date': '2024'},\n",
       "  {'package': 'urdfdom-headers',\n",
       "   'distro': 'jazzy',\n",
       "   'name': 'ros-jazzy-urdfdom-headers',\n",
       "   'count': 15000,\n",
       "   'date': '2024'},\n",
       "  {'package': 'urdfdom',\n",
       "   'distro': 'jazzy',\n",
       "   'name': 'ros-jazzy-urdfdom',\n",
       "   'count': 15000,\n",
       "   'date': '2024'},\n",
       "  {'package': 'rclcpp-action',\n",
       "   'distro': 'jazzy',\n",
       "   'name': 'ros-jazzy-rclcpp-action',\n",
       "   'count': 15000,\n",
       "   'date': '2024'},\n",
       "  {'package': 'urdf',\n",
       "   'distro': 'jazzy',\n",
       "   'name': 'ros-jazzy-urdf',\n",
       "   'count': 14971,\n",
       "   'date': '2024'},\n",
       "  {'package': 'moveit-core',\n",
       "   'distro': 'noetic',\n",
       "   'name': 'ros-noetic-moveit-core',\n",
       "   'count': 14963,\n",
       "   'date': '2024'},\n",
       "  {'package': 'message-filters',\n",
       "   'distro': 'jazzy',\n",
       "   'name': 'ros-jazzy-message-filters',\n",
       "   'count': 14953,\n",
       "   'date': '2024'},\n",
       "  {'package': 'tf2',\n",
       "   'distro': 'jazzy',\n",
       "   'name': 'ros-jazzy-tf2',\n",
       "   'count': 14937,\n",
       "   'date': '2024'},\n",
       "  {'package': 'tf2-ros',\n",
       "   'distro': 'jazzy',\n",
       "   'name': 'ros-jazzy-tf2-ros',\n",
       "   'count': 14831,\n",
       "   'date': '2024'},\n",
       "  {'package': 'rosidl-runtime-py',\n",
       "   'distro': 'jazzy',\n",
       "   'name': 'ros-jazzy-rosidl-runtime-py',\n",
       "   'count': 14811,\n",
       "   'date': '2024'},\n",
       "  {'package': 'pluginlib',\n",
       "   'distro': 'jazzy',\n",
       "   'name': 'ros-jazzy-pluginlib',\n",
       "   'count': 14810,\n",
       "   'date': '2024'},\n",
       "  {'package': 'tf2-msgs',\n",
       "   'distro': 'jazzy',\n",
       "   'name': 'ros-jazzy-tf2-msgs',\n",
       "   'count': 14810,\n",
       "   'date': '2024'},\n",
       "  {'package': 'eigen-stl-containers',\n",
       "   'distro': 'humble',\n",
       "   'name': 'ros-humble-eigen-stl-containers',\n",
       "   'count': 14801,\n",
       "   'date': '2024'},\n",
       "  {'package': 'rclcpp-components',\n",
       "   'distro': 'jazzy',\n",
       "   'name': 'ros-jazzy-rclcpp-components',\n",
       "   'count': 14779,\n",
       "   'date': '2024'},\n",
       "  {'package': 'ros2cli',\n",
       "   'distro': 'jazzy',\n",
       "   'name': 'ros-jazzy-ros2cli',\n",
       "   'count': 14776,\n",
       "   'date': '2024'},\n",
       "  {'package': 'octomap-msgs',\n",
       "   'distro': 'humble',\n",
       "   'name': 'ros-humble-octomap-msgs',\n",
       "   'count': 14727,\n",
       "   'date': '2024'},\n",
       "  {'package': 'ros2pkg',\n",
       "   'distro': 'jazzy',\n",
       "   'name': 'ros-jazzy-ros2pkg',\n",
       "   'count': 14723,\n",
       "   'date': '2024'},\n",
       "  {'package': 'rviz2',\n",
       "   'distro': 'jazzy',\n",
       "   'name': 'ros-jazzy-rviz2',\n",
       "   'count': 14678,\n",
       "   'date': '2024'},\n",
       "  {'package': 'gazebo-ros-pkgs',\n",
       "   'distro': 'humble',\n",
       "   'name': 'ros-humble-gazebo-ros-pkgs',\n",
       "   'count': 14640,\n",
       "   'date': '2024'},\n",
       "  {'package': 'diagnostic-msgs',\n",
       "   'distro': 'jazzy',\n",
       "   'name': 'ros-jazzy-diagnostic-msgs',\n",
       "   'count': 14596,\n",
       "   'date': '2024'},\n",
       "  {'package': 'launch-ros',\n",
       "   'distro': 'jazzy',\n",
       "   'name': 'ros-jazzy-launch-ros',\n",
       "   'count': 14590,\n",
       "   'date': '2024'},\n",
       "  {'package': 'force-torque-sensor-broadcaster',\n",
       "   'distro': 'humble',\n",
       "   'name': 'ros-humble-force-torque-sensor-broadcaster',\n",
       "   'count': 14585,\n",
       "   'date': '2024'},\n",
       "  {'package': 'tf2-geometry-msgs',\n",
       "   'distro': 'jazzy',\n",
       "   'name': 'ros-jazzy-tf2-geometry-msgs',\n",
       "   'count': 14565,\n",
       "   'date': '2024'},\n",
       "  {'package': 'moveit-ros-planning',\n",
       "   'distro': 'noetic',\n",
       "   'name': 'ros-noetic-moveit-ros-planning',\n",
       "   'count': 14564,\n",
       "   'date': '2024'},\n",
       "  {'package': 'tf2-py',\n",
       "   'distro': 'jazzy',\n",
       "   'name': 'ros-jazzy-tf2-py',\n",
       "   'count': 14550,\n",
       "   'date': '2024'},\n",
       "  {'package': 'rosbag2-storage-mcap',\n",
       "   'distro': 'humble',\n",
       "   'name': 'ros-humble-rosbag2-storage-mcap',\n",
       "   'count': 14550,\n",
       "   'date': '2024'},\n",
       "  {'package': 'moveit-ros-occupancy-map-monitor',\n",
       "   'distro': 'noetic',\n",
       "   'name': 'ros-noetic-moveit-ros-occupancy-map-monitor',\n",
       "   'count': 14549,\n",
       "   'date': '2024'},\n",
       "  {'package': 'tf2-ros-py',\n",
       "   'distro': 'jazzy',\n",
       "   'name': 'ros-jazzy-tf2-ros-py',\n",
       "   'count': 14546,\n",
       "   'date': '2024'},\n",
       "  {'package': 'gps-msgs',\n",
       "   'distro': 'humble',\n",
       "   'name': 'ros-humble-gps-msgs',\n",
       "   'count': 14541,\n",
       "   'date': '2024'},\n",
       "  {'package': 'mcap-vendor',\n",
       "   'distro': 'humble',\n",
       "   'name': 'ros-humble-mcap-vendor',\n",
       "   'count': 14512,\n",
       "   'date': '2024'},\n",
       "  {'package': 'octomap-msgs',\n",
       "   'distro': 'noetic',\n",
       "   'name': 'ros-noetic-octomap-msgs',\n",
       "   'count': 14496,\n",
       "   'date': '2024'},\n",
       "  {'package': 'meson',\n",
       "   'distro': 'colcon',\n",
       "   'name': 'python3-colcon-meson',\n",
       "   'count': 14482,\n",
       "   'date': '2024'},\n",
       "  {'package': 'ros-workspace',\n",
       "   'distro': 'jazzy',\n",
       "   'name': 'ros-jazzy-ros-workspace',\n",
       "   'count': 14410,\n",
       "   'date': '2024'},\n",
       "  {'package': 'rclcpp-lifecycle',\n",
       "   'distro': 'jazzy',\n",
       "   'name': 'ros-jazzy-rclcpp-lifecycle',\n",
       "   'count': 14402,\n",
       "   'date': '2024'},\n",
       "  {'package': 'cv-bridge',\n",
       "   'distro': 'jazzy',\n",
       "   'name': 'ros-jazzy-cv-bridge',\n",
       "   'count': 14347,\n",
       "   'date': '2024'},\n",
       "  {'package': 'trajectory-msgs',\n",
       "   'distro': 'jazzy',\n",
       "   'name': 'ros-jazzy-trajectory-msgs',\n",
       "   'count': 14339,\n",
       "   'date': '2024'},\n",
       "  {'package': 'nav-msgs',\n",
       "   'distro': 'jazzy',\n",
       "   'name': 'ros-jazzy-nav-msgs',\n",
       "   'count': 14308,\n",
       "   'date': '2024'},\n",
       "  {'package': 'std-srvs',\n",
       "   'distro': 'jazzy',\n",
       "   'name': 'ros-jazzy-std-srvs',\n",
       "   'count': 14305,\n",
       "   'date': '2024'},\n",
       "  {'package': 'ros2param',\n",
       "   'distro': 'jazzy',\n",
       "   'name': 'ros-jazzy-ros2param',\n",
       "   'count': 14303,\n",
       "   'date': '2024'},\n",
       "  {'package': 'ros2node',\n",
       "   'distro': 'jazzy',\n",
       "   'name': 'ros-jazzy-ros2node',\n",
       "   'count': 14275,\n",
       "   'date': '2024'},\n",
       "  {'package': 'ros2service',\n",
       "   'distro': 'jazzy',\n",
       "   'name': 'ros-jazzy-ros2service',\n",
       "   'count': 14265,\n",
       "   'date': '2024'},\n",
       "  {'package': 'kdl-parser',\n",
       "   'distro': 'jazzy',\n",
       "   'name': 'ros-jazzy-kdl-parser',\n",
       "   'count': 14262,\n",
       "   'date': '2024'},\n",
       "  {'package': 'rosidl-default-generators',\n",
       "   'distro': 'jazzy',\n",
       "   'name': 'ros-jazzy-rosidl-default-generators',\n",
       "   'count': 14175,\n",
       "   'date': '2024'},\n",
       "  {'package': 'ros2run',\n",
       "   'distro': 'jazzy',\n",
       "   'name': 'ros-jazzy-ros2run',\n",
       "   'count': 14172,\n",
       "   'date': '2024'},\n",
       "  {'package': 'rosidl-core-generators',\n",
       "   'distro': 'jazzy',\n",
       "   'name': 'ros-jazzy-rosidl-core-generators',\n",
       "   'count': 14144,\n",
       "   'date': '2024'},\n",
       "  {'package': 'navfn',\n",
       "   'distro': 'noetic',\n",
       "   'name': 'ros-noetic-navfn',\n",
       "   'count': 14050,\n",
       "   'date': '2024'},\n",
       "  {'package': 'effort-controllers',\n",
       "   'distro': 'humble',\n",
       "   'name': 'ros-humble-effort-controllers',\n",
       "   'count': 14010,\n",
       "   'date': '2024'},\n",
       "  {'package': 'base-local-planner',\n",
       "   'distro': 'noetic',\n",
       "   'name': 'ros-noetic-base-local-planner',\n",
       "   'count': 13940,\n",
       "   'date': '2024'},\n",
       "  {'package': 'srdfdom',\n",
       "   'distro': 'humble',\n",
       "   'name': 'ros-humble-srdfdom',\n",
       "   'count': 13917,\n",
       "   'date': '2024'},\n",
       "  {'package': 'moveit-core',\n",
       "   'distro': 'humble',\n",
       "   'name': 'ros-humble-moveit-core',\n",
       "   'count': 13863,\n",
       "   'date': '2024'},\n",
       "  {'package': 'tf2-eigen',\n",
       "   'distro': 'jazzy',\n",
       "   'name': 'ros-jazzy-tf2-eigen',\n",
       "   'count': 13816,\n",
       "   'date': '2024'},\n",
       "  {'package': 'ament-clang-format',\n",
       "   'distro': 'humble',\n",
       "   'name': 'ros-humble-ament-clang-format',\n",
       "   'count': 13797,\n",
       "   'date': '2024'},\n",
       "  {'package': 'sensor-msgs-py',\n",
       "   'distro': 'jazzy',\n",
       "   'name': 'ros-jazzy-sensor-msgs-py',\n",
       "   'count': 13776,\n",
       "   'date': '2024'},\n",
       "  {'package': 'robot-state-publisher',\n",
       "   'distro': 'jazzy',\n",
       "   'name': 'ros-jazzy-robot-state-publisher',\n",
       "   'count': 13681,\n",
       "   'date': '2024'},\n",
       "  {'package': 'moveit-ros-planning',\n",
       "   'distro': 'humble',\n",
       "   'name': 'ros-humble-moveit-ros-planning',\n",
       "   'count': 13626,\n",
       "   'date': '2024'},\n",
       "  {'package': 'tricycle-controller',\n",
       "   'distro': 'humble',\n",
       "   'name': 'ros-humble-tricycle-controller',\n",
       "   'count': 13616,\n",
       "   'date': '2024'},\n",
       "  {'package': 'visualization-msgs',\n",
       "   'distro': 'jazzy',\n",
       "   'name': 'ros-jazzy-visualization-msgs',\n",
       "   'count': 13612,\n",
       "   'date': '2024'},\n",
       "  {'package': 'moveit-ros-occupancy-map-monitor',\n",
       "   'distro': 'humble',\n",
       "   'name': 'ros-humble-moveit-ros-occupancy-map-monitor',\n",
       "   'count': 13607,\n",
       "   'date': '2024'},\n",
       "  {'package': 'moveit-kinematics',\n",
       "   'distro': 'noetic',\n",
       "   'name': 'ros-noetic-moveit-kinematics',\n",
       "   'count': 13566,\n",
       "   'date': '2024'},\n",
       "  {'package': 'moveit-ros-warehouse',\n",
       "   'distro': 'noetic',\n",
       "   'name': 'ros-noetic-moveit-ros-warehouse',\n",
       "   'count': 13559,\n",
       "   'date': '2024'},\n",
       "  {'package': 'moveit-ros-planning-interface',\n",
       "   'distro': 'noetic',\n",
       "   'name': 'ros-noetic-moveit-ros-planning-interface',\n",
       "   'count': 13553,\n",
       "   'date': '2024'},\n",
       "  {'package': 'srdfdom',\n",
       "   'distro': 'noetic',\n",
       "   'name': 'ros-noetic-srdfdom',\n",
       "   'count': 13552,\n",
       "   'date': '2024'},\n",
       "  {'package': 'uuid-msgs',\n",
       "   'distro': 'noetic',\n",
       "   'name': 'ros-noetic-uuid-msgs',\n",
       "   'count': 13550,\n",
       "   'date': '2024'},\n",
       "  {'package': 'tf2-kdl',\n",
       "   'distro': 'jazzy',\n",
       "   'name': 'ros-jazzy-tf2-kdl',\n",
       "   'count': 13514,\n",
       "   'date': '2024'},\n",
       "  {'package': 'moveit-ros-manipulation',\n",
       "   'distro': 'noetic',\n",
       "   'name': 'ros-noetic-moveit-ros-manipulation',\n",
       "   'count': 13506,\n",
       "   'date': '2024'},\n",
       "  {'package': 'rqt-gui',\n",
       "   'distro': 'jazzy',\n",
       "   'name': 'ros-jazzy-rqt-gui',\n",
       "   'count': 13477,\n",
       "   'date': '2024'},\n",
       "  {'package': 'launch-testing-ros',\n",
       "   'distro': 'jazzy',\n",
       "   'name': 'ros-jazzy-launch-testing-ros',\n",
       "   'count': 13476,\n",
       "   'date': '2024'},\n",
       "  {'package': 'tf2-eigen-kdl',\n",
       "   'distro': 'jazzy',\n",
       "   'name': 'ros-jazzy-tf2-eigen-kdl',\n",
       "   'count': 13473,\n",
       "   'date': '2024'},\n",
       "  {'package': 'moveit-ros-move-group',\n",
       "   'distro': 'noetic',\n",
       "   'name': 'ros-noetic-moveit-ros-move-group',\n",
       "   'count': 13467,\n",
       "   'date': '2024'},\n",
       "  {'package': 'rqt-gui-py',\n",
       "   'distro': 'jazzy',\n",
       "   'name': 'ros-jazzy-rqt-gui-py',\n",
       "   'count': 13429,\n",
       "   'date': '2024'},\n",
       "  {'package': 'moveit-kinematics',\n",
       "   'distro': 'humble',\n",
       "   'name': 'ros-humble-moveit-kinematics',\n",
       "   'count': 13426,\n",
       "   'date': '2024'},\n",
       "  {'package': 'moveit-ros-move-group',\n",
       "   'distro': 'humble',\n",
       "   'name': 'ros-humble-moveit-ros-move-group',\n",
       "   'count': 13400,\n",
       "   'date': '2024'},\n",
       "  {'package': 'rospy-message-converter',\n",
       "   'distro': 'noetic',\n",
       "   'name': 'ros-noetic-rospy-message-converter',\n",
       "   'count': 13397,\n",
       "   'date': '2024'},\n",
       "  {'package': 'clear-costmap-recovery',\n",
       "   'distro': 'noetic',\n",
       "   'name': 'ros-noetic-clear-costmap-recovery',\n",
       "   'count': 13335,\n",
       "   'date': '2024'},\n",
       "  {'package': 'joint-trajectory-controller',\n",
       "   'distro': 'noetic',\n",
       "   'name': 'ros-noetic-joint-trajectory-controller',\n",
       "   'count': 13320,\n",
       "   'date': '2024'},\n",
       "  {'package': 'ament-lint',\n",
       "   'distro': 'jazzy',\n",
       "   'name': 'ros-jazzy-ament-lint',\n",
       "   'count': 13272,\n",
       "   'date': '2024'},\n",
       "  {'package': 'geographic-msgs',\n",
       "   'distro': 'noetic',\n",
       "   'name': 'ros-noetic-geographic-msgs',\n",
       "   'count': 13259,\n",
       "   'date': '2024'},\n",
       "  {'package': 'octomap',\n",
       "   'distro': 'humble',\n",
       "   'name': 'ros-humble-octomap',\n",
       "   'count': 13256,\n",
       "   'date': '2024'},\n",
       "  {'package': 'moveit-ros-warehouse',\n",
       "   'distro': 'humble',\n",
       "   'name': 'ros-humble-moveit-ros-warehouse',\n",
       "   'count': 13188,\n",
       "   'date': '2024'},\n",
       "  {'package': 'rotate-recovery',\n",
       "   'distro': 'noetic',\n",
       "   'name': 'ros-noetic-rotate-recovery',\n",
       "   'count': 13168,\n",
       "   'date': '2024'},\n",
       "  {'package': 'ament-index-python',\n",
       "   'distro': 'jazzy',\n",
       "   'name': 'ros-jazzy-ament-index-python',\n",
       "   'count': 13161,\n",
       "   'date': '2024'},\n",
       "  {'package': 'ros-workspace',\n",
       "   'distro': 'rolling',\n",
       "   'name': 'ros-rolling-ros-workspace',\n",
       "   'count': 13159,\n",
       "   'date': '2024'},\n",
       "  {'package': 'ros-gz-bridge',\n",
       "   'distro': 'humble',\n",
       "   'name': 'ros-humble-ros-gz-bridge',\n",
       "   'count': 13134,\n",
       "   'date': '2024'},\n",
       "  {'package': 'moveit-ros-perception',\n",
       "   'distro': 'noetic',\n",
       "   'name': 'ros-noetic-moveit-ros-perception',\n",
       "   'count': 13108,\n",
       "   'date': '2024'},\n",
       "  {'package': 'moveit-ros-planning-interface',\n",
       "   'distro': 'humble',\n",
       "   'name': 'ros-humble-moveit-ros-planning-interface',\n",
       "   'count': 13073,\n",
       "   'date': '2024'},\n",
       "  {'package': '',\n",
       "   'distro': 'vcstools',\n",
       "   'name': 'python3-vcstools',\n",
       "   'count': 13028,\n",
       "   'date': '2024'},\n",
       "  {'package': 'imu-sensor-broadcaster',\n",
       "   'distro': 'humble',\n",
       "   'name': 'ros-humble-imu-sensor-broadcaster',\n",
       "   'count': 12966,\n",
       "   'date': '2024'},\n",
       "  {'package': 'ament-pep257',\n",
       "   'distro': 'jazzy',\n",
       "   'name': 'ros-jazzy-ament-pep257',\n",
       "   'count': 12937,\n",
       "   'date': '2024'},\n",
       "  {'package': 'ament-flake8',\n",
       "   'distro': 'jazzy',\n",
       "   'name': 'ros-jazzy-ament-flake8',\n",
       "   'count': 12926,\n",
       "   'date': '2024'},\n",
       "  {'package': 'sqlite3-vendor',\n",
       "   'distro': 'jazzy',\n",
       "   'name': 'ros-jazzy-sqlite3-vendor',\n",
       "   'count': 12851,\n",
       "   'date': '2024'},\n",
       "  {'package': 'shape-msgs',\n",
       "   'distro': 'jazzy',\n",
       "   'name': 'ros-jazzy-shape-msgs',\n",
       "   'count': 12841,\n",
       "   'date': '2024'},\n",
       "  {'package': 'move-base',\n",
       "   'distro': 'noetic',\n",
       "   'name': 'ros-noetic-move-base',\n",
       "   'count': 12820,\n",
       "   'date': '2024'},\n",
       "  {'package': 'moveit-planners-ompl',\n",
       "   'distro': 'noetic',\n",
       "   'name': 'ros-noetic-moveit-planners-ompl',\n",
       "   'count': 12815,\n",
       "   'date': '2024'},\n",
       "  {'package': 'object-recognition-msgs',\n",
       "   'distro': 'humble',\n",
       "   'name': 'ros-humble-object-recognition-msgs',\n",
       "   'count': 12773,\n",
       "   'date': '2024'},\n",
       "  {'package': 'moveit-simple-controller-manager',\n",
       "   'distro': 'noetic',\n",
       "   'name': 'ros-noetic-moveit-simple-controller-manager',\n",
       "   'count': 12745,\n",
       "   'date': '2024'},\n",
       "  {'package': 'ament-cmake-python',\n",
       "   'distro': 'jazzy',\n",
       "   'name': 'ros-jazzy-ament-cmake-python',\n",
       "   'count': 12721,\n",
       "   'date': '2024'},\n",
       "  {'package': 'ament-cmake-export-targets',\n",
       "   'distro': 'jazzy',\n",
       "   'name': 'ros-jazzy-ament-cmake-export-targets',\n",
       "   'count': 12716,\n",
       "   'date': '2024'},\n",
       "  {'package': 'ament-cmake-gen-version-h',\n",
       "   'distro': 'jazzy',\n",
       "   'name': 'ros-jazzy-ament-cmake-gen-version-h',\n",
       "   'count': 12715,\n",
       "   'date': '2024'},\n",
       "  {'package': 'ament-cmake-test',\n",
       "   'distro': 'jazzy',\n",
       "   'name': 'ros-jazzy-ament-cmake-test',\n",
       "   'count': 12708,\n",
       "   'date': '2024'},\n",
       "  {'package': 'ament-cmake-include-directories',\n",
       "   'distro': 'jazzy',\n",
       "   'name': 'ros-jazzy-ament-cmake-include-directories',\n",
       "   'count': 12703,\n",
       "   'date': '2024'},\n",
       "  {'package': 'ament-cmake',\n",
       "   'distro': 'jazzy',\n",
       "   'name': 'ros-jazzy-ament-cmake',\n",
       "   'count': 12700,\n",
       "   'date': '2024'},\n",
       "  {'package': 'ament-cmake-target-dependencies',\n",
       "   'distro': 'jazzy',\n",
       "   'name': 'ros-jazzy-ament-cmake-target-dependencies',\n",
       "   'count': 12698,\n",
       "   'date': '2024'},\n",
       "  {'package': 'common-interfaces',\n",
       "   'distro': 'jazzy',\n",
       "   'name': 'ros-jazzy-common-interfaces',\n",
       "   'count': 12697,\n",
       "   'date': '2024'},\n",
       "  {'package': 'stereo-msgs',\n",
       "   'distro': 'jazzy',\n",
       "   'name': 'ros-jazzy-stereo-msgs',\n",
       "   'count': 12680,\n",
       "   'date': '2024'},\n",
       "  {'package': 'ament-cmake-cppcheck',\n",
       "   'distro': 'jazzy',\n",
       "   'name': 'ros-jazzy-ament-cmake-cppcheck',\n",
       "   'count': 12643,\n",
       "   'date': '2024'},\n",
       "  {'package': 'rqt-robot-monitor',\n",
       "   'distro': 'humble',\n",
       "   'name': 'ros-humble-rqt-robot-monitor',\n",
       "   'count': 12641,\n",
       "   'date': '2024'},\n",
       "  {'package': 'ament-cppcheck',\n",
       "   'distro': 'jazzy',\n",
       "   'name': 'ros-jazzy-ament-cppcheck',\n",
       "   'count': 12636,\n",
       "   'date': '2024'},\n",
       "  {'package': 'ament-cmake-pep257',\n",
       "   'distro': 'jazzy',\n",
       "   'name': 'ros-jazzy-ament-cmake-pep257',\n",
       "   'count': 12636,\n",
       "   'date': '2024'},\n",
       "  {'package': 'ament-cmake-flake8',\n",
       "   'distro': 'jazzy',\n",
       "   'name': 'ros-jazzy-ament-cmake-flake8',\n",
       "   'count': 12635,\n",
       "   'date': '2024'},\n",
       "  {'package': 'ament-uncrustify',\n",
       "   'distro': 'jazzy',\n",
       "   'name': 'ros-jazzy-ament-uncrustify',\n",
       "   'count': 12634,\n",
       "   'date': '2024'},\n",
       "  {'package': 'moveit-planners-ompl',\n",
       "   'distro': 'humble',\n",
       "   'name': 'ros-humble-moveit-planners-ompl',\n",
       "   'count': 12630,\n",
       "   'date': '2024'},\n",
       "  {'package': 'ament-cmake-uncrustify',\n",
       "   'distro': 'jazzy',\n",
       "   'name': 'ros-jazzy-ament-cmake-uncrustify',\n",
       "   'count': 12624,\n",
       "   'date': '2024'},\n",
       "  {'package': 'octomap',\n",
       "   'distro': 'noetic',\n",
       "   'name': 'ros-noetic-octomap',\n",
       "   'count': 12623,\n",
       "   'date': '2024'},\n",
       "  {'package': 'ament-cmake-gmock',\n",
       "   'distro': 'jazzy',\n",
       "   'name': 'ros-jazzy-ament-cmake-gmock',\n",
       "   'count': 12622,\n",
       "   'date': '2024'},\n",
       "  {'package': 'uncrustify-vendor',\n",
       "   'distro': 'jazzy',\n",
       "   'name': 'ros-jazzy-uncrustify-vendor',\n",
       "   'count': 12621,\n",
       "   'date': '2024'},\n",
       "  {'package': 'ament-cmake-cpplint',\n",
       "   'distro': 'jazzy',\n",
       "   'name': 'ros-jazzy-ament-cmake-cpplint',\n",
       "   'count': 12621,\n",
       "   'date': '2024'},\n",
       "  {'package': 'vision-msgs',\n",
       "   'distro': 'noetic',\n",
       "   'name': 'ros-noetic-vision-msgs',\n",
       "   'count': 12620,\n",
       "   'date': '2024'},\n",
       "  {'package': 'ament-cpplint',\n",
       "   'distro': 'jazzy',\n",
       "   'name': 'ros-jazzy-ament-cpplint',\n",
       "   'count': 12617,\n",
       "   'date': '2024'},\n",
       "  {'package': 'ament-cmake-gtest',\n",
       "   'distro': 'jazzy',\n",
       "   'name': 'ros-jazzy-ament-cmake-gtest',\n",
       "   'count': 12615,\n",
       "   'date': '2024'},\n",
       "  {'package': 'ament-cmake-pytest',\n",
       "   'distro': 'jazzy',\n",
       "   'name': 'ros-jazzy-ament-cmake-pytest',\n",
       "   'count': 12610,\n",
       "   'date': '2024'},\n",
       "  {'package': 'gmock-vendor',\n",
       "   'distro': 'jazzy',\n",
       "   'name': 'ros-jazzy-gmock-vendor',\n",
       "   'count': 12608,\n",
       "   'date': '2024'},\n",
       "  {'package': 'actionlib-msgs',\n",
       "   'distro': 'jazzy',\n",
       "   'name': 'ros-jazzy-actionlib-msgs',\n",
       "   'count': 12605,\n",
       "   'date': '2024'},\n",
       "  {'package': 'gtest-vendor',\n",
       "   'distro': 'jazzy',\n",
       "   'name': 'ros-jazzy-gtest-vendor',\n",
       "   'count': 12603,\n",
       "   'date': '2024'},\n",
       "  {'package': 'ament-cmake-export-link-flags',\n",
       "   'distro': 'jazzy',\n",
       "   'name': 'ros-jazzy-ament-cmake-export-link-flags',\n",
       "   'count': 12602,\n",
       "   'date': '2024'},\n",
       "  {'package': 'domain-coordinator',\n",
       "   'distro': 'jazzy',\n",
       "   'name': 'ros-jazzy-domain-coordinator',\n",
       "   'count': 12589,\n",
       "   'date': '2024'},\n",
       "  {'package': 'ament-cmake-export-interfaces',\n",
       "   'distro': 'jazzy',\n",
       "   'name': 'ros-jazzy-ament-cmake-export-interfaces',\n",
       "   'count': 12582,\n",
       "   'date': '2024'},\n",
       "  {'package': 'ament-cmake-core',\n",
       "   'distro': 'jazzy',\n",
       "   'name': 'ros-jazzy-ament-cmake-core',\n",
       "   'count': 12581,\n",
       "   'date': '2024'},\n",
       "  {'package': 'fastrtps-cmake-module',\n",
       "   'distro': 'jazzy',\n",
       "   'name': 'ros-jazzy-fastrtps-cmake-module',\n",
       "   'count': 12580,\n",
       "   'date': '2024'},\n",
       "  {'package': 'ament-cmake-libraries',\n",
       "   'distro': 'jazzy',\n",
       "   'name': 'ros-jazzy-ament-cmake-libraries',\n",
       "   'count': 12578,\n",
       "   'date': '2024'},\n",
       "  {'package': 'rpyutils',\n",
       "   'distro': 'jazzy',\n",
       "   'name': 'ros-jazzy-rpyutils',\n",
       "   'count': 12576,\n",
       "   'date': '2024'},\n",
       "  {'package': 'ament-cmake-export-libraries',\n",
       "   'distro': 'jazzy',\n",
       "   'name': 'ros-jazzy-ament-cmake-export-libraries',\n",
       "   'count': 12575,\n",
       "   'date': '2024'},\n",
       "  {'package': 'ament-cmake-export-dependencies',\n",
       "   'distro': 'jazzy',\n",
       "   'name': 'ros-jazzy-ament-cmake-export-dependencies',\n",
       "   'count': 12570,\n",
       "   'date': '2024'},\n",
       "  {'package': 'warehouse-ros',\n",
       "   'distro': 'humble',\n",
       "   'name': 'ros-humble-warehouse-ros',\n",
       "   'count': 12569,\n",
       "   'date': '2024'},\n",
       "  {'package': 'ament-cmake-export-include-directories',\n",
       "   'distro': 'jazzy',\n",
       "   'name': 'ros-jazzy-ament-cmake-export-include-directories',\n",
       "   'count': 12568,\n",
       "   'date': '2024'},\n",
       "  {'package': 'ament-cmake-version',\n",
       "   'distro': 'jazzy',\n",
       "   'name': 'ros-jazzy-ament-cmake-version',\n",
       "   'count': 12568,\n",
       "   'date': '2024'},\n",
       "  {'package': 'ament-cmake-ros',\n",
       "   'distro': 'jazzy',\n",
       "   'name': 'ros-jazzy-ament-cmake-ros',\n",
       "   'count': 12564,\n",
       "   'date': '2024'},\n",
       "  {'package': 'ament-cmake-export-definitions',\n",
       "   'distro': 'jazzy',\n",
       "   'name': 'ros-jazzy-ament-cmake-export-definitions',\n",
       "   'count': 12561,\n",
       "   'date': '2024'},\n",
       "  {'package': 'python-cmake-module',\n",
       "   'distro': 'jazzy',\n",
       "   'name': 'ros-jazzy-python-cmake-module',\n",
       "   'count': 12552,\n",
       "   'date': '2024'},\n",
       "  {'package': 'ament-package',\n",
       "   'distro': 'jazzy',\n",
       "   'name': 'ros-jazzy-ament-package',\n",
       "   'count': 12516,\n",
       "   'date': '2024'},\n",
       "  {'package': 'moveit-ros-robot-interaction',\n",
       "   'distro': 'noetic',\n",
       "   'name': 'ros-noetic-moveit-ros-robot-interaction',\n",
       "   'count': 12504,\n",
       "   'date': '2024'},\n",
       "  {'package': 'joy',\n",
       "   'distro': 'jazzy',\n",
       "   'name': 'ros-jazzy-joy',\n",
       "   'count': 12497,\n",
       "   'date': '2024'},\n",
       "  {'package': 'warehouse-ros',\n",
       "   'distro': 'noetic',\n",
       "   'name': 'ros-noetic-warehouse-ros',\n",
       "   'count': 12495,\n",
       "   'date': '2024'},\n",
       "  {'package': 'gazebo-ros2-control',\n",
       "   'distro': 'humble',\n",
       "   'name': 'ros-humble-gazebo-ros2-control',\n",
       "   'count': 12491,\n",
       "   'date': '2024'},\n",
       "  {'package': 'moveit-simple-controller-manager',\n",
       "   'distro': 'humble',\n",
       "   'name': 'ros-humble-moveit-simple-controller-manager',\n",
       "   'count': 12485,\n",
       "   'date': '2024'},\n",
       "  {'package': 'moveit-ros-visualization',\n",
       "   'distro': 'noetic',\n",
       "   'name': 'ros-noetic-moveit-ros-visualization',\n",
       "   'count': 12464,\n",
       "   'date': '2024'},\n",
       "  {'package': 'ament-index-cpp',\n",
       "   'distro': 'jazzy',\n",
       "   'name': 'ros-jazzy-ament-index-cpp',\n",
       "   'count': 12462,\n",
       "   'date': '2024'},\n",
       "  {'package': 'ros2launch',\n",
       "   'distro': 'jazzy',\n",
       "   'name': 'ros-jazzy-ros2launch',\n",
       "   'count': 12434,\n",
       "   'date': '2024'},\n",
       "  {'package': 'urdfdom-py',\n",
       "   'distro': 'humble',\n",
       "   'name': 'ros-humble-urdfdom-py',\n",
       "   'count': 12429,\n",
       "   'date': '2024'},\n",
       "  {'package': 'moveit-ros-visualization',\n",
       "   'distro': 'humble',\n",
       "   'name': 'ros-humble-moveit-ros-visualization',\n",
       "   'count': 12426,\n",
       "   'date': '2024'},\n",
       "  {'package': 'libcurl-vendor',\n",
       "   'distro': 'jazzy',\n",
       "   'name': 'ros-jazzy-libcurl-vendor',\n",
       "   'count': 12365,\n",
       "   'date': '2024'},\n",
       "  {'package': 'resource-retriever',\n",
       "   'distro': 'jazzy',\n",
       "   'name': 'ros-jazzy-resource-retriever',\n",
       "   'count': 12358,\n",
       "   'date': '2024'},\n",
       "  {'package': 'moveit-msgs',\n",
       "   'distro': 'humble',\n",
       "   'name': 'ros-humble-moveit-msgs',\n",
       "   'count': 12315,\n",
       "   'date': '2024'},\n",
       "  {'package': 'moveit-ros-robot-interaction',\n",
       "   'distro': 'humble',\n",
       "   'name': 'ros-humble-moveit-ros-robot-interaction',\n",
       "   'count': 12304,\n",
       "   'date': '2024'},\n",
       "  {'package': 'shared-queues-vendor',\n",
       "   'distro': 'jazzy',\n",
       "   'name': 'ros-jazzy-shared-queues-vendor',\n",
       "   'count': 12302,\n",
       "   'date': '2024'},\n",
       "  {'package': 'ros-environment',\n",
       "   'distro': 'jazzy',\n",
       "   'name': 'ros-jazzy-ros-environment',\n",
       "   'count': 12278,\n",
       "   'date': '2024'},\n",
       "  {'package': 'gz-math-vendor',\n",
       "   'distro': 'jazzy',\n",
       "   'name': 'ros-jazzy-gz-math-vendor',\n",
       "   'count': 12277,\n",
       "   'date': '2024'},\n",
       "  {'package': 'moveit-fake-controller-manager',\n",
       "   'distro': 'noetic',\n",
       "   'name': 'ros-noetic-moveit-fake-controller-manager',\n",
       "   'count': 12268,\n",
       "   'date': '2024'},\n",
       "  {'package': 'example-interfaces',\n",
       "   'distro': 'jazzy',\n",
       "   'name': 'ros-jazzy-example-interfaces',\n",
       "   'count': 12265,\n",
       "   'date': '2024'},\n",
       "  {'package': 'libyaml-vendor',\n",
       "   'distro': 'jazzy',\n",
       "   'name': 'ros-jazzy-libyaml-vendor',\n",
       "   'count': 12262,\n",
       "   'date': '2024'},\n",
       "  {'package': 'effort-controllers',\n",
       "   'distro': 'noetic',\n",
       "   'name': 'ros-noetic-effort-controllers',\n",
       "   'count': 12239,\n",
       "   'date': '2024'},\n",
       "  {'package': 'pybind11-catkin',\n",
       "   'distro': 'noetic',\n",
       "   'name': 'ros-noetic-pybind11-catkin',\n",
       "   'count': 12236,\n",
       "   'date': '2024'},\n",
       "  {'package': 'rqt-topic',\n",
       "   'distro': 'jazzy',\n",
       "   'name': 'ros-jazzy-rqt-topic',\n",
       "   'count': 12210,\n",
       "   'date': '2024'},\n",
       "  {'package': 'gz-cmake-vendor',\n",
       "   'distro': 'jazzy',\n",
       "   'name': 'ros-jazzy-gz-cmake-vendor',\n",
       "   'count': 12208,\n",
       "   'date': '2024'},\n",
       "  {'package': 'gz-utils-vendor',\n",
       "   'distro': 'jazzy',\n",
       "   'name': 'ros-jazzy-gz-utils-vendor',\n",
       "   'count': 12205,\n",
       "   'date': '2024'},\n",
       "  {'package': 'spdlog-vendor',\n",
       "   'distro': 'jazzy',\n",
       "   'name': 'ros-jazzy-spdlog-vendor',\n",
       "   'count': 12202,\n",
       "   'date': '2024'},\n",
       "  {'package': 'ros2topic',\n",
       "   'distro': 'jazzy',\n",
       "   'name': 'ros-jazzy-ros2topic',\n",
       "   'count': 12190,\n",
       "   'date': '2024'},\n",
       "  {'package': 'moveit-configs-utils',\n",
       "   'distro': 'humble',\n",
       "   'name': 'ros-humble-moveit-configs-utils',\n",
       "   'count': 12147,\n",
       "   'date': '2024'},\n",
       "  {'package': 'ament-lint',\n",
       "   'distro': 'rolling',\n",
       "   'name': 'ros-rolling-ament-lint',\n",
       "   'count': 12145,\n",
       "   'date': '2024'},\n",
       "  {'package': 'amcl',\n",
       "   'distro': 'noetic',\n",
       "   'name': 'ros-noetic-amcl',\n",
       "   'count': 12143,\n",
       "   'date': '2024'},\n",
       "  {'package': 'rosbag2-cpp',\n",
       "   'distro': 'jazzy',\n",
       "   'name': 'ros-jazzy-rosbag2-cpp',\n",
       "   'count': 12128,\n",
       "   'date': '2024'},\n",
       "  {'package': 'rmw-implementation-cmake',\n",
       "   'distro': 'jazzy',\n",
       "   'name': 'ros-jazzy-rmw-implementation-cmake',\n",
       "   'count': 12125,\n",
       "   'date': '2024'},\n",
       "  {'package': 'rosbag2-storage',\n",
       "   'distro': 'jazzy',\n",
       "   'name': 'ros-jazzy-rosbag2-storage',\n",
       "   'count': 12118,\n",
       "   'date': '2024'},\n",
       "  {'package': 'steering-controllers-library',\n",
       "   'distro': 'humble',\n",
       "   'name': 'ros-humble-steering-controllers-library',\n",
       "   'count': 12104,\n",
       "   'date': '2024'},\n",
       "  {'package': 'rosbag2-py',\n",
       "   'distro': 'jazzy',\n",
       "   'name': 'ros-jazzy-rosbag2-py',\n",
       "   'count': 12104,\n",
       "   'date': '2024'},\n",
       "  {'package': 'python-qt-binding',\n",
       "   'distro': 'jazzy',\n",
       "   'name': 'ros-jazzy-python-qt-binding',\n",
       "   'count': 12080,\n",
       "   'date': '2024'},\n",
       "  {'package': 'random-numbers',\n",
       "   'distro': 'humble',\n",
       "   'name': 'ros-humble-random-numbers',\n",
       "   'count': 12074,\n",
       "   'date': '2024'},\n",
       "  {'package': 'rosbag2-interfaces',\n",
       "   'distro': 'jazzy',\n",
       "   'name': 'ros-jazzy-rosbag2-interfaces',\n",
       "   'count': 12058,\n",
       "   'date': '2024'},\n",
       "  {'package': 'ruckig',\n",
       "   'distro': 'humble',\n",
       "   'name': 'ros-humble-ruckig',\n",
       "   'count': 12049,\n",
       "   'date': '2024'},\n",
       "  {'package': 'mcap-vendor',\n",
       "   'distro': 'jazzy',\n",
       "   'name': 'ros-jazzy-mcap-vendor',\n",
       "   'count': 12045,\n",
       "   'date': '2024'},\n",
       "  {'package': 'geometric-shapes',\n",
       "   'distro': 'humble',\n",
       "   'name': 'ros-humble-geometric-shapes',\n",
       "   'count': 12040,\n",
       "   'date': '2024'},\n",
       "  {'package': 'zstd-vendor',\n",
       "   'distro': 'jazzy',\n",
       "   'name': 'ros-jazzy-zstd-vendor',\n",
       "   'count': 12029,\n",
       "   'date': '2024'},\n",
       "  {'package': 'liblz4-vendor',\n",
       "   'distro': 'jazzy',\n",
       "   'name': 'ros-jazzy-liblz4-vendor',\n",
       "   'count': 12028,\n",
       "   'date': '2024'},\n",
       "  {'package': 'rosbag2-transport',\n",
       "   'distro': 'jazzy',\n",
       "   'name': 'ros-jazzy-rosbag2-transport',\n",
       "   'count': 12024,\n",
       "   'date': '2024'},\n",
       "  {'package': 'rosbag2-compression',\n",
       "   'distro': 'jazzy',\n",
       "   'name': 'ros-jazzy-rosbag2-compression',\n",
       "   'count': 12011,\n",
       "   'date': '2024'},\n",
       "  {'package': 'foonathan-memory-vendor',\n",
       "   'distro': 'jazzy',\n",
       "   'name': 'ros-jazzy-foonathan-memory-vendor',\n",
       "   'count': 12008,\n",
       "   'date': '2024'},\n",
       "  {'package': 'tf2-sensor-msgs',\n",
       "   'distro': 'jazzy',\n",
       "   'name': 'ros-jazzy-tf2-sensor-msgs',\n",
       "   'count': 11999,\n",
       "   'date': '2024'},\n",
       "  {'package': 'ament-flake8',\n",
       "   'distro': 'rolling',\n",
       "   'name': 'ros-rolling-ament-flake8',\n",
       "   'count': 11994,\n",
       "   'date': '2024'},\n",
       "  {'package': 'geometric-shapes',\n",
       "   'distro': 'noetic',\n",
       "   'name': 'ros-noetic-geometric-shapes',\n",
       "   'count': 11991,\n",
       "   'date': '2024'},\n",
       "  {'package': 'rosbridge-library',\n",
       "   'distro': 'humble',\n",
       "   'name': 'ros-humble-rosbridge-library',\n",
       "   'count': 11989,\n",
       "   'date': '2024'},\n",
       "  {'package': 'ament-copyright',\n",
       "   'distro': 'jazzy',\n",
       "   'name': 'ros-jazzy-ament-copyright',\n",
       "   'count': 11910,\n",
       "   'date': '2024'},\n",
       "  {'package': 'ros-core',\n",
       "   'distro': 'jazzy',\n",
       "   'name': 'ros-jazzy-ros-core',\n",
       "   'count': 11910,\n",
       "   'date': '2024'},\n",
       "  {'package': 'rosbag2-storage-sqlite3',\n",
       "   'distro': 'jazzy',\n",
       "   'name': 'ros-jazzy-rosbag2-storage-sqlite3',\n",
       "   'count': 11898,\n",
       "   'date': '2024'},\n",
       "  {'package': 'ros2bag',\n",
       "   'distro': 'jazzy',\n",
       "   'name': 'ros-jazzy-ros2bag',\n",
       "   'count': 11878,\n",
       "   'date': '2024'},\n",
       "  {'package': 'rosbag2-compression-zstd',\n",
       "   'distro': 'jazzy',\n",
       "   'name': 'ros-jazzy-rosbag2-compression-zstd',\n",
       "   'count': 11838,\n",
       "   'date': '2024'},\n",
       "  {'package': 'console-bridge-vendor',\n",
       "   'distro': 'jazzy',\n",
       "   'name': 'ros-jazzy-console-bridge-vendor',\n",
       "   'count': 11830,\n",
       "   'date': '2024'},\n",
       "  {'package': 'ros2component',\n",
       "   'distro': 'jazzy',\n",
       "   'name': 'ros-jazzy-ros2component',\n",
       "   'count': 11829,\n",
       "   'date': '2024'},\n",
       "  {'package': 'rqt-py-common',\n",
       "   'distro': 'jazzy',\n",
       "   'name': 'ros-jazzy-rqt-py-common',\n",
       "   'count': 11828,\n",
       "   'date': '2024'},\n",
       "  {'package': 'rosbag2',\n",
       "   'distro': 'jazzy',\n",
       "   'name': 'ros-jazzy-rosbag2',\n",
       "   'count': 11827,\n",
       "   'date': '2024'},\n",
       "  {'package': 'rosbag2-storage-mcap',\n",
       "   'distro': 'jazzy',\n",
       "   'name': 'ros-jazzy-rosbag2-storage-mcap',\n",
       "   'count': 11826,\n",
       "   'date': '2024'},\n",
       "  {'package': 'ros2lifecycle',\n",
       "   'distro': 'jazzy',\n",
       "   'name': 'ros-jazzy-ros2lifecycle',\n",
       "   'count': 11826,\n",
       "   'date': '2024'},\n",
       "  {'package': 'ros2action',\n",
       "   'distro': 'jazzy',\n",
       "   'name': 'ros-jazzy-ros2action',\n",
       "   'count': 11824,\n",
       "   'date': '2024'},\n",
       "  {'package': 'ros2doctor',\n",
       "   'distro': 'jazzy',\n",
       "   'name': 'ros-jazzy-ros2doctor',\n",
       "   'count': 11823,\n",
       "   'date': '2024'},\n",
       "  {'package': 'rosbridge-server',\n",
       "   'distro': 'humble',\n",
       "   'name': 'ros-humble-rosbridge-server',\n",
       "   'count': 11821,\n",
       "   'date': '2024'},\n",
       "  {'package': 'ros2cli-common-extensions',\n",
       "   'distro': 'jazzy',\n",
       "   'name': 'ros-jazzy-ros2cli-common-extensions',\n",
       "   'count': 11806,\n",
       "   'date': '2024'},\n",
       "  {'package': 'ros2interface',\n",
       "   'distro': 'jazzy',\n",
       "   'name': 'ros-jazzy-ros2interface',\n",
       "   'count': 11800,\n",
       "   'date': '2024'},\n",
       "  {'package': 'tf2-tools',\n",
       "   'distro': 'jazzy',\n",
       "   'name': 'ros-jazzy-tf2-tools',\n",
       "   'count': 11799,\n",
       "   'date': '2024'},\n",
       "  {'package': 'ros2multicast',\n",
       "   'distro': 'jazzy',\n",
       "   'name': 'ros-jazzy-ros2multicast',\n",
       "   'count': 11798,\n",
       "   'date': '2024'},\n",
       "  {'package': 'rosapi',\n",
       "   'distro': 'humble',\n",
       "   'name': 'ros-humble-rosapi',\n",
       "   'count': 11797,\n",
       "   'date': '2024'},\n",
       "  {'package': 'sros2',\n",
       "   'distro': 'jazzy',\n",
       "   'name': 'ros-jazzy-sros2',\n",
       "   'count': 11792,\n",
       "   'date': '2024'},\n",
       "  {'package': 'sros2-cmake',\n",
       "   'distro': 'jazzy',\n",
       "   'name': 'ros-jazzy-sros2-cmake',\n",
       "   'count': 11784,\n",
       "   'date': '2024'},\n",
       "  {'package': 'geometry2',\n",
       "   'distro': 'jazzy',\n",
       "   'name': 'ros-jazzy-geometry2',\n",
       "   'count': 11771,\n",
       "   'date': '2024'},\n",
       "  {'package': 'pcl-msgs',\n",
       "   'distro': 'jazzy',\n",
       "   'name': 'ros-jazzy-pcl-msgs',\n",
       "   'count': 11766,\n",
       "   'date': '2024'},\n",
       "  {'package': 'pcl-conversions',\n",
       "   'distro': 'jazzy',\n",
       "   'name': 'ros-jazzy-pcl-conversions',\n",
       "   'count': 11756,\n",
       "   'date': '2024'},\n",
       "  {'package': 'rosbag2-storage-default-plugins',\n",
       "   'distro': 'jazzy',\n",
       "   'name': 'ros-jazzy-rosbag2-storage-default-plugins',\n",
       "   'count': 11749,\n",
       "   'date': '2024'},\n",
       "  {'package': 'tf2-bullet',\n",
       "   'distro': 'jazzy',\n",
       "   'name': 'ros-jazzy-tf2-bullet',\n",
       "   'count': 11698,\n",
       "   'date': '2024'},\n",
       "  {'package': 'move-base-msgs',\n",
       "   'distro': 'noetic',\n",
       "   'name': 'ros-noetic-move-base-msgs',\n",
       "   'count': 11667,\n",
       "   'date': '2024'},\n",
       "  {'package': 'qt-gui-cpp',\n",
       "   'distro': 'jazzy',\n",
       "   'name': 'ros-jazzy-qt-gui-cpp',\n",
       "   'count': 11662,\n",
       "   'date': '2024'},\n",
       "  {'package': 'random-numbers',\n",
       "   'distro': 'noetic',\n",
       "   'name': 'ros-noetic-random-numbers',\n",
       "   'count': 11658,\n",
       "   'date': '2024'},\n",
       "  {'package': 'ros-base',\n",
       "   'distro': 'jazzy',\n",
       "   'name': 'ros-jazzy-ros-base',\n",
       "   'count': 11657,\n",
       "   'date': '2024'},\n",
       "  {'package': 'rqt-gui-cpp',\n",
       "   'distro': 'jazzy',\n",
       "   'name': 'ros-jazzy-rqt-gui-cpp',\n",
       "   'count': 11640,\n",
       "   'date': '2024'},\n",
       "  {'package': 'tricycle-steering-controller',\n",
       "   'distro': 'humble',\n",
       "   'name': 'ros-humble-tricycle-steering-controller',\n",
       "   'count': 11632,\n",
       "   'date': '2024'},\n",
       "  {'package': 'ament-lint-cmake',\n",
       "   'distro': 'jazzy',\n",
       "   'name': 'ros-jazzy-ament-lint-cmake',\n",
       "   'count': 11630,\n",
       "   'date': '2024'},\n",
       "  {'package': 'gripper-controllers',\n",
       "   'distro': 'humble',\n",
       "   'name': 'ros-humble-gripper-controllers',\n",
       "   'count': 11580,\n",
       "   'date': '2024'},\n",
       "  {'package': 'rqt-common-plugins',\n",
       "   'distro': 'jazzy',\n",
       "   'name': 'ros-jazzy-rqt-common-plugins',\n",
       "   'count': 11569,\n",
       "   'date': '2024'},\n",
       "  {'package': 'rqt-plot',\n",
       "   'distro': 'jazzy',\n",
       "   'name': 'ros-jazzy-rqt-plot',\n",
       "   'count': 11569,\n",
       "   'date': '2024'},\n",
       "  {'package': 'rqt-image-view',\n",
       "   'distro': 'jazzy',\n",
       "   'name': 'ros-jazzy-rqt-image-view',\n",
       "   'count': 11551,\n",
       "   'date': '2024'},\n",
       "  {'package': 'rqt-srv',\n",
       "   'distro': 'jazzy',\n",
       "   'name': 'ros-jazzy-rqt-srv',\n",
       "   'count': 11529,\n",
       "   'date': '2024'},\n",
       "  {'package': 'ackermann-steering-controller',\n",
       "   'distro': 'humble',\n",
       "   'name': 'ros-humble-ackermann-steering-controller',\n",
       "   'count': 11487,\n",
       "   'date': '2024'},\n",
       "  {'package': 'rosbridge-msgs',\n",
       "   'distro': 'humble',\n",
       "   'name': 'ros-humble-rosbridge-msgs',\n",
       "   'count': 11466,\n",
       "   'date': '2024'},\n",
       "  {'package': 'moveit-setup-assistant',\n",
       "   'distro': 'noetic',\n",
       "   'name': 'ros-noetic-moveit-setup-assistant',\n",
       "   'count': 11391,\n",
       "   'date': '2024'},\n",
       "  {'package': 'rosapi-msgs',\n",
       "   'distro': 'humble',\n",
       "   'name': 'ros-humble-rosapi-msgs',\n",
       "   'count': 11390,\n",
       "   'date': '2024'},\n",
       "  {'package': 'rqt-service-caller',\n",
       "   'distro': 'jazzy',\n",
       "   'name': 'ros-jazzy-rqt-service-caller',\n",
       "   'count': 11383,\n",
       "   'date': '2024'},\n",
       "  {'package': 'ros2-controllers',\n",
       "   'distro': 'humble',\n",
       "   'name': 'ros-humble-ros2-controllers',\n",
       "   'count': 11380,\n",
       "   'date': '2024'},\n",
       "  {'package': 'angles',\n",
       "   'distro': 'jazzy',\n",
       "   'name': 'ros-jazzy-angles',\n",
       "   'count': 11370,\n",
       "   'date': '2024'},\n",
       "  {'package': 'bicycle-steering-controller',\n",
       "   'distro': 'humble',\n",
       "   'name': 'ros-humble-bicycle-steering-controller',\n",
       "   'count': 11348,\n",
       "   'date': '2024'},\n",
       "  {'package': 'ament-cmake-lint-cmake',\n",
       "   'distro': 'jazzy',\n",
       "   'name': 'ros-jazzy-ament-cmake-lint-cmake',\n",
       "   'count': 11334,\n",
       "   'date': '2024'},\n",
       "  {'package': 'rqt-reconfigure',\n",
       "   'distro': 'jazzy',\n",
       "   'name': 'ros-jazzy-rqt-reconfigure',\n",
       "   'count': 11314,\n",
       "   'date': '2024'},\n",
       "  {'package': 'rqt-graph',\n",
       "   'distro': 'jazzy',\n",
       "   'name': 'ros-jazzy-rqt-graph',\n",
       "   'count': 11310,\n",
       "   'date': '2024'},\n",
       "  {'package': 'rqt-console',\n",
       "   'distro': 'jazzy',\n",
       "   'name': 'ros-jazzy-rqt-console',\n",
       "   'count': 11308,\n",
       "   'date': '2024'},\n",
       "  {'package': 'tinyxml2-vendor',\n",
       "   'distro': 'jazzy',\n",
       "   'name': 'ros-jazzy-tinyxml2-vendor',\n",
       "   'count': 11294,\n",
       "   'date': '2024'},\n",
       "  {'package': 'moveit-common',\n",
       "   'distro': 'humble',\n",
       "   'name': 'ros-humble-moveit-common',\n",
       "   'count': 11266,\n",
       "   'date': '2024'},\n",
       "  {'package': 'ament-xmllint',\n",
       "   'distro': 'jazzy',\n",
       "   'name': 'ros-jazzy-ament-xmllint',\n",
       "   'count': 11263,\n",
       "   'date': '2024'},\n",
       "  {'package': 'ament-cmake-xmllint',\n",
       "   'distro': 'jazzy',\n",
       "   'name': 'ros-jazzy-ament-cmake-xmllint',\n",
       "   'count': 11252,\n",
       "   'date': '2024'},\n",
       "  {'package': 'rqt-bag',\n",
       "   'distro': 'jazzy',\n",
       "   'name': 'ros-jazzy-rqt-bag',\n",
       "   'count': 11251,\n",
       "   'date': '2024'},\n",
       "  {'package': 'rqt-publisher',\n",
       "   'distro': 'jazzy',\n",
       "   'name': 'ros-jazzy-rqt-publisher',\n",
       "   'count': 11244,\n",
       "   'date': '2024'},\n",
       "  {'package': 'rqt-bag-plugins',\n",
       "   'distro': 'jazzy',\n",
       "   'name': 'ros-jazzy-rqt-bag-plugins',\n",
       "   'count': 11243,\n",
       "   'date': '2024'},\n",
       "  {'package': 'rqt-shell',\n",
       "   'distro': 'jazzy',\n",
       "   'name': 'ros-jazzy-rqt-shell',\n",
       "   'count': 11242,\n",
       "   'date': '2024'},\n",
       "  {'package': 'rqt-py-console',\n",
       "   'distro': 'jazzy',\n",
       "   'name': 'ros-jazzy-rqt-py-console',\n",
       "   'count': 11241,\n",
       "   'date': '2024'},\n",
       "  {'package': 'rqt-msg',\n",
       "   'distro': 'jazzy',\n",
       "   'name': 'ros-jazzy-rqt-msg',\n",
       "   'count': 11239,\n",
       "   'date': '2024'},\n",
       "  {'package': 'launch',\n",
       "   'distro': 'jazzy',\n",
       "   'name': 'ros-jazzy-launch',\n",
       "   'count': 11236,\n",
       "   'date': '2024'},\n",
       "  {'package': 'eigen3-cmake-module',\n",
       "   'distro': 'jazzy',\n",
       "   'name': 'ros-jazzy-eigen3-cmake-module',\n",
       "   'count': 11233,\n",
       "   'date': '2024'},\n",
       "  {'package': 'rqt-action',\n",
       "   'distro': 'jazzy',\n",
       "   'name': 'ros-jazzy-rqt-action',\n",
       "   'count': 11232,\n",
       "   'date': '2024'},\n",
       "  {'package': 'admittance-controller',\n",
       "   'distro': 'humble',\n",
       "   'name': 'ros-humble-admittance-controller',\n",
       "   'count': 11226,\n",
       "   'date': '2024'},\n",
       "  {'package': 'orocos-kdl-vendor',\n",
       "   'distro': 'jazzy',\n",
       "   'name': 'ros-jazzy-orocos-kdl-vendor',\n",
       "   'count': 11226,\n",
       "   'date': '2024'},\n",
       "  {'package': 'osrf-pycommon',\n",
       "   'distro': 'jazzy',\n",
       "   'name': 'ros-jazzy-osrf-pycommon',\n",
       "   'count': 11209,\n",
       "   'date': '2024'},\n",
       "  {'package': 'range-sensor-broadcaster',\n",
       "   'distro': 'humble',\n",
       "   'name': 'ros-humble-range-sensor-broadcaster',\n",
       "   'count': 11178,\n",
       "   'date': '2024'},\n",
       "  {'package': 'ament-cmake-copyright',\n",
       "   'distro': 'jazzy',\n",
       "   'name': 'ros-jazzy-ament-cmake-copyright',\n",
       "   'count': 11178,\n",
       "   'date': '2024'},\n",
       "  {'package': 'ros-gz-image',\n",
       "   'distro': 'humble',\n",
       "   'name': 'ros-humble-ros-gz-image',\n",
       "   'count': 11154,\n",
       "   'date': '2024'},\n",
       "  {'package': 'eigenpy',\n",
       "   'distro': 'noetic',\n",
       "   'name': 'ros-noetic-eigenpy',\n",
       "   'count': 11108,\n",
       "   'date': '2024'},\n",
       "  {'package': 'image-geometry',\n",
       "   'distro': 'jazzy',\n",
       "   'name': 'ros-jazzy-image-geometry',\n",
       "   'count': 11091,\n",
       "   'date': '2024'},\n",
       "  {'package': 'pid-controller',\n",
       "   'distro': 'humble',\n",
       "   'name': 'ros-humble-pid-controller',\n",
       "   'count': 11082,\n",
       "   'date': '2024'},\n",
       "  {'package': 'velocity-controllers',\n",
       "   'distro': 'noetic',\n",
       "   'name': 'ros-noetic-velocity-controllers',\n",
       "   'count': 11036,\n",
       "   'date': '2024'},\n",
       "  {'package': 'ament-lint-auto',\n",
       "   'distro': 'jazzy',\n",
       "   'name': 'ros-jazzy-ament-lint-auto',\n",
       "   'count': 11003,\n",
       "   'date': '2024'},\n",
       "  {'package': 'teleop-twist-joy',\n",
       "   'distro': 'jazzy',\n",
       "   'name': 'ros-jazzy-teleop-twist-joy',\n",
       "   'count': 10964,\n",
       "   'date': '2024'},\n",
       "  {'package': 'demo-nodes-cpp',\n",
       "   'distro': 'jazzy',\n",
       "   'name': 'ros-jazzy-demo-nodes-cpp',\n",
       "   'count': 10937,\n",
       "   'date': '2024'},\n",
       "  {'package': 'ament-lint-common',\n",
       "   'distro': 'jazzy',\n",
       "   'name': 'ros-jazzy-ament-lint-common',\n",
       "   'count': 10937,\n",
       "   'date': '2024'},\n",
       "  {'package': 'launch-yaml',\n",
       "   'distro': 'jazzy',\n",
       "   'name': 'ros-jazzy-launch-yaml',\n",
       "   'count': 10926,\n",
       "   'date': '2024'},\n",
       "  {'package': 'turtlesim',\n",
       "   'distro': 'jazzy',\n",
       "   'name': 'ros-jazzy-turtlesim',\n",
       "   'count': 10882,\n",
       "   'date': '2024'},\n",
       "  {'package': 'launch-param-builder',\n",
       "   'distro': 'humble',\n",
       "   'name': 'ros-humble-launch-param-builder',\n",
       "   'count': 10841,\n",
       "   'date': '2024'},\n",
       "  {'package': 'ament-lint-cmake',\n",
       "   'distro': 'rolling',\n",
       "   'name': 'ros-rolling-ament-lint-cmake',\n",
       "   'count': 10825,\n",
       "   'date': '2024'},\n",
       "  {'package': 'teleop-twist-keyboard',\n",
       "   'distro': 'jazzy',\n",
       "   'name': 'ros-jazzy-teleop-twist-keyboard',\n",
       "   'count': 10770,\n",
       "   'date': '2024'},\n",
       "  {'package': 'ros-gz-sim-demos',\n",
       "   'distro': 'humble',\n",
       "   'name': 'ros-humble-ros-gz-sim-demos',\n",
       "   'count': 10748,\n",
       "   'date': '2024'},\n",
       "  {'package': 'moveit-planners',\n",
       "   'distro': 'humble',\n",
       "   'name': 'ros-humble-moveit-planners',\n",
       "   'count': 10740,\n",
       "   'date': '2024'},\n",
       "  ...],\n",
       " 'distro': [{'name': 'boxturtle', 'prct': 0.0, 'date': '2024'},\n",
       "  {'name': 'cturtle', 'prct': 0.0, 'date': '2024'},\n",
       "  {'name': 'diamondback', 'prct': 0.0, 'date': '2024'},\n",
       "  {'name': 'electric', 'prct': 0.0, 'date': '2024'},\n",
       "  {'name': 'fuerte', 'prct': 0.0, 'date': '2024'},\n",
       "  {'name': 'groovy', 'prct': 0.0, 'date': '2024'},\n",
       "  {'name': 'hydro', 'prct': 0.0, 'date': '2024'},\n",
       "  {'name': 'indigo', 'prct': 0.05, 'date': '2024'},\n",
       "  {'name': 'jade', 'prct': 0.0, 'date': '2024'},\n",
       "  {'name': 'kinetic', 'prct': 0.39, 'date': '2024'},\n",
       "  {'name': 'lunar', 'prct': 0.0, 'date': '2024'},\n",
       "  {'name': 'melodic', 'prct': 2.32, 'date': '2024'},\n",
       "  {'name': 'noetic', 'prct': 22.18, 'date': '2024'},\n",
       "  {'name': 'ardent', 'prct': 0.0, 'date': '2024'},\n",
       "  {'name': 'bouncy', 'prct': 0.0, 'date': '2024'},\n",
       "  {'name': 'crystal', 'prct': 0.0, 'date': '2024'},\n",
       "  {'name': 'dashing', 'prct': 0.11, 'date': '2024'},\n",
       "  {'name': 'eloquent', 'prct': 0.09, 'date': '2024'},\n",
       "  {'name': 'foxy', 'prct': 3.58, 'date': '2024'},\n",
       "  {'name': 'galactic', 'prct': 1.25, 'date': '2024'},\n",
       "  {'name': 'humble', 'prct': 39.38, 'date': '2024'},\n",
       "  {'name': 'iron', 'prct': 5.26, 'date': '2024'},\n",
       "  {'name': 'jazzy', 'prct': 9.36, 'date': '2024'},\n",
       "  {'name': 'rolling', 'prct': 4.9, 'date': '2024'}],\n",
       " 'arch': [{'name': 'i386', 'prct': 0.04, 'date': '2024'},\n",
       "  {'name': 'amd64', 'prct': 80.75, 'date': '2024'},\n",
       "  {'name': 'armhf', 'prct': 0.12, 'date': '2024'},\n",
       "  {'name': 'arm64', 'prct': 11.41, 'date': '2024'},\n",
       "  {'name': 'source', 'prct': 0.0, 'date': '2024'}],\n",
       " 'arch_x_os': [{'name': 'bionic_amd64', 'prct': 1.89, 'date': '2024'},\n",
       "  {'name': 'bionic_arm64', 'prct': 0.6, 'date': '2024'},\n",
       "  {'name': 'bionic_armhf', 'prct': 0.01, 'date': '2024'},\n",
       "  {'name': 'buster_amd64', 'prct': 0.01, 'date': '2024'},\n",
       "  {'name': 'buster_arm64', 'prct': 0.01, 'date': '2024'},\n",
       "  {'name': 'disco_amd64', 'prct': 0.0, 'date': '2024'},\n",
       "  {'name': 'focal_amd64', 'prct': 25.06, 'date': '2024'},\n",
       "  {'name': 'focal_arm64', 'prct': 3.63, 'date': '2024'},\n",
       "  {'name': 'focal_armhf', 'prct': 0.08, 'date': '2024'},\n",
       "  {'name': 'jammy_amd64', 'prct': 41.57, 'date': '2024'},\n",
       "  {'name': 'jammy_arm64', 'prct': 5.91, 'date': '2024'},\n",
       "  {'name': 'jammy_armhf', 'prct': 0.0, 'date': '2024'},\n",
       "  {'name': 'stretch_amd64', 'prct': 0.01, 'date': '2024'},\n",
       "  {'name': 'trusty_amd64', 'prct': 0.04, 'date': '2024'},\n",
       "  {'name': 'trusty_armhf', 'prct': 0.01, 'date': '2024'},\n",
       "  {'name': 'trusty_i386', 'prct': 0.01, 'date': '2024'},\n",
       "  {'name': 'xenial_amd64', 'prct': 0.35, 'date': '2024'},\n",
       "  {'name': 'xenial_arm64', 'prct': 0.01, 'date': '2024'},\n",
       "  {'name': 'xenial_armhf', 'prct': 0.01, 'date': '2024'},\n",
       "  {'name': 'xenial_i386', 'prct': 0.03, 'date': '2024'}],\n",
       " 'stats': [('Number of different packages', ' 26978\\n'),\n",
       "  ('total deb downloads', ' 48943663\\n'),\n",
       "  ('skipped lines', ' 883737\\n'),\n",
       "  ('processed lines', ' 126052\\n'),\n",
       "  ('shadow_fixed lines skipped', ' 28721\\n')]}"
      ]
     },
     "execution_count": 7,
     "metadata": {},
     "output_type": "execute_result"
    }
   ],
   "source": [
    "# print package data\n",
    "print(len(stats_last[\"package\"]))\n",
    "print(len(stats_this[\"package\"]))\n",
    "print(stats_last.keys())\n",
    "print(stats_last[\"arch_x_os\"])\n",
    "stats_this"
   ]
  },
  {
   "cell_type": "code",
   "execution_count": 8,
   "metadata": {},
   "outputs": [],
   "source": [
    "def dumb_find(lst, k, v):\n",
    "    for i, dic in enumerate(lst):\n",
    "        if dic[k] == v:\n",
    "            return lst[i]\n",
    "    return None\n",
    "\n",
    "def join_stats(stats_list,idx=\"prct\"):\n",
    "    # join two lists of data into a single dictionary\n",
    "    joined = []\n",
    "    # LIST SHOULD BE THE NEWEST FIRST!!!\n",
    "    first = stats_list[0]\n",
    "    for entry in first:\n",
    "        new_entry = {}\n",
    "        new_entry[\"name\"] = entry[\"name\"]\n",
    "        new_entry.update(entry)\n",
    "        del new_entry[idx]\n",
    "        del new_entry[\"date\"]\n",
    "        \n",
    "        new_entry[entry[\"date\"]] = entry[idx]\n",
    "        for other in stats_list[1:]:\n",
    "            temp = dumb_find(other,\"name\",entry[\"name\"])\n",
    "            if temp:\n",
    "                new_entry[temp[\"date\"]] = temp[idx]\n",
    "        joined.append(new_entry)\n",
    "    return joined"
   ]
  },
  {
   "cell_type": "code",
   "execution_count": 9,
   "metadata": {},
   "outputs": [
    {
     "data": {
      "text/html": [
       "<div>\n",
       "<style scoped>\n",
       "    .dataframe tbody tr th:only-of-type {\n",
       "        vertical-align: middle;\n",
       "    }\n",
       "\n",
       "    .dataframe tbody tr th {\n",
       "        vertical-align: top;\n",
       "    }\n",
       "\n",
       "    .dataframe thead th {\n",
       "        text-align: right;\n",
       "    }\n",
       "</style>\n",
       "<table border=\"1\" class=\"dataframe\">\n",
       "  <thead>\n",
       "    <tr style=\"text-align: right;\">\n",
       "      <th></th>\n",
       "      <th>name</th>\n",
       "      <th>2024</th>\n",
       "      <th>2023</th>\n",
       "    </tr>\n",
       "  </thead>\n",
       "  <tbody>\n",
       "    <tr>\n",
       "      <th>0</th>\n",
       "      <td>boxturtle</td>\n",
       "      <td>0.00</td>\n",
       "      <td>0.00</td>\n",
       "    </tr>\n",
       "    <tr>\n",
       "      <th>1</th>\n",
       "      <td>cturtle</td>\n",
       "      <td>0.00</td>\n",
       "      <td>0.00</td>\n",
       "    </tr>\n",
       "    <tr>\n",
       "      <th>2</th>\n",
       "      <td>diamondback</td>\n",
       "      <td>0.00</td>\n",
       "      <td>0.00</td>\n",
       "    </tr>\n",
       "    <tr>\n",
       "      <th>3</th>\n",
       "      <td>electric</td>\n",
       "      <td>0.00</td>\n",
       "      <td>0.00</td>\n",
       "    </tr>\n",
       "    <tr>\n",
       "      <th>4</th>\n",
       "      <td>fuerte</td>\n",
       "      <td>0.00</td>\n",
       "      <td>0.00</td>\n",
       "    </tr>\n",
       "    <tr>\n",
       "      <th>5</th>\n",
       "      <td>groovy</td>\n",
       "      <td>0.00</td>\n",
       "      <td>0.00</td>\n",
       "    </tr>\n",
       "    <tr>\n",
       "      <th>6</th>\n",
       "      <td>hydro</td>\n",
       "      <td>0.00</td>\n",
       "      <td>0.00</td>\n",
       "    </tr>\n",
       "    <tr>\n",
       "      <th>7</th>\n",
       "      <td>indigo</td>\n",
       "      <td>0.05</td>\n",
       "      <td>0.24</td>\n",
       "    </tr>\n",
       "    <tr>\n",
       "      <th>8</th>\n",
       "      <td>jade</td>\n",
       "      <td>0.00</td>\n",
       "      <td>0.00</td>\n",
       "    </tr>\n",
       "    <tr>\n",
       "      <th>9</th>\n",
       "      <td>kinetic</td>\n",
       "      <td>0.39</td>\n",
       "      <td>1.14</td>\n",
       "    </tr>\n",
       "    <tr>\n",
       "      <th>10</th>\n",
       "      <td>lunar</td>\n",
       "      <td>0.00</td>\n",
       "      <td>0.04</td>\n",
       "    </tr>\n",
       "    <tr>\n",
       "      <th>11</th>\n",
       "      <td>melodic</td>\n",
       "      <td>2.32</td>\n",
       "      <td>5.66</td>\n",
       "    </tr>\n",
       "    <tr>\n",
       "      <th>12</th>\n",
       "      <td>noetic</td>\n",
       "      <td>22.18</td>\n",
       "      <td>30.51</td>\n",
       "    </tr>\n",
       "    <tr>\n",
       "      <th>13</th>\n",
       "      <td>ardent</td>\n",
       "      <td>0.00</td>\n",
       "      <td>0.00</td>\n",
       "    </tr>\n",
       "    <tr>\n",
       "      <th>14</th>\n",
       "      <td>bouncy</td>\n",
       "      <td>0.00</td>\n",
       "      <td>0.00</td>\n",
       "    </tr>\n",
       "    <tr>\n",
       "      <th>15</th>\n",
       "      <td>crystal</td>\n",
       "      <td>0.00</td>\n",
       "      <td>0.01</td>\n",
       "    </tr>\n",
       "    <tr>\n",
       "      <th>16</th>\n",
       "      <td>dashing</td>\n",
       "      <td>0.11</td>\n",
       "      <td>0.20</td>\n",
       "    </tr>\n",
       "    <tr>\n",
       "      <th>17</th>\n",
       "      <td>eloquent</td>\n",
       "      <td>0.09</td>\n",
       "      <td>0.16</td>\n",
       "    </tr>\n",
       "    <tr>\n",
       "      <th>18</th>\n",
       "      <td>foxy</td>\n",
       "      <td>3.58</td>\n",
       "      <td>6.37</td>\n",
       "    </tr>\n",
       "    <tr>\n",
       "      <th>19</th>\n",
       "      <td>galactic</td>\n",
       "      <td>1.25</td>\n",
       "      <td>2.33</td>\n",
       "    </tr>\n",
       "    <tr>\n",
       "      <th>20</th>\n",
       "      <td>humble</td>\n",
       "      <td>39.38</td>\n",
       "      <td>32.79</td>\n",
       "    </tr>\n",
       "    <tr>\n",
       "      <th>21</th>\n",
       "      <td>iron</td>\n",
       "      <td>5.26</td>\n",
       "      <td>4.97</td>\n",
       "    </tr>\n",
       "    <tr>\n",
       "      <th>22</th>\n",
       "      <td>jazzy</td>\n",
       "      <td>9.36</td>\n",
       "      <td>NaN</td>\n",
       "    </tr>\n",
       "    <tr>\n",
       "      <th>23</th>\n",
       "      <td>rolling</td>\n",
       "      <td>4.90</td>\n",
       "      <td>4.82</td>\n",
       "    </tr>\n",
       "  </tbody>\n",
       "</table>\n",
       "</div>"
      ],
      "text/plain": [
       "           name   2024   2023\n",
       "0     boxturtle   0.00   0.00\n",
       "1       cturtle   0.00   0.00\n",
       "2   diamondback   0.00   0.00\n",
       "3      electric   0.00   0.00\n",
       "4        fuerte   0.00   0.00\n",
       "5        groovy   0.00   0.00\n",
       "6         hydro   0.00   0.00\n",
       "7        indigo   0.05   0.24\n",
       "8          jade   0.00   0.00\n",
       "9       kinetic   0.39   1.14\n",
       "10        lunar   0.00   0.04\n",
       "11      melodic   2.32   5.66\n",
       "12       noetic  22.18  30.51\n",
       "13       ardent   0.00   0.00\n",
       "14       bouncy   0.00   0.00\n",
       "15      crystal   0.00   0.01\n",
       "16      dashing   0.11   0.20\n",
       "17     eloquent   0.09   0.16\n",
       "18         foxy   3.58   6.37\n",
       "19     galactic   1.25   2.33\n",
       "20       humble  39.38  32.79\n",
       "21         iron   5.26   4.97\n",
       "22        jazzy   9.36    NaN\n",
       "23      rolling   4.90   4.82"
      ]
     },
     "execution_count": 9,
     "metadata": {},
     "output_type": "execute_result"
    }
   ],
   "source": [
    "# Join together our distro data and make it into a CSV file \n",
    "joined_distro = join_stats([stats_this[\"distro\"],stats_last[\"distro\"]])\n",
    "distro_df = pd.DataFrame(data=joined_distro)\n",
    "distro_df.to_csv(\"distro.csv\")\n",
    "distro_df"
   ]
  },
  {
   "cell_type": "code",
   "execution_count": 10,
   "metadata": {},
   "outputs": [
    {
     "data": {
      "text/html": [
       "<div>\n",
       "<style scoped>\n",
       "    .dataframe tbody tr th:only-of-type {\n",
       "        vertical-align: middle;\n",
       "    }\n",
       "\n",
       "    .dataframe tbody tr th {\n",
       "        vertical-align: top;\n",
       "    }\n",
       "\n",
       "    .dataframe thead th {\n",
       "        text-align: right;\n",
       "    }\n",
       "</style>\n",
       "<table border=\"1\" class=\"dataframe\">\n",
       "  <thead>\n",
       "    <tr style=\"text-align: right;\">\n",
       "      <th></th>\n",
       "      <th>name</th>\n",
       "      <th>2024</th>\n",
       "      <th>2023</th>\n",
       "    </tr>\n",
       "  </thead>\n",
       "  <tbody>\n",
       "    <tr>\n",
       "      <th>0</th>\n",
       "      <td>i386</td>\n",
       "      <td>0.04</td>\n",
       "      <td>0.12</td>\n",
       "    </tr>\n",
       "    <tr>\n",
       "      <th>1</th>\n",
       "      <td>amd64</td>\n",
       "      <td>80.75</td>\n",
       "      <td>83.69</td>\n",
       "    </tr>\n",
       "    <tr>\n",
       "      <th>2</th>\n",
       "      <td>armhf</td>\n",
       "      <td>0.12</td>\n",
       "      <td>0.27</td>\n",
       "    </tr>\n",
       "    <tr>\n",
       "      <th>3</th>\n",
       "      <td>arm64</td>\n",
       "      <td>11.41</td>\n",
       "      <td>9.18</td>\n",
       "    </tr>\n",
       "    <tr>\n",
       "      <th>4</th>\n",
       "      <td>source</td>\n",
       "      <td>0.00</td>\n",
       "      <td>0.00</td>\n",
       "    </tr>\n",
       "  </tbody>\n",
       "</table>\n",
       "</div>"
      ],
      "text/plain": [
       "     name   2024   2023\n",
       "0    i386   0.04   0.12\n",
       "1   amd64  80.75  83.69\n",
       "2   armhf   0.12   0.27\n",
       "3   arm64  11.41   9.18\n",
       "4  source   0.00   0.00"
      ]
     },
     "execution_count": 10,
     "metadata": {},
     "output_type": "execute_result"
    }
   ],
   "source": [
    "# Repeat that process for arch\n",
    "joined_arch = join_stats([stats_this[\"arch\"],stats_last[\"arch\"]])\n",
    "arch_df = pd.DataFrame(data=joined_arch)\n",
    "arch_df.to_csv(\"arch.csv\")\n",
    "arch_df.head()"
   ]
  },
  {
   "cell_type": "code",
   "execution_count": 11,
   "metadata": {},
   "outputs": [
    {
     "data": {
      "text/html": [
       "<div>\n",
       "<style scoped>\n",
       "    .dataframe tbody tr th:only-of-type {\n",
       "        vertical-align: middle;\n",
       "    }\n",
       "\n",
       "    .dataframe tbody tr th {\n",
       "        vertical-align: top;\n",
       "    }\n",
       "\n",
       "    .dataframe thead th {\n",
       "        text-align: right;\n",
       "    }\n",
       "</style>\n",
       "<table border=\"1\" class=\"dataframe\">\n",
       "  <thead>\n",
       "    <tr style=\"text-align: right;\">\n",
       "      <th></th>\n",
       "      <th>name</th>\n",
       "      <th>2024</th>\n",
       "      <th>2023</th>\n",
       "    </tr>\n",
       "  </thead>\n",
       "  <tbody>\n",
       "    <tr>\n",
       "      <th>0</th>\n",
       "      <td>bionic_amd64</td>\n",
       "      <td>1.89</td>\n",
       "      <td>4.67</td>\n",
       "    </tr>\n",
       "    <tr>\n",
       "      <th>1</th>\n",
       "      <td>bionic_arm64</td>\n",
       "      <td>0.60</td>\n",
       "      <td>1.23</td>\n",
       "    </tr>\n",
       "    <tr>\n",
       "      <th>2</th>\n",
       "      <td>bionic_armhf</td>\n",
       "      <td>0.01</td>\n",
       "      <td>0.06</td>\n",
       "    </tr>\n",
       "    <tr>\n",
       "      <th>3</th>\n",
       "      <td>buster_amd64</td>\n",
       "      <td>0.01</td>\n",
       "      <td>0.12</td>\n",
       "    </tr>\n",
       "    <tr>\n",
       "      <th>4</th>\n",
       "      <td>buster_arm64</td>\n",
       "      <td>0.01</td>\n",
       "      <td>0.04</td>\n",
       "    </tr>\n",
       "    <tr>\n",
       "      <th>5</th>\n",
       "      <td>disco_amd64</td>\n",
       "      <td>0.00</td>\n",
       "      <td>0.00</td>\n",
       "    </tr>\n",
       "    <tr>\n",
       "      <th>6</th>\n",
       "      <td>focal_amd64</td>\n",
       "      <td>25.06</td>\n",
       "      <td>36.82</td>\n",
       "    </tr>\n",
       "    <tr>\n",
       "      <th>7</th>\n",
       "      <td>focal_arm64</td>\n",
       "      <td>3.63</td>\n",
       "      <td>4.68</td>\n",
       "    </tr>\n",
       "    <tr>\n",
       "      <th>8</th>\n",
       "      <td>focal_armhf</td>\n",
       "      <td>0.08</td>\n",
       "      <td>0.14</td>\n",
       "    </tr>\n",
       "    <tr>\n",
       "      <th>9</th>\n",
       "      <td>jammy_amd64</td>\n",
       "      <td>41.57</td>\n",
       "      <td>40.62</td>\n",
       "    </tr>\n",
       "    <tr>\n",
       "      <th>10</th>\n",
       "      <td>jammy_arm64</td>\n",
       "      <td>5.91</td>\n",
       "      <td>3.15</td>\n",
       "    </tr>\n",
       "    <tr>\n",
       "      <th>11</th>\n",
       "      <td>jammy_armhf</td>\n",
       "      <td>0.00</td>\n",
       "      <td>0.00</td>\n",
       "    </tr>\n",
       "    <tr>\n",
       "      <th>12</th>\n",
       "      <td>stretch_amd64</td>\n",
       "      <td>0.01</td>\n",
       "      <td>0.07</td>\n",
       "    </tr>\n",
       "    <tr>\n",
       "      <th>13</th>\n",
       "      <td>trusty_amd64</td>\n",
       "      <td>0.04</td>\n",
       "      <td>0.22</td>\n",
       "    </tr>\n",
       "    <tr>\n",
       "      <th>14</th>\n",
       "      <td>trusty_armhf</td>\n",
       "      <td>0.01</td>\n",
       "      <td>0.02</td>\n",
       "    </tr>\n",
       "    <tr>\n",
       "      <th>15</th>\n",
       "      <td>trusty_i386</td>\n",
       "      <td>0.01</td>\n",
       "      <td>0.03</td>\n",
       "    </tr>\n",
       "    <tr>\n",
       "      <th>16</th>\n",
       "      <td>xenial_amd64</td>\n",
       "      <td>0.35</td>\n",
       "      <td>1.00</td>\n",
       "    </tr>\n",
       "    <tr>\n",
       "      <th>17</th>\n",
       "      <td>xenial_arm64</td>\n",
       "      <td>0.01</td>\n",
       "      <td>0.04</td>\n",
       "    </tr>\n",
       "    <tr>\n",
       "      <th>18</th>\n",
       "      <td>xenial_armhf</td>\n",
       "      <td>0.01</td>\n",
       "      <td>0.05</td>\n",
       "    </tr>\n",
       "    <tr>\n",
       "      <th>19</th>\n",
       "      <td>xenial_i386</td>\n",
       "      <td>0.03</td>\n",
       "      <td>0.08</td>\n",
       "    </tr>\n",
       "  </tbody>\n",
       "</table>\n",
       "</div>"
      ],
      "text/plain": [
       "             name   2024   2023\n",
       "0    bionic_amd64   1.89   4.67\n",
       "1    bionic_arm64   0.60   1.23\n",
       "2    bionic_armhf   0.01   0.06\n",
       "3    buster_amd64   0.01   0.12\n",
       "4    buster_arm64   0.01   0.04\n",
       "5     disco_amd64   0.00   0.00\n",
       "6     focal_amd64  25.06  36.82\n",
       "7     focal_arm64   3.63   4.68\n",
       "8     focal_armhf   0.08   0.14\n",
       "9     jammy_amd64  41.57  40.62\n",
       "10    jammy_arm64   5.91   3.15\n",
       "11    jammy_armhf   0.00   0.00\n",
       "12  stretch_amd64   0.01   0.07\n",
       "13   trusty_amd64   0.04   0.22\n",
       "14   trusty_armhf   0.01   0.02\n",
       "15    trusty_i386   0.01   0.03\n",
       "16   xenial_amd64   0.35   1.00\n",
       "17   xenial_arm64   0.01   0.04\n",
       "18   xenial_armhf   0.01   0.05\n",
       "19    xenial_i386   0.03   0.08"
      ]
     },
     "execution_count": 11,
     "metadata": {},
     "output_type": "execute_result"
    }
   ],
   "source": [
    "# Join arch x os data\n",
    "joined_arch_x_os = join_stats([stats_this[\"arch_x_os\"],stats_last[\"arch_x_os\"]])\n",
    "arch_os_df = pd.DataFrame(data=joined_arch_x_os)\n",
    "arch_os_df.to_csv(\"arch_os.csv\")\n",
    "arch_os_df"
   ]
  },
  {
   "cell_type": "code",
   "execution_count": 12,
   "metadata": {},
   "outputs": [],
   "source": [
    "# finally do this at the package level\n",
    "joined_package = join_stats([stats_this[\"package\"],stats_last[\"package\"]],idx=\"count\")\n",
    "package_df = pd.DataFrame(data=joined_package)\n"
   ]
  },
  {
   "cell_type": "code",
   "execution_count": 13,
   "metadata": {},
   "outputs": [
    {
     "data": {
      "text/html": [
       "<div>\n",
       "<style scoped>\n",
       "    .dataframe tbody tr th:only-of-type {\n",
       "        vertical-align: middle;\n",
       "    }\n",
       "\n",
       "    .dataframe tbody tr th {\n",
       "        vertical-align: top;\n",
       "    }\n",
       "\n",
       "    .dataframe thead th {\n",
       "        text-align: right;\n",
       "    }\n",
       "</style>\n",
       "<table border=\"1\" class=\"dataframe\">\n",
       "  <thead>\n",
       "    <tr style=\"text-align: right;\">\n",
       "      <th></th>\n",
       "      <th>name</th>\n",
       "      <th>package</th>\n",
       "      <th>distro</th>\n",
       "      <th>2024</th>\n",
       "      <th>2023</th>\n",
       "      <th>YoY</th>\n",
       "      <th>YoY_Prct</th>\n",
       "    </tr>\n",
       "  </thead>\n",
       "  <tbody>\n",
       "    <tr>\n",
       "      <th>0</th>\n",
       "      <td>python3-rosdistro-modules</td>\n",
       "      <td>modules</td>\n",
       "      <td>rosdistro</td>\n",
       "      <td>198217</td>\n",
       "      <td>128759.0</td>\n",
       "      <td>69458.0</td>\n",
       "      <td>35.041394</td>\n",
       "    </tr>\n",
       "    <tr>\n",
       "      <th>1</th>\n",
       "      <td>python3-colcon-core</td>\n",
       "      <td>core</td>\n",
       "      <td>colcon</td>\n",
       "      <td>137956</td>\n",
       "      <td>103375.0</td>\n",
       "      <td>34581.0</td>\n",
       "      <td>25.066688</td>\n",
       "    </tr>\n",
       "    <tr>\n",
       "      <th>2</th>\n",
       "      <td>python3-catkin-pkg-modules</td>\n",
       "      <td>pkg-modules</td>\n",
       "      <td>catkin</td>\n",
       "      <td>134237</td>\n",
       "      <td>175130.0</td>\n",
       "      <td>-40893.0</td>\n",
       "      <td>-30.463285</td>\n",
       "    </tr>\n",
       "    <tr>\n",
       "      <th>3</th>\n",
       "      <td>python3-rosdep-modules</td>\n",
       "      <td>modules</td>\n",
       "      <td>rosdep</td>\n",
       "      <td>132889</td>\n",
       "      <td>123786.0</td>\n",
       "      <td>9103.0</td>\n",
       "      <td>6.850078</td>\n",
       "    </tr>\n",
       "    <tr>\n",
       "      <th>4</th>\n",
       "      <td>python3-rospkg-modules</td>\n",
       "      <td>modules</td>\n",
       "      <td>rospkg</td>\n",
       "      <td>130589</td>\n",
       "      <td>140266.0</td>\n",
       "      <td>-9677.0</td>\n",
       "      <td>-7.410272</td>\n",
       "    </tr>\n",
       "  </tbody>\n",
       "</table>\n",
       "</div>"
      ],
      "text/plain": [
       "                         name      package     distro    2024      2023  \\\n",
       "0   python3-rosdistro-modules      modules  rosdistro  198217  128759.0   \n",
       "1         python3-colcon-core         core     colcon  137956  103375.0   \n",
       "2  python3-catkin-pkg-modules  pkg-modules     catkin  134237  175130.0   \n",
       "3      python3-rosdep-modules      modules     rosdep  132889  123786.0   \n",
       "4      python3-rospkg-modules      modules     rospkg  130589  140266.0   \n",
       "\n",
       "       YoY   YoY_Prct  \n",
       "0  69458.0  35.041394  \n",
       "1  34581.0  25.066688  \n",
       "2 -40893.0 -30.463285  \n",
       "3   9103.0   6.850078  \n",
       "4  -9677.0  -7.410272  "
      ]
     },
     "execution_count": 13,
     "metadata": {},
     "output_type": "execute_result"
    }
   ],
   "source": [
    "# Add in YOY differences and package percents\n",
    "package_df[\"YoY\"] = package_df[this_year]-package_df[last_year]\n",
    "package_df[\"YoY_Prct\"] = 100.00*package_df[\"YoY\"]/package_df[this_year]\n",
    "\n",
    "package_df.to_csv(\"package.csv\")\n",
    "package_df.head()\n"
   ]
  },
  {
   "cell_type": "markdown",
   "metadata": {},
   "source": [
    "# Gazebo Package Download Stats"
   ]
  },
  {
   "cell_type": "code",
   "execution_count": 14,
   "metadata": {},
   "outputs": [
    {
     "name": "stdout",
     "output_type": "stream",
     "text": [
      "{'ros-kinetic-ainstein-radar-gazebo-plugins', 'ros-melodic-gazebo-msgs', 'ros-noetic-gazebo-video-monitor-plugins', 'ros-kinetic-ur-e-gazebo', 'ros-foxy-husky-gazebo', 'ros-galactic-velodyne-gazebo-plugins-dbgsym', 'ros-galactic-ros-ign-gazebo-demos', 'ros-iron-gazebo-ros-pkgs', 'ros-noetic-gazebo-video-monitors', 'ros-kinetic-agvs-gazebo', 'ros-melodic-rotors-gazebo', 'ros-melodic-cob-gazebo-worlds', 'ros-rolling-velodyne-gazebo-plugins', 'ros-humble-irobot-create-gazebo-bringup', 'ros-indigo-gazebo-state-plugins', 'ros-rolling-turtlebot3-gazebo-dbgsym', 'ros-iron-gazebo-ros2-control-demos-dbgsym', 'ros-indigo-innok-heros-gazebo', 'ros-indigo-rotors-gazebo-plugins', 'ros-noetic-open-manipulator-p-gazebo', 'ros-noetic-qb-device-gazebo', 'ros-noetic-rm-gazebo-dbgsym', 'ros-indigo-youbot-gazebo-robot', 'ros-noetic-audibot-gazebo-dbgsym', 'ros-melodic-ridgeback-gazebo-plugins', 'ros-noetic-warthog-gazebo', 'ros-humble-gazebo-set-joint-positions-plugin-dbgsym', 'ros-iron-ros-ign-gazebo-demos', 'ros-humble-tiago-gazebo-dbgsym', 'ros-noetic-mia-hand-gazebo-dbgsym', 'ros-noetic-gazebo-ros-control-dbgsym', 'ros-melodic-gazebo-plugins', 'ros-kinetic-wamv-gazebo', 'ros-melodic-igvc-self-drive-gazebo', 'ros-melodic-hector-gazebo-worlds', 'ros-melodic-heron-gazebo', 'ros-melodic-uuv-gazebo-plugins-dbgsym', 'ros-indigo-pr2-controller-configuration-gazebo', 'ros-kinetic-cob-gazebo-worlds', 'ros-melodic-gazebo-video-monitor-msgs', 'ros-humble-gazebo-msgs', 'ros-melodic-leo-gazebo', 'ros-noetic-franka-gazebo-dbgsym', 'ros-rolling-ros-ign-gazebo-demos', 'ros-galactic-gazebo-ros-pkgs', 'ros-melodic-velodyne-gazebo-plugins', 'ros-dashing-gazebo-dev', 'ros-melodic-hector-gazebo-plugins-dbgsym', 'ros-galactic-ros-ign-gazebo-dbgsym', 'ros-noetic-hector-gazebo', 'ros-kinetic-romeo-gazebo-plugin', 'ros-melodic-rotors-gazebo-dbgsym', 'ros-indigo-hrpsys-gazebo-general', 'ros-noetic-turtlebot3-gazebo%5f1.3.2-2focal.20240913.201942%5famd64.deb', 'ros-rolling-gazebo-ros-pkgs', 'ros-kinetic-husky-gazebo', 'ros-kinetic-katana-gazebo-plugins', 'ros-indigo-gazebo-concert', 'ros-indigo-create-gazebo-plugins', 'ros-melodic-cob-gazebo-ros-control-dbgsym', 'ros-melodic-gazebo-ros', 'ros-noetic-husky-gazebo', 'ros-noetic-turtlebot3-gazebo', 'ros-eloquent-gazebo-plugins', 'ros-kinetic-mir-gazebo', 'ros-melodic-omnibase-gazebo', 'ros-humble-raspimouse-gazebo', 'ros-indigo-evarobot-gazebo', 'ros-melodic-uuv-gazebo-ros-plugins-msgs', 'ros-humble-gazebo-ros2-control', 'ros-foxy-turtlebot3-gazebo-dbgsym', 'ros-kinetic-katana-arm-gazebo', 'ros-kinetic-khi-duaro-gazebo', 'ros-indigo-summit-xl-gazebo', 'ros-melodic-cob-gazebo-plugins', 'ros-galactic-irobot-create-gazebo-plugins', 'ros-noetic-franka-gazebo', 'ros-humble-talos-gazebo', 'ros-humble-gazebo-set-joint-positions-plugin', 'ros-noetic-ridgeback-gazebo', 'ros-humble-gazebo-video-monitor-utils', 'ros-indigo-youbot-gazebo-control', 'ros-lunar-gazebo-dev', 'ros-galactic-gazebo-ros-dbgsym', 'ros-humble-gazebo-plugins-dbgsym', 'ros-noetic-jackal-gazebo', 'ros-melodic-igvc-self-drive-gazebo-plugins', 'ros-noetic-mecanum-gazebo-plugin', 'ros-foxy-gazebo-ros2-control', 'ros-galactic-velodyne-gazebo-plugins', 'ros-humble-gazebo-ros2-control-dbgsym', 'ros-rolling-gazebo-plugins', 'ros-humble-velodyne-gazebo-plugins', 'ros-humble-omni-base-gazebo', 'ros-noetic-gazebo-msgs', 'ros-rolling-gazebo-msgs-dbgsym', 'ros-iron-turtlebot3-gazebo', 'ros-indigo-velodyne-gazebo-plugins', 'ros-melodic-cob-gazebo-tools', 'ros-kinetic-hector-gazebo', 'ros-noetic-qb-move-gazebo', 'ros-melodic-robosense-gazebo-plugins-dbgsym', 'ros-noetic-hector-gazebo-thermal-camera-dbgsym', 'ros-indigo-vs060-gazebo', 'ros-foxy-ros-ign-gazebo-dbgsym', 'ros-humble-pal-gazebo-worlds', 'ros-noetic-qb-move-gazebo-dbgsym', 'ros-noetic-robotont-gazebo', 'ros-noetic-leo-gazebo-worlds', 'ros-humble-ros-ign-gazebo', 'ros-humble-gazebo-no-physics-plugin', 'ros-indigo-bwi-gazebo-entities', 'ros-kinetic-open-manipulator-p-gazebo', 'ros-foxy-nav2-gazebo-spawner', 'ros-indigo-fetch-gazebo-demo', 'ros-foxy-gazebo-ros2-control-demos-dbgsym', 'ros-galactic-gazebo-ros2-control-demos', 'ros-noetic-gazebo-ros-dbgsym', 'ros-humble-gazebo-model-attachment-plugin', 'ros-foxy-gazebo-ros-dbgsym', 'ros-melodic-khi-duaro-gazebo', 'ros-noetic-gazebo-ros-control', 'ros-iron-gazebo-ros', 'ros-noetic-gazebo-model-attachment-plugin', 'ros-indigo-hector-gazebo-thermal-camera', 'ros-kinetic-summit-xl-gazebo', 'ros-humble-pal-gazebo-plugins-dbgsym', 'ros-kinetic-prbt-gazebo', 'ros-humble-velodyne-gazebo-plugins-dbgsym', 'ros-rolling-turtlebot3-gazebo', 'ros-indigo-cob-gazebo-worlds', 'ros-melodic-gazebo-plugins-dbgsym', 'ros-noetic-gazebo-custom-sensor-preloader', 'ros-melodic-mecanum-gazebo-plugin', 'ros-noetic-prbt-gazebo', 'ros-indigo-katana-gazebo-plugins', 'ros-noetic-cob-gazebo-worlds', 'ros-noetic-gazebo-ros-pkgs', 'ros-indigo-ur-gazebo', 'ros-melodic-mir-gazebo', 'ros-noetic-gazebo-video-monitor-utils', 'ros-noetic-cob-gazebo', 'ros-melodic-leo-gazebo-dbgsym', 'ros-eloquent-gazebo-ros', 'ros-humble-pmb2-gazebo', 'ros-kinetic-pepper-gazebo-plugin', 'ros-noetic-dingo-gazebo', 'ros-humble-gazebo-planar-move-plugin-dbgsym', 'ros-galactic-gazebo-msgs-dbgsym', 'ros-indigo-kobuki-gazebo', 'ros-kinetic-thormang3-gazebo', 'ros-galactic-irobot-create-gazebo-sim', 'ros-kinetic-eca-a9-gazebo', 'ros-noetic-qb-hand-gazebo-dbgsym', 'ros-indigo-baxter-gazebo', 'ros-foxy-ros-ign-gazebo', 'ros-noetic-mia-hand-gazebo', 'ros-dashing-gazebo-msgs-dbgsym', 'ros-melodic-turtlebot3-gazebo-dbgsym', 'ros-kinetic-kobuki-gazebo-plugins', 'ros-noetic-gazebo-video-monitor-plugins-dbgsym', 'ros-indigo-gazebo-ros-pkgs', 'ros-melodic-dingo-gazebo', 'ros-kinetic-gazebo-ros', 'ros-melodic-husky-gazebo', 'ros-melodic-open-manipulator-p-gazebo', 'ros-indigo-nao-gazebo-plugin', 'ros-iron-velodyne-gazebo-plugins', 'ros-humble-crane-plus-gazebo', 'ros-indigo-gazebo-ros-control', 'ros-kinetic-pr2-gazebo-plugins', 'ros-kinetic-op3-gazebo', 'ros-rolling-gazebo-ros2-control-dbgsym', 'ros-noetic-hector-gazebo-plugins-dbgsym', 'ros-melodic-robosense-gazebo-plugins', 'ros-melodic-pr2-gazebo-plugins', 'ros-kinetic-cob-gazebo-ros-control', 'ros-indigo-mir-gazebo', 'ros-melodic-gazebo-ros-control', 'ros-melodic-audibot-gazebo-dbgsym', 'ros-iron-gazebo-msgs', 'ros-foxy-pmb2-2dnav-gazebo', 'ros-melodic-gazebo-ros-pkgs', 'ros-noetic-open-manipulator-p-gazebo-dbgsym', 'ros-noetic-hector-gazebo-thermal-camera', 'ros-noetic-diffbot-gazebo', 'ros-noetic-hector-gazebo-plugins', 'ros-galactic-gazebo-plugins-dbgsym', 'ros-noetic-warthog-gazebo-dbgsym', 'ros-indigo-summit-x-gazebo', 'ros-kinetic-ur-gazebo', 'ros-indigo-pepper-gazebo-plugin', 'ros-melodic-franka-gazebo-dbgsym', 'ros-kinetic-pr2-controller-configuration-gazebo', 'ros-dashing-turtlebot3-gazebo', 'ros-melodic-gazebo-video-monitor-plugins-dbgsym', 'ros-rolling-gazebo-plugins-dbgsym', 'ros-melodic-hector-gazebo-thermal-camera', 'ros-jazzy-gazebo-msgs', 'ros-melodic-hector-sensors-gazebo', 'ros-lunar-gazebo-msgs', 'ros-indigo-aubo-gazebo', 'ros-iron-gazebo-ros2-control', 'ros-kinetic-audibot-gazebo', 'ros-noetic-gazebo-model-attachment-plugin-dbgsym', 'ros-kinetic-cob-gazebo-objects', 'ros-indigo-jaco-gazebo', 'ros-rolling-gazebo-ros2-control', 'ros-melodic-mrp2-gazebo', 'ros-melodic-warthog-gazebo', 'ros-dashing-turtlebot3-gazebo-dbgsym', 'ros-galactic-gazebo-msgs', 'ros-indigo-gazebo-test-tools', 'ros-melodic-fetch-gazebo-dbgsym', 'ros-kinetic-barrett-hand-gazebo', 'ros-melodic-uuv-gazebo-ros-plugins-dbgsym', 'ros-melodic-vrx-gazebo', 'ros-melodic-fetch-gazebo-demo', 'ros-melodic-robotont-gazebo', 'ros-noetic-turtlebot3-gazebo-dbgsym', 'ros-melodic-open-manipulator-p-gazebo-dbgsym', 'ros-noetic-pr2-controller-configuration-gazebo', 'ros-galactic-gazebo-ros2-control-demos-dbgsym', 'ros-noetic-cob-gazebo-plugins', 'ros-humble-gazebo-ros2-control-demos', 'ros-humble-turtlebot3-gazebo-dbgsym', 'ros-melodic-open-manipulator-gazebo-dbgsym', 'ros-noetic-gazebo-plugins', 'ros-indigo-kobuki-gazebo-plugins', 'ros-kinetic-blender-gazebo', 'ros-melodic-audibot-gazebo', 'ros-melodic-gazebo-dev', 'ros-foxy-jackal-gazebo', 'ros-kinetic-gazebo-msgs', 'ros-rolling-gazebo-dev', 'ros-melodic-open-manipulator-with-tb3-gazebo', 'ros-humble-irobot-create-gazebo-plugins-dbgsym', 'ros-jazzy-scenario-execution-gazebo', 'ros-dashing-gazebo-ros-pkgs', 'ros-melodic-igvc-self-drive-gazebo-plugins-dbgsym', 'ros-galactic-gazebo-ros2-control-dbgsym', 'ros-iron-gazebo-ros-dbgsym', 'ros-kinetic-desistek-saga-gazebo', 'ros-melodic-gazebo-video-monitor-plugins', 'ros-indigo-husky-gazebo', 'ros-melodic-uuv-gazebo-worlds', 'ros-indigo-cob-gazebo-ros-control', 'ros-indigo-jackal-gazebo', 'ros-kinetic-hector-gazebo-thermal-camera', 'ros-galactic-turtlebot3-gazebo', 'ros-foxy-pal-gazebo-worlds', 'ros-melodic-wave-gazebo-plugins-dbgsym', 'ros-indigo-gazebo-ros', 'ros-melodic-tuw-gazebo-msgs', 'ros-humble-gazebo-video-monitor-plugins-dbgsym', 'ros-humble-irobot-create-gazebo-sim', 'ros-kinetic-turtlebot-gazebo', 'ros-melodic-vrx-gazebo-dbgsym', 'ros-noetic-cob-gazebo-tools', 'ros-noetic-khi-duaro-gazebo', 'ros-melodic-jackal-gazebo', 'ros-melodic-lauv-gazebo', 'ros-melodic-gundam-rx78-gazebo', 'ros-kinetic-lauv-gazebo', 'ros-melodic-blender-gazebo', 'ros-humble-gazebo-planar-move-plugin', 'ros-foxy-dolly-gazebo', 'ros-melodic-wave-gazebo', 'ros-kinetic-gazebo-dev', 'ros-kinetic-rb1-base-gazebo', 'ros-rolling-gazebo-ros2-control-demos', 'ros-eloquent-gazebo-msgs', 'ros-kinetic-hector-sensors-gazebo', 'ros-lunar-gazebo-ros-pkgs', 'ros-noetic-hector-sensors-gazebo', 'ros-noetic-ros-ign-gazebo-demos', 'ros-melodic-ainstein-radar-gazebo-plugins', 'ros-melodic-eca-a9-gazebo', 'ros-eloquent-nav2-gazebo-spawner', 'ros-noetic-gazebo-ros-control-select-joints', 'ros-jazzy-gazebo-msgs-dbgsym', 'ros-humble-gazebo-video-monitor-plugins', 'ros-noetic-ridgeback-gazebo-plugins', 'ros-crystal-gazebo-msgs', 'ros-melodic-khi-rs-gazebo', 'ros-kinetic-cob-gazebo-tools', 'ros-indigo-youbot-gazebo-worlds', 'ros-melodic-ur-gazebo', 'ros-indigo-hector-quadrotor-controller-gazebo', 'ros-melodic-gazebo-ros-dbgsym', 'ros-iron-ros-ign-gazebo-dbgsym', 'ros-noetic-gazebo-video-monitor-msgs', 'ros-indigo-spur-gazebo', 'ros-iron-ros-ign-gazebo', 'ros-indigo-concert-service-gazebo', 'ros-galactic-gazebo-ros', 'ros-foxy-gazebo-ros', 'ros-iron-gazebo-video-monitor-utils', 'ros-iron-gazebo-plugins', 'ros-melodic-uuv-gazebo-plugins', 'ros-melodic-hector-gazebo-plugins', 'ros-melodic-gazebo-video-monitors', 'ros-galactic-dolly-gazebo', 'ros-melodic-denso-robot-gazebo', 'ros-iron-gazebo-ros2-control-demos', 'ros-humble-gazebo-dev', 'ros-humble-gazebo-ros', 'ros-rolling-ros-ign-gazebo-dbgsym', 'ros-lunar-gazebo-ros-control-dbgsym', 'ros-noetic-pr2-gazebo-plugins-dbgsym', 'ros-humble-ros-ign-gazebo-dbgsym', 'ros-melodic-hector-gazebo-thermal-camera-dbgsym', 'ros-humble-gazebo-model-attachment-plugin-msgs', 'ros-kinetic-mecanum-gazebo-plugin', 'ros-indigo-segbot-gazebo', 'ros-melodic-fetch-gazebo', 'ros-kinetic-open-manipulator-gazebo', 'ros-humble-gazebo-video-monitor-interfaces', 'ros-melodic-wave-gazebo-plugins', 'ros-galactic-ros-ign-gazebo', 'ros-dashing-gazebo-msgs', 'ros-melodic-qb-device-gazebo', 'ros-indigo-tetris-gazebo', 'ros-iron-gazebo-video-monitor-interfaces-dbgsym', 'ros-humble-as2-platform-gazebo-dbgsym', 'ros-noetic-cob-gazebo-objects', 'ros-noetic-cob-gazebo-plugins-dbgsym', 'ros-rolling-gazebo-ros', 'ros-indigo-pr2-gazebo-plugins', 'ros-noetic-leo-gazebo', 'ros-galactic-gazebo-plugins', 'ros-indigo-turtlebot-gazebo', 'ros-humble-gazebo-ros-pkgs', 'ros-indigo-cob-gazebo-plugins', 'ros-noetic-pr2-gazebo-plugins', 'ros-indigo-gazebo-plugins', 'ros-humble-as2-gazebo-assets-dbgsym', 'ros-dashing-gazebo-plugins-dbgsym', 'ros-indigo-rotors-gazebo', 'ros-indigo-cob-gazebo-objects', 'ros-foxy-turtlebot3-gazebo', 'ros-noetic-cob-gazebo-ros-control', 'ros-noetic-leo-gazebo-plugins-dbgsym', 'ros-foxy-gazebo-dev', 'ros-lunar-gazebo-plugins', 'ros-noetic-gazebo-ros', 'ros-indigo-hector-gazebo-plugins', 'ros-noetic-roboticsgroup-upatras-gazebo-plugins-dbgsym', 'ros-melodic-ridgeback-gazebo', 'ros-galactic-nav2-gazebo-spawner', 'ros-humble-ros-ign-gazebo-demos', 'ros-indigo-gazebo-grasp-plugin', 'ros-indigo-pr2-gazebo', 'ros-indigo-gazebo-world-plugin-loader', 'ros-melodic-wamv-gazebo', 'ros-melodic-uuv-gazebo', 'ros-indigo-katana-arm-gazebo', 'ros-foxy-velodyne-gazebo-plugins-dbgsym', 'ros-foxy-gazebo-ros2-control-demos', 'ros-humble-irobot-create-gazebo-plugins', 'ros-galactic-gazebo-ros2-control', 'ros-noetic-audibot-gazebo', 'ros-galactic-gazebo-dev', 'ros-kinetic-cob-gazebo', 'ros-humble-gazebo-plugins', 'ros-melodic-desistek-saga-gazebo', 'ros-kinetic-dsr-gazebo', 'ros-melodic-cob-gazebo-ros-control', 'ros-foxy-gazebo-msgs', 'ros-kinetic-gazebo-plugins', 'ros-kinetic-khi-rs-gazebo', 'ros-iron-dolly-gazebo', 'ros-foxy-gazebo-ros-pkgs', 'ros-kinetic-kobuki-gazebo', 'ros-kinetic-nextage-gazebo', 'ros-indigo-hector-quadrotor-gazebo', 'ros-rolling-gazebo-ros2-control-demos-dbgsym', 'ros-lunar-gazebo-ros-control', 'ros-humble-as2-gazebo-assets', 'ros-kinetic-gazebo-ros-pkgs', 'ros-melodic-velodyne-gazebo-plugins-dbgsym', 'ros-melodic-warthog-gazebo-dbgsym', 'ros-indigo-sr-gazebo-plugins', 'ros-eloquent-gazebo-ros-dbgsym', 'ros-indigo-hector-quadrotor-gazebo-plugins', 'ros-melodic-uuv-gazebo-ros-plugins', 'ros-noetic-open-manipulator-gazebo-dbgsym', 'ros-noetic-ridgeback-gazebo-plugins-dbgsym', 'ros-humble-gazebo-ros-dbgsym', 'ros-kinetic-open-manipulator-with-tb3-gazebo', 'ros-noetic-cob-gazebo-ros-control-dbgsym', 'ros-indigo-hector-gazebo', 'ros-noetic-mir-gazebo', 'ros-kinetic-raspigibbon-gazebo', 'ros-melodic-usv-gazebo-plugins', 'ros-kinetic-cob-gazebo-plugins', 'ros-foxy-pmb2-gazebo', 'ros-indigo-grizzly-gazebo', 'ros-melodic-pr2-controller-configuration-gazebo', 'ros-iron-gazebo-msgs-dbgsym', 'ros-noetic-velodyne-gazebo-plugins-dbgsym', 'ros-kinetic-summit-x-gazebo', 'ros-foxy-ros-ign-gazebo-demos', 'ros-noetic-open-manipulator-gazebo', 'ros-jazzy-dolly-gazebo', 'ros-dashing-gazebo-ros', 'ros-kinetic-igvc-self-drive-gazebo-plugins', 'ros-iron-gazebo-video-monitor-plugins', 'ros-melodic-gazebo-ros-control-dbgsym', 'ros-rolling-gazebo-ros-dbgsym', 'ros-rolling-dolly-gazebo', 'ros-indigo-aras-visual-servo-gazebo', 'ros-noetic-gazebo-dev', 'ros-humble-gazebo-video-monitor-interfaces-dbgsym', 'ros-indigo-gazebo-msgs', 'ros-kinetic-pr2-gazebo', 'ros-melodic-pr2-gazebo-plugins-dbgsym', 'ros-lunar-rexrov2-gazebo', 'ros-indigo-mrp2-hardware-gazebo', 'ros-melodic-rotors-gazebo-plugins', 'ros-kinetic-gazebo-ros-control', 'ros-indigo-hector-gazebo-worlds', 'ros-iron-gazebo-video-monitor-interfaces', 'ros-noetic-ros-ign-gazebo-dbgsym', 'ros-iron-gazebo-plugins-dbgsym', 'ros-iron-velodyne-gazebo-plugins-dbgsym', 'ros-kinetic-roboticsgroup-upatras-gazebo-plugins', 'ros-noetic-rm-gazebo', 'ros-indigo-icart-mini-gazebo', 'ros-melodic-prbt-gazebo', 'ros-noetic-ur-gazebo', 'ros-kinetic-denso-robot-gazebo', 'ros-noetic-hector-gazebo-worlds', 'ros-iron-turtlebot3-gazebo-dbgsym', 'ros-melodic-hector-gazebo', 'ros-rolling-ros-ign-gazebo', 'ros-humble-gazebo-video-monitors', 'ros-kinetic-rbcar-gazebo', 'ros-indigo-nextage-gazebo', 'ros-foxy-gazebo-ros2-control-dbgsym', 'ros-melodic-nextage-gazebo', 'ros-noetic-roboticsgroup-upatras-gazebo-plugins', 'ros-foxy-gazebo-msgs-dbgsym', 'ros-indigo-cob-gazebo', 'ros-lunar-gazebo-ros', 'ros-kinetic-turtlebot3-gazebo', 'ros-foxy-gazebo-plugins', 'ros-melodic-cob-gazebo-objects', 'ros-melodic-turtlebot3-gazebo', 'ros-foxy-velodyne-gazebo-plugins', 'ros-melodic-uos-gazebo-worlds', 'ros-melodic-open-manipulator-gazebo', 'ros-humble-gazebo-no-physics-plugin-dbgsym', 'ros-indigo-hrpsys-gazebo-msgs', 'ros-foxy-gazebo-plugins-dbgsym', 'ros-noetic-qb-hand-gazebo', 'ros-melodic-qb-device-gazebo-dbgsym', 'ros-indigo-fetch-gazebo', 'ros-humble-turtlebot3-gazebo', 'ros-dashing-gazebo-plugins', 'ros-humble-gazebo-msgs-dbgsym', 'ros-melodic-rotors-gazebo-plugins-dbgsym', 'ros-humble-tiago-gazebo', 'ros-rolling-gazebo-msgs', 'ros-kinetic-manipulator-h-gazebo', 'ros-kinetic-moose-gazebo', 'ros-iron-gazebo-ros2-control-dbgsym', 'ros-noetic-qb-device-gazebo-dbgsym', 'ros-noetic-leo-gazebo-plugins', 'ros-humble-pal-gazebo-plugins', 'ros-eloquent-gazebo-msgs-dbgsym', 'ros-indigo-warthog-gazebo', 'ros-kinetic-hector-gazebo-plugins', 'ros-melodic-rexrov2-gazebo', 'ros-galactic-irobot-create-gazebo-bringup', 'ros-eloquent-gazebo-ros-pkgs', 'ros-melodic-usv-gazebo-plugins-dbgsym', 'ros-humble-as2-platform-gazebo', 'ros-noetic-gazebo-plugins-dbgsym', 'ros-galactic-turtlebot3-gazebo-dbgsym', 'ros-eloquent-gazebo-plugins-dbgsym', 'ros-humble-gazebo-model-attachment-plugin-dbgsym', 'ros-kinetic-velodyne-gazebo-plugins', 'ros-iron-gazebo-video-monitors', 'ros-noetic-gazebo-ros-control-select-joints-dbgsym', 'python3-ignition-gazebo6', 'ros-indigo-denso-robot-gazebo', 'ros-indigo-hector-sensors-gazebo', 'ros-melodic-franka-gazebo', 'ros-humble-gazebo-ros2-control-demos-dbgsym', 'ros-iron-gazebo-dev', 'ros-indigo-barrett-hand-gazebo', 'ros-humble-scenario-execution-gazebo', 'ros-humble-gazebo-model-attachment-plugin-msgs-dbgsym', 'ros-noetic-ros-ign-gazebo', 'ros-iron-gazebo-video-monitor-plugins-dbgsym', 'ros-indigo-mrp2-gazebo', 'ros-eloquent-gazebo-dev', 'ros-noetic-gazebo-custom-sensor-preloader-dbgsym', 'ros-noetic-khi-rs-gazebo', 'ros-dashing-gazebo-ros-dbgsym', 'ros-indigo-gazebo-mimic', 'ros-indigo-mecanum-gazebo-plugin', 'ros-indigo-eusgazebo', 'ros-kinetic-hector-gazebo-worlds', 'ros-galactic-irobot-create-gazebo-plugins-dbgsym', 'ros-melodic-roboticsgroup-upatras-gazebo-plugins', 'ros-melodic-roboticsgroup-upatras-gazebo-plugins-dbgsym', 'ros-humble-dolly-gazebo', 'ros-foxy-crane-plus-gazebo', 'ros-indigo-grizzly-gazebo-plugins', 'ros-melodic-pr2-gazebo', 'ros-noetic-pr2-gazebo', 'ros-rolling-velodyne-gazebo-plugins-dbgsym', 'ros-noetic-velodyne-gazebo-plugins', 'ros-melodic-ridgeback-gazebo-plugins-dbgsym'}\n",
      "516\n",
      "{'ros-humble-ignition-cmake2-vendor', 'ros-humble-dolly-ignition', 'python3-ignition-gazebo6', 'ros-humble-turtlebot4-ignition-toolbox-dbgsym', 'ros-humble-turtlebot4-ignition-gui-plugins-dbgsym', 'ros-rolling-ignition-math6-vendor', 'ros-galactic-irobot-create-ignition-plugins-dbgsym', 'ros-humble-irobot-create-ignition-toolbox-dbgsym', 'ros-galactic-turtlebot4-ignition-toolbox', 'ros-humble-turtlebot4-ignition-bringup', 'ros-galactic-turtlebot4-ignition-toolbox-dbgsym', 'ros-humble-irobot-create-ignition-sim', 'ros-galactic-dolly-ignition', 'ros-foxy-crane-plus-ignition', 'ros-iron-ignition-cmake2-vendor', 'ros-galactic-irobot-create-ignition-toolbox-dbgsym', 'ros-humble-irobot-create-ignition-bringup', 'ros-humble-ignition-math6-vendor', 'ros-humble-irobot-create-ignition-toolbox', 'ros-galactic-irobot-create-ignition-bringup', 'ros-iron-ignition-math6-vendor', 'ros-galactic-turtlebot4-ignition-bringup', 'ros-galactic-irobot-create-ignition-toolbox', 'ros-rolling-ignition-cmake2-vendor', 'ros-humble-turtlebot4-ignition-toolbox', 'ros-galactic-irobot-create-ignition-plugins', 'python3-ignition-math6', 'ros-humble-irobot-create-ignition-plugins', 'ros-galactic-irobot-create-ignition-sim', 'ros-humble-turtlebot4-ignition-gui-plugins', 'ros-foxy-dolly-ignition', 'ros-humble-irobot-create-ignition-plugins-dbgsym', 'ros-iron-dolly-ignition', 'ros-galactic-turtlebot4-ignition-gui-plugins', 'ros-galactic-turtlebot4-ignition-gui-plugins-dbgsym', 'ros-rolling-dolly-ignition'}\n",
      "36\n",
      "{'ros-rolling-test-ros-gz-bridge', 'ros-rolling-ros-gz', 'ros-rolling-gz-ogre-next-vendor', 'ros-jazzy-turtlebot4-gz-toolbox', 'ros-jazzy-gz-rendering-vendor-dbgsym', 'ros-jazzy-gz-utils-vendor-dbgsym', 'ros-iron-leo-gz-plugins', 'ros-iron-ros-gz-bridge', 'ros-jazzy-ros-gz-sim-demos', 'ros-rolling-gz-ros2-control-demos', 'python3-gz-sim6', 'ros-jazzy-gz-launch-vendor', 'ros-rolling-gz-fuel-tools-vendor', 'ros-rolling-gz-transport-vendor', 'ros-jazzy-gz-sensors-vendor', 'ros-humble-ros-gz-image', 'ros-jazzy-ros-gz-bridge', 'ros-jazzy-gz-tools-vendor', 'ros-jazzy-gz-common-vendor', 'ros-jazzy-gz-msgs-vendor-dbgsym', 'ros-rolling-ros-gz-image', 'ros-rolling-gz-fuel-tools-vendor-dbgsym', 'ros-rolling-leo-gz-plugins-dbgsym', 'ros-rolling-gz-plugin-vendor-dbgsym', 'ros-rolling-gz-ros2-control-dbgsym', 'ros-rolling-gz-sensors-vendor-dbgsym', 'ros-rolling-gz-math-vendor', 'ros-humble-ros-gz-interfaces', 'ros-jazzy-gz-transport-vendor', 'ros-rolling-gz-utils-vendor', 'ros-jazzy-gz-math-vendor-dbgsym', 'ros-iron-ros-gz-sim', 'ros-jazzy-gz-dartsim-vendor-dbgsym', 'ros-humble-ros-gz-bridge', 'ros-jazzy-irobot-create-gz-plugins-dbgsym', 'ros-iron-leo-gz-worlds', 'ros-humble-ros-gz-interfaces-dbgsym', 'ros-rolling-gz-msgs-vendor-dbgsym', 'ros-jazzy-gz-tools-vendor-dbgsym', 'ros-iron-test-ros-gz-bridge', 'ros-humble-leo-gz-plugins-dbgsym', 'ros-jazzy-gz-launch-vendor-dbgsym', 'ros-jazzy-turtlebot4-gz-toolbox-dbgsym', 'ros-jazzy-gz-transport-vendor-dbgsym', 'ros-iron-gz-ros2-control-dbgsym', 'ros-jazzy-leo-gz-plugins-dbgsym', 'ros-jazzy-gz-cmake-vendor', 'ros-rolling-gz-cmake-vendor', 'ros-rolling-gz-dartsim-vendor-dbgsym', 'ros-jazzy-irobot-create-gz-plugins', 'ros-jazzy-gz-plugin-vendor-dbgsym', 'ros-rolling-gz-ros2-control-demos-dbgsym', 'ros-iron-gz-ros2-control-demos', 'ros-rolling-gz-msgs-vendor', 'ros-iron-gz-ros2-control', 'ros-humble-ros-gz', 'ros-humble-ros-gz-bridge-dbgsym', 'ros-rolling-gz-ros2-control', 'ros-iron-ros-gz-interfaces-dbgsym', 'ros-rolling-ros-gz-sim-dbgsym', 'ros-jazzy-gz-gui-vendor', 'ros-humble-ros-gz-sim', 'ros-jazzy-ros-gz-image-dbgsym', 'ros-humble-ros-gz-sim-dbgsym', 'ros-jazzy-gz-dartsim-vendor', 'ros-iron-ros-gz-sim-dbgsym', 'ros-jazzy-gz-ros2-control-dbgsym', 'ros-humble-andino-gz', 'ros-humble-leo-gz-worlds', 'ros-rolling-gz-dartsim-vendor', 'ros-iron-ros-gz-interfaces', 'ros-jazzy-ros-gz-sim', 'ros-rolling-leo-gz-worlds', 'ros-rolling-gz-physics-vendor-dbgsym', 'ros-jazzy-gz-physics-vendor', 'ros-rolling-gz-physics-vendor', 'ros-humble-ros-gz-sim-demos', 'ros-jazzy-gz-utils-vendor', 'ros-rolling-gz-tools-vendor', 'ros-jazzy-leo-gz-worlds', 'ros-jazzy-ros-gz-interfaces', 'ros-rolling-gz-ogre-next-vendor-dbgsym', 'ros-jazzy-leo-gz-bringup', 'ros-rolling-leo-gz-bringup', 'ros-jazzy-ros-gz', 'ros-rolling-leo-gz-plugins', 'ros-rolling-gz-launch-vendor-dbgsym', 'ros-humble-clearpath-generator-gz', 'ros-jazzy-gz-math-vendor', 'ros-humble-leo-gz-bringup', 'ros-jazzy-gz-physics-vendor-dbgsym', 'ros-jazzy-gz-sensors-vendor-dbgsym', 'ros-iron-ros-gz-image', 'ros-jazzy-gz-ros2-control', 'ros-jazzy-ros-gz-bridge-dbgsym', 'ros-jazzy-gz-common-vendor-dbgsym', 'ros-iron-ros-gz', 'ros-jazzy-gz-sim-vendor-dbgsym', 'ros-rolling-gz-utils-vendor-dbgsym', 'ros-rolling-gz-common-vendor-dbgsym', 'ros-jazzy-turtlebot4-gz-gui-plugins-dbgsym', 'ros-rolling-gz-common-vendor', 'ros-rolling-gz-rendering-vendor-dbgsym', 'ros-rolling-gz-transport-vendor-dbgsym', 'ros-jazzy-gz-sim-vendor', 'ros-jazzy-ros-gz-image', 'ros-jazzy-gz-gui-vendor-dbgsym', 'ros-iron-ros-gz-bridge-dbgsym', 'ros-jazzy-leo-gz-plugins', 'ros-iron-ros-gz-image-dbgsym', 'ros-jazzy-gz-ogre-next-vendor', 'ros-jazzy-turtlebot4-gz-gui-plugins', 'ros-iron-leo-gz-bringup', 'ros-jazzy-gz-fuel-tools-vendor', 'ros-jazzy-test-ros-gz-bridge', 'ros-rolling-ros-gz-image-dbgsym', 'ros-rolling-gz-plugin-vendor', 'ros-rolling-gz-sim-vendor', 'ros-jazzy-gz-ros2-control-demos-dbgsym', 'ros-humble-ros-gz-interfaces-dbgsym%5f0.244.15-1jammy.20240728.220333%5famd64.deb', 'ros-rolling-gz-sensors-vendor', 'ros-rolling-ros-gz-bridge', 'ros-jazzy-gz-rendering-vendor', 'ros-humble-ros-gz-image-dbgsym', 'ros-jazzy-gz-msgs-vendor', 'ros-rolling-ros-gz-interfaces', 'ros-jazzy-gz-ros2-control-demos', 'ros-rolling-gz-sim-vendor-dbgsym', 'ros-rolling-gz-rendering-vendor', 'ros-rolling-ros-gz-interfaces-dbgsym', 'ros-jazzy-gz-fuel-tools-vendor-dbgsym', 'ros-rolling-gz-gui-vendor', 'ros-rolling-gz-gui-vendor-dbgsym', 'ros-rolling-ros-gz-sim-demos', 'ros-iron-leo-gz-plugins-dbgsym', 'ros-jazzy-ros-gz-sim-dbgsym', 'ros-rolling-ros-gz-sim', 'ros-iron-gz-ros2-control-demos-dbgsym', 'ros-humble-clearpath-gz', 'ros-rolling-gz-tools-vendor-dbgsym', 'ros-jazzy-ros-gz-interfaces-dbgsym', 'ros-iron-ros-gz-sim-demos', 'ros-humble-leo-gz-plugins', 'ros-rolling-ros-gz-bridge-dbgsym', 'python3-gz-math6', 'ros-rolling-gz-math-vendor-dbgsym', 'ros-jazzy-gz-plugin-vendor', 'ros-rolling-gz-launch-vendor', 'ros-jazzy-gz-ogre-next-vendor-dbgsym'}\n",
      "149\n",
      "{'ros-noetic-ros-ign-image-dbgsym', 'ros-humble-turtlebot4-ignition-toolbox-dbgsym', 'ros-rolling-ros-ign', 'ros-rolling-ignition-math6-vendor', 'ros-galactic-ign-ros2-control-demos', 'ros-iron-ros-ign-image-dbgsym', 'ros-galactic-turtlebot4-ignition-toolbox-dbgsym', 'ros-galactic-ros-ign-gazebo-demos', 'ros-noetic-ros-ign-gazebo-demos', 'ros-humble-irobot-create-ignition-bringup', 'ros-galactic-irobot-create-ignition-bringup', 'ros-iron-ros-ign-image', 'ros-foxy-ros-ign-image-dbgsym', 'ros-humble-ign-ros2-control-dbgsym', 'ros-melodic-bota-signal-handler-dbgsym', 'ros-iron-ros-ign-interfaces-dbgsym', 'ros-noetic-ros-ign-image', 'ros-foxy-ros-ign-gazebo', 'ros-rolling-ign-rviz-plugins-dbgsym', 'ros-foxy-ros-ign-gazebo-demos', 'ros-iron-ros-ign-gazebo-demos', 'ros-galactic-irobot-create-ignition-plugins', 'ros-humble-irobot-create-ignition-plugins', 'ros-iron-ros-ign-gazebo-dbgsym', 'ros-iron-ros-ign-gazebo', 'ros-rolling-ros-ign-bridge', 'ros-humble-irobot-create-ignition-plugins-dbgsym', 'ros-galactic-ros-ign-interfaces-dbgsym', 'ros-rolling-ign-rviz-common-dbgsym', 'ros-rolling-ros-ign-bridge-dbgsym', 'ros-foxy-ros-ign', 'ros-galactic-turtlebot4-ignition-gui-plugins-dbgsym', 'ros-rolling-ign-rviz', 'ros-humble-ros-ign-bridge-dbgsym', 'ros-rolling-ros-ign-gazebo-demos', 'ros-galactic-turtlebot4-ignition-toolbox', 'ros-humble-turtlebot4-ignition-bringup', 'ros-galactic-ros-ign-image-dbgsym', 'ros-galactic-ros-ign-gazebo-dbgsym', 'ros-foxy-crane-plus-ignition', 'ros-galactic-irobot-create-ignition-toolbox-dbgsym', 'ros-foxy-ros-ign-interfaces', 'ros-galactic-ign-rviz-plugins', 'ros-noetic-ign-ros-control-demos', 'ros-iron-ignition-math6-vendor', 'ros-rolling-ros-ign-gazebo-dbgsym', 'ros-humble-ros-ign-interfaces-dbgsym', 'ros-humble-ros-ign-interfaces', 'ros-noetic-ros-ign-gazebo-dbgsym', 'ros-humble-ros-ign-gazebo-dbgsym', 'ros-foxy-ign-ros2-control-dbgsym', 'ros-iron-ros-ign-bridge-dbgsym', 'ros-galactic-irobot-create-ignition-toolbox', 'ros-rolling-ign-rviz-dbgsym', 'ros-rolling-ignition-cmake2-vendor', 'ros-noetic-ros-ign-bridge-dbgsym', 'ros-rolling-ros-ign-image', 'ros-galactic-ros-ign-bridge-dbgsym', 'ros-foxy-ign-ros2-control-demos', 'ros-galactic-irobot-create-ignition-sim', 'ros-rolling-ros-ign-gazebo', 'ros-noetic-ros-ign-bridge', 'ros-galactic-ros-ign-gazebo', 'ros-foxy-dolly-ignition', 'ros-humble-ign-ros2-control-demos', 'ros-rolling-ros-ign-image-dbgsym', 'ros-galactic-ign-ros2-control-demos-dbgsym', 'ros-indigo-designator-integration', 'ros-galactic-turtlebot4-ignition-gui-plugins', 'ros-rolling-dolly-ignition', 'ros-kinetic-bota-signal-handler', 'ros-galactic-ros-ign-bridge', 'ros-galactic-ros-ign-interfaces', 'ros-galactic-ign-rviz', 'ros-humble-turtlebot4-ignition-gui-plugins-dbgsym', 'ros-galactic-ign-rviz-plugins-dbgsym', 'ros-rolling-ros-ign-interfaces-dbgsym', 'ros-galactic-ros-ign', 'ros-indigo-designator-integration-cpp', 'ros-foxy-ros-ign-interfaces-dbgsym', 'ros-galactic-dolly-ignition', 'ros-iron-ignition-cmake2-vendor', 'ros-galactic-ros-ign-image', 'ros-rolling-ign-rviz-plugins', 'ros-humble-ignition-math6-vendor', 'ros-noetic-bota-signal-handler', 'ros-foxy-ros-ign-image', 'ros-galactic-ign-ros2-control-dbgsym', 'ros-humble-ign-ros2-control', 'ros-humble-ign-ros2-control-demos-dbgsym', 'ros-foxy-ign-ros2-control-demos-dbgsym', 'ros-galactic-ign-rviz-common-dbgsym', 'ros-noetic-ros-ign', 'ros-humble-turtlebot4-ignition-toolbox', 'ros-melodic-bota-signal-handler', 'ros-galactic-ign-ros2-control', 'ros-noetic-bota-signal-handler-dbgsym', 'python3-ignition-math6', 'ros-humble-turtlebot4-ignition-gui-plugins', 'ros-iron-dolly-ignition', 'ros-iron-ros-ign', 'ros-humble-ros-ign-gazebo-demos', 'ros-humble-ignition-cmake2-vendor', 'ros-humble-dolly-ignition', 'ros-humble-ros-ign-image-dbgsym', 'ros-rolling-ign-rviz-common', 'python3-ignition-gazebo6', 'ros-foxy-ros-ign-gazebo-dbgsym', 'ros-galactic-irobot-create-ignition-plugins-dbgsym', 'ros-humble-irobot-create-ignition-toolbox-dbgsym', 'ros-humble-ros-ign-image', 'ros-humble-irobot-create-ignition-sim', 'ros-noetic-ros-ign-gazebo', 'ros-humble-ros-ign-gazebo', 'ros-humble-irobot-create-ignition-toolbox', 'ros-noetic-ign-ros-control', 'ros-galactic-turtlebot4-ignition-bringup', 'ros-galactic-ign-rviz-common', 'ros-humble-ros-ign-bridge', 'ros-rolling-ros-ign-interfaces', 'ros-foxy-ros-ign-bridge-dbgsym', 'ros-foxy-ign-ros2-control', 'ros-foxy-ros-ign-bridge', 'ros-humble-ros-ign', 'ros-noetic-ign-ros-control-dbgsym', 'ros-galactic-ign-rviz-dbgsym', 'ros-indigo-designator-integration-msgs', 'ros-indigo-designator-integration-lisp', 'ros-iron-ros-ign-bridge', 'ros-iron-ros-ign-interfaces'}\n",
      "130\n"
     ]
    }
   ],
   "source": [
    "set_gazebo = set([f for f in package_df[\"name\"].tolist() if \"gazebo\" in f and \"rmf\" not in f ])\n",
    "print(set_gazebo)\n",
    "print(len(set_gazebo))\n",
    "set_ignition = set([f for f in package_df[\"name\"].tolist() if \"ignition\" in f and \"rmf\" not in f])\n",
    "print(set_ignition)\n",
    "print(len(set_ignition))\n",
    "set_gz = set([f for f in package_df[\"name\"].tolist() if \"gz\" in f and \"rmf\" not in f and \"classic\" not in f])\n",
    "print(set_gz)\n",
    "print(len(set_gz))\n",
    "set_ign = set([f for f in package_df[\"name\"].tolist() if \"ign\" in f and \"rmf\" not in f ])\n",
    "print(set_ign)\n",
    "print(len(set_ign))\n"
   ]
  },
  {
   "cell_type": "code",
   "execution_count": 15,
   "metadata": {},
   "outputs": [
    {
     "name": "stdout",
     "output_type": "stream",
     "text": [
      "Set of new Gazebo packages, formerly Ignition\n",
      "279\n",
      "{'ros-rolling-test-ros-gz-bridge', 'ros-humble-turtlebot4-ignition-toolbox-dbgsym', 'ros-rolling-ros-gz', 'ros-rolling-gz-ogre-next-vendor', 'ros-jazzy-turtlebot4-gz-toolbox', 'ros-iron-ros-ign-image-dbgsym', 'ros-galactic-turtlebot4-ignition-toolbox-dbgsym', 'ros-galactic-ros-ign-gazebo-demos', 'ros-jazzy-gz-utils-vendor-dbgsym', 'ros-noetic-ros-ign-gazebo-demos', 'ros-jazzy-ros-gz-sim-demos', 'ros-humble-irobot-create-ignition-bringup', 'ros-galactic-irobot-create-ignition-bringup', 'ros-foxy-ros-ign-image-dbgsym', 'ros-rolling-gz-transport-vendor', 'ros-humble-ign-ros2-control-dbgsym', 'ros-jazzy-gz-sensors-vendor', 'ros-rolling-gz-fuel-tools-vendor-dbgsym', 'ros-rolling-ign-rviz-plugins-dbgsym', 'ros-iron-ros-ign-gazebo-demos', 'ros-humble-irobot-create-ignition-plugins', 'ros-iron-ros-ign-gazebo-dbgsym', 'ros-iron-ros-ign-gazebo', 'ros-rolling-gz-sensors-vendor-dbgsym', 'ros-rolling-gz-math-vendor', 'ros-humble-ros-gz-interfaces', 'ros-galactic-ros-ign-interfaces-dbgsym', 'ros-rolling-ign-rviz-common-dbgsym', 'ros-rolling-gz-utils-vendor', 'ros-humble-ros-gz-bridge', 'ros-humble-ros-gz-interfaces-dbgsym', 'ros-humble-ros-ign-bridge-dbgsym', 'ros-rolling-ros-ign-gazebo-demos', 'ros-jazzy-gz-launch-vendor-dbgsym', 'ros-jazzy-turtlebot4-gz-toolbox-dbgsym', 'ros-galactic-turtlebot4-ignition-toolbox', 'ros-jazzy-gz-transport-vendor-dbgsym', 'ros-humble-turtlebot4-ignition-bringup', 'ros-iron-gz-ros2-control-dbgsym', 'ros-galactic-ros-ign-image-dbgsym', 'ros-jazzy-gz-cmake-vendor', 'ros-galactic-ros-ign-gazebo-dbgsym', 'ros-foxy-crane-plus-ignition', 'ros-rolling-gz-cmake-vendor', 'ros-jazzy-irobot-create-gz-plugins', 'ros-galactic-ign-rviz-plugins', 'ros-rolling-gz-ros2-control-demos-dbgsym', 'ros-iron-ignition-math6-vendor', 'ros-iron-ros-ign-interfaces', 'ros-rolling-gz-msgs-vendor', 'ros-rolling-ros-ign-gazebo-dbgsym', 'ros-humble-ros-ign-interfaces-dbgsym', 'ros-humble-ros-ign-interfaces', 'ros-humble-ros-gz-bridge-dbgsym', 'ros-humble-ros-ign-gazebo-dbgsym', 'ros-iron-ros-gz-interfaces-dbgsym', 'ros-iron-ros-ign-bridge-dbgsym', 'ros-galactic-irobot-create-ignition-toolbox', 'ros-rolling-ros-gz-sim-dbgsym', 'ros-jazzy-gz-gui-vendor', 'ros-rolling-ignition-cmake2-vendor', 'ros-iron-ros-gz-sim-dbgsym', 'ros-noetic-ros-ign-bridge', 'ros-galactic-ros-ign-gazebo', 'ros-foxy-dolly-ignition', 'ros-humble-ign-ros2-control-demos', 'ros-iron-ros-gz-interfaces', 'ros-rolling-gz-physics-vendor', 'ros-indigo-designator-integration', 'ros-rolling-dolly-ignition', 'ros-kinetic-bota-signal-handler', 'ros-humble-ros-gz-sim-demos', 'ros-jazzy-gz-utils-vendor', 'ros-jazzy-leo-gz-worlds', 'ros-jazzy-ros-gz-interfaces', 'ros-galactic-ros-ign-interfaces', 'ros-jazzy-leo-gz-bringup', 'ros-humble-turtlebot4-ignition-gui-plugins-dbgsym', 'ros-rolling-leo-gz-bringup', 'ros-rolling-ros-ign-interfaces-dbgsym', 'ros-galactic-ros-ign', 'ros-indigo-designator-integration-cpp', 'ros-humble-clearpath-generator-gz', 'ros-iron-ignition-cmake2-vendor', 'ros-galactic-ros-ign-image', 'ros-rolling-ign-rviz-plugins', 'ros-jazzy-gz-math-vendor', 'ros-humble-leo-gz-bringup', 'ros-humble-ignition-math6-vendor', 'ros-jazzy-gz-physics-vendor-dbgsym', 'ros-jazzy-gz-ros2-control', 'ros-foxy-ros-ign-image', 'ros-iron-ros-gz', 'ros-jazzy-gz-sim-vendor-dbgsym', 'ros-foxy-ign-ros2-control-demos-dbgsym', 'ros-jazzy-turtlebot4-gz-gui-plugins-dbgsym', 'ros-rolling-gz-rendering-vendor-dbgsym', 'ros-rolling-gz-transport-vendor-dbgsym', 'ros-noetic-bota-signal-handler-dbgsym', 'ros-jazzy-gz-gui-vendor-dbgsym', 'python3-ignition-math6', 'ros-jazzy-leo-gz-plugins', 'ros-jazzy-gz-ogre-next-vendor', 'ros-jazzy-turtlebot4-gz-gui-plugins', 'ros-iron-ros-ign', 'ros-humble-ros-ign-gazebo-demos', 'ros-rolling-ros-gz-image-dbgsym', 'ros-humble-ignition-cmake2-vendor', 'ros-humble-dolly-ignition', 'ros-humble-ros-ign-image-dbgsym', 'ros-rolling-ign-rviz-common', 'ros-rolling-gz-sim-vendor', 'ros-jazzy-gz-ros2-control-demos-dbgsym', 'ros-foxy-ros-ign-gazebo-dbgsym', 'ros-humble-ros-gz-interfaces-dbgsym%5f0.244.15-1jammy.20240728.220333%5famd64.deb', 'ros-rolling-gz-sensors-vendor', 'ros-humble-ros-ign-image', 'ros-rolling-ros-gz-bridge', 'ros-humble-ros-ign-gazebo', 'ros-rolling-ros-gz-interfaces', 'ros-rolling-gz-rendering-vendor', 'ros-rolling-ros-gz-interfaces-dbgsym', 'ros-galactic-ign-rviz-common', 'ros-rolling-ros-ign-interfaces', 'ros-foxy-ros-ign-bridge-dbgsym', 'ros-foxy-ign-ros2-control', 'ros-jazzy-ros-gz-sim-dbgsym', 'ros-humble-clearpath-gz', 'ros-jazzy-ros-gz-interfaces-dbgsym', 'ros-iron-ros-gz-sim-demos', 'ros-humble-leo-gz-plugins', 'ros-noetic-ign-ros-control-dbgsym', 'ros-galactic-ign-rviz-dbgsym', 'ros-indigo-designator-integration-msgs', 'ros-indigo-designator-integration-lisp', 'python3-gz-math6', 'ros-rolling-gz-math-vendor-dbgsym', 'ros-jazzy-gz-ogre-next-vendor-dbgsym', 'ros-noetic-ros-ign-image-dbgsym', 'ros-rolling-ros-ign', 'ros-rolling-ignition-math6-vendor', 'ros-galactic-ign-ros2-control-demos', 'ros-jazzy-gz-rendering-vendor-dbgsym', 'ros-iron-leo-gz-plugins', 'ros-iron-ros-gz-bridge', 'ros-rolling-gz-ros2-control-demos', 'ros-iron-ros-ign-image', 'python3-gz-sim6', 'ros-jazzy-gz-launch-vendor', 'ros-rolling-gz-fuel-tools-vendor', 'ros-melodic-bota-signal-handler-dbgsym', 'ros-iron-ros-ign-interfaces-dbgsym', 'ros-humble-ros-gz-image', 'ros-noetic-ros-ign-image', 'ros-jazzy-ros-gz-bridge', 'ros-jazzy-gz-tools-vendor', 'ros-jazzy-gz-common-vendor', 'ros-jazzy-gz-msgs-vendor-dbgsym', 'ros-rolling-ros-gz-image', 'ros-rolling-leo-gz-plugins-dbgsym', 'ros-foxy-ros-ign-gazebo', 'ros-foxy-ros-ign-gazebo-demos', 'ros-galactic-irobot-create-ignition-plugins', 'ros-rolling-gz-plugin-vendor-dbgsym', 'ros-rolling-gz-ros2-control-dbgsym', 'ros-rolling-ros-ign-bridge', 'ros-humble-irobot-create-ignition-plugins-dbgsym', 'ros-jazzy-gz-transport-vendor', 'ros-rolling-ros-ign-bridge-dbgsym', 'ros-jazzy-gz-math-vendor-dbgsym', 'ros-foxy-ros-ign', 'ros-galactic-turtlebot4-ignition-gui-plugins-dbgsym', 'ros-iron-ros-gz-sim', 'ros-rolling-ign-rviz', 'ros-jazzy-gz-dartsim-vendor-dbgsym', 'ros-jazzy-irobot-create-gz-plugins-dbgsym', 'ros-iron-leo-gz-worlds', 'ros-rolling-gz-msgs-vendor-dbgsym', 'ros-jazzy-gz-tools-vendor-dbgsym', 'ros-iron-test-ros-gz-bridge', 'ros-humble-leo-gz-plugins-dbgsym', 'ros-jazzy-leo-gz-plugins-dbgsym', 'ros-galactic-irobot-create-ignition-toolbox-dbgsym', 'ros-rolling-gz-dartsim-vendor-dbgsym', 'ros-foxy-ros-ign-interfaces', 'ros-noetic-ign-ros-control-demos', 'ros-jazzy-gz-plugin-vendor-dbgsym', 'ros-iron-gz-ros2-control-demos', 'ros-iron-gz-ros2-control', 'ros-humble-ros-gz', 'ros-noetic-ros-ign-gazebo-dbgsym', 'ros-rolling-gz-ros2-control', 'ros-foxy-ign-ros2-control-dbgsym', 'ros-humble-ros-gz-sim', 'ros-rolling-ign-rviz-dbgsym', 'ros-jazzy-ros-gz-image-dbgsym', 'ros-humble-ros-gz-sim-dbgsym', 'ros-jazzy-gz-dartsim-vendor', 'ros-noetic-ros-ign-bridge-dbgsym', 'ros-rolling-ros-ign-image', 'ros-galactic-ros-ign-bridge-dbgsym', 'ros-foxy-ign-ros2-control-demos', 'ros-galactic-irobot-create-ignition-sim', 'ros-rolling-ros-ign-gazebo', 'ros-jazzy-gz-ros2-control-dbgsym', 'ros-humble-andino-gz', 'ros-humble-leo-gz-worlds', 'ros-rolling-gz-dartsim-vendor', 'ros-rolling-ros-ign-image-dbgsym', 'ros-jazzy-ros-gz-sim', 'ros-galactic-ign-ros2-control-demos-dbgsym', 'ros-rolling-leo-gz-worlds', 'ros-rolling-gz-physics-vendor-dbgsym', 'ros-jazzy-gz-physics-vendor', 'ros-galactic-turtlebot4-ignition-gui-plugins', 'ros-galactic-ros-ign-bridge', 'ros-rolling-gz-tools-vendor', 'ros-rolling-gz-ogre-next-vendor-dbgsym', 'ros-galactic-ign-rviz', 'ros-galactic-ign-rviz-plugins-dbgsym', 'ros-jazzy-ros-gz', 'ros-rolling-leo-gz-plugins', 'ros-rolling-gz-launch-vendor-dbgsym', 'ros-foxy-ros-ign-interfaces-dbgsym', 'ros-galactic-dolly-ignition', 'ros-noetic-bota-signal-handler', 'ros-jazzy-gz-sensors-vendor-dbgsym', 'ros-iron-ros-gz-image', 'ros-galactic-ign-ros2-control-dbgsym', 'ros-jazzy-ros-gz-bridge-dbgsym', 'ros-jazzy-gz-common-vendor-dbgsym', 'ros-humble-ign-ros2-control', 'ros-rolling-gz-utils-vendor-dbgsym', 'ros-rolling-gz-common-vendor-dbgsym', 'ros-humble-ign-ros2-control-demos-dbgsym', 'ros-galactic-ign-rviz-common-dbgsym', 'ros-noetic-ros-ign', 'ros-humble-turtlebot4-ignition-toolbox', 'ros-rolling-gz-common-vendor', 'ros-melodic-bota-signal-handler', 'ros-jazzy-gz-sim-vendor', 'ros-galactic-ign-ros2-control', 'ros-jazzy-ros-gz-image', 'ros-iron-ros-gz-bridge-dbgsym', 'ros-humble-turtlebot4-ignition-gui-plugins', 'ros-iron-ros-gz-image-dbgsym', 'ros-iron-dolly-ignition', 'ros-iron-leo-gz-bringup', 'ros-jazzy-gz-fuel-tools-vendor', 'ros-jazzy-test-ros-gz-bridge', 'python3-ignition-gazebo6', 'ros-rolling-gz-plugin-vendor', 'ros-galactic-irobot-create-ignition-plugins-dbgsym', 'ros-humble-irobot-create-ignition-toolbox-dbgsym', 'ros-humble-irobot-create-ignition-sim', 'ros-noetic-ros-ign-gazebo', 'ros-jazzy-gz-rendering-vendor', 'ros-humble-ros-gz-image-dbgsym', 'ros-jazzy-gz-msgs-vendor', 'ros-humble-irobot-create-ignition-toolbox', 'ros-jazzy-gz-ros2-control-demos', 'ros-rolling-gz-sim-vendor-dbgsym', 'ros-noetic-ign-ros-control', 'ros-galactic-turtlebot4-ignition-bringup', 'ros-jazzy-gz-fuel-tools-vendor-dbgsym', 'ros-rolling-gz-gui-vendor', 'ros-humble-ros-ign-bridge', 'ros-rolling-gz-gui-vendor-dbgsym', 'ros-rolling-ros-gz-sim-demos', 'ros-iron-leo-gz-plugins-dbgsym', 'ros-rolling-ros-gz-sim', 'ros-iron-gz-ros2-control-demos-dbgsym', 'ros-foxy-ros-ign-bridge', 'ros-rolling-gz-tools-vendor-dbgsym', 'ros-humble-ros-ign', 'ros-rolling-ros-gz-bridge-dbgsym', 'ros-iron-ros-ign-bridge', 'ros-jazzy-gz-plugin-vendor', 'ros-rolling-gz-launch-vendor'}\n",
      "----------------\n",
      "Set of Gazebo Classic packages\n",
      "497\n",
      "{'ros-kinetic-ainstein-radar-gazebo-plugins', 'ros-melodic-gazebo-msgs', 'ros-noetic-gazebo-video-monitor-plugins', 'ros-kinetic-ur-e-gazebo', 'ros-foxy-husky-gazebo', 'ros-galactic-velodyne-gazebo-plugins-dbgsym', 'ros-iron-gazebo-ros-pkgs', 'ros-noetic-gazebo-video-monitors', 'ros-kinetic-agvs-gazebo', 'ros-melodic-rotors-gazebo', 'ros-melodic-cob-gazebo-worlds', 'ros-rolling-velodyne-gazebo-plugins', 'ros-humble-irobot-create-gazebo-bringup', 'ros-indigo-gazebo-state-plugins', 'ros-rolling-turtlebot3-gazebo-dbgsym', 'ros-iron-gazebo-ros2-control-demos-dbgsym', 'ros-indigo-innok-heros-gazebo', 'ros-indigo-rotors-gazebo-plugins', 'ros-noetic-open-manipulator-p-gazebo', 'ros-noetic-qb-device-gazebo', 'ros-noetic-rm-gazebo-dbgsym', 'ros-indigo-youbot-gazebo-robot', 'ros-noetic-audibot-gazebo-dbgsym', 'ros-melodic-ridgeback-gazebo-plugins', 'ros-noetic-warthog-gazebo', 'ros-humble-gazebo-set-joint-positions-plugin-dbgsym', 'ros-humble-tiago-gazebo-dbgsym', 'ros-noetic-mia-hand-gazebo-dbgsym', 'ros-noetic-gazebo-ros-control-dbgsym', 'ros-melodic-gazebo-plugins', 'ros-kinetic-wamv-gazebo', 'ros-melodic-igvc-self-drive-gazebo', 'ros-melodic-hector-gazebo-worlds', 'ros-melodic-heron-gazebo', 'ros-melodic-uuv-gazebo-plugins-dbgsym', 'ros-indigo-pr2-controller-configuration-gazebo', 'ros-kinetic-cob-gazebo-worlds', 'ros-melodic-gazebo-video-monitor-msgs', 'ros-humble-gazebo-msgs', 'ros-melodic-leo-gazebo', 'ros-noetic-franka-gazebo-dbgsym', 'ros-galactic-gazebo-ros-pkgs', 'ros-melodic-velodyne-gazebo-plugins', 'ros-dashing-gazebo-dev', 'ros-melodic-hector-gazebo-plugins-dbgsym', 'ros-noetic-hector-gazebo', 'ros-kinetic-romeo-gazebo-plugin', 'ros-melodic-rotors-gazebo-dbgsym', 'ros-indigo-hrpsys-gazebo-general', 'ros-noetic-turtlebot3-gazebo%5f1.3.2-2focal.20240913.201942%5famd64.deb', 'ros-rolling-gazebo-ros-pkgs', 'ros-kinetic-husky-gazebo', 'ros-kinetic-katana-gazebo-plugins', 'ros-indigo-gazebo-concert', 'ros-indigo-create-gazebo-plugins', 'ros-melodic-cob-gazebo-ros-control-dbgsym', 'ros-melodic-gazebo-ros', 'ros-noetic-husky-gazebo', 'ros-noetic-turtlebot3-gazebo', 'ros-eloquent-gazebo-plugins', 'ros-kinetic-mir-gazebo', 'ros-melodic-omnibase-gazebo', 'ros-humble-raspimouse-gazebo', 'ros-indigo-evarobot-gazebo', 'ros-melodic-uuv-gazebo-ros-plugins-msgs', 'ros-humble-gazebo-ros2-control', 'ros-foxy-turtlebot3-gazebo-dbgsym', 'ros-kinetic-katana-arm-gazebo', 'ros-kinetic-khi-duaro-gazebo', 'ros-indigo-summit-xl-gazebo', 'ros-melodic-cob-gazebo-plugins', 'ros-galactic-irobot-create-gazebo-plugins', 'ros-noetic-franka-gazebo', 'ros-humble-talos-gazebo', 'ros-humble-gazebo-set-joint-positions-plugin', 'ros-noetic-ridgeback-gazebo', 'ros-humble-gazebo-video-monitor-utils', 'ros-indigo-youbot-gazebo-control', 'ros-lunar-gazebo-dev', 'ros-galactic-gazebo-ros-dbgsym', 'ros-humble-gazebo-plugins-dbgsym', 'ros-noetic-jackal-gazebo', 'ros-melodic-igvc-self-drive-gazebo-plugins', 'ros-noetic-mecanum-gazebo-plugin', 'ros-foxy-gazebo-ros2-control', 'ros-galactic-velodyne-gazebo-plugins', 'ros-humble-gazebo-ros2-control-dbgsym', 'ros-rolling-gazebo-plugins', 'ros-humble-velodyne-gazebo-plugins', 'ros-humble-omni-base-gazebo', 'ros-noetic-gazebo-msgs', 'ros-rolling-gazebo-msgs-dbgsym', 'ros-iron-turtlebot3-gazebo', 'ros-indigo-velodyne-gazebo-plugins', 'ros-melodic-cob-gazebo-tools', 'ros-kinetic-hector-gazebo', 'ros-noetic-qb-move-gazebo', 'ros-melodic-robosense-gazebo-plugins-dbgsym', 'ros-noetic-hector-gazebo-thermal-camera-dbgsym', 'ros-indigo-vs060-gazebo', 'ros-humble-pal-gazebo-worlds', 'ros-noetic-qb-move-gazebo-dbgsym', 'ros-noetic-robotont-gazebo', 'ros-noetic-leo-gazebo-worlds', 'ros-humble-gazebo-no-physics-plugin', 'ros-indigo-bwi-gazebo-entities', 'ros-kinetic-open-manipulator-p-gazebo', 'ros-foxy-nav2-gazebo-spawner', 'ros-indigo-fetch-gazebo-demo', 'ros-foxy-gazebo-ros2-control-demos-dbgsym', 'ros-galactic-gazebo-ros2-control-demos', 'ros-noetic-gazebo-ros-dbgsym', 'ros-humble-gazebo-model-attachment-plugin', 'ros-foxy-gazebo-ros-dbgsym', 'ros-melodic-khi-duaro-gazebo', 'ros-noetic-gazebo-ros-control', 'ros-iron-gazebo-ros', 'ros-noetic-gazebo-model-attachment-plugin', 'ros-indigo-hector-gazebo-thermal-camera', 'ros-kinetic-summit-xl-gazebo', 'ros-humble-pal-gazebo-plugins-dbgsym', 'ros-kinetic-prbt-gazebo', 'ros-humble-velodyne-gazebo-plugins-dbgsym', 'ros-rolling-turtlebot3-gazebo', 'ros-indigo-cob-gazebo-worlds', 'ros-melodic-gazebo-plugins-dbgsym', 'ros-noetic-gazebo-custom-sensor-preloader', 'ros-melodic-mecanum-gazebo-plugin', 'ros-noetic-prbt-gazebo', 'ros-indigo-katana-gazebo-plugins', 'ros-noetic-cob-gazebo-worlds', 'ros-noetic-gazebo-ros-pkgs', 'ros-indigo-ur-gazebo', 'ros-melodic-mir-gazebo', 'ros-noetic-gazebo-video-monitor-utils', 'ros-noetic-cob-gazebo', 'ros-melodic-leo-gazebo-dbgsym', 'ros-eloquent-gazebo-ros', 'ros-humble-pmb2-gazebo', 'ros-kinetic-pepper-gazebo-plugin', 'ros-noetic-dingo-gazebo', 'ros-humble-gazebo-planar-move-plugin-dbgsym', 'ros-galactic-gazebo-msgs-dbgsym', 'ros-indigo-kobuki-gazebo', 'ros-kinetic-thormang3-gazebo', 'ros-galactic-irobot-create-gazebo-sim', 'ros-kinetic-eca-a9-gazebo', 'ros-noetic-qb-hand-gazebo-dbgsym', 'ros-indigo-baxter-gazebo', 'ros-noetic-mia-hand-gazebo', 'ros-dashing-gazebo-msgs-dbgsym', 'ros-melodic-turtlebot3-gazebo-dbgsym', 'ros-kinetic-kobuki-gazebo-plugins', 'ros-noetic-gazebo-video-monitor-plugins-dbgsym', 'ros-indigo-gazebo-ros-pkgs', 'ros-melodic-dingo-gazebo', 'ros-kinetic-gazebo-ros', 'ros-melodic-husky-gazebo', 'ros-melodic-open-manipulator-p-gazebo', 'ros-indigo-nao-gazebo-plugin', 'ros-iron-velodyne-gazebo-plugins', 'ros-humble-crane-plus-gazebo', 'ros-indigo-gazebo-ros-control', 'ros-kinetic-pr2-gazebo-plugins', 'ros-kinetic-op3-gazebo', 'ros-rolling-gazebo-ros2-control-dbgsym', 'ros-noetic-hector-gazebo-plugins-dbgsym', 'ros-melodic-robosense-gazebo-plugins', 'ros-melodic-pr2-gazebo-plugins', 'ros-kinetic-cob-gazebo-ros-control', 'ros-indigo-mir-gazebo', 'ros-melodic-gazebo-ros-control', 'ros-melodic-audibot-gazebo-dbgsym', 'ros-iron-gazebo-msgs', 'ros-foxy-pmb2-2dnav-gazebo', 'ros-melodic-gazebo-ros-pkgs', 'ros-noetic-open-manipulator-p-gazebo-dbgsym', 'ros-noetic-hector-gazebo-thermal-camera', 'ros-noetic-diffbot-gazebo', 'ros-noetic-hector-gazebo-plugins', 'ros-galactic-gazebo-plugins-dbgsym', 'ros-noetic-warthog-gazebo-dbgsym', 'ros-indigo-summit-x-gazebo', 'ros-kinetic-ur-gazebo', 'ros-indigo-pepper-gazebo-plugin', 'ros-melodic-franka-gazebo-dbgsym', 'ros-kinetic-pr2-controller-configuration-gazebo', 'ros-dashing-turtlebot3-gazebo', 'ros-melodic-gazebo-video-monitor-plugins-dbgsym', 'ros-rolling-gazebo-plugins-dbgsym', 'ros-melodic-hector-gazebo-thermal-camera', 'ros-jazzy-gazebo-msgs', 'ros-melodic-hector-sensors-gazebo', 'ros-lunar-gazebo-msgs', 'ros-indigo-aubo-gazebo', 'ros-iron-gazebo-ros2-control', 'ros-kinetic-audibot-gazebo', 'ros-noetic-gazebo-model-attachment-plugin-dbgsym', 'ros-kinetic-cob-gazebo-objects', 'ros-indigo-jaco-gazebo', 'ros-rolling-gazebo-ros2-control', 'ros-melodic-mrp2-gazebo', 'ros-melodic-warthog-gazebo', 'ros-dashing-turtlebot3-gazebo-dbgsym', 'ros-galactic-gazebo-msgs', 'ros-indigo-gazebo-test-tools', 'ros-melodic-fetch-gazebo-dbgsym', 'ros-kinetic-barrett-hand-gazebo', 'ros-melodic-uuv-gazebo-ros-plugins-dbgsym', 'ros-melodic-vrx-gazebo', 'ros-melodic-fetch-gazebo-demo', 'ros-melodic-robotont-gazebo', 'ros-noetic-turtlebot3-gazebo-dbgsym', 'ros-melodic-open-manipulator-p-gazebo-dbgsym', 'ros-noetic-pr2-controller-configuration-gazebo', 'ros-galactic-gazebo-ros2-control-demos-dbgsym', 'ros-noetic-cob-gazebo-plugins', 'ros-humble-gazebo-ros2-control-demos', 'ros-humble-turtlebot3-gazebo-dbgsym', 'ros-melodic-open-manipulator-gazebo-dbgsym', 'ros-noetic-gazebo-plugins', 'ros-indigo-kobuki-gazebo-plugins', 'ros-kinetic-blender-gazebo', 'ros-melodic-audibot-gazebo', 'ros-melodic-gazebo-dev', 'ros-foxy-jackal-gazebo', 'ros-kinetic-gazebo-msgs', 'ros-rolling-gazebo-dev', 'ros-melodic-open-manipulator-with-tb3-gazebo', 'ros-humble-irobot-create-gazebo-plugins-dbgsym', 'ros-jazzy-scenario-execution-gazebo', 'ros-dashing-gazebo-ros-pkgs', 'ros-melodic-igvc-self-drive-gazebo-plugins-dbgsym', 'ros-galactic-gazebo-ros2-control-dbgsym', 'ros-iron-gazebo-ros-dbgsym', 'ros-kinetic-desistek-saga-gazebo', 'ros-melodic-gazebo-video-monitor-plugins', 'ros-indigo-husky-gazebo', 'ros-melodic-uuv-gazebo-worlds', 'ros-indigo-cob-gazebo-ros-control', 'ros-indigo-jackal-gazebo', 'ros-kinetic-hector-gazebo-thermal-camera', 'ros-galactic-turtlebot3-gazebo', 'ros-foxy-pal-gazebo-worlds', 'ros-melodic-wave-gazebo-plugins-dbgsym', 'ros-indigo-gazebo-ros', 'ros-melodic-tuw-gazebo-msgs', 'ros-humble-gazebo-video-monitor-plugins-dbgsym', 'ros-humble-irobot-create-gazebo-sim', 'ros-kinetic-turtlebot-gazebo', 'ros-melodic-vrx-gazebo-dbgsym', 'ros-noetic-cob-gazebo-tools', 'ros-noetic-khi-duaro-gazebo', 'ros-melodic-jackal-gazebo', 'ros-melodic-lauv-gazebo', 'ros-melodic-gundam-rx78-gazebo', 'ros-kinetic-lauv-gazebo', 'ros-melodic-blender-gazebo', 'ros-humble-gazebo-planar-move-plugin', 'ros-foxy-dolly-gazebo', 'ros-melodic-wave-gazebo', 'ros-kinetic-gazebo-dev', 'ros-kinetic-rb1-base-gazebo', 'ros-rolling-gazebo-ros2-control-demos', 'ros-eloquent-gazebo-msgs', 'ros-kinetic-hector-sensors-gazebo', 'ros-lunar-gazebo-ros-pkgs', 'ros-noetic-hector-sensors-gazebo', 'ros-melodic-ainstein-radar-gazebo-plugins', 'ros-melodic-eca-a9-gazebo', 'ros-eloquent-nav2-gazebo-spawner', 'ros-noetic-gazebo-ros-control-select-joints', 'ros-jazzy-gazebo-msgs-dbgsym', 'ros-humble-gazebo-video-monitor-plugins', 'ros-noetic-ridgeback-gazebo-plugins', 'ros-crystal-gazebo-msgs', 'ros-melodic-khi-rs-gazebo', 'ros-kinetic-cob-gazebo-tools', 'ros-indigo-youbot-gazebo-worlds', 'ros-melodic-ur-gazebo', 'ros-indigo-hector-quadrotor-controller-gazebo', 'ros-melodic-gazebo-ros-dbgsym', 'ros-noetic-gazebo-video-monitor-msgs', 'ros-indigo-spur-gazebo', 'ros-indigo-concert-service-gazebo', 'ros-galactic-gazebo-ros', 'ros-foxy-gazebo-ros', 'ros-iron-gazebo-video-monitor-utils', 'ros-iron-gazebo-plugins', 'ros-melodic-uuv-gazebo-plugins', 'ros-melodic-hector-gazebo-plugins', 'ros-melodic-gazebo-video-monitors', 'ros-galactic-dolly-gazebo', 'ros-melodic-denso-robot-gazebo', 'ros-iron-gazebo-ros2-control-demos', 'ros-humble-gazebo-dev', 'ros-humble-gazebo-ros', 'ros-lunar-gazebo-ros-control-dbgsym', 'ros-noetic-pr2-gazebo-plugins-dbgsym', 'ros-melodic-hector-gazebo-thermal-camera-dbgsym', 'ros-humble-gazebo-model-attachment-plugin-msgs', 'ros-kinetic-mecanum-gazebo-plugin', 'ros-indigo-segbot-gazebo', 'ros-melodic-fetch-gazebo', 'ros-kinetic-open-manipulator-gazebo', 'ros-humble-gazebo-video-monitor-interfaces', 'ros-melodic-wave-gazebo-plugins', 'ros-dashing-gazebo-msgs', 'ros-melodic-qb-device-gazebo', 'ros-indigo-tetris-gazebo', 'ros-iron-gazebo-video-monitor-interfaces-dbgsym', 'ros-humble-as2-platform-gazebo-dbgsym', 'ros-noetic-cob-gazebo-objects', 'ros-noetic-cob-gazebo-plugins-dbgsym', 'ros-rolling-gazebo-ros', 'ros-indigo-pr2-gazebo-plugins', 'ros-noetic-leo-gazebo', 'ros-galactic-gazebo-plugins', 'ros-indigo-turtlebot-gazebo', 'ros-humble-gazebo-ros-pkgs', 'ros-indigo-cob-gazebo-plugins', 'ros-noetic-pr2-gazebo-plugins', 'ros-indigo-gazebo-plugins', 'ros-humble-as2-gazebo-assets-dbgsym', 'ros-dashing-gazebo-plugins-dbgsym', 'ros-indigo-rotors-gazebo', 'ros-indigo-cob-gazebo-objects', 'ros-foxy-turtlebot3-gazebo', 'ros-noetic-cob-gazebo-ros-control', 'ros-noetic-leo-gazebo-plugins-dbgsym', 'ros-foxy-gazebo-dev', 'ros-lunar-gazebo-plugins', 'ros-noetic-gazebo-ros', 'ros-indigo-hector-gazebo-plugins', 'ros-noetic-roboticsgroup-upatras-gazebo-plugins-dbgsym', 'ros-melodic-ridgeback-gazebo', 'ros-galactic-nav2-gazebo-spawner', 'ros-indigo-gazebo-grasp-plugin', 'ros-indigo-pr2-gazebo', 'ros-indigo-gazebo-world-plugin-loader', 'ros-melodic-wamv-gazebo', 'ros-melodic-uuv-gazebo', 'ros-indigo-katana-arm-gazebo', 'ros-foxy-velodyne-gazebo-plugins-dbgsym', 'ros-foxy-gazebo-ros2-control-demos', 'ros-humble-irobot-create-gazebo-plugins', 'ros-galactic-gazebo-ros2-control', 'ros-noetic-audibot-gazebo', 'ros-galactic-gazebo-dev', 'ros-kinetic-cob-gazebo', 'ros-humble-gazebo-plugins', 'ros-melodic-desistek-saga-gazebo', 'ros-kinetic-dsr-gazebo', 'ros-melodic-cob-gazebo-ros-control', 'ros-foxy-gazebo-msgs', 'ros-kinetic-gazebo-plugins', 'ros-kinetic-khi-rs-gazebo', 'ros-iron-dolly-gazebo', 'ros-foxy-gazebo-ros-pkgs', 'ros-kinetic-kobuki-gazebo', 'ros-kinetic-nextage-gazebo', 'ros-indigo-hector-quadrotor-gazebo', 'ros-rolling-gazebo-ros2-control-demos-dbgsym', 'ros-lunar-gazebo-ros-control', 'ros-humble-as2-gazebo-assets', 'ros-kinetic-gazebo-ros-pkgs', 'ros-melodic-velodyne-gazebo-plugins-dbgsym', 'ros-melodic-warthog-gazebo-dbgsym', 'ros-indigo-sr-gazebo-plugins', 'ros-eloquent-gazebo-ros-dbgsym', 'ros-indigo-hector-quadrotor-gazebo-plugins', 'ros-melodic-uuv-gazebo-ros-plugins', 'ros-noetic-open-manipulator-gazebo-dbgsym', 'ros-noetic-ridgeback-gazebo-plugins-dbgsym', 'ros-humble-gazebo-ros-dbgsym', 'ros-kinetic-open-manipulator-with-tb3-gazebo', 'ros-noetic-cob-gazebo-ros-control-dbgsym', 'ros-indigo-hector-gazebo', 'ros-noetic-mir-gazebo', 'ros-kinetic-raspigibbon-gazebo', 'ros-melodic-usv-gazebo-plugins', 'ros-kinetic-cob-gazebo-plugins', 'ros-foxy-pmb2-gazebo', 'ros-indigo-grizzly-gazebo', 'ros-melodic-pr2-controller-configuration-gazebo', 'ros-iron-gazebo-msgs-dbgsym', 'ros-noetic-velodyne-gazebo-plugins-dbgsym', 'ros-kinetic-summit-x-gazebo', 'ros-noetic-open-manipulator-gazebo', 'ros-jazzy-dolly-gazebo', 'ros-dashing-gazebo-ros', 'ros-kinetic-igvc-self-drive-gazebo-plugins', 'ros-iron-gazebo-video-monitor-plugins', 'ros-melodic-gazebo-ros-control-dbgsym', 'ros-rolling-gazebo-ros-dbgsym', 'ros-rolling-dolly-gazebo', 'ros-indigo-aras-visual-servo-gazebo', 'ros-noetic-gazebo-dev', 'ros-humble-gazebo-video-monitor-interfaces-dbgsym', 'ros-indigo-gazebo-msgs', 'ros-kinetic-pr2-gazebo', 'ros-melodic-pr2-gazebo-plugins-dbgsym', 'ros-lunar-rexrov2-gazebo', 'ros-indigo-mrp2-hardware-gazebo', 'ros-melodic-rotors-gazebo-plugins', 'ros-kinetic-gazebo-ros-control', 'ros-indigo-hector-gazebo-worlds', 'ros-iron-gazebo-video-monitor-interfaces', 'ros-iron-gazebo-plugins-dbgsym', 'ros-iron-velodyne-gazebo-plugins-dbgsym', 'ros-kinetic-roboticsgroup-upatras-gazebo-plugins', 'ros-noetic-rm-gazebo', 'ros-indigo-icart-mini-gazebo', 'ros-melodic-prbt-gazebo', 'ros-noetic-ur-gazebo', 'ros-kinetic-denso-robot-gazebo', 'ros-noetic-hector-gazebo-worlds', 'ros-iron-turtlebot3-gazebo-dbgsym', 'ros-melodic-hector-gazebo', 'ros-humble-gazebo-video-monitors', 'ros-kinetic-rbcar-gazebo', 'ros-indigo-nextage-gazebo', 'ros-foxy-gazebo-ros2-control-dbgsym', 'ros-melodic-nextage-gazebo', 'ros-noetic-roboticsgroup-upatras-gazebo-plugins', 'ros-foxy-gazebo-msgs-dbgsym', 'ros-indigo-cob-gazebo', 'ros-lunar-gazebo-ros', 'ros-kinetic-turtlebot3-gazebo', 'ros-foxy-gazebo-plugins', 'ros-melodic-cob-gazebo-objects', 'ros-melodic-turtlebot3-gazebo', 'ros-foxy-velodyne-gazebo-plugins', 'ros-melodic-uos-gazebo-worlds', 'ros-melodic-open-manipulator-gazebo', 'ros-humble-gazebo-no-physics-plugin-dbgsym', 'ros-indigo-hrpsys-gazebo-msgs', 'ros-foxy-gazebo-plugins-dbgsym', 'ros-noetic-qb-hand-gazebo', 'ros-melodic-qb-device-gazebo-dbgsym', 'ros-indigo-fetch-gazebo', 'ros-humble-turtlebot3-gazebo', 'ros-dashing-gazebo-plugins', 'ros-humble-gazebo-msgs-dbgsym', 'ros-melodic-rotors-gazebo-plugins-dbgsym', 'ros-humble-tiago-gazebo', 'ros-rolling-gazebo-msgs', 'ros-kinetic-manipulator-h-gazebo', 'ros-kinetic-moose-gazebo', 'ros-iron-gazebo-ros2-control-dbgsym', 'ros-noetic-qb-device-gazebo-dbgsym', 'ros-noetic-leo-gazebo-plugins', 'ros-humble-pal-gazebo-plugins', 'ros-eloquent-gazebo-msgs-dbgsym', 'ros-indigo-warthog-gazebo', 'ros-kinetic-hector-gazebo-plugins', 'ros-melodic-rexrov2-gazebo', 'ros-galactic-irobot-create-gazebo-bringup', 'ros-eloquent-gazebo-ros-pkgs', 'ros-melodic-usv-gazebo-plugins-dbgsym', 'ros-humble-as2-platform-gazebo', 'ros-noetic-gazebo-plugins-dbgsym', 'ros-galactic-turtlebot3-gazebo-dbgsym', 'ros-eloquent-gazebo-plugins-dbgsym', 'ros-humble-gazebo-model-attachment-plugin-dbgsym', 'ros-kinetic-velodyne-gazebo-plugins', 'ros-iron-gazebo-video-monitors', 'ros-noetic-gazebo-ros-control-select-joints-dbgsym', 'ros-indigo-denso-robot-gazebo', 'ros-indigo-hector-sensors-gazebo', 'ros-melodic-franka-gazebo', 'ros-humble-gazebo-ros2-control-demos-dbgsym', 'ros-iron-gazebo-dev', 'ros-indigo-barrett-hand-gazebo', 'ros-humble-scenario-execution-gazebo', 'ros-humble-gazebo-model-attachment-plugin-msgs-dbgsym', 'ros-iron-gazebo-video-monitor-plugins-dbgsym', 'ros-indigo-mrp2-gazebo', 'ros-eloquent-gazebo-dev', 'ros-noetic-gazebo-custom-sensor-preloader-dbgsym', 'ros-noetic-khi-rs-gazebo', 'ros-dashing-gazebo-ros-dbgsym', 'ros-indigo-gazebo-mimic', 'ros-indigo-mecanum-gazebo-plugin', 'ros-indigo-eusgazebo', 'ros-kinetic-hector-gazebo-worlds', 'ros-galactic-irobot-create-gazebo-plugins-dbgsym', 'ros-melodic-roboticsgroup-upatras-gazebo-plugins', 'ros-melodic-roboticsgroup-upatras-gazebo-plugins-dbgsym', 'ros-humble-dolly-gazebo', 'ros-foxy-crane-plus-gazebo', 'ros-indigo-grizzly-gazebo-plugins', 'ros-melodic-pr2-gazebo', 'ros-noetic-pr2-gazebo', 'ros-rolling-velodyne-gazebo-plugins-dbgsym', 'ros-noetic-velodyne-gazebo-plugins', 'ros-melodic-ridgeback-gazebo-plugins-dbgsym'}\n",
      "----------------\n",
      "Sanity Check -- should be empty\n",
      "set()\n"
     ]
    }
   ],
   "source": [
    "# Now let's clean up these sets\n",
    "set_ign_gazebo = set_gazebo.intersection(set_ign)\n",
    "# Remove ign_gazebo from gazebo to give us just gazebo classic\n",
    "set_gazebo_classic = set_gazebo-set_ign_gazebo\n",
    "\n",
    "set_new_gazebo = set_ign_gazebo.union(set_ign,set_gz,set_ignition)\n",
    "print(\"Set of new Gazebo packages, formerly Ignition\")\n",
    "print(len(set_new_gazebo))\n",
    "print(set_new_gazebo)\n",
    "print(\"----------------\")\n",
    "print(\"Set of Gazebo Classic packages\")\n",
    "print(len(set_gazebo_classic))\n",
    "print(set_gazebo_classic)\n",
    "print(\"----------------\")\n",
    "print(\"Sanity Check -- should be empty\")\n",
    "print(set_gazebo_classic.intersection(set_new_gazebo))"
   ]
  },
  {
   "cell_type": "code",
   "execution_count": 16,
   "metadata": {},
   "outputs": [],
   "source": [
    "# Make dataframes of classic and new gazebo packages\n",
    "classic_df = package_df[package_df['name'].isin(set_gazebo_classic)]\n",
    "gazebo_df = package_df[package_df['name'].isin(set_new_gazebo)]"
   ]
  },
  {
   "cell_type": "code",
   "execution_count": 17,
   "metadata": {},
   "outputs": [
    {
     "name": "stdout",
     "output_type": "stream",
     "text": [
      "Gazebo Classic Package Downloads October 2023: 527526\n",
      "Gazebo Classic Package Downloads October 2024: 476002\n",
      "Percent Change Between October 2023 and October 2024: -9.77%\n",
      "---------------------------------------------------\n",
      "Ign Gazebo Package Downloads October 2023: 210691\n",
      "Ign Gazebo Package Downloads October 2024: 416586\n",
      "Percent Change Between October 2023 and October 2024: 97.72%\n",
      "---------------------------------------------------\n",
      "In October 2023 Gazebo Classic was 71.46% of all Gazebo Downloads\n",
      "In October 2023 New Gazebo     was 28.54% of all Gazebo Downloads\n",
      "---------------------------------------------------\n",
      "In October 2024 Gazebo Classic was 53.33% of all Gazebo Downloads\n",
      "In October 2024 New Gazebo     was 46.67% of all Gazebo Downloads\n",
      "---------------------------------------------------\n",
      "TOTAL Gazebo Downloads in October 2023: 738217\n",
      "TOTAL Gazebo Downloads in October 2024: 892588\n",
      "Change in TOTAL Gazebo Downloads Between October 2023 and October 2024: 20.91%\n",
      "---------------------------------------------------\n",
      "*ESTIMATED* Annual Gazebo Downloads: 10711056\n"
     ]
    }
   ],
   "source": [
    "classic_last = classic_df[last_year].sum()\n",
    "classic_this = classic_df[this_year].sum()\n",
    "gazebo_last = gazebo_df[last_year].sum()\n",
    "gazebo_this = gazebo_df[this_year].sum()\n",
    "print(\"Gazebo Classic Package Downloads {0} {1}: {2}\".format(last_month, last_year, int(classic_last)))\n",
    "print(\"Gazebo Classic Package Downloads {0} {1}: {2}\".format(this_month, this_year, int(classic_this)))\n",
    "classic_change = (classic_this - classic_last) / classic_last\n",
    "print(\"Percent Change Between {0} {1} and {2} {3}: {4:.2f}%\".format(last_month, last_year, this_month, this_year, 100.0*classic_change))\n",
    "print(\"---------------------------------------------------\")\n",
    "print(\"Ign Gazebo Package Downloads {0} {1}: {2}\".format(last_month, last_year, int(gazebo_last)))\n",
    "print(\"Ign Gazebo Package Downloads {0} {1}: {2}\".format(this_month, this_year, int(gazebo_this)))\n",
    "gazebo_change = (gazebo_this - gazebo_last) / gazebo_last\n",
    "print(\"Percent Change Between {0} {1} and {2} {3}: {4:.2f}%\".format(last_month, last_year, this_month, this_year, 100.0*gazebo_change))\n",
    "print(\"---------------------------------------------------\")\n",
    "sum_last = gazebo_last + classic_last\n",
    "gazebo_share_last = gazebo_last / sum_last\n",
    "classic_share_last = classic_last / sum_last\n",
    "print(\"In {0} {1} Gazebo Classic was {2:.2f}% of all Gazebo Downloads\".format(last_month,last_year,classic_share_last*100.0))\n",
    "print(\"In {0} {1} New Gazebo     was {2:.2f}% of all Gazebo Downloads\".format(last_month,last_year,gazebo_share_last*100.0))\n",
    "print(\"---------------------------------------------------\")\n",
    "sum_this = gazebo_this + classic_this\n",
    "gazebo_share_this = gazebo_this / sum_this\n",
    "classic_share_this = classic_this / sum_this\n",
    "print(\"In {0} {1} Gazebo Classic was {2:.2f}% of all Gazebo Downloads\".format(this_month,this_year,classic_share_this*100.0))\n",
    "print(\"In {0} {1} New Gazebo     was {2:.2f}% of all Gazebo Downloads\".format(this_month,this_year,gazebo_share_this*100.0))\n",
    "print(\"---------------------------------------------------\")\n",
    "total_gz_last = classic_last + gazebo_last \n",
    "total_gz_this = classic_this + gazebo_this\n",
    "total_gz_change = (total_gz_this - total_gz_last) / total_gz_last\n",
    "print(\"TOTAL Gazebo Downloads in {0} {1}: {2}\".format(last_month,last_year,int(total_gz_last)))\n",
    "print(\"TOTAL Gazebo Downloads in {0} {1}: {2}\".format(this_month,this_year,total_gz_this))\n",
    "print(\"Change in TOTAL Gazebo Downloads Between {0} {1} and {2} {3}: {4:.2f}%\".format(last_month,last_year,this_month,this_year,total_gz_change*100.0))\n",
    "print(\"---------------------------------------------------\")\n",
    "print(\"*ESTIMATED* Annual Gazebo Downloads: {0}\".format(12*total_gz_this))\n"
   ]
  },
  {
   "cell_type": "code",
   "execution_count": 18,
   "metadata": {
    "scrolled": true
   },
   "outputs": [
    {
     "data": {
      "text/html": [
       "<div>\n",
       "<style scoped>\n",
       "    .dataframe tbody tr th:only-of-type {\n",
       "        vertical-align: middle;\n",
       "    }\n",
       "\n",
       "    .dataframe tbody tr th {\n",
       "        vertical-align: top;\n",
       "    }\n",
       "\n",
       "    .dataframe thead th {\n",
       "        text-align: right;\n",
       "    }\n",
       "</style>\n",
       "<table border=\"1\" class=\"dataframe\">\n",
       "  <thead>\n",
       "    <tr style=\"text-align: right;\">\n",
       "      <th></th>\n",
       "      <th>name</th>\n",
       "      <th>package</th>\n",
       "      <th>distro</th>\n",
       "      <th>2024</th>\n",
       "      <th>2023</th>\n",
       "      <th>YoY</th>\n",
       "      <th>YoY_Prct</th>\n",
       "    </tr>\n",
       "  </thead>\n",
       "  <tbody>\n",
       "    <tr>\n",
       "      <th>0</th>\n",
       "      <td>python3-rosdistro-modules</td>\n",
       "      <td>modules</td>\n",
       "      <td>rosdistro</td>\n",
       "      <td>198217</td>\n",
       "      <td>128759.0</td>\n",
       "      <td>69458.0</td>\n",
       "      <td>35.041394</td>\n",
       "    </tr>\n",
       "    <tr>\n",
       "      <th>1</th>\n",
       "      <td>python3-colcon-core</td>\n",
       "      <td>core</td>\n",
       "      <td>colcon</td>\n",
       "      <td>137956</td>\n",
       "      <td>103375.0</td>\n",
       "      <td>34581.0</td>\n",
       "      <td>25.066688</td>\n",
       "    </tr>\n",
       "    <tr>\n",
       "      <th>2</th>\n",
       "      <td>python3-catkin-pkg-modules</td>\n",
       "      <td>pkg-modules</td>\n",
       "      <td>catkin</td>\n",
       "      <td>134237</td>\n",
       "      <td>175130.0</td>\n",
       "      <td>-40893.0</td>\n",
       "      <td>-30.463285</td>\n",
       "    </tr>\n",
       "    <tr>\n",
       "      <th>3</th>\n",
       "      <td>python3-rosdep-modules</td>\n",
       "      <td>modules</td>\n",
       "      <td>rosdep</td>\n",
       "      <td>132889</td>\n",
       "      <td>123786.0</td>\n",
       "      <td>9103.0</td>\n",
       "      <td>6.850078</td>\n",
       "    </tr>\n",
       "    <tr>\n",
       "      <th>4</th>\n",
       "      <td>python3-rospkg-modules</td>\n",
       "      <td>modules</td>\n",
       "      <td>rospkg</td>\n",
       "      <td>130589</td>\n",
       "      <td>140266.0</td>\n",
       "      <td>-9677.0</td>\n",
       "      <td>-7.410272</td>\n",
       "    </tr>\n",
       "    <tr>\n",
       "      <th>5</th>\n",
       "      <td>python3-colcon-python-setup-py</td>\n",
       "      <td>python-setup-py</td>\n",
       "      <td>colcon</td>\n",
       "      <td>129041</td>\n",
       "      <td>63042.0</td>\n",
       "      <td>65999.0</td>\n",
       "      <td>51.145760</td>\n",
       "    </tr>\n",
       "    <tr>\n",
       "      <th>6</th>\n",
       "      <td>python3-rosdep</td>\n",
       "      <td></td>\n",
       "      <td>rosdep</td>\n",
       "      <td>123021</td>\n",
       "      <td>101911.0</td>\n",
       "      <td>21110.0</td>\n",
       "      <td>17.159672</td>\n",
       "    </tr>\n",
       "    <tr>\n",
       "      <th>7</th>\n",
       "      <td>python3-rosdistro</td>\n",
       "      <td></td>\n",
       "      <td>rosdistro</td>\n",
       "      <td>118745</td>\n",
       "      <td>57167.0</td>\n",
       "      <td>61578.0</td>\n",
       "      <td>51.857341</td>\n",
       "    </tr>\n",
       "    <tr>\n",
       "      <th>8</th>\n",
       "      <td>python3-catkin-pkg</td>\n",
       "      <td>pkg</td>\n",
       "      <td>catkin</td>\n",
       "      <td>98862</td>\n",
       "      <td>122626.0</td>\n",
       "      <td>-23764.0</td>\n",
       "      <td>-24.037547</td>\n",
       "    </tr>\n",
       "    <tr>\n",
       "      <th>9</th>\n",
       "      <td>python3-colcon-ros</td>\n",
       "      <td>ros</td>\n",
       "      <td>colcon</td>\n",
       "      <td>98287</td>\n",
       "      <td>101902.0</td>\n",
       "      <td>-3615.0</td>\n",
       "      <td>-3.678004</td>\n",
       "    </tr>\n",
       "    <tr>\n",
       "      <th>10</th>\n",
       "      <td>python3-colcon-package-information</td>\n",
       "      <td>package-information</td>\n",
       "      <td>colcon</td>\n",
       "      <td>94062</td>\n",
       "      <td>60405.0</td>\n",
       "      <td>33657.0</td>\n",
       "      <td>35.781718</td>\n",
       "    </tr>\n",
       "    <tr>\n",
       "      <th>11</th>\n",
       "      <td>python3-colcon-cd</td>\n",
       "      <td>cd</td>\n",
       "      <td>colcon</td>\n",
       "      <td>93728</td>\n",
       "      <td>60108.0</td>\n",
       "      <td>33620.0</td>\n",
       "      <td>35.869751</td>\n",
       "    </tr>\n",
       "    <tr>\n",
       "      <th>12</th>\n",
       "      <td>python3-colcon-notification</td>\n",
       "      <td>notification</td>\n",
       "      <td>colcon</td>\n",
       "      <td>93642</td>\n",
       "      <td>62017.0</td>\n",
       "      <td>31625.0</td>\n",
       "      <td>33.772239</td>\n",
       "    </tr>\n",
       "    <tr>\n",
       "      <th>13</th>\n",
       "      <td>python3-colcon-devtools</td>\n",
       "      <td>devtools</td>\n",
       "      <td>colcon</td>\n",
       "      <td>93479</td>\n",
       "      <td>85823.0</td>\n",
       "      <td>7656.0</td>\n",
       "      <td>8.190075</td>\n",
       "    </tr>\n",
       "    <tr>\n",
       "      <th>14</th>\n",
       "      <td>python3-colcon-cmake</td>\n",
       "      <td>cmake</td>\n",
       "      <td>colcon</td>\n",
       "      <td>92714</td>\n",
       "      <td>93469.0</td>\n",
       "      <td>-755.0</td>\n",
       "      <td>-0.814332</td>\n",
       "    </tr>\n",
       "    <tr>\n",
       "      <th>15</th>\n",
       "      <td>python3-colcon-recursive-crawl</td>\n",
       "      <td>recursive-crawl</td>\n",
       "      <td>colcon</td>\n",
       "      <td>92509</td>\n",
       "      <td>101981.0</td>\n",
       "      <td>-9472.0</td>\n",
       "      <td>-10.239004</td>\n",
       "    </tr>\n",
       "    <tr>\n",
       "      <th>16</th>\n",
       "      <td>python3-colcon-parallel-executor</td>\n",
       "      <td>parallel-executor</td>\n",
       "      <td>colcon</td>\n",
       "      <td>91791</td>\n",
       "      <td>85977.0</td>\n",
       "      <td>5814.0</td>\n",
       "      <td>6.333954</td>\n",
       "    </tr>\n",
       "    <tr>\n",
       "      <th>17</th>\n",
       "      <td>python3-colcon-bash</td>\n",
       "      <td>bash</td>\n",
       "      <td>colcon</td>\n",
       "      <td>91744</td>\n",
       "      <td>85921.0</td>\n",
       "      <td>5823.0</td>\n",
       "      <td>6.347009</td>\n",
       "    </tr>\n",
       "    <tr>\n",
       "      <th>18</th>\n",
       "      <td>python3-colcon-zsh</td>\n",
       "      <td>zsh</td>\n",
       "      <td>colcon</td>\n",
       "      <td>91575</td>\n",
       "      <td>91961.0</td>\n",
       "      <td>-386.0</td>\n",
       "      <td>-0.421512</td>\n",
       "    </tr>\n",
       "    <tr>\n",
       "      <th>19</th>\n",
       "      <td>python3-colcon-powershell</td>\n",
       "      <td>powershell</td>\n",
       "      <td>colcon</td>\n",
       "      <td>91347</td>\n",
       "      <td>92027.0</td>\n",
       "      <td>-680.0</td>\n",
       "      <td>-0.744414</td>\n",
       "    </tr>\n",
       "  </tbody>\n",
       "</table>\n",
       "</div>"
      ],
      "text/plain": [
       "                                  name              package     distro  \\\n",
       "0            python3-rosdistro-modules              modules  rosdistro   \n",
       "1                  python3-colcon-core                 core     colcon   \n",
       "2           python3-catkin-pkg-modules          pkg-modules     catkin   \n",
       "3               python3-rosdep-modules              modules     rosdep   \n",
       "4               python3-rospkg-modules              modules     rospkg   \n",
       "5       python3-colcon-python-setup-py      python-setup-py     colcon   \n",
       "6                       python3-rosdep                          rosdep   \n",
       "7                    python3-rosdistro                       rosdistro   \n",
       "8                   python3-catkin-pkg                  pkg     catkin   \n",
       "9                   python3-colcon-ros                  ros     colcon   \n",
       "10  python3-colcon-package-information  package-information     colcon   \n",
       "11                   python3-colcon-cd                   cd     colcon   \n",
       "12         python3-colcon-notification         notification     colcon   \n",
       "13             python3-colcon-devtools             devtools     colcon   \n",
       "14                python3-colcon-cmake                cmake     colcon   \n",
       "15      python3-colcon-recursive-crawl      recursive-crawl     colcon   \n",
       "16    python3-colcon-parallel-executor    parallel-executor     colcon   \n",
       "17                 python3-colcon-bash                 bash     colcon   \n",
       "18                  python3-colcon-zsh                  zsh     colcon   \n",
       "19           python3-colcon-powershell           powershell     colcon   \n",
       "\n",
       "      2024      2023      YoY   YoY_Prct  \n",
       "0   198217  128759.0  69458.0  35.041394  \n",
       "1   137956  103375.0  34581.0  25.066688  \n",
       "2   134237  175130.0 -40893.0 -30.463285  \n",
       "3   132889  123786.0   9103.0   6.850078  \n",
       "4   130589  140266.0  -9677.0  -7.410272  \n",
       "5   129041   63042.0  65999.0  51.145760  \n",
       "6   123021  101911.0  21110.0  17.159672  \n",
       "7   118745   57167.0  61578.0  51.857341  \n",
       "8    98862  122626.0 -23764.0 -24.037547  \n",
       "9    98287  101902.0  -3615.0  -3.678004  \n",
       "10   94062   60405.0  33657.0  35.781718  \n",
       "11   93728   60108.0  33620.0  35.869751  \n",
       "12   93642   62017.0  31625.0  33.772239  \n",
       "13   93479   85823.0   7656.0   8.190075  \n",
       "14   92714   93469.0   -755.0  -0.814332  \n",
       "15   92509  101981.0  -9472.0 -10.239004  \n",
       "16   91791   85977.0   5814.0   6.333954  \n",
       "17   91744   85921.0   5823.0   6.347009  \n",
       "18   91575   91961.0   -386.0  -0.421512  \n",
       "19   91347   92027.0   -680.0  -0.744414  "
      ]
     },
     "execution_count": 18,
     "metadata": {},
     "output_type": "execute_result"
    }
   ],
   "source": [
    "package_df[0:20]"
   ]
  },
  {
   "cell_type": "code",
   "execution_count": 19,
   "metadata": {},
   "outputs": [
    {
     "data": {
      "text/html": [
       "<div>\n",
       "<style scoped>\n",
       "    .dataframe tbody tr th:only-of-type {\n",
       "        vertical-align: middle;\n",
       "    }\n",
       "\n",
       "    .dataframe tbody tr th {\n",
       "        vertical-align: top;\n",
       "    }\n",
       "\n",
       "    .dataframe thead th {\n",
       "        text-align: right;\n",
       "    }\n",
       "</style>\n",
       "<table border=\"1\" class=\"dataframe\">\n",
       "  <thead>\n",
       "    <tr style=\"text-align: right;\">\n",
       "      <th></th>\n",
       "      <th>name</th>\n",
       "      <th>package</th>\n",
       "      <th>distro</th>\n",
       "      <th>2024</th>\n",
       "      <th>2023</th>\n",
       "      <th>YoY</th>\n",
       "      <th>YoY_Prct</th>\n",
       "    </tr>\n",
       "  </thead>\n",
       "  <tbody>\n",
       "  </tbody>\n",
       "</table>\n",
       "</div>"
      ],
      "text/plain": [
       "Empty DataFrame\n",
       "Columns: [name, package, distro, 2024, 2023, YoY, YoY_Prct]\n",
       "Index: []"
      ]
     },
     "execution_count": 19,
     "metadata": {},
     "output_type": "execute_result"
    }
   ],
   "source": [
    "package_df[package_df['name'].str.contains(\"RPM\")]"
   ]
  },
  {
   "cell_type": "code",
   "execution_count": 20,
   "metadata": {},
   "outputs": [
    {
     "data": {
      "text/html": [
       "<div>\n",
       "<style scoped>\n",
       "    .dataframe tbody tr th:only-of-type {\n",
       "        vertical-align: middle;\n",
       "    }\n",
       "\n",
       "    .dataframe tbody tr th {\n",
       "        vertical-align: top;\n",
       "    }\n",
       "\n",
       "    .dataframe thead th {\n",
       "        text-align: right;\n",
       "    }\n",
       "</style>\n",
       "<table border=\"1\" class=\"dataframe\">\n",
       "  <thead>\n",
       "    <tr style=\"text-align: right;\">\n",
       "      <th></th>\n",
       "      <th>name</th>\n",
       "      <th>package</th>\n",
       "      <th>distro</th>\n",
       "      <th>2024</th>\n",
       "      <th>2023</th>\n",
       "      <th>YoY</th>\n",
       "      <th>YoY_Prct</th>\n",
       "    </tr>\n",
       "  </thead>\n",
       "  <tbody>\n",
       "    <tr>\n",
       "      <th>1300</th>\n",
       "      <td>ros-foxy-libstatistics-collector</td>\n",
       "      <td>libstatistics-collector</td>\n",
       "      <td>foxy</td>\n",
       "      <td>8355</td>\n",
       "      <td>13369.0</td>\n",
       "      <td>-5014.0</td>\n",
       "      <td>-60.011969</td>\n",
       "    </tr>\n",
       "    <tr>\n",
       "      <th>1303</th>\n",
       "      <td>ros-foxy-statistics-msgs</td>\n",
       "      <td>statistics-msgs</td>\n",
       "      <td>foxy</td>\n",
       "      <td>8345</td>\n",
       "      <td>13369.0</td>\n",
       "      <td>-5024.0</td>\n",
       "      <td>-60.203715</td>\n",
       "    </tr>\n",
       "    <tr>\n",
       "      <th>1305</th>\n",
       "      <td>ros-foxy-rclcpp</td>\n",
       "      <td>rclcpp</td>\n",
       "      <td>foxy</td>\n",
       "      <td>8342</td>\n",
       "      <td>13367.0</td>\n",
       "      <td>-5025.0</td>\n",
       "      <td>-60.237353</td>\n",
       "    </tr>\n",
       "    <tr>\n",
       "      <th>1383</th>\n",
       "      <td>ros-foxy-ament-cmake-core</td>\n",
       "      <td>ament-cmake-core</td>\n",
       "      <td>foxy</td>\n",
       "      <td>7550</td>\n",
       "      <td>14108.0</td>\n",
       "      <td>-6558.0</td>\n",
       "      <td>-86.860927</td>\n",
       "    </tr>\n",
       "    <tr>\n",
       "      <th>1391</th>\n",
       "      <td>ros-foxy-ament-cmake</td>\n",
       "      <td>ament-cmake</td>\n",
       "      <td>foxy</td>\n",
       "      <td>7541</td>\n",
       "      <td>13531.0</td>\n",
       "      <td>-5990.0</td>\n",
       "      <td>-79.432436</td>\n",
       "    </tr>\n",
       "    <tr>\n",
       "      <th>1400</th>\n",
       "      <td>ros-foxy-ros-workspace</td>\n",
       "      <td>ros-workspace</td>\n",
       "      <td>foxy</td>\n",
       "      <td>7532</td>\n",
       "      <td>14981.0</td>\n",
       "      <td>-7449.0</td>\n",
       "      <td>-98.898035</td>\n",
       "    </tr>\n",
       "    <tr>\n",
       "      <th>1412</th>\n",
       "      <td>ros-foxy-ament-cmake-export-include-directories</td>\n",
       "      <td>ament-cmake-export-include-directories</td>\n",
       "      <td>foxy</td>\n",
       "      <td>7481</td>\n",
       "      <td>13276.0</td>\n",
       "      <td>-5795.0</td>\n",
       "      <td>-77.462906</td>\n",
       "    </tr>\n",
       "    <tr>\n",
       "      <th>1413</th>\n",
       "      <td>ros-foxy-ament-cmake-export-libraries</td>\n",
       "      <td>ament-cmake-export-libraries</td>\n",
       "      <td>foxy</td>\n",
       "      <td>7477</td>\n",
       "      <td>12970.0</td>\n",
       "      <td>-5493.0</td>\n",
       "      <td>-73.465294</td>\n",
       "    </tr>\n",
       "    <tr>\n",
       "      <th>1415</th>\n",
       "      <td>ros-foxy-ament-cmake-export-link-flags</td>\n",
       "      <td>ament-cmake-export-link-flags</td>\n",
       "      <td>foxy</td>\n",
       "      <td>7475</td>\n",
       "      <td>12787.0</td>\n",
       "      <td>-5312.0</td>\n",
       "      <td>-71.063545</td>\n",
       "    </tr>\n",
       "    <tr>\n",
       "      <th>1417</th>\n",
       "      <td>ros-foxy-ament-cmake-python</td>\n",
       "      <td>ament-cmake-python</td>\n",
       "      <td>foxy</td>\n",
       "      <td>7474</td>\n",
       "      <td>12792.0</td>\n",
       "      <td>-5318.0</td>\n",
       "      <td>-71.153332</td>\n",
       "    </tr>\n",
       "    <tr>\n",
       "      <th>1418</th>\n",
       "      <td>ros-foxy-ament-cmake-target-dependencies</td>\n",
       "      <td>ament-cmake-target-dependencies</td>\n",
       "      <td>foxy</td>\n",
       "      <td>7473</td>\n",
       "      <td>12782.0</td>\n",
       "      <td>-5309.0</td>\n",
       "      <td>-71.042419</td>\n",
       "    </tr>\n",
       "    <tr>\n",
       "      <th>1419</th>\n",
       "      <td>ros-foxy-ament-cmake-export-interfaces</td>\n",
       "      <td>ament-cmake-export-interfaces</td>\n",
       "      <td>foxy</td>\n",
       "      <td>7466</td>\n",
       "      <td>12798.0</td>\n",
       "      <td>-5332.0</td>\n",
       "      <td>-71.417091</td>\n",
       "    </tr>\n",
       "    <tr>\n",
       "      <th>1420</th>\n",
       "      <td>ros-foxy-ament-cmake-export-dependencies</td>\n",
       "      <td>ament-cmake-export-dependencies</td>\n",
       "      <td>foxy</td>\n",
       "      <td>7464</td>\n",
       "      <td>13342.0</td>\n",
       "      <td>-5878.0</td>\n",
       "      <td>-78.751340</td>\n",
       "    </tr>\n",
       "    <tr>\n",
       "      <th>1422</th>\n",
       "      <td>ros-foxy-ament-cmake-libraries</td>\n",
       "      <td>ament-cmake-libraries</td>\n",
       "      <td>foxy</td>\n",
       "      <td>7462</td>\n",
       "      <td>13335.0</td>\n",
       "      <td>-5873.0</td>\n",
       "      <td>-78.705441</td>\n",
       "    </tr>\n",
       "    <tr>\n",
       "      <th>1423</th>\n",
       "      <td>ros-foxy-ament-cmake-test</td>\n",
       "      <td>ament-cmake-test</td>\n",
       "      <td>foxy</td>\n",
       "      <td>7461</td>\n",
       "      <td>12825.0</td>\n",
       "      <td>-5364.0</td>\n",
       "      <td>-71.893848</td>\n",
       "    </tr>\n",
       "    <tr>\n",
       "      <th>1425</th>\n",
       "      <td>ros-foxy-ament-cmake-export-targets</td>\n",
       "      <td>ament-cmake-export-targets</td>\n",
       "      <td>foxy</td>\n",
       "      <td>7458</td>\n",
       "      <td>12782.0</td>\n",
       "      <td>-5324.0</td>\n",
       "      <td>-71.386431</td>\n",
       "    </tr>\n",
       "    <tr>\n",
       "      <th>1427</th>\n",
       "      <td>ros-foxy-ament-cmake-include-directories</td>\n",
       "      <td>ament-cmake-include-directories</td>\n",
       "      <td>foxy</td>\n",
       "      <td>7456</td>\n",
       "      <td>12778.0</td>\n",
       "      <td>-5322.0</td>\n",
       "      <td>-71.378755</td>\n",
       "    </tr>\n",
       "    <tr>\n",
       "      <th>1430</th>\n",
       "      <td>ros-foxy-ament-cmake-version</td>\n",
       "      <td>ament-cmake-version</td>\n",
       "      <td>foxy</td>\n",
       "      <td>7454</td>\n",
       "      <td>12773.0</td>\n",
       "      <td>-5319.0</td>\n",
       "      <td>-71.357660</td>\n",
       "    </tr>\n",
       "    <tr>\n",
       "      <th>1438</th>\n",
       "      <td>ros-foxy-ament-cmake-export-definitions</td>\n",
       "      <td>ament-cmake-export-definitions</td>\n",
       "      <td>foxy</td>\n",
       "      <td>7447</td>\n",
       "      <td>13333.0</td>\n",
       "      <td>-5886.0</td>\n",
       "      <td>-79.038539</td>\n",
       "    </tr>\n",
       "    <tr>\n",
       "      <th>1441</th>\n",
       "      <td>ros-foxy-rosidl-generator-c</td>\n",
       "      <td>rosidl-generator-c</td>\n",
       "      <td>foxy</td>\n",
       "      <td>7443</td>\n",
       "      <td>13118.0</td>\n",
       "      <td>-5675.0</td>\n",
       "      <td>-76.246137</td>\n",
       "    </tr>\n",
       "  </tbody>\n",
       "</table>\n",
       "</div>"
      ],
      "text/plain": [
       "                                                 name  \\\n",
       "1300                 ros-foxy-libstatistics-collector   \n",
       "1303                         ros-foxy-statistics-msgs   \n",
       "1305                                  ros-foxy-rclcpp   \n",
       "1383                        ros-foxy-ament-cmake-core   \n",
       "1391                             ros-foxy-ament-cmake   \n",
       "1400                           ros-foxy-ros-workspace   \n",
       "1412  ros-foxy-ament-cmake-export-include-directories   \n",
       "1413            ros-foxy-ament-cmake-export-libraries   \n",
       "1415           ros-foxy-ament-cmake-export-link-flags   \n",
       "1417                      ros-foxy-ament-cmake-python   \n",
       "1418         ros-foxy-ament-cmake-target-dependencies   \n",
       "1419           ros-foxy-ament-cmake-export-interfaces   \n",
       "1420         ros-foxy-ament-cmake-export-dependencies   \n",
       "1422                   ros-foxy-ament-cmake-libraries   \n",
       "1423                        ros-foxy-ament-cmake-test   \n",
       "1425              ros-foxy-ament-cmake-export-targets   \n",
       "1427         ros-foxy-ament-cmake-include-directories   \n",
       "1430                     ros-foxy-ament-cmake-version   \n",
       "1438          ros-foxy-ament-cmake-export-definitions   \n",
       "1441                      ros-foxy-rosidl-generator-c   \n",
       "\n",
       "                                     package distro  2024     2023     YoY  \\\n",
       "1300                 libstatistics-collector   foxy  8355  13369.0 -5014.0   \n",
       "1303                         statistics-msgs   foxy  8345  13369.0 -5024.0   \n",
       "1305                                  rclcpp   foxy  8342  13367.0 -5025.0   \n",
       "1383                        ament-cmake-core   foxy  7550  14108.0 -6558.0   \n",
       "1391                             ament-cmake   foxy  7541  13531.0 -5990.0   \n",
       "1400                           ros-workspace   foxy  7532  14981.0 -7449.0   \n",
       "1412  ament-cmake-export-include-directories   foxy  7481  13276.0 -5795.0   \n",
       "1413            ament-cmake-export-libraries   foxy  7477  12970.0 -5493.0   \n",
       "1415           ament-cmake-export-link-flags   foxy  7475  12787.0 -5312.0   \n",
       "1417                      ament-cmake-python   foxy  7474  12792.0 -5318.0   \n",
       "1418         ament-cmake-target-dependencies   foxy  7473  12782.0 -5309.0   \n",
       "1419           ament-cmake-export-interfaces   foxy  7466  12798.0 -5332.0   \n",
       "1420         ament-cmake-export-dependencies   foxy  7464  13342.0 -5878.0   \n",
       "1422                   ament-cmake-libraries   foxy  7462  13335.0 -5873.0   \n",
       "1423                        ament-cmake-test   foxy  7461  12825.0 -5364.0   \n",
       "1425              ament-cmake-export-targets   foxy  7458  12782.0 -5324.0   \n",
       "1427         ament-cmake-include-directories   foxy  7456  12778.0 -5322.0   \n",
       "1430                     ament-cmake-version   foxy  7454  12773.0 -5319.0   \n",
       "1438          ament-cmake-export-definitions   foxy  7447  13333.0 -5886.0   \n",
       "1441                      rosidl-generator-c   foxy  7443  13118.0 -5675.0   \n",
       "\n",
       "       YoY_Prct  \n",
       "1300 -60.011969  \n",
       "1303 -60.203715  \n",
       "1305 -60.237353  \n",
       "1383 -86.860927  \n",
       "1391 -79.432436  \n",
       "1400 -98.898035  \n",
       "1412 -77.462906  \n",
       "1413 -73.465294  \n",
       "1415 -71.063545  \n",
       "1417 -71.153332  \n",
       "1418 -71.042419  \n",
       "1419 -71.417091  \n",
       "1420 -78.751340  \n",
       "1422 -78.705441  \n",
       "1423 -71.893848  \n",
       "1425 -71.386431  \n",
       "1427 -71.378755  \n",
       "1430 -71.357660  \n",
       "1438 -79.038539  \n",
       "1441 -76.246137  "
      ]
     },
     "execution_count": 20,
     "metadata": {},
     "output_type": "execute_result"
    }
   ],
   "source": [
    "# break down data by distro\n",
    "just_foxy = package_df[package_df[\"distro\"]==\"foxy\"]\n",
    "just_foxy[0:20]"
   ]
  },
  {
   "cell_type": "code",
   "execution_count": null,
   "metadata": {},
   "outputs": [],
   "source": []
  },
  {
   "cell_type": "code",
   "execution_count": 21,
   "metadata": {},
   "outputs": [
    {
     "data": {
      "text/plain": [
       "name        ros-melodic-ros-pytest\n",
       "package                 ros-pytest\n",
       "distro                     melodic\n",
       "2024                             1\n",
       "2023                         647.0\n",
       "YoY                         -646.0\n",
       "YoY_Prct                  -64600.0\n",
       "Name: 24821, dtype: object"
      ]
     },
     "execution_count": 21,
     "metadata": {},
     "output_type": "execute_result"
    }
   ],
   "source": [
    "# package with the highest yoy prct change\n",
    "package_df.iloc[package_df[\"YoY_Prct\"].argmin()]"
   ]
  },
  {
   "cell_type": "code",
   "execution_count": 22,
   "metadata": {},
   "outputs": [],
   "source": [
    "just_foxy = package_df[package_df[\"distro\"] == \"foxy\"]"
   ]
  },
  {
   "cell_type": "code",
   "execution_count": 23,
   "metadata": {},
   "outputs": [
    {
     "data": {
      "text/plain": [
       "name        ros-foxy-ibeo-msgs\n",
       "package              ibeo-msgs\n",
       "distro                    foxy\n",
       "2024                        11\n",
       "2023                    2515.0\n",
       "YoY                    -2504.0\n",
       "YoY_Prct         -22763.636364\n",
       "Name: 16712, dtype: object"
      ]
     },
     "execution_count": 23,
     "metadata": {},
     "output_type": "execute_result"
    }
   ],
   "source": [
    "# find the foxy pkg with hightest yoy prct change\n",
    "just_foxy.iloc[just_foxy[\"YoY_Prct\"].argmin()]"
   ]
  },
  {
   "cell_type": "code",
   "execution_count": null,
   "metadata": {},
   "outputs": [],
   "source": []
  },
  {
   "cell_type": "code",
   "execution_count": 24,
   "metadata": {},
   "outputs": [
    {
     "data": {
      "text/plain": [
       "name        ros-foxy-py-trees-ros\n",
       "package              py-trees-ros\n",
       "distro                       foxy\n",
       "2024                          994\n",
       "2023                         54.0\n",
       "YoY                         940.0\n",
       "YoY_Prct                94.567404\n",
       "Name: 3638, dtype: object"
      ]
     },
     "execution_count": 24,
     "metadata": {},
     "output_type": "execute_result"
    }
   ],
   "source": [
    "just_foxy.iloc[just_foxy[\"YoY_Prct\"].argmax()]"
   ]
  },
  {
   "cell_type": "code",
   "execution_count": 25,
   "metadata": {},
   "outputs": [
    {
     "data": {
      "text/plain": [
       "-15.384615384615385"
      ]
     },
     "execution_count": 25,
     "metadata": {},
     "output_type": "execute_result"
    }
   ],
   "source": [
    "just_foxy[\"YoY_Prct\"].median()"
   ]
  },
  {
   "cell_type": "code",
   "execution_count": 26,
   "metadata": {},
   "outputs": [],
   "source": [
    "melodic = package_df[package_df[\"distro\"] == \"melodic\"]"
   ]
  },
  {
   "cell_type": "code",
   "execution_count": 27,
   "metadata": {},
   "outputs": [
    {
     "data": {
      "text/plain": [
       "name        ros-melodic-ros-pytest\n",
       "package                 ros-pytest\n",
       "distro                     melodic\n",
       "2024                             1\n",
       "2023                         647.0\n",
       "YoY                         -646.0\n",
       "YoY_Prct                  -64600.0\n",
       "Name: 24821, dtype: object"
      ]
     },
     "execution_count": 27,
     "metadata": {},
     "output_type": "execute_result"
    }
   ],
   "source": [
    "melodic.iloc[melodic[\"YoY_Prct\"].argmin()]"
   ]
  },
  {
   "cell_type": "code",
   "execution_count": 28,
   "metadata": {},
   "outputs": [
    {
     "name": "stdout",
     "output_type": "stream",
     "text": [
      "Desktop installs between 2023 and 2024\n",
      "2024: 157787\n",
      "2023: 185469\n",
      "Change Prct: -14.925405323800742\n"
     ]
    }
   ],
   "source": [
    "# Let's look at Desktop installs, we would hope that those would be going up. \n",
    "\n",
    "# get the \"pure\" desktop installs \n",
    "exclude = [\"warthog\",\"turtlebot4\",\"ridgeback\",\"leo\",\"dingo\",\"mrp2\",\"jackal\",\"bwi\",\"clearpath\",\"industrial\"\n",
    "           \"husky\",\"moose\",\"kobuki\",\"care\",\"pr2\",\"heron\",\"rosh\",\"grizzly\",\"husky\",\"baxter\",\"webots\",\"create\"]\n",
    "package_names = package_df[\"name\"].tolist()\n",
    "pure_desktops = []\n",
    "extended_desktops = []\n",
    "for p in package_names:\n",
    "    if \"desktop\" in p:\n",
    "        extended_desktops.append(p)\n",
    "        hit = True\n",
    "        for e in exclude:\n",
    "            if e in p:\n",
    "                hit = False\n",
    "                break\n",
    "        if hit:\n",
    "            pure_desktops.append(p)\n",
    "            \n",
    "# You can check pure desktops or vendor desktops by toggling pure_desktops and extended desktops\n",
    "desktop_df = package_df[package_df[\"name\"].isin(pure_desktops)]\n",
    "\n",
    "print(\"Desktop installs between {0} and {1}\".format(last_year,this_year))\n",
    "desk_last = int(desktop_df[\"2023\"].sum())\n",
    "desk_this = int(desktop_df[\"2024\"].sum())\n",
    "print(\"{0}: {1}\".format(this_year,desk_this))\n",
    "print(\"{0}: {1}\".format(last_year,desk_last))\n",
    "print(\"Change Prct: {0}\".format((100.00*(desk_this-desk_last)/desk_last)))\n"
   ]
  },
  {
   "cell_type": "code",
   "execution_count": null,
   "metadata": {},
   "outputs": [],
   "source": []
  },
  {
   "cell_type": "raw",
   "metadata": {},
   "source": []
  },
  {
   "cell_type": "code",
   "execution_count": 60,
   "metadata": {},
   "outputs": [
    {
     "name": "stdout",
     "output_type": "stream",
     "text": [
      "Total Packages Downloaded October 2024\n",
      "47206990\n",
      "Total Packages Downloaded October 2023\n",
      "46472908.0\n",
      "Total Packages Downloaded Change Prct\n",
      "1.5795912749854173\n",
      "Estimated total Packages in 2024\n",
      "566483880\n",
      "Estimated total Packages in 2023\n",
      "557674896.0\n"
     ]
    }
   ],
   "source": [
    "# calculate the total number of packages (ROS 1 + ROS 2 + Python + Gazebo) downloaded for this month\n",
    "# this year and last, calculate the percent change\n",
    "r2 = package_df[package_df[\"distro\"].isin(ros2)]\n",
    "r1 = package_df[package_df[\"distro\"].isin(ros1)]\n",
    "print(\"Total Packages Downloaded {0} {1}\".format(this_month,this_year))\n",
    "total_this = package_df[this_year].sum()\n",
    "print(total_this)\n",
    "\n",
    "print(\"Total Packages Downloaded {0} {1}\".format(last_month,last_year))\n",
    "total_last = package_df[last_year].sum()\n",
    "print(total_last)\n",
    "\n",
    "print(\"Total Packages Downloaded Change Prct\")\n",
    "print(100*(total_this-total_last)/(total_last))\n",
    "\n",
    "print(\"Estimated total Packages in {0}\".format(this_year))\n",
    "print(12*total_this)\n",
    "\n",
    "print(\"Estimated total Packages in {0}\".format(last_year))\n",
    "print(12*total_last)\n"
   ]
  },
  {
   "cell_type": "code",
   "execution_count": 30,
   "metadata": {},
   "outputs": [
    {
     "name": "stdout",
     "output_type": "stream",
     "text": [
      "ROS 1 Packages Downloaded October 2023\n",
      "18206261.0\n",
      "ROS 1 Packages Downloaded October 2024\n",
      "12207096\n",
      "ROS 1 Packages Downloaded Change\n",
      "-32.95110951117311\n"
     ]
    }
   ],
   "source": [
    "# Calculate ROS 1 packages downloaded this year and last year, along with percent change\n",
    "print(\"ROS 1 Packages Downloaded {0} {1}\".format(last_month,last_year))\n",
    "r1sum_last = r1[last_year].sum()\n",
    "print(r1sum_last)\n",
    "\n",
    "print(\"ROS 1 Packages Downloaded {0} {1}\".format(this_month,this_year))\n",
    "r1sum_this = r1[this_year].sum()\n",
    "print(r1sum_this)\n",
    "\n",
    "print(\"ROS 1 Packages Downloaded Change\")\n",
    "print(100*(r1sum_this-r1sum_last)/(r1sum_last))"
   ]
  },
  {
   "cell_type": "code",
   "execution_count": 31,
   "metadata": {},
   "outputs": [
    {
     "name": "stdout",
     "output_type": "stream",
     "text": [
      "ROS 2 Packages Downloaded October 2023\n",
      "25046489.0\n",
      "ROS 2 Packages Downloaded October 2024\n",
      "31289068\n",
      "ROS 2 Packages Downloaded Change\n",
      "24.92396838534934\n",
      "Esitmated ROS 2 Packages Downloaded in 2024\n",
      "375468816\n"
     ]
    }
   ],
   "source": [
    "# Calculate ROS 2 packages downloaded this year and last year, along with percent change\n",
    "# NOTE ROS 1 + ROS 2 != Total Packages\n",
    "# Total Pkgs = ROS1 + ROS2 + [Gazebo/Colcon/Ament/Catkin/Python]\n",
    "print(\"ROS 2 Packages Downloaded {0} {1}\".format(last_month,last_year))\n",
    "r2sum_last = r2[last_year].sum()\n",
    "print(r2sum_last)\n",
    "\n",
    "print(\"ROS 2 Packages Downloaded {0} {1}\".format(this_month,this_year))\n",
    "r2sum_this = r2[this_year].sum()\n",
    "print(r2sum_this)\n",
    "\n",
    "print(\"ROS 2 Packages Downloaded Change\")\n",
    "print(100*(r2sum_this-r2sum_last)/(r2sum_last))\n",
    "\n",
    "print(\"Esitmated ROS 2 Packages Downloaded in {0}\".format(this_year))\n",
    "print(r2sum_this*12)"
   ]
  },
  {
   "cell_type": "code",
   "execution_count": 32,
   "metadata": {},
   "outputs": [
    {
     "name": "stdout",
     "output_type": "stream",
     "text": [
      "October 2023 ROS 1 + ROS 2 Total Packages Downloaded\n",
      "43252750.0\n",
      "October 2024 ROS 1 + ROS 2 Total Packages Downloaded\n",
      "43496164\n",
      "October 2023 Non-ROS Packages Downloaded\n",
      "3220158.0\n",
      "October 2024 Non-ROS Packages Downloaded\n",
      "3710826\n",
      "October 2024 Total ROS Packages Downloaded\n",
      "43496164\n",
      "===============================\n"
     ]
    }
   ],
   "source": [
    "print(\"{0} {1} ROS 1 + ROS 2 Total Packages Downloaded\".format(last_month,last_year))\n",
    "print(r1sum_last+r2sum_last)\n",
    "\n",
    "print(\"{0} {1} ROS 1 + ROS 2 Total Packages Downloaded\".format(this_month,this_year))\n",
    "print(r1sum_this+r2sum_this)\n",
    "\n",
    "print(\"{0} {1} Non-ROS Packages Downloaded\".format(last_month,last_year))\n",
    "print(total_last-(r1sum_last+r2sum_last))\n",
    "\n",
    "print(\"{0} {1} Non-ROS Packages Downloaded\".format(this_month,this_year))\n",
    "non_ros_this = total_this-(r1sum_this+r2sum_this)\n",
    "print(non_ros_this)\n",
    "#print(total_this-(r1sum_this+r2sum_this))\n",
    "\n",
    "print(\"{0} {1} Total ROS Packages Downloaded\".format(this_month,this_year))\n",
    "total_ros_this = r1sum_this+r2sum_this\n",
    "print(total_ros_this)\n",
    "print(\"===============================\")"
   ]
  },
  {
   "cell_type": "code",
   "execution_count": 33,
   "metadata": {},
   "outputs": [
    {
     "name": "stdout",
     "output_type": "stream",
     "text": [
      "Percent ROS 2 Pkgs Downloaded October 2023\n",
      "57.907275259954574\n",
      "Percent ROS 1 Pkgs Downloaded October 2023\n",
      "42.092724740045426\n",
      "============================\n",
      "Percent ROS 2 Pkgs Downloaded October 2024\n",
      "71.9352354842142\n",
      "Percent ROS 1 Pkgs Downloaded October 2024\n",
      "28.064764515785807\n",
      "============================\n",
      "YoY change in ROS 2 downloads as % (last year minus this year)\n",
      "14.02796022425963\n",
      "YoY change in ROS 1 downloads as %\n",
      "-14.027960224259619\n"
     ]
    }
   ],
   "source": [
    "# Calculate the percent changes in ROS 1 and ROS 2 packages\n",
    "\n",
    "print(\"Percent ROS 2 Pkgs Downloaded {0} {1}\".format(last_month,last_year))\n",
    "prct_r2_last = r2sum_last/(r1sum_last+r2sum_last)*100\n",
    "print(prct_r2_last)\n",
    "\n",
    "print(\"Percent ROS 1 Pkgs Downloaded {0} {1}\".format(last_month,last_year))\n",
    "prct_r1_last = r1sum_last/(r1sum_last+r2sum_last)*100\n",
    "print(r1sum_last/(r1sum_last+r2sum_last)*100)\n",
    "\n",
    "print(\"============================\")\n",
    "print(\"Percent ROS 2 Pkgs Downloaded {0} {1}\".format(this_month,this_year))\n",
    "prct_r2_this = r2sum_this/(r1sum_this+r2sum_this)*100\n",
    "print(prct_r2_this)\n",
    "\n",
    "print(\"Percent ROS 1 Pkgs Downloaded {0} {1}\".format(this_month,this_year))\n",
    "prct_r1_this = r1sum_this/(r1sum_this+r2sum_this)*100\n",
    "print(prct_r1_this)\n",
    "\n",
    "print(\"============================\")\n",
    "\n",
    "print(\"YoY change in ROS 2 downloads as % (last year minus this year)\")\n",
    "print(prct_r2_this-prct_r2_last)\n",
    "\n",
    "print(\"YoY change in ROS 1 downloads as %\")\n",
    "print(prct_r1_this-prct_r1_last)\n"
   ]
  },
  {
   "cell_type": "code",
   "execution_count": 34,
   "metadata": {},
   "outputs": [
    {
     "name": "stdout",
     "output_type": "stream",
     "text": [
      "Percent ROS 2 in 2024 October\n",
      "71.9352354842142\n",
      "Percent ROS 2 in 2023 October\n",
      "57.907275259954574\n",
      "Change in ROS 2 between now and the last measurement\n",
      "14.02796022425963\n",
      "-----------------------------------\n",
      "Total Packages in 2024 October\n",
      "47206990\n",
      "==>Sanity Check ROS packages + other packages this year\n",
      "47206990\n",
      "ESTIMATED Total Packages in the year 2024\n",
      "566483880\n"
     ]
    }
   ],
   "source": [
    "r2_this = (r2sum_this/(r1sum_this+r2sum_this)*100)\n",
    "r2_last = (r2sum_last/(r1sum_last+r2sum_last)*100)\n",
    "print(\"Percent ROS 2 in {0} {1}\".format(this_year,this_month))\n",
    "print(r2_this)\n",
    "\n",
    "print(\"Percent ROS 2 in {0} {1}\".format(last_year,last_month))\n",
    "print(r2_last)\n",
    "\n",
    "print(\"Change in ROS 2 between now and the last measurement\")\n",
    "print(r2_this-r2_last)\n",
    "print(\"-----------------------------------\")\n",
    "\n",
    "print(\"Total Packages in {0} {1}\".format(this_year,this_month))\n",
    "print(package_df[this_year].sum())\n",
    "\n",
    "print(\"==>Sanity Check ROS packages + other packages this year\")\n",
    "print(total_ros_this+non_ros_this)\n",
    "\n",
    "print(\"ESTIMATED Total Packages in the year {0}\".format(this_year))\n",
    "print(12*package_df[this_year].sum())\n"
   ]
  },
  {
   "cell_type": "code",
   "execution_count": 35,
   "metadata": {},
   "outputs": [
    {
     "name": "stdout",
     "output_type": "stream",
     "text": [
      "           name   2024   2023\n",
      "0     boxturtle   0.00   0.00\n",
      "1       cturtle   0.00   0.00\n",
      "2   diamondback   0.00   0.00\n",
      "3      electric   0.00   0.00\n",
      "4        fuerte   0.00   0.00\n",
      "5        groovy   0.00   0.00\n",
      "6         hydro   0.00   0.00\n",
      "7        indigo   0.05   0.24\n",
      "8          jade   0.00   0.00\n",
      "9       kinetic   0.39   1.14\n",
      "10        lunar   0.00   0.04\n",
      "11      melodic   2.32   5.66\n",
      "12       noetic  22.18  30.51\n",
      "13       ardent   0.00   0.00\n",
      "14       bouncy   0.00   0.00\n",
      "15      crystal   0.00   0.01\n",
      "16      dashing   0.11   0.20\n",
      "17     eloquent   0.09   0.16\n",
      "18         foxy   3.58   6.37\n",
      "19     galactic   1.25   2.33\n",
      "20       humble  39.38  32.79\n",
      "21         iron   5.26   4.97\n",
      "22        jazzy   9.36    NaN\n",
      "23      rolling   4.90   4.82\n",
      "88.87\n",
      "89.24000000000001\n"
     ]
    }
   ],
   "source": [
    "print(distro_df)\n",
    "print(distro_df[this_year].sum())\n",
    "print(distro_df[last_year].sum())"
   ]
  },
  {
   "cell_type": "code",
   "execution_count": 36,
   "metadata": {},
   "outputs": [
    {
     "name": "stdout",
     "output_type": "stream",
     "text": [
      "Percentage downloads that are not ROS packages (i.e. python):\n",
      "October 2024: 11.129999999999995\n",
      "October 2023: 10.759999999999991\n",
      "------------\n",
      "Distros less than one percent\n",
      "           name  2024  2023\n",
      "0     boxturtle  0.00  0.00\n",
      "1       cturtle  0.00  0.00\n",
      "2   diamondback  0.00  0.00\n",
      "3      electric  0.00  0.00\n",
      "4        fuerte  0.00  0.00\n",
      "5        groovy  0.00  0.00\n",
      "6         hydro  0.00  0.00\n",
      "7        indigo  0.05  0.24\n",
      "8          jade  0.00  0.00\n",
      "9       kinetic  0.39  1.14\n",
      "10        lunar  0.00  0.04\n",
      "13       ardent  0.00  0.00\n",
      "14       bouncy  0.00  0.00\n",
      "15      crystal  0.00  0.01\n",
      "16      dashing  0.11  0.20\n",
      "17     eloquent  0.09  0.16\n",
      "Sum of all distros less than one\n",
      "October 2024: 0.64\n",
      "October 2023: 1.79\n",
      "-------------\n",
      "Distros greater than 1%\n",
      "        name   2024   2023\n",
      "11   melodic   2.32   5.66\n",
      "12    noetic  22.18  30.51\n",
      "18      foxy   3.58   6.37\n",
      "19  galactic   1.25   2.33\n",
      "20    humble  39.38  32.79\n",
      "21      iron   5.26   4.97\n",
      "22     jazzy   9.36    NaN\n",
      "23   rolling   4.90   4.82\n"
     ]
    }
   ],
   "source": [
    "# Calculate percentages for active distros, old distros, \n",
    "everything_else_last = 100.0-distro_df[last_year].sum()\n",
    "everything_else_this = 100.0-distro_df[this_year].sum()\n",
    "print(\"Percentage downloads that are not ROS packages (i.e. python):\")\n",
    "print(\"{0} {1}: {2}\".format(this_month,this_year,everything_else_this))\n",
    "print(\"{0} {1}: {2}\".format(last_month,last_year,everything_else_last))\n",
    "print(\"------------\")\n",
    "\n",
    "\n",
    "leftovers = distro_df[distro_df[this_year]<1]\n",
    "print(\"Distros less than one percent\")\n",
    "print(leftovers)\n",
    "\n",
    "all_other_this = leftovers[this_year].sum()\n",
    "all_other_last = leftovers[last_year].sum()\n",
    "print(\"Sum of all distros less than one\")\n",
    "\n",
    "print(\"{0} {1}: {2}\".format(this_month,this_year,all_other_this))\n",
    "print(\"{0} {1}: {2}\".format(last_month,last_year,all_other_last))\n",
    "print(\"-------------\")\n",
    "temp = distro_df[distro_df[this_year]>=1]\n",
    "print(\"Distros greater than 1%\")\n",
    "print(temp)"
   ]
  },
  {
   "cell_type": "code",
   "execution_count": 37,
   "metadata": {},
   "outputs": [
    {
     "name": "stdout",
     "output_type": "stream",
     "text": [
      "                  name   2024   2023  YoY Change Prct\n",
      " 11            melodic   2.32   5.66            -3.34\n",
      " 12             noetic  22.18  30.51            -8.33\n",
      " 18               foxy   3.58   6.37            -2.79\n",
      " 19           galactic   1.25   2.33            -1.08\n",
      " 20             humble  39.38  32.79             6.59\n",
      " 21               iron   5.26   4.97             0.29\n",
      " 22              jazzy   9.36    NaN              NaN\n",
      " 23            rolling   4.90   4.82             0.08\n",
      "-1   all other distros   0.64   1.79            -1.15\n",
      "-2      other pacakges  11.13  10.76             0.37\n",
      "Saved to DistroPrctChangeOctober2023toOctober2024.csv\n",
      "------ Sanity Check\n",
      "name               melodicnoeticfoxygalactichumbleironjazzyrollin...\n",
      "2024                                                           100.0\n",
      "2023                                                           100.0\n",
      "YoY Change Prct                                                -9.36\n",
      "dtype: object\n"
     ]
    }
   ],
   "source": [
    "# Create a short table with distro change data\n",
    "# we really should merge this with the raw, per package data at some point\n",
    "distro_t = distro_df[distro_df[this_year]>=1].copy()\n",
    "distro_t.loc[-1]= [\"all other distros\",all_other_this,all_other_last]\n",
    "distro_t.loc[-2]= [\"other pacakges\",everything_else_this,everything_else_last]  # adding a row\n",
    "distro_t[\"YoY Change Prct\"] = distro_t[this_year]-distro_t[last_year]\n",
    "print(distro_t)\n",
    "fname = \"DistroPrctChange{0}{1}to{2}{3}.csv\".format(last_month,last_year,this_month,this_year)\n",
    "print(\"Saved to {0}\".format(fname))\n",
    "distro_t.to_csv(fname)\n",
    "# Sanity Check, should be 100\n",
    "print(\"------ Sanity Check\")\n",
    "print(distro_t.sum())\n"
   ]
  },
  {
   "cell_type": "code",
   "execution_count": 45,
   "metadata": {},
   "outputs": [
    {
     "name": "stdout",
     "output_type": "stream",
     "text": [
      "['Melodic', 'Noetic', 'Foxy', 'Galactic', 'Humble', 'Iron', 'Jazzy', 'Rolling']\n",
      "0              Melodic\n",
      "1               Noetic\n",
      "2                 Foxy\n",
      "3             Galactic\n",
      "4               Humble\n",
      "5                 Iron\n",
      "6                Jazzy\n",
      "7              Rolling\n",
      "8    All Other Distros\n",
      "9          Python Pkgs\n",
      "Name: name, dtype: object\n",
      "                name   2024   2023\n",
      "0            Melodic   2.32   5.66\n",
      "1             Noetic  22.18  30.51\n",
      "2               Foxy   3.58   6.37\n",
      "3           Galactic   1.25   2.33\n",
      "4             Humble  39.38  32.79\n",
      "5               Iron   5.26   4.97\n",
      "6              Jazzy   9.36    NaN\n",
      "7            Rolling   4.90   4.82\n",
      "8  All Other Distros   0.64   1.79\n",
      "9        Python Pkgs  11.13  10.76\n",
      "100.0\n",
      "99.99999999999999\n"
     ]
    },
    {
     "data": {
      "application/vnd.plotly.v1+json": {
       "config": {
        "plotlyServerURL": "https://plot.ly"
       },
       "data": [
        {
         "domain": {
          "x": [
           0,
           0.5
          ]
         },
         "labels": [
          "Melodic",
          "Noetic",
          "Foxy",
          "Galactic",
          "Humble",
          "Iron",
          "Jazzy",
          "Rolling",
          "All Other Distros",
          "Python Pkgs"
         ],
         "marker": {
          "colors": [
           "#FFAAAA",
           "#FF6666",
           "#CCCCFF",
           "#9999FF",
           "#6666FF",
           "#3333FF",
           "#fcdc3f",
           "#7cc14b",
           "#EE00FF",
           "#FF00FF"
          ]
         },
         "sort": false,
         "title": {
          "text": ""
         },
         "type": "pie",
         "values": [
          5.66,
          30.51,
          6.37,
          2.33,
          32.79,
          4.97,
          null,
          4.82,
          1.79,
          10.759999999999991
         ]
        },
        {
         "domain": {
          "x": [
           0.5,
           1
          ]
         },
         "labels": [
          "Melodic",
          "Noetic",
          "Foxy",
          "Galactic",
          "Humble",
          "Iron",
          "Jazzy",
          "Rolling",
          "All Other Distros",
          "Python Pkgs"
         ],
         "marker": {
          "colors": [
           "#FFAAAA",
           "#FF6666",
           "#CCCCFF",
           "#9999FF",
           "#6666FF",
           "#3333FF",
           "#fcdc3f",
           "#7cc14b",
           "#EE00FF",
           "#FF00FF"
          ]
         },
         "sort": false,
         "title": {
          "text": ""
         },
         "type": "pie",
         "values": [
          2.32,
          22.18,
          3.58,
          1.25,
          39.38,
          5.26,
          9.36,
          4.9,
          0.64,
          11.129999999999995
         ]
        }
       ],
       "layout": {
        "font": {
         "color": "#22314E",
         "family": "Arial",
         "size": 16
        },
        "template": {
         "data": {
          "bar": [
           {
            "error_x": {
             "color": "#2a3f5f"
            },
            "error_y": {
             "color": "#2a3f5f"
            },
            "marker": {
             "line": {
              "color": "#E5ECF6",
              "width": 0.5
             },
             "pattern": {
              "fillmode": "overlay",
              "size": 10,
              "solidity": 0.2
             }
            },
            "type": "bar"
           }
          ],
          "barpolar": [
           {
            "marker": {
             "line": {
              "color": "#E5ECF6",
              "width": 0.5
             },
             "pattern": {
              "fillmode": "overlay",
              "size": 10,
              "solidity": 0.2
             }
            },
            "type": "barpolar"
           }
          ],
          "carpet": [
           {
            "aaxis": {
             "endlinecolor": "#2a3f5f",
             "gridcolor": "white",
             "linecolor": "white",
             "minorgridcolor": "white",
             "startlinecolor": "#2a3f5f"
            },
            "baxis": {
             "endlinecolor": "#2a3f5f",
             "gridcolor": "white",
             "linecolor": "white",
             "minorgridcolor": "white",
             "startlinecolor": "#2a3f5f"
            },
            "type": "carpet"
           }
          ],
          "choropleth": [
           {
            "colorbar": {
             "outlinewidth": 0,
             "ticks": ""
            },
            "type": "choropleth"
           }
          ],
          "contour": [
           {
            "colorbar": {
             "outlinewidth": 0,
             "ticks": ""
            },
            "colorscale": [
             [
              0,
              "#0d0887"
             ],
             [
              0.1111111111111111,
              "#46039f"
             ],
             [
              0.2222222222222222,
              "#7201a8"
             ],
             [
              0.3333333333333333,
              "#9c179e"
             ],
             [
              0.4444444444444444,
              "#bd3786"
             ],
             [
              0.5555555555555556,
              "#d8576b"
             ],
             [
              0.6666666666666666,
              "#ed7953"
             ],
             [
              0.7777777777777778,
              "#fb9f3a"
             ],
             [
              0.8888888888888888,
              "#fdca26"
             ],
             [
              1,
              "#f0f921"
             ]
            ],
            "type": "contour"
           }
          ],
          "contourcarpet": [
           {
            "colorbar": {
             "outlinewidth": 0,
             "ticks": ""
            },
            "type": "contourcarpet"
           }
          ],
          "heatmap": [
           {
            "colorbar": {
             "outlinewidth": 0,
             "ticks": ""
            },
            "colorscale": [
             [
              0,
              "#0d0887"
             ],
             [
              0.1111111111111111,
              "#46039f"
             ],
             [
              0.2222222222222222,
              "#7201a8"
             ],
             [
              0.3333333333333333,
              "#9c179e"
             ],
             [
              0.4444444444444444,
              "#bd3786"
             ],
             [
              0.5555555555555556,
              "#d8576b"
             ],
             [
              0.6666666666666666,
              "#ed7953"
             ],
             [
              0.7777777777777778,
              "#fb9f3a"
             ],
             [
              0.8888888888888888,
              "#fdca26"
             ],
             [
              1,
              "#f0f921"
             ]
            ],
            "type": "heatmap"
           }
          ],
          "heatmapgl": [
           {
            "colorbar": {
             "outlinewidth": 0,
             "ticks": ""
            },
            "colorscale": [
             [
              0,
              "#0d0887"
             ],
             [
              0.1111111111111111,
              "#46039f"
             ],
             [
              0.2222222222222222,
              "#7201a8"
             ],
             [
              0.3333333333333333,
              "#9c179e"
             ],
             [
              0.4444444444444444,
              "#bd3786"
             ],
             [
              0.5555555555555556,
              "#d8576b"
             ],
             [
              0.6666666666666666,
              "#ed7953"
             ],
             [
              0.7777777777777778,
              "#fb9f3a"
             ],
             [
              0.8888888888888888,
              "#fdca26"
             ],
             [
              1,
              "#f0f921"
             ]
            ],
            "type": "heatmapgl"
           }
          ],
          "histogram": [
           {
            "marker": {
             "pattern": {
              "fillmode": "overlay",
              "size": 10,
              "solidity": 0.2
             }
            },
            "type": "histogram"
           }
          ],
          "histogram2d": [
           {
            "colorbar": {
             "outlinewidth": 0,
             "ticks": ""
            },
            "colorscale": [
             [
              0,
              "#0d0887"
             ],
             [
              0.1111111111111111,
              "#46039f"
             ],
             [
              0.2222222222222222,
              "#7201a8"
             ],
             [
              0.3333333333333333,
              "#9c179e"
             ],
             [
              0.4444444444444444,
              "#bd3786"
             ],
             [
              0.5555555555555556,
              "#d8576b"
             ],
             [
              0.6666666666666666,
              "#ed7953"
             ],
             [
              0.7777777777777778,
              "#fb9f3a"
             ],
             [
              0.8888888888888888,
              "#fdca26"
             ],
             [
              1,
              "#f0f921"
             ]
            ],
            "type": "histogram2d"
           }
          ],
          "histogram2dcontour": [
           {
            "colorbar": {
             "outlinewidth": 0,
             "ticks": ""
            },
            "colorscale": [
             [
              0,
              "#0d0887"
             ],
             [
              0.1111111111111111,
              "#46039f"
             ],
             [
              0.2222222222222222,
              "#7201a8"
             ],
             [
              0.3333333333333333,
              "#9c179e"
             ],
             [
              0.4444444444444444,
              "#bd3786"
             ],
             [
              0.5555555555555556,
              "#d8576b"
             ],
             [
              0.6666666666666666,
              "#ed7953"
             ],
             [
              0.7777777777777778,
              "#fb9f3a"
             ],
             [
              0.8888888888888888,
              "#fdca26"
             ],
             [
              1,
              "#f0f921"
             ]
            ],
            "type": "histogram2dcontour"
           }
          ],
          "mesh3d": [
           {
            "colorbar": {
             "outlinewidth": 0,
             "ticks": ""
            },
            "type": "mesh3d"
           }
          ],
          "parcoords": [
           {
            "line": {
             "colorbar": {
              "outlinewidth": 0,
              "ticks": ""
             }
            },
            "type": "parcoords"
           }
          ],
          "pie": [
           {
            "automargin": true,
            "type": "pie"
           }
          ],
          "scatter": [
           {
            "fillpattern": {
             "fillmode": "overlay",
             "size": 10,
             "solidity": 0.2
            },
            "type": "scatter"
           }
          ],
          "scatter3d": [
           {
            "line": {
             "colorbar": {
              "outlinewidth": 0,
              "ticks": ""
             }
            },
            "marker": {
             "colorbar": {
              "outlinewidth": 0,
              "ticks": ""
             }
            },
            "type": "scatter3d"
           }
          ],
          "scattercarpet": [
           {
            "marker": {
             "colorbar": {
              "outlinewidth": 0,
              "ticks": ""
             }
            },
            "type": "scattercarpet"
           }
          ],
          "scattergeo": [
           {
            "marker": {
             "colorbar": {
              "outlinewidth": 0,
              "ticks": ""
             }
            },
            "type": "scattergeo"
           }
          ],
          "scattergl": [
           {
            "marker": {
             "colorbar": {
              "outlinewidth": 0,
              "ticks": ""
             }
            },
            "type": "scattergl"
           }
          ],
          "scattermapbox": [
           {
            "marker": {
             "colorbar": {
              "outlinewidth": 0,
              "ticks": ""
             }
            },
            "type": "scattermapbox"
           }
          ],
          "scatterpolar": [
           {
            "marker": {
             "colorbar": {
              "outlinewidth": 0,
              "ticks": ""
             }
            },
            "type": "scatterpolar"
           }
          ],
          "scatterpolargl": [
           {
            "marker": {
             "colorbar": {
              "outlinewidth": 0,
              "ticks": ""
             }
            },
            "type": "scatterpolargl"
           }
          ],
          "scatterternary": [
           {
            "marker": {
             "colorbar": {
              "outlinewidth": 0,
              "ticks": ""
             }
            },
            "type": "scatterternary"
           }
          ],
          "surface": [
           {
            "colorbar": {
             "outlinewidth": 0,
             "ticks": ""
            },
            "colorscale": [
             [
              0,
              "#0d0887"
             ],
             [
              0.1111111111111111,
              "#46039f"
             ],
             [
              0.2222222222222222,
              "#7201a8"
             ],
             [
              0.3333333333333333,
              "#9c179e"
             ],
             [
              0.4444444444444444,
              "#bd3786"
             ],
             [
              0.5555555555555556,
              "#d8576b"
             ],
             [
              0.6666666666666666,
              "#ed7953"
             ],
             [
              0.7777777777777778,
              "#fb9f3a"
             ],
             [
              0.8888888888888888,
              "#fdca26"
             ],
             [
              1,
              "#f0f921"
             ]
            ],
            "type": "surface"
           }
          ],
          "table": [
           {
            "cells": {
             "fill": {
              "color": "#EBF0F8"
             },
             "line": {
              "color": "white"
             }
            },
            "header": {
             "fill": {
              "color": "#C8D4E3"
             },
             "line": {
              "color": "white"
             }
            },
            "type": "table"
           }
          ]
         },
         "layout": {
          "annotationdefaults": {
           "arrowcolor": "#2a3f5f",
           "arrowhead": 0,
           "arrowwidth": 1
          },
          "autotypenumbers": "strict",
          "coloraxis": {
           "colorbar": {
            "outlinewidth": 0,
            "ticks": ""
           }
          },
          "colorscale": {
           "diverging": [
            [
             0,
             "#8e0152"
            ],
            [
             0.1,
             "#c51b7d"
            ],
            [
             0.2,
             "#de77ae"
            ],
            [
             0.3,
             "#f1b6da"
            ],
            [
             0.4,
             "#fde0ef"
            ],
            [
             0.5,
             "#f7f7f7"
            ],
            [
             0.6,
             "#e6f5d0"
            ],
            [
             0.7,
             "#b8e186"
            ],
            [
             0.8,
             "#7fbc41"
            ],
            [
             0.9,
             "#4d9221"
            ],
            [
             1,
             "#276419"
            ]
           ],
           "sequential": [
            [
             0,
             "#0d0887"
            ],
            [
             0.1111111111111111,
             "#46039f"
            ],
            [
             0.2222222222222222,
             "#7201a8"
            ],
            [
             0.3333333333333333,
             "#9c179e"
            ],
            [
             0.4444444444444444,
             "#bd3786"
            ],
            [
             0.5555555555555556,
             "#d8576b"
            ],
            [
             0.6666666666666666,
             "#ed7953"
            ],
            [
             0.7777777777777778,
             "#fb9f3a"
            ],
            [
             0.8888888888888888,
             "#fdca26"
            ],
            [
             1,
             "#f0f921"
            ]
           ],
           "sequentialminus": [
            [
             0,
             "#0d0887"
            ],
            [
             0.1111111111111111,
             "#46039f"
            ],
            [
             0.2222222222222222,
             "#7201a8"
            ],
            [
             0.3333333333333333,
             "#9c179e"
            ],
            [
             0.4444444444444444,
             "#bd3786"
            ],
            [
             0.5555555555555556,
             "#d8576b"
            ],
            [
             0.6666666666666666,
             "#ed7953"
            ],
            [
             0.7777777777777778,
             "#fb9f3a"
            ],
            [
             0.8888888888888888,
             "#fdca26"
            ],
            [
             1,
             "#f0f921"
            ]
           ]
          },
          "colorway": [
           "#636efa",
           "#EF553B",
           "#00cc96",
           "#ab63fa",
           "#FFA15A",
           "#19d3f3",
           "#FF6692",
           "#B6E880",
           "#FF97FF",
           "#FECB52"
          ],
          "font": {
           "color": "#2a3f5f"
          },
          "geo": {
           "bgcolor": "white",
           "lakecolor": "white",
           "landcolor": "#E5ECF6",
           "showlakes": true,
           "showland": true,
           "subunitcolor": "white"
          },
          "hoverlabel": {
           "align": "left"
          },
          "hovermode": "closest",
          "mapbox": {
           "style": "light"
          },
          "paper_bgcolor": "white",
          "plot_bgcolor": "#E5ECF6",
          "polar": {
           "angularaxis": {
            "gridcolor": "white",
            "linecolor": "white",
            "ticks": ""
           },
           "bgcolor": "#E5ECF6",
           "radialaxis": {
            "gridcolor": "white",
            "linecolor": "white",
            "ticks": ""
           }
          },
          "scene": {
           "xaxis": {
            "backgroundcolor": "#E5ECF6",
            "gridcolor": "white",
            "gridwidth": 2,
            "linecolor": "white",
            "showbackground": true,
            "ticks": "",
            "zerolinecolor": "white"
           },
           "yaxis": {
            "backgroundcolor": "#E5ECF6",
            "gridcolor": "white",
            "gridwidth": 2,
            "linecolor": "white",
            "showbackground": true,
            "ticks": "",
            "zerolinecolor": "white"
           },
           "zaxis": {
            "backgroundcolor": "#E5ECF6",
            "gridcolor": "white",
            "gridwidth": 2,
            "linecolor": "white",
            "showbackground": true,
            "ticks": "",
            "zerolinecolor": "white"
           }
          },
          "shapedefaults": {
           "line": {
            "color": "#2a3f5f"
           }
          },
          "ternary": {
           "aaxis": {
            "gridcolor": "white",
            "linecolor": "white",
            "ticks": ""
           },
           "baxis": {
            "gridcolor": "white",
            "linecolor": "white",
            "ticks": ""
           },
           "bgcolor": "#E5ECF6",
           "caxis": {
            "gridcolor": "white",
            "linecolor": "white",
            "ticks": ""
           }
          },
          "title": {
           "x": 0.05
          },
          "xaxis": {
           "automargin": true,
           "gridcolor": "white",
           "linecolor": "white",
           "ticks": "",
           "title": {
            "standoff": 15
           },
           "zerolinecolor": "white",
           "zerolinewidth": 2
          },
          "yaxis": {
           "automargin": true,
           "gridcolor": "white",
           "linecolor": "white",
           "ticks": "",
           "title": {
            "standoff": 15
           },
           "zerolinecolor": "white",
           "zerolinewidth": 2
          }
         }
        },
        "title": {
         "font": {
          "color": "#22314E",
          "family": "Arial",
          "size": 24
         },
         "text": "Download Percentage from packages.ros.org October 2023 vs October 2024"
        }
       }
      },
      "text/html": [
       "<div>                            <div id=\"28fd1808-62ae-4c8c-ad02-9474aaa86b0e\" class=\"plotly-graph-div\" style=\"height:525px; width:100%;\"></div>            <script type=\"text/javascript\">                require([\"plotly\"], function(Plotly) {                    window.PLOTLYENV=window.PLOTLYENV || {};                                    if (document.getElementById(\"28fd1808-62ae-4c8c-ad02-9474aaa86b0e\")) {                    Plotly.newPlot(                        \"28fd1808-62ae-4c8c-ad02-9474aaa86b0e\",                        [{\"domain\":{\"x\":[0,0.5]},\"labels\":[\"Melodic\",\"Noetic\",\"Foxy\",\"Galactic\",\"Humble\",\"Iron\",\"Jazzy\",\"Rolling\",\"All Other Distros\",\"Python Pkgs\"],\"sort\":false,\"title\":{\"text\":\"\"},\"values\":[5.66,30.51,6.37,2.33,32.79,4.97,null,4.82,1.79,10.759999999999991],\"type\":\"pie\",\"marker\":{\"colors\":[\"#FFAAAA\",\"#FF6666\",\"#CCCCFF\",\"#9999FF\",\"#6666FF\",\"#3333FF\",\"#fcdc3f\",\"#7cc14b\",\"#EE00FF\",\"#FF00FF\"]}},{\"domain\":{\"x\":[0.5,1.0]},\"labels\":[\"Melodic\",\"Noetic\",\"Foxy\",\"Galactic\",\"Humble\",\"Iron\",\"Jazzy\",\"Rolling\",\"All Other Distros\",\"Python Pkgs\"],\"sort\":false,\"title\":{\"text\":\"\"},\"values\":[2.32,22.18,3.58,1.25,39.38,5.26,9.36,4.9,0.64,11.129999999999995],\"type\":\"pie\",\"marker\":{\"colors\":[\"#FFAAAA\",\"#FF6666\",\"#CCCCFF\",\"#9999FF\",\"#6666FF\",\"#3333FF\",\"#fcdc3f\",\"#7cc14b\",\"#EE00FF\",\"#FF00FF\"]}}],                        {\"title\":{\"text\":\"Download Percentage from packages.ros.org October 2023 vs October 2024\",\"font\":{\"size\":24,\"family\":\"Arial\",\"color\":\"#22314E\"}},\"template\":{\"data\":{\"histogram2dcontour\":[{\"type\":\"histogram2dcontour\",\"colorbar\":{\"outlinewidth\":0,\"ticks\":\"\"},\"colorscale\":[[0.0,\"#0d0887\"],[0.1111111111111111,\"#46039f\"],[0.2222222222222222,\"#7201a8\"],[0.3333333333333333,\"#9c179e\"],[0.4444444444444444,\"#bd3786\"],[0.5555555555555556,\"#d8576b\"],[0.6666666666666666,\"#ed7953\"],[0.7777777777777778,\"#fb9f3a\"],[0.8888888888888888,\"#fdca26\"],[1.0,\"#f0f921\"]]}],\"choropleth\":[{\"type\":\"choropleth\",\"colorbar\":{\"outlinewidth\":0,\"ticks\":\"\"}}],\"histogram2d\":[{\"type\":\"histogram2d\",\"colorbar\":{\"outlinewidth\":0,\"ticks\":\"\"},\"colorscale\":[[0.0,\"#0d0887\"],[0.1111111111111111,\"#46039f\"],[0.2222222222222222,\"#7201a8\"],[0.3333333333333333,\"#9c179e\"],[0.4444444444444444,\"#bd3786\"],[0.5555555555555556,\"#d8576b\"],[0.6666666666666666,\"#ed7953\"],[0.7777777777777778,\"#fb9f3a\"],[0.8888888888888888,\"#fdca26\"],[1.0,\"#f0f921\"]]}],\"heatmap\":[{\"type\":\"heatmap\",\"colorbar\":{\"outlinewidth\":0,\"ticks\":\"\"},\"colorscale\":[[0.0,\"#0d0887\"],[0.1111111111111111,\"#46039f\"],[0.2222222222222222,\"#7201a8\"],[0.3333333333333333,\"#9c179e\"],[0.4444444444444444,\"#bd3786\"],[0.5555555555555556,\"#d8576b\"],[0.6666666666666666,\"#ed7953\"],[0.7777777777777778,\"#fb9f3a\"],[0.8888888888888888,\"#fdca26\"],[1.0,\"#f0f921\"]]}],\"heatmapgl\":[{\"type\":\"heatmapgl\",\"colorbar\":{\"outlinewidth\":0,\"ticks\":\"\"},\"colorscale\":[[0.0,\"#0d0887\"],[0.1111111111111111,\"#46039f\"],[0.2222222222222222,\"#7201a8\"],[0.3333333333333333,\"#9c179e\"],[0.4444444444444444,\"#bd3786\"],[0.5555555555555556,\"#d8576b\"],[0.6666666666666666,\"#ed7953\"],[0.7777777777777778,\"#fb9f3a\"],[0.8888888888888888,\"#fdca26\"],[1.0,\"#f0f921\"]]}],\"contourcarpet\":[{\"type\":\"contourcarpet\",\"colorbar\":{\"outlinewidth\":0,\"ticks\":\"\"}}],\"contour\":[{\"type\":\"contour\",\"colorbar\":{\"outlinewidth\":0,\"ticks\":\"\"},\"colorscale\":[[0.0,\"#0d0887\"],[0.1111111111111111,\"#46039f\"],[0.2222222222222222,\"#7201a8\"],[0.3333333333333333,\"#9c179e\"],[0.4444444444444444,\"#bd3786\"],[0.5555555555555556,\"#d8576b\"],[0.6666666666666666,\"#ed7953\"],[0.7777777777777778,\"#fb9f3a\"],[0.8888888888888888,\"#fdca26\"],[1.0,\"#f0f921\"]]}],\"surface\":[{\"type\":\"surface\",\"colorbar\":{\"outlinewidth\":0,\"ticks\":\"\"},\"colorscale\":[[0.0,\"#0d0887\"],[0.1111111111111111,\"#46039f\"],[0.2222222222222222,\"#7201a8\"],[0.3333333333333333,\"#9c179e\"],[0.4444444444444444,\"#bd3786\"],[0.5555555555555556,\"#d8576b\"],[0.6666666666666666,\"#ed7953\"],[0.7777777777777778,\"#fb9f3a\"],[0.8888888888888888,\"#fdca26\"],[1.0,\"#f0f921\"]]}],\"mesh3d\":[{\"type\":\"mesh3d\",\"colorbar\":{\"outlinewidth\":0,\"ticks\":\"\"}}],\"scatter\":[{\"fillpattern\":{\"fillmode\":\"overlay\",\"size\":10,\"solidity\":0.2},\"type\":\"scatter\"}],\"parcoords\":[{\"type\":\"parcoords\",\"line\":{\"colorbar\":{\"outlinewidth\":0,\"ticks\":\"\"}}}],\"scatterpolargl\":[{\"type\":\"scatterpolargl\",\"marker\":{\"colorbar\":{\"outlinewidth\":0,\"ticks\":\"\"}}}],\"bar\":[{\"error_x\":{\"color\":\"#2a3f5f\"},\"error_y\":{\"color\":\"#2a3f5f\"},\"marker\":{\"line\":{\"color\":\"#E5ECF6\",\"width\":0.5},\"pattern\":{\"fillmode\":\"overlay\",\"size\":10,\"solidity\":0.2}},\"type\":\"bar\"}],\"scattergeo\":[{\"type\":\"scattergeo\",\"marker\":{\"colorbar\":{\"outlinewidth\":0,\"ticks\":\"\"}}}],\"scatterpolar\":[{\"type\":\"scatterpolar\",\"marker\":{\"colorbar\":{\"outlinewidth\":0,\"ticks\":\"\"}}}],\"histogram\":[{\"marker\":{\"pattern\":{\"fillmode\":\"overlay\",\"size\":10,\"solidity\":0.2}},\"type\":\"histogram\"}],\"scattergl\":[{\"type\":\"scattergl\",\"marker\":{\"colorbar\":{\"outlinewidth\":0,\"ticks\":\"\"}}}],\"scatter3d\":[{\"type\":\"scatter3d\",\"line\":{\"colorbar\":{\"outlinewidth\":0,\"ticks\":\"\"}},\"marker\":{\"colorbar\":{\"outlinewidth\":0,\"ticks\":\"\"}}}],\"scattermapbox\":[{\"type\":\"scattermapbox\",\"marker\":{\"colorbar\":{\"outlinewidth\":0,\"ticks\":\"\"}}}],\"scatterternary\":[{\"type\":\"scatterternary\",\"marker\":{\"colorbar\":{\"outlinewidth\":0,\"ticks\":\"\"}}}],\"scattercarpet\":[{\"type\":\"scattercarpet\",\"marker\":{\"colorbar\":{\"outlinewidth\":0,\"ticks\":\"\"}}}],\"carpet\":[{\"aaxis\":{\"endlinecolor\":\"#2a3f5f\",\"gridcolor\":\"white\",\"linecolor\":\"white\",\"minorgridcolor\":\"white\",\"startlinecolor\":\"#2a3f5f\"},\"baxis\":{\"endlinecolor\":\"#2a3f5f\",\"gridcolor\":\"white\",\"linecolor\":\"white\",\"minorgridcolor\":\"white\",\"startlinecolor\":\"#2a3f5f\"},\"type\":\"carpet\"}],\"table\":[{\"cells\":{\"fill\":{\"color\":\"#EBF0F8\"},\"line\":{\"color\":\"white\"}},\"header\":{\"fill\":{\"color\":\"#C8D4E3\"},\"line\":{\"color\":\"white\"}},\"type\":\"table\"}],\"barpolar\":[{\"marker\":{\"line\":{\"color\":\"#E5ECF6\",\"width\":0.5},\"pattern\":{\"fillmode\":\"overlay\",\"size\":10,\"solidity\":0.2}},\"type\":\"barpolar\"}],\"pie\":[{\"automargin\":true,\"type\":\"pie\"}]},\"layout\":{\"autotypenumbers\":\"strict\",\"colorway\":[\"#636efa\",\"#EF553B\",\"#00cc96\",\"#ab63fa\",\"#FFA15A\",\"#19d3f3\",\"#FF6692\",\"#B6E880\",\"#FF97FF\",\"#FECB52\"],\"font\":{\"color\":\"#2a3f5f\"},\"hovermode\":\"closest\",\"hoverlabel\":{\"align\":\"left\"},\"paper_bgcolor\":\"white\",\"plot_bgcolor\":\"#E5ECF6\",\"polar\":{\"bgcolor\":\"#E5ECF6\",\"angularaxis\":{\"gridcolor\":\"white\",\"linecolor\":\"white\",\"ticks\":\"\"},\"radialaxis\":{\"gridcolor\":\"white\",\"linecolor\":\"white\",\"ticks\":\"\"}},\"ternary\":{\"bgcolor\":\"#E5ECF6\",\"aaxis\":{\"gridcolor\":\"white\",\"linecolor\":\"white\",\"ticks\":\"\"},\"baxis\":{\"gridcolor\":\"white\",\"linecolor\":\"white\",\"ticks\":\"\"},\"caxis\":{\"gridcolor\":\"white\",\"linecolor\":\"white\",\"ticks\":\"\"}},\"coloraxis\":{\"colorbar\":{\"outlinewidth\":0,\"ticks\":\"\"}},\"colorscale\":{\"sequential\":[[0.0,\"#0d0887\"],[0.1111111111111111,\"#46039f\"],[0.2222222222222222,\"#7201a8\"],[0.3333333333333333,\"#9c179e\"],[0.4444444444444444,\"#bd3786\"],[0.5555555555555556,\"#d8576b\"],[0.6666666666666666,\"#ed7953\"],[0.7777777777777778,\"#fb9f3a\"],[0.8888888888888888,\"#fdca26\"],[1.0,\"#f0f921\"]],\"sequentialminus\":[[0.0,\"#0d0887\"],[0.1111111111111111,\"#46039f\"],[0.2222222222222222,\"#7201a8\"],[0.3333333333333333,\"#9c179e\"],[0.4444444444444444,\"#bd3786\"],[0.5555555555555556,\"#d8576b\"],[0.6666666666666666,\"#ed7953\"],[0.7777777777777778,\"#fb9f3a\"],[0.8888888888888888,\"#fdca26\"],[1.0,\"#f0f921\"]],\"diverging\":[[0,\"#8e0152\"],[0.1,\"#c51b7d\"],[0.2,\"#de77ae\"],[0.3,\"#f1b6da\"],[0.4,\"#fde0ef\"],[0.5,\"#f7f7f7\"],[0.6,\"#e6f5d0\"],[0.7,\"#b8e186\"],[0.8,\"#7fbc41\"],[0.9,\"#4d9221\"],[1,\"#276419\"]]},\"xaxis\":{\"gridcolor\":\"white\",\"linecolor\":\"white\",\"ticks\":\"\",\"title\":{\"standoff\":15},\"zerolinecolor\":\"white\",\"automargin\":true,\"zerolinewidth\":2},\"yaxis\":{\"gridcolor\":\"white\",\"linecolor\":\"white\",\"ticks\":\"\",\"title\":{\"standoff\":15},\"zerolinecolor\":\"white\",\"automargin\":true,\"zerolinewidth\":2},\"scene\":{\"xaxis\":{\"backgroundcolor\":\"#E5ECF6\",\"gridcolor\":\"white\",\"linecolor\":\"white\",\"showbackground\":true,\"ticks\":\"\",\"zerolinecolor\":\"white\",\"gridwidth\":2},\"yaxis\":{\"backgroundcolor\":\"#E5ECF6\",\"gridcolor\":\"white\",\"linecolor\":\"white\",\"showbackground\":true,\"ticks\":\"\",\"zerolinecolor\":\"white\",\"gridwidth\":2},\"zaxis\":{\"backgroundcolor\":\"#E5ECF6\",\"gridcolor\":\"white\",\"linecolor\":\"white\",\"showbackground\":true,\"ticks\":\"\",\"zerolinecolor\":\"white\",\"gridwidth\":2}},\"shapedefaults\":{\"line\":{\"color\":\"#2a3f5f\"}},\"annotationdefaults\":{\"arrowcolor\":\"#2a3f5f\",\"arrowhead\":0,\"arrowwidth\":1},\"geo\":{\"bgcolor\":\"white\",\"landcolor\":\"#E5ECF6\",\"subunitcolor\":\"white\",\"showland\":true,\"showlakes\":true,\"lakecolor\":\"white\"},\"title\":{\"x\":0.05},\"mapbox\":{\"style\":\"light\"}}},\"font\":{\"family\":\"Arial\",\"color\":\"#22314E\",\"size\":16}},                        {\"responsive\": true}                    ).then(function(){\n",
       "                            \n",
       "var gd = document.getElementById('28fd1808-62ae-4c8c-ad02-9474aaa86b0e');\n",
       "var x = new MutationObserver(function (mutations, observer) {{\n",
       "        var display = window.getComputedStyle(gd).display;\n",
       "        if (!display || display === 'none') {{\n",
       "            console.log([gd, 'removed!']);\n",
       "            Plotly.purge(gd);\n",
       "            observer.disconnect();\n",
       "        }}\n",
       "}});\n",
       "\n",
       "// Listen for the removal of the full notebook cells\n",
       "var notebookContainer = gd.closest('#notebook-container');\n",
       "if (notebookContainer) {{\n",
       "    x.observe(notebookContainer, {childList: true});\n",
       "}}\n",
       "\n",
       "// Listen for the clearing of the current output cell\n",
       "var outputEl = gd.closest('.output');\n",
       "if (outputEl) {{\n",
       "    x.observe(outputEl, {childList: true});\n",
       "}}\n",
       "\n",
       "                        })                };                });            </script>        </div>"
      ]
     },
     "metadata": {},
     "output_type": "display_data"
    }
   ],
   "source": [
    "# Generate side by side plots of distros\n",
    "temp = distro_df[distro_df[this_year]>=1].copy()\n",
    "new_names = [a[0].upper()+a[1:] for a in temp[\"name\"]]\n",
    "print(new_names)\n",
    "temp[\"name\"] = pd.Series(data=new_names,copy=False,index=temp[\"name\"].index)\n",
    "\n",
    "new_row = pd.DataFrame(data=[{\"name\":\"All Other Distros\",\"2024\":all_other_this,\"2023\":all_other_last},\n",
    "                             {\"name\":\"Python Pkgs\",\"2024\":everything_else_this,\"2023\":everything_else_last}])\n",
    "temp = pd.concat([temp, new_row], ignore_index=True)\n",
    "print(temp[\"name\"])\n",
    "print(temp)\n",
    "print(temp[last_year].sum())\n",
    "print(temp[this_year].sum())\n",
    "\n",
    "title ={\n",
    "    'text': \"Plot Title\",\n",
    "    'y':0.9,\n",
    "    'x':0.5,\n",
    "    'xanchor': 'center',\n",
    "    'yanchor': 'bottom'}\n",
    "\n",
    "trace1 = go.Pie(values= temp[last_year], labels = temp[\"name\"],domain=dict(x=[0, 0.5]),title=\"\",sort= False)\n",
    "trace2 = go.Pie(values= temp[this_year], labels = temp[\"name\"],domain=dict(x=[0.5,1.0]),title=\"\", sort=False)\n",
    "layout = go.Layout(title=\"Download Percentage from packages.ros.org October 2023 vs October 2024\")\n",
    "data = [trace1,trace2]\n",
    "fig = go.Figure(data=data, layout=layout)\n",
    "\n",
    "\n",
    "fig.update_layout(\n",
    "    font_family=\"Arial\",\n",
    "    font_color=\"#22314E\",\n",
    "    font_size=16,\n",
    "    title_font_size = 24,\n",
    "    title_font_family=\"Arial\",\n",
    "    title_font_color=\"#22314E\"\n",
    ")\n",
    "\n",
    "fig.update_traces(marker=dict(colors=['#FFAAAA','#FF6666','#CCCCFF','#9999FF',\n",
    "                                      '#6666FF','#3333FF','#fcdc3f',\"#7cc14b\",\"#EE00FF\",\"#FF00FF\"]))\n",
    "\n",
    "fig.show()\n"
   ]
  },
  {
   "cell_type": "code",
   "execution_count": 58,
   "metadata": {},
   "outputs": [
    {
     "data": {
      "application/vnd.plotly.v1+json": {
       "config": {
        "plotlyServerURL": "https://plot.ly"
       },
       "data": [
        {
         "labels": [
          "Melodic",
          "Noetic",
          "Foxy",
          "Galactic",
          "Humble",
          "Iron",
          "Jazzy",
          "Rolling",
          "All Other Distros",
          "Python Pkgs"
         ],
         "marker": {
          "colors": [
           "#b50411",
           "#f98874",
           "#1b6599",
           "#3c77a9",
           "#5e88b3",
           "#7b9abd",
           "#96acc7",
           "#b0bed1",
           "#fdc6ba",
           "#FFFF99"
          ]
         },
         "sort": false,
         "title": {
          "text": ""
         },
         "type": "pie",
         "values": [
          2.32,
          22.18,
          3.58,
          1.25,
          39.38,
          5.26,
          9.36,
          4.9,
          0.64,
          11.129999999999995
         ]
        }
       ],
       "layout": {
        "font": {
         "color": "#22314E",
         "family": "Arial",
         "size": 16
        },
        "template": {
         "data": {
          "bar": [
           {
            "error_x": {
             "color": "#2a3f5f"
            },
            "error_y": {
             "color": "#2a3f5f"
            },
            "marker": {
             "line": {
              "color": "#E5ECF6",
              "width": 0.5
             },
             "pattern": {
              "fillmode": "overlay",
              "size": 10,
              "solidity": 0.2
             }
            },
            "type": "bar"
           }
          ],
          "barpolar": [
           {
            "marker": {
             "line": {
              "color": "#E5ECF6",
              "width": 0.5
             },
             "pattern": {
              "fillmode": "overlay",
              "size": 10,
              "solidity": 0.2
             }
            },
            "type": "barpolar"
           }
          ],
          "carpet": [
           {
            "aaxis": {
             "endlinecolor": "#2a3f5f",
             "gridcolor": "white",
             "linecolor": "white",
             "minorgridcolor": "white",
             "startlinecolor": "#2a3f5f"
            },
            "baxis": {
             "endlinecolor": "#2a3f5f",
             "gridcolor": "white",
             "linecolor": "white",
             "minorgridcolor": "white",
             "startlinecolor": "#2a3f5f"
            },
            "type": "carpet"
           }
          ],
          "choropleth": [
           {
            "colorbar": {
             "outlinewidth": 0,
             "ticks": ""
            },
            "type": "choropleth"
           }
          ],
          "contour": [
           {
            "colorbar": {
             "outlinewidth": 0,
             "ticks": ""
            },
            "colorscale": [
             [
              0,
              "#0d0887"
             ],
             [
              0.1111111111111111,
              "#46039f"
             ],
             [
              0.2222222222222222,
              "#7201a8"
             ],
             [
              0.3333333333333333,
              "#9c179e"
             ],
             [
              0.4444444444444444,
              "#bd3786"
             ],
             [
              0.5555555555555556,
              "#d8576b"
             ],
             [
              0.6666666666666666,
              "#ed7953"
             ],
             [
              0.7777777777777778,
              "#fb9f3a"
             ],
             [
              0.8888888888888888,
              "#fdca26"
             ],
             [
              1,
              "#f0f921"
             ]
            ],
            "type": "contour"
           }
          ],
          "contourcarpet": [
           {
            "colorbar": {
             "outlinewidth": 0,
             "ticks": ""
            },
            "type": "contourcarpet"
           }
          ],
          "heatmap": [
           {
            "colorbar": {
             "outlinewidth": 0,
             "ticks": ""
            },
            "colorscale": [
             [
              0,
              "#0d0887"
             ],
             [
              0.1111111111111111,
              "#46039f"
             ],
             [
              0.2222222222222222,
              "#7201a8"
             ],
             [
              0.3333333333333333,
              "#9c179e"
             ],
             [
              0.4444444444444444,
              "#bd3786"
             ],
             [
              0.5555555555555556,
              "#d8576b"
             ],
             [
              0.6666666666666666,
              "#ed7953"
             ],
             [
              0.7777777777777778,
              "#fb9f3a"
             ],
             [
              0.8888888888888888,
              "#fdca26"
             ],
             [
              1,
              "#f0f921"
             ]
            ],
            "type": "heatmap"
           }
          ],
          "heatmapgl": [
           {
            "colorbar": {
             "outlinewidth": 0,
             "ticks": ""
            },
            "colorscale": [
             [
              0,
              "#0d0887"
             ],
             [
              0.1111111111111111,
              "#46039f"
             ],
             [
              0.2222222222222222,
              "#7201a8"
             ],
             [
              0.3333333333333333,
              "#9c179e"
             ],
             [
              0.4444444444444444,
              "#bd3786"
             ],
             [
              0.5555555555555556,
              "#d8576b"
             ],
             [
              0.6666666666666666,
              "#ed7953"
             ],
             [
              0.7777777777777778,
              "#fb9f3a"
             ],
             [
              0.8888888888888888,
              "#fdca26"
             ],
             [
              1,
              "#f0f921"
             ]
            ],
            "type": "heatmapgl"
           }
          ],
          "histogram": [
           {
            "marker": {
             "pattern": {
              "fillmode": "overlay",
              "size": 10,
              "solidity": 0.2
             }
            },
            "type": "histogram"
           }
          ],
          "histogram2d": [
           {
            "colorbar": {
             "outlinewidth": 0,
             "ticks": ""
            },
            "colorscale": [
             [
              0,
              "#0d0887"
             ],
             [
              0.1111111111111111,
              "#46039f"
             ],
             [
              0.2222222222222222,
              "#7201a8"
             ],
             [
              0.3333333333333333,
              "#9c179e"
             ],
             [
              0.4444444444444444,
              "#bd3786"
             ],
             [
              0.5555555555555556,
              "#d8576b"
             ],
             [
              0.6666666666666666,
              "#ed7953"
             ],
             [
              0.7777777777777778,
              "#fb9f3a"
             ],
             [
              0.8888888888888888,
              "#fdca26"
             ],
             [
              1,
              "#f0f921"
             ]
            ],
            "type": "histogram2d"
           }
          ],
          "histogram2dcontour": [
           {
            "colorbar": {
             "outlinewidth": 0,
             "ticks": ""
            },
            "colorscale": [
             [
              0,
              "#0d0887"
             ],
             [
              0.1111111111111111,
              "#46039f"
             ],
             [
              0.2222222222222222,
              "#7201a8"
             ],
             [
              0.3333333333333333,
              "#9c179e"
             ],
             [
              0.4444444444444444,
              "#bd3786"
             ],
             [
              0.5555555555555556,
              "#d8576b"
             ],
             [
              0.6666666666666666,
              "#ed7953"
             ],
             [
              0.7777777777777778,
              "#fb9f3a"
             ],
             [
              0.8888888888888888,
              "#fdca26"
             ],
             [
              1,
              "#f0f921"
             ]
            ],
            "type": "histogram2dcontour"
           }
          ],
          "mesh3d": [
           {
            "colorbar": {
             "outlinewidth": 0,
             "ticks": ""
            },
            "type": "mesh3d"
           }
          ],
          "parcoords": [
           {
            "line": {
             "colorbar": {
              "outlinewidth": 0,
              "ticks": ""
             }
            },
            "type": "parcoords"
           }
          ],
          "pie": [
           {
            "automargin": true,
            "type": "pie"
           }
          ],
          "scatter": [
           {
            "fillpattern": {
             "fillmode": "overlay",
             "size": 10,
             "solidity": 0.2
            },
            "type": "scatter"
           }
          ],
          "scatter3d": [
           {
            "line": {
             "colorbar": {
              "outlinewidth": 0,
              "ticks": ""
             }
            },
            "marker": {
             "colorbar": {
              "outlinewidth": 0,
              "ticks": ""
             }
            },
            "type": "scatter3d"
           }
          ],
          "scattercarpet": [
           {
            "marker": {
             "colorbar": {
              "outlinewidth": 0,
              "ticks": ""
             }
            },
            "type": "scattercarpet"
           }
          ],
          "scattergeo": [
           {
            "marker": {
             "colorbar": {
              "outlinewidth": 0,
              "ticks": ""
             }
            },
            "type": "scattergeo"
           }
          ],
          "scattergl": [
           {
            "marker": {
             "colorbar": {
              "outlinewidth": 0,
              "ticks": ""
             }
            },
            "type": "scattergl"
           }
          ],
          "scattermapbox": [
           {
            "marker": {
             "colorbar": {
              "outlinewidth": 0,
              "ticks": ""
             }
            },
            "type": "scattermapbox"
           }
          ],
          "scatterpolar": [
           {
            "marker": {
             "colorbar": {
              "outlinewidth": 0,
              "ticks": ""
             }
            },
            "type": "scatterpolar"
           }
          ],
          "scatterpolargl": [
           {
            "marker": {
             "colorbar": {
              "outlinewidth": 0,
              "ticks": ""
             }
            },
            "type": "scatterpolargl"
           }
          ],
          "scatterternary": [
           {
            "marker": {
             "colorbar": {
              "outlinewidth": 0,
              "ticks": ""
             }
            },
            "type": "scatterternary"
           }
          ],
          "surface": [
           {
            "colorbar": {
             "outlinewidth": 0,
             "ticks": ""
            },
            "colorscale": [
             [
              0,
              "#0d0887"
             ],
             [
              0.1111111111111111,
              "#46039f"
             ],
             [
              0.2222222222222222,
              "#7201a8"
             ],
             [
              0.3333333333333333,
              "#9c179e"
             ],
             [
              0.4444444444444444,
              "#bd3786"
             ],
             [
              0.5555555555555556,
              "#d8576b"
             ],
             [
              0.6666666666666666,
              "#ed7953"
             ],
             [
              0.7777777777777778,
              "#fb9f3a"
             ],
             [
              0.8888888888888888,
              "#fdca26"
             ],
             [
              1,
              "#f0f921"
             ]
            ],
            "type": "surface"
           }
          ],
          "table": [
           {
            "cells": {
             "fill": {
              "color": "#EBF0F8"
             },
             "line": {
              "color": "white"
             }
            },
            "header": {
             "fill": {
              "color": "#C8D4E3"
             },
             "line": {
              "color": "white"
             }
            },
            "type": "table"
           }
          ]
         },
         "layout": {
          "annotationdefaults": {
           "arrowcolor": "#2a3f5f",
           "arrowhead": 0,
           "arrowwidth": 1
          },
          "autotypenumbers": "strict",
          "coloraxis": {
           "colorbar": {
            "outlinewidth": 0,
            "ticks": ""
           }
          },
          "colorscale": {
           "diverging": [
            [
             0,
             "#8e0152"
            ],
            [
             0.1,
             "#c51b7d"
            ],
            [
             0.2,
             "#de77ae"
            ],
            [
             0.3,
             "#f1b6da"
            ],
            [
             0.4,
             "#fde0ef"
            ],
            [
             0.5,
             "#f7f7f7"
            ],
            [
             0.6,
             "#e6f5d0"
            ],
            [
             0.7,
             "#b8e186"
            ],
            [
             0.8,
             "#7fbc41"
            ],
            [
             0.9,
             "#4d9221"
            ],
            [
             1,
             "#276419"
            ]
           ],
           "sequential": [
            [
             0,
             "#0d0887"
            ],
            [
             0.1111111111111111,
             "#46039f"
            ],
            [
             0.2222222222222222,
             "#7201a8"
            ],
            [
             0.3333333333333333,
             "#9c179e"
            ],
            [
             0.4444444444444444,
             "#bd3786"
            ],
            [
             0.5555555555555556,
             "#d8576b"
            ],
            [
             0.6666666666666666,
             "#ed7953"
            ],
            [
             0.7777777777777778,
             "#fb9f3a"
            ],
            [
             0.8888888888888888,
             "#fdca26"
            ],
            [
             1,
             "#f0f921"
            ]
           ],
           "sequentialminus": [
            [
             0,
             "#0d0887"
            ],
            [
             0.1111111111111111,
             "#46039f"
            ],
            [
             0.2222222222222222,
             "#7201a8"
            ],
            [
             0.3333333333333333,
             "#9c179e"
            ],
            [
             0.4444444444444444,
             "#bd3786"
            ],
            [
             0.5555555555555556,
             "#d8576b"
            ],
            [
             0.6666666666666666,
             "#ed7953"
            ],
            [
             0.7777777777777778,
             "#fb9f3a"
            ],
            [
             0.8888888888888888,
             "#fdca26"
            ],
            [
             1,
             "#f0f921"
            ]
           ]
          },
          "colorway": [
           "#636efa",
           "#EF553B",
           "#00cc96",
           "#ab63fa",
           "#FFA15A",
           "#19d3f3",
           "#FF6692",
           "#B6E880",
           "#FF97FF",
           "#FECB52"
          ],
          "font": {
           "color": "#2a3f5f"
          },
          "geo": {
           "bgcolor": "white",
           "lakecolor": "white",
           "landcolor": "#E5ECF6",
           "showlakes": true,
           "showland": true,
           "subunitcolor": "white"
          },
          "hoverlabel": {
           "align": "left"
          },
          "hovermode": "closest",
          "mapbox": {
           "style": "light"
          },
          "paper_bgcolor": "white",
          "plot_bgcolor": "#E5ECF6",
          "polar": {
           "angularaxis": {
            "gridcolor": "white",
            "linecolor": "white",
            "ticks": ""
           },
           "bgcolor": "#E5ECF6",
           "radialaxis": {
            "gridcolor": "white",
            "linecolor": "white",
            "ticks": ""
           }
          },
          "scene": {
           "xaxis": {
            "backgroundcolor": "#E5ECF6",
            "gridcolor": "white",
            "gridwidth": 2,
            "linecolor": "white",
            "showbackground": true,
            "ticks": "",
            "zerolinecolor": "white"
           },
           "yaxis": {
            "backgroundcolor": "#E5ECF6",
            "gridcolor": "white",
            "gridwidth": 2,
            "linecolor": "white",
            "showbackground": true,
            "ticks": "",
            "zerolinecolor": "white"
           },
           "zaxis": {
            "backgroundcolor": "#E5ECF6",
            "gridcolor": "white",
            "gridwidth": 2,
            "linecolor": "white",
            "showbackground": true,
            "ticks": "",
            "zerolinecolor": "white"
           }
          },
          "shapedefaults": {
           "line": {
            "color": "#2a3f5f"
           }
          },
          "ternary": {
           "aaxis": {
            "gridcolor": "white",
            "linecolor": "white",
            "ticks": ""
           },
           "baxis": {
            "gridcolor": "white",
            "linecolor": "white",
            "ticks": ""
           },
           "bgcolor": "#E5ECF6",
           "caxis": {
            "gridcolor": "white",
            "linecolor": "white",
            "ticks": ""
           }
          },
          "title": {
           "x": 0.05
          },
          "xaxis": {
           "automargin": true,
           "gridcolor": "white",
           "linecolor": "white",
           "ticks": "",
           "title": {
            "standoff": 15
           },
           "zerolinecolor": "white",
           "zerolinewidth": 2
          },
          "yaxis": {
           "automargin": true,
           "gridcolor": "white",
           "linecolor": "white",
           "ticks": "",
           "title": {
            "standoff": 15
           },
           "zerolinecolor": "white",
           "zerolinewidth": 2
          }
         }
        },
        "title": {
         "font": {
          "color": "#22314E",
          "family": "Arial",
          "size": 24
         },
         "text": "ROS Package Distro Percentages October 2024"
        }
       }
      },
      "text/html": [
       "<div>                            <div id=\"55445ed8-c5c1-40b1-842e-f9624823a5b3\" class=\"plotly-graph-div\" style=\"height:525px; width:100%;\"></div>            <script type=\"text/javascript\">                require([\"plotly\"], function(Plotly) {                    window.PLOTLYENV=window.PLOTLYENV || {};                                    if (document.getElementById(\"55445ed8-c5c1-40b1-842e-f9624823a5b3\")) {                    Plotly.newPlot(                        \"55445ed8-c5c1-40b1-842e-f9624823a5b3\",                        [{\"labels\":[\"Melodic\",\"Noetic\",\"Foxy\",\"Galactic\",\"Humble\",\"Iron\",\"Jazzy\",\"Rolling\",\"All Other Distros\",\"Python Pkgs\"],\"sort\":false,\"title\":{\"text\":\"\"},\"values\":[2.32,22.18,3.58,1.25,39.38,5.26,9.36,4.9,0.64,11.129999999999995],\"type\":\"pie\",\"marker\":{\"colors\":[\"#b50411\",\"#f98874\",\"#1b6599\",\"#3c77a9\",\"#5e88b3\",\"#7b9abd\",\"#96acc7\",\"#b0bed1\",\"#fdc6ba\",\"#FFFF99\"]}}],                        {\"title\":{\"text\":\"ROS Package Distro Percentages October 2024\",\"font\":{\"size\":24,\"family\":\"Arial\",\"color\":\"#22314E\"}},\"template\":{\"data\":{\"histogram2dcontour\":[{\"type\":\"histogram2dcontour\",\"colorbar\":{\"outlinewidth\":0,\"ticks\":\"\"},\"colorscale\":[[0.0,\"#0d0887\"],[0.1111111111111111,\"#46039f\"],[0.2222222222222222,\"#7201a8\"],[0.3333333333333333,\"#9c179e\"],[0.4444444444444444,\"#bd3786\"],[0.5555555555555556,\"#d8576b\"],[0.6666666666666666,\"#ed7953\"],[0.7777777777777778,\"#fb9f3a\"],[0.8888888888888888,\"#fdca26\"],[1.0,\"#f0f921\"]]}],\"choropleth\":[{\"type\":\"choropleth\",\"colorbar\":{\"outlinewidth\":0,\"ticks\":\"\"}}],\"histogram2d\":[{\"type\":\"histogram2d\",\"colorbar\":{\"outlinewidth\":0,\"ticks\":\"\"},\"colorscale\":[[0.0,\"#0d0887\"],[0.1111111111111111,\"#46039f\"],[0.2222222222222222,\"#7201a8\"],[0.3333333333333333,\"#9c179e\"],[0.4444444444444444,\"#bd3786\"],[0.5555555555555556,\"#d8576b\"],[0.6666666666666666,\"#ed7953\"],[0.7777777777777778,\"#fb9f3a\"],[0.8888888888888888,\"#fdca26\"],[1.0,\"#f0f921\"]]}],\"heatmap\":[{\"type\":\"heatmap\",\"colorbar\":{\"outlinewidth\":0,\"ticks\":\"\"},\"colorscale\":[[0.0,\"#0d0887\"],[0.1111111111111111,\"#46039f\"],[0.2222222222222222,\"#7201a8\"],[0.3333333333333333,\"#9c179e\"],[0.4444444444444444,\"#bd3786\"],[0.5555555555555556,\"#d8576b\"],[0.6666666666666666,\"#ed7953\"],[0.7777777777777778,\"#fb9f3a\"],[0.8888888888888888,\"#fdca26\"],[1.0,\"#f0f921\"]]}],\"heatmapgl\":[{\"type\":\"heatmapgl\",\"colorbar\":{\"outlinewidth\":0,\"ticks\":\"\"},\"colorscale\":[[0.0,\"#0d0887\"],[0.1111111111111111,\"#46039f\"],[0.2222222222222222,\"#7201a8\"],[0.3333333333333333,\"#9c179e\"],[0.4444444444444444,\"#bd3786\"],[0.5555555555555556,\"#d8576b\"],[0.6666666666666666,\"#ed7953\"],[0.7777777777777778,\"#fb9f3a\"],[0.8888888888888888,\"#fdca26\"],[1.0,\"#f0f921\"]]}],\"contourcarpet\":[{\"type\":\"contourcarpet\",\"colorbar\":{\"outlinewidth\":0,\"ticks\":\"\"}}],\"contour\":[{\"type\":\"contour\",\"colorbar\":{\"outlinewidth\":0,\"ticks\":\"\"},\"colorscale\":[[0.0,\"#0d0887\"],[0.1111111111111111,\"#46039f\"],[0.2222222222222222,\"#7201a8\"],[0.3333333333333333,\"#9c179e\"],[0.4444444444444444,\"#bd3786\"],[0.5555555555555556,\"#d8576b\"],[0.6666666666666666,\"#ed7953\"],[0.7777777777777778,\"#fb9f3a\"],[0.8888888888888888,\"#fdca26\"],[1.0,\"#f0f921\"]]}],\"surface\":[{\"type\":\"surface\",\"colorbar\":{\"outlinewidth\":0,\"ticks\":\"\"},\"colorscale\":[[0.0,\"#0d0887\"],[0.1111111111111111,\"#46039f\"],[0.2222222222222222,\"#7201a8\"],[0.3333333333333333,\"#9c179e\"],[0.4444444444444444,\"#bd3786\"],[0.5555555555555556,\"#d8576b\"],[0.6666666666666666,\"#ed7953\"],[0.7777777777777778,\"#fb9f3a\"],[0.8888888888888888,\"#fdca26\"],[1.0,\"#f0f921\"]]}],\"mesh3d\":[{\"type\":\"mesh3d\",\"colorbar\":{\"outlinewidth\":0,\"ticks\":\"\"}}],\"scatter\":[{\"fillpattern\":{\"fillmode\":\"overlay\",\"size\":10,\"solidity\":0.2},\"type\":\"scatter\"}],\"parcoords\":[{\"type\":\"parcoords\",\"line\":{\"colorbar\":{\"outlinewidth\":0,\"ticks\":\"\"}}}],\"scatterpolargl\":[{\"type\":\"scatterpolargl\",\"marker\":{\"colorbar\":{\"outlinewidth\":0,\"ticks\":\"\"}}}],\"bar\":[{\"error_x\":{\"color\":\"#2a3f5f\"},\"error_y\":{\"color\":\"#2a3f5f\"},\"marker\":{\"line\":{\"color\":\"#E5ECF6\",\"width\":0.5},\"pattern\":{\"fillmode\":\"overlay\",\"size\":10,\"solidity\":0.2}},\"type\":\"bar\"}],\"scattergeo\":[{\"type\":\"scattergeo\",\"marker\":{\"colorbar\":{\"outlinewidth\":0,\"ticks\":\"\"}}}],\"scatterpolar\":[{\"type\":\"scatterpolar\",\"marker\":{\"colorbar\":{\"outlinewidth\":0,\"ticks\":\"\"}}}],\"histogram\":[{\"marker\":{\"pattern\":{\"fillmode\":\"overlay\",\"size\":10,\"solidity\":0.2}},\"type\":\"histogram\"}],\"scattergl\":[{\"type\":\"scattergl\",\"marker\":{\"colorbar\":{\"outlinewidth\":0,\"ticks\":\"\"}}}],\"scatter3d\":[{\"type\":\"scatter3d\",\"line\":{\"colorbar\":{\"outlinewidth\":0,\"ticks\":\"\"}},\"marker\":{\"colorbar\":{\"outlinewidth\":0,\"ticks\":\"\"}}}],\"scattermapbox\":[{\"type\":\"scattermapbox\",\"marker\":{\"colorbar\":{\"outlinewidth\":0,\"ticks\":\"\"}}}],\"scatterternary\":[{\"type\":\"scatterternary\",\"marker\":{\"colorbar\":{\"outlinewidth\":0,\"ticks\":\"\"}}}],\"scattercarpet\":[{\"type\":\"scattercarpet\",\"marker\":{\"colorbar\":{\"outlinewidth\":0,\"ticks\":\"\"}}}],\"carpet\":[{\"aaxis\":{\"endlinecolor\":\"#2a3f5f\",\"gridcolor\":\"white\",\"linecolor\":\"white\",\"minorgridcolor\":\"white\",\"startlinecolor\":\"#2a3f5f\"},\"baxis\":{\"endlinecolor\":\"#2a3f5f\",\"gridcolor\":\"white\",\"linecolor\":\"white\",\"minorgridcolor\":\"white\",\"startlinecolor\":\"#2a3f5f\"},\"type\":\"carpet\"}],\"table\":[{\"cells\":{\"fill\":{\"color\":\"#EBF0F8\"},\"line\":{\"color\":\"white\"}},\"header\":{\"fill\":{\"color\":\"#C8D4E3\"},\"line\":{\"color\":\"white\"}},\"type\":\"table\"}],\"barpolar\":[{\"marker\":{\"line\":{\"color\":\"#E5ECF6\",\"width\":0.5},\"pattern\":{\"fillmode\":\"overlay\",\"size\":10,\"solidity\":0.2}},\"type\":\"barpolar\"}],\"pie\":[{\"automargin\":true,\"type\":\"pie\"}]},\"layout\":{\"autotypenumbers\":\"strict\",\"colorway\":[\"#636efa\",\"#EF553B\",\"#00cc96\",\"#ab63fa\",\"#FFA15A\",\"#19d3f3\",\"#FF6692\",\"#B6E880\",\"#FF97FF\",\"#FECB52\"],\"font\":{\"color\":\"#2a3f5f\"},\"hovermode\":\"closest\",\"hoverlabel\":{\"align\":\"left\"},\"paper_bgcolor\":\"white\",\"plot_bgcolor\":\"#E5ECF6\",\"polar\":{\"bgcolor\":\"#E5ECF6\",\"angularaxis\":{\"gridcolor\":\"white\",\"linecolor\":\"white\",\"ticks\":\"\"},\"radialaxis\":{\"gridcolor\":\"white\",\"linecolor\":\"white\",\"ticks\":\"\"}},\"ternary\":{\"bgcolor\":\"#E5ECF6\",\"aaxis\":{\"gridcolor\":\"white\",\"linecolor\":\"white\",\"ticks\":\"\"},\"baxis\":{\"gridcolor\":\"white\",\"linecolor\":\"white\",\"ticks\":\"\"},\"caxis\":{\"gridcolor\":\"white\",\"linecolor\":\"white\",\"ticks\":\"\"}},\"coloraxis\":{\"colorbar\":{\"outlinewidth\":0,\"ticks\":\"\"}},\"colorscale\":{\"sequential\":[[0.0,\"#0d0887\"],[0.1111111111111111,\"#46039f\"],[0.2222222222222222,\"#7201a8\"],[0.3333333333333333,\"#9c179e\"],[0.4444444444444444,\"#bd3786\"],[0.5555555555555556,\"#d8576b\"],[0.6666666666666666,\"#ed7953\"],[0.7777777777777778,\"#fb9f3a\"],[0.8888888888888888,\"#fdca26\"],[1.0,\"#f0f921\"]],\"sequentialminus\":[[0.0,\"#0d0887\"],[0.1111111111111111,\"#46039f\"],[0.2222222222222222,\"#7201a8\"],[0.3333333333333333,\"#9c179e\"],[0.4444444444444444,\"#bd3786\"],[0.5555555555555556,\"#d8576b\"],[0.6666666666666666,\"#ed7953\"],[0.7777777777777778,\"#fb9f3a\"],[0.8888888888888888,\"#fdca26\"],[1.0,\"#f0f921\"]],\"diverging\":[[0,\"#8e0152\"],[0.1,\"#c51b7d\"],[0.2,\"#de77ae\"],[0.3,\"#f1b6da\"],[0.4,\"#fde0ef\"],[0.5,\"#f7f7f7\"],[0.6,\"#e6f5d0\"],[0.7,\"#b8e186\"],[0.8,\"#7fbc41\"],[0.9,\"#4d9221\"],[1,\"#276419\"]]},\"xaxis\":{\"gridcolor\":\"white\",\"linecolor\":\"white\",\"ticks\":\"\",\"title\":{\"standoff\":15},\"zerolinecolor\":\"white\",\"automargin\":true,\"zerolinewidth\":2},\"yaxis\":{\"gridcolor\":\"white\",\"linecolor\":\"white\",\"ticks\":\"\",\"title\":{\"standoff\":15},\"zerolinecolor\":\"white\",\"automargin\":true,\"zerolinewidth\":2},\"scene\":{\"xaxis\":{\"backgroundcolor\":\"#E5ECF6\",\"gridcolor\":\"white\",\"linecolor\":\"white\",\"showbackground\":true,\"ticks\":\"\",\"zerolinecolor\":\"white\",\"gridwidth\":2},\"yaxis\":{\"backgroundcolor\":\"#E5ECF6\",\"gridcolor\":\"white\",\"linecolor\":\"white\",\"showbackground\":true,\"ticks\":\"\",\"zerolinecolor\":\"white\",\"gridwidth\":2},\"zaxis\":{\"backgroundcolor\":\"#E5ECF6\",\"gridcolor\":\"white\",\"linecolor\":\"white\",\"showbackground\":true,\"ticks\":\"\",\"zerolinecolor\":\"white\",\"gridwidth\":2}},\"shapedefaults\":{\"line\":{\"color\":\"#2a3f5f\"}},\"annotationdefaults\":{\"arrowcolor\":\"#2a3f5f\",\"arrowhead\":0,\"arrowwidth\":1},\"geo\":{\"bgcolor\":\"white\",\"landcolor\":\"#E5ECF6\",\"subunitcolor\":\"white\",\"showland\":true,\"showlakes\":true,\"lakecolor\":\"white\"},\"title\":{\"x\":0.05},\"mapbox\":{\"style\":\"light\"}}},\"font\":{\"family\":\"Arial\",\"color\":\"#22314E\",\"size\":16}},                        {\"responsive\": true}                    ).then(function(){\n",
       "                            \n",
       "var gd = document.getElementById('55445ed8-c5c1-40b1-842e-f9624823a5b3');\n",
       "var x = new MutationObserver(function (mutations, observer) {{\n",
       "        var display = window.getComputedStyle(gd).display;\n",
       "        if (!display || display === 'none') {{\n",
       "            console.log([gd, 'removed!']);\n",
       "            Plotly.purge(gd);\n",
       "            observer.disconnect();\n",
       "        }}\n",
       "}});\n",
       "\n",
       "// Listen for the removal of the full notebook cells\n",
       "var notebookContainer = gd.closest('#notebook-container');\n",
       "if (notebookContainer) {{\n",
       "    x.observe(notebookContainer, {childList: true});\n",
       "}}\n",
       "\n",
       "// Listen for the clearing of the current output cell\n",
       "var outputEl = gd.closest('.output');\n",
       "if (outputEl) {{\n",
       "    x.observe(outputEl, {childList: true});\n",
       "}}\n",
       "\n",
       "                        })                };                });            </script>        </div>"
      ]
     },
     "metadata": {},
     "output_type": "display_data"
    }
   ],
   "source": [
    "trace1 = go.Pie(values= temp[this_year], labels = temp[\"name\"],title=\"\",sort= False)\n",
    "layout = go.Layout(title=\"ROS Package Distro Percentages {0} {1}\".format(this_month,this_year))\n",
    "fig = go.Figure(data=trace1, layout=layout)\n",
    "\n",
    "\n",
    "fig.update_layout(\n",
    "    font_family=\"Arial\",\n",
    "    font_color=\"#22314E\",\n",
    "    font_size=16,\n",
    "    title_font_size = 24,\n",
    "    title_font_family=\"Arial\",\n",
    "    title_font_color=\"#22314E\"\n",
    ")\n",
    "\n",
    "fig.update_traces(marker=dict(colors=[\"#b50411\",\"#f98874\",\"#1b6599\",\"#3c77a9\",\"#5e88b3\",\"#7b9abd\",\"#96acc7\",\"#b0bed1\"\n",
    ",\"#fdc6ba\",\"#FFFF99\"]))\n",
    "\n",
    "fig.show()\n"
   ]
  },
  {
   "cell_type": "code",
   "execution_count": 40,
   "metadata": {},
   "outputs": [
    {
     "data": {
      "application/vnd.plotly.v1+json": {
       "config": {
        "plotlyServerURL": "https://plot.ly"
       },
       "data": [
        {
         "labels": [
          "Melodic",
          "Noetic",
          "Foxy",
          "Galactic",
          "Humble",
          "Iron",
          "Jazzy",
          "Rolling",
          "All Other Distros",
          "Python Pkgs"
         ],
         "marker": {
          "colors": [
           "#292f56",
           "#412f4c",
           "#592f43",
           "#702f39",
           "#882f30",
           "#a02e26",
           "#b82e1d",
           "#cf2e13",
           "#e72e0a",
           "#ff2e00"
          ]
         },
         "sort": false,
         "title": {
          "text": ""
         },
         "type": "pie",
         "values": [
          2.32,
          22.18,
          3.58,
          1.25,
          39.38,
          5.26,
          9.36,
          4.9,
          null,
          null
         ]
        }
       ],
       "layout": {
        "font": {
         "color": "#22314E",
         "family": "Arial",
         "size": 16
        },
        "template": {
         "data": {
          "bar": [
           {
            "error_x": {
             "color": "#2a3f5f"
            },
            "error_y": {
             "color": "#2a3f5f"
            },
            "marker": {
             "line": {
              "color": "#E5ECF6",
              "width": 0.5
             },
             "pattern": {
              "fillmode": "overlay",
              "size": 10,
              "solidity": 0.2
             }
            },
            "type": "bar"
           }
          ],
          "barpolar": [
           {
            "marker": {
             "line": {
              "color": "#E5ECF6",
              "width": 0.5
             },
             "pattern": {
              "fillmode": "overlay",
              "size": 10,
              "solidity": 0.2
             }
            },
            "type": "barpolar"
           }
          ],
          "carpet": [
           {
            "aaxis": {
             "endlinecolor": "#2a3f5f",
             "gridcolor": "white",
             "linecolor": "white",
             "minorgridcolor": "white",
             "startlinecolor": "#2a3f5f"
            },
            "baxis": {
             "endlinecolor": "#2a3f5f",
             "gridcolor": "white",
             "linecolor": "white",
             "minorgridcolor": "white",
             "startlinecolor": "#2a3f5f"
            },
            "type": "carpet"
           }
          ],
          "choropleth": [
           {
            "colorbar": {
             "outlinewidth": 0,
             "ticks": ""
            },
            "type": "choropleth"
           }
          ],
          "contour": [
           {
            "colorbar": {
             "outlinewidth": 0,
             "ticks": ""
            },
            "colorscale": [
             [
              0,
              "#0d0887"
             ],
             [
              0.1111111111111111,
              "#46039f"
             ],
             [
              0.2222222222222222,
              "#7201a8"
             ],
             [
              0.3333333333333333,
              "#9c179e"
             ],
             [
              0.4444444444444444,
              "#bd3786"
             ],
             [
              0.5555555555555556,
              "#d8576b"
             ],
             [
              0.6666666666666666,
              "#ed7953"
             ],
             [
              0.7777777777777778,
              "#fb9f3a"
             ],
             [
              0.8888888888888888,
              "#fdca26"
             ],
             [
              1,
              "#f0f921"
             ]
            ],
            "type": "contour"
           }
          ],
          "contourcarpet": [
           {
            "colorbar": {
             "outlinewidth": 0,
             "ticks": ""
            },
            "type": "contourcarpet"
           }
          ],
          "heatmap": [
           {
            "colorbar": {
             "outlinewidth": 0,
             "ticks": ""
            },
            "colorscale": [
             [
              0,
              "#0d0887"
             ],
             [
              0.1111111111111111,
              "#46039f"
             ],
             [
              0.2222222222222222,
              "#7201a8"
             ],
             [
              0.3333333333333333,
              "#9c179e"
             ],
             [
              0.4444444444444444,
              "#bd3786"
             ],
             [
              0.5555555555555556,
              "#d8576b"
             ],
             [
              0.6666666666666666,
              "#ed7953"
             ],
             [
              0.7777777777777778,
              "#fb9f3a"
             ],
             [
              0.8888888888888888,
              "#fdca26"
             ],
             [
              1,
              "#f0f921"
             ]
            ],
            "type": "heatmap"
           }
          ],
          "heatmapgl": [
           {
            "colorbar": {
             "outlinewidth": 0,
             "ticks": ""
            },
            "colorscale": [
             [
              0,
              "#0d0887"
             ],
             [
              0.1111111111111111,
              "#46039f"
             ],
             [
              0.2222222222222222,
              "#7201a8"
             ],
             [
              0.3333333333333333,
              "#9c179e"
             ],
             [
              0.4444444444444444,
              "#bd3786"
             ],
             [
              0.5555555555555556,
              "#d8576b"
             ],
             [
              0.6666666666666666,
              "#ed7953"
             ],
             [
              0.7777777777777778,
              "#fb9f3a"
             ],
             [
              0.8888888888888888,
              "#fdca26"
             ],
             [
              1,
              "#f0f921"
             ]
            ],
            "type": "heatmapgl"
           }
          ],
          "histogram": [
           {
            "marker": {
             "pattern": {
              "fillmode": "overlay",
              "size": 10,
              "solidity": 0.2
             }
            },
            "type": "histogram"
           }
          ],
          "histogram2d": [
           {
            "colorbar": {
             "outlinewidth": 0,
             "ticks": ""
            },
            "colorscale": [
             [
              0,
              "#0d0887"
             ],
             [
              0.1111111111111111,
              "#46039f"
             ],
             [
              0.2222222222222222,
              "#7201a8"
             ],
             [
              0.3333333333333333,
              "#9c179e"
             ],
             [
              0.4444444444444444,
              "#bd3786"
             ],
             [
              0.5555555555555556,
              "#d8576b"
             ],
             [
              0.6666666666666666,
              "#ed7953"
             ],
             [
              0.7777777777777778,
              "#fb9f3a"
             ],
             [
              0.8888888888888888,
              "#fdca26"
             ],
             [
              1,
              "#f0f921"
             ]
            ],
            "type": "histogram2d"
           }
          ],
          "histogram2dcontour": [
           {
            "colorbar": {
             "outlinewidth": 0,
             "ticks": ""
            },
            "colorscale": [
             [
              0,
              "#0d0887"
             ],
             [
              0.1111111111111111,
              "#46039f"
             ],
             [
              0.2222222222222222,
              "#7201a8"
             ],
             [
              0.3333333333333333,
              "#9c179e"
             ],
             [
              0.4444444444444444,
              "#bd3786"
             ],
             [
              0.5555555555555556,
              "#d8576b"
             ],
             [
              0.6666666666666666,
              "#ed7953"
             ],
             [
              0.7777777777777778,
              "#fb9f3a"
             ],
             [
              0.8888888888888888,
              "#fdca26"
             ],
             [
              1,
              "#f0f921"
             ]
            ],
            "type": "histogram2dcontour"
           }
          ],
          "mesh3d": [
           {
            "colorbar": {
             "outlinewidth": 0,
             "ticks": ""
            },
            "type": "mesh3d"
           }
          ],
          "parcoords": [
           {
            "line": {
             "colorbar": {
              "outlinewidth": 0,
              "ticks": ""
             }
            },
            "type": "parcoords"
           }
          ],
          "pie": [
           {
            "automargin": true,
            "type": "pie"
           }
          ],
          "scatter": [
           {
            "fillpattern": {
             "fillmode": "overlay",
             "size": 10,
             "solidity": 0.2
            },
            "type": "scatter"
           }
          ],
          "scatter3d": [
           {
            "line": {
             "colorbar": {
              "outlinewidth": 0,
              "ticks": ""
             }
            },
            "marker": {
             "colorbar": {
              "outlinewidth": 0,
              "ticks": ""
             }
            },
            "type": "scatter3d"
           }
          ],
          "scattercarpet": [
           {
            "marker": {
             "colorbar": {
              "outlinewidth": 0,
              "ticks": ""
             }
            },
            "type": "scattercarpet"
           }
          ],
          "scattergeo": [
           {
            "marker": {
             "colorbar": {
              "outlinewidth": 0,
              "ticks": ""
             }
            },
            "type": "scattergeo"
           }
          ],
          "scattergl": [
           {
            "marker": {
             "colorbar": {
              "outlinewidth": 0,
              "ticks": ""
             }
            },
            "type": "scattergl"
           }
          ],
          "scattermapbox": [
           {
            "marker": {
             "colorbar": {
              "outlinewidth": 0,
              "ticks": ""
             }
            },
            "type": "scattermapbox"
           }
          ],
          "scatterpolar": [
           {
            "marker": {
             "colorbar": {
              "outlinewidth": 0,
              "ticks": ""
             }
            },
            "type": "scatterpolar"
           }
          ],
          "scatterpolargl": [
           {
            "marker": {
             "colorbar": {
              "outlinewidth": 0,
              "ticks": ""
             }
            },
            "type": "scatterpolargl"
           }
          ],
          "scatterternary": [
           {
            "marker": {
             "colorbar": {
              "outlinewidth": 0,
              "ticks": ""
             }
            },
            "type": "scatterternary"
           }
          ],
          "surface": [
           {
            "colorbar": {
             "outlinewidth": 0,
             "ticks": ""
            },
            "colorscale": [
             [
              0,
              "#0d0887"
             ],
             [
              0.1111111111111111,
              "#46039f"
             ],
             [
              0.2222222222222222,
              "#7201a8"
             ],
             [
              0.3333333333333333,
              "#9c179e"
             ],
             [
              0.4444444444444444,
              "#bd3786"
             ],
             [
              0.5555555555555556,
              "#d8576b"
             ],
             [
              0.6666666666666666,
              "#ed7953"
             ],
             [
              0.7777777777777778,
              "#fb9f3a"
             ],
             [
              0.8888888888888888,
              "#fdca26"
             ],
             [
              1,
              "#f0f921"
             ]
            ],
            "type": "surface"
           }
          ],
          "table": [
           {
            "cells": {
             "fill": {
              "color": "#EBF0F8"
             },
             "line": {
              "color": "white"
             }
            },
            "header": {
             "fill": {
              "color": "#C8D4E3"
             },
             "line": {
              "color": "white"
             }
            },
            "type": "table"
           }
          ]
         },
         "layout": {
          "annotationdefaults": {
           "arrowcolor": "#2a3f5f",
           "arrowhead": 0,
           "arrowwidth": 1
          },
          "autotypenumbers": "strict",
          "coloraxis": {
           "colorbar": {
            "outlinewidth": 0,
            "ticks": ""
           }
          },
          "colorscale": {
           "diverging": [
            [
             0,
             "#8e0152"
            ],
            [
             0.1,
             "#c51b7d"
            ],
            [
             0.2,
             "#de77ae"
            ],
            [
             0.3,
             "#f1b6da"
            ],
            [
             0.4,
             "#fde0ef"
            ],
            [
             0.5,
             "#f7f7f7"
            ],
            [
             0.6,
             "#e6f5d0"
            ],
            [
             0.7,
             "#b8e186"
            ],
            [
             0.8,
             "#7fbc41"
            ],
            [
             0.9,
             "#4d9221"
            ],
            [
             1,
             "#276419"
            ]
           ],
           "sequential": [
            [
             0,
             "#0d0887"
            ],
            [
             0.1111111111111111,
             "#46039f"
            ],
            [
             0.2222222222222222,
             "#7201a8"
            ],
            [
             0.3333333333333333,
             "#9c179e"
            ],
            [
             0.4444444444444444,
             "#bd3786"
            ],
            [
             0.5555555555555556,
             "#d8576b"
            ],
            [
             0.6666666666666666,
             "#ed7953"
            ],
            [
             0.7777777777777778,
             "#fb9f3a"
            ],
            [
             0.8888888888888888,
             "#fdca26"
            ],
            [
             1,
             "#f0f921"
            ]
           ],
           "sequentialminus": [
            [
             0,
             "#0d0887"
            ],
            [
             0.1111111111111111,
             "#46039f"
            ],
            [
             0.2222222222222222,
             "#7201a8"
            ],
            [
             0.3333333333333333,
             "#9c179e"
            ],
            [
             0.4444444444444444,
             "#bd3786"
            ],
            [
             0.5555555555555556,
             "#d8576b"
            ],
            [
             0.6666666666666666,
             "#ed7953"
            ],
            [
             0.7777777777777778,
             "#fb9f3a"
            ],
            [
             0.8888888888888888,
             "#fdca26"
            ],
            [
             1,
             "#f0f921"
            ]
           ]
          },
          "colorway": [
           "#636efa",
           "#EF553B",
           "#00cc96",
           "#ab63fa",
           "#FFA15A",
           "#19d3f3",
           "#FF6692",
           "#B6E880",
           "#FF97FF",
           "#FECB52"
          ],
          "font": {
           "color": "#2a3f5f"
          },
          "geo": {
           "bgcolor": "white",
           "lakecolor": "white",
           "landcolor": "#E5ECF6",
           "showlakes": true,
           "showland": true,
           "subunitcolor": "white"
          },
          "hoverlabel": {
           "align": "left"
          },
          "hovermode": "closest",
          "mapbox": {
           "style": "light"
          },
          "paper_bgcolor": "white",
          "plot_bgcolor": "#E5ECF6",
          "polar": {
           "angularaxis": {
            "gridcolor": "white",
            "linecolor": "white",
            "ticks": ""
           },
           "bgcolor": "#E5ECF6",
           "radialaxis": {
            "gridcolor": "white",
            "linecolor": "white",
            "ticks": ""
           }
          },
          "scene": {
           "xaxis": {
            "backgroundcolor": "#E5ECF6",
            "gridcolor": "white",
            "gridwidth": 2,
            "linecolor": "white",
            "showbackground": true,
            "ticks": "",
            "zerolinecolor": "white"
           },
           "yaxis": {
            "backgroundcolor": "#E5ECF6",
            "gridcolor": "white",
            "gridwidth": 2,
            "linecolor": "white",
            "showbackground": true,
            "ticks": "",
            "zerolinecolor": "white"
           },
           "zaxis": {
            "backgroundcolor": "#E5ECF6",
            "gridcolor": "white",
            "gridwidth": 2,
            "linecolor": "white",
            "showbackground": true,
            "ticks": "",
            "zerolinecolor": "white"
           }
          },
          "shapedefaults": {
           "line": {
            "color": "#2a3f5f"
           }
          },
          "ternary": {
           "aaxis": {
            "gridcolor": "white",
            "linecolor": "white",
            "ticks": ""
           },
           "baxis": {
            "gridcolor": "white",
            "linecolor": "white",
            "ticks": ""
           },
           "bgcolor": "#E5ECF6",
           "caxis": {
            "gridcolor": "white",
            "linecolor": "white",
            "ticks": ""
           }
          },
          "title": {
           "x": 0.05
          },
          "xaxis": {
           "automargin": true,
           "gridcolor": "white",
           "linecolor": "white",
           "ticks": "",
           "title": {
            "standoff": 15
           },
           "zerolinecolor": "white",
           "zerolinewidth": 2
          },
          "yaxis": {
           "automargin": true,
           "gridcolor": "white",
           "linecolor": "white",
           "ticks": "",
           "title": {
            "standoff": 15
           },
           "zerolinecolor": "white",
           "zerolinewidth": 2
          }
         }
        },
        "title": {
         "font": {
          "color": "#22314E",
          "family": "Arial",
          "size": 24
         },
         "text": "ROS Package Downloads by Distro October 2024"
        }
       }
      },
      "text/html": [
       "<div>                            <div id=\"4188d708-54df-4476-ac9b-a796a98bc5cf\" class=\"plotly-graph-div\" style=\"height:525px; width:100%;\"></div>            <script type=\"text/javascript\">                require([\"plotly\"], function(Plotly) {                    window.PLOTLYENV=window.PLOTLYENV || {};                                    if (document.getElementById(\"4188d708-54df-4476-ac9b-a796a98bc5cf\")) {                    Plotly.newPlot(                        \"4188d708-54df-4476-ac9b-a796a98bc5cf\",                        [{\"labels\":[\"Melodic\",\"Noetic\",\"Foxy\",\"Galactic\",\"Humble\",\"Iron\",\"Jazzy\",\"Rolling\",\"All Other Distros\",\"Python Pkgs\"],\"sort\":false,\"title\":{\"text\":\"\"},\"values\":[2.32,22.18,3.58,1.25,39.38,5.26,9.36,4.9,null,null],\"type\":\"pie\",\"marker\":{\"colors\":[\"#292f56\",\"#412f4c\",\"#592f43\",\"#702f39\",\"#882f30\",\"#a02e26\",\"#b82e1d\",\"#cf2e13\",\"#e72e0a\",\"#ff2e00\"]}}],                        {\"title\":{\"text\":\"ROS Package Downloads by Distro October 2024\",\"font\":{\"size\":24,\"family\":\"Arial\",\"color\":\"#22314E\"}},\"template\":{\"data\":{\"histogram2dcontour\":[{\"type\":\"histogram2dcontour\",\"colorbar\":{\"outlinewidth\":0,\"ticks\":\"\"},\"colorscale\":[[0.0,\"#0d0887\"],[0.1111111111111111,\"#46039f\"],[0.2222222222222222,\"#7201a8\"],[0.3333333333333333,\"#9c179e\"],[0.4444444444444444,\"#bd3786\"],[0.5555555555555556,\"#d8576b\"],[0.6666666666666666,\"#ed7953\"],[0.7777777777777778,\"#fb9f3a\"],[0.8888888888888888,\"#fdca26\"],[1.0,\"#f0f921\"]]}],\"choropleth\":[{\"type\":\"choropleth\",\"colorbar\":{\"outlinewidth\":0,\"ticks\":\"\"}}],\"histogram2d\":[{\"type\":\"histogram2d\",\"colorbar\":{\"outlinewidth\":0,\"ticks\":\"\"},\"colorscale\":[[0.0,\"#0d0887\"],[0.1111111111111111,\"#46039f\"],[0.2222222222222222,\"#7201a8\"],[0.3333333333333333,\"#9c179e\"],[0.4444444444444444,\"#bd3786\"],[0.5555555555555556,\"#d8576b\"],[0.6666666666666666,\"#ed7953\"],[0.7777777777777778,\"#fb9f3a\"],[0.8888888888888888,\"#fdca26\"],[1.0,\"#f0f921\"]]}],\"heatmap\":[{\"type\":\"heatmap\",\"colorbar\":{\"outlinewidth\":0,\"ticks\":\"\"},\"colorscale\":[[0.0,\"#0d0887\"],[0.1111111111111111,\"#46039f\"],[0.2222222222222222,\"#7201a8\"],[0.3333333333333333,\"#9c179e\"],[0.4444444444444444,\"#bd3786\"],[0.5555555555555556,\"#d8576b\"],[0.6666666666666666,\"#ed7953\"],[0.7777777777777778,\"#fb9f3a\"],[0.8888888888888888,\"#fdca26\"],[1.0,\"#f0f921\"]]}],\"heatmapgl\":[{\"type\":\"heatmapgl\",\"colorbar\":{\"outlinewidth\":0,\"ticks\":\"\"},\"colorscale\":[[0.0,\"#0d0887\"],[0.1111111111111111,\"#46039f\"],[0.2222222222222222,\"#7201a8\"],[0.3333333333333333,\"#9c179e\"],[0.4444444444444444,\"#bd3786\"],[0.5555555555555556,\"#d8576b\"],[0.6666666666666666,\"#ed7953\"],[0.7777777777777778,\"#fb9f3a\"],[0.8888888888888888,\"#fdca26\"],[1.0,\"#f0f921\"]]}],\"contourcarpet\":[{\"type\":\"contourcarpet\",\"colorbar\":{\"outlinewidth\":0,\"ticks\":\"\"}}],\"contour\":[{\"type\":\"contour\",\"colorbar\":{\"outlinewidth\":0,\"ticks\":\"\"},\"colorscale\":[[0.0,\"#0d0887\"],[0.1111111111111111,\"#46039f\"],[0.2222222222222222,\"#7201a8\"],[0.3333333333333333,\"#9c179e\"],[0.4444444444444444,\"#bd3786\"],[0.5555555555555556,\"#d8576b\"],[0.6666666666666666,\"#ed7953\"],[0.7777777777777778,\"#fb9f3a\"],[0.8888888888888888,\"#fdca26\"],[1.0,\"#f0f921\"]]}],\"surface\":[{\"type\":\"surface\",\"colorbar\":{\"outlinewidth\":0,\"ticks\":\"\"},\"colorscale\":[[0.0,\"#0d0887\"],[0.1111111111111111,\"#46039f\"],[0.2222222222222222,\"#7201a8\"],[0.3333333333333333,\"#9c179e\"],[0.4444444444444444,\"#bd3786\"],[0.5555555555555556,\"#d8576b\"],[0.6666666666666666,\"#ed7953\"],[0.7777777777777778,\"#fb9f3a\"],[0.8888888888888888,\"#fdca26\"],[1.0,\"#f0f921\"]]}],\"mesh3d\":[{\"type\":\"mesh3d\",\"colorbar\":{\"outlinewidth\":0,\"ticks\":\"\"}}],\"scatter\":[{\"fillpattern\":{\"fillmode\":\"overlay\",\"size\":10,\"solidity\":0.2},\"type\":\"scatter\"}],\"parcoords\":[{\"type\":\"parcoords\",\"line\":{\"colorbar\":{\"outlinewidth\":0,\"ticks\":\"\"}}}],\"scatterpolargl\":[{\"type\":\"scatterpolargl\",\"marker\":{\"colorbar\":{\"outlinewidth\":0,\"ticks\":\"\"}}}],\"bar\":[{\"error_x\":{\"color\":\"#2a3f5f\"},\"error_y\":{\"color\":\"#2a3f5f\"},\"marker\":{\"line\":{\"color\":\"#E5ECF6\",\"width\":0.5},\"pattern\":{\"fillmode\":\"overlay\",\"size\":10,\"solidity\":0.2}},\"type\":\"bar\"}],\"scattergeo\":[{\"type\":\"scattergeo\",\"marker\":{\"colorbar\":{\"outlinewidth\":0,\"ticks\":\"\"}}}],\"scatterpolar\":[{\"type\":\"scatterpolar\",\"marker\":{\"colorbar\":{\"outlinewidth\":0,\"ticks\":\"\"}}}],\"histogram\":[{\"marker\":{\"pattern\":{\"fillmode\":\"overlay\",\"size\":10,\"solidity\":0.2}},\"type\":\"histogram\"}],\"scattergl\":[{\"type\":\"scattergl\",\"marker\":{\"colorbar\":{\"outlinewidth\":0,\"ticks\":\"\"}}}],\"scatter3d\":[{\"type\":\"scatter3d\",\"line\":{\"colorbar\":{\"outlinewidth\":0,\"ticks\":\"\"}},\"marker\":{\"colorbar\":{\"outlinewidth\":0,\"ticks\":\"\"}}}],\"scattermapbox\":[{\"type\":\"scattermapbox\",\"marker\":{\"colorbar\":{\"outlinewidth\":0,\"ticks\":\"\"}}}],\"scatterternary\":[{\"type\":\"scatterternary\",\"marker\":{\"colorbar\":{\"outlinewidth\":0,\"ticks\":\"\"}}}],\"scattercarpet\":[{\"type\":\"scattercarpet\",\"marker\":{\"colorbar\":{\"outlinewidth\":0,\"ticks\":\"\"}}}],\"carpet\":[{\"aaxis\":{\"endlinecolor\":\"#2a3f5f\",\"gridcolor\":\"white\",\"linecolor\":\"white\",\"minorgridcolor\":\"white\",\"startlinecolor\":\"#2a3f5f\"},\"baxis\":{\"endlinecolor\":\"#2a3f5f\",\"gridcolor\":\"white\",\"linecolor\":\"white\",\"minorgridcolor\":\"white\",\"startlinecolor\":\"#2a3f5f\"},\"type\":\"carpet\"}],\"table\":[{\"cells\":{\"fill\":{\"color\":\"#EBF0F8\"},\"line\":{\"color\":\"white\"}},\"header\":{\"fill\":{\"color\":\"#C8D4E3\"},\"line\":{\"color\":\"white\"}},\"type\":\"table\"}],\"barpolar\":[{\"marker\":{\"line\":{\"color\":\"#E5ECF6\",\"width\":0.5},\"pattern\":{\"fillmode\":\"overlay\",\"size\":10,\"solidity\":0.2}},\"type\":\"barpolar\"}],\"pie\":[{\"automargin\":true,\"type\":\"pie\"}]},\"layout\":{\"autotypenumbers\":\"strict\",\"colorway\":[\"#636efa\",\"#EF553B\",\"#00cc96\",\"#ab63fa\",\"#FFA15A\",\"#19d3f3\",\"#FF6692\",\"#B6E880\",\"#FF97FF\",\"#FECB52\"],\"font\":{\"color\":\"#2a3f5f\"},\"hovermode\":\"closest\",\"hoverlabel\":{\"align\":\"left\"},\"paper_bgcolor\":\"white\",\"plot_bgcolor\":\"#E5ECF6\",\"polar\":{\"bgcolor\":\"#E5ECF6\",\"angularaxis\":{\"gridcolor\":\"white\",\"linecolor\":\"white\",\"ticks\":\"\"},\"radialaxis\":{\"gridcolor\":\"white\",\"linecolor\":\"white\",\"ticks\":\"\"}},\"ternary\":{\"bgcolor\":\"#E5ECF6\",\"aaxis\":{\"gridcolor\":\"white\",\"linecolor\":\"white\",\"ticks\":\"\"},\"baxis\":{\"gridcolor\":\"white\",\"linecolor\":\"white\",\"ticks\":\"\"},\"caxis\":{\"gridcolor\":\"white\",\"linecolor\":\"white\",\"ticks\":\"\"}},\"coloraxis\":{\"colorbar\":{\"outlinewidth\":0,\"ticks\":\"\"}},\"colorscale\":{\"sequential\":[[0.0,\"#0d0887\"],[0.1111111111111111,\"#46039f\"],[0.2222222222222222,\"#7201a8\"],[0.3333333333333333,\"#9c179e\"],[0.4444444444444444,\"#bd3786\"],[0.5555555555555556,\"#d8576b\"],[0.6666666666666666,\"#ed7953\"],[0.7777777777777778,\"#fb9f3a\"],[0.8888888888888888,\"#fdca26\"],[1.0,\"#f0f921\"]],\"sequentialminus\":[[0.0,\"#0d0887\"],[0.1111111111111111,\"#46039f\"],[0.2222222222222222,\"#7201a8\"],[0.3333333333333333,\"#9c179e\"],[0.4444444444444444,\"#bd3786\"],[0.5555555555555556,\"#d8576b\"],[0.6666666666666666,\"#ed7953\"],[0.7777777777777778,\"#fb9f3a\"],[0.8888888888888888,\"#fdca26\"],[1.0,\"#f0f921\"]],\"diverging\":[[0,\"#8e0152\"],[0.1,\"#c51b7d\"],[0.2,\"#de77ae\"],[0.3,\"#f1b6da\"],[0.4,\"#fde0ef\"],[0.5,\"#f7f7f7\"],[0.6,\"#e6f5d0\"],[0.7,\"#b8e186\"],[0.8,\"#7fbc41\"],[0.9,\"#4d9221\"],[1,\"#276419\"]]},\"xaxis\":{\"gridcolor\":\"white\",\"linecolor\":\"white\",\"ticks\":\"\",\"title\":{\"standoff\":15},\"zerolinecolor\":\"white\",\"automargin\":true,\"zerolinewidth\":2},\"yaxis\":{\"gridcolor\":\"white\",\"linecolor\":\"white\",\"ticks\":\"\",\"title\":{\"standoff\":15},\"zerolinecolor\":\"white\",\"automargin\":true,\"zerolinewidth\":2},\"scene\":{\"xaxis\":{\"backgroundcolor\":\"#E5ECF6\",\"gridcolor\":\"white\",\"linecolor\":\"white\",\"showbackground\":true,\"ticks\":\"\",\"zerolinecolor\":\"white\",\"gridwidth\":2},\"yaxis\":{\"backgroundcolor\":\"#E5ECF6\",\"gridcolor\":\"white\",\"linecolor\":\"white\",\"showbackground\":true,\"ticks\":\"\",\"zerolinecolor\":\"white\",\"gridwidth\":2},\"zaxis\":{\"backgroundcolor\":\"#E5ECF6\",\"gridcolor\":\"white\",\"linecolor\":\"white\",\"showbackground\":true,\"ticks\":\"\",\"zerolinecolor\":\"white\",\"gridwidth\":2}},\"shapedefaults\":{\"line\":{\"color\":\"#2a3f5f\"}},\"annotationdefaults\":{\"arrowcolor\":\"#2a3f5f\",\"arrowhead\":0,\"arrowwidth\":1},\"geo\":{\"bgcolor\":\"white\",\"landcolor\":\"#E5ECF6\",\"subunitcolor\":\"white\",\"showland\":true,\"showlakes\":true,\"lakecolor\":\"white\"},\"title\":{\"x\":0.05},\"mapbox\":{\"style\":\"light\"}}},\"font\":{\"family\":\"Arial\",\"color\":\"#22314E\",\"size\":16}},                        {\"responsive\": true}                    ).then(function(){\n",
       "                            \n",
       "var gd = document.getElementById('4188d708-54df-4476-ac9b-a796a98bc5cf');\n",
       "var x = new MutationObserver(function (mutations, observer) {{\n",
       "        var display = window.getComputedStyle(gd).display;\n",
       "        if (!display || display === 'none') {{\n",
       "            console.log([gd, 'removed!']);\n",
       "            Plotly.purge(gd);\n",
       "            observer.disconnect();\n",
       "        }}\n",
       "}});\n",
       "\n",
       "// Listen for the removal of the full notebook cells\n",
       "var notebookContainer = gd.closest('#notebook-container');\n",
       "if (notebookContainer) {{\n",
       "    x.observe(notebookContainer, {childList: true});\n",
       "}}\n",
       "\n",
       "// Listen for the clearing of the current output cell\n",
       "var outputEl = gd.closest('.output');\n",
       "if (outputEl) {{\n",
       "    x.observe(outputEl, {childList: true});\n",
       "}}\n",
       "\n",
       "                        })                };                });            </script>        </div>"
      ]
     },
     "metadata": {},
     "output_type": "display_data"
    }
   ],
   "source": [
    "trace2 = go.Pie(values= temp[this_year], labels = temp[\"name\"],title=\"\",sort= False)\n",
    "layout = go.Layout(title=\"ROS Package Downloads by Distro {0} {1}\".format(this_month,this_year))\n",
    "fig = go.Figure(data=trace2, layout=layout)\n",
    "\n",
    "\n",
    "fig.update_layout(\n",
    "    font_family=\"Arial\",\n",
    "    font_color=\"#22314E\",\n",
    "    font_size=16,\n",
    "    title_font_size = 24,\n",
    "    title_font_family=\"Arial\",\n",
    "    title_font_color=\"#22314E\"\n",
    ")\n",
    "\n",
    "fig.update_traces(marker=dict(colors=[\"#292f56\",\n",
    "\"#412f4c\",\n",
    "\"#592f43\",\n",
    "\"#702f39\",\n",
    "\"#882f30\",\n",
    "\"#a02e26\",\n",
    "\"#b82e1d\",\n",
    "\"#cf2e13\",\n",
    "\"#e72e0a\",\n",
    "\"#ff2e00\",]))\n",
    "\n",
    "fig.show()\n"
   ]
  },
  {
   "cell_type": "code",
   "execution_count": null,
   "metadata": {},
   "outputs": [],
   "source": [
    "\n"
   ]
  },
  {
   "cell_type": "code",
   "execution_count": 41,
   "metadata": {},
   "outputs": [
    {
     "name": "stderr",
     "output_type": "stream",
     "text": [
      "/tmp/ipykernel_420041/3257179422.py:3: UserWarning:\n",
      "\n",
      "Boolean Series key will be reindexed to match DataFrame index.\n",
      "\n"
     ]
    },
    {
     "data": {
      "application/vnd.plotly.v1+json": {
       "config": {
        "plotlyServerURL": "https://plot.ly"
       },
       "data": [
        {
         "domain": {
          "x": [
           0.5,
           1
          ]
         },
         "labels": [
          "i386",
          "amd64",
          "armhf",
          "arm64",
          "source"
         ],
         "title": {
          "text": "2024"
         },
         "type": "pie",
         "values": [
          0.04,
          80.75,
          0.12,
          11.41,
          0
         ]
        },
        {
         "domain": {
          "x": [
           0,
           0.5
          ]
         },
         "labels": [
          "i386",
          "amd64",
          "armhf",
          "arm64",
          "source"
         ],
         "title": {
          "text": "2023"
         },
         "type": "pie",
         "values": [
          0.12,
          83.69,
          0.27,
          9.18,
          0
         ]
        }
       ],
       "layout": {
        "template": {
         "data": {
          "bar": [
           {
            "error_x": {
             "color": "#2a3f5f"
            },
            "error_y": {
             "color": "#2a3f5f"
            },
            "marker": {
             "line": {
              "color": "#E5ECF6",
              "width": 0.5
             },
             "pattern": {
              "fillmode": "overlay",
              "size": 10,
              "solidity": 0.2
             }
            },
            "type": "bar"
           }
          ],
          "barpolar": [
           {
            "marker": {
             "line": {
              "color": "#E5ECF6",
              "width": 0.5
             },
             "pattern": {
              "fillmode": "overlay",
              "size": 10,
              "solidity": 0.2
             }
            },
            "type": "barpolar"
           }
          ],
          "carpet": [
           {
            "aaxis": {
             "endlinecolor": "#2a3f5f",
             "gridcolor": "white",
             "linecolor": "white",
             "minorgridcolor": "white",
             "startlinecolor": "#2a3f5f"
            },
            "baxis": {
             "endlinecolor": "#2a3f5f",
             "gridcolor": "white",
             "linecolor": "white",
             "minorgridcolor": "white",
             "startlinecolor": "#2a3f5f"
            },
            "type": "carpet"
           }
          ],
          "choropleth": [
           {
            "colorbar": {
             "outlinewidth": 0,
             "ticks": ""
            },
            "type": "choropleth"
           }
          ],
          "contour": [
           {
            "colorbar": {
             "outlinewidth": 0,
             "ticks": ""
            },
            "colorscale": [
             [
              0,
              "#0d0887"
             ],
             [
              0.1111111111111111,
              "#46039f"
             ],
             [
              0.2222222222222222,
              "#7201a8"
             ],
             [
              0.3333333333333333,
              "#9c179e"
             ],
             [
              0.4444444444444444,
              "#bd3786"
             ],
             [
              0.5555555555555556,
              "#d8576b"
             ],
             [
              0.6666666666666666,
              "#ed7953"
             ],
             [
              0.7777777777777778,
              "#fb9f3a"
             ],
             [
              0.8888888888888888,
              "#fdca26"
             ],
             [
              1,
              "#f0f921"
             ]
            ],
            "type": "contour"
           }
          ],
          "contourcarpet": [
           {
            "colorbar": {
             "outlinewidth": 0,
             "ticks": ""
            },
            "type": "contourcarpet"
           }
          ],
          "heatmap": [
           {
            "colorbar": {
             "outlinewidth": 0,
             "ticks": ""
            },
            "colorscale": [
             [
              0,
              "#0d0887"
             ],
             [
              0.1111111111111111,
              "#46039f"
             ],
             [
              0.2222222222222222,
              "#7201a8"
             ],
             [
              0.3333333333333333,
              "#9c179e"
             ],
             [
              0.4444444444444444,
              "#bd3786"
             ],
             [
              0.5555555555555556,
              "#d8576b"
             ],
             [
              0.6666666666666666,
              "#ed7953"
             ],
             [
              0.7777777777777778,
              "#fb9f3a"
             ],
             [
              0.8888888888888888,
              "#fdca26"
             ],
             [
              1,
              "#f0f921"
             ]
            ],
            "type": "heatmap"
           }
          ],
          "heatmapgl": [
           {
            "colorbar": {
             "outlinewidth": 0,
             "ticks": ""
            },
            "colorscale": [
             [
              0,
              "#0d0887"
             ],
             [
              0.1111111111111111,
              "#46039f"
             ],
             [
              0.2222222222222222,
              "#7201a8"
             ],
             [
              0.3333333333333333,
              "#9c179e"
             ],
             [
              0.4444444444444444,
              "#bd3786"
             ],
             [
              0.5555555555555556,
              "#d8576b"
             ],
             [
              0.6666666666666666,
              "#ed7953"
             ],
             [
              0.7777777777777778,
              "#fb9f3a"
             ],
             [
              0.8888888888888888,
              "#fdca26"
             ],
             [
              1,
              "#f0f921"
             ]
            ],
            "type": "heatmapgl"
           }
          ],
          "histogram": [
           {
            "marker": {
             "pattern": {
              "fillmode": "overlay",
              "size": 10,
              "solidity": 0.2
             }
            },
            "type": "histogram"
           }
          ],
          "histogram2d": [
           {
            "colorbar": {
             "outlinewidth": 0,
             "ticks": ""
            },
            "colorscale": [
             [
              0,
              "#0d0887"
             ],
             [
              0.1111111111111111,
              "#46039f"
             ],
             [
              0.2222222222222222,
              "#7201a8"
             ],
             [
              0.3333333333333333,
              "#9c179e"
             ],
             [
              0.4444444444444444,
              "#bd3786"
             ],
             [
              0.5555555555555556,
              "#d8576b"
             ],
             [
              0.6666666666666666,
              "#ed7953"
             ],
             [
              0.7777777777777778,
              "#fb9f3a"
             ],
             [
              0.8888888888888888,
              "#fdca26"
             ],
             [
              1,
              "#f0f921"
             ]
            ],
            "type": "histogram2d"
           }
          ],
          "histogram2dcontour": [
           {
            "colorbar": {
             "outlinewidth": 0,
             "ticks": ""
            },
            "colorscale": [
             [
              0,
              "#0d0887"
             ],
             [
              0.1111111111111111,
              "#46039f"
             ],
             [
              0.2222222222222222,
              "#7201a8"
             ],
             [
              0.3333333333333333,
              "#9c179e"
             ],
             [
              0.4444444444444444,
              "#bd3786"
             ],
             [
              0.5555555555555556,
              "#d8576b"
             ],
             [
              0.6666666666666666,
              "#ed7953"
             ],
             [
              0.7777777777777778,
              "#fb9f3a"
             ],
             [
              0.8888888888888888,
              "#fdca26"
             ],
             [
              1,
              "#f0f921"
             ]
            ],
            "type": "histogram2dcontour"
           }
          ],
          "mesh3d": [
           {
            "colorbar": {
             "outlinewidth": 0,
             "ticks": ""
            },
            "type": "mesh3d"
           }
          ],
          "parcoords": [
           {
            "line": {
             "colorbar": {
              "outlinewidth": 0,
              "ticks": ""
             }
            },
            "type": "parcoords"
           }
          ],
          "pie": [
           {
            "automargin": true,
            "type": "pie"
           }
          ],
          "scatter": [
           {
            "fillpattern": {
             "fillmode": "overlay",
             "size": 10,
             "solidity": 0.2
            },
            "type": "scatter"
           }
          ],
          "scatter3d": [
           {
            "line": {
             "colorbar": {
              "outlinewidth": 0,
              "ticks": ""
             }
            },
            "marker": {
             "colorbar": {
              "outlinewidth": 0,
              "ticks": ""
             }
            },
            "type": "scatter3d"
           }
          ],
          "scattercarpet": [
           {
            "marker": {
             "colorbar": {
              "outlinewidth": 0,
              "ticks": ""
             }
            },
            "type": "scattercarpet"
           }
          ],
          "scattergeo": [
           {
            "marker": {
             "colorbar": {
              "outlinewidth": 0,
              "ticks": ""
             }
            },
            "type": "scattergeo"
           }
          ],
          "scattergl": [
           {
            "marker": {
             "colorbar": {
              "outlinewidth": 0,
              "ticks": ""
             }
            },
            "type": "scattergl"
           }
          ],
          "scattermapbox": [
           {
            "marker": {
             "colorbar": {
              "outlinewidth": 0,
              "ticks": ""
             }
            },
            "type": "scattermapbox"
           }
          ],
          "scatterpolar": [
           {
            "marker": {
             "colorbar": {
              "outlinewidth": 0,
              "ticks": ""
             }
            },
            "type": "scatterpolar"
           }
          ],
          "scatterpolargl": [
           {
            "marker": {
             "colorbar": {
              "outlinewidth": 0,
              "ticks": ""
             }
            },
            "type": "scatterpolargl"
           }
          ],
          "scatterternary": [
           {
            "marker": {
             "colorbar": {
              "outlinewidth": 0,
              "ticks": ""
             }
            },
            "type": "scatterternary"
           }
          ],
          "surface": [
           {
            "colorbar": {
             "outlinewidth": 0,
             "ticks": ""
            },
            "colorscale": [
             [
              0,
              "#0d0887"
             ],
             [
              0.1111111111111111,
              "#46039f"
             ],
             [
              0.2222222222222222,
              "#7201a8"
             ],
             [
              0.3333333333333333,
              "#9c179e"
             ],
             [
              0.4444444444444444,
              "#bd3786"
             ],
             [
              0.5555555555555556,
              "#d8576b"
             ],
             [
              0.6666666666666666,
              "#ed7953"
             ],
             [
              0.7777777777777778,
              "#fb9f3a"
             ],
             [
              0.8888888888888888,
              "#fdca26"
             ],
             [
              1,
              "#f0f921"
             ]
            ],
            "type": "surface"
           }
          ],
          "table": [
           {
            "cells": {
             "fill": {
              "color": "#EBF0F8"
             },
             "line": {
              "color": "white"
             }
            },
            "header": {
             "fill": {
              "color": "#C8D4E3"
             },
             "line": {
              "color": "white"
             }
            },
            "type": "table"
           }
          ]
         },
         "layout": {
          "annotationdefaults": {
           "arrowcolor": "#2a3f5f",
           "arrowhead": 0,
           "arrowwidth": 1
          },
          "autotypenumbers": "strict",
          "coloraxis": {
           "colorbar": {
            "outlinewidth": 0,
            "ticks": ""
           }
          },
          "colorscale": {
           "diverging": [
            [
             0,
             "#8e0152"
            ],
            [
             0.1,
             "#c51b7d"
            ],
            [
             0.2,
             "#de77ae"
            ],
            [
             0.3,
             "#f1b6da"
            ],
            [
             0.4,
             "#fde0ef"
            ],
            [
             0.5,
             "#f7f7f7"
            ],
            [
             0.6,
             "#e6f5d0"
            ],
            [
             0.7,
             "#b8e186"
            ],
            [
             0.8,
             "#7fbc41"
            ],
            [
             0.9,
             "#4d9221"
            ],
            [
             1,
             "#276419"
            ]
           ],
           "sequential": [
            [
             0,
             "#0d0887"
            ],
            [
             0.1111111111111111,
             "#46039f"
            ],
            [
             0.2222222222222222,
             "#7201a8"
            ],
            [
             0.3333333333333333,
             "#9c179e"
            ],
            [
             0.4444444444444444,
             "#bd3786"
            ],
            [
             0.5555555555555556,
             "#d8576b"
            ],
            [
             0.6666666666666666,
             "#ed7953"
            ],
            [
             0.7777777777777778,
             "#fb9f3a"
            ],
            [
             0.8888888888888888,
             "#fdca26"
            ],
            [
             1,
             "#f0f921"
            ]
           ],
           "sequentialminus": [
            [
             0,
             "#0d0887"
            ],
            [
             0.1111111111111111,
             "#46039f"
            ],
            [
             0.2222222222222222,
             "#7201a8"
            ],
            [
             0.3333333333333333,
             "#9c179e"
            ],
            [
             0.4444444444444444,
             "#bd3786"
            ],
            [
             0.5555555555555556,
             "#d8576b"
            ],
            [
             0.6666666666666666,
             "#ed7953"
            ],
            [
             0.7777777777777778,
             "#fb9f3a"
            ],
            [
             0.8888888888888888,
             "#fdca26"
            ],
            [
             1,
             "#f0f921"
            ]
           ]
          },
          "colorway": [
           "#636efa",
           "#EF553B",
           "#00cc96",
           "#ab63fa",
           "#FFA15A",
           "#19d3f3",
           "#FF6692",
           "#B6E880",
           "#FF97FF",
           "#FECB52"
          ],
          "font": {
           "color": "#2a3f5f"
          },
          "geo": {
           "bgcolor": "white",
           "lakecolor": "white",
           "landcolor": "#E5ECF6",
           "showlakes": true,
           "showland": true,
           "subunitcolor": "white"
          },
          "hoverlabel": {
           "align": "left"
          },
          "hovermode": "closest",
          "mapbox": {
           "style": "light"
          },
          "paper_bgcolor": "white",
          "plot_bgcolor": "#E5ECF6",
          "polar": {
           "angularaxis": {
            "gridcolor": "white",
            "linecolor": "white",
            "ticks": ""
           },
           "bgcolor": "#E5ECF6",
           "radialaxis": {
            "gridcolor": "white",
            "linecolor": "white",
            "ticks": ""
           }
          },
          "scene": {
           "xaxis": {
            "backgroundcolor": "#E5ECF6",
            "gridcolor": "white",
            "gridwidth": 2,
            "linecolor": "white",
            "showbackground": true,
            "ticks": "",
            "zerolinecolor": "white"
           },
           "yaxis": {
            "backgroundcolor": "#E5ECF6",
            "gridcolor": "white",
            "gridwidth": 2,
            "linecolor": "white",
            "showbackground": true,
            "ticks": "",
            "zerolinecolor": "white"
           },
           "zaxis": {
            "backgroundcolor": "#E5ECF6",
            "gridcolor": "white",
            "gridwidth": 2,
            "linecolor": "white",
            "showbackground": true,
            "ticks": "",
            "zerolinecolor": "white"
           }
          },
          "shapedefaults": {
           "line": {
            "color": "#2a3f5f"
           }
          },
          "ternary": {
           "aaxis": {
            "gridcolor": "white",
            "linecolor": "white",
            "ticks": ""
           },
           "baxis": {
            "gridcolor": "white",
            "linecolor": "white",
            "ticks": ""
           },
           "bgcolor": "#E5ECF6",
           "caxis": {
            "gridcolor": "white",
            "linecolor": "white",
            "ticks": ""
           }
          },
          "title": {
           "x": 0.05
          },
          "xaxis": {
           "automargin": true,
           "gridcolor": "white",
           "linecolor": "white",
           "ticks": "",
           "title": {
            "standoff": 15
           },
           "zerolinecolor": "white",
           "zerolinewidth": 2
          },
          "yaxis": {
           "automargin": true,
           "gridcolor": "white",
           "linecolor": "white",
           "ticks": "",
           "title": {
            "standoff": 15
           },
           "zerolinecolor": "white",
           "zerolinewidth": 2
          }
         }
        },
        "title": {
         "text": "ROS Packages Downloaded By Architecture - October 2023 vs 2024 October"
        }
       }
      },
      "text/html": [
       "<div>                            <div id=\"5856298e-dc71-4312-83c5-5a4ddfb44afc\" class=\"plotly-graph-div\" style=\"height:525px; width:100%;\"></div>            <script type=\"text/javascript\">                require([\"plotly\"], function(Plotly) {                    window.PLOTLYENV=window.PLOTLYENV || {};                                    if (document.getElementById(\"5856298e-dc71-4312-83c5-5a4ddfb44afc\")) {                    Plotly.newPlot(                        \"5856298e-dc71-4312-83c5-5a4ddfb44afc\",                        [{\"domain\":{\"x\":[0.5,1]},\"labels\":[\"i386\",\"amd64\",\"armhf\",\"arm64\",\"source\"],\"title\":{\"text\":\"2024\"},\"values\":[0.04,80.75,0.12,11.41,0.0],\"type\":\"pie\"},{\"domain\":{\"x\":[0.0,0.5]},\"labels\":[\"i386\",\"amd64\",\"armhf\",\"arm64\",\"source\"],\"title\":{\"text\":\"2023\"},\"values\":[0.12,83.69,0.27,9.18,0.0],\"type\":\"pie\"}],                        {\"title\":{\"text\":\"ROS Packages Downloaded By Architecture - October 2023 vs 2024 October\"},\"template\":{\"data\":{\"histogram2dcontour\":[{\"type\":\"histogram2dcontour\",\"colorbar\":{\"outlinewidth\":0,\"ticks\":\"\"},\"colorscale\":[[0.0,\"#0d0887\"],[0.1111111111111111,\"#46039f\"],[0.2222222222222222,\"#7201a8\"],[0.3333333333333333,\"#9c179e\"],[0.4444444444444444,\"#bd3786\"],[0.5555555555555556,\"#d8576b\"],[0.6666666666666666,\"#ed7953\"],[0.7777777777777778,\"#fb9f3a\"],[0.8888888888888888,\"#fdca26\"],[1.0,\"#f0f921\"]]}],\"choropleth\":[{\"type\":\"choropleth\",\"colorbar\":{\"outlinewidth\":0,\"ticks\":\"\"}}],\"histogram2d\":[{\"type\":\"histogram2d\",\"colorbar\":{\"outlinewidth\":0,\"ticks\":\"\"},\"colorscale\":[[0.0,\"#0d0887\"],[0.1111111111111111,\"#46039f\"],[0.2222222222222222,\"#7201a8\"],[0.3333333333333333,\"#9c179e\"],[0.4444444444444444,\"#bd3786\"],[0.5555555555555556,\"#d8576b\"],[0.6666666666666666,\"#ed7953\"],[0.7777777777777778,\"#fb9f3a\"],[0.8888888888888888,\"#fdca26\"],[1.0,\"#f0f921\"]]}],\"heatmap\":[{\"type\":\"heatmap\",\"colorbar\":{\"outlinewidth\":0,\"ticks\":\"\"},\"colorscale\":[[0.0,\"#0d0887\"],[0.1111111111111111,\"#46039f\"],[0.2222222222222222,\"#7201a8\"],[0.3333333333333333,\"#9c179e\"],[0.4444444444444444,\"#bd3786\"],[0.5555555555555556,\"#d8576b\"],[0.6666666666666666,\"#ed7953\"],[0.7777777777777778,\"#fb9f3a\"],[0.8888888888888888,\"#fdca26\"],[1.0,\"#f0f921\"]]}],\"heatmapgl\":[{\"type\":\"heatmapgl\",\"colorbar\":{\"outlinewidth\":0,\"ticks\":\"\"},\"colorscale\":[[0.0,\"#0d0887\"],[0.1111111111111111,\"#46039f\"],[0.2222222222222222,\"#7201a8\"],[0.3333333333333333,\"#9c179e\"],[0.4444444444444444,\"#bd3786\"],[0.5555555555555556,\"#d8576b\"],[0.6666666666666666,\"#ed7953\"],[0.7777777777777778,\"#fb9f3a\"],[0.8888888888888888,\"#fdca26\"],[1.0,\"#f0f921\"]]}],\"contourcarpet\":[{\"type\":\"contourcarpet\",\"colorbar\":{\"outlinewidth\":0,\"ticks\":\"\"}}],\"contour\":[{\"type\":\"contour\",\"colorbar\":{\"outlinewidth\":0,\"ticks\":\"\"},\"colorscale\":[[0.0,\"#0d0887\"],[0.1111111111111111,\"#46039f\"],[0.2222222222222222,\"#7201a8\"],[0.3333333333333333,\"#9c179e\"],[0.4444444444444444,\"#bd3786\"],[0.5555555555555556,\"#d8576b\"],[0.6666666666666666,\"#ed7953\"],[0.7777777777777778,\"#fb9f3a\"],[0.8888888888888888,\"#fdca26\"],[1.0,\"#f0f921\"]]}],\"surface\":[{\"type\":\"surface\",\"colorbar\":{\"outlinewidth\":0,\"ticks\":\"\"},\"colorscale\":[[0.0,\"#0d0887\"],[0.1111111111111111,\"#46039f\"],[0.2222222222222222,\"#7201a8\"],[0.3333333333333333,\"#9c179e\"],[0.4444444444444444,\"#bd3786\"],[0.5555555555555556,\"#d8576b\"],[0.6666666666666666,\"#ed7953\"],[0.7777777777777778,\"#fb9f3a\"],[0.8888888888888888,\"#fdca26\"],[1.0,\"#f0f921\"]]}],\"mesh3d\":[{\"type\":\"mesh3d\",\"colorbar\":{\"outlinewidth\":0,\"ticks\":\"\"}}],\"scatter\":[{\"fillpattern\":{\"fillmode\":\"overlay\",\"size\":10,\"solidity\":0.2},\"type\":\"scatter\"}],\"parcoords\":[{\"type\":\"parcoords\",\"line\":{\"colorbar\":{\"outlinewidth\":0,\"ticks\":\"\"}}}],\"scatterpolargl\":[{\"type\":\"scatterpolargl\",\"marker\":{\"colorbar\":{\"outlinewidth\":0,\"ticks\":\"\"}}}],\"bar\":[{\"error_x\":{\"color\":\"#2a3f5f\"},\"error_y\":{\"color\":\"#2a3f5f\"},\"marker\":{\"line\":{\"color\":\"#E5ECF6\",\"width\":0.5},\"pattern\":{\"fillmode\":\"overlay\",\"size\":10,\"solidity\":0.2}},\"type\":\"bar\"}],\"scattergeo\":[{\"type\":\"scattergeo\",\"marker\":{\"colorbar\":{\"outlinewidth\":0,\"ticks\":\"\"}}}],\"scatterpolar\":[{\"type\":\"scatterpolar\",\"marker\":{\"colorbar\":{\"outlinewidth\":0,\"ticks\":\"\"}}}],\"histogram\":[{\"marker\":{\"pattern\":{\"fillmode\":\"overlay\",\"size\":10,\"solidity\":0.2}},\"type\":\"histogram\"}],\"scattergl\":[{\"type\":\"scattergl\",\"marker\":{\"colorbar\":{\"outlinewidth\":0,\"ticks\":\"\"}}}],\"scatter3d\":[{\"type\":\"scatter3d\",\"line\":{\"colorbar\":{\"outlinewidth\":0,\"ticks\":\"\"}},\"marker\":{\"colorbar\":{\"outlinewidth\":0,\"ticks\":\"\"}}}],\"scattermapbox\":[{\"type\":\"scattermapbox\",\"marker\":{\"colorbar\":{\"outlinewidth\":0,\"ticks\":\"\"}}}],\"scatterternary\":[{\"type\":\"scatterternary\",\"marker\":{\"colorbar\":{\"outlinewidth\":0,\"ticks\":\"\"}}}],\"scattercarpet\":[{\"type\":\"scattercarpet\",\"marker\":{\"colorbar\":{\"outlinewidth\":0,\"ticks\":\"\"}}}],\"carpet\":[{\"aaxis\":{\"endlinecolor\":\"#2a3f5f\",\"gridcolor\":\"white\",\"linecolor\":\"white\",\"minorgridcolor\":\"white\",\"startlinecolor\":\"#2a3f5f\"},\"baxis\":{\"endlinecolor\":\"#2a3f5f\",\"gridcolor\":\"white\",\"linecolor\":\"white\",\"minorgridcolor\":\"white\",\"startlinecolor\":\"#2a3f5f\"},\"type\":\"carpet\"}],\"table\":[{\"cells\":{\"fill\":{\"color\":\"#EBF0F8\"},\"line\":{\"color\":\"white\"}},\"header\":{\"fill\":{\"color\":\"#C8D4E3\"},\"line\":{\"color\":\"white\"}},\"type\":\"table\"}],\"barpolar\":[{\"marker\":{\"line\":{\"color\":\"#E5ECF6\",\"width\":0.5},\"pattern\":{\"fillmode\":\"overlay\",\"size\":10,\"solidity\":0.2}},\"type\":\"barpolar\"}],\"pie\":[{\"automargin\":true,\"type\":\"pie\"}]},\"layout\":{\"autotypenumbers\":\"strict\",\"colorway\":[\"#636efa\",\"#EF553B\",\"#00cc96\",\"#ab63fa\",\"#FFA15A\",\"#19d3f3\",\"#FF6692\",\"#B6E880\",\"#FF97FF\",\"#FECB52\"],\"font\":{\"color\":\"#2a3f5f\"},\"hovermode\":\"closest\",\"hoverlabel\":{\"align\":\"left\"},\"paper_bgcolor\":\"white\",\"plot_bgcolor\":\"#E5ECF6\",\"polar\":{\"bgcolor\":\"#E5ECF6\",\"angularaxis\":{\"gridcolor\":\"white\",\"linecolor\":\"white\",\"ticks\":\"\"},\"radialaxis\":{\"gridcolor\":\"white\",\"linecolor\":\"white\",\"ticks\":\"\"}},\"ternary\":{\"bgcolor\":\"#E5ECF6\",\"aaxis\":{\"gridcolor\":\"white\",\"linecolor\":\"white\",\"ticks\":\"\"},\"baxis\":{\"gridcolor\":\"white\",\"linecolor\":\"white\",\"ticks\":\"\"},\"caxis\":{\"gridcolor\":\"white\",\"linecolor\":\"white\",\"ticks\":\"\"}},\"coloraxis\":{\"colorbar\":{\"outlinewidth\":0,\"ticks\":\"\"}},\"colorscale\":{\"sequential\":[[0.0,\"#0d0887\"],[0.1111111111111111,\"#46039f\"],[0.2222222222222222,\"#7201a8\"],[0.3333333333333333,\"#9c179e\"],[0.4444444444444444,\"#bd3786\"],[0.5555555555555556,\"#d8576b\"],[0.6666666666666666,\"#ed7953\"],[0.7777777777777778,\"#fb9f3a\"],[0.8888888888888888,\"#fdca26\"],[1.0,\"#f0f921\"]],\"sequentialminus\":[[0.0,\"#0d0887\"],[0.1111111111111111,\"#46039f\"],[0.2222222222222222,\"#7201a8\"],[0.3333333333333333,\"#9c179e\"],[0.4444444444444444,\"#bd3786\"],[0.5555555555555556,\"#d8576b\"],[0.6666666666666666,\"#ed7953\"],[0.7777777777777778,\"#fb9f3a\"],[0.8888888888888888,\"#fdca26\"],[1.0,\"#f0f921\"]],\"diverging\":[[0,\"#8e0152\"],[0.1,\"#c51b7d\"],[0.2,\"#de77ae\"],[0.3,\"#f1b6da\"],[0.4,\"#fde0ef\"],[0.5,\"#f7f7f7\"],[0.6,\"#e6f5d0\"],[0.7,\"#b8e186\"],[0.8,\"#7fbc41\"],[0.9,\"#4d9221\"],[1,\"#276419\"]]},\"xaxis\":{\"gridcolor\":\"white\",\"linecolor\":\"white\",\"ticks\":\"\",\"title\":{\"standoff\":15},\"zerolinecolor\":\"white\",\"automargin\":true,\"zerolinewidth\":2},\"yaxis\":{\"gridcolor\":\"white\",\"linecolor\":\"white\",\"ticks\":\"\",\"title\":{\"standoff\":15},\"zerolinecolor\":\"white\",\"automargin\":true,\"zerolinewidth\":2},\"scene\":{\"xaxis\":{\"backgroundcolor\":\"#E5ECF6\",\"gridcolor\":\"white\",\"linecolor\":\"white\",\"showbackground\":true,\"ticks\":\"\",\"zerolinecolor\":\"white\",\"gridwidth\":2},\"yaxis\":{\"backgroundcolor\":\"#E5ECF6\",\"gridcolor\":\"white\",\"linecolor\":\"white\",\"showbackground\":true,\"ticks\":\"\",\"zerolinecolor\":\"white\",\"gridwidth\":2},\"zaxis\":{\"backgroundcolor\":\"#E5ECF6\",\"gridcolor\":\"white\",\"linecolor\":\"white\",\"showbackground\":true,\"ticks\":\"\",\"zerolinecolor\":\"white\",\"gridwidth\":2}},\"shapedefaults\":{\"line\":{\"color\":\"#2a3f5f\"}},\"annotationdefaults\":{\"arrowcolor\":\"#2a3f5f\",\"arrowhead\":0,\"arrowwidth\":1},\"geo\":{\"bgcolor\":\"white\",\"landcolor\":\"#E5ECF6\",\"subunitcolor\":\"white\",\"showland\":true,\"showlakes\":true,\"lakecolor\":\"white\"},\"title\":{\"x\":0.05},\"mapbox\":{\"style\":\"light\"}}}},                        {\"responsive\": true}                    ).then(function(){\n",
       "                            \n",
       "var gd = document.getElementById('5856298e-dc71-4312-83c5-5a4ddfb44afc');\n",
       "var x = new MutationObserver(function (mutations, observer) {{\n",
       "        var display = window.getComputedStyle(gd).display;\n",
       "        if (!display || display === 'none') {{\n",
       "            console.log([gd, 'removed!']);\n",
       "            Plotly.purge(gd);\n",
       "            observer.disconnect();\n",
       "        }}\n",
       "}});\n",
       "\n",
       "// Listen for the removal of the full notebook cells\n",
       "var notebookContainer = gd.closest('#notebook-container');\n",
       "if (notebookContainer) {{\n",
       "    x.observe(notebookContainer, {childList: true});\n",
       "}}\n",
       "\n",
       "// Listen for the clearing of the current output cell\n",
       "var outputEl = gd.closest('.output');\n",
       "if (outputEl) {{\n",
       "    x.observe(outputEl, {childList: true});\n",
       "}}\n",
       "\n",
       "                        })                };                });            </script>        </div>"
      ]
     },
     "metadata": {},
     "output_type": "display_data"
    }
   ],
   "source": [
    "# Download percentages by year\n",
    "temp[\"diff\"]=temp[this_year]-temp[last_year]\n",
    "temp = arch_df[arch_os_df[this_year]>0.00001]\n",
    "\n",
    "trace1 = go.Pie(values= temp[this_year], labels = temp[\"name\"],domain=dict(x=[0.5, 1]),title=this_year)\n",
    "trace2 = go.Pie(values= temp[last_year], labels = temp[\"name\"],domain=dict(x=[0.0,0.5]),title=last_year)\n",
    "\n",
    "layout = go.Layout(title=\"ROS Packages Downloaded By Architecture - {0} {1} vs {2} {3}\".format(last_month,last_year,this_year,this_month))\n",
    "data = [trace1, trace2]\n",
    "fig = go.Figure(data=data, layout=layout)\n",
    "fig.show()"
   ]
  },
  {
   "cell_type": "code",
   "execution_count": null,
   "metadata": {},
   "outputs": [],
   "source": []
  },
  {
   "cell_type": "code",
   "execution_count": 52,
   "metadata": {},
   "outputs": [
    {
     "ename": "ValueError",
     "evalue": "All arguments should have the same length. The length of argument `y` is 2, whereas the length of  previously-processed arguments ['name'] is 24",
     "output_type": "error",
     "traceback": [
      "\u001b[0;31m---------------------------------------------------------------------------\u001b[0m",
      "\u001b[0;31mValueError\u001b[0m                                Traceback (most recent call last)",
      "Cell \u001b[0;32mIn[52], line 1\u001b[0m\n\u001b[0;32m----> 1\u001b[0m fig \u001b[38;5;241m=\u001b[39m \u001b[43mpx\u001b[49m\u001b[38;5;241;43m.\u001b[39;49m\u001b[43mbar\u001b[49m\u001b[43m(\u001b[49m\u001b[43mdistro_df\u001b[49m\u001b[43m,\u001b[49m\u001b[43m \u001b[49m\u001b[43mx\u001b[49m\u001b[38;5;241;43m=\u001b[39;49m\u001b[38;5;124;43m\"\u001b[39;49m\u001b[38;5;124;43mname\u001b[39;49m\u001b[38;5;124;43m\"\u001b[39;49m\u001b[43m,\u001b[49m\u001b[43m \u001b[49m\u001b[43my\u001b[49m\u001b[38;5;241;43m=\u001b[39;49m\u001b[43m[\u001b[49m\u001b[38;5;124;43m\"\u001b[39;49m\u001b[38;5;124;43m2023\u001b[39;49m\u001b[38;5;124;43m\"\u001b[39;49m\u001b[43m,\u001b[49m\u001b[43m \u001b[49m\u001b[38;5;124;43m\"\u001b[39;49m\u001b[38;5;124;43m2022\u001b[39;49m\u001b[38;5;124;43m\"\u001b[39;49m\u001b[43m]\u001b[49m\u001b[43m,\u001b[49m\u001b[43m \u001b[49m\u001b[43mtitle\u001b[49m\u001b[38;5;241;43m=\u001b[39;49m\u001b[38;5;124;43m\"\u001b[39;49m\u001b[38;5;124;43mWide-Form Input\u001b[39;49m\u001b[38;5;124;43m\"\u001b[39;49m\u001b[43m)\u001b[49m\n\u001b[1;32m      2\u001b[0m fig\u001b[38;5;241m.\u001b[39mshow()\n",
      "File \u001b[0;32m~/Code/ros_metrics_analysis/notebooks/metrics/lib/python3.11/site-packages/plotly/express/_chart_types.py:373\u001b[0m, in \u001b[0;36mbar\u001b[0;34m(data_frame, x, y, color, pattern_shape, facet_row, facet_col, facet_col_wrap, facet_row_spacing, facet_col_spacing, hover_name, hover_data, custom_data, text, base, error_x, error_x_minus, error_y, error_y_minus, animation_frame, animation_group, category_orders, labels, color_discrete_sequence, color_discrete_map, color_continuous_scale, pattern_shape_sequence, pattern_shape_map, range_color, color_continuous_midpoint, opacity, orientation, barmode, log_x, log_y, range_x, range_y, text_auto, title, template, width, height)\u001b[0m\n\u001b[1;32m    325\u001b[0m \u001b[38;5;28;01mdef\u001b[39;00m \u001b[38;5;21mbar\u001b[39m(\n\u001b[1;32m    326\u001b[0m     data_frame\u001b[38;5;241m=\u001b[39m\u001b[38;5;28;01mNone\u001b[39;00m,\n\u001b[1;32m    327\u001b[0m     x\u001b[38;5;241m=\u001b[39m\u001b[38;5;28;01mNone\u001b[39;00m,\n\u001b[0;32m   (...)\u001b[0m\n\u001b[1;32m    367\u001b[0m     height\u001b[38;5;241m=\u001b[39m\u001b[38;5;28;01mNone\u001b[39;00m,\n\u001b[1;32m    368\u001b[0m ) \u001b[38;5;241m-\u001b[39m\u001b[38;5;241m>\u001b[39m go\u001b[38;5;241m.\u001b[39mFigure:\n\u001b[1;32m    369\u001b[0m \u001b[38;5;250m    \u001b[39m\u001b[38;5;124;03m\"\"\"\u001b[39;00m\n\u001b[1;32m    370\u001b[0m \u001b[38;5;124;03m    In a bar plot, each row of `data_frame` is represented as a rectangular\u001b[39;00m\n\u001b[1;32m    371\u001b[0m \u001b[38;5;124;03m    mark.\u001b[39;00m\n\u001b[1;32m    372\u001b[0m \u001b[38;5;124;03m    \"\"\"\u001b[39;00m\n\u001b[0;32m--> 373\u001b[0m     \u001b[38;5;28;01mreturn\u001b[39;00m \u001b[43mmake_figure\u001b[49m\u001b[43m(\u001b[49m\n\u001b[1;32m    374\u001b[0m \u001b[43m        \u001b[49m\u001b[43margs\u001b[49m\u001b[38;5;241;43m=\u001b[39;49m\u001b[38;5;28;43mlocals\u001b[39;49m\u001b[43m(\u001b[49m\u001b[43m)\u001b[49m\u001b[43m,\u001b[49m\n\u001b[1;32m    375\u001b[0m \u001b[43m        \u001b[49m\u001b[43mconstructor\u001b[49m\u001b[38;5;241;43m=\u001b[39;49m\u001b[43mgo\u001b[49m\u001b[38;5;241;43m.\u001b[39;49m\u001b[43mBar\u001b[49m\u001b[43m,\u001b[49m\n\u001b[1;32m    376\u001b[0m \u001b[43m        \u001b[49m\u001b[43mtrace_patch\u001b[49m\u001b[38;5;241;43m=\u001b[39;49m\u001b[38;5;28;43mdict\u001b[39;49m\u001b[43m(\u001b[49m\u001b[43mtextposition\u001b[49m\u001b[38;5;241;43m=\u001b[39;49m\u001b[38;5;124;43m\"\u001b[39;49m\u001b[38;5;124;43mauto\u001b[39;49m\u001b[38;5;124;43m\"\u001b[39;49m\u001b[43m)\u001b[49m\u001b[43m,\u001b[49m\n\u001b[1;32m    377\u001b[0m \u001b[43m        \u001b[49m\u001b[43mlayout_patch\u001b[49m\u001b[38;5;241;43m=\u001b[39;49m\u001b[38;5;28;43mdict\u001b[39;49m\u001b[43m(\u001b[49m\u001b[43mbarmode\u001b[49m\u001b[38;5;241;43m=\u001b[39;49m\u001b[43mbarmode\u001b[49m\u001b[43m)\u001b[49m\u001b[43m,\u001b[49m\n\u001b[1;32m    378\u001b[0m \u001b[43m    \u001b[49m\u001b[43m)\u001b[49m\n",
      "File \u001b[0;32m~/Code/ros_metrics_analysis/notebooks/metrics/lib/python3.11/site-packages/plotly/express/_core.py:2076\u001b[0m, in \u001b[0;36mmake_figure\u001b[0;34m(args, constructor, trace_patch, layout_patch)\u001b[0m\n\u001b[1;32m   2073\u001b[0m layout_patch \u001b[38;5;241m=\u001b[39m layout_patch \u001b[38;5;129;01mor\u001b[39;00m {}\n\u001b[1;32m   2074\u001b[0m apply_default_cascade(args)\n\u001b[0;32m-> 2076\u001b[0m args \u001b[38;5;241m=\u001b[39m \u001b[43mbuild_dataframe\u001b[49m\u001b[43m(\u001b[49m\u001b[43margs\u001b[49m\u001b[43m,\u001b[49m\u001b[43m \u001b[49m\u001b[43mconstructor\u001b[49m\u001b[43m)\u001b[49m\n\u001b[1;32m   2077\u001b[0m \u001b[38;5;28;01mif\u001b[39;00m constructor \u001b[38;5;129;01min\u001b[39;00m [go\u001b[38;5;241m.\u001b[39mTreemap, go\u001b[38;5;241m.\u001b[39mSunburst, go\u001b[38;5;241m.\u001b[39mIcicle] \u001b[38;5;129;01mand\u001b[39;00m args[\u001b[38;5;124m\"\u001b[39m\u001b[38;5;124mpath\u001b[39m\u001b[38;5;124m\"\u001b[39m] \u001b[38;5;129;01mis\u001b[39;00m \u001b[38;5;129;01mnot\u001b[39;00m \u001b[38;5;28;01mNone\u001b[39;00m:\n\u001b[1;32m   2078\u001b[0m     args \u001b[38;5;241m=\u001b[39m process_dataframe_hierarchy(args)\n",
      "File \u001b[0;32m~/Code/ros_metrics_analysis/notebooks/metrics/lib/python3.11/site-packages/plotly/express/_core.py:1485\u001b[0m, in \u001b[0;36mbuild_dataframe\u001b[0;34m(args, constructor)\u001b[0m\n\u001b[1;32m   1482\u001b[0m     args[\u001b[38;5;124m\"\u001b[39m\u001b[38;5;124mcolor\u001b[39m\u001b[38;5;124m\"\u001b[39m] \u001b[38;5;241m=\u001b[39m \u001b[38;5;28;01mNone\u001b[39;00m\n\u001b[1;32m   1483\u001b[0m \u001b[38;5;66;03m# now that things have been prepped, we do the systematic rewriting of `args`\u001b[39;00m\n\u001b[0;32m-> 1485\u001b[0m df_output, wide_id_vars \u001b[38;5;241m=\u001b[39m \u001b[43mprocess_args_into_dataframe\u001b[49m\u001b[43m(\u001b[49m\n\u001b[1;32m   1486\u001b[0m \u001b[43m    \u001b[49m\u001b[43margs\u001b[49m\u001b[43m,\u001b[49m\u001b[43m \u001b[49m\u001b[43mwide_mode\u001b[49m\u001b[43m,\u001b[49m\u001b[43m \u001b[49m\u001b[43mvar_name\u001b[49m\u001b[43m,\u001b[49m\u001b[43m \u001b[49m\u001b[43mvalue_name\u001b[49m\n\u001b[1;32m   1487\u001b[0m \u001b[43m\u001b[49m\u001b[43m)\u001b[49m\n\u001b[1;32m   1489\u001b[0m \u001b[38;5;66;03m# now that `df_output` exists and `args` contains only references, we complete\u001b[39;00m\n\u001b[1;32m   1490\u001b[0m \u001b[38;5;66;03m# the special-case and wide-mode handling by further rewriting args and/or mutating\u001b[39;00m\n\u001b[1;32m   1491\u001b[0m \u001b[38;5;66;03m# df_output\u001b[39;00m\n\u001b[1;32m   1493\u001b[0m count_name \u001b[38;5;241m=\u001b[39m _escape_col_name(df_output, \u001b[38;5;124m\"\u001b[39m\u001b[38;5;124mcount\u001b[39m\u001b[38;5;124m\"\u001b[39m, [var_name, value_name])\n",
      "File \u001b[0;32m~/Code/ros_metrics_analysis/notebooks/metrics/lib/python3.11/site-packages/plotly/express/_core.py:1250\u001b[0m, in \u001b[0;36mprocess_args_into_dataframe\u001b[0;34m(args, wide_mode, var_name, value_name)\u001b[0m\n\u001b[1;32m   1247\u001b[0m         col_name \u001b[38;5;241m=\u001b[39m _check_name_not_reserved(field, reserved_names)\n\u001b[1;32m   1249\u001b[0m     \u001b[38;5;28;01mif\u001b[39;00m length \u001b[38;5;129;01mand\u001b[39;00m \u001b[38;5;28mlen\u001b[39m(argument) \u001b[38;5;241m!=\u001b[39m length:\n\u001b[0;32m-> 1250\u001b[0m         \u001b[38;5;28;01mraise\u001b[39;00m \u001b[38;5;167;01mValueError\u001b[39;00m(\n\u001b[1;32m   1251\u001b[0m             \u001b[38;5;124m\"\u001b[39m\u001b[38;5;124mAll arguments should have the same length. \u001b[39m\u001b[38;5;124m\"\u001b[39m\n\u001b[1;32m   1252\u001b[0m             \u001b[38;5;124m\"\u001b[39m\u001b[38;5;124mThe length of argument `\u001b[39m\u001b[38;5;132;01m%s\u001b[39;00m\u001b[38;5;124m` is \u001b[39m\u001b[38;5;132;01m%d\u001b[39;00m\u001b[38;5;124m, whereas the \u001b[39m\u001b[38;5;124m\"\u001b[39m\n\u001b[1;32m   1253\u001b[0m             \u001b[38;5;124m\"\u001b[39m\u001b[38;5;124mlength of  previously-processed arguments \u001b[39m\u001b[38;5;132;01m%s\u001b[39;00m\u001b[38;5;124m is \u001b[39m\u001b[38;5;132;01m%d\u001b[39;00m\u001b[38;5;124m\"\u001b[39m\n\u001b[1;32m   1254\u001b[0m             \u001b[38;5;241m%\u001b[39m (field, \u001b[38;5;28mlen\u001b[39m(argument), \u001b[38;5;28mstr\u001b[39m(\u001b[38;5;28mlist\u001b[39m(df_output\u001b[38;5;241m.\u001b[39mkeys())), length)\n\u001b[1;32m   1255\u001b[0m         )\n\u001b[1;32m   1256\u001b[0m     df_output[\u001b[38;5;28mstr\u001b[39m(col_name)] \u001b[38;5;241m=\u001b[39m to_unindexed_series(argument, \u001b[38;5;28mstr\u001b[39m(col_name))\n\u001b[1;32m   1258\u001b[0m \u001b[38;5;66;03m# Finally, update argument with column name now that column exists\u001b[39;00m\n",
      "\u001b[0;31mValueError\u001b[0m: All arguments should have the same length. The length of argument `y` is 2, whereas the length of  previously-processed arguments ['name'] is 24"
     ]
    }
   ],
   "source": [
    "fig = px.bar(distro_df, x=\"name\", y=[\"2023\", \"2022\"], title=\"Wide-Form Input\")\n",
    "fig.show()"
   ]
  },
  {
   "cell_type": "code",
   "execution_count": 53,
   "metadata": {},
   "outputs": [],
   "source": [
    "fname = \"../data/march_2020.txt\"\n",
    "stats_mar_2020 = process_package_dump(fname,\"3/2020\")\n",
    "fname = \"../data/march_2021.txt\"\n",
    "stats_mar_2021 = process_package_dump(fname,\"3/2021\")\n",
    "\n",
    "joined_distro = join_stats([stats_mar_2020[\"distro\"],stats_mar_2021[\"distro\"]])\n",
    "mar_distro_df = pd.DataFrame(data=joined_distro)\n",
    "mar_distro_df.to_csv(\"march_distro.csv\")\n",
    "mar_distro_df.head()\n",
    "stats_mar_2021 = process_package_dump(fname,\"3/2021\")"
   ]
  },
  {
   "cell_type": "code",
   "execution_count": 115,
   "metadata": {},
   "outputs": [
    {
     "ename": "KeyError",
     "evalue": "'7/2021'",
     "output_type": "error",
     "traceback": [
      "\u001b[0;31m---------------------------------------------------------------------------\u001b[0m",
      "\u001b[0;31mKeyError\u001b[0m                                  Traceback (most recent call last)",
      "File \u001b[0;32m~/Code/ros_metrics_analysis/notebooks/metrics/lib/python3.11/site-packages/pandas/core/indexes/base.py:3790\u001b[0m, in \u001b[0;36mIndex.get_loc\u001b[0;34m(self, key)\u001b[0m\n\u001b[1;32m   3789\u001b[0m \u001b[38;5;28;01mtry\u001b[39;00m:\n\u001b[0;32m-> 3790\u001b[0m     \u001b[38;5;28;01mreturn\u001b[39;00m \u001b[38;5;28;43mself\u001b[39;49m\u001b[38;5;241;43m.\u001b[39;49m\u001b[43m_engine\u001b[49m\u001b[38;5;241;43m.\u001b[39;49m\u001b[43mget_loc\u001b[49m\u001b[43m(\u001b[49m\u001b[43mcasted_key\u001b[49m\u001b[43m)\u001b[49m\n\u001b[1;32m   3791\u001b[0m \u001b[38;5;28;01mexcept\u001b[39;00m \u001b[38;5;167;01mKeyError\u001b[39;00m \u001b[38;5;28;01mas\u001b[39;00m err:\n",
      "File \u001b[0;32mindex.pyx:152\u001b[0m, in \u001b[0;36mpandas._libs.index.IndexEngine.get_loc\u001b[0;34m()\u001b[0m\n",
      "File \u001b[0;32mindex.pyx:181\u001b[0m, in \u001b[0;36mpandas._libs.index.IndexEngine.get_loc\u001b[0;34m()\u001b[0m\n",
      "File \u001b[0;32mpandas/_libs/hashtable_class_helper.pxi:7080\u001b[0m, in \u001b[0;36mpandas._libs.hashtable.PyObjectHashTable.get_item\u001b[0;34m()\u001b[0m\n",
      "File \u001b[0;32mpandas/_libs/hashtable_class_helper.pxi:7088\u001b[0m, in \u001b[0;36mpandas._libs.hashtable.PyObjectHashTable.get_item\u001b[0;34m()\u001b[0m\n",
      "\u001b[0;31mKeyError\u001b[0m: '7/2021'",
      "\nThe above exception was the direct cause of the following exception:\n",
      "\u001b[0;31mKeyError\u001b[0m                                  Traceback (most recent call last)",
      "Cell \u001b[0;32mIn[115], line 1\u001b[0m\n\u001b[0;32m----> 1\u001b[0m temp \u001b[38;5;241m=\u001b[39m mar_distro_df[\u001b[43mmar_distro_df\u001b[49m\u001b[43m[\u001b[49m\u001b[38;5;124;43m\"\u001b[39;49m\u001b[38;5;124;43m7/2021\u001b[39;49m\u001b[38;5;124;43m\"\u001b[39;49m\u001b[43m]\u001b[49m\u001b[38;5;241m>\u001b[39m\u001b[38;5;241m0.5\u001b[39m]\n\u001b[1;32m      3\u001b[0m trace1 \u001b[38;5;241m=\u001b[39m go\u001b[38;5;241m.\u001b[39mPie(values\u001b[38;5;241m=\u001b[39m temp[\u001b[38;5;124m\"\u001b[39m\u001b[38;5;124m7/2020\u001b[39m\u001b[38;5;124m\"\u001b[39m], labels \u001b[38;5;241m=\u001b[39m temp[\u001b[38;5;124m\"\u001b[39m\u001b[38;5;124mname\u001b[39m\u001b[38;5;124m\"\u001b[39m],domain\u001b[38;5;241m=\u001b[39m\u001b[38;5;28mdict\u001b[39m(x\u001b[38;5;241m=\u001b[39m[\u001b[38;5;241m0.5\u001b[39m,\u001b[38;5;241m1.0\u001b[39m]),title\u001b[38;5;241m=\u001b[39m\u001b[38;5;124m\"\u001b[39m\u001b[38;5;124m7/2020\u001b[39m\u001b[38;5;124m\"\u001b[39m)\n\u001b[1;32m      4\u001b[0m trace2 \u001b[38;5;241m=\u001b[39m go\u001b[38;5;241m.\u001b[39mPie(values\u001b[38;5;241m=\u001b[39m temp[\u001b[38;5;124m\"\u001b[39m\u001b[38;5;124m7/2021\u001b[39m\u001b[38;5;124m\"\u001b[39m], labels \u001b[38;5;241m=\u001b[39m temp[\u001b[38;5;124m\"\u001b[39m\u001b[38;5;124mname\u001b[39m\u001b[38;5;124m\"\u001b[39m],domain\u001b[38;5;241m=\u001b[39m\u001b[38;5;28mdict\u001b[39m(x\u001b[38;5;241m=\u001b[39m[\u001b[38;5;241m0\u001b[39m, \u001b[38;5;241m0.5\u001b[39m]),title\u001b[38;5;241m=\u001b[39m\u001b[38;5;124m\"\u001b[39m\u001b[38;5;124m7/2021\u001b[39m\u001b[38;5;124m\"\u001b[39m)\n",
      "File \u001b[0;32m~/Code/ros_metrics_analysis/notebooks/metrics/lib/python3.11/site-packages/pandas/core/frame.py:3893\u001b[0m, in \u001b[0;36mDataFrame.__getitem__\u001b[0;34m(self, key)\u001b[0m\n\u001b[1;32m   3891\u001b[0m \u001b[38;5;28;01mif\u001b[39;00m \u001b[38;5;28mself\u001b[39m\u001b[38;5;241m.\u001b[39mcolumns\u001b[38;5;241m.\u001b[39mnlevels \u001b[38;5;241m>\u001b[39m \u001b[38;5;241m1\u001b[39m:\n\u001b[1;32m   3892\u001b[0m     \u001b[38;5;28;01mreturn\u001b[39;00m \u001b[38;5;28mself\u001b[39m\u001b[38;5;241m.\u001b[39m_getitem_multilevel(key)\n\u001b[0;32m-> 3893\u001b[0m indexer \u001b[38;5;241m=\u001b[39m \u001b[38;5;28;43mself\u001b[39;49m\u001b[38;5;241;43m.\u001b[39;49m\u001b[43mcolumns\u001b[49m\u001b[38;5;241;43m.\u001b[39;49m\u001b[43mget_loc\u001b[49m\u001b[43m(\u001b[49m\u001b[43mkey\u001b[49m\u001b[43m)\u001b[49m\n\u001b[1;32m   3894\u001b[0m \u001b[38;5;28;01mif\u001b[39;00m is_integer(indexer):\n\u001b[1;32m   3895\u001b[0m     indexer \u001b[38;5;241m=\u001b[39m [indexer]\n",
      "File \u001b[0;32m~/Code/ros_metrics_analysis/notebooks/metrics/lib/python3.11/site-packages/pandas/core/indexes/base.py:3797\u001b[0m, in \u001b[0;36mIndex.get_loc\u001b[0;34m(self, key)\u001b[0m\n\u001b[1;32m   3792\u001b[0m     \u001b[38;5;28;01mif\u001b[39;00m \u001b[38;5;28misinstance\u001b[39m(casted_key, \u001b[38;5;28mslice\u001b[39m) \u001b[38;5;129;01mor\u001b[39;00m (\n\u001b[1;32m   3793\u001b[0m         \u001b[38;5;28misinstance\u001b[39m(casted_key, abc\u001b[38;5;241m.\u001b[39mIterable)\n\u001b[1;32m   3794\u001b[0m         \u001b[38;5;129;01mand\u001b[39;00m \u001b[38;5;28many\u001b[39m(\u001b[38;5;28misinstance\u001b[39m(x, \u001b[38;5;28mslice\u001b[39m) \u001b[38;5;28;01mfor\u001b[39;00m x \u001b[38;5;129;01min\u001b[39;00m casted_key)\n\u001b[1;32m   3795\u001b[0m     ):\n\u001b[1;32m   3796\u001b[0m         \u001b[38;5;28;01mraise\u001b[39;00m InvalidIndexError(key)\n\u001b[0;32m-> 3797\u001b[0m     \u001b[38;5;28;01mraise\u001b[39;00m \u001b[38;5;167;01mKeyError\u001b[39;00m(key) \u001b[38;5;28;01mfrom\u001b[39;00m \u001b[38;5;21;01merr\u001b[39;00m\n\u001b[1;32m   3798\u001b[0m \u001b[38;5;28;01mexcept\u001b[39;00m \u001b[38;5;167;01mTypeError\u001b[39;00m:\n\u001b[1;32m   3799\u001b[0m     \u001b[38;5;66;03m# If we have a listlike key, _check_indexing_error will raise\u001b[39;00m\n\u001b[1;32m   3800\u001b[0m     \u001b[38;5;66;03m#  InvalidIndexError. Otherwise we fall through and re-raise\u001b[39;00m\n\u001b[1;32m   3801\u001b[0m     \u001b[38;5;66;03m#  the TypeError.\u001b[39;00m\n\u001b[1;32m   3802\u001b[0m     \u001b[38;5;28mself\u001b[39m\u001b[38;5;241m.\u001b[39m_check_indexing_error(key)\n",
      "\u001b[0;31mKeyError\u001b[0m: '7/2021'"
     ]
    }
   ],
   "source": [
    "temp = mar_distro_df[mar_distro_df[\"7/2021\"]>0.5]\n",
    "\n",
    "trace1 = go.Pie(values= temp[\"7/2020\"], labels = temp[\"name\"],domain=dict(x=[0.5,1.0]),title=\"7/2020\")\n",
    "trace2 = go.Pie(values= temp[\"7/2021\"], labels = temp[\"name\"],domain=dict(x=[0, 0.5]),title=\"7/2021\")\n",
    "\n",
    "layout = go.Layout(title=\"ROS Index Download Percentage: March 2020 vs. March 2021\",)\n",
    "data = [trace1, trace2]\n",
    "fig = go.Figure(data=data, layout=layout)\n",
    "fig.show()\n"
   ]
  },
  {
   "cell_type": "code",
   "execution_count": null,
   "metadata": {},
   "outputs": [],
   "source": [
    "cd ../data/\n"
   ]
  },
  {
   "cell_type": "code",
   "execution_count": 1,
   "metadata": {},
   "outputs": [
    {
     "ename": "NameError",
     "evalue": "name 'stats_this' is not defined",
     "output_type": "error",
     "traceback": [
      "\u001b[0;31m---------------------------------------------------------------------------\u001b[0m",
      "\u001b[0;31mNameError\u001b[0m                                 Traceback (most recent call last)",
      "Cell \u001b[0;32mIn[1], line 1\u001b[0m\n\u001b[0;32m----> 1\u001b[0m \u001b[43mstats_this\u001b[49m\n",
      "\u001b[0;31mNameError\u001b[0m: name 'stats_this' is not defined"
     ]
    }
   ],
   "source": [
    "stats_this"
   ]
  },
  {
   "cell_type": "code",
   "execution_count": null,
   "metadata": {},
   "outputs": [],
   "source": []
  },
  {
   "cell_type": "code",
   "execution_count": null,
   "metadata": {},
   "outputs": [],
   "source": []
  },
  {
   "cell_type": "code",
   "execution_count": null,
   "metadata": {},
   "outputs": [],
   "source": []
  },
  {
   "cell_type": "code",
   "execution_count": null,
   "metadata": {},
   "outputs": [],
   "source": []
  },
  {
   "cell_type": "code",
   "execution_count": null,
   "metadata": {},
   "outputs": [],
   "source": []
  },
  {
   "cell_type": "code",
   "execution_count": null,
   "metadata": {},
   "outputs": [],
   "source": []
  },
  {
   "cell_type": "code",
   "execution_count": null,
   "metadata": {},
   "outputs": [],
   "source": []
  },
  {
   "cell_type": "code",
   "execution_count": null,
   "metadata": {},
   "outputs": [],
   "source": []
  },
  {
   "cell_type": "code",
   "execution_count": null,
   "metadata": {},
   "outputs": [],
   "source": []
  },
  {
   "cell_type": "code",
   "execution_count": null,
   "metadata": {},
   "outputs": [],
   "source": []
  },
  {
   "cell_type": "code",
   "execution_count": null,
   "metadata": {},
   "outputs": [],
   "source": []
  }
 ],
 "metadata": {
  "kernelspec": {
   "display_name": "metrics",
   "language": "python",
   "name": "metrics"
  },
  "language_info": {
   "codemirror_mode": {
    "name": "ipython",
    "version": 3
   },
   "file_extension": ".py",
   "mimetype": "text/x-python",
   "name": "python",
   "nbconvert_exporter": "python",
   "pygments_lexer": "ipython3",
   "version": "3.11.9"
  }
 },
 "nbformat": 4,
 "nbformat_minor": 2
}
