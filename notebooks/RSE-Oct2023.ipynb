{
 "cells": [
  {
   "cell_type": "code",
   "execution_count": 1,
   "id": "1c768035",
   "metadata": {},
   "outputs": [],
   "source": [
    "# pip install StackAPI\n",
    "# Save keys in stackexchange.json\n",
    "# Docs are here: https://stackapi.readthedocs.io/en/latest/\n",
    "# https://api.stackexchange.com/docs\n"
   ]
  },
  {
   "cell_type": "code",
   "execution_count": 28,
   "id": "55622127",
   "metadata": {},
   "outputs": [],
   "source": [
    "import pandas as pd\n",
    "import numpy as np\n",
    "import json \n",
    "from datetime import datetime\n",
    "from stackapi import StackAPI"
   ]
  },
  {
   "cell_type": "code",
   "execution_count": 29,
   "id": "5cd9db87",
   "metadata": {},
   "outputs": [],
   "source": [
    "key_file = \"./stackexchange.json\"\n",
    "keys = json.load(open(key_file,\"r\"))"
   ]
  },
  {
   "cell_type": "code",
   "execution_count": 43,
   "id": "260496d1",
   "metadata": {},
   "outputs": [],
   "source": [
    "SITE = StackAPI(\"robotics\")\n",
    "start_day = datetime(2023,1,1)\n",
    "stop_day = datetime(2023,12,8)"
   ]
  },
  {
   "cell_type": "code",
   "execution_count": 44,
   "id": "e464afd8",
   "metadata": {},
   "outputs": [],
   "source": [
    "# Get all questions tagged \"ROS\" in 2023\n",
    "ros_questions = SITE.fetch('questions', fromdate=start_day, todate=stop_day, tagged='ros')"
   ]
  },
  {
   "cell_type": "code",
   "execution_count": 45,
   "id": "4c6b2c21",
   "metadata": {},
   "outputs": [
    {
     "name": "stdout",
     "output_type": "stream",
     "text": [
      "441\n"
     ]
    }
   ],
   "source": [
    "print(len(ros_questions[\"items\"]))"
   ]
  },
  {
   "cell_type": "code",
   "execution_count": 72,
   "id": "c7320118",
   "metadata": {},
   "outputs": [
    {
     "name": "stdout",
     "output_type": "stream",
     "text": [
      "500\n",
      "500\n",
      "500\n",
      "482\n",
      "Total questions 1982\n"
     ]
    }
   ],
   "source": [
    "full_results = []\n",
    "for i in range(1,10):\n",
    "    temp = SITE.fetch('questions', fromdate=start_day, todate=stop_day, tagged='ros2', page=i)\n",
    "    fetched = len(temp[\"items\"])\n",
    "    print(fetched)\n",
    "    full_results += temp[\"items\"]\n",
    "    if fetched < 500:\n",
    "        break\n",
    "\n",
    "print(\"Total questions {0}\".format(len(full_results)))"
   ]
  },
  {
   "cell_type": "code",
   "execution_count": 88,
   "id": "0d121c9e",
   "metadata": {},
   "outputs": [],
   "source": [
    "tags = [] \n",
    "answers = 0\n",
    "is_answered = 0\n",
    "views = 0 \n",
    "scores = []\n",
    "reputations = [] \n",
    "for i in full_results:\n",
    "    tags += i[\"tags\"]\n",
    "    scores.append(i[\"score\"])\n",
    "    answers += i[\"answer_count\"]\n",
    "    if i[\"is_answered\"]:\n",
    "        is_answered += 1\n",
    "    views += i[\"view_count\"]\n",
    "    #reputations.append(i[\"owner\"][\"reputation\"])"
   ]
  },
  {
   "cell_type": "code",
   "execution_count": 89,
   "id": "fa57565f",
   "metadata": {},
   "outputs": [
    {
     "name": "stdout",
     "output_type": "stream",
     "text": [
      "{'tags': ['gazebo', 'ros2', 'ros-humble', 'robot-state-publisher', 'sdf'], 'owner': {'account_id': 13926230, 'reputation': 1, 'user_id': 35804, 'user_type': 'registered', 'profile_image': 'https://www.gravatar.com/avatar/bb62bea388481b1d6460cb2a545a722d?s=256&d=identicon&r=PG&f=y&so-version=2', 'display_name': 'oferb', 'link': 'https://robotics.stackexchange.com/users/35804/oferb'}, 'is_answered': False, 'view_count': 35, 'answer_count': 1, 'score': 0, 'last_activity_date': 1702080415, 'creation_date': 1699258235, 'question_id': 105217, 'content_license': 'CC BY-SA 4.0', 'link': 'https://robotics.stackexchange.com/questions/105217/how-can-i-use-an-sdf-instead-of-a-urdf-with-gazebo-in-ros2-humble', 'title': 'How can I use an SDF instead of a URDF with gazebo in ros2 humble?'}\n",
      "965 out of 1982 answered\n",
      "1496 answers total\n",
      "156535 views\n"
     ]
    }
   ],
   "source": [
    "print(\"{0} out of {1} answered\".format(is_answered,len(full_results)))\n",
    "print(\"{0} answers total\".format(answers))\n",
    "print(\"{0} views\".format(views))"
   ]
  },
  {
   "cell_type": "code",
   "execution_count": 93,
   "id": "129166b5",
   "metadata": {},
   "outputs": [
    {
     "name": "stdout",
     "output_type": "stream",
     "text": [
      "['2d-nav-goal', '2dcostmap', '3d-navigation', '3d-object-recognition', '3dslam', 'abb', 'action', 'action-client', 'action-server', 'amcl-pose', 'ament', 'anaconda', 'ardrone-autonomy', 'arduino', 'ardupilot', 'aria', 'arm-cpu', 'array', 'asyncspinner', 'audio-common', 'bagfile', 'bagfiles', 'base-odometry', 'beagle-bone', 'beagleboard', 'beaglebone', 'beagleboneblack', 'beginner', 'binary', 'buiding-errors', 'build', 'build-from-source', 'build-package', 'buildfarm', 'c', 'c++', 'call-service', 'callback', 'callbacks', 'camera', 'camera-info', 'can', 'cartographer', 'catkin', 'clearpath', 'cmake', 'colcon', 'collada', 'collision', 'communication', 'compilation', 'composition', 'compressed-image-transport', 'computer-vision', 'control', 'controller-manager', 'costmap', 'cross-compilation', 'custom-message', 'cv-bridge', 'dae', 'data', 'dds', 'deb', 'debian', 'depth', 'depth-registered', 'design', 'devel', 'diff-drive-controller', 'differential-drive', 'digital-audio', 'distributed-systems', 'docker', 'documentation', 'driver', 'drone', 'dwa', 'dwa-local-planner', 'dynamixel', 'ekf', 'ekf-localization-node', 'environment-variables', 'errors', 'esc', 'external-libraries', 'fanuc', 'follow-joint-trajectory', 'footprint', 'foxy', 'frame', 'frequency', 'gazebo', 'gazebo-11', 'gazebo-9', 'gazebo-ignition', 'gazebo-model', 'gazebo-plugin', 'gazebo-ros-control', 'gazebo-ros2-control', 'gazebo-simulator', 'gdb', 'git', 'github', 'global-costmap', 'global-planner', 'gnss', 'gps', 'gripper', 'gtest', 'hardware', 'hardware-interface', 'header', 'husky', 'icp', 'ide', 'ignition-citadel', 'ignition-fortress', 'image-transport', 'imu', 'include', 'installation', 'intel', 'intraprocess-communication', 'inverse-kinematics', 'jackal', 'jenkins', 'jetson', 'joint-state-publisher', 'joint-trajectory-controller', 'jointtrajectory', 'joy', 'joy-node', 'json-prolog', 'kinect', 'kobuki', 'laser', 'laserscan', 'launch', 'launch-file', 'libraries', 'lidar', 'linking', 'linux', 'linuxmint', 'local-planner', 'localization', 'logger', 'logging', 'logic-control', 'macos', 'manipulator', 'map-server', 'mapping', 'markerarray', 'matlab', 'mavlink', 'mavros', 'mcap', 'memory', 'mesh', 'message-filters', 'messages', 'micro-ros', 'microcontroller', 'mobile-robot', 'module', 'motion-planning', 'motor', 'moveit', 'moveit-commander', 'moveit-setup-assistant', 'msg', 'msg-subscriber', 'mujoco', 'multi-agent', 'multi-thread', 'multiple-machines', 'multithreading', 'namespace', 'nav2', 'navigation', 'navsat-transform', 'navsat-transform-node', 'network', 'node', 'nodes', 'nvidia', 'object-detection', 'object-recognition', 'obstacle-avoidance', 'occupancygrid', 'octomap', 'odometry', 'ompl-planning', 'opencv', 'orientation', 'overlay', 'package', 'package.xml', 'packages', 'packaging', 'parallel', 'parameter', 'parameter-server', 'parameters', 'path', 'path-planning', 'pcd', 'pcl', 'pcl-conversions', 'performance', 'pgm', 'physics-engine', 'pid', 'planner', 'planning', 'platform', 'plugin', 'point-cloud', 'pointcloud', 'pointcloud-to-laserscan', 'position', 'publisher', 'python', 'python3', 'qos', 'qt', 'qtcreator', 'quadcopter', 'quaternion', 'raspberry-pi', 'rclcpp', 'rclpy', 'realsense', 'realsense-camera', 'release', 'remap', 'remapping', 'rgbd-slam', 'rmw', 'robot', 'robot-description', 'robot-localization', 'robot-state-publisher', 'robot-upstart', 'robotic', 'robotic-arm', 'robotwebtools', 'root', 'ros', 'ros-control', 'ros-foxy', 'ros-galactic', 'ros-gazebo', 'ros-humble', 'ros-industrial', 'ros-iron', 'ros-kinetic', 'ros-melodic', 'ros-noetic', 'ros-service', 'ros2', 'ros2-control', 'ros2-controllers', 'ros2-launch', 'rosbag', 'rosbag-record', 'rosbag2', 'rosbridge', 'rosbridge-server', 'rosbuild', 'roscpp', 'rosdep', 'rosdistro', 'roslaunch', 'rosmatlab', 'rosnode', 'rosserial', 'rosservice', 'rostime', 'rostopic', 'rostopic-echo', 'rplidar', 'rqt', 'rqt-graph', 'rqt-gui', 'rqt-plot', 'rtabmap', 'rtabmap-ros', 'rviz', 'rviz-plugins', 'scan', 'sdf', 'sdformat', 'sensor-fusion', 'sensors', 'serial', 'serialization', 'service', 'setup.bash', 'simulation', 'simulator-gazebo', 'slam', 'sleep', 'software', 'spawn-model', 'spin', 'spinning', 'ssh', 'std-msgs', 'steering', 'stepper-driver', 'stepper-motor', 'stereo-camera', 'stereo-vision', 'stl', 'subscribe', 'subscribers', 'synchronization', 'target-link-libraries', 'teb-local-planner', 'teleop', 'tf', 'tf2', 'tf2-ros', 'timer', 'timestamp', 'topic', 'topics', 'torque', 'trajectory', 'transform', 'transformation', 'transforms', 'turtlebot', 'turtlebot-bringup', 'turtlebot-gazebo', 'turtlebot-navigation', 'turtlebot2', 'turtlebot3', 'turtlesim', 'turtlesim-node', 'tutorial', 'uav', 'ubuntu', 'ubuntu-20.04', 'unit-testing', 'universal-robot', 'universal-robots', 'ur-driver', 'ur10', 'ur5', 'urdf', 'urdf-tutorial', 'use-sim-time', 'velocity', 'velodyne', 'vex', 'visualization', 'vscode', 'vslam', 'webots', 'websocket', 'wheeled-robot', 'wifi', 'windows', 'windows10', 'world', 'xacro', 'xml', 'yaml']\n",
      "372\n"
     ]
    }
   ],
   "source": [
    "print(sorted(set(tags)))\n",
    "print(len(set(tags)))"
   ]
  },
  {
   "cell_type": "code",
   "execution_count": 95,
   "id": "1dbbfa43",
   "metadata": {},
   "outputs": [
    {
     "data": {
      "text/plain": [
       "(array([  28, 1679,    0,  230,    0,   30,    7,    0,    1,    7]),\n",
       " array([-1. , -0.4,  0.2,  0.8,  1.4,  2. ,  2.6,  3.2,  3.8,  4.4,  5. ]))"
      ]
     },
     "execution_count": 95,
     "metadata": {},
     "output_type": "execute_result"
    }
   ],
   "source": [
    "np.histogram(scores)"
   ]
  },
  {
   "cell_type": "code",
   "execution_count": null,
   "id": "c29fe0ed",
   "metadata": {},
   "outputs": [],
   "source": []
  }
 ],
 "metadata": {
  "kernelspec": {
   "display_name": "metrics",
   "language": "python",
   "name": "metrics"
  },
  "language_info": {
   "codemirror_mode": {
    "name": "ipython",
    "version": 3
   },
   "file_extension": ".py",
   "mimetype": "text/x-python",
   "name": "python",
   "nbconvert_exporter": "python",
   "pygments_lexer": "ipython3",
   "version": "3.11.5"
  }
 },
 "nbformat": 4,
 "nbformat_minor": 5
}
