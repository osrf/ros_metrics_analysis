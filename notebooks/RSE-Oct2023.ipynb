{
 "cells": [
  {
   "cell_type": "code",
   "execution_count": 1,
   "id": "1c768035",
   "metadata": {},
   "outputs": [],
   "source": [
    "# pip install StackAPI\n",
    "# Save keys in stackexchange.json\n",
    "# Docs are here: https://stackapi.readthedocs.io/en/latest/\n",
    "# https://api.stackexchange.com/docs\n"
   ]
  },
  {
   "cell_type": "code",
   "execution_count": 28,
   "id": "55622127",
   "metadata": {},
   "outputs": [],
   "source": [
    "import pandas as pd\n",
    "import numpy as np\n",
    "import json \n",
    "from datetime import datetime\n",
    "from stackapi import StackAPI"
   ]
  },
  {
   "cell_type": "code",
   "execution_count": 29,
   "id": "5cd9db87",
   "metadata": {},
   "outputs": [],
   "source": [
    "key_file = \"./stackexchange.json\"\n",
    "keys = json.load(open(key_file,\"r\"))"
   ]
  },
  {
   "cell_type": "code",
   "execution_count": 97,
   "id": "260496d1",
   "metadata": {},
   "outputs": [],
   "source": [
    "SITE = StackAPI(\"robotics\")\n",
    "start_day_this = datetime(2023,1,1)\n",
    "stop_day_this = datetime(2023,12,8)\n",
    "start_day_last = datetime(2022,1,1)\n",
    "stop_day_last = datetime(2022,12,31)\n",
    "this_year = 2023\n",
    "last_year = 2022"
   ]
  },
  {
   "cell_type": "code",
   "execution_count": 44,
   "id": "e464afd8",
   "metadata": {},
   "outputs": [],
   "source": [
    "# Get all questions tagged \"ROS\" in 2023\n",
    "ros_questions = SITE.fetch('questions', fromdate=start_day, todate=stop_day, tagged='ros')"
   ]
  },
  {
   "cell_type": "code",
   "execution_count": 45,
   "id": "4c6b2c21",
   "metadata": {},
   "outputs": [
    {
     "name": "stdout",
     "output_type": "stream",
     "text": [
      "441\n"
     ]
    }
   ],
   "source": [
    "print(len(ros_questions[\"items\"]))"
   ]
  },
  {
   "cell_type": "code",
   "execution_count": 98,
   "id": "c7320118",
   "metadata": {},
   "outputs": [],
   "source": [
    "def fetch_results(start_day,stop_day,tags):\n",
    "    full_results = []\n",
    "    for i in range(1,10):\n",
    "        temp = SITE.fetch('questions', fromdate=start_day, todate=stop_day, tagged=tags, page=i)\n",
    "        fetched = len(temp[\"items\"])\n",
    "        \n",
    "        full_results += temp[\"items\"]\n",
    "        if fetched < 500:\n",
    "            break\n",
    "    print(\"{0} questions tagged with {1} between {2} and {3} \".format(len(full_results),tags,start_day,stop_day))\n",
    "    return full_results"
   ]
  },
  {
   "cell_type": "code",
   "execution_count": 103,
   "id": "1451268b",
   "metadata": {},
   "outputs": [
    {
     "name": "stdout",
     "output_type": "stream",
     "text": [
      "440 questions tagged with ros between 2023-01-01 00:00:00 and 2023-12-08 00:00:00 \n",
      "0 questions tagged with ros1 between 2023-01-01 00:00:00 and 2023-12-08 00:00:00 \n",
      "1980 questions tagged with ros2 between 2023-01-01 00:00:00 and 2023-12-08 00:00:00 \n",
      "1408 questions tagged with ros between 2022-01-01 00:00:00 and 2022-12-31 00:00:00 \n",
      "0 questions tagged with ros1 between 2022-01-01 00:00:00 and 2022-12-31 00:00:00 \n",
      "386 questions tagged with ros2 between 2022-01-01 00:00:00 and 2022-12-31 00:00:00 \n"
     ]
    }
   ],
   "source": [
    "# TODO purge \"ROS2\" questions from \"ROS\" set\n",
    "\n",
    "ros_this = fetch_results(start_day_this,stop_day_this,\"ros\")\n",
    "ros1_this = fetch_results(start_day_this,stop_day_this,\"ros1\")\n",
    "ros2_this = fetch_results(start_day_this,stop_day_this,\"ros2\")\n",
    "ros_last = fetch_results(start_day_last,stop_day_last,\"ros\")\n",
    "ros1_last = fetch_results(start_day_last,stop_day_last,\"ros1\")\n",
    "ros2_last = fetch_results(start_day_last,stop_day_last,\"ros2\")"
   ]
  },
  {
   "cell_type": "code",
   "execution_count": 121,
   "id": "e5987684",
   "metadata": {},
   "outputs": [
    {
     "name": "stdout",
     "output_type": "stream",
     "text": [
      "In 2023 there were 2420 ROS questions asked.\n",
      "In 2022 there were 1794 ROS questions asked.\n",
      "In 2023 there was a +34.89% change in ROS questions asked.\n",
      "In 2023 81.82% of questions were ROS 2 and 18.18% were ROS 1 \n",
      "In 2022 21.52% of questions were ROS 2 and 78.48% were ROS 1 \n"
     ]
    }
   ],
   "source": [
    "# we're ignoring the \"ros1\" tag and assuming the tag \"ros\" == ROS 1 \n",
    "ros_q_this = len(ros_this) + len(ros2_this)\n",
    "ros1_q_this = len(ros_this)\n",
    "ros2_q_this = len(ros2_this)\n",
    "ros_q_last = len(ros_last) + len(ros2_last)\n",
    "ros1_q_last = len(ros_last)\n",
    "ros2_q_last = len(ros2_last)\n",
    "print(\"In {0} there were {1} ROS questions asked.\".format(this_year,ros_q_this))\n",
    "print(\"In {0} there were {1} ROS questions asked.\".format(last_year,ros_q_last))\n",
    "total_change = (ros_q_this-ros_q_last) / ros_q_last\n",
    "print(\"In {0} there was a {1:+.2f}% change in ROS questions asked.\".format(this_year,total_change*100.0))\n",
    "this_prct_ros2 = ros2_q_this / ros_q_this\n",
    "last_prct_ros2 = ros2_q_last / ros_q_last\n",
    "print(\"In {0} {1:.2f}% of questions were ROS 2 and {2:.2f}% were ROS 1 \".format(this_year,this_prct_ros2*100.0,100.0-(this_prct_ros2*100.0)))\n",
    "print(\"In {0} {1:.2f}% of questions were ROS 2 and {2:.2f}% were ROS 1 \".format(last_year,last_prct_ros2*100.0,100.0-(last_prct_ros2*100.0)))"
   ]
  },
  {
   "cell_type": "code",
   "execution_count": 139,
   "id": "0d121c9e",
   "metadata": {},
   "outputs": [],
   "source": [
    "from collections import Counter\n",
    "\n",
    "def summarize_tags(questions):\n",
    "    summary = {}\n",
    "    summary[\"tags\"] = [] \n",
    "    summary[\"answers\"] = 0\n",
    "    summary[\"is_answered\"] = 0\n",
    "    summary[\"views\"] = 0\n",
    "    summary[\"scores\"] = []\n",
    "    summary[\"reputations\"] = [] \n",
    "    for i in questions:\n",
    "        summary[\"tags\"] += i[\"tags\"]\n",
    "        summary[\"scores\"].append(i[\"score\"])\n",
    "        summary[\"answers\"] += i[\"answer_count\"]\n",
    "        if i[\"is_answered\"]:\n",
    "            summary[\"is_answered\"] += 1\n",
    "        summary[\"views\"] += i[\"view_count\"]\n",
    "        if \"reputation\" in i[\"owner\"]:\n",
    "            summary[\"reputations\"].append(i[\"owner\"][\"reputation\"])\n",
    "    summary[\"tags\"] = Counter(summary[\"tags\"])\n",
    "    summary[\"total\"] = len(questions)\n",
    "    summary[\"prct_answered\"] = summary[\"is_answered\"] / len(questions)\n",
    "    summary[\"total_answers\"] = np.sum(summary[\"answers\"])\n",
    "    summary[\"total_views\"] = np.sum(summary[\"views\"])\n",
    "    summary[\"median_reputation\"] = np.median(summary[\"reputations\"])\n",
    "    return summary"
   ]
  },
  {
   "cell_type": "code",
   "execution_count": 157,
   "id": "f31b88c8",
   "metadata": {},
   "outputs": [
    {
     "name": "stdout",
     "output_type": "stream",
     "text": [
      "ros_this: [('ros2', 91), ('ros-noetic', 53), ('gazebo', 44), ('rviz', 41), ('moveit', 28), ('navigation', 26), ('ros-melodic', 24), ('ros-humble', 19), ('python', 19)]\n",
      "ros_last: [('ros2', 328), ('ros-melodic', 228), ('navigation', 95), ('gazebo', 86), ('moveit', 78), ('rviz', 75), ('ros-kinetic', 55), ('tf2', 48), ('transform', 45)]\n",
      "ros2_this: [('ros-humble', 365), ('gazebo', 221), ('ros', 197), ('nav2', 161), ('rviz', 102), ('ros-foxy', 88), ('python', 86), ('navigation', 83), ('moveit', 79)]\n",
      "ros2_last: [('ros', 144), ('navigation', 22), ('roslaunch', 19), ('c++', 16), ('python', 16), ('gazebo', 12), ('colcon', 11), ('rviz', 11), ('docker', 9)]\n",
      "all_this: [('ros', 637), ('ros-humble', 384), ('gazebo', 265), ('nav2', 164), ('rviz', 143), ('navigation', 109), ('moveit', 107), ('python', 105), ('ros-foxy', 89)]\n",
      "all_last: [('ros2', 714), ('ros-melodic', 228), ('navigation', 117), ('gazebo', 98), ('rviz', 86), ('moveit', 84), ('python', 55), ('ros-kinetic', 55), ('c++', 53)]\n"
     ]
    }
   ],
   "source": [
    "ros_this_summary = summarize_tags(ros_this)\n",
    "ros2_this_summary = summarize_tags(ros2_this)\n",
    "all_ros_this_summary = summarize_tags(ros_this+ros2_this)\n",
    "ros_last_summary = summarize_tags(ros_last)\n",
    "ros2_last_summary = summarize_tags(ros2_last)\n",
    "all_ros_last_summary = summarize_tags(ros_last+ros2_last)\n",
    "names = [\"ros_this\",\"ros_last\",\"ros2_this\",\"ros2_last\",\"all_this\",\"all_last\"]\n",
    "dsets = [ros_this_summary,ros_last_summary,ros2_this_summary,ros2_last_summary,all_ros_this_summary,all_ros_last_summary]\n",
    "# Note that ROS2 is often in the set of ROS questions, so we probably should purge those questions so we don't get an overcount\n",
    "for name, dset in zip(names,dsets):\n",
    "    print(\"{0}: {1}\".format(name,dset[\"tags\"].most_common()[1:10] ))\n"
   ]
  },
  {
   "cell_type": "code",
   "execution_count": null,
   "id": "fa57565f",
   "metadata": {},
   "outputs": [],
   "source": []
  },
  {
   "cell_type": "code",
   "execution_count": null,
   "id": "129166b5",
   "metadata": {},
   "outputs": [],
   "source": []
  },
  {
   "cell_type": "code",
   "execution_count": null,
   "id": "1dbbfa43",
   "metadata": {},
   "outputs": [],
   "source": []
  },
  {
   "cell_type": "code",
   "execution_count": null,
   "id": "c29fe0ed",
   "metadata": {},
   "outputs": [],
   "source": []
  },
  {
   "cell_type": "code",
   "execution_count": null,
   "id": "7b2b0fca",
   "metadata": {},
   "outputs": [],
   "source": []
  },
  {
   "cell_type": "code",
   "execution_count": null,
   "id": "0fa69eb9",
   "metadata": {},
   "outputs": [],
   "source": []
  }
 ],
 "metadata": {
  "kernelspec": {
   "display_name": "metrics",
   "language": "python",
   "name": "metrics"
  },
  "language_info": {
   "codemirror_mode": {
    "name": "ipython",
    "version": 3
   },
   "file_extension": ".py",
   "mimetype": "text/x-python",
   "name": "python",
   "nbconvert_exporter": "python",
   "pygments_lexer": "ipython3",
   "version": "3.11.5"
  }
 },
 "nbformat": 4,
 "nbformat_minor": 5
}
