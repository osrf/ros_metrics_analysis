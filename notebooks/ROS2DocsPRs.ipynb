{
 "cells": [
  {
   "cell_type": "code",
   "execution_count": 11,
   "id": "cb9fc81b",
   "metadata": {},
   "outputs": [],
   "source": [
    "#https://pygithub.readthedocs.io/en/stable/introduction.html\n",
    "from github import Github\n",
    "# Authentication is defined via github.Auth\n",
    "from github import Auth\n",
    "from tqdm.notebook import trange, tqdm\n",
    "import pandas as pd\n",
    "import numpy as np\n",
    "import json \n",
    "from datetime import datetime, date\n",
    "from collections import Counter\n",
    "import plotly.express as px\n",
    "import time"
   ]
  },
  {
   "cell_type": "code",
   "execution_count": 9,
   "id": "dd07082a",
   "metadata": {},
   "outputs": [],
   "source": [
    "# Grab the access token\n",
    "with open('./tokens.json',\"r\") as json_data:\n",
    "    tokens = json.loads(json_data.read())\n",
    "    json_data.close()\n",
    "\n",
    "auth = Auth.Token(tokens[\"Github\"])\n",
    "\n",
    "# Public Web Github\n",
    "g = Github(auth=auth)"
   ]
  },
  {
   "cell_type": "code",
   "execution_count": 16,
   "id": "0c12f786",
   "metadata": {},
   "outputs": [
    {
     "name": "stdout",
     "output_type": "stream",
     "text": [
      "-----------------------\n",
      "Between 2023-01-01 and 2023-12-31 there were 723 closed PRS.\n",
      "Between 2022-01-01 and 2022-12-31 there were 977 closed PRS.\n",
      "PRs changes -25.99795291709314% between this year and last year.\n"
     ]
    }
   ],
   "source": [
    "repo = g.get_repo(\"ros2/ros2_documentation\")\n",
    "# Search sucks so just get all the PRS\n",
    "prs = repo.get_pulls(state='closed', sort='created')\n",
    "# We'll manually break the PRS into batches based on year\n",
    "this_year_start = date(2023, 1, 1)\n",
    "this_year_end = date(2023, 12, 31)\n",
    "this_year = []\n",
    "last_year_start = date(2022, 1, 1)\n",
    "last_year_end = date(2022, 12, 31)\n",
    "last_year = []\n",
    "for pr in prs:\n",
    "    if this_year_start < pr.closed_at.date() < this_year_end:\n",
    "        this_year.append(pr)\n",
    "    elif last_year_start < pr.closed_at.date() < last_year_end:\n",
    "        last_year.append(pr)\n",
    "print(\"-----------------------\")\n",
    "print(\"Between {0} and {1} there were {2} closed PRS.\".format(this_year_start, this_year_end,len(this_year)))\n",
    "print(\"Between {0} and {1} there were {2} closed PRS.\".format(last_year_start, last_year_end,len(last_year)))\n",
    "print(\"PRs changes {0}% between this year and last year.\".format(100.00*(len(this_year)-len(last_year))/len(last_year)))"
   ]
  },
  {
   "cell_type": "code",
   "execution_count": 21,
   "id": "f9b8d44e",
   "metadata": {},
   "outputs": [
    {
     "name": "stdout",
     "output_type": "stream",
     "text": [
      ".\n",
      ".\n",
      ".\n",
      ".\n",
      ".\n",
      ".\n",
      ".\n",
      "x\n",
      "x\n",
      "x\n",
      "x\n",
      "x\n",
      "x\n",
      "x\n",
      "x\n",
      "x\n",
      "x\n",
      "-----------------------\n",
      "Between 2023-01-01 and 2023-12-31 there were 723 closed PRS.\n",
      "Between 2022-01-01 and 2022-12-31 there were 977 closed PRS.\n",
      "PRs changes -25.99795291709314% between this year and last year.\n",
      "-----------------------\n",
      "Between 2023-01-01 and 2023-12-31 there were 97 total submitters.\n",
      "Between 2022-01-01 and 2022-12-31 there were 100 total submitters.\n",
      "A change of -3.0%\n",
      "--------------------------------\n",
      "Between 2023-01-01 and 2023-12-31 there were 2433 files changed.\n",
      "Between 2022-01-01 and 2022-12-31 there were 4765 files changed.\n",
      "A change of -48.9401888772298%\n",
      "--------------------------------\n",
      "Between 2023-01-01 and 2023-12-31 there was a delta of 41165 lines.\n",
      "Between 2022-01-01 and 2022-12-31 there was a delta of 63254 lines.\n",
      "A change of -34.92111170835046%\n",
      "Between 2023-01-01 and 2023-12-31 there was a delta of 105209 lines.\n",
      "Between 2022-01-01 and 2022-12-31 there was a delta of 127342 lines.\n",
      "A change of -17.380754189505428%\n"
     ]
    }
   ],
   "source": [
    "this_users = []\n",
    "this_add = 0\n",
    "this_del = 0 \n",
    "this_comments = 0\n",
    "this_files = 0\n",
    "last_users = []\n",
    "last_add = 0\n",
    "last_del = 0 \n",
    "last_comments = 0\n",
    "last_files = 0\n",
    "\n",
    "i = 0\n",
    "for pr in this_year:\n",
    "    this_users.append(pr.user.name)\n",
    "    this_files += pr.changed_files \n",
    "    this_del += pr.deletions\n",
    "    this_add += pr.additions\n",
    "    this_comments += pr.review_comments\n",
    "    i+=1 \n",
    "    if i%100==0:\n",
    "        print(\".\")\n",
    "        \n",
    "for pr in last_year:\n",
    "    last_users.append(pr.user.name)\n",
    "    last_files += pr.changed_files \n",
    "    last_del += pr.deletions\n",
    "    last_add += pr.additions\n",
    "    last_comments += pr.review_comments\n",
    "    i+=1 \n",
    "    if i%100==0:\n",
    "        print(\"x\")\n",
    "        \n",
    "total_users_this = len(set(this_users))\n",
    "total_users_last = len(set(last_users))\n",
    "\n",
    "print(\"-----------------------\")\n",
    "print(\"Between {0} and {1} there were {2} closed PRS.\".format(this_year_start, this_year_end,len(this_year)))\n",
    "print(\"Between {0} and {1} there were {2} closed PRS.\".format(last_year_start, last_year_end,len(last_year)))\n",
    "print(\"PRs changes {0}% between this year and last year.\".format(100.00*(len(this_year)-len(last_year))/len(last_year)))\n",
    "print(\"-----------------------\")\n",
    "print(\"Between {0} and {1} there were {2} total submitters.\".format(this_year_start, this_year_end, total_users_this))\n",
    "print(\"Between {0} and {1} there were {2} total submitters.\".format(last_year_start, last_year_end, total_users_last))\n",
    "print(\"A change of {0}%\".format(100.00*(total_users_this-total_users_last)/total_users_last))\n",
    "print(\"--------------------------------\")\n",
    "print(\"Between {0} and {1} there were {2} files changed.\".format(this_year_start, this_year_end, this_files))\n",
    "print(\"Between {0} and {1} there were {2} files changed.\".format(last_year_start, last_year_end, last_files))\n",
    "print(\"A change of {0}%\".format(100.0*(this_files-last_files)/last_files))\n",
    "print(\"--------------------------------\")\n",
    "this_delta = this_add - this_del\n",
    "last_delta = last_add - last_del\n",
    "print(\"Between {0} and {1} there was a delta of {2} lines.\".format(this_year_start, this_year_end, this_delta))\n",
    "print(\"Between {0} and {1} there was a delta of {2} lines.\".format(last_year_start, last_year_end, last_delta))\n",
    "print(\"A change of {0}%\".format(100.0*(this_delta-last_delta)/last_delta))\n",
    "this_abs = this_add + this_del\n",
    "last_abs = last_add + last_del\n",
    "print(\"Between {0} and {1} there was a delta of {2} lines.\".format(this_year_start, this_year_end, this_abs))\n",
    "print(\"Between {0} and {1} there was a delta of {2} lines.\".format(last_year_start, last_year_end, last_abs))\n",
    "print(\"A change of {0}%\".format(100.0*(this_abs-last_abs)/last_abs))"
   ]
  },
  {
   "cell_type": "code",
   "execution_count": 19,
   "id": "c1319767",
   "metadata": {},
   "outputs": [
    {
     "ename": "SyntaxError",
     "evalue": "invalid syntax (971430708.py, line 2)",
     "output_type": "error",
     "traceback": [
      "\u001b[0;36m  Cell \u001b[0;32mIn[19], line 2\u001b[0;36m\u001b[0m\n\u001b[0;31m    for i in tqdm(range(1000000):\u001b[0m\n\u001b[0m                                ^\u001b[0m\n\u001b[0;31mSyntaxError\u001b[0m\u001b[0;31m:\u001b[0m invalid syntax\n"
     ]
    }
   ],
   "source": [
    "j = 0\n",
    "for i in tqdm(range(1000000):\n",
    "    j +=1"
   ]
  },
  {
   "cell_type": "code",
   "execution_count": 58,
   "id": "353d3b1b",
   "metadata": {},
   "outputs": [],
   "source": [
    "?prs_this[0]"
   ]
  },
  {
   "cell_type": "code",
   "execution_count": 54,
   "id": "36804ea9",
   "metadata": {},
   "outputs": [
    {
     "data": {
      "text/plain": [
       "[]"
      ]
     },
     "execution_count": 54,
     "metadata": {},
     "output_type": "execute_result"
    }
   ],
   "source": [
    "prs_this.get_page(1)"
   ]
  },
  {
   "cell_type": "code",
   "execution_count": 50,
   "id": "84d60760",
   "metadata": {},
   "outputs": [
    {
     "data": {
      "text/plain": [
       "github.PaginatedList.PaginatedList"
      ]
     },
     "execution_count": 50,
     "metadata": {},
     "output_type": "execute_result"
    }
   ],
   "source": [
    "type(prs_this)"
   ]
  },
  {
   "cell_type": "code",
   "execution_count": null,
   "id": "36d0b86f",
   "metadata": {},
   "outputs": [],
   "source": []
  }
 ],
 "metadata": {
  "kernelspec": {
   "display_name": "metrics",
   "language": "python",
   "name": "metrics"
  },
  "language_info": {
   "codemirror_mode": {
    "name": "ipython",
    "version": 3
   },
   "file_extension": ".py",
   "mimetype": "text/x-python",
   "name": "python",
   "nbconvert_exporter": "python",
   "pygments_lexer": "ipython3",
   "version": "3.11.6"
  }
 },
 "nbformat": 4,
 "nbformat_minor": 5
}
