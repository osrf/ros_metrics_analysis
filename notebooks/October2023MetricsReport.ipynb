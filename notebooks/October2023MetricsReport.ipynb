{
 "cells": [
  {
   "cell_type": "code",
   "execution_count": 1,
   "metadata": {},
   "outputs": [],
   "source": [
    "import numpy as np\n",
    "import pandas as pd\n",
    "import nbformat\n",
    "import plotly.express as px\n",
    "from plotly import tools\n",
    "import plotly.offline as py\n",
    "import plotly.graph_objs as go\n"
   ]
  },
  {
   "cell_type": "code",
   "execution_count": 2,
   "metadata": {},
   "outputs": [],
   "source": [
    "ros2 = [\"ardent\",\"bouncy\",\"crystal\",\"dashing\",\"eloquent\",\"foxy\",\"galactic\",\"humble\",\"iron\",\"rolling\"]\n",
    "ros1 = [\"boxturtle\",\"cturtle\",\"diamondback\",\"electric\",\"fuerte\",\"groovy\",\"hydro\",\"indigo\",\"jade\",\"kinetic\",\"lunar\",\"melodic\",\"noetic\"]\n",
    "# This are just values for the input files\n",
    "this_year = \"2023\"\n",
    "this_month = \"October\"\n",
    "last_year = \"2022\"\n",
    "last_month = \"October\"\n"
   ]
  },
  {
   "cell_type": "code",
   "execution_count": 3,
   "metadata": {},
   "outputs": [],
   "source": [
    "def process_package_dump(fname,date):\n",
    "    package_counts = [] \n",
    "    distro_counts = []\n",
    "    arch_counts = []\n",
    "    arch_x_os_counts = []\n",
    "    stats = []\n",
    "    with open(fname,'r') as fp:\n",
    "        # remove the first line\n",
    "        f = fp.readline()\n",
    "        # remove all the empty \n",
    "        f = fp.readline()\n",
    "        while \"not a ros package name\" in f:\n",
    "            f = fp.readline()\n",
    "\n",
    "        while \"Breakdown\" not in f:\n",
    "            temp = f.split(\":\")\n",
    "            parts = temp[0].split(\"-\")\n",
    "            distro = parts[1]\n",
    "            package = \"-\".join(parts[2:])\n",
    "            data = {\n",
    "                \"package\":package,\n",
    "                \"distro\":distro,\n",
    "                \"name\":temp[0],\n",
    "                \"count\":int(temp[1]),\n",
    "                \"date\":date\n",
    "            }\n",
    "\n",
    "            package_counts.append(data)\n",
    "            f = fp.readline()\n",
    "        # Done with the modules \n",
    "\n",
    "        f = fp.readline()\n",
    "        while \"Breakdown\" not in f:\n",
    "            temp = f.split(\":\")\n",
    "            data = {\n",
    "                \"name\":temp[0],\n",
    "                \"prct\":float(temp[1].replace(\"%\",\"\")),\n",
    "                \"date\":date\n",
    "            }\n",
    "            distro_counts.append(data)\n",
    "            f = fp.readline()\n",
    "\n",
    "        f = fp.readline()\n",
    "        while \"Results\" not in f:\n",
    "            temp = f.split(\":\")\n",
    "            data = {\n",
    "                \"name\":temp[0],\n",
    "                \"prct\":float(temp[1].replace(\"%\",\"\")),\n",
    "                \"date\":date\n",
    "            }\n",
    "            arch_counts.append(data)\n",
    "            f = fp.readline()\n",
    "\n",
    "        f = fp.readline()\n",
    "        while \"Unique\" not in f:\n",
    "            temp = f.split(\":\")\n",
    "            data = {\n",
    "                \"name\":temp[0],\n",
    "                \"prct\":float(temp[1].replace(\"%\",\"\")),\n",
    "                \"date\":date\n",
    "            }\n",
    "            arch_x_os_counts.append(data)\n",
    "            f = fp.readline()\n",
    "\n",
    "        f = fp.readline()    \n",
    "        while len(f) > 0:\n",
    "            temp = f.split(\":\")\n",
    "            data = {\n",
    "                \"name\":temp[0],\n",
    "                \"prct\":temp[1],\n",
    "                \"date\":date\n",
    "            }\n",
    "            stats.append((temp[0],temp[1]))\n",
    "            f = fp.readline()\n",
    "    retval = {}\n",
    "    retval[\"package\"] = package_counts\n",
    "    retval[\"distro\"] = distro_counts\n",
    "    retval[\"arch\"] = arch_counts\n",
    "    retval[\"arch_x_os\"] = arch_x_os_counts\n",
    "    retval[\"stats\"] = stats\n",
    "    return retval\n"
   ]
  },
  {
   "cell_type": "code",
   "execution_count": 4,
   "metadata": {},
   "outputs": [],
   "source": [
    "# Load and process the dumps from analyze_awstats.py as dictionaries\n",
    "\n",
    "fname = \"../scripts/October2022.txt\"\n",
    "stats_last = process_package_dump(fname,last_year)\n",
    "fname = \"../scripts/October2023.txt\"\n",
    "stats_this = process_package_dump(fname,this_year)"
   ]
  },
  {
   "cell_type": "code",
   "execution_count": 5,
   "metadata": {},
   "outputs": [
    {
     "name": "stdout",
     "output_type": "stream",
     "text": [
      "##############################\n",
      "Diff Packages\n",
      "2022: 23614\n",
      "2023: 26931\n",
      "Percent Change: 14.04675192682307%\n",
      "##############################\n",
      "Total Deb Downloads\n",
      "2022: 49078176\n",
      "2023: 48510685\n",
      "Percent Change: -1.1563001037365366%\n"
     ]
    }
   ],
   "source": [
    "# print raw package counts and deb download data\n",
    "print(\"#\"*30)\n",
    "print(\"Diff Packages\")\n",
    "d_this = int(stats_this[\"stats\"][0][1])\n",
    "d_last = int(stats_last[\"stats\"][0][1])\n",
    "print(\"{0}: {1}\".format(last_year,d_last))\n",
    "print(\"{0}: {1}\".format(this_year,d_this))\n",
    "print(\"Percent Change: {0}%\".format(100.0*((d_this-d_last)/d_last)))\n",
    "print(\"#\"*30)\n",
    "print(\"Total Deb Downloads\")\n",
    "d_this = int(stats_this[\"stats\"][1][1])\n",
    "d_last = int(stats_last[\"stats\"][1][1])\n",
    "print(\"{0}: {1}\".format(last_year,d_last))\n",
    "print(\"{0}: {1}\".format(this_year,d_this))\n",
    "print(\"Percent Change: {0}%\".format(100.0*((d_this-d_last)/d_last)))"
   ]
  },
  {
   "cell_type": "code",
   "execution_count": 6,
   "metadata": {},
   "outputs": [
    {
     "name": "stdout",
     "output_type": "stream",
     "text": [
      "22842\n",
      "26150\n",
      "dict_keys(['package', 'distro', 'arch', 'arch_x_os', 'stats'])\n",
      "[{'name': 'bionic_amd64', 'prct': 15.33, 'date': '2022'}, {'name': 'bionic_arm64', 'prct': 2.71, 'date': '2022'}, {'name': 'bionic_armhf', 'prct': 0.1, 'date': '2022'}, {'name': 'buster_amd64', 'prct': 0.12, 'date': '2022'}, {'name': 'buster_arm64', 'prct': 0.03, 'date': '2022'}, {'name': 'buster_armhf', 'prct': 0.0, 'date': '2022'}, {'name': 'disco_amd64', 'prct': 0.0, 'date': '2022'}, {'name': 'focal_amd64', 'prct': 56.02, 'date': '2022'}, {'name': 'focal_arm64', 'prct': 3.78, 'date': '2022'}, {'name': 'focal_armhf', 'prct': 0.11, 'date': '2022'}, {'name': 'jammy_amd64', 'prct': 12.4, 'date': '2022'}, {'name': 'jammy_arm64', 'prct': 0.98, 'date': '2022'}, {'name': 'precise_amd64', 'prct': 0.0, 'date': '2022'}, {'name': 'stretch_amd64', 'prct': 0.04, 'date': '2022'}, {'name': 'stretch_arm64', 'prct': 0.01, 'date': '2022'}, {'name': 'trusty_amd64', 'prct': 0.44, 'date': '2022'}, {'name': 'trusty_armhf', 'prct': 0.01, 'date': '2022'}, {'name': 'trusty_i386', 'prct': 0.01, 'date': '2022'}, {'name': 'xenial_amd64', 'prct': 1.94, 'date': '2022'}, {'name': 'xenial_arm64', 'prct': 0.05, 'date': '2022'}, {'name': 'xenial_armhf', 'prct': 0.06, 'date': '2022'}, {'name': 'xenial_i386', 'prct': 0.1, 'date': '2022'}]\n"
     ]
    },
    {
     "data": {
      "text/plain": [
       "{'package': [{'package': 'pkg-modules',\n",
       "   'distro': 'catkin',\n",
       "   'name': 'python3-catkin-pkg-modules',\n",
       "   'count': 175130,\n",
       "   'date': '2023'},\n",
       "  {'package': 'modules',\n",
       "   'distro': 'rospkg',\n",
       "   'name': 'python3-rospkg-modules',\n",
       "   'count': 140266,\n",
       "   'date': '2023'},\n",
       "  {'package': 'modules',\n",
       "   'distro': 'rosdistro',\n",
       "   'name': 'python3-rosdistro-modules',\n",
       "   'count': 128759,\n",
       "   'date': '2023'},\n",
       "  {'package': 'modules',\n",
       "   'distro': 'rosdep',\n",
       "   'name': 'python3-rosdep-modules',\n",
       "   'count': 123786,\n",
       "   'date': '2023'},\n",
       "  {'package': 'pkg',\n",
       "   'distro': 'catkin',\n",
       "   'name': 'python3-catkin-pkg',\n",
       "   'count': 122626,\n",
       "   'date': '2023'},\n",
       "  {'package': 'core',\n",
       "   'distro': 'colcon',\n",
       "   'name': 'python3-colcon-core',\n",
       "   'count': 103375,\n",
       "   'date': '2023'},\n",
       "  {'package': 'recursive-crawl',\n",
       "   'distro': 'colcon',\n",
       "   'name': 'python3-colcon-recursive-crawl',\n",
       "   'count': 101981,\n",
       "   'date': '2023'},\n",
       "  {'package': '',\n",
       "   'distro': 'rosdep',\n",
       "   'name': 'python3-rosdep',\n",
       "   'count': 101911,\n",
       "   'date': '2023'},\n",
       "  {'package': 'ros',\n",
       "   'distro': 'colcon',\n",
       "   'name': 'python3-colcon-ros',\n",
       "   'count': 101902,\n",
       "   'date': '2023'},\n",
       "  {'package': 'tf2-msgs',\n",
       "   'distro': 'noetic',\n",
       "   'name': 'ros-noetic-tf2-msgs',\n",
       "   'count': 96764,\n",
       "   'date': '2023'},\n",
       "  {'package': 'tf2-ros',\n",
       "   'distro': 'noetic',\n",
       "   'name': 'ros-noetic-tf2-ros',\n",
       "   'count': 95090,\n",
       "   'date': '2023'},\n",
       "  {'package': 'tf2-py',\n",
       "   'distro': 'noetic',\n",
       "   'name': 'ros-noetic-tf2-py',\n",
       "   'count': 94728,\n",
       "   'date': '2023'},\n",
       "  {'package': 'tf2',\n",
       "   'distro': 'noetic',\n",
       "   'name': 'ros-noetic-tf2',\n",
       "   'count': 94593,\n",
       "   'date': '2023'},\n",
       "  {'package': 'cmake',\n",
       "   'distro': 'colcon',\n",
       "   'name': 'python3-colcon-cmake',\n",
       "   'count': 93469,\n",
       "   'date': '2023'},\n",
       "  {'package': 'powershell',\n",
       "   'distro': 'colcon',\n",
       "   'name': 'python3-colcon-powershell',\n",
       "   'count': 92027,\n",
       "   'date': '2023'},\n",
       "  {'package': 'zsh',\n",
       "   'distro': 'colcon',\n",
       "   'name': 'python3-colcon-zsh',\n",
       "   'count': 91961,\n",
       "   'date': '2023'},\n",
       "  {'package': 'tf',\n",
       "   'distro': 'noetic',\n",
       "   'name': 'ros-noetic-tf',\n",
       "   'count': 86459,\n",
       "   'date': '2023'},\n",
       "  {'package': 'parallel-executor',\n",
       "   'distro': 'colcon',\n",
       "   'name': 'python3-colcon-parallel-executor',\n",
       "   'count': 85977,\n",
       "   'date': '2023'},\n",
       "  {'package': 'bash',\n",
       "   'distro': 'colcon',\n",
       "   'name': 'python3-colcon-bash',\n",
       "   'count': 85921,\n",
       "   'date': '2023'},\n",
       "  {'package': 'devtools',\n",
       "   'distro': 'colcon',\n",
       "   'name': 'python3-colcon-devtools',\n",
       "   'count': 85823,\n",
       "   'date': '2023'},\n",
       "  {'package': '',\n",
       "   'distro': 'rospkg',\n",
       "   'name': 'python3-rospkg',\n",
       "   'count': 82850,\n",
       "   'date': '2023'},\n",
       "  {'package': 'cv-bridge',\n",
       "   'distro': 'noetic',\n",
       "   'name': 'ros-noetic-cv-bridge',\n",
       "   'count': 77584,\n",
       "   'date': '2023'},\n",
       "  {'package': 'tf-conversions',\n",
       "   'distro': 'noetic',\n",
       "   'name': 'ros-noetic-tf-conversions',\n",
       "   'count': 74495,\n",
       "   'date': '2023'},\n",
       "  {'package': 'interactive-markers',\n",
       "   'distro': 'noetic',\n",
       "   'name': 'ros-noetic-interactive-markers',\n",
       "   'count': 74005,\n",
       "   'date': '2023'},\n",
       "  {'package': 'tf2-geometry-msgs',\n",
       "   'distro': 'noetic',\n",
       "   'name': 'ros-noetic-tf2-geometry-msgs',\n",
       "   'count': 73585,\n",
       "   'date': '2023'},\n",
       "  {'package': 'image-transport',\n",
       "   'distro': 'noetic',\n",
       "   'name': 'ros-noetic-image-transport',\n",
       "   'count': 72446,\n",
       "   'date': '2023'},\n",
       "  {'package': 'std-msgs',\n",
       "   'distro': 'noetic',\n",
       "   'name': 'ros-noetic-std-msgs',\n",
       "   'count': 70401,\n",
       "   'date': '2023'},\n",
       "  {'package': 'tf2-kdl',\n",
       "   'distro': 'noetic',\n",
       "   'name': 'ros-noetic-tf2-kdl',\n",
       "   'count': 69995,\n",
       "   'date': '2023'},\n",
       "  {'package': 'actionlib',\n",
       "   'distro': 'noetic',\n",
       "   'name': 'ros-noetic-actionlib',\n",
       "   'count': 69799,\n",
       "   'date': '2023'},\n",
       "  {'package': 'message-runtime',\n",
       "   'distro': 'noetic',\n",
       "   'name': 'ros-noetic-message-runtime',\n",
       "   'count': 69766,\n",
       "   'date': '2023'},\n",
       "  {'package': 'robot-state-publisher',\n",
       "   'distro': 'noetic',\n",
       "   'name': 'ros-noetic-robot-state-publisher',\n",
       "   'count': 69764,\n",
       "   'date': '2023'},\n",
       "  {'package': 'roscpp',\n",
       "   'distro': 'noetic',\n",
       "   'name': 'ros-noetic-roscpp',\n",
       "   'count': 69570,\n",
       "   'date': '2023'},\n",
       "  {'package': 'urdf',\n",
       "   'distro': 'noetic',\n",
       "   'name': 'ros-noetic-urdf',\n",
       "   'count': 69399,\n",
       "   'date': '2023'},\n",
       "  {'package': 'laser-geometry',\n",
       "   'distro': 'noetic',\n",
       "   'name': 'ros-noetic-laser-geometry',\n",
       "   'count': 68635,\n",
       "   'date': '2023'},\n",
       "  {'package': 'rosconsole',\n",
       "   'distro': 'noetic',\n",
       "   'name': 'ros-noetic-rosconsole',\n",
       "   'count': 67472,\n",
       "   'date': '2023'},\n",
       "  {'package': 'geometry-msgs',\n",
       "   'distro': 'noetic',\n",
       "   'name': 'ros-noetic-geometry-msgs',\n",
       "   'count': 67351,\n",
       "   'date': '2023'},\n",
       "  {'package': 'rosgraph-msgs',\n",
       "   'distro': 'noetic',\n",
       "   'name': 'ros-noetic-rosgraph-msgs',\n",
       "   'count': 67188,\n",
       "   'date': '2023'},\n",
       "  {'package': 'cpp-common',\n",
       "   'distro': 'noetic',\n",
       "   'name': 'ros-noetic-cpp-common',\n",
       "   'count': 67094,\n",
       "   'date': '2023'},\n",
       "  {'package': 'rostime',\n",
       "   'distro': 'noetic',\n",
       "   'name': 'ros-noetic-rostime',\n",
       "   'count': 67053,\n",
       "   'date': '2023'},\n",
       "  {'package': 'roscpp-serialization',\n",
       "   'distro': 'noetic',\n",
       "   'name': 'ros-noetic-roscpp-serialization',\n",
       "   'count': 67044,\n",
       "   'date': '2023'},\n",
       "  {'package': 'roscpp-traits',\n",
       "   'distro': 'noetic',\n",
       "   'name': 'ros-noetic-roscpp-traits',\n",
       "   'count': 67033,\n",
       "   'date': '2023'},\n",
       "  {'package': 'rosbuild',\n",
       "   'distro': 'noetic',\n",
       "   'name': 'ros-noetic-rosbuild',\n",
       "   'count': 66968,\n",
       "   'date': '2023'},\n",
       "  {'package': 'rviz',\n",
       "   'distro': 'noetic',\n",
       "   'name': 'ros-noetic-rviz',\n",
       "   'count': 66958,\n",
       "   'date': '2023'},\n",
       "  {'package': 'rospy',\n",
       "   'distro': 'noetic',\n",
       "   'name': 'ros-noetic-rospy',\n",
       "   'count': 66557,\n",
       "   'date': '2023'},\n",
       "  {'package': 'sensor-msgs',\n",
       "   'distro': 'noetic',\n",
       "   'name': 'ros-noetic-sensor-msgs',\n",
       "   'count': 66484,\n",
       "   'date': '2023'},\n",
       "  {'package': 'xmlrpcpp',\n",
       "   'distro': 'noetic',\n",
       "   'name': 'ros-noetic-xmlrpcpp',\n",
       "   'count': 66142,\n",
       "   'date': '2023'},\n",
       "  {'package': 'pluginlib',\n",
       "   'distro': 'noetic',\n",
       "   'name': 'ros-noetic-pluginlib',\n",
       "   'count': 66116,\n",
       "   'date': '2023'},\n",
       "  {'package': 'kdl-conversions',\n",
       "   'distro': 'noetic',\n",
       "   'name': 'ros-noetic-kdl-conversions',\n",
       "   'count': 66090,\n",
       "   'date': '2023'},\n",
       "  {'package': 'diagnostic-updater',\n",
       "   'distro': 'noetic',\n",
       "   'name': 'ros-noetic-diagnostic-updater',\n",
       "   'count': 66062,\n",
       "   'date': '2023'},\n",
       "  {'package': 'rostest',\n",
       "   'distro': 'noetic',\n",
       "   'name': 'ros-noetic-rostest',\n",
       "   'count': 65901,\n",
       "   'date': '2023'},\n",
       "  {'package': 'std-srvs',\n",
       "   'distro': 'noetic',\n",
       "   'name': 'ros-noetic-std-srvs',\n",
       "   'count': 65576,\n",
       "   'date': '2023'},\n",
       "  {'package': 'roslaunch',\n",
       "   'distro': 'noetic',\n",
       "   'name': 'ros-noetic-roslaunch',\n",
       "   'count': 65071,\n",
       "   'date': '2023'},\n",
       "  {'package': 'rosbag',\n",
       "   'distro': 'noetic',\n",
       "   'name': 'ros-noetic-rosbag',\n",
       "   'count': 64861,\n",
       "   'date': '2023'},\n",
       "  {'package': 'actionlib-msgs',\n",
       "   'distro': 'noetic',\n",
       "   'name': 'ros-noetic-actionlib-msgs',\n",
       "   'count': 64631,\n",
       "   'date': '2023'},\n",
       "  {'package': 'dynamic-reconfigure',\n",
       "   'distro': 'noetic',\n",
       "   'name': 'ros-noetic-dynamic-reconfigure',\n",
       "   'count': 64513,\n",
       "   'date': '2023'},\n",
       "  {'package': 'tf2-eigen',\n",
       "   'distro': 'noetic',\n",
       "   'name': 'ros-noetic-tf2-eigen',\n",
       "   'count': 64456,\n",
       "   'date': '2023'},\n",
       "  {'package': 'nav-msgs',\n",
       "   'distro': 'noetic',\n",
       "   'name': 'ros-noetic-nav-msgs',\n",
       "   'count': 64282,\n",
       "   'date': '2023'},\n",
       "  {'package': 'rosout',\n",
       "   'distro': 'noetic',\n",
       "   'name': 'ros-noetic-rosout',\n",
       "   'count': 63628,\n",
       "   'date': '2023'},\n",
       "  {'package': 'rosbag-storage',\n",
       "   'distro': 'noetic',\n",
       "   'name': 'ros-noetic-rosbag-storage',\n",
       "   'count': 63575,\n",
       "   'date': '2023'},\n",
       "  {'package': '',\n",
       "   'distro': 'vcstool',\n",
       "   'name': 'python3-vcstool',\n",
       "   'count': 63544,\n",
       "   'date': '2023'},\n",
       "  {'package': 'nodelet',\n",
       "   'distro': 'noetic',\n",
       "   'name': 'ros-noetic-nodelet',\n",
       "   'count': 63311,\n",
       "   'date': '2023'},\n",
       "  {'package': 'python-setup-py',\n",
       "   'distro': 'colcon',\n",
       "   'name': 'python3-colcon-python-setup-py',\n",
       "   'count': 63042,\n",
       "   'date': '2023'},\n",
       "  {'package': 'rosmsg',\n",
       "   'distro': 'noetic',\n",
       "   'name': 'ros-noetic-rosmsg',\n",
       "   'count': 63021,\n",
       "   'date': '2023'},\n",
       "  {'package': 'topic-tools',\n",
       "   'distro': 'noetic',\n",
       "   'name': 'ros-noetic-topic-tools',\n",
       "   'count': 62994,\n",
       "   'date': '2023'},\n",
       "  {'package': 'rosservice',\n",
       "   'distro': 'noetic',\n",
       "   'name': 'ros-noetic-rosservice',\n",
       "   'count': 62905,\n",
       "   'date': '2023'},\n",
       "  {'package': 'message-filters',\n",
       "   'distro': 'noetic',\n",
       "   'name': 'ros-noetic-message-filters',\n",
       "   'count': 62890,\n",
       "   'date': '2023'},\n",
       "  {'package': 'roslz4',\n",
       "   'distro': 'noetic',\n",
       "   'name': 'ros-noetic-roslz4',\n",
       "   'count': 62827,\n",
       "   'date': '2023'},\n",
       "  {'package': 'rostopic',\n",
       "   'distro': 'noetic',\n",
       "   'name': 'ros-noetic-rostopic',\n",
       "   'count': 62712,\n",
       "   'date': '2023'},\n",
       "  {'package': 'xacro',\n",
       "   'distro': 'noetic',\n",
       "   'name': 'ros-noetic-xacro',\n",
       "   'count': 62702,\n",
       "   'date': '2023'},\n",
       "  {'package': 'catkin',\n",
       "   'distro': 'noetic',\n",
       "   'name': 'ros-noetic-catkin',\n",
       "   'count': 62598,\n",
       "   'date': '2023'},\n",
       "  {'package': 'rosnode',\n",
       "   'distro': 'noetic',\n",
       "   'name': 'ros-noetic-rosnode',\n",
       "   'count': 62512,\n",
       "   'date': '2023'},\n",
       "  {'package': 'output',\n",
       "   'distro': 'colcon',\n",
       "   'name': 'python3-colcon-output',\n",
       "   'count': 62478,\n",
       "   'date': '2023'},\n",
       "  {'package': 'roswtf',\n",
       "   'distro': 'noetic',\n",
       "   'name': 'ros-noetic-roswtf',\n",
       "   'count': 62321,\n",
       "   'date': '2023'},\n",
       "  {'package': 'visualization-msgs',\n",
       "   'distro': 'noetic',\n",
       "   'name': 'ros-noetic-visualization-msgs',\n",
       "   'count': 62294,\n",
       "   'date': '2023'},\n",
       "  {'package': 'defaults',\n",
       "   'distro': 'colcon',\n",
       "   'name': 'python3-colcon-defaults',\n",
       "   'count': 62269,\n",
       "   'date': '2023'},\n",
       "  {'package': 'notification',\n",
       "   'distro': 'colcon',\n",
       "   'name': 'python3-colcon-notification',\n",
       "   'count': 62017,\n",
       "   'date': '2023'},\n",
       "  {'package': 'metadata',\n",
       "   'distro': 'colcon',\n",
       "   'name': 'python3-colcon-metadata',\n",
       "   'count': 61925,\n",
       "   'date': '2023'},\n",
       "  {'package': 'message-generation',\n",
       "   'distro': 'noetic',\n",
       "   'name': 'ros-noetic-message-generation',\n",
       "   'count': 61804,\n",
       "   'date': '2023'},\n",
       "  {'package': 'bondcpp',\n",
       "   'distro': 'noetic',\n",
       "   'name': 'ros-noetic-bondcpp',\n",
       "   'count': 61794,\n",
       "   'date': '2023'},\n",
       "  {'package': 'kdl-parser',\n",
       "   'distro': 'noetic',\n",
       "   'name': 'ros-noetic-kdl-parser',\n",
       "   'count': 61766,\n",
       "   'date': '2023'},\n",
       "  {'package': 'bond',\n",
       "   'distro': 'noetic',\n",
       "   'name': 'ros-noetic-bond',\n",
       "   'count': 61757,\n",
       "   'date': '2023'},\n",
       "  {'package': 'rosconsole-bridge',\n",
       "   'distro': 'noetic',\n",
       "   'name': 'ros-noetic-rosconsole-bridge',\n",
       "   'count': 61276,\n",
       "   'date': '2023'},\n",
       "  {'package': 'genlisp',\n",
       "   'distro': 'noetic',\n",
       "   'name': 'ros-noetic-genlisp',\n",
       "   'count': 61259,\n",
       "   'date': '2023'},\n",
       "  {'package': 'genpy',\n",
       "   'distro': 'noetic',\n",
       "   'name': 'ros-noetic-genpy',\n",
       "   'count': 61145,\n",
       "   'date': '2023'},\n",
       "  {'package': 'resource-retriever',\n",
       "   'distro': 'noetic',\n",
       "   'name': 'ros-noetic-resource-retriever',\n",
       "   'count': 60988,\n",
       "   'date': '2023'},\n",
       "  {'package': 'test-result',\n",
       "   'distro': 'colcon',\n",
       "   'name': 'python3-colcon-test-result',\n",
       "   'count': 60931,\n",
       "   'date': '2023'},\n",
       "  {'package': 'library-path',\n",
       "   'distro': 'colcon',\n",
       "   'name': 'python3-colcon-library-path',\n",
       "   'count': 60883,\n",
       "   'date': '2023'},\n",
       "  {'package': 'pkg-config',\n",
       "   'distro': 'colcon',\n",
       "   'name': 'python3-colcon-pkg-config',\n",
       "   'count': 60856,\n",
       "   'date': '2023'},\n",
       "  {'package': 'common-extensions',\n",
       "   'distro': 'colcon',\n",
       "   'name': 'python3-colcon-common-extensions',\n",
       "   'count': 60818,\n",
       "   'date': '2023'},\n",
       "  {'package': 'genmsg',\n",
       "   'distro': 'noetic',\n",
       "   'name': 'ros-noetic-genmsg',\n",
       "   'count': 60671,\n",
       "   'date': '2023'},\n",
       "  {'package': 'package-selection',\n",
       "   'distro': 'colcon',\n",
       "   'name': 'python3-colcon-package-selection',\n",
       "   'count': 60610,\n",
       "   'date': '2023'},\n",
       "  {'package': 'map-msgs',\n",
       "   'distro': 'noetic',\n",
       "   'name': 'ros-noetic-map-msgs',\n",
       "   'count': 60529,\n",
       "   'date': '2023'},\n",
       "  {'package': 'geneus',\n",
       "   'distro': 'noetic',\n",
       "   'name': 'ros-noetic-geneus',\n",
       "   'count': 60441,\n",
       "   'date': '2023'},\n",
       "  {'package': 'rosgraph',\n",
       "   'distro': 'noetic',\n",
       "   'name': 'ros-noetic-rosgraph',\n",
       "   'count': 60432,\n",
       "   'date': '2023'},\n",
       "  {'package': 'package-information',\n",
       "   'distro': 'colcon',\n",
       "   'name': 'python3-colcon-package-information',\n",
       "   'count': 60405,\n",
       "   'date': '2023'},\n",
       "  {'package': 'gencpp',\n",
       "   'distro': 'noetic',\n",
       "   'name': 'ros-noetic-gencpp',\n",
       "   'count': 60318,\n",
       "   'date': '2023'},\n",
       "  {'package': 'gennodejs',\n",
       "   'distro': 'noetic',\n",
       "   'name': 'ros-noetic-gennodejs',\n",
       "   'count': 60297,\n",
       "   'date': '2023'},\n",
       "  {'package': 'trajectory-msgs',\n",
       "   'distro': 'noetic',\n",
       "   'name': 'ros-noetic-trajectory-msgs',\n",
       "   'count': 60247,\n",
       "   'date': '2023'},\n",
       "  {'package': 'cd',\n",
       "   'distro': 'colcon',\n",
       "   'name': 'python3-colcon-cd',\n",
       "   'count': 60108,\n",
       "   'date': '2023'},\n",
       "  {'package': 'argcomplete',\n",
       "   'distro': 'colcon',\n",
       "   'name': 'python3-colcon-argcomplete',\n",
       "   'count': 60092,\n",
       "   'date': '2023'},\n",
       "  {'package': 'python-qt-binding',\n",
       "   'distro': 'noetic',\n",
       "   'name': 'ros-noetic-python-qt-binding',\n",
       "   'count': 59898,\n",
       "   'date': '2023'},\n",
       "  {'package': 'diagnostic-msgs',\n",
       "   'distro': 'noetic',\n",
       "   'name': 'ros-noetic-diagnostic-msgs',\n",
       "   'count': 59599,\n",
       "   'date': '2023'},\n",
       "  {'package': 'nodelet-topic-tools',\n",
       "   'distro': 'noetic',\n",
       "   'name': 'ros-noetic-nodelet-topic-tools',\n",
       "   'count': 59235,\n",
       "   'date': '2023'},\n",
       "  {'package': 'ros-environment',\n",
       "   'distro': 'noetic',\n",
       "   'name': 'ros-noetic-ros-environment',\n",
       "   'count': 59120,\n",
       "   'date': '2023'},\n",
       "  {'package': 'eigen-conversions',\n",
       "   'distro': 'noetic',\n",
       "   'name': 'ros-noetic-eigen-conversions',\n",
       "   'count': 58754,\n",
       "   'date': '2023'},\n",
       "  {'package': 'rosparam',\n",
       "   'distro': 'noetic',\n",
       "   'name': 'ros-noetic-rosparam',\n",
       "   'count': 58696,\n",
       "   'date': '2023'},\n",
       "  {'package': 'rosmaster',\n",
       "   'distro': 'noetic',\n",
       "   'name': 'ros-noetic-rosmaster',\n",
       "   'count': 58672,\n",
       "   'date': '2023'},\n",
       "  {'package': 'roslib',\n",
       "   'distro': 'noetic',\n",
       "   'name': 'ros-noetic-roslib',\n",
       "   'count': 58516,\n",
       "   'date': '2023'},\n",
       "  {'package': 'rospack',\n",
       "   'distro': 'noetic',\n",
       "   'name': 'ros-noetic-rospack',\n",
       "   'count': 58410,\n",
       "   'date': '2023'},\n",
       "  {'package': 'shape-msgs',\n",
       "   'distro': 'noetic',\n",
       "   'name': 'ros-noetic-shape-msgs',\n",
       "   'count': 58110,\n",
       "   'date': '2023'},\n",
       "  {'package': '',\n",
       "   'distro': 'rosdistro',\n",
       "   'name': 'python3-rosdistro',\n",
       "   'count': 57167,\n",
       "   'date': '2023'},\n",
       "  {'package': 'rqt-tf-tree',\n",
       "   'distro': 'noetic',\n",
       "   'name': 'ros-noetic-rqt-tf-tree',\n",
       "   'count': 57109,\n",
       "   'date': '2023'},\n",
       "  {'package': 'bondpy',\n",
       "   'distro': 'noetic',\n",
       "   'name': 'ros-noetic-bondpy',\n",
       "   'count': 57023,\n",
       "   'date': '2023'},\n",
       "  {'package': 'rqt-robot-dashboard',\n",
       "   'distro': 'noetic',\n",
       "   'name': 'ros-noetic-rqt-robot-dashboard',\n",
       "   'count': 56915,\n",
       "   'date': '2023'},\n",
       "  {'package': 'rosunit',\n",
       "   'distro': 'noetic',\n",
       "   'name': 'ros-noetic-rosunit',\n",
       "   'count': 56725,\n",
       "   'date': '2023'},\n",
       "  {'package': 'mk',\n",
       "   'distro': 'noetic',\n",
       "   'name': 'ros-noetic-mk',\n",
       "   'count': 56191,\n",
       "   'date': '2023'},\n",
       "  {'package': 'stereo-msgs',\n",
       "   'distro': 'noetic',\n",
       "   'name': 'ros-noetic-stereo-msgs',\n",
       "   'count': 56168,\n",
       "   'date': '2023'},\n",
       "  {'package': 'rqt-robot-plugins',\n",
       "   'distro': 'noetic',\n",
       "   'name': 'ros-noetic-rqt-robot-plugins',\n",
       "   'count': 56023,\n",
       "   'date': '2023'},\n",
       "  {'package': 'class-loader',\n",
       "   'distro': 'noetic',\n",
       "   'name': 'ros-noetic-class-loader',\n",
       "   'count': 55834,\n",
       "   'date': '2023'},\n",
       "  {'package': 'ros',\n",
       "   'distro': 'noetic',\n",
       "   'name': 'ros-noetic-ros',\n",
       "   'count': 55816,\n",
       "   'date': '2023'},\n",
       "  {'package': 'roslisp',\n",
       "   'distro': 'noetic',\n",
       "   'name': 'ros-noetic-roslisp',\n",
       "   'count': 55768,\n",
       "   'date': '2023'},\n",
       "  {'package': 'image-transport',\n",
       "   'distro': 'humble',\n",
       "   'name': 'ros-humble-image-transport',\n",
       "   'count': 55761,\n",
       "   'date': '2023'},\n",
       "  {'package': 'ros-comm',\n",
       "   'distro': 'noetic',\n",
       "   'name': 'ros-noetic-ros-comm',\n",
       "   'count': 55697,\n",
       "   'date': '2023'},\n",
       "  {'package': 'rosclean',\n",
       "   'distro': 'noetic',\n",
       "   'name': 'ros-noetic-rosclean',\n",
       "   'count': 55692,\n",
       "   'date': '2023'},\n",
       "  {'package': 'ros-core',\n",
       "   'distro': 'noetic',\n",
       "   'name': 'ros-noetic-ros-core',\n",
       "   'count': 55625,\n",
       "   'date': '2023'},\n",
       "  {'package': 'common-msgs',\n",
       "   'distro': 'noetic',\n",
       "   'name': 'ros-noetic-common-msgs',\n",
       "   'count': 55572,\n",
       "   'date': '2023'},\n",
       "  {'package': 'ros-base',\n",
       "   'distro': 'noetic',\n",
       "   'name': 'ros-noetic-ros-base',\n",
       "   'count': 55043,\n",
       "   'date': '2023'},\n",
       "  {'package': 'resource-retriever',\n",
       "   'distro': 'humble',\n",
       "   'name': 'ros-humble-resource-retriever',\n",
       "   'count': 54959,\n",
       "   'date': '2023'},\n",
       "  {'package': 'roscpp-core',\n",
       "   'distro': 'noetic',\n",
       "   'name': 'ros-noetic-roscpp-core',\n",
       "   'count': 54953,\n",
       "   'date': '2023'},\n",
       "  {'package': 'bond-core',\n",
       "   'distro': 'noetic',\n",
       "   'name': 'ros-noetic-bond-core',\n",
       "   'count': 54811,\n",
       "   'date': '2023'},\n",
       "  {'package': 'nodelet-core',\n",
       "   'distro': 'noetic',\n",
       "   'name': 'ros-noetic-nodelet-core',\n",
       "   'count': 54748,\n",
       "   'date': '2023'},\n",
       "  {'package': 'rqt-logger-level',\n",
       "   'distro': 'noetic',\n",
       "   'name': 'ros-noetic-rqt-logger-level',\n",
       "   'count': 54573,\n",
       "   'date': '2023'},\n",
       "  {'package': 'rqt-console',\n",
       "   'distro': 'noetic',\n",
       "   'name': 'ros-noetic-rqt-console',\n",
       "   'count': 54529,\n",
       "   'date': '2023'},\n",
       "  {'package': 'desktop',\n",
       "   'distro': 'noetic',\n",
       "   'name': 'ros-noetic-desktop',\n",
       "   'count': 54323,\n",
       "   'date': '2023'},\n",
       "  {'package': 'viz',\n",
       "   'distro': 'noetic',\n",
       "   'name': 'ros-noetic-viz',\n",
       "   'count': 54250,\n",
       "   'date': '2023'},\n",
       "  {'package': 'rqt-reconfigure',\n",
       "   'distro': 'noetic',\n",
       "   'name': 'ros-noetic-rqt-reconfigure',\n",
       "   'count': 54127,\n",
       "   'date': '2023'},\n",
       "  {'package': 'sensor-msgs-py',\n",
       "   'distro': 'humble',\n",
       "   'name': 'ros-humble-sensor-msgs-py',\n",
       "   'count': 54002,\n",
       "   'date': '2023'},\n",
       "  {'package': 'interactive-markers',\n",
       "   'distro': 'humble',\n",
       "   'name': 'ros-humble-interactive-markers',\n",
       "   'count': 53759,\n",
       "   'date': '2023'},\n",
       "  {'package': 'smclib',\n",
       "   'distro': 'noetic',\n",
       "   'name': 'ros-noetic-smclib',\n",
       "   'count': 53470,\n",
       "   'date': '2023'},\n",
       "  {'package': 'pcl-ros',\n",
       "   'distro': 'noetic',\n",
       "   'name': 'ros-noetic-pcl-ros',\n",
       "   'count': 53420,\n",
       "   'date': '2023'},\n",
       "  {'package': 'laser-geometry',\n",
       "   'distro': 'humble',\n",
       "   'name': 'ros-humble-laser-geometry',\n",
       "   'count': 53079,\n",
       "   'date': '2023'},\n",
       "  {'package': 'map-msgs',\n",
       "   'distro': 'humble',\n",
       "   'name': 'ros-humble-map-msgs',\n",
       "   'count': 53001,\n",
       "   'date': '2023'},\n",
       "  {'package': 'angles',\n",
       "   'distro': 'noetic',\n",
       "   'name': 'ros-noetic-angles',\n",
       "   'count': 52835,\n",
       "   'date': '2023'},\n",
       "  {'package': 'camera-calibration-parsers',\n",
       "   'distro': 'noetic',\n",
       "   'name': 'ros-noetic-camera-calibration-parsers',\n",
       "   'count': 52679,\n",
       "   'date': '2023'},\n",
       "  {'package': 'rviz-ogre-vendor',\n",
       "   'distro': 'humble',\n",
       "   'name': 'ros-humble-rviz-ogre-vendor',\n",
       "   'count': 52459,\n",
       "   'date': '2023'},\n",
       "  {'package': 'rviz-rendering',\n",
       "   'distro': 'humble',\n",
       "   'name': 'ros-humble-rviz-rendering',\n",
       "   'count': 52338,\n",
       "   'date': '2023'},\n",
       "  {'package': 'rviz-assimp-vendor',\n",
       "   'distro': 'humble',\n",
       "   'name': 'ros-humble-rviz-assimp-vendor',\n",
       "   'count': 52312,\n",
       "   'date': '2023'},\n",
       "  {'package': 'cv-bridge',\n",
       "   'distro': 'humble',\n",
       "   'name': 'ros-humble-cv-bridge',\n",
       "   'count': 52247,\n",
       "   'date': '2023'},\n",
       "  {'package': 'ignition-math6-vendor',\n",
       "   'distro': 'humble',\n",
       "   'name': 'ros-humble-ignition-math6-vendor',\n",
       "   'count': 52219,\n",
       "   'date': '2023'},\n",
       "  {'package': 'rviz-common',\n",
       "   'distro': 'humble',\n",
       "   'name': 'ros-humble-rviz-common',\n",
       "   'count': 52215,\n",
       "   'date': '2023'},\n",
       "  {'package': 'ignition-cmake2-vendor',\n",
       "   'distro': 'humble',\n",
       "   'name': 'ros-humble-ignition-cmake2-vendor',\n",
       "   'count': 52198,\n",
       "   'date': '2023'},\n",
       "  {'package': 'camera-info-manager',\n",
       "   'distro': 'noetic',\n",
       "   'name': 'ros-noetic-camera-info-manager',\n",
       "   'count': 52179,\n",
       "   'date': '2023'},\n",
       "  {'package': 'rviz-default-plugins',\n",
       "   'distro': 'humble',\n",
       "   'name': 'ros-humble-rviz-default-plugins',\n",
       "   'count': 52091,\n",
       "   'date': '2023'},\n",
       "  {'package': 'control-msgs',\n",
       "   'distro': 'noetic',\n",
       "   'name': 'ros-noetic-control-msgs',\n",
       "   'count': 51849,\n",
       "   'date': '2023'},\n",
       "  {'package': 'rqt-launch',\n",
       "   'distro': 'noetic',\n",
       "   'name': 'ros-noetic-rqt-launch',\n",
       "   'count': 51779,\n",
       "   'date': '2023'},\n",
       "  {'package': 'rqt-common-plugins',\n",
       "   'distro': 'noetic',\n",
       "   'name': 'ros-noetic-rqt-common-plugins',\n",
       "   'count': 51704,\n",
       "   'date': '2023'},\n",
       "  {'package': 'rqt-robot-monitor',\n",
       "   'distro': 'noetic',\n",
       "   'name': 'ros-noetic-rqt-robot-monitor',\n",
       "   'count': 51697,\n",
       "   'date': '2023'},\n",
       "  {'package': 'rqt-srv',\n",
       "   'distro': 'noetic',\n",
       "   'name': 'ros-noetic-rqt-srv',\n",
       "   'count': 51685,\n",
       "   'date': '2023'},\n",
       "  {'package': 'rqt-action',\n",
       "   'distro': 'noetic',\n",
       "   'name': 'ros-noetic-rqt-action',\n",
       "   'count': 51643,\n",
       "   'date': '2023'},\n",
       "  {'package': 'rqt-msg',\n",
       "   'distro': 'noetic',\n",
       "   'name': 'ros-noetic-rqt-msg',\n",
       "   'count': 51628,\n",
       "   'date': '2023'},\n",
       "  {'package': 'rosbag-migration-rule',\n",
       "   'distro': 'noetic',\n",
       "   'name': 'ros-noetic-rosbag-migration-rule',\n",
       "   'count': 51598,\n",
       "   'date': '2023'},\n",
       "  {'package': 'desktop-full',\n",
       "   'distro': 'noetic',\n",
       "   'name': 'ros-noetic-desktop-full',\n",
       "   'count': 51463,\n",
       "   'date': '2023'},\n",
       "  {'package': 'joint-state-publisher',\n",
       "   'distro': 'noetic',\n",
       "   'name': 'ros-noetic-joint-state-publisher',\n",
       "   'count': 51214,\n",
       "   'date': '2023'},\n",
       "  {'package': 'rviz2',\n",
       "   'distro': 'humble',\n",
       "   'name': 'ros-humble-rviz2',\n",
       "   'count': 50839,\n",
       "   'date': '2023'},\n",
       "  {'package': 'rqt-runtime-monitor',\n",
       "   'distro': 'noetic',\n",
       "   'name': 'ros-noetic-rqt-runtime-monitor',\n",
       "   'count': 50728,\n",
       "   'date': '2023'},\n",
       "  {'package': 'rqt-moveit',\n",
       "   'distro': 'noetic',\n",
       "   'name': 'ros-noetic-rqt-moveit',\n",
       "   'count': 50707,\n",
       "   'date': '2023'},\n",
       "  {'package': 'spdlog-vendor',\n",
       "   'distro': 'humble',\n",
       "   'name': 'ros-humble-spdlog-vendor',\n",
       "   'count': 50687,\n",
       "   'date': '2023'},\n",
       "  {'package': 'python-qt-binding',\n",
       "   'distro': 'humble',\n",
       "   'name': 'ros-humble-python-qt-binding',\n",
       "   'count': 50652,\n",
       "   'date': '2023'},\n",
       "  {'package': 'rcl-logging-spdlog',\n",
       "   'distro': 'humble',\n",
       "   'name': 'ros-humble-rcl-logging-spdlog',\n",
       "   'count': 50651,\n",
       "   'date': '2023'},\n",
       "  {'package': 'tf2',\n",
       "   'distro': 'humble',\n",
       "   'name': 'ros-humble-tf2',\n",
       "   'count': 50561,\n",
       "   'date': '2023'},\n",
       "  {'package': 'message-filters',\n",
       "   'distro': 'humble',\n",
       "   'name': 'ros-humble-message-filters',\n",
       "   'count': 50435,\n",
       "   'date': '2023'},\n",
       "  {'package': 'tf2-msgs',\n",
       "   'distro': 'humble',\n",
       "   'name': 'ros-humble-tf2-msgs',\n",
       "   'count': 50427,\n",
       "   'date': '2023'},\n",
       "  {'package': 'tf2-ros',\n",
       "   'distro': 'humble',\n",
       "   'name': 'ros-humble-tf2-ros',\n",
       "   'count': 50307,\n",
       "   'date': '2023'},\n",
       "  {'package': 'ament-cmake-flake8',\n",
       "   'distro': 'humble',\n",
       "   'name': 'ros-humble-ament-cmake-flake8',\n",
       "   'count': 50248,\n",
       "   'date': '2023'},\n",
       "  {'package': 'media-export',\n",
       "   'distro': 'noetic',\n",
       "   'name': 'ros-noetic-media-export',\n",
       "   'count': 50207,\n",
       "   'date': '2023'},\n",
       "  {'package': 'rosidl-default-runtime',\n",
       "   'distro': 'humble',\n",
       "   'name': 'ros-humble-rosidl-default-runtime',\n",
       "   'count': 50174,\n",
       "   'date': '2023'},\n",
       "  {'package': 'ament-index-python',\n",
       "   'distro': 'humble',\n",
       "   'name': 'ros-humble-ament-index-python',\n",
       "   'count': 50100,\n",
       "   'date': '2023'},\n",
       "  {'package': 'cmake-modules',\n",
       "   'distro': 'noetic',\n",
       "   'name': 'ros-noetic-cmake-modules',\n",
       "   'count': 50055,\n",
       "   'date': '2023'},\n",
       "  {'package': 'std-msgs',\n",
       "   'distro': 'humble',\n",
       "   'name': 'ros-humble-std-msgs',\n",
       "   'count': 50019,\n",
       "   'date': '2023'},\n",
       "  {'package': 'builtin-interfaces',\n",
       "   'distro': 'humble',\n",
       "   'name': 'ros-humble-builtin-interfaces',\n",
       "   'count': 49967,\n",
       "   'date': '2023'},\n",
       "  {'package': 'rosidl-generator-py',\n",
       "   'distro': 'humble',\n",
       "   'name': 'ros-humble-rosidl-generator-py',\n",
       "   'count': 49954,\n",
       "   'date': '2023'},\n",
       "  {'package': 'rosidl-typesupport-introspection-cpp',\n",
       "   'distro': 'humble',\n",
       "   'name': 'ros-humble-rosidl-typesupport-introspection-cpp',\n",
       "   'count': 49940,\n",
       "   'date': '2023'},\n",
       "  {'package': 'rosidl-typesupport-introspection-c',\n",
       "   'distro': 'humble',\n",
       "   'name': 'ros-humble-rosidl-typesupport-introspection-c',\n",
       "   'count': 49924,\n",
       "   'date': '2023'},\n",
       "  {'package': 'rosbash',\n",
       "   'distro': 'noetic',\n",
       "   'name': 'ros-noetic-rosbash',\n",
       "   'count': 49915,\n",
       "   'date': '2023'},\n",
       "  {'package': 'python-cmake-module',\n",
       "   'distro': 'humble',\n",
       "   'name': 'ros-humble-python-cmake-module',\n",
       "   'count': 49896,\n",
       "   'date': '2023'},\n",
       "  {'package': 'ament-cmake-ros',\n",
       "   'distro': 'humble',\n",
       "   'name': 'ros-humble-ament-cmake-ros',\n",
       "   'count': 49855,\n",
       "   'date': '2023'},\n",
       "  {'package': 'rpyutils',\n",
       "   'distro': 'humble',\n",
       "   'name': 'ros-humble-rpyutils',\n",
       "   'count': 49815,\n",
       "   'date': '2023'},\n",
       "  {'package': 'rosgraph-msgs',\n",
       "   'distro': 'humble',\n",
       "   'name': 'ros-humble-rosgraph-msgs',\n",
       "   'count': 49793,\n",
       "   'date': '2023'},\n",
       "  {'package': 'rcl',\n",
       "   'distro': 'humble',\n",
       "   'name': 'ros-humble-rcl',\n",
       "   'count': 49756,\n",
       "   'date': '2023'},\n",
       "  {'package': 'rosidl-parser',\n",
       "   'distro': 'humble',\n",
       "   'name': 'ros-humble-rosidl-parser',\n",
       "   'count': 49756,\n",
       "   'date': '2023'},\n",
       "  {'package': 'rosidl-adapter',\n",
       "   'distro': 'humble',\n",
       "   'name': 'ros-humble-rosidl-adapter',\n",
       "   'count': 49743,\n",
       "   'date': '2023'},\n",
       "  {'package': 'diff-drive-controller',\n",
       "   'distro': 'noetic',\n",
       "   'name': 'ros-noetic-diff-drive-controller',\n",
       "   'count': 49698,\n",
       "   'date': '2023'},\n",
       "  {'package': 'rosidl-typesupport-fastrtps-cpp',\n",
       "   'distro': 'humble',\n",
       "   'name': 'ros-humble-rosidl-typesupport-fastrtps-cpp',\n",
       "   'count': 49680,\n",
       "   'date': '2023'},\n",
       "  {'package': 'rosidl-typesupport-c',\n",
       "   'distro': 'humble',\n",
       "   'name': 'ros-humble-rosidl-typesupport-c',\n",
       "   'count': 49677,\n",
       "   'date': '2023'},\n",
       "  {'package': 'rosidl-typesupport-cpp',\n",
       "   'distro': 'humble',\n",
       "   'name': 'ros-humble-rosidl-typesupport-cpp',\n",
       "   'count': 49676,\n",
       "   'date': '2023'},\n",
       "  {'package': 'rosidl-typesupport-fastrtps-c',\n",
       "   'distro': 'humble',\n",
       "   'name': 'ros-humble-rosidl-typesupport-fastrtps-c',\n",
       "   'count': 49672,\n",
       "   'date': '2023'},\n",
       "  {'package': 'rosidl-cmake',\n",
       "   'distro': 'humble',\n",
       "   'name': 'ros-humble-rosidl-cmake',\n",
       "   'count': 49671,\n",
       "   'date': '2023'},\n",
       "  {'package': 'rosidl-generator-cpp',\n",
       "   'distro': 'humble',\n",
       "   'name': 'ros-humble-rosidl-generator-cpp',\n",
       "   'count': 49669,\n",
       "   'date': '2023'},\n",
       "  {'package': 'rosidl-generator-c',\n",
       "   'distro': 'humble',\n",
       "   'name': 'ros-humble-rosidl-generator-c',\n",
       "   'count': 49668,\n",
       "   'date': '2023'},\n",
       "  {'package': 'rosidl-runtime-cpp',\n",
       "   'distro': 'humble',\n",
       "   'name': 'ros-humble-rosidl-runtime-cpp',\n",
       "   'count': 49663,\n",
       "   'date': '2023'},\n",
       "  {'package': 'rmw',\n",
       "   'distro': 'humble',\n",
       "   'name': 'ros-humble-rmw',\n",
       "   'count': 49657,\n",
       "   'date': '2023'},\n",
       "  {'package': 'rosidl-runtime-c',\n",
       "   'distro': 'humble',\n",
       "   'name': 'ros-humble-rosidl-runtime-c',\n",
       "   'count': 49648,\n",
       "   'date': '2023'},\n",
       "  {'package': 'rmw-implementation-cmake',\n",
       "   'distro': 'humble',\n",
       "   'name': 'ros-humble-rmw-implementation-cmake',\n",
       "   'count': 49629,\n",
       "   'date': '2023'},\n",
       "  {'package': 'rclcpp',\n",
       "   'distro': 'humble',\n",
       "   'name': 'ros-humble-rclcpp',\n",
       "   'count': 49619,\n",
       "   'date': '2023'},\n",
       "  {'package': 'rosidl-typesupport-interface',\n",
       "   'distro': 'humble',\n",
       "   'name': 'ros-humble-rosidl-typesupport-interface',\n",
       "   'count': 49614,\n",
       "   'date': '2023'},\n",
       "  {'package': 'rcl-interfaces',\n",
       "   'distro': 'humble',\n",
       "   'name': 'ros-humble-rcl-interfaces',\n",
       "   'count': 49611,\n",
       "   'date': '2023'},\n",
       "  {'package': 'geometry-msgs',\n",
       "   'distro': 'humble',\n",
       "   'name': 'ros-humble-geometry-msgs',\n",
       "   'count': 49607,\n",
       "   'date': '2023'},\n",
       "  {'package': 'domain-coordinator',\n",
       "   'distro': 'humble',\n",
       "   'name': 'ros-humble-domain-coordinator',\n",
       "   'count': 49606,\n",
       "   'date': '2023'},\n",
       "  {'package': 'rosidl-cli',\n",
       "   'distro': 'humble',\n",
       "   'name': 'ros-humble-rosidl-cli',\n",
       "   'count': 49603,\n",
       "   'date': '2023'},\n",
       "  {'package': 'rcpputils',\n",
       "   'distro': 'humble',\n",
       "   'name': 'ros-humble-rcpputils',\n",
       "   'count': 49602,\n",
       "   'date': '2023'},\n",
       "  {'package': 'rcutils',\n",
       "   'distro': 'humble',\n",
       "   'name': 'ros-humble-rcutils',\n",
       "   'count': 49601,\n",
       "   'date': '2023'},\n",
       "  {'package': 'fastrtps-cmake-module',\n",
       "   'distro': 'humble',\n",
       "   'name': 'ros-humble-fastrtps-cmake-module',\n",
       "   'count': 49598,\n",
       "   'date': '2023'},\n",
       "  {'package': 'rmw-implementation',\n",
       "   'distro': 'humble',\n",
       "   'name': 'ros-humble-rmw-implementation',\n",
       "   'count': 49588,\n",
       "   'date': '2023'},\n",
       "  {'package': 'rcl-yaml-param-parser',\n",
       "   'distro': 'humble',\n",
       "   'name': 'ros-humble-rcl-yaml-param-parser',\n",
       "   'count': 49581,\n",
       "   'date': '2023'},\n",
       "  {'package': 'rmw-dds-common',\n",
       "   'distro': 'humble',\n",
       "   'name': 'ros-humble-rmw-dds-common',\n",
       "   'count': 49555,\n",
       "   'date': '2023'},\n",
       "  {'package': 'ament-index-cpp',\n",
       "   'distro': 'humble',\n",
       "   'name': 'ros-humble-ament-index-cpp',\n",
       "   'count': 49548,\n",
       "   'date': '2023'},\n",
       "  {'package': 'orocos-kdl-vendor',\n",
       "   'distro': 'humble',\n",
       "   'name': 'ros-humble-orocos-kdl-vendor',\n",
       "   'count': 49548,\n",
       "   'date': '2023'},\n",
       "  {'package': 'eigen3-cmake-module',\n",
       "   'distro': 'humble',\n",
       "   'name': 'ros-humble-eigen3-cmake-module',\n",
       "   'count': 49518,\n",
       "   'date': '2023'},\n",
       "  {'package': 'tracetools',\n",
       "   'distro': 'humble',\n",
       "   'name': 'ros-humble-tracetools',\n",
       "   'count': 49512,\n",
       "   'date': '2023'},\n",
       "  {'package': 'libyaml-vendor',\n",
       "   'distro': 'humble',\n",
       "   'name': 'ros-humble-libyaml-vendor',\n",
       "   'count': 49507,\n",
       "   'date': '2023'},\n",
       "  {'package': 'rcl-logging-interface',\n",
       "   'distro': 'humble',\n",
       "   'name': 'ros-humble-rcl-logging-interface',\n",
       "   'count': 49491,\n",
       "   'date': '2023'},\n",
       "  {'package': 'statistics-msgs',\n",
       "   'distro': 'humble',\n",
       "   'name': 'ros-humble-statistics-msgs',\n",
       "   'count': 49447,\n",
       "   'date': '2023'},\n",
       "  {'package': 'libstatistics-collector',\n",
       "   'distro': 'humble',\n",
       "   'name': 'ros-humble-libstatistics-collector',\n",
       "   'count': 49397,\n",
       "   'date': '2023'},\n",
       "  {'package': 'tools',\n",
       "   'distro': 'catkin',\n",
       "   'name': 'python3-catkin-tools',\n",
       "   'count': 49392,\n",
       "   'date': '2023'},\n",
       "  {'package': 'sensor-msgs',\n",
       "   'distro': 'humble',\n",
       "   'name': 'ros-humble-sensor-msgs',\n",
       "   'count': 49382,\n",
       "   'date': '2023'},\n",
       "  {'package': 'tf2-geometry-msgs',\n",
       "   'distro': 'humble',\n",
       "   'name': 'ros-humble-tf2-geometry-msgs',\n",
       "   'count': 49371,\n",
       "   'date': '2023'},\n",
       "  {'package': 'fastrtps',\n",
       "   'distro': 'humble',\n",
       "   'name': 'ros-humble-fastrtps',\n",
       "   'count': 49335,\n",
       "   'date': '2023'},\n",
       "  {'package': 'tf2-ros-py',\n",
       "   'distro': 'humble',\n",
       "   'name': 'ros-humble-tf2-ros-py',\n",
       "   'count': 49306,\n",
       "   'date': '2023'},\n",
       "  {'package': 'tf2-py',\n",
       "   'distro': 'humble',\n",
       "   'name': 'ros-humble-tf2-py',\n",
       "   'count': 49300,\n",
       "   'date': '2023'},\n",
       "  {'package': 'rmw-fastrtps-cpp',\n",
       "   'distro': 'humble',\n",
       "   'name': 'ros-humble-rmw-fastrtps-cpp',\n",
       "   'count': 49140,\n",
       "   'date': '2023'},\n",
       "  {'package': 'hardware-interface',\n",
       "   'distro': 'noetic',\n",
       "   'name': 'ros-noetic-hardware-interface',\n",
       "   'count': 49100,\n",
       "   'date': '2023'},\n",
       "  {'package': 'controller-manager-msgs',\n",
       "   'distro': 'noetic',\n",
       "   'name': 'ros-noetic-controller-manager-msgs',\n",
       "   'count': 49068,\n",
       "   'date': '2023'},\n",
       "  {'package': 'rmw-fastrtps-shared-cpp',\n",
       "   'distro': 'humble',\n",
       "   'name': 'ros-humble-rmw-fastrtps-shared-cpp',\n",
       "   'count': 48995,\n",
       "   'date': '2023'},\n",
       "  {'package': 'foonathan-memory-vendor',\n",
       "   'distro': 'humble',\n",
       "   'name': 'ros-humble-foonathan-memory-vendor',\n",
       "   'count': 48891,\n",
       "   'date': '2023'},\n",
       "  {'package': 'roslang',\n",
       "   'distro': 'noetic',\n",
       "   'name': 'ros-noetic-roslang',\n",
       "   'count': 48735,\n",
       "   'date': '2023'},\n",
       "  {'package': 'ament-pep257',\n",
       "   'distro': 'humble',\n",
       "   'name': 'ros-humble-ament-pep257',\n",
       "   'count': 48625,\n",
       "   'date': '2023'},\n",
       "  {'package': 'ament-flake8',\n",
       "   'distro': 'humble',\n",
       "   'name': 'ros-humble-ament-flake8',\n",
       "   'count': 48502,\n",
       "   'date': '2023'},\n",
       "  {'package': 'action-msgs',\n",
       "   'distro': 'humble',\n",
       "   'name': 'ros-humble-action-msgs',\n",
       "   'count': 48496,\n",
       "   'date': '2023'},\n",
       "  {'package': 'unique-identifier-msgs',\n",
       "   'distro': 'humble',\n",
       "   'name': 'ros-humble-unique-identifier-msgs',\n",
       "   'count': 48404,\n",
       "   'date': '2023'},\n",
       "  {'package': 'pycommon',\n",
       "   'distro': 'osrf',\n",
       "   'name': 'python3-osrf-pycommon',\n",
       "   'count': 48362,\n",
       "   'date': '2023'},\n",
       "  {'package': 'ament-lint',\n",
       "   'distro': 'humble',\n",
       "   'name': 'ros-humble-ament-lint',\n",
       "   'count': 48292,\n",
       "   'date': '2023'},\n",
       "  {'package': 'urdf',\n",
       "   'distro': 'humble',\n",
       "   'name': 'ros-humble-urdf',\n",
       "   'count': 48270,\n",
       "   'date': '2023'},\n",
       "  {'package': 'urdfdom',\n",
       "   'distro': 'humble',\n",
       "   'name': 'ros-humble-urdfdom',\n",
       "   'count': 48258,\n",
       "   'date': '2023'},\n",
       "  {'package': 'trajectory-msgs',\n",
       "   'distro': 'humble',\n",
       "   'name': 'ros-humble-trajectory-msgs',\n",
       "   'count': 48253,\n",
       "   'date': '2023'},\n",
       "  {'package': 'urdf-parser-plugin',\n",
       "   'distro': 'humble',\n",
       "   'name': 'ros-humble-urdf-parser-plugin',\n",
       "   'count': 48200,\n",
       "   'date': '2023'},\n",
       "  {'package': 'rclpy',\n",
       "   'distro': 'humble',\n",
       "   'name': 'ros-humble-rclpy',\n",
       "   'count': 48116,\n",
       "   'date': '2023'},\n",
       "  {'package': 'lifecycle-msgs',\n",
       "   'distro': 'humble',\n",
       "   'name': 'ros-humble-lifecycle-msgs',\n",
       "   'count': 48100,\n",
       "   'date': '2023'},\n",
       "  {'package': 'ros2cli',\n",
       "   'distro': 'humble',\n",
       "   'name': 'ros-humble-ros2cli',\n",
       "   'count': 48079,\n",
       "   'date': '2023'},\n",
       "  {'package': 'rcl-lifecycle',\n",
       "   'distro': 'humble',\n",
       "   'name': 'ros-humble-rcl-lifecycle',\n",
       "   'count': 48068,\n",
       "   'date': '2023'},\n",
       "  {'package': 'rcl-action',\n",
       "   'distro': 'humble',\n",
       "   'name': 'ros-humble-rcl-action',\n",
       "   'count': 48060,\n",
       "   'date': '2023'},\n",
       "  {'package': 'roscreate',\n",
       "   'distro': 'noetic',\n",
       "   'name': 'ros-noetic-roscreate',\n",
       "   'count': 48056,\n",
       "   'date': '2023'},\n",
       "  {'package': 'ament-cmake-lint-cmake',\n",
       "   'distro': 'humble',\n",
       "   'name': 'ros-humble-ament-cmake-lint-cmake',\n",
       "   'count': 47928,\n",
       "   'date': '2023'},\n",
       "  {'package': 'ament-lint-cmake',\n",
       "   'distro': 'humble',\n",
       "   'name': 'ros-humble-ament-lint-cmake',\n",
       "   'count': 47914,\n",
       "   'date': '2023'},\n",
       "  {'package': 'tf2-eigen',\n",
       "   'distro': 'humble',\n",
       "   'name': 'ros-humble-tf2-eigen',\n",
       "   'count': 47865,\n",
       "   'date': '2023'},\n",
       "  {'package': 'class-loader',\n",
       "   'distro': 'humble',\n",
       "   'name': 'ros-humble-class-loader',\n",
       "   'count': 47858,\n",
       "   'date': '2023'},\n",
       "  {'package': 'rclcpp-action',\n",
       "   'distro': 'humble',\n",
       "   'name': 'ros-humble-rclcpp-action',\n",
       "   'count': 47856,\n",
       "   'date': '2023'},\n",
       "  {'package': 'composition-interfaces',\n",
       "   'distro': 'humble',\n",
       "   'name': 'ros-humble-composition-interfaces',\n",
       "   'count': 47852,\n",
       "   'date': '2023'},\n",
       "  {'package': 'console-bridge-vendor',\n",
       "   'distro': 'humble',\n",
       "   'name': 'ros-humble-console-bridge-vendor',\n",
       "   'count': 47852,\n",
       "   'date': '2023'},\n",
       "  {'package': 'ament-copyright',\n",
       "   'distro': 'humble',\n",
       "   'name': 'ros-humble-ament-copyright',\n",
       "   'count': 47805,\n",
       "   'date': '2023'},\n",
       "  {'package': 'launch',\n",
       "   'distro': 'humble',\n",
       "   'name': 'ros-humble-launch',\n",
       "   'count': 47732,\n",
       "   'date': '2023'},\n",
       "  {'package': 'kdl-parser',\n",
       "   'distro': 'humble',\n",
       "   'name': 'ros-humble-kdl-parser',\n",
       "   'count': 47682,\n",
       "   'date': '2023'},\n",
       "  {'package': 'pcl-msgs',\n",
       "   'distro': 'noetic',\n",
       "   'name': 'ros-noetic-pcl-msgs',\n",
       "   'count': 47680,\n",
       "   'date': '2023'},\n",
       "  {'package': 'filters',\n",
       "   'distro': 'noetic',\n",
       "   'name': 'ros-noetic-filters',\n",
       "   'count': 47618,\n",
       "   'date': '2023'},\n",
       "  {'package': 'pluginlib',\n",
       "   'distro': 'humble',\n",
       "   'name': 'ros-humble-pluginlib',\n",
       "   'count': 47608,\n",
       "   'date': '2023'},\n",
       "  {'package': 'rosmake',\n",
       "   'distro': 'noetic',\n",
       "   'name': 'ros-noetic-rosmake',\n",
       "   'count': 47606,\n",
       "   'date': '2023'},\n",
       "  {'package': 'rosidl-runtime-py',\n",
       "   'distro': 'humble',\n",
       "   'name': 'ros-humble-rosidl-runtime-py',\n",
       "   'count': 47489,\n",
       "   'date': '2023'},\n",
       "  {'package': 'nav-msgs',\n",
       "   'distro': 'humble',\n",
       "   'name': 'ros-humble-nav-msgs',\n",
       "   'count': 47484,\n",
       "   'date': '2023'},\n",
       "  {'package': 'ament-lint-auto',\n",
       "   'distro': 'humble',\n",
       "   'name': 'ros-humble-ament-lint-auto',\n",
       "   'count': 47468,\n",
       "   'date': '2023'},\n",
       "  {'package': 'gazebo-ros',\n",
       "   'distro': 'noetic',\n",
       "   'name': 'ros-noetic-gazebo-ros',\n",
       "   'count': 47423,\n",
       "   'date': '2023'},\n",
       "  {'package': 'rosboost-cfg',\n",
       "   'distro': 'noetic',\n",
       "   'name': 'ros-noetic-rosboost-cfg',\n",
       "   'count': 47403,\n",
       "   'date': '2023'},\n",
       "  {'package': 'rclcpp-components',\n",
       "   'distro': 'humble',\n",
       "   'name': 'ros-humble-rclcpp-components',\n",
       "   'count': 47334,\n",
       "   'date': '2023'},\n",
       "  {'package': 'launch-ros',\n",
       "   'distro': 'humble',\n",
       "   'name': 'ros-humble-launch-ros',\n",
       "   'count': 47330,\n",
       "   'date': '2023'},\n",
       "  {'package': 'ament-cmake-pep257',\n",
       "   'distro': 'humble',\n",
       "   'name': 'ros-humble-ament-cmake-pep257',\n",
       "   'count': 47304,\n",
       "   'date': '2023'},\n",
       "  {'package': 'ament-xmllint',\n",
       "   'distro': 'humble',\n",
       "   'name': 'ros-humble-ament-xmllint',\n",
       "   'count': 47236,\n",
       "   'date': '2023'},\n",
       "  {'package': 'ament-cppcheck',\n",
       "   'distro': 'humble',\n",
       "   'name': 'ros-humble-ament-cppcheck',\n",
       "   'count': 47222,\n",
       "   'date': '2023'},\n",
       "  {'package': 'ament-cpplint',\n",
       "   'distro': 'humble',\n",
       "   'name': 'ros-humble-ament-cpplint',\n",
       "   'count': 47182,\n",
       "   'date': '2023'},\n",
       "  {'package': 'ament-cmake-xmllint',\n",
       "   'distro': 'humble',\n",
       "   'name': 'ros-humble-ament-cmake-xmllint',\n",
       "   'count': 47180,\n",
       "   'date': '2023'},\n",
       "  {'package': 'ament-lint-common',\n",
       "   'distro': 'humble',\n",
       "   'name': 'ros-humble-ament-lint-common',\n",
       "   'count': 47173,\n",
       "   'date': '2023'},\n",
       "  {'package': 'robot-state-publisher',\n",
       "   'distro': 'humble',\n",
       "   'name': 'ros-humble-robot-state-publisher',\n",
       "   'count': 47154,\n",
       "   'date': '2023'},\n",
       "  {'package': 'ament-cmake-cppcheck',\n",
       "   'distro': 'humble',\n",
       "   'name': 'ros-humble-ament-cmake-cppcheck',\n",
       "   'count': 47129,\n",
       "   'date': '2023'},\n",
       "  {'package': 'ament-uncrustify',\n",
       "   'distro': 'humble',\n",
       "   'name': 'ros-humble-ament-uncrustify',\n",
       "   'count': 47125,\n",
       "   'date': '2023'},\n",
       "  {'package': 'std-srvs',\n",
       "   'distro': 'humble',\n",
       "   'name': 'ros-humble-std-srvs',\n",
       "   'count': 47108,\n",
       "   'date': '2023'},\n",
       "  {'package': 'ament-cmake-copyright',\n",
       "   'distro': 'humble',\n",
       "   'name': 'ros-humble-ament-cmake-copyright',\n",
       "   'count': 47096,\n",
       "   'date': '2023'},\n",
       "  {'package': 'ament-cmake-uncrustify',\n",
       "   'distro': 'humble',\n",
       "   'name': 'ros-humble-ament-cmake-uncrustify',\n",
       "   'count': 47066,\n",
       "   'date': '2023'},\n",
       "  {'package': 'simulators',\n",
       "   'distro': 'noetic',\n",
       "   'name': 'ros-noetic-simulators',\n",
       "   'count': 47018,\n",
       "   'date': '2023'},\n",
       "  {'package': 'ament-cmake-cpplint',\n",
       "   'distro': 'humble',\n",
       "   'name': 'ros-humble-ament-cmake-cpplint',\n",
       "   'count': 47013,\n",
       "   'date': '2023'},\n",
       "  {'package': 'visualization-msgs',\n",
       "   'distro': 'humble',\n",
       "   'name': 'ros-humble-visualization-msgs',\n",
       "   'count': 46973,\n",
       "   'date': '2023'},\n",
       "  {'package': 'ros2service',\n",
       "   'distro': 'humble',\n",
       "   'name': 'ros-humble-ros2service',\n",
       "   'count': 46891,\n",
       "   'date': '2023'},\n",
       "  {'package': 'controller-interface',\n",
       "   'distro': 'noetic',\n",
       "   'name': 'ros-noetic-controller-interface',\n",
       "   'count': 46862,\n",
       "   'date': '2023'},\n",
       "  {'package': 'rosidl-default-generators',\n",
       "   'distro': 'humble',\n",
       "   'name': 'ros-humble-rosidl-default-generators',\n",
       "   'count': 46850,\n",
       "   'date': '2023'},\n",
       "  {'package': 'ros2node',\n",
       "   'distro': 'humble',\n",
       "   'name': 'ros-humble-ros2node',\n",
       "   'count': 46821,\n",
       "   'date': '2023'},\n",
       "  {'package': 'image-geometry',\n",
       "   'distro': 'noetic',\n",
       "   'name': 'ros-noetic-image-geometry',\n",
       "   'count': 46765,\n",
       "   'date': '2023'},\n",
       "  {'package': 'joint-state-controller',\n",
       "   'distro': 'noetic',\n",
       "   'name': 'ros-noetic-joint-state-controller',\n",
       "   'count': 46752,\n",
       "   'date': '2023'},\n",
       "  {'package': 'tango-icons-vendor',\n",
       "   'distro': 'humble',\n",
       "   'name': 'ros-humble-tango-icons-vendor',\n",
       "   'count': 46701,\n",
       "   'date': '2023'},\n",
       "  {'package': 'qt-gui',\n",
       "   'distro': 'humble',\n",
       "   'name': 'ros-humble-qt-gui',\n",
       "   'count': 46676,\n",
       "   'date': '2023'},\n",
       "  {'package': 'ros2pkg',\n",
       "   'distro': 'humble',\n",
       "   'name': 'ros-humble-ros2pkg',\n",
       "   'count': 46657,\n",
       "   'date': '2023'},\n",
       "  {'package': 'rclcpp-lifecycle',\n",
       "   'distro': 'humble',\n",
       "   'name': 'ros-humble-rclcpp-lifecycle',\n",
       "   'count': 46647,\n",
       "   'date': '2023'},\n",
       "  {'package': 'rqt-gui',\n",
       "   'distro': 'humble',\n",
       "   'name': 'ros-humble-rqt-gui',\n",
       "   'count': 46606,\n",
       "   'date': '2023'},\n",
       "  {'package': 'ros2param',\n",
       "   'distro': 'humble',\n",
       "   'name': 'ros-humble-ros2param',\n",
       "   'count': 46519,\n",
       "   'date': '2023'},\n",
       "  {'package': 'realtime-tools',\n",
       "   'distro': 'noetic',\n",
       "   'name': 'ros-noetic-realtime-tools',\n",
       "   'count': 46482,\n",
       "   'date': '2023'},\n",
       "  {'package': 'rqt-gui-py',\n",
       "   'distro': 'humble',\n",
       "   'name': 'ros-humble-rqt-gui-py',\n",
       "   'count': 46436,\n",
       "   'date': '2023'},\n",
       "  {'package': 'ros2run',\n",
       "   'distro': 'humble',\n",
       "   'name': 'ros-humble-ros2run',\n",
       "   'count': 46434,\n",
       "   'date': '2023'},\n",
       "  {'package': 'controller-manager',\n",
       "   'distro': 'noetic',\n",
       "   'name': 'ros-noetic-controller-manager',\n",
       "   'count': 46426,\n",
       "   'date': '2023'},\n",
       "  {'package': 'launch-xml',\n",
       "   'distro': 'humble',\n",
       "   'name': 'ros-humble-launch-xml',\n",
       "   'count': 46394,\n",
       "   'date': '2023'},\n",
       "  {'package': 'launch-yaml',\n",
       "   'distro': 'humble',\n",
       "   'name': 'ros-humble-launch-yaml',\n",
       "   'count': 46380,\n",
       "   'date': '2023'},\n",
       "  {'package': 'ros-core',\n",
       "   'distro': 'humble',\n",
       "   'name': 'ros-humble-ros-core',\n",
       "   'count': 46329,\n",
       "   'date': '2023'},\n",
       "  {'package': 'tf2-kdl',\n",
       "   'distro': 'humble',\n",
       "   'name': 'ros-humble-tf2-kdl',\n",
       "   'count': 46326,\n",
       "   'date': '2023'},\n",
       "  {'package': 'depth-image-proc',\n",
       "   'distro': 'noetic',\n",
       "   'name': 'ros-noetic-depth-image-proc',\n",
       "   'count': 46261,\n",
       "   'date': '2023'},\n",
       "  {'package': 'launch-testing',\n",
       "   'distro': 'humble',\n",
       "   'name': 'ros-humble-launch-testing',\n",
       "   'count': 46155,\n",
       "   'date': '2023'},\n",
       "  {'package': 'joint-limits-interface',\n",
       "   'distro': 'noetic',\n",
       "   'name': 'ros-noetic-joint-limits-interface',\n",
       "   'count': 46059,\n",
       "   'date': '2023'},\n",
       "  {'package': 'launch-testing-ament-cmake',\n",
       "   'distro': 'humble',\n",
       "   'name': 'ros-humble-launch-testing-ament-cmake',\n",
       "   'count': 45918,\n",
       "   'date': '2023'},\n",
       "  {'package': 'diagnostic-msgs',\n",
       "   'distro': 'humble',\n",
       "   'name': 'ros-humble-diagnostic-msgs',\n",
       "   'count': 45909,\n",
       "   'date': '2023'},\n",
       "  {'package': 'pcl-conversions',\n",
       "   'distro': 'noetic',\n",
       "   'name': 'ros-noetic-pcl-conversions',\n",
       "   'count': 45798,\n",
       "   'date': '2023'},\n",
       "  {'package': 'diagnostic-common-diagnostics',\n",
       "   'distro': 'noetic',\n",
       "   'name': 'ros-noetic-diagnostic-common-diagnostics',\n",
       "   'count': 45734,\n",
       "   'date': '2023'},\n",
       "  {'package': 'pcl-msgs',\n",
       "   'distro': 'humble',\n",
       "   'name': 'ros-humble-pcl-msgs',\n",
       "   'count': 45563,\n",
       "   'date': '2023'},\n",
       "  {'package': 'rosbag2-cpp',\n",
       "   'distro': 'humble',\n",
       "   'name': 'ros-humble-rosbag2-cpp',\n",
       "   'count': 45562,\n",
       "   'date': '2023'},\n",
       "  {'package': 'rosbag2-storage',\n",
       "   'distro': 'humble',\n",
       "   'name': 'ros-humble-rosbag2-storage',\n",
       "   'count': 45541,\n",
       "   'date': '2023'},\n",
       "  {'package': 'rosbag2-interfaces',\n",
       "   'distro': 'humble',\n",
       "   'name': 'ros-humble-rosbag2-interfaces',\n",
       "   'count': 45492,\n",
       "   'date': '2023'},\n",
       "  {'package': 'launch-testing-ros',\n",
       "   'distro': 'humble',\n",
       "   'name': 'ros-humble-launch-testing-ros',\n",
       "   'count': 45491,\n",
       "   'date': '2023'},\n",
       "  {'package': 'shared-queues-vendor',\n",
       "   'distro': 'humble',\n",
       "   'name': 'ros-humble-shared-queues-vendor',\n",
       "   'count': 45467,\n",
       "   'date': '2023'},\n",
       "  {'package': 'sqlite3-vendor',\n",
       "   'distro': 'humble',\n",
       "   'name': 'ros-humble-sqlite3-vendor',\n",
       "   'count': 45450,\n",
       "   'date': '2023'},\n",
       "  {'package': 'rosbag2-storage-default-plugins',\n",
       "   'distro': 'humble',\n",
       "   'name': 'ros-humble-rosbag2-storage-default-plugins',\n",
       "   'count': 45436,\n",
       "   'date': '2023'},\n",
       "  {'package': 'keyboard-handler',\n",
       "   'distro': 'humble',\n",
       "   'name': 'ros-humble-keyboard-handler',\n",
       "   'count': 45399,\n",
       "   'date': '2023'},\n",
       "  {'package': 'tf2-eigen-kdl',\n",
       "   'distro': 'humble',\n",
       "   'name': 'ros-humble-tf2-eigen-kdl',\n",
       "   'count': 45365,\n",
       "   'date': '2023'},\n",
       "  {'package': 'ros2bag',\n",
       "   'distro': 'humble',\n",
       "   'name': 'ros-humble-ros2bag',\n",
       "   'count': 45357,\n",
       "   'date': '2023'},\n",
       "  {'package': 'rosbag2-transport',\n",
       "   'distro': 'humble',\n",
       "   'name': 'ros-humble-rosbag2-transport',\n",
       "   'count': 45331,\n",
       "   'date': '2023'},\n",
       "  {'package': 'rosbag2-compression',\n",
       "   'distro': 'humble',\n",
       "   'name': 'ros-humble-rosbag2-compression',\n",
       "   'count': 45299,\n",
       "   'date': '2023'},\n",
       "  {'package': 'rosbag2-py',\n",
       "   'distro': 'humble',\n",
       "   'name': 'ros-humble-rosbag2-py',\n",
       "   'count': 45293,\n",
       "   'date': '2023'},\n",
       "  {'package': 'tf2-sensor-msgs',\n",
       "   'distro': 'humble',\n",
       "   'name': 'ros-humble-tf2-sensor-msgs',\n",
       "   'count': 45206,\n",
       "   'date': '2023'},\n",
       "  {'package': 'zstd-vendor',\n",
       "   'distro': 'humble',\n",
       "   'name': 'ros-humble-zstd-vendor',\n",
       "   'count': 45143,\n",
       "   'date': '2023'},\n",
       "  {'package': 'rosbag2',\n",
       "   'distro': 'humble',\n",
       "   'name': 'ros-humble-rosbag2',\n",
       "   'count': 45143,\n",
       "   'date': '2023'},\n",
       "  {'package': 'pcl-conversions',\n",
       "   'distro': 'humble',\n",
       "   'name': 'ros-humble-pcl-conversions',\n",
       "   'count': 45125,\n",
       "   'date': '2023'},\n",
       "  {'package': 'ros2launch',\n",
       "   'distro': 'humble',\n",
       "   'name': 'ros-humble-ros2launch',\n",
       "   'count': 45113,\n",
       "   'date': '2023'},\n",
       "  {'package': 'shape-msgs',\n",
       "   'distro': 'humble',\n",
       "   'name': 'ros-humble-shape-msgs',\n",
       "   'count': 45077,\n",
       "   'date': '2023'},\n",
       "  {'package': 'actionlib-msgs',\n",
       "   'distro': 'humble',\n",
       "   'name': 'ros-humble-actionlib-msgs',\n",
       "   'count': 45063,\n",
       "   'date': '2023'},\n",
       "  {'package': 'rosbag2-compression-zstd',\n",
       "   'distro': 'humble',\n",
       "   'name': 'ros-humble-rosbag2-compression-zstd',\n",
       "   'count': 45021,\n",
       "   'date': '2023'},\n",
       "  {'package': 'stereo-msgs',\n",
       "   'distro': 'humble',\n",
       "   'name': 'ros-humble-stereo-msgs',\n",
       "   'count': 45000,\n",
       "   'date': '2023'},\n",
       "  {'package': 'common-interfaces',\n",
       "   'distro': 'humble',\n",
       "   'name': 'ros-humble-common-interfaces',\n",
       "   'count': 44877,\n",
       "   'date': '2023'},\n",
       "  {'package': 'example-interfaces',\n",
       "   'distro': 'humble',\n",
       "   'name': 'ros-humble-example-interfaces',\n",
       "   'count': 44824,\n",
       "   'date': '2023'},\n",
       "  {'package': 'rqt-py-common',\n",
       "   'distro': 'humble',\n",
       "   'name': 'ros-humble-rqt-py-common',\n",
       "   'count': 44815,\n",
       "   'date': '2023'},\n",
       "  {'package': 'diagnostics',\n",
       "   'distro': 'noetic',\n",
       "   'name': 'ros-noetic-diagnostics',\n",
       "   'count': 44806,\n",
       "   'date': '2023'},\n",
       "  {'package': 'tf2-tools',\n",
       "   'distro': 'humble',\n",
       "   'name': 'ros-humble-tf2-tools',\n",
       "   'count': 44748,\n",
       "   'date': '2023'},\n",
       "  {'package': 'forward-command-controller',\n",
       "   'distro': 'noetic',\n",
       "   'name': 'ros-noetic-forward-command-controller',\n",
       "   'count': 44731,\n",
       "   'date': '2023'},\n",
       "  {'package': 'ros2action',\n",
       "   'distro': 'humble',\n",
       "   'name': 'ros-humble-ros2action',\n",
       "   'count': 44661,\n",
       "   'date': '2023'},\n",
       "  {'package': 'ros2topic',\n",
       "   'distro': 'humble',\n",
       "   'name': 'ros-humble-ros2topic',\n",
       "   'count': 44653,\n",
       "   'date': '2023'},\n",
       "  {'package': 'rqt-gui',\n",
       "   'distro': 'noetic',\n",
       "   'name': 'ros-noetic-rqt-gui',\n",
       "   'count': 44607,\n",
       "   'date': '2023'},\n",
       "  {'package': 'ros2interface',\n",
       "   'distro': 'humble',\n",
       "   'name': 'ros-humble-ros2interface',\n",
       "   'count': 44562,\n",
       "   'date': '2023'},\n",
       "  {'package': 'qt-gui',\n",
       "   'distro': 'noetic',\n",
       "   'name': 'ros-noetic-qt-gui',\n",
       "   'count': 44561,\n",
       "   'date': '2023'},\n",
       "  {'package': 'ros2multicast',\n",
       "   'distro': 'humble',\n",
       "   'name': 'ros-humble-ros2multicast',\n",
       "   'count': 44555,\n",
       "   'date': '2023'},\n",
       "  {'package': 'ros2doctor',\n",
       "   'distro': 'humble',\n",
       "   'name': 'ros-humble-ros2doctor',\n",
       "   'count': 44503,\n",
       "   'date': '2023'},\n",
       "  {'package': 'joint-state-publisher-gui',\n",
       "   'distro': 'noetic',\n",
       "   'name': 'ros-noetic-joint-state-publisher-gui',\n",
       "   'count': 44489,\n",
       "   'date': '2023'},\n",
       "  {'package': 'sros2',\n",
       "   'distro': 'humble',\n",
       "   'name': 'ros-humble-sros2',\n",
       "   'count': 44468,\n",
       "   'date': '2023'},\n",
       "  {'package': 'ros2lifecycle',\n",
       "   'distro': 'humble',\n",
       "   'name': 'ros-humble-ros2lifecycle',\n",
       "   'count': 44435,\n",
       "   'date': '2023'},\n",
       "  {'package': 'ros2cli-common-extensions',\n",
       "   'distro': 'humble',\n",
       "   'name': 'ros-humble-ros2cli-common-extensions',\n",
       "   'count': 44390,\n",
       "   'date': '2023'},\n",
       "  {'package': 'geometry2',\n",
       "   'distro': 'humble',\n",
       "   'name': 'ros-humble-geometry2',\n",
       "   'count': 44370,\n",
       "   'date': '2023'},\n",
       "  {'package': 'ros2component',\n",
       "   'distro': 'humble',\n",
       "   'name': 'ros-humble-ros2component',\n",
       "   'count': 44366,\n",
       "   'date': '2023'},\n",
       "  {'package': 'sros2-cmake',\n",
       "   'distro': 'humble',\n",
       "   'name': 'ros-humble-sros2-cmake',\n",
       "   'count': 44343,\n",
       "   'date': '2023'},\n",
       "  {'package': 'tf2-bullet',\n",
       "   'distro': 'humble',\n",
       "   'name': 'ros-humble-tf2-bullet',\n",
       "   'count': 44301,\n",
       "   'date': '2023'},\n",
       "  {'package': 'rqt-nav-view',\n",
       "   'distro': 'noetic',\n",
       "   'name': 'ros-noetic-rqt-nav-view',\n",
       "   'count': 44100,\n",
       "   'date': '2023'},\n",
       "  {'package': 'rqt-rviz',\n",
       "   'distro': 'noetic',\n",
       "   'name': 'ros-noetic-rqt-rviz',\n",
       "   'count': 43975,\n",
       "   'date': '2023'},\n",
       "  {'package': 'rqt-pose-view',\n",
       "   'distro': 'noetic',\n",
       "   'name': 'ros-noetic-rqt-pose-view',\n",
       "   'count': 43834,\n",
       "   'date': '2023'},\n",
       "  {'package': 'qt-gui-cpp',\n",
       "   'distro': 'humble',\n",
       "   'name': 'ros-humble-qt-gui-cpp',\n",
       "   'count': 43805,\n",
       "   'date': '2023'},\n",
       "  {'package': 'gazebo-ros-control',\n",
       "   'distro': 'noetic',\n",
       "   'name': 'ros-noetic-gazebo-ros-control',\n",
       "   'count': 43674,\n",
       "   'date': '2023'},\n",
       "  {'package': 'rqt-gui-cpp',\n",
       "   'distro': 'humble',\n",
       "   'name': 'ros-humble-rqt-gui-cpp',\n",
       "   'count': 43586,\n",
       "   'date': '2023'},\n",
       "  {'package': 'position-controllers',\n",
       "   'distro': 'noetic',\n",
       "   'name': 'ros-noetic-position-controllers',\n",
       "   'count': 43400,\n",
       "   'date': '2023'},\n",
       "  {'package': 'joy',\n",
       "   'distro': 'humble',\n",
       "   'name': 'ros-humble-joy',\n",
       "   'count': 43113,\n",
       "   'date': '2023'},\n",
       "  {'package': 'geometry',\n",
       "   'distro': 'noetic',\n",
       "   'name': 'ros-noetic-geometry',\n",
       "   'count': 43076,\n",
       "   'date': '2023'},\n",
       "  {'package': 'control-toolbox',\n",
       "   'distro': 'noetic',\n",
       "   'name': 'ros-noetic-control-toolbox',\n",
       "   'count': 42964,\n",
       "   'date': '2023'},\n",
       "  {'package': 'image-geometry',\n",
       "   'distro': 'humble',\n",
       "   'name': 'ros-humble-image-geometry',\n",
       "   'count': 42950,\n",
       "   'date': '2023'},\n",
       "  {'package': 'qt-gui-py-common',\n",
       "   'distro': 'humble',\n",
       "   'name': 'ros-humble-qt-gui-py-common',\n",
       "   'count': 42933,\n",
       "   'date': '2023'},\n",
       "  {'package': 'rqt-gui-py',\n",
       "   'distro': 'noetic',\n",
       "   'name': 'ros-noetic-rqt-gui-py',\n",
       "   'count': 42879,\n",
       "   'date': '2023'},\n",
       "  {'package': 'libcurl-vendor',\n",
       "   'distro': 'humble',\n",
       "   'name': 'ros-humble-libcurl-vendor',\n",
       "   'count': 42690,\n",
       "   'date': '2023'},\n",
       "  {'package': 'gazebo-plugins',\n",
       "   'distro': 'noetic',\n",
       "   'name': 'ros-noetic-gazebo-plugins',\n",
       "   'count': 42678,\n",
       "   'date': '2023'},\n",
       "  {'package': 'robot',\n",
       "   'distro': 'noetic',\n",
       "   'name': 'ros-noetic-robot',\n",
       "   'count': 42591,\n",
       "   'date': '2023'},\n",
       "  {'package': 'turtle-tf2',\n",
       "   'distro': 'noetic',\n",
       "   'name': 'ros-noetic-turtle-tf2',\n",
       "   'count': 42489,\n",
       "   'date': '2023'},\n",
       "  {'package': 'urdf-tutorial',\n",
       "   'distro': 'noetic',\n",
       "   'name': 'ros-noetic-urdf-tutorial',\n",
       "   'count': 42488,\n",
       "   'date': '2023'},\n",
       "  {'package': 'interactive-marker-tutorials',\n",
       "   'distro': 'noetic',\n",
       "   'name': 'ros-noetic-interactive-marker-tutorials',\n",
       "   'count': 42476,\n",
       "   'date': '2023'},\n",
       "  {'package': 'rviz-plugin-tutorials',\n",
       "   'distro': 'noetic',\n",
       "   'name': 'ros-noetic-rviz-plugin-tutorials',\n",
       "   'count': 42464,\n",
       "   'date': '2023'},\n",
       "  {'package': 'geometry-tutorials',\n",
       "   'distro': 'noetic',\n",
       "   'name': 'ros-noetic-geometry-tutorials',\n",
       "   'count': 42455,\n",
       "   'date': '2023'},\n",
       "  {'package': 'turtle-tf',\n",
       "   'distro': 'noetic',\n",
       "   'name': 'ros-noetic-turtle-tf',\n",
       "   'count': 42454,\n",
       "   'date': '2023'},\n",
       "  {'package': 'rviz-python-tutorial',\n",
       "   'distro': 'noetic',\n",
       "   'name': 'ros-noetic-rviz-python-tutorial',\n",
       "   'count': 42437,\n",
       "   'date': '2023'},\n",
       "  {'package': 'librviz-tutorial',\n",
       "   'distro': 'noetic',\n",
       "   'name': 'ros-noetic-librviz-tutorial',\n",
       "   'count': 42406,\n",
       "   'date': '2023'},\n",
       "  {'package': 'visualization-tutorials',\n",
       "   'distro': 'noetic',\n",
       "   'name': 'ros-noetic-visualization-tutorials',\n",
       "   'count': 42396,\n",
       "   'date': '2023'},\n",
       "  {'package': 'rqt-image-view',\n",
       "   'distro': 'humble',\n",
       "   'name': 'ros-humble-rqt-image-view',\n",
       "   'count': 42012,\n",
       "   'date': '2023'},\n",
       "  {'package': 'rqt-reconfigure',\n",
       "   'distro': 'humble',\n",
       "   'name': 'ros-humble-rqt-reconfigure',\n",
       "   'count': 41984,\n",
       "   'date': '2023'},\n",
       "  {'package': 'rqt-plot',\n",
       "   'distro': 'humble',\n",
       "   'name': 'ros-humble-rqt-plot',\n",
       "   'count': 41851,\n",
       "   'date': '2023'},\n",
       "  {'package': 'rqt-console',\n",
       "   'distro': 'humble',\n",
       "   'name': 'ros-humble-rqt-console',\n",
       "   'count': 41825,\n",
       "   'date': '2023'},\n",
       "  {'package': 'rqt-topic',\n",
       "   'distro': 'humble',\n",
       "   'name': 'ros-humble-rqt-topic',\n",
       "   'count': 41824,\n",
       "   'date': '2023'},\n",
       "  {'package': 'gazebo-msgs',\n",
       "   'distro': 'noetic',\n",
       "   'name': 'ros-noetic-gazebo-msgs',\n",
       "   'count': 41579,\n",
       "   'date': '2023'},\n",
       "  {'package': 'qt-gui-cpp',\n",
       "   'distro': 'noetic',\n",
       "   'name': 'ros-noetic-qt-gui-cpp',\n",
       "   'count': 41538,\n",
       "   'date': '2023'},\n",
       "  {'package': 'diagnostic-aggregator',\n",
       "   'distro': 'noetic',\n",
       "   'name': 'ros-noetic-diagnostic-aggregator',\n",
       "   'count': 41431,\n",
       "   'date': '2023'},\n",
       "  {'package': 'qt-dotgraph',\n",
       "   'distro': 'humble',\n",
       "   'name': 'ros-humble-qt-dotgraph',\n",
       "   'count': 41329,\n",
       "   'date': '2023'},\n",
       "  {'package': 'rqt-graph',\n",
       "   'distro': 'humble',\n",
       "   'name': 'ros-humble-rqt-graph',\n",
       "   'count': 41257,\n",
       "   'date': '2023'},\n",
       "  {'package': 'ros-base',\n",
       "   'distro': 'humble',\n",
       "   'name': 'ros-humble-ros-base',\n",
       "   'count': 41101,\n",
       "   'date': '2023'},\n",
       "  {'package': 'demo-nodes-cpp',\n",
       "   'distro': 'humble',\n",
       "   'name': 'ros-humble-demo-nodes-cpp',\n",
       "   'count': 41058,\n",
       "   'date': '2023'},\n",
       "  {'package': 'transmission-interface',\n",
       "   'distro': 'noetic',\n",
       "   'name': 'ros-noetic-transmission-interface',\n",
       "   'count': 41014,\n",
       "   'date': '2023'},\n",
       "  {'package': 'urdf-sim-tutorial',\n",
       "   'distro': 'noetic',\n",
       "   'name': 'ros-noetic-urdf-sim-tutorial',\n",
       "   'count': 41004,\n",
       "   'date': '2023'},\n",
       "  {'package': 'image-proc',\n",
       "   'distro': 'noetic',\n",
       "   'name': 'ros-noetic-image-proc',\n",
       "   'count': 41001,\n",
       "   'date': '2023'},\n",
       "  {'package': 'teleop-twist-keyboard',\n",
       "   'distro': 'humble',\n",
       "   'name': 'ros-humble-teleop-twist-keyboard',\n",
       "   'count': 40911,\n",
       "   'date': '2023'},\n",
       "  {'package': 'rqt-gui-cpp',\n",
       "   'distro': 'noetic',\n",
       "   'name': 'ros-noetic-rqt-gui-cpp',\n",
       "   'count': 40798,\n",
       "   'date': '2023'},\n",
       "  {'package': 'rqt-srv',\n",
       "   'distro': 'humble',\n",
       "   'name': 'ros-humble-rqt-srv',\n",
       "   'count': 40717,\n",
       "   'date': '2023'},\n",
       "  {'package': 'rqt-action',\n",
       "   'distro': 'humble',\n",
       "   'name': 'ros-humble-rqt-action',\n",
       "   'count': 40668,\n",
       "   'date': '2023'},\n",
       "  {'package': 'rqt-msg',\n",
       "   'distro': 'humble',\n",
       "   'name': 'ros-humble-rqt-msg',\n",
       "   'count': 40645,\n",
       "   'date': '2023'},\n",
       "  {'package': 'rqt-bag',\n",
       "   'distro': 'humble',\n",
       "   'name': 'ros-humble-rqt-bag',\n",
       "   'count': 40637,\n",
       "   'date': '2023'},\n",
       "  {'package': 'rqt-shell',\n",
       "   'distro': 'humble',\n",
       "   'name': 'ros-humble-rqt-shell',\n",
       "   'count': 40626,\n",
       "   'date': '2023'},\n",
       "  {'package': 'rqt-service-caller',\n",
       "   'distro': 'humble',\n",
       "   'name': 'ros-humble-rqt-service-caller',\n",
       "   'count': 40607,\n",
       "   'date': '2023'},\n",
       "  {'package': 'rqt-py-console',\n",
       "   'distro': 'humble',\n",
       "   'name': 'ros-humble-rqt-py-console',\n",
       "   'count': 40574,\n",
       "   'date': '2023'},\n",
       "  {'package': 'rqt-publisher',\n",
       "   'distro': 'humble',\n",
       "   'name': 'ros-humble-rqt-publisher',\n",
       "   'count': 40573,\n",
       "   'date': '2023'},\n",
       "  {'package': 'rqt-bag-plugins',\n",
       "   'distro': 'humble',\n",
       "   'name': 'ros-humble-rqt-bag-plugins',\n",
       "   'count': 40549,\n",
       "   'date': '2023'},\n",
       "  {'package': 'rqt-common-plugins',\n",
       "   'distro': 'humble',\n",
       "   'name': 'ros-humble-rqt-common-plugins',\n",
       "   'count': 40480,\n",
       "   'date': '2023'},\n",
       "  {'package': 'rqt-py-common',\n",
       "   'distro': 'noetic',\n",
       "   'name': 'ros-noetic-rqt-py-common',\n",
       "   'count': 40313,\n",
       "   'date': '2023'},\n",
       "  {'package': 'teleop-twist-joy',\n",
       "   'distro': 'humble',\n",
       "   'name': 'ros-humble-teleop-twist-joy',\n",
       "   'count': 39843,\n",
       "   'date': '2023'},\n",
       "  {'package': 'demo-nodes-py',\n",
       "   'distro': 'humble',\n",
       "   'name': 'ros-humble-demo-nodes-py',\n",
       "   'count': 39499,\n",
       "   'date': '2023'},\n",
       "  {'package': 'turtlesim',\n",
       "   'distro': 'humble',\n",
       "   'name': 'ros-humble-turtlesim',\n",
       "   'count': 39396,\n",
       "   'date': '2023'},\n",
       "  {'package': 'angles',\n",
       "   'distro': 'humble',\n",
       "   'name': 'ros-humble-angles',\n",
       "   'count': 39388,\n",
       "   'date': '2023'},\n",
       "  {'package': 'action-tutorials-interfaces',\n",
       "   'distro': 'humble',\n",
       "   'name': 'ros-humble-action-tutorials-interfaces',\n",
       "   'count': 39094,\n",
       "   'date': '2023'},\n",
       "  {'package': 'rospy-tutorials',\n",
       "   'distro': 'noetic',\n",
       "   'name': 'ros-noetic-rospy-tutorials',\n",
       "   'count': 39073,\n",
       "   'date': '2023'},\n",
       "  {'package': 'laser-filters',\n",
       "   'distro': 'noetic',\n",
       "   'name': 'ros-noetic-laser-filters',\n",
       "   'count': 39064,\n",
       "   'date': '2023'},\n",
       "  {'package': 'logging-demo',\n",
       "   'distro': 'humble',\n",
       "   'name': 'ros-humble-logging-demo',\n",
       "   'count': 39059,\n",
       "   'date': '2023'},\n",
       "  {'package': 'tlsf',\n",
       "   'distro': 'humble',\n",
       "   'name': 'ros-humble-tlsf',\n",
       "   'count': 39041,\n",
       "   'date': '2023'},\n",
       "  {'package': 'examples-rclpy-minimal-service',\n",
       "   'distro': 'humble',\n",
       "   'name': 'ros-humble-examples-rclpy-minimal-service',\n",
       "   'count': 39038,\n",
       "   'date': '2023'},\n",
       "  {'package': 'examples-rclpy-minimal-client',\n",
       "   'distro': 'humble',\n",
       "   'name': 'ros-humble-examples-rclpy-minimal-client',\n",
       "   'count': 39037,\n",
       "   'date': '2023'},\n",
       "  {'package': 'examples-rclpy-minimal-action-server',\n",
       "   'distro': 'humble',\n",
       "   'name': 'ros-humble-examples-rclpy-minimal-action-server',\n",
       "   'count': 39032,\n",
       "   'date': '2023'},\n",
       "  {'package': 'examples-rclpy-minimal-publisher',\n",
       "   'distro': 'humble',\n",
       "   'name': 'ros-humble-examples-rclpy-minimal-publisher',\n",
       "   'count': 39016,\n",
       "   'date': '2023'},\n",
       "  {'package': 'examples-rclpy-minimal-subscriber',\n",
       "   'distro': 'humble',\n",
       "   'name': 'ros-humble-examples-rclpy-minimal-subscriber',\n",
       "   'count': 38986,\n",
       "   'date': '2023'},\n",
       "  {'package': 'examples-rclpy-minimal-action-client',\n",
       "   'distro': 'humble',\n",
       "   'name': 'ros-humble-examples-rclpy-minimal-action-client',\n",
       "   'count': 38957,\n",
       "   'date': '2023'},\n",
       "  {'package': 'action-tutorials-py',\n",
       "   'distro': 'humble',\n",
       "   'name': 'ros-humble-action-tutorials-py',\n",
       "   'count': 38909,\n",
       "   'date': '2023'},\n",
       "  {'package': 'pendulum-msgs',\n",
       "   'distro': 'humble',\n",
       "   'name': 'ros-humble-pendulum-msgs',\n",
       "   'count': 38878,\n",
       "   'date': '2023'},\n",
       "  {'package': 'examples-rclpy-executors',\n",
       "   'distro': 'humble',\n",
       "   'name': 'ros-humble-examples-rclpy-executors',\n",
       "   'count': 38875,\n",
       "   'date': '2023'},\n",
       "  {'package': 'action-tutorials-cpp',\n",
       "   'distro': 'humble',\n",
       "   'name': 'ros-humble-action-tutorials-cpp',\n",
       "   'count': 38874,\n",
       "   'date': '2023'},\n",
       "  {'package': 'topic-monitor',\n",
       "   'distro': 'humble',\n",
       "   'name': 'ros-humble-topic-monitor',\n",
       "   'count': 38865,\n",
       "   'date': '2023'},\n",
       "  {'package': 'image-tools',\n",
       "   'distro': 'humble',\n",
       "   'name': 'ros-humble-image-tools',\n",
       "   'count': 38861,\n",
       "   'date': '2023'},\n",
       "  {'package': 'gazebo-ros-pkgs',\n",
       "   'distro': 'noetic',\n",
       "   'name': 'ros-noetic-gazebo-ros-pkgs',\n",
       "   'count': 38855,\n",
       "   'date': '2023'},\n",
       "  {'package': 'dummy-map-server',\n",
       "   'distro': 'humble',\n",
       "   'name': 'ros-humble-dummy-map-server',\n",
       "   'count': 38851,\n",
       "   'date': '2023'},\n",
       "  {'package': 'examples-rclcpp-minimal-client',\n",
       "   'distro': 'humble',\n",
       "   'name': 'ros-humble-examples-rclcpp-minimal-client',\n",
       "   'count': 38846,\n",
       "   'date': '2023'},\n",
       "  {'package': 'examples-rclcpp-minimal-service',\n",
       "   'distro': 'humble',\n",
       "   'name': 'ros-humble-examples-rclcpp-minimal-service',\n",
       "   'count': 38837,\n",
       "   'date': '2023'},\n",
       "  {'package': 'rttest',\n",
       "   'distro': 'humble',\n",
       "   'name': 'ros-humble-rttest',\n",
       "   'count': 38832,\n",
       "   'date': '2023'},\n",
       "  {'package': 'quality-of-service-demo-py',\n",
       "   'distro': 'humble',\n",
       "   'name': 'ros-humble-quality-of-service-demo-py',\n",
       "   'count': 38810,\n",
       "   'date': '2023'},\n",
       "  {'package': 'lifecycle',\n",
       "   'distro': 'humble',\n",
       "   'name': 'ros-humble-lifecycle',\n",
       "   'count': 38808,\n",
       "   'date': '2023'},\n",
       "  {'package': 'tlsf-cpp',\n",
       "   'distro': 'humble',\n",
       "   'name': 'ros-humble-tlsf-cpp',\n",
       "   'count': 38779,\n",
       "   'date': '2023'},\n",
       "  {'package': 'composition',\n",
       "   'distro': 'humble',\n",
       "   'name': 'ros-humble-composition',\n",
       "   'count': 38773,\n",
       "   'date': '2023'},\n",
       "  {'package': 'rqt-bag',\n",
       "   'distro': 'noetic',\n",
       "   'name': 'ros-noetic-rqt-bag',\n",
       "   'count': 38763,\n",
       "   'date': '2023'},\n",
       "  {'package': 'dummy-sensors',\n",
       "   'distro': 'humble',\n",
       "   'name': 'ros-humble-dummy-sensors',\n",
       "   'count': 38753,\n",
       "   'date': '2023'},\n",
       "  {'package': 'examples-rclcpp-minimal-subscriber',\n",
       "   'distro': 'humble',\n",
       "   'name': 'ros-humble-examples-rclcpp-minimal-subscriber',\n",
       "   'count': 38740,\n",
       "   'date': '2023'},\n",
       "  {'package': 'examples-rclcpp-minimal-action-server',\n",
       "   'distro': 'humble',\n",
       "   'name': 'ros-humble-examples-rclcpp-minimal-action-server',\n",
       "   'count': 38739,\n",
       "   'date': '2023'},\n",
       "  {'package': 'examples-rclcpp-multithreaded-executor',\n",
       "   'distro': 'humble',\n",
       "   'name': 'ros-humble-examples-rclcpp-multithreaded-executor',\n",
       "   'count': 38735,\n",
       "   'date': '2023'},\n",
       "  {'package': 'examples-rclcpp-minimal-publisher',\n",
       "   'distro': 'humble',\n",
       "   'name': 'ros-humble-examples-rclcpp-minimal-publisher',\n",
       "   'count': 38733,\n",
       "   'date': '2023'},\n",
       "  {'package': 'depthimage-to-laserscan',\n",
       "   'distro': 'humble',\n",
       "   'name': 'ros-humble-depthimage-to-laserscan',\n",
       "   'count': 38733,\n",
       "   'date': '2023'},\n",
       "  {'package': 'examples-rclcpp-minimal-action-client',\n",
       "   'distro': 'humble',\n",
       "   'name': 'ros-humble-examples-rclcpp-minimal-action-client',\n",
       "   'count': 38732,\n",
       "   'date': '2023'},\n",
       "  {'package': 'demo-nodes-cpp-native',\n",
       "   'distro': 'humble',\n",
       "   'name': 'ros-humble-demo-nodes-cpp-native',\n",
       "   'count': 38731,\n",
       "   'date': '2023'},\n",
       "  {'package': 'examples-rclcpp-minimal-composition',\n",
       "   'distro': 'humble',\n",
       "   'name': 'ros-humble-examples-rclcpp-minimal-composition',\n",
       "   'count': 38725,\n",
       "   'date': '2023'},\n",
       "  {'package': 'examples-rclcpp-minimal-timer',\n",
       "   'distro': 'humble',\n",
       "   'name': 'ros-humble-examples-rclcpp-minimal-timer',\n",
       "   'count': 38722,\n",
       "   'date': '2023'},\n",
       "  {'package': 'pendulum-control',\n",
       "   'distro': 'humble',\n",
       "   'name': 'ros-humble-pendulum-control',\n",
       "   'count': 38720,\n",
       "   'date': '2023'},\n",
       "  {'package': 'dummy-robot-bringup',\n",
       "   'distro': 'humble',\n",
       "   'name': 'ros-humble-dummy-robot-bringup',\n",
       "   'count': 38699,\n",
       "   'date': '2023'},\n",
       "  {'package': 'quality-of-service-demo-cpp',\n",
       "   'distro': 'humble',\n",
       "   'name': 'ros-humble-quality-of-service-demo-cpp',\n",
       "   'count': 38686,\n",
       "   'date': '2023'},\n",
       "  {'package': 'intra-process-demo',\n",
       "   'distro': 'humble',\n",
       "   'name': 'ros-humble-intra-process-demo',\n",
       "   'count': 38660,\n",
       "   'date': '2023'},\n",
       "  {'package': 'generator',\n",
       "   'distro': 'rosinstall',\n",
       "   'name': 'python3-rosinstall-generator',\n",
       "   'count': 38351,\n",
       "   'date': '2023'},\n",
       "  {'package': 'image-rotate',\n",
       "   'distro': 'noetic',\n",
       "   'name': 'ros-noetic-image-rotate',\n",
       "   'count': 38321,\n",
       "   'date': '2023'},\n",
       "  {'package': 'roslint',\n",
       "   'distro': 'noetic',\n",
       "   'name': 'ros-noetic-roslint',\n",
       "   'count': 38114,\n",
       "   'date': '2023'},\n",
       "  {'package': 'image-pipeline',\n",
       "   'distro': 'noetic',\n",
       "   'name': 'ros-noetic-image-pipeline',\n",
       "   'count': 37971,\n",
       "   'date': '2023'},\n",
       "  {'package': 'ros-workspace',\n",
       "   'distro': 'humble',\n",
       "   'name': 'ros-humble-ros-workspace',\n",
       "   'count': 37940,\n",
       "   'date': '2023'},\n",
       "  {'package': 'diagnostic-analysis',\n",
       "   'distro': 'noetic',\n",
       "   'name': 'ros-noetic-diagnostic-analysis',\n",
       "   'count': 37903,\n",
       "   'date': '2023'},\n",
       "  {'package': 'qt-gui-py-common',\n",
       "   'distro': 'noetic',\n",
       "   'name': 'ros-noetic-qt-gui-py-common',\n",
       "   'count': 37784,\n",
       "   'date': '2023'},\n",
       "  {'package': 'rqt-image-view',\n",
       "   'distro': 'noetic',\n",
       "   'name': 'ros-noetic-rqt-image-view',\n",
       "   'count': 37767,\n",
       "   'date': '2023'},\n",
       "  {'package': 'laser-assembler',\n",
       "   'distro': 'noetic',\n",
       "   'name': 'ros-noetic-laser-assembler',\n",
       "   'count': 37739,\n",
       "   'date': '2023'},\n",
       "  {'package': 'rqt-graph',\n",
       "   'distro': 'noetic',\n",
       "   'name': 'ros-noetic-rqt-graph',\n",
       "   'count': 37670,\n",
       "   'date': '2023'},\n",
       "  {'package': 'compressed-image-transport',\n",
       "   'distro': 'noetic',\n",
       "   'name': 'ros-noetic-compressed-image-transport',\n",
       "   'count': 37511,\n",
       "   'date': '2023'},\n",
       "  {'package': 'self-test',\n",
       "   'distro': 'noetic',\n",
       "   'name': 'ros-noetic-self-test',\n",
       "   'count': 37501,\n",
       "   'date': '2023'},\n",
       "  {'package': 'rqt-plot',\n",
       "   'distro': 'noetic',\n",
       "   'name': 'ros-noetic-rqt-plot',\n",
       "   'count': 37377,\n",
       "   'date': '2023'},\n",
       "  {'package': 'perception-pcl',\n",
       "   'distro': 'noetic',\n",
       "   'name': 'ros-noetic-perception-pcl',\n",
       "   'count': 37241,\n",
       "   'date': '2023'},\n",
       "  {'package': 'smach-ros',\n",
       "   'distro': 'noetic',\n",
       "   'name': 'ros-noetic-smach-ros',\n",
       "   'count': 37181,\n",
       "   'date': '2023'},\n",
       "  {'package': 'qt-dotgraph',\n",
       "   'distro': 'noetic',\n",
       "   'name': 'ros-noetic-qt-dotgraph',\n",
       "   'count': 37014,\n",
       "   'date': '2023'},\n",
       "  {'package': 'rqt-service-caller',\n",
       "   'distro': 'noetic',\n",
       "   'name': 'ros-noetic-rqt-service-caller',\n",
       "   'count': 36988,\n",
       "   'date': '2023'},\n",
       "  {'package': 'laser-pipeline',\n",
       "   'distro': 'noetic',\n",
       "   'name': 'ros-noetic-laser-pipeline',\n",
       "   'count': 36968,\n",
       "   'date': '2023'},\n",
       "  {'package': 'rqt-topic',\n",
       "   'distro': 'noetic',\n",
       "   'name': 'ros-noetic-rqt-topic',\n",
       "   'count': 36927,\n",
       "   'date': '2023'},\n",
       "  {'package': 'perception',\n",
       "   'distro': 'noetic',\n",
       "   'name': 'ros-noetic-perception',\n",
       "   'count': 36804,\n",
       "   'date': '2023'},\n",
       "  {'package': 'rqt-shell',\n",
       "   'distro': 'noetic',\n",
       "   'name': 'ros-noetic-rqt-shell',\n",
       "   'count': 36745,\n",
       "   'date': '2023'},\n",
       "  {'package': 'vision-opencv',\n",
       "   'distro': 'noetic',\n",
       "   'name': 'ros-noetic-vision-opencv',\n",
       "   'count': 36727,\n",
       "   'date': '2023'},\n",
       "  {'package': 'rqt-top',\n",
       "   'distro': 'noetic',\n",
       "   'name': 'ros-noetic-rqt-top',\n",
       "   'count': 36716,\n",
       "   'date': '2023'},\n",
       "  {'package': 'rqt-bag-plugins',\n",
       "   'distro': 'noetic',\n",
       "   'name': 'ros-noetic-rqt-bag-plugins',\n",
       "   'count': 36709,\n",
       "   'date': '2023'},\n",
       "  {'package': 'smach-msgs',\n",
       "   'distro': 'noetic',\n",
       "   'name': 'ros-noetic-smach-msgs',\n",
       "   'count': 36697,\n",
       "   'date': '2023'},\n",
       "  {'package': 'rqt-publisher',\n",
       "   'distro': 'noetic',\n",
       "   'name': 'ros-noetic-rqt-publisher',\n",
       "   'count': 36695,\n",
       "   'date': '2023'},\n",
       "  {'package': 'rqt-dep',\n",
       "   'distro': 'noetic',\n",
       "   'name': 'ros-noetic-rqt-dep',\n",
       "   'count': 36690,\n",
       "   'date': '2023'},\n",
       "  {'package': 'rqt-py-console',\n",
       "   'distro': 'noetic',\n",
       "   'name': 'ros-noetic-rqt-py-console',\n",
       "   'count': 36690,\n",
       "   'date': '2023'},\n",
       "  {'package': 'rqt-web',\n",
       "   'distro': 'noetic',\n",
       "   'name': 'ros-noetic-rqt-web',\n",
       "   'count': 36675,\n",
       "   'date': '2023'},\n",
       "  {'package': 'stage-ros',\n",
       "   'distro': 'noetic',\n",
       "   'name': 'ros-noetic-stage-ros',\n",
       "   'count': 36662,\n",
       "   'date': '2023'},\n",
       "  {'package': 'xacro',\n",
       "   'distro': 'humble',\n",
       "   'name': 'ros-humble-xacro',\n",
       "   'count': 36588,\n",
       "   'date': '2023'},\n",
       "  {'package': 'smach',\n",
       "   'distro': 'noetic',\n",
       "   'name': 'ros-noetic-smach',\n",
       "   'count': 36569,\n",
       "   'date': '2023'},\n",
       "  {'package': 'turtlesim',\n",
       "   'distro': 'noetic',\n",
       "   'name': 'ros-noetic-turtlesim',\n",
       "   'count': 36470,\n",
       "   'date': '2023'},\n",
       "  {'package': 'rqt-robot-steering',\n",
       "   'distro': 'noetic',\n",
       "   'name': 'ros-noetic-rqt-robot-steering',\n",
       "   'count': 36386,\n",
       "   'date': '2023'},\n",
       "  {'package': 'actionlib-tutorials',\n",
       "   'distro': 'noetic',\n",
       "   'name': 'ros-noetic-actionlib-tutorials',\n",
       "   'count': 36139,\n",
       "   'date': '2023'},\n",
       "  {'package': 'ament-cmake-export-libraries',\n",
       "   'distro': 'humble',\n",
       "   'name': 'ros-humble-ament-cmake-export-libraries',\n",
       "   'count': 36107,\n",
       "   'date': '2023'},\n",
       "  {'package': 'ament-cmake-export-include-directories',\n",
       "   'distro': 'humble',\n",
       "   'name': 'ros-humble-ament-cmake-export-include-directories',\n",
       "   'count': 36103,\n",
       "   'date': '2023'},\n",
       "  {'package': 'ament-cmake-export-link-flags',\n",
       "   'distro': 'humble',\n",
       "   'name': 'ros-humble-ament-cmake-export-link-flags',\n",
       "   'count': 36102,\n",
       "   'date': '2023'},\n",
       "  {'package': 'ament-cmake-export-dependencies',\n",
       "   'distro': 'humble',\n",
       "   'name': 'ros-humble-ament-cmake-export-dependencies',\n",
       "   'count': 36100,\n",
       "   'date': '2023'},\n",
       "  {'package': 'ament-cmake-export-definitions',\n",
       "   'distro': 'humble',\n",
       "   'name': 'ros-humble-ament-cmake-export-definitions',\n",
       "   'count': 36096,\n",
       "   'date': '2023'},\n",
       "  {'package': 'ament-cmake-core',\n",
       "   'distro': 'humble',\n",
       "   'name': 'ros-humble-ament-cmake-core',\n",
       "   'count': 36093,\n",
       "   'date': '2023'},\n",
       "  {'package': 'ament-cmake-libraries',\n",
       "   'distro': 'humble',\n",
       "   'name': 'ros-humble-ament-cmake-libraries',\n",
       "   'count': 36093,\n",
       "   'date': '2023'},\n",
       "  {'package': 'ament-cmake-export-targets',\n",
       "   'distro': 'humble',\n",
       "   'name': 'ros-humble-ament-cmake-export-targets',\n",
       "   'count': 36089,\n",
       "   'date': '2023'},\n",
       "  {'package': 'ament-cmake-export-interfaces',\n",
       "   'distro': 'humble',\n",
       "   'name': 'ros-humble-ament-cmake-export-interfaces',\n",
       "   'count': 36088,\n",
       "   'date': '2023'},\n",
       "  {'package': 'ament-cmake-gen-version-h',\n",
       "   'distro': 'humble',\n",
       "   'name': 'ros-humble-ament-cmake-gen-version-h',\n",
       "   'count': 36082,\n",
       "   'date': '2023'},\n",
       "  {'package': 'ament-cmake-python',\n",
       "   'distro': 'humble',\n",
       "   'name': 'ros-humble-ament-cmake-python',\n",
       "   'count': 36077,\n",
       "   'date': '2023'},\n",
       "  {'package': 'ament-cmake-test',\n",
       "   'distro': 'humble',\n",
       "   'name': 'ros-humble-ament-cmake-test',\n",
       "   'count': 36076,\n",
       "   'date': '2023'},\n",
       "  {'package': 'ament-cmake',\n",
       "   'distro': 'humble',\n",
       "   'name': 'ros-humble-ament-cmake',\n",
       "   'count': 36074,\n",
       "   'date': '2023'},\n",
       "  {'package': 'ament-cmake-include-directories',\n",
       "   'distro': 'humble',\n",
       "   'name': 'ros-humble-ament-cmake-include-directories',\n",
       "   'count': 36071,\n",
       "   'date': '2023'},\n",
       "  {'package': 'ament-cmake-target-dependencies',\n",
       "   'distro': 'humble',\n",
       "   'name': 'ros-humble-ament-cmake-target-dependencies',\n",
       "   'count': 36069,\n",
       "   'date': '2023'},\n",
       "  {'package': 'ament-cmake-version',\n",
       "   'distro': 'humble',\n",
       "   'name': 'ros-humble-ament-cmake-version',\n",
       "   'count': 36060,\n",
       "   'date': '2023'},\n",
       "  {'package': 'image-view',\n",
       "   'distro': 'noetic',\n",
       "   'name': 'ros-noetic-image-view',\n",
       "   'count': 36004,\n",
       "   'date': '2023'},\n",
       "  {'package': 'roscpp-tutorials',\n",
       "   'distro': 'noetic',\n",
       "   'name': 'ros-noetic-roscpp-tutorials',\n",
       "   'count': 35891,\n",
       "   'date': '2023'},\n",
       "  {'package': 'fastcdr',\n",
       "   'distro': 'humble',\n",
       "   'name': 'ros-humble-fastcdr',\n",
       "   'count': 35875,\n",
       "   'date': '2023'},\n",
       "  {'package': 'ament-cmake-gtest',\n",
       "   'distro': 'humble',\n",
       "   'name': 'ros-humble-ament-cmake-gtest',\n",
       "   'count': 35869,\n",
       "   'date': '2023'},\n",
       "  {'package': 'ament-cmake-pytest',\n",
       "   'distro': 'humble',\n",
       "   'name': 'ros-humble-ament-cmake-pytest',\n",
       "   'count': 35839,\n",
       "   'date': '2023'},\n",
       "  {'package': 'ament-cmake-gmock',\n",
       "   'distro': 'humble',\n",
       "   'name': 'ros-humble-ament-cmake-gmock',\n",
       "   'count': 35820,\n",
       "   'date': '2023'},\n",
       "  {'package': 'compressed-depth-image-transport',\n",
       "   'distro': 'noetic',\n",
       "   'name': 'ros-noetic-compressed-depth-image-transport',\n",
       "   'count': 35808,\n",
       "   'date': '2023'},\n",
       "  {'package': 'gtest-vendor',\n",
       "   'distro': 'humble',\n",
       "   'name': 'ros-humble-gtest-vendor',\n",
       "   'count': 35784,\n",
       "   'date': '2023'},\n",
       "  {'package': 'gmock-vendor',\n",
       "   'distro': 'humble',\n",
       "   'name': 'ros-humble-gmock-vendor',\n",
       "   'count': 35739,\n",
       "   'date': '2023'},\n",
       "  {'package': 'executive-smach',\n",
       "   'distro': 'noetic',\n",
       "   'name': 'ros-noetic-executive-smach',\n",
       "   'count': 35578,\n",
       "   'date': '2023'},\n",
       "  {'package': 'desktop',\n",
       "   'distro': 'humble',\n",
       "   'name': 'ros-humble-desktop',\n",
       "   'count': 35560,\n",
       "   'date': '2023'},\n",
       "  {'package': 'theora-image-transport',\n",
       "   'distro': 'noetic',\n",
       "   'name': 'ros-noetic-theora-image-transport',\n",
       "   'count': 35537,\n",
       "   'date': '2023'},\n",
       "  {'package': 'yaml-cpp-vendor',\n",
       "   'distro': 'humble',\n",
       "   'name': 'ros-humble-yaml-cpp-vendor',\n",
       "   'count': 35514,\n",
       "   'date': '2023'},\n",
       "  {'package': 'common-tutorials',\n",
       "   'distro': 'noetic',\n",
       "   'name': 'ros-noetic-common-tutorials',\n",
       "   'count': 35485,\n",
       "   'date': '2023'},\n",
       "  {'package': 'nodelet-tutorial-math',\n",
       "   'distro': 'noetic',\n",
       "   'name': 'ros-noetic-nodelet-tutorial-math',\n",
       "   'count': 35477,\n",
       "   'date': '2023'},\n",
       "  {'package': 'pluginlib-tutorials',\n",
       "   'distro': 'noetic',\n",
       "   'name': 'ros-noetic-pluginlib-tutorials',\n",
       "   'count': 35476,\n",
       "   'date': '2023'},\n",
       "  {'package': 'turtle-actionlib',\n",
       "   'distro': 'noetic',\n",
       "   'name': 'ros-noetic-turtle-actionlib',\n",
       "   'count': 35457,\n",
       "   'date': '2023'},\n",
       "  {'package': 'polled-camera',\n",
       "   'distro': 'noetic',\n",
       "   'name': 'ros-noetic-polled-camera',\n",
       "   'count': 35444,\n",
       "   'date': '2023'},\n",
       "  {'package': 'ros-tutorials',\n",
       "   'distro': 'noetic',\n",
       "   'name': 'ros-noetic-ros-tutorials',\n",
       "   'count': 35431,\n",
       "   'date': '2023'},\n",
       "  {'package': 'image-transport-plugins',\n",
       "   'distro': 'noetic',\n",
       "   'name': 'ros-noetic-image-transport-plugins',\n",
       "   'count': 34834,\n",
       "   'date': '2023'},\n",
       "  {'package': 'tinyxml-vendor',\n",
       "   'distro': 'humble',\n",
       "   'name': 'ros-humble-tinyxml-vendor',\n",
       "   'count': 34805,\n",
       "   'date': '2023'},\n",
       "  {'package': 'urdfdom-headers',\n",
       "   'distro': 'humble',\n",
       "   'name': 'ros-humble-urdfdom-headers',\n",
       "   'count': 34794,\n",
       "   'date': '2023'},\n",
       "  {'package': 'visualization-marker-tutorials',\n",
       "   'distro': 'noetic',\n",
       "   'name': 'ros-noetic-visualization-marker-tutorials',\n",
       "   'count': 34767,\n",
       "   'date': '2023'},\n",
       "  {'package': 'ros-environment',\n",
       "   'distro': 'humble',\n",
       "   'name': 'ros-humble-ros-environment',\n",
       "   'count': 34553,\n",
       "   'date': '2023'},\n",
       "  {'package': 'installed-package-information',\n",
       "   'distro': 'colcon',\n",
       "   'name': 'python3-colcon-installed-package-information',\n",
       "   'count': 34519,\n",
       "   'date': '2023'},\n",
       "  {'package': 'override-check',\n",
       "   'distro': 'colcon',\n",
       "   'name': 'python3-colcon-override-check',\n",
       "   'count': 34484,\n",
       "   'date': '2023'},\n",
       "  {'package': '',\n",
       "   'distro': 'bloom',\n",
       "   'name': 'python3-bloom',\n",
       "   'count': 34474,\n",
       "   'date': '2023'},\n",
       "  {'package': 'image-publisher',\n",
       "   'distro': 'noetic',\n",
       "   'name': 'ros-noetic-image-publisher',\n",
       "   'count': 34411,\n",
       "   'date': '2023'},\n",
       "  {'package': 'osrf-pycommon',\n",
       "   'distro': 'humble',\n",
       "   'name': 'ros-humble-osrf-pycommon',\n",
       "   'count': 34058,\n",
       "   'date': '2023'},\n",
       "  {'package': 'tinyxml2-vendor',\n",
       "   'distro': 'humble',\n",
       "   'name': 'ros-humble-tinyxml2-vendor',\n",
       "   'count': 33864,\n",
       "   'date': '2023'},\n",
       "  {'package': 'ament-package',\n",
       "   'distro': 'humble',\n",
       "   'name': 'ros-humble-ament-package',\n",
       "   'count': 33672,\n",
       "   'date': '2023'},\n",
       "  {'package': 'uncrustify-vendor',\n",
       "   'distro': 'humble',\n",
       "   'name': 'ros-humble-uncrustify-vendor',\n",
       "   'count': 33552,\n",
       "   'date': '2023'},\n",
       "  {'package': 'gazebo-dev',\n",
       "   'distro': 'noetic',\n",
       "   'name': 'ros-noetic-gazebo-dev',\n",
       "   'count': 33027,\n",
       "   'date': '2023'},\n",
       "  {'package': 'pybind11-vendor',\n",
       "   'distro': 'humble',\n",
       "   'name': 'ros-humble-pybind11-vendor',\n",
       "   'count': 32846,\n",
       "   'date': '2023'},\n",
       "  {'package': 'camera-calibration',\n",
       "   'distro': 'noetic',\n",
       "   'name': 'ros-noetic-camera-calibration',\n",
       "   'count': 32424,\n",
       "   'date': '2023'},\n",
       "  {'package': 'stereo-image-proc',\n",
       "   'distro': 'noetic',\n",
       "   'name': 'ros-noetic-stereo-image-proc',\n",
       "   'count': 31960,\n",
       "   'date': '2023'},\n",
       "  {'package': 'sdl2-vendor',\n",
       "   'distro': 'humble',\n",
       "   'name': 'ros-humble-sdl2-vendor',\n",
       "   'count': 31317,\n",
       "   'date': '2023'},\n",
       "  {'package': 'ament-cmake-auto',\n",
       "   'distro': 'humble',\n",
       "   'name': 'ros-humble-ament-cmake-auto',\n",
       "   'count': 31090,\n",
       "   'date': '2023'},\n",
       "  {'package': 'image-common',\n",
       "   'distro': 'noetic',\n",
       "   'name': 'ros-noetic-image-common',\n",
       "   'count': 30823,\n",
       "   'date': '2023'},\n",
       "  {'package': 'qwt-dependency',\n",
       "   'distro': 'noetic',\n",
       "   'name': 'ros-noetic-qwt-dependency',\n",
       "   'count': 30372,\n",
       "   'date': '2023'},\n",
       "  {'package': 'tools',\n",
       "   'distro': 'dev',\n",
       "   'name': 'ros-dev-tools',\n",
       "   'count': 29921,\n",
       "   'date': '2023'},\n",
       "  {'package': 'diagnostic-updater',\n",
       "   'distro': 'humble',\n",
       "   'name': 'ros-humble-diagnostic-updater',\n",
       "   'count': 29854,\n",
       "   'date': '2023'},\n",
       "  {'package': 'essential',\n",
       "   'distro': 'build',\n",
       "   'name': 'ros-build-essential',\n",
       "   'count': 29807,\n",
       "   'date': '2023'},\n",
       "  {'package': 'webkit-dependency',\n",
       "   'distro': 'noetic',\n",
       "   'name': 'ros-noetic-webkit-dependency',\n",
       "   'count': 29288,\n",
       "   'date': '2023'},\n",
       "  {'package': 'gl-dependency',\n",
       "   'distro': 'noetic',\n",
       "   'name': 'ros-noetic-gl-dependency',\n",
       "   'count': 28807,\n",
       "   'date': '2023'},\n",
       "  {'package': 'urdf-parser-plugin',\n",
       "   'distro': 'noetic',\n",
       "   'name': 'ros-noetic-urdf-parser-plugin',\n",
       "   'count': 28586,\n",
       "   'date': '2023'},\n",
       "  {'package': 'controller-manager-msgs',\n",
       "   'distro': 'humble',\n",
       "   'name': 'ros-humble-controller-manager-msgs',\n",
       "   'count': 28485,\n",
       "   'date': '2023'},\n",
       "  {'package': 'control-msgs',\n",
       "   'distro': 'humble',\n",
       "   'name': 'ros-humble-control-msgs',\n",
       "   'count': 26931,\n",
       "   'date': '2023'},\n",
       "  {'package': 'octomap-msgs',\n",
       "   'distro': 'noetic',\n",
       "   'name': 'ros-noetic-octomap-msgs',\n",
       "   'count': 26488,\n",
       "   'date': '2023'},\n",
       "  {'package': 'hardware-interface',\n",
       "   'distro': 'humble',\n",
       "   'name': 'ros-humble-hardware-interface',\n",
       "   'count': 25133,\n",
       "   'date': '2023'},\n",
       "  {'package': 'ros2-control-test-assets',\n",
       "   'distro': 'humble',\n",
       "   'name': 'ros-humble-ros2-control-test-assets',\n",
       "   'count': 24901,\n",
       "   'date': '2023'},\n",
       "  {'package': 'controller-interface',\n",
       "   'distro': 'humble',\n",
       "   'name': 'ros-humble-controller-interface',\n",
       "   'count': 24854,\n",
       "   'date': '2023'},\n",
       "  {'package': 'joint-state-publisher',\n",
       "   'distro': 'humble',\n",
       "   'name': 'ros-humble-joint-state-publisher',\n",
       "   'count': 24715,\n",
       "   'date': '2023'},\n",
       "  {'package': 'controller-manager',\n",
       "   'distro': 'humble',\n",
       "   'name': 'ros-humble-controller-manager',\n",
       "   'count': 24688,\n",
       "   'date': '2023'},\n",
       "  {'package': 'stage',\n",
       "   'distro': 'noetic',\n",
       "   'name': 'ros-noetic-stage',\n",
       "   'count': 24275,\n",
       "   'date': '2023'},\n",
       "  {'package': 'octomap',\n",
       "   'distro': 'noetic',\n",
       "   'name': 'ros-noetic-octomap',\n",
       "   'count': 23816,\n",
       "   'date': '2023'},\n",
       "  {'package': 'uuid-msgs',\n",
       "   'distro': 'noetic',\n",
       "   'name': 'ros-noetic-uuid-msgs',\n",
       "   'count': 23805,\n",
       "   'date': '2023'},\n",
       "  {'package': 'camera-calibration-parsers',\n",
       "   'distro': 'humble',\n",
       "   'name': 'ros-humble-camera-calibration-parsers',\n",
       "   'count': 23549,\n",
       "   'date': '2023'},\n",
       "  {'package': 'urdfdom-py',\n",
       "   'distro': 'noetic',\n",
       "   'name': 'ros-noetic-urdfdom-py',\n",
       "   'count': 23053,\n",
       "   'date': '2023'},\n",
       "  {'package': 'nav2-msgs',\n",
       "   'distro': 'humble',\n",
       "   'name': 'ros-humble-nav2-msgs',\n",
       "   'count': 23036,\n",
       "   'date': '2023'},\n",
       "  {'package': 'camera-info-manager',\n",
       "   'distro': 'humble',\n",
       "   'name': 'ros-humble-camera-info-manager',\n",
       "   'count': 23033,\n",
       "   'date': '2023'},\n",
       "  {'package': 'realtime-tools',\n",
       "   'distro': 'humble',\n",
       "   'name': 'ros-humble-realtime-tools',\n",
       "   'count': 22571,\n",
       "   'date': '2023'},\n",
       "  {'package': 'generate-parameter-library-py',\n",
       "   'distro': 'humble',\n",
       "   'name': 'ros-humble-generate-parameter-library-py',\n",
       "   'count': 22498,\n",
       "   'date': '2023'},\n",
       "  {'package': 'geographic-msgs',\n",
       "   'distro': 'noetic',\n",
       "   'name': 'ros-noetic-geographic-msgs',\n",
       "   'count': 22444,\n",
       "   'date': '2023'},\n",
       "  {'package': 'generate-parameter-library',\n",
       "   'distro': 'humble',\n",
       "   'name': 'ros-humble-generate-parameter-library',\n",
       "   'count': 22434,\n",
       "   'date': '2023'},\n",
       "  {'package': 'parameter-traits',\n",
       "   'distro': 'humble',\n",
       "   'name': 'ros-humble-parameter-traits',\n",
       "   'count': 22419,\n",
       "   'date': '2023'},\n",
       "  {'package': 'rsl',\n",
       "   'distro': 'humble',\n",
       "   'name': 'ros-humble-rsl',\n",
       "   'count': 22412,\n",
       "   'date': '2023'},\n",
       "  {'package': 'nav2-common',\n",
       "   'distro': 'humble',\n",
       "   'name': 'ros-humble-nav2-common',\n",
       "   'count': 22226,\n",
       "   'date': '2023'},\n",
       "  {'package': 'joint-state-broadcaster',\n",
       "   'distro': 'humble',\n",
       "   'name': 'ros-humble-joint-state-broadcaster',\n",
       "   'count': 22044,\n",
       "   'date': '2023'},\n",
       "  {'package': 'joy',\n",
       "   'distro': 'noetic',\n",
       "   'name': 'ros-noetic-joy',\n",
       "   'count': 22002,\n",
       "   'date': '2023'},\n",
       "  {'package': 'nav2-util',\n",
       "   'distro': 'humble',\n",
       "   'name': 'ros-humble-nav2-util',\n",
       "   'count': 21904,\n",
       "   'date': '2023'},\n",
       "  {'package': 'joint-trajectory-controller',\n",
       "   'distro': 'humble',\n",
       "   'name': 'ros-humble-joint-trajectory-controller',\n",
       "   'count': 21322,\n",
       "   'date': '2023'},\n",
       "  {'package': 'nav2-voxel-grid',\n",
       "   'distro': 'humble',\n",
       "   'name': 'ros-humble-nav2-voxel-grid',\n",
       "   'count': 21100,\n",
       "   'date': '2023'},\n",
       "  {'package': 'nav2-costmap-2d',\n",
       "   'distro': 'humble',\n",
       "   'name': 'ros-humble-nav2-costmap-2d',\n",
       "   'count': 21078,\n",
       "   'date': '2023'},\n",
       "  {'package': 'tf2-sensor-msgs',\n",
       "   'distro': 'noetic',\n",
       "   'name': 'ros-noetic-tf2-sensor-msgs',\n",
       "   'count': 20876,\n",
       "   'date': '2023'},\n",
       "  {'package': 'bond',\n",
       "   'distro': 'humble',\n",
       "   'name': 'ros-humble-bond',\n",
       "   'count': 20706,\n",
       "   'date': '2023'},\n",
       "  {'package': 'behaviortree-cpp-v3',\n",
       "   'distro': 'humble',\n",
       "   'name': 'ros-humble-behaviortree-cpp-v3',\n",
       "   'count': 20612,\n",
       "   'date': '2023'},\n",
       "  {'package': 'smclib',\n",
       "   'distro': 'humble',\n",
       "   'name': 'ros-humble-smclib',\n",
       "   'count': 20336,\n",
       "   'date': '2023'},\n",
       "  {'package': 'bondcpp',\n",
       "   'distro': 'humble',\n",
       "   'name': 'ros-humble-bondcpp',\n",
       "   'count': 20226,\n",
       "   'date': '2023'},\n",
       "  {'package': 'control-toolbox',\n",
       "   'distro': 'humble',\n",
       "   'name': 'ros-humble-control-toolbox',\n",
       "   'count': 20117,\n",
       "   'date': '2023'},\n",
       "  {'package': 'joint-state-publisher-gui',\n",
       "   'distro': 'humble',\n",
       "   'name': 'ros-humble-joint-state-publisher-gui',\n",
       "   'count': 20075,\n",
       "   'date': '2023'},\n",
       "  {'package': 'moveit-core',\n",
       "   'distro': 'noetic',\n",
       "   'name': 'ros-noetic-moveit-core',\n",
       "   'count': 19927,\n",
       "   'date': '2023'},\n",
       "  {'package': 'filters',\n",
       "   'distro': 'humble',\n",
       "   'name': 'ros-humble-filters',\n",
       "   'count': 19577,\n",
       "   'date': '2023'},\n",
       "  {'package': 'moveit-msgs',\n",
       "   'distro': 'noetic',\n",
       "   'name': 'ros-noetic-moveit-msgs',\n",
       "   'count': 19571,\n",
       "   'date': '2023'},\n",
       "  {'package': 'object-recognition-msgs',\n",
       "   'distro': 'noetic',\n",
       "   'name': 'ros-noetic-object-recognition-msgs',\n",
       "   'count': 19370,\n",
       "   'date': '2023'},\n",
       "  {'package': 'costmap-2d',\n",
       "   'distro': 'noetic',\n",
       "   'name': 'ros-noetic-costmap-2d',\n",
       "   'count': 19276,\n",
       "   'date': '2023'},\n",
       "  {'package': 'forward-command-controller',\n",
       "   'distro': 'humble',\n",
       "   'name': 'ros-humble-forward-command-controller',\n",
       "   'count': 19272,\n",
       "   'date': '2023'},\n",
       "  {'package': 'moveit-ros-planning',\n",
       "   'distro': 'noetic',\n",
       "   'name': 'ros-noetic-moveit-ros-planning',\n",
       "   'count': 19220,\n",
       "   'date': '2023'},\n",
       "  {'package': 'moveit-ros-occupancy-map-monitor',\n",
       "   'distro': 'noetic',\n",
       "   'name': 'ros-noetic-moveit-ros-occupancy-map-monitor',\n",
       "   'count': 19198,\n",
       "   'date': '2023'},\n",
       "  {'package': 'compressed-image-transport',\n",
       "   'distro': 'humble',\n",
       "   'name': 'ros-humble-compressed-image-transport',\n",
       "   'count': 19109,\n",
       "   'date': '2023'},\n",
       "  {'package': 'nav2-map-server',\n",
       "   'distro': 'humble',\n",
       "   'name': 'ros-humble-nav2-map-server',\n",
       "   'count': 19067,\n",
       "   'date': '2023'},\n",
       "  {'package': 'gazebo-msgs',\n",
       "   'distro': 'humble',\n",
       "   'name': 'ros-humble-gazebo-msgs',\n",
       "   'count': 18808,\n",
       "   'date': '2023'},\n",
       "  {'package': 'nav-2d-msgs',\n",
       "   'distro': 'humble',\n",
       "   'name': 'ros-humble-nav-2d-msgs',\n",
       "   'count': 18793,\n",
       "   'date': '2023'},\n",
       "  {'package': 'nav2-lifecycle-manager',\n",
       "   'distro': 'humble',\n",
       "   'name': 'ros-humble-nav2-lifecycle-manager',\n",
       "   'count': 18650,\n",
       "   'date': '2023'},\n",
       "  {'package': 'pybind11-catkin',\n",
       "   'distro': 'noetic',\n",
       "   'name': 'ros-noetic-pybind11-catkin',\n",
       "   'count': 18575,\n",
       "   'date': '2023'},\n",
       "  {'package': 'geometric-shapes',\n",
       "   'distro': 'noetic',\n",
       "   'name': 'ros-noetic-geometric-shapes',\n",
       "   'count': 18507,\n",
       "   'date': '2023'},\n",
       "  {'package': 'warehouse-ros',\n",
       "   'distro': 'noetic',\n",
       "   'name': 'ros-noetic-warehouse-ros',\n",
       "   'count': 18460,\n",
       "   'date': '2023'},\n",
       "  {'package': 'nav2-core',\n",
       "   'distro': 'humble',\n",
       "   'name': 'ros-humble-nav2-core',\n",
       "   'count': 18424,\n",
       "   'date': '2023'},\n",
       "  {'package': 'rmw-cyclonedds-cpp',\n",
       "   'distro': 'humble',\n",
       "   'name': 'ros-humble-rmw-cyclonedds-cpp',\n",
       "   'count': 18353,\n",
       "   'date': '2023'},\n",
       "  {'package': 'nav2-behavior-tree',\n",
       "   'distro': 'humble',\n",
       "   'name': 'ros-humble-nav2-behavior-tree',\n",
       "   'count': 18346,\n",
       "   'date': '2023'},\n",
       "  {'package': 'dwb-msgs',\n",
       "   'distro': 'humble',\n",
       "   'name': 'ros-humble-dwb-msgs',\n",
       "   'count': 18332,\n",
       "   'date': '2023'},\n",
       "  {'package': 'nav-2d-utils',\n",
       "   'distro': 'humble',\n",
       "   'name': 'ros-humble-nav-2d-utils',\n",
       "   'count': 18278,\n",
       "   'date': '2023'},\n",
       "  {'package': 'dwb-core',\n",
       "   'distro': 'humble',\n",
       "   'name': 'ros-humble-dwb-core',\n",
       "   'count': 18224,\n",
       "   'date': '2023'},\n",
       "  {'package': 'srdfdom',\n",
       "   'distro': 'noetic',\n",
       "   'name': 'ros-noetic-srdfdom',\n",
       "   'count': 18222,\n",
       "   'date': '2023'},\n",
       "  {'package': 'costmap-queue',\n",
       "   'distro': 'humble',\n",
       "   'name': 'ros-humble-costmap-queue',\n",
       "   'count': 18207,\n",
       "   'date': '2023'},\n",
       "  {'package': 'nav2-controller',\n",
       "   'distro': 'humble',\n",
       "   'name': 'ros-humble-nav2-controller',\n",
       "   'count': 18202,\n",
       "   'date': '2023'},\n",
       "  {'package': 'nav2-rviz-plugins',\n",
       "   'distro': 'humble',\n",
       "   'name': 'ros-humble-nav2-rviz-plugins',\n",
       "   'count': 18195,\n",
       "   'date': '2023'},\n",
       "  {'package': 'dwb-critics',\n",
       "   'distro': 'humble',\n",
       "   'name': 'ros-humble-dwb-critics',\n",
       "   'count': 18191,\n",
       "   'date': '2023'},\n",
       "  {'package': 'nav2-bt-navigator',\n",
       "   'distro': 'humble',\n",
       "   'name': 'ros-humble-nav2-bt-navigator',\n",
       "   'count': 18179,\n",
       "   'date': '2023'},\n",
       "  {'package': 'nav2-planner',\n",
       "   'distro': 'humble',\n",
       "   'name': 'ros-humble-nav2-planner',\n",
       "   'count': 18170,\n",
       "   'date': '2023'},\n",
       "  {'package': 'nav2-behaviors',\n",
       "   'distro': 'humble',\n",
       "   'name': 'ros-humble-nav2-behaviors',\n",
       "   'count': 18141,\n",
       "   'date': '2023'},\n",
       "  {'package': 'nav2-navfn-planner',\n",
       "   'distro': 'humble',\n",
       "   'name': 'ros-humble-nav2-navfn-planner',\n",
       "   'count': 18131,\n",
       "   'date': '2023'},\n",
       "  {'package': 'nav2-smac-planner',\n",
       "   'distro': 'humble',\n",
       "   'name': 'ros-humble-nav2-smac-planner',\n",
       "   'count': 18120,\n",
       "   'date': '2023'},\n",
       "  {'package': 'ros2controlcli',\n",
       "   'distro': 'humble',\n",
       "   'name': 'ros-humble-ros2controlcli',\n",
       "   'count': 18095,\n",
       "   'date': '2023'},\n",
       "  {'package': 'dwb-plugins',\n",
       "   'distro': 'humble',\n",
       "   'name': 'ros-humble-dwb-plugins',\n",
       "   'count': 18079,\n",
       "   'date': '2023'},\n",
       "  {'package': 'nav2-collision-monitor',\n",
       "   'distro': 'humble',\n",
       "   'name': 'ros-humble-nav2-collision-monitor',\n",
       "   'count': 18078,\n",
       "   'date': '2023'},\n",
       "  {'package': 'nav2-regulated-pure-pursuit-controller',\n",
       "   'distro': 'humble',\n",
       "   'name': 'ros-humble-nav2-regulated-pure-pursuit-controller',\n",
       "   'count': 18054,\n",
       "   'date': '2023'},\n",
       "  {'package': 'nav2-rotation-shim-controller',\n",
       "   'distro': 'humble',\n",
       "   'name': 'ros-humble-nav2-rotation-shim-controller',\n",
       "   'count': 18036,\n",
       "   'date': '2023'},\n",
       "  {'package': 'nav2-dwb-controller',\n",
       "   'distro': 'humble',\n",
       "   'name': 'ros-humble-nav2-dwb-controller',\n",
       "   'count': 18032,\n",
       "   'date': '2023'},\n",
       "  {'package': 'nav2-smoother',\n",
       "   'distro': 'humble',\n",
       "   'name': 'ros-humble-nav2-smoother',\n",
       "   'count': 18019,\n",
       "   'date': '2023'},\n",
       "  {'package': 'nav2-amcl',\n",
       "   'distro': 'humble',\n",
       "   'name': 'ros-humble-nav2-amcl',\n",
       "   'count': 18016,\n",
       "   'date': '2023'},\n",
       "  {'package': 'nav2-constrained-smoother',\n",
       "   'distro': 'humble',\n",
       "   'name': 'ros-humble-nav2-constrained-smoother',\n",
       "   'count': 18007,\n",
       "   'date': '2023'},\n",
       "  {'package': 'nav2-simple-commander',\n",
       "   'distro': 'humble',\n",
       "   'name': 'ros-humble-nav2-simple-commander',\n",
       "   'count': 18001,\n",
       "   'date': '2023'},\n",
       "  {'package': 'nav2-velocity-smoother',\n",
       "   'distro': 'humble',\n",
       "   'name': 'ros-humble-nav2-velocity-smoother',\n",
       "   'count': 18000,\n",
       "   'date': '2023'},\n",
       "  {'package': 'nav2-theta-star-planner',\n",
       "   'distro': 'humble',\n",
       "   'name': 'ros-humble-nav2-theta-star-planner',\n",
       "   'count': 17989,\n",
       "   'date': '2023'},\n",
       "  {'package': 'compressed-depth-image-transport',\n",
       "   'distro': 'humble',\n",
       "   'name': 'ros-humble-compressed-depth-image-transport',\n",
       "   'count': 17977,\n",
       "   'date': '2023'},\n",
       "  {'package': 'eigen-stl-containers',\n",
       "   'distro': 'noetic',\n",
       "   'name': 'ros-noetic-eigen-stl-containers',\n",
       "   'count': 17974,\n",
       "   'date': '2023'},\n",
       "  {'package': 'nav2-waypoint-follower',\n",
       "   'distro': 'humble',\n",
       "   'name': 'ros-humble-nav2-waypoint-follower',\n",
       "   'count': 17967,\n",
       "   'date': '2023'},\n",
       "  {'package': 'slam-toolbox',\n",
       "   'distro': 'humble',\n",
       "   'name': 'ros-humble-slam-toolbox',\n",
       "   'count': 17967,\n",
       "   'date': '2023'},\n",
       "  {'package': 'navigation2',\n",
       "   'distro': 'humble',\n",
       "   'name': 'ros-humble-navigation2',\n",
       "   'count': 17964,\n",
       "   'date': '2023'},\n",
       "  {'package': 'nav2-mppi-controller',\n",
       "   'distro': 'humble',\n",
       "   'name': 'ros-humble-nav2-mppi-controller',\n",
       "   'count': 17936,\n",
       "   'date': '2023'},\n",
       "  {'package': 'moveit-kinematics',\n",
       "   'distro': 'noetic',\n",
       "   'name': 'ros-noetic-moveit-kinematics',\n",
       "   'count': 17922,\n",
       "   'date': '2023'},\n",
       "  {'package': 'moveit-ros-move-group',\n",
       "   'distro': 'noetic',\n",
       "   'name': 'ros-noetic-moveit-ros-move-group',\n",
       "   'count': 17862,\n",
       "   'date': '2023'},\n",
       "  {'package': 'moveit-ros-planning-interface',\n",
       "   'distro': 'noetic',\n",
       "   'name': 'ros-noetic-moveit-ros-planning-interface',\n",
       "   'count': 17830,\n",
       "   'date': '2023'},\n",
       "  {'package': 'moveit-ros-manipulation',\n",
       "   'distro': 'noetic',\n",
       "   'name': 'ros-noetic-moveit-ros-manipulation',\n",
       "   'count': 17816,\n",
       "   'date': '2023'},\n",
       "  {'package': 'moveit-ros-warehouse',\n",
       "   'distro': 'noetic',\n",
       "   'name': 'ros-noetic-moveit-ros-warehouse',\n",
       "   'count': 17814,\n",
       "   'date': '2023'},\n",
       "  {'package': 'gazebo-ros',\n",
       "   'distro': 'humble',\n",
       "   'name': 'ros-humble-gazebo-ros',\n",
       "   'count': 17794,\n",
       "   'date': '2023'},\n",
       "  {'package': 'cyclonedds',\n",
       "   'distro': 'humble',\n",
       "   'name': 'ros-humble-cyclonedds',\n",
       "   'count': 17772,\n",
       "   'date': '2023'},\n",
       "  {'package': 'map-server',\n",
       "   'distro': 'noetic',\n",
       "   'name': 'ros-noetic-map-server',\n",
       "   'count': 17735,\n",
       "   'date': '2023'},\n",
       "  {'package': 'position-controllers',\n",
       "   'distro': 'humble',\n",
       "   'name': 'ros-humble-position-controllers',\n",
       "   'count': 17652,\n",
       "   'date': '2023'},\n",
       "  {'package': 'moveit-ros-perception',\n",
       "   'distro': 'noetic',\n",
       "   'name': 'ros-noetic-moveit-ros-perception',\n",
       "   'count': 17638,\n",
       "   'date': '2023'},\n",
       "  {'package': 'nav-core',\n",
       "   'distro': 'noetic',\n",
       "   'name': 'ros-noetic-nav-core',\n",
       "   'count': 17578,\n",
       "   'date': '2023'},\n",
       "  {'package': 'backward-ros',\n",
       "   'distro': 'humble',\n",
       "   'name': 'ros-humble-backward-ros',\n",
       "   'count': 17505,\n",
       "   'date': '2023'},\n",
       "  {'package': 'random-numbers',\n",
       "   'distro': 'noetic',\n",
       "   'name': 'ros-noetic-random-numbers',\n",
       "   'count': 17253,\n",
       "   'date': '2023'},\n",
       "  {'package': 'joint-trajectory-controller',\n",
       "   'distro': 'noetic',\n",
       "   'name': 'ros-noetic-joint-trajectory-controller',\n",
       "   'count': 17209,\n",
       "   'date': '2023'},\n",
       "  {'package': 'moveit-planners-ompl',\n",
       "   'distro': 'noetic',\n",
       "   'name': 'ros-noetic-moveit-planners-ompl',\n",
       "   'count': 17154,\n",
       "   'date': '2023'},\n",
       "  {'package': 'moveit-ros-robot-interaction',\n",
       "   'distro': 'noetic',\n",
       "   'name': 'ros-noetic-moveit-ros-robot-interaction',\n",
       "   'count': 17135,\n",
       "   'date': '2023'},\n",
       "  {'package': 'moveit-ros-visualization',\n",
       "   'distro': 'noetic',\n",
       "   'name': 'ros-noetic-moveit-ros-visualization',\n",
       "   'count': 17122,\n",
       "   'date': '2023'},\n",
       "  {'package': 'moveit-simple-controller-manager',\n",
       "   'distro': 'noetic',\n",
       "   'name': 'ros-noetic-moveit-simple-controller-manager',\n",
       "   'count': 17034,\n",
       "   'date': '2023'},\n",
       "  {'package': 'ompl',\n",
       "   'distro': 'noetic',\n",
       "   'name': 'ros-noetic-ompl',\n",
       "   'count': 16983,\n",
       "   'date': '2023'},\n",
       "  {'package': 'ruckig',\n",
       "   'distro': 'noetic',\n",
       "   'name': 'ros-noetic-ruckig',\n",
       "   'count': 16963,\n",
       "   'date': '2023'},\n",
       "  {'package': 'diff-drive-controller',\n",
       "   'distro': 'humble',\n",
       "   'name': 'ros-humble-diff-drive-controller',\n",
       "   'count': 16810,\n",
       "   'date': '2023'},\n",
       "  {'package': 'fcl',\n",
       "   'distro': 'noetic',\n",
       "   'name': 'ros-noetic-fcl',\n",
       "   'count': 16804,\n",
       "   'date': '2023'},\n",
       "  {'package': 'nav2-bringup',\n",
       "   'distro': 'humble',\n",
       "   'name': 'ros-humble-nav2-bringup',\n",
       "   'count': 16791,\n",
       "   'date': '2023'},\n",
       "  {'package': 'tl-expected',\n",
       "   'distro': 'humble',\n",
       "   'name': 'ros-humble-tl-expected',\n",
       "   'count': 16782,\n",
       "   'date': '2023'},\n",
       "  {'package': 'tcb-span',\n",
       "   'distro': 'humble',\n",
       "   'name': 'ros-humble-tcb-span',\n",
       "   'count': 16745,\n",
       "   'date': '2023'},\n",
       "  {'package': 'transmission-interface',\n",
       "   'distro': 'humble',\n",
       "   'name': 'ros-humble-transmission-interface',\n",
       "   'count': 16739,\n",
       "   'date': '2023'},\n",
       "  {'package': 'effort-controllers',\n",
       "   'distro': 'noetic',\n",
       "   'name': 'ros-noetic-effort-controllers',\n",
       "   'count': 16583,\n",
       "   'date': '2023'},\n",
       "  {'package': 'moveit-fake-controller-manager',\n",
       "   'distro': 'noetic',\n",
       "   'name': 'ros-noetic-moveit-fake-controller-manager',\n",
       "   'count': 16579,\n",
       "   'date': '2023'},\n",
       "  {'package': 'base-local-planner',\n",
       "   'distro': 'noetic',\n",
       "   'name': 'ros-noetic-base-local-planner',\n",
       "   'count': 16574,\n",
       "   'date': '2023'},\n",
       "  {'package': 'navfn',\n",
       "   'distro': 'noetic',\n",
       "   'name': 'ros-noetic-navfn',\n",
       "   'count': 16546,\n",
       "   'date': '2023'},\n",
       "  {'package': 'rosbridge-library',\n",
       "   'distro': 'noetic',\n",
       "   'name': 'ros-noetic-rosbridge-library',\n",
       "   'count': 16529,\n",
       "   'date': '2023'},\n",
       "  {'package': 'ompl',\n",
       "   'distro': 'humble',\n",
       "   'name': 'ros-humble-ompl',\n",
       "   'count': 16434,\n",
       "   'date': '2023'},\n",
       "  {'package': 'move-base-msgs',\n",
       "   'distro': 'noetic',\n",
       "   'name': 'ros-noetic-move-base-msgs',\n",
       "   'count': 16393,\n",
       "   'date': '2023'},\n",
       "  {'package': 'joint-limits',\n",
       "   'distro': 'humble',\n",
       "   'name': 'ros-humble-joint-limits',\n",
       "   'count': 16365,\n",
       "   'date': '2023'},\n",
       "  {'package': 'ros2-control',\n",
       "   'distro': 'humble',\n",
       "   'name': 'ros-humble-ros2-control',\n",
       "   'count': 16299,\n",
       "   'date': '2023'},\n",
       "  {'package': 'pkg-modules',\n",
       "   'distro': 'catkin',\n",
       "   'name': 'python-catkin-pkg-modules',\n",
       "   'count': 16260,\n",
       "   'date': '2023'},\n",
       "  {'package': 'rosapi',\n",
       "   'distro': 'noetic',\n",
       "   'name': 'ros-noetic-rosapi',\n",
       "   'count': 16192,\n",
       "   'date': '2023'},\n",
       "  {'package': 'eigenpy',\n",
       "   'distro': 'noetic',\n",
       "   'name': 'ros-noetic-eigenpy',\n",
       "   'count': 16169,\n",
       "   'date': '2023'},\n",
       "  {'package': 'modules',\n",
       "   'distro': 'rospkg',\n",
       "   'name': 'python-rospkg-modules',\n",
       "   'count': 16083,\n",
       "   'date': '2023'},\n",
       "  {'package': 'voxel-grid',\n",
       "   'distro': 'noetic',\n",
       "   'name': 'ros-noetic-voxel-grid',\n",
       "   'count': 16050,\n",
       "   'date': '2023'},\n",
       "  {'package': 'rosbridge-server',\n",
       "   'distro': 'noetic',\n",
       "   'name': 'ros-noetic-rosbridge-server',\n",
       "   'count': 15958,\n",
       "   'date': '2023'},\n",
       "  {'package': 'clear-costmap-recovery',\n",
       "   'distro': 'noetic',\n",
       "   'name': 'ros-noetic-clear-costmap-recovery',\n",
       "   'count': 15955,\n",
       "   'date': '2023'},\n",
       "  {'package': 'moveit-setup-assistant',\n",
       "   'distro': 'noetic',\n",
       "   'name': 'ros-noetic-moveit-setup-assistant',\n",
       "   'count': 15859,\n",
       "   'date': '2023'},\n",
       "  {'package': 'rotate-recovery',\n",
       "   'distro': 'noetic',\n",
       "   'name': 'ros-noetic-rotate-recovery',\n",
       "   'count': 15803,\n",
       "   'date': '2023'},\n",
       "  {'package': 'modules',\n",
       "   'distro': 'rosdep',\n",
       "   'name': 'python-rosdep-modules',\n",
       "   'count': 15659,\n",
       "   'date': '2023'},\n",
       "  {'package': 'move-base',\n",
       "   'distro': 'noetic',\n",
       "   'name': 'ros-noetic-move-base',\n",
       "   'count': 15655,\n",
       "   'date': '2023'},\n",
       "  {'package': 'rosidl-runtime-c',\n",
       "   'distro': 'foxy',\n",
       "   'name': 'ros-foxy-rosidl-runtime-c',\n",
       "   'count': 15638,\n",
       "   'date': '2023'},\n",
       "  {'package': 'builtin-interfaces',\n",
       "   'distro': 'foxy',\n",
       "   'name': 'ros-foxy-builtin-interfaces',\n",
       "   'count': 15597,\n",
       "   'date': '2023'},\n",
       "  {'package': 'pkg',\n",
       "   'distro': 'catkin',\n",
       "   'name': 'python-catkin-pkg',\n",
       "   'count': 15588,\n",
       "   'date': '2023'},\n",
       "  {'package': 'std-msgs',\n",
       "   'distro': 'foxy',\n",
       "   'name': 'ros-foxy-std-msgs',\n",
       "   'count': 15530,\n",
       "   'date': '2023'},\n",
       "  {'package': 'gazebo-plugins',\n",
       "   'distro': 'humble',\n",
       "   'name': 'ros-humble-gazebo-plugins',\n",
       "   'count': 15504,\n",
       "   'date': '2023'},\n",
       "  {'package': 'lcov-result',\n",
       "   'distro': 'colcon',\n",
       "   'name': 'python3-colcon-lcov-result',\n",
       "   'count': 15443,\n",
       "   'date': '2023'},\n",
       "  {'package': 'geographic-msgs',\n",
       "   'distro': 'humble',\n",
       "   'name': 'ros-humble-geographic-msgs',\n",
       "   'count': 15396,\n",
       "   'date': '2023'},\n",
       "  {'package': '',\n",
       "   'distro': 'rospkg',\n",
       "   'name': 'python-rospkg',\n",
       "   'count': 15357,\n",
       "   'date': '2023'},\n",
       "  {'package': 'ros-workspace',\n",
       "   'distro': 'foxy',\n",
       "   'name': 'ros-foxy-ros-workspace',\n",
       "   'count': 14981,\n",
       "   'date': '2023'},\n",
       "  {'package': 'rosbridge-msgs',\n",
       "   'distro': 'noetic',\n",
       "   'name': 'ros-noetic-rosbridge-msgs',\n",
       "   'count': 14912,\n",
       "   'date': '2023'},\n",
       "  {'package': 'theora-image-transport',\n",
       "   'distro': 'humble',\n",
       "   'name': 'ros-humble-theora-image-transport',\n",
       "   'count': 14732,\n",
       "   'date': '2023'},\n",
       "  {'package': 'image-transport-plugins',\n",
       "   'distro': 'humble',\n",
       "   'name': 'ros-humble-image-transport-plugins',\n",
       "   'count': 14617,\n",
       "   'date': '2023'},\n",
       "  {'package': 'modules',\n",
       "   'distro': 'rosdistro',\n",
       "   'name': 'python-rosdistro-modules',\n",
       "   'count': 14536,\n",
       "   'date': '2023'},\n",
       "  {'package': 'octomap-msgs',\n",
       "   'distro': 'humble',\n",
       "   'name': 'ros-humble-octomap-msgs',\n",
       "   'count': 14331,\n",
       "   'date': '2023'},\n",
       "  {'package': 'pcl-ros',\n",
       "   'distro': 'humble',\n",
       "   'name': 'ros-humble-pcl-ros',\n",
       "   'count': 14140,\n",
       "   'date': '2023'},\n",
       "  {'package': 'ament-cmake-core',\n",
       "   'distro': 'foxy',\n",
       "   'name': 'ros-foxy-ament-cmake-core',\n",
       "   'count': 14108,\n",
       "   'date': '2023'},\n",
       "  {'package': 'xacro',\n",
       "   'distro': 'melodic',\n",
       "   'name': 'ros-melodic-xacro',\n",
       "   'count': 14067,\n",
       "   'date': '2023'},\n",
       "  {'package': 'gazebo-ros-pkgs',\n",
       "   'distro': 'humble',\n",
       "   'name': 'ros-humble-gazebo-ros-pkgs',\n",
       "   'count': 14061,\n",
       "   'date': '2023'},\n",
       "  {'package': 'vision-msgs',\n",
       "   'distro': 'noetic',\n",
       "   'name': 'ros-noetic-vision-msgs',\n",
       "   'count': 13968,\n",
       "   'date': '2023'},\n",
       "  {'package': 'tf2-ros',\n",
       "   'distro': 'melodic',\n",
       "   'name': 'ros-melodic-tf2-ros',\n",
       "   'count': 13899,\n",
       "   'date': '2023'},\n",
       "  {'package': 'tf2-py',\n",
       "   'distro': 'melodic',\n",
       "   'name': 'ros-melodic-tf2-py',\n",
       "   'count': 13855,\n",
       "   'date': '2023'},\n",
       "  {'package': 'ament-flake8',\n",
       "   'distro': 'foxy',\n",
       "   'name': 'ros-foxy-ament-flake8',\n",
       "   'count': 13843,\n",
       "   'date': '2023'},\n",
       "  {'package': 'tf',\n",
       "   'distro': 'melodic',\n",
       "   'name': 'ros-melodic-tf',\n",
       "   'count': 13778,\n",
       "   'date': '2023'},\n",
       "  {'package': 'ackermann-msgs',\n",
       "   'distro': 'humble',\n",
       "   'name': 'ros-humble-ackermann-msgs',\n",
       "   'count': 13753,\n",
       "   'date': '2023'},\n",
       "  {'package': 'moveit-commander',\n",
       "   'distro': 'noetic',\n",
       "   'name': 'ros-noetic-moveit-commander',\n",
       "   'count': 13753,\n",
       "   'date': '2023'},\n",
       "  {'package': 'cv-bridge',\n",
       "   'distro': 'melodic',\n",
       "   'name': 'ros-melodic-cv-bridge',\n",
       "   'count': 13722,\n",
       "   'date': '2023'},\n",
       "  {'package': 'moveit-ros-benchmarks',\n",
       "   'distro': 'noetic',\n",
       "   'name': 'ros-noetic-moveit-ros-benchmarks',\n",
       "   'count': 13652,\n",
       "   'date': '2023'},\n",
       "  {'package': 'velocity-controllers',\n",
       "   'distro': 'noetic',\n",
       "   'name': 'ros-noetic-velocity-controllers',\n",
       "   'count': 13614,\n",
       "   'date': '2023'},\n",
       "  {'package': 'tf2-msgs',\n",
       "   'distro': 'melodic',\n",
       "   'name': 'ros-melodic-tf2-msgs',\n",
       "   'count': 13565,\n",
       "   'date': '2023'},\n",
       "  {'package': 'tf2',\n",
       "   'distro': 'melodic',\n",
       "   'name': 'ros-melodic-tf2',\n",
       "   'count': 13565,\n",
       "   'date': '2023'},\n",
       "  {'package': 'ament-pep257',\n",
       "   'distro': 'foxy',\n",
       "   'name': 'ros-foxy-ament-pep257',\n",
       "   'count': 13550,\n",
       "   'date': '2023'},\n",
       "  {'package': 'ament-cmake',\n",
       "   'distro': 'foxy',\n",
       "   'name': 'ros-foxy-ament-cmake',\n",
       "   'count': 13531,\n",
       "   'date': '2023'},\n",
       "  {'package': 'mixin',\n",
       "   'distro': 'colcon',\n",
       "   'name': 'python3-colcon-mixin',\n",
       "   'count': 13514,\n",
       "   'date': '2023'},\n",
       "  {'package': 'ament-cmake-flake8',\n",
       "   'distro': 'foxy',\n",
       "   'name': 'ros-foxy-ament-cmake-flake8',\n",
       "   'count': 13447,\n",
       "   'date': '2023'},\n",
       "  {'package': 'image-transport',\n",
       "   'distro': 'melodic',\n",
       "   'name': 'ros-melodic-image-transport',\n",
       "   'count': 13431,\n",
       "   'date': '2023'},\n",
       "  {'package': '',\n",
       "   'distro': 'rosdep',\n",
       "   'name': 'python-rosdep',\n",
       "   'count': 13416,\n",
       "   'date': '2023'},\n",
       "  {'package': 'velocity-controllers',\n",
       "   'distro': 'humble',\n",
       "   'name': 'ros-humble-velocity-controllers',\n",
       "   'count': 13400,\n",
       "   'date': '2023'},\n",
       "  {'package': 'iceoryx-binding-c',\n",
       "   'distro': 'humble',\n",
       "   'name': 'ros-humble-iceoryx-binding-c',\n",
       "   'count': 13369,\n",
       "   'date': '2023'},\n",
       "  {'package': 'statistics-msgs',\n",
       "   'distro': 'foxy',\n",
       "   'name': 'ros-foxy-statistics-msgs',\n",
       "   'count': 13369,\n",
       "   'date': '2023'},\n",
       "  {'package': 'libstatistics-collector',\n",
       "   'distro': 'foxy',\n",
       "   'name': 'ros-foxy-libstatistics-collector',\n",
       "   'count': 13369,\n",
       "   'date': '2023'},\n",
       "  {'package': 'rclcpp',\n",
       "   'distro': 'foxy',\n",
       "   'name': 'ros-foxy-rclcpp',\n",
       "   'count': 13367,\n",
       "   'date': '2023'},\n",
       "  {'package': 'iceoryx-hoofs',\n",
       "   'distro': 'humble',\n",
       "   'name': 'ros-humble-iceoryx-hoofs',\n",
       "   'count': 13351,\n",
       "   'date': '2023'},\n",
       "  {'package': 'rcpputils',\n",
       "   'distro': 'foxy',\n",
       "   'name': 'ros-foxy-rcpputils',\n",
       "   'count': 13344,\n",
       "   'date': '2023'},\n",
       "  {'package': 'ament-cmake-export-dependencies',\n",
       "   'distro': 'foxy',\n",
       "   'name': 'ros-foxy-ament-cmake-export-dependencies',\n",
       "   'count': 13342,\n",
       "   'date': '2023'},\n",
       "  {'package': 'ament-cmake-libraries',\n",
       "   'distro': 'foxy',\n",
       "   'name': 'ros-foxy-ament-cmake-libraries',\n",
       "   'count': 13335,\n",
       "   'date': '2023'},\n",
       "  {'package': 'iceoryx-posh',\n",
       "   'distro': 'humble',\n",
       "   'name': 'ros-humble-iceoryx-posh',\n",
       "   'count': 13333,\n",
       "   'date': '2023'},\n",
       "  {'package': 'ament-cmake-export-definitions',\n",
       "   'distro': 'foxy',\n",
       "   'name': 'ros-foxy-ament-cmake-export-definitions',\n",
       "   'count': 13333,\n",
       "   'date': '2023'},\n",
       "  {'package': 'ament-index-python',\n",
       "   'distro': 'foxy',\n",
       "   'name': 'ros-foxy-ament-index-python',\n",
       "   'count': 13292,\n",
       "   'date': '2023'},\n",
       "  {'package': 'ament-cmake-lint-cmake',\n",
       "   'distro': 'foxy',\n",
       "   'name': 'ros-foxy-ament-cmake-lint-cmake',\n",
       "   'count': 13282,\n",
       "   'date': '2023'},\n",
       "  {'package': 'ament-cmake-export-include-directories',\n",
       "   'distro': 'foxy',\n",
       "   'name': 'ros-foxy-ament-cmake-export-include-directories',\n",
       "   'count': 13276,\n",
       "   'date': '2023'},\n",
       "  {'package': 'ament-cmake-pep257',\n",
       "   'distro': 'foxy',\n",
       "   'name': 'ros-foxy-ament-cmake-pep257',\n",
       "   'count': 13266,\n",
       "   'date': '2023'},\n",
       "  {'package': 'fastcdr',\n",
       "   'distro': 'foxy',\n",
       "   'name': 'ros-foxy-fastcdr',\n",
       "   'count': 13255,\n",
       "   'date': '2023'},\n",
       "  {'package': 'ament-clang-format',\n",
       "   'distro': 'humble',\n",
       "   'name': 'ros-humble-ament-clang-format',\n",
       "   'count': 13227,\n",
       "   'date': '2023'},\n",
       "  {'package': 'rosauth',\n",
       "   'distro': 'noetic',\n",
       "   'name': 'ros-noetic-rosauth',\n",
       "   'count': 13219,\n",
       "   'date': '2023'},\n",
       "  {'package': 'rmw',\n",
       "   'distro': 'foxy',\n",
       "   'name': 'ros-foxy-rmw',\n",
       "   'count': 13179,\n",
       "   'date': '2023'},\n",
       "  {'package': 'rcutils',\n",
       "   'distro': 'foxy',\n",
       "   'name': 'ros-foxy-rcutils',\n",
       "   'count': 13164,\n",
       "   'date': '2023'},\n",
       "  {'package': 'rosidl-runtime-cpp',\n",
       "   'distro': 'foxy',\n",
       "   'name': 'ros-foxy-rosidl-runtime-cpp',\n",
       "   'count': 13149,\n",
       "   'date': '2023'},\n",
       "  {'package': 'rosidl-typesupport-cpp',\n",
       "   'distro': 'foxy',\n",
       "   'name': 'ros-foxy-rosidl-typesupport-cpp',\n",
       "   'count': 13118,\n",
       "   'date': '2023'},\n",
       "  {'package': 'rosidl-generator-c',\n",
       "   'distro': 'foxy',\n",
       "   'name': 'ros-foxy-rosidl-generator-c',\n",
       "   'count': 13118,\n",
       "   'date': '2023'},\n",
       "  {'package': 'rosidl-typesupport-c',\n",
       "   'distro': 'foxy',\n",
       "   'name': 'ros-foxy-rosidl-typesupport-c',\n",
       "   'count': 13114,\n",
       "   'date': '2023'},\n",
       "  {'package': 'force-torque-sensor-broadcaster',\n",
       "   'distro': 'humble',\n",
       "   'name': 'ros-humble-force-torque-sensor-broadcaster',\n",
       "   'count': 13112,\n",
       "   'date': '2023'},\n",
       "  {'package': 'rosidl-typesupport-interface',\n",
       "   'distro': 'foxy',\n",
       "   'name': 'ros-foxy-rosidl-typesupport-interface',\n",
       "   'count': 13111,\n",
       "   'date': '2023'},\n",
       "  {'package': 'rosidl-adapter',\n",
       "   'distro': 'foxy',\n",
       "   'name': 'ros-foxy-rosidl-adapter',\n",
       "   'count': 13098,\n",
       "   'date': '2023'},\n",
       "  {'package': 'rcl-interfaces',\n",
       "   'distro': 'foxy',\n",
       "   'name': 'ros-foxy-rcl-interfaces',\n",
       "   'count': 13047,\n",
       "   'date': '2023'},\n",
       "  {'package': 'rcl',\n",
       "   'distro': 'foxy',\n",
       "   'name': 'ros-foxy-rcl',\n",
       "   'count': 13032,\n",
       "   'date': '2023'},\n",
       "  {'package': 'tracetools',\n",
       "   'distro': 'foxy',\n",
       "   'name': 'ros-foxy-tracetools',\n",
       "   'count': 13024,\n",
       "   'date': '2023'},\n",
       "  {'package': 'rmw-implementation',\n",
       "   'distro': 'foxy',\n",
       "   'name': 'ros-foxy-rmw-implementation',\n",
       "   'count': 13023,\n",
       "   'date': '2023'},\n",
       "  {'package': 'rcl-yaml-param-parser',\n",
       "   'distro': 'foxy',\n",
       "   'name': 'ros-foxy-rcl-yaml-param-parser',\n",
       "   'count': 13021,\n",
       "   'date': '2023'},\n",
       "  {'package': 'libyaml-vendor',\n",
       "   'distro': 'foxy',\n",
       "   'name': 'ros-foxy-libyaml-vendor',\n",
       "   'count': 13019,\n",
       "   'date': '2023'},\n",
       "  {'package': 'rcl-logging-spdlog',\n",
       "   'distro': 'foxy',\n",
       "   'name': 'ros-foxy-rcl-logging-spdlog',\n",
       "   'count': 13013,\n",
       "   'date': '2023'},\n",
       "  {'package': 'rosgraph-msgs',\n",
       "   'distro': 'foxy',\n",
       "   'name': 'ros-foxy-rosgraph-msgs',\n",
       "   'count': 13010,\n",
       "   'date': '2023'},\n",
       "  {'package': 'urdf',\n",
       "   'distro': 'melodic',\n",
       "   'name': 'ros-melodic-urdf',\n",
       "   'count': 13002,\n",
       "   'date': '2023'},\n",
       "  {'package': 'amcl',\n",
       "   'distro': 'noetic',\n",
       "   'name': 'ros-noetic-amcl',\n",
       "   'count': 12997,\n",
       "   'date': '2023'},\n",
       "  {'package': 'coveragepy-result',\n",
       "   'distro': 'colcon',\n",
       "   'name': 'python3-colcon-coveragepy-result',\n",
       "   'count': 12974,\n",
       "   'date': '2023'},\n",
       "  {'package': 'ament-cmake-export-libraries',\n",
       "   'distro': 'foxy',\n",
       "   'name': 'ros-foxy-ament-cmake-export-libraries',\n",
       "   'count': 12970,\n",
       "   'date': '2023'},\n",
       "  {'package': 'eigen-conversions',\n",
       "   'distro': 'melodic',\n",
       "   'name': 'ros-melodic-eigen-conversions',\n",
       "   'count': 12956,\n",
       "   'date': '2023'},\n",
       "  {'package': 'ros-workspace',\n",
       "   'distro': 'rolling',\n",
       "   'name': 'ros-rolling-ros-workspace',\n",
       "   'count': 12917,\n",
       "   'date': '2023'},\n",
       "  {'package': 'rosidl-typesupport-introspection-c',\n",
       "   'distro': 'foxy',\n",
       "   'name': 'ros-foxy-rosidl-typesupport-introspection-c',\n",
       "   'count': 12853,\n",
       "   'date': '2023'},\n",
       "  {'package': 'rpyutils',\n",
       "   'distro': 'foxy',\n",
       "   'name': 'ros-foxy-rpyutils',\n",
       "   'count': 12847,\n",
       "   'date': '2023'},\n",
       "  {'package': 'ament-cmake-test',\n",
       "   'distro': 'foxy',\n",
       "   'name': 'ros-foxy-ament-cmake-test',\n",
       "   'count': 12825,\n",
       "   'date': '2023'},\n",
       "  {'package': 'ament-cmake-export-interfaces',\n",
       "   'distro': 'foxy',\n",
       "   'name': 'ros-foxy-ament-cmake-export-interfaces',\n",
       "   'count': 12798,\n",
       "   'date': '2023'},\n",
       "  {'package': 'ament-cmake-python',\n",
       "   'distro': 'foxy',\n",
       "   'name': 'ros-foxy-ament-cmake-python',\n",
       "   'count': 12792,\n",
       "   'date': '2023'},\n",
       "  {'package': 'ament-cmake-export-link-flags',\n",
       "   'distro': 'foxy',\n",
       "   'name': 'ros-foxy-ament-cmake-export-link-flags',\n",
       "   'count': 12787,\n",
       "   'date': '2023'},\n",
       "  {'package': 'ament-cmake-export-targets',\n",
       "   'distro': 'foxy',\n",
       "   'name': 'ros-foxy-ament-cmake-export-targets',\n",
       "   'count': 12782,\n",
       "   'date': '2023'},\n",
       "  {'package': 'ament-cmake-target-dependencies',\n",
       "   'distro': 'foxy',\n",
       "   'name': 'ros-foxy-ament-cmake-target-dependencies',\n",
       "   'count': 12782,\n",
       "   'date': '2023'},\n",
       "  {'package': 'ament-cmake-include-directories',\n",
       "   'distro': 'foxy',\n",
       "   'name': 'ros-foxy-ament-cmake-include-directories',\n",
       "   'count': 12778,\n",
       "   'date': '2023'},\n",
       "  {'package': 'ament-cmake-version',\n",
       "   'distro': 'foxy',\n",
       "   'name': 'ros-foxy-ament-cmake-version',\n",
       "   'count': 12773,\n",
       "   'date': '2023'},\n",
       "  {'package': 'tf-conversions',\n",
       "   'distro': 'melodic',\n",
       "   'name': 'ros-melodic-tf-conversions',\n",
       "   'count': 12729,\n",
       "   'date': '2023'},\n",
       "  {'package': 'diagnostic-updater',\n",
       "   'distro': 'melodic',\n",
       "   'name': 'ros-melodic-diagnostic-updater',\n",
       "   'count': 12700,\n",
       "   'date': '2023'},\n",
       "  {'package': 'rgbd-launch',\n",
       "   'distro': 'noetic',\n",
       "   'name': 'ros-noetic-rgbd-launch',\n",
       "   'count': 12682,\n",
       "   'date': '2023'},\n",
       "  {'package': 'tf2-eigen',\n",
       "   'distro': 'melodic',\n",
       "   'name': 'ros-melodic-tf2-eigen',\n",
       "   'count': 12680,\n",
       "   'date': '2023'},\n",
       "  {'package': 'pilz-industrial-motion-planner',\n",
       "   'distro': 'noetic',\n",
       "   'name': 'ros-noetic-pilz-industrial-motion-planner',\n",
       "   'count': 12591,\n",
       "   'date': '2023'},\n",
       "  {'package': 'ament-package',\n",
       "   'distro': 'foxy',\n",
       "   'name': 'ros-foxy-ament-package',\n",
       "   'count': 12524,\n",
       "   'date': '2023'},\n",
       "  {'package': 'ament-cmake-gtest',\n",
       "   'distro': 'foxy',\n",
       "   'name': 'ros-foxy-ament-cmake-gtest',\n",
       "   'count': 12465,\n",
       "   'date': '2023'},\n",
       "  {'package': 'kdl-conversions',\n",
       "   'distro': 'melodic',\n",
       "   'name': 'ros-melodic-kdl-conversions',\n",
       "   'count': 12451,\n",
       "   'date': '2023'},\n",
       "  {'package': 'ament-cmake-gmock',\n",
       "   'distro': 'foxy',\n",
       "   'name': 'ros-foxy-ament-cmake-gmock',\n",
       "   'count': 12444,\n",
       "   'date': '2023'},\n",
       "  {'package': 'object-recognition-msgs',\n",
       "   'distro': 'humble',\n",
       "   'name': 'ros-humble-object-recognition-msgs',\n",
       "   'count': 12437,\n",
       "   'date': '2023'},\n",
       "  {'package': 'rosbag2-converter-default-plugins',\n",
       "   'distro': 'foxy',\n",
       "   'name': 'ros-foxy-rosbag2-converter-default-plugins',\n",
       "   'count': 12434,\n",
       "   'date': '2023'},\n",
       "  {'package': 'rosbag2-storage-default-plugins',\n",
       "   'distro': 'foxy',\n",
       "   'name': 'ros-foxy-rosbag2-storage-default-plugins',\n",
       "   'count': 12429,\n",
       "   'date': '2023'},\n",
       "  {'package': 'gtest-vendor',\n",
       "   'distro': 'foxy',\n",
       "   'name': 'ros-foxy-gtest-vendor',\n",
       "   'count': 12428,\n",
       "   'date': '2023'},\n",
       "  {'package': 'rosbag2',\n",
       "   'distro': 'foxy',\n",
       "   'name': 'ros-foxy-rosbag2',\n",
       "   'count': 12427,\n",
       "   'date': '2023'},\n",
       "  {'package': 'rosbag2-transport',\n",
       "   'distro': 'foxy',\n",
       "   'name': 'ros-foxy-rosbag2-transport',\n",
       "   'count': 12423,\n",
       "   'date': '2023'},\n",
       "  {'package': 'rosbag2-storage',\n",
       "   'distro': 'foxy',\n",
       "   'name': 'ros-foxy-rosbag2-storage',\n",
       "   'count': 12417,\n",
       "   'date': '2023'},\n",
       "  {'package': 'ros2bag',\n",
       "   'distro': 'foxy',\n",
       "   'name': 'ros-foxy-ros2bag',\n",
       "   'count': 12417,\n",
       "   'date': '2023'},\n",
       "  {'package': 'rosidl-cmake',\n",
       "   'distro': 'foxy',\n",
       "   'name': 'ros-foxy-rosidl-cmake',\n",
       "   'count': 12417,\n",
       "   'date': '2023'},\n",
       "  {'package': 'rosidl-default-runtime',\n",
       "   'distro': 'foxy',\n",
       "   'name': 'ros-foxy-rosidl-default-runtime',\n",
       "   'count': 12405,\n",
       "   'date': '2023'},\n",
       "  {'package': 'gmock-vendor',\n",
       "   'distro': 'foxy',\n",
       "   'name': 'ros-foxy-gmock-vendor',\n",
       "   'count': 12400,\n",
       "   'date': '2023'},\n",
       "  {'package': 'rosidl-parser',\n",
       "   'distro': 'foxy',\n",
       "   'name': 'ros-foxy-rosidl-parser',\n",
       "   'count': 12389,\n",
       "   'date': '2023'},\n",
       "  {'package': 'chomp-motion-planner',\n",
       "   'distro': 'noetic',\n",
       "   'name': 'ros-noetic-chomp-motion-planner',\n",
       "   'count': 12389,\n",
       "   'date': '2023'},\n",
       "  {'package': 'rosidl-typesupport-introspection-cpp',\n",
       "   'distro': 'foxy',\n",
       "   'name': 'ros-foxy-rosidl-typesupport-introspection-cpp',\n",
       "   'count': 12386,\n",
       "   'date': '2023'},\n",
       "  {'package': 'rosidl-generator-py',\n",
       "   'distro': 'foxy',\n",
       "   'name': 'ros-foxy-rosidl-generator-py',\n",
       "   'count': 12386,\n",
       "   'date': '2023'},\n",
       "  {'package': 'python-cmake-module',\n",
       "   'distro': 'foxy',\n",
       "   'name': 'ros-foxy-python-cmake-module',\n",
       "   'count': 12377,\n",
       "   'date': '2023'},\n",
       "  {'package': 'rosbag2-cpp',\n",
       "   'distro': 'foxy',\n",
       "   'name': 'ros-foxy-rosbag2-cpp',\n",
       "   'count': 12376,\n",
       "   'date': '2023'},\n",
       "  {'package': 'moveit-planners-chomp',\n",
       "   'distro': 'noetic',\n",
       "   'name': 'ros-noetic-moveit-planners-chomp',\n",
       "   'count': 12353,\n",
       "   'date': '2023'},\n",
       "  {'package': 'force-torque-sensor-controller',\n",
       "   'distro': 'noetic',\n",
       "   'name': 'ros-noetic-force-torque-sensor-controller',\n",
       "   'count': 12332,\n",
       "   'date': '2023'},\n",
       "  {'package': 'ament-cmake-pytest',\n",
       "   'distro': 'foxy',\n",
       "   'name': 'ros-foxy-ament-cmake-pytest',\n",
       "   'count': 12332,\n",
       "   'date': '2023'},\n",
       "  {'package': 'kdl-parser',\n",
       "   'distro': 'melodic',\n",
       "   'name': 'ros-melodic-kdl-parser',\n",
       "   'count': 12321,\n",
       "   'date': '2023'},\n",
       "  {'package': 'rmw-dds-common',\n",
       "   'distro': 'foxy',\n",
       "   'name': 'ros-foxy-rmw-dds-common',\n",
       "   'count': 12304,\n",
       "   'date': '2023'},\n",
       "  {'package': 'rmw-fastrtps-cpp',\n",
       "   'distro': 'foxy',\n",
       "   'name': 'ros-foxy-rmw-fastrtps-cpp',\n",
       "   'count': 12294,\n",
       "   'date': '2023'},\n",
       "  {'package': 'rmw-implementation-cmake',\n",
       "   'distro': 'foxy',\n",
       "   'name': 'ros-foxy-rmw-implementation-cmake',\n",
       "   'count': 12282,\n",
       "   'date': '2023'},\n",
       "  {'package': 'rmw-fastrtps-shared-cpp',\n",
       "   'distro': 'foxy',\n",
       "   'name': 'ros-foxy-rmw-fastrtps-shared-cpp',\n",
       "   'count': 12267,\n",
       "   'date': '2023'},\n",
       "  {'package': 'spdlog-vendor',\n",
       "   'distro': 'foxy',\n",
       "   'name': 'ros-foxy-spdlog-vendor',\n",
       "   'count': 12253,\n",
       "   'date': '2023'},\n",
       "  {'package': 'orocos-kdl',\n",
       "   'distro': 'melodic',\n",
       "   'name': 'ros-melodic-orocos-kdl',\n",
       "   'count': 12191,\n",
       "   'date': '2023'},\n",
       "  {'package': 'moveit-planners',\n",
       "   'distro': 'noetic',\n",
       "   'name': 'ros-noetic-moveit-planners',\n",
       "   'count': 12179,\n",
       "   'date': '2023'},\n",
       "  {'package': 'urdfdom-py',\n",
       "   'distro': 'humble',\n",
       "   'name': 'ros-humble-urdfdom-py',\n",
       "   'count': 12147,\n",
       "   'date': '2023'},\n",
       "  {'package': 'rosidl-typesupport-fastrtps-c',\n",
       "   'distro': 'foxy',\n",
       "   'name': 'ros-foxy-rosidl-typesupport-fastrtps-c',\n",
       "   'count': 12130,\n",
       "   'date': '2023'},\n",
       "  {'package': 'ament-cmake-ros',\n",
       "   'distro': 'foxy',\n",
       "   'name': 'ros-foxy-ament-cmake-ros',\n",
       "   'count': 12119,\n",
       "   'date': '2023'},\n",
       "  {'package': 'tf2-kdl',\n",
       "   'distro': 'melodic',\n",
       "   'name': 'ros-melodic-tf2-kdl',\n",
       "   'count': 12115,\n",
       "   'date': '2023'},\n",
       "  {'package': 'foonathan-memory-vendor',\n",
       "   'distro': 'foxy',\n",
       "   'name': 'ros-foxy-foonathan-memory-vendor',\n",
       "   'count': 12100,\n",
       "   'date': '2023'},\n",
       "  {'package': 'fastrtps',\n",
       "   'distro': 'foxy',\n",
       "   'name': 'ros-foxy-fastrtps',\n",
       "   'count': 12098,\n",
       "   'date': '2023'},\n",
       "  {'package': 'domain-coordinator',\n",
       "   'distro': 'foxy',\n",
       "   'name': 'ros-foxy-domain-coordinator',\n",
       "   'count': 12097,\n",
       "   'date': '2023'},\n",
       "  {'package': 'rosidl-typesupport-fastrtps-cpp',\n",
       "   'distro': 'foxy',\n",
       "   'name': 'ros-foxy-rosidl-typesupport-fastrtps-cpp',\n",
       "   'count': 12097,\n",
       "   'date': '2023'},\n",
       "  {'package': 'ackermann-steering-controller',\n",
       "   'distro': 'noetic',\n",
       "   'name': 'ros-noetic-ackermann-steering-controller',\n",
       "   'count': 12071,\n",
       "   'date': '2023'},\n",
       "  {'package': 'fastrtps-cmake-module',\n",
       "   'distro': 'foxy',\n",
       "   'name': 'ros-foxy-fastrtps-cmake-module',\n",
       "   'count': 12068,\n",
       "   'date': '2023'},\n",
       "  {'package': 'robot-state-publisher',\n",
       "   'distro': 'melodic',\n",
       "   'name': 'ros-melodic-robot-state-publisher',\n",
       "   'count': 12060,\n",
       "   'date': '2023'},\n",
       "  {'package': 'camera-calibration-parsers',\n",
       "   'distro': 'melodic',\n",
       "   'name': 'ros-melodic-camera-calibration-parsers',\n",
       "   'count': 12029,\n",
       "   'date': '2023'},\n",
       "  {'package': 'ament-lint',\n",
       "   'distro': 'rolling',\n",
       "   'name': 'ros-rolling-ament-lint',\n",
       "   'count': 12025,\n",
       "   'date': '2023'},\n",
       "  {'package': 'gazebo-dev',\n",
       "   'distro': 'humble',\n",
       "   'name': 'ros-humble-gazebo-dev',\n",
       "   'count': 12014,\n",
       "   'date': '2023'},\n",
       "  {'package': 'pcl-ros',\n",
       "   'distro': 'melodic',\n",
       "   'name': 'ros-melodic-pcl-ros',\n",
       "   'count': 12003,\n",
       "   'date': '2023'},\n",
       "  {'package': 'imu-sensor-broadcaster',\n",
       "   'distro': 'humble',\n",
       "   'name': 'ros-humble-imu-sensor-broadcaster',\n",
       "   'count': 12001,\n",
       "   'date': '2023'},\n",
       "  {'package': 'pcl-msgs',\n",
       "   'distro': 'melodic',\n",
       "   'name': 'ros-melodic-pcl-msgs',\n",
       "   'count': 11982,\n",
       "   'date': '2023'},\n",
       "  {'package': 'rviz',\n",
       "   'distro': 'melodic',\n",
       "   'name': 'ros-melodic-rviz',\n",
       "   'count': 11945,\n",
       "   'date': '2023'},\n",
       "  {'package': 'python-orocos-kdl',\n",
       "   'distro': 'melodic',\n",
       "   'name': 'ros-melodic-python-orocos-kdl',\n",
       "   'count': 11935,\n",
       "   'date': '2023'},\n",
       "  {'package': 'effort-controllers',\n",
       "   'distro': 'humble',\n",
       "   'name': 'ros-humble-effort-controllers',\n",
       "   'count': 11900,\n",
       "   'date': '2023'},\n",
       "  {'package': 'random-numbers',\n",
       "   'distro': 'humble',\n",
       "   'name': 'ros-humble-random-numbers',\n",
       "   'count': 11858,\n",
       "   'date': '2023'},\n",
       "  {'package': '',\n",
       "   'distro': 'ifcfg',\n",
       "   'name': 'python3-ifcfg',\n",
       "   'count': 11851,\n",
       "   'date': '2023'},\n",
       "  {'package': 'image-geometry',\n",
       "   'distro': 'melodic',\n",
       "   'name': 'ros-melodic-image-geometry',\n",
       "   'count': 11850,\n",
       "   'date': '2023'},\n",
       "  {'package': 'pcl-conversions',\n",
       "   'distro': 'melodic',\n",
       "   'name': 'ros-melodic-pcl-conversions',\n",
       "   'count': 11826,\n",
       "   'date': '2023'},\n",
       "  {'package': 'gazebo-ros2-control',\n",
       "   'distro': 'humble',\n",
       "   'name': 'ros-humble-gazebo-ros2-control',\n",
       "   'count': 11787,\n",
       "   'date': '2023'},\n",
       "  {'package': 'tricycle-controller',\n",
       "   'distro': 'humble',\n",
       "   'name': 'ros-humble-tricycle-controller',\n",
       "   'count': 11778,\n",
       "   'date': '2023'},\n",
       "  {'package': 'moveit-msgs',\n",
       "   'distro': 'humble',\n",
       "   'name': 'ros-humble-moveit-msgs',\n",
       "   'count': 11753,\n",
       "   'date': '2023'},\n",
       "  {'package': 'geometric-shapes',\n",
       "   'distro': 'humble',\n",
       "   'name': 'ros-humble-geometric-shapes',\n",
       "   'count': 11724,\n",
       "   'date': '2023'},\n",
       "  {'package': 'moveit-ros-control-interface',\n",
       "   'distro': 'noetic',\n",
       "   'name': 'ros-noetic-moveit-ros-control-interface',\n",
       "   'count': 11717,\n",
       "   'date': '2023'},\n",
       "  {'package': 'sensor-msgs',\n",
       "   'distro': 'foxy',\n",
       "   'name': 'ros-foxy-sensor-msgs',\n",
       "   'count': 11705,\n",
       "   'date': '2023'},\n",
       "  {'package': 'camera-info-manager',\n",
       "   'distro': 'melodic',\n",
       "   'name': 'ros-melodic-camera-info-manager',\n",
       "   'count': 11682,\n",
       "   'date': '2023'},\n",
       "  {'package': 'admittance-controller',\n",
       "   'distro': 'humble',\n",
       "   'name': 'ros-humble-admittance-controller',\n",
       "   'count': 11642,\n",
       "   'date': '2023'},\n",
       "  {'package': 'steering-controllers-library',\n",
       "   'distro': 'humble',\n",
       "   'name': 'ros-humble-steering-controllers-library',\n",
       "   'count': 11630,\n",
       "   'date': '2023'},\n",
       "  {'package': 'ackermann-steering-controller',\n",
       "   'distro': 'humble',\n",
       "   'name': 'ros-humble-ackermann-steering-controller',\n",
       "   'count': 11623,\n",
       "   'date': '2023'},\n",
       "  {'package': 'ament-index-cpp',\n",
       "   'distro': 'foxy',\n",
       "   'name': 'ros-foxy-ament-index-cpp',\n",
       "   'count': 11621,\n",
       "   'date': '2023'},\n",
       "  {'package': 'ros2-controllers',\n",
       "   'distro': 'humble',\n",
       "   'name': 'ros-humble-ros2-controllers',\n",
       "   'count': 11621,\n",
       "   'date': '2023'},\n",
       "  {'package': 'console-bridge-vendor',\n",
       "   'distro': 'foxy',\n",
       "   'name': 'ros-foxy-console-bridge-vendor',\n",
       "   'count': 11608,\n",
       "   'date': '2023'},\n",
       "  {'package': 'actionlib',\n",
       "   'distro': 'melodic',\n",
       "   'name': 'ros-melodic-actionlib',\n",
       "   'count': 11590,\n",
       "   'date': '2023'},\n",
       "  {'package': 'class-loader',\n",
       "   'distro': 'foxy',\n",
       "   'name': 'ros-foxy-class-loader',\n",
       "   'count': 11580,\n",
       "   'date': '2023'},\n",
       "  {'package': 'srdfdom',\n",
       "   'distro': 'humble',\n",
       "   'name': 'ros-humble-srdfdom',\n",
       "   'count': 11579,\n",
       "   'date': '2023'},\n",
       "  {'package': 'bicycle-steering-controller',\n",
       "   'distro': 'humble',\n",
       "   'name': 'ros-humble-bicycle-steering-controller',\n",
       "   'count': 11559,\n",
       "   'date': '2023'},\n",
       "  {'package': 'tricycle-steering-controller',\n",
       "   'distro': 'humble',\n",
       "   'name': 'ros-humble-tricycle-steering-controller',\n",
       "   'count': 11513,\n",
       "   'date': '2023'},\n",
       "  {'package': 'tf-transformations',\n",
       "   'distro': 'humble',\n",
       "   'name': 'ros-humble-tf-transformations',\n",
       "   'count': 11507,\n",
       "   'date': '2023'},\n",
       "  {'package': 'ament-lint',\n",
       "   'distro': 'foxy',\n",
       "   'name': 'ros-foxy-ament-lint',\n",
       "   'count': 11445,\n",
       "   'date': '2023'},\n",
       "  {'package': 'dynamic-reconfigure',\n",
       "   'distro': 'melodic',\n",
       "   'name': 'ros-melodic-dynamic-reconfigure',\n",
       "   'count': 11444,\n",
       "   'date': '2023'},\n",
       "  {'package': 'warehouse-ros',\n",
       "   'distro': 'humble',\n",
       "   'name': 'ros-humble-warehouse-ros',\n",
       "   'count': 11421,\n",
       "   'date': '2023'},\n",
       "  {'package': 'rospy-message-converter',\n",
       "   'distro': 'noetic',\n",
       "   'name': 'ros-noetic-rospy-message-converter',\n",
       "   'count': 11413,\n",
       "   'date': '2023'},\n",
       "  {'package': 'tinyxml2-vendor',\n",
       "   'distro': 'foxy',\n",
       "   'name': 'ros-foxy-tinyxml2-vendor',\n",
       "   'count': 11381,\n",
       "   'date': '2023'},\n",
       "  {'package': 'composition-interfaces',\n",
       "   'distro': 'foxy',\n",
       "   'name': 'ros-foxy-composition-interfaces',\n",
       "   'count': 11354,\n",
       "   'date': '2023'},\n",
       "  {'package': 'geometry-msgs',\n",
       "   'distro': 'foxy',\n",
       "   'name': 'ros-foxy-geometry-msgs',\n",
       "   'count': 11333,\n",
       "   'date': '2023'},\n",
       "  {'package': 'message-filters',\n",
       "   'distro': 'foxy',\n",
       "   'name': 'ros-foxy-message-filters',\n",
       "   'count': 11330,\n",
       "   'date': '2023'},\n",
       "  {'package': 'ros-controllers',\n",
       "   'distro': 'noetic',\n",
       "   'name': 'ros-noetic-ros-controllers',\n",
       "   'count': 11310,\n",
       "   'date': '2023'},\n",
       "  {'package': 'pluginlib',\n",
       "   'distro': 'melodic',\n",
       "   'name': 'ros-melodic-pluginlib',\n",
       "   'count': 11302,\n",
       "   'date': '2023'},\n",
       "  {'package': 'eigen3-cmake-module',\n",
       "   'distro': 'foxy',\n",
       "   'name': 'ros-foxy-eigen3-cmake-module',\n",
       "   'count': 11291,\n",
       "   'date': '2023'},\n",
       "  {'package': 'rosserial-msgs',\n",
       "   'distro': 'noetic',\n",
       "   'name': 'ros-noetic-rosserial-msgs',\n",
       "   'count': 11282,\n",
       "   'date': '2023'},\n",
       "  {'package': 'rospy',\n",
       "   'distro': 'melodic',\n",
       "   'name': 'ros-melodic-rospy',\n",
       "   'count': 11269,\n",
       "   'date': '2023'},\n",
       "  {'package': 'moveit-plugins',\n",
       "   'distro': 'noetic',\n",
       "   'name': 'ros-noetic-moveit-plugins',\n",
       "   'count': 11269,\n",
       "   'date': '2023'},\n",
       "  {'package': 'rosbag-storage',\n",
       "   'distro': 'melodic',\n",
       "   'name': 'ros-melodic-rosbag-storage',\n",
       "   'count': 11265,\n",
       "   'date': '2023'},\n",
       "  {'package': 'roslaunch',\n",
       "   'distro': 'melodic',\n",
       "   'name': 'ros-melodic-roslaunch',\n",
       "   'count': 11258,\n",
       "   'date': '2023'},\n",
       "  {'package': 'rosbag',\n",
       "   'distro': 'melodic',\n",
       "   'name': 'ros-melodic-rosbag',\n",
       "   'count': 11251,\n",
       "   'date': '2023'},\n",
       "  {'package': 'std-msgs',\n",
       "   'distro': 'melodic',\n",
       "   'name': 'ros-melodic-std-msgs',\n",
       "   'count': 11247,\n",
       "   'date': '2023'},\n",
       "  {'package': 'ament-flake8',\n",
       "   'distro': 'rolling',\n",
       "   'name': 'ros-rolling-ament-flake8',\n",
       "   'count': 11245,\n",
       "   'date': '2023'},\n",
       "  {'package': 'rosserial-python',\n",
       "   'distro': 'noetic',\n",
       "   'name': 'ros-noetic-rosserial-python',\n",
       "   'count': 11244,\n",
       "   'date': '2023'},\n",
       "  {'package': 'genmsg',\n",
       "   'distro': 'melodic',\n",
       "   'name': 'ros-melodic-genmsg',\n",
       "   'count': 11241,\n",
       "   'date': '2023'},\n",
       "  {'package': 'rosmsg',\n",
       "   'distro': 'melodic',\n",
       "   'name': 'ros-melodic-rosmsg',\n",
       "   'count': 11240,\n",
       "   'date': '2023'},\n",
       "  {'package': 'message-runtime',\n",
       "   'distro': 'melodic',\n",
       "   'name': 'ros-melodic-message-runtime',\n",
       "   'count': 11237,\n",
       "   'date': '2023'},\n",
       "  {'package': 'rosservice',\n",
       "   'distro': 'melodic',\n",
       "   'name': 'ros-melodic-rosservice',\n",
       "   'count': 11234,\n",
       "   'date': '2023'},\n",
       "  {'package': 'genpy',\n",
       "   'distro': 'melodic',\n",
       "   'name': 'ros-melodic-genpy',\n",
       "   'count': 11220,\n",
       "   'date': '2023'},\n",
       "  {'package': 'gencpp',\n",
       "   'distro': 'melodic',\n",
       "   'name': 'ros-melodic-gencpp',\n",
       "   'count': 11218,\n",
       "   'date': '2023'},\n",
       "  {'package': 'message-generation',\n",
       "   'distro': 'melodic',\n",
       "   'name': 'ros-melodic-message-generation',\n",
       "   'count': 11215,\n",
       "   'date': '2023'},\n",
       "  {'package': 'nodelet',\n",
       "   'distro': 'melodic',\n",
       "   'name': 'ros-melodic-nodelet',\n",
       "   'count': 11213,\n",
       "   'date': '2023'},\n",
       "  {'package': 'rostopic',\n",
       "   'distro': 'melodic',\n",
       "   'name': 'ros-melodic-rostopic',\n",
       "   'count': 11213,\n",
       "   'date': '2023'},\n",
       "  {'package': 'rostest',\n",
       "   'distro': 'melodic',\n",
       "   'name': 'ros-melodic-rostest',\n",
       "   'count': 11211,\n",
       "   'date': '2023'},\n",
       "  {'package': 'rclcpp-components',\n",
       "   'distro': 'foxy',\n",
       "   'name': 'ros-foxy-rclcpp-components',\n",
       "   'count': 11211,\n",
       "   'date': '2023'},\n",
       "  {'package': 'rosconsole',\n",
       "   'distro': 'melodic',\n",
       "   'name': 'ros-melodic-rosconsole',\n",
       "   'count': 11211,\n",
       "   'date': '2023'},\n",
       "  {'package': 'genlisp',\n",
       "   'distro': 'melodic',\n",
       "   'name': 'ros-melodic-genlisp',\n",
       "   'count': 11207,\n",
       "   'date': '2023'},\n",
       "  {'package': 'rosbuild',\n",
       "   'distro': 'melodic',\n",
       "   'name': 'ros-melodic-rosbuild',\n",
       "   'count': 11205,\n",
       "   'date': '2023'},\n",
       "  {'package': 'nav-msgs',\n",
       "   'distro': 'foxy',\n",
       "   'name': 'ros-foxy-nav-msgs',\n",
       "   'count': 11204,\n",
       "   'date': '2023'},\n",
       "  {'package': 'geneus',\n",
       "   'distro': 'melodic',\n",
       "   'name': 'ros-melodic-geneus',\n",
       "   'count': 11197,\n",
       "   'date': '2023'},\n",
       "  {'package': 'roswtf',\n",
       "   'distro': 'melodic',\n",
       "   'name': 'ros-melodic-roswtf',\n",
       "   'count': 11194,\n",
       "   'date': '2023'},\n",
       "  {'package': 'ament-xmllint',\n",
       "   'distro': 'foxy',\n",
       "   'name': 'ros-foxy-ament-xmllint',\n",
       "   'count': 11187,\n",
       "   'date': '2023'},\n",
       "  {'package': 'rosgraph-msgs',\n",
       "   'distro': 'melodic',\n",
       "   'name': 'ros-melodic-rosgraph-msgs',\n",
       "   'count': 11186,\n",
       "   'date': '2023'},\n",
       "  {'package': 'rosnode',\n",
       "   'distro': 'melodic',\n",
       "   'name': 'ros-melodic-rosnode',\n",
       "   'count': 11185,\n",
       "   'date': '2023'},\n",
       "  {'package': 'moveit-ros',\n",
       "   'distro': 'noetic',\n",
       "   'name': 'ros-noetic-moveit-ros',\n",
       "   'count': 11185,\n",
       "   'date': '2023'},\n",
       "  {'package': 'ament-uncrustify',\n",
       "   'distro': 'foxy',\n",
       "   'name': 'ros-foxy-ament-uncrustify',\n",
       "   'count': 11171,\n",
       "   'date': '2023'},\n",
       "  {'package': 'roscpp',\n",
       "   'distro': 'melodic',\n",
       "   'name': 'ros-melodic-roscpp',\n",
       "   'count': 11170,\n",
       "   'date': '2023'},\n",
       "  {'package': 'gennodejs',\n",
       "   'distro': 'melodic',\n",
       "   'name': 'ros-melodic-gennodejs',\n",
       "   'count': 11159,\n",
       "   'date': '2023'},\n",
       "  {'package': 'rclcpp-action',\n",
       "   'distro': 'foxy',\n",
       "   'name': 'ros-foxy-rclcpp-action',\n",
       "   'count': 11133,\n",
       "   'date': '2023'},\n",
       "  {'package': 'tf2',\n",
       "   'distro': 'foxy',\n",
       "   'name': 'ros-foxy-tf2',\n",
       "   'count': 11119,\n",
       "   'date': '2023'},\n",
       "  {'package': 'tf2-msgs',\n",
       "   'distro': 'foxy',\n",
       "   'name': 'ros-foxy-tf2-msgs',\n",
       "   'count': 11112,\n",
       "   'date': '2023'},\n",
       "  {'package': 'rosidl-default-generators',\n",
       "   'distro': 'foxy',\n",
       "   'name': 'ros-foxy-rosidl-default-generators',\n",
       "   'count': 11110,\n",
       "   'date': '2023'},\n",
       "  {'package': 'rosidl-generator-cpp',\n",
       "   'distro': 'foxy',\n",
       "   'name': 'ros-foxy-rosidl-generator-cpp',\n",
       "   'count': 11099,\n",
       "   'date': '2023'},\n",
       "  {'package': 'tf2-ros',\n",
       "   'distro': 'foxy',\n",
       "   'name': 'ros-foxy-tf2-ros',\n",
       "   'count': 11087,\n",
       "   'date': '2023'},\n",
       "  {'package': 'pluginlib',\n",
       "   'distro': 'foxy',\n",
       "   'name': 'ros-foxy-pluginlib',\n",
       "   'count': 11078,\n",
       "   'date': '2023'},\n",
       "  {'package': 'ament-lint-cmake',\n",
       "   'distro': 'foxy',\n",
       "   'name': 'ros-foxy-ament-lint-cmake',\n",
       "   'count': 11078,\n",
       "   'date': '2023'},\n",
       "  {'package': 'uncrustify-vendor',\n",
       "   'distro': 'foxy',\n",
       "   'name': 'ros-foxy-uncrustify-vendor',\n",
       "   'count': 11078,\n",
       "   'date': '2023'},\n",
       "  {'package': 'tf2-py',\n",
       "   'distro': 'foxy',\n",
       "   'name': 'ros-foxy-tf2-py',\n",
       "   'count': 11076,\n",
       "   'date': '2023'},\n",
       "  {'package': 'launch-param-builder',\n",
       "   'distro': 'humble',\n",
       "   'name': 'ros-humble-launch-param-builder',\n",
       "   'count': 11067,\n",
       "   'date': '2023'},\n",
       "  {'package': 'geometry-msgs',\n",
       "   'distro': 'melodic',\n",
       "   'name': 'ros-melodic-geometry-msgs',\n",
       "   'count': 11053,\n",
       "   'date': '2023'},\n",
       "  {'package': 'ament-cppcheck',\n",
       "   'distro': 'foxy',\n",
       "   'name': 'ros-foxy-ament-cppcheck',\n",
       "   'count': 11043,\n",
       "   'date': '2023'},\n",
       "  {'package': 'ament-cpplint',\n",
       "   'distro': 'foxy',\n",
       "   'name': 'ros-foxy-ament-cpplint',\n",
       "   'count': 11042,\n",
       "   'date': '2023'},\n",
       "  {'package': 'moveit',\n",
       "   'distro': 'noetic',\n",
       "   'name': 'ros-noetic-moveit',\n",
       "   'count': 11024,\n",
       "   'date': '2023'},\n",
       "  {'package': 'unique-identifier-msgs',\n",
       "   'distro': 'foxy',\n",
       "   'name': 'ros-foxy-unique-identifier-msgs',\n",
       "   'count': 11009,\n",
       "   'date': '2023'},\n",
       "  {'package': 'action-msgs',\n",
       "   'distro': 'foxy',\n",
       "   'name': 'ros-foxy-action-msgs',\n",
       "   'count': 10999,\n",
       "   'date': '2023'},\n",
       "  {'package': 'actionlib-msgs',\n",
       "   'distro': 'melodic',\n",
       "   'name': 'ros-melodic-actionlib-msgs',\n",
       "   'count': 10986,\n",
       "   'date': '2023'},\n",
       "  {'package': 'sensor-msgs',\n",
       "   'distro': 'melodic',\n",
       "   'name': 'ros-melodic-sensor-msgs',\n",
       "   'count': 10968,\n",
       "   'date': '2023'},\n",
       "  {'package': 'tf2-geometry-msgs',\n",
       "   'distro': 'foxy',\n",
       "   'name': 'ros-foxy-tf2-geometry-msgs',\n",
       "   'count': 10958,\n",
       "   'date': '2023'},\n",
       "  {'package': 'orocos-kdl',\n",
       "   'distro': 'foxy',\n",
       "   'name': 'ros-foxy-orocos-kdl',\n",
       "   'count': 10942,\n",
       "   'date': '2023'},\n",
       "  {'package': 'rcl-action',\n",
       "   'distro': 'foxy',\n",
       "   'name': 'ros-foxy-rcl-action',\n",
       "   'count': 10937,\n",
       "   'date': '2023'},\n",
       "  {'package': 'bondcpp',\n",
       "   'distro': 'melodic',\n",
       "   'name': 'ros-melodic-bondcpp',\n",
       "   'count': 10932,\n",
       "   'date': '2023'},\n",
       "  {'package': 'nodelet-topic-tools',\n",
       "   'distro': 'melodic',\n",
       "   'name': 'ros-melodic-nodelet-topic-tools',\n",
       "   'count': 10930,\n",
       "   'date': '2023'},\n",
       "  {'package': 'ament-cmake-xmllint',\n",
       "   'distro': 'foxy',\n",
       "   'name': 'ros-foxy-ament-cmake-xmllint',\n",
       "   'count': 10926,\n",
       "   'date': '2023'},\n",
       "  {'package': 'rosout',\n",
       "   'distro': 'melodic',\n",
       "   'name': 'ros-melodic-rosout',\n",
       "   'count': 10925,\n",
       "   'date': '2023'},\n",
       "  {'package': 'bond',\n",
       "   'distro': 'melodic',\n",
       "   'name': 'ros-melodic-bond',\n",
       "   'count': 10922,\n",
       "   'date': '2023'},\n",
       "  {'package': 'std-srvs',\n",
       "   'distro': 'melodic',\n",
       "   'name': 'ros-melodic-std-srvs',\n",
       "   'count': 10922,\n",
       "   'date': '2023'},\n",
       "  {'package': 'gripper-controllers',\n",
       "   'distro': 'humble',\n",
       "   'name': 'ros-humble-gripper-controllers',\n",
       "   'count': 10908,\n",
       "   'date': '2023'},\n",
       "  {'package': 'message-filters',\n",
       "   'distro': 'melodic',\n",
       "   'name': 'ros-melodic-message-filters',\n",
       "   'count': 10890,\n",
       "   'date': '2023'},\n",
       "  {'package': 'topic-tools',\n",
       "   'distro': 'melodic',\n",
       "   'name': 'ros-melodic-topic-tools',\n",
       "   'count': 10887,\n",
       "   'date': '2023'},\n",
       "  {'package': 'rclpy',\n",
       "   'distro': 'foxy',\n",
       "   'name': 'ros-foxy-rclpy',\n",
       "   'count': 10885,\n",
       "   'date': '2023'},\n",
       "  {'package': 'gmapping',\n",
       "   'distro': 'noetic',\n",
       "   'name': 'ros-noetic-gmapping',\n",
       "   'count': 10847,\n",
       "   'date': '2023'},\n",
       "  {'package': 'osrf-pycommon',\n",
       "   'distro': 'foxy',\n",
       "   'name': 'ros-foxy-osrf-pycommon',\n",
       "   'count': 10837,\n",
       "   'date': '2023'},\n",
       "  {'package': 'launch',\n",
       "   'distro': 'foxy',\n",
       "   'name': 'ros-foxy-launch',\n",
       "   'count': 10834,\n",
       "   'date': '2023'},\n",
       "  {'package': 'nav-msgs',\n",
       "   'distro': 'melodic',\n",
       "   'name': 'ros-melodic-nav-msgs',\n",
       "   'count': 10799,\n",
       "   'date': '2023'},\n",
       "  {'package': 'moveit-common',\n",
       "   'distro': 'humble',\n",
       "   'name': 'ros-humble-moveit-common',\n",
       "   'count': 10769,\n",
       "   'date': '2023'},\n",
       "  {'package': 'visualization-msgs',\n",
       "   'distro': 'melodic',\n",
       "   'name': 'ros-melodic-visualization-msgs',\n",
       "   'count': 10731,\n",
       "   'date': '2023'},\n",
       "  {'package': 'laser-proc',\n",
       "   'distro': 'noetic',\n",
       "   'name': 'ros-noetic-laser-proc',\n",
       "   'count': 10724,\n",
       "   'date': '2023'},\n",
       "  {'package': 'ament-cmake-uncrustify',\n",
       "   'distro': 'foxy',\n",
       "   'name': 'ros-foxy-ament-cmake-uncrustify',\n",
       "   'count': 10714,\n",
       "   'date': '2023'},\n",
       "  {'package': 'ament-lint-common',\n",
       "   'distro': 'foxy',\n",
       "   'name': 'ros-foxy-ament-lint-common',\n",
       "   'count': 10709,\n",
       "   'date': '2023'},\n",
       "  {'package': 'ament-cmake-cppcheck',\n",
       "   'distro': 'foxy',\n",
       "   'name': 'ros-foxy-ament-cmake-cppcheck',\n",
       "   'count': 10704,\n",
       "   'date': '2023'},\n",
       "  {'package': 'ament-cmake-copyright',\n",
       "   'distro': 'foxy',\n",
       "   'name': 'ros-foxy-ament-cmake-copyright',\n",
       "   'count': 10704,\n",
       "   'date': '2023'},\n",
       "  {'package': 'ament-cmake-cpplint',\n",
       "   'distro': 'foxy',\n",
       "   'name': 'ros-foxy-ament-cmake-cpplint',\n",
       "   'count': 10698,\n",
       "   'date': '2023'},\n",
       "  {'package': 'lifecycle-msgs',\n",
       "   'distro': 'foxy',\n",
       "   'name': 'ros-foxy-lifecycle-msgs',\n",
       "   'count': 10695,\n",
       "   'date': '2023'},\n",
       "  {'package': 'ament-copyright',\n",
       "   'distro': 'foxy',\n",
       "   'name': 'ros-foxy-ament-copyright',\n",
       "   'count': 10689,\n",
       "   'date': '2023'},\n",
       "  {'package': 'interactive-markers',\n",
       "   'distro': 'melodic',\n",
       "   'name': 'ros-melodic-interactive-markers',\n",
       "   'count': 10666,\n",
       "   'date': '2023'},\n",
       "  {'package': 'rosconsole-bridge',\n",
       "   'distro': 'melodic',\n",
       "   'name': 'ros-melodic-rosconsole-bridge',\n",
       "   'count': 10661,\n",
       "   'date': '2023'},\n",
       "  {'package': 'moveit-core',\n",
       "   'distro': 'humble',\n",
       "   'name': 'ros-humble-moveit-core',\n",
       "   'count': 10632,\n",
       "   'date': '2023'},\n",
       "  {'package': 'ament-lint-auto',\n",
       "   'distro': 'foxy',\n",
       "   'name': 'ros-foxy-ament-lint-auto',\n",
       "   'count': 10620,\n",
       "   'date': '2023'},\n",
       "  {'package': 'trajectory-msgs',\n",
       "   'distro': 'melodic',\n",
       "   'name': 'ros-melodic-trajectory-msgs',\n",
       "   'count': 10619,\n",
       "   'date': '2023'},\n",
       "  {'package': 'diagnostic-msgs',\n",
       "   'distro': 'melodic',\n",
       "   'name': 'ros-melodic-diagnostic-msgs',\n",
       "   'count': 10610,\n",
       "   'date': '2023'},\n",
       "  {'package': 'laser-geometry',\n",
       "   'distro': 'melodic',\n",
       "   'name': 'ros-melodic-laser-geometry',\n",
       "   'count': 10595,\n",
       "   'date': '2023'},\n",
       "  {'package': 'kinematics-interface',\n",
       "   'distro': 'humble',\n",
       "   'name': 'ros-humble-kinematics-interface',\n",
       "   'count': 10584,\n",
       "   'date': '2023'},\n",
       "  {'package': 'dwa-local-planner',\n",
       "   'distro': 'noetic',\n",
       "   'name': 'ros-noetic-dwa-local-planner',\n",
       "   'count': 10553,\n",
       "   'date': '2023'},\n",
       "  {'package': 'ament-cpplint',\n",
       "   'distro': 'rolling',\n",
       "   'name': 'ros-rolling-ament-cpplint',\n",
       "   'count': 10549,\n",
       "   'date': '2023'},\n",
       "  {'package': 'moveit-ros-occupancy-map-monitor',\n",
       "   'distro': 'humble',\n",
       "   'name': 'ros-humble-moveit-ros-occupancy-map-monitor',\n",
       "   'count': 10526,\n",
       "   'date': '2023'},\n",
       "  {'package': 'ament-cppcheck',\n",
       "   'distro': 'rolling',\n",
       "   'name': 'ros-rolling-ament-cppcheck',\n",
       "   'count': 10525,\n",
       "   'date': '2023'},\n",
       "  {'package': 'moveit-ros-planning',\n",
       "   'distro': 'humble',\n",
       "   'name': 'ros-humble-moveit-ros-planning',\n",
       "   'count': 10518,\n",
       "   'date': '2023'},\n",
       "  {'package': 'rclcpp-lifecycle',\n",
       "   'distro': 'foxy',\n",
       "   'name': 'ros-foxy-rclcpp-lifecycle',\n",
       "   'count': 10512,\n",
       "   'date': '2023'},\n",
       "  {'package': 'rcl-lifecycle',\n",
       "   'distro': 'foxy',\n",
       "   'name': 'ros-foxy-rcl-lifecycle',\n",
       "   'count': 10507,\n",
       "   'date': '2023'},\n",
       "  {'package': 'std-srvs',\n",
       "   'distro': 'foxy',\n",
       "   'name': 'ros-foxy-std-srvs',\n",
       "   'count': 10462,\n",
       "   'date': '2023'},\n",
       "  {'package': 'launch-ros',\n",
       "   'distro': 'foxy',\n",
       "   'name': 'ros-foxy-launch-ros',\n",
       "   'count': 10462,\n",
       "   'date': '2023'},\n",
       "  {'package': 'yaml-cpp-vendor',\n",
       "   'distro': 'foxy',\n",
       "   'name': 'ros-foxy-yaml-cpp-vendor',\n",
       "   'count': 10444,\n",
       "   'date': '2023'},\n",
       "  {'package': 'resource-retriever',\n",
       "   'distro': 'melodic',\n",
       "   'name': 'ros-melodic-resource-retriever',\n",
       "   'count': 10441,\n",
       "   'date': '2023'},\n",
       "  {'package': 'moveit-kinematics',\n",
       "   'distro': 'humble',\n",
       "   'name': 'ros-humble-moveit-kinematics',\n",
       "   'count': 10423,\n",
       "   'date': '2023'},\n",
       "  {'package': 'ros-comm',\n",
       "   'distro': 'melodic',\n",
       "   'name': 'ros-melodic-ros-comm',\n",
       "   'count': 10423,\n",
       "   'date': '2023'},\n",
       "  {'package': 'ros-core',\n",
       "   'distro': 'melodic',\n",
       "   'name': 'ros-melodic-ros-core',\n",
       "   'count': 10417,\n",
       "   'date': '2023'},\n",
       "  {'package': 'moveit-ros-move-group',\n",
       "   'distro': 'humble',\n",
       "   'name': 'ros-humble-moveit-ros-move-group',\n",
       "   'count': 10416,\n",
       "   'date': '2023'},\n",
       "  {'package': 'moveit-ros-warehouse',\n",
       "   'distro': 'humble',\n",
       "   'name': 'ros-humble-moveit-ros-warehouse',\n",
       "   'count': 10413,\n",
       "   'date': '2023'},\n",
       "  {'package': 'xmlrpcpp',\n",
       "   'distro': 'melodic',\n",
       "   'name': 'ros-melodic-xmlrpcpp',\n",
       "   'count': 10413,\n",
       "   'date': '2023'},\n",
       "  {'package': 'ament-index-python',\n",
       "   'distro': 'rolling',\n",
       "   'name': 'ros-rolling-ament-index-python',\n",
       "   'count': 10413,\n",
       "   'date': '2023'},\n",
       "  {'package': 'moveit-ros-planning-interface',\n",
       "   'distro': 'humble',\n",
       "   'name': 'ros-humble-moveit-ros-planning-interface',\n",
       "   'count': 10407,\n",
       "   'date': '2023'},\n",
       "  {'package': 'rcutils',\n",
       "   'distro': 'rolling',\n",
       "   'name': 'ros-rolling-rcutils',\n",
       "   'count': 10398,\n",
       "   'date': '2023'},\n",
       "  {'package': 'python-cmake-module',\n",
       "   'distro': 'rolling',\n",
       "   'name': 'ros-rolling-python-cmake-module',\n",
       "   'count': 10397,\n",
       "   'date': '2023'},\n",
       "  {'package': 'rcpputils',\n",
       "   'distro': 'rolling',\n",
       "   'name': 'ros-rolling-rcpputils',\n",
       "   'count': 10392,\n",
       "   'date': '2023'},\n",
       "  {'package': 'rosgraph',\n",
       "   'distro': 'melodic',\n",
       "   'name': 'ros-melodic-rosgraph',\n",
       "   'count': 10384,\n",
       "   'date': '2023'},\n",
       "  {'package': 'rosidl-typesupport-c',\n",
       "   'distro': 'rolling',\n",
       "   'name': 'ros-rolling-rosidl-typesupport-c',\n",
       "   'count': 10378,\n",
       "   'date': '2023'},\n",
       "  {'package': 'rosidl-typesupport-interface',\n",
       "   'distro': 'rolling',\n",
       "   'name': 'ros-rolling-rosidl-typesupport-interface',\n",
       "   'count': 10371,\n",
       "   'date': '2023'},\n",
       "  {'package': 'ament-pep257',\n",
       "   'distro': 'rolling',\n",
       "   'name': 'ros-rolling-ament-pep257',\n",
       "   'count': 10370,\n",
       "   'date': '2023'},\n",
       "  {'package': 'rosidl-runtime-c',\n",
       "   'distro': 'rolling',\n",
       "   'name': 'ros-rolling-rosidl-runtime-c',\n",
       "   'count': 10369,\n",
       "   'date': '2023'},\n",
       "  {'package': 'rpyutils',\n",
       "   'distro': 'rolling',\n",
       "   'name': 'ros-rolling-rpyutils',\n",
       "   'count': 10368,\n",
       "   'date': '2023'},\n",
       "  {'package': 'rosidl-runtime-cpp',\n",
       "   'distro': 'rolling',\n",
       "   'name': 'ros-rolling-rosidl-runtime-cpp',\n",
       "   'count': 10368,\n",
       "   'date': '2023'},\n",
       "  {'package': 'filters',\n",
       "   'distro': 'melodic',\n",
       "   'name': 'ros-melodic-filters',\n",
       "   'count': 10365,\n",
       "   'date': '2023'},\n",
       "  {'package': 'rosidl-typesupport-cpp',\n",
       "   'distro': 'rolling',\n",
       "   'name': 'ros-rolling-rosidl-typesupport-cpp',\n",
       "   'count': 10364,\n",
       "   'date': '2023'},\n",
       "  {'package': 'ament-lint-cmake',\n",
       "   'distro': 'rolling',\n",
       "   'name': 'ros-rolling-ament-lint-cmake',\n",
       "   'count': 10363,\n",
       "   'date': '2023'},\n",
       "  {'package': 'rosidl-adapter',\n",
       "   'distro': 'rolling',\n",
       "   'name': 'ros-rolling-rosidl-adapter',\n",
       "   'count': 10362,\n",
       "   'date': '2023'},\n",
       "  {'package': 'rosidl-generator-py',\n",
       "   'distro': 'rolling',\n",
       "   'name': 'ros-rolling-rosidl-generator-py',\n",
       "   'count': 10362,\n",
       "   'date': '2023'},\n",
       "  {'package': 'rosidl-parser',\n",
       "   'distro': 'rolling',\n",
       "   'name': 'ros-rolling-rosidl-parser',\n",
       "   'count': 10361,\n",
       "   'date': '2023'},\n",
       "  {'package': 'rosidl-cli',\n",
       "   'distro': 'rolling',\n",
       "   'name': 'ros-rolling-rosidl-cli',\n",
       "   'count': 10360,\n",
       "   'date': '2023'},\n",
       "  {'package': 'rosidl-generator-c',\n",
       "   'distro': 'rolling',\n",
       "   'name': 'ros-rolling-rosidl-generator-c',\n",
       "   'count': 10355,\n",
       "   'date': '2023'},\n",
       "  {'package': 'rosidl-typesupport-introspection-cpp',\n",
       "   'distro': 'rolling',\n",
       "   'name': 'ros-rolling-rosidl-typesupport-introspection-cpp',\n",
       "   'count': 10355,\n",
       "   'date': '2023'},\n",
       "  {'package': 'rosparam',\n",
       "   'distro': 'melodic',\n",
       "   'name': 'ros-melodic-rosparam',\n",
       "   'count': 10354,\n",
       "   'date': '2023'},\n",
       "  {'package': 'rosidl-cmake',\n",
       "   'distro': 'rolling',\n",
       "   'name': 'ros-rolling-rosidl-cmake',\n",
       "   'count': 10354,\n",
       "   'date': '2023'},\n",
       "  {'package': 'rosidl-typesupport-introspection-c',\n",
       "   'distro': 'rolling',\n",
       "   'name': 'ros-rolling-rosidl-typesupport-introspection-c',\n",
       "   'count': 10353,\n",
       "   'date': '2023'},\n",
       "  {'package': 'rosmaster',\n",
       "   'distro': 'melodic',\n",
       "   'name': 'ros-melodic-rosmaster',\n",
       "   'count': 10348,\n",
       "   'date': '2023'},\n",
       "  {'package': 'roslisp',\n",
       "   'distro': 'melodic',\n",
       "   'name': 'ros-melodic-roslisp',\n",
       "   'count': 10347,\n",
       "   'date': '2023'},\n",
       "  {'package': 'builtin-interfaces',\n",
       "   'distro': 'rolling',\n",
       "   'name': 'ros-rolling-builtin-interfaces',\n",
       "   'count': 10346,\n",
       "   'date': '2023'},\n",
       "  {'package': 'roslib',\n",
       "   'distro': 'melodic',\n",
       "   'name': 'ros-melodic-roslib',\n",
       "   'count': 10345,\n",
       "   'date': '2023'},\n",
       "  {'package': 'rmw',\n",
       "   'distro': 'rolling',\n",
       "   'name': 'ros-rolling-rmw',\n",
       "   'count': 10343,\n",
       "   'date': '2023'},\n",
       "  {'package': 'unique-identifier-msgs',\n",
       "   'distro': 'rolling',\n",
       "   'name': 'ros-rolling-unique-identifier-msgs',\n",
       "   'count': 10325,\n",
       "   'date': '2023'},\n",
       "  {'package': 'ament-uncrustify',\n",
       "   'distro': 'rolling',\n",
       "   'name': 'ros-rolling-ament-uncrustify',\n",
       "   'count': 10319,\n",
       "   'date': '2023'},\n",
       "  {'package': 'ament-cmake-cppcheck',\n",
       "   'distro': 'rolling',\n",
       "   'name': 'ros-rolling-ament-cmake-cppcheck',\n",
       "   'count': 10318,\n",
       "   'date': '2023'},\n",
       "  {'package': 'action-msgs',\n",
       "   'distro': 'rolling',\n",
       "   'name': 'ros-rolling-action-msgs',\n",
       "   'count': 10310,\n",
       "   'date': '2023'},\n",
       "  {'package': 'rosidl-default-runtime',\n",
       "   'distro': 'rolling',\n",
       "   'name': 'ros-rolling-rosidl-default-runtime',\n",
       "   'count': 10306,\n",
       "   'date': '2023'},\n",
       "  ...],\n",
       " 'distro': [{'name': 'boxturtle', 'prct': 0.0, 'date': '2023'},\n",
       "  {'name': 'cturtle', 'prct': 0.0, 'date': '2023'},\n",
       "  {'name': 'diamondback', 'prct': 0.0, 'date': '2023'},\n",
       "  {'name': 'electric', 'prct': 0.0, 'date': '2023'},\n",
       "  {'name': 'fuerte', 'prct': 0.0, 'date': '2023'},\n",
       "  {'name': 'groovy', 'prct': 0.0, 'date': '2023'},\n",
       "  {'name': 'hydro', 'prct': 0.0, 'date': '2023'},\n",
       "  {'name': 'indigo', 'prct': 0.24, 'date': '2023'},\n",
       "  {'name': 'jade', 'prct': 0.0, 'date': '2023'},\n",
       "  {'name': 'kinetic', 'prct': 1.14, 'date': '2023'},\n",
       "  {'name': 'lunar', 'prct': 0.04, 'date': '2023'},\n",
       "  {'name': 'melodic', 'prct': 5.66, 'date': '2023'},\n",
       "  {'name': 'noetic', 'prct': 30.51, 'date': '2023'},\n",
       "  {'name': 'ardent', 'prct': 0.0, 'date': '2023'},\n",
       "  {'name': 'bouncy', 'prct': 0.0, 'date': '2023'},\n",
       "  {'name': 'crystal', 'prct': 0.01, 'date': '2023'},\n",
       "  {'name': 'dashing', 'prct': 0.2, 'date': '2023'},\n",
       "  {'name': 'eloquent', 'prct': 0.16, 'date': '2023'},\n",
       "  {'name': 'foxy', 'prct': 6.37, 'date': '2023'},\n",
       "  {'name': 'galactic', 'prct': 2.33, 'date': '2023'},\n",
       "  {'name': 'humble', 'prct': 32.79, 'date': '2023'},\n",
       "  {'name': 'iron', 'prct': 4.97, 'date': '2023'},\n",
       "  {'name': 'rolling', 'prct': 4.82, 'date': '2023'}],\n",
       " 'arch': [{'name': 'i386', 'prct': 0.12, 'date': '2023'},\n",
       "  {'name': 'amd64', 'prct': 83.69, 'date': '2023'},\n",
       "  {'name': 'armhf', 'prct': 0.27, 'date': '2023'},\n",
       "  {'name': 'arm64', 'prct': 9.18, 'date': '2023'},\n",
       "  {'name': 'source', 'prct': 0.0, 'date': '2023'}],\n",
       " 'arch_x_os': [{'name': 'bionic_amd64', 'prct': 4.67, 'date': '2023'},\n",
       "  {'name': 'bionic_arm64', 'prct': 1.23, 'date': '2023'},\n",
       "  {'name': 'bionic_armhf', 'prct': 0.06, 'date': '2023'},\n",
       "  {'name': 'buster_amd64', 'prct': 0.12, 'date': '2023'},\n",
       "  {'name': 'buster_arm64', 'prct': 0.04, 'date': '2023'},\n",
       "  {'name': 'buster_armhf', 'prct': 0.0, 'date': '2023'},\n",
       "  {'name': 'disco_amd64', 'prct': 0.0, 'date': '2023'},\n",
       "  {'name': 'focal_amd64', 'prct': 36.82, 'date': '2023'},\n",
       "  {'name': 'focal_arm64', 'prct': 4.68, 'date': '2023'},\n",
       "  {'name': 'focal_armhf', 'prct': 0.14, 'date': '2023'},\n",
       "  {'name': 'jammy_amd64', 'prct': 40.62, 'date': '2023'},\n",
       "  {'name': 'jammy_arm64', 'prct': 3.15, 'date': '2023'},\n",
       "  {'name': 'jammy_armhf', 'prct': 0.0, 'date': '2023'},\n",
       "  {'name': 'stretch_amd64', 'prct': 0.07, 'date': '2023'},\n",
       "  {'name': 'stretch_arm64', 'prct': 0.03, 'date': '2023'},\n",
       "  {'name': 'trusty_amd64', 'prct': 0.22, 'date': '2023'},\n",
       "  {'name': 'trusty_armhf', 'prct': 0.02, 'date': '2023'},\n",
       "  {'name': 'trusty_i386', 'prct': 0.03, 'date': '2023'},\n",
       "  {'name': 'xenial_amd64', 'prct': 1.0, 'date': '2023'},\n",
       "  {'name': 'xenial_arm64', 'prct': 0.04, 'date': '2023'},\n",
       "  {'name': 'xenial_armhf', 'prct': 0.05, 'date': '2023'},\n",
       "  {'name': 'xenial_i386', 'prct': 0.08, 'date': '2023'}],\n",
       " 'stats': [('Number of different packages', ' 26931\\n'),\n",
       "  ('total deb downloads', ' 48510685\\n'),\n",
       "  ('skipped lines', ' 1094239\\n'),\n",
       "  ('processed lines', ' 199520\\n'),\n",
       "  ('shadow_fixed lines skipped', ' 93727\\n')]}"
      ]
     },
     "execution_count": 6,
     "metadata": {},
     "output_type": "execute_result"
    }
   ],
   "source": [
    "# print package data\n",
    "print(len(stats_last[\"package\"]))\n",
    "print(len(stats_this[\"package\"]))\n",
    "print(stats_last.keys())\n",
    "print(stats_last[\"arch_x_os\"])\n",
    "stats_this"
   ]
  },
  {
   "cell_type": "code",
   "execution_count": 7,
   "metadata": {},
   "outputs": [],
   "source": [
    "def dumb_find(lst, k, v):\n",
    "    for i, dic in enumerate(lst):\n",
    "        if dic[k] == v:\n",
    "            return lst[i]\n",
    "    return None\n",
    "\n",
    "def join_stats(stats_list,idx=\"prct\"):\n",
    "    # join two lists of datas into a single dictionary\n",
    "    joined = []\n",
    "    # LIST SHOULD BE THE NEWEST FIRST!!!\n",
    "    first = stats_list[0]\n",
    "    for entry in first:\n",
    "        new_entry = {}\n",
    "        new_entry[\"name\"] = entry[\"name\"]\n",
    "        new_entry.update(entry)\n",
    "        del new_entry[idx]\n",
    "        del new_entry[\"date\"]\n",
    "        \n",
    "        new_entry[entry[\"date\"]] = entry[idx]\n",
    "        for other in stats_list[1:]:\n",
    "            temp = dumb_find(other,\"name\",entry[\"name\"])\n",
    "            if temp:\n",
    "                new_entry[temp[\"date\"]] = temp[idx]\n",
    "        joined.append(new_entry)\n",
    "    return joined"
   ]
  },
  {
   "cell_type": "code",
   "execution_count": 8,
   "metadata": {},
   "outputs": [
    {
     "data": {
      "text/html": [
       "<div>\n",
       "<style scoped>\n",
       "    .dataframe tbody tr th:only-of-type {\n",
       "        vertical-align: middle;\n",
       "    }\n",
       "\n",
       "    .dataframe tbody tr th {\n",
       "        vertical-align: top;\n",
       "    }\n",
       "\n",
       "    .dataframe thead th {\n",
       "        text-align: right;\n",
       "    }\n",
       "</style>\n",
       "<table border=\"1\" class=\"dataframe\">\n",
       "  <thead>\n",
       "    <tr style=\"text-align: right;\">\n",
       "      <th></th>\n",
       "      <th>name</th>\n",
       "      <th>2023</th>\n",
       "      <th>2022</th>\n",
       "    </tr>\n",
       "  </thead>\n",
       "  <tbody>\n",
       "    <tr>\n",
       "      <th>0</th>\n",
       "      <td>boxturtle</td>\n",
       "      <td>0.00</td>\n",
       "      <td>0.00</td>\n",
       "    </tr>\n",
       "    <tr>\n",
       "      <th>1</th>\n",
       "      <td>cturtle</td>\n",
       "      <td>0.00</td>\n",
       "      <td>0.00</td>\n",
       "    </tr>\n",
       "    <tr>\n",
       "      <th>2</th>\n",
       "      <td>diamondback</td>\n",
       "      <td>0.00</td>\n",
       "      <td>0.00</td>\n",
       "    </tr>\n",
       "    <tr>\n",
       "      <th>3</th>\n",
       "      <td>electric</td>\n",
       "      <td>0.00</td>\n",
       "      <td>0.00</td>\n",
       "    </tr>\n",
       "    <tr>\n",
       "      <th>4</th>\n",
       "      <td>fuerte</td>\n",
       "      <td>0.00</td>\n",
       "      <td>0.00</td>\n",
       "    </tr>\n",
       "    <tr>\n",
       "      <th>5</th>\n",
       "      <td>groovy</td>\n",
       "      <td>0.00</td>\n",
       "      <td>0.00</td>\n",
       "    </tr>\n",
       "    <tr>\n",
       "      <th>6</th>\n",
       "      <td>hydro</td>\n",
       "      <td>0.00</td>\n",
       "      <td>0.00</td>\n",
       "    </tr>\n",
       "    <tr>\n",
       "      <th>7</th>\n",
       "      <td>indigo</td>\n",
       "      <td>0.24</td>\n",
       "      <td>0.41</td>\n",
       "    </tr>\n",
       "    <tr>\n",
       "      <th>8</th>\n",
       "      <td>jade</td>\n",
       "      <td>0.00</td>\n",
       "      <td>0.00</td>\n",
       "    </tr>\n",
       "    <tr>\n",
       "      <th>9</th>\n",
       "      <td>kinetic</td>\n",
       "      <td>1.14</td>\n",
       "      <td>2.12</td>\n",
       "    </tr>\n",
       "    <tr>\n",
       "      <th>10</th>\n",
       "      <td>lunar</td>\n",
       "      <td>0.04</td>\n",
       "      <td>0.04</td>\n",
       "    </tr>\n",
       "    <tr>\n",
       "      <th>11</th>\n",
       "      <td>melodic</td>\n",
       "      <td>5.66</td>\n",
       "      <td>17.19</td>\n",
       "    </tr>\n",
       "    <tr>\n",
       "      <th>12</th>\n",
       "      <td>noetic</td>\n",
       "      <td>30.51</td>\n",
       "      <td>34.80</td>\n",
       "    </tr>\n",
       "    <tr>\n",
       "      <th>13</th>\n",
       "      <td>ardent</td>\n",
       "      <td>0.00</td>\n",
       "      <td>0.00</td>\n",
       "    </tr>\n",
       "    <tr>\n",
       "      <th>14</th>\n",
       "      <td>bouncy</td>\n",
       "      <td>0.00</td>\n",
       "      <td>0.00</td>\n",
       "    </tr>\n",
       "    <tr>\n",
       "      <th>15</th>\n",
       "      <td>crystal</td>\n",
       "      <td>0.01</td>\n",
       "      <td>0.01</td>\n",
       "    </tr>\n",
       "    <tr>\n",
       "      <th>16</th>\n",
       "      <td>dashing</td>\n",
       "      <td>0.20</td>\n",
       "      <td>0.51</td>\n",
       "    </tr>\n",
       "    <tr>\n",
       "      <th>17</th>\n",
       "      <td>eloquent</td>\n",
       "      <td>0.16</td>\n",
       "      <td>0.46</td>\n",
       "    </tr>\n",
       "    <tr>\n",
       "      <th>18</th>\n",
       "      <td>foxy</td>\n",
       "      <td>6.37</td>\n",
       "      <td>13.59</td>\n",
       "    </tr>\n",
       "    <tr>\n",
       "      <th>19</th>\n",
       "      <td>galactic</td>\n",
       "      <td>2.33</td>\n",
       "      <td>8.12</td>\n",
       "    </tr>\n",
       "    <tr>\n",
       "      <th>20</th>\n",
       "      <td>humble</td>\n",
       "      <td>32.79</td>\n",
       "      <td>10.04</td>\n",
       "    </tr>\n",
       "    <tr>\n",
       "      <th>21</th>\n",
       "      <td>iron</td>\n",
       "      <td>4.97</td>\n",
       "      <td>0.00</td>\n",
       "    </tr>\n",
       "    <tr>\n",
       "      <th>22</th>\n",
       "      <td>rolling</td>\n",
       "      <td>4.82</td>\n",
       "      <td>3.38</td>\n",
       "    </tr>\n",
       "  </tbody>\n",
       "</table>\n",
       "</div>"
      ],
      "text/plain": [
       "           name   2023   2022\n",
       "0     boxturtle   0.00   0.00\n",
       "1       cturtle   0.00   0.00\n",
       "2   diamondback   0.00   0.00\n",
       "3      electric   0.00   0.00\n",
       "4        fuerte   0.00   0.00\n",
       "5        groovy   0.00   0.00\n",
       "6         hydro   0.00   0.00\n",
       "7        indigo   0.24   0.41\n",
       "8          jade   0.00   0.00\n",
       "9       kinetic   1.14   2.12\n",
       "10        lunar   0.04   0.04\n",
       "11      melodic   5.66  17.19\n",
       "12       noetic  30.51  34.80\n",
       "13       ardent   0.00   0.00\n",
       "14       bouncy   0.00   0.00\n",
       "15      crystal   0.01   0.01\n",
       "16      dashing   0.20   0.51\n",
       "17     eloquent   0.16   0.46\n",
       "18         foxy   6.37  13.59\n",
       "19     galactic   2.33   8.12\n",
       "20       humble  32.79  10.04\n",
       "21         iron   4.97   0.00\n",
       "22      rolling   4.82   3.38"
      ]
     },
     "execution_count": 8,
     "metadata": {},
     "output_type": "execute_result"
    }
   ],
   "source": [
    "# Join together our distro data and make it into a CSV file \n",
    "joined_distro = join_stats([stats_this[\"distro\"],stats_last[\"distro\"]])\n",
    "distro_df = pd.DataFrame(data=joined_distro)\n",
    "distro_df.to_csv(\"distro.csv\")\n",
    "distro_df"
   ]
  },
  {
   "cell_type": "code",
   "execution_count": 9,
   "metadata": {},
   "outputs": [
    {
     "data": {
      "text/html": [
       "<div>\n",
       "<style scoped>\n",
       "    .dataframe tbody tr th:only-of-type {\n",
       "        vertical-align: middle;\n",
       "    }\n",
       "\n",
       "    .dataframe tbody tr th {\n",
       "        vertical-align: top;\n",
       "    }\n",
       "\n",
       "    .dataframe thead th {\n",
       "        text-align: right;\n",
       "    }\n",
       "</style>\n",
       "<table border=\"1\" class=\"dataframe\">\n",
       "  <thead>\n",
       "    <tr style=\"text-align: right;\">\n",
       "      <th></th>\n",
       "      <th>name</th>\n",
       "      <th>2023</th>\n",
       "      <th>2022</th>\n",
       "    </tr>\n",
       "  </thead>\n",
       "  <tbody>\n",
       "    <tr>\n",
       "      <th>0</th>\n",
       "      <td>i386</td>\n",
       "      <td>0.12</td>\n",
       "      <td>0.13</td>\n",
       "    </tr>\n",
       "    <tr>\n",
       "      <th>1</th>\n",
       "      <td>amd64</td>\n",
       "      <td>83.69</td>\n",
       "      <td>86.64</td>\n",
       "    </tr>\n",
       "    <tr>\n",
       "      <th>2</th>\n",
       "      <td>armhf</td>\n",
       "      <td>0.27</td>\n",
       "      <td>0.29</td>\n",
       "    </tr>\n",
       "    <tr>\n",
       "      <th>3</th>\n",
       "      <td>arm64</td>\n",
       "      <td>9.18</td>\n",
       "      <td>7.60</td>\n",
       "    </tr>\n",
       "    <tr>\n",
       "      <th>4</th>\n",
       "      <td>source</td>\n",
       "      <td>0.00</td>\n",
       "      <td>0.00</td>\n",
       "    </tr>\n",
       "  </tbody>\n",
       "</table>\n",
       "</div>"
      ],
      "text/plain": [
       "     name   2023   2022\n",
       "0    i386   0.12   0.13\n",
       "1   amd64  83.69  86.64\n",
       "2   armhf   0.27   0.29\n",
       "3   arm64   9.18   7.60\n",
       "4  source   0.00   0.00"
      ]
     },
     "execution_count": 9,
     "metadata": {},
     "output_type": "execute_result"
    }
   ],
   "source": [
    "# Repeat that process for arch\n",
    "joined_arch = join_stats([stats_this[\"arch\"],stats_last[\"arch\"]])\n",
    "arch_df = pd.DataFrame(data=joined_arch)\n",
    "arch_df.to_csv(\"arch.csv\")\n",
    "arch_df.head()"
   ]
  },
  {
   "cell_type": "code",
   "execution_count": 10,
   "metadata": {},
   "outputs": [
    {
     "data": {
      "text/html": [
       "<div>\n",
       "<style scoped>\n",
       "    .dataframe tbody tr th:only-of-type {\n",
       "        vertical-align: middle;\n",
       "    }\n",
       "\n",
       "    .dataframe tbody tr th {\n",
       "        vertical-align: top;\n",
       "    }\n",
       "\n",
       "    .dataframe thead th {\n",
       "        text-align: right;\n",
       "    }\n",
       "</style>\n",
       "<table border=\"1\" class=\"dataframe\">\n",
       "  <thead>\n",
       "    <tr style=\"text-align: right;\">\n",
       "      <th></th>\n",
       "      <th>name</th>\n",
       "      <th>2023</th>\n",
       "      <th>2022</th>\n",
       "    </tr>\n",
       "  </thead>\n",
       "  <tbody>\n",
       "    <tr>\n",
       "      <th>0</th>\n",
       "      <td>bionic_amd64</td>\n",
       "      <td>4.67</td>\n",
       "      <td>15.33</td>\n",
       "    </tr>\n",
       "    <tr>\n",
       "      <th>1</th>\n",
       "      <td>bionic_arm64</td>\n",
       "      <td>1.23</td>\n",
       "      <td>2.71</td>\n",
       "    </tr>\n",
       "    <tr>\n",
       "      <th>2</th>\n",
       "      <td>bionic_armhf</td>\n",
       "      <td>0.06</td>\n",
       "      <td>0.10</td>\n",
       "    </tr>\n",
       "    <tr>\n",
       "      <th>3</th>\n",
       "      <td>buster_amd64</td>\n",
       "      <td>0.12</td>\n",
       "      <td>0.12</td>\n",
       "    </tr>\n",
       "    <tr>\n",
       "      <th>4</th>\n",
       "      <td>buster_arm64</td>\n",
       "      <td>0.04</td>\n",
       "      <td>0.03</td>\n",
       "    </tr>\n",
       "    <tr>\n",
       "      <th>5</th>\n",
       "      <td>buster_armhf</td>\n",
       "      <td>0.00</td>\n",
       "      <td>0.00</td>\n",
       "    </tr>\n",
       "    <tr>\n",
       "      <th>6</th>\n",
       "      <td>disco_amd64</td>\n",
       "      <td>0.00</td>\n",
       "      <td>0.00</td>\n",
       "    </tr>\n",
       "    <tr>\n",
       "      <th>7</th>\n",
       "      <td>focal_amd64</td>\n",
       "      <td>36.82</td>\n",
       "      <td>56.02</td>\n",
       "    </tr>\n",
       "    <tr>\n",
       "      <th>8</th>\n",
       "      <td>focal_arm64</td>\n",
       "      <td>4.68</td>\n",
       "      <td>3.78</td>\n",
       "    </tr>\n",
       "    <tr>\n",
       "      <th>9</th>\n",
       "      <td>focal_armhf</td>\n",
       "      <td>0.14</td>\n",
       "      <td>0.11</td>\n",
       "    </tr>\n",
       "    <tr>\n",
       "      <th>10</th>\n",
       "      <td>jammy_amd64</td>\n",
       "      <td>40.62</td>\n",
       "      <td>12.40</td>\n",
       "    </tr>\n",
       "    <tr>\n",
       "      <th>11</th>\n",
       "      <td>jammy_arm64</td>\n",
       "      <td>3.15</td>\n",
       "      <td>0.98</td>\n",
       "    </tr>\n",
       "    <tr>\n",
       "      <th>12</th>\n",
       "      <td>jammy_armhf</td>\n",
       "      <td>0.00</td>\n",
       "      <td>NaN</td>\n",
       "    </tr>\n",
       "    <tr>\n",
       "      <th>13</th>\n",
       "      <td>stretch_amd64</td>\n",
       "      <td>0.07</td>\n",
       "      <td>0.04</td>\n",
       "    </tr>\n",
       "    <tr>\n",
       "      <th>14</th>\n",
       "      <td>stretch_arm64</td>\n",
       "      <td>0.03</td>\n",
       "      <td>0.01</td>\n",
       "    </tr>\n",
       "    <tr>\n",
       "      <th>15</th>\n",
       "      <td>trusty_amd64</td>\n",
       "      <td>0.22</td>\n",
       "      <td>0.44</td>\n",
       "    </tr>\n",
       "    <tr>\n",
       "      <th>16</th>\n",
       "      <td>trusty_armhf</td>\n",
       "      <td>0.02</td>\n",
       "      <td>0.01</td>\n",
       "    </tr>\n",
       "    <tr>\n",
       "      <th>17</th>\n",
       "      <td>trusty_i386</td>\n",
       "      <td>0.03</td>\n",
       "      <td>0.01</td>\n",
       "    </tr>\n",
       "    <tr>\n",
       "      <th>18</th>\n",
       "      <td>xenial_amd64</td>\n",
       "      <td>1.00</td>\n",
       "      <td>1.94</td>\n",
       "    </tr>\n",
       "    <tr>\n",
       "      <th>19</th>\n",
       "      <td>xenial_arm64</td>\n",
       "      <td>0.04</td>\n",
       "      <td>0.05</td>\n",
       "    </tr>\n",
       "    <tr>\n",
       "      <th>20</th>\n",
       "      <td>xenial_armhf</td>\n",
       "      <td>0.05</td>\n",
       "      <td>0.06</td>\n",
       "    </tr>\n",
       "    <tr>\n",
       "      <th>21</th>\n",
       "      <td>xenial_i386</td>\n",
       "      <td>0.08</td>\n",
       "      <td>0.10</td>\n",
       "    </tr>\n",
       "  </tbody>\n",
       "</table>\n",
       "</div>"
      ],
      "text/plain": [
       "             name   2023   2022\n",
       "0    bionic_amd64   4.67  15.33\n",
       "1    bionic_arm64   1.23   2.71\n",
       "2    bionic_armhf   0.06   0.10\n",
       "3    buster_amd64   0.12   0.12\n",
       "4    buster_arm64   0.04   0.03\n",
       "5    buster_armhf   0.00   0.00\n",
       "6     disco_amd64   0.00   0.00\n",
       "7     focal_amd64  36.82  56.02\n",
       "8     focal_arm64   4.68   3.78\n",
       "9     focal_armhf   0.14   0.11\n",
       "10    jammy_amd64  40.62  12.40\n",
       "11    jammy_arm64   3.15   0.98\n",
       "12    jammy_armhf   0.00    NaN\n",
       "13  stretch_amd64   0.07   0.04\n",
       "14  stretch_arm64   0.03   0.01\n",
       "15   trusty_amd64   0.22   0.44\n",
       "16   trusty_armhf   0.02   0.01\n",
       "17    trusty_i386   0.03   0.01\n",
       "18   xenial_amd64   1.00   1.94\n",
       "19   xenial_arm64   0.04   0.05\n",
       "20   xenial_armhf   0.05   0.06\n",
       "21    xenial_i386   0.08   0.10"
      ]
     },
     "execution_count": 10,
     "metadata": {},
     "output_type": "execute_result"
    }
   ],
   "source": [
    "# Join arch x os data\n",
    "joined_arch_x_os = join_stats([stats_this[\"arch_x_os\"],stats_last[\"arch_x_os\"]])\n",
    "arch_os_df = pd.DataFrame(data=joined_arch_x_os)\n",
    "arch_os_df.to_csv(\"arch_os.csv\")\n",
    "arch_os_df"
   ]
  },
  {
   "cell_type": "code",
   "execution_count": 11,
   "metadata": {},
   "outputs": [],
   "source": [
    "# finally do this at the package level\n",
    "joined_package = join_stats([stats_this[\"package\"],stats_last[\"package\"]],idx=\"count\")\n",
    "package_df = pd.DataFrame(data=joined_package)\n"
   ]
  },
  {
   "cell_type": "code",
   "execution_count": 12,
   "metadata": {},
   "outputs": [
    {
     "data": {
      "text/html": [
       "<div>\n",
       "<style scoped>\n",
       "    .dataframe tbody tr th:only-of-type {\n",
       "        vertical-align: middle;\n",
       "    }\n",
       "\n",
       "    .dataframe tbody tr th {\n",
       "        vertical-align: top;\n",
       "    }\n",
       "\n",
       "    .dataframe thead th {\n",
       "        text-align: right;\n",
       "    }\n",
       "</style>\n",
       "<table border=\"1\" class=\"dataframe\">\n",
       "  <thead>\n",
       "    <tr style=\"text-align: right;\">\n",
       "      <th></th>\n",
       "      <th>name</th>\n",
       "      <th>package</th>\n",
       "      <th>distro</th>\n",
       "      <th>2023</th>\n",
       "      <th>2022</th>\n",
       "      <th>YoY</th>\n",
       "      <th>YoY_Prct</th>\n",
       "    </tr>\n",
       "  </thead>\n",
       "  <tbody>\n",
       "    <tr>\n",
       "      <th>0</th>\n",
       "      <td>python3-catkin-pkg-modules</td>\n",
       "      <td>pkg-modules</td>\n",
       "      <td>catkin</td>\n",
       "      <td>175130</td>\n",
       "      <td>137978.0</td>\n",
       "      <td>37152.0</td>\n",
       "      <td>21.213955</td>\n",
       "    </tr>\n",
       "    <tr>\n",
       "      <th>1</th>\n",
       "      <td>python3-rospkg-modules</td>\n",
       "      <td>modules</td>\n",
       "      <td>rospkg</td>\n",
       "      <td>140266</td>\n",
       "      <td>121821.0</td>\n",
       "      <td>18445.0</td>\n",
       "      <td>13.150015</td>\n",
       "    </tr>\n",
       "    <tr>\n",
       "      <th>2</th>\n",
       "      <td>python3-rosdistro-modules</td>\n",
       "      <td>modules</td>\n",
       "      <td>rosdistro</td>\n",
       "      <td>128759</td>\n",
       "      <td>113208.0</td>\n",
       "      <td>15551.0</td>\n",
       "      <td>12.077602</td>\n",
       "    </tr>\n",
       "    <tr>\n",
       "      <th>3</th>\n",
       "      <td>python3-rosdep-modules</td>\n",
       "      <td>modules</td>\n",
       "      <td>rosdep</td>\n",
       "      <td>123786</td>\n",
       "      <td>103053.0</td>\n",
       "      <td>20733.0</td>\n",
       "      <td>16.749067</td>\n",
       "    </tr>\n",
       "    <tr>\n",
       "      <th>4</th>\n",
       "      <td>python3-catkin-pkg</td>\n",
       "      <td>pkg</td>\n",
       "      <td>catkin</td>\n",
       "      <td>122626</td>\n",
       "      <td>70879.0</td>\n",
       "      <td>51747.0</td>\n",
       "      <td>42.199044</td>\n",
       "    </tr>\n",
       "  </tbody>\n",
       "</table>\n",
       "</div>"
      ],
      "text/plain": [
       "                         name      package     distro    2023      2022  \\\n",
       "0  python3-catkin-pkg-modules  pkg-modules     catkin  175130  137978.0   \n",
       "1      python3-rospkg-modules      modules     rospkg  140266  121821.0   \n",
       "2   python3-rosdistro-modules      modules  rosdistro  128759  113208.0   \n",
       "3      python3-rosdep-modules      modules     rosdep  123786  103053.0   \n",
       "4          python3-catkin-pkg          pkg     catkin  122626   70879.0   \n",
       "\n",
       "       YoY   YoY_Prct  \n",
       "0  37152.0  21.213955  \n",
       "1  18445.0  13.150015  \n",
       "2  15551.0  12.077602  \n",
       "3  20733.0  16.749067  \n",
       "4  51747.0  42.199044  "
      ]
     },
     "execution_count": 12,
     "metadata": {},
     "output_type": "execute_result"
    }
   ],
   "source": [
    "# Add in YOY differences and package percents\n",
    "package_df[\"YoY\"] = package_df[this_year]-package_df[last_year]\n",
    "package_df[\"YoY_Prct\"] = 100.00*package_df[\"YoY\"]/package_df[this_year]\n",
    "\n",
    "package_df.to_csv(\"package.csv\")\n",
    "package_df.head()\n"
   ]
  },
  {
   "cell_type": "code",
   "execution_count": 17,
   "metadata": {},
   "outputs": [
    {
     "name": "stdout",
     "output_type": "stream",
     "text": [
      "{'ros-indigo-rotors-gazebo-plugins', 'ros-humble-gazebo-ros2-control', 'ros-noetic-hector-gazebo', 'ros-noetic-open-manipulator-p-gazebo', 'ros-galactic-gazebo-ros2-control-demos-dbgsym', 'ros-noetic-turtlebot3-gazebo-dbgsym', 'ros-indigo-cob-gazebo-plugins', 'ros-melodic-gazebo-ros-control', 'ros-humble-irobot-create-gazebo-sim', 'ros-iron-gazebo-ros-pkgs', 'ros-rolling-gazebo-ros', 'ros-melodic-omnibase-gazebo', 'ros-melodic-gazebo-video-monitor-msgs', 'ros-melodic-uuv-gazebo-plugins', 'ros-rolling-gazebo-ros-dbgsym', 'ros-foxy-gazebo-dev', 'ros-indigo-mecanum-gazebo-plugin', 'ros-kinetic-uuv-gazebo-ros-plugins-msgs', 'ros-melodic-velodyne-gazebo-plugins', 'ros-rolling-gazebo-ros2-control-demos', 'ros-melodic-qb-device-gazebo', 'ros-lunar-gazebo-plugins-dbgsym', 'ros-noetic-gazebo-msgs', 'ros-kinetic-fetch-gazebo-demo', 'ros-eloquent-dolly-gazebo', 'ros-kinetic-rb1-base-gazebo', 'ros-noetic-robotont-gazebo', 'ros-foxy-gazebo-msgs', 'ros-noetic-gazebo-video-monitor-plugins', 'ros-humble-velodyne-gazebo-plugins', 'ros-foxy-velodyne-gazebo-plugins', 'ros-lunar-pr2-gazebo-plugins', 'ros-melodic-uuv-gazebo-ros-plugins-msgs', 'ros-melodic-cob-gazebo-tools', 'ros-iron-ros-ign-gazebo-dbgsym', 'ros-lunar-gazebo-ros-dbgsym', 'ros-melodic-uos-gazebo-worlds', 'ros-indigo-mrp2-hardware-gazebo', 'ros-noetic-gazebo-video-monitor-utils', 'ros-kinetic-wave-gazebo', 'ros-humble-pal-gazebo-worlds', 'ros-humble-ros-ign-gazebo', 'ros-kinetic-ainstein-radar-gazebo-plugins', 'ros-foxy-gazebo-ros', 'ros-indigo-velodyne-gazebo-plugins', 'ros-indigo-grizzly-gazebo', 'ros-kinetic-manipulator-h-gazebo', 'ros-melodic-gazebo-dev', 'ros-noetic-cob-gazebo-plugins', 'ros-foxy-nav2-gazebo-spawner', 'ros-rolling-gazebo-ros2-control-demos-dbgsym', 'ros-melodic-prbt-gazebo', 'ros-indigo-husky-gazebo', 'ros-kinetic-desistek-saga-gazebo', 'ros-rolling-rmf-building-sim-gazebo-plugins-dbgsym', 'ros-noetic-roboticsgroup-upatras-gazebo-plugins', 'ros-noetic-qb-hand-gazebo-dbgsym', 'ros-humble-gazebo-plugins-dbgsym', 'ros-galactic-gazebo-ros2-control', 'ros-noetic-gazebo-custom-sensor-preloader-dbgsym', 'ros-crystal-gazebo-dev', 'ros-kinetic-gazebo-ros-control', 'ros-humble-ros-ign-gazebo-dbgsym', 'ros-noetic-gazebo-plugins-dbgsym', 'ros-lunar-hector-gazebo', 'ros-humble-gazebo-plugins', 'ros-kinetic-open-manipulator-gazebo', 'ros-lunar-desistek-saga-gazebo', 'ros-noetic-prbt-gazebo', 'ros-dashing-gazebo-msgs', 'ros-humble-irobot-create-gazebo-plugins-dbgsym', 'ros-kinetic-uuv-gazebo', 'ros-noetic-qb-move-gazebo-dbgsym', 'ros-kinetic-gazebo-ros-pkgs', 'ros-humble-turtlebot3-gazebo', 'ros-kinetic-gazebo-plugins', 'ros-galactic-gazebo-plugins', 'ros-galactic-rmf-building-sim-gazebo-plugins', 'ros-lunar-uuv-gazebo-plugins', 'ros-noetic-ros-ign-gazebo', 'ros-indigo-youbot-gazebo-control', 'ros-galactic-irobot-create-gazebo-plugins', 'ros-melodic-rotors-gazebo', 'ros-indigo-jackal-gazebo', 'ros-kinetic-uuv-gazebo-ros-plugins', 'ros-noetic-pr2-controller-configuration-gazebo', 'python3-ignition-gazebo6', 'ros-kinetic-igvc-self-drive-gazebo-plugins', 'ros-noetic-audibot-gazebo', 'ros-melodic-wamv-gazebo', 'ros-indigo-hector-gazebo-worlds', 'ros-melodic-khi-rs-gazebo', 'ros-indigo-pr2-controller-configuration-gazebo', 'ros-lunar-hector-gazebo-worlds', 'ros-humble-irobot-create-gazebo-bringup', 'ros-melodic-cob-gazebo-plugins', 'ros-melodic-turtlebot3-gazebo', 'ros-melodic-rexrov2-gazebo', 'ros-kinetic-hector-gazebo', 'ros-kinetic-uos-gazebo-worlds', 'ros-foxy-rmf-robot-sim-gazebo-plugins-dbgsym', 'ros-noetic-gazebo-custom-sensor-preloader', 'ros-iron-gazebo-ros-dbgsym', 'ros-indigo-romeo-gazebo-plugin', 'ros-melodic-open-manipulator-p-gazebo', 'ros-humble-as2-platform-ign-gazebo', 'ros-melodic-robosense-gazebo-plugins', 'ros-noetic-hector-gazebo-plugins-dbgsym', 'ros-crystal-gazebo-msgs-dbgsym', 'ros-humble-gazebo-ros-dbgsym', 'ros-melodic-gazebo-video-monitors', 'ros-lunar-uuv-gazebo-worlds', 'ros-crystal-gazebo-ros', 'ros-kinetic-kobuki-gazebo', 'ros-noetic-franka-gazebo-dbgsym', 'ros-noetic-ros-ign-gazebo-dbgsym', 'ros-humble-gazebo-ros-pkgs', 'ros-indigo-nao-gazebo-plugin', 'ros-noetic-qb-move-gazebo', 'ros-foxy-pal-gazebo-worlds', 'ros-indigo-hector-gazebo-plugins', 'ros-kinetic-audibot-gazebo', 'ros-melodic-ridgeback-gazebo', 'ros-eloquent-gazebo-msgs', 'ros-eloquent-gazebo-dev', 'ros-humble-tiago-gazebo-dbgsym', 'ros-iron-gazebo-ros', 'ros-rolling-velodyne-gazebo-plugins-dbgsym', 'ros-galactic-ros-ign-gazebo', 'ros-noetic-hector-sensors-gazebo', 'ros-melodic-igvc-self-drive-gazebo-plugins', 'ros-indigo-aubo-gazebo', 'ros-foxy-gazebo-ros2-control-dbgsym', 'ros-indigo-hector-sensors-gazebo', 'ros-kinetic-kobuki-gazebo-plugins', 'ros-indigo-katana-arm-gazebo', 'ros-kinetic-fetch-gazebo', 'ros-noetic-ridgeback-gazebo-plugins', 'ros-foxy-pmb2-gazebo', 'ros-noetic-gazebo-ros-control-select-joints', 'ros-melodic-moose-gazebo', 'ros-kinetic-turtlebot3-gazebo', 'ros-lunar-pr2-gazebo-plugins-dbgsym', 'ros-kinetic-pr2-gazebo', 'ros-indigo-create-gazebo-plugins', 'ros-kinetic-summit-x-gazebo', 'ros-lunar-uuv-gazebo-ros-plugins', 'ros-melodic-franka-gazebo-dbgsym', 'ros-melodic-gazebo-plugins-dbgsym', 'ros-noetic-velodyne-gazebo-plugins-dbgsym', 'ros-lunar-hector-gazebo-plugins', 'ros-indigo-pr2-gazebo', 'ros-noetic-cob-gazebo-plugins-dbgsym', 'ros-noetic-leo-gazebo', 'ros-kinetic-hector-sensors-gazebo', 'ros-kinetic-ur-e-gazebo', 'ros-rolling-gazebo-ros2-control-dbgsym', 'ros-noetic-cob-gazebo-objects', 'ros-kinetic-cob-gazebo-worlds', 'ros-kinetic-mecanum-gazebo-plugin', 'ros-indigo-grizzly-gazebo-plugins', 'ros-rolling-gazebo-plugins', 'ros-indigo-gazebo-mimic', 'ros-kinetic-khi-rs-gazebo', 'ros-melodic-leo-gazebo-dbgsym', 'ros-foxy-dolly-gazebo', 'ros-lunar-uuv-gazebo-plugins-dbgsym', 'ros-indigo-pr2-gazebo-plugins', 'ros-kinetic-cob-gazebo-tools', 'ros-humble-as2-gazebo-classic-assets', 'ros-melodic-igvc-self-drive-gazebo-plugins-dbgsym', 'ros-rolling-gazebo-ros2-control', 'ros-melodic-vrx-gazebo', 'ros-kinetic-gundam-rx78-gazebo', 'ros-noetic-jackal-gazebo', 'ros-melodic-gazebo-video-monitor-plugins', 'ros-foxy-jackal-gazebo', 'ros-crystal-gazebo-ros-pkgs', 'ros-indigo-bwi-gazebo-entities', 'ros-indigo-hrpsys-gazebo-general', 'ros-kinetic-lauv-gazebo', 'ros-iron-gazebo-plugins-dbgsym', 'ros-galactic-gazebo-plugins-dbgsym', 'ros-noetic-rm-gazebo', 'ros-dashing-gazebo-ros-dbgsym', 'ros-humble-irobot-create-gazebo-plugins', 'ros-melodic-desistek-saga-gazebo', 'ros-melodic-eca-a9-gazebo', 'ros-melodic-robotont-gazebo', 'ros-kinetic-igvc-self-drive-gazebo', 'ros-indigo-warthog-gazebo', 'ros-dashing-gazebo-ros', 'ros-indigo-cob-gazebo-worlds', 'ros-noetic-qb-hand-gazebo', 'ros-humble-as2-ign-gazebo-assets-dbgsym', 'ros-kinetic-warthog-gazebo', 'ros-galactic-irobot-create-gazebo-bringup', 'ros-indigo-concert-service-gazebo', 'ros-kinetic-usv-gazebo-plugins', 'ros-kinetic-uuv-gazebo-worlds', 'ros-kinetic-hector-gazebo-plugins', 'ros-foxy-husky-gazebo', 'ros-indigo-kobuki-gazebo-plugins', 'ros-kinetic-jackal-gazebo', 'ros-indigo-ur-gazebo', 'ros-lunar-hector-gazebo-plugins-dbgsym', 'ros-indigo-gazebo-msgs', 'ros-kinetic-open-manipulator-with-tb3-gazebo', 'ros-indigo-roch-gazebo', 'ros-melodic-hector-gazebo', 'ros-noetic-mecanum-gazebo-plugin', 'ros-melodic-warthog-gazebo', 'ros-kinetic-vs060-gazebo', 'ros-lunar-pr2-gazebo', 'ros-melodic-audibot-gazebo-dbgsym', 'ros-melodic-ainstein-radar-gazebo-plugins', 'ros-melodic-open-manipulator-with-tb3-gazebo', 'ros-kinetic-denso-robot-gazebo', 'ros-melodic-denso-robot-gazebo', 'ros-kinetic-ridgeback-gazebo-plugins', 'ros-iron-velodyne-gazebo-plugins', 'ros-indigo-fetch-gazebo-demo', 'ros-eloquent-gazebo-plugins-dbgsym', 'ros-noetic-open-manipulator-p-gazebo-dbgsym', 'ros-eloquent-gazebo-plugins', 'ros-galactic-gazebo-ros-dbgsym', 'ros-melodic-usv-gazebo-plugins', 'ros-kinetic-hector-gazebo-worlds', 'ros-kinetic-open-manipulator-p-gazebo', 'ros-kinetic-velodyne-gazebo-plugins', 'ros-noetic-gazebo-plugins', 'ros-foxy-gazebo-plugins-dbgsym', 'ros-kinetic-husky-gazebo', 'ros-kinetic-cob-gazebo-plugins', 'ros-kinetic-cob-gazebo-objects', 'ros-foxy-rmf-building-sim-gazebo-plugins-dbgsym', 'ros-noetic-hector-gazebo-worlds', 'ros-melodic-gazebo-ros', 'ros-lunar-mir-gazebo', 'ros-eloquent-gazebo-ros-pkgs', 'ros-noetic-leo-gazebo-plugins-dbgsym', 'ros-indigo-cob-gazebo-ros-control', 'ros-crystal-gazebo-plugins-dbgsym', 'ros-noetic-pr2-gazebo-plugins-dbgsym', 'ros-noetic-ridgeback-gazebo', 'ros-melodic-gazebo-ros-dbgsym', 'ros-kinetic-ur-gazebo', 'ros-melodic-pr2-gazebo-plugins-dbgsym', 'ros-melodic-gundam-rx78-gazebo', 'ros-melodic-gazebo-video-monitor-plugins-dbgsym', 'ros-galactic-irobot-create-gazebo-sim', 'ros-humble-pal-gazebo-plugins', 'ros-melodic-hector-sensors-gazebo', 'ros-galactic-gazebo-ros2-control-dbgsym', 'ros-kinetic-barrett-hand-gazebo', 'ros-melodic-roboticsgroup-upatras-gazebo-plugins-dbgsym', 'ros-humble-crane-plus-gazebo', 'ros-melodic-hector-gazebo-worlds', 'ros-foxy-gazebo-ros-pkgs', 'ros-melodic-hector-gazebo-thermal-camera', 'ros-indigo-baxter-gazebo', 'ros-kinetic-eca-a9-gazebo', 'ros-indigo-ridgeback-gazebo', 'ros-kinetic-op3-gazebo', 'ros-lunar-katana-arm-gazebo-dbgsym', 'ros-humble-gazebo-msgs%5f3.7.0-1jammy.20230919.211142%5famd64.deb', 'ros-rolling-rmf-robot-sim-gazebo-plugins', 'ros-humble-pmb2-gazebo', 'ros-rolling-velodyne-gazebo-plugins', 'ros-indigo-summit-xl-gazebo', 'ros-melodic-cob-gazebo-ros-control', 'ros-kinetic-wamv-gazebo', 'ros-noetic-khi-duaro-gazebo', 'ros-iron-gazebo-msgs-dbgsym', 'ros-noetic-leo-gazebo-plugins', 'ros-noetic-pr2-gazebo-plugins', 'ros-kinetic-rbcar-gazebo', 'ros-foxy-ros-ign-gazebo-dbgsym', 'ros-indigo-gazebo-test-tools', 'ros-kinetic-gazebo-ros', 'ros-humble-turtlebot3-gazebo-dbgsym', 'ros-noetic-gazebo-ros', 'ros-noetic-cob-gazebo-tools', 'ros-indigo-segbot-gazebo', 'ros-melodic-dingo-gazebo', 'ros-indigo-gazebo-ros', 'ros-kinetic-rexrov2-gazebo', 'ros-iron-gazebo-msgs', 'ros-humble-gazebo-ros2-control-demos', 'ros-melodic-leo-gazebo', 'ros-melodic-wave-gazebo-plugins', 'ros-galactic-gazebo-ros-pkgs', 'ros-galactic-ros-ign-gazebo-demos', 'ros-melodic-usv-gazebo-plugins-dbgsym', 'ros-lunar-uuv-gazebo', 'ros-rolling-turtlebot3-gazebo-dbgsym', 'ros-kinetic-prbt-gazebo', 'ros-melodic-warthog-gazebo-dbgsym', 'ros-melodic-wave-gazebo-plugins-dbgsym', 'ros-eloquent-gazebo-ros-dbgsym', 'ros-melodic-husky-gazebo', 'ros-kinetic-raspigibbon-gazebo', 'ros-lunar-katana-gazebo-plugins-dbgsym', 'ros-noetic-leo-gazebo-worlds', 'ros-galactic-turtlebot3-gazebo-dbgsym', 'ros-kinetic-pr2-gazebo-plugins', 'ros-indigo-innok-heros-gazebo', 'ros-lunar-gazebo-ros-pkgs', 'ros-rolling-rmf-building-sim-gazebo-plugins', 'ros-kinetic-khi-duaro-gazebo', 'ros-kinetic-iiwa-gazebo', 'ros-melodic-open-manipulator-gazebo', 'ros-melodic-igvc-self-drive-gazebo', 'ros-indigo-gazebo-ros-control', 'ros-melodic-khi-duaro-gazebo', 'ros-kinetic-cob-gazebo-ros-control', 'ros-indigo-gazebo-ros-pkgs', 'ros-indigo-cob-gazebo', 'ros-rolling-gazebo-msgs-dbgsym', 'ros-crystal-gazebo-ros-dbgsym', 'ros-galactic-gazebo-dev', 'ros-indigo-summit-x-gazebo', 'ros-kinetic-gazebo-dev', 'ros-eloquent-gazebo-ros', 'ros-melodic-uuv-gazebo-plugins-dbgsym', 'ros-indigo-hector-gazebo-thermal-camera', 'ros-indigo-rb1-base-gazebo', 'ros-rolling-gazebo-ros-pkgs', 'ros-melodic-rotors-gazebo-dbgsym', 'ros-indigo-youbot-gazebo-worlds', 'ros-noetic-mia-hand-gazebo-dbgsym', 'ros-eloquent-gazebo-msgs-dbgsym', 'ros-foxy-gazebo-ros2-control-demos-dbgsym', 'ros-rolling-ros-ign-gazebo-dbgsym', 'ros-indigo-mrp2-gazebo', 'ros-melodic-fetch-gazebo', 'ros-noetic-hector-gazebo-thermal-camera', 'ros-melodic-jackal-gazebo', 'ros-lunar-gazebo-ros-control-dbgsym', 'ros-noetic-cob-gazebo-worlds', 'ros-kinetic-grizzly-gazebo', 'ros-kinetic-roch-gazebo', 'ros-humble-gazebo-msgs-dbgsym', 'ros-melodic-uuv-gazebo', 'ros-noetic-husky-gazebo', 'ros-lunar-gazebo-msgs', 'ros-indigo-aras-visual-servo-gazebo', 'ros-kinetic-agvs-gazebo', 'ros-melodic-rotors-gazebo-plugins-dbgsym', 'ros-foxy-velodyne-gazebo-plugins-dbgsym', 'ros-melodic-turtlebot3-gazebo-dbgsym', 'ros-dashing-gazebo-msgs-dbgsym', 'ros-melodic-fetch-gazebo-demo', 'ros-foxy-gazebo-plugins', 'ros-lunar-velodyne-gazebo-plugins', 'ros-indigo-katana-gazebo-plugins', 'ros-melodic-rotors-gazebo-plugins', 'ros-indigo-gazebo-world-plugin-loader', 'ros-melodic-franka-gazebo', 'ros-iron-gazebo-ros2-control-demos', 'ros-galactic-turtlebot3-gazebo', 'ros-foxy-gazebo-msgs-dbgsym', 'ros-iron-velodyne-gazebo-plugins-dbgsym', 'ros-humble-gazebo-ros2-control-dbgsym', 'ros-galactic-dolly-gazebo', 'ros-rolling-gazebo-plugins-dbgsym', 'ros-noetic-cob-gazebo', 'ros-kinetic-vrx-gazebo', 'ros-galactic-velodyne-gazebo-plugins', 'ros-galactic-ros-ign-gazebo-dbgsym', 'ros-melodic-blender-gazebo', 'ros-noetic-open-manipulator-gazebo', 'ros-iron-dolly-gazebo', 'ros-dashing-dolly-gazebo', 'ros-dashing-turtlebot3-gazebo-dbgsym', 'ros-melodic-qb-device-gazebo-dbgsym', 'ros-kinetic-uuv-gazebo-plugins', 'ros-rolling-ros-ign-gazebo', 'ros-rolling-gazebo-msgs', 'ros-melodic-cob-gazebo-ros-control-dbgsym', 'ros-noetic-dingo-gazebo', 'ros-indigo-rbcar-gazebo', 'ros-humble-dolly-gazebo', 'ros-indigo-gazebo-state-plugins', 'ros-foxy-rmf-building-sim-gazebo-plugins', 'ros-iron-gazebo-dev', 'ros-lunar-pr2-controller-configuration-gazebo', 'ros-rolling-gazebo-dev', 'ros-dashing-gazebo-plugins', 'ros-noetic-cob-gazebo-ros-control-dbgsym', 'ros-humble-gazebo-dev', 'ros-kinetic-pepper-gazebo-plugin', 'ros-melodic-hector-gazebo-thermal-camera-dbgsym', 'ros-indigo-gazebo-grasp-plugin', 'ros-galactic-rmf-building-sim-gazebo-plugins-dbgsym', 'ros-kinetic-heron-gazebo', 'ros-melodic-heron-gazebo', 'ros-indigo-youbot-gazebo-robot', 'ros-galactic-velodyne-gazebo-plugins-dbgsym', 'ros-noetic-cob-gazebo-ros-control', 'ros-noetic-warthog-gazebo-dbgsym', 'ros-indigo-hrpsys-gazebo-msgs', 'ros-melodic-hector-gazebo-plugins', 'ros-kinetic-thormang3-gazebo', 'ros-indigo-eusgazebo', 'ros-noetic-gazebo-dev', 'ros-indigo-jaco-gazebo', 'ros-rolling-dolly-gazebo', 'ros-melodic-robosense-gazebo-plugins-dbgsym', 'ros-indigo-turtlebot-gazebo', 'ros-noetic-ur-gazebo', 'ros-melodic-gazebo-msgs', 'ros-lunar-uuv-gazebo-ros-plugins-dbgsym', 'ros-melodic-uuv-gazebo-ros-plugins-dbgsym', 'ros-noetic-gazebo-ros-control-dbgsym', 'ros-galactic-rmf-robot-sim-gazebo-plugins-dbgsym', 'ros-kinetic-wave-gazebo-plugins', 'ros-noetic-gazebo-ros-control', 'ros-melodic-mrp2-gazebo', 'ros-humble-tiago-gazebo', 'ros-humble-gazebo-msgs', 'ros-melodic-audibot-gazebo', 'ros-kinetic-nextage-gazebo', 'ros-melodic-velodyne-gazebo-plugins-dbgsym', 'ros-dashing-turtlebot3-gazebo', 'ros-melodic-hector-gazebo-plugins-dbgsym', 'ros-kinetic-moose-gazebo', 'ros-lunar-gazebo-ros-control', 'ros-melodic-wave-gazebo', 'ros-crystal-gazebo-plugins', 'ros-melodic-gazebo-ros-pkgs', 'ros-iron-gazebo-ros2-control-demos-dbgsym', 'ros-melodic-ridgeback-gazebo-plugins-dbgsym', 'ros-kinetic-romeo-gazebo-plugin', 'ros-noetic-rm-gazebo-dbgsym', 'ros-iron-gazebo-plugins', 'ros-humble-ros-ign-gazebo-demos', 'ros-dashing-gazebo-ros-pkgs', 'ros-noetic-khi-rs-gazebo', 'ros-kinetic-blender-gazebo', 'ros-kinetic-katana-arm-gazebo', 'ros-galactic-irobot-create-gazebo-plugins-dbgsym', 'ros-indigo-fetch-gazebo', 'ros-kinetic-gazebo-msgs', 'ros-melodic-gazebo-ros-control-dbgsym', 'ros-indigo-vs060-gazebo', 'ros-humble-gazebo-ros2-control-demos-dbgsym', 'ros-noetic-hector-gazebo-plugins', 'ros-humble-as2-ign-gazebo-assets', 'ros-melodic-lauv-gazebo', 'ros-kinetic-mir-gazebo', 'ros-lunar-gazebo-dev', 'ros-indigo-gazebo-plugins', 'ros-noetic-turtlebot3-gazebo', 'ros-indigo-mir-gazebo', 'ros-noetic-mir-gazebo', 'ros-melodic-uuv-gazebo-ros-plugins', 'ros-melodic-open-manipulator-gazebo-dbgsym', 'ros-galactic-gazebo-ros', 'ros-lunar-eca-a9-gazebo', 'ros-indigo-gazebo-concert', 'ros-indigo-agvs-gazebo', 'ros-indigo-cob-gazebo-objects', 'ros-kinetic-hector-gazebo-thermal-camera', 'ros-indigo-ridgeback-gazebo-plugins', 'ros-noetic-gazebo-video-monitors', 'ros-dashing-gazebo-dev', 'ros-noetic-diffbot-gazebo', 'ros-lunar-katana-arm-gazebo', 'ros-lunar-lauv-gazebo', 'ros-rolling-ros-ign-gazebo-demos', 'ros-indigo-denso-robot-gazebo', 'ros-noetic-audibot-gazebo-dbgsym', 'ros-foxy-gazebo-ros-dbgsym', 'ros-lunar-rexrov2-gazebo', 'ros-kinetic-turtlebot-gazebo', 'ros-foxy-rmf-robot-sim-gazebo-plugins', 'ros-humble-velodyne-gazebo-plugins-dbgsym', 'ros-indigo-evarobot-gazebo', 'ros-indigo-hector-gazebo', 'ros-indigo-hector-quadrotor-gazebo-plugins', 'ros-iron-ros-ign-gazebo', 'ros-indigo-icart-mini-gazebo', 'ros-iron-turtlebot3-gazebo', 'ros-humble-gazebo-ros', 'ros-foxy-gazebo-ros2-control', 'ros-iron-gazebo-ros2-control-dbgsym', 'ros-indigo-barrett-hand-gazebo', 'ros-humble-gazebo-dev%5f3.7.0-1jammy.20230623.022854%5famd64.deb', 'ros-rolling-rmf-robot-sim-gazebo-plugins-dbgsym', 'ros-humble-pal-gazebo-plugins-dbgsym', 'ros-kinetic-roboticsgroup-upatras-gazebo-plugins', 'ros-lunar-gazebo-plugins', 'ros-rolling-turtlebot3-gazebo', 'ros-lunar-hector-sensors-gazebo', 'ros-melodic-cob-gazebo-objects', 'ros-melodic-ur-gazebo', 'ros-melodic-open-manipulator-p-gazebo-dbgsym', 'ros-galactic-rmf-robot-sim-gazebo-plugins', 'ros-noetic-velodyne-gazebo-plugins', 'ros-kinetic-ridgeback-gazebo', 'ros-kinetic-katana-gazebo-plugins', 'ros-foxy-ros-ign-gazebo', 'ros-indigo-spur-gazebo', 'ros-dashing-gazebo-plugins-dbgsym', 'ros-kinetic-rh-p12-rn-gazebo', 'ros-noetic-pr2-gazebo', 'ros-noetic-roboticsgroup-upatras-gazebo-plugins-dbgsym', 'ros-noetic-franka-gazebo', 'ros-melodic-ridgeback-gazebo-plugins', 'ros-melodic-tuw-gazebo-msgs', 'ros-noetic-gazebo-ros-control-select-joints-dbgsym', 'ros-noetic-gazebo-video-monitor-msgs', 'ros-humble-as2-platform-ign-gazebo-dbgsym', 'ros-eloquent-nav2-gazebo-spawner', 'ros-indigo-tetris-gazebo', 'ros-noetic-warthog-gazebo', 'ros-melodic-mir-gazebo', 'ros-foxy-ros-ign-gazebo-demos', 'ros-melodic-cob-gazebo-worlds', 'ros-melodic-pr2-gazebo-plugins', 'ros-indigo-hector-quadrotor-controller-gazebo', 'ros-lunar-gazebo-ros', 'ros-lunar-velodyne-gazebo-plugins-dbgsym', 'ros-noetic-ros-ign-gazebo-demos', 'ros-noetic-ridgeback-gazebo-plugins-dbgsym', 'ros-noetic-qb-device-gazebo-dbgsym', 'ros-indigo-rotors-gazebo', 'ros-foxy-turtlebot3-gazebo', 'ros-lunar-uuv-gazebo-ros-plugins-msgs', 'ros-indigo-pepper-gazebo-plugin', 'ros-crystal-gazebo-msgs', 'ros-iron-ros-ign-gazebo-demos', 'ros-foxy-pmb2-2dnav-gazebo', 'ros-noetic-gazebo-ros-dbgsym', 'ros-galactic-nav2-gazebo-spawner', 'ros-kinetic-cob-gazebo', 'ros-melodic-pr2-gazebo', 'ros-melodic-fetch-gazebo-dbgsym', 'ros-melodic-vrx-gazebo-dbgsym', 'ros-melodic-uuv-gazebo-worlds', 'ros-noetic-open-manipulator-gazebo-dbgsym', 'ros-kinetic-tuw-gazebo-msgs', 'ros-indigo-sr-gazebo-plugins', 'ros-melodic-nextage-gazebo', 'ros-foxy-turtlebot3-gazebo-dbgsym', 'ros-noetic-gazebo-video-monitor-plugins-dbgsym', 'ros-lunar-katana-gazebo-plugins', 'ros-indigo-nextage-gazebo', 'ros-iron-gazebo-ros2-control', 'ros-noetic-gazebo-ros-pkgs', 'ros-galactic-gazebo-msgs', 'ros-galactic-gazebo-msgs-dbgsym', 'ros-noetic-mia-hand-gazebo', 'ros-galactic-gazebo-ros2-control-demos', 'ros-kinetic-summit-xl-gazebo', 'ros-foxy-crane-plus-gazebo', 'ros-noetic-hector-gazebo-thermal-camera-dbgsym', 'ros-iron-turtlebot3-gazebo-dbgsym', 'ros-indigo-kobuki-gazebo', 'ros-kinetic-dsr-gazebo', 'ros-melodic-gazebo-plugins', 'ros-melodic-mecanum-gazebo-plugin', 'ros-noetic-qb-device-gazebo', 'ros-foxy-gazebo-ros2-control-demos', 'ros-kinetic-pr2-controller-configuration-gazebo', 'ros-indigo-hector-quadrotor-gazebo', 'ros-lunar-hector-gazebo-thermal-camera', 'ros-lunar-hector-gazebo-thermal-camera-dbgsym', 'ros-melodic-roboticsgroup-upatras-gazebo-plugins', 'ros-melodic-pr2-controller-configuration-gazebo'}\n",
      "571\n",
      "{'python3-ignition-math6', 'ros-rolling-ignition-cmake2-vendor', 'ros-foxy-rmf-building-sim-ignition-plugins-dbgsym', 'ros-humble-ignition-math6-vendor', 'ros-galactic-rmf-robot-sim-ignition-plugins', 'ros-galactic-rmf-building-sim-ignition-plugins', 'ros-galactic-turtlebot4-ignition-toolbox-dbgsym', 'ros-humble-irobot-create-ignition-plugins-dbgsym', 'python3-ignition-gazebo6', 'ros-foxy-rmf-robot-sim-ignition-plugins', 'ros-rolling-rmf-building-sim-ignition-plugins', 'ros-galactic-turtlebot4-ignition-gui-plugins-dbgsym', 'ros-foxy-rmf-robot-sim-ignition-plugins-dbgsym', 'ros-galactic-irobot-create-ignition-bringup', 'ros-foxy-rmf-building-sim-ignition-plugins', 'ros-iron-ignition-math6-vendor', 'ros-humble-ignition-cmake2-vendor', 'ros-galactic-irobot-create-ignition-toolbox', 'ros-galactic-irobot-create-ignition-plugins-dbgsym', 'ros-humble-irobot-create-ignition-sim', 'ros-galactic-irobot-create-ignition-toolbox-dbgsym', 'ros-galactic-irobot-create-ignition-plugins', 'ros-rolling-ignition-math6-vendor', 'ros-galactic-dolly-ignition', 'ros-galactic-turtlebot4-ignition-toolbox', 'ros-humble-turtlebot4-ignition-gui-plugins', 'ros-humble-dolly-ignition', 'ros-rolling-dolly-ignition', 'ros-galactic-turtlebot4-ignition-bringup', 'ros-humble-turtlebot4-ignition-gui-plugins-dbgsym', 'ros-humble-irobot-create-ignition-toolbox-dbgsym', 'ros-humble-irobot-create-ignition-bringup', 'ros-iron-dolly-ignition', 'ros-humble-turtlebot4-ignition-toolbox-dbgsym', 'ros-foxy-crane-plus-ignition', 'ros-galactic-rmf-robot-sim-ignition-plugins-dbgsym', 'ros-galactic-rmf-building-sim-ignition-plugins-dbgsym', 'ros-humble-irobot-create-ignition-plugins', 'ros-iron-ignition-cmake2-vendor', 'ros-rolling-rmf-robot-sim-ignition-plugins', 'ros-foxy-dolly-ignition', 'ros-humble-turtlebot4-ignition-bringup', 'ros-humble-irobot-create-ignition-toolbox', 'ros-galactic-irobot-create-ignition-sim', 'ros-humble-turtlebot4-ignition-toolbox', 'ros-galactic-turtlebot4-ignition-gui-plugins'}\n",
      "46\n",
      "{'ros-iron-ros-gz-interfaces', 'ros-iron-ros-gz-interfaces-dbgsym', 'ros-galactic-rmf-demos-gz', 'ros-humble-ros-gz-sim-demos', 'ros-iron-gz-ros2-control-dbgsym', 'ros-iron-rmf-robot-sim-gz-plugins-dbgsym', 'ros-rolling-rmf-robot-sim-gz-plugins-dbgsym', 'ros-rolling-ros-gz-interfaces', 'ros-rolling-ros-gz', 'ros-rolling-rmf-building-sim-gz-classic-plugins-dbgsym', 'ros-iron-rmf-building-sim-gz-classic-plugins', 'ros-rolling-rmf-demos-gz', 'ros-rolling-rmf-robot-sim-gz-classic-plugins', 'ros-rolling-ros-gz-sim-demos', 'ros-iron-ros-gz', 'ros-rolling-rmf-building-sim-gz-plugins', 'ros-humble-ros-gz-sim', 'ros-humble-ros-gz-image-dbgsym', 'python3-gz-sim6', 'ros-rolling-rmf-building-sim-gz-classic-plugins', 'ros-iron-gz-ros2-control-demos', 'ros-humble-rmf-building-sim-gz-plugins-dbgsym', 'ros-iron-ros-gz-sim-demos', 'ros-humble-rmf-robot-sim-gz-plugins', 'ros-rolling-rmf-robot-sim-gz-classic-plugins-dbgsym', 'ros-rolling-rmf-robot-sim-gz-plugins', 'ros-iron-rmf-robot-sim-gz-classic-plugins', 'ros-humble-clearpath-gz', 'ros-rolling-ros-gz-bridge-dbgsym', 'ros-iron-ros-gz-bridge-dbgsym', 'ros-humble-rmf-robot-sim-gz-plugins-dbgsym', 'ros-iron-rmf-building-sim-gz-classic-plugins-dbgsym', 'ros-humble-ros-gz-bridge', 'ros-humble-clearpath-generator-gz', 'ros-humble-ros-gz-interfaces-dbgsym', 'python3-gz-math6', 'ros-iron-ros-gz-image-dbgsym', 'ros-rolling-ros-gz-bridge', 'ros-humble-ros-gz', 'ros-iron-rmf-building-sim-gz-plugins', 'ros-iron-rmf-robot-sim-gz-plugins', 'ros-foxy-rmf-demos-gz', 'ros-iron-gz-ros2-control-demos-dbgsym', 'ros-iron-rmf-robot-sim-gz-classic-plugins-dbgsym', 'ros-rolling-ros-gz-image-dbgsym', 'ros-rolling-ros-gz-sim', 'ros-iron-ros-gz-sim', 'ros-rolling-rmf-building-sim-gz-plugins-dbgsym', 'ros-iron-ros-gz-sim-dbgsym', 'ros-humble-ros-gz-bridge-dbgsym', 'ros-humble-ros-gz-interfaces', 'ros-iron-ros-gz-image', 'ros-rolling-ros-gz-sim-dbgsym', 'ros-iron-gz-ros2-control', 'ros-humble-rmf-robot-sim-gz-classic-plugins', 'ros-humble-ros-gz-sim-dbgsym', 'ros-humble-rmf-robot-sim-gz-classic-plugins-dbgsym', 'ros-humble-rmf-building-sim-gz-classic-plugins', 'ros-iron-rmf-building-sim-gz-plugins-dbgsym', 'ros-humble-rmf-building-sim-gz-classic-plugins-dbgsym', 'ros-humble-ros-gz-image', 'ros-humble-rmf-building-sim-gz-plugins', 'ros-rolling-ros-gz-image', 'ros-rolling-ros-gz-interfaces-dbgsym', 'ros-iron-ros-gz-bridge'}\n",
      "65\n",
      "{'ros-humble-ign-ros2-control-demos', 'ros-foxy-rmf-building-sim-ignition-plugins-dbgsym', 'ros-rolling-ros-ign-bridge-dbgsym', 'ros-foxy-ign-ros2-control-demos', 'ros-rolling-rmf-demos-ign', 'ros-humble-ros-ign-gazebo-demos', 'ros-galactic-ros-ign-image-dbgsym', 'ros-rolling-ros-ign-image', 'ros-noetic-ros-ign-image-dbgsym', 'ros-galactic-ros-ign-interfaces-dbgsym', 'ros-galactic-turtlebot4-ignition-toolbox-dbgsym', 'ros-humble-irobot-create-ignition-plugins-dbgsym', 'ros-noetic-ros-ign-bridge-dbgsym', 'ros-iron-ros-ign-image', 'ros-galactic-ros-ign-gazebo-demos', 'ros-iron-ros-ign-interfaces-dbgsym', 'ros-noetic-ros-ign', 'ros-foxy-ros-ign-image-dbgsym', 'ros-galactic-irobot-create-ignition-bringup', 'ros-foxy-rmf-building-sim-ignition-plugins', 'ros-iron-ros-ign-bridge', 'ros-humble-as2-ign-gazebo-assets', 'ros-humble-ignition-cmake2-vendor', 'ros-galactic-irobot-create-ignition-toolbox', 'ros-humble-ign-ros2-control-demos-dbgsym', 'ros-galactic-irobot-create-ignition-plugins-dbgsym', 'ros-galactic-irobot-create-ignition-plugins', 'ros-galactic-ign-ros2-control-demos-dbgsym', 'ros-galactic-ign-rviz', 'ros-rolling-ign-rviz-common-dbgsym', 'ros-galactic-dolly-ignition', 'ros-humble-dolly-ignition', 'ros-rolling-dolly-ignition', 'ros-galactic-ros-ign-bridge', 'ros-humble-as2-ign-gazebo-assets-dbgsym', 'ros-foxy-crane-plus-ignition', 'ros-galactic-rmf-building-sim-ignition-plugins-dbgsym', 'ros-humble-irobot-create-ignition-plugins', 'ros-humble-ros-ign', 'ros-iron-ros-ign-gazebo-dbgsym', 'ros-foxy-ros-ign-bridge-dbgsym', 'ros-humble-turtlebot4-ignition-toolbox', 'ros-galactic-ros-ign-bridge-dbgsym', 'ros-foxy-ros-ign-bridge', 'ros-noetic-ros-ign-bridge', 'python3-ignition-math6', 'ros-rolling-ignition-cmake2-vendor', 'ros-noetic-bota-signal-handler', 'ros-humble-ignition-math6-vendor', 'ros-galactic-ros-ign-image', 'ros-humble-ros-ign-gazebo', 'ros-foxy-ros-ign-interfaces', 'ros-indigo-designator-integration', 'ros-rolling-ros-ign-gazebo-demos', 'ros-iron-ros-ign-image-dbgsym', 'ros-noetic-bota-signal-handler-dbgsym', 'ros-iron-ros-ign-bridge-dbgsym', 'ros-foxy-rmf-robot-sim-ignition-plugins', 'ros-galactic-rmf-demos-ign', 'ros-foxy-ign-ros2-control', 'ros-rolling-ros-ign-gazebo-dbgsym', 'ros-galactic-turtlebot4-ignition-gui-plugins-dbgsym', 'ros-iron-ignition-math6-vendor', 'ros-iron-ros-ign-gazebo', 'ros-humble-irobot-create-ignition-sim', 'ros-rolling-ros-ign-interfaces-dbgsym', 'ros-rolling-ignition-math6-vendor', 'ros-humble-ros-ign-gazebo-dbgsym', 'ros-noetic-ign-ros-control-demos', 'ros-galactic-turtlebot4-ignition-toolbox', 'ros-noetic-ign-ros-control', 'ros-humble-irobot-create-ignition-bringup', 'ros-noetic-ros-ign-image', 'ros-iron-dolly-ignition', 'ros-humble-turtlebot4-ignition-toolbox-dbgsym', 'ros-foxy-rmf-demos-ign', 'ros-indigo-designator-integration-lisp', 'ros-rolling-ros-ign-image-dbgsym', 'ros-humble-ros-ign-image', 'ros-galactic-ign-rviz-dbgsym', 'ros-melodic-bota-signal-handler-dbgsym', 'ros-foxy-ros-ign', 'ros-galactic-ign-rviz-common-dbgsym', 'ros-galactic-turtlebot4-ignition-gui-plugins', 'ros-foxy-ros-ign-gazebo', 'ros-noetic-ros-ign-gazebo', 'ros-humble-ros-ign-bridge', 'ros-humble-ros-ign-bridge-dbgsym', 'ros-galactic-ign-ros2-control-demos', 'python3-ignition-gazebo6', 'ros-kinetic-bota-signal-handler', 'ros-indigo-designator-integration-cpp', 'ros-humble-as2-platform-ign-gazebo-dbgsym', 'ros-rolling-rmf-building-sim-ignition-plugins', 'ros-foxy-rmf-robot-sim-ignition-plugins-dbgsym', 'ros-rolling-ign-rviz-plugins', 'ros-foxy-ros-ign-gazebo-demos', 'ros-galactic-ros-ign-gazebo-dbgsym', 'ros-rolling-ros-ign-bridge', 'ros-humble-as2-platform-ign-gazebo', 'ros-foxy-ros-ign-interfaces-dbgsym', 'ros-noetic-ros-ign-gazebo-demos', 'ros-rolling-ros-ign-gazebo', 'ros-humble-turtlebot4-ignition-gui-plugins', 'ros-iron-ros-ign-interfaces', 'ros-humble-irobot-create-ignition-toolbox-dbgsym', 'ros-galactic-ros-ign', 'ros-noetic-ros-ign-gazebo-dbgsym', 'ros-iron-ros-ign-gazebo-demos', 'ros-galactic-rmf-robot-sim-ignition-plugins-dbgsym', 'ros-iron-ignition-cmake2-vendor', 'ros-rolling-rmf-robot-sim-ignition-plugins', 'ros-galactic-ros-ign-interfaces', 'ros-humble-turtlebot4-ignition-bringup', 'ros-humble-ros-ign-interfaces', 'ros-foxy-ign-ros2-control-dbgsym', 'ros-galactic-ign-ros2-control-dbgsym', 'ros-galactic-ros-ign-gazebo', 'ros-galactic-rmf-robot-sim-ignition-plugins', 'ros-galactic-ign-rviz-plugins', 'ros-galactic-rmf-building-sim-ignition-plugins', 'ros-noetic-ign-ros-control-dbgsym', 'ros-iron-ros-ign', 'ros-rolling-ign-rviz-common', 'ros-galactic-ign-ros2-control', 'ros-galactic-ign-rviz-plugins-dbgsym', 'ros-rolling-ros-ign-interfaces', 'ros-rolling-ign-rviz-dbgsym', 'ros-galactic-irobot-create-ignition-toolbox-dbgsym', 'ros-humble-ign-ros2-control-dbgsym', 'ros-rolling-ros-ign', 'ros-galactic-turtlebot4-ignition-bringup', 'ros-indigo-designator-integration-msgs', 'ros-melodic-bota-signal-handler', 'ros-rolling-ign-rviz-plugins-dbgsym', 'ros-humble-ros-ign-image-dbgsym', 'ros-humble-turtlebot4-ignition-gui-plugins-dbgsym', 'ros-rolling-ign-rviz', 'ros-humble-ros-ign-interfaces-dbgsym', 'ros-foxy-ros-ign-gazebo-dbgsym', 'ros-galactic-ign-rviz-common', 'ros-foxy-ros-ign-image', 'ros-foxy-ign-ros2-control-demos-dbgsym', 'ros-humble-ign-ros2-control', 'ros-foxy-dolly-ignition', 'ros-humble-irobot-create-ignition-toolbox', 'ros-galactic-irobot-create-ignition-sim'}\n",
      "147\n"
     ]
    }
   ],
   "source": [
    "set_gazebo = set([f for f in package_df[\"name\"].tolist() if \"gazebo\" in f ])\n",
    "print(set_gazebo)\n",
    "print(len(set_gazebo))\n",
    "set_ignition = set([f for f in package_df[\"name\"].tolist() if \"ignition\" in f ])\n",
    "print(set_ignition)\n",
    "print(len(set_ignition))\n",
    "set_gz = set([f for f in package_df[\"name\"].tolist() if \"gz\" in f ])\n",
    "print(set_gz)\n",
    "print(len(set_gz))\n",
    "set_ign = set([f for f in package_df[\"name\"].tolist() if \"ign\" in f ])\n",
    "print(set_ign)\n",
    "print(len(set_ign))\n"
   ]
  },
  {
   "cell_type": "code",
   "execution_count": 30,
   "metadata": {},
   "outputs": [
    {
     "name": "stdout",
     "output_type": "stream",
     "text": [
      "New Gazebo, formerly Ignition\n",
      "212\n",
      "{'ros-iron-ros-gz-interfaces-dbgsym', 'ros-humble-ign-ros2-control-demos', 'ros-humble-ros-gz-sim-demos', 'ros-foxy-rmf-building-sim-ignition-plugins-dbgsym', 'ros-iron-rmf-robot-sim-gz-plugins-dbgsym', 'ros-rolling-ros-ign-bridge-dbgsym', 'ros-foxy-ign-ros2-control-demos', 'ros-rolling-rmf-demos-ign', 'ros-humble-ros-ign-gazebo-demos', 'ros-galactic-ros-ign-image-dbgsym', 'ros-rolling-ros-ign-image', 'ros-noetic-ros-ign-image-dbgsym', 'ros-galactic-ros-ign-interfaces-dbgsym', 'ros-galactic-turtlebot4-ignition-toolbox-dbgsym', 'ros-humble-irobot-create-ignition-plugins-dbgsym', 'ros-noetic-ros-ign-bridge-dbgsym', 'ros-humble-ros-gz-sim', 'ros-iron-ros-ign-image', 'ros-galactic-ros-ign-gazebo-demos', 'ros-iron-ros-ign-interfaces-dbgsym', 'ros-iron-gz-ros2-control-demos', 'ros-noetic-ros-ign', 'ros-foxy-ros-ign-image-dbgsym', 'ros-galactic-irobot-create-ignition-bringup', 'ros-iron-rmf-robot-sim-gz-classic-plugins', 'ros-foxy-rmf-building-sim-ignition-plugins', 'ros-rolling-ros-gz-bridge-dbgsym', 'ros-iron-ros-ign-bridge', 'ros-humble-rmf-robot-sim-gz-plugins-dbgsym', 'ros-humble-ros-gz-bridge', 'ros-humble-as2-ign-gazebo-assets', 'ros-humble-ignition-cmake2-vendor', 'ros-galactic-irobot-create-ignition-toolbox', 'ros-rolling-ros-gz-bridge', 'ros-humble-ign-ros2-control-demos-dbgsym', 'ros-galactic-irobot-create-ignition-plugins-dbgsym', 'ros-galactic-irobot-create-ignition-plugins', 'ros-galactic-ign-ros2-control-demos-dbgsym', 'ros-galactic-ign-rviz', 'ros-rolling-ign-rviz-common-dbgsym', 'ros-galactic-dolly-ignition', 'ros-rolling-ros-gz-sim', 'ros-humble-dolly-ignition', 'ros-rolling-dolly-ignition', 'ros-galactic-ros-ign-bridge', 'ros-humble-as2-ign-gazebo-assets-dbgsym', 'ros-foxy-crane-plus-ignition', 'ros-galactic-rmf-building-sim-ignition-plugins-dbgsym', 'ros-humble-irobot-create-ignition-plugins', 'ros-humble-ros-ign', 'ros-iron-ros-ign-gazebo-dbgsym', 'ros-humble-rmf-building-sim-gz-plugins', 'ros-foxy-ros-ign-bridge-dbgsym', 'ros-humble-turtlebot4-ignition-toolbox', 'ros-galactic-ros-ign-bridge-dbgsym', 'ros-iron-ros-gz-bridge', 'ros-foxy-ros-ign-bridge', 'ros-noetic-ros-ign-bridge', 'python3-ignition-math6', 'ros-rolling-ignition-cmake2-vendor', 'ros-noetic-bota-signal-handler', 'ros-humble-ignition-math6-vendor', 'ros-galactic-ros-ign-image', 'ros-humble-ros-ign-gazebo', 'ros-rolling-rmf-robot-sim-gz-plugins-dbgsym', 'ros-foxy-ros-ign-interfaces', 'ros-indigo-designator-integration', 'ros-rolling-ros-gz', 'ros-rolling-ros-ign-gazebo-demos', 'ros-iron-ros-ign-image-dbgsym', 'ros-noetic-bota-signal-handler-dbgsym', 'ros-iron-ros-ign-bridge-dbgsym', 'ros-foxy-rmf-robot-sim-ignition-plugins', 'ros-rolling-rmf-building-sim-gz-plugins', 'python3-gz-sim6', 'ros-galactic-rmf-demos-ign', 'ros-foxy-ign-ros2-control', 'ros-rolling-ros-ign-gazebo-dbgsym', 'ros-galactic-turtlebot4-ignition-gui-plugins-dbgsym', 'ros-rolling-rmf-robot-sim-gz-classic-plugins-dbgsym', 'ros-iron-ignition-math6-vendor', 'python3-gz-math6', 'ros-iron-ros-ign-gazebo', 'ros-humble-irobot-create-ignition-sim', 'ros-rolling-ros-ign-interfaces-dbgsym', 'ros-foxy-rmf-demos-gz', 'ros-rolling-ignition-math6-vendor', 'ros-iron-gz-ros2-control-demos-dbgsym', 'ros-humble-ros-ign-gazebo-dbgsym', 'ros-noetic-ign-ros-control-demos', 'ros-galactic-turtlebot4-ignition-toolbox', 'ros-noetic-ign-ros-control', 'ros-humble-ros-gz-bridge-dbgsym', 'ros-humble-irobot-create-ignition-bringup', 'ros-noetic-ros-ign-image', 'ros-iron-dolly-ignition', 'ros-humble-turtlebot4-ignition-toolbox-dbgsym', 'ros-rolling-ros-gz-sim-dbgsym', 'ros-foxy-rmf-demos-ign', 'ros-iron-gz-ros2-control', 'ros-humble-rmf-robot-sim-gz-classic-plugins', 'ros-indigo-designator-integration-lisp', 'ros-rolling-ros-ign-image-dbgsym', 'ros-humble-rmf-building-sim-gz-classic-plugins', 'ros-humble-ros-ign-image', 'ros-galactic-ign-rviz-dbgsym', 'ros-melodic-bota-signal-handler-dbgsym', 'ros-foxy-ros-ign', 'ros-galactic-ign-rviz-common-dbgsym', 'ros-rolling-ros-gz-interfaces-dbgsym', 'ros-galactic-turtlebot4-ignition-gui-plugins', 'ros-foxy-ros-ign-gazebo', 'ros-galactic-rmf-demos-gz', 'ros-noetic-ros-ign-gazebo', 'ros-humble-ros-ign-bridge', 'ros-humble-ros-ign-bridge-dbgsym', 'ros-galactic-ign-ros2-control-demos', 'ros-rolling-rmf-building-sim-gz-classic-plugins-dbgsym', 'ros-rolling-rmf-demos-gz', 'ros-rolling-rmf-robot-sim-gz-classic-plugins', 'python3-ignition-gazebo6', 'ros-kinetic-bota-signal-handler', 'ros-indigo-designator-integration-cpp', 'ros-humble-as2-platform-ign-gazebo-dbgsym', 'ros-humble-ros-gz-image-dbgsym', 'ros-iron-ros-gz-sim-demos', 'ros-rolling-rmf-building-sim-ignition-plugins', 'ros-foxy-rmf-robot-sim-ignition-plugins-dbgsym', 'ros-rolling-ign-rviz-plugins', 'ros-foxy-ros-ign-gazebo-demos', 'ros-humble-rmf-robot-sim-gz-plugins', 'ros-galactic-ros-ign-gazebo-dbgsym', 'ros-rolling-rmf-robot-sim-gz-plugins', 'ros-iron-ros-gz-bridge-dbgsym', 'ros-rolling-ros-ign-bridge', 'ros-humble-as2-platform-ign-gazebo', 'ros-foxy-ros-ign-interfaces-dbgsym', 'ros-humble-ros-gz', 'ros-iron-rmf-robot-sim-gz-plugins', 'ros-noetic-ros-ign-gazebo-demos', 'ros-rolling-ros-gz-image-dbgsym', 'ros-rolling-ros-ign-gazebo', 'ros-iron-ros-gz-sim', 'ros-humble-turtlebot4-ignition-gui-plugins', 'ros-iron-ros-ign-interfaces', 'ros-humble-irobot-create-ignition-toolbox-dbgsym', 'ros-galactic-ros-ign', 'ros-noetic-ros-ign-gazebo-dbgsym', 'ros-iron-ros-ign-gazebo-demos', 'ros-galactic-rmf-robot-sim-ignition-plugins-dbgsym', 'ros-iron-ignition-cmake2-vendor', 'ros-rolling-rmf-robot-sim-ignition-plugins', 'ros-iron-rmf-building-sim-gz-plugins-dbgsym', 'ros-galactic-ros-ign-interfaces', 'ros-humble-rmf-building-sim-gz-classic-plugins-dbgsym', 'ros-humble-turtlebot4-ignition-bringup', 'ros-rolling-ros-gz-image', 'ros-humble-ros-ign-interfaces', 'ros-iron-ros-gz-interfaces', 'ros-foxy-ign-ros2-control-dbgsym', 'ros-galactic-ign-ros2-control-dbgsym', 'ros-galactic-ros-ign-gazebo', 'ros-iron-gz-ros2-control-dbgsym', 'ros-galactic-rmf-robot-sim-ignition-plugins', 'ros-galactic-ign-rviz-plugins', 'ros-galactic-rmf-building-sim-ignition-plugins', 'ros-rolling-ros-gz-interfaces', 'ros-noetic-ign-ros-control-dbgsym', 'ros-iron-rmf-building-sim-gz-classic-plugins', 'ros-iron-ros-ign', 'ros-rolling-ign-rviz-common', 'ros-rolling-ros-gz-sim-demos', 'ros-galactic-ign-ros2-control', 'ros-galactic-ign-rviz-plugins-dbgsym', 'ros-iron-ros-gz', 'ros-rolling-rmf-building-sim-gz-classic-plugins', 'ros-humble-rmf-building-sim-gz-plugins-dbgsym', 'ros-humble-clearpath-gz', 'ros-iron-rmf-building-sim-gz-classic-plugins-dbgsym', 'ros-rolling-ros-ign-interfaces', 'ros-humble-clearpath-generator-gz', 'ros-humble-ros-gz-interfaces-dbgsym', 'ros-rolling-ign-rviz-dbgsym', 'ros-iron-rmf-building-sim-gz-plugins', 'ros-galactic-irobot-create-ignition-toolbox-dbgsym', 'ros-humble-ign-ros2-control-dbgsym', 'ros-iron-rmf-robot-sim-gz-classic-plugins-dbgsym', 'ros-rolling-ros-ign', 'ros-rolling-rmf-building-sim-gz-plugins-dbgsym', 'ros-iron-ros-gz-sim-dbgsym', 'ros-galactic-turtlebot4-ignition-bringup', 'ros-indigo-designator-integration-msgs', 'ros-melodic-bota-signal-handler', 'ros-rolling-ign-rviz-plugins-dbgsym', 'ros-humble-ros-ign-image-dbgsym', 'ros-humble-turtlebot4-ignition-gui-plugins-dbgsym', 'ros-rolling-ign-rviz', 'ros-humble-ros-gz-interfaces', 'ros-iron-ros-gz-image', 'ros-humble-ros-gz-sim-dbgsym', 'ros-humble-ros-ign-interfaces-dbgsym', 'ros-foxy-ros-ign-gazebo-dbgsym', 'ros-humble-rmf-robot-sim-gz-classic-plugins-dbgsym', 'ros-galactic-ign-rviz-common', 'ros-foxy-ros-ign-image', 'ros-foxy-ign-ros2-control-demos-dbgsym', 'ros-humble-ign-ros2-control', 'ros-foxy-dolly-ignition', 'ros-humble-irobot-create-ignition-toolbox', 'ros-galactic-irobot-create-ignition-sim', 'ros-humble-ros-gz-image', 'ros-iron-ros-gz-image-dbgsym'}\n",
      "----------------\n",
      "Gazebo Classic\n",
      "548\n",
      "{'ros-indigo-rotors-gazebo-plugins', 'ros-humble-gazebo-ros2-control', 'ros-noetic-hector-gazebo', 'ros-noetic-open-manipulator-p-gazebo', 'ros-galactic-gazebo-ros2-control-demos-dbgsym', 'ros-noetic-turtlebot3-gazebo-dbgsym', 'ros-indigo-cob-gazebo-plugins', 'ros-melodic-gazebo-ros-control', 'ros-humble-irobot-create-gazebo-sim', 'ros-iron-gazebo-ros-pkgs', 'ros-rolling-gazebo-ros', 'ros-melodic-omnibase-gazebo', 'ros-melodic-gazebo-video-monitor-msgs', 'ros-melodic-uuv-gazebo-plugins', 'ros-rolling-gazebo-ros-dbgsym', 'ros-foxy-gazebo-dev', 'ros-indigo-mecanum-gazebo-plugin', 'ros-kinetic-uuv-gazebo-ros-plugins-msgs', 'ros-melodic-velodyne-gazebo-plugins', 'ros-rolling-gazebo-ros2-control-demos', 'ros-melodic-qb-device-gazebo', 'ros-lunar-gazebo-plugins-dbgsym', 'ros-noetic-gazebo-msgs', 'ros-kinetic-fetch-gazebo-demo', 'ros-eloquent-dolly-gazebo', 'ros-kinetic-rb1-base-gazebo', 'ros-noetic-robotont-gazebo', 'ros-foxy-gazebo-msgs', 'ros-noetic-gazebo-video-monitor-plugins', 'ros-humble-velodyne-gazebo-plugins', 'ros-foxy-velodyne-gazebo-plugins', 'ros-lunar-pr2-gazebo-plugins', 'ros-melodic-uuv-gazebo-ros-plugins-msgs', 'ros-melodic-cob-gazebo-tools', 'ros-lunar-gazebo-ros-dbgsym', 'ros-melodic-uos-gazebo-worlds', 'ros-indigo-mrp2-hardware-gazebo', 'ros-noetic-gazebo-video-monitor-utils', 'ros-kinetic-wave-gazebo', 'ros-humble-pal-gazebo-worlds', 'ros-kinetic-ainstein-radar-gazebo-plugins', 'ros-foxy-gazebo-ros', 'ros-indigo-velodyne-gazebo-plugins', 'ros-indigo-grizzly-gazebo', 'ros-kinetic-manipulator-h-gazebo', 'ros-melodic-gazebo-dev', 'ros-noetic-cob-gazebo-plugins', 'ros-foxy-nav2-gazebo-spawner', 'ros-rolling-gazebo-ros2-control-demos-dbgsym', 'ros-melodic-prbt-gazebo', 'ros-indigo-husky-gazebo', 'ros-kinetic-desistek-saga-gazebo', 'ros-rolling-rmf-building-sim-gazebo-plugins-dbgsym', 'ros-noetic-roboticsgroup-upatras-gazebo-plugins', 'ros-noetic-qb-hand-gazebo-dbgsym', 'ros-humble-gazebo-plugins-dbgsym', 'ros-galactic-gazebo-ros2-control', 'ros-noetic-gazebo-custom-sensor-preloader-dbgsym', 'ros-crystal-gazebo-dev', 'ros-kinetic-gazebo-ros-control', 'ros-noetic-gazebo-plugins-dbgsym', 'ros-lunar-hector-gazebo', 'ros-humble-gazebo-plugins', 'ros-kinetic-open-manipulator-gazebo', 'ros-lunar-desistek-saga-gazebo', 'ros-noetic-prbt-gazebo', 'ros-dashing-gazebo-msgs', 'ros-humble-irobot-create-gazebo-plugins-dbgsym', 'ros-kinetic-uuv-gazebo', 'ros-noetic-qb-move-gazebo-dbgsym', 'ros-kinetic-gazebo-ros-pkgs', 'ros-humble-turtlebot3-gazebo', 'ros-kinetic-gazebo-plugins', 'ros-galactic-gazebo-plugins', 'ros-galactic-rmf-building-sim-gazebo-plugins', 'ros-lunar-uuv-gazebo-plugins', 'ros-indigo-youbot-gazebo-control', 'ros-galactic-irobot-create-gazebo-plugins', 'ros-melodic-rotors-gazebo', 'ros-indigo-jackal-gazebo', 'ros-kinetic-uuv-gazebo-ros-plugins', 'ros-noetic-pr2-controller-configuration-gazebo', 'ros-kinetic-igvc-self-drive-gazebo-plugins', 'ros-noetic-audibot-gazebo', 'ros-melodic-wamv-gazebo', 'ros-indigo-hector-gazebo-worlds', 'ros-melodic-khi-rs-gazebo', 'ros-indigo-pr2-controller-configuration-gazebo', 'ros-lunar-hector-gazebo-worlds', 'ros-humble-irobot-create-gazebo-bringup', 'ros-melodic-cob-gazebo-plugins', 'ros-melodic-turtlebot3-gazebo', 'ros-melodic-rexrov2-gazebo', 'ros-kinetic-hector-gazebo', 'ros-kinetic-uos-gazebo-worlds', 'ros-foxy-rmf-robot-sim-gazebo-plugins-dbgsym', 'ros-noetic-gazebo-custom-sensor-preloader', 'ros-iron-gazebo-ros-dbgsym', 'ros-indigo-romeo-gazebo-plugin', 'ros-melodic-open-manipulator-p-gazebo', 'ros-melodic-robosense-gazebo-plugins', 'ros-noetic-hector-gazebo-plugins-dbgsym', 'ros-crystal-gazebo-msgs-dbgsym', 'ros-humble-gazebo-ros-dbgsym', 'ros-melodic-gazebo-video-monitors', 'ros-lunar-uuv-gazebo-worlds', 'ros-crystal-gazebo-ros', 'ros-kinetic-kobuki-gazebo', 'ros-noetic-franka-gazebo-dbgsym', 'ros-humble-gazebo-ros-pkgs', 'ros-indigo-nao-gazebo-plugin', 'ros-noetic-qb-move-gazebo', 'ros-foxy-pal-gazebo-worlds', 'ros-indigo-hector-gazebo-plugins', 'ros-kinetic-audibot-gazebo', 'ros-melodic-ridgeback-gazebo', 'ros-eloquent-gazebo-msgs', 'ros-eloquent-gazebo-dev', 'ros-humble-tiago-gazebo-dbgsym', 'ros-iron-gazebo-ros', 'ros-rolling-velodyne-gazebo-plugins-dbgsym', 'ros-noetic-hector-sensors-gazebo', 'ros-melodic-igvc-self-drive-gazebo-plugins', 'ros-indigo-aubo-gazebo', 'ros-foxy-gazebo-ros2-control-dbgsym', 'ros-indigo-hector-sensors-gazebo', 'ros-kinetic-kobuki-gazebo-plugins', 'ros-indigo-katana-arm-gazebo', 'ros-kinetic-fetch-gazebo', 'ros-noetic-ridgeback-gazebo-plugins', 'ros-foxy-pmb2-gazebo', 'ros-noetic-gazebo-ros-control-select-joints', 'ros-melodic-moose-gazebo', 'ros-kinetic-turtlebot3-gazebo', 'ros-lunar-pr2-gazebo-plugins-dbgsym', 'ros-kinetic-pr2-gazebo', 'ros-indigo-create-gazebo-plugins', 'ros-kinetic-summit-x-gazebo', 'ros-lunar-uuv-gazebo-ros-plugins', 'ros-melodic-franka-gazebo-dbgsym', 'ros-melodic-gazebo-plugins-dbgsym', 'ros-noetic-velodyne-gazebo-plugins-dbgsym', 'ros-lunar-hector-gazebo-plugins', 'ros-indigo-pr2-gazebo', 'ros-noetic-cob-gazebo-plugins-dbgsym', 'ros-noetic-leo-gazebo', 'ros-kinetic-hector-sensors-gazebo', 'ros-kinetic-ur-e-gazebo', 'ros-rolling-gazebo-ros2-control-dbgsym', 'ros-noetic-cob-gazebo-objects', 'ros-kinetic-cob-gazebo-worlds', 'ros-kinetic-mecanum-gazebo-plugin', 'ros-indigo-grizzly-gazebo-plugins', 'ros-rolling-gazebo-plugins', 'ros-indigo-gazebo-mimic', 'ros-kinetic-khi-rs-gazebo', 'ros-melodic-leo-gazebo-dbgsym', 'ros-foxy-dolly-gazebo', 'ros-lunar-uuv-gazebo-plugins-dbgsym', 'ros-indigo-pr2-gazebo-plugins', 'ros-kinetic-cob-gazebo-tools', 'ros-humble-as2-gazebo-classic-assets', 'ros-melodic-igvc-self-drive-gazebo-plugins-dbgsym', 'ros-rolling-gazebo-ros2-control', 'ros-melodic-vrx-gazebo', 'ros-kinetic-gundam-rx78-gazebo', 'ros-noetic-jackal-gazebo', 'ros-melodic-gazebo-video-monitor-plugins', 'ros-foxy-jackal-gazebo', 'ros-crystal-gazebo-ros-pkgs', 'ros-indigo-bwi-gazebo-entities', 'ros-indigo-hrpsys-gazebo-general', 'ros-kinetic-lauv-gazebo', 'ros-iron-gazebo-plugins-dbgsym', 'ros-galactic-gazebo-plugins-dbgsym', 'ros-noetic-rm-gazebo', 'ros-dashing-gazebo-ros-dbgsym', 'ros-humble-irobot-create-gazebo-plugins', 'ros-melodic-desistek-saga-gazebo', 'ros-melodic-eca-a9-gazebo', 'ros-melodic-robotont-gazebo', 'ros-kinetic-igvc-self-drive-gazebo', 'ros-indigo-warthog-gazebo', 'ros-dashing-gazebo-ros', 'ros-indigo-cob-gazebo-worlds', 'ros-noetic-qb-hand-gazebo', 'ros-kinetic-warthog-gazebo', 'ros-galactic-irobot-create-gazebo-bringup', 'ros-indigo-concert-service-gazebo', 'ros-kinetic-usv-gazebo-plugins', 'ros-kinetic-uuv-gazebo-worlds', 'ros-kinetic-hector-gazebo-plugins', 'ros-foxy-husky-gazebo', 'ros-indigo-kobuki-gazebo-plugins', 'ros-kinetic-jackal-gazebo', 'ros-indigo-ur-gazebo', 'ros-lunar-hector-gazebo-plugins-dbgsym', 'ros-indigo-gazebo-msgs', 'ros-kinetic-open-manipulator-with-tb3-gazebo', 'ros-indigo-roch-gazebo', 'ros-melodic-hector-gazebo', 'ros-noetic-mecanum-gazebo-plugin', 'ros-melodic-warthog-gazebo', 'ros-kinetic-vs060-gazebo', 'ros-lunar-pr2-gazebo', 'ros-melodic-audibot-gazebo-dbgsym', 'ros-melodic-ainstein-radar-gazebo-plugins', 'ros-melodic-open-manipulator-with-tb3-gazebo', 'ros-kinetic-denso-robot-gazebo', 'ros-melodic-denso-robot-gazebo', 'ros-kinetic-ridgeback-gazebo-plugins', 'ros-iron-velodyne-gazebo-plugins', 'ros-indigo-fetch-gazebo-demo', 'ros-eloquent-gazebo-plugins-dbgsym', 'ros-noetic-open-manipulator-p-gazebo-dbgsym', 'ros-eloquent-gazebo-plugins', 'ros-galactic-gazebo-ros-dbgsym', 'ros-melodic-usv-gazebo-plugins', 'ros-kinetic-hector-gazebo-worlds', 'ros-kinetic-open-manipulator-p-gazebo', 'ros-kinetic-velodyne-gazebo-plugins', 'ros-noetic-gazebo-plugins', 'ros-foxy-gazebo-plugins-dbgsym', 'ros-kinetic-husky-gazebo', 'ros-kinetic-cob-gazebo-plugins', 'ros-kinetic-cob-gazebo-objects', 'ros-foxy-rmf-building-sim-gazebo-plugins-dbgsym', 'ros-noetic-hector-gazebo-worlds', 'ros-melodic-gazebo-ros', 'ros-lunar-mir-gazebo', 'ros-eloquent-gazebo-ros-pkgs', 'ros-noetic-leo-gazebo-plugins-dbgsym', 'ros-indigo-cob-gazebo-ros-control', 'ros-crystal-gazebo-plugins-dbgsym', 'ros-noetic-pr2-gazebo-plugins-dbgsym', 'ros-noetic-ridgeback-gazebo', 'ros-melodic-gazebo-ros-dbgsym', 'ros-kinetic-ur-gazebo', 'ros-melodic-pr2-gazebo-plugins-dbgsym', 'ros-melodic-gundam-rx78-gazebo', 'ros-melodic-gazebo-video-monitor-plugins-dbgsym', 'ros-galactic-irobot-create-gazebo-sim', 'ros-humble-pal-gazebo-plugins', 'ros-melodic-hector-sensors-gazebo', 'ros-galactic-gazebo-ros2-control-dbgsym', 'ros-kinetic-barrett-hand-gazebo', 'ros-melodic-roboticsgroup-upatras-gazebo-plugins-dbgsym', 'ros-humble-crane-plus-gazebo', 'ros-melodic-hector-gazebo-worlds', 'ros-foxy-gazebo-ros-pkgs', 'ros-melodic-hector-gazebo-thermal-camera', 'ros-indigo-baxter-gazebo', 'ros-kinetic-eca-a9-gazebo', 'ros-indigo-ridgeback-gazebo', 'ros-kinetic-op3-gazebo', 'ros-lunar-katana-arm-gazebo-dbgsym', 'ros-humble-gazebo-msgs%5f3.7.0-1jammy.20230919.211142%5famd64.deb', 'ros-rolling-rmf-robot-sim-gazebo-plugins', 'ros-humble-pmb2-gazebo', 'ros-rolling-velodyne-gazebo-plugins', 'ros-indigo-summit-xl-gazebo', 'ros-melodic-cob-gazebo-ros-control', 'ros-kinetic-wamv-gazebo', 'ros-noetic-khi-duaro-gazebo', 'ros-iron-gazebo-msgs-dbgsym', 'ros-noetic-leo-gazebo-plugins', 'ros-noetic-pr2-gazebo-plugins', 'ros-kinetic-rbcar-gazebo', 'ros-indigo-gazebo-test-tools', 'ros-kinetic-gazebo-ros', 'ros-humble-turtlebot3-gazebo-dbgsym', 'ros-noetic-gazebo-ros', 'ros-noetic-cob-gazebo-tools', 'ros-indigo-segbot-gazebo', 'ros-melodic-dingo-gazebo', 'ros-indigo-gazebo-ros', 'ros-kinetic-rexrov2-gazebo', 'ros-iron-gazebo-msgs', 'ros-humble-gazebo-ros2-control-demos', 'ros-melodic-leo-gazebo', 'ros-melodic-wave-gazebo-plugins', 'ros-galactic-gazebo-ros-pkgs', 'ros-melodic-usv-gazebo-plugins-dbgsym', 'ros-lunar-uuv-gazebo', 'ros-rolling-turtlebot3-gazebo-dbgsym', 'ros-kinetic-prbt-gazebo', 'ros-melodic-warthog-gazebo-dbgsym', 'ros-melodic-wave-gazebo-plugins-dbgsym', 'ros-eloquent-gazebo-ros-dbgsym', 'ros-melodic-husky-gazebo', 'ros-kinetic-raspigibbon-gazebo', 'ros-lunar-katana-gazebo-plugins-dbgsym', 'ros-noetic-leo-gazebo-worlds', 'ros-galactic-turtlebot3-gazebo-dbgsym', 'ros-kinetic-pr2-gazebo-plugins', 'ros-indigo-innok-heros-gazebo', 'ros-lunar-gazebo-ros-pkgs', 'ros-rolling-rmf-building-sim-gazebo-plugins', 'ros-kinetic-khi-duaro-gazebo', 'ros-kinetic-iiwa-gazebo', 'ros-melodic-open-manipulator-gazebo', 'ros-melodic-igvc-self-drive-gazebo', 'ros-indigo-gazebo-ros-control', 'ros-melodic-khi-duaro-gazebo', 'ros-kinetic-cob-gazebo-ros-control', 'ros-indigo-gazebo-ros-pkgs', 'ros-indigo-cob-gazebo', 'ros-rolling-gazebo-msgs-dbgsym', 'ros-crystal-gazebo-ros-dbgsym', 'ros-galactic-gazebo-dev', 'ros-indigo-summit-x-gazebo', 'ros-kinetic-gazebo-dev', 'ros-eloquent-gazebo-ros', 'ros-melodic-uuv-gazebo-plugins-dbgsym', 'ros-indigo-hector-gazebo-thermal-camera', 'ros-indigo-rb1-base-gazebo', 'ros-rolling-gazebo-ros-pkgs', 'ros-melodic-rotors-gazebo-dbgsym', 'ros-indigo-youbot-gazebo-worlds', 'ros-noetic-mia-hand-gazebo-dbgsym', 'ros-eloquent-gazebo-msgs-dbgsym', 'ros-foxy-gazebo-ros2-control-demos-dbgsym', 'ros-indigo-mrp2-gazebo', 'ros-melodic-fetch-gazebo', 'ros-noetic-hector-gazebo-thermal-camera', 'ros-melodic-jackal-gazebo', 'ros-lunar-gazebo-ros-control-dbgsym', 'ros-noetic-cob-gazebo-worlds', 'ros-kinetic-grizzly-gazebo', 'ros-kinetic-roch-gazebo', 'ros-humble-gazebo-msgs-dbgsym', 'ros-melodic-uuv-gazebo', 'ros-noetic-husky-gazebo', 'ros-lunar-gazebo-msgs', 'ros-indigo-aras-visual-servo-gazebo', 'ros-kinetic-agvs-gazebo', 'ros-melodic-rotors-gazebo-plugins-dbgsym', 'ros-foxy-velodyne-gazebo-plugins-dbgsym', 'ros-melodic-turtlebot3-gazebo-dbgsym', 'ros-dashing-gazebo-msgs-dbgsym', 'ros-melodic-fetch-gazebo-demo', 'ros-foxy-gazebo-plugins', 'ros-lunar-velodyne-gazebo-plugins', 'ros-indigo-katana-gazebo-plugins', 'ros-melodic-rotors-gazebo-plugins', 'ros-indigo-gazebo-world-plugin-loader', 'ros-melodic-franka-gazebo', 'ros-iron-gazebo-ros2-control-demos', 'ros-galactic-turtlebot3-gazebo', 'ros-foxy-gazebo-msgs-dbgsym', 'ros-iron-velodyne-gazebo-plugins-dbgsym', 'ros-humble-gazebo-ros2-control-dbgsym', 'ros-galactic-dolly-gazebo', 'ros-rolling-gazebo-plugins-dbgsym', 'ros-noetic-cob-gazebo', 'ros-kinetic-vrx-gazebo', 'ros-galactic-velodyne-gazebo-plugins', 'ros-melodic-blender-gazebo', 'ros-noetic-open-manipulator-gazebo', 'ros-iron-dolly-gazebo', 'ros-dashing-dolly-gazebo', 'ros-dashing-turtlebot3-gazebo-dbgsym', 'ros-melodic-qb-device-gazebo-dbgsym', 'ros-kinetic-uuv-gazebo-plugins', 'ros-rolling-gazebo-msgs', 'ros-melodic-cob-gazebo-ros-control-dbgsym', 'ros-noetic-dingo-gazebo', 'ros-indigo-rbcar-gazebo', 'ros-humble-dolly-gazebo', 'ros-indigo-gazebo-state-plugins', 'ros-foxy-rmf-building-sim-gazebo-plugins', 'ros-iron-gazebo-dev', 'ros-lunar-pr2-controller-configuration-gazebo', 'ros-rolling-gazebo-dev', 'ros-dashing-gazebo-plugins', 'ros-noetic-cob-gazebo-ros-control-dbgsym', 'ros-humble-gazebo-dev', 'ros-kinetic-pepper-gazebo-plugin', 'ros-melodic-hector-gazebo-thermal-camera-dbgsym', 'ros-indigo-gazebo-grasp-plugin', 'ros-galactic-rmf-building-sim-gazebo-plugins-dbgsym', 'ros-kinetic-heron-gazebo', 'ros-melodic-heron-gazebo', 'ros-indigo-youbot-gazebo-robot', 'ros-galactic-velodyne-gazebo-plugins-dbgsym', 'ros-noetic-cob-gazebo-ros-control', 'ros-noetic-warthog-gazebo-dbgsym', 'ros-indigo-hrpsys-gazebo-msgs', 'ros-melodic-hector-gazebo-plugins', 'ros-kinetic-thormang3-gazebo', 'ros-indigo-eusgazebo', 'ros-noetic-gazebo-dev', 'ros-indigo-jaco-gazebo', 'ros-rolling-dolly-gazebo', 'ros-melodic-robosense-gazebo-plugins-dbgsym', 'ros-indigo-turtlebot-gazebo', 'ros-noetic-ur-gazebo', 'ros-melodic-gazebo-msgs', 'ros-lunar-uuv-gazebo-ros-plugins-dbgsym', 'ros-melodic-uuv-gazebo-ros-plugins-dbgsym', 'ros-noetic-gazebo-ros-control-dbgsym', 'ros-galactic-rmf-robot-sim-gazebo-plugins-dbgsym', 'ros-kinetic-wave-gazebo-plugins', 'ros-noetic-gazebo-ros-control', 'ros-melodic-mrp2-gazebo', 'ros-humble-tiago-gazebo', 'ros-humble-gazebo-msgs', 'ros-melodic-audibot-gazebo', 'ros-kinetic-nextage-gazebo', 'ros-melodic-velodyne-gazebo-plugins-dbgsym', 'ros-dashing-turtlebot3-gazebo', 'ros-melodic-hector-gazebo-plugins-dbgsym', 'ros-kinetic-moose-gazebo', 'ros-lunar-gazebo-ros-control', 'ros-melodic-wave-gazebo', 'ros-crystal-gazebo-plugins', 'ros-melodic-gazebo-ros-pkgs', 'ros-iron-gazebo-ros2-control-demos-dbgsym', 'ros-melodic-ridgeback-gazebo-plugins-dbgsym', 'ros-kinetic-romeo-gazebo-plugin', 'ros-noetic-rm-gazebo-dbgsym', 'ros-iron-gazebo-plugins', 'ros-dashing-gazebo-ros-pkgs', 'ros-noetic-khi-rs-gazebo', 'ros-kinetic-blender-gazebo', 'ros-kinetic-katana-arm-gazebo', 'ros-galactic-irobot-create-gazebo-plugins-dbgsym', 'ros-indigo-fetch-gazebo', 'ros-kinetic-gazebo-msgs', 'ros-melodic-gazebo-ros-control-dbgsym', 'ros-indigo-vs060-gazebo', 'ros-humble-gazebo-ros2-control-demos-dbgsym', 'ros-noetic-hector-gazebo-plugins', 'ros-melodic-lauv-gazebo', 'ros-kinetic-mir-gazebo', 'ros-lunar-gazebo-dev', 'ros-indigo-gazebo-plugins', 'ros-noetic-turtlebot3-gazebo', 'ros-indigo-mir-gazebo', 'ros-noetic-mir-gazebo', 'ros-melodic-uuv-gazebo-ros-plugins', 'ros-melodic-open-manipulator-gazebo-dbgsym', 'ros-galactic-gazebo-ros', 'ros-lunar-eca-a9-gazebo', 'ros-indigo-gazebo-concert', 'ros-indigo-agvs-gazebo', 'ros-indigo-cob-gazebo-objects', 'ros-kinetic-hector-gazebo-thermal-camera', 'ros-indigo-ridgeback-gazebo-plugins', 'ros-noetic-gazebo-video-monitors', 'ros-dashing-gazebo-dev', 'ros-noetic-diffbot-gazebo', 'ros-lunar-katana-arm-gazebo', 'ros-lunar-lauv-gazebo', 'ros-indigo-denso-robot-gazebo', 'ros-noetic-audibot-gazebo-dbgsym', 'ros-foxy-gazebo-ros-dbgsym', 'ros-lunar-rexrov2-gazebo', 'ros-kinetic-turtlebot-gazebo', 'ros-foxy-rmf-robot-sim-gazebo-plugins', 'ros-humble-velodyne-gazebo-plugins-dbgsym', 'ros-indigo-evarobot-gazebo', 'ros-indigo-hector-gazebo', 'ros-indigo-hector-quadrotor-gazebo-plugins', 'ros-indigo-icart-mini-gazebo', 'ros-iron-turtlebot3-gazebo', 'ros-humble-gazebo-ros', 'ros-foxy-gazebo-ros2-control', 'ros-iron-gazebo-ros2-control-dbgsym', 'ros-indigo-barrett-hand-gazebo', 'ros-humble-gazebo-dev%5f3.7.0-1jammy.20230623.022854%5famd64.deb', 'ros-rolling-rmf-robot-sim-gazebo-plugins-dbgsym', 'ros-humble-pal-gazebo-plugins-dbgsym', 'ros-kinetic-roboticsgroup-upatras-gazebo-plugins', 'ros-lunar-gazebo-plugins', 'ros-rolling-turtlebot3-gazebo', 'ros-lunar-hector-sensors-gazebo', 'ros-melodic-cob-gazebo-objects', 'ros-melodic-ur-gazebo', 'ros-melodic-open-manipulator-p-gazebo-dbgsym', 'ros-galactic-rmf-robot-sim-gazebo-plugins', 'ros-noetic-velodyne-gazebo-plugins', 'ros-kinetic-ridgeback-gazebo', 'ros-kinetic-katana-gazebo-plugins', 'ros-indigo-spur-gazebo', 'ros-dashing-gazebo-plugins-dbgsym', 'ros-kinetic-rh-p12-rn-gazebo', 'ros-noetic-pr2-gazebo', 'ros-noetic-roboticsgroup-upatras-gazebo-plugins-dbgsym', 'ros-noetic-franka-gazebo', 'ros-melodic-ridgeback-gazebo-plugins', 'ros-melodic-tuw-gazebo-msgs', 'ros-noetic-gazebo-ros-control-select-joints-dbgsym', 'ros-noetic-gazebo-video-monitor-msgs', 'ros-eloquent-nav2-gazebo-spawner', 'ros-indigo-tetris-gazebo', 'ros-noetic-warthog-gazebo', 'ros-melodic-mir-gazebo', 'ros-melodic-cob-gazebo-worlds', 'ros-melodic-pr2-gazebo-plugins', 'ros-indigo-hector-quadrotor-controller-gazebo', 'ros-lunar-gazebo-ros', 'ros-lunar-velodyne-gazebo-plugins-dbgsym', 'ros-noetic-ridgeback-gazebo-plugins-dbgsym', 'ros-noetic-qb-device-gazebo-dbgsym', 'ros-indigo-rotors-gazebo', 'ros-foxy-turtlebot3-gazebo', 'ros-lunar-uuv-gazebo-ros-plugins-msgs', 'ros-indigo-pepper-gazebo-plugin', 'ros-crystal-gazebo-msgs', 'ros-foxy-pmb2-2dnav-gazebo', 'ros-noetic-gazebo-ros-dbgsym', 'ros-galactic-nav2-gazebo-spawner', 'ros-kinetic-cob-gazebo', 'ros-melodic-pr2-gazebo', 'ros-melodic-fetch-gazebo-dbgsym', 'ros-melodic-vrx-gazebo-dbgsym', 'ros-melodic-uuv-gazebo-worlds', 'ros-noetic-open-manipulator-gazebo-dbgsym', 'ros-kinetic-tuw-gazebo-msgs', 'ros-indigo-sr-gazebo-plugins', 'ros-melodic-nextage-gazebo', 'ros-foxy-turtlebot3-gazebo-dbgsym', 'ros-noetic-gazebo-video-monitor-plugins-dbgsym', 'ros-lunar-katana-gazebo-plugins', 'ros-indigo-nextage-gazebo', 'ros-iron-gazebo-ros2-control', 'ros-noetic-gazebo-ros-pkgs', 'ros-galactic-gazebo-msgs', 'ros-galactic-gazebo-msgs-dbgsym', 'ros-noetic-mia-hand-gazebo', 'ros-galactic-gazebo-ros2-control-demos', 'ros-kinetic-summit-xl-gazebo', 'ros-foxy-crane-plus-gazebo', 'ros-noetic-hector-gazebo-thermal-camera-dbgsym', 'ros-iron-turtlebot3-gazebo-dbgsym', 'ros-indigo-kobuki-gazebo', 'ros-kinetic-dsr-gazebo', 'ros-melodic-gazebo-plugins', 'ros-melodic-mecanum-gazebo-plugin', 'ros-noetic-qb-device-gazebo', 'ros-foxy-gazebo-ros2-control-demos', 'ros-kinetic-pr2-controller-configuration-gazebo', 'ros-indigo-hector-quadrotor-gazebo', 'ros-lunar-hector-gazebo-thermal-camera', 'ros-lunar-hector-gazebo-thermal-camera-dbgsym', 'ros-melodic-roboticsgroup-upatras-gazebo-plugins', 'ros-melodic-pr2-controller-configuration-gazebo'}\n",
      "----------------\n",
      "Sanity Check -- should be empty\n",
      "set()\n"
     ]
    }
   ],
   "source": [
    "# Now let's clean up these sets\n",
    "set_ign_gazebo = set_gazebo.intersection(set_ign)\n",
    "# Remove ign_gazebo from gazebo to give us just gazebo classic\n",
    "set_gazebo_classic = set_gazebo-set_ign_gazebo\n",
    "\n",
    "set_new_gazebo = set_ign_gazebo.union(set_ign,set_gz,set_ignition)\n",
    "print(\"New Gazebo, formerly Ignition\")\n",
    "print(len(set_new_gazebo))\n",
    "print(set_new_gazebo)\n",
    "print(\"----------------\")\n",
    "print(\"Gazebo Classic\")\n",
    "print(len(set_gazebo_classic))\n",
    "print(set_gazebo_classic)\n",
    "print(\"----------------\")\n",
    "print(\"Sanity Check -- should be empty\")\n",
    "print(set_gazebo_classic.intersection(set_new_gazebo))"
   ]
  },
  {
   "cell_type": "code",
   "execution_count": 34,
   "metadata": {},
   "outputs": [],
   "source": [
    "# Make dataframes of classic and new gazebo packages\n",
    "classic_df = package_df[package_df['name'].isin(set_gazebo_classic)]\n",
    "gazebo_df = package_df[package_df['name'].isin(set_new_gazebo)]"
   ]
  },
  {
   "cell_type": "code",
   "execution_count": 59,
   "metadata": {},
   "outputs": [
    {
     "name": "stdout",
     "output_type": "stream",
     "text": [
      "Gazebo Classic Package Downloads October 2022: 662178\n",
      "Gazebo Classic Package Downloads October 2023: 528737\n",
      "Percent Change Between October 2022 and October 2023: -20.15%\n",
      "---------------------------------------------------\n",
      "Ign Gazebo Package Downloads October 2022: 74680\n",
      "Ign Gazebo Package Downloads October 2023: 213445\n",
      "Percent Change Between October 2022 and October 2023: 185.81%\n",
      "---------------------------------------------------\n",
      "In October 2022 Gazebo Classic was 89.87% of all Gazebo Downloads\n",
      "In October 2022 New Gazebo     was 10.13% of all Gazebo Downloads\n",
      "---------------------------------------------------\n",
      "In October 2023 Gazebo Classic was 71.24% of all Gazebo Downloads\n",
      "In October 2023 New Gazebo     was 28.76% of all Gazebo Downloads\n",
      "---------------------------------------------------\n",
      "TOTAL Gazebo Downloads in October 2022: 736858.0\n",
      "TOTAL Gazebo Downloads in October 2023: 1057474\n",
      "Change in TOTAL Gazebo Downloads Between October 2022 and October 2023: 43.51%\n",
      "---------------------------------------------------\n",
      "*ESTIMATED* Annual Gazebo Downloads: 12689688\n"
     ]
    }
   ],
   "source": [
    "classic_last = classic_df[last_year].sum()\n",
    "classic_this = classic_df[this_year].sum()\n",
    "gazebo_last = gazebo_df[last_year].sum()\n",
    "gazebo_this = gazebo_df[this_year].sum()\n",
    "print(\"Gazebo Classic Package Downloads {0} {1}: {2}\".format(last_month, last_year, int(classic_last)))\n",
    "print(\"Gazebo Classic Package Downloads {0} {1}: {2}\".format(this_month, this_year, int(classic_this)))\n",
    "classic_change = (classic_this - classic_last) / classic_last\n",
    "print(\"Percent Change Between {0} {1} and {2} {3}: {4:.2f}%\".format(last_month, last_year, this_month, this_year, 100.0*classic_change))\n",
    "print(\"---------------------------------------------------\")\n",
    "print(\"Ign Gazebo Package Downloads {0} {1}: {2}\".format(last_month, last_year, int(gazebo_last)))\n",
    "print(\"Ign Gazebo Package Downloads {0} {1}: {2}\".format(this_month, this_year, int(gazebo_this)))\n",
    "gazebo_change = (gazebo_this - gazebo_last) / gazebo_last\n",
    "print(\"Percent Change Between {0} {1} and {2} {3}: {4:.2f}%\".format(last_month, last_year, this_month, this_year, 100.0*gazebo_change))\n",
    "print(\"---------------------------------------------------\")\n",
    "sum_last = gazebo_last + classic_last\n",
    "gazebo_share_last = gazebo_last / sum_last\n",
    "classic_share_last = classic_last / sum_last\n",
    "print(\"In {0} {1} Gazebo Classic was {2:.2f}% of all Gazebo Downloads\".format(last_month,last_year,classic_share_last*100.0))\n",
    "print(\"In {0} {1} New Gazebo     was {2:.2f}% of all Gazebo Downloads\".format(last_month,last_year,gazebo_share_last*100.0))\n",
    "print(\"---------------------------------------------------\")\n",
    "sum_this = gazebo_this + classic_this\n",
    "gazebo_share_this = gazebo_this / sum_this\n",
    "classic_share_this = classic_this / sum_this\n",
    "print(\"In {0} {1} Gazebo Classic was {2:.2f}% of all Gazebo Downloads\".format(this_month,this_year,classic_share_this*100.0))\n",
    "print(\"In {0} {1} New Gazebo     was {2:.2f}% of all Gazebo Downloads\".format(this_month,this_year,gazebo_share_this*100.0))\n",
    "print(\"---------------------------------------------------\")\n",
    "total_gz_last = classic_last + gazebo_last \n",
    "total_gz_this = classic_this + classic_this\n",
    "total_gz_change = (total_gz_this - total_gz_last) / total_gz_last\n",
    "print(\"TOTAL Gazebo Downloads in {0} {1}: {2}\".format(last_month,last_year,total_gz_last))\n",
    "print(\"TOTAL Gazebo Downloads in {0} {1}: {2}\".format(this_month,this_year,total_gz_this))\n",
    "print(\"Change in TOTAL Gazebo Downloads Between {0} {1} and {2} {3}: {4:.2f}%\".format(last_month,last_year,this_month,this_year,total_gz_change*100.0))\n",
    "print(\"---------------------------------------------------\")\n",
    "print(\"*ESTIMATED* Annual Gazebo Downloads: {0}\".format(12*total_gz_this))\n"
   ]
  },
  {
   "cell_type": "code",
   "execution_count": 16,
   "metadata": {
    "scrolled": true
   },
   "outputs": [
    {
     "data": {
      "text/html": [
       "<div>\n",
       "<style scoped>\n",
       "    .dataframe tbody tr th:only-of-type {\n",
       "        vertical-align: middle;\n",
       "    }\n",
       "\n",
       "    .dataframe tbody tr th {\n",
       "        vertical-align: top;\n",
       "    }\n",
       "\n",
       "    .dataframe thead th {\n",
       "        text-align: right;\n",
       "    }\n",
       "</style>\n",
       "<table border=\"1\" class=\"dataframe\">\n",
       "  <thead>\n",
       "    <tr style=\"text-align: right;\">\n",
       "      <th></th>\n",
       "      <th>name</th>\n",
       "      <th>package</th>\n",
       "      <th>distro</th>\n",
       "      <th>2023</th>\n",
       "      <th>2022</th>\n",
       "      <th>YoY</th>\n",
       "      <th>YoY_Prct</th>\n",
       "    </tr>\n",
       "  </thead>\n",
       "  <tbody>\n",
       "    <tr>\n",
       "      <th>0</th>\n",
       "      <td>python3-catkin-pkg-modules</td>\n",
       "      <td>pkg-modules</td>\n",
       "      <td>catkin</td>\n",
       "      <td>175130</td>\n",
       "      <td>137978.0</td>\n",
       "      <td>37152.0</td>\n",
       "      <td>21.213955</td>\n",
       "    </tr>\n",
       "    <tr>\n",
       "      <th>1</th>\n",
       "      <td>python3-rospkg-modules</td>\n",
       "      <td>modules</td>\n",
       "      <td>rospkg</td>\n",
       "      <td>140266</td>\n",
       "      <td>121821.0</td>\n",
       "      <td>18445.0</td>\n",
       "      <td>13.150015</td>\n",
       "    </tr>\n",
       "    <tr>\n",
       "      <th>2</th>\n",
       "      <td>python3-rosdistro-modules</td>\n",
       "      <td>modules</td>\n",
       "      <td>rosdistro</td>\n",
       "      <td>128759</td>\n",
       "      <td>113208.0</td>\n",
       "      <td>15551.0</td>\n",
       "      <td>12.077602</td>\n",
       "    </tr>\n",
       "    <tr>\n",
       "      <th>3</th>\n",
       "      <td>python3-rosdep-modules</td>\n",
       "      <td>modules</td>\n",
       "      <td>rosdep</td>\n",
       "      <td>123786</td>\n",
       "      <td>103053.0</td>\n",
       "      <td>20733.0</td>\n",
       "      <td>16.749067</td>\n",
       "    </tr>\n",
       "    <tr>\n",
       "      <th>4</th>\n",
       "      <td>python3-catkin-pkg</td>\n",
       "      <td>pkg</td>\n",
       "      <td>catkin</td>\n",
       "      <td>122626</td>\n",
       "      <td>70879.0</td>\n",
       "      <td>51747.0</td>\n",
       "      <td>42.199044</td>\n",
       "    </tr>\n",
       "    <tr>\n",
       "      <th>5</th>\n",
       "      <td>python3-colcon-core</td>\n",
       "      <td>core</td>\n",
       "      <td>colcon</td>\n",
       "      <td>103375</td>\n",
       "      <td>46525.0</td>\n",
       "      <td>56850.0</td>\n",
       "      <td>54.993954</td>\n",
       "    </tr>\n",
       "    <tr>\n",
       "      <th>6</th>\n",
       "      <td>python3-colcon-recursive-crawl</td>\n",
       "      <td>recursive-crawl</td>\n",
       "      <td>colcon</td>\n",
       "      <td>101981</td>\n",
       "      <td>40701.0</td>\n",
       "      <td>61280.0</td>\n",
       "      <td>60.089625</td>\n",
       "    </tr>\n",
       "    <tr>\n",
       "      <th>7</th>\n",
       "      <td>python3-rosdep</td>\n",
       "      <td></td>\n",
       "      <td>rosdep</td>\n",
       "      <td>101911</td>\n",
       "      <td>92011.0</td>\n",
       "      <td>9900.0</td>\n",
       "      <td>9.714359</td>\n",
       "    </tr>\n",
       "    <tr>\n",
       "      <th>8</th>\n",
       "      <td>python3-colcon-ros</td>\n",
       "      <td>ros</td>\n",
       "      <td>colcon</td>\n",
       "      <td>101902</td>\n",
       "      <td>42768.0</td>\n",
       "      <td>59134.0</td>\n",
       "      <td>58.030264</td>\n",
       "    </tr>\n",
       "    <tr>\n",
       "      <th>9</th>\n",
       "      <td>ros-noetic-tf2-msgs</td>\n",
       "      <td>tf2-msgs</td>\n",
       "      <td>noetic</td>\n",
       "      <td>96764</td>\n",
       "      <td>87934.0</td>\n",
       "      <td>8830.0</td>\n",
       "      <td>9.125295</td>\n",
       "    </tr>\n",
       "    <tr>\n",
       "      <th>10</th>\n",
       "      <td>ros-noetic-tf2-ros</td>\n",
       "      <td>tf2-ros</td>\n",
       "      <td>noetic</td>\n",
       "      <td>95090</td>\n",
       "      <td>87202.0</td>\n",
       "      <td>7888.0</td>\n",
       "      <td>8.295299</td>\n",
       "    </tr>\n",
       "    <tr>\n",
       "      <th>11</th>\n",
       "      <td>ros-noetic-tf2-py</td>\n",
       "      <td>tf2-py</td>\n",
       "      <td>noetic</td>\n",
       "      <td>94728</td>\n",
       "      <td>87278.0</td>\n",
       "      <td>7450.0</td>\n",
       "      <td>7.864623</td>\n",
       "    </tr>\n",
       "    <tr>\n",
       "      <th>12</th>\n",
       "      <td>ros-noetic-tf2</td>\n",
       "      <td>tf2</td>\n",
       "      <td>noetic</td>\n",
       "      <td>94593</td>\n",
       "      <td>86585.0</td>\n",
       "      <td>8008.0</td>\n",
       "      <td>8.465743</td>\n",
       "    </tr>\n",
       "    <tr>\n",
       "      <th>13</th>\n",
       "      <td>python3-colcon-cmake</td>\n",
       "      <td>cmake</td>\n",
       "      <td>colcon</td>\n",
       "      <td>93469</td>\n",
       "      <td>49331.0</td>\n",
       "      <td>44138.0</td>\n",
       "      <td>47.222074</td>\n",
       "    </tr>\n",
       "    <tr>\n",
       "      <th>14</th>\n",
       "      <td>python3-colcon-powershell</td>\n",
       "      <td>powershell</td>\n",
       "      <td>colcon</td>\n",
       "      <td>92027</td>\n",
       "      <td>41163.0</td>\n",
       "      <td>50864.0</td>\n",
       "      <td>55.270736</td>\n",
       "    </tr>\n",
       "    <tr>\n",
       "      <th>15</th>\n",
       "      <td>python3-colcon-zsh</td>\n",
       "      <td>zsh</td>\n",
       "      <td>colcon</td>\n",
       "      <td>91961</td>\n",
       "      <td>40020.0</td>\n",
       "      <td>51941.0</td>\n",
       "      <td>56.481552</td>\n",
       "    </tr>\n",
       "    <tr>\n",
       "      <th>16</th>\n",
       "      <td>ros-noetic-tf</td>\n",
       "      <td>tf</td>\n",
       "      <td>noetic</td>\n",
       "      <td>86459</td>\n",
       "      <td>84972.0</td>\n",
       "      <td>1487.0</td>\n",
       "      <td>1.719890</td>\n",
       "    </tr>\n",
       "    <tr>\n",
       "      <th>17</th>\n",
       "      <td>python3-colcon-parallel-executor</td>\n",
       "      <td>parallel-executor</td>\n",
       "      <td>colcon</td>\n",
       "      <td>85977</td>\n",
       "      <td>40034.0</td>\n",
       "      <td>45943.0</td>\n",
       "      <td>53.436384</td>\n",
       "    </tr>\n",
       "    <tr>\n",
       "      <th>18</th>\n",
       "      <td>python3-colcon-bash</td>\n",
       "      <td>bash</td>\n",
       "      <td>colcon</td>\n",
       "      <td>85921</td>\n",
       "      <td>40031.0</td>\n",
       "      <td>45890.0</td>\n",
       "      <td>53.409527</td>\n",
       "    </tr>\n",
       "    <tr>\n",
       "      <th>19</th>\n",
       "      <td>python3-colcon-devtools</td>\n",
       "      <td>devtools</td>\n",
       "      <td>colcon</td>\n",
       "      <td>85823</td>\n",
       "      <td>41168.0</td>\n",
       "      <td>44655.0</td>\n",
       "      <td>52.031507</td>\n",
       "    </tr>\n",
       "  </tbody>\n",
       "</table>\n",
       "</div>"
      ],
      "text/plain": [
       "                                name            package     distro    2023  \\\n",
       "0         python3-catkin-pkg-modules        pkg-modules     catkin  175130   \n",
       "1             python3-rospkg-modules            modules     rospkg  140266   \n",
       "2          python3-rosdistro-modules            modules  rosdistro  128759   \n",
       "3             python3-rosdep-modules            modules     rosdep  123786   \n",
       "4                 python3-catkin-pkg                pkg     catkin  122626   \n",
       "5                python3-colcon-core               core     colcon  103375   \n",
       "6     python3-colcon-recursive-crawl    recursive-crawl     colcon  101981   \n",
       "7                     python3-rosdep                        rosdep  101911   \n",
       "8                 python3-colcon-ros                ros     colcon  101902   \n",
       "9                ros-noetic-tf2-msgs           tf2-msgs     noetic   96764   \n",
       "10                ros-noetic-tf2-ros            tf2-ros     noetic   95090   \n",
       "11                 ros-noetic-tf2-py             tf2-py     noetic   94728   \n",
       "12                    ros-noetic-tf2                tf2     noetic   94593   \n",
       "13              python3-colcon-cmake              cmake     colcon   93469   \n",
       "14         python3-colcon-powershell         powershell     colcon   92027   \n",
       "15                python3-colcon-zsh                zsh     colcon   91961   \n",
       "16                     ros-noetic-tf                 tf     noetic   86459   \n",
       "17  python3-colcon-parallel-executor  parallel-executor     colcon   85977   \n",
       "18               python3-colcon-bash               bash     colcon   85921   \n",
       "19           python3-colcon-devtools           devtools     colcon   85823   \n",
       "\n",
       "        2022      YoY   YoY_Prct  \n",
       "0   137978.0  37152.0  21.213955  \n",
       "1   121821.0  18445.0  13.150015  \n",
       "2   113208.0  15551.0  12.077602  \n",
       "3   103053.0  20733.0  16.749067  \n",
       "4    70879.0  51747.0  42.199044  \n",
       "5    46525.0  56850.0  54.993954  \n",
       "6    40701.0  61280.0  60.089625  \n",
       "7    92011.0   9900.0   9.714359  \n",
       "8    42768.0  59134.0  58.030264  \n",
       "9    87934.0   8830.0   9.125295  \n",
       "10   87202.0   7888.0   8.295299  \n",
       "11   87278.0   7450.0   7.864623  \n",
       "12   86585.0   8008.0   8.465743  \n",
       "13   49331.0  44138.0  47.222074  \n",
       "14   41163.0  50864.0  55.270736  \n",
       "15   40020.0  51941.0  56.481552  \n",
       "16   84972.0   1487.0   1.719890  \n",
       "17   40034.0  45943.0  53.436384  \n",
       "18   40031.0  45890.0  53.409527  \n",
       "19   41168.0  44655.0  52.031507  "
      ]
     },
     "execution_count": 16,
     "metadata": {},
     "output_type": "execute_result"
    }
   ],
   "source": [
    "package_df[0:20]"
   ]
  },
  {
   "cell_type": "code",
   "execution_count": 17,
   "metadata": {},
   "outputs": [
    {
     "data": {
      "text/html": [
       "<div>\n",
       "<style scoped>\n",
       "    .dataframe tbody tr th:only-of-type {\n",
       "        vertical-align: middle;\n",
       "    }\n",
       "\n",
       "    .dataframe tbody tr th {\n",
       "        vertical-align: top;\n",
       "    }\n",
       "\n",
       "    .dataframe thead th {\n",
       "        text-align: right;\n",
       "    }\n",
       "</style>\n",
       "<table border=\"1\" class=\"dataframe\">\n",
       "  <thead>\n",
       "    <tr style=\"text-align: right;\">\n",
       "      <th></th>\n",
       "      <th>name</th>\n",
       "      <th>package</th>\n",
       "      <th>distro</th>\n",
       "      <th>2023</th>\n",
       "      <th>2022</th>\n",
       "      <th>YoY</th>\n",
       "      <th>YoY_Prct</th>\n",
       "    </tr>\n",
       "  </thead>\n",
       "  <tbody>\n",
       "    <tr>\n",
       "      <th>684</th>\n",
       "      <td>ros-foxy-rosidl-runtime-c</td>\n",
       "      <td>rosidl-runtime-c</td>\n",
       "      <td>foxy</td>\n",
       "      <td>15638</td>\n",
       "      <td>29336.0</td>\n",
       "      <td>-13698.0</td>\n",
       "      <td>-87.594322</td>\n",
       "    </tr>\n",
       "    <tr>\n",
       "      <th>685</th>\n",
       "      <td>ros-foxy-builtin-interfaces</td>\n",
       "      <td>builtin-interfaces</td>\n",
       "      <td>foxy</td>\n",
       "      <td>15597</td>\n",
       "      <td>29373.0</td>\n",
       "      <td>-13776.0</td>\n",
       "      <td>-88.324678</td>\n",
       "    </tr>\n",
       "    <tr>\n",
       "      <th>687</th>\n",
       "      <td>ros-foxy-std-msgs</td>\n",
       "      <td>std-msgs</td>\n",
       "      <td>foxy</td>\n",
       "      <td>15530</td>\n",
       "      <td>29318.0</td>\n",
       "      <td>-13788.0</td>\n",
       "      <td>-88.783001</td>\n",
       "    </tr>\n",
       "    <tr>\n",
       "      <th>692</th>\n",
       "      <td>ros-foxy-ros-workspace</td>\n",
       "      <td>ros-workspace</td>\n",
       "      <td>foxy</td>\n",
       "      <td>14981</td>\n",
       "      <td>27566.0</td>\n",
       "      <td>-12585.0</td>\n",
       "      <td>-84.006408</td>\n",
       "    </tr>\n",
       "    <tr>\n",
       "      <th>699</th>\n",
       "      <td>ros-foxy-ament-cmake-core</td>\n",
       "      <td>ament-cmake-core</td>\n",
       "      <td>foxy</td>\n",
       "      <td>14108</td>\n",
       "      <td>26410.0</td>\n",
       "      <td>-12302.0</td>\n",
       "      <td>-87.198752</td>\n",
       "    </tr>\n",
       "    <tr>\n",
       "      <th>705</th>\n",
       "      <td>ros-foxy-ament-flake8</td>\n",
       "      <td>ament-flake8</td>\n",
       "      <td>foxy</td>\n",
       "      <td>13843</td>\n",
       "      <td>22725.0</td>\n",
       "      <td>-8882.0</td>\n",
       "      <td>-64.162393</td>\n",
       "    </tr>\n",
       "    <tr>\n",
       "      <th>714</th>\n",
       "      <td>ros-foxy-ament-pep257</td>\n",
       "      <td>ament-pep257</td>\n",
       "      <td>foxy</td>\n",
       "      <td>13550</td>\n",
       "      <td>22488.0</td>\n",
       "      <td>-8938.0</td>\n",
       "      <td>-65.963100</td>\n",
       "    </tr>\n",
       "    <tr>\n",
       "      <th>715</th>\n",
       "      <td>ros-foxy-ament-cmake</td>\n",
       "      <td>ament-cmake</td>\n",
       "      <td>foxy</td>\n",
       "      <td>13531</td>\n",
       "      <td>26462.0</td>\n",
       "      <td>-12931.0</td>\n",
       "      <td>-95.565738</td>\n",
       "    </tr>\n",
       "    <tr>\n",
       "      <th>717</th>\n",
       "      <td>ros-foxy-ament-cmake-flake8</td>\n",
       "      <td>ament-cmake-flake8</td>\n",
       "      <td>foxy</td>\n",
       "      <td>13447</td>\n",
       "      <td>22639.0</td>\n",
       "      <td>-9192.0</td>\n",
       "      <td>-68.357254</td>\n",
       "    </tr>\n",
       "    <tr>\n",
       "      <th>722</th>\n",
       "      <td>ros-foxy-statistics-msgs</td>\n",
       "      <td>statistics-msgs</td>\n",
       "      <td>foxy</td>\n",
       "      <td>13369</td>\n",
       "      <td>28908.0</td>\n",
       "      <td>-15539.0</td>\n",
       "      <td>-116.231581</td>\n",
       "    </tr>\n",
       "    <tr>\n",
       "      <th>723</th>\n",
       "      <td>ros-foxy-libstatistics-collector</td>\n",
       "      <td>libstatistics-collector</td>\n",
       "      <td>foxy</td>\n",
       "      <td>13369</td>\n",
       "      <td>28913.0</td>\n",
       "      <td>-15544.0</td>\n",
       "      <td>-116.268980</td>\n",
       "    </tr>\n",
       "    <tr>\n",
       "      <th>724</th>\n",
       "      <td>ros-foxy-rclcpp</td>\n",
       "      <td>rclcpp</td>\n",
       "      <td>foxy</td>\n",
       "      <td>13367</td>\n",
       "      <td>29202.0</td>\n",
       "      <td>-15835.0</td>\n",
       "      <td>-118.463380</td>\n",
       "    </tr>\n",
       "    <tr>\n",
       "      <th>726</th>\n",
       "      <td>ros-foxy-rcpputils</td>\n",
       "      <td>rcpputils</td>\n",
       "      <td>foxy</td>\n",
       "      <td>13344</td>\n",
       "      <td>29336.0</td>\n",
       "      <td>-15992.0</td>\n",
       "      <td>-119.844125</td>\n",
       "    </tr>\n",
       "    <tr>\n",
       "      <th>727</th>\n",
       "      <td>ros-foxy-ament-cmake-export-dependencies</td>\n",
       "      <td>ament-cmake-export-dependencies</td>\n",
       "      <td>foxy</td>\n",
       "      <td>13342</td>\n",
       "      <td>25044.0</td>\n",
       "      <td>-11702.0</td>\n",
       "      <td>-87.707990</td>\n",
       "    </tr>\n",
       "    <tr>\n",
       "      <th>728</th>\n",
       "      <td>ros-foxy-ament-cmake-libraries</td>\n",
       "      <td>ament-cmake-libraries</td>\n",
       "      <td>foxy</td>\n",
       "      <td>13335</td>\n",
       "      <td>25029.0</td>\n",
       "      <td>-11694.0</td>\n",
       "      <td>-87.694038</td>\n",
       "    </tr>\n",
       "    <tr>\n",
       "      <th>730</th>\n",
       "      <td>ros-foxy-ament-cmake-export-definitions</td>\n",
       "      <td>ament-cmake-export-definitions</td>\n",
       "      <td>foxy</td>\n",
       "      <td>13333</td>\n",
       "      <td>25020.0</td>\n",
       "      <td>-11687.0</td>\n",
       "      <td>-87.654691</td>\n",
       "    </tr>\n",
       "    <tr>\n",
       "      <th>731</th>\n",
       "      <td>ros-foxy-ament-index-python</td>\n",
       "      <td>ament-index-python</td>\n",
       "      <td>foxy</td>\n",
       "      <td>13292</td>\n",
       "      <td>24582.0</td>\n",
       "      <td>-11290.0</td>\n",
       "      <td>-84.938309</td>\n",
       "    </tr>\n",
       "    <tr>\n",
       "      <th>732</th>\n",
       "      <td>ros-foxy-ament-cmake-lint-cmake</td>\n",
       "      <td>ament-cmake-lint-cmake</td>\n",
       "      <td>foxy</td>\n",
       "      <td>13282</td>\n",
       "      <td>22405.0</td>\n",
       "      <td>-9123.0</td>\n",
       "      <td>-68.686945</td>\n",
       "    </tr>\n",
       "    <tr>\n",
       "      <th>733</th>\n",
       "      <td>ros-foxy-ament-cmake-export-include-directories</td>\n",
       "      <td>ament-cmake-export-include-directories</td>\n",
       "      <td>foxy</td>\n",
       "      <td>13276</td>\n",
       "      <td>25045.0</td>\n",
       "      <td>-11769.0</td>\n",
       "      <td>-88.648689</td>\n",
       "    </tr>\n",
       "    <tr>\n",
       "      <th>734</th>\n",
       "      <td>ros-foxy-ament-cmake-pep257</td>\n",
       "      <td>ament-cmake-pep257</td>\n",
       "      <td>foxy</td>\n",
       "      <td>13266</td>\n",
       "      <td>22399.0</td>\n",
       "      <td>-9133.0</td>\n",
       "      <td>-68.845168</td>\n",
       "    </tr>\n",
       "  </tbody>\n",
       "</table>\n",
       "</div>"
      ],
      "text/plain": [
       "                                                name  \\\n",
       "684                        ros-foxy-rosidl-runtime-c   \n",
       "685                      ros-foxy-builtin-interfaces   \n",
       "687                                ros-foxy-std-msgs   \n",
       "692                           ros-foxy-ros-workspace   \n",
       "699                        ros-foxy-ament-cmake-core   \n",
       "705                            ros-foxy-ament-flake8   \n",
       "714                            ros-foxy-ament-pep257   \n",
       "715                             ros-foxy-ament-cmake   \n",
       "717                      ros-foxy-ament-cmake-flake8   \n",
       "722                         ros-foxy-statistics-msgs   \n",
       "723                 ros-foxy-libstatistics-collector   \n",
       "724                                  ros-foxy-rclcpp   \n",
       "726                               ros-foxy-rcpputils   \n",
       "727         ros-foxy-ament-cmake-export-dependencies   \n",
       "728                   ros-foxy-ament-cmake-libraries   \n",
       "730          ros-foxy-ament-cmake-export-definitions   \n",
       "731                      ros-foxy-ament-index-python   \n",
       "732                  ros-foxy-ament-cmake-lint-cmake   \n",
       "733  ros-foxy-ament-cmake-export-include-directories   \n",
       "734                      ros-foxy-ament-cmake-pep257   \n",
       "\n",
       "                                    package distro   2023     2022      YoY  \\\n",
       "684                        rosidl-runtime-c   foxy  15638  29336.0 -13698.0   \n",
       "685                      builtin-interfaces   foxy  15597  29373.0 -13776.0   \n",
       "687                                std-msgs   foxy  15530  29318.0 -13788.0   \n",
       "692                           ros-workspace   foxy  14981  27566.0 -12585.0   \n",
       "699                        ament-cmake-core   foxy  14108  26410.0 -12302.0   \n",
       "705                            ament-flake8   foxy  13843  22725.0  -8882.0   \n",
       "714                            ament-pep257   foxy  13550  22488.0  -8938.0   \n",
       "715                             ament-cmake   foxy  13531  26462.0 -12931.0   \n",
       "717                      ament-cmake-flake8   foxy  13447  22639.0  -9192.0   \n",
       "722                         statistics-msgs   foxy  13369  28908.0 -15539.0   \n",
       "723                 libstatistics-collector   foxy  13369  28913.0 -15544.0   \n",
       "724                                  rclcpp   foxy  13367  29202.0 -15835.0   \n",
       "726                               rcpputils   foxy  13344  29336.0 -15992.0   \n",
       "727         ament-cmake-export-dependencies   foxy  13342  25044.0 -11702.0   \n",
       "728                   ament-cmake-libraries   foxy  13335  25029.0 -11694.0   \n",
       "730          ament-cmake-export-definitions   foxy  13333  25020.0 -11687.0   \n",
       "731                      ament-index-python   foxy  13292  24582.0 -11290.0   \n",
       "732                  ament-cmake-lint-cmake   foxy  13282  22405.0  -9123.0   \n",
       "733  ament-cmake-export-include-directories   foxy  13276  25045.0 -11769.0   \n",
       "734                      ament-cmake-pep257   foxy  13266  22399.0  -9133.0   \n",
       "\n",
       "       YoY_Prct  \n",
       "684  -87.594322  \n",
       "685  -88.324678  \n",
       "687  -88.783001  \n",
       "692  -84.006408  \n",
       "699  -87.198752  \n",
       "705  -64.162393  \n",
       "714  -65.963100  \n",
       "715  -95.565738  \n",
       "717  -68.357254  \n",
       "722 -116.231581  \n",
       "723 -116.268980  \n",
       "724 -118.463380  \n",
       "726 -119.844125  \n",
       "727  -87.707990  \n",
       "728  -87.694038  \n",
       "730  -87.654691  \n",
       "731  -84.938309  \n",
       "732  -68.686945  \n",
       "733  -88.648689  \n",
       "734  -68.845168  "
      ]
     },
     "execution_count": 17,
     "metadata": {},
     "output_type": "execute_result"
    }
   ],
   "source": [
    "# break down data by distro\n",
    "just_foxy = package_df[package_df[\"distro\"]==\"foxy\"]\n",
    "just_foxy[0:20]"
   ]
  },
  {
   "cell_type": "code",
   "execution_count": null,
   "metadata": {},
   "outputs": [],
   "source": []
  },
  {
   "cell_type": "code",
   "execution_count": 117,
   "metadata": {},
   "outputs": [
    {
     "data": {
      "text/plain": [
       "name        ros-melodic-rviz-satellite\n",
       "package                 rviz-satellite\n",
       "distro                         melodic\n",
       "2023                                49\n",
       "2022                            6761.0\n",
       "YoY                            -6712.0\n",
       "YoY_Prct                 -13697.959184\n",
       "Name: 11679, dtype: object"
      ]
     },
     "execution_count": 117,
     "metadata": {},
     "output_type": "execute_result"
    }
   ],
   "source": [
    "# package with the highest yoy prct change\n",
    "package_df.iloc[package_df[\"YoY_Prct\"].argmin()]"
   ]
  },
  {
   "cell_type": "code",
   "execution_count": 19,
   "metadata": {},
   "outputs": [],
   "source": [
    "just_foxy = package_df[package_df[\"distro\"] == \"foxy\"]"
   ]
  },
  {
   "cell_type": "code",
   "execution_count": 20,
   "metadata": {},
   "outputs": [
    {
     "data": {
      "text/plain": [
       "name        ros-foxy-sick-safetyscanners2\n",
       "package              sick-safetyscanners2\n",
       "distro                               foxy\n",
       "2023                                    8\n",
       "2022                                841.0\n",
       "YoY                                -833.0\n",
       "YoY_Prct                         -10412.5\n",
       "Name: 21365, dtype: object"
      ]
     },
     "execution_count": 20,
     "metadata": {},
     "output_type": "execute_result"
    }
   ],
   "source": [
    "# find the foxy pkg with hightest yoy prct change\n",
    "just_foxy.iloc[just_foxy[\"YoY_Prct\"].argmin()]"
   ]
  },
  {
   "cell_type": "code",
   "execution_count": null,
   "metadata": {},
   "outputs": [],
   "source": []
  },
  {
   "cell_type": "code",
   "execution_count": 21,
   "metadata": {},
   "outputs": [
    {
     "data": {
      "text/plain": [
       "name        ros-foxy-ibeo-msgs\n",
       "package              ibeo-msgs\n",
       "distro                    foxy\n",
       "2023                      2515\n",
       "2022                      66.0\n",
       "YoY                     2449.0\n",
       "YoY_Prct             97.375746\n",
       "Name: 2522, dtype: object"
      ]
     },
     "execution_count": 21,
     "metadata": {},
     "output_type": "execute_result"
    }
   ],
   "source": [
    "just_foxy.iloc[just_foxy[\"YoY_Prct\"].argmax()]"
   ]
  },
  {
   "cell_type": "code",
   "execution_count": 22,
   "metadata": {},
   "outputs": [
    {
     "data": {
      "text/plain": [
       "-296.6666666666667"
      ]
     },
     "execution_count": 22,
     "metadata": {},
     "output_type": "execute_result"
    }
   ],
   "source": [
    "just_foxy[\"YoY_Prct\"].median()"
   ]
  },
  {
   "cell_type": "code",
   "execution_count": 23,
   "metadata": {},
   "outputs": [],
   "source": [
    "melodic = package_df[package_df[\"distro\"] == \"melodic\"]"
   ]
  },
  {
   "cell_type": "code",
   "execution_count": 24,
   "metadata": {},
   "outputs": [
    {
     "data": {
      "text/plain": [
       "name        ros-melodic-rviz-satellite\n",
       "package                 rviz-satellite\n",
       "distro                         melodic\n",
       "2023                                49\n",
       "2022                            6761.0\n",
       "YoY                            -6712.0\n",
       "YoY_Prct                 -13697.959184\n",
       "Name: 11679, dtype: object"
      ]
     },
     "execution_count": 24,
     "metadata": {},
     "output_type": "execute_result"
    }
   ],
   "source": [
    "melodic.iloc[melodic[\"YoY_Prct\"].argmin()]"
   ]
  },
  {
   "cell_type": "code",
   "execution_count": 163,
   "metadata": {},
   "outputs": [
    {
     "name": "stdout",
     "output_type": "stream",
     "text": [
      "Desktop installs between 2022 and 2023\n",
      "2023: 185478\n",
      "2022: 217187\n",
      "Change: -0.1459986094932017\n"
     ]
    }
   ],
   "source": [
    "# Let's look at Desktop installs, we would hope that those would be going up. \n",
    "\n",
    "# get the \"pure\" desktop installs \n",
    "exclude = [\"warthog\",\"turtlebot4\",\"ridgeback\",\"leo\",\"dingo\",\"mrp2\",\"jackal\",\"bwi\",\"clearpath\",\"industrial\"\n",
    "           \"husky\",\"moose\",\"kobuki\",\"care\",\"pr2\",\"heron\",\"rosh\",\"grizzly\",\"husky\",\"baxter\",\"webots\",\"create\"]\n",
    "package_names = package_df[\"name\"].tolist()\n",
    "pure_desktops = []\n",
    "extended_desktops = []\n",
    "for p in package_names:\n",
    "    if \"desktop\" in p:\n",
    "        extended_desktops.append(p)\n",
    "        hit = True\n",
    "        for e in exclude:\n",
    "            if e in p:\n",
    "                hit = False\n",
    "                break\n",
    "        if hit:\n",
    "            pure_desktops.append(p)\n",
    "            \n",
    "# You can check pure desktops or vendor desktops by toggling pure_desktops and extended desktops\n",
    "desktop_df = package_df[package_df[\"name\"].isin(pure_desktops)]\n",
    "\n",
    "print(\"Desktop installs between {0} and {1}\".format(last_year,this_year))\n",
    "desk_last = int(desktop_df[\"2022\"].sum())\n",
    "desk_this = int(desktop_df[\"2023\"].sum())\n",
    "print(\"{0}: {1}\".format(this_year,desk_this))\n",
    "print(\"{0}: {1}\".format(last_year,desk_last))\n",
    "print(\"Change: {0}\".format((desk_this-desk_last)/desk_last))\n"
   ]
  },
  {
   "cell_type": "code",
   "execution_count": 167,
   "metadata": {},
   "outputs": [
    {
     "data": {
      "text/html": [
       "<div>\n",
       "<style scoped>\n",
       "    .dataframe tbody tr th:only-of-type {\n",
       "        vertical-align: middle;\n",
       "    }\n",
       "\n",
       "    .dataframe tbody tr th {\n",
       "        vertical-align: top;\n",
       "    }\n",
       "\n",
       "    .dataframe thead th {\n",
       "        text-align: right;\n",
       "    }\n",
       "</style>\n",
       "<table border=\"1\" class=\"dataframe\">\n",
       "  <thead>\n",
       "    <tr style=\"text-align: right;\">\n",
       "      <th></th>\n",
       "      <th>name</th>\n",
       "      <th>package</th>\n",
       "      <th>distro</th>\n",
       "      <th>2023</th>\n",
       "      <th>2022</th>\n",
       "      <th>YoY</th>\n",
       "      <th>YoY_Prct</th>\n",
       "    </tr>\n",
       "  </thead>\n",
       "  <tbody>\n",
       "    <tr>\n",
       "      <th>133</th>\n",
       "      <td>ros-noetic-desktop</td>\n",
       "      <td>desktop</td>\n",
       "      <td>noetic</td>\n",
       "      <td>54323</td>\n",
       "      <td>61669.0</td>\n",
       "      <td>-7346.0</td>\n",
       "      <td>-13.522817</td>\n",
       "    </tr>\n",
       "    <tr>\n",
       "      <th>161</th>\n",
       "      <td>ros-noetic-desktop-full</td>\n",
       "      <td>desktop-full</td>\n",
       "      <td>noetic</td>\n",
       "      <td>51463</td>\n",
       "      <td>55122.0</td>\n",
       "      <td>-3659.0</td>\n",
       "      <td>-7.109962</td>\n",
       "    </tr>\n",
       "    <tr>\n",
       "      <th>517</th>\n",
       "      <td>ros-humble-desktop</td>\n",
       "      <td>desktop</td>\n",
       "      <td>humble</td>\n",
       "      <td>35560</td>\n",
       "      <td>15509.0</td>\n",
       "      <td>20051.0</td>\n",
       "      <td>56.386389</td>\n",
       "    </tr>\n",
       "    <tr>\n",
       "      <th>1252</th>\n",
       "      <td>ros-melodic-desktop</td>\n",
       "      <td>desktop</td>\n",
       "      <td>melodic</td>\n",
       "      <td>8550</td>\n",
       "      <td>23454.0</td>\n",
       "      <td>-14904.0</td>\n",
       "      <td>-174.315789</td>\n",
       "    </tr>\n",
       "    <tr>\n",
       "      <th>1374</th>\n",
       "      <td>ros-foxy-desktop</td>\n",
       "      <td>desktop</td>\n",
       "      <td>foxy</td>\n",
       "      <td>8184</td>\n",
       "      <td>18627.0</td>\n",
       "      <td>-10443.0</td>\n",
       "      <td>-127.602639</td>\n",
       "    </tr>\n",
       "    <tr>\n",
       "      <th>1533</th>\n",
       "      <td>ros-melodic-desktop-full</td>\n",
       "      <td>desktop-full</td>\n",
       "      <td>melodic</td>\n",
       "      <td>7726</td>\n",
       "      <td>20962.0</td>\n",
       "      <td>-13236.0</td>\n",
       "      <td>-171.317629</td>\n",
       "    </tr>\n",
       "    <tr>\n",
       "      <th>1719</th>\n",
       "      <td>ros-iron-desktop</td>\n",
       "      <td>desktop</td>\n",
       "      <td>iron</td>\n",
       "      <td>6708</td>\n",
       "      <td>NaN</td>\n",
       "      <td>NaN</td>\n",
       "      <td>NaN</td>\n",
       "    </tr>\n",
       "    <tr>\n",
       "      <th>2227</th>\n",
       "      <td>ros-rolling-desktop</td>\n",
       "      <td>desktop</td>\n",
       "      <td>rolling</td>\n",
       "      <td>3846</td>\n",
       "      <td>3391.0</td>\n",
       "      <td>455.0</td>\n",
       "      <td>11.830473</td>\n",
       "    </tr>\n",
       "    <tr>\n",
       "      <th>2497</th>\n",
       "      <td>ros-humble-desktop-full</td>\n",
       "      <td>desktop-full</td>\n",
       "      <td>humble</td>\n",
       "      <td>2672</td>\n",
       "      <td>1127.0</td>\n",
       "      <td>1545.0</td>\n",
       "      <td>57.821856</td>\n",
       "    </tr>\n",
       "    <tr>\n",
       "      <th>2534</th>\n",
       "      <td>ros-galactic-desktop</td>\n",
       "      <td>desktop</td>\n",
       "      <td>galactic</td>\n",
       "      <td>2472</td>\n",
       "      <td>10811.0</td>\n",
       "      <td>-8339.0</td>\n",
       "      <td>-337.338188</td>\n",
       "    </tr>\n",
       "    <tr>\n",
       "      <th>3162</th>\n",
       "      <td>ros-kinetic-desktop</td>\n",
       "      <td>desktop</td>\n",
       "      <td>kinetic</td>\n",
       "      <td>1364</td>\n",
       "      <td>2430.0</td>\n",
       "      <td>-1066.0</td>\n",
       "      <td>-78.152493</td>\n",
       "    </tr>\n",
       "    <tr>\n",
       "      <th>3218</th>\n",
       "      <td>ros-kinetic-desktop-full</td>\n",
       "      <td>desktop-full</td>\n",
       "      <td>kinetic</td>\n",
       "      <td>1268</td>\n",
       "      <td>2316.0</td>\n",
       "      <td>-1048.0</td>\n",
       "      <td>-82.649842</td>\n",
       "    </tr>\n",
       "    <tr>\n",
       "      <th>4728</th>\n",
       "      <td>ros-iron-desktop-full</td>\n",
       "      <td>desktop-full</td>\n",
       "      <td>iron</td>\n",
       "      <td>332</td>\n",
       "      <td>NaN</td>\n",
       "      <td>NaN</td>\n",
       "      <td>NaN</td>\n",
       "    </tr>\n",
       "    <tr>\n",
       "      <th>5211</th>\n",
       "      <td>ros-eloquent-desktop</td>\n",
       "      <td>desktop</td>\n",
       "      <td>eloquent</td>\n",
       "      <td>292</td>\n",
       "      <td>780.0</td>\n",
       "      <td>-488.0</td>\n",
       "      <td>-167.123288</td>\n",
       "    </tr>\n",
       "    <tr>\n",
       "      <th>5412</th>\n",
       "      <td>ros-dashing-desktop</td>\n",
       "      <td>desktop</td>\n",
       "      <td>dashing</td>\n",
       "      <td>273</td>\n",
       "      <td>552.0</td>\n",
       "      <td>-279.0</td>\n",
       "      <td>-102.197802</td>\n",
       "    </tr>\n",
       "    <tr>\n",
       "      <th>6721</th>\n",
       "      <td>ros-rolling-desktop-full</td>\n",
       "      <td>desktop-full</td>\n",
       "      <td>rolling</td>\n",
       "      <td>170</td>\n",
       "      <td>72.0</td>\n",
       "      <td>98.0</td>\n",
       "      <td>57.647059</td>\n",
       "    </tr>\n",
       "    <tr>\n",
       "      <th>8584</th>\n",
       "      <td>ros-indigo-desktop</td>\n",
       "      <td>desktop</td>\n",
       "      <td>indigo</td>\n",
       "      <td>94</td>\n",
       "      <td>135.0</td>\n",
       "      <td>-41.0</td>\n",
       "      <td>-43.617021</td>\n",
       "    </tr>\n",
       "    <tr>\n",
       "      <th>8894</th>\n",
       "      <td>ros-indigo-desktop-full</td>\n",
       "      <td>desktop-full</td>\n",
       "      <td>indigo</td>\n",
       "      <td>87</td>\n",
       "      <td>133.0</td>\n",
       "      <td>-46.0</td>\n",
       "      <td>-52.873563</td>\n",
       "    </tr>\n",
       "    <tr>\n",
       "      <th>13288</th>\n",
       "      <td>ros-lunar-desktop-full</td>\n",
       "      <td>desktop-full</td>\n",
       "      <td>lunar</td>\n",
       "      <td>32</td>\n",
       "      <td>35.0</td>\n",
       "      <td>-3.0</td>\n",
       "      <td>-9.375000</td>\n",
       "    </tr>\n",
       "    <tr>\n",
       "      <th>14399</th>\n",
       "      <td>ros-lunar-desktop</td>\n",
       "      <td>desktop</td>\n",
       "      <td>lunar</td>\n",
       "      <td>24</td>\n",
       "      <td>35.0</td>\n",
       "      <td>-11.0</td>\n",
       "      <td>-45.833333</td>\n",
       "    </tr>\n",
       "    <tr>\n",
       "      <th>15543</th>\n",
       "      <td>ros-crystal-desktop</td>\n",
       "      <td>desktop</td>\n",
       "      <td>crystal</td>\n",
       "      <td>19</td>\n",
       "      <td>14.0</td>\n",
       "      <td>5.0</td>\n",
       "      <td>26.315789</td>\n",
       "    </tr>\n",
       "    <tr>\n",
       "      <th>21315</th>\n",
       "      <td>ros-ardent-desktop</td>\n",
       "      <td>desktop</td>\n",
       "      <td>ardent</td>\n",
       "      <td>8</td>\n",
       "      <td>2.0</td>\n",
       "      <td>6.0</td>\n",
       "      <td>75.000000</td>\n",
       "    </tr>\n",
       "    <tr>\n",
       "      <th>23510</th>\n",
       "      <td>ros-indigo-industrial-desktop</td>\n",
       "      <td>industrial-desktop</td>\n",
       "      <td>indigo</td>\n",
       "      <td>6</td>\n",
       "      <td>2.0</td>\n",
       "      <td>4.0</td>\n",
       "      <td>66.666667</td>\n",
       "    </tr>\n",
       "    <tr>\n",
       "      <th>25434</th>\n",
       "      <td>ros-bouncy-desktop</td>\n",
       "      <td>desktop</td>\n",
       "      <td>bouncy</td>\n",
       "      <td>4</td>\n",
       "      <td>9.0</td>\n",
       "      <td>-5.0</td>\n",
       "      <td>-125.000000</td>\n",
       "    </tr>\n",
       "    <tr>\n",
       "      <th>26118</th>\n",
       "      <td>ros-humble-desktop%5f0.10.0-1jammy.20230920.00...</td>\n",
       "      <td>desktop%5f0.10.0-1jammy.20230920.004932%5famd6...</td>\n",
       "      <td>humble</td>\n",
       "      <td>1</td>\n",
       "      <td>NaN</td>\n",
       "      <td>NaN</td>\n",
       "      <td>NaN</td>\n",
       "    </tr>\n",
       "  </tbody>\n",
       "</table>\n",
       "</div>"
      ],
      "text/plain": [
       "                                                    name  \\\n",
       "133                                   ros-noetic-desktop   \n",
       "161                              ros-noetic-desktop-full   \n",
       "517                                   ros-humble-desktop   \n",
       "1252                                 ros-melodic-desktop   \n",
       "1374                                    ros-foxy-desktop   \n",
       "1533                            ros-melodic-desktop-full   \n",
       "1719                                    ros-iron-desktop   \n",
       "2227                                 ros-rolling-desktop   \n",
       "2497                             ros-humble-desktop-full   \n",
       "2534                                ros-galactic-desktop   \n",
       "3162                                 ros-kinetic-desktop   \n",
       "3218                            ros-kinetic-desktop-full   \n",
       "4728                               ros-iron-desktop-full   \n",
       "5211                                ros-eloquent-desktop   \n",
       "5412                                 ros-dashing-desktop   \n",
       "6721                            ros-rolling-desktop-full   \n",
       "8584                                  ros-indigo-desktop   \n",
       "8894                             ros-indigo-desktop-full   \n",
       "13288                             ros-lunar-desktop-full   \n",
       "14399                                  ros-lunar-desktop   \n",
       "15543                                ros-crystal-desktop   \n",
       "21315                                 ros-ardent-desktop   \n",
       "23510                      ros-indigo-industrial-desktop   \n",
       "25434                                 ros-bouncy-desktop   \n",
       "26118  ros-humble-desktop%5f0.10.0-1jammy.20230920.00...   \n",
       "\n",
       "                                                 package    distro   2023  \\\n",
       "133                                              desktop    noetic  54323   \n",
       "161                                         desktop-full    noetic  51463   \n",
       "517                                              desktop    humble  35560   \n",
       "1252                                             desktop   melodic   8550   \n",
       "1374                                             desktop      foxy   8184   \n",
       "1533                                        desktop-full   melodic   7726   \n",
       "1719                                             desktop      iron   6708   \n",
       "2227                                             desktop   rolling   3846   \n",
       "2497                                        desktop-full    humble   2672   \n",
       "2534                                             desktop  galactic   2472   \n",
       "3162                                             desktop   kinetic   1364   \n",
       "3218                                        desktop-full   kinetic   1268   \n",
       "4728                                        desktop-full      iron    332   \n",
       "5211                                             desktop  eloquent    292   \n",
       "5412                                             desktop   dashing    273   \n",
       "6721                                        desktop-full   rolling    170   \n",
       "8584                                             desktop    indigo     94   \n",
       "8894                                        desktop-full    indigo     87   \n",
       "13288                                       desktop-full     lunar     32   \n",
       "14399                                            desktop     lunar     24   \n",
       "15543                                            desktop   crystal     19   \n",
       "21315                                            desktop    ardent      8   \n",
       "23510                                 industrial-desktop    indigo      6   \n",
       "25434                                            desktop    bouncy      4   \n",
       "26118  desktop%5f0.10.0-1jammy.20230920.004932%5famd6...    humble      1   \n",
       "\n",
       "          2022      YoY    YoY_Prct  \n",
       "133    61669.0  -7346.0  -13.522817  \n",
       "161    55122.0  -3659.0   -7.109962  \n",
       "517    15509.0  20051.0   56.386389  \n",
       "1252   23454.0 -14904.0 -174.315789  \n",
       "1374   18627.0 -10443.0 -127.602639  \n",
       "1533   20962.0 -13236.0 -171.317629  \n",
       "1719       NaN      NaN         NaN  \n",
       "2227    3391.0    455.0   11.830473  \n",
       "2497    1127.0   1545.0   57.821856  \n",
       "2534   10811.0  -8339.0 -337.338188  \n",
       "3162    2430.0  -1066.0  -78.152493  \n",
       "3218    2316.0  -1048.0  -82.649842  \n",
       "4728       NaN      NaN         NaN  \n",
       "5211     780.0   -488.0 -167.123288  \n",
       "5412     552.0   -279.0 -102.197802  \n",
       "6721      72.0     98.0   57.647059  \n",
       "8584     135.0    -41.0  -43.617021  \n",
       "8894     133.0    -46.0  -52.873563  \n",
       "13288     35.0     -3.0   -9.375000  \n",
       "14399     35.0    -11.0  -45.833333  \n",
       "15543     14.0      5.0   26.315789  \n",
       "21315      2.0      6.0   75.000000  \n",
       "23510      2.0      4.0   66.666667  \n",
       "25434      9.0     -5.0 -125.000000  \n",
       "26118      NaN      NaN         NaN  "
      ]
     },
     "execution_count": 167,
     "metadata": {},
     "output_type": "execute_result"
    }
   ],
   "source": [
    "desktop_df"
   ]
  },
  {
   "cell_type": "raw",
   "metadata": {},
   "source": []
  },
  {
   "cell_type": "code",
   "execution_count": 172,
   "metadata": {},
   "outputs": [
    {
     "name": "stdout",
     "output_type": "stream",
     "text": [
      "Total Packages Downloaded October 2023\n",
      "46510788\n",
      "Total Packages Downloaded October 2022\n",
      "47067925.0\n",
      "Total Packages Downloaded Change\n",
      "-1.1836871924989258\n",
      "Estimated total Packages in 2023\n",
      "558129456\n",
      "Estimated total Packages in 2022\n",
      "564815100.0\n"
     ]
    }
   ],
   "source": [
    "# calculate the total number of packages (ROS 1 + ROS 2 + Python + Gazebo) downloaded for this month\n",
    "# this year and last, calculate the percent change\n",
    "r2 = package_df[package_df[\"distro\"].isin(ros2)]\n",
    "r1 = package_df[package_df[\"distro\"].isin(ros1)]\n",
    "print(\"Total Packages Downloaded {0} {1}\".format(this_month,this_year))\n",
    "total_this = package_df[this_year].sum()\n",
    "print(total_this)\n",
    "\n",
    "print(\"Total Packages Downloaded {0} {1}\".format(last_month,last_year))\n",
    "total_last = package_df[last_year].sum()\n",
    "print(total_last)\n",
    "\n",
    "print(\"Total Packages Downloaded Change\")\n",
    "print(100*(total_this-total_last)/(total_last))\n",
    "\n",
    "print(\"Estimated total Packages in {0}\".format(this_year))\n",
    "print(12*total_this)\n",
    "\n",
    "print(\"Estimated total Packages in {0}\".format(last_year))\n",
    "print(12*total_last)\n"
   ]
  },
  {
   "cell_type": "code",
   "execution_count": 249,
   "metadata": {},
   "outputs": [
    {
     "name": "stdout",
     "output_type": "stream",
     "text": [
      "ROS 1 Packages Downloaded October 2022\n",
      "26776404.0\n",
      "ROS 1 Packages Downloaded October 2023\n",
      "18232926\n",
      "ROS 1 Packages Downloaded Change\n",
      "-31.90674147282809\n"
     ]
    }
   ],
   "source": [
    "# Calculate ROS 1 packages downloaded this year and last year, along with percent change\n",
    "print(\"ROS 1 Packages Downloaded {0} {1}\".format(last_month,last_year))\n",
    "r1sum_last = r1[last_year].sum()\n",
    "print(r1sum_last)\n",
    "\n",
    "print(\"ROS 1 Packages Downloaded {0} {1}\".format(this_month,this_year))\n",
    "r1sum_this = r1[this_year].sum()\n",
    "print(r1sum_this)\n",
    "\n",
    "print(\"ROS 1 Packages Downloaded Change\")\n",
    "print(100*(r1sum_this-r1sum_last)/(r1sum_last))"
   ]
  },
  {
   "cell_type": "code",
   "execution_count": 250,
   "metadata": {},
   "outputs": [
    {
     "name": "stdout",
     "output_type": "stream",
     "text": [
      "ROS 2 Packages Downloaded October 2022\n",
      "17720181.0\n",
      "ROS 2 Packages Downloaded October 2023\n",
      "25057278\n",
      "ROS 2 Packages Downloaded Change\n",
      "41.405316345245005\n",
      "Esitmated ROS 2 Packages Downloaded in 2023\n",
      "300687336\n"
     ]
    }
   ],
   "source": [
    "# Calculate ROS 2 packages downloaded this year and last year, along with percent change\n",
    "# NOTE ROS 1 + ROS 2 != Total Packages\n",
    "# Total Pkgs = ROS1 + ROS2 + [Gazebo/Colcon/Ament/Catkin/Python]\n",
    "print(\"ROS 2 Packages Downloaded {0} {1}\".format(last_month,last_year))\n",
    "r2sum_last = r2[last_year].sum()\n",
    "print(r2sum_last)\n",
    "\n",
    "print(\"ROS 2 Packages Downloaded {0} {1}\".format(this_month,this_year))\n",
    "r2sum_this = r2[this_year].sum()\n",
    "print(r2sum_this)\n",
    "\n",
    "print(\"ROS 2 Packages Downloaded Change\")\n",
    "print(100*(r2sum_this-r2sum_last)/(r2sum_last))\n",
    "\n",
    "print(\"Esitmated ROS 2 Packages Downloaded in {0}\".format(this_year))\n",
    "print(r2sum_this*12)"
   ]
  },
  {
   "cell_type": "code",
   "execution_count": 121,
   "metadata": {},
   "outputs": [
    {
     "name": "stdout",
     "output_type": "stream",
     "text": [
      "October 2022 ROS 1 + ROS 2 Total Packages Downloaded\n",
      "44496585.0\n",
      "October 2023 ROS 1 + ROS 2 Total Packages Downloaded\n",
      "43290204\n",
      "October 2022 Non-ROS Packages Downloaded\n",
      "2571340.0\n",
      "October 2023 Non-ROS Packages Downloaded\n",
      "3220584\n",
      "October 2023 Total ROS Packages Downloaded\n",
      "43290204\n",
      "===============================\n"
     ]
    }
   ],
   "source": [
    "print(\"{0} {1} ROS 1 + ROS 2 Total Packages Downloaded\".format(last_month,last_year))\n",
    "print(r1sum_last+r2sum_last)\n",
    "\n",
    "print(\"{0} {1} ROS 1 + ROS 2 Total Packages Downloaded\".format(this_month,this_year))\n",
    "print(r1sum_this+r2sum_this)\n",
    "\n",
    "print(\"{0} {1} Non-ROS Packages Downloaded\".format(last_month,last_year))\n",
    "print(total_last-(r1sum_last+r2sum_last))\n",
    "\n",
    "print(\"{0} {1} Non-ROS Packages Downloaded\".format(this_month,this_year))\n",
    "non_ros_this = total_this-(r1sum_this+r2sum_this)\n",
    "print(non_ros_this)\n",
    "#print(total_this-(r1sum_this+r2sum_this))\n",
    "\n",
    "print(\"{0} {1} Total ROS Packages Downloaded\".format(this_month,this_year))\n",
    "total_ros_this = r1sum_this+r2sum_this\n",
    "print(total_ros_this)\n",
    "print(\"===============================\")"
   ]
  },
  {
   "cell_type": "code",
   "execution_count": 119,
   "metadata": {},
   "outputs": [
    {
     "name": "stdout",
     "output_type": "stream",
     "text": [
      "Percent ROS 2 Pkgs Downloaded October 2022\n",
      "39.823687593104054\n",
      "Percent ROS 1 Pkgs Downloaded October 2022\n",
      "60.176312406895946\n",
      "============================\n",
      "Percent ROS 2 Pkgs Downloaded October 2023\n",
      "57.88209729850199\n",
      "Percent ROS 1 Pkgs Downloaded October 2023\n",
      "42.11790270149801\n",
      "============================\n",
      "YoY change in ROS 2 downloads as % (last year minus this year)\n",
      "18.058409705397935\n",
      "YoY change in ROS 1 downloads as %\n",
      "-18.058409705397935\n"
     ]
    }
   ],
   "source": [
    "# Calculate the percent changes in ROS 1 and ROS 2 packages\n",
    "\n",
    "print(\"Percent ROS 2 Pkgs Downloaded {0} {1}\".format(last_month,last_year))\n",
    "prct_r2_last = r2sum_last/(r1sum_last+r2sum_last)*100\n",
    "print(prct_r2_last)\n",
    "\n",
    "print(\"Percent ROS 1 Pkgs Downloaded {0} {1}\".format(last_month,last_year))\n",
    "prct_r1_last = r1sum_last/(r1sum_last+r2sum_last)*100\n",
    "print(r1sum_last/(r1sum_last+r2sum_last)*100)\n",
    "\n",
    "print(\"============================\")\n",
    "print(\"Percent ROS 2 Pkgs Downloaded {0} {1}\".format(this_month,this_year))\n",
    "prct_r2_this = r2sum_this/(r1sum_this+r2sum_this)*100\n",
    "print(prct_r2_this)\n",
    "\n",
    "print(\"Percent ROS 1 Pkgs Downloaded {0} {1}\".format(this_month,this_year))\n",
    "prct_r1_this = r1sum_this/(r1sum_this+r2sum_this)*100\n",
    "print(prct_r1_this)\n",
    "\n",
    "print(\"============================\")\n",
    "\n",
    "print(\"YoY change in ROS 2 downloads as % (last year minus this year)\")\n",
    "print(prct_r2_this-prct_r2_last)\n",
    "\n",
    "print(\"YoY change in ROS 1 downloads as %\")\n",
    "print(prct_r1_this-prct_r1_last)\n"
   ]
  },
  {
   "cell_type": "code",
   "execution_count": 168,
   "metadata": {},
   "outputs": [
    {
     "name": "stdout",
     "output_type": "stream",
     "text": [
      "Percent ROS 2 in 2023 October\n",
      "57.88209729850199\n",
      "Percent ROS 2 in 2022 October\n",
      "39.823687593104054\n",
      "Change in ROS 2 between now and the last measurement\n",
      "18.058409705397935\n",
      "-----------------------------------\n",
      "Total Packages in 2023 October\n",
      "46510788\n",
      "==>Sanity Check ROS packages + other packages this year\n",
      "46510788\n",
      "ESTIMATED Total Packages in the year 2023\n",
      "558129456\n"
     ]
    }
   ],
   "source": [
    "r2_this = (r2sum_this/(r1sum_this+r2sum_this)*100)\n",
    "r2_last = (r2sum_last/(r1sum_last+r2sum_last)*100)\n",
    "print(\"Percent ROS 2 in {0} {1}\".format(this_year,this_month))\n",
    "print(r2_this)\n",
    "\n",
    "print(\"Percent ROS 2 in {0} {1}\".format(last_year,last_month))\n",
    "print(r2_last)\n",
    "\n",
    "print(\"Change in ROS 2 between now and the last measurement\")\n",
    "print(r2_this-r2_last)\n",
    "print(\"-----------------------------------\")\n",
    "\n",
    "print(\"Total Packages in {0} {1}\".format(this_year,this_month))\n",
    "print(package_df[this_year].sum())\n",
    "\n",
    "print(\"==>Sanity Check ROS packages + other packages this year\")\n",
    "print(total_ros_this+non_ros_this)\n",
    "\n",
    "print(\"ESTIMATED Total Packages in the year {0}\".format(this_year))\n",
    "print(12*package_df[this_year].sum())\n"
   ]
  },
  {
   "cell_type": "code",
   "execution_count": 32,
   "metadata": {},
   "outputs": [
    {
     "name": "stdout",
     "output_type": "stream",
     "text": [
      "           name   2023   2022\n",
      "0     boxturtle   0.00   0.00\n",
      "1       cturtle   0.00   0.00\n",
      "2   diamondback   0.00   0.00\n",
      "3      electric   0.00   0.00\n",
      "4        fuerte   0.00   0.00\n",
      "5        groovy   0.00   0.00\n",
      "6         hydro   0.00   0.00\n",
      "7        indigo   0.24   0.41\n",
      "8          jade   0.00   0.00\n",
      "9       kinetic   1.14   2.12\n",
      "10        lunar   0.04   0.04\n",
      "11      melodic   5.66  17.19\n",
      "12       noetic  30.51  34.80\n",
      "13       ardent   0.00   0.00\n",
      "14       bouncy   0.00   0.00\n",
      "15      crystal   0.01   0.01\n",
      "16      dashing   0.20   0.51\n",
      "17     eloquent   0.16   0.46\n",
      "18         foxy   6.37  13.59\n",
      "19     galactic   2.33   8.12\n",
      "20       humble  32.79  10.04\n",
      "21         iron   4.97   0.00\n",
      "22      rolling   4.82   3.38\n",
      "89.23999999999998\n",
      "90.66999999999999\n"
     ]
    }
   ],
   "source": [
    "print(distro_df)\n",
    "print(distro_df[this_year].sum())\n",
    "print(distro_df[last_year].sum())"
   ]
  },
  {
   "cell_type": "code",
   "execution_count": 178,
   "metadata": {},
   "outputs": [
    {
     "name": "stdout",
     "output_type": "stream",
     "text": [
      "Percentage downloads that are not ROS packages (i.e. python):\n",
      "October 2023: 10.76000000000002\n",
      "October 2022: 9.330000000000013\n",
      "------------\n",
      "Distros less than one percent\n",
      "           name  2023  2022\n",
      "0     boxturtle  0.00  0.00\n",
      "1       cturtle  0.00  0.00\n",
      "2   diamondback  0.00  0.00\n",
      "3      electric  0.00  0.00\n",
      "4        fuerte  0.00  0.00\n",
      "5        groovy  0.00  0.00\n",
      "6         hydro  0.00  0.00\n",
      "7        indigo  0.24  0.41\n",
      "8          jade  0.00  0.00\n",
      "10        lunar  0.04  0.04\n",
      "13       ardent  0.00  0.00\n",
      "14       bouncy  0.00  0.00\n",
      "15      crystal  0.01  0.01\n",
      "16      dashing  0.20  0.51\n",
      "17     eloquent  0.16  0.46\n",
      "Sum of all distros less than one\n",
      "October 2023: 0.65\n",
      "October 2022: 1.43\n",
      "-------------\n",
      "Distros greater than 1%\n",
      "        name   2023   2022\n",
      "9    kinetic   1.14   2.12\n",
      "11   melodic   5.66  17.19\n",
      "12    noetic  30.51  34.80\n",
      "18      foxy   6.37  13.59\n",
      "19  galactic   2.33   8.12\n",
      "20    humble  32.79  10.04\n",
      "21      iron   4.97   0.00\n",
      "22   rolling   4.82   3.38\n"
     ]
    }
   ],
   "source": [
    "# Calculate percentages for active distros, old distros, \n",
    "everything_else_last = 100.0-distro_df[last_year].sum()\n",
    "everything_else_this = 100.0-distro_df[this_year].sum()\n",
    "print(\"Percentage downloads that are not ROS packages (i.e. python):\")\n",
    "print(\"{0} {1}: {2}\".format(this_month,this_year,everything_else_this))\n",
    "print(\"{0} {1}: {2}\".format(last_month,last_year,everything_else_last))\n",
    "print(\"------------\")\n",
    "\n",
    "\n",
    "leftovers = distro_df[distro_df[this_year]<1]\n",
    "print(\"Distros less than one percent\")\n",
    "print(leftovers)\n",
    "\n",
    "all_other_this = leftovers[this_year].sum()\n",
    "all_other_last = leftovers[last_year].sum()\n",
    "print(\"Sum of all distros less than one\")\n",
    "\n",
    "print(\"{0} {1}: {2}\".format(this_month,this_year,all_other_this))\n",
    "print(\"{0} {1}: {2}\".format(last_month,last_year,all_other_last))\n",
    "print(\"-------------\")\n",
    "temp = distro_df[distro_df[this_year]>=1]\n",
    "print(\"Distros greater than 1%\")\n",
    "print(temp)"
   ]
  },
  {
   "cell_type": "code",
   "execution_count": 238,
   "metadata": {},
   "outputs": [
    {
     "name": "stdout",
     "output_type": "stream",
     "text": [
      "                  name   2023   2022  YoY Change Prct\n",
      " 9             kinetic   1.14   2.12            -0.98\n",
      " 11            melodic   5.66  17.19           -11.53\n",
      " 12             noetic  30.51  34.80            -4.29\n",
      " 18               foxy   6.37  13.59            -7.22\n",
      " 19           galactic   2.33   8.12            -5.79\n",
      " 20             humble  32.79  10.04            22.75\n",
      " 21               iron   4.97   0.00             4.97\n",
      " 22            rolling   4.82   3.38             1.44\n",
      "-1   all other distros   0.65   1.43            -0.78\n",
      "-2      other pacakges  10.76   9.33             1.43\n",
      "Saved to DistroPrctChangeOctober2022toOctober2023.csv\n",
      "------ Sanity Check\n",
      "name               kineticmelodicnoeticfoxygalactichumbleironroll...\n",
      "2023                                                           100.0\n",
      "2022                                                           100.0\n",
      "YoY Change Prct                                                  0.0\n",
      "dtype: object\n"
     ]
    }
   ],
   "source": [
    "# Create a short table with distro change data\n",
    "# we really should merge this with the raw, per package data at some point\n",
    "distro_t = distro_df[distro_df[this_year]>=1].copy()\n",
    "distro_t.loc[-1]= [\"all other distros\",all_other_this,all_other_last]\n",
    "distro_t.loc[-2]= [\"other pacakges\",everything_else_this,everything_else_last]  # adding a row\n",
    "distro_t[\"YoY Change Prct\"] = distro_t[this_year]-distro_t[last_year]\n",
    "print(distro_t)\n",
    "fname = \"DistroPrctChange{0}{1}to{2}{3}.csv\".format(last_month,last_year,this_month,this_year)\n",
    "print(\"Saved to {0}\".format(fname))\n",
    "distro_t.to_csv(fname)\n",
    "# Sanity Check, should be 100\n",
    "print(\"------ Sanity Check\")\n",
    "print(distro_t.sum())\n"
   ]
  },
  {
   "cell_type": "code",
   "execution_count": 245,
   "metadata": {},
   "outputs": [
    {
     "name": "stdout",
     "output_type": "stream",
     "text": [
      "['Kinetic', 'Melodic', 'Noetic', 'Foxy', 'Galactic', 'Humble', 'Iron', 'Rolling']\n",
      "0              Kinetic\n",
      "1              Melodic\n",
      "2               Noetic\n",
      "3                 Foxy\n",
      "4             Galactic\n",
      "5               Humble\n",
      "6                 Iron\n",
      "7              Rolling\n",
      "8    All Other Distros\n",
      "9          Python Pkgs\n",
      "Name: name, dtype: object\n",
      "                name   2023   2022\n",
      "0            Kinetic   1.14   2.12\n",
      "1            Melodic   5.66  17.19\n",
      "2             Noetic  30.51  34.80\n",
      "3               Foxy   6.37  13.59\n",
      "4           Galactic   2.33   8.12\n",
      "5             Humble  32.79  10.04\n",
      "6               Iron   4.97   0.00\n",
      "7            Rolling   4.82   3.38\n",
      "8  All Other Distros   0.65   1.43\n",
      "9        Python Pkgs  10.76   9.33\n",
      "100.00000000000001\n",
      "100.00000000000003\n"
     ]
    },
    {
     "data": {
      "application/vnd.plotly.v1+json": {
       "config": {
        "plotlyServerURL": "https://plot.ly"
       },
       "data": [
        {
         "domain": {
          "x": [
           0,
           0.5
          ]
         },
         "labels": [
          "Kinetic",
          "Melodic",
          "Noetic",
          "Foxy",
          "Galactic",
          "Humble",
          "Iron",
          "Rolling",
          "All Other Distros",
          "Python Pkgs"
         ],
         "marker": {
          "colors": [
           "#FFAAAA",
           "#FF6666",
           "#FF0000",
           "#CCCCFF",
           "#9999FF",
           "#6666FF",
           "#3333FF",
           "#fcdc3f",
           "#7cc14b",
           "#FF00FF"
          ]
         },
         "sort": false,
         "title": {
          "text": ""
         },
         "type": "pie",
         "values": [
          2.12,
          17.19,
          34.8,
          13.59,
          8.12,
          10.04,
          0,
          3.38,
          1.43,
          9.330000000000013
         ]
        },
        {
         "domain": {
          "x": [
           0.5,
           1
          ]
         },
         "labels": [
          "Kinetic",
          "Melodic",
          "Noetic",
          "Foxy",
          "Galactic",
          "Humble",
          "Iron",
          "Rolling",
          "All Other Distros",
          "Python Pkgs"
         ],
         "marker": {
          "colors": [
           "#FFAAAA",
           "#FF6666",
           "#FF0000",
           "#CCCCFF",
           "#9999FF",
           "#6666FF",
           "#3333FF",
           "#fcdc3f",
           "#7cc14b",
           "#FF00FF"
          ]
         },
         "sort": false,
         "title": {
          "text": ""
         },
         "type": "pie",
         "values": [
          1.14,
          5.66,
          30.51,
          6.37,
          2.33,
          32.79,
          4.97,
          4.82,
          0.65,
          10.76000000000002
         ]
        }
       ],
       "layout": {
        "font": {
         "color": "#22314E",
         "family": "Arial",
         "size": 16
        },
        "template": {
         "data": {
          "bar": [
           {
            "error_x": {
             "color": "#2a3f5f"
            },
            "error_y": {
             "color": "#2a3f5f"
            },
            "marker": {
             "line": {
              "color": "#E5ECF6",
              "width": 0.5
             },
             "pattern": {
              "fillmode": "overlay",
              "size": 10,
              "solidity": 0.2
             }
            },
            "type": "bar"
           }
          ],
          "barpolar": [
           {
            "marker": {
             "line": {
              "color": "#E5ECF6",
              "width": 0.5
             },
             "pattern": {
              "fillmode": "overlay",
              "size": 10,
              "solidity": 0.2
             }
            },
            "type": "barpolar"
           }
          ],
          "carpet": [
           {
            "aaxis": {
             "endlinecolor": "#2a3f5f",
             "gridcolor": "white",
             "linecolor": "white",
             "minorgridcolor": "white",
             "startlinecolor": "#2a3f5f"
            },
            "baxis": {
             "endlinecolor": "#2a3f5f",
             "gridcolor": "white",
             "linecolor": "white",
             "minorgridcolor": "white",
             "startlinecolor": "#2a3f5f"
            },
            "type": "carpet"
           }
          ],
          "choropleth": [
           {
            "colorbar": {
             "outlinewidth": 0,
             "ticks": ""
            },
            "type": "choropleth"
           }
          ],
          "contour": [
           {
            "colorbar": {
             "outlinewidth": 0,
             "ticks": ""
            },
            "colorscale": [
             [
              0,
              "#0d0887"
             ],
             [
              0.1111111111111111,
              "#46039f"
             ],
             [
              0.2222222222222222,
              "#7201a8"
             ],
             [
              0.3333333333333333,
              "#9c179e"
             ],
             [
              0.4444444444444444,
              "#bd3786"
             ],
             [
              0.5555555555555556,
              "#d8576b"
             ],
             [
              0.6666666666666666,
              "#ed7953"
             ],
             [
              0.7777777777777778,
              "#fb9f3a"
             ],
             [
              0.8888888888888888,
              "#fdca26"
             ],
             [
              1,
              "#f0f921"
             ]
            ],
            "type": "contour"
           }
          ],
          "contourcarpet": [
           {
            "colorbar": {
             "outlinewidth": 0,
             "ticks": ""
            },
            "type": "contourcarpet"
           }
          ],
          "heatmap": [
           {
            "colorbar": {
             "outlinewidth": 0,
             "ticks": ""
            },
            "colorscale": [
             [
              0,
              "#0d0887"
             ],
             [
              0.1111111111111111,
              "#46039f"
             ],
             [
              0.2222222222222222,
              "#7201a8"
             ],
             [
              0.3333333333333333,
              "#9c179e"
             ],
             [
              0.4444444444444444,
              "#bd3786"
             ],
             [
              0.5555555555555556,
              "#d8576b"
             ],
             [
              0.6666666666666666,
              "#ed7953"
             ],
             [
              0.7777777777777778,
              "#fb9f3a"
             ],
             [
              0.8888888888888888,
              "#fdca26"
             ],
             [
              1,
              "#f0f921"
             ]
            ],
            "type": "heatmap"
           }
          ],
          "heatmapgl": [
           {
            "colorbar": {
             "outlinewidth": 0,
             "ticks": ""
            },
            "colorscale": [
             [
              0,
              "#0d0887"
             ],
             [
              0.1111111111111111,
              "#46039f"
             ],
             [
              0.2222222222222222,
              "#7201a8"
             ],
             [
              0.3333333333333333,
              "#9c179e"
             ],
             [
              0.4444444444444444,
              "#bd3786"
             ],
             [
              0.5555555555555556,
              "#d8576b"
             ],
             [
              0.6666666666666666,
              "#ed7953"
             ],
             [
              0.7777777777777778,
              "#fb9f3a"
             ],
             [
              0.8888888888888888,
              "#fdca26"
             ],
             [
              1,
              "#f0f921"
             ]
            ],
            "type": "heatmapgl"
           }
          ],
          "histogram": [
           {
            "marker": {
             "pattern": {
              "fillmode": "overlay",
              "size": 10,
              "solidity": 0.2
             }
            },
            "type": "histogram"
           }
          ],
          "histogram2d": [
           {
            "colorbar": {
             "outlinewidth": 0,
             "ticks": ""
            },
            "colorscale": [
             [
              0,
              "#0d0887"
             ],
             [
              0.1111111111111111,
              "#46039f"
             ],
             [
              0.2222222222222222,
              "#7201a8"
             ],
             [
              0.3333333333333333,
              "#9c179e"
             ],
             [
              0.4444444444444444,
              "#bd3786"
             ],
             [
              0.5555555555555556,
              "#d8576b"
             ],
             [
              0.6666666666666666,
              "#ed7953"
             ],
             [
              0.7777777777777778,
              "#fb9f3a"
             ],
             [
              0.8888888888888888,
              "#fdca26"
             ],
             [
              1,
              "#f0f921"
             ]
            ],
            "type": "histogram2d"
           }
          ],
          "histogram2dcontour": [
           {
            "colorbar": {
             "outlinewidth": 0,
             "ticks": ""
            },
            "colorscale": [
             [
              0,
              "#0d0887"
             ],
             [
              0.1111111111111111,
              "#46039f"
             ],
             [
              0.2222222222222222,
              "#7201a8"
             ],
             [
              0.3333333333333333,
              "#9c179e"
             ],
             [
              0.4444444444444444,
              "#bd3786"
             ],
             [
              0.5555555555555556,
              "#d8576b"
             ],
             [
              0.6666666666666666,
              "#ed7953"
             ],
             [
              0.7777777777777778,
              "#fb9f3a"
             ],
             [
              0.8888888888888888,
              "#fdca26"
             ],
             [
              1,
              "#f0f921"
             ]
            ],
            "type": "histogram2dcontour"
           }
          ],
          "mesh3d": [
           {
            "colorbar": {
             "outlinewidth": 0,
             "ticks": ""
            },
            "type": "mesh3d"
           }
          ],
          "parcoords": [
           {
            "line": {
             "colorbar": {
              "outlinewidth": 0,
              "ticks": ""
             }
            },
            "type": "parcoords"
           }
          ],
          "pie": [
           {
            "automargin": true,
            "type": "pie"
           }
          ],
          "scatter": [
           {
            "fillpattern": {
             "fillmode": "overlay",
             "size": 10,
             "solidity": 0.2
            },
            "type": "scatter"
           }
          ],
          "scatter3d": [
           {
            "line": {
             "colorbar": {
              "outlinewidth": 0,
              "ticks": ""
             }
            },
            "marker": {
             "colorbar": {
              "outlinewidth": 0,
              "ticks": ""
             }
            },
            "type": "scatter3d"
           }
          ],
          "scattercarpet": [
           {
            "marker": {
             "colorbar": {
              "outlinewidth": 0,
              "ticks": ""
             }
            },
            "type": "scattercarpet"
           }
          ],
          "scattergeo": [
           {
            "marker": {
             "colorbar": {
              "outlinewidth": 0,
              "ticks": ""
             }
            },
            "type": "scattergeo"
           }
          ],
          "scattergl": [
           {
            "marker": {
             "colorbar": {
              "outlinewidth": 0,
              "ticks": ""
             }
            },
            "type": "scattergl"
           }
          ],
          "scattermapbox": [
           {
            "marker": {
             "colorbar": {
              "outlinewidth": 0,
              "ticks": ""
             }
            },
            "type": "scattermapbox"
           }
          ],
          "scatterpolar": [
           {
            "marker": {
             "colorbar": {
              "outlinewidth": 0,
              "ticks": ""
             }
            },
            "type": "scatterpolar"
           }
          ],
          "scatterpolargl": [
           {
            "marker": {
             "colorbar": {
              "outlinewidth": 0,
              "ticks": ""
             }
            },
            "type": "scatterpolargl"
           }
          ],
          "scatterternary": [
           {
            "marker": {
             "colorbar": {
              "outlinewidth": 0,
              "ticks": ""
             }
            },
            "type": "scatterternary"
           }
          ],
          "surface": [
           {
            "colorbar": {
             "outlinewidth": 0,
             "ticks": ""
            },
            "colorscale": [
             [
              0,
              "#0d0887"
             ],
             [
              0.1111111111111111,
              "#46039f"
             ],
             [
              0.2222222222222222,
              "#7201a8"
             ],
             [
              0.3333333333333333,
              "#9c179e"
             ],
             [
              0.4444444444444444,
              "#bd3786"
             ],
             [
              0.5555555555555556,
              "#d8576b"
             ],
             [
              0.6666666666666666,
              "#ed7953"
             ],
             [
              0.7777777777777778,
              "#fb9f3a"
             ],
             [
              0.8888888888888888,
              "#fdca26"
             ],
             [
              1,
              "#f0f921"
             ]
            ],
            "type": "surface"
           }
          ],
          "table": [
           {
            "cells": {
             "fill": {
              "color": "#EBF0F8"
             },
             "line": {
              "color": "white"
             }
            },
            "header": {
             "fill": {
              "color": "#C8D4E3"
             },
             "line": {
              "color": "white"
             }
            },
            "type": "table"
           }
          ]
         },
         "layout": {
          "annotationdefaults": {
           "arrowcolor": "#2a3f5f",
           "arrowhead": 0,
           "arrowwidth": 1
          },
          "autotypenumbers": "strict",
          "coloraxis": {
           "colorbar": {
            "outlinewidth": 0,
            "ticks": ""
           }
          },
          "colorscale": {
           "diverging": [
            [
             0,
             "#8e0152"
            ],
            [
             0.1,
             "#c51b7d"
            ],
            [
             0.2,
             "#de77ae"
            ],
            [
             0.3,
             "#f1b6da"
            ],
            [
             0.4,
             "#fde0ef"
            ],
            [
             0.5,
             "#f7f7f7"
            ],
            [
             0.6,
             "#e6f5d0"
            ],
            [
             0.7,
             "#b8e186"
            ],
            [
             0.8,
             "#7fbc41"
            ],
            [
             0.9,
             "#4d9221"
            ],
            [
             1,
             "#276419"
            ]
           ],
           "sequential": [
            [
             0,
             "#0d0887"
            ],
            [
             0.1111111111111111,
             "#46039f"
            ],
            [
             0.2222222222222222,
             "#7201a8"
            ],
            [
             0.3333333333333333,
             "#9c179e"
            ],
            [
             0.4444444444444444,
             "#bd3786"
            ],
            [
             0.5555555555555556,
             "#d8576b"
            ],
            [
             0.6666666666666666,
             "#ed7953"
            ],
            [
             0.7777777777777778,
             "#fb9f3a"
            ],
            [
             0.8888888888888888,
             "#fdca26"
            ],
            [
             1,
             "#f0f921"
            ]
           ],
           "sequentialminus": [
            [
             0,
             "#0d0887"
            ],
            [
             0.1111111111111111,
             "#46039f"
            ],
            [
             0.2222222222222222,
             "#7201a8"
            ],
            [
             0.3333333333333333,
             "#9c179e"
            ],
            [
             0.4444444444444444,
             "#bd3786"
            ],
            [
             0.5555555555555556,
             "#d8576b"
            ],
            [
             0.6666666666666666,
             "#ed7953"
            ],
            [
             0.7777777777777778,
             "#fb9f3a"
            ],
            [
             0.8888888888888888,
             "#fdca26"
            ],
            [
             1,
             "#f0f921"
            ]
           ]
          },
          "colorway": [
           "#636efa",
           "#EF553B",
           "#00cc96",
           "#ab63fa",
           "#FFA15A",
           "#19d3f3",
           "#FF6692",
           "#B6E880",
           "#FF97FF",
           "#FECB52"
          ],
          "font": {
           "color": "#2a3f5f"
          },
          "geo": {
           "bgcolor": "white",
           "lakecolor": "white",
           "landcolor": "#E5ECF6",
           "showlakes": true,
           "showland": true,
           "subunitcolor": "white"
          },
          "hoverlabel": {
           "align": "left"
          },
          "hovermode": "closest",
          "mapbox": {
           "style": "light"
          },
          "paper_bgcolor": "white",
          "plot_bgcolor": "#E5ECF6",
          "polar": {
           "angularaxis": {
            "gridcolor": "white",
            "linecolor": "white",
            "ticks": ""
           },
           "bgcolor": "#E5ECF6",
           "radialaxis": {
            "gridcolor": "white",
            "linecolor": "white",
            "ticks": ""
           }
          },
          "scene": {
           "xaxis": {
            "backgroundcolor": "#E5ECF6",
            "gridcolor": "white",
            "gridwidth": 2,
            "linecolor": "white",
            "showbackground": true,
            "ticks": "",
            "zerolinecolor": "white"
           },
           "yaxis": {
            "backgroundcolor": "#E5ECF6",
            "gridcolor": "white",
            "gridwidth": 2,
            "linecolor": "white",
            "showbackground": true,
            "ticks": "",
            "zerolinecolor": "white"
           },
           "zaxis": {
            "backgroundcolor": "#E5ECF6",
            "gridcolor": "white",
            "gridwidth": 2,
            "linecolor": "white",
            "showbackground": true,
            "ticks": "",
            "zerolinecolor": "white"
           }
          },
          "shapedefaults": {
           "line": {
            "color": "#2a3f5f"
           }
          },
          "ternary": {
           "aaxis": {
            "gridcolor": "white",
            "linecolor": "white",
            "ticks": ""
           },
           "baxis": {
            "gridcolor": "white",
            "linecolor": "white",
            "ticks": ""
           },
           "bgcolor": "#E5ECF6",
           "caxis": {
            "gridcolor": "white",
            "linecolor": "white",
            "ticks": ""
           }
          },
          "title": {
           "x": 0.05
          },
          "xaxis": {
           "automargin": true,
           "gridcolor": "white",
           "linecolor": "white",
           "ticks": "",
           "title": {
            "standoff": 15
           },
           "zerolinecolor": "white",
           "zerolinewidth": 2
          },
          "yaxis": {
           "automargin": true,
           "gridcolor": "white",
           "linecolor": "white",
           "ticks": "",
           "title": {
            "standoff": 15
           },
           "zerolinecolor": "white",
           "zerolinewidth": 2
          }
         }
        },
        "title": {
         "font": {
          "color": "#22314E",
          "family": "Arial",
          "size": 24
         },
         "text": "Download Percentage from packages.ros.org October 2022 vs October 2023"
        }
       }
      },
      "text/html": [
       "<div>                            <div id=\"5e280985-0d27-4e7d-9936-8414d303e884\" class=\"plotly-graph-div\" style=\"height:525px; width:100%;\"></div>            <script type=\"text/javascript\">                require([\"plotly\"], function(Plotly) {                    window.PLOTLYENV=window.PLOTLYENV || {};                                    if (document.getElementById(\"5e280985-0d27-4e7d-9936-8414d303e884\")) {                    Plotly.newPlot(                        \"5e280985-0d27-4e7d-9936-8414d303e884\",                        [{\"domain\":{\"x\":[0,0.5]},\"labels\":[\"Kinetic\",\"Melodic\",\"Noetic\",\"Foxy\",\"Galactic\",\"Humble\",\"Iron\",\"Rolling\",\"All Other Distros\",\"Python Pkgs\"],\"sort\":false,\"title\":{\"text\":\"\"},\"values\":[2.12,17.19,34.8,13.59,8.12,10.04,0.0,3.38,1.43,9.330000000000013],\"type\":\"pie\",\"marker\":{\"colors\":[\"#FFAAAA\",\"#FF6666\",\"#FF0000\",\"#CCCCFF\",\"#9999FF\",\"#6666FF\",\"#3333FF\",\"#fcdc3f\",\"#7cc14b\",\"#FF00FF\"]}},{\"domain\":{\"x\":[0.5,1.0]},\"labels\":[\"Kinetic\",\"Melodic\",\"Noetic\",\"Foxy\",\"Galactic\",\"Humble\",\"Iron\",\"Rolling\",\"All Other Distros\",\"Python Pkgs\"],\"sort\":false,\"title\":{\"text\":\"\"},\"values\":[1.14,5.66,30.51,6.37,2.33,32.79,4.97,4.82,0.65,10.76000000000002],\"type\":\"pie\",\"marker\":{\"colors\":[\"#FFAAAA\",\"#FF6666\",\"#FF0000\",\"#CCCCFF\",\"#9999FF\",\"#6666FF\",\"#3333FF\",\"#fcdc3f\",\"#7cc14b\",\"#FF00FF\"]}}],                        {\"title\":{\"text\":\"Download Percentage from packages.ros.org October 2022 vs October 2023\",\"font\":{\"size\":24,\"family\":\"Arial\",\"color\":\"#22314E\"}},\"template\":{\"data\":{\"histogram2dcontour\":[{\"type\":\"histogram2dcontour\",\"colorbar\":{\"outlinewidth\":0,\"ticks\":\"\"},\"colorscale\":[[0.0,\"#0d0887\"],[0.1111111111111111,\"#46039f\"],[0.2222222222222222,\"#7201a8\"],[0.3333333333333333,\"#9c179e\"],[0.4444444444444444,\"#bd3786\"],[0.5555555555555556,\"#d8576b\"],[0.6666666666666666,\"#ed7953\"],[0.7777777777777778,\"#fb9f3a\"],[0.8888888888888888,\"#fdca26\"],[1.0,\"#f0f921\"]]}],\"choropleth\":[{\"type\":\"choropleth\",\"colorbar\":{\"outlinewidth\":0,\"ticks\":\"\"}}],\"histogram2d\":[{\"type\":\"histogram2d\",\"colorbar\":{\"outlinewidth\":0,\"ticks\":\"\"},\"colorscale\":[[0.0,\"#0d0887\"],[0.1111111111111111,\"#46039f\"],[0.2222222222222222,\"#7201a8\"],[0.3333333333333333,\"#9c179e\"],[0.4444444444444444,\"#bd3786\"],[0.5555555555555556,\"#d8576b\"],[0.6666666666666666,\"#ed7953\"],[0.7777777777777778,\"#fb9f3a\"],[0.8888888888888888,\"#fdca26\"],[1.0,\"#f0f921\"]]}],\"heatmap\":[{\"type\":\"heatmap\",\"colorbar\":{\"outlinewidth\":0,\"ticks\":\"\"},\"colorscale\":[[0.0,\"#0d0887\"],[0.1111111111111111,\"#46039f\"],[0.2222222222222222,\"#7201a8\"],[0.3333333333333333,\"#9c179e\"],[0.4444444444444444,\"#bd3786\"],[0.5555555555555556,\"#d8576b\"],[0.6666666666666666,\"#ed7953\"],[0.7777777777777778,\"#fb9f3a\"],[0.8888888888888888,\"#fdca26\"],[1.0,\"#f0f921\"]]}],\"heatmapgl\":[{\"type\":\"heatmapgl\",\"colorbar\":{\"outlinewidth\":0,\"ticks\":\"\"},\"colorscale\":[[0.0,\"#0d0887\"],[0.1111111111111111,\"#46039f\"],[0.2222222222222222,\"#7201a8\"],[0.3333333333333333,\"#9c179e\"],[0.4444444444444444,\"#bd3786\"],[0.5555555555555556,\"#d8576b\"],[0.6666666666666666,\"#ed7953\"],[0.7777777777777778,\"#fb9f3a\"],[0.8888888888888888,\"#fdca26\"],[1.0,\"#f0f921\"]]}],\"contourcarpet\":[{\"type\":\"contourcarpet\",\"colorbar\":{\"outlinewidth\":0,\"ticks\":\"\"}}],\"contour\":[{\"type\":\"contour\",\"colorbar\":{\"outlinewidth\":0,\"ticks\":\"\"},\"colorscale\":[[0.0,\"#0d0887\"],[0.1111111111111111,\"#46039f\"],[0.2222222222222222,\"#7201a8\"],[0.3333333333333333,\"#9c179e\"],[0.4444444444444444,\"#bd3786\"],[0.5555555555555556,\"#d8576b\"],[0.6666666666666666,\"#ed7953\"],[0.7777777777777778,\"#fb9f3a\"],[0.8888888888888888,\"#fdca26\"],[1.0,\"#f0f921\"]]}],\"surface\":[{\"type\":\"surface\",\"colorbar\":{\"outlinewidth\":0,\"ticks\":\"\"},\"colorscale\":[[0.0,\"#0d0887\"],[0.1111111111111111,\"#46039f\"],[0.2222222222222222,\"#7201a8\"],[0.3333333333333333,\"#9c179e\"],[0.4444444444444444,\"#bd3786\"],[0.5555555555555556,\"#d8576b\"],[0.6666666666666666,\"#ed7953\"],[0.7777777777777778,\"#fb9f3a\"],[0.8888888888888888,\"#fdca26\"],[1.0,\"#f0f921\"]]}],\"mesh3d\":[{\"type\":\"mesh3d\",\"colorbar\":{\"outlinewidth\":0,\"ticks\":\"\"}}],\"scatter\":[{\"fillpattern\":{\"fillmode\":\"overlay\",\"size\":10,\"solidity\":0.2},\"type\":\"scatter\"}],\"parcoords\":[{\"type\":\"parcoords\",\"line\":{\"colorbar\":{\"outlinewidth\":0,\"ticks\":\"\"}}}],\"scatterpolargl\":[{\"type\":\"scatterpolargl\",\"marker\":{\"colorbar\":{\"outlinewidth\":0,\"ticks\":\"\"}}}],\"bar\":[{\"error_x\":{\"color\":\"#2a3f5f\"},\"error_y\":{\"color\":\"#2a3f5f\"},\"marker\":{\"line\":{\"color\":\"#E5ECF6\",\"width\":0.5},\"pattern\":{\"fillmode\":\"overlay\",\"size\":10,\"solidity\":0.2}},\"type\":\"bar\"}],\"scattergeo\":[{\"type\":\"scattergeo\",\"marker\":{\"colorbar\":{\"outlinewidth\":0,\"ticks\":\"\"}}}],\"scatterpolar\":[{\"type\":\"scatterpolar\",\"marker\":{\"colorbar\":{\"outlinewidth\":0,\"ticks\":\"\"}}}],\"histogram\":[{\"marker\":{\"pattern\":{\"fillmode\":\"overlay\",\"size\":10,\"solidity\":0.2}},\"type\":\"histogram\"}],\"scattergl\":[{\"type\":\"scattergl\",\"marker\":{\"colorbar\":{\"outlinewidth\":0,\"ticks\":\"\"}}}],\"scatter3d\":[{\"type\":\"scatter3d\",\"line\":{\"colorbar\":{\"outlinewidth\":0,\"ticks\":\"\"}},\"marker\":{\"colorbar\":{\"outlinewidth\":0,\"ticks\":\"\"}}}],\"scattermapbox\":[{\"type\":\"scattermapbox\",\"marker\":{\"colorbar\":{\"outlinewidth\":0,\"ticks\":\"\"}}}],\"scatterternary\":[{\"type\":\"scatterternary\",\"marker\":{\"colorbar\":{\"outlinewidth\":0,\"ticks\":\"\"}}}],\"scattercarpet\":[{\"type\":\"scattercarpet\",\"marker\":{\"colorbar\":{\"outlinewidth\":0,\"ticks\":\"\"}}}],\"carpet\":[{\"aaxis\":{\"endlinecolor\":\"#2a3f5f\",\"gridcolor\":\"white\",\"linecolor\":\"white\",\"minorgridcolor\":\"white\",\"startlinecolor\":\"#2a3f5f\"},\"baxis\":{\"endlinecolor\":\"#2a3f5f\",\"gridcolor\":\"white\",\"linecolor\":\"white\",\"minorgridcolor\":\"white\",\"startlinecolor\":\"#2a3f5f\"},\"type\":\"carpet\"}],\"table\":[{\"cells\":{\"fill\":{\"color\":\"#EBF0F8\"},\"line\":{\"color\":\"white\"}},\"header\":{\"fill\":{\"color\":\"#C8D4E3\"},\"line\":{\"color\":\"white\"}},\"type\":\"table\"}],\"barpolar\":[{\"marker\":{\"line\":{\"color\":\"#E5ECF6\",\"width\":0.5},\"pattern\":{\"fillmode\":\"overlay\",\"size\":10,\"solidity\":0.2}},\"type\":\"barpolar\"}],\"pie\":[{\"automargin\":true,\"type\":\"pie\"}]},\"layout\":{\"autotypenumbers\":\"strict\",\"colorway\":[\"#636efa\",\"#EF553B\",\"#00cc96\",\"#ab63fa\",\"#FFA15A\",\"#19d3f3\",\"#FF6692\",\"#B6E880\",\"#FF97FF\",\"#FECB52\"],\"font\":{\"color\":\"#2a3f5f\"},\"hovermode\":\"closest\",\"hoverlabel\":{\"align\":\"left\"},\"paper_bgcolor\":\"white\",\"plot_bgcolor\":\"#E5ECF6\",\"polar\":{\"bgcolor\":\"#E5ECF6\",\"angularaxis\":{\"gridcolor\":\"white\",\"linecolor\":\"white\",\"ticks\":\"\"},\"radialaxis\":{\"gridcolor\":\"white\",\"linecolor\":\"white\",\"ticks\":\"\"}},\"ternary\":{\"bgcolor\":\"#E5ECF6\",\"aaxis\":{\"gridcolor\":\"white\",\"linecolor\":\"white\",\"ticks\":\"\"},\"baxis\":{\"gridcolor\":\"white\",\"linecolor\":\"white\",\"ticks\":\"\"},\"caxis\":{\"gridcolor\":\"white\",\"linecolor\":\"white\",\"ticks\":\"\"}},\"coloraxis\":{\"colorbar\":{\"outlinewidth\":0,\"ticks\":\"\"}},\"colorscale\":{\"sequential\":[[0.0,\"#0d0887\"],[0.1111111111111111,\"#46039f\"],[0.2222222222222222,\"#7201a8\"],[0.3333333333333333,\"#9c179e\"],[0.4444444444444444,\"#bd3786\"],[0.5555555555555556,\"#d8576b\"],[0.6666666666666666,\"#ed7953\"],[0.7777777777777778,\"#fb9f3a\"],[0.8888888888888888,\"#fdca26\"],[1.0,\"#f0f921\"]],\"sequentialminus\":[[0.0,\"#0d0887\"],[0.1111111111111111,\"#46039f\"],[0.2222222222222222,\"#7201a8\"],[0.3333333333333333,\"#9c179e\"],[0.4444444444444444,\"#bd3786\"],[0.5555555555555556,\"#d8576b\"],[0.6666666666666666,\"#ed7953\"],[0.7777777777777778,\"#fb9f3a\"],[0.8888888888888888,\"#fdca26\"],[1.0,\"#f0f921\"]],\"diverging\":[[0,\"#8e0152\"],[0.1,\"#c51b7d\"],[0.2,\"#de77ae\"],[0.3,\"#f1b6da\"],[0.4,\"#fde0ef\"],[0.5,\"#f7f7f7\"],[0.6,\"#e6f5d0\"],[0.7,\"#b8e186\"],[0.8,\"#7fbc41\"],[0.9,\"#4d9221\"],[1,\"#276419\"]]},\"xaxis\":{\"gridcolor\":\"white\",\"linecolor\":\"white\",\"ticks\":\"\",\"title\":{\"standoff\":15},\"zerolinecolor\":\"white\",\"automargin\":true,\"zerolinewidth\":2},\"yaxis\":{\"gridcolor\":\"white\",\"linecolor\":\"white\",\"ticks\":\"\",\"title\":{\"standoff\":15},\"zerolinecolor\":\"white\",\"automargin\":true,\"zerolinewidth\":2},\"scene\":{\"xaxis\":{\"backgroundcolor\":\"#E5ECF6\",\"gridcolor\":\"white\",\"linecolor\":\"white\",\"showbackground\":true,\"ticks\":\"\",\"zerolinecolor\":\"white\",\"gridwidth\":2},\"yaxis\":{\"backgroundcolor\":\"#E5ECF6\",\"gridcolor\":\"white\",\"linecolor\":\"white\",\"showbackground\":true,\"ticks\":\"\",\"zerolinecolor\":\"white\",\"gridwidth\":2},\"zaxis\":{\"backgroundcolor\":\"#E5ECF6\",\"gridcolor\":\"white\",\"linecolor\":\"white\",\"showbackground\":true,\"ticks\":\"\",\"zerolinecolor\":\"white\",\"gridwidth\":2}},\"shapedefaults\":{\"line\":{\"color\":\"#2a3f5f\"}},\"annotationdefaults\":{\"arrowcolor\":\"#2a3f5f\",\"arrowhead\":0,\"arrowwidth\":1},\"geo\":{\"bgcolor\":\"white\",\"landcolor\":\"#E5ECF6\",\"subunitcolor\":\"white\",\"showland\":true,\"showlakes\":true,\"lakecolor\":\"white\"},\"title\":{\"x\":0.05},\"mapbox\":{\"style\":\"light\"}}},\"font\":{\"family\":\"Arial\",\"color\":\"#22314E\",\"size\":16}},                        {\"responsive\": true}                    ).then(function(){\n",
       "                            \n",
       "var gd = document.getElementById('5e280985-0d27-4e7d-9936-8414d303e884');\n",
       "var x = new MutationObserver(function (mutations, observer) {{\n",
       "        var display = window.getComputedStyle(gd).display;\n",
       "        if (!display || display === 'none') {{\n",
       "            console.log([gd, 'removed!']);\n",
       "            Plotly.purge(gd);\n",
       "            observer.disconnect();\n",
       "        }}\n",
       "}});\n",
       "\n",
       "// Listen for the removal of the full notebook cells\n",
       "var notebookContainer = gd.closest('#notebook-container');\n",
       "if (notebookContainer) {{\n",
       "    x.observe(notebookContainer, {childList: true});\n",
       "}}\n",
       "\n",
       "// Listen for the clearing of the current output cell\n",
       "var outputEl = gd.closest('.output');\n",
       "if (outputEl) {{\n",
       "    x.observe(outputEl, {childList: true});\n",
       "}}\n",
       "\n",
       "                        })                };                });            </script>        </div>"
      ]
     },
     "metadata": {},
     "output_type": "display_data"
    }
   ],
   "source": [
    "# Generate side by side plots of distros\n",
    "temp = distro_df[distro_df[this_year]>=1].copy()\n",
    "new_names = [a[0].upper()+a[1:] for a in temp[\"name\"]]\n",
    "print(new_names)\n",
    "temp[\"name\"] = pd.Series(data=new_names,copy=False,index=temp[\"name\"].index)\n",
    "\n",
    "new_row = pd.DataFrame(data=[{\"name\":\"All Other Distros\",\"2023\":all_other_this,\"2022\":all_other_last},\n",
    "                             {\"name\":\"Python Pkgs\",\"2023\":everything_else_this,\"2022\":everything_else_last}])\n",
    "temp = pd.concat([temp, new_row], ignore_index=True)\n",
    "print(temp[\"name\"])\n",
    "print(temp)\n",
    "print(temp[last_year].sum())\n",
    "print(temp[this_year].sum())\n",
    "\n",
    "colors ={\"noetic\": 'rgba(255,0,0,0.4)',\n",
    "         \"melodic\": 'rgba(255,0,0,0.4)',\n",
    "         \"kinetic\": 'rgba(255,0,0,0.4)',\n",
    "         \"dashing\": 'rgba(255,0,0,0.4)',\n",
    "         \"eloquent\": 'rgba(255,0,0,0.4)',\n",
    "         \"foxy\": 'rgba(255,0,0,0.4)',         \n",
    "         \"galactic\": 'rgba(255,0,0,0.4)',\n",
    "         \"humble\": 'rgba(255,0,0,0.4)',\n",
    "         \"iron\": 'rgba(255,0,0,0.4)',\n",
    "         \"rolling\": 'rgba(255,0,0,0.4)',\n",
    "        }\n",
    "\n",
    "#title={\n",
    "#    'text': \"Plot Title\",\n",
    "#    'xanchor': 'center',\n",
    "#    'yanchor': 'top'}\n",
    "title ={\n",
    "    'text': \"Plot Title\",\n",
    "    'y':0.9,\n",
    "    'x':0.5,\n",
    "    'xanchor': 'center',\n",
    "    'yanchor': 'bottom'}\n",
    "\n",
    "trace1 = go.Pie(values= temp[last_year], labels = temp[\"name\"],domain=dict(x=[0, 0.5]),title=\"\",sort= False)\n",
    "trace2 = go.Pie(values= temp[this_year], labels = temp[\"name\"],domain=dict(x=[0.5,1.0]),title=\"\", sort=False)\n",
    "layout = go.Layout(title=\"Download Percentage from packages.ros.org October 2022 vs October 2023\")\n",
    "data = [trace1,trace2]\n",
    "fig = go.Figure(data=data, layout=layout)\n",
    "\n",
    "\n",
    "fig.update_layout(\n",
    "    font_family=\"Arial\",\n",
    "    font_color=\"#22314E\",\n",
    "    font_size=16,\n",
    "    title_font_size = 24,\n",
    "    title_font_family=\"Arial\",\n",
    "    title_font_color=\"#22314E\"\n",
    ")\n",
    "\n",
    "fig.update_traces(marker=dict(colors=['#FFAAAA','#FF6666','#FF0000','#CCCCFF','#9999FF',\n",
    "                                      '#6666FF','#3333FF','#fcdc3f',\"#7cc14b\",\"#FF00FF\"]))\n",
    "\n",
    "fig.show()\n"
   ]
  },
  {
   "cell_type": "code",
   "execution_count": 246,
   "metadata": {},
   "outputs": [
    {
     "data": {
      "application/vnd.plotly.v1+json": {
       "config": {
        "plotlyServerURL": "https://plot.ly"
       },
       "data": [
        {
         "labels": [
          "Kinetic",
          "Melodic",
          "Noetic",
          "Foxy",
          "Galactic",
          "Humble",
          "Iron",
          "Rolling",
          "All Other Distros",
          "Python Pkgs"
         ],
         "marker": {
          "colors": [
           "#FFAAAA",
           "#FF6666",
           "#FF0000",
           "#CCCCFF",
           "#9999FF",
           "#6666FF",
           "#3333FF",
           "#fcdc3f",
           "#7cc14b",
           "#FF00FF"
          ]
         },
         "sort": false,
         "title": {
          "text": ""
         },
         "type": "pie",
         "values": [
          2.12,
          17.19,
          34.8,
          13.59,
          8.12,
          10.04,
          0,
          3.38,
          1.43,
          9.330000000000013
         ]
        }
       ],
       "layout": {
        "font": {
         "color": "#22314E",
         "family": "Arial",
         "size": 16
        },
        "template": {
         "data": {
          "bar": [
           {
            "error_x": {
             "color": "#2a3f5f"
            },
            "error_y": {
             "color": "#2a3f5f"
            },
            "marker": {
             "line": {
              "color": "#E5ECF6",
              "width": 0.5
             },
             "pattern": {
              "fillmode": "overlay",
              "size": 10,
              "solidity": 0.2
             }
            },
            "type": "bar"
           }
          ],
          "barpolar": [
           {
            "marker": {
             "line": {
              "color": "#E5ECF6",
              "width": 0.5
             },
             "pattern": {
              "fillmode": "overlay",
              "size": 10,
              "solidity": 0.2
             }
            },
            "type": "barpolar"
           }
          ],
          "carpet": [
           {
            "aaxis": {
             "endlinecolor": "#2a3f5f",
             "gridcolor": "white",
             "linecolor": "white",
             "minorgridcolor": "white",
             "startlinecolor": "#2a3f5f"
            },
            "baxis": {
             "endlinecolor": "#2a3f5f",
             "gridcolor": "white",
             "linecolor": "white",
             "minorgridcolor": "white",
             "startlinecolor": "#2a3f5f"
            },
            "type": "carpet"
           }
          ],
          "choropleth": [
           {
            "colorbar": {
             "outlinewidth": 0,
             "ticks": ""
            },
            "type": "choropleth"
           }
          ],
          "contour": [
           {
            "colorbar": {
             "outlinewidth": 0,
             "ticks": ""
            },
            "colorscale": [
             [
              0,
              "#0d0887"
             ],
             [
              0.1111111111111111,
              "#46039f"
             ],
             [
              0.2222222222222222,
              "#7201a8"
             ],
             [
              0.3333333333333333,
              "#9c179e"
             ],
             [
              0.4444444444444444,
              "#bd3786"
             ],
             [
              0.5555555555555556,
              "#d8576b"
             ],
             [
              0.6666666666666666,
              "#ed7953"
             ],
             [
              0.7777777777777778,
              "#fb9f3a"
             ],
             [
              0.8888888888888888,
              "#fdca26"
             ],
             [
              1,
              "#f0f921"
             ]
            ],
            "type": "contour"
           }
          ],
          "contourcarpet": [
           {
            "colorbar": {
             "outlinewidth": 0,
             "ticks": ""
            },
            "type": "contourcarpet"
           }
          ],
          "heatmap": [
           {
            "colorbar": {
             "outlinewidth": 0,
             "ticks": ""
            },
            "colorscale": [
             [
              0,
              "#0d0887"
             ],
             [
              0.1111111111111111,
              "#46039f"
             ],
             [
              0.2222222222222222,
              "#7201a8"
             ],
             [
              0.3333333333333333,
              "#9c179e"
             ],
             [
              0.4444444444444444,
              "#bd3786"
             ],
             [
              0.5555555555555556,
              "#d8576b"
             ],
             [
              0.6666666666666666,
              "#ed7953"
             ],
             [
              0.7777777777777778,
              "#fb9f3a"
             ],
             [
              0.8888888888888888,
              "#fdca26"
             ],
             [
              1,
              "#f0f921"
             ]
            ],
            "type": "heatmap"
           }
          ],
          "heatmapgl": [
           {
            "colorbar": {
             "outlinewidth": 0,
             "ticks": ""
            },
            "colorscale": [
             [
              0,
              "#0d0887"
             ],
             [
              0.1111111111111111,
              "#46039f"
             ],
             [
              0.2222222222222222,
              "#7201a8"
             ],
             [
              0.3333333333333333,
              "#9c179e"
             ],
             [
              0.4444444444444444,
              "#bd3786"
             ],
             [
              0.5555555555555556,
              "#d8576b"
             ],
             [
              0.6666666666666666,
              "#ed7953"
             ],
             [
              0.7777777777777778,
              "#fb9f3a"
             ],
             [
              0.8888888888888888,
              "#fdca26"
             ],
             [
              1,
              "#f0f921"
             ]
            ],
            "type": "heatmapgl"
           }
          ],
          "histogram": [
           {
            "marker": {
             "pattern": {
              "fillmode": "overlay",
              "size": 10,
              "solidity": 0.2
             }
            },
            "type": "histogram"
           }
          ],
          "histogram2d": [
           {
            "colorbar": {
             "outlinewidth": 0,
             "ticks": ""
            },
            "colorscale": [
             [
              0,
              "#0d0887"
             ],
             [
              0.1111111111111111,
              "#46039f"
             ],
             [
              0.2222222222222222,
              "#7201a8"
             ],
             [
              0.3333333333333333,
              "#9c179e"
             ],
             [
              0.4444444444444444,
              "#bd3786"
             ],
             [
              0.5555555555555556,
              "#d8576b"
             ],
             [
              0.6666666666666666,
              "#ed7953"
             ],
             [
              0.7777777777777778,
              "#fb9f3a"
             ],
             [
              0.8888888888888888,
              "#fdca26"
             ],
             [
              1,
              "#f0f921"
             ]
            ],
            "type": "histogram2d"
           }
          ],
          "histogram2dcontour": [
           {
            "colorbar": {
             "outlinewidth": 0,
             "ticks": ""
            },
            "colorscale": [
             [
              0,
              "#0d0887"
             ],
             [
              0.1111111111111111,
              "#46039f"
             ],
             [
              0.2222222222222222,
              "#7201a8"
             ],
             [
              0.3333333333333333,
              "#9c179e"
             ],
             [
              0.4444444444444444,
              "#bd3786"
             ],
             [
              0.5555555555555556,
              "#d8576b"
             ],
             [
              0.6666666666666666,
              "#ed7953"
             ],
             [
              0.7777777777777778,
              "#fb9f3a"
             ],
             [
              0.8888888888888888,
              "#fdca26"
             ],
             [
              1,
              "#f0f921"
             ]
            ],
            "type": "histogram2dcontour"
           }
          ],
          "mesh3d": [
           {
            "colorbar": {
             "outlinewidth": 0,
             "ticks": ""
            },
            "type": "mesh3d"
           }
          ],
          "parcoords": [
           {
            "line": {
             "colorbar": {
              "outlinewidth": 0,
              "ticks": ""
             }
            },
            "type": "parcoords"
           }
          ],
          "pie": [
           {
            "automargin": true,
            "type": "pie"
           }
          ],
          "scatter": [
           {
            "fillpattern": {
             "fillmode": "overlay",
             "size": 10,
             "solidity": 0.2
            },
            "type": "scatter"
           }
          ],
          "scatter3d": [
           {
            "line": {
             "colorbar": {
              "outlinewidth": 0,
              "ticks": ""
             }
            },
            "marker": {
             "colorbar": {
              "outlinewidth": 0,
              "ticks": ""
             }
            },
            "type": "scatter3d"
           }
          ],
          "scattercarpet": [
           {
            "marker": {
             "colorbar": {
              "outlinewidth": 0,
              "ticks": ""
             }
            },
            "type": "scattercarpet"
           }
          ],
          "scattergeo": [
           {
            "marker": {
             "colorbar": {
              "outlinewidth": 0,
              "ticks": ""
             }
            },
            "type": "scattergeo"
           }
          ],
          "scattergl": [
           {
            "marker": {
             "colorbar": {
              "outlinewidth": 0,
              "ticks": ""
             }
            },
            "type": "scattergl"
           }
          ],
          "scattermapbox": [
           {
            "marker": {
             "colorbar": {
              "outlinewidth": 0,
              "ticks": ""
             }
            },
            "type": "scattermapbox"
           }
          ],
          "scatterpolar": [
           {
            "marker": {
             "colorbar": {
              "outlinewidth": 0,
              "ticks": ""
             }
            },
            "type": "scatterpolar"
           }
          ],
          "scatterpolargl": [
           {
            "marker": {
             "colorbar": {
              "outlinewidth": 0,
              "ticks": ""
             }
            },
            "type": "scatterpolargl"
           }
          ],
          "scatterternary": [
           {
            "marker": {
             "colorbar": {
              "outlinewidth": 0,
              "ticks": ""
             }
            },
            "type": "scatterternary"
           }
          ],
          "surface": [
           {
            "colorbar": {
             "outlinewidth": 0,
             "ticks": ""
            },
            "colorscale": [
             [
              0,
              "#0d0887"
             ],
             [
              0.1111111111111111,
              "#46039f"
             ],
             [
              0.2222222222222222,
              "#7201a8"
             ],
             [
              0.3333333333333333,
              "#9c179e"
             ],
             [
              0.4444444444444444,
              "#bd3786"
             ],
             [
              0.5555555555555556,
              "#d8576b"
             ],
             [
              0.6666666666666666,
              "#ed7953"
             ],
             [
              0.7777777777777778,
              "#fb9f3a"
             ],
             [
              0.8888888888888888,
              "#fdca26"
             ],
             [
              1,
              "#f0f921"
             ]
            ],
            "type": "surface"
           }
          ],
          "table": [
           {
            "cells": {
             "fill": {
              "color": "#EBF0F8"
             },
             "line": {
              "color": "white"
             }
            },
            "header": {
             "fill": {
              "color": "#C8D4E3"
             },
             "line": {
              "color": "white"
             }
            },
            "type": "table"
           }
          ]
         },
         "layout": {
          "annotationdefaults": {
           "arrowcolor": "#2a3f5f",
           "arrowhead": 0,
           "arrowwidth": 1
          },
          "autotypenumbers": "strict",
          "coloraxis": {
           "colorbar": {
            "outlinewidth": 0,
            "ticks": ""
           }
          },
          "colorscale": {
           "diverging": [
            [
             0,
             "#8e0152"
            ],
            [
             0.1,
             "#c51b7d"
            ],
            [
             0.2,
             "#de77ae"
            ],
            [
             0.3,
             "#f1b6da"
            ],
            [
             0.4,
             "#fde0ef"
            ],
            [
             0.5,
             "#f7f7f7"
            ],
            [
             0.6,
             "#e6f5d0"
            ],
            [
             0.7,
             "#b8e186"
            ],
            [
             0.8,
             "#7fbc41"
            ],
            [
             0.9,
             "#4d9221"
            ],
            [
             1,
             "#276419"
            ]
           ],
           "sequential": [
            [
             0,
             "#0d0887"
            ],
            [
             0.1111111111111111,
             "#46039f"
            ],
            [
             0.2222222222222222,
             "#7201a8"
            ],
            [
             0.3333333333333333,
             "#9c179e"
            ],
            [
             0.4444444444444444,
             "#bd3786"
            ],
            [
             0.5555555555555556,
             "#d8576b"
            ],
            [
             0.6666666666666666,
             "#ed7953"
            ],
            [
             0.7777777777777778,
             "#fb9f3a"
            ],
            [
             0.8888888888888888,
             "#fdca26"
            ],
            [
             1,
             "#f0f921"
            ]
           ],
           "sequentialminus": [
            [
             0,
             "#0d0887"
            ],
            [
             0.1111111111111111,
             "#46039f"
            ],
            [
             0.2222222222222222,
             "#7201a8"
            ],
            [
             0.3333333333333333,
             "#9c179e"
            ],
            [
             0.4444444444444444,
             "#bd3786"
            ],
            [
             0.5555555555555556,
             "#d8576b"
            ],
            [
             0.6666666666666666,
             "#ed7953"
            ],
            [
             0.7777777777777778,
             "#fb9f3a"
            ],
            [
             0.8888888888888888,
             "#fdca26"
            ],
            [
             1,
             "#f0f921"
            ]
           ]
          },
          "colorway": [
           "#636efa",
           "#EF553B",
           "#00cc96",
           "#ab63fa",
           "#FFA15A",
           "#19d3f3",
           "#FF6692",
           "#B6E880",
           "#FF97FF",
           "#FECB52"
          ],
          "font": {
           "color": "#2a3f5f"
          },
          "geo": {
           "bgcolor": "white",
           "lakecolor": "white",
           "landcolor": "#E5ECF6",
           "showlakes": true,
           "showland": true,
           "subunitcolor": "white"
          },
          "hoverlabel": {
           "align": "left"
          },
          "hovermode": "closest",
          "mapbox": {
           "style": "light"
          },
          "paper_bgcolor": "white",
          "plot_bgcolor": "#E5ECF6",
          "polar": {
           "angularaxis": {
            "gridcolor": "white",
            "linecolor": "white",
            "ticks": ""
           },
           "bgcolor": "#E5ECF6",
           "radialaxis": {
            "gridcolor": "white",
            "linecolor": "white",
            "ticks": ""
           }
          },
          "scene": {
           "xaxis": {
            "backgroundcolor": "#E5ECF6",
            "gridcolor": "white",
            "gridwidth": 2,
            "linecolor": "white",
            "showbackground": true,
            "ticks": "",
            "zerolinecolor": "white"
           },
           "yaxis": {
            "backgroundcolor": "#E5ECF6",
            "gridcolor": "white",
            "gridwidth": 2,
            "linecolor": "white",
            "showbackground": true,
            "ticks": "",
            "zerolinecolor": "white"
           },
           "zaxis": {
            "backgroundcolor": "#E5ECF6",
            "gridcolor": "white",
            "gridwidth": 2,
            "linecolor": "white",
            "showbackground": true,
            "ticks": "",
            "zerolinecolor": "white"
           }
          },
          "shapedefaults": {
           "line": {
            "color": "#2a3f5f"
           }
          },
          "ternary": {
           "aaxis": {
            "gridcolor": "white",
            "linecolor": "white",
            "ticks": ""
           },
           "baxis": {
            "gridcolor": "white",
            "linecolor": "white",
            "ticks": ""
           },
           "bgcolor": "#E5ECF6",
           "caxis": {
            "gridcolor": "white",
            "linecolor": "white",
            "ticks": ""
           }
          },
          "title": {
           "x": 0.05
          },
          "xaxis": {
           "automargin": true,
           "gridcolor": "white",
           "linecolor": "white",
           "ticks": "",
           "title": {
            "standoff": 15
           },
           "zerolinecolor": "white",
           "zerolinewidth": 2
          },
          "yaxis": {
           "automargin": true,
           "gridcolor": "white",
           "linecolor": "white",
           "ticks": "",
           "title": {
            "standoff": 15
           },
           "zerolinecolor": "white",
           "zerolinewidth": 2
          }
         }
        },
        "title": {
         "font": {
          "color": "#22314E",
          "family": "Arial",
          "size": 24
         },
         "text": "ROS Package Distro Percentages October 2022"
        }
       }
      },
      "text/html": [
       "<div>                            <div id=\"d4f87653-befe-4863-bca5-2912c0f6fb81\" class=\"plotly-graph-div\" style=\"height:525px; width:100%;\"></div>            <script type=\"text/javascript\">                require([\"plotly\"], function(Plotly) {                    window.PLOTLYENV=window.PLOTLYENV || {};                                    if (document.getElementById(\"d4f87653-befe-4863-bca5-2912c0f6fb81\")) {                    Plotly.newPlot(                        \"d4f87653-befe-4863-bca5-2912c0f6fb81\",                        [{\"labels\":[\"Kinetic\",\"Melodic\",\"Noetic\",\"Foxy\",\"Galactic\",\"Humble\",\"Iron\",\"Rolling\",\"All Other Distros\",\"Python Pkgs\"],\"sort\":false,\"title\":{\"text\":\"\"},\"values\":[2.12,17.19,34.8,13.59,8.12,10.04,0.0,3.38,1.43,9.330000000000013],\"type\":\"pie\",\"marker\":{\"colors\":[\"#FFAAAA\",\"#FF6666\",\"#FF0000\",\"#CCCCFF\",\"#9999FF\",\"#6666FF\",\"#3333FF\",\"#fcdc3f\",\"#7cc14b\",\"#FF00FF\"]}}],                        {\"title\":{\"text\":\"ROS Package Distro Percentages October 2022\",\"font\":{\"size\":24,\"family\":\"Arial\",\"color\":\"#22314E\"}},\"template\":{\"data\":{\"histogram2dcontour\":[{\"type\":\"histogram2dcontour\",\"colorbar\":{\"outlinewidth\":0,\"ticks\":\"\"},\"colorscale\":[[0.0,\"#0d0887\"],[0.1111111111111111,\"#46039f\"],[0.2222222222222222,\"#7201a8\"],[0.3333333333333333,\"#9c179e\"],[0.4444444444444444,\"#bd3786\"],[0.5555555555555556,\"#d8576b\"],[0.6666666666666666,\"#ed7953\"],[0.7777777777777778,\"#fb9f3a\"],[0.8888888888888888,\"#fdca26\"],[1.0,\"#f0f921\"]]}],\"choropleth\":[{\"type\":\"choropleth\",\"colorbar\":{\"outlinewidth\":0,\"ticks\":\"\"}}],\"histogram2d\":[{\"type\":\"histogram2d\",\"colorbar\":{\"outlinewidth\":0,\"ticks\":\"\"},\"colorscale\":[[0.0,\"#0d0887\"],[0.1111111111111111,\"#46039f\"],[0.2222222222222222,\"#7201a8\"],[0.3333333333333333,\"#9c179e\"],[0.4444444444444444,\"#bd3786\"],[0.5555555555555556,\"#d8576b\"],[0.6666666666666666,\"#ed7953\"],[0.7777777777777778,\"#fb9f3a\"],[0.8888888888888888,\"#fdca26\"],[1.0,\"#f0f921\"]]}],\"heatmap\":[{\"type\":\"heatmap\",\"colorbar\":{\"outlinewidth\":0,\"ticks\":\"\"},\"colorscale\":[[0.0,\"#0d0887\"],[0.1111111111111111,\"#46039f\"],[0.2222222222222222,\"#7201a8\"],[0.3333333333333333,\"#9c179e\"],[0.4444444444444444,\"#bd3786\"],[0.5555555555555556,\"#d8576b\"],[0.6666666666666666,\"#ed7953\"],[0.7777777777777778,\"#fb9f3a\"],[0.8888888888888888,\"#fdca26\"],[1.0,\"#f0f921\"]]}],\"heatmapgl\":[{\"type\":\"heatmapgl\",\"colorbar\":{\"outlinewidth\":0,\"ticks\":\"\"},\"colorscale\":[[0.0,\"#0d0887\"],[0.1111111111111111,\"#46039f\"],[0.2222222222222222,\"#7201a8\"],[0.3333333333333333,\"#9c179e\"],[0.4444444444444444,\"#bd3786\"],[0.5555555555555556,\"#d8576b\"],[0.6666666666666666,\"#ed7953\"],[0.7777777777777778,\"#fb9f3a\"],[0.8888888888888888,\"#fdca26\"],[1.0,\"#f0f921\"]]}],\"contourcarpet\":[{\"type\":\"contourcarpet\",\"colorbar\":{\"outlinewidth\":0,\"ticks\":\"\"}}],\"contour\":[{\"type\":\"contour\",\"colorbar\":{\"outlinewidth\":0,\"ticks\":\"\"},\"colorscale\":[[0.0,\"#0d0887\"],[0.1111111111111111,\"#46039f\"],[0.2222222222222222,\"#7201a8\"],[0.3333333333333333,\"#9c179e\"],[0.4444444444444444,\"#bd3786\"],[0.5555555555555556,\"#d8576b\"],[0.6666666666666666,\"#ed7953\"],[0.7777777777777778,\"#fb9f3a\"],[0.8888888888888888,\"#fdca26\"],[1.0,\"#f0f921\"]]}],\"surface\":[{\"type\":\"surface\",\"colorbar\":{\"outlinewidth\":0,\"ticks\":\"\"},\"colorscale\":[[0.0,\"#0d0887\"],[0.1111111111111111,\"#46039f\"],[0.2222222222222222,\"#7201a8\"],[0.3333333333333333,\"#9c179e\"],[0.4444444444444444,\"#bd3786\"],[0.5555555555555556,\"#d8576b\"],[0.6666666666666666,\"#ed7953\"],[0.7777777777777778,\"#fb9f3a\"],[0.8888888888888888,\"#fdca26\"],[1.0,\"#f0f921\"]]}],\"mesh3d\":[{\"type\":\"mesh3d\",\"colorbar\":{\"outlinewidth\":0,\"ticks\":\"\"}}],\"scatter\":[{\"fillpattern\":{\"fillmode\":\"overlay\",\"size\":10,\"solidity\":0.2},\"type\":\"scatter\"}],\"parcoords\":[{\"type\":\"parcoords\",\"line\":{\"colorbar\":{\"outlinewidth\":0,\"ticks\":\"\"}}}],\"scatterpolargl\":[{\"type\":\"scatterpolargl\",\"marker\":{\"colorbar\":{\"outlinewidth\":0,\"ticks\":\"\"}}}],\"bar\":[{\"error_x\":{\"color\":\"#2a3f5f\"},\"error_y\":{\"color\":\"#2a3f5f\"},\"marker\":{\"line\":{\"color\":\"#E5ECF6\",\"width\":0.5},\"pattern\":{\"fillmode\":\"overlay\",\"size\":10,\"solidity\":0.2}},\"type\":\"bar\"}],\"scattergeo\":[{\"type\":\"scattergeo\",\"marker\":{\"colorbar\":{\"outlinewidth\":0,\"ticks\":\"\"}}}],\"scatterpolar\":[{\"type\":\"scatterpolar\",\"marker\":{\"colorbar\":{\"outlinewidth\":0,\"ticks\":\"\"}}}],\"histogram\":[{\"marker\":{\"pattern\":{\"fillmode\":\"overlay\",\"size\":10,\"solidity\":0.2}},\"type\":\"histogram\"}],\"scattergl\":[{\"type\":\"scattergl\",\"marker\":{\"colorbar\":{\"outlinewidth\":0,\"ticks\":\"\"}}}],\"scatter3d\":[{\"type\":\"scatter3d\",\"line\":{\"colorbar\":{\"outlinewidth\":0,\"ticks\":\"\"}},\"marker\":{\"colorbar\":{\"outlinewidth\":0,\"ticks\":\"\"}}}],\"scattermapbox\":[{\"type\":\"scattermapbox\",\"marker\":{\"colorbar\":{\"outlinewidth\":0,\"ticks\":\"\"}}}],\"scatterternary\":[{\"type\":\"scatterternary\",\"marker\":{\"colorbar\":{\"outlinewidth\":0,\"ticks\":\"\"}}}],\"scattercarpet\":[{\"type\":\"scattercarpet\",\"marker\":{\"colorbar\":{\"outlinewidth\":0,\"ticks\":\"\"}}}],\"carpet\":[{\"aaxis\":{\"endlinecolor\":\"#2a3f5f\",\"gridcolor\":\"white\",\"linecolor\":\"white\",\"minorgridcolor\":\"white\",\"startlinecolor\":\"#2a3f5f\"},\"baxis\":{\"endlinecolor\":\"#2a3f5f\",\"gridcolor\":\"white\",\"linecolor\":\"white\",\"minorgridcolor\":\"white\",\"startlinecolor\":\"#2a3f5f\"},\"type\":\"carpet\"}],\"table\":[{\"cells\":{\"fill\":{\"color\":\"#EBF0F8\"},\"line\":{\"color\":\"white\"}},\"header\":{\"fill\":{\"color\":\"#C8D4E3\"},\"line\":{\"color\":\"white\"}},\"type\":\"table\"}],\"barpolar\":[{\"marker\":{\"line\":{\"color\":\"#E5ECF6\",\"width\":0.5},\"pattern\":{\"fillmode\":\"overlay\",\"size\":10,\"solidity\":0.2}},\"type\":\"barpolar\"}],\"pie\":[{\"automargin\":true,\"type\":\"pie\"}]},\"layout\":{\"autotypenumbers\":\"strict\",\"colorway\":[\"#636efa\",\"#EF553B\",\"#00cc96\",\"#ab63fa\",\"#FFA15A\",\"#19d3f3\",\"#FF6692\",\"#B6E880\",\"#FF97FF\",\"#FECB52\"],\"font\":{\"color\":\"#2a3f5f\"},\"hovermode\":\"closest\",\"hoverlabel\":{\"align\":\"left\"},\"paper_bgcolor\":\"white\",\"plot_bgcolor\":\"#E5ECF6\",\"polar\":{\"bgcolor\":\"#E5ECF6\",\"angularaxis\":{\"gridcolor\":\"white\",\"linecolor\":\"white\",\"ticks\":\"\"},\"radialaxis\":{\"gridcolor\":\"white\",\"linecolor\":\"white\",\"ticks\":\"\"}},\"ternary\":{\"bgcolor\":\"#E5ECF6\",\"aaxis\":{\"gridcolor\":\"white\",\"linecolor\":\"white\",\"ticks\":\"\"},\"baxis\":{\"gridcolor\":\"white\",\"linecolor\":\"white\",\"ticks\":\"\"},\"caxis\":{\"gridcolor\":\"white\",\"linecolor\":\"white\",\"ticks\":\"\"}},\"coloraxis\":{\"colorbar\":{\"outlinewidth\":0,\"ticks\":\"\"}},\"colorscale\":{\"sequential\":[[0.0,\"#0d0887\"],[0.1111111111111111,\"#46039f\"],[0.2222222222222222,\"#7201a8\"],[0.3333333333333333,\"#9c179e\"],[0.4444444444444444,\"#bd3786\"],[0.5555555555555556,\"#d8576b\"],[0.6666666666666666,\"#ed7953\"],[0.7777777777777778,\"#fb9f3a\"],[0.8888888888888888,\"#fdca26\"],[1.0,\"#f0f921\"]],\"sequentialminus\":[[0.0,\"#0d0887\"],[0.1111111111111111,\"#46039f\"],[0.2222222222222222,\"#7201a8\"],[0.3333333333333333,\"#9c179e\"],[0.4444444444444444,\"#bd3786\"],[0.5555555555555556,\"#d8576b\"],[0.6666666666666666,\"#ed7953\"],[0.7777777777777778,\"#fb9f3a\"],[0.8888888888888888,\"#fdca26\"],[1.0,\"#f0f921\"]],\"diverging\":[[0,\"#8e0152\"],[0.1,\"#c51b7d\"],[0.2,\"#de77ae\"],[0.3,\"#f1b6da\"],[0.4,\"#fde0ef\"],[0.5,\"#f7f7f7\"],[0.6,\"#e6f5d0\"],[0.7,\"#b8e186\"],[0.8,\"#7fbc41\"],[0.9,\"#4d9221\"],[1,\"#276419\"]]},\"xaxis\":{\"gridcolor\":\"white\",\"linecolor\":\"white\",\"ticks\":\"\",\"title\":{\"standoff\":15},\"zerolinecolor\":\"white\",\"automargin\":true,\"zerolinewidth\":2},\"yaxis\":{\"gridcolor\":\"white\",\"linecolor\":\"white\",\"ticks\":\"\",\"title\":{\"standoff\":15},\"zerolinecolor\":\"white\",\"automargin\":true,\"zerolinewidth\":2},\"scene\":{\"xaxis\":{\"backgroundcolor\":\"#E5ECF6\",\"gridcolor\":\"white\",\"linecolor\":\"white\",\"showbackground\":true,\"ticks\":\"\",\"zerolinecolor\":\"white\",\"gridwidth\":2},\"yaxis\":{\"backgroundcolor\":\"#E5ECF6\",\"gridcolor\":\"white\",\"linecolor\":\"white\",\"showbackground\":true,\"ticks\":\"\",\"zerolinecolor\":\"white\",\"gridwidth\":2},\"zaxis\":{\"backgroundcolor\":\"#E5ECF6\",\"gridcolor\":\"white\",\"linecolor\":\"white\",\"showbackground\":true,\"ticks\":\"\",\"zerolinecolor\":\"white\",\"gridwidth\":2}},\"shapedefaults\":{\"line\":{\"color\":\"#2a3f5f\"}},\"annotationdefaults\":{\"arrowcolor\":\"#2a3f5f\",\"arrowhead\":0,\"arrowwidth\":1},\"geo\":{\"bgcolor\":\"white\",\"landcolor\":\"#E5ECF6\",\"subunitcolor\":\"white\",\"showland\":true,\"showlakes\":true,\"lakecolor\":\"white\"},\"title\":{\"x\":0.05},\"mapbox\":{\"style\":\"light\"}}},\"font\":{\"family\":\"Arial\",\"color\":\"#22314E\",\"size\":16}},                        {\"responsive\": true}                    ).then(function(){\n",
       "                            \n",
       "var gd = document.getElementById('d4f87653-befe-4863-bca5-2912c0f6fb81');\n",
       "var x = new MutationObserver(function (mutations, observer) {{\n",
       "        var display = window.getComputedStyle(gd).display;\n",
       "        if (!display || display === 'none') {{\n",
       "            console.log([gd, 'removed!']);\n",
       "            Plotly.purge(gd);\n",
       "            observer.disconnect();\n",
       "        }}\n",
       "}});\n",
       "\n",
       "// Listen for the removal of the full notebook cells\n",
       "var notebookContainer = gd.closest('#notebook-container');\n",
       "if (notebookContainer) {{\n",
       "    x.observe(notebookContainer, {childList: true});\n",
       "}}\n",
       "\n",
       "// Listen for the clearing of the current output cell\n",
       "var outputEl = gd.closest('.output');\n",
       "if (outputEl) {{\n",
       "    x.observe(outputEl, {childList: true});\n",
       "}}\n",
       "\n",
       "                        })                };                });            </script>        </div>"
      ]
     },
     "metadata": {},
     "output_type": "display_data"
    }
   ],
   "source": [
    "trace1 = go.Pie(values= temp[last_year], labels = temp[\"name\"],title=\"\",sort= False)\n",
    "layout = go.Layout(title=\"ROS Package Distro Percentages {0} {1}\".format(last_month,last_year))\n",
    "fig = go.Figure(data=trace1, layout=layout)\n",
    "\n",
    "\n",
    "fig.update_layout(\n",
    "    font_family=\"Arial\",\n",
    "    font_color=\"#22314E\",\n",
    "    font_size=16,\n",
    "    title_font_size = 24,\n",
    "    title_font_family=\"Arial\",\n",
    "    title_font_color=\"#22314E\"\n",
    ")\n",
    "\n",
    "fig.update_traces(marker=dict(colors=['#FFAAAA','#FF6666','#FF0000','#CCCCFF','#9999FF',\n",
    "                                      '#6666FF','#3333FF','#fcdc3f',\"#7cc14b\",\"#FF00FF\"]))\n",
    "\n",
    "fig.show()\n"
   ]
  },
  {
   "cell_type": "code",
   "execution_count": 248,
   "metadata": {},
   "outputs": [
    {
     "data": {
      "application/vnd.plotly.v1+json": {
       "config": {
        "plotlyServerURL": "https://plot.ly"
       },
       "data": [
        {
         "labels": [
          "Kinetic",
          "Melodic",
          "Noetic",
          "Foxy",
          "Galactic",
          "Humble",
          "Iron",
          "Rolling",
          "All Other Distros",
          "Python Pkgs"
         ],
         "marker": {
          "colors": [
           "#FFAAAA",
           "#FF6666",
           "#FF0000",
           "#CCCCFF",
           "#9999FF",
           "#6666FF",
           "#3333FF",
           "#fcdc3f",
           "#7cc14b",
           "#FF00FF"
          ]
         },
         "sort": false,
         "title": {
          "text": ""
         },
         "type": "pie",
         "values": [
          1.14,
          5.66,
          30.51,
          6.37,
          2.33,
          32.79,
          4.97,
          4.82,
          0.65,
          10.76000000000002
         ]
        }
       ],
       "layout": {
        "font": {
         "color": "#22314E",
         "family": "Arial",
         "size": 16
        },
        "template": {
         "data": {
          "bar": [
           {
            "error_x": {
             "color": "#2a3f5f"
            },
            "error_y": {
             "color": "#2a3f5f"
            },
            "marker": {
             "line": {
              "color": "#E5ECF6",
              "width": 0.5
             },
             "pattern": {
              "fillmode": "overlay",
              "size": 10,
              "solidity": 0.2
             }
            },
            "type": "bar"
           }
          ],
          "barpolar": [
           {
            "marker": {
             "line": {
              "color": "#E5ECF6",
              "width": 0.5
             },
             "pattern": {
              "fillmode": "overlay",
              "size": 10,
              "solidity": 0.2
             }
            },
            "type": "barpolar"
           }
          ],
          "carpet": [
           {
            "aaxis": {
             "endlinecolor": "#2a3f5f",
             "gridcolor": "white",
             "linecolor": "white",
             "minorgridcolor": "white",
             "startlinecolor": "#2a3f5f"
            },
            "baxis": {
             "endlinecolor": "#2a3f5f",
             "gridcolor": "white",
             "linecolor": "white",
             "minorgridcolor": "white",
             "startlinecolor": "#2a3f5f"
            },
            "type": "carpet"
           }
          ],
          "choropleth": [
           {
            "colorbar": {
             "outlinewidth": 0,
             "ticks": ""
            },
            "type": "choropleth"
           }
          ],
          "contour": [
           {
            "colorbar": {
             "outlinewidth": 0,
             "ticks": ""
            },
            "colorscale": [
             [
              0,
              "#0d0887"
             ],
             [
              0.1111111111111111,
              "#46039f"
             ],
             [
              0.2222222222222222,
              "#7201a8"
             ],
             [
              0.3333333333333333,
              "#9c179e"
             ],
             [
              0.4444444444444444,
              "#bd3786"
             ],
             [
              0.5555555555555556,
              "#d8576b"
             ],
             [
              0.6666666666666666,
              "#ed7953"
             ],
             [
              0.7777777777777778,
              "#fb9f3a"
             ],
             [
              0.8888888888888888,
              "#fdca26"
             ],
             [
              1,
              "#f0f921"
             ]
            ],
            "type": "contour"
           }
          ],
          "contourcarpet": [
           {
            "colorbar": {
             "outlinewidth": 0,
             "ticks": ""
            },
            "type": "contourcarpet"
           }
          ],
          "heatmap": [
           {
            "colorbar": {
             "outlinewidth": 0,
             "ticks": ""
            },
            "colorscale": [
             [
              0,
              "#0d0887"
             ],
             [
              0.1111111111111111,
              "#46039f"
             ],
             [
              0.2222222222222222,
              "#7201a8"
             ],
             [
              0.3333333333333333,
              "#9c179e"
             ],
             [
              0.4444444444444444,
              "#bd3786"
             ],
             [
              0.5555555555555556,
              "#d8576b"
             ],
             [
              0.6666666666666666,
              "#ed7953"
             ],
             [
              0.7777777777777778,
              "#fb9f3a"
             ],
             [
              0.8888888888888888,
              "#fdca26"
             ],
             [
              1,
              "#f0f921"
             ]
            ],
            "type": "heatmap"
           }
          ],
          "heatmapgl": [
           {
            "colorbar": {
             "outlinewidth": 0,
             "ticks": ""
            },
            "colorscale": [
             [
              0,
              "#0d0887"
             ],
             [
              0.1111111111111111,
              "#46039f"
             ],
             [
              0.2222222222222222,
              "#7201a8"
             ],
             [
              0.3333333333333333,
              "#9c179e"
             ],
             [
              0.4444444444444444,
              "#bd3786"
             ],
             [
              0.5555555555555556,
              "#d8576b"
             ],
             [
              0.6666666666666666,
              "#ed7953"
             ],
             [
              0.7777777777777778,
              "#fb9f3a"
             ],
             [
              0.8888888888888888,
              "#fdca26"
             ],
             [
              1,
              "#f0f921"
             ]
            ],
            "type": "heatmapgl"
           }
          ],
          "histogram": [
           {
            "marker": {
             "pattern": {
              "fillmode": "overlay",
              "size": 10,
              "solidity": 0.2
             }
            },
            "type": "histogram"
           }
          ],
          "histogram2d": [
           {
            "colorbar": {
             "outlinewidth": 0,
             "ticks": ""
            },
            "colorscale": [
             [
              0,
              "#0d0887"
             ],
             [
              0.1111111111111111,
              "#46039f"
             ],
             [
              0.2222222222222222,
              "#7201a8"
             ],
             [
              0.3333333333333333,
              "#9c179e"
             ],
             [
              0.4444444444444444,
              "#bd3786"
             ],
             [
              0.5555555555555556,
              "#d8576b"
             ],
             [
              0.6666666666666666,
              "#ed7953"
             ],
             [
              0.7777777777777778,
              "#fb9f3a"
             ],
             [
              0.8888888888888888,
              "#fdca26"
             ],
             [
              1,
              "#f0f921"
             ]
            ],
            "type": "histogram2d"
           }
          ],
          "histogram2dcontour": [
           {
            "colorbar": {
             "outlinewidth": 0,
             "ticks": ""
            },
            "colorscale": [
             [
              0,
              "#0d0887"
             ],
             [
              0.1111111111111111,
              "#46039f"
             ],
             [
              0.2222222222222222,
              "#7201a8"
             ],
             [
              0.3333333333333333,
              "#9c179e"
             ],
             [
              0.4444444444444444,
              "#bd3786"
             ],
             [
              0.5555555555555556,
              "#d8576b"
             ],
             [
              0.6666666666666666,
              "#ed7953"
             ],
             [
              0.7777777777777778,
              "#fb9f3a"
             ],
             [
              0.8888888888888888,
              "#fdca26"
             ],
             [
              1,
              "#f0f921"
             ]
            ],
            "type": "histogram2dcontour"
           }
          ],
          "mesh3d": [
           {
            "colorbar": {
             "outlinewidth": 0,
             "ticks": ""
            },
            "type": "mesh3d"
           }
          ],
          "parcoords": [
           {
            "line": {
             "colorbar": {
              "outlinewidth": 0,
              "ticks": ""
             }
            },
            "type": "parcoords"
           }
          ],
          "pie": [
           {
            "automargin": true,
            "type": "pie"
           }
          ],
          "scatter": [
           {
            "fillpattern": {
             "fillmode": "overlay",
             "size": 10,
             "solidity": 0.2
            },
            "type": "scatter"
           }
          ],
          "scatter3d": [
           {
            "line": {
             "colorbar": {
              "outlinewidth": 0,
              "ticks": ""
             }
            },
            "marker": {
             "colorbar": {
              "outlinewidth": 0,
              "ticks": ""
             }
            },
            "type": "scatter3d"
           }
          ],
          "scattercarpet": [
           {
            "marker": {
             "colorbar": {
              "outlinewidth": 0,
              "ticks": ""
             }
            },
            "type": "scattercarpet"
           }
          ],
          "scattergeo": [
           {
            "marker": {
             "colorbar": {
              "outlinewidth": 0,
              "ticks": ""
             }
            },
            "type": "scattergeo"
           }
          ],
          "scattergl": [
           {
            "marker": {
             "colorbar": {
              "outlinewidth": 0,
              "ticks": ""
             }
            },
            "type": "scattergl"
           }
          ],
          "scattermapbox": [
           {
            "marker": {
             "colorbar": {
              "outlinewidth": 0,
              "ticks": ""
             }
            },
            "type": "scattermapbox"
           }
          ],
          "scatterpolar": [
           {
            "marker": {
             "colorbar": {
              "outlinewidth": 0,
              "ticks": ""
             }
            },
            "type": "scatterpolar"
           }
          ],
          "scatterpolargl": [
           {
            "marker": {
             "colorbar": {
              "outlinewidth": 0,
              "ticks": ""
             }
            },
            "type": "scatterpolargl"
           }
          ],
          "scatterternary": [
           {
            "marker": {
             "colorbar": {
              "outlinewidth": 0,
              "ticks": ""
             }
            },
            "type": "scatterternary"
           }
          ],
          "surface": [
           {
            "colorbar": {
             "outlinewidth": 0,
             "ticks": ""
            },
            "colorscale": [
             [
              0,
              "#0d0887"
             ],
             [
              0.1111111111111111,
              "#46039f"
             ],
             [
              0.2222222222222222,
              "#7201a8"
             ],
             [
              0.3333333333333333,
              "#9c179e"
             ],
             [
              0.4444444444444444,
              "#bd3786"
             ],
             [
              0.5555555555555556,
              "#d8576b"
             ],
             [
              0.6666666666666666,
              "#ed7953"
             ],
             [
              0.7777777777777778,
              "#fb9f3a"
             ],
             [
              0.8888888888888888,
              "#fdca26"
             ],
             [
              1,
              "#f0f921"
             ]
            ],
            "type": "surface"
           }
          ],
          "table": [
           {
            "cells": {
             "fill": {
              "color": "#EBF0F8"
             },
             "line": {
              "color": "white"
             }
            },
            "header": {
             "fill": {
              "color": "#C8D4E3"
             },
             "line": {
              "color": "white"
             }
            },
            "type": "table"
           }
          ]
         },
         "layout": {
          "annotationdefaults": {
           "arrowcolor": "#2a3f5f",
           "arrowhead": 0,
           "arrowwidth": 1
          },
          "autotypenumbers": "strict",
          "coloraxis": {
           "colorbar": {
            "outlinewidth": 0,
            "ticks": ""
           }
          },
          "colorscale": {
           "diverging": [
            [
             0,
             "#8e0152"
            ],
            [
             0.1,
             "#c51b7d"
            ],
            [
             0.2,
             "#de77ae"
            ],
            [
             0.3,
             "#f1b6da"
            ],
            [
             0.4,
             "#fde0ef"
            ],
            [
             0.5,
             "#f7f7f7"
            ],
            [
             0.6,
             "#e6f5d0"
            ],
            [
             0.7,
             "#b8e186"
            ],
            [
             0.8,
             "#7fbc41"
            ],
            [
             0.9,
             "#4d9221"
            ],
            [
             1,
             "#276419"
            ]
           ],
           "sequential": [
            [
             0,
             "#0d0887"
            ],
            [
             0.1111111111111111,
             "#46039f"
            ],
            [
             0.2222222222222222,
             "#7201a8"
            ],
            [
             0.3333333333333333,
             "#9c179e"
            ],
            [
             0.4444444444444444,
             "#bd3786"
            ],
            [
             0.5555555555555556,
             "#d8576b"
            ],
            [
             0.6666666666666666,
             "#ed7953"
            ],
            [
             0.7777777777777778,
             "#fb9f3a"
            ],
            [
             0.8888888888888888,
             "#fdca26"
            ],
            [
             1,
             "#f0f921"
            ]
           ],
           "sequentialminus": [
            [
             0,
             "#0d0887"
            ],
            [
             0.1111111111111111,
             "#46039f"
            ],
            [
             0.2222222222222222,
             "#7201a8"
            ],
            [
             0.3333333333333333,
             "#9c179e"
            ],
            [
             0.4444444444444444,
             "#bd3786"
            ],
            [
             0.5555555555555556,
             "#d8576b"
            ],
            [
             0.6666666666666666,
             "#ed7953"
            ],
            [
             0.7777777777777778,
             "#fb9f3a"
            ],
            [
             0.8888888888888888,
             "#fdca26"
            ],
            [
             1,
             "#f0f921"
            ]
           ]
          },
          "colorway": [
           "#636efa",
           "#EF553B",
           "#00cc96",
           "#ab63fa",
           "#FFA15A",
           "#19d3f3",
           "#FF6692",
           "#B6E880",
           "#FF97FF",
           "#FECB52"
          ],
          "font": {
           "color": "#2a3f5f"
          },
          "geo": {
           "bgcolor": "white",
           "lakecolor": "white",
           "landcolor": "#E5ECF6",
           "showlakes": true,
           "showland": true,
           "subunitcolor": "white"
          },
          "hoverlabel": {
           "align": "left"
          },
          "hovermode": "closest",
          "mapbox": {
           "style": "light"
          },
          "paper_bgcolor": "white",
          "plot_bgcolor": "#E5ECF6",
          "polar": {
           "angularaxis": {
            "gridcolor": "white",
            "linecolor": "white",
            "ticks": ""
           },
           "bgcolor": "#E5ECF6",
           "radialaxis": {
            "gridcolor": "white",
            "linecolor": "white",
            "ticks": ""
           }
          },
          "scene": {
           "xaxis": {
            "backgroundcolor": "#E5ECF6",
            "gridcolor": "white",
            "gridwidth": 2,
            "linecolor": "white",
            "showbackground": true,
            "ticks": "",
            "zerolinecolor": "white"
           },
           "yaxis": {
            "backgroundcolor": "#E5ECF6",
            "gridcolor": "white",
            "gridwidth": 2,
            "linecolor": "white",
            "showbackground": true,
            "ticks": "",
            "zerolinecolor": "white"
           },
           "zaxis": {
            "backgroundcolor": "#E5ECF6",
            "gridcolor": "white",
            "gridwidth": 2,
            "linecolor": "white",
            "showbackground": true,
            "ticks": "",
            "zerolinecolor": "white"
           }
          },
          "shapedefaults": {
           "line": {
            "color": "#2a3f5f"
           }
          },
          "ternary": {
           "aaxis": {
            "gridcolor": "white",
            "linecolor": "white",
            "ticks": ""
           },
           "baxis": {
            "gridcolor": "white",
            "linecolor": "white",
            "ticks": ""
           },
           "bgcolor": "#E5ECF6",
           "caxis": {
            "gridcolor": "white",
            "linecolor": "white",
            "ticks": ""
           }
          },
          "title": {
           "x": 0.05
          },
          "xaxis": {
           "automargin": true,
           "gridcolor": "white",
           "linecolor": "white",
           "ticks": "",
           "title": {
            "standoff": 15
           },
           "zerolinecolor": "white",
           "zerolinewidth": 2
          },
          "yaxis": {
           "automargin": true,
           "gridcolor": "white",
           "linecolor": "white",
           "ticks": "",
           "title": {
            "standoff": 15
           },
           "zerolinecolor": "white",
           "zerolinewidth": 2
          }
         }
        },
        "title": {
         "font": {
          "color": "#22314E",
          "family": "Arial",
          "size": 24
         },
         "text": "ROS Package Downloads by Distro October 2023"
        }
       }
      },
      "text/html": [
       "<div>                            <div id=\"0562cb31-1a06-474d-98dc-e2abd9fdfdd8\" class=\"plotly-graph-div\" style=\"height:525px; width:100%;\"></div>            <script type=\"text/javascript\">                require([\"plotly\"], function(Plotly) {                    window.PLOTLYENV=window.PLOTLYENV || {};                                    if (document.getElementById(\"0562cb31-1a06-474d-98dc-e2abd9fdfdd8\")) {                    Plotly.newPlot(                        \"0562cb31-1a06-474d-98dc-e2abd9fdfdd8\",                        [{\"labels\":[\"Kinetic\",\"Melodic\",\"Noetic\",\"Foxy\",\"Galactic\",\"Humble\",\"Iron\",\"Rolling\",\"All Other Distros\",\"Python Pkgs\"],\"sort\":false,\"title\":{\"text\":\"\"},\"values\":[1.14,5.66,30.51,6.37,2.33,32.79,4.97,4.82,0.65,10.76000000000002],\"type\":\"pie\",\"marker\":{\"colors\":[\"#FFAAAA\",\"#FF6666\",\"#FF0000\",\"#CCCCFF\",\"#9999FF\",\"#6666FF\",\"#3333FF\",\"#fcdc3f\",\"#7cc14b\",\"#FF00FF\"]}}],                        {\"title\":{\"text\":\"ROS Package Downloads by Distro October 2023\",\"font\":{\"size\":24,\"family\":\"Arial\",\"color\":\"#22314E\"}},\"template\":{\"data\":{\"histogram2dcontour\":[{\"type\":\"histogram2dcontour\",\"colorbar\":{\"outlinewidth\":0,\"ticks\":\"\"},\"colorscale\":[[0.0,\"#0d0887\"],[0.1111111111111111,\"#46039f\"],[0.2222222222222222,\"#7201a8\"],[0.3333333333333333,\"#9c179e\"],[0.4444444444444444,\"#bd3786\"],[0.5555555555555556,\"#d8576b\"],[0.6666666666666666,\"#ed7953\"],[0.7777777777777778,\"#fb9f3a\"],[0.8888888888888888,\"#fdca26\"],[1.0,\"#f0f921\"]]}],\"choropleth\":[{\"type\":\"choropleth\",\"colorbar\":{\"outlinewidth\":0,\"ticks\":\"\"}}],\"histogram2d\":[{\"type\":\"histogram2d\",\"colorbar\":{\"outlinewidth\":0,\"ticks\":\"\"},\"colorscale\":[[0.0,\"#0d0887\"],[0.1111111111111111,\"#46039f\"],[0.2222222222222222,\"#7201a8\"],[0.3333333333333333,\"#9c179e\"],[0.4444444444444444,\"#bd3786\"],[0.5555555555555556,\"#d8576b\"],[0.6666666666666666,\"#ed7953\"],[0.7777777777777778,\"#fb9f3a\"],[0.8888888888888888,\"#fdca26\"],[1.0,\"#f0f921\"]]}],\"heatmap\":[{\"type\":\"heatmap\",\"colorbar\":{\"outlinewidth\":0,\"ticks\":\"\"},\"colorscale\":[[0.0,\"#0d0887\"],[0.1111111111111111,\"#46039f\"],[0.2222222222222222,\"#7201a8\"],[0.3333333333333333,\"#9c179e\"],[0.4444444444444444,\"#bd3786\"],[0.5555555555555556,\"#d8576b\"],[0.6666666666666666,\"#ed7953\"],[0.7777777777777778,\"#fb9f3a\"],[0.8888888888888888,\"#fdca26\"],[1.0,\"#f0f921\"]]}],\"heatmapgl\":[{\"type\":\"heatmapgl\",\"colorbar\":{\"outlinewidth\":0,\"ticks\":\"\"},\"colorscale\":[[0.0,\"#0d0887\"],[0.1111111111111111,\"#46039f\"],[0.2222222222222222,\"#7201a8\"],[0.3333333333333333,\"#9c179e\"],[0.4444444444444444,\"#bd3786\"],[0.5555555555555556,\"#d8576b\"],[0.6666666666666666,\"#ed7953\"],[0.7777777777777778,\"#fb9f3a\"],[0.8888888888888888,\"#fdca26\"],[1.0,\"#f0f921\"]]}],\"contourcarpet\":[{\"type\":\"contourcarpet\",\"colorbar\":{\"outlinewidth\":0,\"ticks\":\"\"}}],\"contour\":[{\"type\":\"contour\",\"colorbar\":{\"outlinewidth\":0,\"ticks\":\"\"},\"colorscale\":[[0.0,\"#0d0887\"],[0.1111111111111111,\"#46039f\"],[0.2222222222222222,\"#7201a8\"],[0.3333333333333333,\"#9c179e\"],[0.4444444444444444,\"#bd3786\"],[0.5555555555555556,\"#d8576b\"],[0.6666666666666666,\"#ed7953\"],[0.7777777777777778,\"#fb9f3a\"],[0.8888888888888888,\"#fdca26\"],[1.0,\"#f0f921\"]]}],\"surface\":[{\"type\":\"surface\",\"colorbar\":{\"outlinewidth\":0,\"ticks\":\"\"},\"colorscale\":[[0.0,\"#0d0887\"],[0.1111111111111111,\"#46039f\"],[0.2222222222222222,\"#7201a8\"],[0.3333333333333333,\"#9c179e\"],[0.4444444444444444,\"#bd3786\"],[0.5555555555555556,\"#d8576b\"],[0.6666666666666666,\"#ed7953\"],[0.7777777777777778,\"#fb9f3a\"],[0.8888888888888888,\"#fdca26\"],[1.0,\"#f0f921\"]]}],\"mesh3d\":[{\"type\":\"mesh3d\",\"colorbar\":{\"outlinewidth\":0,\"ticks\":\"\"}}],\"scatter\":[{\"fillpattern\":{\"fillmode\":\"overlay\",\"size\":10,\"solidity\":0.2},\"type\":\"scatter\"}],\"parcoords\":[{\"type\":\"parcoords\",\"line\":{\"colorbar\":{\"outlinewidth\":0,\"ticks\":\"\"}}}],\"scatterpolargl\":[{\"type\":\"scatterpolargl\",\"marker\":{\"colorbar\":{\"outlinewidth\":0,\"ticks\":\"\"}}}],\"bar\":[{\"error_x\":{\"color\":\"#2a3f5f\"},\"error_y\":{\"color\":\"#2a3f5f\"},\"marker\":{\"line\":{\"color\":\"#E5ECF6\",\"width\":0.5},\"pattern\":{\"fillmode\":\"overlay\",\"size\":10,\"solidity\":0.2}},\"type\":\"bar\"}],\"scattergeo\":[{\"type\":\"scattergeo\",\"marker\":{\"colorbar\":{\"outlinewidth\":0,\"ticks\":\"\"}}}],\"scatterpolar\":[{\"type\":\"scatterpolar\",\"marker\":{\"colorbar\":{\"outlinewidth\":0,\"ticks\":\"\"}}}],\"histogram\":[{\"marker\":{\"pattern\":{\"fillmode\":\"overlay\",\"size\":10,\"solidity\":0.2}},\"type\":\"histogram\"}],\"scattergl\":[{\"type\":\"scattergl\",\"marker\":{\"colorbar\":{\"outlinewidth\":0,\"ticks\":\"\"}}}],\"scatter3d\":[{\"type\":\"scatter3d\",\"line\":{\"colorbar\":{\"outlinewidth\":0,\"ticks\":\"\"}},\"marker\":{\"colorbar\":{\"outlinewidth\":0,\"ticks\":\"\"}}}],\"scattermapbox\":[{\"type\":\"scattermapbox\",\"marker\":{\"colorbar\":{\"outlinewidth\":0,\"ticks\":\"\"}}}],\"scatterternary\":[{\"type\":\"scatterternary\",\"marker\":{\"colorbar\":{\"outlinewidth\":0,\"ticks\":\"\"}}}],\"scattercarpet\":[{\"type\":\"scattercarpet\",\"marker\":{\"colorbar\":{\"outlinewidth\":0,\"ticks\":\"\"}}}],\"carpet\":[{\"aaxis\":{\"endlinecolor\":\"#2a3f5f\",\"gridcolor\":\"white\",\"linecolor\":\"white\",\"minorgridcolor\":\"white\",\"startlinecolor\":\"#2a3f5f\"},\"baxis\":{\"endlinecolor\":\"#2a3f5f\",\"gridcolor\":\"white\",\"linecolor\":\"white\",\"minorgridcolor\":\"white\",\"startlinecolor\":\"#2a3f5f\"},\"type\":\"carpet\"}],\"table\":[{\"cells\":{\"fill\":{\"color\":\"#EBF0F8\"},\"line\":{\"color\":\"white\"}},\"header\":{\"fill\":{\"color\":\"#C8D4E3\"},\"line\":{\"color\":\"white\"}},\"type\":\"table\"}],\"barpolar\":[{\"marker\":{\"line\":{\"color\":\"#E5ECF6\",\"width\":0.5},\"pattern\":{\"fillmode\":\"overlay\",\"size\":10,\"solidity\":0.2}},\"type\":\"barpolar\"}],\"pie\":[{\"automargin\":true,\"type\":\"pie\"}]},\"layout\":{\"autotypenumbers\":\"strict\",\"colorway\":[\"#636efa\",\"#EF553B\",\"#00cc96\",\"#ab63fa\",\"#FFA15A\",\"#19d3f3\",\"#FF6692\",\"#B6E880\",\"#FF97FF\",\"#FECB52\"],\"font\":{\"color\":\"#2a3f5f\"},\"hovermode\":\"closest\",\"hoverlabel\":{\"align\":\"left\"},\"paper_bgcolor\":\"white\",\"plot_bgcolor\":\"#E5ECF6\",\"polar\":{\"bgcolor\":\"#E5ECF6\",\"angularaxis\":{\"gridcolor\":\"white\",\"linecolor\":\"white\",\"ticks\":\"\"},\"radialaxis\":{\"gridcolor\":\"white\",\"linecolor\":\"white\",\"ticks\":\"\"}},\"ternary\":{\"bgcolor\":\"#E5ECF6\",\"aaxis\":{\"gridcolor\":\"white\",\"linecolor\":\"white\",\"ticks\":\"\"},\"baxis\":{\"gridcolor\":\"white\",\"linecolor\":\"white\",\"ticks\":\"\"},\"caxis\":{\"gridcolor\":\"white\",\"linecolor\":\"white\",\"ticks\":\"\"}},\"coloraxis\":{\"colorbar\":{\"outlinewidth\":0,\"ticks\":\"\"}},\"colorscale\":{\"sequential\":[[0.0,\"#0d0887\"],[0.1111111111111111,\"#46039f\"],[0.2222222222222222,\"#7201a8\"],[0.3333333333333333,\"#9c179e\"],[0.4444444444444444,\"#bd3786\"],[0.5555555555555556,\"#d8576b\"],[0.6666666666666666,\"#ed7953\"],[0.7777777777777778,\"#fb9f3a\"],[0.8888888888888888,\"#fdca26\"],[1.0,\"#f0f921\"]],\"sequentialminus\":[[0.0,\"#0d0887\"],[0.1111111111111111,\"#46039f\"],[0.2222222222222222,\"#7201a8\"],[0.3333333333333333,\"#9c179e\"],[0.4444444444444444,\"#bd3786\"],[0.5555555555555556,\"#d8576b\"],[0.6666666666666666,\"#ed7953\"],[0.7777777777777778,\"#fb9f3a\"],[0.8888888888888888,\"#fdca26\"],[1.0,\"#f0f921\"]],\"diverging\":[[0,\"#8e0152\"],[0.1,\"#c51b7d\"],[0.2,\"#de77ae\"],[0.3,\"#f1b6da\"],[0.4,\"#fde0ef\"],[0.5,\"#f7f7f7\"],[0.6,\"#e6f5d0\"],[0.7,\"#b8e186\"],[0.8,\"#7fbc41\"],[0.9,\"#4d9221\"],[1,\"#276419\"]]},\"xaxis\":{\"gridcolor\":\"white\",\"linecolor\":\"white\",\"ticks\":\"\",\"title\":{\"standoff\":15},\"zerolinecolor\":\"white\",\"automargin\":true,\"zerolinewidth\":2},\"yaxis\":{\"gridcolor\":\"white\",\"linecolor\":\"white\",\"ticks\":\"\",\"title\":{\"standoff\":15},\"zerolinecolor\":\"white\",\"automargin\":true,\"zerolinewidth\":2},\"scene\":{\"xaxis\":{\"backgroundcolor\":\"#E5ECF6\",\"gridcolor\":\"white\",\"linecolor\":\"white\",\"showbackground\":true,\"ticks\":\"\",\"zerolinecolor\":\"white\",\"gridwidth\":2},\"yaxis\":{\"backgroundcolor\":\"#E5ECF6\",\"gridcolor\":\"white\",\"linecolor\":\"white\",\"showbackground\":true,\"ticks\":\"\",\"zerolinecolor\":\"white\",\"gridwidth\":2},\"zaxis\":{\"backgroundcolor\":\"#E5ECF6\",\"gridcolor\":\"white\",\"linecolor\":\"white\",\"showbackground\":true,\"ticks\":\"\",\"zerolinecolor\":\"white\",\"gridwidth\":2}},\"shapedefaults\":{\"line\":{\"color\":\"#2a3f5f\"}},\"annotationdefaults\":{\"arrowcolor\":\"#2a3f5f\",\"arrowhead\":0,\"arrowwidth\":1},\"geo\":{\"bgcolor\":\"white\",\"landcolor\":\"#E5ECF6\",\"subunitcolor\":\"white\",\"showland\":true,\"showlakes\":true,\"lakecolor\":\"white\"},\"title\":{\"x\":0.05},\"mapbox\":{\"style\":\"light\"}}},\"font\":{\"family\":\"Arial\",\"color\":\"#22314E\",\"size\":16}},                        {\"responsive\": true}                    ).then(function(){\n",
       "                            \n",
       "var gd = document.getElementById('0562cb31-1a06-474d-98dc-e2abd9fdfdd8');\n",
       "var x = new MutationObserver(function (mutations, observer) {{\n",
       "        var display = window.getComputedStyle(gd).display;\n",
       "        if (!display || display === 'none') {{\n",
       "            console.log([gd, 'removed!']);\n",
       "            Plotly.purge(gd);\n",
       "            observer.disconnect();\n",
       "        }}\n",
       "}});\n",
       "\n",
       "// Listen for the removal of the full notebook cells\n",
       "var notebookContainer = gd.closest('#notebook-container');\n",
       "if (notebookContainer) {{\n",
       "    x.observe(notebookContainer, {childList: true});\n",
       "}}\n",
       "\n",
       "// Listen for the clearing of the current output cell\n",
       "var outputEl = gd.closest('.output');\n",
       "if (outputEl) {{\n",
       "    x.observe(outputEl, {childList: true});\n",
       "}}\n",
       "\n",
       "                        })                };                });            </script>        </div>"
      ]
     },
     "metadata": {},
     "output_type": "display_data"
    }
   ],
   "source": [
    "trace2 = go.Pie(values= temp[this_year], labels = temp[\"name\"],title=\"\",sort= False)\n",
    "layout = go.Layout(title=\"ROS Package Downloads by Distro {0} {1}\".format(this_month,this_year))\n",
    "fig = go.Figure(data=trace2, layout=layout)\n",
    "\n",
    "\n",
    "fig.update_layout(\n",
    "    font_family=\"Arial\",\n",
    "    font_color=\"#22314E\",\n",
    "    font_size=16,\n",
    "    title_font_size = 24,\n",
    "    title_font_family=\"Arial\",\n",
    "    title_font_color=\"#22314E\"\n",
    ")\n",
    "\n",
    "fig.update_traces(marker=dict(colors=['#FFAAAA','#FF6666','#FF0000','#CCCCFF','#9999FF',\n",
    "                                      '#6666FF','#3333FF','#fcdc3f',\"#7cc14b\",\"#FF00FF\"]))\n",
    "\n",
    "fig.show()\n"
   ]
  },
  {
   "cell_type": "code",
   "execution_count": 95,
   "metadata": {},
   "outputs": [],
   "source": [
    "\n"
   ]
  },
  {
   "cell_type": "code",
   "execution_count": 97,
   "metadata": {},
   "outputs": [
    {
     "name": "stderr",
     "output_type": "stream",
     "text": [
      "/tmp/ipykernel_16566/4101359924.py:1: UserWarning:\n",
      "\n",
      "Boolean Series key will be reindexed to match DataFrame index.\n",
      "\n"
     ]
    },
    {
     "data": {
      "application/vnd.plotly.v1+json": {
       "config": {
        "plotlyServerURL": "https://plot.ly"
       },
       "data": [
        {
         "domain": {
          "x": [
           0.5,
           1
          ]
         },
         "labels": [
          "i386",
          "amd64",
          "armhf",
          "arm64",
          "source"
         ],
         "title": {
          "text": "2023"
         },
         "type": "pie",
         "values": [
          0.12,
          83.69,
          0.27,
          9.18,
          0
         ]
        },
        {
         "domain": {
          "x": [
           0,
           0.5
          ]
         },
         "labels": [
          "i386",
          "amd64",
          "armhf",
          "arm64",
          "source"
         ],
         "title": {
          "text": "2022"
         },
         "type": "pie",
         "values": [
          0.13,
          86.64,
          0.29,
          7.6,
          0
         ]
        }
       ],
       "layout": {
        "template": {
         "data": {
          "bar": [
           {
            "error_x": {
             "color": "#2a3f5f"
            },
            "error_y": {
             "color": "#2a3f5f"
            },
            "marker": {
             "line": {
              "color": "#E5ECF6",
              "width": 0.5
             },
             "pattern": {
              "fillmode": "overlay",
              "size": 10,
              "solidity": 0.2
             }
            },
            "type": "bar"
           }
          ],
          "barpolar": [
           {
            "marker": {
             "line": {
              "color": "#E5ECF6",
              "width": 0.5
             },
             "pattern": {
              "fillmode": "overlay",
              "size": 10,
              "solidity": 0.2
             }
            },
            "type": "barpolar"
           }
          ],
          "carpet": [
           {
            "aaxis": {
             "endlinecolor": "#2a3f5f",
             "gridcolor": "white",
             "linecolor": "white",
             "minorgridcolor": "white",
             "startlinecolor": "#2a3f5f"
            },
            "baxis": {
             "endlinecolor": "#2a3f5f",
             "gridcolor": "white",
             "linecolor": "white",
             "minorgridcolor": "white",
             "startlinecolor": "#2a3f5f"
            },
            "type": "carpet"
           }
          ],
          "choropleth": [
           {
            "colorbar": {
             "outlinewidth": 0,
             "ticks": ""
            },
            "type": "choropleth"
           }
          ],
          "contour": [
           {
            "colorbar": {
             "outlinewidth": 0,
             "ticks": ""
            },
            "colorscale": [
             [
              0,
              "#0d0887"
             ],
             [
              0.1111111111111111,
              "#46039f"
             ],
             [
              0.2222222222222222,
              "#7201a8"
             ],
             [
              0.3333333333333333,
              "#9c179e"
             ],
             [
              0.4444444444444444,
              "#bd3786"
             ],
             [
              0.5555555555555556,
              "#d8576b"
             ],
             [
              0.6666666666666666,
              "#ed7953"
             ],
             [
              0.7777777777777778,
              "#fb9f3a"
             ],
             [
              0.8888888888888888,
              "#fdca26"
             ],
             [
              1,
              "#f0f921"
             ]
            ],
            "type": "contour"
           }
          ],
          "contourcarpet": [
           {
            "colorbar": {
             "outlinewidth": 0,
             "ticks": ""
            },
            "type": "contourcarpet"
           }
          ],
          "heatmap": [
           {
            "colorbar": {
             "outlinewidth": 0,
             "ticks": ""
            },
            "colorscale": [
             [
              0,
              "#0d0887"
             ],
             [
              0.1111111111111111,
              "#46039f"
             ],
             [
              0.2222222222222222,
              "#7201a8"
             ],
             [
              0.3333333333333333,
              "#9c179e"
             ],
             [
              0.4444444444444444,
              "#bd3786"
             ],
             [
              0.5555555555555556,
              "#d8576b"
             ],
             [
              0.6666666666666666,
              "#ed7953"
             ],
             [
              0.7777777777777778,
              "#fb9f3a"
             ],
             [
              0.8888888888888888,
              "#fdca26"
             ],
             [
              1,
              "#f0f921"
             ]
            ],
            "type": "heatmap"
           }
          ],
          "heatmapgl": [
           {
            "colorbar": {
             "outlinewidth": 0,
             "ticks": ""
            },
            "colorscale": [
             [
              0,
              "#0d0887"
             ],
             [
              0.1111111111111111,
              "#46039f"
             ],
             [
              0.2222222222222222,
              "#7201a8"
             ],
             [
              0.3333333333333333,
              "#9c179e"
             ],
             [
              0.4444444444444444,
              "#bd3786"
             ],
             [
              0.5555555555555556,
              "#d8576b"
             ],
             [
              0.6666666666666666,
              "#ed7953"
             ],
             [
              0.7777777777777778,
              "#fb9f3a"
             ],
             [
              0.8888888888888888,
              "#fdca26"
             ],
             [
              1,
              "#f0f921"
             ]
            ],
            "type": "heatmapgl"
           }
          ],
          "histogram": [
           {
            "marker": {
             "pattern": {
              "fillmode": "overlay",
              "size": 10,
              "solidity": 0.2
             }
            },
            "type": "histogram"
           }
          ],
          "histogram2d": [
           {
            "colorbar": {
             "outlinewidth": 0,
             "ticks": ""
            },
            "colorscale": [
             [
              0,
              "#0d0887"
             ],
             [
              0.1111111111111111,
              "#46039f"
             ],
             [
              0.2222222222222222,
              "#7201a8"
             ],
             [
              0.3333333333333333,
              "#9c179e"
             ],
             [
              0.4444444444444444,
              "#bd3786"
             ],
             [
              0.5555555555555556,
              "#d8576b"
             ],
             [
              0.6666666666666666,
              "#ed7953"
             ],
             [
              0.7777777777777778,
              "#fb9f3a"
             ],
             [
              0.8888888888888888,
              "#fdca26"
             ],
             [
              1,
              "#f0f921"
             ]
            ],
            "type": "histogram2d"
           }
          ],
          "histogram2dcontour": [
           {
            "colorbar": {
             "outlinewidth": 0,
             "ticks": ""
            },
            "colorscale": [
             [
              0,
              "#0d0887"
             ],
             [
              0.1111111111111111,
              "#46039f"
             ],
             [
              0.2222222222222222,
              "#7201a8"
             ],
             [
              0.3333333333333333,
              "#9c179e"
             ],
             [
              0.4444444444444444,
              "#bd3786"
             ],
             [
              0.5555555555555556,
              "#d8576b"
             ],
             [
              0.6666666666666666,
              "#ed7953"
             ],
             [
              0.7777777777777778,
              "#fb9f3a"
             ],
             [
              0.8888888888888888,
              "#fdca26"
             ],
             [
              1,
              "#f0f921"
             ]
            ],
            "type": "histogram2dcontour"
           }
          ],
          "mesh3d": [
           {
            "colorbar": {
             "outlinewidth": 0,
             "ticks": ""
            },
            "type": "mesh3d"
           }
          ],
          "parcoords": [
           {
            "line": {
             "colorbar": {
              "outlinewidth": 0,
              "ticks": ""
             }
            },
            "type": "parcoords"
           }
          ],
          "pie": [
           {
            "automargin": true,
            "type": "pie"
           }
          ],
          "scatter": [
           {
            "fillpattern": {
             "fillmode": "overlay",
             "size": 10,
             "solidity": 0.2
            },
            "type": "scatter"
           }
          ],
          "scatter3d": [
           {
            "line": {
             "colorbar": {
              "outlinewidth": 0,
              "ticks": ""
             }
            },
            "marker": {
             "colorbar": {
              "outlinewidth": 0,
              "ticks": ""
             }
            },
            "type": "scatter3d"
           }
          ],
          "scattercarpet": [
           {
            "marker": {
             "colorbar": {
              "outlinewidth": 0,
              "ticks": ""
             }
            },
            "type": "scattercarpet"
           }
          ],
          "scattergeo": [
           {
            "marker": {
             "colorbar": {
              "outlinewidth": 0,
              "ticks": ""
             }
            },
            "type": "scattergeo"
           }
          ],
          "scattergl": [
           {
            "marker": {
             "colorbar": {
              "outlinewidth": 0,
              "ticks": ""
             }
            },
            "type": "scattergl"
           }
          ],
          "scattermapbox": [
           {
            "marker": {
             "colorbar": {
              "outlinewidth": 0,
              "ticks": ""
             }
            },
            "type": "scattermapbox"
           }
          ],
          "scatterpolar": [
           {
            "marker": {
             "colorbar": {
              "outlinewidth": 0,
              "ticks": ""
             }
            },
            "type": "scatterpolar"
           }
          ],
          "scatterpolargl": [
           {
            "marker": {
             "colorbar": {
              "outlinewidth": 0,
              "ticks": ""
             }
            },
            "type": "scatterpolargl"
           }
          ],
          "scatterternary": [
           {
            "marker": {
             "colorbar": {
              "outlinewidth": 0,
              "ticks": ""
             }
            },
            "type": "scatterternary"
           }
          ],
          "surface": [
           {
            "colorbar": {
             "outlinewidth": 0,
             "ticks": ""
            },
            "colorscale": [
             [
              0,
              "#0d0887"
             ],
             [
              0.1111111111111111,
              "#46039f"
             ],
             [
              0.2222222222222222,
              "#7201a8"
             ],
             [
              0.3333333333333333,
              "#9c179e"
             ],
             [
              0.4444444444444444,
              "#bd3786"
             ],
             [
              0.5555555555555556,
              "#d8576b"
             ],
             [
              0.6666666666666666,
              "#ed7953"
             ],
             [
              0.7777777777777778,
              "#fb9f3a"
             ],
             [
              0.8888888888888888,
              "#fdca26"
             ],
             [
              1,
              "#f0f921"
             ]
            ],
            "type": "surface"
           }
          ],
          "table": [
           {
            "cells": {
             "fill": {
              "color": "#EBF0F8"
             },
             "line": {
              "color": "white"
             }
            },
            "header": {
             "fill": {
              "color": "#C8D4E3"
             },
             "line": {
              "color": "white"
             }
            },
            "type": "table"
           }
          ]
         },
         "layout": {
          "annotationdefaults": {
           "arrowcolor": "#2a3f5f",
           "arrowhead": 0,
           "arrowwidth": 1
          },
          "autotypenumbers": "strict",
          "coloraxis": {
           "colorbar": {
            "outlinewidth": 0,
            "ticks": ""
           }
          },
          "colorscale": {
           "diverging": [
            [
             0,
             "#8e0152"
            ],
            [
             0.1,
             "#c51b7d"
            ],
            [
             0.2,
             "#de77ae"
            ],
            [
             0.3,
             "#f1b6da"
            ],
            [
             0.4,
             "#fde0ef"
            ],
            [
             0.5,
             "#f7f7f7"
            ],
            [
             0.6,
             "#e6f5d0"
            ],
            [
             0.7,
             "#b8e186"
            ],
            [
             0.8,
             "#7fbc41"
            ],
            [
             0.9,
             "#4d9221"
            ],
            [
             1,
             "#276419"
            ]
           ],
           "sequential": [
            [
             0,
             "#0d0887"
            ],
            [
             0.1111111111111111,
             "#46039f"
            ],
            [
             0.2222222222222222,
             "#7201a8"
            ],
            [
             0.3333333333333333,
             "#9c179e"
            ],
            [
             0.4444444444444444,
             "#bd3786"
            ],
            [
             0.5555555555555556,
             "#d8576b"
            ],
            [
             0.6666666666666666,
             "#ed7953"
            ],
            [
             0.7777777777777778,
             "#fb9f3a"
            ],
            [
             0.8888888888888888,
             "#fdca26"
            ],
            [
             1,
             "#f0f921"
            ]
           ],
           "sequentialminus": [
            [
             0,
             "#0d0887"
            ],
            [
             0.1111111111111111,
             "#46039f"
            ],
            [
             0.2222222222222222,
             "#7201a8"
            ],
            [
             0.3333333333333333,
             "#9c179e"
            ],
            [
             0.4444444444444444,
             "#bd3786"
            ],
            [
             0.5555555555555556,
             "#d8576b"
            ],
            [
             0.6666666666666666,
             "#ed7953"
            ],
            [
             0.7777777777777778,
             "#fb9f3a"
            ],
            [
             0.8888888888888888,
             "#fdca26"
            ],
            [
             1,
             "#f0f921"
            ]
           ]
          },
          "colorway": [
           "#636efa",
           "#EF553B",
           "#00cc96",
           "#ab63fa",
           "#FFA15A",
           "#19d3f3",
           "#FF6692",
           "#B6E880",
           "#FF97FF",
           "#FECB52"
          ],
          "font": {
           "color": "#2a3f5f"
          },
          "geo": {
           "bgcolor": "white",
           "lakecolor": "white",
           "landcolor": "#E5ECF6",
           "showlakes": true,
           "showland": true,
           "subunitcolor": "white"
          },
          "hoverlabel": {
           "align": "left"
          },
          "hovermode": "closest",
          "mapbox": {
           "style": "light"
          },
          "paper_bgcolor": "white",
          "plot_bgcolor": "#E5ECF6",
          "polar": {
           "angularaxis": {
            "gridcolor": "white",
            "linecolor": "white",
            "ticks": ""
           },
           "bgcolor": "#E5ECF6",
           "radialaxis": {
            "gridcolor": "white",
            "linecolor": "white",
            "ticks": ""
           }
          },
          "scene": {
           "xaxis": {
            "backgroundcolor": "#E5ECF6",
            "gridcolor": "white",
            "gridwidth": 2,
            "linecolor": "white",
            "showbackground": true,
            "ticks": "",
            "zerolinecolor": "white"
           },
           "yaxis": {
            "backgroundcolor": "#E5ECF6",
            "gridcolor": "white",
            "gridwidth": 2,
            "linecolor": "white",
            "showbackground": true,
            "ticks": "",
            "zerolinecolor": "white"
           },
           "zaxis": {
            "backgroundcolor": "#E5ECF6",
            "gridcolor": "white",
            "gridwidth": 2,
            "linecolor": "white",
            "showbackground": true,
            "ticks": "",
            "zerolinecolor": "white"
           }
          },
          "shapedefaults": {
           "line": {
            "color": "#2a3f5f"
           }
          },
          "ternary": {
           "aaxis": {
            "gridcolor": "white",
            "linecolor": "white",
            "ticks": ""
           },
           "baxis": {
            "gridcolor": "white",
            "linecolor": "white",
            "ticks": ""
           },
           "bgcolor": "#E5ECF6",
           "caxis": {
            "gridcolor": "white",
            "linecolor": "white",
            "ticks": ""
           }
          },
          "title": {
           "x": 0.05
          },
          "xaxis": {
           "automargin": true,
           "gridcolor": "white",
           "linecolor": "white",
           "ticks": "",
           "title": {
            "standoff": 15
           },
           "zerolinecolor": "white",
           "zerolinewidth": 2
          },
          "yaxis": {
           "automargin": true,
           "gridcolor": "white",
           "linecolor": "white",
           "ticks": "",
           "title": {
            "standoff": 15
           },
           "zerolinecolor": "white",
           "zerolinewidth": 2
          }
         }
        },
        "title": {
         "text": "ROS Packages Downloaded By Architecture - October 2022 vs 2023 October"
        }
       }
      },
      "text/html": [
       "<div>                            <div id=\"5f5a47ba-55be-41c9-b1b9-20e0ca7fdda9\" class=\"plotly-graph-div\" style=\"height:525px; width:100%;\"></div>            <script type=\"text/javascript\">                require([\"plotly\"], function(Plotly) {                    window.PLOTLYENV=window.PLOTLYENV || {};                                    if (document.getElementById(\"5f5a47ba-55be-41c9-b1b9-20e0ca7fdda9\")) {                    Plotly.newPlot(                        \"5f5a47ba-55be-41c9-b1b9-20e0ca7fdda9\",                        [{\"domain\":{\"x\":[0.5,1]},\"labels\":[\"i386\",\"amd64\",\"armhf\",\"arm64\",\"source\"],\"title\":{\"text\":\"2023\"},\"values\":[0.12,83.69,0.27,9.18,0.0],\"type\":\"pie\"},{\"domain\":{\"x\":[0.0,0.5]},\"labels\":[\"i386\",\"amd64\",\"armhf\",\"arm64\",\"source\"],\"title\":{\"text\":\"2022\"},\"values\":[0.13,86.64,0.29,7.6,0.0],\"type\":\"pie\"}],                        {\"title\":{\"text\":\"ROS Packages Downloaded By Architecture - October 2022 vs 2023 October\"},\"template\":{\"data\":{\"histogram2dcontour\":[{\"type\":\"histogram2dcontour\",\"colorbar\":{\"outlinewidth\":0,\"ticks\":\"\"},\"colorscale\":[[0.0,\"#0d0887\"],[0.1111111111111111,\"#46039f\"],[0.2222222222222222,\"#7201a8\"],[0.3333333333333333,\"#9c179e\"],[0.4444444444444444,\"#bd3786\"],[0.5555555555555556,\"#d8576b\"],[0.6666666666666666,\"#ed7953\"],[0.7777777777777778,\"#fb9f3a\"],[0.8888888888888888,\"#fdca26\"],[1.0,\"#f0f921\"]]}],\"choropleth\":[{\"type\":\"choropleth\",\"colorbar\":{\"outlinewidth\":0,\"ticks\":\"\"}}],\"histogram2d\":[{\"type\":\"histogram2d\",\"colorbar\":{\"outlinewidth\":0,\"ticks\":\"\"},\"colorscale\":[[0.0,\"#0d0887\"],[0.1111111111111111,\"#46039f\"],[0.2222222222222222,\"#7201a8\"],[0.3333333333333333,\"#9c179e\"],[0.4444444444444444,\"#bd3786\"],[0.5555555555555556,\"#d8576b\"],[0.6666666666666666,\"#ed7953\"],[0.7777777777777778,\"#fb9f3a\"],[0.8888888888888888,\"#fdca26\"],[1.0,\"#f0f921\"]]}],\"heatmap\":[{\"type\":\"heatmap\",\"colorbar\":{\"outlinewidth\":0,\"ticks\":\"\"},\"colorscale\":[[0.0,\"#0d0887\"],[0.1111111111111111,\"#46039f\"],[0.2222222222222222,\"#7201a8\"],[0.3333333333333333,\"#9c179e\"],[0.4444444444444444,\"#bd3786\"],[0.5555555555555556,\"#d8576b\"],[0.6666666666666666,\"#ed7953\"],[0.7777777777777778,\"#fb9f3a\"],[0.8888888888888888,\"#fdca26\"],[1.0,\"#f0f921\"]]}],\"heatmapgl\":[{\"type\":\"heatmapgl\",\"colorbar\":{\"outlinewidth\":0,\"ticks\":\"\"},\"colorscale\":[[0.0,\"#0d0887\"],[0.1111111111111111,\"#46039f\"],[0.2222222222222222,\"#7201a8\"],[0.3333333333333333,\"#9c179e\"],[0.4444444444444444,\"#bd3786\"],[0.5555555555555556,\"#d8576b\"],[0.6666666666666666,\"#ed7953\"],[0.7777777777777778,\"#fb9f3a\"],[0.8888888888888888,\"#fdca26\"],[1.0,\"#f0f921\"]]}],\"contourcarpet\":[{\"type\":\"contourcarpet\",\"colorbar\":{\"outlinewidth\":0,\"ticks\":\"\"}}],\"contour\":[{\"type\":\"contour\",\"colorbar\":{\"outlinewidth\":0,\"ticks\":\"\"},\"colorscale\":[[0.0,\"#0d0887\"],[0.1111111111111111,\"#46039f\"],[0.2222222222222222,\"#7201a8\"],[0.3333333333333333,\"#9c179e\"],[0.4444444444444444,\"#bd3786\"],[0.5555555555555556,\"#d8576b\"],[0.6666666666666666,\"#ed7953\"],[0.7777777777777778,\"#fb9f3a\"],[0.8888888888888888,\"#fdca26\"],[1.0,\"#f0f921\"]]}],\"surface\":[{\"type\":\"surface\",\"colorbar\":{\"outlinewidth\":0,\"ticks\":\"\"},\"colorscale\":[[0.0,\"#0d0887\"],[0.1111111111111111,\"#46039f\"],[0.2222222222222222,\"#7201a8\"],[0.3333333333333333,\"#9c179e\"],[0.4444444444444444,\"#bd3786\"],[0.5555555555555556,\"#d8576b\"],[0.6666666666666666,\"#ed7953\"],[0.7777777777777778,\"#fb9f3a\"],[0.8888888888888888,\"#fdca26\"],[1.0,\"#f0f921\"]]}],\"mesh3d\":[{\"type\":\"mesh3d\",\"colorbar\":{\"outlinewidth\":0,\"ticks\":\"\"}}],\"scatter\":[{\"fillpattern\":{\"fillmode\":\"overlay\",\"size\":10,\"solidity\":0.2},\"type\":\"scatter\"}],\"parcoords\":[{\"type\":\"parcoords\",\"line\":{\"colorbar\":{\"outlinewidth\":0,\"ticks\":\"\"}}}],\"scatterpolargl\":[{\"type\":\"scatterpolargl\",\"marker\":{\"colorbar\":{\"outlinewidth\":0,\"ticks\":\"\"}}}],\"bar\":[{\"error_x\":{\"color\":\"#2a3f5f\"},\"error_y\":{\"color\":\"#2a3f5f\"},\"marker\":{\"line\":{\"color\":\"#E5ECF6\",\"width\":0.5},\"pattern\":{\"fillmode\":\"overlay\",\"size\":10,\"solidity\":0.2}},\"type\":\"bar\"}],\"scattergeo\":[{\"type\":\"scattergeo\",\"marker\":{\"colorbar\":{\"outlinewidth\":0,\"ticks\":\"\"}}}],\"scatterpolar\":[{\"type\":\"scatterpolar\",\"marker\":{\"colorbar\":{\"outlinewidth\":0,\"ticks\":\"\"}}}],\"histogram\":[{\"marker\":{\"pattern\":{\"fillmode\":\"overlay\",\"size\":10,\"solidity\":0.2}},\"type\":\"histogram\"}],\"scattergl\":[{\"type\":\"scattergl\",\"marker\":{\"colorbar\":{\"outlinewidth\":0,\"ticks\":\"\"}}}],\"scatter3d\":[{\"type\":\"scatter3d\",\"line\":{\"colorbar\":{\"outlinewidth\":0,\"ticks\":\"\"}},\"marker\":{\"colorbar\":{\"outlinewidth\":0,\"ticks\":\"\"}}}],\"scattermapbox\":[{\"type\":\"scattermapbox\",\"marker\":{\"colorbar\":{\"outlinewidth\":0,\"ticks\":\"\"}}}],\"scatterternary\":[{\"type\":\"scatterternary\",\"marker\":{\"colorbar\":{\"outlinewidth\":0,\"ticks\":\"\"}}}],\"scattercarpet\":[{\"type\":\"scattercarpet\",\"marker\":{\"colorbar\":{\"outlinewidth\":0,\"ticks\":\"\"}}}],\"carpet\":[{\"aaxis\":{\"endlinecolor\":\"#2a3f5f\",\"gridcolor\":\"white\",\"linecolor\":\"white\",\"minorgridcolor\":\"white\",\"startlinecolor\":\"#2a3f5f\"},\"baxis\":{\"endlinecolor\":\"#2a3f5f\",\"gridcolor\":\"white\",\"linecolor\":\"white\",\"minorgridcolor\":\"white\",\"startlinecolor\":\"#2a3f5f\"},\"type\":\"carpet\"}],\"table\":[{\"cells\":{\"fill\":{\"color\":\"#EBF0F8\"},\"line\":{\"color\":\"white\"}},\"header\":{\"fill\":{\"color\":\"#C8D4E3\"},\"line\":{\"color\":\"white\"}},\"type\":\"table\"}],\"barpolar\":[{\"marker\":{\"line\":{\"color\":\"#E5ECF6\",\"width\":0.5},\"pattern\":{\"fillmode\":\"overlay\",\"size\":10,\"solidity\":0.2}},\"type\":\"barpolar\"}],\"pie\":[{\"automargin\":true,\"type\":\"pie\"}]},\"layout\":{\"autotypenumbers\":\"strict\",\"colorway\":[\"#636efa\",\"#EF553B\",\"#00cc96\",\"#ab63fa\",\"#FFA15A\",\"#19d3f3\",\"#FF6692\",\"#B6E880\",\"#FF97FF\",\"#FECB52\"],\"font\":{\"color\":\"#2a3f5f\"},\"hovermode\":\"closest\",\"hoverlabel\":{\"align\":\"left\"},\"paper_bgcolor\":\"white\",\"plot_bgcolor\":\"#E5ECF6\",\"polar\":{\"bgcolor\":\"#E5ECF6\",\"angularaxis\":{\"gridcolor\":\"white\",\"linecolor\":\"white\",\"ticks\":\"\"},\"radialaxis\":{\"gridcolor\":\"white\",\"linecolor\":\"white\",\"ticks\":\"\"}},\"ternary\":{\"bgcolor\":\"#E5ECF6\",\"aaxis\":{\"gridcolor\":\"white\",\"linecolor\":\"white\",\"ticks\":\"\"},\"baxis\":{\"gridcolor\":\"white\",\"linecolor\":\"white\",\"ticks\":\"\"},\"caxis\":{\"gridcolor\":\"white\",\"linecolor\":\"white\",\"ticks\":\"\"}},\"coloraxis\":{\"colorbar\":{\"outlinewidth\":0,\"ticks\":\"\"}},\"colorscale\":{\"sequential\":[[0.0,\"#0d0887\"],[0.1111111111111111,\"#46039f\"],[0.2222222222222222,\"#7201a8\"],[0.3333333333333333,\"#9c179e\"],[0.4444444444444444,\"#bd3786\"],[0.5555555555555556,\"#d8576b\"],[0.6666666666666666,\"#ed7953\"],[0.7777777777777778,\"#fb9f3a\"],[0.8888888888888888,\"#fdca26\"],[1.0,\"#f0f921\"]],\"sequentialminus\":[[0.0,\"#0d0887\"],[0.1111111111111111,\"#46039f\"],[0.2222222222222222,\"#7201a8\"],[0.3333333333333333,\"#9c179e\"],[0.4444444444444444,\"#bd3786\"],[0.5555555555555556,\"#d8576b\"],[0.6666666666666666,\"#ed7953\"],[0.7777777777777778,\"#fb9f3a\"],[0.8888888888888888,\"#fdca26\"],[1.0,\"#f0f921\"]],\"diverging\":[[0,\"#8e0152\"],[0.1,\"#c51b7d\"],[0.2,\"#de77ae\"],[0.3,\"#f1b6da\"],[0.4,\"#fde0ef\"],[0.5,\"#f7f7f7\"],[0.6,\"#e6f5d0\"],[0.7,\"#b8e186\"],[0.8,\"#7fbc41\"],[0.9,\"#4d9221\"],[1,\"#276419\"]]},\"xaxis\":{\"gridcolor\":\"white\",\"linecolor\":\"white\",\"ticks\":\"\",\"title\":{\"standoff\":15},\"zerolinecolor\":\"white\",\"automargin\":true,\"zerolinewidth\":2},\"yaxis\":{\"gridcolor\":\"white\",\"linecolor\":\"white\",\"ticks\":\"\",\"title\":{\"standoff\":15},\"zerolinecolor\":\"white\",\"automargin\":true,\"zerolinewidth\":2},\"scene\":{\"xaxis\":{\"backgroundcolor\":\"#E5ECF6\",\"gridcolor\":\"white\",\"linecolor\":\"white\",\"showbackground\":true,\"ticks\":\"\",\"zerolinecolor\":\"white\",\"gridwidth\":2},\"yaxis\":{\"backgroundcolor\":\"#E5ECF6\",\"gridcolor\":\"white\",\"linecolor\":\"white\",\"showbackground\":true,\"ticks\":\"\",\"zerolinecolor\":\"white\",\"gridwidth\":2},\"zaxis\":{\"backgroundcolor\":\"#E5ECF6\",\"gridcolor\":\"white\",\"linecolor\":\"white\",\"showbackground\":true,\"ticks\":\"\",\"zerolinecolor\":\"white\",\"gridwidth\":2}},\"shapedefaults\":{\"line\":{\"color\":\"#2a3f5f\"}},\"annotationdefaults\":{\"arrowcolor\":\"#2a3f5f\",\"arrowhead\":0,\"arrowwidth\":1},\"geo\":{\"bgcolor\":\"white\",\"landcolor\":\"#E5ECF6\",\"subunitcolor\":\"white\",\"showland\":true,\"showlakes\":true,\"lakecolor\":\"white\"},\"title\":{\"x\":0.05},\"mapbox\":{\"style\":\"light\"}}}},                        {\"responsive\": true}                    ).then(function(){\n",
       "                            \n",
       "var gd = document.getElementById('5f5a47ba-55be-41c9-b1b9-20e0ca7fdda9');\n",
       "var x = new MutationObserver(function (mutations, observer) {{\n",
       "        var display = window.getComputedStyle(gd).display;\n",
       "        if (!display || display === 'none') {{\n",
       "            console.log([gd, 'removed!']);\n",
       "            Plotly.purge(gd);\n",
       "            observer.disconnect();\n",
       "        }}\n",
       "}});\n",
       "\n",
       "// Listen for the removal of the full notebook cells\n",
       "var notebookContainer = gd.closest('#notebook-container');\n",
       "if (notebookContainer) {{\n",
       "    x.observe(notebookContainer, {childList: true});\n",
       "}}\n",
       "\n",
       "// Listen for the clearing of the current output cell\n",
       "var outputEl = gd.closest('.output');\n",
       "if (outputEl) {{\n",
       "    x.observe(outputEl, {childList: true});\n",
       "}}\n",
       "\n",
       "                        })                };                });            </script>        </div>"
      ]
     },
     "metadata": {},
     "output_type": "display_data"
    }
   ],
   "source": [
    "# Download percentages by year\n",
    "temp[\"diff\"]=temp[this_year]-temp[last_year]\n",
    "temp = arch_df[arch_os_df[this_year]>0.00001]\n",
    "\n",
    "trace1 = go.Pie(values= temp[this_year], labels = temp[\"name\"],domain=dict(x=[0.5, 1]),title=this_year)\n",
    "trace2 = go.Pie(values= temp[last_year], labels = temp[\"name\"],domain=dict(x=[0.0,0.5]),title=last_year)\n",
    "\n",
    "layout = go.Layout(title=\"ROS Packages Downloaded By Architecture - {0} {1} vs {2} {3}\".format(last_month,last_year,this_year,this_month))\n",
    "data = [trace1, trace2]\n",
    "fig = go.Figure(data=data, layout=layout)\n",
    "fig.show()"
   ]
  },
  {
   "cell_type": "code",
   "execution_count": null,
   "metadata": {},
   "outputs": [],
   "source": []
  },
  {
   "cell_type": "code",
   "execution_count": 99,
   "metadata": {},
   "outputs": [
    {
     "data": {
      "application/vnd.plotly.v1+json": {
       "config": {
        "plotlyServerURL": "https://plot.ly"
       },
       "data": [
        {
         "alignmentgroup": "True",
         "hovertemplate": "variable=2023<br>name=%{x}<br>value=%{y}<extra></extra>",
         "legendgroup": "2023",
         "marker": {
          "color": "#636efa",
          "pattern": {
           "shape": ""
          }
         },
         "name": "2023",
         "offsetgroup": "2023",
         "orientation": "v",
         "showlegend": true,
         "textposition": "auto",
         "type": "bar",
         "x": [
          "boxturtle",
          "cturtle",
          "diamondback",
          "electric",
          "fuerte",
          "groovy",
          "hydro",
          "indigo",
          "jade",
          "kinetic",
          "lunar",
          "melodic",
          "noetic",
          "ardent",
          "bouncy",
          "crystal",
          "dashing",
          "eloquent",
          "foxy",
          "galactic",
          "humble",
          "iron",
          "rolling"
         ],
         "xaxis": "x",
         "y": [
          0,
          0,
          0,
          0,
          0,
          0,
          0,
          0.24,
          0,
          1.14,
          0.04,
          5.66,
          30.51,
          0,
          0,
          0.01,
          0.2,
          0.16,
          6.37,
          2.33,
          32.79,
          4.97,
          4.82
         ],
         "yaxis": "y"
        },
        {
         "alignmentgroup": "True",
         "hovertemplate": "variable=2022<br>name=%{x}<br>value=%{y}<extra></extra>",
         "legendgroup": "2022",
         "marker": {
          "color": "#EF553B",
          "pattern": {
           "shape": ""
          }
         },
         "name": "2022",
         "offsetgroup": "2022",
         "orientation": "v",
         "showlegend": true,
         "textposition": "auto",
         "type": "bar",
         "x": [
          "boxturtle",
          "cturtle",
          "diamondback",
          "electric",
          "fuerte",
          "groovy",
          "hydro",
          "indigo",
          "jade",
          "kinetic",
          "lunar",
          "melodic",
          "noetic",
          "ardent",
          "bouncy",
          "crystal",
          "dashing",
          "eloquent",
          "foxy",
          "galactic",
          "humble",
          "iron",
          "rolling"
         ],
         "xaxis": "x",
         "y": [
          0,
          0,
          0,
          0,
          0,
          0,
          0,
          0.41,
          0,
          2.12,
          0.04,
          17.19,
          34.8,
          0,
          0,
          0.01,
          0.51,
          0.46,
          13.59,
          8.12,
          10.04,
          0,
          3.38
         ],
         "yaxis": "y"
        }
       ],
       "layout": {
        "barmode": "relative",
        "legend": {
         "title": {
          "text": "variable"
         },
         "tracegroupgap": 0
        },
        "template": {
         "data": {
          "bar": [
           {
            "error_x": {
             "color": "#2a3f5f"
            },
            "error_y": {
             "color": "#2a3f5f"
            },
            "marker": {
             "line": {
              "color": "#E5ECF6",
              "width": 0.5
             },
             "pattern": {
              "fillmode": "overlay",
              "size": 10,
              "solidity": 0.2
             }
            },
            "type": "bar"
           }
          ],
          "barpolar": [
           {
            "marker": {
             "line": {
              "color": "#E5ECF6",
              "width": 0.5
             },
             "pattern": {
              "fillmode": "overlay",
              "size": 10,
              "solidity": 0.2
             }
            },
            "type": "barpolar"
           }
          ],
          "carpet": [
           {
            "aaxis": {
             "endlinecolor": "#2a3f5f",
             "gridcolor": "white",
             "linecolor": "white",
             "minorgridcolor": "white",
             "startlinecolor": "#2a3f5f"
            },
            "baxis": {
             "endlinecolor": "#2a3f5f",
             "gridcolor": "white",
             "linecolor": "white",
             "minorgridcolor": "white",
             "startlinecolor": "#2a3f5f"
            },
            "type": "carpet"
           }
          ],
          "choropleth": [
           {
            "colorbar": {
             "outlinewidth": 0,
             "ticks": ""
            },
            "type": "choropleth"
           }
          ],
          "contour": [
           {
            "colorbar": {
             "outlinewidth": 0,
             "ticks": ""
            },
            "colorscale": [
             [
              0,
              "#0d0887"
             ],
             [
              0.1111111111111111,
              "#46039f"
             ],
             [
              0.2222222222222222,
              "#7201a8"
             ],
             [
              0.3333333333333333,
              "#9c179e"
             ],
             [
              0.4444444444444444,
              "#bd3786"
             ],
             [
              0.5555555555555556,
              "#d8576b"
             ],
             [
              0.6666666666666666,
              "#ed7953"
             ],
             [
              0.7777777777777778,
              "#fb9f3a"
             ],
             [
              0.8888888888888888,
              "#fdca26"
             ],
             [
              1,
              "#f0f921"
             ]
            ],
            "type": "contour"
           }
          ],
          "contourcarpet": [
           {
            "colorbar": {
             "outlinewidth": 0,
             "ticks": ""
            },
            "type": "contourcarpet"
           }
          ],
          "heatmap": [
           {
            "colorbar": {
             "outlinewidth": 0,
             "ticks": ""
            },
            "colorscale": [
             [
              0,
              "#0d0887"
             ],
             [
              0.1111111111111111,
              "#46039f"
             ],
             [
              0.2222222222222222,
              "#7201a8"
             ],
             [
              0.3333333333333333,
              "#9c179e"
             ],
             [
              0.4444444444444444,
              "#bd3786"
             ],
             [
              0.5555555555555556,
              "#d8576b"
             ],
             [
              0.6666666666666666,
              "#ed7953"
             ],
             [
              0.7777777777777778,
              "#fb9f3a"
             ],
             [
              0.8888888888888888,
              "#fdca26"
             ],
             [
              1,
              "#f0f921"
             ]
            ],
            "type": "heatmap"
           }
          ],
          "heatmapgl": [
           {
            "colorbar": {
             "outlinewidth": 0,
             "ticks": ""
            },
            "colorscale": [
             [
              0,
              "#0d0887"
             ],
             [
              0.1111111111111111,
              "#46039f"
             ],
             [
              0.2222222222222222,
              "#7201a8"
             ],
             [
              0.3333333333333333,
              "#9c179e"
             ],
             [
              0.4444444444444444,
              "#bd3786"
             ],
             [
              0.5555555555555556,
              "#d8576b"
             ],
             [
              0.6666666666666666,
              "#ed7953"
             ],
             [
              0.7777777777777778,
              "#fb9f3a"
             ],
             [
              0.8888888888888888,
              "#fdca26"
             ],
             [
              1,
              "#f0f921"
             ]
            ],
            "type": "heatmapgl"
           }
          ],
          "histogram": [
           {
            "marker": {
             "pattern": {
              "fillmode": "overlay",
              "size": 10,
              "solidity": 0.2
             }
            },
            "type": "histogram"
           }
          ],
          "histogram2d": [
           {
            "colorbar": {
             "outlinewidth": 0,
             "ticks": ""
            },
            "colorscale": [
             [
              0,
              "#0d0887"
             ],
             [
              0.1111111111111111,
              "#46039f"
             ],
             [
              0.2222222222222222,
              "#7201a8"
             ],
             [
              0.3333333333333333,
              "#9c179e"
             ],
             [
              0.4444444444444444,
              "#bd3786"
             ],
             [
              0.5555555555555556,
              "#d8576b"
             ],
             [
              0.6666666666666666,
              "#ed7953"
             ],
             [
              0.7777777777777778,
              "#fb9f3a"
             ],
             [
              0.8888888888888888,
              "#fdca26"
             ],
             [
              1,
              "#f0f921"
             ]
            ],
            "type": "histogram2d"
           }
          ],
          "histogram2dcontour": [
           {
            "colorbar": {
             "outlinewidth": 0,
             "ticks": ""
            },
            "colorscale": [
             [
              0,
              "#0d0887"
             ],
             [
              0.1111111111111111,
              "#46039f"
             ],
             [
              0.2222222222222222,
              "#7201a8"
             ],
             [
              0.3333333333333333,
              "#9c179e"
             ],
             [
              0.4444444444444444,
              "#bd3786"
             ],
             [
              0.5555555555555556,
              "#d8576b"
             ],
             [
              0.6666666666666666,
              "#ed7953"
             ],
             [
              0.7777777777777778,
              "#fb9f3a"
             ],
             [
              0.8888888888888888,
              "#fdca26"
             ],
             [
              1,
              "#f0f921"
             ]
            ],
            "type": "histogram2dcontour"
           }
          ],
          "mesh3d": [
           {
            "colorbar": {
             "outlinewidth": 0,
             "ticks": ""
            },
            "type": "mesh3d"
           }
          ],
          "parcoords": [
           {
            "line": {
             "colorbar": {
              "outlinewidth": 0,
              "ticks": ""
             }
            },
            "type": "parcoords"
           }
          ],
          "pie": [
           {
            "automargin": true,
            "type": "pie"
           }
          ],
          "scatter": [
           {
            "fillpattern": {
             "fillmode": "overlay",
             "size": 10,
             "solidity": 0.2
            },
            "type": "scatter"
           }
          ],
          "scatter3d": [
           {
            "line": {
             "colorbar": {
              "outlinewidth": 0,
              "ticks": ""
             }
            },
            "marker": {
             "colorbar": {
              "outlinewidth": 0,
              "ticks": ""
             }
            },
            "type": "scatter3d"
           }
          ],
          "scattercarpet": [
           {
            "marker": {
             "colorbar": {
              "outlinewidth": 0,
              "ticks": ""
             }
            },
            "type": "scattercarpet"
           }
          ],
          "scattergeo": [
           {
            "marker": {
             "colorbar": {
              "outlinewidth": 0,
              "ticks": ""
             }
            },
            "type": "scattergeo"
           }
          ],
          "scattergl": [
           {
            "marker": {
             "colorbar": {
              "outlinewidth": 0,
              "ticks": ""
             }
            },
            "type": "scattergl"
           }
          ],
          "scattermapbox": [
           {
            "marker": {
             "colorbar": {
              "outlinewidth": 0,
              "ticks": ""
             }
            },
            "type": "scattermapbox"
           }
          ],
          "scatterpolar": [
           {
            "marker": {
             "colorbar": {
              "outlinewidth": 0,
              "ticks": ""
             }
            },
            "type": "scatterpolar"
           }
          ],
          "scatterpolargl": [
           {
            "marker": {
             "colorbar": {
              "outlinewidth": 0,
              "ticks": ""
             }
            },
            "type": "scatterpolargl"
           }
          ],
          "scatterternary": [
           {
            "marker": {
             "colorbar": {
              "outlinewidth": 0,
              "ticks": ""
             }
            },
            "type": "scatterternary"
           }
          ],
          "surface": [
           {
            "colorbar": {
             "outlinewidth": 0,
             "ticks": ""
            },
            "colorscale": [
             [
              0,
              "#0d0887"
             ],
             [
              0.1111111111111111,
              "#46039f"
             ],
             [
              0.2222222222222222,
              "#7201a8"
             ],
             [
              0.3333333333333333,
              "#9c179e"
             ],
             [
              0.4444444444444444,
              "#bd3786"
             ],
             [
              0.5555555555555556,
              "#d8576b"
             ],
             [
              0.6666666666666666,
              "#ed7953"
             ],
             [
              0.7777777777777778,
              "#fb9f3a"
             ],
             [
              0.8888888888888888,
              "#fdca26"
             ],
             [
              1,
              "#f0f921"
             ]
            ],
            "type": "surface"
           }
          ],
          "table": [
           {
            "cells": {
             "fill": {
              "color": "#EBF0F8"
             },
             "line": {
              "color": "white"
             }
            },
            "header": {
             "fill": {
              "color": "#C8D4E3"
             },
             "line": {
              "color": "white"
             }
            },
            "type": "table"
           }
          ]
         },
         "layout": {
          "annotationdefaults": {
           "arrowcolor": "#2a3f5f",
           "arrowhead": 0,
           "arrowwidth": 1
          },
          "autotypenumbers": "strict",
          "coloraxis": {
           "colorbar": {
            "outlinewidth": 0,
            "ticks": ""
           }
          },
          "colorscale": {
           "diverging": [
            [
             0,
             "#8e0152"
            ],
            [
             0.1,
             "#c51b7d"
            ],
            [
             0.2,
             "#de77ae"
            ],
            [
             0.3,
             "#f1b6da"
            ],
            [
             0.4,
             "#fde0ef"
            ],
            [
             0.5,
             "#f7f7f7"
            ],
            [
             0.6,
             "#e6f5d0"
            ],
            [
             0.7,
             "#b8e186"
            ],
            [
             0.8,
             "#7fbc41"
            ],
            [
             0.9,
             "#4d9221"
            ],
            [
             1,
             "#276419"
            ]
           ],
           "sequential": [
            [
             0,
             "#0d0887"
            ],
            [
             0.1111111111111111,
             "#46039f"
            ],
            [
             0.2222222222222222,
             "#7201a8"
            ],
            [
             0.3333333333333333,
             "#9c179e"
            ],
            [
             0.4444444444444444,
             "#bd3786"
            ],
            [
             0.5555555555555556,
             "#d8576b"
            ],
            [
             0.6666666666666666,
             "#ed7953"
            ],
            [
             0.7777777777777778,
             "#fb9f3a"
            ],
            [
             0.8888888888888888,
             "#fdca26"
            ],
            [
             1,
             "#f0f921"
            ]
           ],
           "sequentialminus": [
            [
             0,
             "#0d0887"
            ],
            [
             0.1111111111111111,
             "#46039f"
            ],
            [
             0.2222222222222222,
             "#7201a8"
            ],
            [
             0.3333333333333333,
             "#9c179e"
            ],
            [
             0.4444444444444444,
             "#bd3786"
            ],
            [
             0.5555555555555556,
             "#d8576b"
            ],
            [
             0.6666666666666666,
             "#ed7953"
            ],
            [
             0.7777777777777778,
             "#fb9f3a"
            ],
            [
             0.8888888888888888,
             "#fdca26"
            ],
            [
             1,
             "#f0f921"
            ]
           ]
          },
          "colorway": [
           "#636efa",
           "#EF553B",
           "#00cc96",
           "#ab63fa",
           "#FFA15A",
           "#19d3f3",
           "#FF6692",
           "#B6E880",
           "#FF97FF",
           "#FECB52"
          ],
          "font": {
           "color": "#2a3f5f"
          },
          "geo": {
           "bgcolor": "white",
           "lakecolor": "white",
           "landcolor": "#E5ECF6",
           "showlakes": true,
           "showland": true,
           "subunitcolor": "white"
          },
          "hoverlabel": {
           "align": "left"
          },
          "hovermode": "closest",
          "mapbox": {
           "style": "light"
          },
          "paper_bgcolor": "white",
          "plot_bgcolor": "#E5ECF6",
          "polar": {
           "angularaxis": {
            "gridcolor": "white",
            "linecolor": "white",
            "ticks": ""
           },
           "bgcolor": "#E5ECF6",
           "radialaxis": {
            "gridcolor": "white",
            "linecolor": "white",
            "ticks": ""
           }
          },
          "scene": {
           "xaxis": {
            "backgroundcolor": "#E5ECF6",
            "gridcolor": "white",
            "gridwidth": 2,
            "linecolor": "white",
            "showbackground": true,
            "ticks": "",
            "zerolinecolor": "white"
           },
           "yaxis": {
            "backgroundcolor": "#E5ECF6",
            "gridcolor": "white",
            "gridwidth": 2,
            "linecolor": "white",
            "showbackground": true,
            "ticks": "",
            "zerolinecolor": "white"
           },
           "zaxis": {
            "backgroundcolor": "#E5ECF6",
            "gridcolor": "white",
            "gridwidth": 2,
            "linecolor": "white",
            "showbackground": true,
            "ticks": "",
            "zerolinecolor": "white"
           }
          },
          "shapedefaults": {
           "line": {
            "color": "#2a3f5f"
           }
          },
          "ternary": {
           "aaxis": {
            "gridcolor": "white",
            "linecolor": "white",
            "ticks": ""
           },
           "baxis": {
            "gridcolor": "white",
            "linecolor": "white",
            "ticks": ""
           },
           "bgcolor": "#E5ECF6",
           "caxis": {
            "gridcolor": "white",
            "linecolor": "white",
            "ticks": ""
           }
          },
          "title": {
           "x": 0.05
          },
          "xaxis": {
           "automargin": true,
           "gridcolor": "white",
           "linecolor": "white",
           "ticks": "",
           "title": {
            "standoff": 15
           },
           "zerolinecolor": "white",
           "zerolinewidth": 2
          },
          "yaxis": {
           "automargin": true,
           "gridcolor": "white",
           "linecolor": "white",
           "ticks": "",
           "title": {
            "standoff": 15
           },
           "zerolinecolor": "white",
           "zerolinewidth": 2
          }
         }
        },
        "title": {
         "text": "Wide-Form Input"
        },
        "xaxis": {
         "anchor": "y",
         "domain": [
          0,
          1
         ],
         "title": {
          "text": "name"
         }
        },
        "yaxis": {
         "anchor": "x",
         "domain": [
          0,
          1
         ],
         "title": {
          "text": "value"
         }
        }
       }
      },
      "text/html": [
       "<div>                            <div id=\"2e8bfd64-4536-4b95-af09-ac99fb5364cf\" class=\"plotly-graph-div\" style=\"height:525px; width:100%;\"></div>            <script type=\"text/javascript\">                require([\"plotly\"], function(Plotly) {                    window.PLOTLYENV=window.PLOTLYENV || {};                                    if (document.getElementById(\"2e8bfd64-4536-4b95-af09-ac99fb5364cf\")) {                    Plotly.newPlot(                        \"2e8bfd64-4536-4b95-af09-ac99fb5364cf\",                        [{\"alignmentgroup\":\"True\",\"hovertemplate\":\"variable=2023\\u003cbr\\u003ename=%{x}\\u003cbr\\u003evalue=%{y}\\u003cextra\\u003e\\u003c\\u002fextra\\u003e\",\"legendgroup\":\"2023\",\"marker\":{\"color\":\"#636efa\",\"pattern\":{\"shape\":\"\"}},\"name\":\"2023\",\"offsetgroup\":\"2023\",\"orientation\":\"v\",\"showlegend\":true,\"textposition\":\"auto\",\"x\":[\"boxturtle\",\"cturtle\",\"diamondback\",\"electric\",\"fuerte\",\"groovy\",\"hydro\",\"indigo\",\"jade\",\"kinetic\",\"lunar\",\"melodic\",\"noetic\",\"ardent\",\"bouncy\",\"crystal\",\"dashing\",\"eloquent\",\"foxy\",\"galactic\",\"humble\",\"iron\",\"rolling\"],\"xaxis\":\"x\",\"y\":[0.0,0.0,0.0,0.0,0.0,0.0,0.0,0.24,0.0,1.14,0.04,5.66,30.51,0.0,0.0,0.01,0.2,0.16,6.37,2.33,32.79,4.97,4.82],\"yaxis\":\"y\",\"type\":\"bar\"},{\"alignmentgroup\":\"True\",\"hovertemplate\":\"variable=2022\\u003cbr\\u003ename=%{x}\\u003cbr\\u003evalue=%{y}\\u003cextra\\u003e\\u003c\\u002fextra\\u003e\",\"legendgroup\":\"2022\",\"marker\":{\"color\":\"#EF553B\",\"pattern\":{\"shape\":\"\"}},\"name\":\"2022\",\"offsetgroup\":\"2022\",\"orientation\":\"v\",\"showlegend\":true,\"textposition\":\"auto\",\"x\":[\"boxturtle\",\"cturtle\",\"diamondback\",\"electric\",\"fuerte\",\"groovy\",\"hydro\",\"indigo\",\"jade\",\"kinetic\",\"lunar\",\"melodic\",\"noetic\",\"ardent\",\"bouncy\",\"crystal\",\"dashing\",\"eloquent\",\"foxy\",\"galactic\",\"humble\",\"iron\",\"rolling\"],\"xaxis\":\"x\",\"y\":[0.0,0.0,0.0,0.0,0.0,0.0,0.0,0.41,0.0,2.12,0.04,17.19,34.8,0.0,0.0,0.01,0.51,0.46,13.59,8.12,10.04,0.0,3.38],\"yaxis\":\"y\",\"type\":\"bar\"}],                        {\"template\":{\"data\":{\"histogram2dcontour\":[{\"type\":\"histogram2dcontour\",\"colorbar\":{\"outlinewidth\":0,\"ticks\":\"\"},\"colorscale\":[[0.0,\"#0d0887\"],[0.1111111111111111,\"#46039f\"],[0.2222222222222222,\"#7201a8\"],[0.3333333333333333,\"#9c179e\"],[0.4444444444444444,\"#bd3786\"],[0.5555555555555556,\"#d8576b\"],[0.6666666666666666,\"#ed7953\"],[0.7777777777777778,\"#fb9f3a\"],[0.8888888888888888,\"#fdca26\"],[1.0,\"#f0f921\"]]}],\"choropleth\":[{\"type\":\"choropleth\",\"colorbar\":{\"outlinewidth\":0,\"ticks\":\"\"}}],\"histogram2d\":[{\"type\":\"histogram2d\",\"colorbar\":{\"outlinewidth\":0,\"ticks\":\"\"},\"colorscale\":[[0.0,\"#0d0887\"],[0.1111111111111111,\"#46039f\"],[0.2222222222222222,\"#7201a8\"],[0.3333333333333333,\"#9c179e\"],[0.4444444444444444,\"#bd3786\"],[0.5555555555555556,\"#d8576b\"],[0.6666666666666666,\"#ed7953\"],[0.7777777777777778,\"#fb9f3a\"],[0.8888888888888888,\"#fdca26\"],[1.0,\"#f0f921\"]]}],\"heatmap\":[{\"type\":\"heatmap\",\"colorbar\":{\"outlinewidth\":0,\"ticks\":\"\"},\"colorscale\":[[0.0,\"#0d0887\"],[0.1111111111111111,\"#46039f\"],[0.2222222222222222,\"#7201a8\"],[0.3333333333333333,\"#9c179e\"],[0.4444444444444444,\"#bd3786\"],[0.5555555555555556,\"#d8576b\"],[0.6666666666666666,\"#ed7953\"],[0.7777777777777778,\"#fb9f3a\"],[0.8888888888888888,\"#fdca26\"],[1.0,\"#f0f921\"]]}],\"heatmapgl\":[{\"type\":\"heatmapgl\",\"colorbar\":{\"outlinewidth\":0,\"ticks\":\"\"},\"colorscale\":[[0.0,\"#0d0887\"],[0.1111111111111111,\"#46039f\"],[0.2222222222222222,\"#7201a8\"],[0.3333333333333333,\"#9c179e\"],[0.4444444444444444,\"#bd3786\"],[0.5555555555555556,\"#d8576b\"],[0.6666666666666666,\"#ed7953\"],[0.7777777777777778,\"#fb9f3a\"],[0.8888888888888888,\"#fdca26\"],[1.0,\"#f0f921\"]]}],\"contourcarpet\":[{\"type\":\"contourcarpet\",\"colorbar\":{\"outlinewidth\":0,\"ticks\":\"\"}}],\"contour\":[{\"type\":\"contour\",\"colorbar\":{\"outlinewidth\":0,\"ticks\":\"\"},\"colorscale\":[[0.0,\"#0d0887\"],[0.1111111111111111,\"#46039f\"],[0.2222222222222222,\"#7201a8\"],[0.3333333333333333,\"#9c179e\"],[0.4444444444444444,\"#bd3786\"],[0.5555555555555556,\"#d8576b\"],[0.6666666666666666,\"#ed7953\"],[0.7777777777777778,\"#fb9f3a\"],[0.8888888888888888,\"#fdca26\"],[1.0,\"#f0f921\"]]}],\"surface\":[{\"type\":\"surface\",\"colorbar\":{\"outlinewidth\":0,\"ticks\":\"\"},\"colorscale\":[[0.0,\"#0d0887\"],[0.1111111111111111,\"#46039f\"],[0.2222222222222222,\"#7201a8\"],[0.3333333333333333,\"#9c179e\"],[0.4444444444444444,\"#bd3786\"],[0.5555555555555556,\"#d8576b\"],[0.6666666666666666,\"#ed7953\"],[0.7777777777777778,\"#fb9f3a\"],[0.8888888888888888,\"#fdca26\"],[1.0,\"#f0f921\"]]}],\"mesh3d\":[{\"type\":\"mesh3d\",\"colorbar\":{\"outlinewidth\":0,\"ticks\":\"\"}}],\"scatter\":[{\"fillpattern\":{\"fillmode\":\"overlay\",\"size\":10,\"solidity\":0.2},\"type\":\"scatter\"}],\"parcoords\":[{\"type\":\"parcoords\",\"line\":{\"colorbar\":{\"outlinewidth\":0,\"ticks\":\"\"}}}],\"scatterpolargl\":[{\"type\":\"scatterpolargl\",\"marker\":{\"colorbar\":{\"outlinewidth\":0,\"ticks\":\"\"}}}],\"bar\":[{\"error_x\":{\"color\":\"#2a3f5f\"},\"error_y\":{\"color\":\"#2a3f5f\"},\"marker\":{\"line\":{\"color\":\"#E5ECF6\",\"width\":0.5},\"pattern\":{\"fillmode\":\"overlay\",\"size\":10,\"solidity\":0.2}},\"type\":\"bar\"}],\"scattergeo\":[{\"type\":\"scattergeo\",\"marker\":{\"colorbar\":{\"outlinewidth\":0,\"ticks\":\"\"}}}],\"scatterpolar\":[{\"type\":\"scatterpolar\",\"marker\":{\"colorbar\":{\"outlinewidth\":0,\"ticks\":\"\"}}}],\"histogram\":[{\"marker\":{\"pattern\":{\"fillmode\":\"overlay\",\"size\":10,\"solidity\":0.2}},\"type\":\"histogram\"}],\"scattergl\":[{\"type\":\"scattergl\",\"marker\":{\"colorbar\":{\"outlinewidth\":0,\"ticks\":\"\"}}}],\"scatter3d\":[{\"type\":\"scatter3d\",\"line\":{\"colorbar\":{\"outlinewidth\":0,\"ticks\":\"\"}},\"marker\":{\"colorbar\":{\"outlinewidth\":0,\"ticks\":\"\"}}}],\"scattermapbox\":[{\"type\":\"scattermapbox\",\"marker\":{\"colorbar\":{\"outlinewidth\":0,\"ticks\":\"\"}}}],\"scatterternary\":[{\"type\":\"scatterternary\",\"marker\":{\"colorbar\":{\"outlinewidth\":0,\"ticks\":\"\"}}}],\"scattercarpet\":[{\"type\":\"scattercarpet\",\"marker\":{\"colorbar\":{\"outlinewidth\":0,\"ticks\":\"\"}}}],\"carpet\":[{\"aaxis\":{\"endlinecolor\":\"#2a3f5f\",\"gridcolor\":\"white\",\"linecolor\":\"white\",\"minorgridcolor\":\"white\",\"startlinecolor\":\"#2a3f5f\"},\"baxis\":{\"endlinecolor\":\"#2a3f5f\",\"gridcolor\":\"white\",\"linecolor\":\"white\",\"minorgridcolor\":\"white\",\"startlinecolor\":\"#2a3f5f\"},\"type\":\"carpet\"}],\"table\":[{\"cells\":{\"fill\":{\"color\":\"#EBF0F8\"},\"line\":{\"color\":\"white\"}},\"header\":{\"fill\":{\"color\":\"#C8D4E3\"},\"line\":{\"color\":\"white\"}},\"type\":\"table\"}],\"barpolar\":[{\"marker\":{\"line\":{\"color\":\"#E5ECF6\",\"width\":0.5},\"pattern\":{\"fillmode\":\"overlay\",\"size\":10,\"solidity\":0.2}},\"type\":\"barpolar\"}],\"pie\":[{\"automargin\":true,\"type\":\"pie\"}]},\"layout\":{\"autotypenumbers\":\"strict\",\"colorway\":[\"#636efa\",\"#EF553B\",\"#00cc96\",\"#ab63fa\",\"#FFA15A\",\"#19d3f3\",\"#FF6692\",\"#B6E880\",\"#FF97FF\",\"#FECB52\"],\"font\":{\"color\":\"#2a3f5f\"},\"hovermode\":\"closest\",\"hoverlabel\":{\"align\":\"left\"},\"paper_bgcolor\":\"white\",\"plot_bgcolor\":\"#E5ECF6\",\"polar\":{\"bgcolor\":\"#E5ECF6\",\"angularaxis\":{\"gridcolor\":\"white\",\"linecolor\":\"white\",\"ticks\":\"\"},\"radialaxis\":{\"gridcolor\":\"white\",\"linecolor\":\"white\",\"ticks\":\"\"}},\"ternary\":{\"bgcolor\":\"#E5ECF6\",\"aaxis\":{\"gridcolor\":\"white\",\"linecolor\":\"white\",\"ticks\":\"\"},\"baxis\":{\"gridcolor\":\"white\",\"linecolor\":\"white\",\"ticks\":\"\"},\"caxis\":{\"gridcolor\":\"white\",\"linecolor\":\"white\",\"ticks\":\"\"}},\"coloraxis\":{\"colorbar\":{\"outlinewidth\":0,\"ticks\":\"\"}},\"colorscale\":{\"sequential\":[[0.0,\"#0d0887\"],[0.1111111111111111,\"#46039f\"],[0.2222222222222222,\"#7201a8\"],[0.3333333333333333,\"#9c179e\"],[0.4444444444444444,\"#bd3786\"],[0.5555555555555556,\"#d8576b\"],[0.6666666666666666,\"#ed7953\"],[0.7777777777777778,\"#fb9f3a\"],[0.8888888888888888,\"#fdca26\"],[1.0,\"#f0f921\"]],\"sequentialminus\":[[0.0,\"#0d0887\"],[0.1111111111111111,\"#46039f\"],[0.2222222222222222,\"#7201a8\"],[0.3333333333333333,\"#9c179e\"],[0.4444444444444444,\"#bd3786\"],[0.5555555555555556,\"#d8576b\"],[0.6666666666666666,\"#ed7953\"],[0.7777777777777778,\"#fb9f3a\"],[0.8888888888888888,\"#fdca26\"],[1.0,\"#f0f921\"]],\"diverging\":[[0,\"#8e0152\"],[0.1,\"#c51b7d\"],[0.2,\"#de77ae\"],[0.3,\"#f1b6da\"],[0.4,\"#fde0ef\"],[0.5,\"#f7f7f7\"],[0.6,\"#e6f5d0\"],[0.7,\"#b8e186\"],[0.8,\"#7fbc41\"],[0.9,\"#4d9221\"],[1,\"#276419\"]]},\"xaxis\":{\"gridcolor\":\"white\",\"linecolor\":\"white\",\"ticks\":\"\",\"title\":{\"standoff\":15},\"zerolinecolor\":\"white\",\"automargin\":true,\"zerolinewidth\":2},\"yaxis\":{\"gridcolor\":\"white\",\"linecolor\":\"white\",\"ticks\":\"\",\"title\":{\"standoff\":15},\"zerolinecolor\":\"white\",\"automargin\":true,\"zerolinewidth\":2},\"scene\":{\"xaxis\":{\"backgroundcolor\":\"#E5ECF6\",\"gridcolor\":\"white\",\"linecolor\":\"white\",\"showbackground\":true,\"ticks\":\"\",\"zerolinecolor\":\"white\",\"gridwidth\":2},\"yaxis\":{\"backgroundcolor\":\"#E5ECF6\",\"gridcolor\":\"white\",\"linecolor\":\"white\",\"showbackground\":true,\"ticks\":\"\",\"zerolinecolor\":\"white\",\"gridwidth\":2},\"zaxis\":{\"backgroundcolor\":\"#E5ECF6\",\"gridcolor\":\"white\",\"linecolor\":\"white\",\"showbackground\":true,\"ticks\":\"\",\"zerolinecolor\":\"white\",\"gridwidth\":2}},\"shapedefaults\":{\"line\":{\"color\":\"#2a3f5f\"}},\"annotationdefaults\":{\"arrowcolor\":\"#2a3f5f\",\"arrowhead\":0,\"arrowwidth\":1},\"geo\":{\"bgcolor\":\"white\",\"landcolor\":\"#E5ECF6\",\"subunitcolor\":\"white\",\"showland\":true,\"showlakes\":true,\"lakecolor\":\"white\"},\"title\":{\"x\":0.05},\"mapbox\":{\"style\":\"light\"}}},\"xaxis\":{\"anchor\":\"y\",\"domain\":[0.0,1.0],\"title\":{\"text\":\"name\"}},\"yaxis\":{\"anchor\":\"x\",\"domain\":[0.0,1.0],\"title\":{\"text\":\"value\"}},\"legend\":{\"title\":{\"text\":\"variable\"},\"tracegroupgap\":0},\"title\":{\"text\":\"Wide-Form Input\"},\"barmode\":\"relative\"},                        {\"responsive\": true}                    ).then(function(){\n",
       "                            \n",
       "var gd = document.getElementById('2e8bfd64-4536-4b95-af09-ac99fb5364cf');\n",
       "var x = new MutationObserver(function (mutations, observer) {{\n",
       "        var display = window.getComputedStyle(gd).display;\n",
       "        if (!display || display === 'none') {{\n",
       "            console.log([gd, 'removed!']);\n",
       "            Plotly.purge(gd);\n",
       "            observer.disconnect();\n",
       "        }}\n",
       "}});\n",
       "\n",
       "// Listen for the removal of the full notebook cells\n",
       "var notebookContainer = gd.closest('#notebook-container');\n",
       "if (notebookContainer) {{\n",
       "    x.observe(notebookContainer, {childList: true});\n",
       "}}\n",
       "\n",
       "// Listen for the clearing of the current output cell\n",
       "var outputEl = gd.closest('.output');\n",
       "if (outputEl) {{\n",
       "    x.observe(outputEl, {childList: true});\n",
       "}}\n",
       "\n",
       "                        })                };                });            </script>        </div>"
      ]
     },
     "metadata": {},
     "output_type": "display_data"
    }
   ],
   "source": [
    "fig = px.bar(distro_df, x=\"name\", y=[\"2023\", \"2022\"], title=\"Wide-Form Input\")\n",
    "fig.show()"
   ]
  },
  {
   "cell_type": "code",
   "execution_count": null,
   "metadata": {},
   "outputs": [],
   "source": [
    "fname = \"../data/march_2020.txt\"\n",
    "stats_mar_2020 = process_package_dump(fname,\"3/2020\")\n",
    "fname = \"../data/march_2021.txt\"\n",
    "stats_mar_2021 = process_package_dump(fname,\"3/2021\")\n",
    "\n",
    "joined_distro = join_stats([stats_mar_2020[\"distro\"],stats_mar_2021[\"distro\"]])\n",
    "mar_distro_df = pd.DataFrame(data=joined_distro)\n",
    "mar_distro_df.to_csv(\"march_distro.csv\")\n",
    "mar_distro_df.head()\n",
    "stats_mar_2021 = process_package_dump(fname,\"3/2021\")"
   ]
  },
  {
   "cell_type": "code",
   "execution_count": null,
   "metadata": {},
   "outputs": [],
   "source": [
    "temp = mar_distro_df[mar_distro_df[\"7/2021\"]>0.5]\n",
    "\n",
    "trace1 = go.Pie(values= temp[\"7/2020\"], labels = temp[\"name\"],domain=dict(x=[0.5,1.0]),title=\"7/2020\")\n",
    "trace2 = go.Pie(values= temp[\"7/2021\"], labels = temp[\"name\"],domain=dict(x=[0, 0.5]),title=\"7/2021\")\n",
    "\n",
    "layout = go.Layout(title=\"ROS Index Download Percentage: March 2020 vs. March 2021\",)\n",
    "data = [trace1, trace2]\n",
    "fig = go.Figure(data=data, layout=layout)\n",
    "fig.show()\n"
   ]
  },
  {
   "cell_type": "code",
   "execution_count": null,
   "metadata": {},
   "outputs": [],
   "source": [
    "cd ../data/\n"
   ]
  },
  {
   "cell_type": "code",
   "execution_count": null,
   "metadata": {},
   "outputs": [],
   "source": [
    "ls"
   ]
  },
  {
   "cell_type": "code",
   "execution_count": null,
   "metadata": {},
   "outputs": [],
   "source": []
  }
 ],
 "metadata": {
  "kernelspec": {
   "display_name": "metrics",
   "language": "python",
   "name": "metrics"
  },
  "language_info": {
   "codemirror_mode": {
    "name": "ipython",
    "version": 3
   },
   "file_extension": ".py",
   "mimetype": "text/x-python",
   "name": "python",
   "nbconvert_exporter": "python",
   "pygments_lexer": "ipython3",
   "version": "3.11.5"
  }
 },
 "nbformat": 4,
 "nbformat_minor": 2
}
